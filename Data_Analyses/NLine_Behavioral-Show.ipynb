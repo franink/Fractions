{
 "cells": [
  {
   "cell_type": "code",
   "execution_count": 1,
   "metadata": {
    "collapsed": false
   },
   "outputs": [
    {
     "name": "stderr",
     "output_type": "stream",
     "text": [
      ":0: FutureWarning: IPython widgets are experimental and may change in the future.\n"
     ]
    }
   ],
   "source": [
    "%matplotlib inline\n",
    "import matplotlib as mpl\n",
    "import matplotlib.pyplot as plt\n",
    "import seaborn as sns\n",
    "import pandas as pd\n",
    "import numpy as np\n",
    "from scipy import io\n",
    "import os\n",
    "import glob"
   ]
  },
  {
   "cell_type": "code",
   "execution_count": 2,
   "metadata": {
    "collapsed": true
   },
   "outputs": [],
   "source": [
    "from IPython.display import HTML"
   ]
  },
  {
   "cell_type": "code",
   "execution_count": 3,
   "metadata": {
    "collapsed": false
   },
   "outputs": [
    {
     "data": {
      "text/html": [
       "<script>\n",
       "code_show=true; \n",
       "function code_toggle() {\n",
       " if (code_show){\n",
       " $('div.input').hide();\n",
       " } else {\n",
       " $('div.input').show();\n",
       " }\n",
       " code_show = !code_show\n",
       "} \n",
       "$( document ).ready(code_toggle);\n",
       "</script>\n",
       "The raw code for this IPython notebook is by default hidden for easier reading.\n",
       "To toggle on/off the raw code, click <a href=\"javascript:code_toggle()\">here</a>."
      ],
      "text/plain": [
       "<IPython.core.display.HTML object>"
      ]
     },
     "execution_count": 3,
     "metadata": {},
     "output_type": "execute_result"
    }
   ],
   "source": [
    "HTML('''<script>\n",
    "code_show=true; \n",
    "function code_toggle() {\n",
    " if (code_show){\n",
    " $('div.input').hide();\n",
    " } else {\n",
    " $('div.input').show();\n",
    " }\n",
    " code_show = !code_show\n",
    "} \n",
    "$( document ).ready(code_toggle);\n",
    "</script>\n",
    "The raw code for this IPython notebook is by default hidden for easier reading.\n",
    "To toggle on/off the raw code, click <a href=\"javascript:code_toggle()\">here</a>.''')"
   ]
  },
  {
   "cell_type": "code",
   "execution_count": 4,
   "metadata": {
    "collapsed": true
   },
   "outputs": [],
   "source": [
    "sns.set_style('white')\n",
    "sns.set_style('ticks')\n",
    "sns.set_palette('muted')\n",
    "sns.set_color_codes('muted')"
   ]
  },
  {
   "cell_type": "code",
   "execution_count": 5,
   "metadata": {
    "collapsed": false
   },
   "outputs": [],
   "source": [
    "# Change this depending on computer used for analysis\n",
    "## Laptop\n",
    "#filepath = '/Users/frankkanayet/Dropbox/NLineExperiment/PilotData'\n",
    "#filepath = '/Users/frankkanayet/Dropbox/NLineExperiment/PilotData/test3s'\n",
    "#filepath = '/Users/frankkanayet/Google Drive/NLineData/Beh_Data'\n",
    "\n",
    "## Desktop\n",
    "filepath = '/Users/frankanayet/Google Drive/NLineData/Beh_Data'\n",
    "os.chdir(filepath)"
   ]
  },
  {
   "cell_type": "code",
   "execution_count": 6,
   "metadata": {
    "collapsed": false
   },
   "outputs": [
    {
     "name": "stdout",
     "output_type": "stream",
     "text": [
      "Pandas version 0.17.1\n"
     ]
    }
   ],
   "source": [
    "print 'Pandas version ' + pd.__version__"
   ]
  },
  {
   "cell_type": "code",
   "execution_count": 7,
   "metadata": {
    "collapsed": false
   },
   "outputs": [],
   "source": [
    "filenames = glob.glob('Nline_*.mat')\n",
    "#print filenames\n",
    "#index to isolate subj numbers\n",
    "data_dict = {}\n",
    "for i in filenames:\n",
    "    id1 = filenames[0].find('_') + 1\n",
    "    id2 = filenames[0].find('-')\n",
    "    sub_nbr = i[id1:id2]\n",
    "    sub_name = i\n",
    "    s_id = 's_'+sub_nbr\n",
    "    data_dict[s_id] = io.loadmat(sub_name)\n",
    "\n",
    "#sub_name = filenames[0] #This will be changed to a loop for all subjects later\n",
    "#mat = io.loadmat(sub_name)\n",
    "#data_dict.keys()"
   ]
  },
  {
   "cell_type": "code",
   "execution_count": 8,
   "metadata": {
    "collapsed": false
   },
   "outputs": [],
   "source": [
    "sub_ex = data_dict.keys()[-1]"
   ]
  },
  {
   "cell_type": "code",
   "execution_count": 9,
   "metadata": {
    "collapsed": false
   },
   "outputs": [],
   "source": [
    "#data_dict['s_00011']['p']"
   ]
  },
  {
   "cell_type": "code",
   "execution_count": 10,
   "metadata": {
    "collapsed": false
   },
   "outputs": [],
   "source": [
    "#for i in data_dict:\n",
    "#    data_dict[i].pop('__header__')\n",
    "#    data_dict[i].pop('__version__')\n",
    "#    data_dict[i].pop('__globals__')\n",
    "#data_dict['s_00011'].keys()"
   ]
  },
  {
   "cell_type": "code",
   "execution_count": 11,
   "metadata": {
    "collapsed": false
   },
   "outputs": [],
   "source": [
    "## The indexes of zeros are as follows [0][0][x][y][z][0] The x y z are the 3 dimensions of the data 3d matrix the zeros are padding\n",
    "#data_dict[sub_ex]['p']['NlineResults'][0][0][0][5][0][0]\n",
    "#len(data_dict[sub_ex]['p']['NlineResults'][0][0][:])"
   ]
  },
  {
   "cell_type": "code",
   "execution_count": 12,
   "metadata": {
    "collapsed": false
   },
   "outputs": [],
   "source": [
    "#data_dict[sub_ex]['p'].dtype.names"
   ]
  },
  {
   "cell_type": "code",
   "execution_count": 13,
   "metadata": {
    "collapsed": false
   },
   "outputs": [],
   "source": [
    "#Comment this out for include all subjects\n",
    "#data_dict.pop('s_02012')\n",
    "#data_dict.pop('s_02001')\n",
    "#data_dict.pop('s_02002')\n",
    "#data_dict.pop('s_02019')\n",
    "#data_dict.pop('s_02017')\n",
    "del data_dict['s_02012']\n",
    "del data_dict['s_02017']\n",
    "del data_dict['s_02019']\n",
    "del data_dict['s_02001']\n",
    "del data_dict['s_02002']"
   ]
  },
  {
   "cell_type": "code",
   "execution_count": 14,
   "metadata": {
    "collapsed": false
   },
   "outputs": [],
   "source": [
    "cons_time = data_dict[sub_ex]['p']['consider'][0][0][0][0]\n",
    "dec_time = data_dict[sub_ex]['p']['decision'][0][0][0][0]"
   ]
  },
  {
   "cell_type": "code",
   "execution_count": 15,
   "metadata": {
    "collapsed": false
   },
   "outputs": [],
   "source": [
    "new_dat = {}\n",
    "#new_df = {}\n",
    "for s in data_dict:\n",
    "    tasks = ['NlineResults']\n",
    "    new_dat[s]={}\n",
    "    #new_df[s] = {}\n",
    "    for task in tasks:\n",
    "        dat = data_dict[s]['p'][task]\n",
    "        num_fields = len(data_dict[s]['p'][task][0][0][0])\n",
    "        dat_names = []\n",
    "        for k in range(0,num_fields):\n",
    "            dat_names.append(dat[0][0][0][k][0][0])\n",
    "        new_dat[s][task] = {}\n",
    "        runs = data_dict[s]['p']['runs'][0][0][0][0]\n",
    "        for run in range(0,runs):\n",
    "            run_name = 'Run_'+str(run)\n",
    "            new_dat[s][task][run_name] = {}\n",
    "            for i in range(0,len(dat_names)):\n",
    "                new_dat[s][task][run_name][dat_names[i]] = []\n",
    "                for j in range(0,len(dat[0][0][:])-1):\n",
    "                    if dat_names[i] == 'catch_probe':\n",
    "                        new_dat[s][task][run_name][dat_names[i]].append(dat[0][0][j+1][i][run])\n",
    "                    elif dat_names[i] == 'Probe':\n",
    "                        new_dat[s][task][run_name][dat_names[i]].append(dat[0][0][j+1][i][run][0])\n",
    "                    else:\n",
    "                        new_dat[s][task][run_name][dat_names[i]].append(dat[0][0][j+1][i][run][0][0])\n",
    "#legible access to the data\n",
    "Nline = 'NlineResults' #numberline"
   ]
  },
  {
   "cell_type": "code",
   "execution_count": 16,
   "metadata": {
    "collapsed": false
   },
   "outputs": [],
   "source": [
    "#new_dat[sub_ex]['NlineResults']['Run_1'].keys()"
   ]
  },
  {
   "cell_type": "code",
   "execution_count": 17,
   "metadata": {
    "collapsed": false
   },
   "outputs": [],
   "source": [
    "#new_dat[sub_ex]['NlineResults']['Run_1']['Probe']"
   ]
  },
  {
   "cell_type": "code",
   "execution_count": 18,
   "metadata": {
    "collapsed": false
   },
   "outputs": [],
   "source": [
    "#new_dat[sub_ex]['NlineResults']['Run_1']['catch_probe']"
   ]
  },
  {
   "cell_type": "code",
   "execution_count": 19,
   "metadata": {
    "collapsed": false
   },
   "outputs": [],
   "source": [
    "subj = data_dict.keys()\n",
    "tasks = [Nline]\n",
    "tuples = []\n",
    "rows = len(data_dict[sub_ex]['p'][Nline][0][0][:])-1\n",
    "for s in subj:\n",
    "    runs = new_dat[s]['NlineResults'].keys()\n",
    "    for run in runs:\n",
    "        for i in range(0,rows):\n",
    "            tuples.append((s, run, i))\n",
    "len(tuples)\n",
    "#iterables = [subj,tasks,runs]\n",
    "indexes = pd.MultiIndex.from_tuples(tuples, names=['Subj', 'Run', 'Trial'])\n",
    "nline_cols = len(new_dat[sub_ex][Nline]['Run_0'].keys())"
   ]
  },
  {
   "cell_type": "code",
   "execution_count": 20,
   "metadata": {
    "collapsed": false
   },
   "outputs": [],
   "source": [
    "#indexes[90]"
   ]
  },
  {
   "cell_type": "code",
   "execution_count": 21,
   "metadata": {
    "collapsed": false
   },
   "outputs": [],
   "source": [
    "#indexes[1][1]"
   ]
  },
  {
   "cell_type": "code",
   "execution_count": 22,
   "metadata": {
    "collapsed": false
   },
   "outputs": [],
   "source": [
    "varnames = new_dat[sub_ex][Nline]['Run_0'].keys()"
   ]
  },
  {
   "cell_type": "code",
   "execution_count": 23,
   "metadata": {
    "collapsed": false
   },
   "outputs": [],
   "source": [
    "#len(indexes)"
   ]
  },
  {
   "cell_type": "code",
   "execution_count": 24,
   "metadata": {
    "collapsed": false
   },
   "outputs": [],
   "source": [
    "# Code empty cells of probes and catch_probes as Nan\n",
    "Dic_list = []\n",
    "probes = ['catch_probe', 'MouseTrack']\n",
    "for data in indexes:\n",
    "    temp_dict = {}\n",
    "    for var in varnames:\n",
    "        if var == probes[0]:\n",
    "            if len(new_dat.get(data[0]).get(Nline).get(data[1]).get(var)[data[2]]) == 0:\n",
    "                new_dat.get(data[0]).get(Nline).get(data[1]).get(var)[data[2]] = np.array([np.nan])\n",
    "            temp_dict[var] = new_dat.get(data[0]).get(Nline).get(data[1]).get(var)[data[2]][0]\n",
    "        elif var == probes[1]:\n",
    "            if new_dat.get(data[0]).get(Nline).get(data[1]).get(var,0) == 0:\n",
    "                new_dat.get(data[0]).get(Nline).get(data[1])[var] = []\n",
    "                new_dat.get(data[0]).get(Nline).get(data[1])[var].append(np.array([np.nan]))\n",
    "            elif len(new_dat.get(data[0]).get(Nline).get(data[1]).get(var)) <= data[2]:\n",
    "                new_dat.get(data[0]).get(Nline).get(data[1])[var].append(np.array([np.nan]))\n",
    "            temp_dict[var] = new_dat.get(data[0]).get(Nline).get(data[1]).get(var)[data[2]]\n",
    "        else:\n",
    "            temp_dict[var] = new_dat.get(data[0]).get(Nline).get(data[1]).get(var)[data[2]]\n",
    "    Dic_list.append(temp_dict)"
   ]
  },
  {
   "cell_type": "code",
   "execution_count": 25,
   "metadata": {
    "collapsed": false
   },
   "outputs": [],
   "source": [
    "#Create dataframe\n",
    "nline_df = pd.DataFrame(Dic_list, index=indexes)\n",
    "#sum(nline_df.loc[sub_ex].loc['Run_0'].iloc[0:48]['catch'])"
   ]
  },
  {
   "cell_type": "code",
   "execution_count": 26,
   "metadata": {
    "collapsed": false
   },
   "outputs": [],
   "source": [
    "#nline_df.loc[sub_ex].loc['Run_0'].iloc[0:10]['Error']"
   ]
  },
  {
   "cell_type": "code",
   "execution_count": 27,
   "metadata": {
    "collapsed": false
   },
   "outputs": [],
   "source": [
    "nline_df.index.names = ['Subject', 'Run', 'Trial']\n",
    "#nline_df.index.names"
   ]
  },
  {
   "cell_type": "code",
   "execution_count": 28,
   "metadata": {
    "collapsed": false
   },
   "outputs": [
    {
     "name": "stderr",
     "output_type": "stream",
     "text": [
      "//anaconda/lib/python2.7/site-packages/pandas/core/indexing.py:117: SettingWithCopyWarning: \n",
      "A value is trying to be set on a copy of a slice from a DataFrame\n",
      "\n",
      "See the caveats in the documentation: http://pandas.pydata.org/pandas-docs/stable/indexing.html#indexing-view-versus-copy\n",
      "  self._setitem_with_indexer(indexer, value)\n"
     ]
    }
   ],
   "source": [
    "test = nline_df['Probe']\n",
    "for i in range(0,len(test)):\n",
    "    test.iloc[i] = np.ravel(test[i])\n",
    "    test.iloc[i] = test[i][0]\n",
    "nline_df['Probe'] = test\n",
    "#nline_df['Probe']"
   ]
  },
  {
   "cell_type": "markdown",
   "metadata": {},
   "source": [
    "### Create Stim Labels"
   ]
  },
  {
   "cell_type": "code",
   "execution_count": 29,
   "metadata": {
    "collapsed": false
   },
   "outputs": [],
   "source": [
    "#now nline\n",
    "#nline_df['Num'] = nline_df['Num'].map('{:.0f}'.format)\n",
    "#nline_df['Denom'] = nline_df['Denom'].map('{:.0f}'.format)\n",
    "#nline_df['Stim'] = nline_df['Num']+'/'+nline_df['Denom']\n",
    "#nline_df['Stim']"
   ]
  },
  {
   "cell_type": "markdown",
   "metadata": {},
   "source": [
    "Data Column Names"
   ]
  },
  {
   "cell_type": "code",
   "execution_count": 30,
   "metadata": {
    "collapsed": false
   },
   "outputs": [
    {
     "data": {
      "text/plain": [
       "Index([u'BadPress', u'Block', u'Click', u'Correct', u'Error', u'ITI_onset',\n",
       "       u'ITI_onset_real', u'Line_pct', u'MouseTrack', u'Move', u'Points',\n",
       "       u'Probe', u'RT', u'RTHold', u'Response', u'Slow', u'Task', u'TestX',\n",
       "       u'Trial', u'Wrong', u'catch', u'catch_probe', u'consider_onset',\n",
       "       u'consider_onset_real', u'decision_end', u'decision_end_real',\n",
       "       u'decision_onset', u'decision_onset_real', u'hold', u'hold_onset',\n",
       "       u'hold_onset_real', u'iti', u'mouse_pos'],\n",
       "      dtype='object')"
      ]
     },
     "execution_count": 30,
     "metadata": {},
     "output_type": "execute_result"
    }
   ],
   "source": [
    "nline_df.columns"
   ]
  },
  {
   "cell_type": "markdown",
   "metadata": {},
   "source": [
    "# Number Line Analyses"
   ]
  },
  {
   "cell_type": "markdown",
   "metadata": {},
   "source": [
    "### Accuracy & RT"
   ]
  },
  {
   "cell_type": "code",
   "execution_count": 31,
   "metadata": {
    "collapsed": false
   },
   "outputs": [],
   "source": [
    "#nline_df['catch'].sum()"
   ]
  },
  {
   "cell_type": "code",
   "execution_count": 32,
   "metadata": {
    "collapsed": false
   },
   "outputs": [],
   "source": [
    "nline_no_miss = nline_df[['Error', 'RT', 'RTHold', 'catch']]\n",
    "nline_no_miss = nline_no_miss[nline_no_miss['catch']<1]\n",
    "#len(nline_no_miss)"
   ]
  },
  {
   "cell_type": "code",
   "execution_count": 33,
   "metadata": {
    "collapsed": false
   },
   "outputs": [],
   "source": [
    "nline_no_miss = nline_no_miss.replace(-1, np.nan)\n",
    "nline_no_miss = nline_no_miss.drop('catch', 1)"
   ]
  },
  {
   "cell_type": "code",
   "execution_count": 34,
   "metadata": {
    "collapsed": false
   },
   "outputs": [],
   "source": [
    "nline_no_miss['Missed'] = nline_no_miss['Error']\n",
    "nline_no_miss['Missed'][nline_no_miss['Missed']<1] = 0\n",
    "nline_missed = nline_no_miss['Missed']\n",
    "#nline_missed"
   ]
  },
  {
   "cell_type": "code",
   "execution_count": 35,
   "metadata": {
    "collapsed": false
   },
   "outputs": [],
   "source": [
    "nline_no_miss = nline_no_miss[nline_no_miss['Error']<1]\n",
    "nline_no_miss['AbsError'] = np.abs(nline_no_miss['Error'])\n",
    "#nline_no_miss"
   ]
  },
  {
   "cell_type": "markdown",
   "metadata": {},
   "source": [
    "## How many trials missed?"
   ]
  },
  {
   "cell_type": "code",
   "execution_count": 36,
   "metadata": {
    "collapsed": false,
    "scrolled": true
   },
   "outputs": [
    {
     "data": {
      "text/plain": [
       "Subject\n",
       "s_02003     7\n",
       "s_02004     3\n",
       "s_02005    17\n",
       "s_02006     2\n",
       "s_02007     1\n",
       "s_02009     1\n",
       "s_02010     7\n",
       "s_02011     7\n",
       "s_02014     7\n",
       "s_02015     6\n",
       "s_02016    10\n",
       "s_02018     4\n",
       "s_02020    12\n",
       "s_02021     5\n",
       "s_02022    18\n",
       "s_02023     5\n",
       "s_02024    10\n",
       "s_02027     6\n",
       "Name: Missed, dtype: float64"
      ]
     },
     "execution_count": 36,
     "metadata": {},
     "output_type": "execute_result"
    }
   ],
   "source": [
    "nline_missed_subj = nline_missed.groupby(level=0)\n",
    "nline_missed_subj.sum()"
   ]
  },
  {
   "cell_type": "code",
   "execution_count": 37,
   "metadata": {
    "collapsed": false
   },
   "outputs": [],
   "source": [
    "missed = nline_missed_subj.sum()"
   ]
  },
  {
   "cell_type": "markdown",
   "metadata": {},
   "source": [
    "##Subject Averages"
   ]
  },
  {
   "cell_type": "code",
   "execution_count": 38,
   "metadata": {
    "collapsed": false,
    "scrolled": true
   },
   "outputs": [
    {
     "data": {
      "text/html": [
       "<div>\n",
       "<table border=\"1\" class=\"dataframe\">\n",
       "  <thead>\n",
       "    <tr style=\"text-align: right;\">\n",
       "      <th></th>\n",
       "      <th>Error</th>\n",
       "      <th>RT</th>\n",
       "      <th>RTHold</th>\n",
       "      <th>Missed</th>\n",
       "      <th>AbsError</th>\n",
       "    </tr>\n",
       "    <tr>\n",
       "      <th>Subject</th>\n",
       "      <th></th>\n",
       "      <th></th>\n",
       "      <th></th>\n",
       "      <th></th>\n",
       "      <th></th>\n",
       "    </tr>\n",
       "  </thead>\n",
       "  <tbody>\n",
       "    <tr>\n",
       "      <th>s_02003</th>\n",
       "      <td>0.002544</td>\n",
       "      <td>2.240014</td>\n",
       "      <td>0.480898</td>\n",
       "      <td>0</td>\n",
       "      <td>0.022472</td>\n",
       "    </tr>\n",
       "    <tr>\n",
       "      <th>s_02004</th>\n",
       "      <td>0.000621</td>\n",
       "      <td>2.181841</td>\n",
       "      <td>0.390107</td>\n",
       "      <td>0</td>\n",
       "      <td>0.020997</td>\n",
       "    </tr>\n",
       "    <tr>\n",
       "      <th>s_02005</th>\n",
       "      <td>-0.004826</td>\n",
       "      <td>2.378822</td>\n",
       "      <td>0.468106</td>\n",
       "      <td>0</td>\n",
       "      <td>0.021902</td>\n",
       "    </tr>\n",
       "    <tr>\n",
       "      <th>s_02006</th>\n",
       "      <td>-0.000487</td>\n",
       "      <td>1.970216</td>\n",
       "      <td>0.422093</td>\n",
       "      <td>0</td>\n",
       "      <td>0.026771</td>\n",
       "    </tr>\n",
       "    <tr>\n",
       "      <th>s_02007</th>\n",
       "      <td>-0.009034</td>\n",
       "      <td>2.117213</td>\n",
       "      <td>0.430258</td>\n",
       "      <td>0</td>\n",
       "      <td>0.027687</td>\n",
       "    </tr>\n",
       "    <tr>\n",
       "      <th>s_02009</th>\n",
       "      <td>-0.003768</td>\n",
       "      <td>2.240575</td>\n",
       "      <td>0.499304</td>\n",
       "      <td>0</td>\n",
       "      <td>0.019800</td>\n",
       "    </tr>\n",
       "    <tr>\n",
       "      <th>s_02010</th>\n",
       "      <td>-0.003834</td>\n",
       "      <td>1.801020</td>\n",
       "      <td>0.402272</td>\n",
       "      <td>0</td>\n",
       "      <td>0.034298</td>\n",
       "    </tr>\n",
       "    <tr>\n",
       "      <th>s_02011</th>\n",
       "      <td>0.005220</td>\n",
       "      <td>2.177101</td>\n",
       "      <td>0.512704</td>\n",
       "      <td>0</td>\n",
       "      <td>0.031181</td>\n",
       "    </tr>\n",
       "    <tr>\n",
       "      <th>s_02014</th>\n",
       "      <td>0.000828</td>\n",
       "      <td>2.200079</td>\n",
       "      <td>0.485166</td>\n",
       "      <td>0</td>\n",
       "      <td>0.033909</td>\n",
       "    </tr>\n",
       "    <tr>\n",
       "      <th>s_02015</th>\n",
       "      <td>-0.009805</td>\n",
       "      <td>2.150314</td>\n",
       "      <td>0.489373</td>\n",
       "      <td>0</td>\n",
       "      <td>0.036630</td>\n",
       "    </tr>\n",
       "    <tr>\n",
       "      <th>s_02016</th>\n",
       "      <td>0.002051</td>\n",
       "      <td>2.068810</td>\n",
       "      <td>0.514982</td>\n",
       "      <td>0</td>\n",
       "      <td>0.027869</td>\n",
       "    </tr>\n",
       "    <tr>\n",
       "      <th>s_02018</th>\n",
       "      <td>-0.001200</td>\n",
       "      <td>1.961148</td>\n",
       "      <td>0.417479</td>\n",
       "      <td>0</td>\n",
       "      <td>0.022804</td>\n",
       "    </tr>\n",
       "    <tr>\n",
       "      <th>s_02020</th>\n",
       "      <td>-0.007968</td>\n",
       "      <td>2.374007</td>\n",
       "      <td>0.558702</td>\n",
       "      <td>0</td>\n",
       "      <td>0.023756</td>\n",
       "    </tr>\n",
       "    <tr>\n",
       "      <th>s_02021</th>\n",
       "      <td>0.001716</td>\n",
       "      <td>2.048962</td>\n",
       "      <td>0.403868</td>\n",
       "      <td>0</td>\n",
       "      <td>0.018419</td>\n",
       "    </tr>\n",
       "    <tr>\n",
       "      <th>s_02022</th>\n",
       "      <td>-0.000880</td>\n",
       "      <td>2.280846</td>\n",
       "      <td>0.522029</td>\n",
       "      <td>0</td>\n",
       "      <td>0.025221</td>\n",
       "    </tr>\n",
       "    <tr>\n",
       "      <th>s_02023</th>\n",
       "      <td>-0.007981</td>\n",
       "      <td>2.196848</td>\n",
       "      <td>0.566030</td>\n",
       "      <td>0</td>\n",
       "      <td>0.025385</td>\n",
       "    </tr>\n",
       "    <tr>\n",
       "      <th>s_02024</th>\n",
       "      <td>-0.001749</td>\n",
       "      <td>2.250912</td>\n",
       "      <td>0.523561</td>\n",
       "      <td>0</td>\n",
       "      <td>0.028414</td>\n",
       "    </tr>\n",
       "    <tr>\n",
       "      <th>s_02027</th>\n",
       "      <td>0.004459</td>\n",
       "      <td>2.161185</td>\n",
       "      <td>0.477401</td>\n",
       "      <td>0</td>\n",
       "      <td>0.021308</td>\n",
       "    </tr>\n",
       "  </tbody>\n",
       "</table>\n",
       "</div>"
      ],
      "text/plain": [
       "            Error        RT    RTHold  Missed  AbsError\n",
       "Subject                                                \n",
       "s_02003  0.002544  2.240014  0.480898       0  0.022472\n",
       "s_02004  0.000621  2.181841  0.390107       0  0.020997\n",
       "s_02005 -0.004826  2.378822  0.468106       0  0.021902\n",
       "s_02006 -0.000487  1.970216  0.422093       0  0.026771\n",
       "s_02007 -0.009034  2.117213  0.430258       0  0.027687\n",
       "s_02009 -0.003768  2.240575  0.499304       0  0.019800\n",
       "s_02010 -0.003834  1.801020  0.402272       0  0.034298\n",
       "s_02011  0.005220  2.177101  0.512704       0  0.031181\n",
       "s_02014  0.000828  2.200079  0.485166       0  0.033909\n",
       "s_02015 -0.009805  2.150314  0.489373       0  0.036630\n",
       "s_02016  0.002051  2.068810  0.514982       0  0.027869\n",
       "s_02018 -0.001200  1.961148  0.417479       0  0.022804\n",
       "s_02020 -0.007968  2.374007  0.558702       0  0.023756\n",
       "s_02021  0.001716  2.048962  0.403868       0  0.018419\n",
       "s_02022 -0.000880  2.280846  0.522029       0  0.025221\n",
       "s_02023 -0.007981  2.196848  0.566030       0  0.025385\n",
       "s_02024 -0.001749  2.250912  0.523561       0  0.028414\n",
       "s_02027  0.004459  2.161185  0.477401       0  0.021308"
      ]
     },
     "execution_count": 38,
     "metadata": {},
     "output_type": "execute_result"
    }
   ],
   "source": [
    "nline_no_miss_subj = nline_no_miss.groupby(level=0)\n",
    "nline_no_miss_subj.mean()"
   ]
  },
  {
   "cell_type": "markdown",
   "metadata": {},
   "source": [
    "##Overall Averages"
   ]
  },
  {
   "cell_type": "code",
   "execution_count": 39,
   "metadata": {
    "collapsed": false
   },
   "outputs": [
    {
     "data": {
      "text/plain": [
       "Error      -0.001894\n",
       "RT          2.155551\n",
       "RTHold      0.475796\n",
       "Missed      0.000000\n",
       "AbsError    0.026046\n",
       "dtype: float64"
      ]
     },
     "execution_count": 39,
     "metadata": {},
     "output_type": "execute_result"
    }
   ],
   "source": [
    "np.mean(nline_no_miss_subj.mean())"
   ]
  },
  {
   "cell_type": "code",
   "execution_count": 40,
   "metadata": {
    "collapsed": false
   },
   "outputs": [],
   "source": [
    "##Subject Standard Deviations (title for markdown deleted)\n",
    "#nline_no_miss_subj.std()"
   ]
  },
  {
   "cell_type": "code",
   "execution_count": 41,
   "metadata": {
    "collapsed": false
   },
   "outputs": [],
   "source": [
    "##Overall Standard Deviation (deleted from markdown)\n",
    "#np.mean(nline_no_miss_subj.std())"
   ]
  },
  {
   "cell_type": "markdown",
   "metadata": {},
   "source": [
    "##How many trials did they actually respond?"
   ]
  },
  {
   "cell_type": "code",
   "execution_count": 42,
   "metadata": {
    "collapsed": false
   },
   "outputs": [
    {
     "data": {
      "text/plain": [
       "Subject\n",
       "s_02003    137\n",
       "s_02004    141\n",
       "s_02005    127\n",
       "s_02006    142\n",
       "s_02007    143\n",
       "s_02009    143\n",
       "s_02010    137\n",
       "s_02011    137\n",
       "s_02014    137\n",
       "s_02015    138\n",
       "s_02016    134\n",
       "s_02018    140\n",
       "s_02020    132\n",
       "s_02021    139\n",
       "s_02022    126\n",
       "s_02023    139\n",
       "s_02024    134\n",
       "s_02027    138\n",
       "Name: RT, dtype: int64"
      ]
     },
     "execution_count": 42,
     "metadata": {},
     "output_type": "execute_result"
    }
   ],
   "source": [
    "nline_no_miss_subj['RT'].count()"
   ]
  },
  {
   "cell_type": "markdown",
   "metadata": {},
   "source": [
    "# RT Histograms"
   ]
  },
  {
   "cell_type": "markdown",
   "metadata": {},
   "source": [
    "##Why this has a grid?"
   ]
  },
  {
   "cell_type": "code",
   "execution_count": 43,
   "metadata": {
    "collapsed": false
   },
   "outputs": [
    {
     "data": {
      "text/plain": [
       "<matplotlib.text.Text at 0x10dbd1a10>"
      ]
     },
     "execution_count": 43,
     "metadata": {},
     "output_type": "execute_result"
    },
    {
     "data": {
      "image/png": "[encoded data removed]",
      "text/plain": [
       "<matplotlib.figure.Figure at 0x10b9cd110>"
      ]
     },
     "metadata": {},
     "output_type": "display_data"
    }
   ],
   "source": [
    "#pd.options.display.mpl_style = 'default'\n",
    "nline_no_miss['RT'].hist(bins=30, range=[0,3])\n",
    "plt.ylim([0,300])\n",
    "plt.title('Number Line')\n",
    "plt.xlabel('Seconds', labelpad = 18)\n",
    "plt.ylabel('Frequency', labelpad = 18)"
   ]
  },
  {
   "cell_type": "markdown",
   "metadata": {},
   "source": [
    "## RTHold missed analysis"
   ]
  },
  {
   "cell_type": "code",
   "execution_count": 44,
   "metadata": {
    "collapsed": false
   },
   "outputs": [],
   "source": [
    "nline_miss = nline_df[['Error', 'RT', 'RTHold', 'catch', 'Task', 'Line_pct', 'Response']]\n",
    "nline_miss = nline_miss[nline_miss['catch']<1]\n",
    "#len(nline_miss)"
   ]
  },
  {
   "cell_type": "code",
   "execution_count": 45,
   "metadata": {
    "collapsed": false
   },
   "outputs": [
    {
     "name": "stderr",
     "output_type": "stream",
     "text": [
      "//anaconda/lib/python2.7/site-packages/IPython/kernel/zmq/kernelbase.py:213: PerformanceWarning: indexing past lexsort depth may impact performance.\n",
      "  handler(stream, idents, msg)\n"
     ]
    }
   ],
   "source": [
    "nline_miss.loc[:,'Missed'] = nline_miss['Error']\n",
    "nline_miss.loc[nline_miss['Missed']<1,'Missed'] = 0\n",
    "\n",
    "#['Missed'][nline_miss['Missed']<1] = 0\n",
    "#nline_miss"
   ]
  },
  {
   "cell_type": "code",
   "execution_count": 46,
   "metadata": {
    "collapsed": false
   },
   "outputs": [],
   "source": [
    "nline_miss['AbsError'] = np.abs(nline_miss['Error'])"
   ]
  },
  {
   "cell_type": "code",
   "execution_count": 47,
   "metadata": {
    "collapsed": true
   },
   "outputs": [],
   "source": [
    "position_missed = nline_miss.groupby(['Task', 'Line_pct'])\n",
    "position_missed = position_missed['Missed']"
   ]
  },
  {
   "cell_type": "code",
   "execution_count": 48,
   "metadata": {
    "collapsed": false
   },
   "outputs": [],
   "source": [
    "responded = nline_miss[nline_miss['Missed']==0]\n",
    "#responded['Error'] = np.abs(responded['Error'])\n",
    "#len(responded)"
   ]
  },
  {
   "cell_type": "code",
   "execution_count": 49,
   "metadata": {
    "collapsed": false
   },
   "outputs": [],
   "source": [
    "nline_miss = nline_miss[nline_miss['Missed']==1]\n",
    "#nline_miss"
   ]
  },
  {
   "cell_type": "markdown",
   "metadata": {},
   "source": [
    "## Missed by position (across subjects)"
   ]
  },
  {
   "cell_type": "code",
   "execution_count": 50,
   "metadata": {
    "collapsed": false
   },
   "outputs": [
    {
     "data": {
      "text/plain": [
       "Task  Line_pct\n",
       "1     0.03        5\n",
       "      0.07        5\n",
       "      0.11        5\n",
       "      0.21        4\n",
       "      0.28        3\n",
       "      0.33        3\n",
       "      0.36        3\n",
       "      0.45        1\n",
       "      0.57        3\n",
       "      0.60        0\n",
       "      0.65        0\n",
       "      0.74        4\n",
       "      0.77        1\n",
       "      0.85        5\n",
       "      0.90        4\n",
       "      0.98        1\n",
       "2     0.03        6\n",
       "      0.07        4\n",
       "      0.11        2\n",
       "      0.21        2\n",
       "      0.28        2\n",
       "      0.33        1\n",
       "      0.36        1\n",
       "      0.45        1\n",
       "      0.57        0\n",
       "      0.60        0\n",
       "      0.65        0\n",
       "      0.74        3\n",
       "      0.77        0\n",
       "      0.85        5\n",
       "      0.90        0\n",
       "      0.98        6\n",
       "3     0.03        4\n",
       "      0.07        5\n",
       "      0.11        3\n",
       "      0.21        1\n",
       "      0.28        2\n",
       "      0.33        2\n",
       "      0.36        2\n",
       "      0.45        2\n",
       "      0.57        2\n",
       "      0.60        3\n",
       "      0.65        2\n",
       "      0.74        4\n",
       "      0.77        1\n",
       "      0.85        3\n",
       "      0.90        5\n",
       "      0.98        7\n",
       "Name: Missed, dtype: float64"
      ]
     },
     "execution_count": 50,
     "metadata": {},
     "output_type": "execute_result"
    }
   ],
   "source": [
    "position_missed.sum()"
   ]
  },
  {
   "cell_type": "code",
   "execution_count": 51,
   "metadata": {
    "collapsed": false
   },
   "outputs": [],
   "source": [
    "missed_position = position_missed.sum()\n",
    "pos_miss_1 = missed_position.iloc[0:16]\n",
    "pos_miss_2 = missed_position.iloc[16:32]\n",
    "pos_miss_3 = missed_position.iloc[32:48]\n",
    "xvals = np.array([0.030, 0.070, 0.110, 0.210, 0.280, 0.330, 0.360, 0.450, 0.570, 0.600, 0.650, 0.740, 0.770, 0.850, 0.900, 0.980])\n",
    "#len(pos_miss_1)"
   ]
  },
  {
   "cell_type": "markdown",
   "metadata": {},
   "source": [
    "#How do I make use of the different colors or color palettes from seaborn in this type of plot?\n",
    "#Also why the '+' does not work? It worked before  included seaborn"
   ]
  },
  {
   "cell_type": "markdown",
   "metadata": {},
   "source": [
    "The following code gives me a list for the palette and I can iterate through it for the colors I need"
   ]
  },
  {
   "cell_type": "code",
   "execution_count": 52,
   "metadata": {
    "collapsed": false
   },
   "outputs": [],
   "source": [
    "pal = sns.color_palette()"
   ]
  },
  {
   "cell_type": "code",
   "execution_count": 53,
   "metadata": {
    "collapsed": false
   },
   "outputs": [
    {
     "data": {
      "image/png": "[encoded data removed]",
      "text/plain": [
       "<matplotlib.figure.Figure at 0x10de9aad0>"
      ]
     },
     "metadata": {},
     "output_type": "display_data"
    }
   ],
   "source": [
    "fig = plt.figure(figsize=(12,12))\n",
    "fig1 = plt.subplot(3,1,1)\n",
    "fig1.plot(xvals, pos_miss_1, 'o-', color=sns.xkcd_rgb[\"denim blue\"])\n",
    "plt.title('Misses By Position N+')\n",
    "plt.xlabel('Misses', labelpad = 4)\n",
    "plt.ylabel('Mean RT')\n",
    "plt.ylim([0,8])\n",
    "plt.yticks(([0,2,4,6,8]))\n",
    "\n",
    "fig2 = plt.subplot(3,1,2)\n",
    "fig2.plot(xvals, pos_miss_2, color=pal[1], marker='s')\n",
    "plt.title('Misses By Position N-/+')\n",
    "plt.xlabel('0 to 100', labelpad = 4)\n",
    "plt.ylabel('Misses')\n",
    "plt.ylim([0,8])\n",
    "plt.yticks(([0,2,4,6,8]))\n",
    "\n",
    "fig3 = plt.subplot(3,1,3)\n",
    "fig3.plot(xvals, pos_miss_3, color=pal[2], marker='p')\n",
    "plt.title('Misses By Position Word')\n",
    "plt.xlabel('0 to 100', labelpad = 4)\n",
    "plt.ylabel('Misses')\n",
    "plt.ylim([0,8])\n",
    "plt.yticks(([0,2,4,6,8]))\n",
    "\n",
    "plt.subplots_adjust(hspace=.4)"
   ]
  },
  {
   "cell_type": "markdown",
   "metadata": {},
   "source": [
    "##RTHold Subject Average"
   ]
  },
  {
   "cell_type": "code",
   "execution_count": 54,
   "metadata": {
    "collapsed": false
   },
   "outputs": [
    {
     "data": {
      "text/plain": [
       "Subject\n",
       "s_02003    0.580029\n",
       "s_02004    0.371789\n",
       "s_02005    0.523442\n",
       "s_02006    0.318201\n",
       "s_02007    0.446265\n",
       "s_02009    0.596069\n",
       "s_02010    0.617966\n",
       "s_02011    0.586275\n",
       "s_02014    0.439934\n",
       "s_02015    0.620800\n",
       "s_02016    0.969234\n",
       "s_02018    0.409631\n",
       "s_02020    0.697097\n",
       "s_02021    0.455508\n",
       "s_02022    0.981399\n",
       "s_02023    1.329770\n",
       "s_02024    0.595365\n",
       "s_02027    0.886305\n",
       "Name: RTHold, dtype: float64"
      ]
     },
     "execution_count": 54,
     "metadata": {},
     "output_type": "execute_result"
    }
   ],
   "source": [
    "nline_miss_subj = nline_miss.groupby(level=0)\n",
    "nline_miss_subj['RTHold'].mean()"
   ]
  },
  {
   "cell_type": "markdown",
   "metadata": {},
   "source": [
    "##RTHold Overall Average"
   ]
  },
  {
   "cell_type": "code",
   "execution_count": 55,
   "metadata": {
    "collapsed": false
   },
   "outputs": [
    {
     "data": {
      "text/plain": [
       "0.6347266362081091"
      ]
     },
     "execution_count": 55,
     "metadata": {},
     "output_type": "execute_result"
    }
   ],
   "source": [
    "np.mean(nline_miss_subj['RTHold'].mean())"
   ]
  },
  {
   "cell_type": "code",
   "execution_count": 56,
   "metadata": {
    "collapsed": false
   },
   "outputs": [],
   "source": [
    "responded_subj = responded.groupby(level=0)\n",
    "#responded_subj[['Error', 'RT', 'RTHold', 'AbsError']].mean()"
   ]
  },
  {
   "cell_type": "markdown",
   "metadata": {},
   "source": [
    "##Overall Averages"
   ]
  },
  {
   "cell_type": "code",
   "execution_count": 57,
   "metadata": {
    "collapsed": false
   },
   "outputs": [
    {
     "data": {
      "text/plain": [
       "Error      -0.001894\n",
       "RT          2.155551\n",
       "RTHold      0.475796\n",
       "AbsError    0.026046\n",
       "dtype: float64"
      ]
     },
     "execution_count": 57,
     "metadata": {},
     "output_type": "execute_result"
    }
   ],
   "source": [
    "np.mean(responded_subj[['Error', 'RT', 'RTHold', 'AbsError']].mean())"
   ]
  },
  {
   "cell_type": "code",
   "execution_count": 58,
   "metadata": {
    "collapsed": false,
    "scrolled": true
   },
   "outputs": [
    {
     "name": "stderr",
     "output_type": "stream",
     "text": [
      "//anaconda/lib/python2.7/site-packages/pandas/core/indexing.py:266: SettingWithCopyWarning: \n",
      "A value is trying to be set on a copy of a slice from a DataFrame.\n",
      "Try using .loc[row_indexer,col_indexer] = value instead\n",
      "\n",
      "See the caveats in the documentation: http://pandas.pydata.org/pandas-docs/stable/indexing.html#indexing-view-versus-copy\n",
      "  self.obj[key] = _infer_fill_value(value)\n",
      "//anaconda/lib/python2.7/site-packages/pandas/core/indexing.py:426: SettingWithCopyWarning: \n",
      "A value is trying to be set on a copy of a slice from a DataFrame.\n",
      "Try using .loc[row_indexer,col_indexer] = value instead\n",
      "\n",
      "See the caveats in the documentation: http://pandas.pydata.org/pandas-docs/stable/indexing.html#indexing-view-versus-copy\n",
      "  self.obj[item] = s\n"
     ]
    }
   ],
   "source": [
    "responded.loc[:,'RT_Diff'] = responded['RT']-responded['RTHold']"
   ]
  },
  {
   "cell_type": "markdown",
   "metadata": {},
   "source": [
    "##Averages by subjected for responded trials"
   ]
  },
  {
   "cell_type": "code",
   "execution_count": 59,
   "metadata": {
    "collapsed": false
   },
   "outputs": [
    {
     "data": {
      "text/html": [
       "<div>\n",
       "<table border=\"1\" class=\"dataframe\">\n",
       "  <thead>\n",
       "    <tr style=\"text-align: right;\">\n",
       "      <th></th>\n",
       "      <th>Error</th>\n",
       "      <th>RT</th>\n",
       "      <th>RTHold</th>\n",
       "      <th>RT_Diff</th>\n",
       "      <th>AbsError</th>\n",
       "    </tr>\n",
       "    <tr>\n",
       "      <th>Subject</th>\n",
       "      <th></th>\n",
       "      <th></th>\n",
       "      <th></th>\n",
       "      <th></th>\n",
       "      <th></th>\n",
       "    </tr>\n",
       "  </thead>\n",
       "  <tbody>\n",
       "    <tr>\n",
       "      <th>s_02003</th>\n",
       "      <td>0.002544</td>\n",
       "      <td>2.240014</td>\n",
       "      <td>0.480898</td>\n",
       "      <td>1.759116</td>\n",
       "      <td>0.022472</td>\n",
       "    </tr>\n",
       "    <tr>\n",
       "      <th>s_02004</th>\n",
       "      <td>0.000621</td>\n",
       "      <td>2.181841</td>\n",
       "      <td>0.390107</td>\n",
       "      <td>1.791734</td>\n",
       "      <td>0.020997</td>\n",
       "    </tr>\n",
       "    <tr>\n",
       "      <th>s_02005</th>\n",
       "      <td>-0.004826</td>\n",
       "      <td>2.378822</td>\n",
       "      <td>0.468106</td>\n",
       "      <td>1.910716</td>\n",
       "      <td>0.021902</td>\n",
       "    </tr>\n",
       "    <tr>\n",
       "      <th>s_02006</th>\n",
       "      <td>-0.000487</td>\n",
       "      <td>1.970216</td>\n",
       "      <td>0.422093</td>\n",
       "      <td>1.548123</td>\n",
       "      <td>0.026771</td>\n",
       "    </tr>\n",
       "    <tr>\n",
       "      <th>s_02007</th>\n",
       "      <td>-0.009034</td>\n",
       "      <td>2.117213</td>\n",
       "      <td>0.430258</td>\n",
       "      <td>1.686955</td>\n",
       "      <td>0.027687</td>\n",
       "    </tr>\n",
       "    <tr>\n",
       "      <th>s_02009</th>\n",
       "      <td>-0.003768</td>\n",
       "      <td>2.240575</td>\n",
       "      <td>0.499304</td>\n",
       "      <td>1.741271</td>\n",
       "      <td>0.019800</td>\n",
       "    </tr>\n",
       "    <tr>\n",
       "      <th>s_02010</th>\n",
       "      <td>-0.003834</td>\n",
       "      <td>1.801020</td>\n",
       "      <td>0.402272</td>\n",
       "      <td>1.398747</td>\n",
       "      <td>0.034298</td>\n",
       "    </tr>\n",
       "    <tr>\n",
       "      <th>s_02011</th>\n",
       "      <td>0.005220</td>\n",
       "      <td>2.177101</td>\n",
       "      <td>0.512704</td>\n",
       "      <td>1.664397</td>\n",
       "      <td>0.031181</td>\n",
       "    </tr>\n",
       "    <tr>\n",
       "      <th>s_02014</th>\n",
       "      <td>0.000828</td>\n",
       "      <td>2.200079</td>\n",
       "      <td>0.485166</td>\n",
       "      <td>1.714912</td>\n",
       "      <td>0.033909</td>\n",
       "    </tr>\n",
       "    <tr>\n",
       "      <th>s_02015</th>\n",
       "      <td>-0.009805</td>\n",
       "      <td>2.150314</td>\n",
       "      <td>0.489373</td>\n",
       "      <td>1.660941</td>\n",
       "      <td>0.036630</td>\n",
       "    </tr>\n",
       "    <tr>\n",
       "      <th>s_02016</th>\n",
       "      <td>0.002051</td>\n",
       "      <td>2.068810</td>\n",
       "      <td>0.514982</td>\n",
       "      <td>1.553828</td>\n",
       "      <td>0.027869</td>\n",
       "    </tr>\n",
       "    <tr>\n",
       "      <th>s_02018</th>\n",
       "      <td>-0.001200</td>\n",
       "      <td>1.961148</td>\n",
       "      <td>0.417479</td>\n",
       "      <td>1.543669</td>\n",
       "      <td>0.022804</td>\n",
       "    </tr>\n",
       "    <tr>\n",
       "      <th>s_02020</th>\n",
       "      <td>-0.007968</td>\n",
       "      <td>2.374007</td>\n",
       "      <td>0.558702</td>\n",
       "      <td>1.815306</td>\n",
       "      <td>0.023756</td>\n",
       "    </tr>\n",
       "    <tr>\n",
       "      <th>s_02021</th>\n",
       "      <td>0.001716</td>\n",
       "      <td>2.048962</td>\n",
       "      <td>0.403868</td>\n",
       "      <td>1.645094</td>\n",
       "      <td>0.018419</td>\n",
       "    </tr>\n",
       "    <tr>\n",
       "      <th>s_02022</th>\n",
       "      <td>-0.000880</td>\n",
       "      <td>2.280846</td>\n",
       "      <td>0.522029</td>\n",
       "      <td>1.758817</td>\n",
       "      <td>0.025221</td>\n",
       "    </tr>\n",
       "    <tr>\n",
       "      <th>s_02023</th>\n",
       "      <td>-0.007981</td>\n",
       "      <td>2.196848</td>\n",
       "      <td>0.566030</td>\n",
       "      <td>1.630818</td>\n",
       "      <td>0.025385</td>\n",
       "    </tr>\n",
       "    <tr>\n",
       "      <th>s_02024</th>\n",
       "      <td>-0.001749</td>\n",
       "      <td>2.250912</td>\n",
       "      <td>0.523561</td>\n",
       "      <td>1.727351</td>\n",
       "      <td>0.028414</td>\n",
       "    </tr>\n",
       "    <tr>\n",
       "      <th>s_02027</th>\n",
       "      <td>0.004459</td>\n",
       "      <td>2.161185</td>\n",
       "      <td>0.477401</td>\n",
       "      <td>1.683783</td>\n",
       "      <td>0.021308</td>\n",
       "    </tr>\n",
       "  </tbody>\n",
       "</table>\n",
       "</div>"
      ],
      "text/plain": [
       "            Error        RT    RTHold   RT_Diff  AbsError\n",
       "Subject                                                  \n",
       "s_02003  0.002544  2.240014  0.480898  1.759116  0.022472\n",
       "s_02004  0.000621  2.181841  0.390107  1.791734  0.020997\n",
       "s_02005 -0.004826  2.378822  0.468106  1.910716  0.021902\n",
       "s_02006 -0.000487  1.970216  0.422093  1.548123  0.026771\n",
       "s_02007 -0.009034  2.117213  0.430258  1.686955  0.027687\n",
       "s_02009 -0.003768  2.240575  0.499304  1.741271  0.019800\n",
       "s_02010 -0.003834  1.801020  0.402272  1.398747  0.034298\n",
       "s_02011  0.005220  2.177101  0.512704  1.664397  0.031181\n",
       "s_02014  0.000828  2.200079  0.485166  1.714912  0.033909\n",
       "s_02015 -0.009805  2.150314  0.489373  1.660941  0.036630\n",
       "s_02016  0.002051  2.068810  0.514982  1.553828  0.027869\n",
       "s_02018 -0.001200  1.961148  0.417479  1.543669  0.022804\n",
       "s_02020 -0.007968  2.374007  0.558702  1.815306  0.023756\n",
       "s_02021  0.001716  2.048962  0.403868  1.645094  0.018419\n",
       "s_02022 -0.000880  2.280846  0.522029  1.758817  0.025221\n",
       "s_02023 -0.007981  2.196848  0.566030  1.630818  0.025385\n",
       "s_02024 -0.001749  2.250912  0.523561  1.727351  0.028414\n",
       "s_02027  0.004459  2.161185  0.477401  1.683783  0.021308"
      ]
     },
     "execution_count": 59,
     "metadata": {},
     "output_type": "execute_result"
    }
   ],
   "source": [
    "responded_subj = responded.groupby(level=0)\n",
    "responded_subj[['Error', 'RT', 'RTHold', 'RT_Diff', 'AbsError']].mean()"
   ]
  },
  {
   "cell_type": "markdown",
   "metadata": {},
   "source": [
    "## Plots by position"
   ]
  },
  {
   "cell_type": "code",
   "execution_count": 60,
   "metadata": {
    "collapsed": false
   },
   "outputs": [],
   "source": [
    "position_tasks = responded.groupby(['Task', 'Line_pct'])"
   ]
  },
  {
   "cell_type": "code",
   "execution_count": 61,
   "metadata": {
    "collapsed": false
   },
   "outputs": [],
   "source": [
    "n_subj = len(responded_subj)"
   ]
  },
  {
   "cell_type": "code",
   "execution_count": 62,
   "metadata": {
    "collapsed": false
   },
   "outputs": [],
   "source": [
    "#responded.iloc[0:20]"
   ]
  },
  {
   "cell_type": "markdown",
   "metadata": {},
   "source": [
    "##RTs by position averages (across subjects)"
   ]
  },
  {
   "cell_type": "code",
   "execution_count": 63,
   "metadata": {
    "collapsed": false
   },
   "outputs": [
    {
     "data": {
      "text/plain": [
       "Task  Line_pct\n",
       "1     0.03        2.166232\n",
       "      0.07        2.252974\n",
       "      0.11        2.251930\n",
       "      0.21        2.236069\n",
       "      0.28        2.250295\n",
       "      0.33        2.102950\n",
       "      0.36        2.194441\n",
       "      0.45        1.835135\n",
       "      0.57        1.943075\n",
       "      0.60        1.965550\n",
       "      0.65        2.005734\n",
       "      0.74        2.181136\n",
       "      0.77        2.239934\n",
       "      0.85        2.345485\n",
       "      0.90        2.307132\n",
       "      0.98        2.210749\n",
       "2     0.03        2.277682\n",
       "      0.07        2.307971\n",
       "      0.11        2.322347\n",
       "      0.21        2.222244\n",
       "      0.28        2.171832\n",
       "      0.33        2.133167\n",
       "      0.36        2.032535\n",
       "      0.45        1.874872\n",
       "      0.57        1.964878\n",
       "      0.60        2.029661\n",
       "      0.65        1.987113\n",
       "      0.74        2.239032\n",
       "      0.77        2.239711\n",
       "      0.85        2.308307\n",
       "      0.90        2.353920\n",
       "      0.98        2.221245\n",
       "3     0.03        2.283034\n",
       "      0.07        2.322188\n",
       "      0.11        2.307128\n",
       "      0.21        2.249980\n",
       "      0.28        2.095584\n",
       "      0.33        2.048842\n",
       "      0.36        1.976196\n",
       "      0.45        1.773923\n",
       "      0.57        1.859551\n",
       "      0.60        1.884395\n",
       "      0.65        1.953282\n",
       "      0.74        2.248324\n",
       "      0.77        2.185684\n",
       "      0.85        2.366906\n",
       "      0.90        2.345572\n",
       "      0.98        2.398890\n",
       "Name: RT, dtype: float64"
      ]
     },
     "execution_count": 63,
     "metadata": {},
     "output_type": "execute_result"
    }
   ],
   "source": [
    "position_tasks['RT'].mean()"
   ]
  },
  {
   "cell_type": "code",
   "execution_count": 64,
   "metadata": {
    "collapsed": false
   },
   "outputs": [],
   "source": [
    "rts = position_tasks['RT'].mean()\n",
    "rts_std = position_tasks['RT'].std()\n",
    "rts_se = rts_std/np.sqrt(n_subj)"
   ]
  },
  {
   "cell_type": "markdown",
   "metadata": {},
   "source": [
    "Next code is to calculate standard error by first computing the mean RT for each subject and then taking the std of the subjects"
   ]
  },
  {
   "cell_type": "code",
   "execution_count": 65,
   "metadata": {
    "collapsed": true
   },
   "outputs": [],
   "source": [
    "D = {}\n",
    "for sub in responded.groupby(level=0).groups.keys():\n",
    "    for pos in position_tasks.groups.keys():\n",
    "        task = pos[0]\n",
    "        stim = pos[1]\n",
    "        if D.get(task,0) == 0:\n",
    "            D[task] = {}\n",
    "        if D[task].get(stim,0) == 0:\n",
    "            D[task][stim] = {'raw':[],'medianRT':[], 'stdRT': [], 'error_raw':[], 'stdError':[], 'medianError':[]}\n",
    "        D[task][stim]['raw'].append(position_tasks.get_group((task,stim)).loc[sub]['RT'].mean())\n",
    "        D[task][stim]['error_raw'].append(position_tasks.get_group((task,stim)).loc[sub]['AbsError'].mean())"
   ]
  },
  {
   "cell_type": "markdown",
   "metadata": {},
   "source": [
    "Then I take the std deviation between sebjects and also the median between subjects"
   ]
  },
  {
   "cell_type": "code",
   "execution_count": 66,
   "metadata": {
    "collapsed": false
   },
   "outputs": [
    {
     "data": {
      "text/plain": [
       "array([ 0.03,  0.07,  0.11,  0.21,  0.28,  0.33,  0.36,  0.45,  0.57,\n",
       "        0.6 ,  0.65,  0.74,  0.77,  0.85,  0.9 ,  0.98])"
      ]
     },
     "execution_count": 66,
     "metadata": {},
     "output_type": "execute_result"
    }
   ],
   "source": [
    "np.sort(D[task].keys())"
   ]
  },
  {
   "cell_type": "code",
   "execution_count": 67,
   "metadata": {
    "collapsed": false
   },
   "outputs": [],
   "source": [
    "for task in D:\n",
    "    #print task\n",
    "    for stim in np.sort(D[task].keys()):\n",
    "        D[task][stim]['stdRT'] = np.nanstd(D[task][stim]['raw'])\n",
    "        D[task][stim]['medianRT'] = np.nanmedian(D[task][stim]['raw'])\n",
    "        D[task][stim]['stdError'] = np.nanstd(D[task][stim]['error_raw'])\n",
    "        D[task][stim]['medianError'] = np.nanmedian(D[task][stim]['error_raw'])"
   ]
  },
  {
   "cell_type": "code",
   "execution_count": 68,
   "metadata": {
    "collapsed": false
   },
   "outputs": [
    {
     "data": {
      "text/plain": [
       "2.2076721040001148"
      ]
     },
     "execution_count": 68,
     "metadata": {},
     "output_type": "execute_result"
    }
   ],
   "source": [
    "D[1.0][0.03]['medianRT']"
   ]
  },
  {
   "cell_type": "code",
   "execution_count": 69,
   "metadata": {
    "collapsed": true
   },
   "outputs": [],
   "source": [
    "rts_1 = []\n",
    "rts_2 = []\n",
    "rts_3 = []\n",
    "for stim in np.sort(D[1].keys()):\n",
    "    rts_1.append(D[1][stim]['medianRT'])\n",
    "for stim in np.sort(D[2].keys()):\n",
    "    rts_2.append(D[2][stim]['medianRT'])\n",
    "for stim in np.sort(D[3].keys()):\n",
    "    rts_3.append(D[3][stim]['medianRT'])"
   ]
  },
  {
   "cell_type": "code",
   "execution_count": 70,
   "metadata": {
    "collapsed": true
   },
   "outputs": [],
   "source": [
    "rts_std_1 = []\n",
    "rts_std_2 = []\n",
    "rts_std_3 = []\n",
    "for stim in np.sort(D[1].keys()):\n",
    "    rts_std_1.append(D[1][stim]['stdRT'])\n",
    "for stim in np.sort(D[2].keys()):\n",
    "    rts_std_2.append(D[2][stim]['stdRT'])\n",
    "for stim in np.sort(D[3].keys()):\n",
    "    rts_std_3.append(D[3][stim]['stdRT'])"
   ]
  },
  {
   "cell_type": "code",
   "execution_count": 71,
   "metadata": {
    "collapsed": false
   },
   "outputs": [],
   "source": [
    "rts_se_1 = rts_std_1/np.sqrt(n_subj)\n",
    "rts_se_2 = rts_std_2/np.sqrt(n_subj)\n",
    "rts_se_3 = rts_std_3/np.sqrt(n_subj)"
   ]
  },
  {
   "cell_type": "code",
   "execution_count": 72,
   "metadata": {
    "collapsed": false
   },
   "outputs": [],
   "source": [
    "rts_1_med = rts.iloc[0:16]\n",
    "rts_2_med = rts.iloc[16:32]\n",
    "rts_3_med = rts.iloc[32:48]"
   ]
  },
  {
   "cell_type": "code",
   "execution_count": 73,
   "metadata": {
    "collapsed": false
   },
   "outputs": [
    {
     "data": {
      "text/plain": [
       "[2.2076721040001148,\n",
       " 2.2672764577504649,\n",
       " 2.2406924439164868,\n",
       " 2.2235293793333617,\n",
       " 2.2149986121664069,\n",
       " 2.074068328833012,\n",
       " 2.14406770600029,\n",
       " 1.8031609911669571,\n",
       " 1.8777569766666602,\n",
       " 1.9860540761672687,\n",
       " 2.0271773478328514,\n",
       " 2.1477198709999357,\n",
       " 2.2748100671666784,\n",
       " 2.2994427518330367,\n",
       " 2.2834928985006018,\n",
       " 2.2567190303334428]"
      ]
     },
     "execution_count": 73,
     "metadata": {},
     "output_type": "execute_result"
    }
   ],
   "source": [
    "rts_1"
   ]
  },
  {
   "cell_type": "code",
   "execution_count": 74,
   "metadata": {
    "collapsed": false
   },
   "outputs": [],
   "source": [
    "xvals = np.array([0.030, 0.070, 0.110, 0.210, 0.280, 0.330, 0.360, 0.450, 0.570, 0.600, 0.650, 0.740, 0.770, 0.850, 0.900, 0.980])\n",
    "len(rts_1)\n",
    "xvals1 = np.array([0.030, 0.070, 0.110, 0.210, 0.280, 0.330, 0.360, 0.450, 0.570, 0.600, 0.650, 0.740, 0.900, 0.980])"
   ]
  },
  {
   "cell_type": "markdown",
   "metadata": {},
   "source": [
    "## Median of subject means"
   ]
  },
  {
   "cell_type": "code",
   "execution_count": 75,
   "metadata": {
    "collapsed": false
   },
   "outputs": [
    {
     "data": {
      "image/png": "[encoded data removed]",
      "text/plain": [
       "<matplotlib.figure.Figure at 0x10b9afd50>"
      ]
     },
     "metadata": {},
     "output_type": "display_data"
    }
   ],
   "source": [
    "sns.set_context('poster')\n",
    "fig = plt.figure(figsize=(12,12))\n",
    "fig1 = plt.subplot(3,1,1)\n",
    "fig1.plot(xvals, rts_1, 'o-', color=pal[0])\n",
    "fig1.errorbar(xvals, rts_1, yerr=rts_se_1*1.96)\n",
    "plt.title('Median RT By Position N+', y =1.08)\n",
    "plt.xlabel('Line position in % Positive', labelpad = 4)\n",
    "plt.ylabel('Median RT')\n",
    "plt.ylim([1.5,2.5])\n",
    "plt.yticks(([1.5,2,2.5]))\n",
    "\n",
    "fig2 = plt.subplot(3,1,2)\n",
    "fig2.plot(xvals, rts_2, color=pal[1])\n",
    "fig2.errorbar(xvals, rts_2, yerr=rts_se_2*1.96, color=pal[1])\n",
    "plt.title('Median RT By Position N-/+', y =1.08)\n",
    "plt.xlabel('Line position in % Mixed', labelpad = 4)\n",
    "plt.ylabel('Median RT')\n",
    "plt.ylim([1.5,2.5])\n",
    "plt.yticks(([1.5,2,2.5]))\n",
    "\n",
    "fig3 = plt.subplot(3,1,3)\n",
    "fig3.plot(xvals, rts_3, color=pal[2])\n",
    "fig3.errorbar(xvals, rts_3, yerr=rts_se_3*1.96, color=pal[2])\n",
    "plt.title('Median RT By Position Word',y =1.08)\n",
    "plt.xlabel('Line position in % Word', labelpad = 4)\n",
    "plt.ylabel('Median RT')\n",
    "plt.ylim([1.5,2.5])\n",
    "plt.yticks(([1.5,2,2.5]))\n",
    "\n",
    "plt.subplots_adjust(hspace=.7)\n",
    "sns.despine()"
   ]
  },
  {
   "cell_type": "code",
   "execution_count": 76,
   "metadata": {
    "collapsed": false
   },
   "outputs": [
    {
     "data": {
      "text/plain": [
       "array([ 2.2076721 ,  2.26727646,  2.24069244,  2.22352938,  2.21499861,\n",
       "        2.07406833,  2.14406771,  1.80316099,  1.87775698,  1.98605408,\n",
       "        2.02717735,  2.14771987,  2.27481007,  2.29944275,  2.2834929 ,\n",
       "        2.25671903])"
      ]
     },
     "execution_count": 76,
     "metadata": {},
     "output_type": "execute_result"
    }
   ],
   "source": [
    "rts_1 = np.asarray(rts_1)\n",
    "rts_2 = np.asarray(rts_2)\n",
    "rts_3 = np.asarray(rts_3)\n",
    "rts_1"
   ]
  },
  {
   "cell_type": "code",
   "execution_count": 77,
   "metadata": {
    "collapsed": true
   },
   "outputs": [],
   "source": [
    "rts_1corr = rts_1 - rts_3\n",
    "rts_2corr = rts_2 - rts_3"
   ]
  },
  {
   "cell_type": "code",
   "execution_count": 78,
   "metadata": {
    "collapsed": false
   },
   "outputs": [
    {
     "data": {
      "text/plain": [
       "array([-0.07577809, -0.12661209, -0.07853403, -0.09119662,  0.15837962,\n",
       "       -0.03628175,  0.13060091,  0.03990528,  0.04591975,  0.12723823,\n",
       "        0.02987926, -0.11827009,  0.04517505, -0.13348982, -0.07794761,\n",
       "       -0.142647  ])"
      ]
     },
     "execution_count": 78,
     "metadata": {},
     "output_type": "execute_result"
    }
   ],
   "source": [
    "rts_1corr"
   ]
  },
  {
   "cell_type": "code",
   "execution_count": 79,
   "metadata": {
    "collapsed": false
   },
   "outputs": [
    {
     "data": {
      "image/png": "[encoded data removed]",
      "text/plain": [
       "<matplotlib.figure.Figure at 0x10f32a3d0>"
      ]
     },
     "metadata": {},
     "output_type": "display_data"
    }
   ],
   "source": [
    "fig = plt.figure(figsize=(12,12))\n",
    "fig1 = plt.subplot(2,1,1)\n",
    "fig1.plot(xvals, rts_1corr, 'o-', color=pal[0])\n",
    "fig1.plot([0,1], [0,0], color='black', linestyle='-')\n",
    "fig1.errorbar(xvals, rts_1corr, yerr=rts_se_1*1.96)\n",
    "plt.title('Median RT (minus word) By Position Positive')\n",
    "plt.xlabel('Line position in % N+', labelpad = 4)\n",
    "plt.ylabel('Mean RT')\n",
    "plt.ylim([-0.40,0.40])\n",
    "plt.yticks(([-0.3,-0.15,0,0.15,0.3]))\n",
    "\n",
    "fig2 = plt.subplot(2,1,2)\n",
    "fig2.plot(xvals, rts_2corr, color=pal[1])\n",
    "fig2.plot([0,1], [0,0], color='black', linestyle='-')\n",
    "fig2.errorbar(xvals, rts_2corr, yerr=rts_se_2*1.96, color=pal[1])\n",
    "plt.title('Median RT (minus word) By Position Mixed')\n",
    "plt.xlabel('Line position in % Mixed', labelpad = 4)\n",
    "plt.ylabel('Median RT')\n",
    "plt.ylim([-0.40,0.40])\n",
    "plt.yticks(([-0.3,-0.15,0,0.15,0.3]))\n",
    "\n",
    "plt.subplots_adjust(hspace=.5)\n",
    "sns.despine()"
   ]
  },
  {
   "cell_type": "markdown",
   "metadata": {},
   "source": [
    "## Error plots"
   ]
  },
  {
   "cell_type": "code",
   "execution_count": 80,
   "metadata": {
    "collapsed": true
   },
   "outputs": [],
   "source": [
    "error_1_med = []\n",
    "error_2_med = []\n",
    "error_3_med = []\n",
    "for stim in np.sort(D[1].keys()):\n",
    "    error_1_med .append(D[1][stim]['medianError'])\n",
    "for stim in np.sort(D[2].keys()):\n",
    "    error_2_med .append(D[2][stim]['medianError'])\n",
    "for stim in np.sort(D[3].keys()):\n",
    "    error_3_med .append(D[3][stim]['medianError'])"
   ]
  },
  {
   "cell_type": "code",
   "execution_count": 81,
   "metadata": {
    "collapsed": false
   },
   "outputs": [
    {
     "data": {
      "text/plain": [
       "[0.024126284875183552,\n",
       " 0.026431718061674006,\n",
       " 0.029251101321585905,\n",
       " 0.027533039647577095,\n",
       " 0.038737151248164445,\n",
       " 0.031237151248164459,\n",
       " 0.044052863436123343,\n",
       " 0.020778267254038196,\n",
       " 0.018722466960352437,\n",
       " 0.020925110132158586,\n",
       " 0.030837004405286344,\n",
       " 0.02242290748898677,\n",
       " 0.026585903083700436,\n",
       " 0.024155653450807651,\n",
       " 0.034214390602055798,\n",
       " 0.016328928046989748]"
      ]
     },
     "execution_count": 81,
     "metadata": {},
     "output_type": "execute_result"
    }
   ],
   "source": [
    "error_1_med"
   ]
  },
  {
   "cell_type": "code",
   "execution_count": 82,
   "metadata": {
    "collapsed": false
   },
   "outputs": [],
   "source": [
    "error_std_1 = []\n",
    "error_std_2 = []\n",
    "error_std_3 = []\n",
    "for stim in np.sort(D[1].keys()):\n",
    "    error_std_1.append(D[1][stim]['stdError'])\n",
    "for stim in np.sort(D[2].keys()):\n",
    "    error_std_2.append(D[2][stim]['stdError'])\n",
    "for stim in np.sort(D[3].keys()):\n",
    "    error_std_3.append(D[3][stim]['stdError'])"
   ]
  },
  {
   "cell_type": "code",
   "execution_count": 83,
   "metadata": {
    "collapsed": true
   },
   "outputs": [],
   "source": [
    "error_se1_med = error_std_1/np.sqrt(n_subj)\n",
    "error_se2_med = error_std_2/np.sqrt(n_subj)\n",
    "error_se3_med = error_std_3/np.sqrt(n_subj)"
   ]
  },
  {
   "cell_type": "code",
   "execution_count": 84,
   "metadata": {
    "collapsed": false
   },
   "outputs": [
    {
     "data": {
      "image/png": "[encoded data removed]",
      "text/plain": [
       "<matplotlib.figure.Figure at 0x10f3e1fd0>"
      ]
     },
     "metadata": {},
     "output_type": "display_data"
    }
   ],
   "source": [
    "fig = plt.figure(figsize=(12,16))\n",
    "fig1 = plt.subplot(3,1,1)\n",
    "fig1.plot(xvals, error_1_med, 'o-', color=pal[0])\n",
    "fig1.errorbar(xvals, error_1_med, yerr=error_se1_med*1.96, color=pal[0])\n",
    "plt.title('MAE By Position Positive')\n",
    "plt.xlabel('Line position in % Positive', labelpad = 4)\n",
    "plt.ylabel('MAE')\n",
    "plt.ylim([0,0.07])\n",
    "plt.yticks(([0.0,0.01,0.02,0.03,0.04,0.05,0.06,0.07]))\n",
    "\n",
    "fig2 = plt.subplot(3,1,2)\n",
    "fig2.plot(xvals, error_2_med, 'o-', color=pal[1])\n",
    "fig2.errorbar(xvals, error_2_med, yerr=error_se2_med*1.96, color=pal[1])\n",
    "plt.title('MAE By Position Mixed')\n",
    "plt.xlabel('Line position in % Mixed', labelpad = 4)\n",
    "plt.ylabel('MAE')\n",
    "plt.ylim([0,0.07])\n",
    "plt.yticks(([0.0,0.01,0.02,0.03,0.04,0.05,0.06,0.07]))\n",
    "\n",
    "fig3 = plt.subplot(3,1,3)\n",
    "fig3.plot(xvals, error_3_med, 'o-', color=pal[2])\n",
    "fig3.errorbar(xvals, error_3_med, yerr=error_se3_med*1.96, color=pal[2])\n",
    "plt.title('MAE By Position Word')\n",
    "plt.xlabel('Line position in % Word', labelpad = 4)\n",
    "plt.ylabel('MAE')\n",
    "plt.ylim([0,0.07])\n",
    "plt.yticks(([0.0,0.01,0.02,0.03,0.04,0.05,0.06,0.07]))\n",
    "\n",
    "plt.subplots_adjust(hspace=.5)\n",
    "sns.despine()"
   ]
  },
  {
   "cell_type": "markdown",
   "metadata": {},
   "source": [
    "###Signed error is calculated as Response - Correct"
   ]
  },
  {
   "cell_type": "markdown",
   "metadata": {},
   "source": [
    "Positive values in the graph below mean participant overestimated, negative values mean participant underestimated. In the -/+ task participants tend to give answers further from the endpoints than they should (This might have to do with the fact that the line is divided in 200 units unlike + task)."
   ]
  },
  {
   "cell_type": "code",
   "execution_count": 85,
   "metadata": {
    "collapsed": true
   },
   "outputs": [],
   "source": [
    "D = {}\n",
    "for sub in responded.groupby(level=0).groups.keys():\n",
    "    for pos in position_tasks.groups.keys():\n",
    "        task = pos[0]\n",
    "        stim = pos[1]\n",
    "        if D.get(task,0) == 0:\n",
    "            D[task] = {}\n",
    "        if D[task].get(stim,0) == 0:\n",
    "            D[task][stim] = {'sign_error_raw':[], 'sign_error_SD':[], 'sign_error_median':[], 'SD_raw':[],'SD_median':[]}\n",
    "        D[task][stim]['sign_error_raw'].append(position_tasks.get_group((task,stim)).loc[sub]['Error'].mean())\n",
    "        D[task][stim]['SD_raw'].append(position_tasks.get_group((task,stim)).loc[sub]['Error'].std())"
   ]
  },
  {
   "cell_type": "code",
   "execution_count": 86,
   "metadata": {
    "collapsed": true
   },
   "outputs": [],
   "source": [
    "for task in D:\n",
    "    #print task\n",
    "    for stim in np.sort(D[task].keys()):\n",
    "        D[task][stim]['sign_error_SD'] = np.nanstd(D[task][stim]['sign_error_raw'])\n",
    "        D[task][stim]['sign_error_median'] = np.nanmedian(D[task][stim]['sign_error_raw'])\n",
    "        D[task][stim]['SD_median'] = np.nanmedian(D[task][stim]['SD_raw'])"
   ]
  },
  {
   "cell_type": "code",
   "execution_count": 87,
   "metadata": {
    "collapsed": true
   },
   "outputs": [],
   "source": [
    "signerror_1_med = []\n",
    "signerror_2_med = []\n",
    "signerror_3_med = []\n",
    "for stim in np.sort(D[1].keys()):\n",
    "    signerror_1_med.append(D[1][stim]['sign_error_median'])\n",
    "for stim in np.sort(D[2].keys()):\n",
    "    signerror_2_med.append(D[2][stim]['sign_error_median'])\n",
    "for stim in np.sort(D[3].keys()):\n",
    "    signerror_3_med.append(D[3][stim]['sign_error_median'])"
   ]
  },
  {
   "cell_type": "code",
   "execution_count": 88,
   "metadata": {
    "collapsed": true
   },
   "outputs": [],
   "source": [
    "SD_signerror_1_med = []\n",
    "SD_signerror_2_med = []\n",
    "SD_signerror_3_med = []\n",
    "for stim in np.sort(D[1].keys()):\n",
    "    SD_signerror_1_med.append(D[1][stim]['sign_error_SD'])\n",
    "for stim in np.sort(D[2].keys()):\n",
    "    SD_signerror_2_med.append(D[2][stim]['sign_error_SD'])\n",
    "for stim in np.sort(D[3].keys()):\n",
    "    SD_signerror_3_med.append(D[3][stim]['sign_error_SD'])"
   ]
  },
  {
   "cell_type": "code",
   "execution_count": 89,
   "metadata": {
    "collapsed": true
   },
   "outputs": [],
   "source": [
    "SE_signerror_1_med = SD_signerror_1_med/np.sqrt(n_subj)\n",
    "SE_signerror_2_med = SD_signerror_2_med/np.sqrt(n_subj)\n",
    "SE_signerror_3_med = SD_signerror_3_med/np.sqrt(n_subj)"
   ]
  },
  {
   "cell_type": "code",
   "execution_count": 90,
   "metadata": {
    "collapsed": true
   },
   "outputs": [],
   "source": [
    "SD_1_med = []\n",
    "SD_2_med = []\n",
    "SD_3_med = []\n",
    "for stim in np.sort(D[1].keys()):\n",
    "    SD_1_med.append(D[1][stim]['SD_median'])\n",
    "for stim in np.sort(D[2].keys()):\n",
    "    SD_2_med.append(D[2][stim]['SD_median'])\n",
    "for stim in np.sort(D[3].keys()):\n",
    "    SD_3_med.append(D[3][stim]['SD_median'])"
   ]
  },
  {
   "cell_type": "markdown",
   "metadata": {},
   "source": [
    "## Bias"
   ]
  },
  {
   "cell_type": "code",
   "execution_count": 91,
   "metadata": {
    "collapsed": false
   },
   "outputs": [
    {
     "data": {
      "image/png": "[encoded data removed]",
      "text/plain": [
       "<matplotlib.figure.Figure at 0x10c7dc190>"
      ]
     },
     "metadata": {},
     "output_type": "display_data"
    }
   ],
   "source": [
    "fig = plt.figure(figsize=(12,16))\n",
    "fig1 = plt.subplot(3,1,1)\n",
    "fig1.plot(xvals, signerror_1_med, 'o-', color=pal[0])\n",
    "fig1.errorbar(xvals, signerror_1_med, yerr=SE_signerror_1_med*1.96, color=pal[0])\n",
    "fig1.plot([0,1], [0,0], color='black', linestyle='-')\n",
    "plt.title('Signed Error By Position Positive')\n",
    "plt.xlabel('Line position in % Positive', labelpad = 4)\n",
    "plt.ylabel('Error')\n",
    "plt.ylim([-0.07,0.07])\n",
    "plt.yticks(([-0.07,-0.05,-0.03,-0.01,0.01,0.03,0.05,0.07]))\n",
    "\n",
    "fig2 = plt.subplot(3,1,2)\n",
    "fig2.plot(xvals, signerror_2_med, 'o-', color=pal[1])\n",
    "fig2.errorbar(xvals, signerror_2_med, yerr=SE_signerror_2_med*1.96, color=pal[1])\n",
    "fig2.plot([0,1], [0,0], color='black', linestyle='-')\n",
    "plt.title('Signed Error By Position Mixed')\n",
    "plt.xlabel('Line position in % Mixed', labelpad = 4)\n",
    "plt.ylabel('Error')\n",
    "plt.ylim([-0.07,0.07])\n",
    "plt.yticks(([-0.07,-0.05,-0.03,-0.01,0.01,0.03,0.05,0.07]))\n",
    "\n",
    "fig3 = plt.subplot(3,1,3)\n",
    "fig3.plot(xvals, signerror_3_med,'o-', color=pal[2])\n",
    "fig3.errorbar(xvals, signerror_3_med, yerr=SE_signerror_3_med*1.96, color=pal[2])\n",
    "fig3.plot([0,1], [0,0], color='black', linestyle='-')\n",
    "plt.title('Signed Error By Position Word')\n",
    "plt.xlabel('Line position in % Word', labelpad = 4)\n",
    "plt.ylabel('Error')\n",
    "plt.ylim([-0.07,0.07])\n",
    "plt.yticks(([-0.07,-0.05,-0.03,-0.01,0.01,0.03,0.05,0.07]))\n",
    "\n",
    "plt.subplots_adjust(hspace=.6)\n",
    "sns.despine()"
   ]
  },
  {
   "cell_type": "markdown",
   "metadata": {},
   "source": [
    "## Variance"
   ]
  },
  {
   "cell_type": "code",
   "execution_count": 92,
   "metadata": {
    "collapsed": false
   },
   "outputs": [
    {
     "data": {
      "image/png": "[encoded data removed]",
      "text/plain": [
       "<matplotlib.figure.Figure at 0x1101bf0d0>"
      ]
     },
     "metadata": {},
     "output_type": "display_data"
    }
   ],
   "source": [
    "fig = plt.figure(figsize=(12,12))\n",
    "fig1 = plt.subplot(3,1,1)\n",
    "fig1.plot(xvals, SD_1_med, 'o-', color=pal[0])\n",
    "plt.title('SD Signed Error By Position Positive')\n",
    "plt.xlabel('Line position in % Positive', labelpad = 4)\n",
    "plt.ylabel('SD')\n",
    "plt.ylim([0,0.05])\n",
    "plt.yticks(([0.02,0.04,0.06]))\n",
    "\n",
    "fig2 = plt.subplot(3,1,2)\n",
    "fig2.plot(xvals, SD_2_med, 'o-', color=pal[1])\n",
    "plt.title('SD Signed Error By Position Mixed')\n",
    "plt.xlabel('Line position in % Mixed', labelpad = 4)\n",
    "plt.ylabel('SD')\n",
    "plt.ylim([0,0.05])\n",
    "plt.yticks(([0.02,0.04,0.06]))\n",
    "\n",
    "fig3 = plt.subplot(3,1,3)\n",
    "fig3.plot(xvals, SD_3_med, 'o-', color=pal[2])\n",
    "plt.title('SD Signed Error By Position Word')\n",
    "plt.xlabel('Line position in % Word', labelpad = 4)\n",
    "plt.ylabel('SD')\n",
    "plt.ylim([0,0.05])\n",
    "plt.yticks(([0.02,0.04,0.06]))\n",
    "\n",
    "plt.subplots_adjust(hspace=.7)\n",
    "sns.despine()"
   ]
  },
  {
   "cell_type": "code",
   "execution_count": 93,
   "metadata": {
    "collapsed": false
   },
   "outputs": [],
   "source": [
    "error = position_tasks['AbsError'].mean()\n",
    "error_std = position_tasks['AbsError'].std()\n",
    "error_se = error_std/np.sqrt(n_subj)"
   ]
  },
  {
   "cell_type": "code",
   "execution_count": 94,
   "metadata": {
    "collapsed": false
   },
   "outputs": [],
   "source": [
    "error_1 = error.iloc[0:16]\n",
    "error_2 = error.iloc[16:32]\n",
    "error_3 = error.iloc[32:48]\n",
    "#error_1 = error.iloc[0:14]\n",
    "#error_2 = error.iloc[14:30]\n",
    "#error_3 = error.iloc[30:46]"
   ]
  },
  {
   "cell_type": "code",
   "execution_count": 95,
   "metadata": {
    "collapsed": false
   },
   "outputs": [
    {
     "ename": "AttributeError",
     "evalue": "'numpy.ndarray' object has no attribute 'get_values'",
     "output_type": "error",
     "traceback": [
      "\u001b[0;31m---------------------------------------------------------------------------\u001b[0m",
      "\u001b[0;31mAttributeError\u001b[0m                            Traceback (most recent call last)",
      "\u001b[0;32m<ipython-input-95-9ea5a4a6d84d>\u001b[0m in \u001b[0;36m<module>\u001b[0;34m()\u001b[0m\n\u001b[0;32m----> 1\u001b[0;31m \u001b[0mrts_1\u001b[0m \u001b[0;34m=\u001b[0m \u001b[0mrts_1\u001b[0m\u001b[0;34m.\u001b[0m\u001b[0mget_values\u001b[0m\u001b[0;34m(\u001b[0m\u001b[0;34m)\u001b[0m\u001b[0;34m\u001b[0m\u001b[0m\n\u001b[0m\u001b[1;32m      2\u001b[0m \u001b[0mrts_2\u001b[0m \u001b[0;34m=\u001b[0m \u001b[0mrts_2\u001b[0m\u001b[0;34m.\u001b[0m\u001b[0mget_values\u001b[0m\u001b[0;34m(\u001b[0m\u001b[0;34m)\u001b[0m\u001b[0;34m\u001b[0m\u001b[0m\n\u001b[1;32m      3\u001b[0m \u001b[0mrts_3\u001b[0m \u001b[0;34m=\u001b[0m \u001b[0mrts_3\u001b[0m\u001b[0;34m.\u001b[0m\u001b[0mget_values\u001b[0m\u001b[0;34m(\u001b[0m\u001b[0;34m)\u001b[0m\u001b[0;34m\u001b[0m\u001b[0m\n",
      "\u001b[0;31mAttributeError\u001b[0m: 'numpy.ndarray' object has no attribute 'get_values'"
     ]
    }
   ],
   "source": [
    "rts_1 = rts_1.get_values()\n",
    "rts_2 = rts_2.get_values()\n",
    "rts_3 = rts_3.get_values()"
   ]
  },
  {
   "cell_type": "code",
   "execution_count": null,
   "metadata": {
    "collapsed": false
   },
   "outputs": [],
   "source": [
    "error_1 = error_1.get_values()\n",
    "error_2 = error_2.get_values()\n",
    "error_3 = error_3.get_values()"
   ]
  },
  {
   "cell_type": "code",
   "execution_count": null,
   "metadata": {
    "collapsed": false
   },
   "outputs": [],
   "source": [
    "#len(rts_3)"
   ]
  },
  {
   "cell_type": "code",
   "execution_count": null,
   "metadata": {
    "collapsed": false
   },
   "outputs": [],
   "source": [
    "fig = plt.figure(figsize=(12,12))\n",
    "fig1 = plt.subplot(3,1,1)\n",
    "fig1.plot(xvals, rts_1, 'o-', color=pal[0])\n",
    "fig1.errorbar(xvals, rts_1, yerr=rts_se_1*1.96)\n",
    "plt.title('Mean RT By Position N+')\n",
    "plt.xlabel('0 to 100', labelpad = 4)\n",
    "plt.ylabel('Mean RT')\n",
    "plt.ylim([1.5,2.5])\n",
    "plt.yticks(([1.5,2,2.5]))\n",
    "\n",
    "fig2 = plt.subplot(3,1,2)\n",
    "fig2.plot(xvals, rts_2, color=pal[1], marker='s')\n",
    "fig2.errorbar(xvals, rts_2, yerr=rts_se_2*1.96, color=pal[1])\n",
    "plt.title('Mean RT By Position N-/+')\n",
    "plt.xlabel('0 to 100', labelpad = 4)\n",
    "plt.ylabel('Mean RT')\n",
    "plt.ylim([1.5,2.5])\n",
    "plt.yticks(([1.5,2,2.5]))\n",
    "\n",
    "fig3 = plt.subplot(3,1,3)\n",
    "fig3.plot(xvals, rts_3, color=pal[2], marker='p')\n",
    "fig3.errorbar(xvals, rts_3, yerr=rts_se_3*1.96, color=pal[2])\n",
    "plt.title('Mean RT By Position Word')\n",
    "plt.xlabel('0 to 100', labelpad = 4)\n",
    "plt.ylabel('Mean RT')\n",
    "plt.ylim([1.5,2.5])\n",
    "plt.yticks(([1.5,2,2.5]))\n",
    "\n",
    "plt.subplots_adjust(hspace=.4)"
   ]
  },
  {
   "cell_type": "code",
   "execution_count": null,
   "metadata": {
    "collapsed": false
   },
   "outputs": [],
   "source": [
    "rts_1corr = rts_1 - rts_3\n",
    "rts_2corr = rts_2 - rts_3\n",
    "fig = plt.figure(figsize=(12,12))\n",
    "fig1 = plt.subplot(2,1,1)\n",
    "fig1.plot(xvals, rts_1corr, 'o-', color=pal[0])\n",
    "fig1.plot([0,1], [0,0], color='black', linestyle='-')\n",
    "fig1.errorbar(xvals, rts_1corr, yerr=rts_se_1*1.96)\n",
    "plt.title('Mean RT (minus word) By Position N+')\n",
    "plt.xlabel('0 to 100', labelpad = 4)\n",
    "plt.ylabel('Mean RT')\n",
    "plt.ylim([-0.3,0.3])\n",
    "plt.yticks(([-0.3,-0.15,0,0.15,0.3]))\n",
    "\n",
    "fig2 = plt.subplot(2,1,2)\n",
    "fig2.plot(xvals, rts_2corr, color=pal[1], marker='s')\n",
    "fig2.plot([0,1], [0,0], color='black', linestyle='-')\n",
    "fig2.errorbar(xvals, rts_2corr, yerr=rts_se_2*1.96, color=pal[1])\n",
    "plt.title('Mean RT (minus word) By Position N-/+')\n",
    "plt.xlabel('0 to 100', labelpad = 4)\n",
    "plt.ylabel('Mean RT')\n",
    "plt.ylim([-0.3,0.3])\n",
    "plt.yticks(([-0.3,-0.15,0,0.15,0.3]))"
   ]
  },
  {
   "cell_type": "markdown",
   "metadata": {},
   "source": [
    "## PAE by position (averages across subjects)"
   ]
  },
  {
   "cell_type": "markdown",
   "metadata": {},
   "source": [
    "next code is doing the average for each subject first and then taking the standard deviation"
   ]
  },
  {
   "cell_type": "code",
   "execution_count": null,
   "metadata": {
    "collapsed": true
   },
   "outputs": [],
   "source": [
    "D = {}\n",
    "for sub in responded_subj.groups.keys():\n",
    "    for pos in position_tasks.groups.keys():\n",
    "        task = pos[0]\n",
    "        stim = pos[1]\n",
    "        if D.get(task,0) == 0:\n",
    "            D[task] = {}\n",
    "        if D[task].get(stim,0) == 0:\n",
    "            D[task][stim] = []\n",
    "        D[task][stim].append(position_tasks.get_group((task,stim)).loc[sub]['AbsError'].mean())"
   ]
  },
  {
   "cell_type": "code",
   "execution_count": null,
   "metadata": {
    "collapsed": true
   },
   "outputs": [],
   "source": [
    "for task in D:\n",
    "    #print task\n",
    "    for stim in D[task]:\n",
    "        D[task][stim] = np.nanstd(D[task][stim])"
   ]
  },
  {
   "cell_type": "code",
   "execution_count": null,
   "metadata": {
    "collapsed": true
   },
   "outputs": [],
   "source": [
    "error_std_1 = []\n",
    "error_std_2 = []\n",
    "error_std_3 = []\n",
    "for stim in D[1]:\n",
    "    error_std_1.append(D[1][stim])\n",
    "for stim in D[2]:\n",
    "    error_std_2.append(D[2][stim])\n",
    "for stim in D[3]:\n",
    "    error_std_3.append(D[3][stim])"
   ]
  },
  {
   "cell_type": "code",
   "execution_count": null,
   "metadata": {
    "collapsed": true
   },
   "outputs": [],
   "source": [
    "error_se_1 = error_std_1/np.sqrt(n_subj)\n",
    "error_se_2 = error_std_2/np.sqrt(n_subj)\n",
    "error_se_3 = error_std_3/np.sqrt(n_subj)"
   ]
  },
  {
   "cell_type": "code",
   "execution_count": null,
   "metadata": {
    "collapsed": false
   },
   "outputs": [],
   "source": [
    "fig = plt.figure(figsize=(12,12))\n",
    "fig1 = plt.subplot(3,1,1)\n",
    "fig1.plot(xvals, error_1, 'o-', color=pal[0])\n",
    "fig1.errorbar(xvals, error_1, yerr=error_se_1*1.96, color=pal[0])\n",
    "plt.title('Mean Absolute Error By Position N+')\n",
    "plt.xlabel('0 to 100', labelpad = 4)\n",
    "plt.ylabel('MAE')\n",
    "plt.ylim([0,0.075])\n",
    "plt.yticks(([0.0,0.025,0.05,0.075]))\n",
    "\n",
    "fig2 = plt.subplot(3,1,2)\n",
    "fig2.plot(xvals, error_2, color=pal[1], marker='s')\n",
    "fig2.errorbar(xvals, error_2, yerr=error_se_2*1.96, color=pal[1])\n",
    "plt.title('Mean Absolute Error By Position N-/+')\n",
    "plt.xlabel('0 to 100', labelpad = 4)\n",
    "plt.ylabel('MAE')\n",
    "plt.ylim([0,0.075])\n",
    "plt.yticks(([0.0,0.025,0.05,0.075]))\n",
    "\n",
    "fig3 = plt.subplot(3,1,3)\n",
    "fig3.plot(xvals, error_3, color=pal[2], marker='p')\n",
    "fig3.errorbar(xvals, error_3, yerr=error_se_3*1.96, color=pal[2])\n",
    "plt.title('Mean Absolute Error By Position Word')\n",
    "plt.xlabel('0 to 100', labelpad = 4)\n",
    "plt.ylabel('MAE')\n",
    "plt.ylim([0,0.075])\n",
    "plt.yticks(([0.0,0.025,0.05,0.075]))\n",
    "\n",
    "plt.subplots_adjust(hspace=.4)"
   ]
  },
  {
   "cell_type": "code",
   "execution_count": null,
   "metadata": {
    "collapsed": false
   },
   "outputs": [],
   "source": [
    "fig = plt.figure(figsize=(12,12))\n",
    "fig1 = plt.subplot(3,1,1)\n",
    "fig1.plot(xvals, error_1, 'o-', color=pal[0])\n",
    "fig1.errorbar(xvals, error_1, yerr=error_se[0:16]*1.96, color=pal[0])\n",
    "plt.title('Mean Absolute Error By Position N+')\n",
    "plt.xlabel('0 to 100', labelpad = 4)\n",
    "plt.ylabel('MAE')\n",
    "plt.ylim([0,0.075])\n",
    "plt.yticks(([0.0,0.025,0.05,0.075]))\n",
    "\n",
    "fig2 = plt.subplot(3,1,2)\n",
    "fig2.plot(xvals, error_2, color=pal[1], marker='s')\n",
    "fig2.errorbar(xvals, error_2, yerr=error_se[16:32]*1.96, color=pal[1])\n",
    "plt.title('Mean Absolute Error By Position N-/+')\n",
    "plt.xlabel('0 to 100', labelpad = 4)\n",
    "plt.ylabel('MAE')\n",
    "plt.ylim([0,0.075])\n",
    "plt.yticks(([0.0,0.025,0.05,0.075]))\n",
    "\n",
    "fig3 = plt.subplot(3,1,3)\n",
    "fig3.plot(xvals, error_3, color=pal[2], marker='p')\n",
    "fig3.errorbar(xvals, error_3, yerr=error_se[32:]*1.96, color=pal[2])\n",
    "plt.title('Mean Absolute Error By Position Word')\n",
    "plt.xlabel('0 to 100', labelpad = 4)\n",
    "plt.ylabel('MAE')\n",
    "plt.ylim([0,0.075])\n",
    "plt.yticks(([0.0,0.025,0.05,0.075]))\n",
    "\n",
    "plt.subplots_adjust(hspace=.4)"
   ]
  },
  {
   "cell_type": "markdown",
   "metadata": {},
   "source": [
    "###Signed error is calculated as Response - Correct"
   ]
  },
  {
   "cell_type": "code",
   "execution_count": null,
   "metadata": {
    "collapsed": false
   },
   "outputs": [],
   "source": [
    "signerror = position_tasks['Error'].mean()\n",
    "STDsignerror = position_tasks['Error'].std()\n",
    "signerror_1 = signerror.iloc[0:16]\n",
    "signerror_2 = signerror.iloc[16:32]\n",
    "signerror_3 = signerror.iloc[32:48]\n",
    "STDsignerror_1 = STDsignerror.iloc[0:16]\n",
    "STDsignerror_2 = STDsignerror.iloc[16:32]\n",
    "STDsignerror_3 = STDsignerror.iloc[32:48]\n",
    "signerror_1 = signerror_1.get_values()\n",
    "signerror_2 = signerror_2.get_values()\n",
    "signerror_3 = signerror_3.get_values()\n",
    "STDsignerror_1 = STDsignerror_1.get_values()\n",
    "STDsignerror_2 = STDsignerror_2.get_values()\n",
    "STDsignerror_3 = STDsignerror_3.get_values()\n",
    "SEsignerror_1 = STDsignerror_1/np.sqrt(n_subj)\n",
    "SEsignerror_2 = STDsignerror_2/np.sqrt(n_subj)\n",
    "SEsignerror_3 = STDsignerror_3/np.sqrt(n_subj)"
   ]
  },
  {
   "cell_type": "code",
   "execution_count": null,
   "metadata": {
    "collapsed": false
   },
   "outputs": [],
   "source": [
    "fig = plt.figure(figsize=(12,12))\n",
    "fig1 = plt.subplot(3,1,1)\n",
    "fig1.plot(xvals, signerror_1, 'o-', color=pal[0])\n",
    "fig1.errorbar(xvals, signerror_1, yerr=SEsignerror_1*1.96, color=pal[0])\n",
    "plt.title('Signed Error By Position N+')\n",
    "plt.xlabel('0 to 100', labelpad = 4)\n",
    "plt.ylabel('Error')\n",
    "plt.ylim([-0.09,0.09])\n",
    "plt.yticks(([-0.09,-0.045,0,0.045,0.09]))\n",
    "\n",
    "fig2 = plt.subplot(3,1,2)\n",
    "fig2.plot(xvals, signerror_2, color=pal[1], marker='s')\n",
    "fig2.errorbar(xvals, signerror_2, yerr=SEsignerror_2*1.96, color=pal[1])\n",
    "plt.title('Signed Error By Position N-/+')\n",
    "plt.xlabel('0 to 100', labelpad = 4)\n",
    "plt.ylabel('Error')\n",
    "plt.ylim([-0.09,0.09])\n",
    "plt.yticks(([-0.09,-0.045,0,0.045,0.09]))\n",
    "\n",
    "fig3 = plt.subplot(3,1,3)\n",
    "fig3.plot(xvals, signerror_3, color=pal[2], marker='p')\n",
    "fig3.errorbar(xvals, signerror_3, yerr=SEsignerror_3*1.96, color=pal[2])\n",
    "plt.title('Signed Error By Position Word')\n",
    "plt.xlabel('0 to 100', labelpad = 4)\n",
    "plt.ylabel('Error')\n",
    "plt.ylim([-0.09,0.09])\n",
    "plt.yticks(([-0.09,-0.045,0,0.045,0.09]))\n",
    "\n",
    "plt.subplots_adjust(hspace=.4)"
   ]
  },
  {
   "cell_type": "markdown",
   "metadata": {},
   "source": [
    " Positive values in the graph above mean participant overestimated, negative values mean participant underestimated. In the -/+ task participants tend to give answers further from the endpoints than they should (This might have to do with the fact that the line is divided in 200 units unlike + task)."
   ]
  },
  {
   "cell_type": "markdown",
   "metadata": {},
   "source": [
    "Signed error plot with standard error calculated by first taking the mean of 3 estimates per subject and then taking std across different subjects"
   ]
  },
  {
   "cell_type": "code",
   "execution_count": null,
   "metadata": {
    "collapsed": false
   },
   "outputs": [],
   "source": [
    "D = {}\n",
    "for sub in responded_subj.groups.keys():\n",
    "    for pos in position_tasks.groups.keys():\n",
    "        task = pos[0]\n",
    "        stim = pos[1]\n",
    "        if D.get(task,0) == 0:\n",
    "            D[task] = {}\n",
    "        if D[task].get(stim,0) == 0:\n",
    "            D[task][stim] = []\n",
    "        D[task][stim].append(position_tasks.get_group((task,stim)).loc[sub]['Error'].mean())"
   ]
  },
  {
   "cell_type": "code",
   "execution_count": null,
   "metadata": {
    "collapsed": false
   },
   "outputs": [],
   "source": [
    "for task in D:\n",
    "    #print task\n",
    "    for stim in D[task]:\n",
    "        D[task][stim] = np.nanmean(D[task][stim])"
   ]
  },
  {
   "cell_type": "code",
   "execution_count": null,
   "metadata": {
    "collapsed": false
   },
   "outputs": [],
   "source": [
    "SDsignerror_1 = []\n",
    "SDsignerror_2 = []\n",
    "SDsignerror_3 = []\n",
    "for stim in D[1]:\n",
    "    SDsignerror_1.append(D[1][stim])\n",
    "for stim in D[2]:\n",
    "    SDsignerror_2.append(D[2][stim])\n",
    "for stim in D[3]:\n",
    "    SDsignerror_3.append(D[3][stim])"
   ]
  },
  {
   "cell_type": "code",
   "execution_count": null,
   "metadata": {
    "collapsed": true
   },
   "outputs": [],
   "source": [
    "SE_signerror_1 = SDsignerror_1/np.sqrt(n_subj)\n",
    "SE_signerror_2 = SDsignerror_2/np.sqrt(n_subj)\n",
    "SE_signerror_3 = SDsignerror_3/np.sqrt(n_subj)"
   ]
  },
  {
   "cell_type": "code",
   "execution_count": null,
   "metadata": {
    "collapsed": false
   },
   "outputs": [],
   "source": [
    "fig = plt.figure(figsize=(12,12))\n",
    "fig1 = plt.subplot(3,1,1)\n",
    "fig1.plot(xvals, signerror_1, 'o-', color=pal[0])\n",
    "fig1.errorbar(xvals, signerror_1, yerr=SE_signerror_1*1.96, color=pal[0])\n",
    "plt.title('Signed Error By Position N+')\n",
    "plt.xlabel('0 to 100', labelpad = 4)\n",
    "plt.ylabel('Error')\n",
    "plt.ylim([-0.09,0.09])\n",
    "plt.yticks(([-0.09,-0.045,0,0.045,0.09]))\n",
    "\n",
    "fig2 = plt.subplot(3,1,2)\n",
    "fig2.plot(xvals, signerror_2, color=pal[1], marker='s')\n",
    "fig2.errorbar(xvals, signerror_2, yerr=SE_signerror_2*1.96, color=pal[1])\n",
    "plt.title('Signed Error By Position N-/+')\n",
    "plt.xlabel('0 to 100', labelpad = 4)\n",
    "plt.ylabel('Error')\n",
    "plt.ylim([-0.09,0.09])\n",
    "plt.yticks(([-0.09,-0.045,0,0.045,0.09]))\n",
    "\n",
    "fig3 = plt.subplot(3,1,3)\n",
    "fig3.plot(xvals, signerror_3, color=pal[2], marker='p')\n",
    "fig3.errorbar(xvals, signerror_3, yerr=SE_signerror_3*1.96, color=pal[2])\n",
    "plt.title('Signed Error By Position Word')\n",
    "plt.xlabel('0 to 100', labelpad = 4)\n",
    "plt.ylabel('Error')\n",
    "plt.ylim([-0.09,0.09])\n",
    "plt.yticks(([-0.09,-0.045,0,0.045,0.09]))\n",
    "\n",
    "plt.subplots_adjust(hspace=.4)"
   ]
  },
  {
   "cell_type": "markdown",
   "metadata": {},
   "source": [
    "## SD calculated as SD of all data of a specific position"
   ]
  },
  {
   "cell_type": "code",
   "execution_count": null,
   "metadata": {
    "collapsed": false
   },
   "outputs": [],
   "source": [
    "fig = plt.figure(figsize=(12,12))\n",
    "fig1 = plt.subplot(3,1,1)\n",
    "fig1.plot(xvals, STDsignerror_1, 'o-', color=pal[0])\n",
    "plt.title('SD Signed Error By Position N+')\n",
    "plt.xlabel('0 to 100', labelpad = 4)\n",
    "plt.ylabel('SD')\n",
    "plt.ylim([0,0.2])\n",
    "plt.yticks(([0.033,0.066,0.1,0.133,0.166,0.2]))\n",
    "\n",
    "fig2 = plt.subplot(3,1,2)\n",
    "fig2.plot(xvals, STDsignerror_2, color=pal[1], marker='s')\n",
    "plt.title('SD Signed Error By Position N-/+')\n",
    "plt.xlabel('0 to 100', labelpad = 4)\n",
    "plt.ylabel('SD')\n",
    "plt.ylim([0,0.2])\n",
    "plt.yticks(([0.033,0.066,0.1,0.133,0.166,0.2]))\n",
    "\n",
    "fig3 = plt.subplot(3,1,3)\n",
    "fig3.plot(xvals, STDsignerror_3, color=pal[2], marker='p')\n",
    "plt.title('SD Signed Error By Position Word')\n",
    "plt.xlabel('0 to 100', labelpad = 4)\n",
    "plt.ylabel('SD')\n",
    "plt.ylim([0,0.2])\n",
    "plt.yticks(([0.033,0.066,0.1,0.133,0.166,0.2]))\n",
    "\n",
    "plt.subplots_adjust(hspace=.4)"
   ]
  },
  {
   "cell_type": "code",
   "execution_count": null,
   "metadata": {
    "collapsed": false
   },
   "outputs": [],
   "source": [
    "#Basis to extract SD for each subject and then conduct average across subjects\n",
    "#position_tasks.get_group((1,0.03)).loc['s_02009']['Error'].std()"
   ]
  },
  {
   "cell_type": "markdown",
   "metadata": {},
   "source": [
    "## SD calculated as std of each subject and then averaging the individual std"
   ]
  },
  {
   "cell_type": "markdown",
   "metadata": {},
   "source": [
    "###Only 3 datapoints per position per subject so estimate will have a lot of varriability"
   ]
  },
  {
   "cell_type": "code",
   "execution_count": null,
   "metadata": {
    "collapsed": false
   },
   "outputs": [],
   "source": [
    "D = {}\n",
    "for sub in responded_subj.groups.keys():\n",
    "    for pos in position_tasks.groups.keys():\n",
    "        task = pos[0]\n",
    "        stim = pos[1]\n",
    "        if D.get(task,0) == 0:\n",
    "            D[task] = {}\n",
    "        if D[task].get(stim,0) == 0:\n",
    "            D[task][stim] = []\n",
    "        D[task][stim].append(position_tasks.get_group((task,stim)).loc[sub]['Error'].std())"
   ]
  },
  {
   "cell_type": "code",
   "execution_count": null,
   "metadata": {
    "collapsed": false
   },
   "outputs": [],
   "source": [
    "for task in D:\n",
    "    #print task\n",
    "    for stim in D[task]:\n",
    "        D[task][stim] = np.nanmean(D[task][stim])"
   ]
  },
  {
   "cell_type": "code",
   "execution_count": null,
   "metadata": {
    "collapsed": false
   },
   "outputs": [],
   "source": [
    "STDsignerror_1_2 = []\n",
    "STDsignerror_2_2 = []\n",
    "STDsignerror_3_2 = []\n",
    "for stim in D[1]:\n",
    "    STDsignerror_1_2.append(D[1][stim])\n",
    "for stim in D[2]:\n",
    "    STDsignerror_2_2.append(D[2][stim])\n",
    "for stim in D[3]:\n",
    "    STDsignerror_3_2.append(D[3][stim])"
   ]
  },
  {
   "cell_type": "code",
   "execution_count": null,
   "metadata": {
    "collapsed": false
   },
   "outputs": [],
   "source": [
    "fig = plt.figure(figsize=(12,12))\n",
    "fig1 = plt.subplot(3,1,1)\n",
    "fig1.plot(xvals, STDsignerror_1, 'o-', color=pal[0])\n",
    "plt.title('SD Signed Error By Position N+')\n",
    "plt.xlabel('0 to 100', labelpad = 4)\n",
    "plt.ylabel('SD')\n",
    "plt.ylim([0,0.15])\n",
    "plt.yticks(([0.05,0.1,0.15]))\n",
    "\n",
    "fig2 = plt.subplot(3,1,2)\n",
    "fig2.plot(xvals, STDsignerror_2, color=pal[1], marker='s')\n",
    "plt.title('SD Signed Error By Position N+/-')\n",
    "plt.xlabel('0 to 100', labelpad = 4)\n",
    "plt.ylabel('SD')\n",
    "plt.ylim([0,0.15])\n",
    "plt.yticks(([0.05,0.1,0.15]))\n",
    "\n",
    "fig3 = plt.subplot(3,1,3)\n",
    "fig3.plot(xvals, STDsignerror_3, color=pal[2], marker='p')\n",
    "plt.title('SD Signed Error By Position Word')\n",
    "plt.xlabel('0 to 100', labelpad = 4)\n",
    "plt.ylabel('SD')\n",
    "plt.ylim([0,0.15])\n",
    "plt.yticks(([0.05,0.1,0.15]))\n",
    "\n",
    "plt.subplots_adjust(hspace=.4)"
   ]
  },
  {
   "cell_type": "code",
   "execution_count": null,
   "metadata": {
    "collapsed": true
   },
   "outputs": [],
   "source": [
    "#For mean error as well can be calculated this way\n",
    "D2 = {}\n",
    "for sub in responded_subj.groups.keys():\n",
    "    for pos in position_tasks.groups.keys():\n",
    "        task = pos[0]\n",
    "        stim = pos[1]\n",
    "        if D2.get(task,0) == 0:\n",
    "            D2[task] = {}\n",
    "        if D2[task].get(stim,0) == 0:\n",
    "            D2[task][stim] = []\n",
    "        D2[task][stim].append(position_tasks.get_group((task,stim)).loc[sub]['Error'].mean())"
   ]
  },
  {
   "cell_type": "markdown",
   "metadata": {},
   "source": [
    "##Correlate PAE Vs Landmark Distance"
   ]
  },
  {
   "cell_type": "markdown",
   "metadata": {},
   "source": [
    "### Distance from 0"
   ]
  },
  {
   "cell_type": "code",
   "execution_count": null,
   "metadata": {
    "collapsed": false
   },
   "outputs": [],
   "source": [
    "dist_0 = xvals\n",
    "dist_0"
   ]
  },
  {
   "cell_type": "markdown",
   "metadata": {},
   "source": [
    "### Distance from 50"
   ]
  },
  {
   "cell_type": "code",
   "execution_count": null,
   "metadata": {
    "collapsed": false
   },
   "outputs": [],
   "source": [
    "dist_50 = abs(xvals-0.5)\n",
    "dist_50"
   ]
  },
  {
   "cell_type": "markdown",
   "metadata": {},
   "source": [
    "### Distance from 100"
   ]
  },
  {
   "cell_type": "code",
   "execution_count": null,
   "metadata": {
    "collapsed": false
   },
   "outputs": [],
   "source": [
    "dist_100 = abs(xvals - 1)\n",
    "dist_100"
   ]
  },
  {
   "cell_type": "markdown",
   "metadata": {},
   "source": [
    "### Distance from Landmark"
   ]
  },
  {
   "cell_type": "code",
   "execution_count": null,
   "metadata": {
    "collapsed": false
   },
   "outputs": [],
   "source": [
    "dist_Land = pd.DataFrame([dist_0, dist_50, dist_100]).min()\n",
    "dist_Land"
   ]
  },
  {
   "cell_type": "markdown",
   "metadata": {},
   "source": [
    "## PAE vs Landmark Distane (across subjects)"
   ]
  },
  {
   "cell_type": "code",
   "execution_count": null,
   "metadata": {
    "collapsed": false
   },
   "outputs": [],
   "source": [
    "m1, b1 = np.polyfit(dist_Land,error_1,1)\n",
    "fig = plt.figure(figsize=(12,12))\n",
    "fig1 = plt.subplot(3,1,1)\n",
    "fig1.plot(dist_Land, error_1, 'o', color=pal[0])\n",
    "plt.plot(dist_Land, m1*dist_Land + b1, '-', color=pal[0])\n",
    "plt.title('MAE Vs. Landmark Distance N+')\n",
    "plt.xlabel('Landmark Distance', labelpad = 4)\n",
    "plt.ylabel('MAE')\n",
    "plt.ylim([0,0.06])\n",
    "plt.yticks(([0.02,0.04,0.06]))\n",
    "\n",
    "m2, b2 = np.polyfit(dist_Land,error_2,1)\n",
    "fig2 = plt.subplot(3,1,2)\n",
    "fig2.plot(dist_Land, error_2, 'o', color=pal[1])\n",
    "plt.plot(dist_Land, m2*dist_Land + b2, '-', color=pal[1])\n",
    "plt.title('MAE Vs. Landmark Distance N+/-')\n",
    "plt.xlabel('Landmark Distance', labelpad = 4)\n",
    "plt.ylabel('MAE')\n",
    "plt.ylim([0,0.06])\n",
    "plt.yticks(([0.02,0.04,0.06]))\n",
    "\n",
    "m3, b3 = np.polyfit(dist_Land,error_3,1)\n",
    "fig3 = plt.subplot(3,1,3)\n",
    "fig3.plot(dist_Land, error_3, 'o', color=pal[2])\n",
    "plt.plot(dist_Land, m3*dist_Land + b3, '-', color=pal[2])\n",
    "plt.title('MAE Vs. Landmark Distance Word')\n",
    "plt.xlabel('Landmark Distance', labelpad = 4)\n",
    "plt.ylabel('MAE')\n",
    "plt.ylim([0,0.06])\n",
    "plt.yticks(([0.02,0.04,0.06]))\n",
    "\n",
    "plt.subplots_adjust(hspace=.4)"
   ]
  },
  {
   "cell_type": "markdown",
   "metadata": {},
   "source": [
    "### Slope+,  Slope-,  Slopew"
   ]
  },
  {
   "cell_type": "code",
   "execution_count": null,
   "metadata": {
    "collapsed": false
   },
   "outputs": [],
   "source": [
    "print m1, m2, m3"
   ]
  },
  {
   "cell_type": "code",
   "execution_count": null,
   "metadata": {
    "collapsed": false
   },
   "outputs": [],
   "source": [
    "from scipy.stats import linregress\n",
    "slope1, intercept1, r1, p1, stderr1 = linregress(dist_Land,error_1)\n",
    "slope2, intercept2, r2, p2, stderr2 = linregress(dist_Land,error_2)\n",
    "slope3, intercept3, r3, p3, stderr3 = linregress(dist_Land,error_3)"
   ]
  },
  {
   "cell_type": "markdown",
   "metadata": {},
   "source": [
    "### r +,  r -,  r w"
   ]
  },
  {
   "cell_type": "code",
   "execution_count": null,
   "metadata": {
    "collapsed": false
   },
   "outputs": [],
   "source": [
    "print 'r1', r1\n",
    "print 'r2', r2\n",
    "print 'r3', r3"
   ]
  },
  {
   "cell_type": "markdown",
   "metadata": {},
   "source": [
    "### r^2 +,  r^2 -,  r^2 w"
   ]
  },
  {
   "cell_type": "code",
   "execution_count": null,
   "metadata": {
    "collapsed": false
   },
   "outputs": [],
   "source": [
    "print 'r1sq', r1*r1\n",
    "print 'r2sq', r2*r2\n",
    "print 'r3sq', r3*r3"
   ]
  },
  {
   "cell_type": "code",
   "execution_count": null,
   "metadata": {
    "collapsed": false
   },
   "outputs": [],
   "source": [
    "#print 'slope1', slope1\n",
    "#print 'slope2', slope2\n",
    "#print 'slope3', slope3"
   ]
  },
  {
   "cell_type": "code",
   "execution_count": null,
   "metadata": {
    "collapsed": false
   },
   "outputs": [],
   "source": [
    "print 'p1', p1\n",
    "print 'p2', p2\n",
    "print 'p3', p3"
   ]
  },
  {
   "cell_type": "markdown",
   "metadata": {},
   "source": [
    "##First half only"
   ]
  },
  {
   "cell_type": "code",
   "execution_count": null,
   "metadata": {
    "collapsed": false
   },
   "outputs": [],
   "source": [
    "m1, b1 = np.polyfit(dist_Land[0:7],error_1[0:7],1)\n",
    "fig = plt.figure(figsize=(12,12))\n",
    "fig1 = plt.subplot(3,1,1)\n",
    "fig1.plot(dist_Land[0:7], error_1[0:7], 'o', color=pal[0])\n",
    "plt.plot(dist_Land[0:7], m1*dist_Land[0:7] + b1, '-', color=pal[0])\n",
    "plt.title('MAE Vs. Landmark Distance N+')\n",
    "plt.xlabel('Landmark Distance', labelpad = 4)\n",
    "plt.ylabel('MAE')\n",
    "plt.ylim([0,0.06])\n",
    "plt.yticks(([0.02,0.04,0.06]))\n",
    "\n",
    "m2, b2 = np.polyfit(dist_Land[0:7],error_2[0:7],1)\n",
    "fig2 = plt.subplot(3,1,2)\n",
    "fig2.plot(dist_Land[0:7], error_2[0:7], 'o', color=pal[1])\n",
    "plt.plot(dist_Land[0:7], m2*dist_Land[0:7] + b2, '-', color=pal[1])\n",
    "plt.title('MAE Vs. Landmark Distance N+/-')\n",
    "plt.xlabel('Landmark Distance', labelpad = 4)\n",
    "plt.ylabel('MAE')\n",
    "plt.ylim([0,0.06])\n",
    "plt.yticks(([0.02,0.04,0.06]))\n",
    "\n",
    "m3, b3 = np.polyfit(dist_Land[0:7],error_3[0:7],1)\n",
    "fig3 = plt.subplot(3,1,3)\n",
    "fig3.plot(dist_Land[0:7], error_3[0:7], 'o', color=pal[2])\n",
    "plt.plot(dist_Land[0:7], m3*dist_Land[0:7] + b3, '-', color=pal[2])\n",
    "plt.title('MAE Vs. Landmark Distance Word')\n",
    "plt.xlabel('Landmark Distance', labelpad = 4)\n",
    "plt.ylabel('MAE')\n",
    "plt.ylim([0,0.06])\n",
    "plt.yticks(([0.02,0.04,0.06]))\n",
    "\n",
    "plt.subplots_adjust(hspace=.4)"
   ]
  },
  {
   "cell_type": "markdown",
   "metadata": {},
   "source": [
    "##Second half only"
   ]
  },
  {
   "cell_type": "code",
   "execution_count": null,
   "metadata": {
    "collapsed": false
   },
   "outputs": [],
   "source": [
    "m1, b1 = np.polyfit(dist_Land[8:],error_1[8:],1)\n",
    "fig = plt.figure(figsize=(12,12))\n",
    "fig1 = plt.subplot(3,1,1)\n",
    "fig1.plot(dist_Land[8:], error_1[8:], 'o', color=pal[0])\n",
    "plt.plot(dist_Land[8:], m1*dist_Land[8:] + b1, '-', color=pal[0])\n",
    "plt.title('MAE Vs. Landmark Distance N+')\n",
    "plt.xlabel('Landmark Distance', labelpad = 4)\n",
    "plt.ylabel('MAE')\n",
    "plt.ylim([0,0.06])\n",
    "plt.yticks(([0.02,0.04,0.06]))\n",
    "\n",
    "m2, b2 = np.polyfit(dist_Land[8:],error_2[8:],1)\n",
    "fig2 = plt.subplot(3,1,2)\n",
    "fig2.plot(dist_Land[8:], error_2[8:], 'o', color=pal[1])\n",
    "plt.plot(dist_Land[8:], m2*dist_Land[8:] + b2, '-', color=pal[1])\n",
    "plt.title('MAE Vs. Landmark Distance N+/-')\n",
    "plt.xlabel('Landmark Distance', labelpad = 4)\n",
    "plt.ylabel('MAE')\n",
    "plt.ylim([0,0.06])\n",
    "plt.yticks(([0.02,0.04,0.06]))\n",
    "\n",
    "m3, b3 = np.polyfit(dist_Land[8:],error_3[8:],1)\n",
    "fig3 = plt.subplot(3,1,3)\n",
    "fig3.plot(dist_Land[8:], error_3[8:], 'o', color=pal[2])\n",
    "plt.plot(dist_Land[8:], m3*dist_Land[8:] + b3, '-', color=pal[2])\n",
    "plt.title('MAE Vs. Landmark Distance Word')\n",
    "plt.xlabel('Landmark Distance', labelpad = 4)\n",
    "plt.ylabel('MAE')\n",
    "plt.ylim([0,0.06])\n",
    "plt.yticks(([0.02,0.04,0.06]))\n",
    "\n",
    "plt.subplots_adjust(hspace=.4)"
   ]
  },
  {
   "cell_type": "markdown",
   "metadata": {},
   "source": [
    "## Landmark distance Vs signed error"
   ]
  },
  {
   "cell_type": "code",
   "execution_count": null,
   "metadata": {
    "collapsed": false
   },
   "outputs": [],
   "source": [
    "m1, b1 = np.polyfit(dist_Land,signerror_1,1)\n",
    "fig = plt.figure(figsize=(12,12))\n",
    "fig1 = plt.subplot(3,1,1)\n",
    "fig1.plot(dist_Land, signerror_1, 'o', color=pal[0])\n",
    "plt.plot(dist_Land, m1*dist_Land + b1, '-', color=pal[0])\n",
    "plt.title('Signed Error Vs. Landmark Distance N+')\n",
    "plt.xlabel('Landmark Distance', labelpad = 4)\n",
    "plt.ylabel('Signed Error')\n",
    "plt.ylim([-0.06,0.06])\n",
    "plt.yticks(([-0.03,0.,0.03]))\n",
    "\n",
    "m2, b2 = np.polyfit(dist_Land,signerror_2,1)\n",
    "fig2 = plt.subplot(3,1,2)\n",
    "fig2.plot(dist_Land, signerror_2, 'o', color=pal[1])\n",
    "plt.plot(dist_Land, m2*dist_Land + b2, '-', color=pal[1])\n",
    "plt.title('Signed Error Vs. Landmark Distance N+/-')\n",
    "plt.xlabel('Landmark Distance', labelpad = 4)\n",
    "plt.ylabel('Signed Error')\n",
    "plt.ylim([-0.06,0.06])\n",
    "plt.yticks(([-0.03,0.,0.03]))\n",
    "\n",
    "m3, b3 = np.polyfit(dist_Land,signerror_3,1)\n",
    "fig3 = plt.subplot(3,1,3)\n",
    "fig3.plot(dist_Land, signerror_3, 'o', color=pal[2])\n",
    "plt.plot(dist_Land, m3*dist_Land + b3, '-', color=pal[2])\n",
    "plt.title('Signed Error Vs. Landmark Distance Word')\n",
    "plt.xlabel('Landmark Distance', labelpad = 4)\n",
    "plt.ylabel('Signed Error')\n",
    "plt.ylim([-0.06,0.06])\n",
    "plt.yticks(([-0.03,0.,0.03]))\n",
    "\n",
    "plt.subplots_adjust(hspace=.4)"
   ]
  },
  {
   "cell_type": "markdown",
   "metadata": {},
   "source": [
    "## Estimation slope vs SAT scores"
   ]
  },
  {
   "cell_type": "code",
   "execution_count": null,
   "metadata": {
    "collapsed": true
   },
   "outputs": [],
   "source": [
    "nline_df.to_csv('nline_data.csv', sep='\\t')"
   ]
  },
  {
   "cell_type": "code",
   "execution_count": null,
   "metadata": {
    "collapsed": false
   },
   "outputs": [],
   "source": [
    "new_df = pd.read_csv('nline_data.csv',sep='\\t')"
   ]
  },
  {
   "cell_type": "code",
   "execution_count": null,
   "metadata": {
    "collapsed": false
   },
   "outputs": [],
   "source": [
    "new_df.loc[:,:]= new_df[new_df['catch']<1]\n",
    "#len(nline_miss)\n",
    "new_df['Missed'] = new_df['Error']\n",
    "new_df.loc[new_df['Missed']<1,'Missed'] = 0\n",
    "#Pick only responded trials\n",
    "new_df.loc[:,:] = new_df[new_df['Missed']==0]"
   ]
  },
  {
   "cell_type": "code",
   "execution_count": null,
   "metadata": {
    "collapsed": false
   },
   "outputs": [],
   "source": [
    "new_df = new_df[pd.notnull(new_df['Subject'])]"
   ]
  },
  {
   "cell_type": "code",
   "execution_count": null,
   "metadata": {
    "collapsed": false
   },
   "outputs": [],
   "source": [
    "new_df['AbsError'] = np.abs(new_df['Error'])"
   ]
  },
  {
   "cell_type": "code",
   "execution_count": null,
   "metadata": {
    "collapsed": false
   },
   "outputs": [],
   "source": [
    "new_df['BigError'] = 0\n",
    "new_df['BigError'].loc[new_df['AbsError']>0.15] = 1\n",
    "new_df['BigError'].sum()"
   ]
  },
  {
   "cell_type": "code",
   "execution_count": null,
   "metadata": {
    "collapsed": false
   },
   "outputs": [],
   "source": [
    "group_task = new_df.groupby(['Subject','Task','Line_pct'])"
   ]
  },
  {
   "cell_type": "code",
   "execution_count": null,
   "metadata": {
    "collapsed": false,
    "scrolled": true
   },
   "outputs": [],
   "source": [
    "#group_task.groups"
   ]
  },
  {
   "cell_type": "code",
   "execution_count": null,
   "metadata": {
    "collapsed": false
   },
   "outputs": [],
   "source": [
    "#group_task.get_group(('s_02003',1,0.98))['Error'].mean()"
   ]
  },
  {
   "cell_type": "code",
   "execution_count": null,
   "metadata": {
    "collapsed": false
   },
   "outputs": [],
   "source": [
    "error = group_task['Error'].mean()\n",
    "response = group_task['Response'].mean()"
   ]
  },
  {
   "cell_type": "code",
   "execution_count": null,
   "metadata": {
    "collapsed": false
   },
   "outputs": [],
   "source": [
    "#error.loc['s_02003'].loc[1]"
   ]
  },
  {
   "cell_type": "code",
   "execution_count": null,
   "metadata": {
    "collapsed": false
   },
   "outputs": [],
   "source": [
    "#response.loc['s_02003'].loc[1]"
   ]
  },
  {
   "cell_type": "code",
   "execution_count": null,
   "metadata": {
    "collapsed": false
   },
   "outputs": [],
   "source": [
    "subjs = new_df['Subject'].unique()\n",
    "tasks = new_df['Task'].unique()\n"
   ]
  },
  {
   "cell_type": "code",
   "execution_count": null,
   "metadata": {
    "collapsed": false
   },
   "outputs": [],
   "source": [
    "error_dict = {}\n",
    "position_dict = {}\n",
    "results_list = []\n",
    "for s in subjs:\n",
    "    error_dict[s] = {}\n",
    "    position_dict[s] = {}\n",
    "    for t in tasks:\n",
    "        d_tmp = {}\n",
    "        error_dict[s][t] = error.loc[s].loc[t]\n",
    "        position_dict[s][t] = response.loc[s].loc[t]\n",
    "        slope,inter,r,p,stderr = linregress(error_dict[s][t].index, error_dict[s][t])\n",
    "        slope2,inter2,r2,p2,stderr2 = linregress(position_dict[s][t].index, position_dict[s][t])\n",
    "        d_tmp = {'Subject':s, 'Task':t, 'slope_E':slope, 'slope_P':slope2, 'int_E':inter,\n",
    "                 'int_P':inter2,'r_E':r, 'r_P':r2, 'p_E':p, 'p_P':p2, 'stderr_E':stderr,\n",
    "                 'stderr_P':stderr2, 'R2_E':r*r, 'R2_P':r2*r2}\n",
    "        results_list.append(d_tmp)\n",
    "res_df = pd.DataFrame(results_list)      "
   ]
  },
  {
   "cell_type": "code",
   "execution_count": null,
   "metadata": {
    "collapsed": false
   },
   "outputs": [],
   "source": [
    "slope1, intercept1, r1, p1, stderr1 = linregress(position_dict['s_02003'][3].index,\n",
    "                                                 position_dict['s_02003'][3])"
   ]
  },
  {
   "cell_type": "code",
   "execution_count": null,
   "metadata": {
    "collapsed": false
   },
   "outputs": [],
   "source": [
    "#plt.plot(position_dict['s_02003'][3].index, position_dict['s_02003'][3], 'bo')\n",
    "#plt.plot(position_dict['s_02003'][3].index, slope1*position_dict['s_02003'][3].index + intercept1, '-o')\n",
    "#plt.ylim([0,1])"
   ]
  },
  {
   "cell_type": "code",
   "execution_count": null,
   "metadata": {
    "collapsed": false
   },
   "outputs": [],
   "source": [
    "#print slope1, intercept1, r1, r1*r1, p1, stderr1"
   ]
  },
  {
   "cell_type": "code",
   "execution_count": null,
   "metadata": {
    "collapsed": false
   },
   "outputs": [],
   "source": [
    "#res_df"
   ]
  },
  {
   "cell_type": "code",
   "execution_count": null,
   "metadata": {
    "collapsed": false
   },
   "outputs": [],
   "source": [
    "res_grp = res_df.groupby(['Subject','Task'])"
   ]
  },
  {
   "cell_type": "code",
   "execution_count": null,
   "metadata": {
    "collapsed": false
   },
   "outputs": [],
   "source": [
    "#res_df['slope_P'][res_df['Task']==1].mean()"
   ]
  },
  {
   "cell_type": "code",
   "execution_count": null,
   "metadata": {
    "collapsed": false
   },
   "outputs": [],
   "source": [
    "#res_df[['Subject','slope_P']][res_df['Task']==1]"
   ]
  },
  {
   "cell_type": "code",
   "execution_count": null,
   "metadata": {
    "collapsed": false
   },
   "outputs": [],
   "source": [
    "#plt.plot(res_df['slope_P'][res_df['Task']==1], 'o')"
   ]
  },
  {
   "cell_type": "code",
   "execution_count": null,
   "metadata": {
    "collapsed": false
   },
   "outputs": [],
   "source": [
    "#res_df['slope_P'][res_df['Task']==1].describe()"
   ]
  },
  {
   "cell_type": "markdown",
   "metadata": {},
   "source": [
    "## Histogram slope subject estimates Task +"
   ]
  },
  {
   "cell_type": "code",
   "execution_count": null,
   "metadata": {
    "collapsed": false
   },
   "outputs": [],
   "source": [
    "res_df['slope_P'][res_df['Task']==1].hist()"
   ]
  },
  {
   "cell_type": "markdown",
   "metadata": {},
   "source": [
    "## Histogram slope subject estimates Task -"
   ]
  },
  {
   "cell_type": "code",
   "execution_count": null,
   "metadata": {
    "collapsed": false
   },
   "outputs": [],
   "source": [
    "res_df['slope_P'][res_df['Task']==2].hist(color=pal[1])"
   ]
  },
  {
   "cell_type": "markdown",
   "metadata": {},
   "source": [
    "## Histogram slope subject estimates Task w"
   ]
  },
  {
   "cell_type": "code",
   "execution_count": null,
   "metadata": {
    "collapsed": false
   },
   "outputs": [],
   "source": [
    "res_df['slope_P'][res_df['Task']==3].hist(color=pal[2])"
   ]
  },
  {
   "cell_type": "code",
   "execution_count": null,
   "metadata": {
    "collapsed": true
   },
   "outputs": [],
   "source": [
    "math = pd.read_csv('Math_Results.csv')"
   ]
  },
  {
   "cell_type": "code",
   "execution_count": null,
   "metadata": {
    "collapsed": false
   },
   "outputs": [],
   "source": [
    "res_df = pd.merge(res_df,math,on='Subject',how='inner')"
   ]
  },
  {
   "cell_type": "code",
   "execution_count": null,
   "metadata": {
    "collapsed": false
   },
   "outputs": [],
   "source": [
    "#res_df[['Subject','slope_P', 'Math_Score']][res_df['Task']==1]"
   ]
  },
  {
   "cell_type": "code",
   "execution_count": null,
   "metadata": {
    "collapsed": false
   },
   "outputs": [],
   "source": [
    "#slope1, intercept1, r1, p1, stderr1 = linregress(abs(res_df['slope_E'][res_df['Task']==1]),\n",
    "#                                                 res_df['Math_Score'][res_df['Task']==1])\n",
    "#plt.plot(abs(res_df['slope_E'][res_df['Task']==1]),res_df['Math_Score'][res_df['Task']==1], 'o')\n",
    "#plt.plot(abs(res_df['slope_E'][res_df['Task']==1]), slope1*abs(res_df['slope_E'][res_df['Task']==1]) + intercept1, 'b-')"
   ]
  },
  {
   "cell_type": "code",
   "execution_count": null,
   "metadata": {
    "collapsed": false
   },
   "outputs": [],
   "source": [
    "#print r1, r1*r1, p"
   ]
  },
  {
   "cell_type": "markdown",
   "metadata": {},
   "source": [
    "##  Deviation from Linearity Vs. Math Score"
   ]
  },
  {
   "cell_type": "code",
   "execution_count": null,
   "metadata": {
    "collapsed": false
   },
   "outputs": [],
   "source": [
    "m1, b1 = np.polyfit(abs(res_df['slope_P'][res_df['Task']==1] -1),\n",
    "                    res_df['Math_Score'][res_df['Task']==1],1)\n",
    "fig = plt.figure(figsize=(12,12))\n",
    "fig1 = plt.subplot(3,1,1)\n",
    "fig1.plot(abs(res_df['slope_P'][res_df['Task']==1] -1),\n",
    "          res_df['Math_Score'][res_df['Task']==1], 'o', color=pal[0])\n",
    "plt.plot(abs(res_df['slope_P'][res_df['Task']==1] -1), \n",
    "         m1*abs(res_df['slope_P'][res_df['Task']==1] -1) + b1, '-', color=pal[0])\n",
    "plt.title('Deviation from Slope of 1 Vs. Math Score N+')\n",
    "plt.xlabel('Deviation from slope of 1', labelpad = 4)\n",
    "plt.ylabel('Math Score')\n",
    "plt.ylim([0,20])\n",
    "plt.yticks(([5,10,15,20]))\n",
    "\n",
    "m2, b2 = np.polyfit(abs(res_df['slope_P'][res_df['Task']==2] -1),\n",
    "                    res_df['Math_Score'][res_df['Task']==2],1)\n",
    "fig = plt.figure(figsize=(12,12))\n",
    "fig2 = plt.subplot(3,1,2)\n",
    "fig2.plot(abs(res_df['slope_P'][res_df['Task']==2] -1),\n",
    "          res_df['Math_Score'][res_df['Task']==2], 'o', color=pal[1])\n",
    "plt.plot(abs(res_df['slope_P'][res_df['Task']==2] -1), \n",
    "         m2*abs(res_df['slope_P'][res_df['Task']==2] -1) + b2, '-', color=pal[1])\n",
    "plt.title('Deviation from Slope of 1 Vs. Math Score N-/+')\n",
    "plt.xlabel('Deviation from slope of 1', labelpad = 4)\n",
    "plt.ylabel('Math Score')\n",
    "plt.ylim([0,20])\n",
    "plt.yticks(([5,10,15,20]))\n",
    "\n",
    "m3, b3 = np.polyfit(abs(res_df['slope_P'][res_df['Task']==3] -1),\n",
    "                    res_df['Math_Score'][res_df['Task']==3],1)\n",
    "fig = plt.figure(figsize=(12,12))\n",
    "fig3 = plt.subplot(3,1,3)\n",
    "fig3.plot(abs(res_df['slope_P'][res_df['Task']==3] -1),\n",
    "          res_df['Math_Score'][res_df['Task']==3], 'o', color=pal[2])\n",
    "plt.plot(abs(res_df['slope_P'][res_df['Task']==3] -1), \n",
    "         m3*abs(res_df['slope_P'][res_df['Task']==3] -1) + b3, '-', color=pal[2])\n",
    "plt.title('Deviation from Slope of 1 Vs. Math Score Word')\n",
    "plt.xlabel('Deviation from slope of 1', labelpad = 4)\n",
    "plt.ylabel('Math Score')\n",
    "plt.ylim([0,20])\n",
    "plt.yticks(([5,10,15,20]))"
   ]
  },
  {
   "cell_type": "code",
   "execution_count": null,
   "metadata": {
    "collapsed": true
   },
   "outputs": [],
   "source": [
    "slope1, intercept1, r1, p1, stderr1 = linregress(abs(res_df['slope_P'][res_df['Task']==1]-1),\n",
    "                                                 res_df['Math_Score'][res_df['Task']==1])\n",
    "slope2, intercept2, r2, p2, stderr2 = linregress(abs(res_df['slope_P'][res_df['Task']==2]-1),\n",
    "                                                 res_df['Math_Score'][res_df['Task']==2])\n",
    "slope3, intercept3, r3, p3, stderr3 = linregress(abs(res_df['slope_P'][res_df['Task']==3]-1),\n",
    "                                                 res_df['Math_Score'][res_df['Task']==3])"
   ]
  },
  {
   "cell_type": "markdown",
   "metadata": {},
   "source": [
    "### r +, r -, r w"
   ]
  },
  {
   "cell_type": "code",
   "execution_count": null,
   "metadata": {
    "collapsed": false
   },
   "outputs": [],
   "source": [
    "print r1, r2, r3"
   ]
  },
  {
   "cell_type": "markdown",
   "metadata": {},
   "source": [
    "### R^2 +, R^2 -, R^2 w"
   ]
  },
  {
   "cell_type": "code",
   "execution_count": null,
   "metadata": {
    "collapsed": false
   },
   "outputs": [],
   "source": [
    "print r1*r1, r2*r2, r3*r3"
   ]
  },
  {
   "cell_type": "markdown",
   "metadata": {},
   "source": [
    "### Slope +, Slope -, Slope w"
   ]
  },
  {
   "cell_type": "code",
   "execution_count": null,
   "metadata": {
    "collapsed": false
   },
   "outputs": [],
   "source": [
    "print slope1, slope2, slope3"
   ]
  },
  {
   "cell_type": "markdown",
   "metadata": {},
   "source": [
    "### p-value +, p-value -, p-value w"
   ]
  },
  {
   "cell_type": "code",
   "execution_count": null,
   "metadata": {
    "collapsed": false
   },
   "outputs": [],
   "source": [
    "print p1, p2, p3"
   ]
  },
  {
   "cell_type": "markdown",
   "metadata": {},
   "source": [
    "##Scatter plots for individual subjects"
   ]
  },
  {
   "cell_type": "code",
   "execution_count": null,
   "metadata": {
    "collapsed": false
   },
   "outputs": [],
   "source": [
    "new_math_df = pd.merge(new_df,math,on='Subject',how='inner')"
   ]
  },
  {
   "cell_type": "code",
   "execution_count": null,
   "metadata": {
    "collapsed": false
   },
   "outputs": [],
   "source": [
    "ordered = res_df[['Subject', 'Math_Score']][res_df['Task']==1]\n",
    "ordered_math = ordered.sort('Math_Score', ascending=False)"
   ]
  },
  {
   "cell_type": "code",
   "execution_count": null,
   "metadata": {
    "collapsed": false
   },
   "outputs": [],
   "source": [
    "table_order = ordered_math.Subject"
   ]
  },
  {
   "cell_type": "code",
   "execution_count": null,
   "metadata": {
    "collapsed": false
   },
   "outputs": [],
   "source": [
    "#sns.set_palette('muted')\n",
    "#sns.set_style('ticks')\n",
    "#g = sns.FacetGrid(new_math_df[new_math_df['Task']==1], col='Subject', col_wrap=3, xlim=(0,1),\n",
    "#                  ylim=(0,1), col_order=ordered_math['Subject'], size=4, aspect=1.2)\n",
    "#g = g.map(sns.regplot, 'Line_pct', 'Response', scatter_kws={'s':80, 'marker':'+'})\n",
    "#ctr = 0\n",
    "#for ax in g.axes.flat:\n",
    "#    ax.set_title(ordered_math.iloc[ctr]['Math_Score'])\n",
    "#    ctr = ctr + 1"
   ]
  },
  {
   "cell_type": "markdown",
   "metadata": {},
   "source": [
    "# Task N+"
   ]
  },
  {
   "cell_type": "markdown",
   "metadata": {},
   "source": [
    "# How to add a figure title to the whole figure?\n",
    "# How to format the small titles with smart code that has the subj id plus the SAT score, and some constant string from me"
   ]
  },
  {
   "cell_type": "code",
   "execution_count": null,
   "metadata": {
    "collapsed": false
   },
   "outputs": [],
   "source": [
    "#sns.set_palette('BuGn_r')\n",
    "g = sns.lmplot(x='Line_pct', y='Response', col='Subject',col_wrap=3,\n",
    "           data=new_math_df[new_math_df['Task']==1],markers=['+'],\n",
    "               col_order=ordered_math['Subject'],\n",
    "               size=4,aspect=1.2,scatter_kws={'s':200, 'color':pal[0]},\n",
    "              line_kws={'color':pal[0]})\n",
    "g = (g.set(xlim=(0,1),ylim=(0,1)))\n",
    "ctr = 0\n",
    "for ax in g.axes.flat:\n",
    "    ax.set_title('Math score %d - Subj %s' % (ordered_math.iloc[ctr]['Math_Score'], ordered_math.iloc[ctr]['Subject']))\n",
    "    ctr = ctr + 1\n",
    "g.savefig('Scatter_Positive.png')"
   ]
  },
  {
   "cell_type": "markdown",
   "metadata": {},
   "source": [
    "# Task N-/+"
   ]
  },
  {
   "cell_type": "code",
   "execution_count": null,
   "metadata": {
    "collapsed": false
   },
   "outputs": [],
   "source": [
    "#sns.set_palette('muted')\n",
    "g = sns.lmplot(x='Line_pct', y='Response', col='Subject',col_wrap=3,\n",
    "           data=new_math_df[new_math_df['Task']==2],\n",
    "               markers=['+'],col_order=ordered_math['Subject'],\n",
    "               size=4,aspect=1.2,scatter_kws={'s':200,'color':pal[1]},\n",
    "              line_kws={'color':pal[1]})\n",
    "g = (g.set(xlim=(0,1),ylim=(0,1)))\n",
    "ctr = 0\n",
    "for ax in g.axes.flat:\n",
    "    ax.set_title('Math score %d - Subj %s' % (ordered_math.iloc[ctr]['Math_Score'], ordered_math.iloc[ctr]['Subject']))\n",
    "    ctr = ctr + 1\n",
    "g.savefig('Scatter_Negative.png')"
   ]
  },
  {
   "cell_type": "markdown",
   "metadata": {},
   "source": [
    "## Make Result Table"
   ]
  },
  {
   "cell_type": "code",
   "execution_count": null,
   "metadata": {
    "collapsed": false
   },
   "outputs": [],
   "source": [
    "group_task_t = new_df.groupby(['Subject', 'Task'])\n",
    "#group_task_t['BigError'].sum()"
   ]
  },
  {
   "cell_type": "code",
   "execution_count": null,
   "metadata": {
    "collapsed": false
   },
   "outputs": [],
   "source": [
    "results_df = pd.DataFrame(new_df[new_df['Task']==1].groupby('Subject')['RT'].mean())\n",
    "results_df.columns = ['RT+']\n",
    "results_df['RT-'] = new_df[new_df['Task']==2].groupby('Subject')['RT'].mean()\n",
    "results_df['RTw'] = new_df[new_df['Task']==3].groupby('Subject')['RT'].mean()"
   ]
  },
  {
   "cell_type": "code",
   "execution_count": null,
   "metadata": {
    "collapsed": false
   },
   "outputs": [],
   "source": [
    "results_df['E+'] = new_df[new_df['Task']==1].groupby('Subject')['BigError'].sum()\n",
    "results_df['E-'] = new_df[new_df['Task']==2].groupby('Subject')['BigError'].sum()\n",
    "results_df['Ew'] = new_df[new_df['Task']==3].groupby('Subject')['BigError'].sum()"
   ]
  },
  {
   "cell_type": "code",
   "execution_count": null,
   "metadata": {
    "collapsed": false
   },
   "outputs": [],
   "source": [
    "sds = []\n",
    "for sub in responded_subj.groups.keys():\n",
    "    for pos in position_tasks.groups.keys():\n",
    "        task = pos[0]\n",
    "        stim = pos[1]\n",
    "        sds.append({'Subject':sub, 'Task':task, 'Line_pct':stim,\n",
    "             'SD':position_tasks.get_group((task,stim)).loc[sub]['Error'].std()})\n",
    "SD_df = pd.DataFrame(sds)\n",
    "results_df['SD+'] = SD_df[SD_df['Task']==1].groupby('Subject')['SD'].mean()\n",
    "results_df['SD-'] = SD_df[SD_df['Task']==2].groupby('Subject')['SD'].mean()\n",
    "results_df['SDw'] = SD_df[SD_df['Task']==3].groupby('Subject')['SD'].mean()"
   ]
  },
  {
   "cell_type": "code",
   "execution_count": null,
   "metadata": {
    "collapsed": false
   },
   "outputs": [],
   "source": [
    "r2_1 = res_df[['Subject','R2_P']][res_df['Task']==1]\n",
    "r2_1.columns = ['Subject', 'R^2+']\n",
    "results_df = results_df.join(r2_1.groupby('Subject').mean(), how='inner')"
   ]
  },
  {
   "cell_type": "code",
   "execution_count": null,
   "metadata": {
    "collapsed": false
   },
   "outputs": [],
   "source": [
    "r2_2 = res_df[['Subject','R2_P']][res_df['Task']==2]\n",
    "r2_2.columns = ['Subject', 'R^2-']\n",
    "results_df = results_df.join(r2_2.groupby('Subject').mean(), how='inner')"
   ]
  },
  {
   "cell_type": "code",
   "execution_count": null,
   "metadata": {
    "collapsed": false
   },
   "outputs": [],
   "source": [
    "r2_3 = res_df[['Subject','R2_P']][res_df['Task']==3]\n",
    "r2_3.columns = ['Subject', 'R^2w']\n",
    "results_df = results_df.join(r2_3.groupby('Subject').mean(), how='inner')"
   ]
  },
  {
   "cell_type": "code",
   "execution_count": null,
   "metadata": {
    "collapsed": false
   },
   "outputs": [],
   "source": [
    "slope_1 = res_df[['Subject','slope_P']][res_df['Task']==1]\n",
    "slope_1.columns = ['Subject', 'slope+']\n",
    "results_df = results_df.join(slope_1.groupby('Subject').mean(), how='inner')\n",
    "slope_2 = res_df[['Subject','slope_P']][res_df['Task']==2]\n",
    "slope_2.columns = ['Subject', 'slope-']\n",
    "results_df = results_df.join(slope_2.groupby('Subject').mean(), how='inner')\n",
    "slope_3 = res_df[['Subject','slope_P']][res_df['Task']==3]\n",
    "slope_3.columns = ['Subject', 'slopew']\n",
    "results_df = results_df.join(slope_3.groupby('Subject').mean(), how='inner')"
   ]
  },
  {
   "cell_type": "code",
   "execution_count": null,
   "metadata": {
    "collapsed": false
   },
   "outputs": [],
   "source": [
    "PAE1 = new_df[new_df['Task']==1].groupby(['Subject', 'Line_pct'])['AbsError'].mean()\n",
    "PAE2 = new_df[new_df['Task']==2].groupby(['Subject', 'Line_pct'])['AbsError'].mean()\n",
    "PAE3 = new_df[new_df['Task']==3].groupby(['Subject', 'Line_pct'])['AbsError'].mean()"
   ]
  },
  {
   "cell_type": "code",
   "execution_count": null,
   "metadata": {
    "collapsed": false
   },
   "outputs": [],
   "source": [
    "#PAE1.loc['s_02003'].iloc[0:8]"
   ]
  },
  {
   "cell_type": "code",
   "execution_count": null,
   "metadata": {
    "collapsed": false
   },
   "outputs": [],
   "source": [
    "corrs1 = []\n",
    "for sub in PAE1.index.levels[0]:\n",
    "    slope1, intercept1, r1, p1, stderr1 = linregress(dist_Land[0:8],PAE1.loc[sub].iloc[0:8])\n",
    "    slope2, intercept2, r2, p2, stderr2 = linregress(dist_Land[8:],PAE1.loc[sub].iloc[8:])\n",
    "    corrs1.append({'Subject':sub, 'DE_l_+':r1, 'DE_r_+':r2})\n",
    "DE1 = pd.DataFrame(corrs1)\n",
    "results_df = results_df.join(DE1.groupby('Subject').mean(), how='inner')"
   ]
  },
  {
   "cell_type": "code",
   "execution_count": null,
   "metadata": {
    "collapsed": false
   },
   "outputs": [],
   "source": [
    "corrs2 = []\n",
    "for sub in PAE2.index.levels[0]:\n",
    "    slope1, intercept1, r1, p1, stderr1 = linregress(dist_Land[0:8],PAE2.loc[sub].iloc[0:8])\n",
    "    slope2, intercept2, r2, p2, stderr2 = linregress(dist_Land[8:],PAE2.loc[sub].iloc[8:])\n",
    "    corrs2.append({'Subject':sub, 'DE_l_-':r1, 'DE_r_-':r2})\n",
    "DE2 = pd.DataFrame(corrs2)\n",
    "results_df = results_df.join(DE2.groupby('Subject').mean(), how='inner')"
   ]
  },
  {
   "cell_type": "code",
   "execution_count": null,
   "metadata": {
    "collapsed": false
   },
   "outputs": [],
   "source": [
    "corrs3 = []\n",
    "for sub in PAE3.index.levels[0]:\n",
    "    slope1, intercept1, r1, p1, stderr1 = linregress(dist_Land[0:8],PAE3.loc[sub].iloc[0:8])\n",
    "    slope2, intercept2, r2, p2, stderr2 = linregress(dist_Land[8:],PAE3.loc[sub].iloc[8:])\n",
    "    corrs3.append({'Subject':sub, 'DE_l_w':r1, 'DE_r_w':r2})\n",
    "DE3 = pd.DataFrame(corrs3)\n",
    "results_df = results_df.join(DE3.groupby('Subject').mean(), how='inner')"
   ]
  },
  {
   "cell_type": "code",
   "execution_count": null,
   "metadata": {
    "collapsed": false
   },
   "outputs": [],
   "source": [
    "miss_df = pd.read_csv('nline_data.csv',sep='\\t')\n",
    "miss_df.loc[:,:]= miss_df[miss_df['catch']<1]\n",
    "#len(nline_miss)\n",
    "miss_df['Missed'] = miss_df['Error']\n",
    "miss_df.loc[miss_df['Missed']<1,'Missed'] = 0\n",
    "miss_df = miss_df[pd.notnull(miss_df['Subject'])]"
   ]
  },
  {
   "cell_type": "code",
   "execution_count": null,
   "metadata": {
    "collapsed": false
   },
   "outputs": [],
   "source": [
    "results_df['Miss+'] = miss_df[miss_df['Task']==1].groupby('Subject')['Missed'].sum()\n",
    "results_df['Miss-'] = miss_df[miss_df['Task']==2].groupby('Subject')['Missed'].sum()\n",
    "results_df['Missw'] =miss3 = miss_df[miss_df['Task']==3].groupby('Subject')['Missed'].sum()"
   ]
  },
  {
   "cell_type": "code",
   "execution_count": null,
   "metadata": {
    "collapsed": false
   },
   "outputs": [],
   "source": [
    "math.columns = ['Subject', 'SAT']\n",
    "results_df = results_df.join(math.groupby('Subject').mean(), how='inner')"
   ]
  },
  {
   "cell_type": "code",
   "execution_count": null,
   "metadata": {
    "collapsed": false
   },
   "outputs": [],
   "source": [
    "cols = results_df.columns.tolist()\n",
    "cols = cols[-1:] + cols[-4:-1] + cols[0:-4]\n",
    "results_df = results_df[cols]"
   ]
  },
  {
   "cell_type": "code",
   "execution_count": null,
   "metadata": {
    "collapsed": false
   },
   "outputs": [],
   "source": [
    "results_df['AbsError+'] = new_df[new_df['Task']==1].groupby('Subject')['AbsError'].mean()\n",
    "results_df['AbsError-'] = new_df[new_df['Task']==2].groupby('Subject')['AbsError'].mean()\n",
    "results_df['AbsErrorw'] = new_df[new_df['Task']==3].groupby('Subject')['AbsError'].mean()"
   ]
  },
  {
   "cell_type": "code",
   "execution_count": null,
   "metadata": {
    "collapsed": false
   },
   "outputs": [],
   "source": [
    "linear_1 = res_df[['Subject','slope_P']][res_df['Task']==1]\n",
    "linear_1.loc[:,'slope_P'] = abs(linear_1['slope_P'] - 1)\n",
    "linear_1.columns = ['Subject', 'linearity+']\n",
    "results_df = results_df.join(linear_1.groupby('Subject').mean(), how='inner')\n",
    "linear_2 = res_df[['Subject','slope_P']][res_df['Task']==2]\n",
    "linear_2.loc[:,'slope_P'] = abs(linear_2['slope_P'] - 1)\n",
    "linear_2.columns = ['Subject', 'linearity-']\n",
    "results_df = results_df.join(linear_2.groupby('Subject').mean(), how='inner')\n",
    "linear_3 = res_df[['Subject','slope_P']][res_df['Task']==3]\n",
    "linear_3.loc[:,'slope_P'] = abs(linear_3['slope_P'] - 1)\n",
    "linear_3.columns = ['Subject', 'linearityw']\n",
    "results_df = results_df.join(linear_3.groupby('Subject').mean(), how='inner')"
   ]
  },
  {
   "cell_type": "code",
   "execution_count": null,
   "metadata": {
    "collapsed": false
   },
   "outputs": [],
   "source": [
    "results_df = results_df.loc[table_order]\n",
    "results_df"
   ]
  },
  {
   "cell_type": "code",
   "execution_count": null,
   "metadata": {
    "collapsed": true
   },
   "outputs": [],
   "source": [
    "results_df.to_excel('Results Table.xlsx', index_label='Subject', merge_cells=False)"
   ]
  },
  {
   "cell_type": "markdown",
   "metadata": {},
   "source": [
    "##  PAE Vs. Math Score"
   ]
  },
  {
   "cell_type": "code",
   "execution_count": null,
   "metadata": {
    "collapsed": false
   },
   "outputs": [],
   "source": [
    "m1, b1 = np.polyfit(results_df['AbsError+'],\n",
    "                    results_df['SAT'],1)\n",
    "fig = plt.figure(figsize=(12,12))\n",
    "fig1 = plt.subplot(3,1,1)\n",
    "fig1.plot(results_df['AbsError+'],\n",
    "          results_df['SAT'], 'o', color=pal[0])\n",
    "plt.plot(results_df['AbsError+'], \n",
    "         m1*results_df['AbsError+'] + b1, '-', color=pal[0])\n",
    "plt.title('PAE Vs. Math Score N+')\n",
    "plt.xlabel('PAE', labelpad = 4)\n",
    "plt.ylabel('SAT')\n",
    "plt.ylim([0,20])\n",
    "plt.yticks(([5,10,15,20]))\n",
    "\n",
    "m2, b2 = np.polyfit(results_df['AbsError-'],\n",
    "                    results_df['SAT'],1)\n",
    "fig = plt.figure(figsize=(12,12))\n",
    "fig1 = plt.subplot(3,1,1)\n",
    "fig1.plot(results_df['AbsError-'],\n",
    "          results_df['SAT'], 'o', color=pal[1])\n",
    "plt.plot(results_df['AbsError-'], \n",
    "         m2*results_df['AbsError-'] + b2, '-', color=pal[1])\n",
    "plt.title('PAE Vs. Math Score N-/+')\n",
    "plt.xlabel('PAE', labelpad = 4)\n",
    "plt.ylabel('SAT')\n",
    "plt.ylim([0,20])\n",
    "plt.yticks(([5,10,15,20]))\n",
    "\n",
    "m3, b3 = np.polyfit(results_df['AbsErrorw'],\n",
    "                    results_df['SAT'],1)\n",
    "fig = plt.figure(figsize=(12,12))\n",
    "fig1 = plt.subplot(3,1,1)\n",
    "fig1.plot(results_df['AbsErrorw'],\n",
    "          results_df['SAT'], 'o', color=pal[2])\n",
    "plt.plot(results_df['AbsErrorw'], \n",
    "         m3*results_df['AbsErrorw'] + b3, '-', color=pal[2])\n",
    "plt.title('PAE Vs. Math Score Word')\n",
    "plt.xlabel('PAE', labelpad = 4)\n",
    "plt.ylabel('SAT')\n",
    "plt.ylim([0,20])\n",
    "plt.yticks(([5,10,15,20]))"
   ]
  },
  {
   "cell_type": "code",
   "execution_count": null,
   "metadata": {
    "collapsed": true
   },
   "outputs": [],
   "source": [
    "slope1, intercept1, r1, p1, stderr1 = linregress(results_df['AbsError+'],results_df['SAT'])\n",
    "slope2, intercept2, r2, p2, stderr2 = linregress(results_df['AbsError-'],results_df['SAT'])\n",
    "slope3, intercept3, r3, p3, stderr3 = linregress(results_df['AbsErrorw'],results_df['SAT'])"
   ]
  },
  {
   "cell_type": "markdown",
   "metadata": {},
   "source": [
    "### Slope +, Slope -, Slope w"
   ]
  },
  {
   "cell_type": "code",
   "execution_count": null,
   "metadata": {
    "collapsed": false
   },
   "outputs": [],
   "source": [
    "print slope1, slope2, slope3"
   ]
  },
  {
   "cell_type": "markdown",
   "metadata": {},
   "source": [
    "### r =, r -, r w"
   ]
  },
  {
   "cell_type": "code",
   "execution_count": null,
   "metadata": {
    "collapsed": false
   },
   "outputs": [],
   "source": [
    "print r1, r2, r3"
   ]
  },
  {
   "cell_type": "markdown",
   "metadata": {},
   "source": [
    "### R^2 +, R^2 -, R^2 w"
   ]
  },
  {
   "cell_type": "code",
   "execution_count": null,
   "metadata": {
    "collapsed": false
   },
   "outputs": [],
   "source": [
    "print r1*r1, r2*r2, r3*r3"
   ]
  },
  {
   "cell_type": "markdown",
   "metadata": {},
   "source": [
    "### p-value +, p-value -, p-value w"
   ]
  },
  {
   "cell_type": "code",
   "execution_count": null,
   "metadata": {
    "collapsed": false
   },
   "outputs": [],
   "source": [
    "print p1, p2, p3"
   ]
  },
  {
   "cell_type": "code",
   "execution_count": null,
   "metadata": {
    "collapsed": false
   },
   "outputs": [],
   "source": [
    "np.corrcoef(results_df['slope-'], results_df['slope+'])"
   ]
  },
  {
   "cell_type": "code",
   "execution_count": null,
   "metadata": {
    "collapsed": false
   },
   "outputs": [],
   "source": [
    "responses = position_tasks.Response.mean()"
   ]
  },
  {
   "cell_type": "code",
   "execution_count": null,
   "metadata": {
    "collapsed": true
   },
   "outputs": [],
   "source": [
    "resp1 = responses.iloc[0:16]\n",
    "resp2 = responses.iloc[16:32]\n",
    "resp3 = responses.iloc[32:48]\n",
    "resp1 = resp1.get_values()\n",
    "resp2 = resp2.get_values()\n",
    "resp3 = resp3.get_values()"
   ]
  },
  {
   "cell_type": "code",
   "execution_count": null,
   "metadata": {
    "collapsed": false
   },
   "outputs": [],
   "source": [
    "fig = plt.figure(figsize=(12,12))\n",
    "fig1 = plt.subplot(3,1,1)\n",
    "fig1.plot(xvals, resp1, 'o', color=pal[0])\n",
    "fig1.plot([0,1], [0,1], color=pal[0], linestyle='-')\n",
    "plt.title('Mean Response By Position N+')\n",
    "plt.xlabel('0 to 100', labelpad = 4)\n",
    "plt.ylabel('Mean Response')\n",
    "plt.ylim([0,1])\n",
    "plt.yticks(([.25,.5,.75]))\n",
    "\n",
    "fig2 = plt.subplot(3,1,2)\n",
    "fig2.plot(xvals, resp2, 'o', color=pal[1])\n",
    "fig2.plot([0,1], [0,1], color=pal[1], linestyle='-')\n",
    "plt.title('Mean Response By Position N-/+')\n",
    "plt.xlabel('-100 to 100', labelpad = 4)\n",
    "plt.ylabel('Mean Response')\n",
    "plt.ylim([0,1])\n",
    "plt.yticks(([.25,.5,.75]))\n",
    "\n",
    "fig3 = plt.subplot(3,1,3)\n",
    "fig3.plot(xvals, resp3, 'o', color=pal[2])\n",
    "fig3.plot([0,1], [0,1], color=pal[2], linestyle='-')\n",
    "plt.title('Mean Response By Position Word')\n",
    "plt.xlabel('Word', labelpad = 4)\n",
    "plt.ylabel('Mean Response')\n",
    "plt.ylim([0,1])\n",
    "plt.yticks(([.25,.5,.75]))\n",
    "\n",
    "plt.subplots_adjust(hspace=.4)"
   ]
  },
  {
   "cell_type": "code",
   "execution_count": null,
   "metadata": {
    "collapsed": true
   },
   "outputs": [],
   "source": []
  }
 ],
 "metadata": {
  "kernelspec": {
   "display_name": "Python 2",
   "language": "python",
   "name": "python2"
  },
  "language_info": {
   "codemirror_mode": {
    "name": "ipython",
    "version": 2
   },
   "file_extension": ".py",
   "mimetype": "text/x-python",
   "name": "python",
   "nbconvert_exporter": "python",
   "pygments_lexer": "ipython2",
   "version": "2.7.11"
  }
 },
 "nbformat": 4,
 "nbformat_minor": 0
}
