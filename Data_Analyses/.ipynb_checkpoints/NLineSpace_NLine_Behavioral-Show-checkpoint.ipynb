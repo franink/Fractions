{
 "cells": [
  {
   "cell_type": "code",
   "execution_count": 1,
   "metadata": {
    "collapsed": false
   },
   "outputs": [],
   "source": [
    "%matplotlib inline\n",
    "import matplotlib as mpl\n",
    "import matplotlib.pyplot as plt\n",
    "import seaborn as sns\n",
    "import pandas as pd\n",
    "import numpy as np\n",
    "from scipy import io\n",
    "import os\n",
    "import glob"
   ]
  },
  {
   "cell_type": "code",
   "execution_count": 2,
   "metadata": {
    "collapsed": true
   },
   "outputs": [],
   "source": [
    "from IPython.display import HTML"
   ]
  },
  {
   "cell_type": "code",
   "execution_count": 3,
   "metadata": {
    "collapsed": false
   },
   "outputs": [
    {
     "data": {
      "text/html": [
       "<script>\n",
       "code_show=true; \n",
       "function code_toggle() {\n",
       " if (code_show){\n",
       " $('div.input').hide();\n",
       " } else {\n",
       " $('div.input').show();\n",
       " }\n",
       " code_show = !code_show\n",
       "} \n",
       "$( document ).ready(code_toggle);\n",
       "</script>\n",
       "The raw code for this IPython notebook is by default hidden for easier reading.\n",
       "To toggle on/off the raw code, click <a href=\"javascript:code_toggle()\">here</a>."
      ],
      "text/plain": [
       "<IPython.core.display.HTML object>"
      ]
     },
     "execution_count": 3,
     "metadata": {},
     "output_type": "execute_result"
    }
   ],
   "source": [
    "HTML('''<script>\n",
    "code_show=true; \n",
    "function code_toggle() {\n",
    " if (code_show){\n",
    " $('div.input').hide();\n",
    " } else {\n",
    " $('div.input').show();\n",
    " }\n",
    " code_show = !code_show\n",
    "} \n",
    "$( document ).ready(code_toggle);\n",
    "</script>\n",
    "The raw code for this IPython notebook is by default hidden for easier reading.\n",
    "To toggle on/off the raw code, click <a href=\"javascript:code_toggle()\">here</a>.''')"
   ]
  },
  {
   "cell_type": "code",
   "execution_count": 4,
   "metadata": {
    "collapsed": true
   },
   "outputs": [],
   "source": [
    "sns.set_style('white')\n",
    "sns.set_style('ticks')\n",
    "sns.set_palette('muted')\n",
    "sns.set_color_codes('muted')"
   ]
  },
  {
   "cell_type": "code",
   "execution_count": 5,
   "metadata": {
    "collapsed": false
   },
   "outputs": [],
   "source": [
    "## Laptop\n",
    "#filepath = '/Users/frankkanayet/Dropbox/NLineExperiment/PilotData'\n",
    "#filepath = '/Users/frankkanayet/Dropbox/NLineExperiment/PilotData/test3s'\n",
    "#filepath = '/Users/frankkanayet/Google Drive/NLineData/Beh_Data'\n",
    "\n",
    "## Desktop\n",
    "#filepath = '/Users/frankanayet/Dropbox/NLineExperiment/Data'\n",
    "filepath = '/Users/frankanayet/Google Drive/NLineData/Beh_Data/NLine-Space/NLine'\n",
    "os.chdir(filepath)"
   ]
  },
  {
   "cell_type": "code",
   "execution_count": 6,
   "metadata": {
    "collapsed": false
   },
   "outputs": [
    {
     "name": "stdout",
     "output_type": "stream",
     "text": [
      "Pandas version 0.17.0\n"
     ]
    }
   ],
   "source": [
    "print 'Pandas version ' + pd.__version__"
   ]
  },
  {
   "cell_type": "code",
   "execution_count": 7,
   "metadata": {
    "collapsed": false
   },
   "outputs": [
    {
     "name": "stdout",
     "output_type": "stream",
     "text": [
      "['Nline_03001-Oct1315a.mat', 'Nline_03003-Nov0215a.mat', 'Nline_03004-Oct2915corr.mat', 'Nline_03005-Nov0915a.mat', 'Nline_03006-Nov1215a.mat']\n"
     ]
    },
    {
     "data": {
      "text/plain": [
       "['s_03001', 's_03003', 's_03004', 's_03005', 's_03006']"
      ]
     },
     "execution_count": 7,
     "metadata": {},
     "output_type": "execute_result"
    }
   ],
   "source": [
    "filenames = glob.glob('Nline_*.mat')\n",
    "print filenames\n",
    "#index to isolate subj numbers\n",
    "data_dict = {}\n",
    "for i in filenames:\n",
    "    id1 = filenames[0].find('_') + 1\n",
    "    id2 = filenames[0].find('-')\n",
    "    sub_nbr = i[id1:id2]\n",
    "    sub_name = i\n",
    "    s_id = 's_'+sub_nbr\n",
    "    data_dict[s_id] = io.loadmat(sub_name)\n",
    "\n",
    "#sub_name = filenames[0] #This will be changed to a loop for all subjects later\n",
    "#mat = io.loadmat(sub_name)\n",
    "data_dict.keys()"
   ]
  },
  {
   "cell_type": "code",
   "execution_count": 8,
   "metadata": {
    "collapsed": false
   },
   "outputs": [],
   "source": [
    "sub_ex = data_dict.keys()[0]"
   ]
  },
  {
   "cell_type": "code",
   "execution_count": 9,
   "metadata": {
    "collapsed": false
   },
   "outputs": [],
   "source": [
    "#data_dict['s_00011']['p']"
   ]
  },
  {
   "cell_type": "code",
   "execution_count": 10,
   "metadata": {
    "collapsed": false
   },
   "outputs": [],
   "source": [
    "#for i in data_dict:\n",
    "#    data_dict[i].pop('__header__')\n",
    "#    data_dict[i].pop('__version__')\n",
    "#    data_dict[i].pop('__globals__')\n",
    "#data_dict['s_00011'].keys()"
   ]
  },
  {
   "cell_type": "code",
   "execution_count": 11,
   "metadata": {
    "collapsed": false
   },
   "outputs": [
    {
     "data": {
      "text/plain": [
       "33"
      ]
     },
     "execution_count": 11,
     "metadata": {},
     "output_type": "execute_result"
    }
   ],
   "source": [
    "## The indexes of zeros are as follows [0][0][x][y][z][0] The x y z are the 3 dimensions of the data 3d matrix the zeros are padding\n",
    "data_dict[sub_ex]['p']['NlineResults'][0][0][0][5][0][0]\n",
    "len(data_dict[sub_ex]['p']['NlineResults'][0][0][:])"
   ]
  },
  {
   "cell_type": "code",
   "execution_count": 12,
   "metadata": {
    "collapsed": false
   },
   "outputs": [
    {
     "data": {
      "text/plain": [
       "('ramp_up',\n",
       " 'Mean_ITI',\n",
       " 'Mean_hold',\n",
       " 'decision',\n",
       " 'consider',\n",
       " 'runs',\n",
       " 'nStim',\n",
       " 'ntasks',\n",
       " 'tasks',\n",
       " 'trialSecs',\n",
       " 'vDistCM',\n",
       " 'screenWidthCM',\n",
       " 'usedScreenSizeDeg',\n",
       " 'lineLengthDeg',\n",
       " 'NlineResults',\n",
       " 'time_Runs',\n",
       " 'task_transition',\n",
       " 'ppc_adjust',\n",
       " 'lineLength',\n",
       " 'start_Nline',\n",
       " 'finish_Nline')"
      ]
     },
     "execution_count": 12,
     "metadata": {},
     "output_type": "execute_result"
    }
   ],
   "source": [
    "data_dict[sub_ex]['p'].dtype.names"
   ]
  },
  {
   "cell_type": "code",
   "execution_count": 13,
   "metadata": {
    "collapsed": false
   },
   "outputs": [],
   "source": [
    "cons_time = data_dict[sub_ex]['p']['consider'][0][0][0][0]\n",
    "dec_time = data_dict[sub_ex]['p']['decision'][0][0][0][0]"
   ]
  },
  {
   "cell_type": "code",
   "execution_count": 14,
   "metadata": {
    "collapsed": false
   },
   "outputs": [],
   "source": [
    "new_dat = {}\n",
    "#new_df = {}\n",
    "for s in data_dict:\n",
    "    tasks = ['NlineResults']\n",
    "    new_dat[s]={}\n",
    "    #new_df[s] = {}\n",
    "    for task in tasks:\n",
    "        dat = data_dict[s]['p'][task]\n",
    "        num_fields = len(data_dict[s]['p'][task][0][0][0])\n",
    "        dat_names = []\n",
    "        for k in range(0,num_fields):\n",
    "            dat_names.append(dat[0][0][0][k][0][0])\n",
    "        new_dat[s][task] = {}\n",
    "        runs = data_dict[s]['p']['runs'][0][0][0][0]\n",
    "        for run in range(0,runs):\n",
    "            run_name = 'run'+str(run+1)\n",
    "            new_dat[s][task][run_name] = {}\n",
    "            for i in range(0,len(dat_names)):\n",
    "                new_dat[s][task][run_name][dat_names[i]] = []\n",
    "                for j in range(0,len(dat[0][0][:])-1):\n",
    "                    if dat_names[i] == 'catch_probe':\n",
    "                        new_dat[s][task][run_name][dat_names[i]].append(dat[0][0][j+1][i][run])\n",
    "                    elif dat_names[i] == 'Probe':\n",
    "                        new_dat[s][task][run_name][dat_names[i]].append(dat[0][0][j+1][i][run][0])\n",
    "                    else:\n",
    "                        new_dat[s][task][run_name][dat_names[i]].append(dat[0][0][j+1][i][run][0])\n",
    "#legible access to the data\n",
    "Nline = 'NlineResults' #numberline"
   ]
  },
  {
   "cell_type": "code",
   "execution_count": 15,
   "metadata": {
    "collapsed": false
   },
   "outputs": [
    {
     "data": {
      "text/plain": [
       "array([ 24.50019515])"
      ]
     },
     "execution_count": 15,
     "metadata": {},
     "output_type": "execute_result"
    }
   ],
   "source": [
    "data_dict[s]['p'][task][0][0][1][i][run][0]"
   ]
  },
  {
   "cell_type": "code",
   "execution_count": 16,
   "metadata": {
    "collapsed": false
   },
   "outputs": [
    {
     "data": {
      "text/plain": [
       "[u'Slow',\n",
       " u'Line_pct',\n",
       " u'iti',\n",
       " u'cursor_pos',\n",
       " u'ITI_onset_real',\n",
       " u'ITI_onset',\n",
       " u'RT',\n",
       " u'decision_end',\n",
       " u'decision_onset_real',\n",
       " u'decision_end_real',\n",
       " u'Correct',\n",
       " u'Wrong',\n",
       " u'BadPress',\n",
       " u'Press',\n",
       " u'Response',\n",
       " u'Acc',\n",
       " u'Task',\n",
       " u'Trial',\n",
       " u'Points',\n",
       " u'Error',\n",
       " u'catch',\n",
       " u'hold',\n",
       " u'Block',\n",
       " u'Probe',\n",
       " u'consider_onset_real',\n",
       " u'consider_onset',\n",
       " u'decision_onset',\n",
       " u'hold_onset_real',\n",
       " u'hold_onset']"
      ]
     },
     "execution_count": 16,
     "metadata": {},
     "output_type": "execute_result"
    }
   ],
   "source": [
    "new_dat[sub_ex]['NlineResults']['run1'].keys()"
   ]
  },
  {
   "cell_type": "code",
   "execution_count": 17,
   "metadata": {
    "collapsed": false
   },
   "outputs": [
    {
     "data": {
      "text/plain": [
       "[array([0], dtype=uint8),\n",
       " array([0], dtype=uint8),\n",
       " array([0], dtype=uint8),\n",
       " array([0], dtype=uint8),\n",
       " array([0], dtype=uint8),\n",
       " array([0], dtype=uint8),\n",
       " array([1], dtype=uint8),\n",
       " array([0], dtype=uint8),\n",
       " array([0], dtype=uint8),\n",
       " array([0], dtype=uint8),\n",
       " array([0], dtype=uint8),\n",
       " array([0], dtype=uint8),\n",
       " array([0], dtype=uint8),\n",
       " array([1], dtype=uint8),\n",
       " array([0], dtype=uint8),\n",
       " array([0], dtype=uint8),\n",
       " array([0], dtype=uint8),\n",
       " array([0], dtype=uint8),\n",
       " array([1], dtype=uint8),\n",
       " array([0], dtype=uint8),\n",
       " array([0], dtype=uint8),\n",
       " array([0], dtype=uint8),\n",
       " array([0], dtype=uint8),\n",
       " array([0], dtype=uint8),\n",
       " array([0], dtype=uint8),\n",
       " array([0], dtype=uint8),\n",
       " array([0], dtype=uint8),\n",
       " array([0], dtype=uint8),\n",
       " array([0], dtype=uint8),\n",
       " array([1], dtype=uint8),\n",
       " array([0], dtype=uint8),\n",
       " array([0], dtype=uint8)]"
      ]
     },
     "execution_count": 17,
     "metadata": {},
     "output_type": "execute_result"
    }
   ],
   "source": [
    "new_dat[sub_ex]['NlineResults']['run1']['Error']"
   ]
  },
  {
   "cell_type": "code",
   "execution_count": 18,
   "metadata": {
    "collapsed": false
   },
   "outputs": [],
   "source": [
    "subj = data_dict.keys()\n",
    "tasks = [Nline]\n",
    "tuples = []\n",
    "rows = len(data_dict[sub_ex]['p'][Nline][0][0][:])-1\n",
    "for s in subj:\n",
    "    runs = new_dat[s]['NlineResults'].keys()\n",
    "    for run in runs:\n",
    "        for i in range(0,rows):\n",
    "            tuples.append((s, run, i))\n",
    "len(tuples)\n",
    "#iterables = [subj,tasks,runs]\n",
    "indexes = pd.MultiIndex.from_tuples(tuples, names=['Subj', 'Run', 'Trial'])\n",
    "nline_cols = len(new_dat[sub_ex][Nline]['run1'].keys())"
   ]
  },
  {
   "cell_type": "code",
   "execution_count": 19,
   "metadata": {
    "collapsed": false
   },
   "outputs": [
    {
     "data": {
      "text/plain": [
       "('s_03001', 'run2', 26)"
      ]
     },
     "execution_count": 19,
     "metadata": {},
     "output_type": "execute_result"
    }
   ],
   "source": [
    "indexes[90]"
   ]
  },
  {
   "cell_type": "code",
   "execution_count": 20,
   "metadata": {
    "collapsed": false
   },
   "outputs": [
    {
     "data": {
      "text/plain": [
       "'run1'"
      ]
     },
     "execution_count": 20,
     "metadata": {},
     "output_type": "execute_result"
    }
   ],
   "source": [
    "indexes[1][1]"
   ]
  },
  {
   "cell_type": "code",
   "execution_count": 21,
   "metadata": {
    "collapsed": false
   },
   "outputs": [
    {
     "data": {
      "text/plain": [
       "u'consider_onset_real'"
      ]
     },
     "execution_count": 21,
     "metadata": {},
     "output_type": "execute_result"
    }
   ],
   "source": [
    "varnames = new_dat[sub_ex][Nline]['run1'].keys()\n",
    "varnames[24]"
   ]
  },
  {
   "cell_type": "code",
   "execution_count": 22,
   "metadata": {
    "collapsed": false
   },
   "outputs": [
    {
     "data": {
      "text/plain": [
       "640"
      ]
     },
     "execution_count": 22,
     "metadata": {},
     "output_type": "execute_result"
    }
   ],
   "source": [
    "len(indexes)"
   ]
  },
  {
   "cell_type": "code",
   "execution_count": 23,
   "metadata": {
    "collapsed": false
   },
   "outputs": [],
   "source": [
    "# Code empty cells of probes and catch_probes as Nan\n",
    "Dic_list = []\n",
    "probes = ['catch_probe']\n",
    "for data in indexes:\n",
    "    temp_dict = {}\n",
    "    for var in varnames:\n",
    "        if len(new_dat.get(data[0]).get(Nline).get(data[1]).get(var)[data[2]]) == 0:\n",
    "            new_dat.get(data[0]).get(Nline).get(data[1]).get(var)[data[2]] = np.array([np.nan])\n",
    "        temp_dict[var] = new_dat.get(data[0]).get(Nline).get(data[1]).get(var)[data[2]][0]\n",
    "    Dic_list.append(temp_dict)"
   ]
  },
  {
   "cell_type": "code",
   "execution_count": 24,
   "metadata": {
    "collapsed": false
   },
   "outputs": [
    {
     "data": {
      "text/plain": [
       "8.0"
      ]
     },
     "execution_count": 24,
     "metadata": {},
     "output_type": "execute_result"
    }
   ],
   "source": [
    "#Create dataframe\n",
    "nline_df = pd.DataFrame(Dic_list, index=indexes)\n",
    "sum(nline_df.loc[sub_ex].loc['run1'].iloc[0:48]['catch'])"
   ]
  },
  {
   "cell_type": "code",
   "execution_count": 25,
   "metadata": {
    "collapsed": false
   },
   "outputs": [
    {
     "data": {
      "text/plain": [
       "Trial\n",
       "0    0.74\n",
       "1    0.60\n",
       "2    0.33\n",
       "3    0.93\n",
       "4    0.07\n",
       "5    0.85\n",
       "6    0.45\n",
       "7    0.28\n",
       "8    0.65\n",
       "9    0.09\n",
       "Name: Line_pct, dtype: float64"
      ]
     },
     "execution_count": 25,
     "metadata": {},
     "output_type": "execute_result"
    }
   ],
   "source": [
    "nline_df.loc[sub_ex].loc['run4'].iloc[0:10]['Line_pct']"
   ]
  },
  {
   "cell_type": "code",
   "execution_count": 26,
   "metadata": {
    "collapsed": false
   },
   "outputs": [
    {
     "data": {
      "text/plain": [
       "FrozenList([u'Subject', u'Run', u'Trial'])"
      ]
     },
     "execution_count": 26,
     "metadata": {},
     "output_type": "execute_result"
    }
   ],
   "source": [
    "nline_df.index.names = ['Subject', 'Run', 'Trial']\n",
    "nline_df.index.names"
   ]
  },
  {
   "cell_type": "code",
   "execution_count": 27,
   "metadata": {
    "collapsed": false
   },
   "outputs": [],
   "source": [
    "#test = nline_df['Probe']\n",
    "#for i in range(0,len(test)):\n",
    "#    test[i] = np.ravel(test[i])\n",
    "#    test[i] = test[i][0]\n",
    "#nline_df['Probe'] = test\n",
    "#nline_df['Probe']"
   ]
  },
  {
   "cell_type": "markdown",
   "metadata": {},
   "source": [
    "### Create Stim Labels"
   ]
  },
  {
   "cell_type": "code",
   "execution_count": 28,
   "metadata": {
    "collapsed": false
   },
   "outputs": [],
   "source": [
    "#now nline\n",
    "#nline_df['Num'] = nline_df['Num'].map('{:.0f}'.format)\n",
    "#nline_df['Denom'] = nline_df['Denom'].map('{:.0f}'.format)\n",
    "#nline_df['Stim'] = nline_df['Num']+'/'+nline_df['Denom']\n",
    "#nline_df['Stim']"
   ]
  },
  {
   "cell_type": "code",
   "execution_count": 29,
   "metadata": {
    "collapsed": false
   },
   "outputs": [
    {
     "data": {
      "text/plain": [
       "Index([u'Acc', u'BadPress', u'Block', u'Correct', u'Error', u'ITI_onset',\n",
       "       u'ITI_onset_real', u'Line_pct', u'Points', u'Press', u'Probe', u'RT',\n",
       "       u'Response', u'Slow', u'Task', u'Trial', u'Wrong', u'catch',\n",
       "       u'consider_onset', u'consider_onset_real', u'cursor_pos',\n",
       "       u'decision_end', u'decision_end_real', u'decision_onset',\n",
       "       u'decision_onset_real', u'hold', u'hold_onset', u'hold_onset_real',\n",
       "       u'iti'],\n",
       "      dtype='object')"
      ]
     },
     "execution_count": 29,
     "metadata": {},
     "output_type": "execute_result"
    }
   ],
   "source": [
    "nline_df.columns"
   ]
  },
  {
   "cell_type": "code",
   "execution_count": 30,
   "metadata": {
    "collapsed": false
   },
   "outputs": [
    {
     "name": "stderr",
     "output_type": "stream",
     "text": [
      "/anaconda/lib/python2.7/site-packages/IPython/kernel/__main__.py:3: SettingWithCopyWarning: \n",
      "A value is trying to be set on a copy of a slice from a DataFrame\n",
      "\n",
      "See the caveats in the documentation: http://pandas.pydata.org/pandas-docs/stable/indexing.html#indexing-view-versus-copy\n",
      "  app.launch_new_instance()\n",
      "/anaconda/lib/python2.7/site-packages/IPython/kernel/__main__.py:4: SettingWithCopyWarning: \n",
      "A value is trying to be set on a copy of a slice from a DataFrame\n",
      "\n",
      "See the caveats in the documentation: http://pandas.pydata.org/pandas-docs/stable/indexing.html#indexing-view-versus-copy\n",
      "/anaconda/lib/python2.7/site-packages/IPython/kernel/__main__.py:5: SettingWithCopyWarning: \n",
      "A value is trying to be set on a copy of a slice from a DataFrame\n",
      "\n",
      "See the caveats in the documentation: http://pandas.pydata.org/pandas-docs/stable/indexing.html#indexing-view-versus-copy\n"
     ]
    },
    {
     "data": {
      "text/plain": [
       "'Pos'"
      ]
     },
     "execution_count": 30,
     "metadata": {},
     "output_type": "execute_result"
    }
   ],
   "source": [
    "#Make task as string\n",
    "nline_df['Task'] = nline_df['Task'].astype(str)\n",
    "nline_df['Task'][nline_df['Task']=='1.0'] = 'Pos'\n",
    "nline_df['Task'][nline_df['Task']=='2.0'] = 'Neg'\n",
    "nline_df['Task'][nline_df['Task']=='3.0'] = 'Word'\n",
    "nline_df['Task'].iloc[16]"
   ]
  },
  {
   "cell_type": "code",
   "execution_count": 31,
   "metadata": {
    "collapsed": false
   },
   "outputs": [
    {
     "data": {
      "text/plain": [
       "Subject  Run   Trial\n",
       "s_03001  run1  0        Pos\n",
       "               1        Pos\n",
       "               2        Pos\n",
       "               3        Pos\n",
       "               4        Pos\n",
       "               5        Pos\n",
       "               6        Pos\n",
       "               7        Pos\n",
       "               8        Pos\n",
       "               9        Pos\n",
       "               10       Pos\n",
       "               11       Pos\n",
       "               12       Pos\n",
       "               13       Pos\n",
       "               14       Pos\n",
       "               15       Pos\n",
       "               16       Pos\n",
       "               17       Pos\n",
       "               18       Pos\n",
       "               19       Pos\n",
       "               20       Pos\n",
       "               21       Pos\n",
       "               22       Pos\n",
       "               23       Pos\n",
       "               24       Pos\n",
       "               25       Pos\n",
       "               26       Pos\n",
       "               27       Pos\n",
       "               28       Pos\n",
       "               29       Pos\n",
       "                       ... \n",
       "s_03006  run4  2        Pos\n",
       "               3        Pos\n",
       "               4        Pos\n",
       "               5        Pos\n",
       "               6        Pos\n",
       "               7        Pos\n",
       "               8        Pos\n",
       "               9        Pos\n",
       "               10       Pos\n",
       "               11       Pos\n",
       "               12       Pos\n",
       "               13       Pos\n",
       "               14       Pos\n",
       "               15       Pos\n",
       "               16       Pos\n",
       "               17       Pos\n",
       "               18       Pos\n",
       "               19       Pos\n",
       "               20       Pos\n",
       "               21       Pos\n",
       "               22       Pos\n",
       "               23       Pos\n",
       "               24       Pos\n",
       "               25       Pos\n",
       "               26       Pos\n",
       "               27       Pos\n",
       "               28       Pos\n",
       "               29       Pos\n",
       "               30       Pos\n",
       "               31       Pos\n",
       "Name: Task, dtype: object"
      ]
     },
     "execution_count": 31,
     "metadata": {},
     "output_type": "execute_result"
    }
   ],
   "source": [
    "nline_df['Task']"
   ]
  },
  {
   "cell_type": "code",
   "execution_count": 32,
   "metadata": {
    "collapsed": false
   },
   "outputs": [
    {
     "data": {
      "text/plain": [
       "Subject  Run   Trial\n",
       "s_03001  run1  0        0.14\n",
       "               1        0.07\n",
       "               2        0.15\n",
       "               3        0.05\n",
       "               4        0.07\n",
       "               5        0.17\n",
       "               6        0.24\n",
       "               7        0.23\n",
       "               8        0.09\n",
       "               9        0.09\n",
       "               10       0.07\n",
       "               11       0.15\n",
       "               12       0.10\n",
       "               13       0.11\n",
       "               14       0.22\n",
       "               15       0.21\n",
       "               16       0.24\n",
       "               17       0.10\n",
       "               18       0.07\n",
       "               19       0.09\n",
       "               20       0.07\n",
       "               21       0.23\n",
       "               22       0.15\n",
       "               23       0.15\n",
       "               24       0.07\n",
       "               25       0.14\n",
       "               26       0.09\n",
       "               27       0.11\n",
       "               28       0.21\n",
       "               29       0.17\n",
       "                        ... \n",
       "s_03006  run4  2        0.23\n",
       "               3        0.15\n",
       "               4        0.07\n",
       "               5        0.22\n",
       "               6        0.15\n",
       "               7        0.07\n",
       "               8        0.10\n",
       "               9        0.14\n",
       "               10       0.21\n",
       "               11       0.05\n",
       "               12       0.24\n",
       "               13       0.07\n",
       "               14       0.11\n",
       "               15       0.09\n",
       "               16       0.11\n",
       "               17       0.15\n",
       "               18       0.05\n",
       "               19       0.07\n",
       "               20       0.07\n",
       "               21       0.15\n",
       "               22       0.10\n",
       "               23       0.22\n",
       "               24       0.17\n",
       "               25       0.09\n",
       "               26       0.14\n",
       "               27       0.07\n",
       "               28       0.21\n",
       "               29       0.09\n",
       "               30       0.23\n",
       "               31       0.24\n",
       "Name: LandmarkDist, dtype: float64"
      ]
     },
     "execution_count": 32,
     "metadata": {},
     "output_type": "execute_result"
    }
   ],
   "source": [
    "nline_df['Dist0'] = abs(nline_df['Line_pct'] - 0)\n",
    "nline_df['Dist100'] = abs(nline_df['Line_pct'] - 1)\n",
    "nline_df['Dist50'] = abs(nline_df['Line_pct'] - 0.5)\n",
    "nline_df['LandmarkDist'] = nline_df[['Dist0','Dist100','Dist50']].min(axis=1) \n",
    "nline_df['LandmarkDist']"
   ]
  },
  {
   "cell_type": "markdown",
   "metadata": {
    "collapsed": true
   },
   "source": [
    "## Number Line Analyses"
   ]
  },
  {
   "cell_type": "markdown",
   "metadata": {},
   "source": [
    "### Accuracy & RT"
   ]
  },
  {
   "cell_type": "code",
   "execution_count": 33,
   "metadata": {
    "collapsed": false
   },
   "outputs": [
    {
     "data": {
      "text/plain": [
       "432"
      ]
     },
     "execution_count": 33,
     "metadata": {},
     "output_type": "execute_result"
    }
   ],
   "source": [
    "nline_no_miss = nline_df[['Error', 'RT', 'catch']]\n",
    "nline_no_miss = nline_no_miss[nline_no_miss['catch']<1]\n",
    "len(nline_no_miss)"
   ]
  },
  {
   "cell_type": "code",
   "execution_count": 34,
   "metadata": {
    "collapsed": false
   },
   "outputs": [],
   "source": [
    "#nline_no_miss = nline_no_miss.replace(-1, np.nan)\n",
    "nline_no_miss = nline_no_miss.drop('catch', 1)"
   ]
  },
  {
   "cell_type": "code",
   "execution_count": 35,
   "metadata": {
    "collapsed": false
   },
   "outputs": [
    {
     "name": "stderr",
     "output_type": "stream",
     "text": [
      "/anaconda/lib/python2.7/site-packages/IPython/kernel/__main__.py:2: SettingWithCopyWarning: \n",
      "A value is trying to be set on a copy of a slice from a DataFrame\n",
      "\n",
      "See the caveats in the documentation: http://pandas.pydata.org/pandas-docs/stable/indexing.html#indexing-view-versus-copy\n",
      "  from IPython.kernel.zmq import kernelapp as app\n"
     ]
    },
    {
     "data": {
      "text/html": [
       "<div>\n",
       "<table border=\"1\" class=\"dataframe\">\n",
       "  <thead>\n",
       "    <tr style=\"text-align: right;\">\n",
       "      <th></th>\n",
       "      <th></th>\n",
       "      <th></th>\n",
       "      <th>Error</th>\n",
       "      <th>RT</th>\n",
       "      <th>Missed</th>\n",
       "    </tr>\n",
       "    <tr>\n",
       "      <th>Subject</th>\n",
       "      <th>Run</th>\n",
       "      <th>Trial</th>\n",
       "      <th></th>\n",
       "      <th></th>\n",
       "      <th></th>\n",
       "    </tr>\n",
       "  </thead>\n",
       "  <tbody>\n",
       "    <tr>\n",
       "      <th>s_03001</th>\n",
       "      <th>run4</th>\n",
       "      <th>13</th>\n",
       "      <td>1</td>\n",
       "      <td>-1</td>\n",
       "      <td>1</td>\n",
       "    </tr>\n",
       "    <tr>\n",
       "      <th>s_03003</th>\n",
       "      <th>run3</th>\n",
       "      <th>15</th>\n",
       "      <td>1</td>\n",
       "      <td>-1</td>\n",
       "      <td>1</td>\n",
       "    </tr>\n",
       "    <tr>\n",
       "      <th rowspan=\"6\" valign=\"top\">s_03004</th>\n",
       "      <th rowspan=\"3\" valign=\"top\">run1</th>\n",
       "      <th>12</th>\n",
       "      <td>1</td>\n",
       "      <td>-1</td>\n",
       "      <td>1</td>\n",
       "    </tr>\n",
       "    <tr>\n",
       "      <th>21</th>\n",
       "      <td>1</td>\n",
       "      <td>-1</td>\n",
       "      <td>1</td>\n",
       "    </tr>\n",
       "    <tr>\n",
       "      <th>30</th>\n",
       "      <td>1</td>\n",
       "      <td>-1</td>\n",
       "      <td>1</td>\n",
       "    </tr>\n",
       "    <tr>\n",
       "      <th>run3</th>\n",
       "      <th>12</th>\n",
       "      <td>1</td>\n",
       "      <td>-1</td>\n",
       "      <td>1</td>\n",
       "    </tr>\n",
       "    <tr>\n",
       "      <th rowspan=\"2\" valign=\"top\">run2</th>\n",
       "      <th>0</th>\n",
       "      <td>1</td>\n",
       "      <td>-1</td>\n",
       "      <td>1</td>\n",
       "    </tr>\n",
       "    <tr>\n",
       "      <th>4</th>\n",
       "      <td>1</td>\n",
       "      <td>-1</td>\n",
       "      <td>1</td>\n",
       "    </tr>\n",
       "    <tr>\n",
       "      <th rowspan=\"3\" valign=\"top\">s_03005</th>\n",
       "      <th>run3</th>\n",
       "      <th>7</th>\n",
       "      <td>1</td>\n",
       "      <td>-1</td>\n",
       "      <td>1</td>\n",
       "    </tr>\n",
       "    <tr>\n",
       "      <th>run2</th>\n",
       "      <th>28</th>\n",
       "      <td>1</td>\n",
       "      <td>-1</td>\n",
       "      <td>1</td>\n",
       "    </tr>\n",
       "    <tr>\n",
       "      <th>run4</th>\n",
       "      <th>5</th>\n",
       "      <td>1</td>\n",
       "      <td>-1</td>\n",
       "      <td>1</td>\n",
       "    </tr>\n",
       "    <tr>\n",
       "      <th>s_03006</th>\n",
       "      <th>run4</th>\n",
       "      <th>5</th>\n",
       "      <td>1</td>\n",
       "      <td>-1</td>\n",
       "      <td>1</td>\n",
       "    </tr>\n",
       "  </tbody>\n",
       "</table>\n",
       "</div>"
      ],
      "text/plain": [
       "                    Error  RT  Missed\n",
       "Subject Run  Trial                   \n",
       "s_03001 run4 13         1  -1       1\n",
       "s_03003 run3 15         1  -1       1\n",
       "s_03004 run1 12         1  -1       1\n",
       "             21         1  -1       1\n",
       "             30         1  -1       1\n",
       "        run3 12         1  -1       1\n",
       "        run2 0          1  -1       1\n",
       "             4          1  -1       1\n",
       "s_03005 run3 7          1  -1       1\n",
       "        run2 28         1  -1       1\n",
       "        run4 5          1  -1       1\n",
       "s_03006 run4 5          1  -1       1"
      ]
     },
     "execution_count": 35,
     "metadata": {},
     "output_type": "execute_result"
    }
   ],
   "source": [
    "nline_no_miss['Missed'] = 0\n",
    "nline_no_miss['Missed'][(nline_no_miss.RT == -1) & (nline_no_miss.Error == 1)] = 1\n",
    "nline_no_miss[nline_no_miss.Missed==1]"
   ]
  },
  {
   "cell_type": "code",
   "execution_count": 38,
   "metadata": {
    "collapsed": false
   },
   "outputs": [
    {
     "data": {
      "text/plain": [
       "Subject  Run   Trial\n",
       "s_03001  run1  0        0\n",
       "               2        0\n",
       "               3        0\n",
       "               4        0\n",
       "               5        0\n",
       "               6        0\n",
       "               7        0\n",
       "               8        0\n",
       "               10       0\n",
       "               12       0\n",
       "               13       0\n",
       "               14       0\n",
       "               16       0\n",
       "               17       0\n",
       "               18       0\n",
       "               19       0\n",
       "               21       0\n",
       "               22       0\n",
       "               24       0\n",
       "               25       0\n",
       "               27       0\n",
       "               29       0\n",
       "               30       0\n",
       "               31       0\n",
       "         run3  0        0\n",
       "               1        0\n",
       "               3        0\n",
       "               4        0\n",
       "               5        0\n",
       "               6        0\n",
       "                       ..\n",
       "s_03006  run2  23       0\n",
       "               24       0\n",
       "               26       0\n",
       "               27       0\n",
       "               29       0\n",
       "               30       0\n",
       "         run4  0        0\n",
       "               2        0\n",
       "               3        0\n",
       "               4        0\n",
       "               5        1\n",
       "               7        0\n",
       "               8        0\n",
       "               9        0\n",
       "               11       0\n",
       "               13       0\n",
       "               14       0\n",
       "               15       0\n",
       "               16       0\n",
       "               17       0\n",
       "               18       0\n",
       "               19       0\n",
       "               20       0\n",
       "               22       0\n",
       "               23       0\n",
       "               25       0\n",
       "               26       0\n",
       "               27       0\n",
       "               29       0\n",
       "               30       0\n",
       "Name: Missed, dtype: int64"
      ]
     },
     "execution_count": 38,
     "metadata": {},
     "output_type": "execute_result"
    }
   ],
   "source": [
    "nline_missed = nline_no_miss['Missed']\n",
    "nline_missed"
   ]
  },
  {
   "cell_type": "markdown",
   "metadata": {},
   "source": [
    "## How many trials missed?"
   ]
  },
  {
   "cell_type": "code",
   "execution_count": 39,
   "metadata": {
    "collapsed": false
   },
   "outputs": [
    {
     "data": {
      "text/plain": [
       "Subject\n",
       "s_03001    1\n",
       "s_03003    1\n",
       "s_03004    6\n",
       "s_03005    3\n",
       "s_03006    1\n",
       "Name: Missed, dtype: int64"
      ]
     },
     "execution_count": 39,
     "metadata": {},
     "output_type": "execute_result"
    }
   ],
   "source": [
    "nline_missed.groupby(level=0).sum()"
   ]
  },
  {
   "cell_type": "code",
   "execution_count": 40,
   "metadata": {
    "collapsed": true
   },
   "outputs": [],
   "source": [
    "missed = nline_missed.groupby(level=0).sum()"
   ]
  },
  {
   "cell_type": "markdown",
   "metadata": {},
   "source": [
    "## Subject Averages"
   ]
  },
  {
   "cell_type": "code",
   "execution_count": 41,
   "metadata": {
    "collapsed": false
   },
   "outputs": [
    {
     "data": {
      "text/html": [
       "<div>\n",
       "<table border=\"1\" class=\"dataframe\">\n",
       "  <thead>\n",
       "    <tr style=\"text-align: right;\">\n",
       "      <th></th>\n",
       "      <th>Error</th>\n",
       "      <th>RT</th>\n",
       "      <th>Missed</th>\n",
       "    </tr>\n",
       "    <tr>\n",
       "      <th>Subject</th>\n",
       "      <th></th>\n",
       "      <th></th>\n",
       "      <th></th>\n",
       "    </tr>\n",
       "  </thead>\n",
       "  <tbody>\n",
       "    <tr>\n",
       "      <th>s_03001</th>\n",
       "      <td>0.189474</td>\n",
       "      <td>0.586479</td>\n",
       "      <td>0</td>\n",
       "    </tr>\n",
       "    <tr>\n",
       "      <th>s_03003</th>\n",
       "      <td>0.042254</td>\n",
       "      <td>0.621277</td>\n",
       "      <td>0</td>\n",
       "    </tr>\n",
       "    <tr>\n",
       "      <th>s_03004</th>\n",
       "      <td>0.242424</td>\n",
       "      <td>1.027103</td>\n",
       "      <td>0</td>\n",
       "    </tr>\n",
       "    <tr>\n",
       "      <th>s_03005</th>\n",
       "      <td>0.096774</td>\n",
       "      <td>0.805840</td>\n",
       "      <td>0</td>\n",
       "    </tr>\n",
       "    <tr>\n",
       "      <th>s_03006</th>\n",
       "      <td>0.400000</td>\n",
       "      <td>0.781599</td>\n",
       "      <td>0</td>\n",
       "    </tr>\n",
       "  </tbody>\n",
       "</table>\n",
       "</div>"
      ],
      "text/plain": [
       "            Error        RT  Missed\n",
       "Subject                            \n",
       "s_03001  0.189474  0.586479       0\n",
       "s_03003  0.042254  0.621277       0\n",
       "s_03004  0.242424  1.027103       0\n",
       "s_03005  0.096774  0.805840       0\n",
       "s_03006  0.400000  0.781599       0"
      ]
     },
     "execution_count": 41,
     "metadata": {},
     "output_type": "execute_result"
    }
   ],
   "source": [
    "nline_no_miss = nline_no_miss[nline_no_miss['Missed'] == 0]\n",
    "nline_no_miss.groupby(level=0).mean()"
   ]
  },
  {
   "cell_type": "markdown",
   "metadata": {},
   "source": [
    "## Overall Averages"
   ]
  },
  {
   "cell_type": "code",
   "execution_count": 42,
   "metadata": {
    "collapsed": false
   },
   "outputs": [
    {
     "data": {
      "text/plain": [
       "Error     0.194185\n",
       "RT        0.764459\n",
       "Missed    0.000000\n",
       "dtype: float64"
      ]
     },
     "execution_count": 42,
     "metadata": {},
     "output_type": "execute_result"
    }
   ],
   "source": [
    "np.mean(nline_no_miss.groupby(level=0).mean())"
   ]
  },
  {
   "cell_type": "markdown",
   "metadata": {},
   "source": [
    "##How many trials did they actually respond?"
   ]
  },
  {
   "cell_type": "code",
   "execution_count": 43,
   "metadata": {
    "collapsed": false
   },
   "outputs": [
    {
     "data": {
      "text/plain": [
       "Subject\n",
       "s_03001    95\n",
       "s_03003    71\n",
       "s_03004    66\n",
       "s_03005    93\n",
       "s_03006    95\n",
       "Name: RT, dtype: int64"
      ]
     },
     "execution_count": 43,
     "metadata": {},
     "output_type": "execute_result"
    }
   ],
   "source": [
    "nline_no_miss_subj = nline_no_miss.groupby(level=0)\n",
    "nline_no_miss_subj['RT'].count()"
   ]
  },
  {
   "cell_type": "markdown",
   "metadata": {},
   "source": [
    "## RT Histograms"
   ]
  },
  {
   "cell_type": "code",
   "execution_count": 44,
   "metadata": {
    "collapsed": false
   },
   "outputs": [
    {
     "data": {
      "text/plain": [
       "<matplotlib.text.Text at 0x10c88a710>"
      ]
     },
     "execution_count": 44,
     "metadata": {},
     "output_type": "execute_result"
    },
    {
     "data": {
      "image/png": "[encoded data removed]",
      "text/plain": [
       "<matplotlib.figure.Figure at 0x1055c9390>"
      ]
     },
     "metadata": {},
     "output_type": "display_data"
    }
   ],
   "source": [
    "nline_no_miss['RT'].hist(bins=20, range=[0,1.5])\n",
    "plt.ylim([0,100])\n",
    "plt.title('Number Line')\n",
    "plt.xlabel('Seconds', labelpad = 18)\n",
    "plt.ylabel('Frequency', labelpad = 18)"
   ]
  },
  {
   "cell_type": "code",
   "execution_count": 45,
   "metadata": {
    "collapsed": false
   },
   "outputs": [],
   "source": [
    "nline_miss = nline_df[['Error', 'RT', 'catch', 'Line_pct', 'Response']]\n",
    "nline_miss = nline_miss[nline_miss['catch']<1]"
   ]
  },
  {
   "cell_type": "code",
   "execution_count": 46,
   "metadata": {
    "collapsed": false
   },
   "outputs": [
    {
     "name": "stderr",
     "output_type": "stream",
     "text": [
      "/anaconda/lib/python2.7/site-packages/IPython/kernel/__main__.py:2: SettingWithCopyWarning: \n",
      "A value is trying to be set on a copy of a slice from a DataFrame\n",
      "\n",
      "See the caveats in the documentation: http://pandas.pydata.org/pandas-docs/stable/indexing.html#indexing-view-versus-copy\n",
      "  from IPython.kernel.zmq import kernelapp as app\n"
     ]
    }
   ],
   "source": [
    "nline_miss['Missed'] = 0\n",
    "nline_miss['Missed'][(nline_miss.RT == -1) & (nline_miss.Error == 1)] = 1"
   ]
  },
  {
   "cell_type": "code",
   "execution_count": 47,
   "metadata": {
    "collapsed": false
   },
   "outputs": [
    {
     "data": {
      "text/html": [
       "<div>\n",
       "<table border=\"1\" class=\"dataframe\">\n",
       "  <thead>\n",
       "    <tr style=\"text-align: right;\">\n",
       "      <th></th>\n",
       "      <th></th>\n",
       "      <th></th>\n",
       "      <th>Error</th>\n",
       "      <th>RT</th>\n",
       "      <th>catch</th>\n",
       "      <th>Line_pct</th>\n",
       "      <th>Response</th>\n",
       "      <th>Missed</th>\n",
       "    </tr>\n",
       "    <tr>\n",
       "      <th>Subject</th>\n",
       "      <th>Run</th>\n",
       "      <th>Trial</th>\n",
       "      <th></th>\n",
       "      <th></th>\n",
       "      <th></th>\n",
       "      <th></th>\n",
       "      <th></th>\n",
       "      <th></th>\n",
       "    </tr>\n",
       "  </thead>\n",
       "  <tbody>\n",
       "    <tr>\n",
       "      <th>s_03001</th>\n",
       "      <th>run4</th>\n",
       "      <th>13</th>\n",
       "      <td>1</td>\n",
       "      <td>-1</td>\n",
       "      <td>0</td>\n",
       "      <td>0.11</td>\n",
       "      <td>0</td>\n",
       "      <td>1</td>\n",
       "    </tr>\n",
       "    <tr>\n",
       "      <th>s_03003</th>\n",
       "      <th>run3</th>\n",
       "      <th>15</th>\n",
       "      <td>1</td>\n",
       "      <td>-1</td>\n",
       "      <td>0</td>\n",
       "      <td>0.07</td>\n",
       "      <td>0</td>\n",
       "      <td>1</td>\n",
       "    </tr>\n",
       "    <tr>\n",
       "      <th rowspan=\"6\" valign=\"top\">s_03004</th>\n",
       "      <th rowspan=\"3\" valign=\"top\">run1</th>\n",
       "      <th>12</th>\n",
       "      <td>1</td>\n",
       "      <td>-1</td>\n",
       "      <td>0</td>\n",
       "      <td>0.36</td>\n",
       "      <td>0</td>\n",
       "      <td>1</td>\n",
       "    </tr>\n",
       "    <tr>\n",
       "      <th>21</th>\n",
       "      <td>1</td>\n",
       "      <td>-1</td>\n",
       "      <td>0</td>\n",
       "      <td>0.07</td>\n",
       "      <td>0</td>\n",
       "      <td>1</td>\n",
       "    </tr>\n",
       "    <tr>\n",
       "      <th>30</th>\n",
       "      <td>1</td>\n",
       "      <td>-1</td>\n",
       "      <td>0</td>\n",
       "      <td>0.21</td>\n",
       "      <td>0</td>\n",
       "      <td>1</td>\n",
       "    </tr>\n",
       "    <tr>\n",
       "      <th>run3</th>\n",
       "      <th>12</th>\n",
       "      <td>1</td>\n",
       "      <td>-1</td>\n",
       "      <td>0</td>\n",
       "      <td>0.93</td>\n",
       "      <td>0</td>\n",
       "      <td>1</td>\n",
       "    </tr>\n",
       "    <tr>\n",
       "      <th rowspan=\"2\" valign=\"top\">run2</th>\n",
       "      <th>0</th>\n",
       "      <td>1</td>\n",
       "      <td>-1</td>\n",
       "      <td>0</td>\n",
       "      <td>0.74</td>\n",
       "      <td>0</td>\n",
       "      <td>1</td>\n",
       "    </tr>\n",
       "    <tr>\n",
       "      <th>4</th>\n",
       "      <td>1</td>\n",
       "      <td>-1</td>\n",
       "      <td>0</td>\n",
       "      <td>0.07</td>\n",
       "      <td>0</td>\n",
       "      <td>1</td>\n",
       "    </tr>\n",
       "    <tr>\n",
       "      <th rowspan=\"3\" valign=\"top\">s_03005</th>\n",
       "      <th>run3</th>\n",
       "      <th>7</th>\n",
       "      <td>1</td>\n",
       "      <td>-1</td>\n",
       "      <td>0</td>\n",
       "      <td>0.07</td>\n",
       "      <td>0</td>\n",
       "      <td>1</td>\n",
       "    </tr>\n",
       "    <tr>\n",
       "      <th>run2</th>\n",
       "      <th>28</th>\n",
       "      <td>1</td>\n",
       "      <td>-1</td>\n",
       "      <td>0</td>\n",
       "      <td>0.07</td>\n",
       "      <td>0</td>\n",
       "      <td>1</td>\n",
       "    </tr>\n",
       "    <tr>\n",
       "      <th>run4</th>\n",
       "      <th>5</th>\n",
       "      <td>1</td>\n",
       "      <td>-1</td>\n",
       "      <td>0</td>\n",
       "      <td>0.74</td>\n",
       "      <td>0</td>\n",
       "      <td>1</td>\n",
       "    </tr>\n",
       "    <tr>\n",
       "      <th>s_03006</th>\n",
       "      <th>run4</th>\n",
       "      <th>5</th>\n",
       "      <td>1</td>\n",
       "      <td>-1</td>\n",
       "      <td>0</td>\n",
       "      <td>0.28</td>\n",
       "      <td>0</td>\n",
       "      <td>1</td>\n",
       "    </tr>\n",
       "  </tbody>\n",
       "</table>\n",
       "</div>"
      ],
      "text/plain": [
       "                    Error  RT  catch  Line_pct  Response  Missed\n",
       "Subject Run  Trial                                              \n",
       "s_03001 run4 13         1  -1      0      0.11         0       1\n",
       "s_03003 run3 15         1  -1      0      0.07         0       1\n",
       "s_03004 run1 12         1  -1      0      0.36         0       1\n",
       "             21         1  -1      0      0.07         0       1\n",
       "             30         1  -1      0      0.21         0       1\n",
       "        run3 12         1  -1      0      0.93         0       1\n",
       "        run2 0          1  -1      0      0.74         0       1\n",
       "             4          1  -1      0      0.07         0       1\n",
       "s_03005 run3 7          1  -1      0      0.07         0       1\n",
       "        run2 28         1  -1      0      0.07         0       1\n",
       "        run4 5          1  -1      0      0.74         0       1\n",
       "s_03006 run4 5          1  -1      0      0.28         0       1"
      ]
     },
     "execution_count": 47,
     "metadata": {},
     "output_type": "execute_result"
    }
   ],
   "source": [
    "responded = nline_miss[nline_miss['Missed']==0]\n",
    "nline_miss = nline_miss[nline_miss['Missed']==1]\n",
    "nline_miss"
   ]
  },
  {
   "cell_type": "code",
   "execution_count": 48,
   "metadata": {
    "collapsed": false
   },
   "outputs": [],
   "source": [
    "position_missed = nline_miss.groupby('Line_pct')\n",
    "position_missed = position_missed['Missed']"
   ]
  },
  {
   "cell_type": "code",
   "execution_count": 49,
   "metadata": {
    "collapsed": false
   },
   "outputs": [
    {
     "data": {
      "text/plain": [
       "Line_pct\n",
       "0.07    5\n",
       "0.11    1\n",
       "0.21    1\n",
       "0.28    1\n",
       "0.36    1\n",
       "0.74    2\n",
       "0.93    1\n",
       "Name: Missed, dtype: int64"
      ]
     },
     "execution_count": 49,
     "metadata": {},
     "output_type": "execute_result"
    }
   ],
   "source": [
    "position_missed.count()"
   ]
  },
  {
   "cell_type": "code",
   "execution_count": 50,
   "metadata": {
    "collapsed": false
   },
   "outputs": [
    {
     "data": {
      "text/plain": [
       "([<matplotlib.axis.YTick at 0x10cad8e10>,\n",
       "  <matplotlib.axis.YTick at 0x10c95e310>,\n",
       "  <matplotlib.axis.YTick at 0x10cb26d90>,\n",
       "  <matplotlib.axis.YTick at 0x10cb34590>],\n",
       " <a list of 4 Text yticklabel objects>)"
      ]
     },
     "execution_count": 50,
     "metadata": {},
     "output_type": "execute_result"
    },
    {
     "data": {
      "image/png": "[encoded data removed]",
      "text/plain": [
       "<matplotlib.figure.Figure at 0x10c9791d0>"
      ]
     },
     "metadata": {},
     "output_type": "display_data"
    }
   ],
   "source": [
    "plt.plot(position_missed.count().index,position_missed.count(), 'o')\n",
    "plt.title('Misses By Position N+')\n",
    "plt.xlabel('Misses', labelpad = 4)\n",
    "plt.ylabel('Count')\n",
    "plt.ylim([0,6])\n",
    "plt.yticks(([0,2,4,6]))"
   ]
  },
  {
   "cell_type": "markdown",
   "metadata": {},
   "source": [
    "##Overall Averages"
   ]
  },
  {
   "cell_type": "code",
   "execution_count": 51,
   "metadata": {
    "collapsed": false
   },
   "outputs": [
    {
     "data": {
      "text/plain": [
       "Error    0.194185\n",
       "RT       0.764459\n",
       "dtype: float64"
      ]
     },
     "execution_count": 51,
     "metadata": {},
     "output_type": "execute_result"
    }
   ],
   "source": [
    "responded_subj = responded.groupby(level=0)\n",
    "np.mean(responded_subj[['Error', 'RT']].mean())"
   ]
  },
  {
   "cell_type": "markdown",
   "metadata": {},
   "source": [
    "##Averages by subjected for responded trials"
   ]
  },
  {
   "cell_type": "code",
   "execution_count": 52,
   "metadata": {
    "collapsed": false
   },
   "outputs": [
    {
     "data": {
      "text/html": [
       "<div>\n",
       "<table border=\"1\" class=\"dataframe\">\n",
       "  <thead>\n",
       "    <tr style=\"text-align: right;\">\n",
       "      <th></th>\n",
       "      <th>Error</th>\n",
       "      <th>RT</th>\n",
       "    </tr>\n",
       "    <tr>\n",
       "      <th>Subject</th>\n",
       "      <th></th>\n",
       "      <th></th>\n",
       "    </tr>\n",
       "  </thead>\n",
       "  <tbody>\n",
       "    <tr>\n",
       "      <th>s_03001</th>\n",
       "      <td>0.189474</td>\n",
       "      <td>0.586479</td>\n",
       "    </tr>\n",
       "    <tr>\n",
       "      <th>s_03003</th>\n",
       "      <td>0.042254</td>\n",
       "      <td>0.621277</td>\n",
       "    </tr>\n",
       "    <tr>\n",
       "      <th>s_03004</th>\n",
       "      <td>0.242424</td>\n",
       "      <td>1.027103</td>\n",
       "    </tr>\n",
       "    <tr>\n",
       "      <th>s_03005</th>\n",
       "      <td>0.096774</td>\n",
       "      <td>0.805840</td>\n",
       "    </tr>\n",
       "    <tr>\n",
       "      <th>s_03006</th>\n",
       "      <td>0.400000</td>\n",
       "      <td>0.781599</td>\n",
       "    </tr>\n",
       "  </tbody>\n",
       "</table>\n",
       "</div>"
      ],
      "text/plain": [
       "            Error        RT\n",
       "Subject                    \n",
       "s_03001  0.189474  0.586479\n",
       "s_03003  0.042254  0.621277\n",
       "s_03004  0.242424  1.027103\n",
       "s_03005  0.096774  0.805840\n",
       "s_03006  0.400000  0.781599"
      ]
     },
     "execution_count": 52,
     "metadata": {},
     "output_type": "execute_result"
    }
   ],
   "source": [
    "responded_subj[['Error', 'RT']].mean()"
   ]
  },
  {
   "cell_type": "markdown",
   "metadata": {},
   "source": [
    "## Plots by position"
   ]
  },
  {
   "cell_type": "code",
   "execution_count": 53,
   "metadata": {
    "collapsed": false
   },
   "outputs": [
    {
     "data": {
      "text/plain": [
       "['0.21',\n",
       " '0.09',\n",
       " '0.28',\n",
       " '0.36',\n",
       " '0.85',\n",
       " '0.33',\n",
       " '0.07',\n",
       " '0.6',\n",
       " '0.77',\n",
       " '0.65',\n",
       " '0.74',\n",
       " '0.57',\n",
       " '0.11',\n",
       " '0.45',\n",
       " '0.91',\n",
       " '0.93']"
      ]
     },
     "execution_count": 53,
     "metadata": {},
     "output_type": "execute_result"
    }
   ],
   "source": [
    "responded.Line_pct = responded.Line_pct.astype(str)\n",
    "position_tasks = responded.groupby('Line_pct')\n",
    "position_tasks.groups.keys()"
   ]
  },
  {
   "cell_type": "code",
   "execution_count": 54,
   "metadata": {
    "collapsed": false
   },
   "outputs": [],
   "source": [
    "n_subj = len(responded_subj)"
   ]
  },
  {
   "cell_type": "markdown",
   "metadata": {},
   "source": [
    "##RTs by position averages (across subjects)"
   ]
  },
  {
   "cell_type": "code",
   "execution_count": 55,
   "metadata": {
    "collapsed": false
   },
   "outputs": [
    {
     "data": {
      "text/plain": [
       "Line_pct\n",
       "0.07    0.742435\n",
       "0.09    0.760512\n",
       "0.11    0.759743\n",
       "0.21    0.752678\n",
       "0.28    0.710208\n",
       "0.33    0.762319\n",
       "0.36    0.782239\n",
       "0.45    0.749774\n",
       "0.57    0.774980\n",
       "0.6     0.730667\n",
       "0.65    0.770670\n",
       "0.74    0.752406\n",
       "0.77    0.705467\n",
       "0.85    0.791123\n",
       "0.91    0.765618\n",
       "0.93    0.752439\n",
       "Name: RT, dtype: float64"
      ]
     },
     "execution_count": 55,
     "metadata": {},
     "output_type": "execute_result"
    }
   ],
   "source": [
    "position_tasks['RT'].mean()"
   ]
  },
  {
   "cell_type": "code",
   "execution_count": 56,
   "metadata": {
    "collapsed": true
   },
   "outputs": [],
   "source": [
    "rts = position_tasks['RT'].mean()\n",
    "rts_std = position_tasks['RT'].std()\n",
    "rts_se = rts_std/np.sqrt(n_subj)"
   ]
  },
  {
   "cell_type": "markdown",
   "metadata": {},
   "source": [
    "Next code is to calculate standard error by first computing the mean RT for each subject and then taking the std of the subjects"
   ]
  },
  {
   "cell_type": "code",
   "execution_count": 57,
   "metadata": {
    "collapsed": false
   },
   "outputs": [],
   "source": [
    "D = {}\n",
    "for sub in responded_subj.groups.keys():\n",
    "    for pos in position_tasks.groups.keys():\n",
    "        stim = pos\n",
    "        if D.get(stim,0) == 0:\n",
    "            D[stim] = []\n",
    "        D[stim].append(position_tasks.get_group(stim).loc[sub]['RT'].mean())"
   ]
  },
  {
   "cell_type": "code",
   "execution_count": 58,
   "metadata": {
    "collapsed": false
   },
   "outputs": [
    {
     "data": {
      "text/plain": [
       "{'0.07': 0.16907411201017919,\n",
       " '0.09': 0.14471391248283463,\n",
       " '0.11': 0.13048328291732658,\n",
       " '0.21': 0.12181731620373516,\n",
       " '0.28': 0.12269686038797842,\n",
       " '0.33': 0.13719758485714781,\n",
       " '0.36': 0.15241014595207972,\n",
       " '0.45': 0.14818195394600767,\n",
       " '0.57': 0.18131364262062558,\n",
       " '0.6': 0.19644581636326411,\n",
       " '0.65': 0.20038405723472846,\n",
       " '0.74': 0.2201390911192832,\n",
       " '0.77': 0.17839771315416389,\n",
       " '0.85': 0.20213687881502471,\n",
       " '0.91': 0.15157899853041459,\n",
       " '0.93': 0.17393048885325191}"
      ]
     },
     "execution_count": 58,
     "metadata": {},
     "output_type": "execute_result"
    }
   ],
   "source": [
    "for stim in D:\n",
    "    D[stim] = np.nanstd(D[stim])\n",
    "D"
   ]
  },
  {
   "cell_type": "code",
   "execution_count": 59,
   "metadata": {
    "collapsed": false
   },
   "outputs": [
    {
     "data": {
      "text/plain": [
       "array([ 0.06471803,  0.0548717 ,  0.07778408,  0.06815989,  0.09844919,\n",
       "        0.06135663,  0.05447836,  0.07561224,  0.06626898,  0.07978188,\n",
       "        0.08961447,  0.09039836,  0.0583539 ,  0.08785324,  0.06778819,\n",
       "        0.08108593])"
      ]
     },
     "execution_count": 59,
     "metadata": {},
     "output_type": "execute_result"
    }
   ],
   "source": [
    "rts_std_1 = []\n",
    "for stim in D:\n",
    "    rts_std_1.append(D[stim])\n",
    "rts_se1 = rts_std_1/np.sqrt(n_subj)\n",
    "rts_se1"
   ]
  },
  {
   "cell_type": "code",
   "execution_count": 60,
   "metadata": {
    "collapsed": true
   },
   "outputs": [],
   "source": [
    "error = position_tasks['Error'].mean()\n",
    "error_std = position_tasks['Error'].std()\n",
    "error_se = error_std/np.sqrt(n_subj)"
   ]
  },
  {
   "cell_type": "code",
   "execution_count": 61,
   "metadata": {
    "collapsed": false
   },
   "outputs": [],
   "source": [
    "rts = rts.get_values()"
   ]
  },
  {
   "cell_type": "code",
   "execution_count": 62,
   "metadata": {
    "collapsed": false
   },
   "outputs": [],
   "source": [
    "error = error.get_values()"
   ]
  },
  {
   "cell_type": "code",
   "execution_count": 63,
   "metadata": {
    "collapsed": false
   },
   "outputs": [
    {
     "data": {
      "text/plain": [
       "array(['0.07', '0.09', '0.11', '0.21', '0.28', '0.33', '0.36', '0.45',\n",
       "       '0.57', '0.6', '0.65', '0.74', '0.77', '0.85', '0.91', '0.93'], \n",
       "      dtype='|S4')"
      ]
     },
     "execution_count": 63,
     "metadata": {},
     "output_type": "execute_result"
    }
   ],
   "source": [
    "xvals = np.sort(D.keys())\n",
    "xvals"
   ]
  },
  {
   "cell_type": "code",
   "execution_count": 64,
   "metadata": {
    "collapsed": false
   },
   "outputs": [
    {
     "data": {
      "text/plain": [
       "[0.07,\n",
       " 0.09,\n",
       " 0.11,\n",
       " 0.21,\n",
       " 0.28,\n",
       " 0.33,\n",
       " 0.36,\n",
       " 0.45,\n",
       " 0.57,\n",
       " 0.6,\n",
       " 0.65,\n",
       " 0.74,\n",
       " 0.77,\n",
       " 0.85,\n",
       " 0.91,\n",
       " 0.93]"
      ]
     },
     "execution_count": 64,
     "metadata": {},
     "output_type": "execute_result"
    }
   ],
   "source": [
    "xvals = [float(x) for x in xvals]\n",
    "xvals"
   ]
  },
  {
   "cell_type": "code",
   "execution_count": 65,
   "metadata": {
    "collapsed": true
   },
   "outputs": [],
   "source": [
    "pal = sns.color_palette()"
   ]
  },
  {
   "cell_type": "code",
   "execution_count": 66,
   "metadata": {
    "collapsed": false
   },
   "outputs": [
    {
     "data": {
      "text/plain": [
       "([<matplotlib.axis.YTick at 0x10cbadc50>,\n",
       "  <matplotlib.axis.YTick at 0x10cbadd90>,\n",
       "  <matplotlib.axis.YTick at 0x10cb98410>,\n",
       "  <matplotlib.axis.YTick at 0x10cb6cfd0>,\n",
       "  <matplotlib.axis.YTick at 0x10cb5d210>],\n",
       " <a list of 5 Text yticklabel objects>)"
      ]
     },
     "execution_count": 66,
     "metadata": {},
     "output_type": "execute_result"
    },
    {
     "name": "stderr",
     "output_type": "stream",
     "text": [
      "//anaconda/lib/python2.7/site-packages/matplotlib/collections.py:590: FutureWarning: elementwise comparison failed; returning scalar instead, but in the future will perform elementwise comparison\n",
      "  if self._edgecolors == str('face'):\n"
     ]
    },
    {
     "data": {
      "image/png": "[encoded data removed]",
      "text/plain": [
       "<matplotlib.figure.Figure at 0x10c981dd0>"
      ]
     },
     "metadata": {},
     "output_type": "display_data"
    }
   ],
   "source": [
    "plt.plot(xvals, rts, 'o-', color=pal[0])\n",
    "plt.errorbar(xvals, rts, yerr=rts_se1*1.96)\n",
    "plt.title('Mean RT By Position N+')\n",
    "plt.xlabel('0 to 100', labelpad = 4)\n",
    "plt.ylabel('Mean RT (s)')\n",
    "plt.ylim([0.5,1.0])\n",
    "plt.yticks(([0.5, .625, .75, .875, 1]))"
   ]
  },
  {
   "cell_type": "markdown",
   "metadata": {},
   "source": [
    "## Error by position"
   ]
  },
  {
   "cell_type": "markdown",
   "metadata": {},
   "source": [
    "next code is doing the average for each subject first and then taking the standard deviation"
   ]
  },
  {
   "cell_type": "code",
   "execution_count": 67,
   "metadata": {
    "collapsed": false
   },
   "outputs": [],
   "source": [
    "D = {}\n",
    "for sub in responded_subj.groups.keys():\n",
    "    for pos in position_tasks.groups.keys():\n",
    "        stim = pos\n",
    "        if D.get(stim,0) == 0:\n",
    "            D[stim] = []\n",
    "        D[stim].append(position_tasks.get_group(stim).loc[sub]['Error'].mean())"
   ]
  },
  {
   "cell_type": "code",
   "execution_count": 68,
   "metadata": {
    "collapsed": true
   },
   "outputs": [],
   "source": [
    "for stim in D:\n",
    "    #print task\n",
    "    D[stim] = np.nanstd(D[stim])"
   ]
  },
  {
   "cell_type": "code",
   "execution_count": 69,
   "metadata": {
    "collapsed": true
   },
   "outputs": [],
   "source": [
    "error_std_1 = []\n",
    "for stim in D:\n",
    "    error_std_1.append(D[stim])\n",
    "error_se_1 = error_std_1/np.sqrt(n_subj)"
   ]
  },
  {
   "cell_type": "code",
   "execution_count": 70,
   "metadata": {
    "collapsed": false
   },
   "outputs": [
    {
     "data": {
      "text/plain": [
       "([<matplotlib.axis.YTick at 0x10cdc42d0>,\n",
       "  <matplotlib.axis.YTick at 0x10cb49f10>,\n",
       "  <matplotlib.axis.YTick at 0x10cff6d10>,\n",
       "  <matplotlib.axis.YTick at 0x10cfff450>,\n",
       "  <matplotlib.axis.YTick at 0x10cfffb90>,\n",
       "  <matplotlib.axis.YTick at 0x10cdd8ed0>,\n",
       "  <matplotlib.axis.YTick at 0x10cdcdbd0>],\n",
       " <a list of 7 Text yticklabel objects>)"
      ]
     },
     "execution_count": 70,
     "metadata": {},
     "output_type": "execute_result"
    },
    {
     "data": {
      "image/png": "[encoded data removed]",
      "text/plain": [
       "<matplotlib.figure.Figure at 0x10c95ebd0>"
      ]
     },
     "metadata": {},
     "output_type": "display_data"
    }
   ],
   "source": [
    "plt.plot(xvals, error, 'o-', color=pal[1])\n",
    "plt.errorbar(xvals, error, yerr=error_se_1*1.96, color=pal[1])\n",
    "plt.title('Mean Error By Position N+')\n",
    "plt.xlabel('0 to 100', labelpad = 4)\n",
    "plt.ylabel('Error')\n",
    "plt.ylim([0,0.6])\n",
    "plt.yticks(([0.0,0.1,0.2,0.3,0.4,0.5,0.6]))"
   ]
  },
  {
   "cell_type": "code",
   "execution_count": 71,
   "metadata": {
    "collapsed": false
   },
   "outputs": [
    {
     "data": {
      "text/plain": [
       "array([ 0.07302967,  0.1007086 ,  0.0760117 ,  0.03333333,  0.0942809 ,\n",
       "        0.12472191,  0.07302967,  0.0745356 ,  0.08944272,  0.05577734,\n",
       "        0.06831301,  0.05577734,  0.04657133,  0.06497863,  0.0942809 ,\n",
       "        0.15347819])"
      ]
     },
     "execution_count": 71,
     "metadata": {},
     "output_type": "execute_result"
    }
   ],
   "source": [
    "error_se_1"
   ]
  },
  {
   "cell_type": "code",
   "execution_count": 72,
   "metadata": {
    "collapsed": false
   },
   "outputs": [
    {
     "data": {
      "text/plain": [
       "array([ 0.26086957,  0.14285714,  0.12      ,  0.16      ,  0.22222222,\n",
       "        0.33333333,  0.24      ,  0.15384615,  0.25      ,  0.11538462,\n",
       "        0.19230769,  0.20833333,  0.15384615,  0.21428571,  0.17857143,\n",
       "        0.24      ])"
      ]
     },
     "execution_count": 72,
     "metadata": {},
     "output_type": "execute_result"
    }
   ],
   "source": [
    "error"
   ]
  },
  {
   "cell_type": "markdown",
   "metadata": {},
   "source": [
    "##Correlate PAE Vs Landmark Distance"
   ]
  },
  {
   "cell_type": "markdown",
   "metadata": {},
   "source": [
    "### Distance from 0"
   ]
  },
  {
   "cell_type": "code",
   "execution_count": 73,
   "metadata": {
    "collapsed": false
   },
   "outputs": [
    {
     "data": {
      "text/plain": [
       "array([ 0.07,  0.09,  0.11,  0.21,  0.28,  0.33,  0.36,  0.45,  0.57,\n",
       "        0.6 ,  0.65,  0.74,  0.77,  0.85,  0.91,  0.93])"
      ]
     },
     "execution_count": 73,
     "metadata": {},
     "output_type": "execute_result"
    }
   ],
   "source": [
    "dist_0 = np.array(xvals)\n",
    "dist_0"
   ]
  },
  {
   "cell_type": "markdown",
   "metadata": {},
   "source": [
    "### Distance from 50"
   ]
  },
  {
   "cell_type": "code",
   "execution_count": 74,
   "metadata": {
    "collapsed": false
   },
   "outputs": [
    {
     "data": {
      "text/plain": [
       "array([ 0.43,  0.41,  0.39,  0.29,  0.22,  0.17,  0.14,  0.05,  0.07,\n",
       "        0.1 ,  0.15,  0.24,  0.27,  0.35,  0.41,  0.43])"
      ]
     },
     "execution_count": 74,
     "metadata": {},
     "output_type": "execute_result"
    }
   ],
   "source": [
    "dist_50 = abs(dist_0-0.5)\n",
    "dist_50"
   ]
  },
  {
   "cell_type": "markdown",
   "metadata": {},
   "source": [
    "### Distance from 100"
   ]
  },
  {
   "cell_type": "code",
   "execution_count": 75,
   "metadata": {
    "collapsed": false
   },
   "outputs": [
    {
     "data": {
      "text/plain": [
       "array([ 0.93,  0.91,  0.89,  0.79,  0.72,  0.67,  0.64,  0.55,  0.43,\n",
       "        0.4 ,  0.35,  0.26,  0.23,  0.15,  0.09,  0.07])"
      ]
     },
     "execution_count": 75,
     "metadata": {},
     "output_type": "execute_result"
    }
   ],
   "source": [
    "dist_100 = abs(dist_0 - 1)\n",
    "dist_100"
   ]
  },
  {
   "cell_type": "markdown",
   "metadata": {},
   "source": [
    "### Distance from Landmark"
   ]
  },
  {
   "cell_type": "code",
   "execution_count": 76,
   "metadata": {
    "collapsed": false
   },
   "outputs": [
    {
     "data": {
      "text/plain": [
       "0     0.07\n",
       "1     0.09\n",
       "2     0.11\n",
       "3     0.21\n",
       "4     0.22\n",
       "5     0.17\n",
       "6     0.14\n",
       "7     0.05\n",
       "8     0.07\n",
       "9     0.10\n",
       "10    0.15\n",
       "11    0.24\n",
       "12    0.23\n",
       "13    0.15\n",
       "14    0.09\n",
       "15    0.07\n",
       "dtype: float64"
      ]
     },
     "execution_count": 76,
     "metadata": {},
     "output_type": "execute_result"
    }
   ],
   "source": [
    "dist_Land = pd.DataFrame([dist_0, dist_50, dist_100]).min()\n",
    "dist_Land"
   ]
  },
  {
   "cell_type": "markdown",
   "metadata": {},
   "source": [
    "## PAE vs Landmark Distane (across subjects)"
   ]
  },
  {
   "cell_type": "code",
   "execution_count": 77,
   "metadata": {
    "collapsed": false
   },
   "outputs": [
    {
     "data": {
      "text/plain": [
       "([<matplotlib.axis.YTick at 0x10d030610>,\n",
       "  <matplotlib.axis.YTick at 0x10d109f90>,\n",
       "  <matplotlib.axis.YTick at 0x10d16a090>,\n",
       "  <matplotlib.axis.YTick at 0x10d16a750>],\n",
       " <a list of 4 Text yticklabel objects>)"
      ]
     },
     "execution_count": 77,
     "metadata": {},
     "output_type": "execute_result"
    },
    {
     "data": {
      "image/png": "[encoded data removed]",
      "text/plain": [
       "<matplotlib.figure.Figure at 0x10c9f1d10>"
      ]
     },
     "metadata": {},
     "output_type": "display_data"
    }
   ],
   "source": [
    "m1, b1 = np.polyfit(dist_Land,error,1)\n",
    "plt.plot(dist_Land, error, 'o', color=pal[1])\n",
    "plt.plot(dist_Land, m1*dist_Land + b1, '-', color=pal[1])\n",
    "plt.title('Error Vs. Landmark Distance N+')\n",
    "plt.xlabel('Landmark Distance', labelpad = 4)\n",
    "plt.ylabel('Error')\n",
    "plt.ylim([0,0.4])\n",
    "plt.yticks(([0.1,0.2,0.3,0.4]))"
   ]
  },
  {
   "cell_type": "markdown",
   "metadata": {},
   "source": [
    "## Slope"
   ]
  },
  {
   "cell_type": "code",
   "execution_count": 78,
   "metadata": {
    "collapsed": false
   },
   "outputs": [
    {
     "name": "stdout",
     "output_type": "stream",
     "text": [
      "0.0489842582954\n"
     ]
    }
   ],
   "source": [
    "print m1"
   ]
  },
  {
   "cell_type": "code",
   "execution_count": 79,
   "metadata": {
    "collapsed": true
   },
   "outputs": [],
   "source": [
    "from scipy.stats import linregress\n",
    "slope1, intercept1, r1, p1, stderr1 = linregress(dist_Land,error)"
   ]
  },
  {
   "cell_type": "markdown",
   "metadata": {},
   "source": [
    "## r"
   ]
  },
  {
   "cell_type": "code",
   "execution_count": 80,
   "metadata": {
    "collapsed": false
   },
   "outputs": [
    {
     "data": {
      "text/plain": [
       "0.053233891629495593"
      ]
     },
     "execution_count": 80,
     "metadata": {},
     "output_type": "execute_result"
    }
   ],
   "source": [
    "r1"
   ]
  },
  {
   "cell_type": "markdown",
   "metadata": {},
   "source": [
    "## r^2"
   ]
  },
  {
   "cell_type": "code",
   "execution_count": 81,
   "metadata": {
    "collapsed": false
   },
   "outputs": [
    {
     "data": {
      "text/plain": [
       "0.0028338472180208809"
      ]
     },
     "execution_count": 81,
     "metadata": {},
     "output_type": "execute_result"
    }
   ],
   "source": [
    "r1*r1"
   ]
  },
  {
   "cell_type": "markdown",
   "metadata": {},
   "source": [
    "## Estimation slope vs SAT scores"
   ]
  },
  {
   "cell_type": "code",
   "execution_count": 82,
   "metadata": {
    "collapsed": true
   },
   "outputs": [],
   "source": [
    "nline_df.to_csv('nline_data.csv', sep='\\t')"
   ]
  },
  {
   "cell_type": "code",
   "execution_count": 83,
   "metadata": {
    "collapsed": true
   },
   "outputs": [],
   "source": [
    "new_df = pd.read_csv('nline_data.csv',sep='\\t')"
   ]
  },
  {
   "cell_type": "code",
   "execution_count": 84,
   "metadata": {
    "collapsed": false
   },
   "outputs": [
    {
     "data": {
      "text/plain": [
       "144"
      ]
     },
     "execution_count": 84,
     "metadata": {},
     "output_type": "execute_result"
    }
   ],
   "source": [
    "len(new_df.catch[new_df.catch==1])"
   ]
  },
  {
   "cell_type": "code",
   "execution_count": 87,
   "metadata": {
    "collapsed": false
   },
   "outputs": [
    {
     "name": "stderr",
     "output_type": "stream",
     "text": [
      "/anaconda/lib/python2.7/site-packages/IPython/kernel/__main__.py:2: SettingWithCopyWarning: \n",
      "A value is trying to be set on a copy of a slice from a DataFrame\n",
      "\n",
      "See the caveats in the documentation: http://pandas.pydata.org/pandas-docs/stable/indexing.html#indexing-view-versus-copy\n",
      "  from IPython.kernel.zmq import kernelapp as app\n"
     ]
    }
   ],
   "source": [
    "new_df['Missed'] = 0\n",
    "new_df['Missed'][(new_df.RT == -1) & (new_df.Error == 1)] = 1"
   ]
  },
  {
   "cell_type": "code",
   "execution_count": 88,
   "metadata": {
    "collapsed": false
   },
   "outputs": [
    {
     "name": "stdout",
     "output_type": "stream",
     "text": [
      "432\n"
     ]
    }
   ],
   "source": [
    "new_df = new_df[new_df['catch']<1]\n",
    "print len(new_df)"
   ]
  },
  {
   "cell_type": "code",
   "execution_count": 92,
   "metadata": {
    "collapsed": false
   },
   "outputs": [
    {
     "name": "stdout",
     "output_type": "stream",
     "text": [
      "420\n"
     ]
    }
   ],
   "source": [
    "new_df = new_df[new_df['Missed']==0]\n",
    "print len(new_df)"
   ]
  },
  {
   "cell_type": "code",
   "execution_count": 93,
   "metadata": {
    "collapsed": false
   },
   "outputs": [
    {
     "data": {
      "text/plain": [
       "0"
      ]
     },
     "execution_count": 93,
     "metadata": {},
     "output_type": "execute_result"
    }
   ],
   "source": [
    "new_df.Missed.sum()"
   ]
  },
  {
   "cell_type": "code",
   "execution_count": 94,
   "metadata": {
    "collapsed": false
   },
   "outputs": [
    {
     "data": {
      "text/html": [
       "<div>\n",
       "<table border=\"1\" class=\"dataframe\">\n",
       "  <thead>\n",
       "    <tr style=\"text-align: right;\">\n",
       "      <th></th>\n",
       "      <th>Subject</th>\n",
       "      <th>Run</th>\n",
       "      <th>Trial</th>\n",
       "      <th>Acc</th>\n",
       "      <th>BadPress</th>\n",
       "      <th>Block</th>\n",
       "      <th>Correct</th>\n",
       "      <th>Error</th>\n",
       "      <th>ITI_onset</th>\n",
       "      <th>ITI_onset_real</th>\n",
       "      <th>...</th>\n",
       "      <th>decision_onset_real</th>\n",
       "      <th>hold</th>\n",
       "      <th>hold_onset</th>\n",
       "      <th>hold_onset_real</th>\n",
       "      <th>iti</th>\n",
       "      <th>Dist0</th>\n",
       "      <th>Dist100</th>\n",
       "      <th>Dist50</th>\n",
       "      <th>LandmarkDist</th>\n",
       "      <th>Missed</th>\n",
       "    </tr>\n",
       "  </thead>\n",
       "  <tbody>\n",
       "    <tr>\n",
       "      <th>0</th>\n",
       "      <td>s_03001</td>\n",
       "      <td>run1</td>\n",
       "      <td>0</td>\n",
       "      <td>1</td>\n",
       "      <td>0</td>\n",
       "      <td>1</td>\n",
       "      <td>2</td>\n",
       "      <td>0</td>\n",
       "      <td>14.0</td>\n",
       "      <td>14.006765</td>\n",
       "      <td>...</td>\n",
       "      <td>23.008680</td>\n",
       "      <td>2.5</td>\n",
       "      <td>20.5</td>\n",
       "      <td>20.502069</td>\n",
       "      <td>6.0</td>\n",
       "      <td>0.36</td>\n",
       "      <td>0.64</td>\n",
       "      <td>0.14</td>\n",
       "      <td>0.14</td>\n",
       "      <td>0</td>\n",
       "    </tr>\n",
       "    <tr>\n",
       "      <th>2</th>\n",
       "      <td>s_03001</td>\n",
       "      <td>run1</td>\n",
       "      <td>2</td>\n",
       "      <td>1</td>\n",
       "      <td>0</td>\n",
       "      <td>1</td>\n",
       "      <td>2</td>\n",
       "      <td>0</td>\n",
       "      <td>33.5</td>\n",
       "      <td>33.501051</td>\n",
       "      <td>...</td>\n",
       "      <td>40.009610</td>\n",
       "      <td>3.0</td>\n",
       "      <td>37.0</td>\n",
       "      <td>37.002539</td>\n",
       "      <td>3.0</td>\n",
       "      <td>0.85</td>\n",
       "      <td>0.15</td>\n",
       "      <td>0.35</td>\n",
       "      <td>0.15</td>\n",
       "      <td>0</td>\n",
       "    </tr>\n",
       "    <tr>\n",
       "      <th>3</th>\n",
       "      <td>s_03001</td>\n",
       "      <td>run1</td>\n",
       "      <td>3</td>\n",
       "      <td>1</td>\n",
       "      <td>0</td>\n",
       "      <td>1</td>\n",
       "      <td>1</td>\n",
       "      <td>0</td>\n",
       "      <td>41.5</td>\n",
       "      <td>41.501076</td>\n",
       "      <td>...</td>\n",
       "      <td>50.009948</td>\n",
       "      <td>4.0</td>\n",
       "      <td>46.0</td>\n",
       "      <td>46.001543</td>\n",
       "      <td>4.0</td>\n",
       "      <td>0.45</td>\n",
       "      <td>0.55</td>\n",
       "      <td>0.05</td>\n",
       "      <td>0.05</td>\n",
       "      <td>0</td>\n",
       "    </tr>\n",
       "    <tr>\n",
       "      <th>4</th>\n",
       "      <td>s_03001</td>\n",
       "      <td>run1</td>\n",
       "      <td>4</td>\n",
       "      <td>1</td>\n",
       "      <td>0</td>\n",
       "      <td>1</td>\n",
       "      <td>1</td>\n",
       "      <td>0</td>\n",
       "      <td>51.5</td>\n",
       "      <td>51.500943</td>\n",
       "      <td>...</td>\n",
       "      <td>60.510471</td>\n",
       "      <td>4.5</td>\n",
       "      <td>56.0</td>\n",
       "      <td>56.001799</td>\n",
       "      <td>4.0</td>\n",
       "      <td>0.93</td>\n",
       "      <td>0.07</td>\n",
       "      <td>0.43</td>\n",
       "      <td>0.07</td>\n",
       "      <td>0</td>\n",
       "    </tr>\n",
       "    <tr>\n",
       "      <th>5</th>\n",
       "      <td>s_03001</td>\n",
       "      <td>run1</td>\n",
       "      <td>5</td>\n",
       "      <td>1</td>\n",
       "      <td>0</td>\n",
       "      <td>1</td>\n",
       "      <td>2</td>\n",
       "      <td>0</td>\n",
       "      <td>62.0</td>\n",
       "      <td>62.000718</td>\n",
       "      <td>...</td>\n",
       "      <td>73.011000</td>\n",
       "      <td>5.0</td>\n",
       "      <td>68.0</td>\n",
       "      <td>68.001537</td>\n",
       "      <td>5.5</td>\n",
       "      <td>0.33</td>\n",
       "      <td>0.67</td>\n",
       "      <td>0.17</td>\n",
       "      <td>0.17</td>\n",
       "      <td>0</td>\n",
       "    </tr>\n",
       "    <tr>\n",
       "      <th>6</th>\n",
       "      <td>s_03001</td>\n",
       "      <td>run1</td>\n",
       "      <td>6</td>\n",
       "      <td>0</td>\n",
       "      <td>0</td>\n",
       "      <td>1</td>\n",
       "      <td>2</td>\n",
       "      <td>1</td>\n",
       "      <td>74.5</td>\n",
       "      <td>74.500277</td>\n",
       "      <td>...</td>\n",
       "      <td>84.511487</td>\n",
       "      <td>6.0</td>\n",
       "      <td>78.5</td>\n",
       "      <td>78.501440</td>\n",
       "      <td>3.5</td>\n",
       "      <td>0.74</td>\n",
       "      <td>0.26</td>\n",
       "      <td>0.24</td>\n",
       "      <td>0.24</td>\n",
       "      <td>0</td>\n",
       "    </tr>\n",
       "    <tr>\n",
       "      <th>7</th>\n",
       "      <td>s_03001</td>\n",
       "      <td>run1</td>\n",
       "      <td>7</td>\n",
       "      <td>1</td>\n",
       "      <td>0</td>\n",
       "      <td>1</td>\n",
       "      <td>1</td>\n",
       "      <td>0</td>\n",
       "      <td>86.0</td>\n",
       "      <td>86.000385</td>\n",
       "      <td>...</td>\n",
       "      <td>96.511977</td>\n",
       "      <td>3.5</td>\n",
       "      <td>93.0</td>\n",
       "      <td>93.001410</td>\n",
       "      <td>6.5</td>\n",
       "      <td>0.77</td>\n",
       "      <td>0.23</td>\n",
       "      <td>0.27</td>\n",
       "      <td>0.23</td>\n",
       "      <td>0</td>\n",
       "    </tr>\n",
       "    <tr>\n",
       "      <th>8</th>\n",
       "      <td>s_03001</td>\n",
       "      <td>run1</td>\n",
       "      <td>8</td>\n",
       "      <td>1</td>\n",
       "      <td>0</td>\n",
       "      <td>1</td>\n",
       "      <td>1</td>\n",
       "      <td>0</td>\n",
       "      <td>98.0</td>\n",
       "      <td>98.000558</td>\n",
       "      <td>...</td>\n",
       "      <td>108.512305</td>\n",
       "      <td>5.5</td>\n",
       "      <td>103.0</td>\n",
       "      <td>103.001983</td>\n",
       "      <td>4.5</td>\n",
       "      <td>0.09</td>\n",
       "      <td>0.91</td>\n",
       "      <td>0.41</td>\n",
       "      <td>0.09</td>\n",
       "      <td>0</td>\n",
       "    </tr>\n",
       "    <tr>\n",
       "      <th>10</th>\n",
       "      <td>s_03001</td>\n",
       "      <td>run1</td>\n",
       "      <td>10</td>\n",
       "      <td>1</td>\n",
       "      <td>0</td>\n",
       "      <td>1</td>\n",
       "      <td>2</td>\n",
       "      <td>0</td>\n",
       "      <td>123.0</td>\n",
       "      <td>123.001064</td>\n",
       "      <td>...</td>\n",
       "      <td>129.513379</td>\n",
       "      <td>2.5</td>\n",
       "      <td>127.0</td>\n",
       "      <td>127.001189</td>\n",
       "      <td>3.5</td>\n",
       "      <td>0.07</td>\n",
       "      <td>0.93</td>\n",
       "      <td>0.43</td>\n",
       "      <td>0.07</td>\n",
       "      <td>0</td>\n",
       "    </tr>\n",
       "    <tr>\n",
       "      <th>12</th>\n",
       "      <td>s_03001</td>\n",
       "      <td>run1</td>\n",
       "      <td>12</td>\n",
       "      <td>1</td>\n",
       "      <td>0</td>\n",
       "      <td>1</td>\n",
       "      <td>2</td>\n",
       "      <td>0</td>\n",
       "      <td>140.0</td>\n",
       "      <td>140.000215</td>\n",
       "      <td>...</td>\n",
       "      <td>152.014295</td>\n",
       "      <td>6.5</td>\n",
       "      <td>145.5</td>\n",
       "      <td>145.502030</td>\n",
       "      <td>5.0</td>\n",
       "      <td>0.60</td>\n",
       "      <td>0.40</td>\n",
       "      <td>0.10</td>\n",
       "      <td>0.10</td>\n",
       "      <td>0</td>\n",
       "    </tr>\n",
       "    <tr>\n",
       "      <th>13</th>\n",
       "      <td>s_03001</td>\n",
       "      <td>run1</td>\n",
       "      <td>13</td>\n",
       "      <td>0</td>\n",
       "      <td>0</td>\n",
       "      <td>1</td>\n",
       "      <td>1</td>\n",
       "      <td>1</td>\n",
       "      <td>153.5</td>\n",
       "      <td>153.500495</td>\n",
       "      <td>...</td>\n",
       "      <td>161.514752</td>\n",
       "      <td>3.0</td>\n",
       "      <td>158.5</td>\n",
       "      <td>158.501073</td>\n",
       "      <td>4.5</td>\n",
       "      <td>0.11</td>\n",
       "      <td>0.89</td>\n",
       "      <td>0.39</td>\n",
       "      <td>0.11</td>\n",
       "      <td>0</td>\n",
       "    </tr>\n",
       "    <tr>\n",
       "      <th>14</th>\n",
       "      <td>s_03001</td>\n",
       "      <td>run1</td>\n",
       "      <td>14</td>\n",
       "      <td>1</td>\n",
       "      <td>0</td>\n",
       "      <td>1</td>\n",
       "      <td>2</td>\n",
       "      <td>0</td>\n",
       "      <td>163.0</td>\n",
       "      <td>163.001124</td>\n",
       "      <td>...</td>\n",
       "      <td>170.515101</td>\n",
       "      <td>3.0</td>\n",
       "      <td>167.5</td>\n",
       "      <td>167.501338</td>\n",
       "      <td>4.0</td>\n",
       "      <td>0.28</td>\n",
       "      <td>0.72</td>\n",
       "      <td>0.22</td>\n",
       "      <td>0.22</td>\n",
       "      <td>0</td>\n",
       "    </tr>\n",
       "    <tr>\n",
       "      <th>16</th>\n",
       "      <td>s_03001</td>\n",
       "      <td>run1</td>\n",
       "      <td>16</td>\n",
       "      <td>1</td>\n",
       "      <td>0</td>\n",
       "      <td>2</td>\n",
       "      <td>2</td>\n",
       "      <td>0</td>\n",
       "      <td>188.0</td>\n",
       "      <td>188.052723</td>\n",
       "      <td>...</td>\n",
       "      <td>196.016169</td>\n",
       "      <td>3.0</td>\n",
       "      <td>193.0</td>\n",
       "      <td>193.001653</td>\n",
       "      <td>4.5</td>\n",
       "      <td>0.74</td>\n",
       "      <td>0.26</td>\n",
       "      <td>0.24</td>\n",
       "      <td>0.24</td>\n",
       "      <td>0</td>\n",
       "    </tr>\n",
       "    <tr>\n",
       "      <th>17</th>\n",
       "      <td>s_03001</td>\n",
       "      <td>run1</td>\n",
       "      <td>17</td>\n",
       "      <td>1</td>\n",
       "      <td>0</td>\n",
       "      <td>2</td>\n",
       "      <td>1</td>\n",
       "      <td>0</td>\n",
       "      <td>197.5</td>\n",
       "      <td>197.500140</td>\n",
       "      <td>...</td>\n",
       "      <td>210.500150</td>\n",
       "      <td>6.0</td>\n",
       "      <td>204.5</td>\n",
       "      <td>204.501635</td>\n",
       "      <td>6.5</td>\n",
       "      <td>0.60</td>\n",
       "      <td>0.40</td>\n",
       "      <td>0.10</td>\n",
       "      <td>0.10</td>\n",
       "      <td>0</td>\n",
       "    </tr>\n",
       "    <tr>\n",
       "      <th>18</th>\n",
       "      <td>s_03001</td>\n",
       "      <td>run1</td>\n",
       "      <td>18</td>\n",
       "      <td>0</td>\n",
       "      <td>0</td>\n",
       "      <td>2</td>\n",
       "      <td>2</td>\n",
       "      <td>1</td>\n",
       "      <td>212.0</td>\n",
       "      <td>212.000894</td>\n",
       "      <td>...</td>\n",
       "      <td>221.500610</td>\n",
       "      <td>5.0</td>\n",
       "      <td>216.5</td>\n",
       "      <td>216.501875</td>\n",
       "      <td>4.0</td>\n",
       "      <td>0.07</td>\n",
       "      <td>0.93</td>\n",
       "      <td>0.43</td>\n",
       "      <td>0.07</td>\n",
       "      <td>0</td>\n",
       "    </tr>\n",
       "    <tr>\n",
       "      <th>19</th>\n",
       "      <td>s_03001</td>\n",
       "      <td>run1</td>\n",
       "      <td>19</td>\n",
       "      <td>1</td>\n",
       "      <td>0</td>\n",
       "      <td>2</td>\n",
       "      <td>1</td>\n",
       "      <td>0</td>\n",
       "      <td>223.0</td>\n",
       "      <td>223.000070</td>\n",
       "      <td>...</td>\n",
       "      <td>229.500948</td>\n",
       "      <td>2.5</td>\n",
       "      <td>227.0</td>\n",
       "      <td>227.001765</td>\n",
       "      <td>3.5</td>\n",
       "      <td>0.09</td>\n",
       "      <td>0.91</td>\n",
       "      <td>0.41</td>\n",
       "      <td>0.09</td>\n",
       "      <td>0</td>\n",
       "    </tr>\n",
       "    <tr>\n",
       "      <th>21</th>\n",
       "      <td>s_03001</td>\n",
       "      <td>run1</td>\n",
       "      <td>21</td>\n",
       "      <td>1</td>\n",
       "      <td>0</td>\n",
       "      <td>2</td>\n",
       "      <td>1</td>\n",
       "      <td>0</td>\n",
       "      <td>241.0</td>\n",
       "      <td>240.999918</td>\n",
       "      <td>...</td>\n",
       "      <td>248.501743</td>\n",
       "      <td>4.0</td>\n",
       "      <td>244.5</td>\n",
       "      <td>244.500994</td>\n",
       "      <td>3.0</td>\n",
       "      <td>0.77</td>\n",
       "      <td>0.23</td>\n",
       "      <td>0.27</td>\n",
       "      <td>0.23</td>\n",
       "      <td>0</td>\n",
       "    </tr>\n",
       "    <tr>\n",
       "      <th>22</th>\n",
       "      <td>s_03001</td>\n",
       "      <td>run1</td>\n",
       "      <td>22</td>\n",
       "      <td>1</td>\n",
       "      <td>0</td>\n",
       "      <td>2</td>\n",
       "      <td>1</td>\n",
       "      <td>0</td>\n",
       "      <td>250.0</td>\n",
       "      <td>250.001173</td>\n",
       "      <td>...</td>\n",
       "      <td>263.002155</td>\n",
       "      <td>5.5</td>\n",
       "      <td>257.5</td>\n",
       "      <td>257.500878</td>\n",
       "      <td>7.0</td>\n",
       "      <td>0.85</td>\n",
       "      <td>0.15</td>\n",
       "      <td>0.35</td>\n",
       "      <td>0.15</td>\n",
       "      <td>0</td>\n",
       "    </tr>\n",
       "    <tr>\n",
       "      <th>24</th>\n",
       "      <td>s_03001</td>\n",
       "      <td>run1</td>\n",
       "      <td>24</td>\n",
       "      <td>1</td>\n",
       "      <td>0</td>\n",
       "      <td>2</td>\n",
       "      <td>1</td>\n",
       "      <td>0</td>\n",
       "      <td>275.5</td>\n",
       "      <td>275.501018</td>\n",
       "      <td>...</td>\n",
       "      <td>285.503253</td>\n",
       "      <td>6.5</td>\n",
       "      <td>279.0</td>\n",
       "      <td>279.001606</td>\n",
       "      <td>3.0</td>\n",
       "      <td>0.93</td>\n",
       "      <td>0.07</td>\n",
       "      <td>0.43</td>\n",
       "      <td>0.07</td>\n",
       "      <td>0</td>\n",
       "    </tr>\n",
       "    <tr>\n",
       "      <th>25</th>\n",
       "      <td>s_03001</td>\n",
       "      <td>run1</td>\n",
       "      <td>25</td>\n",
       "      <td>1</td>\n",
       "      <td>0</td>\n",
       "      <td>2</td>\n",
       "      <td>2</td>\n",
       "      <td>0</td>\n",
       "      <td>287.0</td>\n",
       "      <td>287.000245</td>\n",
       "      <td>...</td>\n",
       "      <td>296.503774</td>\n",
       "      <td>3.0</td>\n",
       "      <td>293.5</td>\n",
       "      <td>293.500879</td>\n",
       "      <td>6.0</td>\n",
       "      <td>0.36</td>\n",
       "      <td>0.64</td>\n",
       "      <td>0.14</td>\n",
       "      <td>0.14</td>\n",
       "      <td>0</td>\n",
       "    </tr>\n",
       "    <tr>\n",
       "      <th>27</th>\n",
       "      <td>s_03001</td>\n",
       "      <td>run1</td>\n",
       "      <td>27</td>\n",
       "      <td>1</td>\n",
       "      <td>0</td>\n",
       "      <td>2</td>\n",
       "      <td>2</td>\n",
       "      <td>0</td>\n",
       "      <td>307.5</td>\n",
       "      <td>307.500717</td>\n",
       "      <td>...</td>\n",
       "      <td>317.004615</td>\n",
       "      <td>4.5</td>\n",
       "      <td>312.5</td>\n",
       "      <td>312.502294</td>\n",
       "      <td>4.5</td>\n",
       "      <td>0.11</td>\n",
       "      <td>0.89</td>\n",
       "      <td>0.39</td>\n",
       "      <td>0.11</td>\n",
       "      <td>0</td>\n",
       "    </tr>\n",
       "    <tr>\n",
       "      <th>29</th>\n",
       "      <td>s_03001</td>\n",
       "      <td>run1</td>\n",
       "      <td>29</td>\n",
       "      <td>0</td>\n",
       "      <td>0</td>\n",
       "      <td>2</td>\n",
       "      <td>1</td>\n",
       "      <td>1</td>\n",
       "      <td>327.0</td>\n",
       "      <td>327.000802</td>\n",
       "      <td>...</td>\n",
       "      <td>336.005399</td>\n",
       "      <td>4.0</td>\n",
       "      <td>332.0</td>\n",
       "      <td>332.001396</td>\n",
       "      <td>4.5</td>\n",
       "      <td>0.33</td>\n",
       "      <td>0.67</td>\n",
       "      <td>0.17</td>\n",
       "      <td>0.17</td>\n",
       "      <td>0</td>\n",
       "    </tr>\n",
       "    <tr>\n",
       "      <th>30</th>\n",
       "      <td>s_03001</td>\n",
       "      <td>run1</td>\n",
       "      <td>30</td>\n",
       "      <td>1</td>\n",
       "      <td>0</td>\n",
       "      <td>2</td>\n",
       "      <td>2</td>\n",
       "      <td>0</td>\n",
       "      <td>337.5</td>\n",
       "      <td>337.500212</td>\n",
       "      <td>...</td>\n",
       "      <td>345.005625</td>\n",
       "      <td>3.5</td>\n",
       "      <td>341.5</td>\n",
       "      <td>341.501643</td>\n",
       "      <td>3.5</td>\n",
       "      <td>0.45</td>\n",
       "      <td>0.55</td>\n",
       "      <td>0.05</td>\n",
       "      <td>0.05</td>\n",
       "      <td>0</td>\n",
       "    </tr>\n",
       "    <tr>\n",
       "      <th>31</th>\n",
       "      <td>s_03001</td>\n",
       "      <td>run1</td>\n",
       "      <td>31</td>\n",
       "      <td>1</td>\n",
       "      <td>0</td>\n",
       "      <td>2</td>\n",
       "      <td>2</td>\n",
       "      <td>0</td>\n",
       "      <td>346.5</td>\n",
       "      <td>346.500095</td>\n",
       "      <td>...</td>\n",
       "      <td>354.506195</td>\n",
       "      <td>4.0</td>\n",
       "      <td>350.5</td>\n",
       "      <td>350.501955</td>\n",
       "      <td>3.5</td>\n",
       "      <td>0.28</td>\n",
       "      <td>0.72</td>\n",
       "      <td>0.22</td>\n",
       "      <td>0.22</td>\n",
       "      <td>0</td>\n",
       "    </tr>\n",
       "    <tr>\n",
       "      <th>32</th>\n",
       "      <td>s_03001</td>\n",
       "      <td>run3</td>\n",
       "      <td>0</td>\n",
       "      <td>1</td>\n",
       "      <td>0</td>\n",
       "      <td>1</td>\n",
       "      <td>2</td>\n",
       "      <td>0</td>\n",
       "      <td>14.0</td>\n",
       "      <td>14.002457</td>\n",
       "      <td>...</td>\n",
       "      <td>21.006539</td>\n",
       "      <td>3.5</td>\n",
       "      <td>17.5</td>\n",
       "      <td>17.500924</td>\n",
       "      <td>3.0</td>\n",
       "      <td>0.65</td>\n",
       "      <td>0.35</td>\n",
       "      <td>0.15</td>\n",
       "      <td>0.15</td>\n",
       "      <td>0</td>\n",
       "    </tr>\n",
       "    <tr>\n",
       "      <th>33</th>\n",
       "      <td>s_03001</td>\n",
       "      <td>run3</td>\n",
       "      <td>1</td>\n",
       "      <td>1</td>\n",
       "      <td>0</td>\n",
       "      <td>1</td>\n",
       "      <td>2</td>\n",
       "      <td>0</td>\n",
       "      <td>22.5</td>\n",
       "      <td>22.500338</td>\n",
       "      <td>...</td>\n",
       "      <td>30.507085</td>\n",
       "      <td>3.0</td>\n",
       "      <td>27.5</td>\n",
       "      <td>27.501310</td>\n",
       "      <td>4.5</td>\n",
       "      <td>0.21</td>\n",
       "      <td>0.79</td>\n",
       "      <td>0.29</td>\n",
       "      <td>0.21</td>\n",
       "      <td>0</td>\n",
       "    </tr>\n",
       "    <tr>\n",
       "      <th>35</th>\n",
       "      <td>s_03001</td>\n",
       "      <td>run3</td>\n",
       "      <td>3</td>\n",
       "      <td>1</td>\n",
       "      <td>0</td>\n",
       "      <td>1</td>\n",
       "      <td>2</td>\n",
       "      <td>0</td>\n",
       "      <td>45.5</td>\n",
       "      <td>45.500258</td>\n",
       "      <td>...</td>\n",
       "      <td>55.008112</td>\n",
       "      <td>2.5</td>\n",
       "      <td>52.5</td>\n",
       "      <td>52.500819</td>\n",
       "      <td>6.5</td>\n",
       "      <td>0.91</td>\n",
       "      <td>0.09</td>\n",
       "      <td>0.41</td>\n",
       "      <td>0.09</td>\n",
       "      <td>0</td>\n",
       "    </tr>\n",
       "    <tr>\n",
       "      <th>36</th>\n",
       "      <td>s_03001</td>\n",
       "      <td>run3</td>\n",
       "      <td>4</td>\n",
       "      <td>0</td>\n",
       "      <td>0</td>\n",
       "      <td>1</td>\n",
       "      <td>1</td>\n",
       "      <td>1</td>\n",
       "      <td>56.5</td>\n",
       "      <td>56.499918</td>\n",
       "      <td>...</td>\n",
       "      <td>66.508544</td>\n",
       "      <td>5.5</td>\n",
       "      <td>61.0</td>\n",
       "      <td>61.001769</td>\n",
       "      <td>4.0</td>\n",
       "      <td>0.36</td>\n",
       "      <td>0.64</td>\n",
       "      <td>0.14</td>\n",
       "      <td>0.14</td>\n",
       "      <td>0</td>\n",
       "    </tr>\n",
       "    <tr>\n",
       "      <th>37</th>\n",
       "      <td>s_03001</td>\n",
       "      <td>run3</td>\n",
       "      <td>5</td>\n",
       "      <td>1</td>\n",
       "      <td>0</td>\n",
       "      <td>1</td>\n",
       "      <td>1</td>\n",
       "      <td>0</td>\n",
       "      <td>68.0</td>\n",
       "      <td>68.000756</td>\n",
       "      <td>...</td>\n",
       "      <td>78.509098</td>\n",
       "      <td>4.0</td>\n",
       "      <td>74.5</td>\n",
       "      <td>74.500864</td>\n",
       "      <td>6.0</td>\n",
       "      <td>0.28</td>\n",
       "      <td>0.72</td>\n",
       "      <td>0.22</td>\n",
       "      <td>0.22</td>\n",
       "      <td>0</td>\n",
       "    </tr>\n",
       "    <tr>\n",
       "      <th>38</th>\n",
       "      <td>s_03001</td>\n",
       "      <td>run3</td>\n",
       "      <td>6</td>\n",
       "      <td>0</td>\n",
       "      <td>0</td>\n",
       "      <td>1</td>\n",
       "      <td>1</td>\n",
       "      <td>1</td>\n",
       "      <td>80.0</td>\n",
       "      <td>80.001508</td>\n",
       "      <td>...</td>\n",
       "      <td>87.509250</td>\n",
       "      <td>3.5</td>\n",
       "      <td>84.0</td>\n",
       "      <td>84.002064</td>\n",
       "      <td>3.5</td>\n",
       "      <td>0.33</td>\n",
       "      <td>0.67</td>\n",
       "      <td>0.17</td>\n",
       "      <td>0.17</td>\n",
       "      <td>0</td>\n",
       "    </tr>\n",
       "    <tr>\n",
       "      <th>...</th>\n",
       "      <td>...</td>\n",
       "      <td>...</td>\n",
       "      <td>...</td>\n",
       "      <td>...</td>\n",
       "      <td>...</td>\n",
       "      <td>...</td>\n",
       "      <td>...</td>\n",
       "      <td>...</td>\n",
       "      <td>...</td>\n",
       "      <td>...</td>\n",
       "      <td>...</td>\n",
       "      <td>...</td>\n",
       "      <td>...</td>\n",
       "      <td>...</td>\n",
       "      <td>...</td>\n",
       "      <td>...</td>\n",
       "      <td>...</td>\n",
       "      <td>...</td>\n",
       "      <td>...</td>\n",
       "      <td>...</td>\n",
       "      <td>...</td>\n",
       "    </tr>\n",
       "    <tr>\n",
       "      <th>598</th>\n",
       "      <td>s_03006</td>\n",
       "      <td>run2</td>\n",
       "      <td>22</td>\n",
       "      <td>0</td>\n",
       "      <td>0</td>\n",
       "      <td>2</td>\n",
       "      <td>1</td>\n",
       "      <td>1</td>\n",
       "      <td>253.0</td>\n",
       "      <td>252.999992</td>\n",
       "      <td>...</td>\n",
       "      <td>265.006976</td>\n",
       "      <td>5.0</td>\n",
       "      <td>260.0</td>\n",
       "      <td>260.001389</td>\n",
       "      <td>6.5</td>\n",
       "      <td>0.74</td>\n",
       "      <td>0.26</td>\n",
       "      <td>0.24</td>\n",
       "      <td>0.24</td>\n",
       "      <td>0</td>\n",
       "    </tr>\n",
       "    <tr>\n",
       "      <th>599</th>\n",
       "      <td>s_03006</td>\n",
       "      <td>run2</td>\n",
       "      <td>23</td>\n",
       "      <td>0</td>\n",
       "      <td>0</td>\n",
       "      <td>2</td>\n",
       "      <td>1</td>\n",
       "      <td>1</td>\n",
       "      <td>266.5</td>\n",
       "      <td>266.499926</td>\n",
       "      <td>...</td>\n",
       "      <td>273.507289</td>\n",
       "      <td>3.5</td>\n",
       "      <td>270.0</td>\n",
       "      <td>270.001624</td>\n",
       "      <td>3.0</td>\n",
       "      <td>0.57</td>\n",
       "      <td>0.43</td>\n",
       "      <td>0.07</td>\n",
       "      <td>0.07</td>\n",
       "      <td>0</td>\n",
       "    </tr>\n",
       "    <tr>\n",
       "      <th>600</th>\n",
       "      <td>s_03006</td>\n",
       "      <td>run2</td>\n",
       "      <td>24</td>\n",
       "      <td>1</td>\n",
       "      <td>0</td>\n",
       "      <td>2</td>\n",
       "      <td>1</td>\n",
       "      <td>0</td>\n",
       "      <td>275.0</td>\n",
       "      <td>275.000221</td>\n",
       "      <td>...</td>\n",
       "      <td>283.007753</td>\n",
       "      <td>3.0</td>\n",
       "      <td>280.0</td>\n",
       "      <td>280.001126</td>\n",
       "      <td>4.5</td>\n",
       "      <td>0.07</td>\n",
       "      <td>0.93</td>\n",
       "      <td>0.43</td>\n",
       "      <td>0.07</td>\n",
       "      <td>0</td>\n",
       "    </tr>\n",
       "    <tr>\n",
       "      <th>602</th>\n",
       "      <td>s_03006</td>\n",
       "      <td>run2</td>\n",
       "      <td>26</td>\n",
       "      <td>0</td>\n",
       "      <td>0</td>\n",
       "      <td>2</td>\n",
       "      <td>2</td>\n",
       "      <td>1</td>\n",
       "      <td>293.0</td>\n",
       "      <td>293.000621</td>\n",
       "      <td>...</td>\n",
       "      <td>301.508523</td>\n",
       "      <td>3.0</td>\n",
       "      <td>298.5</td>\n",
       "      <td>298.501177</td>\n",
       "      <td>5.0</td>\n",
       "      <td>0.65</td>\n",
       "      <td>0.35</td>\n",
       "      <td>0.15</td>\n",
       "      <td>0.15</td>\n",
       "      <td>0</td>\n",
       "    </tr>\n",
       "    <tr>\n",
       "      <th>603</th>\n",
       "      <td>s_03006</td>\n",
       "      <td>run2</td>\n",
       "      <td>27</td>\n",
       "      <td>0</td>\n",
       "      <td>0</td>\n",
       "      <td>2</td>\n",
       "      <td>2</td>\n",
       "      <td>1</td>\n",
       "      <td>303.0</td>\n",
       "      <td>303.000146</td>\n",
       "      <td>...</td>\n",
       "      <td>311.508946</td>\n",
       "      <td>4.5</td>\n",
       "      <td>307.0</td>\n",
       "      <td>307.001721</td>\n",
       "      <td>3.5</td>\n",
       "      <td>0.85</td>\n",
       "      <td>0.15</td>\n",
       "      <td>0.35</td>\n",
       "      <td>0.15</td>\n",
       "      <td>0</td>\n",
       "    </tr>\n",
       "    <tr>\n",
       "      <th>605</th>\n",
       "      <td>s_03006</td>\n",
       "      <td>run2</td>\n",
       "      <td>29</td>\n",
       "      <td>1</td>\n",
       "      <td>0</td>\n",
       "      <td>2</td>\n",
       "      <td>2</td>\n",
       "      <td>0</td>\n",
       "      <td>323.0</td>\n",
       "      <td>322.999952</td>\n",
       "      <td>...</td>\n",
       "      <td>333.009855</td>\n",
       "      <td>6.5</td>\n",
       "      <td>326.5</td>\n",
       "      <td>326.501939</td>\n",
       "      <td>3.0</td>\n",
       "      <td>0.93</td>\n",
       "      <td>0.07</td>\n",
       "      <td>0.43</td>\n",
       "      <td>0.07</td>\n",
       "      <td>0</td>\n",
       "    </tr>\n",
       "    <tr>\n",
       "      <th>606</th>\n",
       "      <td>s_03006</td>\n",
       "      <td>run2</td>\n",
       "      <td>30</td>\n",
       "      <td>0</td>\n",
       "      <td>0</td>\n",
       "      <td>2</td>\n",
       "      <td>1</td>\n",
       "      <td>1</td>\n",
       "      <td>334.5</td>\n",
       "      <td>334.501196</td>\n",
       "      <td>...</td>\n",
       "      <td>343.010281</td>\n",
       "      <td>4.0</td>\n",
       "      <td>339.0</td>\n",
       "      <td>339.001375</td>\n",
       "      <td>4.0</td>\n",
       "      <td>0.45</td>\n",
       "      <td>0.55</td>\n",
       "      <td>0.05</td>\n",
       "      <td>0.05</td>\n",
       "      <td>0</td>\n",
       "    </tr>\n",
       "    <tr>\n",
       "      <th>608</th>\n",
       "      <td>s_03006</td>\n",
       "      <td>run4</td>\n",
       "      <td>0</td>\n",
       "      <td>1</td>\n",
       "      <td>0</td>\n",
       "      <td>1</td>\n",
       "      <td>2</td>\n",
       "      <td>0</td>\n",
       "      <td>14.0</td>\n",
       "      <td>14.000906</td>\n",
       "      <td>...</td>\n",
       "      <td>23.011504</td>\n",
       "      <td>5.0</td>\n",
       "      <td>18.0</td>\n",
       "      <td>18.002021</td>\n",
       "      <td>3.5</td>\n",
       "      <td>0.09</td>\n",
       "      <td>0.91</td>\n",
       "      <td>0.41</td>\n",
       "      <td>0.09</td>\n",
       "      <td>0</td>\n",
       "    </tr>\n",
       "    <tr>\n",
       "      <th>610</th>\n",
       "      <td>s_03006</td>\n",
       "      <td>run4</td>\n",
       "      <td>2</td>\n",
       "      <td>1</td>\n",
       "      <td>0</td>\n",
       "      <td>1</td>\n",
       "      <td>1</td>\n",
       "      <td>0</td>\n",
       "      <td>33.5</td>\n",
       "      <td>33.501026</td>\n",
       "      <td>...</td>\n",
       "      <td>41.512288</td>\n",
       "      <td>4.0</td>\n",
       "      <td>37.5</td>\n",
       "      <td>37.502146</td>\n",
       "      <td>3.5</td>\n",
       "      <td>0.77</td>\n",
       "      <td>0.23</td>\n",
       "      <td>0.27</td>\n",
       "      <td>0.23</td>\n",
       "      <td>0</td>\n",
       "    </tr>\n",
       "    <tr>\n",
       "      <th>611</th>\n",
       "      <td>s_03006</td>\n",
       "      <td>run4</td>\n",
       "      <td>3</td>\n",
       "      <td>1</td>\n",
       "      <td>0</td>\n",
       "      <td>1</td>\n",
       "      <td>1</td>\n",
       "      <td>0</td>\n",
       "      <td>43.0</td>\n",
       "      <td>43.000144</td>\n",
       "      <td>...</td>\n",
       "      <td>50.512631</td>\n",
       "      <td>4.0</td>\n",
       "      <td>46.5</td>\n",
       "      <td>46.501144</td>\n",
       "      <td>3.0</td>\n",
       "      <td>0.85</td>\n",
       "      <td>0.15</td>\n",
       "      <td>0.35</td>\n",
       "      <td>0.15</td>\n",
       "      <td>0</td>\n",
       "    </tr>\n",
       "    <tr>\n",
       "      <th>612</th>\n",
       "      <td>s_03006</td>\n",
       "      <td>run4</td>\n",
       "      <td>4</td>\n",
       "      <td>0</td>\n",
       "      <td>0</td>\n",
       "      <td>1</td>\n",
       "      <td>1</td>\n",
       "      <td>1</td>\n",
       "      <td>52.0</td>\n",
       "      <td>52.000214</td>\n",
       "      <td>...</td>\n",
       "      <td>61.513135</td>\n",
       "      <td>2.5</td>\n",
       "      <td>59.0</td>\n",
       "      <td>59.001287</td>\n",
       "      <td>6.5</td>\n",
       "      <td>0.57</td>\n",
       "      <td>0.43</td>\n",
       "      <td>0.07</td>\n",
       "      <td>0.07</td>\n",
       "      <td>0</td>\n",
       "    </tr>\n",
       "    <tr>\n",
       "      <th>615</th>\n",
       "      <td>s_03006</td>\n",
       "      <td>run4</td>\n",
       "      <td>7</td>\n",
       "      <td>1</td>\n",
       "      <td>0</td>\n",
       "      <td>1</td>\n",
       "      <td>1</td>\n",
       "      <td>0</td>\n",
       "      <td>90.5</td>\n",
       "      <td>90.500335</td>\n",
       "      <td>...</td>\n",
       "      <td>99.514754</td>\n",
       "      <td>3.5</td>\n",
       "      <td>96.0</td>\n",
       "      <td>96.001711</td>\n",
       "      <td>5.0</td>\n",
       "      <td>0.93</td>\n",
       "      <td>0.07</td>\n",
       "      <td>0.43</td>\n",
       "      <td>0.07</td>\n",
       "      <td>0</td>\n",
       "    </tr>\n",
       "    <tr>\n",
       "      <th>616</th>\n",
       "      <td>s_03006</td>\n",
       "      <td>run4</td>\n",
       "      <td>8</td>\n",
       "      <td>1</td>\n",
       "      <td>0</td>\n",
       "      <td>1</td>\n",
       "      <td>1</td>\n",
       "      <td>0</td>\n",
       "      <td>101.0</td>\n",
       "      <td>101.000718</td>\n",
       "      <td>...</td>\n",
       "      <td>109.515150</td>\n",
       "      <td>4.0</td>\n",
       "      <td>105.5</td>\n",
       "      <td>105.502045</td>\n",
       "      <td>4.0</td>\n",
       "      <td>0.60</td>\n",
       "      <td>0.40</td>\n",
       "      <td>0.10</td>\n",
       "      <td>0.10</td>\n",
       "      <td>0</td>\n",
       "    </tr>\n",
       "    <tr>\n",
       "      <th>617</th>\n",
       "      <td>s_03006</td>\n",
       "      <td>run4</td>\n",
       "      <td>9</td>\n",
       "      <td>0</td>\n",
       "      <td>0</td>\n",
       "      <td>1</td>\n",
       "      <td>1</td>\n",
       "      <td>1</td>\n",
       "      <td>111.0</td>\n",
       "      <td>111.000198</td>\n",
       "      <td>...</td>\n",
       "      <td>119.015572</td>\n",
       "      <td>3.0</td>\n",
       "      <td>116.0</td>\n",
       "      <td>116.002022</td>\n",
       "      <td>4.5</td>\n",
       "      <td>0.36</td>\n",
       "      <td>0.64</td>\n",
       "      <td>0.14</td>\n",
       "      <td>0.14</td>\n",
       "      <td>0</td>\n",
       "    </tr>\n",
       "    <tr>\n",
       "      <th>619</th>\n",
       "      <td>s_03006</td>\n",
       "      <td>run4</td>\n",
       "      <td>11</td>\n",
       "      <td>1</td>\n",
       "      <td>0</td>\n",
       "      <td>1</td>\n",
       "      <td>2</td>\n",
       "      <td>0</td>\n",
       "      <td>129.5</td>\n",
       "      <td>129.500563</td>\n",
       "      <td>...</td>\n",
       "      <td>140.016486</td>\n",
       "      <td>5.5</td>\n",
       "      <td>134.5</td>\n",
       "      <td>134.500933</td>\n",
       "      <td>4.5</td>\n",
       "      <td>0.45</td>\n",
       "      <td>0.55</td>\n",
       "      <td>0.05</td>\n",
       "      <td>0.05</td>\n",
       "      <td>0</td>\n",
       "    </tr>\n",
       "    <tr>\n",
       "      <th>621</th>\n",
       "      <td>s_03006</td>\n",
       "      <td>run4</td>\n",
       "      <td>13</td>\n",
       "      <td>1</td>\n",
       "      <td>0</td>\n",
       "      <td>1</td>\n",
       "      <td>2</td>\n",
       "      <td>0</td>\n",
       "      <td>151.0</td>\n",
       "      <td>151.000563</td>\n",
       "      <td>...</td>\n",
       "      <td>160.500405</td>\n",
       "      <td>3.0</td>\n",
       "      <td>157.5</td>\n",
       "      <td>157.502035</td>\n",
       "      <td>6.0</td>\n",
       "      <td>0.07</td>\n",
       "      <td>0.93</td>\n",
       "      <td>0.43</td>\n",
       "      <td>0.07</td>\n",
       "      <td>0</td>\n",
       "    </tr>\n",
       "    <tr>\n",
       "      <th>622</th>\n",
       "      <td>s_03006</td>\n",
       "      <td>run4</td>\n",
       "      <td>14</td>\n",
       "      <td>1</td>\n",
       "      <td>0</td>\n",
       "      <td>1</td>\n",
       "      <td>2</td>\n",
       "      <td>0</td>\n",
       "      <td>162.0</td>\n",
       "      <td>162.000865</td>\n",
       "      <td>...</td>\n",
       "      <td>170.501136</td>\n",
       "      <td>3.5</td>\n",
       "      <td>167.0</td>\n",
       "      <td>167.001389</td>\n",
       "      <td>4.5</td>\n",
       "      <td>0.11</td>\n",
       "      <td>0.89</td>\n",
       "      <td>0.39</td>\n",
       "      <td>0.11</td>\n",
       "      <td>0</td>\n",
       "    </tr>\n",
       "    <tr>\n",
       "      <th>623</th>\n",
       "      <td>s_03006</td>\n",
       "      <td>run4</td>\n",
       "      <td>15</td>\n",
       "      <td>1</td>\n",
       "      <td>0</td>\n",
       "      <td>1</td>\n",
       "      <td>2</td>\n",
       "      <td>0</td>\n",
       "      <td>172.0</td>\n",
       "      <td>172.000416</td>\n",
       "      <td>...</td>\n",
       "      <td>180.501558</td>\n",
       "      <td>2.5</td>\n",
       "      <td>178.0</td>\n",
       "      <td>178.001459</td>\n",
       "      <td>5.5</td>\n",
       "      <td>0.91</td>\n",
       "      <td>0.09</td>\n",
       "      <td>0.41</td>\n",
       "      <td>0.09</td>\n",
       "      <td>0</td>\n",
       "    </tr>\n",
       "    <tr>\n",
       "      <th>624</th>\n",
       "      <td>s_03006</td>\n",
       "      <td>run4</td>\n",
       "      <td>16</td>\n",
       "      <td>1</td>\n",
       "      <td>0</td>\n",
       "      <td>2</td>\n",
       "      <td>1</td>\n",
       "      <td>0</td>\n",
       "      <td>188.0</td>\n",
       "      <td>188.055335</td>\n",
       "      <td>...</td>\n",
       "      <td>198.002303</td>\n",
       "      <td>5.0</td>\n",
       "      <td>193.0</td>\n",
       "      <td>193.002099</td>\n",
       "      <td>4.5</td>\n",
       "      <td>0.11</td>\n",
       "      <td>0.89</td>\n",
       "      <td>0.39</td>\n",
       "      <td>0.11</td>\n",
       "      <td>0</td>\n",
       "    </tr>\n",
       "    <tr>\n",
       "      <th>625</th>\n",
       "      <td>s_03006</td>\n",
       "      <td>run4</td>\n",
       "      <td>17</td>\n",
       "      <td>1</td>\n",
       "      <td>0</td>\n",
       "      <td>2</td>\n",
       "      <td>1</td>\n",
       "      <td>0</td>\n",
       "      <td>199.5</td>\n",
       "      <td>199.500485</td>\n",
       "      <td>...</td>\n",
       "      <td>207.002680</td>\n",
       "      <td>4.0</td>\n",
       "      <td>203.0</td>\n",
       "      <td>203.001786</td>\n",
       "      <td>3.0</td>\n",
       "      <td>0.85</td>\n",
       "      <td>0.15</td>\n",
       "      <td>0.35</td>\n",
       "      <td>0.15</td>\n",
       "      <td>0</td>\n",
       "    </tr>\n",
       "    <tr>\n",
       "      <th>626</th>\n",
       "      <td>s_03006</td>\n",
       "      <td>run4</td>\n",
       "      <td>18</td>\n",
       "      <td>1</td>\n",
       "      <td>0</td>\n",
       "      <td>2</td>\n",
       "      <td>2</td>\n",
       "      <td>0</td>\n",
       "      <td>208.5</td>\n",
       "      <td>208.501203</td>\n",
       "      <td>...</td>\n",
       "      <td>216.503095</td>\n",
       "      <td>2.5</td>\n",
       "      <td>214.0</td>\n",
       "      <td>214.001309</td>\n",
       "      <td>5.0</td>\n",
       "      <td>0.45</td>\n",
       "      <td>0.55</td>\n",
       "      <td>0.05</td>\n",
       "      <td>0.05</td>\n",
       "      <td>0</td>\n",
       "    </tr>\n",
       "    <tr>\n",
       "      <th>627</th>\n",
       "      <td>s_03006</td>\n",
       "      <td>run4</td>\n",
       "      <td>19</td>\n",
       "      <td>1</td>\n",
       "      <td>0</td>\n",
       "      <td>2</td>\n",
       "      <td>2</td>\n",
       "      <td>0</td>\n",
       "      <td>218.0</td>\n",
       "      <td>218.000117</td>\n",
       "      <td>...</td>\n",
       "      <td>229.503627</td>\n",
       "      <td>4.0</td>\n",
       "      <td>225.5</td>\n",
       "      <td>225.501217</td>\n",
       "      <td>7.0</td>\n",
       "      <td>0.93</td>\n",
       "      <td>0.07</td>\n",
       "      <td>0.43</td>\n",
       "      <td>0.07</td>\n",
       "      <td>0</td>\n",
       "    </tr>\n",
       "    <tr>\n",
       "      <th>628</th>\n",
       "      <td>s_03006</td>\n",
       "      <td>run4</td>\n",
       "      <td>20</td>\n",
       "      <td>1</td>\n",
       "      <td>0</td>\n",
       "      <td>2</td>\n",
       "      <td>2</td>\n",
       "      <td>0</td>\n",
       "      <td>231.0</td>\n",
       "      <td>231.001138</td>\n",
       "      <td>...</td>\n",
       "      <td>240.504115</td>\n",
       "      <td>5.5</td>\n",
       "      <td>235.0</td>\n",
       "      <td>235.001247</td>\n",
       "      <td>3.5</td>\n",
       "      <td>0.57</td>\n",
       "      <td>0.43</td>\n",
       "      <td>0.07</td>\n",
       "      <td>0.07</td>\n",
       "      <td>0</td>\n",
       "    </tr>\n",
       "    <tr>\n",
       "      <th>630</th>\n",
       "      <td>s_03006</td>\n",
       "      <td>run4</td>\n",
       "      <td>22</td>\n",
       "      <td>1</td>\n",
       "      <td>0</td>\n",
       "      <td>2</td>\n",
       "      <td>2</td>\n",
       "      <td>0</td>\n",
       "      <td>252.0</td>\n",
       "      <td>252.000530</td>\n",
       "      <td>...</td>\n",
       "      <td>260.004938</td>\n",
       "      <td>4.0</td>\n",
       "      <td>256.0</td>\n",
       "      <td>256.001821</td>\n",
       "      <td>3.5</td>\n",
       "      <td>0.60</td>\n",
       "      <td>0.40</td>\n",
       "      <td>0.10</td>\n",
       "      <td>0.10</td>\n",
       "      <td>0</td>\n",
       "    </tr>\n",
       "    <tr>\n",
       "      <th>631</th>\n",
       "      <td>s_03006</td>\n",
       "      <td>run4</td>\n",
       "      <td>23</td>\n",
       "      <td>0</td>\n",
       "      <td>0</td>\n",
       "      <td>2</td>\n",
       "      <td>1</td>\n",
       "      <td>1</td>\n",
       "      <td>261.5</td>\n",
       "      <td>261.500349</td>\n",
       "      <td>...</td>\n",
       "      <td>271.005297</td>\n",
       "      <td>3.5</td>\n",
       "      <td>267.5</td>\n",
       "      <td>267.501429</td>\n",
       "      <td>5.5</td>\n",
       "      <td>0.28</td>\n",
       "      <td>0.72</td>\n",
       "      <td>0.22</td>\n",
       "      <td>0.22</td>\n",
       "      <td>0</td>\n",
       "    </tr>\n",
       "    <tr>\n",
       "      <th>633</th>\n",
       "      <td>s_03006</td>\n",
       "      <td>run4</td>\n",
       "      <td>25</td>\n",
       "      <td>1</td>\n",
       "      <td>0</td>\n",
       "      <td>2</td>\n",
       "      <td>2</td>\n",
       "      <td>0</td>\n",
       "      <td>284.5</td>\n",
       "      <td>284.500878</td>\n",
       "      <td>...</td>\n",
       "      <td>295.006396</td>\n",
       "      <td>6.5</td>\n",
       "      <td>288.5</td>\n",
       "      <td>288.500950</td>\n",
       "      <td>3.5</td>\n",
       "      <td>0.91</td>\n",
       "      <td>0.09</td>\n",
       "      <td>0.41</td>\n",
       "      <td>0.09</td>\n",
       "      <td>0</td>\n",
       "    </tr>\n",
       "    <tr>\n",
       "      <th>634</th>\n",
       "      <td>s_03006</td>\n",
       "      <td>run4</td>\n",
       "      <td>26</td>\n",
       "      <td>1</td>\n",
       "      <td>0</td>\n",
       "      <td>2</td>\n",
       "      <td>1</td>\n",
       "      <td>0</td>\n",
       "      <td>296.5</td>\n",
       "      <td>296.500514</td>\n",
       "      <td>...</td>\n",
       "      <td>303.506756</td>\n",
       "      <td>2.5</td>\n",
       "      <td>301.0</td>\n",
       "      <td>301.000876</td>\n",
       "      <td>4.0</td>\n",
       "      <td>0.36</td>\n",
       "      <td>0.64</td>\n",
       "      <td>0.14</td>\n",
       "      <td>0.14</td>\n",
       "      <td>0</td>\n",
       "    </tr>\n",
       "    <tr>\n",
       "      <th>635</th>\n",
       "      <td>s_03006</td>\n",
       "      <td>run4</td>\n",
       "      <td>27</td>\n",
       "      <td>1</td>\n",
       "      <td>0</td>\n",
       "      <td>2</td>\n",
       "      <td>2</td>\n",
       "      <td>0</td>\n",
       "      <td>305.0</td>\n",
       "      <td>305.000572</td>\n",
       "      <td>...</td>\n",
       "      <td>311.507095</td>\n",
       "      <td>3.0</td>\n",
       "      <td>308.5</td>\n",
       "      <td>308.500862</td>\n",
       "      <td>3.0</td>\n",
       "      <td>0.07</td>\n",
       "      <td>0.93</td>\n",
       "      <td>0.43</td>\n",
       "      <td>0.07</td>\n",
       "      <td>0</td>\n",
       "    </tr>\n",
       "    <tr>\n",
       "      <th>637</th>\n",
       "      <td>s_03006</td>\n",
       "      <td>run4</td>\n",
       "      <td>29</td>\n",
       "      <td>1</td>\n",
       "      <td>0</td>\n",
       "      <td>2</td>\n",
       "      <td>1</td>\n",
       "      <td>0</td>\n",
       "      <td>322.0</td>\n",
       "      <td>322.001143</td>\n",
       "      <td>...</td>\n",
       "      <td>330.007812</td>\n",
       "      <td>3.0</td>\n",
       "      <td>327.0</td>\n",
       "      <td>327.001883</td>\n",
       "      <td>4.5</td>\n",
       "      <td>0.09</td>\n",
       "      <td>0.91</td>\n",
       "      <td>0.41</td>\n",
       "      <td>0.09</td>\n",
       "      <td>0</td>\n",
       "    </tr>\n",
       "    <tr>\n",
       "      <th>638</th>\n",
       "      <td>s_03006</td>\n",
       "      <td>run4</td>\n",
       "      <td>30</td>\n",
       "      <td>1</td>\n",
       "      <td>0</td>\n",
       "      <td>2</td>\n",
       "      <td>1</td>\n",
       "      <td>0</td>\n",
       "      <td>331.5</td>\n",
       "      <td>331.500640</td>\n",
       "      <td>...</td>\n",
       "      <td>344.008471</td>\n",
       "      <td>6.0</td>\n",
       "      <td>338.0</td>\n",
       "      <td>338.000987</td>\n",
       "      <td>6.0</td>\n",
       "      <td>0.77</td>\n",
       "      <td>0.23</td>\n",
       "      <td>0.27</td>\n",
       "      <td>0.23</td>\n",
       "      <td>0</td>\n",
       "    </tr>\n",
       "  </tbody>\n",
       "</table>\n",
       "<p>420 rows × 37 columns</p>\n",
       "</div>"
      ],
      "text/plain": [
       "     Subject   Run  Trial  Acc  BadPress  Block  Correct  Error  ITI_onset  \\\n",
       "0    s_03001  run1      0    1         0      1        2      0       14.0   \n",
       "2    s_03001  run1      2    1         0      1        2      0       33.5   \n",
       "3    s_03001  run1      3    1         0      1        1      0       41.5   \n",
       "4    s_03001  run1      4    1         0      1        1      0       51.5   \n",
       "5    s_03001  run1      5    1         0      1        2      0       62.0   \n",
       "6    s_03001  run1      6    0         0      1        2      1       74.5   \n",
       "7    s_03001  run1      7    1         0      1        1      0       86.0   \n",
       "8    s_03001  run1      8    1         0      1        1      0       98.0   \n",
       "10   s_03001  run1     10    1         0      1        2      0      123.0   \n",
       "12   s_03001  run1     12    1         0      1        2      0      140.0   \n",
       "13   s_03001  run1     13    0         0      1        1      1      153.5   \n",
       "14   s_03001  run1     14    1         0      1        2      0      163.0   \n",
       "16   s_03001  run1     16    1         0      2        2      0      188.0   \n",
       "17   s_03001  run1     17    1         0      2        1      0      197.5   \n",
       "18   s_03001  run1     18    0         0      2        2      1      212.0   \n",
       "19   s_03001  run1     19    1         0      2        1      0      223.0   \n",
       "21   s_03001  run1     21    1         0      2        1      0      241.0   \n",
       "22   s_03001  run1     22    1         0      2        1      0      250.0   \n",
       "24   s_03001  run1     24    1         0      2        1      0      275.5   \n",
       "25   s_03001  run1     25    1         0      2        2      0      287.0   \n",
       "27   s_03001  run1     27    1         0      2        2      0      307.5   \n",
       "29   s_03001  run1     29    0         0      2        1      1      327.0   \n",
       "30   s_03001  run1     30    1         0      2        2      0      337.5   \n",
       "31   s_03001  run1     31    1         0      2        2      0      346.5   \n",
       "32   s_03001  run3      0    1         0      1        2      0       14.0   \n",
       "33   s_03001  run3      1    1         0      1        2      0       22.5   \n",
       "35   s_03001  run3      3    1         0      1        2      0       45.5   \n",
       "36   s_03001  run3      4    0         0      1        1      1       56.5   \n",
       "37   s_03001  run3      5    1         0      1        1      0       68.0   \n",
       "38   s_03001  run3      6    0         0      1        1      1       80.0   \n",
       "..       ...   ...    ...  ...       ...    ...      ...    ...        ...   \n",
       "598  s_03006  run2     22    0         0      2        1      1      253.0   \n",
       "599  s_03006  run2     23    0         0      2        1      1      266.5   \n",
       "600  s_03006  run2     24    1         0      2        1      0      275.0   \n",
       "602  s_03006  run2     26    0         0      2        2      1      293.0   \n",
       "603  s_03006  run2     27    0         0      2        2      1      303.0   \n",
       "605  s_03006  run2     29    1         0      2        2      0      323.0   \n",
       "606  s_03006  run2     30    0         0      2        1      1      334.5   \n",
       "608  s_03006  run4      0    1         0      1        2      0       14.0   \n",
       "610  s_03006  run4      2    1         0      1        1      0       33.5   \n",
       "611  s_03006  run4      3    1         0      1        1      0       43.0   \n",
       "612  s_03006  run4      4    0         0      1        1      1       52.0   \n",
       "615  s_03006  run4      7    1         0      1        1      0       90.5   \n",
       "616  s_03006  run4      8    1         0      1        1      0      101.0   \n",
       "617  s_03006  run4      9    0         0      1        1      1      111.0   \n",
       "619  s_03006  run4     11    1         0      1        2      0      129.5   \n",
       "621  s_03006  run4     13    1         0      1        2      0      151.0   \n",
       "622  s_03006  run4     14    1         0      1        2      0      162.0   \n",
       "623  s_03006  run4     15    1         0      1        2      0      172.0   \n",
       "624  s_03006  run4     16    1         0      2        1      0      188.0   \n",
       "625  s_03006  run4     17    1         0      2        1      0      199.5   \n",
       "626  s_03006  run4     18    1         0      2        2      0      208.5   \n",
       "627  s_03006  run4     19    1         0      2        2      0      218.0   \n",
       "628  s_03006  run4     20    1         0      2        2      0      231.0   \n",
       "630  s_03006  run4     22    1         0      2        2      0      252.0   \n",
       "631  s_03006  run4     23    0         0      2        1      1      261.5   \n",
       "633  s_03006  run4     25    1         0      2        2      0      284.5   \n",
       "634  s_03006  run4     26    1         0      2        1      0      296.5   \n",
       "635  s_03006  run4     27    1         0      2        2      0      305.0   \n",
       "637  s_03006  run4     29    1         0      2        1      0      322.0   \n",
       "638  s_03006  run4     30    1         0      2        1      0      331.5   \n",
       "\n",
       "     ITI_onset_real   ...    decision_onset_real  hold  hold_onset  \\\n",
       "0         14.006765   ...              23.008680   2.5        20.5   \n",
       "2         33.501051   ...              40.009610   3.0        37.0   \n",
       "3         41.501076   ...              50.009948   4.0        46.0   \n",
       "4         51.500943   ...              60.510471   4.5        56.0   \n",
       "5         62.000718   ...              73.011000   5.0        68.0   \n",
       "6         74.500277   ...              84.511487   6.0        78.5   \n",
       "7         86.000385   ...              96.511977   3.5        93.0   \n",
       "8         98.000558   ...             108.512305   5.5       103.0   \n",
       "10       123.001064   ...             129.513379   2.5       127.0   \n",
       "12       140.000215   ...             152.014295   6.5       145.5   \n",
       "13       153.500495   ...             161.514752   3.0       158.5   \n",
       "14       163.001124   ...             170.515101   3.0       167.5   \n",
       "16       188.052723   ...             196.016169   3.0       193.0   \n",
       "17       197.500140   ...             210.500150   6.0       204.5   \n",
       "18       212.000894   ...             221.500610   5.0       216.5   \n",
       "19       223.000070   ...             229.500948   2.5       227.0   \n",
       "21       240.999918   ...             248.501743   4.0       244.5   \n",
       "22       250.001173   ...             263.002155   5.5       257.5   \n",
       "24       275.501018   ...             285.503253   6.5       279.0   \n",
       "25       287.000245   ...             296.503774   3.0       293.5   \n",
       "27       307.500717   ...             317.004615   4.5       312.5   \n",
       "29       327.000802   ...             336.005399   4.0       332.0   \n",
       "30       337.500212   ...             345.005625   3.5       341.5   \n",
       "31       346.500095   ...             354.506195   4.0       350.5   \n",
       "32        14.002457   ...              21.006539   3.5        17.5   \n",
       "33        22.500338   ...              30.507085   3.0        27.5   \n",
       "35        45.500258   ...              55.008112   2.5        52.5   \n",
       "36        56.499918   ...              66.508544   5.5        61.0   \n",
       "37        68.000756   ...              78.509098   4.0        74.5   \n",
       "38        80.001508   ...              87.509250   3.5        84.0   \n",
       "..              ...   ...                    ...   ...         ...   \n",
       "598      252.999992   ...             265.006976   5.0       260.0   \n",
       "599      266.499926   ...             273.507289   3.5       270.0   \n",
       "600      275.000221   ...             283.007753   3.0       280.0   \n",
       "602      293.000621   ...             301.508523   3.0       298.5   \n",
       "603      303.000146   ...             311.508946   4.5       307.0   \n",
       "605      322.999952   ...             333.009855   6.5       326.5   \n",
       "606      334.501196   ...             343.010281   4.0       339.0   \n",
       "608       14.000906   ...              23.011504   5.0        18.0   \n",
       "610       33.501026   ...              41.512288   4.0        37.5   \n",
       "611       43.000144   ...              50.512631   4.0        46.5   \n",
       "612       52.000214   ...              61.513135   2.5        59.0   \n",
       "615       90.500335   ...              99.514754   3.5        96.0   \n",
       "616      101.000718   ...             109.515150   4.0       105.5   \n",
       "617      111.000198   ...             119.015572   3.0       116.0   \n",
       "619      129.500563   ...             140.016486   5.5       134.5   \n",
       "621      151.000563   ...             160.500405   3.0       157.5   \n",
       "622      162.000865   ...             170.501136   3.5       167.0   \n",
       "623      172.000416   ...             180.501558   2.5       178.0   \n",
       "624      188.055335   ...             198.002303   5.0       193.0   \n",
       "625      199.500485   ...             207.002680   4.0       203.0   \n",
       "626      208.501203   ...             216.503095   2.5       214.0   \n",
       "627      218.000117   ...             229.503627   4.0       225.5   \n",
       "628      231.001138   ...             240.504115   5.5       235.0   \n",
       "630      252.000530   ...             260.004938   4.0       256.0   \n",
       "631      261.500349   ...             271.005297   3.5       267.5   \n",
       "633      284.500878   ...             295.006396   6.5       288.5   \n",
       "634      296.500514   ...             303.506756   2.5       301.0   \n",
       "635      305.000572   ...             311.507095   3.0       308.5   \n",
       "637      322.001143   ...             330.007812   3.0       327.0   \n",
       "638      331.500640   ...             344.008471   6.0       338.0   \n",
       "\n",
       "     hold_onset_real  iti  Dist0  Dist100 Dist50  LandmarkDist  Missed  \n",
       "0          20.502069  6.0   0.36     0.64   0.14          0.14       0  \n",
       "2          37.002539  3.0   0.85     0.15   0.35          0.15       0  \n",
       "3          46.001543  4.0   0.45     0.55   0.05          0.05       0  \n",
       "4          56.001799  4.0   0.93     0.07   0.43          0.07       0  \n",
       "5          68.001537  5.5   0.33     0.67   0.17          0.17       0  \n",
       "6          78.501440  3.5   0.74     0.26   0.24          0.24       0  \n",
       "7          93.001410  6.5   0.77     0.23   0.27          0.23       0  \n",
       "8         103.001983  4.5   0.09     0.91   0.41          0.09       0  \n",
       "10        127.001189  3.5   0.07     0.93   0.43          0.07       0  \n",
       "12        145.502030  5.0   0.60     0.40   0.10          0.10       0  \n",
       "13        158.501073  4.5   0.11     0.89   0.39          0.11       0  \n",
       "14        167.501338  4.0   0.28     0.72   0.22          0.22       0  \n",
       "16        193.001653  4.5   0.74     0.26   0.24          0.24       0  \n",
       "17        204.501635  6.5   0.60     0.40   0.10          0.10       0  \n",
       "18        216.501875  4.0   0.07     0.93   0.43          0.07       0  \n",
       "19        227.001765  3.5   0.09     0.91   0.41          0.09       0  \n",
       "21        244.500994  3.0   0.77     0.23   0.27          0.23       0  \n",
       "22        257.500878  7.0   0.85     0.15   0.35          0.15       0  \n",
       "24        279.001606  3.0   0.93     0.07   0.43          0.07       0  \n",
       "25        293.500879  6.0   0.36     0.64   0.14          0.14       0  \n",
       "27        312.502294  4.5   0.11     0.89   0.39          0.11       0  \n",
       "29        332.001396  4.5   0.33     0.67   0.17          0.17       0  \n",
       "30        341.501643  3.5   0.45     0.55   0.05          0.05       0  \n",
       "31        350.501955  3.5   0.28     0.72   0.22          0.22       0  \n",
       "32         17.500924  3.0   0.65     0.35   0.15          0.15       0  \n",
       "33         27.501310  4.5   0.21     0.79   0.29          0.21       0  \n",
       "35         52.500819  6.5   0.91     0.09   0.41          0.09       0  \n",
       "36         61.001769  4.0   0.36     0.64   0.14          0.14       0  \n",
       "37         74.500864  6.0   0.28     0.72   0.22          0.22       0  \n",
       "38         84.002064  3.5   0.33     0.67   0.17          0.17       0  \n",
       "..               ...  ...    ...      ...    ...           ...     ...  \n",
       "598       260.001389  6.5   0.74     0.26   0.24          0.24       0  \n",
       "599       270.001624  3.0   0.57     0.43   0.07          0.07       0  \n",
       "600       280.001126  4.5   0.07     0.93   0.43          0.07       0  \n",
       "602       298.501177  5.0   0.65     0.35   0.15          0.15       0  \n",
       "603       307.001721  3.5   0.85     0.15   0.35          0.15       0  \n",
       "605       326.501939  3.0   0.93     0.07   0.43          0.07       0  \n",
       "606       339.001375  4.0   0.45     0.55   0.05          0.05       0  \n",
       "608        18.002021  3.5   0.09     0.91   0.41          0.09       0  \n",
       "610        37.502146  3.5   0.77     0.23   0.27          0.23       0  \n",
       "611        46.501144  3.0   0.85     0.15   0.35          0.15       0  \n",
       "612        59.001287  6.5   0.57     0.43   0.07          0.07       0  \n",
       "615        96.001711  5.0   0.93     0.07   0.43          0.07       0  \n",
       "616       105.502045  4.0   0.60     0.40   0.10          0.10       0  \n",
       "617       116.002022  4.5   0.36     0.64   0.14          0.14       0  \n",
       "619       134.500933  4.5   0.45     0.55   0.05          0.05       0  \n",
       "621       157.502035  6.0   0.07     0.93   0.43          0.07       0  \n",
       "622       167.001389  4.5   0.11     0.89   0.39          0.11       0  \n",
       "623       178.001459  5.5   0.91     0.09   0.41          0.09       0  \n",
       "624       193.002099  4.5   0.11     0.89   0.39          0.11       0  \n",
       "625       203.001786  3.0   0.85     0.15   0.35          0.15       0  \n",
       "626       214.001309  5.0   0.45     0.55   0.05          0.05       0  \n",
       "627       225.501217  7.0   0.93     0.07   0.43          0.07       0  \n",
       "628       235.001247  3.5   0.57     0.43   0.07          0.07       0  \n",
       "630       256.001821  3.5   0.60     0.40   0.10          0.10       0  \n",
       "631       267.501429  5.5   0.28     0.72   0.22          0.22       0  \n",
       "633       288.500950  3.5   0.91     0.09   0.41          0.09       0  \n",
       "634       301.000876  4.0   0.36     0.64   0.14          0.14       0  \n",
       "635       308.500862  3.0   0.07     0.93   0.43          0.07       0  \n",
       "637       327.001883  4.5   0.09     0.91   0.41          0.09       0  \n",
       "638       338.000987  6.0   0.77     0.23   0.27          0.23       0  \n",
       "\n",
       "[420 rows x 37 columns]"
      ]
     },
     "execution_count": 94,
     "metadata": {},
     "output_type": "execute_result"
    }
   ],
   "source": [
    "new_df = new_df[pd.notnull(new_df['Subject'])]\n",
    "new_df"
   ]
  },
  {
   "cell_type": "code",
   "execution_count": 95,
   "metadata": {
    "collapsed": true
   },
   "outputs": [],
   "source": [
    "group_task = new_df.groupby(['Subject','Line_pct'])"
   ]
  },
  {
   "cell_type": "code",
   "execution_count": 96,
   "metadata": {
    "collapsed": true
   },
   "outputs": [],
   "source": [
    "error = group_task['Error'].mean()\n",
    "response = group_task['Response'].mean()"
   ]
  },
  {
   "cell_type": "code",
   "execution_count": 98,
   "metadata": {
    "collapsed": false
   },
   "outputs": [
    {
     "data": {
      "text/plain": [
       "Subject  Line_pct\n",
       "s_03001  0.07        0.166667\n",
       "         0.09        0.000000\n",
       "         0.11        0.200000\n",
       "         0.21        0.333333\n",
       "         0.28        0.333333\n",
       "         0.33        0.500000\n",
       "         0.36        0.166667\n",
       "         0.45        0.000000\n",
       "         0.57        0.000000\n",
       "         0.60        0.000000\n",
       "         0.65        0.333333\n",
       "         0.74        0.333333\n",
       "         0.77        0.166667\n",
       "         0.85        0.333333\n",
       "         0.91        0.000000\n",
       "         0.93        0.166667\n",
       "s_03003  0.07        0.000000\n",
       "         0.09        0.000000\n",
       "         0.11        0.000000\n",
       "         0.21        0.000000\n",
       "         0.28        0.000000\n",
       "         0.33        0.000000\n",
       "         0.36        0.250000\n",
       "         0.45        0.000000\n",
       "         0.57        0.000000\n",
       "         0.60        0.000000\n",
       "         0.65        0.250000\n",
       "         0.74        0.000000\n",
       "         0.77        0.000000\n",
       "         0.85        0.166667\n",
       "                       ...   \n",
       "s_03005  0.11        0.000000\n",
       "         0.21        0.000000\n",
       "         0.28        0.000000\n",
       "         0.33        0.000000\n",
       "         0.36        0.166667\n",
       "         0.45        0.000000\n",
       "         0.57        0.000000\n",
       "         0.60        0.000000\n",
       "         0.65        0.000000\n",
       "         0.74        0.000000\n",
       "         0.77        0.166667\n",
       "         0.85        0.000000\n",
       "         0.91        0.500000\n",
       "         0.93        0.500000\n",
       "s_03006  0.07        0.333333\n",
       "         0.09        0.333333\n",
       "         0.11        0.166667\n",
       "         0.21        0.333333\n",
       "         0.28        0.600000\n",
       "         0.33        0.666667\n",
       "         0.36        0.333333\n",
       "         0.45        0.500000\n",
       "         0.57        0.833333\n",
       "         0.60        0.333333\n",
       "         0.65        0.333333\n",
       "         0.74        0.500000\n",
       "         0.77        0.333333\n",
       "         0.85        0.333333\n",
       "         0.91        0.333333\n",
       "         0.93        0.166667\n",
       "Name: Error, dtype: float64"
      ]
     },
     "execution_count": 98,
     "metadata": {},
     "output_type": "execute_result"
    }
   ],
   "source": [
    "error"
   ]
  },
  {
   "cell_type": "code",
   "execution_count": 99,
   "metadata": {
    "collapsed": true
   },
   "outputs": [],
   "source": [
    "subjs = new_df['Subject'].unique()"
   ]
  },
  {
   "cell_type": "code",
   "execution_count": 109,
   "metadata": {
    "collapsed": true
   },
   "outputs": [],
   "source": [
    "error_dict = {}\n",
    "position_dict = {}\n",
    "results_list = []\n",
    "for s in subjs:\n",
    "    d_tmp = {}\n",
    "    error_dict[s] = error.loc[s]\n",
    "    slope,inter,r,p,stderr = linregress(error_dict[s].index, error_dict[s])\n",
    "    d_tmp = {'Subject':s, 'slope_E':slope, 'int_E':inter,\n",
    "             'r_E':r,'p_E':p, 'stderr_E':stderr,\n",
    "             'R2_E':r*r}\n",
    "    results_list.append(d_tmp)\n",
    "res_df = pd.DataFrame(results_list)"
   ]
  },
  {
   "cell_type": "code",
   "execution_count": 110,
   "metadata": {
    "collapsed": false
   },
   "outputs": [
    {
     "data": {
      "text/html": [
       "<div>\n",
       "<table border=\"1\" class=\"dataframe\">\n",
       "  <thead>\n",
       "    <tr style=\"text-align: right;\">\n",
       "      <th></th>\n",
       "      <th>R2_E</th>\n",
       "      <th>Subject</th>\n",
       "      <th>int_E</th>\n",
       "      <th>p_E</th>\n",
       "      <th>r_E</th>\n",
       "      <th>slope_E</th>\n",
       "      <th>stderr_E</th>\n",
       "    </tr>\n",
       "  </thead>\n",
       "  <tbody>\n",
       "    <tr>\n",
       "      <th>0</th>\n",
       "      <td>0.004822</td>\n",
       "      <td>s_03001</td>\n",
       "      <td>0.207984</td>\n",
       "      <td>0.798306</td>\n",
       "      <td>-0.069441</td>\n",
       "      <td>-0.037173</td>\n",
       "      <td>0.142726</td>\n",
       "    </tr>\n",
       "    <tr>\n",
       "      <th>1</th>\n",
       "      <td>0.024736</td>\n",
       "      <td>s_03003</td>\n",
       "      <td>0.017814</td>\n",
       "      <td>0.560756</td>\n",
       "      <td>0.157278</td>\n",
       "      <td>0.048188</td>\n",
       "      <td>0.080866</td>\n",
       "    </tr>\n",
       "    <tr>\n",
       "      <th>2</th>\n",
       "      <td>0.166708</td>\n",
       "      <td>s_03004</td>\n",
       "      <td>0.360300</td>\n",
       "      <td>0.116403</td>\n",
       "      <td>-0.408298</td>\n",
       "      <td>-0.254393</td>\n",
       "      <td>0.152007</td>\n",
       "    </tr>\n",
       "    <tr>\n",
       "      <th>3</th>\n",
       "      <td>0.190476</td>\n",
       "      <td>s_03005</td>\n",
       "      <td>-0.028205</td>\n",
       "      <td>0.091007</td>\n",
       "      <td>0.436435</td>\n",
       "      <td>0.256896</td>\n",
       "      <td>0.141543</td>\n",
       "    </tr>\n",
       "    <tr>\n",
       "      <th>4</th>\n",
       "      <td>0.003987</td>\n",
       "      <td>s_03006</td>\n",
       "      <td>0.420608</td>\n",
       "      <td>0.816285</td>\n",
       "      <td>-0.063146</td>\n",
       "      <td>-0.037424</td>\n",
       "      <td>0.158077</td>\n",
       "    </tr>\n",
       "  </tbody>\n",
       "</table>\n",
       "</div>"
      ],
      "text/plain": [
       "       R2_E  Subject     int_E       p_E       r_E   slope_E  stderr_E\n",
       "0  0.004822  s_03001  0.207984  0.798306 -0.069441 -0.037173  0.142726\n",
       "1  0.024736  s_03003  0.017814  0.560756  0.157278  0.048188  0.080866\n",
       "2  0.166708  s_03004  0.360300  0.116403 -0.408298 -0.254393  0.152007\n",
       "3  0.190476  s_03005 -0.028205  0.091007  0.436435  0.256896  0.141543\n",
       "4  0.003987  s_03006  0.420608  0.816285 -0.063146 -0.037424  0.158077"
      ]
     },
     "execution_count": 110,
     "metadata": {},
     "output_type": "execute_result"
    }
   ],
   "source": [
    "res_df"
   ]
  },
  {
   "cell_type": "code",
   "execution_count": 104,
   "metadata": {
    "collapsed": true
   },
   "outputs": [],
   "source": [
    "res_grp = res_df.groupby('Subject')"
   ]
  },
  {
   "cell_type": "code",
   "execution_count": 108,
   "metadata": {
    "collapsed": false
   },
   "outputs": [
    {
     "data": {
      "text/plain": [
       "[<matplotlib.lines.Line2D at 0x10d8a2d10>]"
      ]
     },
     "execution_count": 108,
     "metadata": {},
     "output_type": "execute_result"
    },
    {
     "data": {
      "image/png": "[encoded data removed]",
      "text/plain": [
       "<matplotlib.figure.Figure at 0x10d19c550>"
      ]
     },
     "metadata": {},
     "output_type": "display_data"
    }
   ],
   "source": [
    "plt.plot(res_df['slope_E'], '-o')"
   ]
  },
  {
   "cell_type": "code",
   "execution_count": null,
   "metadata": {
    "collapsed": true
   },
   "outputs": [],
   "source": []
  }
 ],
 "metadata": {
  "kernelspec": {
   "display_name": "Python 2",
   "language": "python",
   "name": "python2"
  },
  "language_info": {
   "codemirror_mode": {
    "name": "ipython",
    "version": 2
   },
   "file_extension": ".py",
   "mimetype": "text/x-python",
   "name": "python",
   "nbconvert_exporter": "python",
   "pygments_lexer": "ipython2",
   "version": "2.7.10"
  }
 },
 "nbformat": 4,
 "nbformat_minor": 0
}
