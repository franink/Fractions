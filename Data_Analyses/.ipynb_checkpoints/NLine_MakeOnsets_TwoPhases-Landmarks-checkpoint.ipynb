{
 "cells": [
  {
   "cell_type": "code",
   "execution_count": 1,
   "metadata": {
    "collapsed": false
   },
   "outputs": [],
   "source": [
    "#Opened with --pylab flag\n",
    "#Need to create code to analyze piot data\n",
    "import pandas as pd\n",
    "import numpy as np\n",
    "from scipy import io\n",
    "import os\n",
    "import glob"
   ]
  },
  {
   "cell_type": "code",
   "execution_count": 2,
   "metadata": {
    "collapsed": false
   },
   "outputs": [],
   "source": [
    "## Laptop\n",
    "#filepath = '/Users/frankkanayet/Dropbox/NLineExperiment/PilotData'\n",
    "#filepath = '/Users/frankkanayet/Dropbox/NLineExperiment/PilotData/test3s'\n",
    "filepath = '/Users/frankkanayet/Google Drive/NLineData/Beh_Data'\n",
    "\n",
    "## Desktop\n",
    "#filepath = '/Users/frankanayet/Dropbox/NLineExperiment/Data'\n",
    "os.chdir(filepath)"
   ]
  },
  {
   "cell_type": "code",
   "execution_count": 33,
   "metadata": {
    "collapsed": false
   },
   "outputs": [
    {
     "name": "stdout",
     "output_type": "stream",
     "text": [
      "Pandas version 0.15.2\n"
     ]
    }
   ],
   "source": [
    "print 'Pandas version ' + pd.__version__"
   ]
  },
  {
   "cell_type": "code",
   "execution_count": 4,
   "metadata": {
    "collapsed": false
   },
   "outputs": [
    {
     "name": "stdout",
     "output_type": "stream",
     "text": [
      "['Nline_02001-Mar1615.mat', 'Nline_02002-Mar1915.mat', 'Nline_02003-Mar2015a.mat', 'Nline_02004-Mar2315a.mat', 'Nline_02005-Mar2315a.mat', 'Nline_02006-Mar2315a.mat', 'Nline_02007-Mar2415a.mat', 'Nline_02009-Mar2615a.mat', 'Nline_02010-Mar2615a.mat', 'Nline_02011-Mar2615a.mat', 'Nline_02012-Apr0215a.mat', 'Nline_02014-Apr0315a.mat']\n"
     ]
    },
    {
     "data": {
      "text/plain": [
       "['s_02009',\n",
       " 's_02003',\n",
       " 's_02002',\n",
       " 's_02001',\n",
       " 's_02007',\n",
       " 's_02006',\n",
       " 's_02005',\n",
       " 's_02004',\n",
       " 's_02014',\n",
       " 's_02010',\n",
       " 's_02011',\n",
       " 's_02012']"
      ]
     },
     "execution_count": 4,
     "metadata": {},
     "output_type": "execute_result"
    }
   ],
   "source": [
    "filenames = glob.glob('Nline_*.mat')\n",
    "print filenames\n",
    "#index to isolate subj numbers\n",
    "data_dict = {}\n",
    "for i in filenames:\n",
    "    id1 = filenames[0].find('_') + 1\n",
    "    id2 = filenames[0].find('-')\n",
    "    sub_nbr = i[id1:id2]\n",
    "    sub_name = i\n",
    "    s_id = 's_'+sub_nbr\n",
    "    data_dict[s_id] = io.loadmat(sub_name)\n",
    "\n",
    "#sub_name = filenames[0] #This will be changed to a loop for all subjects later\n",
    "#mat = io.loadmat(sub_name)\n",
    "data_dict.keys()"
   ]
  },
  {
   "cell_type": "code",
   "execution_count": 5,
   "metadata": {
    "collapsed": false
   },
   "outputs": [],
   "source": [
    "sub_ex = data_dict.keys()[0]"
   ]
  },
  {
   "cell_type": "code",
   "execution_count": 6,
   "metadata": {
    "collapsed": false
   },
   "outputs": [],
   "source": [
    "#data_dict['s_00011']['p']"
   ]
  },
  {
   "cell_type": "code",
   "execution_count": 7,
   "metadata": {
    "collapsed": false
   },
   "outputs": [],
   "source": [
    "#for i in data_dict:\n",
    "#    data_dict[i].pop('__header__')\n",
    "#    data_dict[i].pop('__version__')\n",
    "#    data_dict[i].pop('__globals__')\n",
    "#data_dict['s_00011'].keys()"
   ]
  },
  {
   "cell_type": "code",
   "execution_count": 8,
   "metadata": {
    "collapsed": false
   },
   "outputs": [
    {
     "data": {
      "text/plain": [
       "49"
      ]
     },
     "execution_count": 8,
     "metadata": {},
     "output_type": "execute_result"
    }
   ],
   "source": [
    "## The indexes of zeros are as follows [0][0][x][y][z][0] The x y z are the 3 dimensions of the data 3d matrix the zeros are padding\n",
    "data_dict[sub_ex]['p']['NlineResults'][0][0][0][5][0][0]\n",
    "len(data_dict[sub_ex]['p']['NlineResults'][0][0][:])"
   ]
  },
  {
   "cell_type": "code",
   "execution_count": 9,
   "metadata": {
    "collapsed": false
   },
   "outputs": [
    {
     "data": {
      "text/plain": [
       "('ramp_up',\n",
       " 'Mean_ITI',\n",
       " 'Mean_hold',\n",
       " 'decision',\n",
       " 'consider',\n",
       " 'runs',\n",
       " 'nStim',\n",
       " 'ntasks',\n",
       " 'tasks',\n",
       " 'trialSecs',\n",
       " 'lineLength',\n",
       " 'speed',\n",
       " 'run_order',\n",
       " 'NlineResults',\n",
       " 'time_Runs',\n",
       " 'task_transition',\n",
       " 'start_Nline',\n",
       " 'finish_Nline')"
      ]
     },
     "execution_count": 9,
     "metadata": {},
     "output_type": "execute_result"
    }
   ],
   "source": [
    "data_dict[sub_ex]['p'].dtype.names"
   ]
  },
  {
   "cell_type": "code",
   "execution_count": 10,
   "metadata": {
    "collapsed": false
   },
   "outputs": [],
   "source": [
    "cons_time = data_dict[sub_ex]['p']['consider'][0][0][0][0]\n",
    "dec_time = data_dict[sub_ex]['p']['decision'][0][0][0][0]"
   ]
  },
  {
   "cell_type": "code",
   "execution_count": 11,
   "metadata": {
    "collapsed": false
   },
   "outputs": [],
   "source": [
    "new_dat = {}\n",
    "#new_df = {}\n",
    "for s in data_dict:\n",
    "    tasks = ['NlineResults']\n",
    "    new_dat[s]={}\n",
    "    #new_df[s] = {}\n",
    "    for task in tasks:\n",
    "        dat = data_dict[s]['p'][task]\n",
    "        num_fields = len(data_dict[s]['p'][task][0][0][0])\n",
    "        dat_names = []\n",
    "        for k in range(0,num_fields):\n",
    "            dat_names.append(dat[0][0][0][k][0][0])\n",
    "        new_dat[s][task] = {}\n",
    "        runs = data_dict[s]['p']['runs'][0][0][0][0]\n",
    "        for run in range(0,runs):\n",
    "            run_name = 'run'+str(run+1)\n",
    "            new_dat[s][task][run_name] = {}\n",
    "            for i in range(0,len(dat_names)):\n",
    "                new_dat[s][task][run_name][dat_names[i]] = []\n",
    "                for j in range(0,len(dat[0][0][:])-1):\n",
    "                    if dat_names[i] == 'catch_probe':\n",
    "                        new_dat[s][task][run_name][dat_names[i]].append(dat[0][0][j+1][i][run])\n",
    "                    elif dat_names[i] == 'Probe':\n",
    "                        new_dat[s][task][run_name][dat_names[i]].append(dat[0][0][j+1][i][run][0])\n",
    "                    else:\n",
    "                        new_dat[s][task][run_name][dat_names[i]].append(dat[0][0][j+1][i][run][0][0])\n",
    "#legible access to the data\n",
    "Nline = 'NlineResults' #numberline"
   ]
  },
  {
   "cell_type": "code",
   "execution_count": 12,
   "metadata": {
    "collapsed": false
   },
   "outputs": [
    {
     "data": {
      "text/plain": [
       "[u'Slow',\n",
       " u'Line_pct',\n",
       " u'iti',\n",
       " u'TestX',\n",
       " u'ITI_onset_real',\n",
       " u'consider_onset_real',\n",
       " u'ITI_onset',\n",
       " u'RT',\n",
       " u'hold',\n",
       " u'decision_end',\n",
       " u'decision_onset_real',\n",
       " u'RTHold',\n",
       " u'decision_end_real',\n",
       " u'Correct',\n",
       " u'Wrong',\n",
       " u'BadPress',\n",
       " u'consider_onset',\n",
       " u'Response',\n",
       " u'Task',\n",
       " u'Trial',\n",
       " u'Points',\n",
       " u'Error',\n",
       " u'catch',\n",
       " u'mouse_pos',\n",
       " u'Block',\n",
       " u'catch_probe',\n",
       " u'Probe',\n",
       " u'hold_onset',\n",
       " u'Move',\n",
       " u'decision_onset',\n",
       " u'hold_onset_real',\n",
       " u'Click']"
      ]
     },
     "execution_count": 12,
     "metadata": {},
     "output_type": "execute_result"
    }
   ],
   "source": [
    "new_dat[sub_ex]['NlineResults']['run1'].keys()"
   ]
  },
  {
   "cell_type": "code",
   "execution_count": 13,
   "metadata": {
    "collapsed": false
   },
   "outputs": [
    {
     "data": {
      "text/plain": [
       "[array([57], dtype=uint8),\n",
       " array([77], dtype=uint8),\n",
       " array([3], dtype=uint8),\n",
       " array([21], dtype=uint8),\n",
       " array([60], dtype=uint8),\n",
       " array([28], dtype=uint8),\n",
       " array([85], dtype=uint8),\n",
       " array([74], dtype=uint8),\n",
       " array([33], dtype=uint8),\n",
       " array([7], dtype=uint8),\n",
       " array([90], dtype=uint8),\n",
       " array([36], dtype=uint8),\n",
       " array([11], dtype=uint8),\n",
       " array([45], dtype=uint8),\n",
       " array([98], dtype=uint8),\n",
       " array([65], dtype=uint8),\n",
       " array([70], dtype=uint8),\n",
       " array([14], dtype=uint8),\n",
       " array([80], dtype=uint8),\n",
       " array([20], dtype=uint8),\n",
       " array([-58], dtype=int16),\n",
       " array([-94], dtype=int16),\n",
       " array([-86], dtype=int16),\n",
       " array([54], dtype=uint8),\n",
       " array([-44], dtype=int16),\n",
       " array([-78], dtype=int16),\n",
       " array([-10], dtype=int16),\n",
       " array([48], dtype=uint8),\n",
       " array([30], dtype=uint8),\n",
       " array([-28], dtype=int16),\n",
       " array([96], dtype=uint8),\n",
       " array([-34], dtype=int16),\n",
       " u'of',\n",
       " u'is',\n",
       " u'be',\n",
       " u'me',\n",
       " u'it',\n",
       " u'as',\n",
       " u'my',\n",
       " u'so',\n",
       " u'we',\n",
       " u'or',\n",
       " u'ox',\n",
       " u'by',\n",
       " u'am',\n",
       " u'he',\n",
       " u'do',\n",
       " u'if']"
      ]
     },
     "execution_count": 13,
     "metadata": {},
     "output_type": "execute_result"
    }
   ],
   "source": [
    "new_dat[sub_ex]['NlineResults']['run1']['Probe']"
   ]
  },
  {
   "cell_type": "code",
   "execution_count": 14,
   "metadata": {
    "collapsed": false
   },
   "outputs": [
    {
     "data": {
      "text/plain": [
       "[array([], shape=(0, 0), dtype=uint8),\n",
       " array([], shape=(0, 0), dtype=uint8),\n",
       " array([], shape=(0, 0), dtype=uint8),\n",
       " array([], shape=(0, 0), dtype=uint8),\n",
       " array([], shape=(0, 0), dtype=uint8),\n",
       " array([], shape=(0, 0), dtype=uint8),\n",
       " array([], shape=(0, 0), dtype=uint8),\n",
       " array([], shape=(0, 0), dtype=uint8),\n",
       " array([], shape=(0, 0), dtype=uint8),\n",
       " array([], shape=(0, 0), dtype=uint8),\n",
       " array([], shape=(0, 0), dtype=uint8),\n",
       " array([], shape=(0, 0), dtype=uint8),\n",
       " array([], shape=(0, 0), dtype=uint8),\n",
       " array([], shape=(0, 0), dtype=uint8),\n",
       " array([], shape=(0, 0), dtype=uint8),\n",
       " array([], shape=(0, 0), dtype=uint8),\n",
       " array([], shape=(0, 0), dtype=uint8),\n",
       " array([], shape=(0, 0), dtype=uint8),\n",
       " array([], shape=(0, 0), dtype=uint8),\n",
       " array([], shape=(0, 0), dtype=uint8),\n",
       " array([], shape=(0, 0), dtype=uint8),\n",
       " array([], shape=(0, 0), dtype=uint8),\n",
       " array([], shape=(0, 0), dtype=uint8),\n",
       " array([], shape=(0, 0), dtype=uint8),\n",
       " array([], shape=(0, 0), dtype=uint8),\n",
       " array([], shape=(0, 0), dtype=uint8),\n",
       " array([], shape=(0, 0), dtype=uint8),\n",
       " array([], shape=(0, 0), dtype=uint8),\n",
       " array([], shape=(0, 0), dtype=uint8),\n",
       " array([], shape=(0, 0), dtype=uint8),\n",
       " array([], shape=(0, 0), dtype=uint8),\n",
       " array([], shape=(0, 0), dtype=uint8),\n",
       " array([u'of'], \n",
       "       dtype='<U2'),\n",
       " array([u'is'], \n",
       "       dtype='<U2'),\n",
       " array([u'be'], \n",
       "       dtype='<U2'),\n",
       " array([u'it'], \n",
       "       dtype='<U2'),\n",
       " array([u'ox'], \n",
       "       dtype='<U2'),\n",
       " array([u'ox'], \n",
       "       dtype='<U2'),\n",
       " array([u'my'], \n",
       "       dtype='<U2'),\n",
       " array([u'so'], \n",
       "       dtype='<U2'),\n",
       " array([u'we'], \n",
       "       dtype='<U2'),\n",
       " array([u'or'], \n",
       "       dtype='<U2'),\n",
       " array([u'ox'], \n",
       "       dtype='<U2'),\n",
       " array([u'by'], \n",
       "       dtype='<U2'),\n",
       " array([u'am'], \n",
       "       dtype='<U2'),\n",
       " array([u'he'], \n",
       "       dtype='<U2'),\n",
       " array([u'do'], \n",
       "       dtype='<U2'),\n",
       " array([u'so'], \n",
       "       dtype='<U2')]"
      ]
     },
     "execution_count": 14,
     "metadata": {},
     "output_type": "execute_result"
    }
   ],
   "source": [
    "new_dat[sub_ex]['NlineResults']['run1']['catch_probe']"
   ]
  },
  {
   "cell_type": "code",
   "execution_count": 15,
   "metadata": {
    "collapsed": false
   },
   "outputs": [],
   "source": [
    "subj = data_dict.keys()\n",
    "tasks = [Nline]\n",
    "tuples = []\n",
    "rows = len(data_dict[sub_ex]['p'][Nline][0][0][:])-1\n",
    "for s in subj:\n",
    "    runs = new_dat[s]['NlineResults'].keys()\n",
    "    for run in runs:\n",
    "        for i in range(0,rows):\n",
    "            tuples.append((s, run, i))\n",
    "len(tuples)\n",
    "#iterables = [subj,tasks,runs]\n",
    "indexes = pd.MultiIndex.from_tuples(tuples, names=['Subj', 'Run', 'Trial'])\n",
    "nline_cols = len(new_dat[sub_ex][Nline]['run1'].keys())"
   ]
  },
  {
   "cell_type": "code",
   "execution_count": 16,
   "metadata": {
    "collapsed": false
   },
   "outputs": [
    {
     "data": {
      "text/plain": [
       "('s_02009', 'run3', 42)"
      ]
     },
     "execution_count": 16,
     "metadata": {},
     "output_type": "execute_result"
    }
   ],
   "source": [
    "indexes[90]"
   ]
  },
  {
   "cell_type": "code",
   "execution_count": 17,
   "metadata": {
    "collapsed": false
   },
   "outputs": [
    {
     "data": {
      "text/plain": [
       "'run1'"
      ]
     },
     "execution_count": 17,
     "metadata": {},
     "output_type": "execute_result"
    }
   ],
   "source": [
    "indexes[1][1]"
   ]
  },
  {
   "cell_type": "code",
   "execution_count": 18,
   "metadata": {
    "collapsed": false
   },
   "outputs": [
    {
     "data": {
      "text/plain": [
       "u'Block'"
      ]
     },
     "execution_count": 18,
     "metadata": {},
     "output_type": "execute_result"
    }
   ],
   "source": [
    "varnames = new_dat[sub_ex][Nline]['run1'].keys()\n",
    "varnames[24]"
   ]
  },
  {
   "cell_type": "code",
   "execution_count": 19,
   "metadata": {
    "collapsed": false
   },
   "outputs": [
    {
     "data": {
      "text/plain": [
       "2112"
      ]
     },
     "execution_count": 19,
     "metadata": {},
     "output_type": "execute_result"
    }
   ],
   "source": [
    "len(indexes)"
   ]
  },
  {
   "cell_type": "code",
   "execution_count": 20,
   "metadata": {
    "collapsed": false
   },
   "outputs": [],
   "source": [
    "# Code empty cells of probes and catch_probes as Nan\n",
    "Dic_list = []\n",
    "probes = ['catch_probe']\n",
    "for data in indexes:\n",
    "    temp_dict = {}\n",
    "    for var in varnames:\n",
    "        if var == probes[0]:\n",
    "            if len(new_dat.get(data[0]).get(Nline).get(data[1]).get(var)[data[2]]) == 0:\n",
    "                new_dat.get(data[0]).get(Nline).get(data[1]).get(var)[data[2]] = np.array([np.nan])\n",
    "            temp_dict[var] = new_dat.get(data[0]).get(Nline).get(data[1]).get(var)[data[2]][0]\n",
    "        else:\n",
    "            temp_dict[var] = new_dat.get(data[0]).get(Nline).get(data[1]).get(var)[data[2]]\n",
    "    Dic_list.append(temp_dict)"
   ]
  },
  {
   "cell_type": "code",
   "execution_count": 21,
   "metadata": {
    "collapsed": false
   },
   "outputs": [
    {
     "data": {
      "text/plain": [
       "12"
      ]
     },
     "execution_count": 21,
     "metadata": {},
     "output_type": "execute_result"
    }
   ],
   "source": [
    "#Create dataframe\n",
    "nline_df = pd.DataFrame(Dic_list, index=indexes)\n",
    "sum(nline_df.loc[sub_ex].loc['run1'].iloc[0:48]['catch'])"
   ]
  },
  {
   "cell_type": "code",
   "execution_count": 22,
   "metadata": {
    "collapsed": false
   },
   "outputs": [
    {
     "data": {
      "text/plain": [
       "Trial\n",
       "0       -0.023744\n",
       "1       -0.025507\n",
       "2        0.000000\n",
       "3        0.000000\n",
       "4       -0.027313\n",
       "5        0.001938\n",
       "6       -0.046035\n",
       "7        0.000000\n",
       "8        0.070881\n",
       "9        0.026916\n",
       "Name: Error, dtype: float64"
      ]
     },
     "execution_count": 22,
     "metadata": {},
     "output_type": "execute_result"
    }
   ],
   "source": [
    "nline_df.loc[sub_ex].loc['run1'].iloc[0:10]['Error']"
   ]
  },
  {
   "cell_type": "code",
   "execution_count": 23,
   "metadata": {
    "collapsed": false
   },
   "outputs": [
    {
     "data": {
      "text/plain": [
       "FrozenList([u'Subject', u'Run', u'Trial'])"
      ]
     },
     "execution_count": 23,
     "metadata": {},
     "output_type": "execute_result"
    }
   ],
   "source": [
    "nline_df.index.names = ['Subject', 'Run', 'Trial']\n",
    "nline_df.index.names"
   ]
  },
  {
   "cell_type": "code",
   "execution_count": 24,
   "metadata": {
    "collapsed": false
   },
   "outputs": [
    {
     "name": "stderr",
     "output_type": "stream",
     "text": [
      "/anaconda/lib/python2.7/site-packages/IPython/kernel/__main__.py:3: SettingWithCopyWarning: \n",
      "A value is trying to be set on a copy of a slice from a DataFrame\n",
      "\n",
      "See the the caveats in the documentation: http://pandas.pydata.org/pandas-docs/stable/indexing.html#indexing-view-versus-copy\n",
      "  app.launch_new_instance()\n",
      "/anaconda/lib/python2.7/site-packages/IPython/kernel/__main__.py:4: SettingWithCopyWarning: \n",
      "A value is trying to be set on a copy of a slice from a DataFrame\n",
      "\n",
      "See the the caveats in the documentation: http://pandas.pydata.org/pandas-docs/stable/indexing.html#indexing-view-versus-copy\n"
     ]
    },
    {
     "data": {
      "text/plain": [
       "Subject  Run   Trial\n",
       "s_02009  run1  0        57\n",
       "               1        77\n",
       "               2         3\n",
       "               3        21\n",
       "               4        60\n",
       "               5        28\n",
       "               6        85\n",
       "               7        74\n",
       "               8        33\n",
       "               9         7\n",
       "               10       90\n",
       "               11       36\n",
       "               12       11\n",
       "               13       45\n",
       "               14       98\n",
       "...\n",
       "s_02012  run4  33       -58\n",
       "               34        14\n",
       "               35       -34\n",
       "               36        48\n",
       "               37       -86\n",
       "               38       -94\n",
       "               39        54\n",
       "               40        96\n",
       "               41        80\n",
       "               42       -10\n",
       "               43       -44\n",
       "               44       -78\n",
       "               45        20\n",
       "               46        70\n",
       "               47        30\n",
       "Name: Probe, Length: 2112, dtype: object"
      ]
     },
     "execution_count": 24,
     "metadata": {},
     "output_type": "execute_result"
    }
   ],
   "source": [
    "test = nline_df['Probe']\n",
    "for i in range(0,len(test)):\n",
    "    test[i] = np.ravel(test[i])\n",
    "    test[i] = test[i][0]\n",
    "nline_df['Probe'] = test\n",
    "nline_df['Probe']"
   ]
  },
  {
   "cell_type": "markdown",
   "metadata": {},
   "source": [
    "### Create Stim Labels"
   ]
  },
  {
   "cell_type": "code",
   "execution_count": 25,
   "metadata": {
    "collapsed": false
   },
   "outputs": [],
   "source": [
    "#now nline\n",
    "#nline_df['Num'] = nline_df['Num'].map('{:.0f}'.format)\n",
    "#nline_df['Denom'] = nline_df['Denom'].map('{:.0f}'.format)\n",
    "#nline_df['Stim'] = nline_df['Num']+'/'+nline_df['Denom']\n",
    "#nline_df['Stim']"
   ]
  },
  {
   "cell_type": "code",
   "execution_count": 26,
   "metadata": {
    "collapsed": false
   },
   "outputs": [
    {
     "data": {
      "text/plain": [
       "Index([u'BadPress', u'Block', u'Click', u'Correct', u'Error', u'ITI_onset', u'ITI_onset_real', u'Line_pct', u'Move', u'Points', u'Probe', u'RT', u'RTHold', u'Response', u'Slow', u'Task', u'TestX', u'Trial', u'Wrong', u'catch', u'catch_probe', u'consider_onset', u'consider_onset_real', u'decision_end', u'decision_end_real', u'decision_onset', u'decision_onset_real', u'hold', u'hold_onset', u'hold_onset_real', u'iti', u'mouse_pos'], dtype='object')"
      ]
     },
     "execution_count": 26,
     "metadata": {},
     "output_type": "execute_result"
    }
   ],
   "source": [
    "nline_df.columns"
   ]
  },
  {
   "cell_type": "code",
   "execution_count": 26,
   "metadata": {
    "collapsed": false
   },
   "outputs": [
    {
     "name": "stderr",
     "output_type": "stream",
     "text": [
      "/anaconda/lib/python2.7/site-packages/IPython/kernel/__main__.py:3: SettingWithCopyWarning: \n",
      "A value is trying to be set on a copy of a slice from a DataFrame\n",
      "\n",
      "See the the caveats in the documentation: http://pandas.pydata.org/pandas-docs/stable/indexing.html#indexing-view-versus-copy\n",
      "  app.launch_new_instance()\n",
      "/anaconda/lib/python2.7/site-packages/IPython/kernel/__main__.py:4: SettingWithCopyWarning: \n",
      "A value is trying to be set on a copy of a slice from a DataFrame\n",
      "\n",
      "See the the caveats in the documentation: http://pandas.pydata.org/pandas-docs/stable/indexing.html#indexing-view-versus-copy\n",
      "/anaconda/lib/python2.7/site-packages/IPython/kernel/__main__.py:5: SettingWithCopyWarning: \n",
      "A value is trying to be set on a copy of a slice from a DataFrame\n",
      "\n",
      "See the the caveats in the documentation: http://pandas.pydata.org/pandas-docs/stable/indexing.html#indexing-view-versus-copy\n"
     ]
    },
    {
     "data": {
      "text/plain": [
       "'Neg'"
      ]
     },
     "execution_count": 26,
     "metadata": {},
     "output_type": "execute_result"
    }
   ],
   "source": [
    "#Make task as string\n",
    "nline_df['Task'] = nline_df['Task'].astype(str)\n",
    "nline_df['Task'][nline_df['Task']=='1'] = 'Pos'\n",
    "nline_df['Task'][nline_df['Task']=='2'] = 'Neg'\n",
    "nline_df['Task'][nline_df['Task']=='3'] = 'Word'\n",
    "nline_df['Task'].iloc[16]"
   ]
  },
  {
   "cell_type": "code",
   "execution_count": 54,
   "metadata": {
    "collapsed": false
   },
   "outputs": [
    {
     "data": {
      "text/plain": [
       "Subject  Run   Trial\n",
       "s_02009  run1  0        0.07\n",
       "               1        0.23\n",
       "               2        0.03\n",
       "               3        0.21\n",
       "               4        0.10\n",
       "               5        0.22\n",
       "               6        0.15\n",
       "               7        0.24\n",
       "               8        0.17\n",
       "               9        0.07\n",
       "               10       0.10\n",
       "               11       0.14\n",
       "               12       0.11\n",
       "               13       0.05\n",
       "               14       0.02\n",
       "...\n",
       "s_02012  run4  33       0.21\n",
       "               34       0.07\n",
       "               35       0.17\n",
       "               36       0.24\n",
       "               37       0.07\n",
       "               38       0.03\n",
       "               39       0.23\n",
       "               40       0.02\n",
       "               41       0.10\n",
       "               42       0.05\n",
       "               43       0.22\n",
       "               44       0.11\n",
       "               45       0.10\n",
       "               46       0.15\n",
       "               47       0.15\n",
       "Name: LandmarkDist, Length: 2112, dtype: float64"
      ]
     },
     "execution_count": 54,
     "metadata": {},
     "output_type": "execute_result"
    }
   ],
   "source": [
    "nline_df['Dist0'] = abs(nline_df['Line_pct'] - 0)\n",
    "nline_df['Dist100'] = abs(nline_df['Line_pct'] - 1)\n",
    "nline_df['Dist50'] = abs(nline_df['Line_pct'] - 0.5)\n",
    "nline_df['LandmarkDist'] = nline_df[['Dist0','Dist100','Dist50']].min(axis=1) \n",
    "nline_df['LandmarkDist']"
   ]
  },
  {
   "cell_type": "markdown",
   "metadata": {},
   "source": [
    "# Create Onset Files"
   ]
  },
  {
   "cell_type": "code",
   "execution_count": 55,
   "metadata": {
    "collapsed": false
   },
   "outputs": [
    {
     "name": "stdout",
     "output_type": "stream",
     "text": [
      "s_02001\n",
      "s_02002\n",
      "s_02003\n",
      "s_02004\n",
      "s_02005\n",
      "s_02006\n",
      "s_02007\n",
      "s_02009\n",
      "s_02010\n",
      "s_02011\n",
      "s_02012\n",
      "s_02014\n"
     ]
    }
   ],
   "source": [
    "import string\n",
    "tasks = nline_df.groupby('Task')\n",
    "labels = tasks.indices.keys()\n",
    "cons_onset_small = {}\n",
    "dec_onset_small = {}\n",
    "cons_onset_large = {}\n",
    "dec_onset_large = {}\n",
    "dec_ctch_onset = {}\n",
    "# Breaks always happen at the same time in the sequence\n",
    "break_onset = [[190, 6, 1],[388, 6, 1]]\n",
    "for s in nline_df.index.levels[0]:\n",
    "    print s\n",
    "    cons_onset_small[s] = {}\n",
    "    dec_onset_small[s] = {}\n",
    "    cons_onset_large[s] = {}\n",
    "    dec_onset_large[s] = {}\n",
    "    dec_ctch_onset[s] = {}\n",
    "    for r in nline_df.index.levels[1]:\n",
    "        #print r\n",
    "        ctch = nline_df.loc[s].loc[r]['catch']\n",
    "        hold = nline_df.loc[s].loc[r]['hold']\n",
    "        probe = nline_df.loc[s].loc[r]['Line_pct']\n",
    "        dec_ctch_tmp = nline_df.loc[s].loc[r]['decision_onset_real'] - 16\n",
    "        dec_ctch_tmp = dec_ctch_tmp[ctch==1]\n",
    "        dec_ctch_onset[s][r] = pd.DataFrame.from_items([('time',dec_ctch_tmp[dec_ctch_tmp>=0]),('duration',dec_time),('val',1)])\n",
    "        cons_onset_small[s][r] = {}\n",
    "        dec_onset_small[s][r] = {}\n",
    "        cons_onset_large[s][r] = {}\n",
    "        dec_onset_large[s][r] = {}\n",
    "        for lab in labels:\n",
    "            #print lab\n",
    "            Task = nline_df.loc[s].loc[r]['Task']\n",
    "            #create landmark values\n",
    "            landmark = nline_df.loc[s].loc[r]['LandmarkDist']\n",
    "            landmark = landmark[Task==lab]\n",
    "            landmark_small = landmark[probe<0.5]\n",
    "            landmark_large = landmark[probe>0.5]\n",
    "            #This is to get the values of duration of hold period\n",
    "            hold_small = hold[probe<0.5]\n",
    "            hold_large = hold[probe>0.5]\n",
    "            #create landmark values for word task (only distance from 50)\n",
    "            dist50 = nline_df.loc[s].loc[r]['Dist50']\n",
    "            dist50 =dist50[Task==lab]\n",
    "            dist50_small = dist50[probe<0.5]\n",
    "            dist50_large = dist50[probe>0.5]\n",
    "            #create time data for small and large numbers separetely\n",
    "            cons_tmp_small = nline_df.loc[s].loc[r]['consider_onset_real'] - 16\n",
    "            cons_tmp_small = cons_tmp_small[Task==lab]\n",
    "            cons_tmp_small = cons_tmp_small[probe<0.5]\n",
    "            cons_tmp_large = nline_df.loc[s].loc[r]['consider_onset_real'] - 16\n",
    "            cons_tmp_large = cons_tmp_large[Task==lab]\n",
    "            cons_tmp_large = cons_tmp_large[probe>0.5]\n",
    "            #word task uses dist50 others use landmark\n",
    "            if lab == 'Word':\n",
    "                cons_onset_small[s][r][lab] = pd.DataFrame.from_items([('time',cons_tmp_small[cons_tmp_small>=0]),('duration',cons_time),('val',dist50_small)])        \n",
    "                cons_onset_large[s][r][lab] = pd.DataFrame.from_items([('time',cons_tmp_large[cons_tmp_large>=0]),('duration',cons_time),('val',dist50_large)])\n",
    "            else:\n",
    "                cons_onset_small[s][r][lab] = pd.DataFrame.from_items([('time',cons_tmp_small[cons_tmp_small>=0]),('duration',cons_time),('val',landmark_small)])        \n",
    "                cons_onset_large[s][r][lab] = pd.DataFrame.from_items([('time',cons_tmp_large[cons_tmp_large>=0]),('duration',cons_time),('val',landmark_large)])\n",
    "            #Remove catch for decision phase\n",
    "            landmark_small = landmark_small[ctch==0]\n",
    "            dist50_small = dist50_small[ctch==0]\n",
    "            landmark_large = landmark_large[ctch==0]\n",
    "            dist50_large = dist50_large[ctch==0]\n",
    "            #Now decision phase\n",
    "            dec_tmp_small = nline_df.loc[s].loc[r]['decision_onset_real'] - 16\n",
    "            dec_tmp_small = dec_tmp_small[ctch==0]\n",
    "            dec_tmp_small = dec_tmp_small[Task==lab]\n",
    "            dec_tmp_small = dec_tmp_small[probe<0.5]\n",
    "            dec_tmp_large = nline_df.loc[s].loc[r]['decision_onset_real'] - 16\n",
    "            dec_tmp_large = dec_tmp_large[ctch==0]\n",
    "            dec_tmp_large = dec_tmp_large[Task==lab]\n",
    "            dec_tmp_large = dec_tmp_large[probe>0.5]\n",
    "            if lab == 'Word':\n",
    "                dec_onset_small[s][r][lab] = pd.DataFrame.from_items([('time',dec_tmp_small[dec_tmp_small>=0]),('duration',dec_time),('val',dist50_small)])        \n",
    "                dec_onset_large[s][r][lab] = pd.DataFrame.from_items([('time',dec_tmp_large[dec_tmp_large>=0]),('duration',dec_time),('val',dist50_large)])\n",
    "            else:\n",
    "                dec_onset_small[s][r][lab] = pd.DataFrame.from_items([('time',dec_tmp_small[dec_tmp_small>=0]),('duration',dec_time),('val',landmark_small)])        \n",
    "                dec_onset_large[s][r][lab] = pd.DataFrame.from_items([('time',dec_tmp_large[dec_tmp_large>=0]),('duration',dec_time),('val',landmark_large)])          "
   ]
  },
  {
   "cell_type": "code",
   "execution_count": 58,
   "metadata": {
    "collapsed": false
   },
   "outputs": [
    {
     "data": {
      "text/plain": [
       "{'Neg':              time  duration   val\n",
       " Trial                            \n",
       " 1       19.020832         3  0.21\n",
       " 2       30.502330         3  0.03\n",
       " 8      104.532092         3  0.05\n",
       " 10     130.004121         3  0.14\n",
       " 12     153.008933         3  0.22, 'Pos':              time  duration   val\n",
       " Trial                            \n",
       " 16     204.001585         3  0.14\n",
       " 17     216.018680         3  0.17\n",
       " 18     228.018982         3  0.22\n",
       " 22     272.003427         3  0.03\n",
       " 26     322.521748         3  0.07\n",
       " 28     344.526840         3  0.05, 'Word':              time  duration   val\n",
       " Trial                            \n",
       " 32     403.023748         3  0.17\n",
       " 33     417.017808         3  0.14\n",
       " 36     448.508351         3  0.43\n",
       " 40     492.526296         3  0.05\n",
       " 41     507.026696         3  0.39\n",
       " 43     534.027815         3  0.29}"
      ]
     },
     "execution_count": 58,
     "metadata": {},
     "output_type": "execute_result"
    }
   ],
   "source": [
    "dec_onset_small['s_02003']['run1']"
   ]
  },
  {
   "cell_type": "code",
   "execution_count": 59,
   "metadata": {
    "collapsed": false
   },
   "outputs": [
    {
     "data": {
      "text/plain": [
       "{'Neg':              time  duration   val\n",
       " Trial                            \n",
       " 0        6.012702         3  0.24\n",
       " 5       66.031017         3  0.07\n",
       " 6       76.503249         3  0.15\n",
       " 11     141.016508         3  0.23\n",
       " 13     166.000410         3  0.15\n",
       " 14     176.017658         3  0.10\n",
       " 15     187.004192         3  0.02, 'Pos':              time  duration   val\n",
       " Trial                            \n",
       " 21     261.503145         3  0.23\n",
       " 23     285.020404         3  0.15\n",
       " 25     311.504676         3  0.10\n",
       " 27     332.527450         3  0.24\n",
       " 29     356.014300         3  0.07\n",
       " 30     370.522827         3  0.10, 'Word':              time  duration   val\n",
       " Trial                            \n",
       " 34     426.524464         3  0.35\n",
       " 35     438.508096         3  0.40\n",
       " 37     458.513469         3  0.48\n",
       " 38     470.511662         3  0.10\n",
       " 44     547.011117         3  0.27\n",
       " 45     560.511485         3  0.15}"
      ]
     },
     "execution_count": 59,
     "metadata": {},
     "output_type": "execute_result"
    }
   ],
   "source": [
    "dec_onset_large['s_02003']['run1']"
   ]
  },
  {
   "cell_type": "markdown",
   "metadata": {},
   "source": [
    "## Save Files"
   ]
  },
  {
   "cell_type": "code",
   "execution_count": 60,
   "metadata": {
    "collapsed": false
   },
   "outputs": [
    {
     "name": "stdout",
     "output_type": "stream",
     "text": [
      "s_02001\n",
      "run1\n",
      "Neg\n",
      "Word\n",
      "Pos\n",
      "run2\n",
      "Neg\n",
      "Word\n",
      "Pos\n",
      "run3\n",
      "Neg\n",
      "Word\n",
      "Pos\n",
      "run4\n",
      "Neg\n",
      "Word\n",
      "Pos\n",
      "s_02002\n",
      "run1\n",
      "Neg\n",
      "Word\n",
      "Pos\n",
      "run2\n",
      "Neg\n",
      "Word\n",
      "Pos\n",
      "run3\n",
      "Neg\n",
      "Word\n",
      "Pos\n",
      "run4\n",
      "Neg\n",
      "Word\n",
      "Pos\n",
      "s_02003\n",
      "run1\n",
      "Neg\n",
      "Word\n",
      "Pos\n",
      "run2\n",
      "Neg\n",
      "Word\n",
      "Pos\n",
      "run3\n",
      "Neg\n",
      "Word\n",
      "Pos\n",
      "run4\n",
      "Neg\n",
      "Word\n",
      "Pos\n",
      "s_02004\n",
      "run1\n",
      "Neg\n",
      "Word\n",
      "Pos\n",
      "run2\n",
      "Neg\n",
      "Word\n",
      "Pos\n",
      "run3\n",
      "Neg\n",
      "Word\n",
      "Pos\n",
      "run4\n",
      "Neg\n",
      "Word\n",
      "Pos\n",
      "s_02005\n",
      "run1\n",
      "Neg\n",
      "Word\n",
      "Pos\n",
      "run2\n",
      "Neg\n",
      "Word\n",
      "Pos\n",
      "run3\n",
      "Neg\n",
      "Word\n",
      "Pos\n",
      "run4\n",
      "Neg\n",
      "Word\n",
      "Pos\n",
      "s_02006\n",
      "run1\n",
      "Neg\n",
      "Word\n",
      "Pos\n",
      "run2\n",
      "Neg\n",
      "Word\n",
      "Pos\n",
      "run3\n",
      "Neg\n",
      "Word\n",
      "Pos\n",
      "run4\n",
      "Neg\n",
      "Word\n",
      "Pos\n",
      "s_02007\n",
      "run1\n",
      "Neg\n",
      "Word\n",
      "Pos\n",
      "run2\n",
      "Neg\n",
      "Word\n",
      "Pos\n",
      "run3\n",
      "Neg\n",
      "Word\n",
      "Pos\n",
      "run4\n",
      "Neg\n",
      "Word\n",
      "Pos\n",
      "s_02009\n",
      "run1\n",
      "Neg\n",
      "Word\n",
      "Pos\n",
      "run2\n",
      "Neg\n",
      "Word\n",
      "Pos\n",
      "run3\n",
      "Neg\n",
      "Word\n",
      "Pos\n",
      "run4\n",
      "Neg\n",
      "Word\n",
      "Pos\n",
      "s_02010\n",
      "run1\n",
      "Neg\n",
      "Word\n",
      "Pos\n",
      "run2\n",
      "Neg\n",
      "Word\n",
      "Pos\n",
      "run3\n",
      "Neg\n",
      "Word\n",
      "Pos\n",
      "run4\n",
      "Neg\n",
      "Word\n",
      "Pos\n",
      "s_02011\n",
      "run1\n",
      "Neg\n",
      "Word\n",
      "Pos\n",
      "run2\n",
      "Neg\n",
      "Word\n",
      "Pos\n",
      "run3\n",
      "Neg\n",
      "Word\n",
      "Pos\n",
      "run4\n",
      "Neg\n",
      "Word\n",
      "Pos\n",
      "s_02012\n",
      "run1\n",
      "Neg\n",
      "Word\n",
      "Pos\n",
      "run2\n",
      "Neg\n",
      "Word\n",
      "Pos\n",
      "run3\n",
      "Neg\n",
      "Word\n",
      "Pos\n",
      "run4\n",
      "Neg\n",
      "Word\n",
      "Pos\n",
      "s_02014\n",
      "run1\n",
      "Neg\n",
      "Word\n",
      "Pos\n",
      "run2\n",
      "Neg\n",
      "Word\n",
      "Pos\n",
      "run3\n",
      "Neg\n",
      "Word\n",
      "Pos\n",
      "run4\n",
      "Neg\n",
      "Word\n",
      "Pos\n"
     ]
    }
   ],
   "source": [
    "tasks = {'Pos': [cons_onset_small,dec_onset_small,cons_onset_large,dec_onset_large],\n",
    "         'Neg': [cons_onset_small,dec_onset_small,cons_onset_large,dec_onset_large],\n",
    "         'Word': [cons_onset_small,dec_onset_small,cons_onset_large,dec_onset_large],}\n",
    "runs = ['run1', 'run2', 'run3', 'run4']\n",
    "for s in nline_df.index.levels[0]:\n",
    "    print s\n",
    "    #Laptop\n",
    "    path = '/Users/frankkanayet/Google Drive/NLineData/Beh_Data/OnsetFiles_Landmarks'\n",
    "    path = '/Users/frankkanayet/Google Drive/NLineData/Beh_Data/OnsetFiles_Landmarks/'+s+'/'\n",
    "    os.makedirs(path)\n",
    "    for r in nline_df.index.levels[1]:\n",
    "        print r\n",
    "        dec_ctch_filename = s+'_'+r+'DEC_CTCH'+'_'+'.txt'\n",
    "        dec_pathfile = path+dec_ctch_filename\n",
    "        dec_ctch_onset[s][r].to_csv(dec_pathfile, sep='\\t', header=False, index=False)\n",
    "        for task in tasks.keys():\n",
    "            print task\n",
    "            dec_small_filename = s+'_'+task+'_'+r+'_'+'DEC_SM'+'.txt'\n",
    "            cons_small_filename = s+'_'+task+'_'+r+'_'+'CONS_SM'+'.txt'\n",
    "            dec_large_filename = s+'_'+task+'_'+r+'_'+'DEC_LG'+'.txt'\n",
    "            cons_large_filename = s+'_'+task+'_'+r+'_'+'CONS_LG'+'.txt'\n",
    "            dec_small_pathfile = path+dec_small_filename\n",
    "            cons_small_pathfile = path+cons_small_filename\n",
    "            dec_large_pathfile = path+dec_large_filename\n",
    "            cons_large_pathfile = path+cons_large_filename\n",
    "            tasks[task][0][s][r][task].to_csv(cons_small_pathfile, sep='\\t', header=False, index=False)\n",
    "            tasks[task][1][s][r][task].to_csv(dec_small_pathfile, sep='\\t', header=False, index=False)\n",
    "            tasks[task][2][s][r][task].to_csv(cons_large_pathfile, sep='\\t', header=False, index=False)\n",
    "            tasks[task][3][s][r][task].to_csv(dec_large_pathfile, sep='\\t', header=False, index=False)"
   ]
  },
  {
   "cell_type": "code",
   "execution_count": 61,
   "metadata": {
    "collapsed": false
   },
   "outputs": [],
   "source": [
    "#Save Break onset file\n",
    "path = '/Users/frankkanayet/Google Drive/NLineData/Beh_Data/OnsetFiles_Landmarks/'\n",
    "#Laptop\n",
    "break_onset = pd.DataFrame.from_items([('time',[190, 388]),('duration',[6,6]),('val',[1,1])])\n",
    "break_filename = 'Break_onsets.txt'\n",
    "break_pathfile = path+break_filename\n",
    "break_onset.to_csv(break_pathfile, sep='\\t', header=False, index=False)"
   ]
  },
  {
   "cell_type": "code",
   "execution_count": null,
   "metadata": {
    "collapsed": true
   },
   "outputs": [],
   "source": []
  }
 ],
 "metadata": {
  "kernelspec": {
   "display_name": "Python 2",
   "language": "python",
   "name": "python2"
  },
  "language_info": {
   "codemirror_mode": {
    "name": "ipython",
    "version": 2
   },
   "file_extension": ".py",
   "mimetype": "text/x-python",
   "name": "python",
   "nbconvert_exporter": "python",
   "pygments_lexer": "ipython2",
   "version": "2.7.9"
  }
 },
 "nbformat": 4,
 "nbformat_minor": 0
}
