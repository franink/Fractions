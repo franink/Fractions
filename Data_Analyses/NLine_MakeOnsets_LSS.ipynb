{
 "cells": [
  {
   "cell_type": "code",
   "execution_count": 1,
   "metadata": {},
   "outputs": [],
   "source": [
    "#Opened with --pylab flag\n",
    "#Need to create code to analyze piot data\n",
    "import pandas as pd\n",
    "import numpy as np\n",
    "from scipy import io\n",
    "import os\n",
    "import glob"
   ]
  },
  {
   "cell_type": "code",
   "execution_count": 2,
   "metadata": {},
   "outputs": [],
   "source": [
    "## Laptop\n",
    "#filepath = '/Users/frankkanayet/Dropbox/NLineExperiment/PilotData'\n",
    "#filepath = '/Users/frankkanayet/Dropbox/NLineExperiment/PilotData/test3s'\n",
    "#filepath = '/Users/frankkanayet/Google Drive/NLineData/Beh_Data'\n",
    "\n",
    "## Desktop\n",
    "#filepath = '/Users/frankanayet/Dropbox/NLineExperiment/Data'\n",
    "filepath = '/Users/frankanayet/Google Drive/NLineData/Beh_Data'\n",
    "os.chdir(filepath)"
   ]
  },
  {
   "cell_type": "code",
   "execution_count": 3,
   "metadata": {},
   "outputs": [
    {
     "name": "stdout",
     "output_type": "stream",
     "text": [
      "Pandas version 0.17.1\n"
     ]
    }
   ],
   "source": [
    "print 'Pandas version ' + pd.__version__"
   ]
  },
  {
   "cell_type": "code",
   "execution_count": 4,
   "metadata": {},
   "outputs": [
    {
     "name": "stdout",
     "output_type": "stream",
     "text": [
      "['Nline_02001-Mar1615.mat', 'Nline_02018-Apr2815a.mat', 'Nline_02021-May2515a.mat', 'Nline_02016-Apr2715a.mat', 'Nline_02004-Mar2315a.mat', 'Nline_02007-Mar2415a.mat', 'Nline_02024-May2815a.mat', 'Nline_02012-Apr0215a.mat', 'Nline_02005-Mar2315a.mat', 'Nline_02019-Apr2915a.mat', 'Nline_02010-Mar2615a.mat', 'Nline_02006-Mar2315a.mat', 'Nline_02027-Jun0115a.mat', 'Nline_02011-Mar2615a.mat', 'Nline_02017-Apr2815a.mat', 'Nline_02009-Mar2615a.mat', 'Nline_02014-Apr0315a.mat', 'Nline_02020-May1815a.mat', 'Nline_02002-Mar1915.mat', 'Nline_02023-May2715a.mat', 'Nline_02003-Mar2015a.mat', 'Nline_02015-Apr2715a.mat', 'Nline_02022-May2515a.mat']\n"
     ]
    },
    {
     "data": {
      "text/plain": [
       "['s_02009',\n",
       " 's_02003',\n",
       " 's_02002',\n",
       " 's_02001',\n",
       " 's_02007',\n",
       " 's_02006',\n",
       " 's_02005',\n",
       " 's_02004',\n",
       " 's_02018',\n",
       " 's_02019',\n",
       " 's_02010',\n",
       " 's_02011',\n",
       " 's_02012',\n",
       " 's_02014',\n",
       " 's_02015',\n",
       " 's_02016',\n",
       " 's_02017',\n",
       " 's_02024',\n",
       " 's_02027',\n",
       " 's_02021',\n",
       " 's_02020',\n",
       " 's_02023',\n",
       " 's_02022']"
      ]
     },
     "execution_count": 4,
     "metadata": {},
     "output_type": "execute_result"
    }
   ],
   "source": [
    "filenames = glob.glob('Nline_*.mat')\n",
    "print filenames\n",
    "#index to isolate subj numbers\n",
    "data_dict = {}\n",
    "for i in filenames:\n",
    "    id1 = filenames[0].find('_') + 1\n",
    "    id2 = filenames[0].find('-')\n",
    "    sub_nbr = i[id1:id2]\n",
    "    sub_name = i\n",
    "    s_id = 's_'+sub_nbr\n",
    "    data_dict[s_id] = io.loadmat(sub_name)\n",
    "\n",
    "#sub_name = filenames[0] #This will be changed to a loop for all subjects later\n",
    "#mat = io.loadmat(sub_name)\n",
    "data_dict.keys()"
   ]
  },
  {
   "cell_type": "code",
   "execution_count": 6,
   "metadata": {},
   "outputs": [],
   "source": [
    "sub_ex = data_dict.keys()[0]"
   ]
  },
  {
   "cell_type": "code",
   "execution_count": 7,
   "metadata": {},
   "outputs": [],
   "source": [
    "#data_dict['s_00011']['p']"
   ]
  },
  {
   "cell_type": "code",
   "execution_count": 8,
   "metadata": {},
   "outputs": [],
   "source": [
    "#for i in data_dict:\n",
    "#    data_dict[i].pop('__header__')\n",
    "#    data_dict[i].pop('__version__')\n",
    "#    data_dict[i].pop('__globals__')\n",
    "#data_dict['s_00011'].keys()"
   ]
  },
  {
   "cell_type": "code",
   "execution_count": 9,
   "metadata": {},
   "outputs": [
    {
     "data": {
      "text/plain": [
       "49"
      ]
     },
     "execution_count": 9,
     "metadata": {},
     "output_type": "execute_result"
    }
   ],
   "source": [
    "## The indexes of zeros are as follows [0][0][x][y][z][0] The x y z are the 3 dimensions of the data 3d matrix the zeros are padding\n",
    "data_dict[sub_ex]['p']['NlineResults'][0][0][0][5][0][0]\n",
    "len(data_dict[sub_ex]['p']['NlineResults'][0][0][:])"
   ]
  },
  {
   "cell_type": "code",
   "execution_count": 10,
   "metadata": {},
   "outputs": [
    {
     "data": {
      "text/plain": [
       "('ramp_up',\n",
       " 'Mean_ITI',\n",
       " 'Mean_hold',\n",
       " 'decision',\n",
       " 'consider',\n",
       " 'runs',\n",
       " 'nStim',\n",
       " 'ntasks',\n",
       " 'tasks',\n",
       " 'trialSecs',\n",
       " 'lineLength',\n",
       " 'speed',\n",
       " 'run_order',\n",
       " 'NlineResults',\n",
       " 'time_Runs',\n",
       " 'task_transition',\n",
       " 'start_Nline',\n",
       " 'finish_Nline')"
      ]
     },
     "execution_count": 10,
     "metadata": {},
     "output_type": "execute_result"
    }
   ],
   "source": [
    "data_dict[sub_ex]['p'].dtype.names"
   ]
  },
  {
   "cell_type": "code",
   "execution_count": 11,
   "metadata": {},
   "outputs": [],
   "source": [
    "cons_time = data_dict[sub_ex]['p']['consider'][0][0][0][0]\n",
    "dec_time = data_dict[sub_ex]['p']['decision'][0][0][0][0]"
   ]
  },
  {
   "cell_type": "code",
   "execution_count": 12,
   "metadata": {},
   "outputs": [],
   "source": [
    "new_dat = {}\n",
    "#new_df = {}\n",
    "for s in data_dict:\n",
    "    tasks = ['NlineResults']\n",
    "    new_dat[s]={}\n",
    "    #new_df[s] = {}\n",
    "    for task in tasks:\n",
    "        dat = data_dict[s]['p'][task]\n",
    "        num_fields = len(data_dict[s]['p'][task][0][0][0])\n",
    "        dat_names = []\n",
    "        for k in range(0,num_fields):\n",
    "            dat_names.append(dat[0][0][0][k][0][0])\n",
    "        new_dat[s][task] = {}\n",
    "        runs = data_dict[s]['p']['runs'][0][0][0][0]\n",
    "        for run in range(0,runs):\n",
    "            run_name = 'run'+str(run+1)\n",
    "            new_dat[s][task][run_name] = {}\n",
    "            for i in range(0,len(dat_names)):\n",
    "                new_dat[s][task][run_name][dat_names[i]] = []\n",
    "                for j in range(0,len(dat[0][0][:])-1):\n",
    "                    if dat_names[i] == 'catch_probe':\n",
    "                        new_dat[s][task][run_name][dat_names[i]].append(dat[0][0][j+1][i][run])\n",
    "                    elif dat_names[i] == 'Probe':\n",
    "                        new_dat[s][task][run_name][dat_names[i]].append(dat[0][0][j+1][i][run][0])\n",
    "                    else:\n",
    "                        new_dat[s][task][run_name][dat_names[i]].append(dat[0][0][j+1][i][run][0][0])\n",
    "#legible access to the data\n",
    "Nline = 'NlineResults' #numberline"
   ]
  },
  {
   "cell_type": "code",
   "execution_count": 13,
   "metadata": {},
   "outputs": [
    {
     "data": {
      "text/plain": [
       "[u'Slow',\n",
       " u'Line_pct',\n",
       " u'iti',\n",
       " u'TestX',\n",
       " u'ITI_onset_real',\n",
       " u'consider_onset_real',\n",
       " u'ITI_onset',\n",
       " u'RT',\n",
       " u'hold',\n",
       " u'decision_end',\n",
       " u'decision_onset_real',\n",
       " u'RTHold',\n",
       " u'decision_end_real',\n",
       " u'Correct',\n",
       " u'Wrong',\n",
       " u'BadPress',\n",
       " u'consider_onset',\n",
       " u'Response',\n",
       " u'Task',\n",
       " u'Trial',\n",
       " u'Points',\n",
       " u'Error',\n",
       " u'catch',\n",
       " u'mouse_pos',\n",
       " u'Block',\n",
       " u'catch_probe',\n",
       " u'Probe',\n",
       " u'hold_onset',\n",
       " u'Move',\n",
       " u'decision_onset',\n",
       " u'hold_onset_real',\n",
       " u'Click']"
      ]
     },
     "execution_count": 13,
     "metadata": {},
     "output_type": "execute_result"
    }
   ],
   "source": [
    "new_dat[sub_ex]['NlineResults']['run1'].keys()"
   ]
  },
  {
   "cell_type": "code",
   "execution_count": 14,
   "metadata": {},
   "outputs": [
    {
     "data": {
      "text/plain": [
       "[array([57], dtype=uint8),\n",
       " array([77], dtype=uint8),\n",
       " array([3], dtype=uint8),\n",
       " array([21], dtype=uint8),\n",
       " array([60], dtype=uint8),\n",
       " array([28], dtype=uint8),\n",
       " array([85], dtype=uint8),\n",
       " array([74], dtype=uint8),\n",
       " array([33], dtype=uint8),\n",
       " array([7], dtype=uint8),\n",
       " array([90], dtype=uint8),\n",
       " array([36], dtype=uint8),\n",
       " array([11], dtype=uint8),\n",
       " array([45], dtype=uint8),\n",
       " array([98], dtype=uint8),\n",
       " array([65], dtype=uint8),\n",
       " array([70], dtype=uint8),\n",
       " array([14], dtype=uint8),\n",
       " array([80], dtype=uint8),\n",
       " array([20], dtype=uint8),\n",
       " array([-58], dtype=int16),\n",
       " array([-94], dtype=int16),\n",
       " array([-86], dtype=int16),\n",
       " array([54], dtype=uint8),\n",
       " array([-44], dtype=int16),\n",
       " array([-78], dtype=int16),\n",
       " array([-10], dtype=int16),\n",
       " array([48], dtype=uint8),\n",
       " array([30], dtype=uint8),\n",
       " array([-28], dtype=int16),\n",
       " array([96], dtype=uint8),\n",
       " array([-34], dtype=int16),\n",
       " u'of',\n",
       " u'is',\n",
       " u'be',\n",
       " u'me',\n",
       " u'it',\n",
       " u'as',\n",
       " u'my',\n",
       " u'so',\n",
       " u'we',\n",
       " u'or',\n",
       " u'ox',\n",
       " u'by',\n",
       " u'am',\n",
       " u'he',\n",
       " u'do',\n",
       " u'if']"
      ]
     },
     "execution_count": 14,
     "metadata": {},
     "output_type": "execute_result"
    }
   ],
   "source": [
    "new_dat[sub_ex]['NlineResults']['run1']['Probe']"
   ]
  },
  {
   "cell_type": "code",
   "execution_count": 15,
   "metadata": {},
   "outputs": [
    {
     "data": {
      "text/plain": [
       "[array([], shape=(0, 0), dtype=uint8),\n",
       " array([], shape=(0, 0), dtype=uint8),\n",
       " array([], shape=(0, 0), dtype=uint8),\n",
       " array([], shape=(0, 0), dtype=uint8),\n",
       " array([], shape=(0, 0), dtype=uint8),\n",
       " array([], shape=(0, 0), dtype=uint8),\n",
       " array([], shape=(0, 0), dtype=uint8),\n",
       " array([], shape=(0, 0), dtype=uint8),\n",
       " array([], shape=(0, 0), dtype=uint8),\n",
       " array([], shape=(0, 0), dtype=uint8),\n",
       " array([], shape=(0, 0), dtype=uint8),\n",
       " array([], shape=(0, 0), dtype=uint8),\n",
       " array([], shape=(0, 0), dtype=uint8),\n",
       " array([], shape=(0, 0), dtype=uint8),\n",
       " array([], shape=(0, 0), dtype=uint8),\n",
       " array([], shape=(0, 0), dtype=uint8),\n",
       " array([], shape=(0, 0), dtype=uint8),\n",
       " array([], shape=(0, 0), dtype=uint8),\n",
       " array([], shape=(0, 0), dtype=uint8),\n",
       " array([], shape=(0, 0), dtype=uint8),\n",
       " array([], shape=(0, 0), dtype=uint8),\n",
       " array([], shape=(0, 0), dtype=uint8),\n",
       " array([], shape=(0, 0), dtype=uint8),\n",
       " array([], shape=(0, 0), dtype=uint8),\n",
       " array([], shape=(0, 0), dtype=uint8),\n",
       " array([], shape=(0, 0), dtype=uint8),\n",
       " array([], shape=(0, 0), dtype=uint8),\n",
       " array([], shape=(0, 0), dtype=uint8),\n",
       " array([], shape=(0, 0), dtype=uint8),\n",
       " array([], shape=(0, 0), dtype=uint8),\n",
       " array([], shape=(0, 0), dtype=uint8),\n",
       " array([], shape=(0, 0), dtype=uint8),\n",
       " array([u'of'], \n",
       "       dtype='<U2'),\n",
       " array([u'is'], \n",
       "       dtype='<U2'),\n",
       " array([u'be'], \n",
       "       dtype='<U2'),\n",
       " array([u'it'], \n",
       "       dtype='<U2'),\n",
       " array([u'ox'], \n",
       "       dtype='<U2'),\n",
       " array([u'ox'], \n",
       "       dtype='<U2'),\n",
       " array([u'my'], \n",
       "       dtype='<U2'),\n",
       " array([u'so'], \n",
       "       dtype='<U2'),\n",
       " array([u'we'], \n",
       "       dtype='<U2'),\n",
       " array([u'or'], \n",
       "       dtype='<U2'),\n",
       " array([u'ox'], \n",
       "       dtype='<U2'),\n",
       " array([u'by'], \n",
       "       dtype='<U2'),\n",
       " array([u'am'], \n",
       "       dtype='<U2'),\n",
       " array([u'he'], \n",
       "       dtype='<U2'),\n",
       " array([u'do'], \n",
       "       dtype='<U2'),\n",
       " array([u'so'], \n",
       "       dtype='<U2')]"
      ]
     },
     "execution_count": 15,
     "metadata": {},
     "output_type": "execute_result"
    }
   ],
   "source": [
    "new_dat[sub_ex]['NlineResults']['run1']['catch_probe']"
   ]
  },
  {
   "cell_type": "code",
   "execution_count": 16,
   "metadata": {},
   "outputs": [],
   "source": [
    "subj = data_dict.keys()\n",
    "tasks = [Nline]\n",
    "tuples = []\n",
    "rows = len(data_dict[sub_ex]['p'][Nline][0][0][:])-1\n",
    "for s in subj:\n",
    "    runs = new_dat[s]['NlineResults'].keys()\n",
    "    for run in runs:\n",
    "        for i in range(0,rows):\n",
    "            tuples.append((s, run, i))\n",
    "len(tuples)\n",
    "#iterables = [subj,tasks,runs]\n",
    "indexes = pd.MultiIndex.from_tuples(tuples, names=['Subj', 'Run', 'Trial'])\n",
    "nline_cols = len(new_dat[sub_ex][Nline]['run1'].keys())"
   ]
  },
  {
   "cell_type": "code",
   "execution_count": 17,
   "metadata": {},
   "outputs": [
    {
     "data": {
      "text/plain": [
       "('s_02009', 'run3', 42)"
      ]
     },
     "execution_count": 17,
     "metadata": {},
     "output_type": "execute_result"
    }
   ],
   "source": [
    "indexes[90]"
   ]
  },
  {
   "cell_type": "code",
   "execution_count": 18,
   "metadata": {},
   "outputs": [
    {
     "data": {
      "text/plain": [
       "'run1'"
      ]
     },
     "execution_count": 18,
     "metadata": {},
     "output_type": "execute_result"
    }
   ],
   "source": [
    "indexes[1][1]"
   ]
  },
  {
   "cell_type": "code",
   "execution_count": 19,
   "metadata": {},
   "outputs": [
    {
     "data": {
      "text/plain": [
       "u'Block'"
      ]
     },
     "execution_count": 19,
     "metadata": {},
     "output_type": "execute_result"
    }
   ],
   "source": [
    "varnames = new_dat[sub_ex][Nline]['run1'].keys()\n",
    "varnames[24]"
   ]
  },
  {
   "cell_type": "code",
   "execution_count": 20,
   "metadata": {},
   "outputs": [
    {
     "data": {
      "text/plain": [
       "4224"
      ]
     },
     "execution_count": 20,
     "metadata": {},
     "output_type": "execute_result"
    }
   ],
   "source": [
    "len(indexes)"
   ]
  },
  {
   "cell_type": "code",
   "execution_count": 21,
   "metadata": {},
   "outputs": [],
   "source": [
    "# Code empty cells of probes and catch_probes as Nan\n",
    "Dic_list = []\n",
    "probes = ['catch_probe']\n",
    "for data in indexes:\n",
    "    temp_dict = {}\n",
    "    for var in varnames:\n",
    "        if var == probes[0]:\n",
    "            if len(new_dat.get(data[0]).get(Nline).get(data[1]).get(var)[data[2]]) == 0:\n",
    "                new_dat.get(data[0]).get(Nline).get(data[1]).get(var)[data[2]] = np.array([np.nan])\n",
    "            temp_dict[var] = new_dat.get(data[0]).get(Nline).get(data[1]).get(var)[data[2]][0]\n",
    "        else:\n",
    "            temp_dict[var] = new_dat.get(data[0]).get(Nline).get(data[1]).get(var)[data[2]]\n",
    "    Dic_list.append(temp_dict)"
   ]
  },
  {
   "cell_type": "code",
   "execution_count": 22,
   "metadata": {},
   "outputs": [
    {
     "data": {
      "text/plain": [
       "12"
      ]
     },
     "execution_count": 22,
     "metadata": {},
     "output_type": "execute_result"
    }
   ],
   "source": [
    "#Create dataframe\n",
    "nline_df = pd.DataFrame(Dic_list, index=indexes)\n",
    "sum(nline_df.loc[sub_ex].loc['run1'].iloc[0:48]['catch'])"
   ]
  },
  {
   "cell_type": "code",
   "execution_count": 23,
   "metadata": {},
   "outputs": [
    {
     "data": {
      "text/plain": [
       "Trial\n",
       "0   -0.023744\n",
       "1   -0.025507\n",
       "2    0.000000\n",
       "3    0.000000\n",
       "4   -0.027313\n",
       "5    0.001938\n",
       "6   -0.046035\n",
       "7    0.000000\n",
       "8    0.070881\n",
       "9    0.026916\n",
       "Name: Error, dtype: float64"
      ]
     },
     "execution_count": 23,
     "metadata": {},
     "output_type": "execute_result"
    }
   ],
   "source": [
    "nline_df.loc[sub_ex].loc['run1'].iloc[0:10]['Error']"
   ]
  },
  {
   "cell_type": "code",
   "execution_count": 24,
   "metadata": {},
   "outputs": [
    {
     "data": {
      "text/plain": [
       "FrozenList([u'Subject', u'Run', u'Trial'])"
      ]
     },
     "execution_count": 24,
     "metadata": {},
     "output_type": "execute_result"
    }
   ],
   "source": [
    "nline_df.index.names = ['Subject', 'Run', 'Trial']\n",
    "nline_df.index.names"
   ]
  },
  {
   "cell_type": "code",
   "execution_count": 25,
   "metadata": {},
   "outputs": [
    {
     "name": "stderr",
     "output_type": "stream",
     "text": [
      "/anaconda/lib/python2.7/site-packages/ipykernel/__main__.py:3: SettingWithCopyWarning: \n",
      "A value is trying to be set on a copy of a slice from a DataFrame\n",
      "\n",
      "See the caveats in the documentation: http://pandas.pydata.org/pandas-docs/stable/indexing.html#indexing-view-versus-copy\n",
      "  app.launch_new_instance()\n",
      "/anaconda/lib/python2.7/site-packages/ipykernel/__main__.py:4: SettingWithCopyWarning: \n",
      "A value is trying to be set on a copy of a slice from a DataFrame\n",
      "\n",
      "See the caveats in the documentation: http://pandas.pydata.org/pandas-docs/stable/indexing.html#indexing-view-versus-copy\n"
     ]
    },
    {
     "data": {
      "text/plain": [
       "Subject  Run   Trial\n",
       "s_02009  run1  0         57\n",
       "               1         77\n",
       "               2          3\n",
       "               3         21\n",
       "               4         60\n",
       "               5         28\n",
       "               6         85\n",
       "               7         74\n",
       "               8         33\n",
       "               9          7\n",
       "               10        90\n",
       "               11        36\n",
       "               12        11\n",
       "               13        45\n",
       "               14        98\n",
       "               15        65\n",
       "               16        70\n",
       "               17        14\n",
       "               18        80\n",
       "               19        20\n",
       "               20       -58\n",
       "               21       -94\n",
       "               22       -86\n",
       "               23        54\n",
       "               24       -44\n",
       "               25       -78\n",
       "               26       -10\n",
       "               27        48\n",
       "               28        30\n",
       "               29       -28\n",
       "                       ... \n",
       "s_02022  run4  18        or\n",
       "               19        my\n",
       "               20        of\n",
       "               21        we\n",
       "               22        he\n",
       "               23        am\n",
       "               24        so\n",
       "               25        by\n",
       "               26        as\n",
       "               27        do\n",
       "               28        me\n",
       "               29        is\n",
       "               30        it\n",
       "               31        ox\n",
       "               32       -86\n",
       "               33       -28\n",
       "               34        70\n",
       "               35        96\n",
       "               36       -10\n",
       "               37        80\n",
       "               38        48\n",
       "               39        54\n",
       "               40       -94\n",
       "               41       -34\n",
       "               42       -44\n",
       "               43        30\n",
       "               44        20\n",
       "               45       -78\n",
       "               46        14\n",
       "               47       -58\n",
       "Name: Probe, dtype: object"
      ]
     },
     "execution_count": 25,
     "metadata": {},
     "output_type": "execute_result"
    }
   ],
   "source": [
    "test = nline_df['Probe']\n",
    "for i in range(0,len(test)):\n",
    "    test[i] = np.ravel(test[i])\n",
    "    test[i] = test[i][0]\n",
    "nline_df['Probe'] = test\n",
    "nline_df['Probe']"
   ]
  },
  {
   "cell_type": "markdown",
   "metadata": {},
   "source": [
    "### Create Stim Labels"
   ]
  },
  {
   "cell_type": "code",
   "execution_count": 26,
   "metadata": {},
   "outputs": [],
   "source": [
    "#now nline\n",
    "#nline_df['Num'] = nline_df['Num'].map('{:.0f}'.format)\n",
    "#nline_df['Denom'] = nline_df['Denom'].map('{:.0f}'.format)\n",
    "#nline_df['Stim'] = nline_df['Num']+'/'+nline_df['Denom']\n",
    "#nline_df['Stim']"
   ]
  },
  {
   "cell_type": "code",
   "execution_count": 27,
   "metadata": {},
   "outputs": [
    {
     "data": {
      "text/plain": [
       "Index([u'BadPress', u'Block', u'Click', u'Correct', u'Error', u'ITI_onset',\n",
       "       u'ITI_onset_real', u'Line_pct', u'Move', u'Points', u'Probe', u'RT',\n",
       "       u'RTHold', u'Response', u'Slow', u'Task', u'TestX', u'Trial', u'Wrong',\n",
       "       u'catch', u'catch_probe', u'consider_onset', u'consider_onset_real',\n",
       "       u'decision_end', u'decision_end_real', u'decision_onset',\n",
       "       u'decision_onset_real', u'hold', u'hold_onset', u'hold_onset_real',\n",
       "       u'iti', u'mouse_pos'],\n",
       "      dtype='object')"
      ]
     },
     "execution_count": 27,
     "metadata": {},
     "output_type": "execute_result"
    }
   ],
   "source": [
    "nline_df.columns"
   ]
  },
  {
   "cell_type": "code",
   "execution_count": 28,
   "metadata": {},
   "outputs": [
    {
     "name": "stderr",
     "output_type": "stream",
     "text": [
      "/anaconda/lib/python2.7/site-packages/ipykernel/__main__.py:3: SettingWithCopyWarning: \n",
      "A value is trying to be set on a copy of a slice from a DataFrame\n",
      "\n",
      "See the caveats in the documentation: http://pandas.pydata.org/pandas-docs/stable/indexing.html#indexing-view-versus-copy\n",
      "  app.launch_new_instance()\n",
      "/anaconda/lib/python2.7/site-packages/ipykernel/__main__.py:4: SettingWithCopyWarning: \n",
      "A value is trying to be set on a copy of a slice from a DataFrame\n",
      "\n",
      "See the caveats in the documentation: http://pandas.pydata.org/pandas-docs/stable/indexing.html#indexing-view-versus-copy\n",
      "/anaconda/lib/python2.7/site-packages/ipykernel/__main__.py:5: SettingWithCopyWarning: \n",
      "A value is trying to be set on a copy of a slice from a DataFrame\n",
      "\n",
      "See the caveats in the documentation: http://pandas.pydata.org/pandas-docs/stable/indexing.html#indexing-view-versus-copy\n"
     ]
    },
    {
     "data": {
      "text/plain": [
       "'Neg'"
      ]
     },
     "execution_count": 28,
     "metadata": {},
     "output_type": "execute_result"
    }
   ],
   "source": [
    "#Make task as string\n",
    "nline_df['Task'] = nline_df['Task'].astype(str)\n",
    "nline_df['Task'][nline_df['Task']=='1'] = 'Pos'\n",
    "nline_df['Task'][nline_df['Task']=='2'] = 'Neg'\n",
    "nline_df['Task'][nline_df['Task']=='3'] = 'Word'\n",
    "nline_df['Task'].iloc[16]"
   ]
  },
  {
   "cell_type": "code",
   "execution_count": 29,
   "metadata": {},
   "outputs": [
    {
     "data": {
      "text/plain": [
       "Subject  Run   Trial\n",
       "s_02009  run1  0         Pos\n",
       "               1         Pos\n",
       "               2         Pos\n",
       "               3         Pos\n",
       "               4         Pos\n",
       "               5         Pos\n",
       "               6         Pos\n",
       "               7         Pos\n",
       "               8         Pos\n",
       "               9         Pos\n",
       "               10        Pos\n",
       "               11        Pos\n",
       "               12        Pos\n",
       "               13        Pos\n",
       "               14        Pos\n",
       "               15        Pos\n",
       "               16        Neg\n",
       "               17        Neg\n",
       "               18        Neg\n",
       "               19        Neg\n",
       "               20        Neg\n",
       "               21        Neg\n",
       "               22        Neg\n",
       "               23        Neg\n",
       "               24        Neg\n",
       "               25        Neg\n",
       "               26        Neg\n",
       "               27        Neg\n",
       "               28        Neg\n",
       "               29        Neg\n",
       "                        ... \n",
       "s_02022  run4  18       Word\n",
       "               19       Word\n",
       "               20       Word\n",
       "               21       Word\n",
       "               22       Word\n",
       "               23       Word\n",
       "               24       Word\n",
       "               25       Word\n",
       "               26       Word\n",
       "               27       Word\n",
       "               28       Word\n",
       "               29       Word\n",
       "               30       Word\n",
       "               31       Word\n",
       "               32        Neg\n",
       "               33        Neg\n",
       "               34        Neg\n",
       "               35        Neg\n",
       "               36        Neg\n",
       "               37        Neg\n",
       "               38        Neg\n",
       "               39        Neg\n",
       "               40        Neg\n",
       "               41        Neg\n",
       "               42        Neg\n",
       "               43        Neg\n",
       "               44        Neg\n",
       "               45        Neg\n",
       "               46        Neg\n",
       "               47        Neg\n",
       "Name: Task, dtype: object"
      ]
     },
     "execution_count": 29,
     "metadata": {},
     "output_type": "execute_result"
    }
   ],
   "source": [
    "nline_df['Task']"
   ]
  },
  {
   "cell_type": "code",
   "execution_count": 30,
   "metadata": {},
   "outputs": [
    {
     "data": {
      "text/plain": [
       "Subject  Run   Trial\n",
       "s_02009  run1  0        0.07\n",
       "               1        0.23\n",
       "               2        0.03\n",
       "               3        0.21\n",
       "               4        0.10\n",
       "               5        0.22\n",
       "               6        0.15\n",
       "               7        0.24\n",
       "               8        0.17\n",
       "               9        0.07\n",
       "               10       0.10\n",
       "               11       0.14\n",
       "               12       0.11\n",
       "               13       0.05\n",
       "               14       0.02\n",
       "               15       0.15\n",
       "               16       0.15\n",
       "               17       0.07\n",
       "               18       0.10\n",
       "               19       0.10\n",
       "               20       0.21\n",
       "               21       0.03\n",
       "               22       0.07\n",
       "               23       0.23\n",
       "               24       0.22\n",
       "               25       0.11\n",
       "               26       0.05\n",
       "               27       0.24\n",
       "               28       0.15\n",
       "               29       0.14\n",
       "                        ... \n",
       "s_02022  run4  18       0.15\n",
       "               19       0.03\n",
       "               20       0.07\n",
       "               21       0.05\n",
       "               22       0.24\n",
       "               23       0.15\n",
       "               24       0.02\n",
       "               25       0.21\n",
       "               26       0.17\n",
       "               27       0.07\n",
       "               28       0.14\n",
       "               29       0.23\n",
       "               30       0.10\n",
       "               31       0.22\n",
       "               32       0.07\n",
       "               33       0.14\n",
       "               34       0.15\n",
       "               35       0.02\n",
       "               36       0.05\n",
       "               37       0.10\n",
       "               38       0.24\n",
       "               39       0.23\n",
       "               40       0.03\n",
       "               41       0.17\n",
       "               42       0.22\n",
       "               43       0.15\n",
       "               44       0.10\n",
       "               45       0.11\n",
       "               46       0.07\n",
       "               47       0.21\n",
       "Name: LandmarkDist, dtype: float64"
      ]
     },
     "execution_count": 30,
     "metadata": {},
     "output_type": "execute_result"
    }
   ],
   "source": [
    "nline_df['Dist0'] = abs(nline_df['Line_pct'] - 0)\n",
    "nline_df['Dist100'] = abs(nline_df['Line_pct'] - 1)\n",
    "nline_df['Dist50'] = abs(nline_df['Line_pct'] - 0.5)\n",
    "nline_df['LandmarkDist'] = nline_df[['Dist0','Dist100','Dist50']].min(axis=1) \n",
    "nline_df['LandmarkDist']"
   ]
  },
  {
   "cell_type": "markdown",
   "metadata": {},
   "source": [
    "# Create Onset Files"
   ]
  },
  {
   "cell_type": "code",
   "execution_count": 31,
   "metadata": {
    "collapsed": true
   },
   "outputs": [],
   "source": [
    "nline_df['Missed'] = 0"
   ]
  },
  {
   "cell_type": "code",
   "execution_count": 31,
   "metadata": {},
   "outputs": [
    {
     "name": "stderr",
     "output_type": "stream",
     "text": [
      "/Users/frankanayet/anaconda/lib/python2.7/site-packages/ipykernel/__main__.py:1: SettingWithCopyWarning: \n",
      "A value is trying to be set on a copy of a slice from a DataFrame\n",
      "\n",
      "See the caveats in the documentation: http://pandas.pydata.org/pandas-docs/stable/indexing.html#indexing-view-versus-copy\n",
      "  if __name__ == '__main__':\n"
     ]
    },
    {
     "data": {
      "text/plain": [
       "Subject  Run   Trial\n",
       "s_02009  run1  22       1\n",
       "s_02003  run1  0        1\n",
       "               15       1\n",
       "               26       1\n",
       "               36       1\n",
       "         run3  20       1\n",
       "               23       1\n",
       "         run4  1        1\n",
       "s_02002  run1  9        1\n",
       "               29       1\n",
       "s_02001  run1  25       1\n",
       "s_02007  run4  24       1\n",
       "s_02006  run1  12       1\n",
       "         run2  35       1\n",
       "s_02005  run1  0        1\n",
       "               7        1\n",
       "               20       1\n",
       "               32       1\n",
       "               34       1\n",
       "               36       1\n",
       "               43       1\n",
       "         run3  13       1\n",
       "               22       1\n",
       "               47       1\n",
       "         run2  15       1\n",
       "               20       1\n",
       "               21       1\n",
       "               29       1\n",
       "         run4  6        1\n",
       "               9        1\n",
       "                       ..\n",
       "s_02020  run1  43       1\n",
       "         run3  46       1\n",
       "         run2  35       1\n",
       "               46       1\n",
       "         run4  12       1\n",
       "               24       1\n",
       "               43       1\n",
       "s_02023  run1  0        1\n",
       "               28       1\n",
       "         run2  3        1\n",
       "               26       1\n",
       "               46       1\n",
       "s_02022  run1  10       1\n",
       "               16       1\n",
       "               21       1\n",
       "               40       1\n",
       "         run3  29       1\n",
       "               47       1\n",
       "         run2  3        1\n",
       "               6        1\n",
       "               15       1\n",
       "               25       1\n",
       "               37       1\n",
       "               40       1\n",
       "         run4  4        1\n",
       "               5        1\n",
       "               9        1\n",
       "               14       1\n",
       "               20       1\n",
       "               27       1\n",
       "Name: Error, dtype: float64"
      ]
     },
     "execution_count": 31,
     "metadata": {},
     "output_type": "execute_result"
    }
   ],
   "source": [
    "nline_df['Missed'][(nline_df.catch < 1) & (nline_df.Error == 1)] = 1\n",
    "nline_df[(nline_df.Missed == 1)]['Error']"
   ]
  },
  {
   "cell_type": "code",
   "execution_count": 32,
   "metadata": {},
   "outputs": [
    {
     "name": "stderr",
     "output_type": "stream",
     "text": [
      "/Users/frankanayet/anaconda/lib/python2.7/site-packages/ipykernel/__main__.py:1: SettingWithCopyWarning: \n",
      "A value is trying to be set on a copy of a slice from a DataFrame\n",
      "\n",
      "See the caveats in the documentation: http://pandas.pydata.org/pandas-docs/stable/indexing.html#indexing-view-versus-copy\n",
      "  if __name__ == '__main__':\n"
     ]
    },
    {
     "data": {
      "text/plain": [
       "Subject  Run   Trial\n",
       "s_02009  run1  22       1.000000\n",
       "               24       0.220000\n",
       "s_02003  run1  0        1.000000\n",
       "               15       1.000000\n",
       "               26       1.000000\n",
       "               36       1.000000\n",
       "         run3  20       1.000000\n",
       "               23       1.000000\n",
       "         run4  1        1.000000\n",
       "               47      -0.137533\n",
       "s_02002  run1  9        1.000000\n",
       "               29       1.000000\n",
       "         run2  34      -0.687004\n",
       "               43       0.575374\n",
       "s_02001  run1  25       1.000000\n",
       "         run2  23       0.205330\n",
       "s_02007  run1  18       0.107709\n",
       "         run2  5       -0.210529\n",
       "         run4  9       -0.962379\n",
       "               24       1.000000\n",
       "s_02006  run1  12       1.000000\n",
       "               32      -0.142687\n",
       "         run3  38       0.208590\n",
       "               39       0.402335\n",
       "         run2  35       1.000000\n",
       "s_02005  run1  0        1.000000\n",
       "               7        1.000000\n",
       "               20       1.000000\n",
       "               27      -0.275551\n",
       "               32       1.000000\n",
       "                          ...   \n",
       "s_02020  run4  43       1.000000\n",
       "s_02023  run1  0        1.000000\n",
       "               1       -0.122467\n",
       "               15      -0.130925\n",
       "               28       1.000000\n",
       "         run3  16      -0.123612\n",
       "         run2  3        1.000000\n",
       "               26       1.000000\n",
       "               46       1.000000\n",
       "         run4  0       -0.183789\n",
       "s_02022  run1  10       1.000000\n",
       "               16       1.000000\n",
       "               21       1.000000\n",
       "               40       1.000000\n",
       "         run3  29       1.000000\n",
       "               41       0.132291\n",
       "               47       1.000000\n",
       "         run2  3        1.000000\n",
       "               6        1.000000\n",
       "               15       1.000000\n",
       "               25       1.000000\n",
       "               37       1.000000\n",
       "               40       1.000000\n",
       "         run4  4        1.000000\n",
       "               5        1.000000\n",
       "               9        1.000000\n",
       "               14       1.000000\n",
       "               20       1.000000\n",
       "               27       1.000000\n",
       "               34      -0.105507\n",
       "Name: Error, dtype: float64"
      ]
     },
     "execution_count": 32,
     "metadata": {},
     "output_type": "execute_result"
    }
   ],
   "source": [
    "nline_df['Missed'][(nline_df.catch < 1) & (abs(nline_df.Error) >= 0.1)] = 1\n",
    "nline_df[(nline_df.Missed == 1)]['Error']"
   ]
  },
  {
   "cell_type": "code",
   "execution_count": 33,
   "metadata": {},
   "outputs": [
    {
     "name": "stdout",
     "output_type": "stream",
     "text": [
      "s_02001\n",
      "s_02002\n",
      "s_02003\n",
      "s_02004\n",
      "s_02005\n",
      "s_02006\n",
      "s_02007\n",
      "s_02009\n",
      "s_02010\n",
      "s_02011\n",
      "s_02012\n",
      "s_02014\n",
      "s_02015\n",
      "s_02016\n",
      "s_02017\n",
      "s_02018\n",
      "s_02019\n",
      "s_02020\n",
      "s_02021\n",
      "s_02022\n",
      "s_02023\n",
      "s_02024\n",
      "s_02027\n"
     ]
    }
   ],
   "source": [
    "import string\n",
    "offset = 18\n",
    "tasks = nline_df.groupby('Task')\n",
    "labels = tasks.indices.keys()\n",
    "phase = ['cons', 'dec']\n",
    "big_dict = {}\n",
    "# Breaks always happen at the same time in the sequence\n",
    "break_onset = [[190, 6, 1],[388, 6, 1]]\n",
    "for s in nline_df.index.levels[0]:\n",
    "    print s\n",
    "    big_dict[s] = {}\n",
    "    #dec_ctch_onset[s] = {}\n",
    "    for r in nline_df.index.levels[1]:\n",
    "        #print r\n",
    "        big_dict[s][r] = {}\n",
    "        ctch = nline_df.loc[s].loc[r]['catch']\n",
    "        \n",
    "        problem_con = nline_df.loc[s].loc[r]['consider_onset_real'] - nline_df.loc[s].loc[r]['consider_onset']\n",
    "        problem_dec = nline_df.loc[s].loc[r]['decision_onset_real'] - nline_df.loc[s].loc[r]['decision_onset']\n",
    "        prob_con_idx = problem_con > 0.5\n",
    "        prob_dec_idx = problem_dec > 0.5\n",
    "        \n",
    "        if len(nline_df.loc[s].loc[r]['hold']) == 0:\n",
    "            hold = 2.5\n",
    "        else:\n",
    "            hold = min(nline_df.loc[s].loc[r]['hold'])\n",
    "        cons_duration = hold + cons_time\n",
    "        \n",
    "        problem_con = nline_df.loc[s].loc[r]['consider_onset_real'] - nline_df.loc[s].loc[r]['consider_onset']\n",
    "        problem_dec = nline_df.loc[s].loc[r]['decision_onset_real'] - nline_df.loc[s].loc[r]['decision_onset']\n",
    "        prob_con_idx = problem_con > 0.5\n",
    "        prob_dec_idx = problem_dec > 0.5\n",
    "        \n",
    "        bad_trials_con = nline_df.loc[s].loc[r]['consider_onset'] - offset\n",
    "        bad_trials_con = bad_trials_con[prob_con_idx==1]\n",
    "        big_dict[s][r]['con_bad_trials'] = pd.DataFrame.from_items([('time',bad_trials_con[bad_trials_con>=0]),('duration',cons_duration),('val',1)])\n",
    "        \n",
    "        bad_trials_dec = nline_df.loc[s].loc[r]['decision_onset'] - offset\n",
    "        bad_trials_dec = bad_trials_dec[prob_dec_idx==1]\n",
    "        big_dict[s][r]['dec_bad_trials'] = pd.DataFrame.from_items([('time',bad_trials_dec[bad_trials_dec>=0]),('duration',dec_time),('val',1)])\n",
    "        \n",
    "        for lab in labels:\n",
    "            big_dict[s][r][lab] = {}\n",
    "            Task = nline_df.loc[s].loc[r]['Task']\n",
    "            dec_ctch_tmp = nline_df.loc[s].loc[r]['decision_onset_real'] - offset\n",
    "            dec_ctch_tmp = dec_ctch_tmp[ctch==1]\n",
    "            dec_ctch_tmp = dec_ctch_tmp[Task==lab]\n",
    "            dec_ctch_tmp = dec_ctch_tmp[prob_dec_idx==0]\n",
    "            big_dict[s][r][lab]['dec_ctch_onset'] = pd.DataFrame.from_items([('time',dec_ctch_tmp[dec_ctch_tmp>=0]),('duration',dec_time),('val',1)])\n",
    "            for ph in phase:\n",
    "                if ph == 'dec':\n",
    "                    big_dict[s][r][lab][ph] = {}\n",
    "                    tmp_int = nline_df.loc[s].loc[r]['decision_onset_real'] - offset\n",
    "                    tmp_int = tmp_int[ctch==0]\n",
    "                    tmp_int = tmp_int[Task==lab]\n",
    "                    tmp_int = tmp_int[prob_dec_idx==0]\n",
    "                    big_dict[s][r][lab][ph] = pd.DataFrame.from_items([('time',tmp_int[tmp_int>=0]),('duration',dec_time),('val',1)])\n",
    "                elif ph == 'cons':\n",
    "                    big_dict[s][r][lab][ph] = {}\n",
    "                    tmp_int = nline_df.loc[s].loc[r]['consider_onset_real'] - offset\n",
    "                    tmp_int = tmp_int[Task==lab]\n",
    "                    tmp_int = tmp_int[prob_con_idx==0]\n",
    "                    big_dict[s][r][lab][ph] = pd.DataFrame.from_items([('time',tmp_int[tmp_int>=0]),('duration',cons_duration),('val',1)])\n",
    "            #big_dict[s][r]['onsets'] = pd.concat([big_dict[s][r]['cons'], big_dict[s][r]['dec']],join='outer',)\n",
    "            #big_dict[s][r]['onsets'] = big_dict[s][r]['onsets'].sort('time')\n",
    "                    "
   ]
  },
  {
   "cell_type": "code",
   "execution_count": 34,
   "metadata": {},
   "outputs": [
    {
     "data": {
      "text/plain": [
       "{'Neg': {'cons':              time  duration  val\n",
       "  Trial                           \n",
       "  32     398.003433         3    1\n",
       "  33     408.502639         3    1\n",
       "  34     420.004571         3    1\n",
       "  35     431.002128         3    1\n",
       "  36     442.502415         3    1\n",
       "  37     458.504504         3    1\n",
       "  38     470.503885         3    1\n",
       "  39     481.504618         3    1\n",
       "  40     492.502316         3    1\n",
       "  41     502.003854         3    1\n",
       "  42     514.502878         3    1\n",
       "  43     531.504630         3    1\n",
       "  44     544.005411         3    1\n",
       "  45     556.003058         3    1\n",
       "  46     567.504389         3    1\n",
       "  47     577.501702         3    1, 'dec':              time  duration  val\n",
       "  Trial                           \n",
       "  32     401.502432         3    1\n",
       "  33     414.015248         3    1\n",
       "  34     424.015340         3    1\n",
       "  35     435.015442         3    1\n",
       "  36     449.015847         3    1\n",
       "  37     463.002435         3    1\n",
       "  38     475.000227         3    1\n",
       "  40     496.000800         3    1\n",
       "  41     508.001125         3    1\n",
       "  43     536.501754         3    1\n",
       "  44     548.002030         3    1\n",
       "  47     581.002984         3    1, 'dec_ctch_onset':              time  duration  val\n",
       "  Trial                           \n",
       "  39     486.000385         3    1\n",
       "  42     521.501541         3    1\n",
       "  45     559.002318         3    1\n",
       "  46     570.502504         3    1},\n",
       " 'Pos': {'cons':              time  duration  val\n",
       "  Trial                           \n",
       "  0        0.505157         3    1\n",
       "  1       13.503661         3    1\n",
       "  2       24.004720         3    1\n",
       "  3       37.503883         3    1\n",
       "  4       49.503899         3    1\n",
       "  5       65.502385         3    1\n",
       "  6       78.504557         3    1\n",
       "  7       89.504038         3    1\n",
       "  8      102.502582         3    1\n",
       "  9      116.003171         3    1\n",
       "  10     126.502441         3    1\n",
       "  11     137.004337         3    1\n",
       "  12     146.504465         3    1\n",
       "  13     157.003354         3    1\n",
       "  14     167.504798         3    1\n",
       "  15     179.501660         3    1, 'dec':              time  duration  val\n",
       "  Trial                           \n",
       "  0        4.528613         3    1\n",
       "  1       18.012309         3    1\n",
       "  2       31.004574         3    1\n",
       "  3       41.504870         3    1\n",
       "  4       56.026147         3    1\n",
       "  5       68.505765         3    1\n",
       "  6       83.005966         3    1\n",
       "  7       95.506339         3    1\n",
       "  8      107.509123         3    1\n",
       "  10     129.507218         3    1\n",
       "  12     150.007957         3    1\n",
       "  13     161.008294         3    1, 'dec_ctch_onset':              time  duration  val\n",
       "  Trial                           \n",
       "  9      119.506976         3    1\n",
       "  11     140.507724         3    1\n",
       "  14     172.008618         3    1\n",
       "  15     185.008806         3    1},\n",
       " 'Word': {'cons':              time  duration  val\n",
       "  Trial                           \n",
       "  16     198.002190         3    1\n",
       "  17     208.502033         3    1\n",
       "  20     248.987121         3    1\n",
       "  21     259.502397         3    1\n",
       "  22     271.504101         3    1\n",
       "  23     285.503677         3    1\n",
       "  24     296.003034         3    1\n",
       "  25     308.005158         3    1\n",
       "  26     321.003235         3    1\n",
       "  27     331.503049         3    1\n",
       "  28     345.504957         3    1\n",
       "  29     356.005550         3    1\n",
       "  30     366.002655         3    1\n",
       "  31     379.004858         3    1, 'dec':              time  duration  val\n",
       "  Trial                           \n",
       "  16     201.509338         3    1\n",
       "  20     253.010637         3    1\n",
       "  21     263.510969         3    1\n",
       "  24     302.011961         3    1\n",
       "  25     315.012442         3    1\n",
       "  26     325.012606         3    1\n",
       "  27     338.012812         3    1\n",
       "  28     349.013434         3    1\n",
       "  29     359.530281         3    1, 'dec_ctch_onset':              time  duration  val\n",
       "  Trial                           \n",
       "  22     276.011435         3    1\n",
       "  23     288.511769         3    1\n",
       "  30     369.013939         3    1\n",
       "  31     383.001787         3    1},\n",
       " 'con_bad_trials':         time  duration  val\n",
       " Trial                      \n",
       " 18     220.5         3    1\n",
       " 19     234.5         3    1,\n",
       " 'dec_bad_trials':         time  duration  val\n",
       " Trial                      \n",
       " 17     213.0         3    1\n",
       " 18     226.0         3    1\n",
       " 19     239.5         3    1}"
      ]
     },
     "execution_count": 34,
     "metadata": {},
     "output_type": "execute_result"
    }
   ],
   "source": [
    "big_dict['s_02012']['run4']"
   ]
  },
  {
   "cell_type": "code",
   "execution_count": 35,
   "metadata": {},
   "outputs": [
    {
     "data": {
      "text/html": [
       "<div>\n",
       "<table border=\"1\" class=\"dataframe\">\n",
       "  <thead>\n",
       "    <tr style=\"text-align: right;\">\n",
       "      <th></th>\n",
       "      <th>time</th>\n",
       "      <th>duration</th>\n",
       "      <th>val</th>\n",
       "    </tr>\n",
       "    <tr>\n",
       "      <th>Trial</th>\n",
       "      <th></th>\n",
       "      <th></th>\n",
       "      <th></th>\n",
       "    </tr>\n",
       "  </thead>\n",
       "  <tbody>\n",
       "    <tr>\n",
       "      <th>16</th>\n",
       "      <td>202.001585</td>\n",
       "      <td>3</td>\n",
       "      <td>1</td>\n",
       "    </tr>\n",
       "    <tr>\n",
       "      <th>17</th>\n",
       "      <td>214.018680</td>\n",
       "      <td>3</td>\n",
       "      <td>1</td>\n",
       "    </tr>\n",
       "    <tr>\n",
       "      <th>18</th>\n",
       "      <td>226.018982</td>\n",
       "      <td>3</td>\n",
       "      <td>1</td>\n",
       "    </tr>\n",
       "    <tr>\n",
       "      <th>21</th>\n",
       "      <td>259.503145</td>\n",
       "      <td>3</td>\n",
       "      <td>1</td>\n",
       "    </tr>\n",
       "    <tr>\n",
       "      <th>22</th>\n",
       "      <td>270.003427</td>\n",
       "      <td>3</td>\n",
       "      <td>1</td>\n",
       "    </tr>\n",
       "    <tr>\n",
       "      <th>23</th>\n",
       "      <td>283.020404</td>\n",
       "      <td>3</td>\n",
       "      <td>1</td>\n",
       "    </tr>\n",
       "    <tr>\n",
       "      <th>25</th>\n",
       "      <td>309.504676</td>\n",
       "      <td>3</td>\n",
       "      <td>1</td>\n",
       "    </tr>\n",
       "    <tr>\n",
       "      <th>26</th>\n",
       "      <td>320.521748</td>\n",
       "      <td>3</td>\n",
       "      <td>1</td>\n",
       "    </tr>\n",
       "    <tr>\n",
       "      <th>27</th>\n",
       "      <td>330.527450</td>\n",
       "      <td>3</td>\n",
       "      <td>1</td>\n",
       "    </tr>\n",
       "    <tr>\n",
       "      <th>28</th>\n",
       "      <td>342.526840</td>\n",
       "      <td>3</td>\n",
       "      <td>1</td>\n",
       "    </tr>\n",
       "    <tr>\n",
       "      <th>29</th>\n",
       "      <td>354.014300</td>\n",
       "      <td>3</td>\n",
       "      <td>1</td>\n",
       "    </tr>\n",
       "    <tr>\n",
       "      <th>30</th>\n",
       "      <td>368.522827</td>\n",
       "      <td>3</td>\n",
       "      <td>1</td>\n",
       "    </tr>\n",
       "  </tbody>\n",
       "</table>\n",
       "</div>"
      ],
      "text/plain": [
       "             time  duration  val\n",
       "Trial                           \n",
       "16     202.001585         3    1\n",
       "17     214.018680         3    1\n",
       "18     226.018982         3    1\n",
       "21     259.503145         3    1\n",
       "22     270.003427         3    1\n",
       "23     283.020404         3    1\n",
       "25     309.504676         3    1\n",
       "26     320.521748         3    1\n",
       "27     330.527450         3    1\n",
       "28     342.526840         3    1\n",
       "29     354.014300         3    1\n",
       "30     368.522827         3    1"
      ]
     },
     "execution_count": 35,
     "metadata": {},
     "output_type": "execute_result"
    }
   ],
   "source": [
    "big_dict['s_02003']['run1']['Pos']['dec']"
   ]
  },
  {
   "cell_type": "code",
   "execution_count": 36,
   "metadata": {},
   "outputs": [
    {
     "data": {
      "text/html": [
       "<div>\n",
       "<table border=\"1\" class=\"dataframe\">\n",
       "  <thead>\n",
       "    <tr style=\"text-align: right;\">\n",
       "      <th></th>\n",
       "      <th>time</th>\n",
       "      <th>duration</th>\n",
       "      <th>val</th>\n",
       "    </tr>\n",
       "    <tr>\n",
       "      <th>Trial</th>\n",
       "      <th></th>\n",
       "      <th></th>\n",
       "      <th></th>\n",
       "    </tr>\n",
       "  </thead>\n",
       "  <tbody>\n",
       "    <tr>\n",
       "      <th>19</th>\n",
       "      <td>235.502518</td>\n",
       "      <td>3</td>\n",
       "      <td>1</td>\n",
       "    </tr>\n",
       "    <tr>\n",
       "      <th>20</th>\n",
       "      <td>246.519496</td>\n",
       "      <td>3</td>\n",
       "      <td>1</td>\n",
       "    </tr>\n",
       "    <tr>\n",
       "      <th>24</th>\n",
       "      <td>293.520712</td>\n",
       "      <td>3</td>\n",
       "      <td>1</td>\n",
       "    </tr>\n",
       "    <tr>\n",
       "      <th>31</th>\n",
       "      <td>383.026768</td>\n",
       "      <td>3</td>\n",
       "      <td>1</td>\n",
       "    </tr>\n",
       "  </tbody>\n",
       "</table>\n",
       "</div>"
      ],
      "text/plain": [
       "             time  duration  val\n",
       "Trial                           \n",
       "19     235.502518         3    1\n",
       "20     246.519496         3    1\n",
       "24     293.520712         3    1\n",
       "31     383.026768         3    1"
      ]
     },
     "execution_count": 36,
     "metadata": {},
     "output_type": "execute_result"
    }
   ],
   "source": [
    "big_dict['s_02003']['run1']['Pos']['dec_ctch_onset']"
   ]
  },
  {
   "cell_type": "markdown",
   "metadata": {},
   "source": [
    "## Save Files"
   ]
  },
  {
   "cell_type": "code",
   "execution_count": 37,
   "metadata": {},
   "outputs": [
    {
     "name": "stdout",
     "output_type": "stream",
     "text": [
      "s_02009\n",
      "run1\n",
      "run3\n",
      "run2\n",
      "run4\n",
      "s_02003\n",
      "run1\n",
      "run3\n",
      "run2\n",
      "run4\n",
      "s_02002\n",
      "run1\n",
      "run3\n",
      "run2\n",
      "run4\n",
      "s_02001\n",
      "run1\n",
      "run3\n",
      "run2\n",
      "run4\n",
      "s_02007\n",
      "run1\n",
      "run3\n",
      "run2\n",
      "run4\n",
      "s_02006\n",
      "run1\n",
      "run3\n",
      "run2\n",
      "run4\n",
      "s_02005\n",
      "run1\n",
      "run3\n",
      "run2\n",
      "run4\n",
      "s_02004\n",
      "run1\n",
      "run3\n",
      "run2\n",
      "run4\n",
      "s_02018\n",
      "run1\n",
      "run3\n",
      "run2\n",
      "run4\n",
      "s_02019\n",
      "run1\n",
      "run3\n",
      "run2\n",
      "run4\n",
      "s_02010\n",
      "run1\n",
      "run3\n",
      "run2\n",
      "run4\n",
      "s_02011\n",
      "run1\n",
      "run3\n",
      "run2\n",
      "run4\n",
      "s_02012\n",
      "run1\n",
      "run3\n",
      "run2\n",
      "run4\n",
      "s_02014\n",
      "run1\n",
      "run3\n",
      "run2\n",
      "run4\n",
      "s_02015\n",
      "run1\n",
      "run3\n",
      "run2\n",
      "run4\n",
      "s_02016\n",
      "run1\n",
      "run3\n",
      "run2\n",
      "run4\n",
      "s_02017\n",
      "run1\n",
      "run3\n",
      "run2\n",
      "run4\n",
      "s_02024\n",
      "run1\n",
      "run3\n",
      "run2\n",
      "run4\n",
      "s_02027\n",
      "run1\n",
      "run3\n",
      "run2\n",
      "run4\n",
      "s_02021\n",
      "run1\n",
      "run3\n",
      "run2\n",
      "run4\n",
      "s_02020\n",
      "run1\n",
      "run3\n",
      "run2\n",
      "run4\n",
      "s_02023\n",
      "run1\n",
      "run3\n",
      "run2\n",
      "run4\n",
      "s_02022\n",
      "run1\n",
      "run3\n",
      "run2\n",
      "run4\n"
     ]
    }
   ],
   "source": [
    "for s in big_dict.keys():\n",
    "    print s\n",
    "    #Laptop\n",
    "    #path = '/Users/frankkanayet/Google Drive/NLineData/Beh_Data/OnsetFiles_LandmarksFull'\n",
    "    #path = '/Users/frankkanayet/Google Drive/NLineData/Beh_Data/OnsetFiles_LandmarksFull/'+s+'/'\n",
    "    #Desktop\n",
    "    #path = '/Users/frankanayet/Google Drive/NLineData/Beh_Data/OnsetFiles_LSS'\n",
    "    #path = '/Users/frankanayet/Google Drive/NLineData/Beh_Data/OnsetFiles_LSS/'+s+'/'\n",
    "    path = '/Users/frankanayet/Google Drive/NLineData/Beh_Data/OnsetFiles_LSS_tasks_'+str(offset)\n",
    "    path = '/Users/frankanayet/Google Drive/NLineData/Beh_Data/OnsetFiles_LSS_tasks_'+str(offset)+'/'+s+'/'\n",
    "    os.makedirs(path)\n",
    "    for r in big_dict[s].keys():\n",
    "        print r\n",
    "        dec_bad_filename = s+'_'+r+'_DEC_BAD'+'.txt'\n",
    "        dec_bad_pathfile = path+dec_bad_filename\n",
    "        big_dict[s][r]['dec_bad_trials'].to_csv(dec_bad_pathfile, sep='\\t', header=False, index=False)\n",
    "        \n",
    "        con_bad_filename = s+'_'+r+'_CON_BAD'+'.txt'\n",
    "        con_bad_pathfile = path+con_bad_filename\n",
    "        big_dict[s][r]['con_bad_trials'].to_csv(con_bad_pathfile, sep='\\t', header=False, index=False)\n",
    "        \n",
    "        del big_dict[s][r]['dec_bad_trials']\n",
    "        del big_dict[s][r]['con_bad_trials']\n",
    "\n",
    "        for  lab in big_dict[s][r].keys():\n",
    "            for ph in big_dict[s][r][lab].keys():\n",
    "                filename = s+'_'+lab+'_'+r+'_'+ph+'.txt'\n",
    "                pathfile = path+filename\n",
    "                big_dict[s][r][lab][ph].to_csv(pathfile, sep='\\t', header=False, index=False)"
   ]
  },
  {
   "cell_type": "code",
   "execution_count": 38,
   "metadata": {},
   "outputs": [],
   "source": [
    "#Save Break onset file\n",
    "#path = '/Users/frankanayet/Google Drive/NLineData/Beh_Data/OnsetFiles_LSS/'\n",
    "path = '/Users/frankanayet/Google Drive/NLineData/Beh_Data/OnsetFiles_LSS_tasks_'+str(offset)\n",
    "#Desktop\n",
    "break_onset = pd.DataFrame.from_items([('time',[206-offset, 404-offset]),('duration',[6,6]),('val',[1,1])])\n",
    "break_filename = 'Break_onsets.txt'\n",
    "break_pathfile = path+'/'+break_filename\n",
    "break_onset.to_csv(break_pathfile, sep='\\t', header=False, index=False)"
   ]
  },
  {
   "cell_type": "code",
   "execution_count": null,
   "metadata": {
    "collapsed": true
   },
   "outputs": [],
   "source": []
  }
 ],
 "metadata": {
  "kernelspec": {
   "display_name": "Python 2",
   "language": "python",
   "name": "python2"
  },
  "language_info": {
   "codemirror_mode": {
    "name": "ipython",
    "version": 2
   },
   "file_extension": ".py",
   "mimetype": "text/x-python",
   "name": "python",
   "nbconvert_exporter": "python",
   "pygments_lexer": "ipython2",
   "version": "2.7.12"
  }
 },
 "nbformat": 4,
 "nbformat_minor": 1
}
