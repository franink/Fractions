{
 "metadata": {
  "name": "",
  "signature": "sha256:3b9cacf60a7d63ad29c18c100af4a88975fdb41450bbec4f9b2672fc2ab2f37a"
 },
 "nbformat": 3,
 "nbformat_minor": 0,
 "worksheets": [
  {
   "cells": [
    {
     "cell_type": "code",
     "collapsed": false,
     "input": [
      "#Opened with --pylab flag\n",
      "#Need to create code to analyze piot data\n",
      "import pandas as pd\n",
      "import numpy as np\n",
      "from scipy import io\n",
      "import os\n",
      "import glob"
     ],
     "language": "python",
     "metadata": {},
     "outputs": [],
     "prompt_number": 1
    },
    {
     "cell_type": "code",
     "collapsed": false,
     "input": [
      "#laptop\n",
      "#filepath = '/Users/frankkanayet/Dropbox/FractionExperiment/Data/Behavioral_Data'\n",
      "#desktop\n",
      "filepath = '/Users/frankanayet/Dropbox/FractionExperiment/Data/Behavioral_Data'\n",
      "os.chdir(filepath)"
     ],
     "language": "python",
     "metadata": {},
     "outputs": [],
     "prompt_number": 2
    },
    {
     "cell_type": "code",
     "collapsed": false,
     "input": [
      "print 'Pandas version ' + pd.__version__"
     ],
     "language": "python",
     "metadata": {},
     "outputs": [
      {
       "output_type": "stream",
       "stream": "stdout",
       "text": [
        "Pandas version 0.15.2\n"
       ]
      }
     ],
     "prompt_number": 3
    },
    {
     "cell_type": "code",
     "collapsed": false,
     "input": [
      "filenames = glob.glob('Frac_*.mat')\n",
      "print filenames\n",
      "#index to isolate subj numbers\n",
      "data_dict = {}\n",
      "for i in filenames:\n",
      "    id1 = filenames[0].find('_') + 1\n",
      "    id2 = filenames[0].find('-')\n",
      "    sub_nbr = i[id1:id2]\n",
      "    sub_name = i\n",
      "    s_id = 's_'+sub_nbr\n",
      "    data_dict[s_id] = io.loadmat(sub_name)\n",
      "\n",
      "#sub_name = filenames[0] #This will be changed to a loop for all subjects later\n",
      "#mat = io.loadmat(sub_name)\n",
      "data_dict.keys()"
     ],
     "language": "python",
     "metadata": {},
     "outputs": [
      {
       "output_type": "stream",
       "stream": "stdout",
       "text": [
        "['Frac_01003-Dec1514a.mat', 'Frac_01004-Dec1514a.mat', 'Frac_01005-Dec1614a.mat', 'Frac_01006-Dec1614a.mat', 'Frac_01007-Dec1714a.mat', 'Frac_01008-Dec1714a.mat', 'Frac_01009-Dec1714a.mat', 'Frac_01010-Dec1814a.mat']\n"
       ]
      },
      {
       "metadata": {},
       "output_type": "pyout",
       "prompt_number": 4,
       "text": [
        "['s_01010',\n",
        " 's_01008',\n",
        " 's_01009',\n",
        " 's_01003',\n",
        " 's_01006',\n",
        " 's_01007',\n",
        " 's_01004',\n",
        " 's_01005']"
       ]
      }
     ],
     "prompt_number": 4
    },
    {
     "cell_type": "code",
     "collapsed": false,
     "input": [
      "for i in data_dict:\n",
      "    data_dict[i].pop('__header__')\n",
      "    data_dict[i].pop('__version__')\n",
      "    data_dict[i].pop('__globals__')\n",
      "data_dict['s_01010'].keys()"
     ],
     "language": "python",
     "metadata": {},
     "outputs": [
      {
       "metadata": {},
       "output_type": "pyout",
       "prompt_number": 5,
       "text": [
        "['p']"
       ]
      }
     ],
     "prompt_number": 5
    },
    {
     "cell_type": "code",
     "collapsed": false,
     "input": [
      "## The indexes of zeros are as follows [0][0][x][y][z][0] The x y z are the 3 dimensions of the data 3d matrix the zeros are padding\n",
      "data_dict['s_01010']['p']['sumResults'][0][0][0][5][0][0]\n",
      "len(data_dict['s_01010']['p']['sumResults'][0][0][:])"
     ],
     "language": "python",
     "metadata": {},
     "outputs": [
      {
       "metadata": {},
       "output_type": "pyout",
       "prompt_number": 6,
       "text": [
        "71"
       ]
      }
     ],
     "prompt_number": 6
    },
    {
     "cell_type": "code",
     "collapsed": false,
     "input": [
      "data_dict['s_01010']['p'].dtype.names"
     ],
     "language": "python",
     "metadata": {},
     "outputs": [
      {
       "metadata": {},
       "output_type": "pyout",
       "prompt_number": 7,
       "text": [
        "('order',\n",
        " 'ramp_up',\n",
        " 'fixation',\n",
        " 'consider',\n",
        " 'decision',\n",
        " 'pct_catch',\n",
        " 'runs',\n",
        " 'nRepeats',\n",
        " 'nStim',\n",
        " 'tasks',\n",
        " 'trialSecs',\n",
        " 'sumResults',\n",
        " 'compResults',\n",
        " 'numlineResults',\n",
        " 'dotsResults',\n",
        " 'time_Runs',\n",
        " 'start_FComp',\n",
        " 'finish_FComp',\n",
        " 'start_sum',\n",
        " 'finish_sum',\n",
        " 'start_NLine',\n",
        " 'finish_NLine',\n",
        " 'start_Dots',\n",
        " 'finish_Dots')"
       ]
      }
     ],
     "prompt_number": 7
    },
    {
     "cell_type": "code",
     "collapsed": false,
     "input": [
      "cons_time = data_dict['s_01010']['p']['consider'][0][0][0][0]\n",
      "dec_time = data_dict['s_01010']['p']['decision'][0][0][0][0]"
     ],
     "language": "python",
     "metadata": {},
     "outputs": [],
     "prompt_number": 8
    },
    {
     "cell_type": "code",
     "collapsed": false,
     "input": [
      "new_dat = {}\n",
      "#new_df = {}\n",
      "for s in data_dict:\n",
      "    tasks = ['sumResults','compResults','numlineResults','dotsResults']\n",
      "    new_dat[s]={}\n",
      "    #new_df[s] = {}\n",
      "    for task in tasks:\n",
      "        dat = data_dict[s]['p'][task]\n",
      "        num_fields = len(data_dict[s]['p'][task][0][0][0])\n",
      "        dat_names = []\n",
      "        for k in range(0,num_fields):\n",
      "            dat_names.append(dat[0][0][0][k][0][0])\n",
      "        new_dat[s][task] = {}\n",
      "        runs = data_dict[s]['p']['runs'][0][0][0][0]\n",
      "        for run in range(0,runs):\n",
      "            run_name = 'Run_'+str(run)\n",
      "            new_dat[s][task][run_name] = {}\n",
      "            for i in range(0,len(dat_names)):\n",
      "                new_dat[s][task][run_name][dat_names[i]] = []\n",
      "                for j in range(0,len(dat[0][0][:])-1):\n",
      "                    new_dat[s][task][run_name][dat_names[i]].append(dat[0][0][j+1][i][run][0])\n",
      "#legible access to the data\n",
      "Sum = 'sumResults' #Match task\n",
      "Comp = 'compResults' #Fraction comparison\n",
      "Nline = 'numlineResults' #numberline\n",
      "Dots = 'dotsResults' #Dots"
     ],
     "language": "python",
     "metadata": {},
     "outputs": [],
     "prompt_number": 9
    },
    {
     "cell_type": "code",
     "collapsed": false,
     "input": [
      "new_dat['s_01007'].keys()"
     ],
     "language": "python",
     "metadata": {},
     "outputs": [
      {
       "metadata": {},
       "output_type": "pyout",
       "prompt_number": 10,
       "text": [
        "['sumResults', 'numlineResults', 'compResults', 'dotsResults']"
       ]
      }
     ],
     "prompt_number": 10
    },
    {
     "cell_type": "code",
     "collapsed": false,
     "input": [
      "new_dat['s_01007'][Dots].keys()"
     ],
     "language": "python",
     "metadata": {},
     "outputs": [
      {
       "metadata": {},
       "output_type": "pyout",
       "prompt_number": 11,
       "text": [
        "['Run_1', 'Run_0']"
       ]
      }
     ],
     "prompt_number": 11
    },
    {
     "cell_type": "code",
     "collapsed": false,
     "input": [
      "new_dat['s_01010'][Sum]['Run_0'].keys()"
     ],
     "language": "python",
     "metadata": {},
     "outputs": [
      {
       "metadata": {},
       "output_type": "pyout",
       "prompt_number": 12,
       "text": [
        "[u'RT',\n",
        " u'Acc',\n",
        " u'decision_end',\n",
        " u'cons_onset',\n",
        " u'decision_onset_real',\n",
        " u'fix_onset',\n",
        " u'Points',\n",
        " u'cons_onset_real',\n",
        " u'Sum_Fraction',\n",
        " u'Response',\n",
        " u'Trial',\n",
        " u'Sum_Probe',\n",
        " u'decision_onset',\n",
        " u'Value',\n",
        " u'Denom',\n",
        " u'catch',\n",
        " u'Num',\n",
        " u'Correct',\n",
        " u'Block',\n",
        " u'fix_onset_real']"
       ]
      }
     ],
     "prompt_number": 12
    },
    {
     "cell_type": "code",
     "collapsed": false,
     "input": [
      "subj = data_dict.keys()\n",
      "tasks = [Sum, Comp, Nline, Dots]\n",
      "runs = new_dat['s_01010']['sumResults'].keys()\n",
      "tuples = []\n",
      "rows = len(data_dict['s_01010']['p'][Sum][0][0][:])-1\n",
      "for s in subj:\n",
      "    for run in runs:\n",
      "        for i in range(0,rows):\n",
      "            tuples.append((s, run, i))\n",
      "len(tuples)\n",
      "#iterables = [subj,tasks,runs]\n",
      "indexes = pd.MultiIndex.from_tuples(tuples, names=['Subj', 'Run', 'Trial'])\n",
      "sum_cols = len(new_dat['s_01010'][Sum]['Run_0'].keys())\n",
      "comp_cols = len(new_dat['s_01010'][Comp]['Run_0'].keys())\n",
      "nline_cols = len(new_dat['s_01010'][Nline]['Run_0'].keys())\n",
      "dots_cols = len(new_dat['s_01010'][Dots]['Run_0'].keys())"
     ],
     "language": "python",
     "metadata": {},
     "outputs": [],
     "prompt_number": 13
    },
    {
     "cell_type": "code",
     "collapsed": false,
     "input": [
      "indexes[720]"
     ],
     "language": "python",
     "metadata": {},
     "outputs": [
      {
       "metadata": {},
       "output_type": "pyout",
       "prompt_number": 14,
       "text": [
        "('s_01007', 'Run_1', 20)"
       ]
      }
     ],
     "prompt_number": 14
    },
    {
     "cell_type": "code",
     "collapsed": false,
     "input": [
      "indexes[1][1]"
     ],
     "language": "python",
     "metadata": {},
     "outputs": [
      {
       "metadata": {},
       "output_type": "pyout",
       "prompt_number": 15,
       "text": [
        "'Run_1'"
       ]
      }
     ],
     "prompt_number": 15
    },
    {
     "cell_type": "code",
     "collapsed": false,
     "input": [
      "new_dat[indexes[720][0]][Dots][indexes[720][1]]['Acc'][indexes[720][2]]"
     ],
     "language": "python",
     "metadata": {},
     "outputs": [
      {
       "metadata": {},
       "output_type": "pyout",
       "prompt_number": 16,
       "text": [
        "array([], dtype=float64)"
       ]
      }
     ],
     "prompt_number": 16
    },
    {
     "cell_type": "code",
     "collapsed": false,
     "input": [
      "new_dat[indexes[0][0]][Sum][indexes[0][1]]['Acc'][69][0]"
     ],
     "language": "python",
     "metadata": {},
     "outputs": [
      {
       "metadata": {},
       "output_type": "pyout",
       "prompt_number": 17,
       "text": [
        "-1"
       ]
      }
     ],
     "prompt_number": 17
    },
    {
     "cell_type": "code",
     "collapsed": false,
     "input": [
      "varnames = new_dat['s_01010'][Sum]['Run_0'].keys()\n",
      "varnames[0]"
     ],
     "language": "python",
     "metadata": {},
     "outputs": [
      {
       "metadata": {},
       "output_type": "pyout",
       "prompt_number": 18,
       "text": [
        "u'RT'"
       ]
      }
     ],
     "prompt_number": 18
    },
    {
     "cell_type": "code",
     "collapsed": false,
     "input": [
      "len(indexes)"
     ],
     "language": "python",
     "metadata": {},
     "outputs": [
      {
       "metadata": {},
       "output_type": "pyout",
       "prompt_number": 19,
       "text": [
        "1120"
       ]
      }
     ],
     "prompt_number": 19
    },
    {
     "cell_type": "code",
     "collapsed": false,
     "input": [
      "#First for sum\n",
      "Dic_list = []\n",
      "for data in indexes:\n",
      "    temp_dict = {}\n",
      "    for var in varnames:\n",
      "        if len(new_dat.get(data[0]).get(Sum).get(data[1]).get(var)[data[2]]) == 0:\n",
      "            new_dat.get(data[0]).get(Sum).get(data[1]).get(var)[data[2]] = np.array([np.nan])\n",
      "        temp_dict[var] = new_dat.get(data[0]).get(Sum).get(data[1]).get(var)[data[2]][0]\n",
      "    Dic_list.append(temp_dict)"
     ],
     "language": "python",
     "metadata": {},
     "outputs": [],
     "prompt_number": 20
    },
    {
     "cell_type": "code",
     "collapsed": false,
     "input": [
      "#Create dataframe\n",
      "sum_df = pd.DataFrame(Dic_list, index=indexes)\n",
      "sum(sum_df.loc['s_01010'].loc['Run_0'].iloc[0:10]['Acc'])"
     ],
     "language": "python",
     "metadata": {},
     "outputs": [
      {
       "metadata": {},
       "output_type": "pyout",
       "prompt_number": 21,
       "text": [
        "-6.0"
       ]
      }
     ],
     "prompt_number": 21
    },
    {
     "cell_type": "code",
     "collapsed": false,
     "input": [
      "sum_df.loc['s_01010'].loc['Run_0'].iloc[0:10]['Acc']"
     ],
     "language": "python",
     "metadata": {},
     "outputs": [
      {
       "metadata": {},
       "output_type": "pyout",
       "prompt_number": 22,
       "text": [
        "Trial\n",
        "0        1\n",
        "1       -1\n",
        "2       -1\n",
        "3       -1\n",
        "4       -1\n",
        "5       -1\n",
        "6       -1\n",
        "7       -1\n",
        "8       -1\n",
        "9        1\n",
        "Name: Acc, dtype: float64"
       ]
      }
     ],
     "prompt_number": 22
    },
    {
     "cell_type": "code",
     "collapsed": false,
     "input": [
      "#Now for Comp\n",
      "varnames = new_dat['s_01010'][Comp]['Run_0'].keys()\n",
      "Dic_list = []\n",
      "for data in indexes:\n",
      "    temp_dict = {}\n",
      "    for var in varnames:\n",
      "        if len(new_dat.get(data[0]).get(Comp).get(data[1]).get(var)[data[2]]) == 0:\n",
      "            new_dat.get(data[0]).get(Comp).get(data[1]).get(var)[data[2]] = np.array([np.nan])\n",
      "        temp_dict[var] = new_dat.get(data[0]).get(Comp).get(data[1]).get(var)[data[2]][0]\n",
      "    Dic_list.append(temp_dict)\n",
      "comp_df = pd.DataFrame(Dic_list, index=indexes)"
     ],
     "language": "python",
     "metadata": {},
     "outputs": [],
     "prompt_number": 23
    },
    {
     "cell_type": "code",
     "collapsed": false,
     "input": [
      "#Now for Nline\n",
      "varnames = new_dat['s_01010'][Nline]['Run_0'].keys()\n",
      "Dic_list = []\n",
      "for data in indexes:\n",
      "    temp_dict = {}\n",
      "    for var in varnames:\n",
      "        if len(new_dat.get(data[0]).get(Nline).get(data[1]).get(var)[data[2]]) == 0:\n",
      "            new_dat.get(data[0]).get(Nline).get(data[1]).get(var)[data[2]] = np.array([np.nan])\n",
      "        temp_dict[var] = new_dat.get(data[0]).get(Nline).get(data[1]).get(var)[data[2]][0]\n",
      "    Dic_list.append(temp_dict)\n",
      "nline_df = pd.DataFrame(Dic_list, index=indexes)"
     ],
     "language": "python",
     "metadata": {},
     "outputs": [],
     "prompt_number": 24
    },
    {
     "cell_type": "code",
     "collapsed": false,
     "input": [
      "#Now for dots\n",
      "varnames = new_dat['s_01010'][Dots]['Run_0'].keys()\n",
      "Dic_list = []\n",
      "for data in indexes:\n",
      "    temp_dict = {}\n",
      "    for var in varnames:\n",
      "        if len(new_dat.get(data[0]).get(Dots).get(data[1]).get(var)[data[2]]) == 0:\n",
      "            new_dat.get(data[0]).get(Dots).get(data[1]).get(var)[data[2]] = np.array([np.nan])\n",
      "        temp_dict[var] = new_dat.get(data[0]).get(Dots).get(data[1]).get(var)[data[2]][0]\n",
      "    Dic_list.append(temp_dict)\n",
      "dots_df = pd.DataFrame(Dic_list, index=indexes)"
     ],
     "language": "python",
     "metadata": {},
     "outputs": [],
     "prompt_number": 25
    },
    {
     "cell_type": "code",
     "collapsed": false,
     "input": [
      "sum_df.index.names = ['Subject', 'Run', 'Trial']\n",
      "comp_df.index.names = ['Subject', 'Run', 'Trial']\n",
      "nline_df.index.names = ['Subject', 'Run', 'Trial']\n",
      "dots_df.index.names = ['Subject', 'Run', 'Trial']\n",
      "sum_df.index.names"
     ],
     "language": "python",
     "metadata": {},
     "outputs": [
      {
       "metadata": {},
       "output_type": "pyout",
       "prompt_number": 26,
       "text": [
        "FrozenList([u'Subject', u'Run', u'Trial'])"
       ]
      }
     ],
     "prompt_number": 26
    },
    {
     "cell_type": "code",
     "collapsed": false,
     "input": [
      "dots_df.loc['s_01010']['Num']"
     ],
     "language": "python",
     "metadata": {},
     "outputs": [
      {
       "metadata": {},
       "output_type": "pyout",
       "prompt_number": 27,
       "text": [
        "Run    Trial\n",
        "Run_1  0         2\n",
        "       1         7\n",
        "       2         5\n",
        "       3         3\n",
        "       4         4\n",
        "       5         9\n",
        "       6         2\n",
        "       7        15\n",
        "       8         2\n",
        "       9         1\n",
        "       10       12\n",
        "       11        6\n",
        "       12        6\n",
        "       13        5\n",
        "       14        5\n",
        "...\n",
        "Run_0  55        2\n",
        "       56        5\n",
        "       57        6\n",
        "       58        3\n",
        "       59        4\n",
        "       60        6\n",
        "       61        2\n",
        "       62        5\n",
        "       63        1\n",
        "       64       12\n",
        "       65        7\n",
        "       66       15\n",
        "       67        2\n",
        "       68        2\n",
        "       69        9\n",
        "Name: Num, Length: 140, dtype: float64"
       ]
      }
     ],
     "prompt_number": 27
    },
    {
     "cell_type": "heading",
     "level": 3,
     "metadata": {},
     "source": [
      "Create Stim Labels"
     ]
    },
    {
     "cell_type": "code",
     "collapsed": false,
     "input": [
      "import copy\n",
      "test = copy.deepcopy(sum_df)\n",
      "test['Denom'] = test['Denom'].map('{:.0f}'.format)\n",
      "test['Num'] = test['Num'].map('{:.0f}'.format)\n",
      "test['Stim'] = test['Num']+'/'+test['Denom']\n",
      "test['Stim']"
     ],
     "language": "python",
     "metadata": {},
     "outputs": [
      {
       "metadata": {},
       "output_type": "pyout",
       "prompt_number": 28,
       "text": [
        "Subject  Run    Trial\n",
        "s_01010  Run_1  0        15/21\n",
        "                1          7/8\n",
        "                2         4/16\n",
        "                3          2/9\n",
        "                4          3/4\n",
        "                5          2/6\n",
        "                6          6/9\n",
        "                7        12/22\n",
        "                8         9/27\n",
        "                9         5/21\n",
        "                10        6/24\n",
        "                11         5/7\n",
        "                12         1/6\n",
        "                13         2/3\n",
        "                14         2/6\n",
        "...\n",
        "s_01005  Run_0  55         6/9\n",
        "                56         2/6\n",
        "                57       15/21\n",
        "                58        6/24\n",
        "                59         7/8\n",
        "                60         1/6\n",
        "                61         5/7\n",
        "                62         3/4\n",
        "                63        9/27\n",
        "                64        5/21\n",
        "                65         2/9\n",
        "                66         2/3\n",
        "                67       12/22\n",
        "                68        4/16\n",
        "                69         6/9\n",
        "Name: Stim, Length: 1120, dtype: object"
       ]
      }
     ],
     "prompt_number": 28
    },
    {
     "cell_type": "code",
     "collapsed": false,
     "input": [
      "#first sum\n",
      "sum_df['Num'] = sum_df['Num'].map('{:.0f}'.format)\n",
      "sum_df['Denom'] = sum_df['Denom'].map('{:.0f}'.format)\n",
      "sum_df['Stim'] = sum_df['Num']+'-'+sum_df['Denom']\n",
      "#sum_df.loc['s_01010'].loc['Run_1'].loc[2]\n",
      "sum_df['Stim']"
     ],
     "language": "python",
     "metadata": {},
     "outputs": [
      {
       "metadata": {},
       "output_type": "pyout",
       "prompt_number": 29,
       "text": [
        "Subject  Run    Trial\n",
        "s_01010  Run_1  0        15-21\n",
        "                1          7-8\n",
        "                2         4-16\n",
        "                3          2-9\n",
        "                4          3-4\n",
        "                5          2-6\n",
        "                6          6-9\n",
        "                7        12-22\n",
        "                8         9-27\n",
        "                9         5-21\n",
        "                10        6-24\n",
        "                11         5-7\n",
        "                12         1-6\n",
        "                13         2-3\n",
        "                14         2-6\n",
        "...\n",
        "s_01005  Run_0  55         6-9\n",
        "                56         2-6\n",
        "                57       15-21\n",
        "                58        6-24\n",
        "                59         7-8\n",
        "                60         1-6\n",
        "                61         5-7\n",
        "                62         3-4\n",
        "                63        9-27\n",
        "                64        5-21\n",
        "                65         2-9\n",
        "                66         2-3\n",
        "                67       12-22\n",
        "                68        4-16\n",
        "                69         6-9\n",
        "Name: Stim, Length: 1120, dtype: object"
       ]
      }
     ],
     "prompt_number": 29
    },
    {
     "cell_type": "code",
     "collapsed": false,
     "input": [
      "#now comp\n",
      "comp_df['Num'] = comp_df['Num'].map('{:.0f}'.format)\n",
      "comp_df['Denom'] = comp_df['Denom'].map('{:.0f}'.format)\n",
      "comp_df['Stim'] = comp_df['Num']+'-'+comp_df['Denom']\n",
      "comp_df['Stim']"
     ],
     "language": "python",
     "metadata": {},
     "outputs": [
      {
       "metadata": {},
       "output_type": "pyout",
       "prompt_number": 30,
       "text": [
        "Subject  Run    Trial\n",
        "s_01010  Run_1  0         4-16\n",
        "                1          7-8\n",
        "                2         9-27\n",
        "                3          2-3\n",
        "                4          2-9\n",
        "                5         5-21\n",
        "                6        12-22\n",
        "                7          2-6\n",
        "                8          6-9\n",
        "                9          5-7\n",
        "                10         1-6\n",
        "                11        6-24\n",
        "                12       15-21\n",
        "                13         3-4\n",
        "                14         6-9\n",
        "...\n",
        "s_01005  Run_0  55         2-3\n",
        "                56       12-22\n",
        "                57         1-6\n",
        "                58         2-3\n",
        "                59         5-7\n",
        "                60         2-9\n",
        "                61        6-24\n",
        "                62         7-8\n",
        "                63        5-21\n",
        "                64        4-16\n",
        "                65        9-27\n",
        "                66       15-21\n",
        "                67         6-9\n",
        "                68         3-4\n",
        "                69         2-6\n",
        "Name: Stim, Length: 1120, dtype: object"
       ]
      }
     ],
     "prompt_number": 30
    },
    {
     "cell_type": "code",
     "collapsed": false,
     "input": [
      "#now nline\n",
      "nline_df['Num'] = nline_df['Num'].map('{:.0f}'.format)\n",
      "nline_df['Denom'] = nline_df['Denom'].map('{:.0f}'.format)\n",
      "nline_df['Stim'] = nline_df['Num']+'-'+nline_df['Denom']\n",
      "nline_df['Stim']"
     ],
     "language": "python",
     "metadata": {},
     "outputs": [
      {
       "metadata": {},
       "output_type": "pyout",
       "prompt_number": 31,
       "text": [
        "Subject  Run    Trial\n",
        "s_01010  Run_1  0          3-4\n",
        "                1          2-9\n",
        "                2          2-6\n",
        "                3        12-22\n",
        "                4          1-6\n",
        "                5         6-24\n",
        "                6         9-27\n",
        "                7          2-3\n",
        "                8          6-9\n",
        "                9          7-8\n",
        "                10        5-21\n",
        "                11         5-7\n",
        "                12        4-16\n",
        "                13       15-21\n",
        "                14       15-21\n",
        "...\n",
        "s_01005  Run_0  55        6-24\n",
        "                56         3-4\n",
        "                57         2-6\n",
        "                58        6-24\n",
        "                59        4-16\n",
        "                60         1-6\n",
        "                61         5-7\n",
        "                62        9-27\n",
        "                63         7-8\n",
        "                64       12-22\n",
        "                65        5-21\n",
        "                66         2-3\n",
        "                67         2-9\n",
        "                68         6-9\n",
        "                69       15-21\n",
        "Name: Stim, Length: 1120, dtype: object"
       ]
      }
     ],
     "prompt_number": 31
    },
    {
     "cell_type": "code",
     "collapsed": false,
     "input": [
      "#now dots\n",
      "dots_df['Num'] = dots_df['Num'].map('{:.0f}'.format)\n",
      "dots_df['Denom'] = dots_df['Denom'].map('{:.0f}'.format)\n",
      "dots_df['Stim'] = dots_df['Num']+'-'+dots_df['Denom']\n",
      "dots_df['Stim']"
     ],
     "language": "python",
     "metadata": {},
     "outputs": [
      {
       "metadata": {},
       "output_type": "pyout",
       "prompt_number": 32,
       "text": [
        "Subject  Run    Trial\n",
        "s_01010  Run_1  0          2-9\n",
        "                1          7-8\n",
        "                2          5-7\n",
        "                3          3-4\n",
        "                4         4-16\n",
        "                5         9-27\n",
        "                6          2-3\n",
        "                7        15-21\n",
        "                8          2-6\n",
        "                9          1-6\n",
        "                10       12-22\n",
        "                11        6-24\n",
        "                12         6-9\n",
        "                13        5-21\n",
        "                14        5-21\n",
        "...\n",
        "s_01005  Run_0  55       12-22\n",
        "                56         2-9\n",
        "                57         7-8\n",
        "                58        6-24\n",
        "                59        4-16\n",
        "                60        5-21\n",
        "                61         5-7\n",
        "                62         6-9\n",
        "                63       12-22\n",
        "                64        9-27\n",
        "                65       15-21\n",
        "                66         2-3\n",
        "                67         3-4\n",
        "                68         2-6\n",
        "                69         1-6\n",
        "Name: Stim, Length: 1120, dtype: object"
       ]
      }
     ],
     "prompt_number": 32
    },
    {
     "cell_type": "heading",
     "level": 1,
     "metadata": {},
     "source": [
      "Create Onset Files"
     ]
    },
    {
     "cell_type": "heading",
     "level": 2,
     "metadata": {},
     "source": [
      "SUM"
     ]
    },
    {
     "cell_type": "code",
     "collapsed": false,
     "input": [
      "import string\n",
      "stims = sum_df.groupby('Stim')\n",
      "labels = stims.indices.keys()\n",
      "ind = labels.index('nan-nan')\n",
      "del labels[ind]\n",
      "sum_cons_ctch_onset = {}\n",
      "sum_cons_nctch_onset = {}\n",
      "sum_dec_onset = {}\n",
      "for s in sum_df.index.levels[0]:\n",
      "    print s\n",
      "    sum_cons_ctch_onset[s] = {}\n",
      "    sum_cons_nctch_onset[s] = {}\n",
      "    sum_dec_onset[s] = {}\n",
      "    for r in sum_df.index.levels[1]:\n",
      "        #print r\n",
      "        ctch = sum_df.loc[s].loc[r]['catch']\n",
      "        dec_tmp = sum_df.loc[s].loc[r]['decision_onset']-16\n",
      "        dec_tmp = dec_tmp[ctch==1]\n",
      "        sum_dec_onset[s][r] = pd.DataFrame.from_items([('time', dec_tmp[dec_tmp>=0]),('duration',dec_time),('val','1')])\n",
      "        cons_tmp = sum_df.loc[s].loc[r]['cons_onset']-16\n",
      "        cons_tmp_ctch = cons_tmp[ctch==1]\n",
      "        cons_tmp_nctch = cons_tmp[ctch==0]\n",
      "        sum_cons_ctch_onset[s][r] = pd.DataFrame.from_items([('time', cons_tmp_ctch[cons_tmp_ctch>=0]),('duration',cons_time),('val','1')])\n",
      "        sum_cons_nctch_onset[s][r] = pd.DataFrame.from_items([('time', cons_tmp_nctch[cons_tmp_nctch>=0]),('duration',cons_time),('val','1')])\n",
      "            #cons_onset[s][r][lab].append(cons_tmp[cons_tmp>=0])\n",
      "            #cons_onset[s][r][lab].append(cons_time)\n",
      "            #cons_onset[s][r][lab].append(1)\n",
      "            #dec_tmp = sum_df.loc[s].loc[r]['decision_onset']-16\n",
      "            #dec_tmp = dec_tmp[ctch==1]\n",
      "            #dec_tmp = dec_tmp[stim==lab]\n",
      "            #dec_onset[s][r][lab] = pd.DataFrame.from_items([('time', dec_tmp[dec_tmp>=0]),('duration',dec_time),('val','1')])\n",
      "            #dec_onset[s][r][lab].append(dec_tmp[dec_tmp>=0])\n",
      "            #dec_onset[s][r][lab].append(dec_time)\n",
      "            #dec_onset[s][r][lab].append(1)"
     ],
     "language": "python",
     "metadata": {},
     "outputs": [
      {
       "output_type": "stream",
       "stream": "stdout",
       "text": [
        "s_01003\n",
        "s_01004\n",
        "s_01005\n",
        "s_01006\n",
        "s_01007"
       ]
      },
      {
       "output_type": "stream",
       "stream": "stdout",
       "text": [
        "\n",
        "s_01008\n",
        "s_01009\n",
        "s_01010\n"
       ]
      }
     ],
     "prompt_number": 33
    },
    {
     "cell_type": "heading",
     "level": 2,
     "metadata": {},
     "source": [
      "Comp"
     ]
    },
    {
     "cell_type": "code",
     "collapsed": false,
     "input": [
      "stims = comp_df.groupby('Stim')\n",
      "labels = stims.indices.keys()\n",
      "#ind = labels.index('nan-nan')\n",
      "#del labels[ind]\n",
      "comp_cons_ctch_onset = {}\n",
      "comp_cons_nctch_onset = {}\n",
      "comp_dec_onset = {}\n",
      "for s in comp_df.index.levels[0]:\n",
      "    print s\n",
      "    comp_cons_ctch_onset[s] = {}\n",
      "    comp_cons_nctch_onset[s] = {}\n",
      "    comp_dec_onset[s] = {}\n",
      "    for r in comp_df.index.levels[1]:\n",
      "        #print r\n",
      "        ctch = comp_df.loc[s].loc[r]['catch']\n",
      "        dec_tmp = comp_df.loc[s].loc[r]['decision_onset']-16\n",
      "        dec_tmp = dec_tmp[ctch==1]\n",
      "        comp_dec_onset[s][r] = pd.DataFrame.from_items([('time', dec_tmp[dec_tmp>=0]),('duration',dec_time),('val','1')])\n",
      "        cons_tmp = comp_df.loc[s].loc[r]['cons_onset']-16\n",
      "        cons_tmp_ctch = cons_tmp[ctch==1]\n",
      "        cons_tmp_nctch = cons_tmp[ctch==0]\n",
      "        comp_cons_ctch_onset[s][r] = pd.DataFrame.from_items([('time', cons_tmp_ctch[cons_tmp_ctch>=0]),('duration',cons_time),('val','1')])\n",
      "        comp_cons_nctch_onset[s][r] = pd.DataFrame.from_items([('time', cons_tmp_nctch[cons_tmp_nctch>=0]),('duration',cons_time),('val','1')])\n",
      "            #cons_onset[s][r][lab].append(cons_tmp[cons_tmp>=0])\n",
      "            #cons_onset[s][r][lab].append(cons_time)\n",
      "            #cons_onset[s][r][lab].append(1)\n",
      "            #dec_tmp = sum_df.loc[s].loc[r]['decision_onset']-16\n",
      "            #dec_tmp = dec_tmp[ctch==1]\n",
      "            #dec_tmp = dec_tmp[stim==lab]\n",
      "            #dec_onset[s][r][lab] = pd.DataFrame.from_items([('time', dec_tmp[dec_tmp>=0]),('duration',dec_time),('val','1')])\n",
      "            #dec_onset[s][r][lab].append(dec_tmp[dec_tmp>=0])\n",
      "            #dec_onset[s][r][lab].append(dec_time)\n",
      "            #dec_onset[s][r][lab].append(1)"
     ],
     "language": "python",
     "metadata": {},
     "outputs": [
      {
       "output_type": "stream",
       "stream": "stdout",
       "text": [
        "s_01003\n",
        "s_01004\n",
        "s_01005\n",
        "s_01006\n",
        "s_01007"
       ]
      },
      {
       "output_type": "stream",
       "stream": "stdout",
       "text": [
        "\n",
        "s_01008\n",
        "s_01009\n",
        "s_01010\n"
       ]
      }
     ],
     "prompt_number": 34
    },
    {
     "cell_type": "heading",
     "level": 2,
     "metadata": {},
     "source": [
      "Nline"
     ]
    },
    {
     "cell_type": "code",
     "collapsed": false,
     "input": [
      "stims = nline_df.groupby('Stim')\n",
      "labels = stims.indices.keys()\n",
      "ind = labels.index('nan-nan')\n",
      "del labels[ind]\n",
      "nline_cons_ctch_onset = {}\n",
      "nline_cons_nctch_onset = {}\n",
      "nline_dec_onset = {}\n",
      "for s in nline_df.index.levels[0]:\n",
      "    print s\n",
      "    nline_cons_ctch_onset[s] = {}\n",
      "    nline_cons_nctch_onset[s] = {}\n",
      "    nline_dec_onset[s] = {}\n",
      "    for r in nline_df.index.levels[1]:\n",
      "        #print r\n",
      "        ctch = nline_df.loc[s].loc[r]['catch']\n",
      "        dec_tmp = nline_df.loc[s].loc[r]['decision_onset']-16\n",
      "        dec_tmp = dec_tmp[ctch==1]\n",
      "        nline_dec_onset[s][r] = pd.DataFrame.from_items([('time', dec_tmp[dec_tmp>=0]),('duration',dec_time),('val','1')])\n",
      "        cons_tmp = nline_df.loc[s].loc[r]['cons_onset']-16\n",
      "        cons_tmp_ctch = cons_tmp[ctch==1]\n",
      "        cons_tmp_nctch = cons_tmp[ctch==0]\n",
      "        nline_cons_ctch_onset[s][r] = pd.DataFrame.from_items([('time', cons_tmp_ctch[cons_tmp_ctch>=0]),('duration',cons_time),('val','1')])\n",
      "        nline_cons_nctch_onset[s][r] = pd.DataFrame.from_items([('time', cons_tmp_nctch[cons_tmp_nctch>=0]),('duration',cons_time),('val','1')])\n",
      "            #cons_onset[s][r][lab].append(cons_tmp[cons_tmp>=0])\n",
      "            #cons_onset[s][r][lab].append(cons_time)\n",
      "            #cons_onset[s][r][lab].append(1)\n",
      "            #dec_tmp = sum_df.loc[s].loc[r]['decision_onset']-16\n",
      "            #dec_tmp = dec_tmp[ctch==1]\n",
      "            #dec_tmp = dec_tmp[stim==lab]\n",
      "            #dec_onset[s][r][lab] = pd.DataFrame.from_items([('time', dec_tmp[dec_tmp>=0]),('duration',dec_time),('val','1')])\n",
      "            #dec_onset[s][r][lab].append(dec_tmp[dec_tmp>=0])\n",
      "            #dec_onset[s][r][lab].append(dec_time)\n",
      "            #dec_onset[s][r][lab].append(1)"
     ],
     "language": "python",
     "metadata": {},
     "outputs": [
      {
       "output_type": "stream",
       "stream": "stdout",
       "text": [
        "s_01003\n",
        "s_01004\n",
        "s_01005\n",
        "s_01006\n",
        "s_01007"
       ]
      },
      {
       "output_type": "stream",
       "stream": "stdout",
       "text": [
        "\n",
        "s_01008\n",
        "s_01009\n",
        "s_01010\n"
       ]
      }
     ],
     "prompt_number": 35
    },
    {
     "cell_type": "heading",
     "level": 2,
     "metadata": {},
     "source": [
      "Dots"
     ]
    },
    {
     "cell_type": "code",
     "collapsed": false,
     "input": [
      "stims = dots_df.groupby('Stim')\n",
      "labels = stims.indices.keys()\n",
      "ind = labels.index('nan-nan')\n",
      "del labels[ind]\n",
      "dots_cons_ctch_onset = {}\n",
      "dots_cons_nctch_onset = {}\n",
      "dots_dec_onset = {}\n",
      "for s in dots_df.index.levels[0]:\n",
      "    print s\n",
      "    dots_cons_ctch_onset[s] = {}\n",
      "    dots_cons_nctch_onset[s] = {}\n",
      "    dots_dec_onset[s] = {}\n",
      "    for r in dots_df.index.levels[1]:\n",
      "        #print r\n",
      "        ctch = dots_df.loc[s].loc[r]['catch']\n",
      "        dec_tmp = dots_df.loc[s].loc[r]['decision_onset']-16\n",
      "        dec_tmp = dec_tmp[ctch==1]\n",
      "        dots_dec_onset[s][r] = pd.DataFrame.from_items([('time', dec_tmp[dec_tmp>=0]),('duration',dec_time),('val','1')])\n",
      "        cons_tmp = dots_df.loc[s].loc[r]['cons_onset']-16\n",
      "        cons_tmp_ctch = cons_tmp[ctch==1]\n",
      "        cons_tmp_nctch = cons_tmp[ctch==0]\n",
      "        dots_cons_ctch_onset[s][r] = pd.DataFrame.from_items([('time', cons_tmp_ctch[cons_tmp_ctch>=0]),('duration',cons_time),('val','1')])\n",
      "        dots_cons_nctch_onset[s][r] = pd.DataFrame.from_items([('time', cons_tmp_nctch[cons_tmp_nctch>=0]),('duration',cons_time),('val','1')])\n",
      "            #cons_onset[s][r][lab].append(cons_tmp[cons_tmp>=0])\n",
      "            #cons_onset[s][r][lab].append(cons_time)\n",
      "            #cons_onset[s][r][lab].append(1)\n",
      "            #dec_tmp = sum_df.loc[s].loc[r]['decision_onset']-16\n",
      "            #dec_tmp = dec_tmp[ctch==1]\n",
      "            #dec_tmp = dec_tmp[stim==lab]\n",
      "            #dec_onset[s][r][lab] = pd.DataFrame.from_items([('time', dec_tmp[dec_tmp>=0]),('duration',dec_time),('val','1')])\n",
      "            #dec_onset[s][r][lab].append(dec_tmp[dec_tmp>=0])\n",
      "            #dec_onset[s][r][lab].append(dec_time)\n",
      "            #dec_onset[s][r][lab].append(1)"
     ],
     "language": "python",
     "metadata": {},
     "outputs": [
      {
       "output_type": "stream",
       "stream": "stdout",
       "text": [
        "s_01003\n",
        "s_01004\n",
        "s_01005\n",
        "s_01006\n",
        "s_01007"
       ]
      },
      {
       "output_type": "stream",
       "stream": "stdout",
       "text": [
        "\n",
        "s_01008\n",
        "s_01009\n",
        "s_01010\n"
       ]
      }
     ],
     "prompt_number": 36
    },
    {
     "cell_type": "heading",
     "level": 3,
     "metadata": {},
     "source": [
      "Save files"
     ]
    },
    {
     "cell_type": "code",
     "collapsed": false,
     "input": [
      "#path = '/Users/frankkanayet/Dropbox/FractionExperiment/Data/Behavioral_Data/OnsetFiles'\n",
      "#os.makedirs(path)\n",
      "tasks = {'Sum':[sum_cons_ctch_onset, sum_cons_nctch_onset, sum_dec_onset],\n",
      "         'Comp':[comp_cons_ctch_onset, comp_cons_nctch_onset, comp_dec_onset],\n",
      "         'Nline':[nline_cons_ctch_onset, nline_cons_nctch_onset, nline_dec_onset,],\n",
      "         'Dots':[dots_cons_ctch_onset, dots_cons_nctch_onset, dots_dec_onset]}\n",
      "for s in sum_dec_onset.keys():\n",
      "    print s\n",
      "    #laptop\n",
      "    #path = '/Users/frankkanayet/Dropbox/FractionExperiment/Data/Behavioral_Data/StimTogetherOnsetFiles'\n",
      "    #path = '/Users/frankkanayet/Dropbox/FractionExperiment/Data/Behavioral_Data/StimTogetherOnsetFiles/'+s+'/'\n",
      "    #desktop\n",
      "    path = '/Users/frankanayet/Dropbox/FractionExperiment/Data/Behavioral_Data/StimTogetherNCatchOnsetFiles'\n",
      "    path = '/Users/frankanayet/Dropbox/FractionExperiment/Data/Behavioral_Data/StimTogetherNCatchOnsetFiles/'+s+'/'\n",
      "    os.makedirs(path)\n",
      "    for r in sum_dec_onset[s].keys():\n",
      "        print r\n",
      "        for task in tasks.keys():\n",
      "            print task\n",
      "            dec_filename = s+'_'+task+'_'+r+'_DEC'+'.txt'\n",
      "            dec_pathfile = path+dec_filename\n",
      "            tasks[task][2][s][r].to_csv(dec_pathfile, sep='\\t', header=False, index=False)\n",
      "            cons_ctch_filename = s+'_'+task+'_'+r+'_CONS_C'+'.txt'\n",
      "            cons_ctch_pathfile = path+cons_ctch_filename\n",
      "            tasks[task][0][s][r].to_csv(cons_ctch_pathfile, sep='\\t', header=False, index=False)\n",
      "            cons_nctch_filename = s+'_'+task+'_'+r+'_CONS_NC'+'.txt'\n",
      "            cons_nctch_pathfile = path+cons_nctch_filename\n",
      "            tasks[task][1][s][r].to_csv(cons_nctch_pathfile, sep='\\t', header=False, index=False)\n",
      "print 'finished'"
     ],
     "language": "python",
     "metadata": {},
     "outputs": [
      {
       "output_type": "stream",
       "stream": "stdout",
       "text": [
        "s_01010\n",
        "Run_1\n",
        "Dots\n",
        "Comp\n",
        "Sum\n",
        "Nline\n",
        "Run_0\n",
        "Dots\n",
        "Comp\n",
        "Sum\n",
        "Nline\n",
        "s_01008\n",
        "Run_1\n",
        "Dots\n",
        "Comp\n",
        "Sum\n",
        "Nline\n",
        "Run_0\n",
        "Dots\n",
        "Comp\n",
        "Sum\n",
        "Nline\n",
        "s_01009\n",
        "Run_1\n",
        "Dots\n",
        "Comp\n",
        "Sum\n",
        "Nline\n",
        "Run_0\n",
        "Dots\n",
        "Comp\n",
        "Sum\n",
        "Nline\n",
        "s_01003\n",
        "Run_1\n",
        "Dots\n",
        "Comp\n",
        "Sum\n",
        "Nline\n",
        "Run_0\n",
        "Dots\n",
        "Comp\n",
        "Sum\n",
        "Nline"
       ]
      },
      {
       "output_type": "stream",
       "stream": "stdout",
       "text": [
        "\n",
        "s_01006\n",
        "Run_1\n",
        "Dots\n",
        "Comp\n",
        "Sum\n",
        "Nline\n",
        "Run_0\n",
        "Dots\n",
        "Comp\n",
        "Sum\n",
        "Nline\n",
        "s_01007\n",
        "Run_1\n",
        "Dots\n",
        "Comp\n",
        "Sum\n",
        "Nline\n",
        "Run_0\n",
        "Dots\n",
        "Comp\n",
        "Sum\n",
        "Nline\n",
        "s_01004\n",
        "Run_1\n",
        "Dots\n",
        "Comp\n",
        "Sum\n",
        "Nline\n",
        "Run_0\n",
        "Dots\n",
        "Comp\n",
        "Sum\n",
        "Nline"
       ]
      },
      {
       "output_type": "stream",
       "stream": "stdout",
       "text": [
        "\n",
        "s_01005\n",
        "Run_1\n",
        "Dots\n",
        "Comp\n",
        "Sum\n",
        "Nline\n",
        "Run_0\n",
        "Dots\n",
        "Comp\n",
        "Sum\n",
        "Nline\n",
        "finished\n"
       ]
      }
     ],
     "prompt_number": 39
    },
    {
     "cell_type": "code",
     "collapsed": false,
     "input": [],
     "language": "python",
     "metadata": {},
     "outputs": []
    }
   ],
   "metadata": {}
  }
 ]
}