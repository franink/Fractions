{
 "metadata": {
  "name": "Fraction_Behavioral"
 },
 "nbformat": 3,
 "nbformat_minor": 0,
 "worksheets": [
  {
   "cells": [
    {
     "cell_type": "code",
     "collapsed": false,
     "input": [
      "#Opened with --pylab flag\n",
      "import pandas as pd\n",
      "import numpy as np\n",
      "from scipy import io\n",
      "import os\n",
      "from glob import glob"
     ],
     "language": "python",
     "metadata": {},
     "outputs": [],
     "prompt_number": 1
    },
    {
     "cell_type": "code",
     "collapsed": false,
     "input": [
      "filepath = '/Users/frankkanayet/Dropbox/FractionExperiment/Pilot_Data'\n",
      "os.chdir(filepath)\n",
      "subj = io.loadmat('Frac_010-Oct0814a.mat', struct_as_record = True)"
     ],
     "language": "python",
     "metadata": {},
     "outputs": [],
     "prompt_number": 37
    },
    {
     "cell_type": "code",
     "collapsed": false,
     "input": [
      "#legible access to the data\n",
      "mat_T = 'nMatchResults' #Match task\n",
      "comp_T = 'fCompResults' #Fraction comparison\n",
      "nline_T = 'numlineResults'\n",
      "head = 0\n",
      "num = 0\n",
      "denom = 1\n",
      "value = 2\n",
      "Cons_RT = 3\n",
      "Match = 4\n",
      "Correct = 5\n",
      "Response = 6\n",
      "RT = 7\n",
      "Acc = 8\n",
      "print subj['nMatchResults'][head][num][0]\n",
      "print subj['nMatchResults'][1][num][0][0]"
     ],
     "language": "python",
     "metadata": {},
     "outputs": [
      {
       "output_type": "stream",
       "stream": "stdout",
       "text": [
        "Num\n",
        "2\n"
       ]
      }
     ],
     "prompt_number": 22
    },
    {
     "cell_type": "code",
     "collapsed": false,
     "input": [],
     "language": "python",
     "metadata": {},
     "outputs": []
    }
   ],
   "metadata": {}
  }
 ]
}