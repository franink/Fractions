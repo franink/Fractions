{
 "cells": [
  {
   "cell_type": "markdown",
   "metadata": {},
   "source": [
    "## Not using RTs to modulate duration or decision and including Miss trials into the decision regressors. Dec = 3s, Cons = cons + minHold"
   ]
  },
  {
   "cell_type": "code",
   "execution_count": 1,
   "metadata": {},
   "outputs": [],
   "source": [
    "#Opened with --pylab flag\n",
    "#Need to create code to analyze piot data\n",
    "import pandas as pd\n",
    "import numpy as np\n",
    "from scipy import io\n",
    "import os\n",
    "import glob"
   ]
  },
  {
   "cell_type": "code",
   "execution_count": 2,
   "metadata": {},
   "outputs": [],
   "source": [
    "## Laptop\n",
    "#filepath = '/Users/frankkanayet/Dropbox/NLineExperiment/PilotData'\n",
    "#filepath = '/Users/frankkanayet/Dropbox/NLineExperiment/PilotData/test3s'\n",
    "#filepath = '/Users/frankkanayet/Google Drive/NLineData/Beh_Data'\n",
    "\n",
    "## Desktop\n",
    "#filepath = '/Users/frankanayet/Dropbox/NLineExperiment/Data'\n",
    "filepath = '/Users/frankanayet/Google Drive/NLineData/Beh_Data'\n",
    "os.chdir(filepath)"
   ]
  },
  {
   "cell_type": "code",
   "execution_count": 3,
   "metadata": {},
   "outputs": [
    {
     "name": "stdout",
     "output_type": "stream",
     "text": [
      "Pandas version 0.17.1\n"
     ]
    }
   ],
   "source": [
    "print 'Pandas version ' + pd.__version__"
   ]
  },
  {
   "cell_type": "code",
   "execution_count": 4,
   "metadata": {},
   "outputs": [
    {
     "name": "stdout",
     "output_type": "stream",
     "text": [
      "['Nline_02001-Mar1615.mat', 'Nline_02002-Mar1915.mat', 'Nline_02003-Mar2015a.mat', 'Nline_02004-Mar2315a.mat', 'Nline_02005-Mar2315a.mat', 'Nline_02006-Mar2315a.mat', 'Nline_02007-Mar2415a.mat', 'Nline_02009-Mar2615a.mat', 'Nline_02010-Mar2615a.mat', 'Nline_02011-Mar2615a.mat', 'Nline_02012-Apr0215a.mat', 'Nline_02014-Apr0315a.mat', 'Nline_02015Apr2715a.mat', 'Nline_02016-Apr2715a.mat', 'Nline_02017-Apr2815a.mat', 'Nline_02018-Apr2815a.mat', 'Nline_02019-Apr2915a.mat', 'Nline_02020-May1815a.mat', 'Nline_02021-May2515a.mat', 'Nline_02022-May2515a.mat', 'Nline_02023-May2715a.mat', 'Nline_02024-May2815a.mat', 'Nline_02027-Jun0115a.mat']\n"
     ]
    },
    {
     "data": {
      "text/plain": [
       "['s_02009',\n",
       " 's_02003',\n",
       " 's_02002',\n",
       " 's_02001',\n",
       " 's_02007',\n",
       " 's_02006',\n",
       " 's_02005',\n",
       " 's_02004',\n",
       " 's_02018',\n",
       " 's_02019',\n",
       " 's_02010',\n",
       " 's_02011',\n",
       " 's_02012',\n",
       " 's_02014',\n",
       " 's_02015',\n",
       " 's_02016',\n",
       " 's_02017',\n",
       " 's_02024',\n",
       " 's_02027',\n",
       " 's_02021',\n",
       " 's_02020',\n",
       " 's_02023',\n",
       " 's_02022']"
      ]
     },
     "execution_count": 4,
     "metadata": {},
     "output_type": "execute_result"
    }
   ],
   "source": [
    "filenames = glob.glob('Nline_*.mat')\n",
    "print filenames\n",
    "#index to isolate subj numbers\n",
    "data_dict = {}\n",
    "for i in filenames:\n",
    "    id1 = filenames[0].find('_') + 1\n",
    "    id2 = filenames[0].find('-')\n",
    "    sub_nbr = i[id1:id2]\n",
    "    sub_name = i\n",
    "    s_id = 's_'+sub_nbr\n",
    "    data_dict[s_id] = io.loadmat(sub_name)\n",
    "\n",
    "#sub_name = filenames[0] #This will be changed to a loop for all subjects later\n",
    "#mat = io.loadmat(sub_name)\n",
    "data_dict.keys()"
   ]
  },
  {
   "cell_type": "code",
   "execution_count": 5,
   "metadata": {},
   "outputs": [],
   "source": [
    "sub_ex = data_dict.keys()[0]"
   ]
  },
  {
   "cell_type": "code",
   "execution_count": 6,
   "metadata": {},
   "outputs": [],
   "source": [
    "#data_dict['s_00011']['p']"
   ]
  },
  {
   "cell_type": "code",
   "execution_count": 7,
   "metadata": {},
   "outputs": [],
   "source": [
    "#for i in data_dict:\n",
    "#    data_dict[i].pop('__header__')\n",
    "#    data_dict[i].pop('__version__')\n",
    "#    data_dict[i].pop('__globals__')\n",
    "#data_dict['s_00011'].keys()"
   ]
  },
  {
   "cell_type": "code",
   "execution_count": 8,
   "metadata": {},
   "outputs": [
    {
     "data": {
      "text/plain": [
       "49"
      ]
     },
     "execution_count": 8,
     "metadata": {},
     "output_type": "execute_result"
    }
   ],
   "source": [
    "## The indexes of zeros are as follows [0][0][x][y][z][0] The x y z are the 3 dimensions of the data 3d matrix the zeros are padding\n",
    "data_dict[sub_ex]['p']['NlineResults'][0][0][0][5][0][0]\n",
    "len(data_dict[sub_ex]['p']['NlineResults'][0][0][:])"
   ]
  },
  {
   "cell_type": "code",
   "execution_count": 9,
   "metadata": {},
   "outputs": [
    {
     "data": {
      "text/plain": [
       "('ramp_up',\n",
       " 'Mean_ITI',\n",
       " 'Mean_hold',\n",
       " 'decision',\n",
       " 'consider',\n",
       " 'runs',\n",
       " 'nStim',\n",
       " 'ntasks',\n",
       " 'tasks',\n",
       " 'trialSecs',\n",
       " 'lineLength',\n",
       " 'speed',\n",
       " 'run_order',\n",
       " 'NlineResults',\n",
       " 'time_Runs',\n",
       " 'task_transition',\n",
       " 'start_Nline',\n",
       " 'finish_Nline')"
      ]
     },
     "execution_count": 9,
     "metadata": {},
     "output_type": "execute_result"
    }
   ],
   "source": [
    "data_dict[sub_ex]['p'].dtype.names"
   ]
  },
  {
   "cell_type": "code",
   "execution_count": 10,
   "metadata": {},
   "outputs": [],
   "source": [
    "cons_time = data_dict[sub_ex]['p']['consider'][0][0][0][0]\n",
    "dec_time = data_dict[sub_ex]['p']['decision'][0][0][0][0]"
   ]
  },
  {
   "cell_type": "code",
   "execution_count": 11,
   "metadata": {},
   "outputs": [],
   "source": [
    "new_dat = {}\n",
    "#new_df = {}\n",
    "for s in data_dict:\n",
    "    tasks = ['NlineResults']\n",
    "    new_dat[s]={}\n",
    "    #new_df[s] = {}\n",
    "    for task in tasks:\n",
    "        dat = data_dict[s]['p'][task]\n",
    "        num_fields = len(data_dict[s]['p'][task][0][0][0])\n",
    "        dat_names = []\n",
    "        for k in range(0,num_fields):\n",
    "            dat_names.append(dat[0][0][0][k][0][0])\n",
    "        new_dat[s][task] = {}\n",
    "        runs = data_dict[s]['p']['runs'][0][0][0][0]\n",
    "        for run in range(0,runs):\n",
    "            run_name = 'run'+str(run+1)\n",
    "            new_dat[s][task][run_name] = {}\n",
    "            for i in range(0,len(dat_names)):\n",
    "                new_dat[s][task][run_name][dat_names[i]] = []\n",
    "                for j in range(0,len(dat[0][0][:])-1):\n",
    "                    if dat_names[i] == 'catch_probe':\n",
    "                        new_dat[s][task][run_name][dat_names[i]].append(dat[0][0][j+1][i][run])\n",
    "                    elif dat_names[i] == 'Probe':\n",
    "                        new_dat[s][task][run_name][dat_names[i]].append(dat[0][0][j+1][i][run][0])\n",
    "                    else:\n",
    "                        new_dat[s][task][run_name][dat_names[i]].append(dat[0][0][j+1][i][run][0][0])\n",
    "#legible access to the data\n",
    "Nline = 'NlineResults' #numberline"
   ]
  },
  {
   "cell_type": "code",
   "execution_count": 12,
   "metadata": {},
   "outputs": [
    {
     "data": {
      "text/plain": [
       "[u'Slow',\n",
       " u'Line_pct',\n",
       " u'iti',\n",
       " u'TestX',\n",
       " u'ITI_onset_real',\n",
       " u'consider_onset_real',\n",
       " u'ITI_onset',\n",
       " u'RT',\n",
       " u'hold',\n",
       " u'decision_end',\n",
       " u'decision_onset_real',\n",
       " u'RTHold',\n",
       " u'decision_end_real',\n",
       " u'Correct',\n",
       " u'Wrong',\n",
       " u'BadPress',\n",
       " u'consider_onset',\n",
       " u'Response',\n",
       " u'Task',\n",
       " u'Trial',\n",
       " u'Points',\n",
       " u'Error',\n",
       " u'catch',\n",
       " u'mouse_pos',\n",
       " u'Block',\n",
       " u'catch_probe',\n",
       " u'Probe',\n",
       " u'hold_onset',\n",
       " u'Move',\n",
       " u'decision_onset',\n",
       " u'hold_onset_real',\n",
       " u'Click']"
      ]
     },
     "execution_count": 12,
     "metadata": {},
     "output_type": "execute_result"
    }
   ],
   "source": [
    "new_dat[sub_ex]['NlineResults']['run1'].keys()"
   ]
  },
  {
   "cell_type": "code",
   "execution_count": 13,
   "metadata": {},
   "outputs": [
    {
     "data": {
      "text/plain": [
       "[array([57], dtype=uint8),\n",
       " array([77], dtype=uint8),\n",
       " array([3], dtype=uint8),\n",
       " array([21], dtype=uint8),\n",
       " array([60], dtype=uint8),\n",
       " array([28], dtype=uint8),\n",
       " array([85], dtype=uint8),\n",
       " array([74], dtype=uint8),\n",
       " array([33], dtype=uint8),\n",
       " array([7], dtype=uint8),\n",
       " array([90], dtype=uint8),\n",
       " array([36], dtype=uint8),\n",
       " array([11], dtype=uint8),\n",
       " array([45], dtype=uint8),\n",
       " array([98], dtype=uint8),\n",
       " array([65], dtype=uint8),\n",
       " array([70], dtype=uint8),\n",
       " array([14], dtype=uint8),\n",
       " array([80], dtype=uint8),\n",
       " array([20], dtype=uint8),\n",
       " array([-58], dtype=int16),\n",
       " array([-94], dtype=int16),\n",
       " array([-86], dtype=int16),\n",
       " array([54], dtype=uint8),\n",
       " array([-44], dtype=int16),\n",
       " array([-78], dtype=int16),\n",
       " array([-10], dtype=int16),\n",
       " array([48], dtype=uint8),\n",
       " array([30], dtype=uint8),\n",
       " array([-28], dtype=int16),\n",
       " array([96], dtype=uint8),\n",
       " array([-34], dtype=int16),\n",
       " u'of',\n",
       " u'is',\n",
       " u'be',\n",
       " u'me',\n",
       " u'it',\n",
       " u'as',\n",
       " u'my',\n",
       " u'so',\n",
       " u'we',\n",
       " u'or',\n",
       " u'ox',\n",
       " u'by',\n",
       " u'am',\n",
       " u'he',\n",
       " u'do',\n",
       " u'if']"
      ]
     },
     "execution_count": 13,
     "metadata": {},
     "output_type": "execute_result"
    }
   ],
   "source": [
    "new_dat[sub_ex]['NlineResults']['run1']['Probe']"
   ]
  },
  {
   "cell_type": "code",
   "execution_count": 14,
   "metadata": {},
   "outputs": [
    {
     "data": {
      "text/plain": [
       "['run1', 'run3', 'run2', 'run4']"
      ]
     },
     "execution_count": 14,
     "metadata": {},
     "output_type": "execute_result"
    }
   ],
   "source": [
    "new_dat[sub_ex]['NlineResults'].keys()"
   ]
  },
  {
   "cell_type": "code",
   "execution_count": 15,
   "metadata": {},
   "outputs": [
    {
     "data": {
      "text/plain": [
       "[array([], shape=(0, 0), dtype=uint8),\n",
       " array([], shape=(0, 0), dtype=uint8),\n",
       " array([], shape=(0, 0), dtype=uint8),\n",
       " array([], shape=(0, 0), dtype=uint8),\n",
       " array([], shape=(0, 0), dtype=uint8),\n",
       " array([], shape=(0, 0), dtype=uint8),\n",
       " array([], shape=(0, 0), dtype=uint8),\n",
       " array([], shape=(0, 0), dtype=uint8),\n",
       " array([], shape=(0, 0), dtype=uint8),\n",
       " array([], shape=(0, 0), dtype=uint8),\n",
       " array([], shape=(0, 0), dtype=uint8),\n",
       " array([], shape=(0, 0), dtype=uint8),\n",
       " array([], shape=(0, 0), dtype=uint8),\n",
       " array([], shape=(0, 0), dtype=uint8),\n",
       " array([], shape=(0, 0), dtype=uint8),\n",
       " array([], shape=(0, 0), dtype=uint8),\n",
       " array([], shape=(0, 0), dtype=uint8),\n",
       " array([], shape=(0, 0), dtype=uint8),\n",
       " array([], shape=(0, 0), dtype=uint8),\n",
       " array([], shape=(0, 0), dtype=uint8),\n",
       " array([], shape=(0, 0), dtype=uint8),\n",
       " array([], shape=(0, 0), dtype=uint8),\n",
       " array([], shape=(0, 0), dtype=uint8),\n",
       " array([], shape=(0, 0), dtype=uint8),\n",
       " array([], shape=(0, 0), dtype=uint8),\n",
       " array([], shape=(0, 0), dtype=uint8),\n",
       " array([], shape=(0, 0), dtype=uint8),\n",
       " array([], shape=(0, 0), dtype=uint8),\n",
       " array([], shape=(0, 0), dtype=uint8),\n",
       " array([], shape=(0, 0), dtype=uint8),\n",
       " array([], shape=(0, 0), dtype=uint8),\n",
       " array([], shape=(0, 0), dtype=uint8),\n",
       " array([u'of'], \n",
       "       dtype='<U2'),\n",
       " array([u'is'], \n",
       "       dtype='<U2'),\n",
       " array([u'be'], \n",
       "       dtype='<U2'),\n",
       " array([u'it'], \n",
       "       dtype='<U2'),\n",
       " array([u'ox'], \n",
       "       dtype='<U2'),\n",
       " array([u'ox'], \n",
       "       dtype='<U2'),\n",
       " array([u'my'], \n",
       "       dtype='<U2'),\n",
       " array([u'so'], \n",
       "       dtype='<U2'),\n",
       " array([u'we'], \n",
       "       dtype='<U2'),\n",
       " array([u'or'], \n",
       "       dtype='<U2'),\n",
       " array([u'ox'], \n",
       "       dtype='<U2'),\n",
       " array([u'by'], \n",
       "       dtype='<U2'),\n",
       " array([u'am'], \n",
       "       dtype='<U2'),\n",
       " array([u'he'], \n",
       "       dtype='<U2'),\n",
       " array([u'do'], \n",
       "       dtype='<U2'),\n",
       " array([u'so'], \n",
       "       dtype='<U2')]"
      ]
     },
     "execution_count": 15,
     "metadata": {},
     "output_type": "execute_result"
    }
   ],
   "source": [
    "new_dat[sub_ex]['NlineResults']['run1']['catch_probe']"
   ]
  },
  {
   "cell_type": "code",
   "execution_count": 16,
   "metadata": {},
   "outputs": [],
   "source": [
    "subj = data_dict.keys()\n",
    "tasks = [Nline]\n",
    "tuples = []\n",
    "rows = len(data_dict[sub_ex]['p'][Nline][0][0][:])-1\n",
    "for s in subj:\n",
    "    runs = new_dat[s]['NlineResults'].keys()\n",
    "    for run in runs:\n",
    "        for i in range(0,rows):\n",
    "            tuples.append((s, run, i))\n",
    "len(tuples)\n",
    "#iterables = [subj,tasks,runs]\n",
    "indexes = pd.MultiIndex.from_tuples(tuples, names=['Subj', 'Run', 'Trial'])\n",
    "nline_cols = len(new_dat[sub_ex][Nline]['run1'].keys())"
   ]
  },
  {
   "cell_type": "code",
   "execution_count": 17,
   "metadata": {},
   "outputs": [
    {
     "data": {
      "text/plain": [
       "('s_02007', 'run1', 14)"
      ]
     },
     "execution_count": 17,
     "metadata": {},
     "output_type": "execute_result"
    }
   ],
   "source": [
    "indexes[590]"
   ]
  },
  {
   "cell_type": "code",
   "execution_count": 18,
   "metadata": {},
   "outputs": [
    {
     "data": {
      "text/plain": [
       "'run1'"
      ]
     },
     "execution_count": 18,
     "metadata": {},
     "output_type": "execute_result"
    }
   ],
   "source": [
    "indexes[1][1]"
   ]
  },
  {
   "cell_type": "code",
   "execution_count": 19,
   "metadata": {},
   "outputs": [
    {
     "data": {
      "text/plain": [
       "u'Block'"
      ]
     },
     "execution_count": 19,
     "metadata": {},
     "output_type": "execute_result"
    }
   ],
   "source": [
    "varnames = new_dat[sub_ex][Nline]['run1'].keys()\n",
    "varnames[24]"
   ]
  },
  {
   "cell_type": "code",
   "execution_count": 20,
   "metadata": {},
   "outputs": [
    {
     "data": {
      "text/plain": [
       "4224"
      ]
     },
     "execution_count": 20,
     "metadata": {},
     "output_type": "execute_result"
    }
   ],
   "source": [
    "len(indexes)"
   ]
  },
  {
   "cell_type": "code",
   "execution_count": 21,
   "metadata": {},
   "outputs": [],
   "source": [
    "# Code empty cells of probes and catch_probes as Nan\n",
    "Dic_list = []\n",
    "probes = ['catch_probe']\n",
    "for data in indexes:\n",
    "    temp_dict = {}\n",
    "    for var in varnames:\n",
    "        if var == probes[0]:\n",
    "            if len(new_dat.get(data[0]).get(Nline).get(data[1]).get(var)[data[2]]) == 0:\n",
    "                new_dat.get(data[0]).get(Nline).get(data[1]).get(var)[data[2]] = np.array([np.nan])\n",
    "            temp_dict[var] = new_dat.get(data[0]).get(Nline).get(data[1]).get(var)[data[2]][0]\n",
    "        else:\n",
    "            temp_dict[var] = new_dat.get(data[0]).get(Nline).get(data[1]).get(var)[data[2]]\n",
    "    Dic_list.append(temp_dict)"
   ]
  },
  {
   "cell_type": "code",
   "execution_count": 22,
   "metadata": {},
   "outputs": [
    {
     "data": {
      "text/plain": [
       "12"
      ]
     },
     "execution_count": 22,
     "metadata": {},
     "output_type": "execute_result"
    }
   ],
   "source": [
    "#Create dataframe\n",
    "nline_df = pd.DataFrame(Dic_list, index=indexes)\n",
    "sum(nline_df.loc[sub_ex].loc['run1'].iloc[0:48]['catch'])"
   ]
  },
  {
   "cell_type": "code",
   "execution_count": 23,
   "metadata": {},
   "outputs": [
    {
     "data": {
      "text/plain": [
       "Trial\n",
       "0   -0.023744\n",
       "1   -0.025507\n",
       "2    0.000000\n",
       "3    0.000000\n",
       "4   -0.027313\n",
       "5    0.001938\n",
       "6   -0.046035\n",
       "7    0.000000\n",
       "8    0.070881\n",
       "9    0.026916\n",
       "Name: Error, dtype: float64"
      ]
     },
     "execution_count": 23,
     "metadata": {},
     "output_type": "execute_result"
    }
   ],
   "source": [
    "nline_df.loc[sub_ex].loc['run1'].iloc[0:10]['Error']"
   ]
  },
  {
   "cell_type": "code",
   "execution_count": 24,
   "metadata": {},
   "outputs": [
    {
     "data": {
      "text/plain": [
       "FrozenList([u'Subject', u'Run', u'Trial'])"
      ]
     },
     "execution_count": 24,
     "metadata": {},
     "output_type": "execute_result"
    }
   ],
   "source": [
    "nline_df.index.names = ['Subject', 'Run', 'Trial']\n",
    "nline_df.index.names"
   ]
  },
  {
   "cell_type": "code",
   "execution_count": 25,
   "metadata": {},
   "outputs": [
    {
     "name": "stderr",
     "output_type": "stream",
     "text": [
      "/Users/frankanayet/anaconda/lib/python2.7/site-packages/ipykernel/__main__.py:3: SettingWithCopyWarning: \n",
      "A value is trying to be set on a copy of a slice from a DataFrame\n",
      "\n",
      "See the caveats in the documentation: http://pandas.pydata.org/pandas-docs/stable/indexing.html#indexing-view-versus-copy\n",
      "  app.launch_new_instance()\n",
      "/Users/frankanayet/anaconda/lib/python2.7/site-packages/ipykernel/__main__.py:4: SettingWithCopyWarning: \n",
      "A value is trying to be set on a copy of a slice from a DataFrame\n",
      "\n",
      "See the caveats in the documentation: http://pandas.pydata.org/pandas-docs/stable/indexing.html#indexing-view-versus-copy\n"
     ]
    },
    {
     "data": {
      "text/plain": [
       "Subject  Run   Trial\n",
       "s_02009  run1  0         57\n",
       "               1         77\n",
       "               2          3\n",
       "               3         21\n",
       "               4         60\n",
       "               5         28\n",
       "               6         85\n",
       "               7         74\n",
       "               8         33\n",
       "               9          7\n",
       "               10        90\n",
       "               11        36\n",
       "               12        11\n",
       "               13        45\n",
       "               14        98\n",
       "               15        65\n",
       "               16        70\n",
       "               17        14\n",
       "               18        80\n",
       "               19        20\n",
       "               20       -58\n",
       "               21       -94\n",
       "               22       -86\n",
       "               23        54\n",
       "               24       -44\n",
       "               25       -78\n",
       "               26       -10\n",
       "               27        48\n",
       "               28        30\n",
       "               29       -28\n",
       "                       ... \n",
       "s_02022  run4  18        or\n",
       "               19        my\n",
       "               20        of\n",
       "               21        we\n",
       "               22        he\n",
       "               23        am\n",
       "               24        so\n",
       "               25        by\n",
       "               26        as\n",
       "               27        do\n",
       "               28        me\n",
       "               29        is\n",
       "               30        it\n",
       "               31        ox\n",
       "               32       -86\n",
       "               33       -28\n",
       "               34        70\n",
       "               35        96\n",
       "               36       -10\n",
       "               37        80\n",
       "               38        48\n",
       "               39        54\n",
       "               40       -94\n",
       "               41       -34\n",
       "               42       -44\n",
       "               43        30\n",
       "               44        20\n",
       "               45       -78\n",
       "               46        14\n",
       "               47       -58\n",
       "Name: Probe, dtype: object"
      ]
     },
     "execution_count": 25,
     "metadata": {},
     "output_type": "execute_result"
    }
   ],
   "source": [
    "test = nline_df['Probe']\n",
    "for i in range(0,len(test)):\n",
    "    test[i] = np.ravel(test[i])\n",
    "    test[i] = test[i][0]\n",
    "nline_df['Probe'] = test\n",
    "nline_df['Probe']"
   ]
  },
  {
   "cell_type": "markdown",
   "metadata": {},
   "source": [
    "### Create Stim Labels"
   ]
  },
  {
   "cell_type": "code",
   "execution_count": 26,
   "metadata": {},
   "outputs": [],
   "source": [
    "#now nline\n",
    "#nline_df['Num'] = nline_df['Num'].map('{:.0f}'.format)\n",
    "#nline_df['Denom'] = nline_df['Denom'].map('{:.0f}'.format)\n",
    "#nline_df['Stim'] = nline_df['Num']+'/'+nline_df['Denom']\n",
    "#nline_df['Stim']"
   ]
  },
  {
   "cell_type": "code",
   "execution_count": 27,
   "metadata": {},
   "outputs": [
    {
     "data": {
      "text/plain": [
       "Index([u'BadPress', u'Block', u'Click', u'Correct', u'Error', u'ITI_onset',\n",
       "       u'ITI_onset_real', u'Line_pct', u'Move', u'Points', u'Probe', u'RT',\n",
       "       u'RTHold', u'Response', u'Slow', u'Task', u'TestX', u'Trial', u'Wrong',\n",
       "       u'catch', u'catch_probe', u'consider_onset', u'consider_onset_real',\n",
       "       u'decision_end', u'decision_end_real', u'decision_onset',\n",
       "       u'decision_onset_real', u'hold', u'hold_onset', u'hold_onset_real',\n",
       "       u'iti', u'mouse_pos'],\n",
       "      dtype='object')"
      ]
     },
     "execution_count": 27,
     "metadata": {},
     "output_type": "execute_result"
    }
   ],
   "source": [
    "nline_df.columns"
   ]
  },
  {
   "cell_type": "code",
   "execution_count": 28,
   "metadata": {},
   "outputs": [
    {
     "name": "stderr",
     "output_type": "stream",
     "text": [
      "/Users/frankanayet/anaconda/lib/python2.7/site-packages/ipykernel/__main__.py:3: SettingWithCopyWarning: \n",
      "A value is trying to be set on a copy of a slice from a DataFrame\n",
      "\n",
      "See the caveats in the documentation: http://pandas.pydata.org/pandas-docs/stable/indexing.html#indexing-view-versus-copy\n",
      "  app.launch_new_instance()\n",
      "/Users/frankanayet/anaconda/lib/python2.7/site-packages/ipykernel/__main__.py:4: SettingWithCopyWarning: \n",
      "A value is trying to be set on a copy of a slice from a DataFrame\n",
      "\n",
      "See the caveats in the documentation: http://pandas.pydata.org/pandas-docs/stable/indexing.html#indexing-view-versus-copy\n",
      "/Users/frankanayet/anaconda/lib/python2.7/site-packages/ipykernel/__main__.py:5: SettingWithCopyWarning: \n",
      "A value is trying to be set on a copy of a slice from a DataFrame\n",
      "\n",
      "See the caveats in the documentation: http://pandas.pydata.org/pandas-docs/stable/indexing.html#indexing-view-versus-copy\n"
     ]
    },
    {
     "data": {
      "text/plain": [
       "'Neg'"
      ]
     },
     "execution_count": 28,
     "metadata": {},
     "output_type": "execute_result"
    }
   ],
   "source": [
    "#Make task as string\n",
    "nline_df['Task'] = nline_df['Task'].astype(str)\n",
    "nline_df['Task'][nline_df['Task']=='1'] = 'Pos'\n",
    "nline_df['Task'][nline_df['Task']=='2'] = 'Neg'\n",
    "nline_df['Task'][nline_df['Task']=='3'] = 'Word'\n",
    "nline_df['Task'].iloc[16]"
   ]
  },
  {
   "cell_type": "code",
   "execution_count": 29,
   "metadata": {},
   "outputs": [
    {
     "data": {
      "text/plain": [
       "Subject  Run   Trial\n",
       "s_02009  run1  0        0.07\n",
       "               1        0.23\n",
       "               2        0.03\n",
       "               3        0.21\n",
       "               4        0.10\n",
       "               5        0.22\n",
       "               6        0.15\n",
       "               7        0.24\n",
       "               8        0.17\n",
       "               9        0.07\n",
       "               10       0.10\n",
       "               11       0.14\n",
       "               12       0.11\n",
       "               13       0.05\n",
       "               14       0.02\n",
       "               15       0.15\n",
       "               16       0.15\n",
       "               17       0.07\n",
       "               18       0.10\n",
       "               19       0.10\n",
       "               20       0.21\n",
       "               21       0.03\n",
       "               22       0.07\n",
       "               23       0.23\n",
       "               24       0.22\n",
       "               25       0.11\n",
       "               26       0.05\n",
       "               27       0.24\n",
       "               28       0.15\n",
       "               29       0.14\n",
       "                        ... \n",
       "s_02022  run4  18       0.15\n",
       "               19       0.03\n",
       "               20       0.07\n",
       "               21       0.05\n",
       "               22       0.24\n",
       "               23       0.15\n",
       "               24       0.02\n",
       "               25       0.21\n",
       "               26       0.17\n",
       "               27       0.07\n",
       "               28       0.14\n",
       "               29       0.23\n",
       "               30       0.10\n",
       "               31       0.22\n",
       "               32       0.07\n",
       "               33       0.14\n",
       "               34       0.15\n",
       "               35       0.02\n",
       "               36       0.05\n",
       "               37       0.10\n",
       "               38       0.24\n",
       "               39       0.23\n",
       "               40       0.03\n",
       "               41       0.17\n",
       "               42       0.22\n",
       "               43       0.15\n",
       "               44       0.10\n",
       "               45       0.11\n",
       "               46       0.07\n",
       "               47       0.21\n",
       "Name: LandmarkDist, dtype: float64"
      ]
     },
     "execution_count": 29,
     "metadata": {},
     "output_type": "execute_result"
    }
   ],
   "source": [
    "nline_df['Dist0'] = abs(nline_df['Line_pct'] - 0)\n",
    "nline_df['Dist100'] = abs(nline_df['Line_pct'] - 1)\n",
    "nline_df['Dist50'] = abs(nline_df['Line_pct'] - 0.5)\n",
    "nline_df['LandmarkDist'] = nline_df[['Dist0','Dist100','Dist50']].min(axis=1) \n",
    "nline_df['LandmarkDist']"
   ]
  },
  {
   "cell_type": "markdown",
   "metadata": {},
   "source": [
    "##Get means for demeaning"
   ]
  },
  {
   "cell_type": "code",
   "execution_count": 30,
   "metadata": {},
   "outputs": [],
   "source": [
    "nline_df['LandmarkDist'] = np.round(nline_df['LandmarkDist'],2)\n",
    "uniquevals = nline_df.loc['s_02007'].loc['run1']['LandmarkDist'].unique()\n",
    "landmark_mean = uniquevals.mean()"
   ]
  },
  {
   "cell_type": "code",
   "execution_count": 31,
   "metadata": {},
   "outputs": [],
   "source": [
    "nline_df['Dist50'] = np.round(nline_df['Dist50'],2)\n",
    "uniquevals50 = nline_df.loc['s_02007'].loc['run1']['Dist50'].unique()\n",
    "dist50_mean = uniquevals50.mean()"
   ]
  },
  {
   "cell_type": "code",
   "execution_count": 32,
   "metadata": {
    "collapsed": true
   },
   "outputs": [],
   "source": [
    "nline_df['Dist0'] = np.round(nline_df['Dist0'],2)\n",
    "uniquevals0 = nline_df.loc['s_02007'].loc['run1']['Dist0'].unique()\n",
    "dist0_mean = uniquevals0.mean()"
   ]
  },
  {
   "cell_type": "code",
   "execution_count": 33,
   "metadata": {},
   "outputs": [
    {
     "data": {
      "text/plain": [
       "0.49375000000000002"
      ]
     },
     "execution_count": 33,
     "metadata": {},
     "output_type": "execute_result"
    }
   ],
   "source": [
    "dist0_mean"
   ]
  },
  {
   "cell_type": "markdown",
   "metadata": {},
   "source": [
    "# Create Onset Files"
   ]
  },
  {
   "cell_type": "code",
   "execution_count": 34,
   "metadata": {
    "collapsed": true
   },
   "outputs": [],
   "source": [
    "nline_df['Missed'] = 0"
   ]
  },
  {
   "cell_type": "code",
   "execution_count": 35,
   "metadata": {},
   "outputs": [
    {
     "name": "stderr",
     "output_type": "stream",
     "text": [
      "/Users/frankanayet/anaconda/lib/python2.7/site-packages/ipykernel/__main__.py:1: SettingWithCopyWarning: \n",
      "A value is trying to be set on a copy of a slice from a DataFrame\n",
      "\n",
      "See the caveats in the documentation: http://pandas.pydata.org/pandas-docs/stable/indexing.html#indexing-view-versus-copy\n",
      "  if __name__ == '__main__':\n"
     ]
    }
   ],
   "source": [
    "nline_df['Missed'][(nline_df.catch < 1) & (nline_df.Error == 1)] = 1"
   ]
  },
  {
   "cell_type": "code",
   "execution_count": 36,
   "metadata": {},
   "outputs": [],
   "source": [
    "nline_df[['consider_onset', 'consider_onset_real',\n",
    "         'decision_onset', 'decision_onset_real']] = nline_df[['consider_onset',\n",
    "                                                                  'consider_onset_real',\n",
    "                                                                  'decision_onset', 'decision_onset_real']] -16"
   ]
  },
  {
   "cell_type": "code",
   "execution_count": 37,
   "metadata": {},
   "outputs": [],
   "source": [
    "nline_df.decision_end = nline_df.decision_end - 16"
   ]
  },
  {
   "cell_type": "code",
   "execution_count": 38,
   "metadata": {},
   "outputs": [
    {
     "data": {
      "text/plain": [
       "586.0"
      ]
     },
     "execution_count": 38,
     "metadata": {},
     "output_type": "execute_result"
    }
   ],
   "source": [
    "nline_df.decision_end.max()"
   ]
  },
  {
   "cell_type": "code",
   "execution_count": 39,
   "metadata": {},
   "outputs": [
    {
     "name": "stderr",
     "output_type": "stream",
     "text": [
      "/Users/frankanayet/anaconda/lib/python2.7/site-packages/ipykernel/kernelbase.py:212: PerformanceWarning: indexing past lexsort depth may impact performance.\n",
      "  handler(stream, idents, msg)\n"
     ]
    }
   ],
   "source": [
    "nline_df.loc[nline_df.index.get_level_values('Run') == 'run2',\n",
    "             ['consider_onset', 'consider_onset_real',\n",
    "              'decision_onset', 'decision_onset_real']]= nline_df.loc[nline_df.index.get_level_values('Run') == 'run2',\n",
    "                                                                      ['consider_onset', 'consider_onset_real',\n",
    "                                                                       'decision_onset',\n",
    "                                                                       'decision_onset_real']]+(nline_df.decision_end.max()\n",
    "                                                                                                * (2-1))"
   ]
  },
  {
   "cell_type": "code",
   "execution_count": 40,
   "metadata": {},
   "outputs": [],
   "source": [
    "nline_df.loc[nline_df.index.get_level_values('Run') == 'run3',\n",
    "             ['consider_onset', 'consider_onset_real',\n",
    "              'decision_onset', 'decision_onset_real']]= nline_df.loc[nline_df.index.get_level_values('Run') == 'run3',\n",
    "                                                                      ['consider_onset', 'consider_onset_real',\n",
    "                                                                       'decision_onset',\n",
    "                                                                       'decision_onset_real']]+(nline_df.decision_end.max()\n",
    "                                                                                                * (3-1))"
   ]
  },
  {
   "cell_type": "code",
   "execution_count": 41,
   "metadata": {
    "collapsed": true
   },
   "outputs": [],
   "source": [
    "nline_df.loc[nline_df.index.get_level_values('Run') == 'run4',\n",
    "             ['consider_onset', 'consider_onset_real',\n",
    "              'decision_onset', 'decision_onset_real']]= nline_df.loc[nline_df.index.get_level_values('Run') == 'run4',\n",
    "                                                                      ['consider_onset', 'consider_onset_real',\n",
    "                                                                       'decision_onset',\n",
    "                                                                       'decision_onset_real']]+(nline_df.decision_end.max()\n",
    "                                                                                                * (4-1))"
   ]
  },
  {
   "cell_type": "code",
   "execution_count": 42,
   "metadata": {},
   "outputs": [
    {
     "data": {
      "text/plain": [
       "1172.0"
      ]
     },
     "execution_count": 42,
     "metadata": {},
     "output_type": "execute_result"
    }
   ],
   "source": [
    "(nline_df.decision_onset.max()+3)/2"
   ]
  },
  {
   "cell_type": "code",
   "execution_count": 43,
   "metadata": {},
   "outputs": [],
   "source": [
    "nline_df = nline_df.sort_index(level=(0,1,2))"
   ]
  },
  {
   "cell_type": "code",
   "execution_count": 55,
   "metadata": {},
   "outputs": [
    {
     "name": "stdout",
     "output_type": "stream",
     "text": [
      "s_02001\n",
      "s_02002\n",
      "s_02003\n",
      "s_02004\n",
      "s_02005\n",
      "s_02006\n",
      "s_02007\n",
      "s_02009\n",
      "s_02010\n",
      "s_02011\n",
      "s_02012\n",
      "s_02014\n",
      "s_02015\n",
      "s_02016\n",
      "s_02017\n",
      "s_02018\n",
      "s_02019\n",
      "s_02020\n",
      "s_02021\n",
      "s_02022\n",
      "s_02023\n",
      "s_02024\n",
      "s_02027\n"
     ]
    }
   ],
   "source": [
    "import string\n",
    "\n",
    "vals = ['Sm_Land','Lg_Land']\n",
    "val_dict = {'Sm_Land':[0,0.125],'Lg_Land':[0.125,0.25]}\n",
    "tasks = nline_df.groupby('Task')\n",
    "labels = tasks.indices.keys()\n",
    "phase = ['cons', 'dec']\n",
    "dec_ctch_onset = {}\n",
    "big_dict = {}\n",
    "\n",
    "# Breaks always happen at the same time in the sequence\n",
    "break_onset = [[190, 6, 1],[388, 6, 1]]\n",
    "\n",
    "for s in nline_df.index.levels[0]:\n",
    "    print s\n",
    "    big_dict[s] = {}\n",
    "    dec_ctch_onset[s] = {}\n",
    "    ctch = nline_df.loc[s]['catch']\n",
    "    problem_con = nline_df.loc[s]['consider_onset_real'] - nline_df.loc[s]['consider_onset']\n",
    "    problem_dec = nline_df.loc[s]['decision_onset_real'] - nline_df.loc[s]['decision_onset']\n",
    "    prob_con_idx = problem_con > 0.5\n",
    "    prob_dec_idx = problem_dec > 0.5\n",
    "    if len(nline_df.loc[s]['hold']) == 0:\n",
    "        hold = 2.5\n",
    "    else:\n",
    "        hold = min(nline_df.loc[s]['hold'])\n",
    "    dec_ctch_tmp = nline_df.loc[s]['decision_onset_real']\n",
    "    dec_ctch_tmp = dec_ctch_tmp[ctch==1]\n",
    "    dec_ctch_tmp = dec_ctch_tmp[prob_dec_idx==0]\n",
    "    #big_dict[s]['dec_ctch_onset'] = pd.DataFrame.from_items([('time',dec_ctch_tmp[dec_ctch_tmp>=0]),('duration',dec_time),('val',1)])\n",
    "    cons_duration = hold + cons_time\n",
    "        \n",
    "    bad_trials_con = nline_df.loc[s]['consider_onset']\n",
    "    bad_trials_con = bad_trials_con[prob_con_idx==1]\n",
    "    #big_dict[s]['con_bad_trials'] = pd.DataFrame.from_items([('time',bad_trials_con[bad_trials_con>=0]),('duration',dec_time),('val',1)])\n",
    "        \n",
    "    bad_trials_dec = nline_df.loc[s]['decision_onset']\n",
    "    bad_trials_dec = bad_trials_dec[prob_dec_idx==1]\n",
    "    #big_dict[s]['dec_bad_trials'] = pd.DataFrame.from_items([('time',bad_trials_dec[bad_trials_dec>=0]),('duration',dec_time),('val',1)])\n",
    "\n",
    "\n",
    "    for lab in labels:\n",
    "        for lab in labels:\n",
    "            #print lab\n",
    "            big_dict[s][lab] = {}\n",
    "            Task = nline_df.loc[s]['Task']\n",
    "            \n",
    "            #create landmark values (demeaned)\n",
    "            landmark = nline_df.loc[s]['LandmarkDist']\n",
    "            #landmark = landmark[Task==lab] - landmark_mean\n",
    "            \n",
    "            for ph in phase:\n",
    "                if ph == 'dec':\n",
    "                    big_dict[s][lab][ph] = {}\n",
    "                    for val in vals:\n",
    "                        big_dict[s][lab][ph][str(val)] = {}\n",
    "                        prorblem_dec = nline_df.loc[s]['decision_onset_real'] - nline_df.loc[s]['decision_onset']\n",
    "                        prob_dec_idx = problem_dec > 0.5\n",
    "                        tmp_int = nline_df.loc[s]['decision_onset_real']\n",
    "                        #tmp_int = tmp_int[ctch==0]\n",
    "                        tmp_int = tmp_int[Task==lab]\n",
    "                        #tmp_int = tmp_int[prob_dec_idx == 0]\n",
    "                        tmp_int = tmp_int[(landmark>=val_dict[val][0]) & (landmark<=val_dict[val][1])] \n",
    "                        big_dict[s][lab][ph][str(val)] = pd.DataFrame.from_items([('time',tmp_int[tmp_int>=0]),('duration',dec_time),('val',1)])\n",
    "                elif ph == 'cons':\n",
    "                    big_dict[s][lab][ph] = {}\n",
    "                    for val in vals:\n",
    "                        big_dict[s][lab][ph][str(val)] = {}\n",
    "                        prorblem_con = nline_df.loc[s]['consider_onset_real'] - nline_df.loc[s]['consider_onset']\n",
    "                        prob_con_idx = problem_con > 0.5\n",
    "                        tmp_int = nline_df.loc[s]['consider_onset_real']\n",
    "                        tmp_int = tmp_int[Task==lab]\n",
    "                        #tmp_int = tmp_int[prob_con_idx == 0]\n",
    "                        tmp_int = tmp_int[(landmark>=val_dict[val][0]) & (landmark<=val_dict[val][1])] \n",
    "                        big_dict[s][lab][ph][str(val)] = pd.DataFrame.from_items([('time',tmp_int[tmp_int>=0]),('duration',cons_duration),('val',1)])"
   ]
  },
  {
   "cell_type": "code",
   "execution_count": null,
   "metadata": {
    "collapsed": true
   },
   "outputs": [],
   "source": []
  },
  {
   "cell_type": "code",
   "execution_count": 50,
   "metadata": {},
   "outputs": [
    {
     "data": {
      "text/plain": [
       "0.13384615384615384"
      ]
     },
     "execution_count": 50,
     "metadata": {},
     "output_type": "execute_result"
    }
   ],
   "source": [
    "landmark_mean"
   ]
  },
  {
   "cell_type": "code",
   "execution_count": 54,
   "metadata": {},
   "outputs": [
    {
     "data": {
      "text/plain": [
       "{'cons': {'Lg_Land':                    time  duration  val\n",
       "  Run  Trial                            \n",
       "  run1 32      397.516835         3    1\n",
       "       33      411.007415         3    1\n",
       "       34      423.508041         3    1\n",
       "       39      477.522041         3    1\n",
       "       42      514.014721         3    1\n",
       "       43      530.010287         3    1\n",
       "       44      543.006941         3    1\n",
       "       45      557.008893         3    1\n",
       "  run2 0       588.519764         3    1\n",
       "       2       614.004626         3    1\n",
       "       3       624.505866         3    1\n",
       "       4       636.504792         3    1\n",
       "       6       660.011295         3    1\n",
       "       9       695.003787         3    1\n",
       "       10      707.017855         3    1\n",
       "       13      745.503988         3    1\n",
       "  run3 17     1387.507782         3    1\n",
       "       20     1421.010909         3    1\n",
       "       21     1437.014779         3    1\n",
       "       22     1448.513395         3    1\n",
       "       23     1460.003788         3    1\n",
       "       26     1495.003481         3    1\n",
       "       27     1506.015724         3    1\n",
       "       30     1542.014501         3    1\n",
       "  run4 2      1786.015552         3    1\n",
       "       3      1797.516038         3    1\n",
       "       6      1830.516118         3    1\n",
       "       7      1843.003806         3    1\n",
       "       8      1855.007010         3    1\n",
       "       11     1891.513808         3    1\n",
       "       12     1902.509651         3    1\n",
       "       14     1925.009272         3    1,\n",
       "  'Sm_Land':                    time  duration  val\n",
       "  Run  Trial                            \n",
       "  run1 35      434.012622         3    1\n",
       "       36      444.508698         3    1\n",
       "       37      455.505583         3    1\n",
       "       38      466.002954         3    1\n",
       "       40      489.003816         3    1\n",
       "       41      500.011028         3    1\n",
       "       46      569.018418         3    1\n",
       "       47      579.518332         3    1\n",
       "  run2 1       600.506830         3    1\n",
       "       5       648.010909         3    1\n",
       "       7       672.026161         3    1\n",
       "       8       686.003175         3    1\n",
       "       11      720.008861         3    1\n",
       "       12      731.008861         3    1\n",
       "       14      756.013083         3    1\n",
       "       15      769.513206         3    1\n",
       "  run3 16     1375.003682         3    1\n",
       "       18     1399.519629         3    1\n",
       "       19     1409.004299         3    1\n",
       "       24     1470.514975         3    1\n",
       "       25     1483.009237         3    1\n",
       "       28     1518.504731         3    1\n",
       "       29     1527.513762         3    1\n",
       "       31     1554.015768         3    1\n",
       "  run4 0      1759.505346         3    1\n",
       "       1      1772.008278         3    1\n",
       "       4      1808.507160         3    1\n",
       "       5      1821.518375         3    1\n",
       "       9      1865.004748         3    1\n",
       "       10     1877.518003         3    1\n",
       "       13     1912.504152         3    1\n",
       "       15     1938.010726         3    1},\n",
       " 'dec': {'Lg_Land':                    time  duration  val\n",
       "  Run  Trial                            \n",
       "  run1 32      403.023748         3    1\n",
       "       33      417.017808         3    1\n",
       "       34      426.524464         3    1\n",
       "       39      482.514948         3    1\n",
       "       42      520.527050         3    1\n",
       "       43      534.027815         3    1\n",
       "       44      547.011117         3    1\n",
       "       45      560.511485         3    1\n",
       "  run2 0       592.015453         3    1\n",
       "       2       618.016189         3    1\n",
       "       3       629.000153         3    1\n",
       "       4       641.000148         3    1\n",
       "       6       665.000831         3    1\n",
       "       9       701.018456         3    1\n",
       "       10      713.502255         3    1\n",
       "       13      749.527457         3    1\n",
       "  run3 17     1393.045118         3    1\n",
       "       20     1427.512691         3    1\n",
       "       21     1440.529775         3    1\n",
       "       22     1453.013382         3    1\n",
       "       23     1464.030517         3    1\n",
       "       26     1499.014630         3    1\n",
       "       27     1510.031594         3    1\n",
       "       30     1546.582614         3    1\n",
       "  run4 2      1790.033442         3    1\n",
       "       3      1801.500391         3    1\n",
       "       6      1834.510647         3    1\n",
       "       7      1847.501792         3    1\n",
       "       8      1858.518719         3    1\n",
       "       11     1895.019690         3    1\n",
       "       12     1906.019942         3    1\n",
       "       14     1928.027322         3    1,\n",
       "  'Sm_Land':                    time  duration  val\n",
       "  Run  Trial                            \n",
       "  run1 35      438.508096         3    1\n",
       "       36      448.508351         3    1\n",
       "       37      458.513469         3    1\n",
       "       38      470.511662         3    1\n",
       "       40      492.526296         3    1\n",
       "       41      507.026696         3    1\n",
       "       46      573.511941         3    1\n",
       "       47      583.029022         3    1\n",
       "  run2 1       606.032502         3    1\n",
       "       5       651.000466         3    1\n",
       "       7       679.001214         3    1\n",
       "       8       689.001526         3    1\n",
       "       11      723.519156         3    1\n",
       "       12      735.510057         3    1\n",
       "       14      760.020091         3    1\n",
       "       15      773.037255         3    1\n",
       "  run3 16     1381.018369         3    1\n",
       "       18     1403.028720         3    1\n",
       "       19     1414.012265         3    1\n",
       "       24     1474.017589         3    1\n",
       "       25     1487.564411         3    1\n",
       "       28     1521.532043         3    1\n",
       "       29     1534.508477         3    1\n",
       "       31     1557.024744         3    1\n",
       "  run4 0      1765.007344         3    1\n",
       "       1      1776.533072         3    1\n",
       "       4      1814.517587         3    1\n",
       "       5      1824.517788         3    1\n",
       "       9      1869.527217         3    1\n",
       "       10     1882.519309         3    1\n",
       "       13     1919.203701         3    1\n",
       "       15     1945.021076         3    1}}"
      ]
     },
     "execution_count": 54,
     "metadata": {},
     "output_type": "execute_result"
    }
   ],
   "source": [
    "big_dict['s_02003']['Word']"
   ]
  },
  {
   "cell_type": "code",
   "execution_count": 94,
   "metadata": {},
   "outputs": [
    {
     "data": {
      "text/plain": [
       "{'cons': {'Lg_Land':                    time  duration  val\n",
       "  Run  Trial                            \n",
       "  run1 17      209.002342         3    1\n",
       "       19      229.001914         3    1\n",
       "       20      243.001112         3    1\n",
       "       21      256.501019         3    1\n",
       "       23      283.001637         3    1\n",
       "       24      296.502115         3    1\n",
       "       26      320.501171         3    1\n",
       "       29      356.001834         3    1\n",
       "  run2 34     1009.001853         3    1\n",
       "       35     1023.502463         3    1\n",
       "       37     1049.001588         3    1\n",
       "       39     1070.001447         3    1\n",
       "       40     1081.001857         3    1\n",
       "       43     1115.308232         3    1\n",
       "       46     1151.500906         3    1\n",
       "       47     1162.502112         3    1\n",
       "  run3 16     1374.501414         3    1\n",
       "       19     1412.501372         3    1\n",
       "       20     1425.001028         3    1\n",
       "       21     1437.000964         3    1\n",
       "       23     1462.002327         3    1\n",
       "       24     1473.000984         3    1\n",
       "       26     1494.502276         3    1\n",
       "       29     1529.002154         3    1\n",
       "  run4 34     2182.000879         3    1\n",
       "       35     2194.002032         3    1\n",
       "       39     2244.001322         3    1\n",
       "       40     2254.502396         3    1\n",
       "       43     2294.501037         3    1\n",
       "       44     2304.501544         3    1\n",
       "       45     2315.001050         3    1\n",
       "       47     2337.001780         3    1,\n",
       "  'Sm_Land':                    time  duration  val\n",
       "  Run  Trial                            \n",
       "  run1 16      199.002376         3    1\n",
       "       18      219.001198         3    1\n",
       "       22      270.501325         3    1\n",
       "       25      309.500798         3    1\n",
       "       27      331.501678         3    1\n",
       "       28      342.000880         3    1\n",
       "       30      367.502123         3    1\n",
       "       31      378.501299         3    1\n",
       "  run2 32      984.502083         3    1\n",
       "       33      997.502467         3    1\n",
       "       36     1035.501329         3    1\n",
       "       38     1060.501596         3    1\n",
       "       41     1115.161233         3    1\n",
       "       42     1115.241721         3    1\n",
       "       44     1125.001712         3    1\n",
       "       45     1141.502184         3    1\n",
       "  run3 17     1387.500842         3    1\n",
       "       18     1400.500893         3    1\n",
       "       22     1447.501634         3    1\n",
       "       25     1484.002299         3    1\n",
       "       27     1507.502101         3    1\n",
       "       28     1517.501868         3    1\n",
       "       30     1541.001420         3    1\n",
       "       31     1553.501849         3    1\n",
       "  run4 32     2156.001320         3    1\n",
       "       33     2167.001495         3    1\n",
       "       36     2206.001634         3    1\n",
       "       37     2220.002047         3    1\n",
       "       38     2232.501572         3    1\n",
       "       41     2266.002023         3    1\n",
       "       42     2280.501149         3    1\n",
       "       46     2327.002138         3    1},\n",
       " 'dec': {'Lg_Land':                    time  duration  val\n",
       "  Run  Trial                            \n",
       "  run1 17      212.508325         3    1\n",
       "       19      236.009055         3    1\n",
       "       20      249.009347         3    1\n",
       "       21      262.009574         3    1\n",
       "       23      286.510364         3    1\n",
       "       24      300.510740         3    1\n",
       "       26      323.511414         3    1\n",
       "       29      360.012271         3    1\n",
       "  run2 34     1014.503937         3    1\n",
       "       35     1027.503939         3    1\n",
       "       37     1053.505017         3    1\n",
       "       39     1073.505558         3    1\n",
       "       40     1115.069619         3    1\n",
       "       43     1118.006606         3    1\n",
       "       46     1156.507610         3    1\n",
       "       47     1169.008006         3    1\n",
       "  run3 16     1380.505931         3    1\n",
       "       19     1419.006917         3    1\n",
       "       20     1430.507055         3    1\n",
       "       21     1440.507517         3    1\n",
       "       23     1465.508381         3    1\n",
       "       24     1477.508703         3    1\n",
       "       26     1499.008965         3    1\n",
       "       29     1532.009990         3    1\n",
       "  run4 34     2186.501802         3    1\n",
       "       35     2197.502318         3    1\n",
       "       39     2247.003691         3    1\n",
       "       40     2258.503811         3    1\n",
       "       43     2298.004953         3    1\n",
       "       44     2308.505428         3    1\n",
       "       45     2321.005756         3    1\n",
       "       47     2341.006308         3    1,\n",
       "  'Sm_Land':                    time  duration  val\n",
       "  Run  Trial                            \n",
       "  run1 16      202.508050         3    1\n",
       "       18      222.008566         3    1\n",
       "       22      275.510101         3    1\n",
       "       25      313.511143         3    1\n",
       "       27      336.011484         3    1\n",
       "       28      346.511773         3    1\n",
       "       30      372.012674         3    1\n",
       "       31      385.012882         3    1\n",
       "  run2 32      990.503143         3    1\n",
       "       33     1001.503177         3    1\n",
       "       36     1039.004424         3    1\n",
       "       38     1063.505038         3    1\n",
       "       41     1115.185955         3    1\n",
       "       42     1115.262719         3    1\n",
       "       44     1132.007045         3    1\n",
       "       45     1145.007374         3    1\n",
       "  run3 17     1390.506340         3    1\n",
       "       18     1404.506702         3    1\n",
       "       22     1454.507701         3    1\n",
       "       25     1488.008783         3    1\n",
       "       27     1511.509582         3    1\n",
       "       28     1522.043239         3    1\n",
       "       30     1546.010274         3    1\n",
       "       31     1557.010728         3    1\n",
       "  run4 32     2160.501302         3    1\n",
       "       33     2172.001531         3    1\n",
       "       36     2213.002725         3    1\n",
       "       37     2223.503019         3    1\n",
       "       38     2238.003395         3    1\n",
       "       41     2272.504202         3    1\n",
       "       42     2285.004579         3    1\n",
       "       46     2330.005947         3    1}}"
      ]
     },
     "execution_count": 94,
     "metadata": {},
     "output_type": "execute_result"
    }
   ],
   "source": [
    "big_dict['s_02014']['Word']"
   ]
  },
  {
   "cell_type": "code",
   "execution_count": 95,
   "metadata": {},
   "outputs": [
    {
     "ename": "KeyError",
     "evalue": "'dec_bad_trials'",
     "output_type": "error",
     "traceback": [
      "\u001b[0;31m---------------------------------------------------------------------------\u001b[0m",
      "\u001b[0;31mKeyError\u001b[0m                                  Traceback (most recent call last)",
      "\u001b[0;32m<ipython-input-95-799aa05bac32>\u001b[0m in \u001b[0;36m<module>\u001b[0;34m()\u001b[0m\n\u001b[0;32m----> 1\u001b[0;31m \u001b[0mbig_dict\u001b[0m\u001b[0;34m[\u001b[0m\u001b[0;34m's_02014'\u001b[0m\u001b[0;34m]\u001b[0m\u001b[0;34m[\u001b[0m\u001b[0;34m'dec_bad_trials'\u001b[0m\u001b[0;34m]\u001b[0m\u001b[0;34m\u001b[0m\u001b[0m\n\u001b[0m",
      "\u001b[0;31mKeyError\u001b[0m: 'dec_bad_trials'"
     ]
    }
   ],
   "source": [
    "big_dict['s_02014']['dec_bad_trials']"
   ]
  },
  {
   "cell_type": "markdown",
   "metadata": {},
   "source": [
    "## Save Files"
   ]
  },
  {
   "cell_type": "code",
   "execution_count": 96,
   "metadata": {},
   "outputs": [
    {
     "name": "stdout",
     "output_type": "stream",
     "text": [
      "s_02009\n",
      "Neg\n",
      "cons\n",
      "Lg_Land\n",
      "Sm_Land\n",
      "dec\n",
      "Lg_Land\n",
      "Sm_Land\n",
      "Word\n",
      "cons\n",
      "Lg_Land\n",
      "Sm_Land\n",
      "dec\n",
      "Lg_Land\n",
      "Sm_Land\n",
      "Pos\n",
      "cons\n",
      "Lg_Land\n",
      "Sm_Land\n",
      "dec\n",
      "Lg_Land\n",
      "Sm_Land\n",
      "s_02003\n",
      "Neg\n",
      "cons\n",
      "Lg_Land\n",
      "Sm_Land\n",
      "dec\n",
      "Lg_Land\n",
      "Sm_Land\n",
      "Word\n",
      "cons\n",
      "Lg_Land\n",
      "Sm_Land\n",
      "dec\n",
      "Lg_Land\n",
      "Sm_Land\n",
      "Pos\n",
      "cons\n",
      "Lg_Land\n",
      "Sm_Land\n",
      "dec\n",
      "Lg_Land\n",
      "Sm_Land\n",
      "s_02002\n",
      "Neg\n",
      "cons\n",
      "Lg_Land\n",
      "Sm_Land\n",
      "dec\n",
      "Lg_Land\n",
      "Sm_Land\n",
      "Word\n",
      "cons\n",
      "Lg_Land\n",
      "Sm_Land\n",
      "dec\n",
      "Lg_Land\n",
      "Sm_Land\n",
      "Pos\n",
      "cons\n",
      "Lg_Land\n",
      "Sm_Land\n",
      "dec\n",
      "Lg_Land\n",
      "Sm_Land\n",
      "s_02001\n",
      "Neg\n",
      "cons\n",
      "Lg_Land\n",
      "Sm_Land\n",
      "dec\n",
      "Lg_Land\n",
      "Sm_Land\n",
      "Word\n",
      "cons\n",
      "Lg_Land\n",
      "Sm_Land\n",
      "dec\n",
      "Lg_Land\n",
      "Sm_Land\n",
      "Pos\n",
      "cons\n",
      "Lg_Land\n",
      "Sm_Land\n",
      "dec\n",
      "Lg_Land\n",
      "Sm_Land\n",
      "s_02007\n",
      "Neg\n",
      "cons\n",
      "Lg_Land\n",
      "Sm_Land\n",
      "dec\n",
      "Lg_Land\n",
      "Sm_Land\n",
      "Word\n",
      "cons\n",
      "Lg_Land\n",
      "Sm_Land\n",
      "dec\n",
      "Lg_Land\n",
      "Sm_Land\n",
      "Pos\n",
      "cons\n",
      "Lg_Land\n",
      "Sm_Land\n",
      "dec\n",
      "Lg_Land\n",
      "Sm_Land\n",
      "s_02006\n",
      "Neg\n",
      "cons\n",
      "Lg_Land\n",
      "Sm_Land\n",
      "dec\n",
      "Lg_Land\n",
      "Sm_Land\n",
      "Word\n",
      "cons\n",
      "Lg_Land\n",
      "Sm_Land\n",
      "dec\n",
      "Lg_Land\n",
      "Sm_Land\n",
      "Pos\n",
      "cons\n",
      "Lg_Land\n",
      "Sm_Land\n",
      "dec\n",
      "Lg_Land\n",
      "Sm_Land\n",
      "s_02005\n",
      "Neg\n",
      "cons\n",
      "Lg_Land\n",
      "Sm_Land\n",
      "dec\n",
      "Lg_Land\n",
      "Sm_Land\n",
      "Word\n",
      "cons\n",
      "Lg_Land\n",
      "Sm_Land\n",
      "dec\n",
      "Lg_Land\n",
      "Sm_Land\n",
      "Pos\n",
      "cons\n",
      "Lg_Land\n",
      "Sm_Land\n",
      "dec\n",
      "Lg_Land\n",
      "Sm_Land\n",
      "s_02004\n",
      "Neg\n",
      "cons\n",
      "Lg_Land\n",
      "Sm_Land\n",
      "dec\n",
      "Lg_Land\n",
      "Sm_Land\n",
      "Word\n",
      "cons\n",
      "Lg_Land\n",
      "Sm_Land\n",
      "dec\n",
      "Lg_Land\n",
      "Sm_Land\n",
      "Pos\n",
      "cons\n",
      "Lg_Land\n",
      "Sm_Land\n",
      "dec\n",
      "Lg_Land\n",
      "Sm_Land\n",
      "s_02018\n",
      "Neg\n",
      "cons\n",
      "Lg_Land\n",
      "Sm_Land\n",
      "dec\n",
      "Lg_Land\n",
      "Sm_Land\n",
      "Word\n",
      "cons\n",
      "Lg_Land\n",
      "Sm_Land\n",
      "dec\n",
      "Lg_Land\n",
      "Sm_Land\n",
      "Pos\n",
      "cons\n",
      "Lg_Land\n",
      "Sm_Land\n",
      "dec\n",
      "Lg_Land\n",
      "Sm_Land\n",
      "s_02019\n",
      "Neg\n",
      "cons\n",
      "Lg_Land\n",
      "Sm_Land\n",
      "dec\n",
      "Lg_Land\n",
      "Sm_Land\n",
      "Word\n",
      "cons\n",
      "Lg_Land\n",
      "Sm_Land\n",
      "dec\n",
      "Lg_Land\n",
      "Sm_Land\n",
      "Pos\n",
      "cons\n",
      "Lg_Land\n",
      "Sm_Land\n",
      "dec\n",
      "Lg_Land\n",
      "Sm_Land\n",
      "s_02010\n",
      "Neg\n",
      "cons\n",
      "Lg_Land\n",
      "Sm_Land\n",
      "dec\n",
      "Lg_Land\n",
      "Sm_Land\n",
      "Word\n",
      "cons\n",
      "Lg_Land\n",
      "Sm_Land\n",
      "dec\n",
      "Lg_Land\n",
      "Sm_Land\n",
      "Pos\n",
      "cons\n",
      "Lg_Land\n",
      "Sm_Land\n",
      "dec\n",
      "Lg_Land\n",
      "Sm_Land\n",
      "s_02011\n",
      "Neg\n",
      "cons\n",
      "Lg_Land\n",
      "Sm_Land\n",
      "dec\n",
      "Lg_Land\n",
      "Sm_Land\n",
      "Word\n",
      "cons\n",
      "Lg_Land\n",
      "Sm_Land\n",
      "dec\n",
      "Lg_Land\n",
      "Sm_Land\n",
      "Pos\n",
      "cons\n",
      "Lg_Land\n",
      "Sm_Land\n",
      "dec\n",
      "Lg_Land\n",
      "Sm_Land\n",
      "s_02012\n",
      "Neg\n",
      "cons\n",
      "Lg_Land\n",
      "Sm_Land\n",
      "dec\n",
      "Lg_Land\n",
      "Sm_Land\n",
      "Word\n",
      "cons\n",
      "Lg_Land\n",
      "Sm_Land\n",
      "dec\n",
      "Lg_Land\n",
      "Sm_Land\n",
      "Pos\n",
      "cons\n",
      "Lg_Land\n",
      "Sm_Land\n",
      "dec\n",
      "Lg_Land\n",
      "Sm_Land\n",
      "s_02014\n",
      "Neg\n",
      "cons\n",
      "Lg_Land\n",
      "Sm_Land\n",
      "dec\n",
      "Lg_Land\n",
      "Sm_Land\n",
      "Word\n",
      "cons\n",
      "Lg_Land\n",
      "Sm_Land\n",
      "dec\n",
      "Lg_Land\n",
      "Sm_Land\n",
      "Pos\n",
      "cons\n",
      "Lg_Land\n",
      "Sm_Land\n",
      "dec\n",
      "Lg_Land\n",
      "Sm_Land\n",
      "s_02015\n",
      "Neg\n",
      "cons\n",
      "Lg_Land\n",
      "Sm_Land\n",
      "dec\n",
      "Lg_Land\n",
      "Sm_Land\n",
      "Word\n",
      "cons\n",
      "Lg_Land\n",
      "Sm_Land\n",
      "dec\n",
      "Lg_Land\n",
      "Sm_Land\n",
      "Pos\n",
      "cons\n",
      "Lg_Land\n",
      "Sm_Land\n",
      "dec\n",
      "Lg_Land\n",
      "Sm_Land\n",
      "s_02016\n",
      "Neg\n",
      "cons\n",
      "Lg_Land\n",
      "Sm_Land\n",
      "dec\n",
      "Lg_Land\n",
      "Sm_Land\n",
      "Word\n",
      "cons\n",
      "Lg_Land\n",
      "Sm_Land\n",
      "dec\n",
      "Lg_Land\n",
      "Sm_Land\n",
      "Pos\n",
      "cons\n",
      "Lg_Land\n",
      "Sm_Land\n",
      "dec\n",
      "Lg_Land\n",
      "Sm_Land\n",
      "s_02017\n",
      "Neg\n",
      "cons\n",
      "Lg_Land\n",
      "Sm_Land\n",
      "dec\n",
      "Lg_Land\n",
      "Sm_Land\n",
      "Word\n",
      "cons\n",
      "Lg_Land\n",
      "Sm_Land\n",
      "dec\n",
      "Lg_Land\n",
      "Sm_Land\n",
      "Pos\n",
      "cons\n",
      "Lg_Land\n",
      "Sm_Land\n",
      "dec\n",
      "Lg_Land\n",
      "Sm_Land\n",
      "s_02024\n",
      "Neg\n",
      "cons\n",
      "Lg_Land\n",
      "Sm_Land\n",
      "dec\n",
      "Lg_Land\n",
      "Sm_Land\n",
      "Word\n",
      "cons\n",
      "Lg_Land\n",
      "Sm_Land\n",
      "dec\n",
      "Lg_Land\n",
      "Sm_Land\n",
      "Pos\n",
      "cons\n",
      "Lg_Land\n",
      "Sm_Land\n",
      "dec\n",
      "Lg_Land\n",
      "Sm_Land\n",
      "s_02027\n",
      "Neg\n",
      "cons\n",
      "Lg_Land\n",
      "Sm_Land\n",
      "dec\n",
      "Lg_Land\n",
      "Sm_Land\n",
      "Word\n",
      "cons\n",
      "Lg_Land\n",
      "Sm_Land\n",
      "dec\n",
      "Lg_Land\n",
      "Sm_Land\n",
      "Pos\n",
      "cons\n",
      "Lg_Land\n",
      "Sm_Land\n",
      "dec\n",
      "Lg_Land\n",
      "Sm_Land\n",
      "s_02021\n",
      "Neg\n",
      "cons\n",
      "Lg_Land\n",
      "Sm_Land\n",
      "dec\n",
      "Lg_Land\n",
      "Sm_Land\n",
      "Word\n",
      "cons\n",
      "Lg_Land\n",
      "Sm_Land\n",
      "dec\n",
      "Lg_Land\n",
      "Sm_Land\n",
      "Pos\n",
      "cons\n",
      "Lg_Land\n",
      "Sm_Land\n",
      "dec\n",
      "Lg_Land\n",
      "Sm_Land\n",
      "s_02020\n",
      "Neg\n",
      "cons\n",
      "Lg_Land\n",
      "Sm_Land\n",
      "dec\n",
      "Lg_Land\n",
      "Sm_Land\n",
      "Word\n",
      "cons\n",
      "Lg_Land\n",
      "Sm_Land\n",
      "dec\n",
      "Lg_Land\n",
      "Sm_Land\n",
      "Pos\n",
      "cons\n",
      "Lg_Land\n",
      "Sm_Land\n",
      "dec\n",
      "Lg_Land\n",
      "Sm_Land\n",
      "s_02023\n",
      "Neg\n",
      "cons\n",
      "Lg_Land\n",
      "Sm_Land\n",
      "dec\n",
      "Lg_Land\n",
      "Sm_Land\n",
      "Word\n",
      "cons\n",
      "Lg_Land\n",
      "Sm_Land\n",
      "dec\n",
      "Lg_Land\n",
      "Sm_Land\n",
      "Pos\n",
      "cons\n",
      "Lg_Land\n",
      "Sm_Land\n",
      "dec\n",
      "Lg_Land\n",
      "Sm_Land\n",
      "s_02022\n",
      "Neg\n",
      "cons\n",
      "Lg_Land\n",
      "Sm_Land\n",
      "dec\n",
      "Lg_Land\n",
      "Sm_Land\n",
      "Word\n",
      "cons\n",
      "Lg_Land\n",
      "Sm_Land\n",
      "dec\n",
      "Lg_Land\n",
      "Sm_Land\n",
      "Pos\n",
      "cons\n",
      "Lg_Land\n",
      "Sm_Land\n",
      "dec\n",
      "Lg_Land\n",
      "Sm_Land\n"
     ]
    }
   ],
   "source": [
    "for s in big_dict.keys():\n",
    "    print s\n",
    "    #Laptop\n",
    "    #path = '/Users/frankkanayet/Google Drive/NLineData/Beh_Data/OnsetFiles_LandmarksFull'\n",
    "    #path = '/Users/frankkanayet/Google Drive/NLineData/Beh_Data/OnsetFiles_LandmarksFull/'+s+'/'\n",
    "    #Desktop\n",
    "    path = '/Users/frankanayet/Google Drive/NLineData/Beh_Data/OnsetFiles_Landmark_2groups'\n",
    "    path = '/Users/frankanayet/Google Drive/NLineData/Beh_Data/OnsetFiles_Landmark_2groups/'+s+'/'\n",
    "    os.makedirs(path)\n",
    "    #dec_ctch_filename = s+'_DEC_CTCH'+'.txt'\n",
    "    con_bad_trial = s+'_Con_Bad'+'.txt'\n",
    "    dec_bad_trial = s+'_Dec_Bad'+'.txt'\n",
    "    #dec_ctch_pathfile = path+dec_ctch_filename\n",
    "    con_bad_trial_pathfile = path+con_bad_trial\n",
    "    dec_bad_trial_pathfile = path+dec_bad_trial\n",
    "    #big_dict[s]['dec_ctch_onset'].to_csv(dec_ctch_pathfile, sep='\\t', header=False, index=False)\n",
    "    #big_dict[s]['dec_bad_trials'].to_csv(dec_bad_trial_pathfile, sep='\\t', header=False, index=False)\n",
    "    #big_dict[s]['con_bad_trials'].to_csv(con_bad_trial_pathfile, sep='\\t', header=False, index=False)\n",
    "    #del big_dict[s]['dec_ctch_onset']\n",
    "    #del big_dict[s]['dec_bad_trials']\n",
    "    #del big_dict[s]['con_bad_trials']\n",
    "    for lab in big_dict[s].keys():\n",
    "        print lab\n",
    "        for ph in big_dict[s][lab].keys():\n",
    "            print ph\n",
    "            for val in big_dict[s][lab][ph].keys():\n",
    "                print val\n",
    "                filename = s+'_'+lab+'_'+ph+'_'+val+'.txt'\n",
    "                pathfile = path+filename\n",
    "                big_dict[s][lab][ph][val].to_csv(pathfile, sep='\\t', header=False, index=False)"
   ]
  },
  {
   "cell_type": "code",
   "execution_count": 97,
   "metadata": {},
   "outputs": [],
   "source": [
    "#Save Break onset file\n",
    "path = '/Users/frankanayet/Google Drive/NLineData/Beh_Data/OnsetFiles_Landmark_2groups/'\n",
    "#Desktop\n",
    "break_onset = pd.DataFrame.from_items([('time',[190, 388]),('duration',[6,6]),('val',[1,1])])\n",
    "break_filename = 'Break_onsets.txt'\n",
    "break_pathfile = path+break_filename\n",
    "break_onset.to_csv(break_pathfile, sep='\\t', header=False, index=False)"
   ]
  },
  {
   "cell_type": "code",
   "execution_count": 108,
   "metadata": {},
   "outputs": [
    {
     "data": {
      "text/html": [
       "<div>\n",
       "<table border=\"1\" class=\"dataframe\">\n",
       "  <thead>\n",
       "    <tr style=\"text-align: right;\">\n",
       "      <th></th>\n",
       "      <th>Subject</th>\n",
       "      <th>Line_pct</th>\n",
       "    </tr>\n",
       "    <tr>\n",
       "      <th>Probe</th>\n",
       "      <th></th>\n",
       "      <th></th>\n",
       "    </tr>\n",
       "  </thead>\n",
       "  <tbody>\n",
       "    <tr>\n",
       "      <th>am</th>\n",
       "      <td>NaN</td>\n",
       "      <td>0.519545</td>\n",
       "    </tr>\n",
       "    <tr>\n",
       "      <th>as</th>\n",
       "      <td>NaN</td>\n",
       "      <td>0.480909</td>\n",
       "    </tr>\n",
       "    <tr>\n",
       "      <th>be</th>\n",
       "      <td>NaN</td>\n",
       "      <td>0.501705</td>\n",
       "    </tr>\n",
       "    <tr>\n",
       "      <th>by</th>\n",
       "      <td>NaN</td>\n",
       "      <td>0.499205</td>\n",
       "    </tr>\n",
       "    <tr>\n",
       "      <th>do</th>\n",
       "      <td>NaN</td>\n",
       "      <td>0.490114</td>\n",
       "    </tr>\n",
       "    <tr>\n",
       "      <th>he</th>\n",
       "      <td>NaN</td>\n",
       "      <td>0.495000</td>\n",
       "    </tr>\n",
       "    <tr>\n",
       "      <th>if</th>\n",
       "      <td>NaN</td>\n",
       "      <td>0.528977</td>\n",
       "    </tr>\n",
       "    <tr>\n",
       "      <th>is</th>\n",
       "      <td>NaN</td>\n",
       "      <td>0.512273</td>\n",
       "    </tr>\n",
       "    <tr>\n",
       "      <th>it</th>\n",
       "      <td>NaN</td>\n",
       "      <td>0.563523</td>\n",
       "    </tr>\n",
       "    <tr>\n",
       "      <th>me</th>\n",
       "      <td>NaN</td>\n",
       "      <td>0.440568</td>\n",
       "    </tr>\n",
       "    <tr>\n",
       "      <th>my</th>\n",
       "      <td>NaN</td>\n",
       "      <td>0.439432</td>\n",
       "    </tr>\n",
       "    <tr>\n",
       "      <th>of</th>\n",
       "      <td>NaN</td>\n",
       "      <td>0.486477</td>\n",
       "    </tr>\n",
       "    <tr>\n",
       "      <th>or</th>\n",
       "      <td>NaN</td>\n",
       "      <td>0.483864</td>\n",
       "    </tr>\n",
       "    <tr>\n",
       "      <th>ox</th>\n",
       "      <td>NaN</td>\n",
       "      <td>0.502500</td>\n",
       "    </tr>\n",
       "    <tr>\n",
       "      <th>so</th>\n",
       "      <td>NaN</td>\n",
       "      <td>0.490909</td>\n",
       "    </tr>\n",
       "    <tr>\n",
       "      <th>we</th>\n",
       "      <td>NaN</td>\n",
       "      <td>0.465000</td>\n",
       "    </tr>\n",
       "  </tbody>\n",
       "</table>\n",
       "</div>"
      ],
      "text/plain": [
       "       Subject  Line_pct\n",
       "Probe                   \n",
       "am         NaN  0.519545\n",
       "as         NaN  0.480909\n",
       "be         NaN  0.501705\n",
       "by         NaN  0.499205\n",
       "do         NaN  0.490114\n",
       "he         NaN  0.495000\n",
       "if         NaN  0.528977\n",
       "is         NaN  0.512273\n",
       "it         NaN  0.563523\n",
       "me         NaN  0.440568\n",
       "my         NaN  0.439432\n",
       "of         NaN  0.486477\n",
       "or         NaN  0.483864\n",
       "ox         NaN  0.502500\n",
       "so         NaN  0.490909\n",
       "we         NaN  0.465000"
      ]
     },
     "execution_count": 108,
     "metadata": {},
     "output_type": "execute_result"
    }
   ],
   "source": [
    "nline_df.loc[nline_df['Task'] == 'Word', ['Subject', 'Probe', 'Line_pct']].groupby(['Probe']).mean()"
   ]
  },
  {
   "cell_type": "code",
   "execution_count": 148,
   "metadata": {},
   "outputs": [],
   "source": [
    "new_df = pd.read_csv('nline_data.csv', delimiter='\\t')"
   ]
  },
  {
   "cell_type": "code",
   "execution_count": 149,
   "metadata": {},
   "outputs": [],
   "source": [
    "new_df = new_df.loc[new_df['Task']==3,['Subject', 'Probe', 'Line_pct']]"
   ]
  },
  {
   "cell_type": "code",
   "execution_count": 150,
   "metadata": {},
   "outputs": [
    {
     "data": {
      "text/plain": [
       "Subject  Probe\n",
       "s_02003  am       0.5450\n",
       "         as       0.4300\n",
       "         be       0.2700\n",
       "         by       0.4525\n",
       "         do       0.5375\n",
       "         he       0.4600\n",
       "         if       0.6500\n",
       "         is       0.6250\n",
       "         it       0.4050\n",
       "         me       0.7075\n",
       "         my       0.4700\n",
       "         of       0.4675\n",
       "         or       0.2575\n",
       "         ox       0.7025\n",
       "         so       0.5175\n",
       "         we       0.4025\n",
       "s_02004  am       0.8150\n",
       "         as       0.5275\n",
       "         be       0.7450\n",
       "         by       0.5950\n",
       "         do       0.5875\n",
       "         he       0.4375\n",
       "         if       0.5075\n",
       "         is       0.5800\n",
       "         it       0.5175\n",
       "         me       0.2925\n",
       "         my       0.5525\n",
       "         of       0.4650\n",
       "         or       0.3875\n",
       "         ox       0.4725\n",
       "                   ...  \n",
       "s_02024  be       0.3900\n",
       "         by       0.3050\n",
       "         do       0.4725\n",
       "         he       0.4475\n",
       "         if       0.2375\n",
       "         is       0.2825\n",
       "         it       0.5975\n",
       "         me       0.6000\n",
       "         my       0.4725\n",
       "         of       0.6300\n",
       "         or       0.4800\n",
       "         ox       0.5475\n",
       "         so       0.5900\n",
       "         we       0.7125\n",
       "s_02027  am       0.4325\n",
       "         as       0.4775\n",
       "         be       0.7125\n",
       "         by       0.6300\n",
       "         do       0.4850\n",
       "         he       0.3200\n",
       "         if       0.5825\n",
       "         is       0.7275\n",
       "         it       0.6700\n",
       "         me       0.3275\n",
       "         my       0.3950\n",
       "         of       0.4100\n",
       "         or       0.5700\n",
       "         ox       0.4650\n",
       "         so       0.4375\n",
       "         we       0.2575\n",
       "Name: Line_pct, dtype: float64"
      ]
     },
     "execution_count": 150,
     "metadata": {},
     "output_type": "execute_result"
    }
   ],
   "source": [
    "new_df.groupby(['Subject', 'Probe'])['Line_pct'].mean()"
   ]
  },
  {
   "cell_type": "code",
   "execution_count": 153,
   "metadata": {
    "collapsed": true
   },
   "outputs": [],
   "source": [
    "%matplotlib inline\n",
    "import matplotlib as mpl\n",
    "import matplotlib.pyplot as plt"
   ]
  },
  {
   "cell_type": "code",
   "execution_count": 156,
   "metadata": {},
   "outputs": [
    {
     "data": {
      "text/plain": [
       "<matplotlib.axes._subplots.AxesSubplot at 0x118143910>"
      ]
     },
     "execution_count": 156,
     "metadata": {},
     "output_type": "execute_result"
    },
    {
     "data": {
      "image/png": "[encoded data removed]",
      "text/plain": [
       "<matplotlib.figure.Figure at 0x110f6f0d0>"
      ]
     },
     "metadata": {},
     "output_type": "display_data"
    }
   ],
   "source": [
    "new_df.groupby(['Subject', 'Probe'])['Line_pct'].mean().hist(bins=30)"
   ]
  },
  {
   "cell_type": "code",
   "execution_count": null,
   "metadata": {
    "collapsed": true
   },
   "outputs": [],
   "source": []
  }
 ],
 "metadata": {
  "kernelspec": {
   "display_name": "Python 2",
   "language": "python",
   "name": "python2"
  },
  "language_info": {
   "codemirror_mode": {
    "name": "ipython",
    "version": 2
   },
   "file_extension": ".py",
   "mimetype": "text/x-python",
   "name": "python",
   "nbconvert_exporter": "python",
   "pygments_lexer": "ipython2",
   "version": "2.7.12"
  }
 },
 "nbformat": 4,
 "nbformat_minor": 1
}
