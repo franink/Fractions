{
 "cells": [
  {
   "cell_type": "code",
   "execution_count": 1,
   "metadata": {
    "collapsed": false
   },
   "outputs": [],
   "source": [
    "%matplotlib inline\n",
    "import matplotlib as mpl\n",
    "import matplotlib.pyplot as plt\n",
    "import seaborn as sns\n",
    "import pandas as pd\n",
    "import numpy as np\n",
    "from scipy import io\n",
    "import os\n",
    "import glob"
   ]
  },
  {
   "cell_type": "code",
   "execution_count": 2,
   "metadata": {
    "collapsed": true
   },
   "outputs": [],
   "source": [
    "from IPython.display import HTML"
   ]
  },
  {
   "cell_type": "code",
   "execution_count": 3,
   "metadata": {
    "collapsed": false
   },
   "outputs": [
    {
     "data": {
      "text/html": [
       "<script>\n",
       "code_show=true; \n",
       "function code_toggle() {\n",
       " if (code_show){\n",
       " $('div.input').hide();\n",
       " } else {\n",
       " $('div.input').show();\n",
       " }\n",
       " code_show = !code_show\n",
       "} \n",
       "$( document ).ready(code_toggle);\n",
       "</script>\n",
       "The raw code for this IPython notebook is by default hidden for easier reading.\n",
       "To toggle on/off the raw code, click <a href=\"javascript:code_toggle()\">here</a>."
      ],
      "text/plain": [
       "<IPython.core.display.HTML object>"
      ]
     },
     "execution_count": 3,
     "metadata": {},
     "output_type": "execute_result"
    }
   ],
   "source": [
    "HTML('''<script>\n",
    "code_show=true; \n",
    "function code_toggle() {\n",
    " if (code_show){\n",
    " $('div.input').hide();\n",
    " } else {\n",
    " $('div.input').show();\n",
    " }\n",
    " code_show = !code_show\n",
    "} \n",
    "$( document ).ready(code_toggle);\n",
    "</script>\n",
    "The raw code for this IPython notebook is by default hidden for easier reading.\n",
    "To toggle on/off the raw code, click <a href=\"javascript:code_toggle()\">here</a>.''')"
   ]
  },
  {
   "cell_type": "code",
   "execution_count": 4,
   "metadata": {
    "collapsed": true
   },
   "outputs": [],
   "source": [
    "sns.set_style('white')\n",
    "sns.set_style('ticks')\n",
    "sns.set_palette('muted')\n",
    "sns.set_color_codes('muted')"
   ]
  },
  {
   "cell_type": "code",
   "execution_count": 5,
   "metadata": {
    "collapsed": false
   },
   "outputs": [],
   "source": [
    "## Laptop\n",
    "#filepath = '/Users/frankkanayet/Dropbox/NLineExperiment/PilotData'\n",
    "#filepath = '/Users/frankkanayet/Dropbox/NLineExperiment/PilotData/test3s'\n",
    "#filepath = '/Users/frankkanayet/Google Drive/NLineData/Beh_Data'\n",
    "\n",
    "## Desktop\n",
    "#filepath = '/Users/frankanayet/Dropbox/NLineExperiment/Data'\n",
    "filepath = '/Users/frankanayet/Google Drive/NLineData/Beh_Data/NLine-Space/NLine'\n",
    "os.chdir(filepath)"
   ]
  },
  {
   "cell_type": "code",
   "execution_count": 6,
   "metadata": {
    "collapsed": false
   },
   "outputs": [
    {
     "name": "stdout",
     "output_type": "stream",
     "text": [
      "Pandas version 0.17.0\n"
     ]
    }
   ],
   "source": [
    "print 'Pandas version ' + pd.__version__"
   ]
  },
  {
   "cell_type": "code",
   "execution_count": 7,
   "metadata": {
    "collapsed": false
   },
   "outputs": [
    {
     "name": "stdout",
     "output_type": "stream",
     "text": [
      "['Nline_03001-Oct1315a.mat', 'Nline_03003-Nov0215a.mat', 'Nline_03004-Oct2915corr.mat', 'Nline_03005-Nov0915a.mat', 'Nline_03006-Nov1215a.mat', 'Nline_03007-Nov2315a.mat']\n"
     ]
    },
    {
     "data": {
      "text/plain": [
       "['s_03001', 's_03003', 's_03004', 's_03005', 's_03006', 's_03007']"
      ]
     },
     "execution_count": 7,
     "metadata": {},
     "output_type": "execute_result"
    }
   ],
   "source": [
    "filenames = glob.glob('Nline_*.mat')\n",
    "print filenames\n",
    "#index to isolate subj numbers\n",
    "data_dict = {}\n",
    "for i in filenames:\n",
    "    id1 = filenames[0].find('_') + 1\n",
    "    id2 = filenames[0].find('-')\n",
    "    sub_nbr = i[id1:id2]\n",
    "    sub_name = i\n",
    "    s_id = 's_'+sub_nbr\n",
    "    data_dict[s_id] = io.loadmat(sub_name)\n",
    "\n",
    "#sub_name = filenames[0] #This will be changed to a loop for all subjects later\n",
    "#mat = io.loadmat(sub_name)\n",
    "data_dict.keys()"
   ]
  },
  {
   "cell_type": "code",
   "execution_count": 8,
   "metadata": {
    "collapsed": false
   },
   "outputs": [],
   "source": [
    "sub_ex = data_dict.keys()[0]"
   ]
  },
  {
   "cell_type": "code",
   "execution_count": 9,
   "metadata": {
    "collapsed": false
   },
   "outputs": [],
   "source": [
    "#data_dict['s_00011']['p']"
   ]
  },
  {
   "cell_type": "code",
   "execution_count": 10,
   "metadata": {
    "collapsed": false
   },
   "outputs": [],
   "source": [
    "#for i in data_dict:\n",
    "#    data_dict[i].pop('__header__')\n",
    "#    data_dict[i].pop('__version__')\n",
    "#    data_dict[i].pop('__globals__')\n",
    "#data_dict['s_00011'].keys()"
   ]
  },
  {
   "cell_type": "code",
   "execution_count": 11,
   "metadata": {
    "collapsed": false
   },
   "outputs": [
    {
     "data": {
      "text/plain": [
       "33"
      ]
     },
     "execution_count": 11,
     "metadata": {},
     "output_type": "execute_result"
    }
   ],
   "source": [
    "## The indexes of zeros are as follows [0][0][x][y][z][0] The x y z are the 3 dimensions of the data 3d matrix the zeros are padding\n",
    "data_dict[sub_ex]['p']['NlineResults'][0][0][0][5][0][0]\n",
    "len(data_dict[sub_ex]['p']['NlineResults'][0][0][:])"
   ]
  },
  {
   "cell_type": "code",
   "execution_count": 12,
   "metadata": {
    "collapsed": false
   },
   "outputs": [
    {
     "data": {
      "text/plain": [
       "('ramp_up',\n",
       " 'Mean_ITI',\n",
       " 'Mean_hold',\n",
       " 'decision',\n",
       " 'consider',\n",
       " 'runs',\n",
       " 'nStim',\n",
       " 'ntasks',\n",
       " 'tasks',\n",
       " 'trialSecs',\n",
       " 'vDistCM',\n",
       " 'screenWidthCM',\n",
       " 'usedScreenSizeDeg',\n",
       " 'lineLengthDeg',\n",
       " 'NlineResults',\n",
       " 'time_Runs',\n",
       " 'task_transition',\n",
       " 'ppc_adjust',\n",
       " 'lineLength',\n",
       " 'start_Nline',\n",
       " 'finish_Nline')"
      ]
     },
     "execution_count": 12,
     "metadata": {},
     "output_type": "execute_result"
    }
   ],
   "source": [
    "data_dict[sub_ex]['p'].dtype.names"
   ]
  },
  {
   "cell_type": "code",
   "execution_count": 13,
   "metadata": {
    "collapsed": false
   },
   "outputs": [],
   "source": [
    "cons_time = data_dict[sub_ex]['p']['consider'][0][0][0][0]\n",
    "dec_time = data_dict[sub_ex]['p']['decision'][0][0][0][0]"
   ]
  },
  {
   "cell_type": "code",
   "execution_count": 14,
   "metadata": {
    "collapsed": false
   },
   "outputs": [],
   "source": [
    "new_dat = {}\n",
    "#new_df = {}\n",
    "for s in data_dict:\n",
    "    tasks = ['NlineResults']\n",
    "    new_dat[s]={}\n",
    "    #new_df[s] = {}\n",
    "    for task in tasks:\n",
    "        dat = data_dict[s]['p'][task]\n",
    "        num_fields = len(data_dict[s]['p'][task][0][0][0])\n",
    "        dat_names = []\n",
    "        for k in range(0,num_fields):\n",
    "            dat_names.append(dat[0][0][0][k][0][0])\n",
    "        new_dat[s][task] = {}\n",
    "        runs = data_dict[s]['p']['runs'][0][0][0][0]\n",
    "        for run in range(0,runs):\n",
    "            run_name = 'run'+str(run+1)\n",
    "            new_dat[s][task][run_name] = {}\n",
    "            for i in range(0,len(dat_names)):\n",
    "                new_dat[s][task][run_name][dat_names[i]] = []\n",
    "                for j in range(0,len(dat[0][0][:])-1):\n",
    "                    if dat_names[i] == 'catch_probe':\n",
    "                        new_dat[s][task][run_name][dat_names[i]].append(dat[0][0][j+1][i][run])\n",
    "                    elif dat_names[i] == 'Probe':\n",
    "                        new_dat[s][task][run_name][dat_names[i]].append(dat[0][0][j+1][i][run][0])\n",
    "                    else:\n",
    "                        new_dat[s][task][run_name][dat_names[i]].append(dat[0][0][j+1][i][run][0])\n",
    "#legible access to the data\n",
    "Nline = 'NlineResults' #numberline"
   ]
  },
  {
   "cell_type": "code",
   "execution_count": 15,
   "metadata": {
    "collapsed": false
   },
   "outputs": [
    {
     "data": {
      "text/plain": [
       "array([ 22.50054871])"
      ]
     },
     "execution_count": 15,
     "metadata": {},
     "output_type": "execute_result"
    }
   ],
   "source": [
    "data_dict[s]['p'][task][0][0][1][i][run][0]"
   ]
  },
  {
   "cell_type": "code",
   "execution_count": 16,
   "metadata": {
    "collapsed": false
   },
   "outputs": [
    {
     "data": {
      "text/plain": [
       "[u'Slow',\n",
       " u'Line_pct',\n",
       " u'iti',\n",
       " u'cursor_pos',\n",
       " u'ITI_onset_real',\n",
       " u'ITI_onset',\n",
       " u'RT',\n",
       " u'decision_end',\n",
       " u'decision_onset_real',\n",
       " u'decision_end_real',\n",
       " u'Correct',\n",
       " u'Wrong',\n",
       " u'BadPress',\n",
       " u'Press',\n",
       " u'Response',\n",
       " u'Acc',\n",
       " u'Task',\n",
       " u'Trial',\n",
       " u'Points',\n",
       " u'Error',\n",
       " u'catch',\n",
       " u'hold',\n",
       " u'Block',\n",
       " u'Probe',\n",
       " u'consider_onset_real',\n",
       " u'consider_onset',\n",
       " u'decision_onset',\n",
       " u'hold_onset_real',\n",
       " u'hold_onset']"
      ]
     },
     "execution_count": 16,
     "metadata": {},
     "output_type": "execute_result"
    }
   ],
   "source": [
    "new_dat[sub_ex]['NlineResults']['run1'].keys()"
   ]
  },
  {
   "cell_type": "code",
   "execution_count": 17,
   "metadata": {
    "collapsed": false
   },
   "outputs": [
    {
     "data": {
      "text/plain": [
       "[array([0], dtype=uint8),\n",
       " array([0], dtype=uint8),\n",
       " array([0], dtype=uint8),\n",
       " array([0], dtype=uint8),\n",
       " array([0], dtype=uint8),\n",
       " array([0], dtype=uint8),\n",
       " array([1], dtype=uint8),\n",
       " array([0], dtype=uint8),\n",
       " array([0], dtype=uint8),\n",
       " array([0], dtype=uint8),\n",
       " array([0], dtype=uint8),\n",
       " array([0], dtype=uint8),\n",
       " array([0], dtype=uint8),\n",
       " array([1], dtype=uint8),\n",
       " array([0], dtype=uint8),\n",
       " array([0], dtype=uint8),\n",
       " array([0], dtype=uint8),\n",
       " array([0], dtype=uint8),\n",
       " array([1], dtype=uint8),\n",
       " array([0], dtype=uint8),\n",
       " array([0], dtype=uint8),\n",
       " array([0], dtype=uint8),\n",
       " array([0], dtype=uint8),\n",
       " array([0], dtype=uint8),\n",
       " array([0], dtype=uint8),\n",
       " array([0], dtype=uint8),\n",
       " array([0], dtype=uint8),\n",
       " array([0], dtype=uint8),\n",
       " array([0], dtype=uint8),\n",
       " array([1], dtype=uint8),\n",
       " array([0], dtype=uint8),\n",
       " array([0], dtype=uint8)]"
      ]
     },
     "execution_count": 17,
     "metadata": {},
     "output_type": "execute_result"
    }
   ],
   "source": [
    "new_dat[sub_ex]['NlineResults']['run1']['Error']"
   ]
  },
  {
   "cell_type": "code",
   "execution_count": 18,
   "metadata": {
    "collapsed": false
   },
   "outputs": [],
   "source": [
    "subj = data_dict.keys()\n",
    "tasks = [Nline]\n",
    "tuples = []\n",
    "rows = len(data_dict[sub_ex]['p'][Nline][0][0][:])-1\n",
    "for s in subj:\n",
    "    runs = new_dat[s]['NlineResults'].keys()\n",
    "    for run in runs:\n",
    "        for i in range(0,rows):\n",
    "            tuples.append((s, run, i))\n",
    "len(tuples)\n",
    "#iterables = [subj,tasks,runs]\n",
    "indexes = pd.MultiIndex.from_tuples(tuples, names=['Subj', 'Run', 'Trial'])\n",
    "nline_cols = len(new_dat[sub_ex][Nline]['run1'].keys())"
   ]
  },
  {
   "cell_type": "code",
   "execution_count": 19,
   "metadata": {
    "collapsed": false
   },
   "outputs": [
    {
     "data": {
      "text/plain": [
       "('s_03001', 'run2', 26)"
      ]
     },
     "execution_count": 19,
     "metadata": {},
     "output_type": "execute_result"
    }
   ],
   "source": [
    "indexes[90]"
   ]
  },
  {
   "cell_type": "code",
   "execution_count": 20,
   "metadata": {
    "collapsed": false
   },
   "outputs": [
    {
     "data": {
      "text/plain": [
       "'run1'"
      ]
     },
     "execution_count": 20,
     "metadata": {},
     "output_type": "execute_result"
    }
   ],
   "source": [
    "indexes[1][1]"
   ]
  },
  {
   "cell_type": "code",
   "execution_count": 21,
   "metadata": {
    "collapsed": false
   },
   "outputs": [
    {
     "data": {
      "text/plain": [
       "u'consider_onset_real'"
      ]
     },
     "execution_count": 21,
     "metadata": {},
     "output_type": "execute_result"
    }
   ],
   "source": [
    "varnames = new_dat[sub_ex][Nline]['run1'].keys()\n",
    "varnames[24]"
   ]
  },
  {
   "cell_type": "code",
   "execution_count": 22,
   "metadata": {
    "collapsed": false
   },
   "outputs": [
    {
     "data": {
      "text/plain": [
       "768"
      ]
     },
     "execution_count": 22,
     "metadata": {},
     "output_type": "execute_result"
    }
   ],
   "source": [
    "len(indexes)"
   ]
  },
  {
   "cell_type": "code",
   "execution_count": 23,
   "metadata": {
    "collapsed": false
   },
   "outputs": [],
   "source": [
    "# Code empty cells of probes and catch_probes as Nan\n",
    "Dic_list = []\n",
    "probes = ['catch_probe']\n",
    "for data in indexes:\n",
    "    temp_dict = {}\n",
    "    for var in varnames:\n",
    "        if len(new_dat.get(data[0]).get(Nline).get(data[1]).get(var)[data[2]]) == 0:\n",
    "            new_dat.get(data[0]).get(Nline).get(data[1]).get(var)[data[2]] = np.array([np.nan])\n",
    "        temp_dict[var] = new_dat.get(data[0]).get(Nline).get(data[1]).get(var)[data[2]][0]\n",
    "    Dic_list.append(temp_dict)"
   ]
  },
  {
   "cell_type": "code",
   "execution_count": 24,
   "metadata": {
    "collapsed": false
   },
   "outputs": [
    {
     "data": {
      "text/plain": [
       "8.0"
      ]
     },
     "execution_count": 24,
     "metadata": {},
     "output_type": "execute_result"
    }
   ],
   "source": [
    "#Create dataframe\n",
    "nline_df = pd.DataFrame(Dic_list, index=indexes)\n",
    "sum(nline_df.loc[sub_ex].loc['run1'].iloc[0:48]['catch'])"
   ]
  },
  {
   "cell_type": "code",
   "execution_count": 25,
   "metadata": {
    "collapsed": false
   },
   "outputs": [
    {
     "data": {
      "text/plain": [
       "Trial\n",
       "0    0.74\n",
       "1    0.60\n",
       "2    0.33\n",
       "3    0.93\n",
       "4    0.07\n",
       "5    0.85\n",
       "6    0.45\n",
       "7    0.28\n",
       "8    0.65\n",
       "9    0.09\n",
       "Name: Line_pct, dtype: float64"
      ]
     },
     "execution_count": 25,
     "metadata": {},
     "output_type": "execute_result"
    }
   ],
   "source": [
    "nline_df.loc[sub_ex].loc['run4'].iloc[0:10]['Line_pct']"
   ]
  },
  {
   "cell_type": "code",
   "execution_count": 26,
   "metadata": {
    "collapsed": false
   },
   "outputs": [
    {
     "data": {
      "text/plain": [
       "FrozenList([u'Subject', u'Run', u'Trial'])"
      ]
     },
     "execution_count": 26,
     "metadata": {},
     "output_type": "execute_result"
    }
   ],
   "source": [
    "nline_df.index.names = ['Subject', 'Run', 'Trial']\n",
    "nline_df.index.names"
   ]
  },
  {
   "cell_type": "code",
   "execution_count": 27,
   "metadata": {
    "collapsed": false
   },
   "outputs": [],
   "source": [
    "#test = nline_df['Probe']\n",
    "#for i in range(0,len(test)):\n",
    "#    test[i] = np.ravel(test[i])\n",
    "#    test[i] = test[i][0]\n",
    "#nline_df['Probe'] = test\n",
    "#nline_df['Probe']"
   ]
  },
  {
   "cell_type": "markdown",
   "metadata": {},
   "source": [
    "### Create Stim Labels"
   ]
  },
  {
   "cell_type": "code",
   "execution_count": 28,
   "metadata": {
    "collapsed": false
   },
   "outputs": [],
   "source": [
    "#now nline\n",
    "#nline_df['Num'] = nline_df['Num'].map('{:.0f}'.format)\n",
    "#nline_df['Denom'] = nline_df['Denom'].map('{:.0f}'.format)\n",
    "#nline_df['Stim'] = nline_df['Num']+'/'+nline_df['Denom']\n",
    "#nline_df['Stim']"
   ]
  },
  {
   "cell_type": "code",
   "execution_count": 29,
   "metadata": {
    "collapsed": false
   },
   "outputs": [
    {
     "data": {
      "text/plain": [
       "Index([u'Acc', u'BadPress', u'Block', u'Correct', u'Error', u'ITI_onset',\n",
       "       u'ITI_onset_real', u'Line_pct', u'Points', u'Press', u'Probe', u'RT',\n",
       "       u'Response', u'Slow', u'Task', u'Trial', u'Wrong', u'catch',\n",
       "       u'consider_onset', u'consider_onset_real', u'cursor_pos',\n",
       "       u'decision_end', u'decision_end_real', u'decision_onset',\n",
       "       u'decision_onset_real', u'hold', u'hold_onset', u'hold_onset_real',\n",
       "       u'iti'],\n",
       "      dtype='object')"
      ]
     },
     "execution_count": 29,
     "metadata": {},
     "output_type": "execute_result"
    }
   ],
   "source": [
    "nline_df.columns"
   ]
  },
  {
   "cell_type": "code",
   "execution_count": 30,
   "metadata": {
    "collapsed": false
   },
   "outputs": [
    {
     "name": "stderr",
     "output_type": "stream",
     "text": [
      "/anaconda/lib/python2.7/site-packages/IPython/kernel/__main__.py:3: SettingWithCopyWarning: \n",
      "A value is trying to be set on a copy of a slice from a DataFrame\n",
      "\n",
      "See the caveats in the documentation: http://pandas.pydata.org/pandas-docs/stable/indexing.html#indexing-view-versus-copy\n",
      "  app.launch_new_instance()\n",
      "/anaconda/lib/python2.7/site-packages/IPython/kernel/__main__.py:4: SettingWithCopyWarning: \n",
      "A value is trying to be set on a copy of a slice from a DataFrame\n",
      "\n",
      "See the caveats in the documentation: http://pandas.pydata.org/pandas-docs/stable/indexing.html#indexing-view-versus-copy\n",
      "/anaconda/lib/python2.7/site-packages/IPython/kernel/__main__.py:5: SettingWithCopyWarning: \n",
      "A value is trying to be set on a copy of a slice from a DataFrame\n",
      "\n",
      "See the caveats in the documentation: http://pandas.pydata.org/pandas-docs/stable/indexing.html#indexing-view-versus-copy\n"
     ]
    },
    {
     "data": {
      "text/plain": [
       "'Pos'"
      ]
     },
     "execution_count": 30,
     "metadata": {},
     "output_type": "execute_result"
    }
   ],
   "source": [
    "#Make task as string\n",
    "nline_df['Task'] = nline_df['Task'].astype(str)\n",
    "nline_df['Task'][nline_df['Task']=='1.0'] = 'Pos'\n",
    "nline_df['Task'][nline_df['Task']=='2.0'] = 'Neg'\n",
    "nline_df['Task'][nline_df['Task']=='3.0'] = 'Word'\n",
    "nline_df['Task'].iloc[16]"
   ]
  },
  {
   "cell_type": "code",
   "execution_count": 31,
   "metadata": {
    "collapsed": false
   },
   "outputs": [
    {
     "data": {
      "text/plain": [
       "Subject  Run   Trial\n",
       "s_03001  run1  0        Pos\n",
       "               1        Pos\n",
       "               2        Pos\n",
       "               3        Pos\n",
       "               4        Pos\n",
       "               5        Pos\n",
       "               6        Pos\n",
       "               7        Pos\n",
       "               8        Pos\n",
       "               9        Pos\n",
       "               10       Pos\n",
       "               11       Pos\n",
       "               12       Pos\n",
       "               13       Pos\n",
       "               14       Pos\n",
       "               15       Pos\n",
       "               16       Pos\n",
       "               17       Pos\n",
       "               18       Pos\n",
       "               19       Pos\n",
       "               20       Pos\n",
       "               21       Pos\n",
       "               22       Pos\n",
       "               23       Pos\n",
       "               24       Pos\n",
       "               25       Pos\n",
       "               26       Pos\n",
       "               27       Pos\n",
       "               28       Pos\n",
       "               29       Pos\n",
       "                       ... \n",
       "s_03007  run4  2        Pos\n",
       "               3        Pos\n",
       "               4        Pos\n",
       "               5        Pos\n",
       "               6        Pos\n",
       "               7        Pos\n",
       "               8        Pos\n",
       "               9        Pos\n",
       "               10       Pos\n",
       "               11       Pos\n",
       "               12       Pos\n",
       "               13       Pos\n",
       "               14       Pos\n",
       "               15       Pos\n",
       "               16       Pos\n",
       "               17       Pos\n",
       "               18       Pos\n",
       "               19       Pos\n",
       "               20       Pos\n",
       "               21       Pos\n",
       "               22       Pos\n",
       "               23       Pos\n",
       "               24       Pos\n",
       "               25       Pos\n",
       "               26       Pos\n",
       "               27       Pos\n",
       "               28       Pos\n",
       "               29       Pos\n",
       "               30       Pos\n",
       "               31       Pos\n",
       "Name: Task, dtype: object"
      ]
     },
     "execution_count": 31,
     "metadata": {},
     "output_type": "execute_result"
    }
   ],
   "source": [
    "nline_df['Task']"
   ]
  },
  {
   "cell_type": "code",
   "execution_count": 32,
   "metadata": {
    "collapsed": false
   },
   "outputs": [
    {
     "data": {
      "text/plain": [
       "Subject  Run   Trial\n",
       "s_03001  run1  0        0.14\n",
       "               1        0.07\n",
       "               2        0.15\n",
       "               3        0.05\n",
       "               4        0.07\n",
       "               5        0.17\n",
       "               6        0.24\n",
       "               7        0.23\n",
       "               8        0.09\n",
       "               9        0.09\n",
       "               10       0.07\n",
       "               11       0.15\n",
       "               12       0.10\n",
       "               13       0.11\n",
       "               14       0.22\n",
       "               15       0.21\n",
       "               16       0.24\n",
       "               17       0.10\n",
       "               18       0.07\n",
       "               19       0.09\n",
       "               20       0.07\n",
       "               21       0.23\n",
       "               22       0.15\n",
       "               23       0.15\n",
       "               24       0.07\n",
       "               25       0.14\n",
       "               26       0.09\n",
       "               27       0.11\n",
       "               28       0.21\n",
       "               29       0.17\n",
       "                        ... \n",
       "s_03007  run4  2        0.07\n",
       "               3        0.09\n",
       "               4        0.23\n",
       "               5        0.07\n",
       "               6        0.09\n",
       "               7        0.14\n",
       "               8        0.07\n",
       "               9        0.21\n",
       "               10       0.15\n",
       "               11       0.22\n",
       "               12       0.10\n",
       "               13       0.24\n",
       "               14       0.15\n",
       "               15       0.05\n",
       "               16       0.11\n",
       "               17       0.14\n",
       "               18       0.21\n",
       "               19       0.15\n",
       "               20       0.22\n",
       "               21       0.15\n",
       "               22       0.07\n",
       "               23       0.23\n",
       "               24       0.07\n",
       "               25       0.10\n",
       "               26       0.09\n",
       "               27       0.17\n",
       "               28       0.09\n",
       "               29       0.05\n",
       "               30       0.24\n",
       "               31       0.07\n",
       "Name: LandmarkDist, dtype: float64"
      ]
     },
     "execution_count": 32,
     "metadata": {},
     "output_type": "execute_result"
    }
   ],
   "source": [
    "nline_df['Dist0'] = abs(nline_df['Line_pct'] - 0)\n",
    "nline_df['Dist100'] = abs(nline_df['Line_pct'] - 1)\n",
    "nline_df['Dist50'] = abs(nline_df['Line_pct'] - 0.5)\n",
    "nline_df['LandmarkDist'] = nline_df[['Dist0','Dist100','Dist50']].min(axis=1) \n",
    "nline_df['LandmarkDist']"
   ]
  },
  {
   "cell_type": "markdown",
   "metadata": {
    "collapsed": true
   },
   "source": [
    "## Number Line Analyses"
   ]
  },
  {
   "cell_type": "markdown",
   "metadata": {},
   "source": [
    "### Accuracy & RT"
   ]
  },
  {
   "cell_type": "code",
   "execution_count": 33,
   "metadata": {
    "collapsed": false
   },
   "outputs": [
    {
     "data": {
      "text/plain": [
       "528"
      ]
     },
     "execution_count": 33,
     "metadata": {},
     "output_type": "execute_result"
    }
   ],
   "source": [
    "nline_no_miss = nline_df[['Error', 'RT', 'catch']]\n",
    "nline_no_miss = nline_no_miss[nline_no_miss['catch']<1]\n",
    "len(nline_no_miss)"
   ]
  },
  {
   "cell_type": "code",
   "execution_count": 34,
   "metadata": {
    "collapsed": false
   },
   "outputs": [],
   "source": [
    "#nline_no_miss = nline_no_miss.replace(-1, np.nan)\n",
    "nline_no_miss = nline_no_miss.drop('catch', 1)"
   ]
  },
  {
   "cell_type": "code",
   "execution_count": 35,
   "metadata": {
    "collapsed": false
   },
   "outputs": [
    {
     "name": "stderr",
     "output_type": "stream",
     "text": [
      "/anaconda/lib/python2.7/site-packages/IPython/kernel/__main__.py:2: SettingWithCopyWarning: \n",
      "A value is trying to be set on a copy of a slice from a DataFrame\n",
      "\n",
      "See the caveats in the documentation: http://pandas.pydata.org/pandas-docs/stable/indexing.html#indexing-view-versus-copy\n",
      "  from IPython.kernel.zmq import kernelapp as app\n"
     ]
    },
    {
     "data": {
      "text/html": [
       "<div>\n",
       "<table border=\"1\" class=\"dataframe\">\n",
       "  <thead>\n",
       "    <tr style=\"text-align: right;\">\n",
       "      <th></th>\n",
       "      <th></th>\n",
       "      <th></th>\n",
       "      <th>Error</th>\n",
       "      <th>RT</th>\n",
       "      <th>Missed</th>\n",
       "    </tr>\n",
       "    <tr>\n",
       "      <th>Subject</th>\n",
       "      <th>Run</th>\n",
       "      <th>Trial</th>\n",
       "      <th></th>\n",
       "      <th></th>\n",
       "      <th></th>\n",
       "    </tr>\n",
       "  </thead>\n",
       "  <tbody>\n",
       "    <tr>\n",
       "      <th>s_03001</th>\n",
       "      <th>run4</th>\n",
       "      <th>13</th>\n",
       "      <td>1</td>\n",
       "      <td>-1</td>\n",
       "      <td>1</td>\n",
       "    </tr>\n",
       "    <tr>\n",
       "      <th>s_03003</th>\n",
       "      <th>run3</th>\n",
       "      <th>15</th>\n",
       "      <td>1</td>\n",
       "      <td>-1</td>\n",
       "      <td>1</td>\n",
       "    </tr>\n",
       "    <tr>\n",
       "      <th rowspan=\"6\" valign=\"top\">s_03004</th>\n",
       "      <th rowspan=\"3\" valign=\"top\">run1</th>\n",
       "      <th>12</th>\n",
       "      <td>1</td>\n",
       "      <td>-1</td>\n",
       "      <td>1</td>\n",
       "    </tr>\n",
       "    <tr>\n",
       "      <th>21</th>\n",
       "      <td>1</td>\n",
       "      <td>-1</td>\n",
       "      <td>1</td>\n",
       "    </tr>\n",
       "    <tr>\n",
       "      <th>30</th>\n",
       "      <td>1</td>\n",
       "      <td>-1</td>\n",
       "      <td>1</td>\n",
       "    </tr>\n",
       "    <tr>\n",
       "      <th>run3</th>\n",
       "      <th>12</th>\n",
       "      <td>1</td>\n",
       "      <td>-1</td>\n",
       "      <td>1</td>\n",
       "    </tr>\n",
       "    <tr>\n",
       "      <th rowspan=\"2\" valign=\"top\">run2</th>\n",
       "      <th>0</th>\n",
       "      <td>1</td>\n",
       "      <td>-1</td>\n",
       "      <td>1</td>\n",
       "    </tr>\n",
       "    <tr>\n",
       "      <th>4</th>\n",
       "      <td>1</td>\n",
       "      <td>-1</td>\n",
       "      <td>1</td>\n",
       "    </tr>\n",
       "    <tr>\n",
       "      <th rowspan=\"3\" valign=\"top\">s_03005</th>\n",
       "      <th>run3</th>\n",
       "      <th>7</th>\n",
       "      <td>1</td>\n",
       "      <td>-1</td>\n",
       "      <td>1</td>\n",
       "    </tr>\n",
       "    <tr>\n",
       "      <th>run2</th>\n",
       "      <th>28</th>\n",
       "      <td>1</td>\n",
       "      <td>-1</td>\n",
       "      <td>1</td>\n",
       "    </tr>\n",
       "    <tr>\n",
       "      <th>run4</th>\n",
       "      <th>5</th>\n",
       "      <td>1</td>\n",
       "      <td>-1</td>\n",
       "      <td>1</td>\n",
       "    </tr>\n",
       "    <tr>\n",
       "      <th>s_03006</th>\n",
       "      <th>run4</th>\n",
       "      <th>5</th>\n",
       "      <td>1</td>\n",
       "      <td>-1</td>\n",
       "      <td>1</td>\n",
       "    </tr>\n",
       "  </tbody>\n",
       "</table>\n",
       "</div>"
      ],
      "text/plain": [
       "                    Error  RT  Missed\n",
       "Subject Run  Trial                   \n",
       "s_03001 run4 13         1  -1       1\n",
       "s_03003 run3 15         1  -1       1\n",
       "s_03004 run1 12         1  -1       1\n",
       "             21         1  -1       1\n",
       "             30         1  -1       1\n",
       "        run3 12         1  -1       1\n",
       "        run2 0          1  -1       1\n",
       "             4          1  -1       1\n",
       "s_03005 run3 7          1  -1       1\n",
       "        run2 28         1  -1       1\n",
       "        run4 5          1  -1       1\n",
       "s_03006 run4 5          1  -1       1"
      ]
     },
     "execution_count": 35,
     "metadata": {},
     "output_type": "execute_result"
    }
   ],
   "source": [
    "nline_no_miss['Missed'] = 0\n",
    "nline_no_miss['Missed'][(nline_no_miss.RT == -1) & (nline_no_miss.Error == 1)] = 1\n",
    "nline_no_miss[nline_no_miss.Missed==1]"
   ]
  },
  {
   "cell_type": "code",
   "execution_count": 36,
   "metadata": {
    "collapsed": false
   },
   "outputs": [
    {
     "data": {
      "text/plain": [
       "Subject  Run   Trial\n",
       "s_03001  run1  0        0\n",
       "               2        0\n",
       "               3        0\n",
       "               4        0\n",
       "               5        0\n",
       "               6        0\n",
       "               7        0\n",
       "               8        0\n",
       "               10       0\n",
       "               12       0\n",
       "               13       0\n",
       "               14       0\n",
       "               16       0\n",
       "               17       0\n",
       "               18       0\n",
       "               19       0\n",
       "               21       0\n",
       "               22       0\n",
       "               24       0\n",
       "               25       0\n",
       "               27       0\n",
       "               29       0\n",
       "               30       0\n",
       "               31       0\n",
       "         run3  0        0\n",
       "               1        0\n",
       "               3        0\n",
       "               4        0\n",
       "               5        0\n",
       "               6        0\n",
       "                       ..\n",
       "s_03007  run2  24       0\n",
       "               26       0\n",
       "               27       0\n",
       "               28       0\n",
       "               29       0\n",
       "               30       0\n",
       "         run4  1        0\n",
       "               2        0\n",
       "               3        0\n",
       "               5        0\n",
       "               6        0\n",
       "               7        0\n",
       "               8        0\n",
       "               9        0\n",
       "               10       0\n",
       "               11       0\n",
       "               13       0\n",
       "               15       0\n",
       "               16       0\n",
       "               17       0\n",
       "               18       0\n",
       "               19       0\n",
       "               20       0\n",
       "               22       0\n",
       "               24       0\n",
       "               26       0\n",
       "               28       0\n",
       "               29       0\n",
       "               30       0\n",
       "               31       0\n",
       "Name: Missed, dtype: int64"
      ]
     },
     "execution_count": 36,
     "metadata": {},
     "output_type": "execute_result"
    }
   ],
   "source": [
    "nline_missed = nline_no_miss['Missed']\n",
    "nline_missed"
   ]
  },
  {
   "cell_type": "markdown",
   "metadata": {},
   "source": [
    "## How many trials missed?"
   ]
  },
  {
   "cell_type": "code",
   "execution_count": 37,
   "metadata": {
    "collapsed": false
   },
   "outputs": [
    {
     "data": {
      "text/plain": [
       "Subject\n",
       "s_03001    1\n",
       "s_03003    1\n",
       "s_03004    6\n",
       "s_03005    3\n",
       "s_03006    1\n",
       "s_03007    0\n",
       "Name: Missed, dtype: int64"
      ]
     },
     "execution_count": 37,
     "metadata": {},
     "output_type": "execute_result"
    }
   ],
   "source": [
    "nline_missed.groupby(level=0).sum()"
   ]
  },
  {
   "cell_type": "code",
   "execution_count": 38,
   "metadata": {
    "collapsed": true
   },
   "outputs": [],
   "source": [
    "missed = nline_missed.groupby(level=0).sum()"
   ]
  },
  {
   "cell_type": "markdown",
   "metadata": {},
   "source": [
    "## Subject Averages"
   ]
  },
  {
   "cell_type": "code",
   "execution_count": 39,
   "metadata": {
    "collapsed": false
   },
   "outputs": [
    {
     "data": {
      "text/html": [
       "<div>\n",
       "<table border=\"1\" class=\"dataframe\">\n",
       "  <thead>\n",
       "    <tr style=\"text-align: right;\">\n",
       "      <th></th>\n",
       "      <th>Error</th>\n",
       "      <th>RT</th>\n",
       "      <th>Missed</th>\n",
       "    </tr>\n",
       "    <tr>\n",
       "      <th>Subject</th>\n",
       "      <th></th>\n",
       "      <th></th>\n",
       "      <th></th>\n",
       "    </tr>\n",
       "  </thead>\n",
       "  <tbody>\n",
       "    <tr>\n",
       "      <th>s_03001</th>\n",
       "      <td>0.189474</td>\n",
       "      <td>0.586479</td>\n",
       "      <td>0</td>\n",
       "    </tr>\n",
       "    <tr>\n",
       "      <th>s_03003</th>\n",
       "      <td>0.042254</td>\n",
       "      <td>0.621277</td>\n",
       "      <td>0</td>\n",
       "    </tr>\n",
       "    <tr>\n",
       "      <th>s_03004</th>\n",
       "      <td>0.242424</td>\n",
       "      <td>1.027103</td>\n",
       "      <td>0</td>\n",
       "    </tr>\n",
       "    <tr>\n",
       "      <th>s_03005</th>\n",
       "      <td>0.096774</td>\n",
       "      <td>0.805840</td>\n",
       "      <td>0</td>\n",
       "    </tr>\n",
       "    <tr>\n",
       "      <th>s_03006</th>\n",
       "      <td>0.400000</td>\n",
       "      <td>0.781599</td>\n",
       "      <td>0</td>\n",
       "    </tr>\n",
       "    <tr>\n",
       "      <th>s_03007</th>\n",
       "      <td>0.343750</td>\n",
       "      <td>0.710819</td>\n",
       "      <td>0</td>\n",
       "    </tr>\n",
       "  </tbody>\n",
       "</table>\n",
       "</div>"
      ],
      "text/plain": [
       "            Error        RT  Missed\n",
       "Subject                            \n",
       "s_03001  0.189474  0.586479       0\n",
       "s_03003  0.042254  0.621277       0\n",
       "s_03004  0.242424  1.027103       0\n",
       "s_03005  0.096774  0.805840       0\n",
       "s_03006  0.400000  0.781599       0\n",
       "s_03007  0.343750  0.710819       0"
      ]
     },
     "execution_count": 39,
     "metadata": {},
     "output_type": "execute_result"
    }
   ],
   "source": [
    "nline_no_miss = nline_no_miss[nline_no_miss['Missed'] == 0]\n",
    "nline_no_miss.groupby(level=0).mean()"
   ]
  },
  {
   "cell_type": "markdown",
   "metadata": {},
   "source": [
    "## Overall Averages"
   ]
  },
  {
   "cell_type": "code",
   "execution_count": 40,
   "metadata": {
    "collapsed": false,
    "scrolled": true
   },
   "outputs": [
    {
     "data": {
      "text/plain": [
       "Error     0.219113\n",
       "RT        0.755519\n",
       "Missed    0.000000\n",
       "dtype: float64"
      ]
     },
     "execution_count": 40,
     "metadata": {},
     "output_type": "execute_result"
    }
   ],
   "source": [
    "np.mean(nline_no_miss.groupby(level=0).mean())"
   ]
  },
  {
   "cell_type": "markdown",
   "metadata": {},
   "source": [
    "##How many trials did they actually respond?"
   ]
  },
  {
   "cell_type": "code",
   "execution_count": 41,
   "metadata": {
    "collapsed": false
   },
   "outputs": [
    {
     "data": {
      "text/plain": [
       "Subject\n",
       "s_03001    95\n",
       "s_03003    71\n",
       "s_03004    66\n",
       "s_03005    93\n",
       "s_03006    95\n",
       "s_03007    96\n",
       "Name: RT, dtype: int64"
      ]
     },
     "execution_count": 41,
     "metadata": {},
     "output_type": "execute_result"
    }
   ],
   "source": [
    "nline_no_miss_subj = nline_no_miss.groupby(level=0)\n",
    "nline_no_miss_subj['RT'].count()"
   ]
  },
  {
   "cell_type": "markdown",
   "metadata": {},
   "source": [
    "## RT Histograms"
   ]
  },
  {
   "cell_type": "code",
   "execution_count": 42,
   "metadata": {
    "collapsed": false
   },
   "outputs": [
    {
     "data": {
      "text/plain": [
       "<matplotlib.text.Text at 0x10c1a6150>"
      ]
     },
     "execution_count": 42,
     "metadata": {},
     "output_type": "execute_result"
    },
    {
     "data": {
      "image/png": "[encoded data removed]",
      "text/plain": [
       "<matplotlib.figure.Figure at 0x10628f410>"
      ]
     },
     "metadata": {},
     "output_type": "display_data"
    }
   ],
   "source": [
    "nline_no_miss['RT'].hist(bins=20, range=[0,1.5])\n",
    "plt.ylim([0,100])\n",
    "plt.title('Number Line')\n",
    "plt.xlabel('Seconds', labelpad = 18)\n",
    "plt.ylabel('Frequency', labelpad = 18)"
   ]
  },
  {
   "cell_type": "code",
   "execution_count": 43,
   "metadata": {
    "collapsed": false
   },
   "outputs": [],
   "source": [
    "nline_miss = nline_df[['Error', 'RT', 'catch', 'Line_pct', 'Response']]\n",
    "nline_miss = nline_miss[nline_miss['catch']<1]"
   ]
  },
  {
   "cell_type": "code",
   "execution_count": 44,
   "metadata": {
    "collapsed": false
   },
   "outputs": [
    {
     "name": "stderr",
     "output_type": "stream",
     "text": [
      "/anaconda/lib/python2.7/site-packages/IPython/kernel/__main__.py:2: SettingWithCopyWarning: \n",
      "A value is trying to be set on a copy of a slice from a DataFrame\n",
      "\n",
      "See the caveats in the documentation: http://pandas.pydata.org/pandas-docs/stable/indexing.html#indexing-view-versus-copy\n",
      "  from IPython.kernel.zmq import kernelapp as app\n"
     ]
    }
   ],
   "source": [
    "nline_miss['Missed'] = 0\n",
    "nline_miss['Missed'][(nline_miss.RT == -1) & (nline_miss.Error == 1)] = 1"
   ]
  },
  {
   "cell_type": "code",
   "execution_count": 45,
   "metadata": {
    "collapsed": false
   },
   "outputs": [
    {
     "data": {
      "text/html": [
       "<div>\n",
       "<table border=\"1\" class=\"dataframe\">\n",
       "  <thead>\n",
       "    <tr style=\"text-align: right;\">\n",
       "      <th></th>\n",
       "      <th></th>\n",
       "      <th></th>\n",
       "      <th>Error</th>\n",
       "      <th>RT</th>\n",
       "      <th>catch</th>\n",
       "      <th>Line_pct</th>\n",
       "      <th>Response</th>\n",
       "      <th>Missed</th>\n",
       "    </tr>\n",
       "    <tr>\n",
       "      <th>Subject</th>\n",
       "      <th>Run</th>\n",
       "      <th>Trial</th>\n",
       "      <th></th>\n",
       "      <th></th>\n",
       "      <th></th>\n",
       "      <th></th>\n",
       "      <th></th>\n",
       "      <th></th>\n",
       "    </tr>\n",
       "  </thead>\n",
       "  <tbody>\n",
       "    <tr>\n",
       "      <th>s_03001</th>\n",
       "      <th>run4</th>\n",
       "      <th>13</th>\n",
       "      <td>1</td>\n",
       "      <td>-1</td>\n",
       "      <td>0</td>\n",
       "      <td>0.11</td>\n",
       "      <td>0</td>\n",
       "      <td>1</td>\n",
       "    </tr>\n",
       "    <tr>\n",
       "      <th>s_03003</th>\n",
       "      <th>run3</th>\n",
       "      <th>15</th>\n",
       "      <td>1</td>\n",
       "      <td>-1</td>\n",
       "      <td>0</td>\n",
       "      <td>0.07</td>\n",
       "      <td>0</td>\n",
       "      <td>1</td>\n",
       "    </tr>\n",
       "    <tr>\n",
       "      <th rowspan=\"6\" valign=\"top\">s_03004</th>\n",
       "      <th rowspan=\"3\" valign=\"top\">run1</th>\n",
       "      <th>12</th>\n",
       "      <td>1</td>\n",
       "      <td>-1</td>\n",
       "      <td>0</td>\n",
       "      <td>0.36</td>\n",
       "      <td>0</td>\n",
       "      <td>1</td>\n",
       "    </tr>\n",
       "    <tr>\n",
       "      <th>21</th>\n",
       "      <td>1</td>\n",
       "      <td>-1</td>\n",
       "      <td>0</td>\n",
       "      <td>0.07</td>\n",
       "      <td>0</td>\n",
       "      <td>1</td>\n",
       "    </tr>\n",
       "    <tr>\n",
       "      <th>30</th>\n",
       "      <td>1</td>\n",
       "      <td>-1</td>\n",
       "      <td>0</td>\n",
       "      <td>0.21</td>\n",
       "      <td>0</td>\n",
       "      <td>1</td>\n",
       "    </tr>\n",
       "    <tr>\n",
       "      <th>run3</th>\n",
       "      <th>12</th>\n",
       "      <td>1</td>\n",
       "      <td>-1</td>\n",
       "      <td>0</td>\n",
       "      <td>0.93</td>\n",
       "      <td>0</td>\n",
       "      <td>1</td>\n",
       "    </tr>\n",
       "    <tr>\n",
       "      <th rowspan=\"2\" valign=\"top\">run2</th>\n",
       "      <th>0</th>\n",
       "      <td>1</td>\n",
       "      <td>-1</td>\n",
       "      <td>0</td>\n",
       "      <td>0.74</td>\n",
       "      <td>0</td>\n",
       "      <td>1</td>\n",
       "    </tr>\n",
       "    <tr>\n",
       "      <th>4</th>\n",
       "      <td>1</td>\n",
       "      <td>-1</td>\n",
       "      <td>0</td>\n",
       "      <td>0.07</td>\n",
       "      <td>0</td>\n",
       "      <td>1</td>\n",
       "    </tr>\n",
       "    <tr>\n",
       "      <th rowspan=\"3\" valign=\"top\">s_03005</th>\n",
       "      <th>run3</th>\n",
       "      <th>7</th>\n",
       "      <td>1</td>\n",
       "      <td>-1</td>\n",
       "      <td>0</td>\n",
       "      <td>0.07</td>\n",
       "      <td>0</td>\n",
       "      <td>1</td>\n",
       "    </tr>\n",
       "    <tr>\n",
       "      <th>run2</th>\n",
       "      <th>28</th>\n",
       "      <td>1</td>\n",
       "      <td>-1</td>\n",
       "      <td>0</td>\n",
       "      <td>0.07</td>\n",
       "      <td>0</td>\n",
       "      <td>1</td>\n",
       "    </tr>\n",
       "    <tr>\n",
       "      <th>run4</th>\n",
       "      <th>5</th>\n",
       "      <td>1</td>\n",
       "      <td>-1</td>\n",
       "      <td>0</td>\n",
       "      <td>0.74</td>\n",
       "      <td>0</td>\n",
       "      <td>1</td>\n",
       "    </tr>\n",
       "    <tr>\n",
       "      <th>s_03006</th>\n",
       "      <th>run4</th>\n",
       "      <th>5</th>\n",
       "      <td>1</td>\n",
       "      <td>-1</td>\n",
       "      <td>0</td>\n",
       "      <td>0.28</td>\n",
       "      <td>0</td>\n",
       "      <td>1</td>\n",
       "    </tr>\n",
       "  </tbody>\n",
       "</table>\n",
       "</div>"
      ],
      "text/plain": [
       "                    Error  RT  catch  Line_pct  Response  Missed\n",
       "Subject Run  Trial                                              \n",
       "s_03001 run4 13         1  -1      0      0.11         0       1\n",
       "s_03003 run3 15         1  -1      0      0.07         0       1\n",
       "s_03004 run1 12         1  -1      0      0.36         0       1\n",
       "             21         1  -1      0      0.07         0       1\n",
       "             30         1  -1      0      0.21         0       1\n",
       "        run3 12         1  -1      0      0.93         0       1\n",
       "        run2 0          1  -1      0      0.74         0       1\n",
       "             4          1  -1      0      0.07         0       1\n",
       "s_03005 run3 7          1  -1      0      0.07         0       1\n",
       "        run2 28         1  -1      0      0.07         0       1\n",
       "        run4 5          1  -1      0      0.74         0       1\n",
       "s_03006 run4 5          1  -1      0      0.28         0       1"
      ]
     },
     "execution_count": 45,
     "metadata": {},
     "output_type": "execute_result"
    }
   ],
   "source": [
    "responded = nline_miss[nline_miss['Missed']==0]\n",
    "nline_miss = nline_miss[nline_miss['Missed']==1]\n",
    "nline_miss"
   ]
  },
  {
   "cell_type": "code",
   "execution_count": 46,
   "metadata": {
    "collapsed": false
   },
   "outputs": [],
   "source": [
    "position_missed = nline_miss.groupby('Line_pct')\n",
    "position_missed = position_missed['Missed']"
   ]
  },
  {
   "cell_type": "code",
   "execution_count": 47,
   "metadata": {
    "collapsed": false
   },
   "outputs": [
    {
     "data": {
      "text/plain": [
       "Line_pct\n",
       "0.07    5\n",
       "0.11    1\n",
       "0.21    1\n",
       "0.28    1\n",
       "0.36    1\n",
       "0.74    2\n",
       "0.93    1\n",
       "Name: Missed, dtype: int64"
      ]
     },
     "execution_count": 47,
     "metadata": {},
     "output_type": "execute_result"
    }
   ],
   "source": [
    "position_missed.count()"
   ]
  },
  {
   "cell_type": "code",
   "execution_count": 48,
   "metadata": {
    "collapsed": false
   },
   "outputs": [
    {
     "data": {
      "text/plain": [
       "([<matplotlib.axis.YTick at 0x10c505490>,\n",
       "  <matplotlib.axis.YTick at 0x10c505990>,\n",
       "  <matplotlib.axis.YTick at 0x10c577a10>,\n",
       "  <matplotlib.axis.YTick at 0x10c584210>],\n",
       " <a list of 4 Text yticklabel objects>)"
      ]
     },
     "execution_count": 48,
     "metadata": {},
     "output_type": "execute_result"
    },
    {
     "data": {
      "image/png": "[encoded data removed]",
      "text/plain": [
       "<matplotlib.figure.Figure at 0x10c295d10>"
      ]
     },
     "metadata": {},
     "output_type": "display_data"
    }
   ],
   "source": [
    "plt.plot(position_missed.count().index,position_missed.count(), 'o')\n",
    "plt.title('Misses By Position N+')\n",
    "plt.xlabel('Misses', labelpad = 4)\n",
    "plt.ylabel('Count')\n",
    "plt.ylim([0,6])\n",
    "plt.yticks(([0,2,4,6]))"
   ]
  },
  {
   "cell_type": "markdown",
   "metadata": {},
   "source": [
    "##Overall Averages"
   ]
  },
  {
   "cell_type": "code",
   "execution_count": 49,
   "metadata": {
    "collapsed": false
   },
   "outputs": [
    {
     "data": {
      "text/plain": [
       "Error    0.219113\n",
       "RT       0.755519\n",
       "dtype: float64"
      ]
     },
     "execution_count": 49,
     "metadata": {},
     "output_type": "execute_result"
    }
   ],
   "source": [
    "responded_subj = responded.groupby(level=0)\n",
    "np.mean(responded_subj[['Error', 'RT']].mean())"
   ]
  },
  {
   "cell_type": "markdown",
   "metadata": {},
   "source": [
    "##Averages by subjected for responded trials"
   ]
  },
  {
   "cell_type": "code",
   "execution_count": 50,
   "metadata": {
    "collapsed": false
   },
   "outputs": [
    {
     "data": {
      "text/html": [
       "<div>\n",
       "<table border=\"1\" class=\"dataframe\">\n",
       "  <thead>\n",
       "    <tr style=\"text-align: right;\">\n",
       "      <th></th>\n",
       "      <th>Error</th>\n",
       "      <th>RT</th>\n",
       "    </tr>\n",
       "    <tr>\n",
       "      <th>Subject</th>\n",
       "      <th></th>\n",
       "      <th></th>\n",
       "    </tr>\n",
       "  </thead>\n",
       "  <tbody>\n",
       "    <tr>\n",
       "      <th>s_03001</th>\n",
       "      <td>0.189474</td>\n",
       "      <td>0.586479</td>\n",
       "    </tr>\n",
       "    <tr>\n",
       "      <th>s_03003</th>\n",
       "      <td>0.042254</td>\n",
       "      <td>0.621277</td>\n",
       "    </tr>\n",
       "    <tr>\n",
       "      <th>s_03004</th>\n",
       "      <td>0.242424</td>\n",
       "      <td>1.027103</td>\n",
       "    </tr>\n",
       "    <tr>\n",
       "      <th>s_03005</th>\n",
       "      <td>0.096774</td>\n",
       "      <td>0.805840</td>\n",
       "    </tr>\n",
       "    <tr>\n",
       "      <th>s_03006</th>\n",
       "      <td>0.400000</td>\n",
       "      <td>0.781599</td>\n",
       "    </tr>\n",
       "    <tr>\n",
       "      <th>s_03007</th>\n",
       "      <td>0.343750</td>\n",
       "      <td>0.710819</td>\n",
       "    </tr>\n",
       "  </tbody>\n",
       "</table>\n",
       "</div>"
      ],
      "text/plain": [
       "            Error        RT\n",
       "Subject                    \n",
       "s_03001  0.189474  0.586479\n",
       "s_03003  0.042254  0.621277\n",
       "s_03004  0.242424  1.027103\n",
       "s_03005  0.096774  0.805840\n",
       "s_03006  0.400000  0.781599\n",
       "s_03007  0.343750  0.710819"
      ]
     },
     "execution_count": 50,
     "metadata": {},
     "output_type": "execute_result"
    }
   ],
   "source": [
    "responded_subj[['Error', 'RT']].mean()"
   ]
  },
  {
   "cell_type": "markdown",
   "metadata": {},
   "source": [
    "## Plots by position"
   ]
  },
  {
   "cell_type": "code",
   "execution_count": 51,
   "metadata": {
    "collapsed": false
   },
   "outputs": [
    {
     "data": {
      "text/plain": [
       "['0.21',\n",
       " '0.09',\n",
       " '0.28',\n",
       " '0.36',\n",
       " '0.85',\n",
       " '0.33',\n",
       " '0.07',\n",
       " '0.6',\n",
       " '0.77',\n",
       " '0.65',\n",
       " '0.74',\n",
       " '0.57',\n",
       " '0.11',\n",
       " '0.45',\n",
       " '0.91',\n",
       " '0.93']"
      ]
     },
     "execution_count": 51,
     "metadata": {},
     "output_type": "execute_result"
    }
   ],
   "source": [
    "responded.Line_pct = responded.Line_pct.astype(str)\n",
    "position_tasks = responded.groupby('Line_pct')\n",
    "position_tasks.groups.keys()"
   ]
  },
  {
   "cell_type": "code",
   "execution_count": 52,
   "metadata": {
    "collapsed": false
   },
   "outputs": [],
   "source": [
    "n_subj = len(responded_subj)"
   ]
  },
  {
   "cell_type": "markdown",
   "metadata": {},
   "source": [
    "##RTs by position averages (across subjects)"
   ]
  },
  {
   "cell_type": "code",
   "execution_count": 53,
   "metadata": {
    "collapsed": false
   },
   "outputs": [
    {
     "data": {
      "text/plain": [
       "Line_pct\n",
       "0.07    0.725442\n",
       "0.09    0.754702\n",
       "0.11    0.759928\n",
       "0.21    0.736905\n",
       "0.28    0.695046\n",
       "0.33    0.736911\n",
       "0.36    0.753026\n",
       "0.45    0.757110\n",
       "0.57    0.795336\n",
       "0.6     0.738967\n",
       "0.65    0.772792\n",
       "0.74    0.741862\n",
       "0.77    0.700146\n",
       "0.85    0.772677\n",
       "0.91    0.760813\n",
       "0.93    0.732112\n",
       "Name: RT, dtype: float64"
      ]
     },
     "execution_count": 53,
     "metadata": {},
     "output_type": "execute_result"
    }
   ],
   "source": [
    "position_tasks['RT'].mean()"
   ]
  },
  {
   "cell_type": "code",
   "execution_count": 54,
   "metadata": {
    "collapsed": true
   },
   "outputs": [],
   "source": [
    "rts = position_tasks['RT'].mean()\n",
    "rts_std = position_tasks['RT'].std()\n",
    "rts_se = rts_std/np.sqrt(n_subj)"
   ]
  },
  {
   "cell_type": "markdown",
   "metadata": {},
   "source": [
    "Next code is to calculate standard error by first computing the mean RT for each subject and then taking the std of the subjects"
   ]
  },
  {
   "cell_type": "code",
   "execution_count": 55,
   "metadata": {
    "collapsed": false
   },
   "outputs": [],
   "source": [
    "D = {}\n",
    "for sub in responded_subj.groups.keys():\n",
    "    for pos in position_tasks.groups.keys():\n",
    "        stim = pos\n",
    "        if D.get(stim,0) == 0:\n",
    "            D[stim] = []\n",
    "        D[stim].append(position_tasks.get_group(stim).loc[sub]['RT'].mean())"
   ]
  },
  {
   "cell_type": "code",
   "execution_count": 56,
   "metadata": {
    "collapsed": false
   },
   "outputs": [
    {
     "data": {
      "text/plain": [
       "{'0.07': 0.15826329278295748,\n",
       " '0.09': 0.13240802999636411,\n",
       " '0.11': 0.11914082221576081,\n",
       " '0.21': 0.11686874030926239,\n",
       " '0.28': 0.11799705668231968,\n",
       " '0.33': 0.13752821392685155,\n",
       " '0.36': 0.15272557544690346,\n",
       " '0.45': 0.1355718954800883,\n",
       " '0.57': 0.16923004640395198,\n",
       " '0.6': 0.17984906690577859,\n",
       " '0.65': 0.18292523277496039,\n",
       " '0.74': 0.20318991939108055,\n",
       " '0.77': 0.16358016057818825,\n",
       " '0.85': 0.19058097515850689,\n",
       " '0.91': 0.13858814229444413,\n",
       " '0.93': 0.16449066764834491}"
      ]
     },
     "execution_count": 56,
     "metadata": {},
     "output_type": "execute_result"
    }
   ],
   "source": [
    "for stim in D:\n",
    "    D[stim] = np.nanstd(D[stim])\n",
    "D"
   ]
  },
  {
   "cell_type": "code",
   "execution_count": 57,
   "metadata": {
    "collapsed": false
   },
   "outputs": [
    {
     "data": {
      "text/plain": [
       "array([ 0.05405535,  0.0481721 ,  0.06715303,  0.06234996,  0.08295194,\n",
       "        0.05614566,  0.04771146,  0.06461072,  0.05534699,  0.06678132,\n",
       "        0.07467891,  0.07780436,  0.04863904,  0.07342307,  0.05657837,\n",
       "        0.06908788])"
      ]
     },
     "execution_count": 57,
     "metadata": {},
     "output_type": "execute_result"
    }
   ],
   "source": [
    "rts_std_1 = []\n",
    "for stim in D:\n",
    "    rts_std_1.append(D[stim])\n",
    "rts_se1 = rts_std_1/np.sqrt(n_subj)\n",
    "rts_se1"
   ]
  },
  {
   "cell_type": "code",
   "execution_count": 58,
   "metadata": {
    "collapsed": true
   },
   "outputs": [],
   "source": [
    "error = position_tasks['Error'].mean()\n",
    "error_std = position_tasks['Error'].std()\n",
    "error_se = error_std/np.sqrt(n_subj)"
   ]
  },
  {
   "cell_type": "code",
   "execution_count": 59,
   "metadata": {
    "collapsed": false
   },
   "outputs": [],
   "source": [
    "rts = rts.get_values()"
   ]
  },
  {
   "cell_type": "code",
   "execution_count": 60,
   "metadata": {
    "collapsed": false
   },
   "outputs": [],
   "source": [
    "error = error.get_values()"
   ]
  },
  {
   "cell_type": "code",
   "execution_count": 61,
   "metadata": {
    "collapsed": false
   },
   "outputs": [
    {
     "data": {
      "text/plain": [
       "array(['0.07', '0.09', '0.11', '0.21', '0.28', '0.33', '0.36', '0.45',\n",
       "       '0.57', '0.6', '0.65', '0.74', '0.77', '0.85', '0.91', '0.93'], \n",
       "      dtype='|S4')"
      ]
     },
     "execution_count": 61,
     "metadata": {},
     "output_type": "execute_result"
    }
   ],
   "source": [
    "xvals = np.sort(D.keys())\n",
    "xvals"
   ]
  },
  {
   "cell_type": "code",
   "execution_count": 62,
   "metadata": {
    "collapsed": false
   },
   "outputs": [
    {
     "data": {
      "text/plain": [
       "[0.07,\n",
       " 0.09,\n",
       " 0.11,\n",
       " 0.21,\n",
       " 0.28,\n",
       " 0.33,\n",
       " 0.36,\n",
       " 0.45,\n",
       " 0.57,\n",
       " 0.6,\n",
       " 0.65,\n",
       " 0.74,\n",
       " 0.77,\n",
       " 0.85,\n",
       " 0.91,\n",
       " 0.93]"
      ]
     },
     "execution_count": 62,
     "metadata": {},
     "output_type": "execute_result"
    }
   ],
   "source": [
    "xvals = [float(x) for x in xvals]\n",
    "xvals"
   ]
  },
  {
   "cell_type": "code",
   "execution_count": 63,
   "metadata": {
    "collapsed": true
   },
   "outputs": [],
   "source": [
    "pal = sns.color_palette()"
   ]
  },
  {
   "cell_type": "code",
   "execution_count": 64,
   "metadata": {
    "collapsed": false
   },
   "outputs": [
    {
     "data": {
      "text/plain": [
       "([<matplotlib.axis.YTick at 0x10c5f1910>,\n",
       "  <matplotlib.axis.YTick at 0x10c5f1ad0>,\n",
       "  <matplotlib.axis.YTick at 0x10c65ba50>,\n",
       "  <matplotlib.axis.YTick at 0x10c664190>,\n",
       "  <matplotlib.axis.YTick at 0x10c6648d0>],\n",
       " <a list of 5 Text yticklabel objects>)"
      ]
     },
     "execution_count": 64,
     "metadata": {},
     "output_type": "execute_result"
    },
    {
     "name": "stderr",
     "output_type": "stream",
     "text": [
      "//anaconda/lib/python2.7/site-packages/matplotlib/collections.py:590: FutureWarning: elementwise comparison failed; returning scalar instead, but in the future will perform elementwise comparison\n",
      "  if self._edgecolors == str('face'):\n"
     ]
    },
    {
     "data": {
      "image/png": "[encoded data removed]",
      "text/plain": [
       "<matplotlib.figure.Figure at 0x10c5a47d0>"
      ]
     },
     "metadata": {},
     "output_type": "display_data"
    }
   ],
   "source": [
    "plt.plot(xvals, rts, 'o-', color=pal[0])\n",
    "plt.errorbar(xvals, rts, yerr=rts_se1*1.96)\n",
    "plt.title('Mean RT By Position N+')\n",
    "plt.xlabel('0 to 100', labelpad = 4)\n",
    "plt.ylabel('Mean RT (s)')\n",
    "plt.ylim([0.5,1.0])\n",
    "plt.yticks(([0.5, .625, .75, .875, 1]))"
   ]
  },
  {
   "cell_type": "markdown",
   "metadata": {},
   "source": [
    "## Error by position"
   ]
  },
  {
   "cell_type": "markdown",
   "metadata": {},
   "source": [
    "next code is doing the average for each subject first and then taking the standard deviation"
   ]
  },
  {
   "cell_type": "code",
   "execution_count": 65,
   "metadata": {
    "collapsed": false
   },
   "outputs": [],
   "source": [
    "D = {}\n",
    "for sub in responded_subj.groups.keys():\n",
    "    for pos in position_tasks.groups.keys():\n",
    "        stim = pos\n",
    "        if D.get(stim,0) == 0:\n",
    "            D[stim] = []\n",
    "        D[stim].append(position_tasks.get_group(stim).loc[sub]['Error'].mean())"
   ]
  },
  {
   "cell_type": "code",
   "execution_count": 66,
   "metadata": {
    "collapsed": true
   },
   "outputs": [],
   "source": [
    "for stim in D:\n",
    "    #print task\n",
    "    D[stim] = np.nanstd(D[stim])"
   ]
  },
  {
   "cell_type": "code",
   "execution_count": 67,
   "metadata": {
    "collapsed": true
   },
   "outputs": [],
   "source": [
    "error_std_1 = []\n",
    "for stim in D:\n",
    "    error_std_1.append(D[stim])\n",
    "error_se_1 = error_std_1/np.sqrt(n_subj)"
   ]
  },
  {
   "cell_type": "code",
   "execution_count": 68,
   "metadata": {
    "collapsed": false
   },
   "outputs": [
    {
     "data": {
      "text/plain": [
       "([<matplotlib.axis.YTick at 0x10c6c1250>,\n",
       "  <matplotlib.axis.YTick at 0x10c6c1c90>,\n",
       "  <matplotlib.axis.YTick at 0x10c7a6510>,\n",
       "  <matplotlib.axis.YTick at 0x10c78af50>,\n",
       "  <matplotlib.axis.YTick at 0x10c78a510>,\n",
       "  <matplotlib.axis.YTick at 0x10c6c1f10>,\n",
       "  <matplotlib.axis.YTick at 0x10d059ad0>],\n",
       " <a list of 7 Text yticklabel objects>)"
      ]
     },
     "execution_count": 68,
     "metadata": {},
     "output_type": "execute_result"
    },
    {
     "data": {
      "image/png": "[encoded data removed]",
      "text/plain": [
       "<matplotlib.figure.Figure at 0x10c519650>"
      ]
     },
     "metadata": {},
     "output_type": "display_data"
    }
   ],
   "source": [
    "plt.plot(xvals, error, 'o-', color=pal[1])\n",
    "plt.errorbar(xvals, error, yerr=error_se_1*1.96, color=pal[1])\n",
    "plt.title('Mean Error By Position N+')\n",
    "plt.xlabel('0 to 100', labelpad = 4)\n",
    "plt.ylabel('Error')\n",
    "plt.ylim([0,0.6])\n",
    "plt.yticks(([0.0,0.1,0.2,0.3,0.4,0.5,0.6]))"
   ]
  },
  {
   "cell_type": "code",
   "execution_count": 69,
   "metadata": {
    "collapsed": false
   },
   "outputs": [
    {
     "data": {
      "text/plain": [
       "array([ 0.06106901,  0.0929968 ,  0.0726129 ,  0.04709951,  0.09351393,\n",
       "        0.10698352,  0.06804138,  0.06339381,  0.1083274 ,  0.05555556,\n",
       "        0.06133167,  0.04709951,  0.03936547,  0.06339381,  0.08255812,\n",
       "        0.13273399])"
      ]
     },
     "execution_count": 69,
     "metadata": {},
     "output_type": "execute_result"
    }
   ],
   "source": [
    "error_se_1"
   ]
  },
  {
   "cell_type": "code",
   "execution_count": 70,
   "metadata": {
    "collapsed": false
   },
   "outputs": [
    {
     "data": {
      "text/plain": [
       "array([ 0.24137931,  0.14705882,  0.12903226,  0.19354839,  0.27272727,\n",
       "        0.36111111,  0.29032258,  0.25      ,  0.29411765,  0.15625   ,\n",
       "        0.21875   ,  0.26666667,  0.1875    ,  0.20588235,  0.20588235,\n",
       "        0.19354839])"
      ]
     },
     "execution_count": 70,
     "metadata": {},
     "output_type": "execute_result"
    }
   ],
   "source": [
    "error"
   ]
  },
  {
   "cell_type": "markdown",
   "metadata": {},
   "source": [
    "##Correlate PAE Vs Landmark Distance"
   ]
  },
  {
   "cell_type": "markdown",
   "metadata": {},
   "source": [
    "### Distance from 0"
   ]
  },
  {
   "cell_type": "code",
   "execution_count": 71,
   "metadata": {
    "collapsed": false
   },
   "outputs": [
    {
     "data": {
      "text/plain": [
       "array([ 0.07,  0.09,  0.11,  0.21,  0.28,  0.33,  0.36,  0.45,  0.57,\n",
       "        0.6 ,  0.65,  0.74,  0.77,  0.85,  0.91,  0.93])"
      ]
     },
     "execution_count": 71,
     "metadata": {},
     "output_type": "execute_result"
    }
   ],
   "source": [
    "dist_0 = np.array(xvals)\n",
    "dist_0"
   ]
  },
  {
   "cell_type": "markdown",
   "metadata": {},
   "source": [
    "### Distance from 50"
   ]
  },
  {
   "cell_type": "code",
   "execution_count": 72,
   "metadata": {
    "collapsed": false
   },
   "outputs": [
    {
     "data": {
      "text/plain": [
       "array([ 0.43,  0.41,  0.39,  0.29,  0.22,  0.17,  0.14,  0.05,  0.07,\n",
       "        0.1 ,  0.15,  0.24,  0.27,  0.35,  0.41,  0.43])"
      ]
     },
     "execution_count": 72,
     "metadata": {},
     "output_type": "execute_result"
    }
   ],
   "source": [
    "dist_50 = abs(dist_0-0.5)\n",
    "dist_50"
   ]
  },
  {
   "cell_type": "markdown",
   "metadata": {},
   "source": [
    "### Distance from 100"
   ]
  },
  {
   "cell_type": "code",
   "execution_count": 73,
   "metadata": {
    "collapsed": false
   },
   "outputs": [
    {
     "data": {
      "text/plain": [
       "array([ 0.93,  0.91,  0.89,  0.79,  0.72,  0.67,  0.64,  0.55,  0.43,\n",
       "        0.4 ,  0.35,  0.26,  0.23,  0.15,  0.09,  0.07])"
      ]
     },
     "execution_count": 73,
     "metadata": {},
     "output_type": "execute_result"
    }
   ],
   "source": [
    "dist_100 = abs(dist_0 - 1)\n",
    "dist_100"
   ]
  },
  {
   "cell_type": "markdown",
   "metadata": {},
   "source": [
    "### Distance from Landmark"
   ]
  },
  {
   "cell_type": "code",
   "execution_count": 74,
   "metadata": {
    "collapsed": false
   },
   "outputs": [
    {
     "data": {
      "text/plain": [
       "0     0.07\n",
       "1     0.09\n",
       "2     0.11\n",
       "3     0.21\n",
       "4     0.22\n",
       "5     0.17\n",
       "6     0.14\n",
       "7     0.05\n",
       "8     0.07\n",
       "9     0.10\n",
       "10    0.15\n",
       "11    0.24\n",
       "12    0.23\n",
       "13    0.15\n",
       "14    0.09\n",
       "15    0.07\n",
       "dtype: float64"
      ]
     },
     "execution_count": 74,
     "metadata": {},
     "output_type": "execute_result"
    }
   ],
   "source": [
    "dist_Land = pd.DataFrame([dist_0, dist_50, dist_100]).min()\n",
    "dist_Land"
   ]
  },
  {
   "cell_type": "markdown",
   "metadata": {},
   "source": [
    "## Error vs Landmark Distane (across subjects)"
   ]
  },
  {
   "cell_type": "code",
   "execution_count": 75,
   "metadata": {
    "collapsed": false
   },
   "outputs": [
    {
     "data": {
      "text/plain": [
       "([<matplotlib.axis.YTick at 0x10d0a9c90>,\n",
       "  <matplotlib.axis.YTick at 0x10d0a9d90>,\n",
       "  <matplotlib.axis.YTick at 0x10d2ce7d0>,\n",
       "  <matplotlib.axis.YTick at 0x10d2cee90>],\n",
       " <a list of 4 Text yticklabel objects>)"
      ]
     },
     "execution_count": 75,
     "metadata": {},
     "output_type": "execute_result"
    },
    {
     "data": {
      "image/png": "[encoded data removed]",
      "text/plain": [
       "<matplotlib.figure.Figure at 0x10c6c1210>"
      ]
     },
     "metadata": {},
     "output_type": "display_data"
    }
   ],
   "source": [
    "m1, b1 = np.polyfit(dist_Land,error,1)\n",
    "plt.plot(dist_Land, error, 'o', color=pal[1])\n",
    "plt.plot(dist_Land, m1*dist_Land + b1, '-', color=pal[1])\n",
    "plt.title('Error Vs. Landmark Distance N+')\n",
    "plt.xlabel('Landmark Distance', labelpad = 4)\n",
    "plt.ylabel('Error')\n",
    "plt.ylim([0,0.4])\n",
    "plt.yticks(([0.1,0.2,0.3,0.4]))"
   ]
  },
  {
   "cell_type": "markdown",
   "metadata": {},
   "source": [
    "## Slope"
   ]
  },
  {
   "cell_type": "code",
   "execution_count": 76,
   "metadata": {
    "collapsed": false
   },
   "outputs": [
    {
     "name": "stdout",
     "output_type": "stream",
     "text": [
      "0.178072475414\n"
     ]
    }
   ],
   "source": [
    "print m1"
   ]
  },
  {
   "cell_type": "code",
   "execution_count": 77,
   "metadata": {
    "collapsed": true
   },
   "outputs": [],
   "source": [
    "from scipy.stats import linregress\n",
    "slope1, intercept1, r1, p1, stderr1 = linregress(dist_Land,error)"
   ]
  },
  {
   "cell_type": "markdown",
   "metadata": {},
   "source": [
    "## r"
   ]
  },
  {
   "cell_type": "code",
   "execution_count": 78,
   "metadata": {
    "collapsed": false
   },
   "outputs": [
    {
     "data": {
      "text/plain": [
       "0.18390136818750152"
      ]
     },
     "execution_count": 78,
     "metadata": {},
     "output_type": "execute_result"
    }
   ],
   "source": [
    "r1"
   ]
  },
  {
   "cell_type": "markdown",
   "metadata": {},
   "source": [
    "## r^2"
   ]
  },
  {
   "cell_type": "code",
   "execution_count": 79,
   "metadata": {
    "collapsed": false
   },
   "outputs": [
    {
     "data": {
      "text/plain": [
       "0.033819713221234997"
      ]
     },
     "execution_count": 79,
     "metadata": {},
     "output_type": "execute_result"
    }
   ],
   "source": [
    "r1*r1"
   ]
  },
  {
   "cell_type": "markdown",
   "metadata": {},
   "source": [
    "## Estimation slope vs SAT scores"
   ]
  },
  {
   "cell_type": "code",
   "execution_count": 80,
   "metadata": {
    "collapsed": true
   },
   "outputs": [],
   "source": [
    "nline_df.to_csv('nline_data.csv', sep='\\t')"
   ]
  },
  {
   "cell_type": "code",
   "execution_count": 81,
   "metadata": {
    "collapsed": true
   },
   "outputs": [],
   "source": [
    "new_df = pd.read_csv('nline_data.csv',sep='\\t')"
   ]
  },
  {
   "cell_type": "code",
   "execution_count": 82,
   "metadata": {
    "collapsed": false
   },
   "outputs": [
    {
     "data": {
      "text/plain": [
       "176"
      ]
     },
     "execution_count": 82,
     "metadata": {},
     "output_type": "execute_result"
    }
   ],
   "source": [
    "len(new_df.catch[new_df.catch==1])"
   ]
  },
  {
   "cell_type": "code",
   "execution_count": 83,
   "metadata": {
    "collapsed": false
   },
   "outputs": [
    {
     "name": "stderr",
     "output_type": "stream",
     "text": [
      "/anaconda/lib/python2.7/site-packages/IPython/kernel/__main__.py:2: SettingWithCopyWarning: \n",
      "A value is trying to be set on a copy of a slice from a DataFrame\n",
      "\n",
      "See the caveats in the documentation: http://pandas.pydata.org/pandas-docs/stable/indexing.html#indexing-view-versus-copy\n",
      "  from IPython.kernel.zmq import kernelapp as app\n"
     ]
    }
   ],
   "source": [
    "new_df['Missed'] = 0\n",
    "new_df['Missed'][(new_df.RT == -1) & (new_df.Error == 1)] = 1"
   ]
  },
  {
   "cell_type": "code",
   "execution_count": 84,
   "metadata": {
    "collapsed": false
   },
   "outputs": [
    {
     "name": "stdout",
     "output_type": "stream",
     "text": [
      "528\n"
     ]
    }
   ],
   "source": [
    "new_df = new_df[new_df['catch']<1]\n",
    "print len(new_df)"
   ]
  },
  {
   "cell_type": "code",
   "execution_count": 85,
   "metadata": {
    "collapsed": false
   },
   "outputs": [
    {
     "name": "stdout",
     "output_type": "stream",
     "text": [
      "516\n"
     ]
    }
   ],
   "source": [
    "new_df = new_df[new_df['Missed']==0]\n",
    "print len(new_df)"
   ]
  },
  {
   "cell_type": "code",
   "execution_count": 86,
   "metadata": {
    "collapsed": false
   },
   "outputs": [
    {
     "data": {
      "text/plain": [
       "0"
      ]
     },
     "execution_count": 86,
     "metadata": {},
     "output_type": "execute_result"
    }
   ],
   "source": [
    "new_df.Missed.sum()"
   ]
  },
  {
   "cell_type": "code",
   "execution_count": 87,
   "metadata": {
    "collapsed": false
   },
   "outputs": [
    {
     "data": {
      "text/html": [
       "<div>\n",
       "<table border=\"1\" class=\"dataframe\">\n",
       "  <thead>\n",
       "    <tr style=\"text-align: right;\">\n",
       "      <th></th>\n",
       "      <th>Subject</th>\n",
       "      <th>Run</th>\n",
       "      <th>Trial</th>\n",
       "      <th>Acc</th>\n",
       "      <th>BadPress</th>\n",
       "      <th>Block</th>\n",
       "      <th>Correct</th>\n",
       "      <th>Error</th>\n",
       "      <th>ITI_onset</th>\n",
       "      <th>ITI_onset_real</th>\n",
       "      <th>...</th>\n",
       "      <th>decision_onset_real</th>\n",
       "      <th>hold</th>\n",
       "      <th>hold_onset</th>\n",
       "      <th>hold_onset_real</th>\n",
       "      <th>iti</th>\n",
       "      <th>Dist0</th>\n",
       "      <th>Dist100</th>\n",
       "      <th>Dist50</th>\n",
       "      <th>LandmarkDist</th>\n",
       "      <th>Missed</th>\n",
       "    </tr>\n",
       "  </thead>\n",
       "  <tbody>\n",
       "    <tr>\n",
       "      <th>0</th>\n",
       "      <td>s_03001</td>\n",
       "      <td>run1</td>\n",
       "      <td>0</td>\n",
       "      <td>1</td>\n",
       "      <td>0</td>\n",
       "      <td>1</td>\n",
       "      <td>2</td>\n",
       "      <td>0</td>\n",
       "      <td>14.0</td>\n",
       "      <td>14.006765</td>\n",
       "      <td>...</td>\n",
       "      <td>23.008680</td>\n",
       "      <td>2.5</td>\n",
       "      <td>20.5</td>\n",
       "      <td>20.502069</td>\n",
       "      <td>6.0</td>\n",
       "      <td>0.36</td>\n",
       "      <td>0.64</td>\n",
       "      <td>0.14</td>\n",
       "      <td>0.14</td>\n",
       "      <td>0</td>\n",
       "    </tr>\n",
       "    <tr>\n",
       "      <th>2</th>\n",
       "      <td>s_03001</td>\n",
       "      <td>run1</td>\n",
       "      <td>2</td>\n",
       "      <td>1</td>\n",
       "      <td>0</td>\n",
       "      <td>1</td>\n",
       "      <td>2</td>\n",
       "      <td>0</td>\n",
       "      <td>33.5</td>\n",
       "      <td>33.501051</td>\n",
       "      <td>...</td>\n",
       "      <td>40.009610</td>\n",
       "      <td>3.0</td>\n",
       "      <td>37.0</td>\n",
       "      <td>37.002539</td>\n",
       "      <td>3.0</td>\n",
       "      <td>0.85</td>\n",
       "      <td>0.15</td>\n",
       "      <td>0.35</td>\n",
       "      <td>0.15</td>\n",
       "      <td>0</td>\n",
       "    </tr>\n",
       "    <tr>\n",
       "      <th>3</th>\n",
       "      <td>s_03001</td>\n",
       "      <td>run1</td>\n",
       "      <td>3</td>\n",
       "      <td>1</td>\n",
       "      <td>0</td>\n",
       "      <td>1</td>\n",
       "      <td>1</td>\n",
       "      <td>0</td>\n",
       "      <td>41.5</td>\n",
       "      <td>41.501076</td>\n",
       "      <td>...</td>\n",
       "      <td>50.009948</td>\n",
       "      <td>4.0</td>\n",
       "      <td>46.0</td>\n",
       "      <td>46.001543</td>\n",
       "      <td>4.0</td>\n",
       "      <td>0.45</td>\n",
       "      <td>0.55</td>\n",
       "      <td>0.05</td>\n",
       "      <td>0.05</td>\n",
       "      <td>0</td>\n",
       "    </tr>\n",
       "    <tr>\n",
       "      <th>4</th>\n",
       "      <td>s_03001</td>\n",
       "      <td>run1</td>\n",
       "      <td>4</td>\n",
       "      <td>1</td>\n",
       "      <td>0</td>\n",
       "      <td>1</td>\n",
       "      <td>1</td>\n",
       "      <td>0</td>\n",
       "      <td>51.5</td>\n",
       "      <td>51.500943</td>\n",
       "      <td>...</td>\n",
       "      <td>60.510471</td>\n",
       "      <td>4.5</td>\n",
       "      <td>56.0</td>\n",
       "      <td>56.001799</td>\n",
       "      <td>4.0</td>\n",
       "      <td>0.93</td>\n",
       "      <td>0.07</td>\n",
       "      <td>0.43</td>\n",
       "      <td>0.07</td>\n",
       "      <td>0</td>\n",
       "    </tr>\n",
       "    <tr>\n",
       "      <th>5</th>\n",
       "      <td>s_03001</td>\n",
       "      <td>run1</td>\n",
       "      <td>5</td>\n",
       "      <td>1</td>\n",
       "      <td>0</td>\n",
       "      <td>1</td>\n",
       "      <td>2</td>\n",
       "      <td>0</td>\n",
       "      <td>62.0</td>\n",
       "      <td>62.000718</td>\n",
       "      <td>...</td>\n",
       "      <td>73.011000</td>\n",
       "      <td>5.0</td>\n",
       "      <td>68.0</td>\n",
       "      <td>68.001537</td>\n",
       "      <td>5.5</td>\n",
       "      <td>0.33</td>\n",
       "      <td>0.67</td>\n",
       "      <td>0.17</td>\n",
       "      <td>0.17</td>\n",
       "      <td>0</td>\n",
       "    </tr>\n",
       "    <tr>\n",
       "      <th>6</th>\n",
       "      <td>s_03001</td>\n",
       "      <td>run1</td>\n",
       "      <td>6</td>\n",
       "      <td>0</td>\n",
       "      <td>0</td>\n",
       "      <td>1</td>\n",
       "      <td>2</td>\n",
       "      <td>1</td>\n",
       "      <td>74.5</td>\n",
       "      <td>74.500277</td>\n",
       "      <td>...</td>\n",
       "      <td>84.511487</td>\n",
       "      <td>6.0</td>\n",
       "      <td>78.5</td>\n",
       "      <td>78.501440</td>\n",
       "      <td>3.5</td>\n",
       "      <td>0.74</td>\n",
       "      <td>0.26</td>\n",
       "      <td>0.24</td>\n",
       "      <td>0.24</td>\n",
       "      <td>0</td>\n",
       "    </tr>\n",
       "    <tr>\n",
       "      <th>7</th>\n",
       "      <td>s_03001</td>\n",
       "      <td>run1</td>\n",
       "      <td>7</td>\n",
       "      <td>1</td>\n",
       "      <td>0</td>\n",
       "      <td>1</td>\n",
       "      <td>1</td>\n",
       "      <td>0</td>\n",
       "      <td>86.0</td>\n",
       "      <td>86.000385</td>\n",
       "      <td>...</td>\n",
       "      <td>96.511977</td>\n",
       "      <td>3.5</td>\n",
       "      <td>93.0</td>\n",
       "      <td>93.001410</td>\n",
       "      <td>6.5</td>\n",
       "      <td>0.77</td>\n",
       "      <td>0.23</td>\n",
       "      <td>0.27</td>\n",
       "      <td>0.23</td>\n",
       "      <td>0</td>\n",
       "    </tr>\n",
       "    <tr>\n",
       "      <th>8</th>\n",
       "      <td>s_03001</td>\n",
       "      <td>run1</td>\n",
       "      <td>8</td>\n",
       "      <td>1</td>\n",
       "      <td>0</td>\n",
       "      <td>1</td>\n",
       "      <td>1</td>\n",
       "      <td>0</td>\n",
       "      <td>98.0</td>\n",
       "      <td>98.000558</td>\n",
       "      <td>...</td>\n",
       "      <td>108.512305</td>\n",
       "      <td>5.5</td>\n",
       "      <td>103.0</td>\n",
       "      <td>103.001983</td>\n",
       "      <td>4.5</td>\n",
       "      <td>0.09</td>\n",
       "      <td>0.91</td>\n",
       "      <td>0.41</td>\n",
       "      <td>0.09</td>\n",
       "      <td>0</td>\n",
       "    </tr>\n",
       "    <tr>\n",
       "      <th>10</th>\n",
       "      <td>s_03001</td>\n",
       "      <td>run1</td>\n",
       "      <td>10</td>\n",
       "      <td>1</td>\n",
       "      <td>0</td>\n",
       "      <td>1</td>\n",
       "      <td>2</td>\n",
       "      <td>0</td>\n",
       "      <td>123.0</td>\n",
       "      <td>123.001064</td>\n",
       "      <td>...</td>\n",
       "      <td>129.513379</td>\n",
       "      <td>2.5</td>\n",
       "      <td>127.0</td>\n",
       "      <td>127.001189</td>\n",
       "      <td>3.5</td>\n",
       "      <td>0.07</td>\n",
       "      <td>0.93</td>\n",
       "      <td>0.43</td>\n",
       "      <td>0.07</td>\n",
       "      <td>0</td>\n",
       "    </tr>\n",
       "    <tr>\n",
       "      <th>12</th>\n",
       "      <td>s_03001</td>\n",
       "      <td>run1</td>\n",
       "      <td>12</td>\n",
       "      <td>1</td>\n",
       "      <td>0</td>\n",
       "      <td>1</td>\n",
       "      <td>2</td>\n",
       "      <td>0</td>\n",
       "      <td>140.0</td>\n",
       "      <td>140.000215</td>\n",
       "      <td>...</td>\n",
       "      <td>152.014295</td>\n",
       "      <td>6.5</td>\n",
       "      <td>145.5</td>\n",
       "      <td>145.502030</td>\n",
       "      <td>5.0</td>\n",
       "      <td>0.60</td>\n",
       "      <td>0.40</td>\n",
       "      <td>0.10</td>\n",
       "      <td>0.10</td>\n",
       "      <td>0</td>\n",
       "    </tr>\n",
       "    <tr>\n",
       "      <th>13</th>\n",
       "      <td>s_03001</td>\n",
       "      <td>run1</td>\n",
       "      <td>13</td>\n",
       "      <td>0</td>\n",
       "      <td>0</td>\n",
       "      <td>1</td>\n",
       "      <td>1</td>\n",
       "      <td>1</td>\n",
       "      <td>153.5</td>\n",
       "      <td>153.500495</td>\n",
       "      <td>...</td>\n",
       "      <td>161.514752</td>\n",
       "      <td>3.0</td>\n",
       "      <td>158.5</td>\n",
       "      <td>158.501073</td>\n",
       "      <td>4.5</td>\n",
       "      <td>0.11</td>\n",
       "      <td>0.89</td>\n",
       "      <td>0.39</td>\n",
       "      <td>0.11</td>\n",
       "      <td>0</td>\n",
       "    </tr>\n",
       "    <tr>\n",
       "      <th>14</th>\n",
       "      <td>s_03001</td>\n",
       "      <td>run1</td>\n",
       "      <td>14</td>\n",
       "      <td>1</td>\n",
       "      <td>0</td>\n",
       "      <td>1</td>\n",
       "      <td>2</td>\n",
       "      <td>0</td>\n",
       "      <td>163.0</td>\n",
       "      <td>163.001124</td>\n",
       "      <td>...</td>\n",
       "      <td>170.515101</td>\n",
       "      <td>3.0</td>\n",
       "      <td>167.5</td>\n",
       "      <td>167.501338</td>\n",
       "      <td>4.0</td>\n",
       "      <td>0.28</td>\n",
       "      <td>0.72</td>\n",
       "      <td>0.22</td>\n",
       "      <td>0.22</td>\n",
       "      <td>0</td>\n",
       "    </tr>\n",
       "    <tr>\n",
       "      <th>16</th>\n",
       "      <td>s_03001</td>\n",
       "      <td>run1</td>\n",
       "      <td>16</td>\n",
       "      <td>1</td>\n",
       "      <td>0</td>\n",
       "      <td>2</td>\n",
       "      <td>2</td>\n",
       "      <td>0</td>\n",
       "      <td>188.0</td>\n",
       "      <td>188.052723</td>\n",
       "      <td>...</td>\n",
       "      <td>196.016169</td>\n",
       "      <td>3.0</td>\n",
       "      <td>193.0</td>\n",
       "      <td>193.001653</td>\n",
       "      <td>4.5</td>\n",
       "      <td>0.74</td>\n",
       "      <td>0.26</td>\n",
       "      <td>0.24</td>\n",
       "      <td>0.24</td>\n",
       "      <td>0</td>\n",
       "    </tr>\n",
       "    <tr>\n",
       "      <th>17</th>\n",
       "      <td>s_03001</td>\n",
       "      <td>run1</td>\n",
       "      <td>17</td>\n",
       "      <td>1</td>\n",
       "      <td>0</td>\n",
       "      <td>2</td>\n",
       "      <td>1</td>\n",
       "      <td>0</td>\n",
       "      <td>197.5</td>\n",
       "      <td>197.500140</td>\n",
       "      <td>...</td>\n",
       "      <td>210.500150</td>\n",
       "      <td>6.0</td>\n",
       "      <td>204.5</td>\n",
       "      <td>204.501635</td>\n",
       "      <td>6.5</td>\n",
       "      <td>0.60</td>\n",
       "      <td>0.40</td>\n",
       "      <td>0.10</td>\n",
       "      <td>0.10</td>\n",
       "      <td>0</td>\n",
       "    </tr>\n",
       "    <tr>\n",
       "      <th>18</th>\n",
       "      <td>s_03001</td>\n",
       "      <td>run1</td>\n",
       "      <td>18</td>\n",
       "      <td>0</td>\n",
       "      <td>0</td>\n",
       "      <td>2</td>\n",
       "      <td>2</td>\n",
       "      <td>1</td>\n",
       "      <td>212.0</td>\n",
       "      <td>212.000894</td>\n",
       "      <td>...</td>\n",
       "      <td>221.500610</td>\n",
       "      <td>5.0</td>\n",
       "      <td>216.5</td>\n",
       "      <td>216.501875</td>\n",
       "      <td>4.0</td>\n",
       "      <td>0.07</td>\n",
       "      <td>0.93</td>\n",
       "      <td>0.43</td>\n",
       "      <td>0.07</td>\n",
       "      <td>0</td>\n",
       "    </tr>\n",
       "    <tr>\n",
       "      <th>19</th>\n",
       "      <td>s_03001</td>\n",
       "      <td>run1</td>\n",
       "      <td>19</td>\n",
       "      <td>1</td>\n",
       "      <td>0</td>\n",
       "      <td>2</td>\n",
       "      <td>1</td>\n",
       "      <td>0</td>\n",
       "      <td>223.0</td>\n",
       "      <td>223.000070</td>\n",
       "      <td>...</td>\n",
       "      <td>229.500948</td>\n",
       "      <td>2.5</td>\n",
       "      <td>227.0</td>\n",
       "      <td>227.001765</td>\n",
       "      <td>3.5</td>\n",
       "      <td>0.09</td>\n",
       "      <td>0.91</td>\n",
       "      <td>0.41</td>\n",
       "      <td>0.09</td>\n",
       "      <td>0</td>\n",
       "    </tr>\n",
       "    <tr>\n",
       "      <th>21</th>\n",
       "      <td>s_03001</td>\n",
       "      <td>run1</td>\n",
       "      <td>21</td>\n",
       "      <td>1</td>\n",
       "      <td>0</td>\n",
       "      <td>2</td>\n",
       "      <td>1</td>\n",
       "      <td>0</td>\n",
       "      <td>241.0</td>\n",
       "      <td>240.999918</td>\n",
       "      <td>...</td>\n",
       "      <td>248.501743</td>\n",
       "      <td>4.0</td>\n",
       "      <td>244.5</td>\n",
       "      <td>244.500994</td>\n",
       "      <td>3.0</td>\n",
       "      <td>0.77</td>\n",
       "      <td>0.23</td>\n",
       "      <td>0.27</td>\n",
       "      <td>0.23</td>\n",
       "      <td>0</td>\n",
       "    </tr>\n",
       "    <tr>\n",
       "      <th>22</th>\n",
       "      <td>s_03001</td>\n",
       "      <td>run1</td>\n",
       "      <td>22</td>\n",
       "      <td>1</td>\n",
       "      <td>0</td>\n",
       "      <td>2</td>\n",
       "      <td>1</td>\n",
       "      <td>0</td>\n",
       "      <td>250.0</td>\n",
       "      <td>250.001173</td>\n",
       "      <td>...</td>\n",
       "      <td>263.002155</td>\n",
       "      <td>5.5</td>\n",
       "      <td>257.5</td>\n",
       "      <td>257.500878</td>\n",
       "      <td>7.0</td>\n",
       "      <td>0.85</td>\n",
       "      <td>0.15</td>\n",
       "      <td>0.35</td>\n",
       "      <td>0.15</td>\n",
       "      <td>0</td>\n",
       "    </tr>\n",
       "    <tr>\n",
       "      <th>24</th>\n",
       "      <td>s_03001</td>\n",
       "      <td>run1</td>\n",
       "      <td>24</td>\n",
       "      <td>1</td>\n",
       "      <td>0</td>\n",
       "      <td>2</td>\n",
       "      <td>1</td>\n",
       "      <td>0</td>\n",
       "      <td>275.5</td>\n",
       "      <td>275.501018</td>\n",
       "      <td>...</td>\n",
       "      <td>285.503253</td>\n",
       "      <td>6.5</td>\n",
       "      <td>279.0</td>\n",
       "      <td>279.001606</td>\n",
       "      <td>3.0</td>\n",
       "      <td>0.93</td>\n",
       "      <td>0.07</td>\n",
       "      <td>0.43</td>\n",
       "      <td>0.07</td>\n",
       "      <td>0</td>\n",
       "    </tr>\n",
       "    <tr>\n",
       "      <th>25</th>\n",
       "      <td>s_03001</td>\n",
       "      <td>run1</td>\n",
       "      <td>25</td>\n",
       "      <td>1</td>\n",
       "      <td>0</td>\n",
       "      <td>2</td>\n",
       "      <td>2</td>\n",
       "      <td>0</td>\n",
       "      <td>287.0</td>\n",
       "      <td>287.000245</td>\n",
       "      <td>...</td>\n",
       "      <td>296.503774</td>\n",
       "      <td>3.0</td>\n",
       "      <td>293.5</td>\n",
       "      <td>293.500879</td>\n",
       "      <td>6.0</td>\n",
       "      <td>0.36</td>\n",
       "      <td>0.64</td>\n",
       "      <td>0.14</td>\n",
       "      <td>0.14</td>\n",
       "      <td>0</td>\n",
       "    </tr>\n",
       "    <tr>\n",
       "      <th>27</th>\n",
       "      <td>s_03001</td>\n",
       "      <td>run1</td>\n",
       "      <td>27</td>\n",
       "      <td>1</td>\n",
       "      <td>0</td>\n",
       "      <td>2</td>\n",
       "      <td>2</td>\n",
       "      <td>0</td>\n",
       "      <td>307.5</td>\n",
       "      <td>307.500717</td>\n",
       "      <td>...</td>\n",
       "      <td>317.004615</td>\n",
       "      <td>4.5</td>\n",
       "      <td>312.5</td>\n",
       "      <td>312.502294</td>\n",
       "      <td>4.5</td>\n",
       "      <td>0.11</td>\n",
       "      <td>0.89</td>\n",
       "      <td>0.39</td>\n",
       "      <td>0.11</td>\n",
       "      <td>0</td>\n",
       "    </tr>\n",
       "    <tr>\n",
       "      <th>29</th>\n",
       "      <td>s_03001</td>\n",
       "      <td>run1</td>\n",
       "      <td>29</td>\n",
       "      <td>0</td>\n",
       "      <td>0</td>\n",
       "      <td>2</td>\n",
       "      <td>1</td>\n",
       "      <td>1</td>\n",
       "      <td>327.0</td>\n",
       "      <td>327.000802</td>\n",
       "      <td>...</td>\n",
       "      <td>336.005399</td>\n",
       "      <td>4.0</td>\n",
       "      <td>332.0</td>\n",
       "      <td>332.001396</td>\n",
       "      <td>4.5</td>\n",
       "      <td>0.33</td>\n",
       "      <td>0.67</td>\n",
       "      <td>0.17</td>\n",
       "      <td>0.17</td>\n",
       "      <td>0</td>\n",
       "    </tr>\n",
       "    <tr>\n",
       "      <th>30</th>\n",
       "      <td>s_03001</td>\n",
       "      <td>run1</td>\n",
       "      <td>30</td>\n",
       "      <td>1</td>\n",
       "      <td>0</td>\n",
       "      <td>2</td>\n",
       "      <td>2</td>\n",
       "      <td>0</td>\n",
       "      <td>337.5</td>\n",
       "      <td>337.500212</td>\n",
       "      <td>...</td>\n",
       "      <td>345.005625</td>\n",
       "      <td>3.5</td>\n",
       "      <td>341.5</td>\n",
       "      <td>341.501643</td>\n",
       "      <td>3.5</td>\n",
       "      <td>0.45</td>\n",
       "      <td>0.55</td>\n",
       "      <td>0.05</td>\n",
       "      <td>0.05</td>\n",
       "      <td>0</td>\n",
       "    </tr>\n",
       "    <tr>\n",
       "      <th>31</th>\n",
       "      <td>s_03001</td>\n",
       "      <td>run1</td>\n",
       "      <td>31</td>\n",
       "      <td>1</td>\n",
       "      <td>0</td>\n",
       "      <td>2</td>\n",
       "      <td>2</td>\n",
       "      <td>0</td>\n",
       "      <td>346.5</td>\n",
       "      <td>346.500095</td>\n",
       "      <td>...</td>\n",
       "      <td>354.506195</td>\n",
       "      <td>4.0</td>\n",
       "      <td>350.5</td>\n",
       "      <td>350.501955</td>\n",
       "      <td>3.5</td>\n",
       "      <td>0.28</td>\n",
       "      <td>0.72</td>\n",
       "      <td>0.22</td>\n",
       "      <td>0.22</td>\n",
       "      <td>0</td>\n",
       "    </tr>\n",
       "    <tr>\n",
       "      <th>32</th>\n",
       "      <td>s_03001</td>\n",
       "      <td>run3</td>\n",
       "      <td>0</td>\n",
       "      <td>1</td>\n",
       "      <td>0</td>\n",
       "      <td>1</td>\n",
       "      <td>2</td>\n",
       "      <td>0</td>\n",
       "      <td>14.0</td>\n",
       "      <td>14.002457</td>\n",
       "      <td>...</td>\n",
       "      <td>21.006539</td>\n",
       "      <td>3.5</td>\n",
       "      <td>17.5</td>\n",
       "      <td>17.500924</td>\n",
       "      <td>3.0</td>\n",
       "      <td>0.65</td>\n",
       "      <td>0.35</td>\n",
       "      <td>0.15</td>\n",
       "      <td>0.15</td>\n",
       "      <td>0</td>\n",
       "    </tr>\n",
       "    <tr>\n",
       "      <th>33</th>\n",
       "      <td>s_03001</td>\n",
       "      <td>run3</td>\n",
       "      <td>1</td>\n",
       "      <td>1</td>\n",
       "      <td>0</td>\n",
       "      <td>1</td>\n",
       "      <td>2</td>\n",
       "      <td>0</td>\n",
       "      <td>22.5</td>\n",
       "      <td>22.500338</td>\n",
       "      <td>...</td>\n",
       "      <td>30.507085</td>\n",
       "      <td>3.0</td>\n",
       "      <td>27.5</td>\n",
       "      <td>27.501310</td>\n",
       "      <td>4.5</td>\n",
       "      <td>0.21</td>\n",
       "      <td>0.79</td>\n",
       "      <td>0.29</td>\n",
       "      <td>0.21</td>\n",
       "      <td>0</td>\n",
       "    </tr>\n",
       "    <tr>\n",
       "      <th>35</th>\n",
       "      <td>s_03001</td>\n",
       "      <td>run3</td>\n",
       "      <td>3</td>\n",
       "      <td>1</td>\n",
       "      <td>0</td>\n",
       "      <td>1</td>\n",
       "      <td>2</td>\n",
       "      <td>0</td>\n",
       "      <td>45.5</td>\n",
       "      <td>45.500258</td>\n",
       "      <td>...</td>\n",
       "      <td>55.008112</td>\n",
       "      <td>2.5</td>\n",
       "      <td>52.5</td>\n",
       "      <td>52.500819</td>\n",
       "      <td>6.5</td>\n",
       "      <td>0.91</td>\n",
       "      <td>0.09</td>\n",
       "      <td>0.41</td>\n",
       "      <td>0.09</td>\n",
       "      <td>0</td>\n",
       "    </tr>\n",
       "    <tr>\n",
       "      <th>36</th>\n",
       "      <td>s_03001</td>\n",
       "      <td>run3</td>\n",
       "      <td>4</td>\n",
       "      <td>0</td>\n",
       "      <td>0</td>\n",
       "      <td>1</td>\n",
       "      <td>1</td>\n",
       "      <td>1</td>\n",
       "      <td>56.5</td>\n",
       "      <td>56.499918</td>\n",
       "      <td>...</td>\n",
       "      <td>66.508544</td>\n",
       "      <td>5.5</td>\n",
       "      <td>61.0</td>\n",
       "      <td>61.001769</td>\n",
       "      <td>4.0</td>\n",
       "      <td>0.36</td>\n",
       "      <td>0.64</td>\n",
       "      <td>0.14</td>\n",
       "      <td>0.14</td>\n",
       "      <td>0</td>\n",
       "    </tr>\n",
       "    <tr>\n",
       "      <th>37</th>\n",
       "      <td>s_03001</td>\n",
       "      <td>run3</td>\n",
       "      <td>5</td>\n",
       "      <td>1</td>\n",
       "      <td>0</td>\n",
       "      <td>1</td>\n",
       "      <td>1</td>\n",
       "      <td>0</td>\n",
       "      <td>68.0</td>\n",
       "      <td>68.000756</td>\n",
       "      <td>...</td>\n",
       "      <td>78.509098</td>\n",
       "      <td>4.0</td>\n",
       "      <td>74.5</td>\n",
       "      <td>74.500864</td>\n",
       "      <td>6.0</td>\n",
       "      <td>0.28</td>\n",
       "      <td>0.72</td>\n",
       "      <td>0.22</td>\n",
       "      <td>0.22</td>\n",
       "      <td>0</td>\n",
       "    </tr>\n",
       "    <tr>\n",
       "      <th>38</th>\n",
       "      <td>s_03001</td>\n",
       "      <td>run3</td>\n",
       "      <td>6</td>\n",
       "      <td>0</td>\n",
       "      <td>0</td>\n",
       "      <td>1</td>\n",
       "      <td>1</td>\n",
       "      <td>1</td>\n",
       "      <td>80.0</td>\n",
       "      <td>80.001508</td>\n",
       "      <td>...</td>\n",
       "      <td>87.509250</td>\n",
       "      <td>3.5</td>\n",
       "      <td>84.0</td>\n",
       "      <td>84.002064</td>\n",
       "      <td>3.5</td>\n",
       "      <td>0.33</td>\n",
       "      <td>0.67</td>\n",
       "      <td>0.17</td>\n",
       "      <td>0.17</td>\n",
       "      <td>0</td>\n",
       "    </tr>\n",
       "    <tr>\n",
       "      <th>...</th>\n",
       "      <td>...</td>\n",
       "      <td>...</td>\n",
       "      <td>...</td>\n",
       "      <td>...</td>\n",
       "      <td>...</td>\n",
       "      <td>...</td>\n",
       "      <td>...</td>\n",
       "      <td>...</td>\n",
       "      <td>...</td>\n",
       "      <td>...</td>\n",
       "      <td>...</td>\n",
       "      <td>...</td>\n",
       "      <td>...</td>\n",
       "      <td>...</td>\n",
       "      <td>...</td>\n",
       "      <td>...</td>\n",
       "      <td>...</td>\n",
       "      <td>...</td>\n",
       "      <td>...</td>\n",
       "      <td>...</td>\n",
       "      <td>...</td>\n",
       "    </tr>\n",
       "    <tr>\n",
       "      <th>728</th>\n",
       "      <td>s_03007</td>\n",
       "      <td>run2</td>\n",
       "      <td>24</td>\n",
       "      <td>1</td>\n",
       "      <td>0</td>\n",
       "      <td>2</td>\n",
       "      <td>1</td>\n",
       "      <td>0</td>\n",
       "      <td>264.5</td>\n",
       "      <td>264.500828</td>\n",
       "      <td>...</td>\n",
       "      <td>277.502676</td>\n",
       "      <td>5.5</td>\n",
       "      <td>272.0</td>\n",
       "      <td>272.001556</td>\n",
       "      <td>7.0</td>\n",
       "      <td>0.11</td>\n",
       "      <td>0.89</td>\n",
       "      <td>0.39</td>\n",
       "      <td>0.11</td>\n",
       "      <td>0</td>\n",
       "    </tr>\n",
       "    <tr>\n",
       "      <th>730</th>\n",
       "      <td>s_03007</td>\n",
       "      <td>run2</td>\n",
       "      <td>26</td>\n",
       "      <td>1</td>\n",
       "      <td>0</td>\n",
       "      <td>2</td>\n",
       "      <td>2</td>\n",
       "      <td>0</td>\n",
       "      <td>287.5</td>\n",
       "      <td>287.500344</td>\n",
       "      <td>...</td>\n",
       "      <td>298.003539</td>\n",
       "      <td>3.5</td>\n",
       "      <td>294.5</td>\n",
       "      <td>294.501416</td>\n",
       "      <td>6.5</td>\n",
       "      <td>0.60</td>\n",
       "      <td>0.40</td>\n",
       "      <td>0.10</td>\n",
       "      <td>0.10</td>\n",
       "      <td>0</td>\n",
       "    </tr>\n",
       "    <tr>\n",
       "      <th>731</th>\n",
       "      <td>s_03007</td>\n",
       "      <td>run2</td>\n",
       "      <td>27</td>\n",
       "      <td>1</td>\n",
       "      <td>0</td>\n",
       "      <td>2</td>\n",
       "      <td>1</td>\n",
       "      <td>0</td>\n",
       "      <td>299.5</td>\n",
       "      <td>299.500569</td>\n",
       "      <td>...</td>\n",
       "      <td>308.003806</td>\n",
       "      <td>4.5</td>\n",
       "      <td>303.5</td>\n",
       "      <td>303.501256</td>\n",
       "      <td>3.5</td>\n",
       "      <td>0.91</td>\n",
       "      <td>0.09</td>\n",
       "      <td>0.41</td>\n",
       "      <td>0.09</td>\n",
       "      <td>0</td>\n",
       "    </tr>\n",
       "    <tr>\n",
       "      <th>732</th>\n",
       "      <td>s_03007</td>\n",
       "      <td>run2</td>\n",
       "      <td>28</td>\n",
       "      <td>1</td>\n",
       "      <td>0</td>\n",
       "      <td>2</td>\n",
       "      <td>1</td>\n",
       "      <td>0</td>\n",
       "      <td>309.5</td>\n",
       "      <td>309.501129</td>\n",
       "      <td>...</td>\n",
       "      <td>321.004605</td>\n",
       "      <td>6.5</td>\n",
       "      <td>314.5</td>\n",
       "      <td>314.501333</td>\n",
       "      <td>4.5</td>\n",
       "      <td>0.65</td>\n",
       "      <td>0.35</td>\n",
       "      <td>0.15</td>\n",
       "      <td>0.15</td>\n",
       "      <td>0</td>\n",
       "    </tr>\n",
       "    <tr>\n",
       "      <th>733</th>\n",
       "      <td>s_03007</td>\n",
       "      <td>run2</td>\n",
       "      <td>29</td>\n",
       "      <td>1</td>\n",
       "      <td>0</td>\n",
       "      <td>2</td>\n",
       "      <td>2</td>\n",
       "      <td>0</td>\n",
       "      <td>322.5</td>\n",
       "      <td>322.500918</td>\n",
       "      <td>...</td>\n",
       "      <td>331.505060</td>\n",
       "      <td>5.0</td>\n",
       "      <td>326.5</td>\n",
       "      <td>326.501183</td>\n",
       "      <td>3.5</td>\n",
       "      <td>0.74</td>\n",
       "      <td>0.26</td>\n",
       "      <td>0.24</td>\n",
       "      <td>0.24</td>\n",
       "      <td>0</td>\n",
       "    </tr>\n",
       "    <tr>\n",
       "      <th>734</th>\n",
       "      <td>s_03007</td>\n",
       "      <td>run2</td>\n",
       "      <td>30</td>\n",
       "      <td>0</td>\n",
       "      <td>0</td>\n",
       "      <td>2</td>\n",
       "      <td>1</td>\n",
       "      <td>1</td>\n",
       "      <td>333.0</td>\n",
       "      <td>333.000741</td>\n",
       "      <td>...</td>\n",
       "      <td>342.505522</td>\n",
       "      <td>3.0</td>\n",
       "      <td>339.5</td>\n",
       "      <td>339.502045</td>\n",
       "      <td>6.0</td>\n",
       "      <td>0.45</td>\n",
       "      <td>0.55</td>\n",
       "      <td>0.05</td>\n",
       "      <td>0.05</td>\n",
       "      <td>0</td>\n",
       "    </tr>\n",
       "    <tr>\n",
       "      <th>737</th>\n",
       "      <td>s_03007</td>\n",
       "      <td>run4</td>\n",
       "      <td>1</td>\n",
       "      <td>1</td>\n",
       "      <td>0</td>\n",
       "      <td>1</td>\n",
       "      <td>1</td>\n",
       "      <td>0</td>\n",
       "      <td>22.5</td>\n",
       "      <td>22.500683</td>\n",
       "      <td>...</td>\n",
       "      <td>28.516489</td>\n",
       "      <td>2.5</td>\n",
       "      <td>26.0</td>\n",
       "      <td>26.001943</td>\n",
       "      <td>3.0</td>\n",
       "      <td>0.11</td>\n",
       "      <td>0.89</td>\n",
       "      <td>0.39</td>\n",
       "      <td>0.11</td>\n",
       "      <td>0</td>\n",
       "    </tr>\n",
       "    <tr>\n",
       "      <th>738</th>\n",
       "      <td>s_03007</td>\n",
       "      <td>run4</td>\n",
       "      <td>2</td>\n",
       "      <td>1</td>\n",
       "      <td>0</td>\n",
       "      <td>1</td>\n",
       "      <td>2</td>\n",
       "      <td>0</td>\n",
       "      <td>30.0</td>\n",
       "      <td>30.001151</td>\n",
       "      <td>...</td>\n",
       "      <td>41.000362</td>\n",
       "      <td>6.5</td>\n",
       "      <td>34.5</td>\n",
       "      <td>34.501855</td>\n",
       "      <td>4.0</td>\n",
       "      <td>0.93</td>\n",
       "      <td>0.07</td>\n",
       "      <td>0.43</td>\n",
       "      <td>0.07</td>\n",
       "      <td>0</td>\n",
       "    </tr>\n",
       "    <tr>\n",
       "      <th>739</th>\n",
       "      <td>s_03007</td>\n",
       "      <td>run4</td>\n",
       "      <td>3</td>\n",
       "      <td>1</td>\n",
       "      <td>0</td>\n",
       "      <td>1</td>\n",
       "      <td>2</td>\n",
       "      <td>0</td>\n",
       "      <td>42.5</td>\n",
       "      <td>42.500748</td>\n",
       "      <td>...</td>\n",
       "      <td>49.000686</td>\n",
       "      <td>3.0</td>\n",
       "      <td>46.0</td>\n",
       "      <td>46.001019</td>\n",
       "      <td>3.0</td>\n",
       "      <td>0.09</td>\n",
       "      <td>0.91</td>\n",
       "      <td>0.41</td>\n",
       "      <td>0.09</td>\n",
       "      <td>0</td>\n",
       "    </tr>\n",
       "    <tr>\n",
       "      <th>741</th>\n",
       "      <td>s_03007</td>\n",
       "      <td>run4</td>\n",
       "      <td>5</td>\n",
       "      <td>0</td>\n",
       "      <td>0</td>\n",
       "      <td>1</td>\n",
       "      <td>2</td>\n",
       "      <td>1</td>\n",
       "      <td>60.5</td>\n",
       "      <td>60.501057</td>\n",
       "      <td>...</td>\n",
       "      <td>68.001423</td>\n",
       "      <td>2.5</td>\n",
       "      <td>65.5</td>\n",
       "      <td>65.502146</td>\n",
       "      <td>4.5</td>\n",
       "      <td>0.57</td>\n",
       "      <td>0.43</td>\n",
       "      <td>0.07</td>\n",
       "      <td>0.07</td>\n",
       "      <td>0</td>\n",
       "    </tr>\n",
       "    <tr>\n",
       "      <th>742</th>\n",
       "      <td>s_03007</td>\n",
       "      <td>run4</td>\n",
       "      <td>6</td>\n",
       "      <td>1</td>\n",
       "      <td>0</td>\n",
       "      <td>1</td>\n",
       "      <td>1</td>\n",
       "      <td>0</td>\n",
       "      <td>69.5</td>\n",
       "      <td>69.500324</td>\n",
       "      <td>...</td>\n",
       "      <td>79.501973</td>\n",
       "      <td>5.5</td>\n",
       "      <td>74.0</td>\n",
       "      <td>74.000952</td>\n",
       "      <td>4.0</td>\n",
       "      <td>0.91</td>\n",
       "      <td>0.09</td>\n",
       "      <td>0.41</td>\n",
       "      <td>0.09</td>\n",
       "      <td>0</td>\n",
       "    </tr>\n",
       "    <tr>\n",
       "      <th>743</th>\n",
       "      <td>s_03007</td>\n",
       "      <td>run4</td>\n",
       "      <td>7</td>\n",
       "      <td>1</td>\n",
       "      <td>0</td>\n",
       "      <td>1</td>\n",
       "      <td>2</td>\n",
       "      <td>0</td>\n",
       "      <td>81.0</td>\n",
       "      <td>80.999978</td>\n",
       "      <td>...</td>\n",
       "      <td>91.002496</td>\n",
       "      <td>4.0</td>\n",
       "      <td>87.0</td>\n",
       "      <td>87.002007</td>\n",
       "      <td>5.5</td>\n",
       "      <td>0.36</td>\n",
       "      <td>0.64</td>\n",
       "      <td>0.14</td>\n",
       "      <td>0.14</td>\n",
       "      <td>0</td>\n",
       "    </tr>\n",
       "    <tr>\n",
       "      <th>744</th>\n",
       "      <td>s_03007</td>\n",
       "      <td>run4</td>\n",
       "      <td>8</td>\n",
       "      <td>1</td>\n",
       "      <td>0</td>\n",
       "      <td>1</td>\n",
       "      <td>2</td>\n",
       "      <td>0</td>\n",
       "      <td>92.5</td>\n",
       "      <td>92.500104</td>\n",
       "      <td>...</td>\n",
       "      <td>103.002864</td>\n",
       "      <td>3.5</td>\n",
       "      <td>99.5</td>\n",
       "      <td>99.502161</td>\n",
       "      <td>6.5</td>\n",
       "      <td>0.07</td>\n",
       "      <td>0.93</td>\n",
       "      <td>0.43</td>\n",
       "      <td>0.07</td>\n",
       "      <td>0</td>\n",
       "    </tr>\n",
       "    <tr>\n",
       "      <th>745</th>\n",
       "      <td>s_03007</td>\n",
       "      <td>run4</td>\n",
       "      <td>9</td>\n",
       "      <td>1</td>\n",
       "      <td>0</td>\n",
       "      <td>1</td>\n",
       "      <td>1</td>\n",
       "      <td>0</td>\n",
       "      <td>104.5</td>\n",
       "      <td>104.501252</td>\n",
       "      <td>...</td>\n",
       "      <td>114.003420</td>\n",
       "      <td>5.0</td>\n",
       "      <td>109.0</td>\n",
       "      <td>109.001990</td>\n",
       "      <td>4.0</td>\n",
       "      <td>0.21</td>\n",
       "      <td>0.79</td>\n",
       "      <td>0.29</td>\n",
       "      <td>0.21</td>\n",
       "      <td>0</td>\n",
       "    </tr>\n",
       "    <tr>\n",
       "      <th>746</th>\n",
       "      <td>s_03007</td>\n",
       "      <td>run4</td>\n",
       "      <td>10</td>\n",
       "      <td>1</td>\n",
       "      <td>0</td>\n",
       "      <td>1</td>\n",
       "      <td>2</td>\n",
       "      <td>0</td>\n",
       "      <td>115.5</td>\n",
       "      <td>115.500469</td>\n",
       "      <td>...</td>\n",
       "      <td>123.503855</td>\n",
       "      <td>4.0</td>\n",
       "      <td>119.5</td>\n",
       "      <td>119.501698</td>\n",
       "      <td>3.5</td>\n",
       "      <td>0.85</td>\n",
       "      <td>0.15</td>\n",
       "      <td>0.35</td>\n",
       "      <td>0.15</td>\n",
       "      <td>0</td>\n",
       "    </tr>\n",
       "    <tr>\n",
       "      <th>747</th>\n",
       "      <td>s_03007</td>\n",
       "      <td>run4</td>\n",
       "      <td>11</td>\n",
       "      <td>0</td>\n",
       "      <td>0</td>\n",
       "      <td>1</td>\n",
       "      <td>1</td>\n",
       "      <td>1</td>\n",
       "      <td>125.0</td>\n",
       "      <td>125.000562</td>\n",
       "      <td>...</td>\n",
       "      <td>134.504232</td>\n",
       "      <td>4.5</td>\n",
       "      <td>130.0</td>\n",
       "      <td>130.001104</td>\n",
       "      <td>4.5</td>\n",
       "      <td>0.28</td>\n",
       "      <td>0.72</td>\n",
       "      <td>0.22</td>\n",
       "      <td>0.22</td>\n",
       "      <td>0</td>\n",
       "    </tr>\n",
       "    <tr>\n",
       "      <th>749</th>\n",
       "      <td>s_03007</td>\n",
       "      <td>run4</td>\n",
       "      <td>13</td>\n",
       "      <td>0</td>\n",
       "      <td>0</td>\n",
       "      <td>1</td>\n",
       "      <td>2</td>\n",
       "      <td>1</td>\n",
       "      <td>147.0</td>\n",
       "      <td>147.000187</td>\n",
       "      <td>...</td>\n",
       "      <td>160.505368</td>\n",
       "      <td>6.0</td>\n",
       "      <td>154.5</td>\n",
       "      <td>154.501511</td>\n",
       "      <td>7.0</td>\n",
       "      <td>0.74</td>\n",
       "      <td>0.26</td>\n",
       "      <td>0.24</td>\n",
       "      <td>0.24</td>\n",
       "      <td>0</td>\n",
       "    </tr>\n",
       "    <tr>\n",
       "      <th>751</th>\n",
       "      <td>s_03007</td>\n",
       "      <td>run4</td>\n",
       "      <td>15</td>\n",
       "      <td>1</td>\n",
       "      <td>0</td>\n",
       "      <td>1</td>\n",
       "      <td>2</td>\n",
       "      <td>0</td>\n",
       "      <td>172.5</td>\n",
       "      <td>172.500900</td>\n",
       "      <td>...</td>\n",
       "      <td>180.506256</td>\n",
       "      <td>4.0</td>\n",
       "      <td>176.5</td>\n",
       "      <td>176.501126</td>\n",
       "      <td>3.5</td>\n",
       "      <td>0.45</td>\n",
       "      <td>0.55</td>\n",
       "      <td>0.05</td>\n",
       "      <td>0.05</td>\n",
       "      <td>0</td>\n",
       "    </tr>\n",
       "    <tr>\n",
       "      <th>752</th>\n",
       "      <td>s_03007</td>\n",
       "      <td>run4</td>\n",
       "      <td>16</td>\n",
       "      <td>1</td>\n",
       "      <td>0</td>\n",
       "      <td>2</td>\n",
       "      <td>2</td>\n",
       "      <td>0</td>\n",
       "      <td>188.0</td>\n",
       "      <td>188.043325</td>\n",
       "      <td>...</td>\n",
       "      <td>199.006701</td>\n",
       "      <td>4.5</td>\n",
       "      <td>194.5</td>\n",
       "      <td>194.501966</td>\n",
       "      <td>6.0</td>\n",
       "      <td>0.11</td>\n",
       "      <td>0.89</td>\n",
       "      <td>0.39</td>\n",
       "      <td>0.11</td>\n",
       "      <td>0</td>\n",
       "    </tr>\n",
       "    <tr>\n",
       "      <th>753</th>\n",
       "      <td>s_03007</td>\n",
       "      <td>run4</td>\n",
       "      <td>17</td>\n",
       "      <td>0</td>\n",
       "      <td>0</td>\n",
       "      <td>2</td>\n",
       "      <td>1</td>\n",
       "      <td>1</td>\n",
       "      <td>200.5</td>\n",
       "      <td>200.501623</td>\n",
       "      <td>...</td>\n",
       "      <td>211.507565</td>\n",
       "      <td>4.0</td>\n",
       "      <td>207.5</td>\n",
       "      <td>207.501201</td>\n",
       "      <td>6.5</td>\n",
       "      <td>0.36</td>\n",
       "      <td>0.64</td>\n",
       "      <td>0.14</td>\n",
       "      <td>0.14</td>\n",
       "      <td>0</td>\n",
       "    </tr>\n",
       "    <tr>\n",
       "      <th>754</th>\n",
       "      <td>s_03007</td>\n",
       "      <td>run4</td>\n",
       "      <td>18</td>\n",
       "      <td>0</td>\n",
       "      <td>0</td>\n",
       "      <td>2</td>\n",
       "      <td>1</td>\n",
       "      <td>1</td>\n",
       "      <td>213.0</td>\n",
       "      <td>213.000635</td>\n",
       "      <td>...</td>\n",
       "      <td>222.007994</td>\n",
       "      <td>4.0</td>\n",
       "      <td>218.0</td>\n",
       "      <td>218.001962</td>\n",
       "      <td>4.5</td>\n",
       "      <td>0.21</td>\n",
       "      <td>0.79</td>\n",
       "      <td>0.29</td>\n",
       "      <td>0.21</td>\n",
       "      <td>0</td>\n",
       "    </tr>\n",
       "    <tr>\n",
       "      <th>755</th>\n",
       "      <td>s_03007</td>\n",
       "      <td>run4</td>\n",
       "      <td>19</td>\n",
       "      <td>1</td>\n",
       "      <td>0</td>\n",
       "      <td>2</td>\n",
       "      <td>2</td>\n",
       "      <td>0</td>\n",
       "      <td>223.5</td>\n",
       "      <td>223.501176</td>\n",
       "      <td>...</td>\n",
       "      <td>231.008295</td>\n",
       "      <td>2.5</td>\n",
       "      <td>228.5</td>\n",
       "      <td>228.501296</td>\n",
       "      <td>4.5</td>\n",
       "      <td>0.85</td>\n",
       "      <td>0.15</td>\n",
       "      <td>0.35</td>\n",
       "      <td>0.15</td>\n",
       "      <td>0</td>\n",
       "    </tr>\n",
       "    <tr>\n",
       "      <th>756</th>\n",
       "      <td>s_03007</td>\n",
       "      <td>run4</td>\n",
       "      <td>20</td>\n",
       "      <td>0</td>\n",
       "      <td>0</td>\n",
       "      <td>2</td>\n",
       "      <td>1</td>\n",
       "      <td>1</td>\n",
       "      <td>232.5</td>\n",
       "      <td>232.500227</td>\n",
       "      <td>...</td>\n",
       "      <td>240.508806</td>\n",
       "      <td>4.0</td>\n",
       "      <td>236.5</td>\n",
       "      <td>236.500852</td>\n",
       "      <td>3.5</td>\n",
       "      <td>0.28</td>\n",
       "      <td>0.72</td>\n",
       "      <td>0.22</td>\n",
       "      <td>0.22</td>\n",
       "      <td>0</td>\n",
       "    </tr>\n",
       "    <tr>\n",
       "      <th>758</th>\n",
       "      <td>s_03007</td>\n",
       "      <td>run4</td>\n",
       "      <td>22</td>\n",
       "      <td>1</td>\n",
       "      <td>0</td>\n",
       "      <td>2</td>\n",
       "      <td>2</td>\n",
       "      <td>0</td>\n",
       "      <td>254.5</td>\n",
       "      <td>254.500756</td>\n",
       "      <td>...</td>\n",
       "      <td>263.509655</td>\n",
       "      <td>5.0</td>\n",
       "      <td>258.5</td>\n",
       "      <td>258.501369</td>\n",
       "      <td>3.5</td>\n",
       "      <td>0.93</td>\n",
       "      <td>0.07</td>\n",
       "      <td>0.43</td>\n",
       "      <td>0.07</td>\n",
       "      <td>0</td>\n",
       "    </tr>\n",
       "    <tr>\n",
       "      <th>760</th>\n",
       "      <td>s_03007</td>\n",
       "      <td>run4</td>\n",
       "      <td>24</td>\n",
       "      <td>0</td>\n",
       "      <td>0</td>\n",
       "      <td>2</td>\n",
       "      <td>2</td>\n",
       "      <td>1</td>\n",
       "      <td>276.0</td>\n",
       "      <td>275.999954</td>\n",
       "      <td>...</td>\n",
       "      <td>282.510580</td>\n",
       "      <td>3.0</td>\n",
       "      <td>279.5</td>\n",
       "      <td>279.501566</td>\n",
       "      <td>3.0</td>\n",
       "      <td>0.57</td>\n",
       "      <td>0.43</td>\n",
       "      <td>0.07</td>\n",
       "      <td>0.07</td>\n",
       "      <td>0</td>\n",
       "    </tr>\n",
       "    <tr>\n",
       "      <th>762</th>\n",
       "      <td>s_03007</td>\n",
       "      <td>run4</td>\n",
       "      <td>26</td>\n",
       "      <td>1</td>\n",
       "      <td>0</td>\n",
       "      <td>2</td>\n",
       "      <td>2</td>\n",
       "      <td>0</td>\n",
       "      <td>295.0</td>\n",
       "      <td>295.000127</td>\n",
       "      <td>...</td>\n",
       "      <td>303.011411</td>\n",
       "      <td>2.5</td>\n",
       "      <td>300.5</td>\n",
       "      <td>300.501033</td>\n",
       "      <td>5.0</td>\n",
       "      <td>0.09</td>\n",
       "      <td>0.91</td>\n",
       "      <td>0.41</td>\n",
       "      <td>0.09</td>\n",
       "      <td>0</td>\n",
       "    </tr>\n",
       "    <tr>\n",
       "      <th>764</th>\n",
       "      <td>s_03007</td>\n",
       "      <td>run4</td>\n",
       "      <td>28</td>\n",
       "      <td>1</td>\n",
       "      <td>0</td>\n",
       "      <td>2</td>\n",
       "      <td>2</td>\n",
       "      <td>0</td>\n",
       "      <td>316.5</td>\n",
       "      <td>316.500071</td>\n",
       "      <td>...</td>\n",
       "      <td>324.012214</td>\n",
       "      <td>3.5</td>\n",
       "      <td>320.5</td>\n",
       "      <td>320.501642</td>\n",
       "      <td>3.5</td>\n",
       "      <td>0.91</td>\n",
       "      <td>0.09</td>\n",
       "      <td>0.41</td>\n",
       "      <td>0.09</td>\n",
       "      <td>0</td>\n",
       "    </tr>\n",
       "    <tr>\n",
       "      <th>765</th>\n",
       "      <td>s_03007</td>\n",
       "      <td>run4</td>\n",
       "      <td>29</td>\n",
       "      <td>1</td>\n",
       "      <td>0</td>\n",
       "      <td>2</td>\n",
       "      <td>2</td>\n",
       "      <td>0</td>\n",
       "      <td>325.5</td>\n",
       "      <td>325.500904</td>\n",
       "      <td>...</td>\n",
       "      <td>333.512636</td>\n",
       "      <td>3.0</td>\n",
       "      <td>330.5</td>\n",
       "      <td>330.501768</td>\n",
       "      <td>4.5</td>\n",
       "      <td>0.45</td>\n",
       "      <td>0.55</td>\n",
       "      <td>0.05</td>\n",
       "      <td>0.05</td>\n",
       "      <td>0</td>\n",
       "    </tr>\n",
       "    <tr>\n",
       "      <th>766</th>\n",
       "      <td>s_03007</td>\n",
       "      <td>run4</td>\n",
       "      <td>30</td>\n",
       "      <td>0</td>\n",
       "      <td>0</td>\n",
       "      <td>2</td>\n",
       "      <td>2</td>\n",
       "      <td>1</td>\n",
       "      <td>335.0</td>\n",
       "      <td>335.001117</td>\n",
       "      <td>...</td>\n",
       "      <td>343.012900</td>\n",
       "      <td>3.5</td>\n",
       "      <td>339.5</td>\n",
       "      <td>339.501086</td>\n",
       "      <td>4.0</td>\n",
       "      <td>0.74</td>\n",
       "      <td>0.26</td>\n",
       "      <td>0.24</td>\n",
       "      <td>0.24</td>\n",
       "      <td>0</td>\n",
       "    </tr>\n",
       "    <tr>\n",
       "      <th>767</th>\n",
       "      <td>s_03007</td>\n",
       "      <td>run4</td>\n",
       "      <td>31</td>\n",
       "      <td>1</td>\n",
       "      <td>0</td>\n",
       "      <td>2</td>\n",
       "      <td>2</td>\n",
       "      <td>0</td>\n",
       "      <td>344.5</td>\n",
       "      <td>344.500092</td>\n",
       "      <td>...</td>\n",
       "      <td>354.513497</td>\n",
       "      <td>5.5</td>\n",
       "      <td>349.0</td>\n",
       "      <td>349.001187</td>\n",
       "      <td>4.0</td>\n",
       "      <td>0.07</td>\n",
       "      <td>0.93</td>\n",
       "      <td>0.43</td>\n",
       "      <td>0.07</td>\n",
       "      <td>0</td>\n",
       "    </tr>\n",
       "  </tbody>\n",
       "</table>\n",
       "<p>516 rows × 37 columns</p>\n",
       "</div>"
      ],
      "text/plain": [
       "     Subject   Run  Trial  Acc  BadPress  Block  Correct  Error  ITI_onset  \\\n",
       "0    s_03001  run1      0    1         0      1        2      0       14.0   \n",
       "2    s_03001  run1      2    1         0      1        2      0       33.5   \n",
       "3    s_03001  run1      3    1         0      1        1      0       41.5   \n",
       "4    s_03001  run1      4    1         0      1        1      0       51.5   \n",
       "5    s_03001  run1      5    1         0      1        2      0       62.0   \n",
       "6    s_03001  run1      6    0         0      1        2      1       74.5   \n",
       "7    s_03001  run1      7    1         0      1        1      0       86.0   \n",
       "8    s_03001  run1      8    1         0      1        1      0       98.0   \n",
       "10   s_03001  run1     10    1         0      1        2      0      123.0   \n",
       "12   s_03001  run1     12    1         0      1        2      0      140.0   \n",
       "13   s_03001  run1     13    0         0      1        1      1      153.5   \n",
       "14   s_03001  run1     14    1         0      1        2      0      163.0   \n",
       "16   s_03001  run1     16    1         0      2        2      0      188.0   \n",
       "17   s_03001  run1     17    1         0      2        1      0      197.5   \n",
       "18   s_03001  run1     18    0         0      2        2      1      212.0   \n",
       "19   s_03001  run1     19    1         0      2        1      0      223.0   \n",
       "21   s_03001  run1     21    1         0      2        1      0      241.0   \n",
       "22   s_03001  run1     22    1         0      2        1      0      250.0   \n",
       "24   s_03001  run1     24    1         0      2        1      0      275.5   \n",
       "25   s_03001  run1     25    1         0      2        2      0      287.0   \n",
       "27   s_03001  run1     27    1         0      2        2      0      307.5   \n",
       "29   s_03001  run1     29    0         0      2        1      1      327.0   \n",
       "30   s_03001  run1     30    1         0      2        2      0      337.5   \n",
       "31   s_03001  run1     31    1         0      2        2      0      346.5   \n",
       "32   s_03001  run3      0    1         0      1        2      0       14.0   \n",
       "33   s_03001  run3      1    1         0      1        2      0       22.5   \n",
       "35   s_03001  run3      3    1         0      1        2      0       45.5   \n",
       "36   s_03001  run3      4    0         0      1        1      1       56.5   \n",
       "37   s_03001  run3      5    1         0      1        1      0       68.0   \n",
       "38   s_03001  run3      6    0         0      1        1      1       80.0   \n",
       "..       ...   ...    ...  ...       ...    ...      ...    ...        ...   \n",
       "728  s_03007  run2     24    1         0      2        1      0      264.5   \n",
       "730  s_03007  run2     26    1         0      2        2      0      287.5   \n",
       "731  s_03007  run2     27    1         0      2        1      0      299.5   \n",
       "732  s_03007  run2     28    1         0      2        1      0      309.5   \n",
       "733  s_03007  run2     29    1         0      2        2      0      322.5   \n",
       "734  s_03007  run2     30    0         0      2        1      1      333.0   \n",
       "737  s_03007  run4      1    1         0      1        1      0       22.5   \n",
       "738  s_03007  run4      2    1         0      1        2      0       30.0   \n",
       "739  s_03007  run4      3    1         0      1        2      0       42.5   \n",
       "741  s_03007  run4      5    0         0      1        2      1       60.5   \n",
       "742  s_03007  run4      6    1         0      1        1      0       69.5   \n",
       "743  s_03007  run4      7    1         0      1        2      0       81.0   \n",
       "744  s_03007  run4      8    1         0      1        2      0       92.5   \n",
       "745  s_03007  run4      9    1         0      1        1      0      104.5   \n",
       "746  s_03007  run4     10    1         0      1        2      0      115.5   \n",
       "747  s_03007  run4     11    0         0      1        1      1      125.0   \n",
       "749  s_03007  run4     13    0         0      1        2      1      147.0   \n",
       "751  s_03007  run4     15    1         0      1        2      0      172.5   \n",
       "752  s_03007  run4     16    1         0      2        2      0      188.0   \n",
       "753  s_03007  run4     17    0         0      2        1      1      200.5   \n",
       "754  s_03007  run4     18    0         0      2        1      1      213.0   \n",
       "755  s_03007  run4     19    1         0      2        2      0      223.5   \n",
       "756  s_03007  run4     20    0         0      2        1      1      232.5   \n",
       "758  s_03007  run4     22    1         0      2        2      0      254.5   \n",
       "760  s_03007  run4     24    0         0      2        2      1      276.0   \n",
       "762  s_03007  run4     26    1         0      2        2      0      295.0   \n",
       "764  s_03007  run4     28    1         0      2        2      0      316.5   \n",
       "765  s_03007  run4     29    1         0      2        2      0      325.5   \n",
       "766  s_03007  run4     30    0         0      2        2      1      335.0   \n",
       "767  s_03007  run4     31    1         0      2        2      0      344.5   \n",
       "\n",
       "     ITI_onset_real   ...    decision_onset_real  hold  hold_onset  \\\n",
       "0         14.006765   ...              23.008680   2.5        20.5   \n",
       "2         33.501051   ...              40.009610   3.0        37.0   \n",
       "3         41.501076   ...              50.009948   4.0        46.0   \n",
       "4         51.500943   ...              60.510471   4.5        56.0   \n",
       "5         62.000718   ...              73.011000   5.0        68.0   \n",
       "6         74.500277   ...              84.511487   6.0        78.5   \n",
       "7         86.000385   ...              96.511977   3.5        93.0   \n",
       "8         98.000558   ...             108.512305   5.5       103.0   \n",
       "10       123.001064   ...             129.513379   2.5       127.0   \n",
       "12       140.000215   ...             152.014295   6.5       145.5   \n",
       "13       153.500495   ...             161.514752   3.0       158.5   \n",
       "14       163.001124   ...             170.515101   3.0       167.5   \n",
       "16       188.052723   ...             196.016169   3.0       193.0   \n",
       "17       197.500140   ...             210.500150   6.0       204.5   \n",
       "18       212.000894   ...             221.500610   5.0       216.5   \n",
       "19       223.000070   ...             229.500948   2.5       227.0   \n",
       "21       240.999918   ...             248.501743   4.0       244.5   \n",
       "22       250.001173   ...             263.002155   5.5       257.5   \n",
       "24       275.501018   ...             285.503253   6.5       279.0   \n",
       "25       287.000245   ...             296.503774   3.0       293.5   \n",
       "27       307.500717   ...             317.004615   4.5       312.5   \n",
       "29       327.000802   ...             336.005399   4.0       332.0   \n",
       "30       337.500212   ...             345.005625   3.5       341.5   \n",
       "31       346.500095   ...             354.506195   4.0       350.5   \n",
       "32        14.002457   ...              21.006539   3.5        17.5   \n",
       "33        22.500338   ...              30.507085   3.0        27.5   \n",
       "35        45.500258   ...              55.008112   2.5        52.5   \n",
       "36        56.499918   ...              66.508544   5.5        61.0   \n",
       "37        68.000756   ...              78.509098   4.0        74.5   \n",
       "38        80.001508   ...              87.509250   3.5        84.0   \n",
       "..              ...   ...                    ...   ...         ...   \n",
       "728      264.500828   ...             277.502676   5.5       272.0   \n",
       "730      287.500344   ...             298.003539   3.5       294.5   \n",
       "731      299.500569   ...             308.003806   4.5       303.5   \n",
       "732      309.501129   ...             321.004605   6.5       314.5   \n",
       "733      322.500918   ...             331.505060   5.0       326.5   \n",
       "734      333.000741   ...             342.505522   3.0       339.5   \n",
       "737       22.500683   ...              28.516489   2.5        26.0   \n",
       "738       30.001151   ...              41.000362   6.5        34.5   \n",
       "739       42.500748   ...              49.000686   3.0        46.0   \n",
       "741       60.501057   ...              68.001423   2.5        65.5   \n",
       "742       69.500324   ...              79.501973   5.5        74.0   \n",
       "743       80.999978   ...              91.002496   4.0        87.0   \n",
       "744       92.500104   ...             103.002864   3.5        99.5   \n",
       "745      104.501252   ...             114.003420   5.0       109.0   \n",
       "746      115.500469   ...             123.503855   4.0       119.5   \n",
       "747      125.000562   ...             134.504232   4.5       130.0   \n",
       "749      147.000187   ...             160.505368   6.0       154.5   \n",
       "751      172.500900   ...             180.506256   4.0       176.5   \n",
       "752      188.043325   ...             199.006701   4.5       194.5   \n",
       "753      200.501623   ...             211.507565   4.0       207.5   \n",
       "754      213.000635   ...             222.007994   4.0       218.0   \n",
       "755      223.501176   ...             231.008295   2.5       228.5   \n",
       "756      232.500227   ...             240.508806   4.0       236.5   \n",
       "758      254.500756   ...             263.509655   5.0       258.5   \n",
       "760      275.999954   ...             282.510580   3.0       279.5   \n",
       "762      295.000127   ...             303.011411   2.5       300.5   \n",
       "764      316.500071   ...             324.012214   3.5       320.5   \n",
       "765      325.500904   ...             333.512636   3.0       330.5   \n",
       "766      335.001117   ...             343.012900   3.5       339.5   \n",
       "767      344.500092   ...             354.513497   5.5       349.0   \n",
       "\n",
       "     hold_onset_real  iti  Dist0  Dist100 Dist50  LandmarkDist  Missed  \n",
       "0          20.502069  6.0   0.36     0.64   0.14          0.14       0  \n",
       "2          37.002539  3.0   0.85     0.15   0.35          0.15       0  \n",
       "3          46.001543  4.0   0.45     0.55   0.05          0.05       0  \n",
       "4          56.001799  4.0   0.93     0.07   0.43          0.07       0  \n",
       "5          68.001537  5.5   0.33     0.67   0.17          0.17       0  \n",
       "6          78.501440  3.5   0.74     0.26   0.24          0.24       0  \n",
       "7          93.001410  6.5   0.77     0.23   0.27          0.23       0  \n",
       "8         103.001983  4.5   0.09     0.91   0.41          0.09       0  \n",
       "10        127.001189  3.5   0.07     0.93   0.43          0.07       0  \n",
       "12        145.502030  5.0   0.60     0.40   0.10          0.10       0  \n",
       "13        158.501073  4.5   0.11     0.89   0.39          0.11       0  \n",
       "14        167.501338  4.0   0.28     0.72   0.22          0.22       0  \n",
       "16        193.001653  4.5   0.74     0.26   0.24          0.24       0  \n",
       "17        204.501635  6.5   0.60     0.40   0.10          0.10       0  \n",
       "18        216.501875  4.0   0.07     0.93   0.43          0.07       0  \n",
       "19        227.001765  3.5   0.09     0.91   0.41          0.09       0  \n",
       "21        244.500994  3.0   0.77     0.23   0.27          0.23       0  \n",
       "22        257.500878  7.0   0.85     0.15   0.35          0.15       0  \n",
       "24        279.001606  3.0   0.93     0.07   0.43          0.07       0  \n",
       "25        293.500879  6.0   0.36     0.64   0.14          0.14       0  \n",
       "27        312.502294  4.5   0.11     0.89   0.39          0.11       0  \n",
       "29        332.001396  4.5   0.33     0.67   0.17          0.17       0  \n",
       "30        341.501643  3.5   0.45     0.55   0.05          0.05       0  \n",
       "31        350.501955  3.5   0.28     0.72   0.22          0.22       0  \n",
       "32         17.500924  3.0   0.65     0.35   0.15          0.15       0  \n",
       "33         27.501310  4.5   0.21     0.79   0.29          0.21       0  \n",
       "35         52.500819  6.5   0.91     0.09   0.41          0.09       0  \n",
       "36         61.001769  4.0   0.36     0.64   0.14          0.14       0  \n",
       "37         74.500864  6.0   0.28     0.72   0.22          0.22       0  \n",
       "38         84.002064  3.5   0.33     0.67   0.17          0.17       0  \n",
       "..               ...  ...    ...      ...    ...           ...     ...  \n",
       "728       272.001556  7.0   0.11     0.89   0.39          0.11       0  \n",
       "730       294.501416  6.5   0.60     0.40   0.10          0.10       0  \n",
       "731       303.501256  3.5   0.91     0.09   0.41          0.09       0  \n",
       "732       314.501333  4.5   0.65     0.35   0.15          0.15       0  \n",
       "733       326.501183  3.5   0.74     0.26   0.24          0.24       0  \n",
       "734       339.502045  6.0   0.45     0.55   0.05          0.05       0  \n",
       "737        26.001943  3.0   0.11     0.89   0.39          0.11       0  \n",
       "738        34.501855  4.0   0.93     0.07   0.43          0.07       0  \n",
       "739        46.001019  3.0   0.09     0.91   0.41          0.09       0  \n",
       "741        65.502146  4.5   0.57     0.43   0.07          0.07       0  \n",
       "742        74.000952  4.0   0.91     0.09   0.41          0.09       0  \n",
       "743        87.002007  5.5   0.36     0.64   0.14          0.14       0  \n",
       "744        99.502161  6.5   0.07     0.93   0.43          0.07       0  \n",
       "745       109.001990  4.0   0.21     0.79   0.29          0.21       0  \n",
       "746       119.501698  3.5   0.85     0.15   0.35          0.15       0  \n",
       "747       130.001104  4.5   0.28     0.72   0.22          0.22       0  \n",
       "749       154.501511  7.0   0.74     0.26   0.24          0.24       0  \n",
       "751       176.501126  3.5   0.45     0.55   0.05          0.05       0  \n",
       "752       194.501966  6.0   0.11     0.89   0.39          0.11       0  \n",
       "753       207.501201  6.5   0.36     0.64   0.14          0.14       0  \n",
       "754       218.001962  4.5   0.21     0.79   0.29          0.21       0  \n",
       "755       228.501296  4.5   0.85     0.15   0.35          0.15       0  \n",
       "756       236.500852  3.5   0.28     0.72   0.22          0.22       0  \n",
       "758       258.501369  3.5   0.93     0.07   0.43          0.07       0  \n",
       "760       279.501566  3.0   0.57     0.43   0.07          0.07       0  \n",
       "762       300.501033  5.0   0.09     0.91   0.41          0.09       0  \n",
       "764       320.501642  3.5   0.91     0.09   0.41          0.09       0  \n",
       "765       330.501768  4.5   0.45     0.55   0.05          0.05       0  \n",
       "766       339.501086  4.0   0.74     0.26   0.24          0.24       0  \n",
       "767       349.001187  4.0   0.07     0.93   0.43          0.07       0  \n",
       "\n",
       "[516 rows x 37 columns]"
      ]
     },
     "execution_count": 87,
     "metadata": {},
     "output_type": "execute_result"
    }
   ],
   "source": [
    "new_df = new_df[pd.notnull(new_df['Subject'])]\n",
    "new_df"
   ]
  },
  {
   "cell_type": "code",
   "execution_count": 88,
   "metadata": {
    "collapsed": true
   },
   "outputs": [],
   "source": [
    "group_task = new_df.groupby(['Subject','Line_pct'])"
   ]
  },
  {
   "cell_type": "code",
   "execution_count": 89,
   "metadata": {
    "collapsed": true
   },
   "outputs": [],
   "source": [
    "error = group_task['Error'].mean()\n",
    "response = group_task['Response'].mean()"
   ]
  },
  {
   "cell_type": "code",
   "execution_count": 90,
   "metadata": {
    "collapsed": false
   },
   "outputs": [
    {
     "data": {
      "text/plain": [
       "Subject  Line_pct\n",
       "s_03001  0.07        0.166667\n",
       "         0.09        0.000000\n",
       "         0.11        0.200000\n",
       "         0.21        0.333333\n",
       "         0.28        0.333333\n",
       "         0.33        0.500000\n",
       "         0.36        0.166667\n",
       "         0.45        0.000000\n",
       "         0.57        0.000000\n",
       "         0.60        0.000000\n",
       "         0.65        0.333333\n",
       "         0.74        0.333333\n",
       "         0.77        0.166667\n",
       "         0.85        0.333333\n",
       "         0.91        0.000000\n",
       "         0.93        0.166667\n",
       "s_03003  0.07        0.000000\n",
       "         0.09        0.000000\n",
       "         0.11        0.000000\n",
       "         0.21        0.000000\n",
       "         0.28        0.000000\n",
       "         0.33        0.000000\n",
       "         0.36        0.250000\n",
       "         0.45        0.000000\n",
       "         0.57        0.000000\n",
       "         0.60        0.000000\n",
       "         0.65        0.250000\n",
       "         0.74        0.000000\n",
       "         0.77        0.000000\n",
       "         0.85        0.166667\n",
       "                       ...   \n",
       "s_03006  0.11        0.166667\n",
       "         0.21        0.333333\n",
       "         0.28        0.600000\n",
       "         0.33        0.666667\n",
       "         0.36        0.333333\n",
       "         0.45        0.500000\n",
       "         0.57        0.833333\n",
       "         0.60        0.333333\n",
       "         0.65        0.333333\n",
       "         0.74        0.500000\n",
       "         0.77        0.333333\n",
       "         0.85        0.333333\n",
       "         0.91        0.333333\n",
       "         0.93        0.166667\n",
       "s_03007  0.07        0.166667\n",
       "         0.09        0.166667\n",
       "         0.11        0.166667\n",
       "         0.21        0.333333\n",
       "         0.28        0.500000\n",
       "         0.33        0.500000\n",
       "         0.36        0.500000\n",
       "         0.45        0.666667\n",
       "         0.57        0.500000\n",
       "         0.60        0.333333\n",
       "         0.65        0.333333\n",
       "         0.74        0.500000\n",
       "         0.77        0.333333\n",
       "         0.85        0.166667\n",
       "         0.91        0.333333\n",
       "         0.93        0.000000\n",
       "Name: Error, dtype: float64"
      ]
     },
     "execution_count": 90,
     "metadata": {},
     "output_type": "execute_result"
    }
   ],
   "source": [
    "error"
   ]
  },
  {
   "cell_type": "code",
   "execution_count": 91,
   "metadata": {
    "collapsed": true
   },
   "outputs": [],
   "source": [
    "subjs = new_df['Subject'].unique()"
   ]
  },
  {
   "cell_type": "code",
   "execution_count": 92,
   "metadata": {
    "collapsed": true
   },
   "outputs": [],
   "source": [
    "error_dict = {}\n",
    "position_dict = {}\n",
    "results_list = []\n",
    "for s in subjs:\n",
    "    d_tmp = {}\n",
    "    error_dict[s] = error.loc[s]\n",
    "    slope,inter,r,p,stderr = linregress(error_dict[s].index, error_dict[s])\n",
    "    d_tmp = {'Subject':s, 'slope_E':slope, 'int_E':inter,\n",
    "             'r_E':r,'p_E':p, 'stderr_E':stderr,\n",
    "             'R2_E':r*r}\n",
    "    results_list.append(d_tmp)\n",
    "res_df = pd.DataFrame(results_list)"
   ]
  },
  {
   "cell_type": "code",
   "execution_count": 93,
   "metadata": {
    "collapsed": false
   },
   "outputs": [
    {
     "data": {
      "text/html": [
       "<div>\n",
       "<table border=\"1\" class=\"dataframe\">\n",
       "  <thead>\n",
       "    <tr style=\"text-align: right;\">\n",
       "      <th></th>\n",
       "      <th>R2_E</th>\n",
       "      <th>Subject</th>\n",
       "      <th>int_E</th>\n",
       "      <th>p_E</th>\n",
       "      <th>r_E</th>\n",
       "      <th>slope_E</th>\n",
       "      <th>stderr_E</th>\n",
       "    </tr>\n",
       "  </thead>\n",
       "  <tbody>\n",
       "    <tr>\n",
       "      <th>0</th>\n",
       "      <td>0.004822</td>\n",
       "      <td>s_03001</td>\n",
       "      <td>0.207984</td>\n",
       "      <td>0.798306</td>\n",
       "      <td>-0.069441</td>\n",
       "      <td>-0.037173</td>\n",
       "      <td>0.142726</td>\n",
       "    </tr>\n",
       "    <tr>\n",
       "      <th>1</th>\n",
       "      <td>0.024736</td>\n",
       "      <td>s_03003</td>\n",
       "      <td>0.017814</td>\n",
       "      <td>0.560756</td>\n",
       "      <td>0.157278</td>\n",
       "      <td>0.048188</td>\n",
       "      <td>0.080866</td>\n",
       "    </tr>\n",
       "    <tr>\n",
       "      <th>2</th>\n",
       "      <td>0.166708</td>\n",
       "      <td>s_03004</td>\n",
       "      <td>0.360300</td>\n",
       "      <td>0.116403</td>\n",
       "      <td>-0.408298</td>\n",
       "      <td>-0.254393</td>\n",
       "      <td>0.152007</td>\n",
       "    </tr>\n",
       "    <tr>\n",
       "      <th>3</th>\n",
       "      <td>0.190476</td>\n",
       "      <td>s_03005</td>\n",
       "      <td>-0.028205</td>\n",
       "      <td>0.091007</td>\n",
       "      <td>0.436435</td>\n",
       "      <td>0.256896</td>\n",
       "      <td>0.141543</td>\n",
       "    </tr>\n",
       "    <tr>\n",
       "      <th>4</th>\n",
       "      <td>0.003987</td>\n",
       "      <td>s_03006</td>\n",
       "      <td>0.420608</td>\n",
       "      <td>0.816285</td>\n",
       "      <td>-0.063146</td>\n",
       "      <td>-0.037424</td>\n",
       "      <td>0.158077</td>\n",
       "    </tr>\n",
       "    <tr>\n",
       "      <th>5</th>\n",
       "      <td>0.003859</td>\n",
       "      <td>s_03007</td>\n",
       "      <td>0.362027</td>\n",
       "      <td>0.819232</td>\n",
       "      <td>-0.062117</td>\n",
       "      <td>-0.036923</td>\n",
       "      <td>0.158556</td>\n",
       "    </tr>\n",
       "  </tbody>\n",
       "</table>\n",
       "</div>"
      ],
      "text/plain": [
       "       R2_E  Subject     int_E       p_E       r_E   slope_E  stderr_E\n",
       "0  0.004822  s_03001  0.207984  0.798306 -0.069441 -0.037173  0.142726\n",
       "1  0.024736  s_03003  0.017814  0.560756  0.157278  0.048188  0.080866\n",
       "2  0.166708  s_03004  0.360300  0.116403 -0.408298 -0.254393  0.152007\n",
       "3  0.190476  s_03005 -0.028205  0.091007  0.436435  0.256896  0.141543\n",
       "4  0.003987  s_03006  0.420608  0.816285 -0.063146 -0.037424  0.158077\n",
       "5  0.003859  s_03007  0.362027  0.819232 -0.062117 -0.036923  0.158556"
      ]
     },
     "execution_count": 93,
     "metadata": {},
     "output_type": "execute_result"
    }
   ],
   "source": [
    "res_df"
   ]
  },
  {
   "cell_type": "code",
   "execution_count": 94,
   "metadata": {
    "collapsed": true
   },
   "outputs": [],
   "source": [
    "res_grp = res_df.groupby('Subject')"
   ]
  },
  {
   "cell_type": "code",
   "execution_count": 95,
   "metadata": {
    "collapsed": false
   },
   "outputs": [
    {
     "data": {
      "text/plain": [
       "[<matplotlib.lines.Line2D at 0x10d456ed0>]"
      ]
     },
     "execution_count": 95,
     "metadata": {},
     "output_type": "execute_result"
    },
    {
     "data": {
      "image/png": "[encoded data removed]",
      "text/plain": [
       "<matplotlib.figure.Figure at 0x10c65b550>"
      ]
     },
     "metadata": {},
     "output_type": "display_data"
    }
   ],
   "source": [
    "plt.plot(res_df['slope_E'], '-o')"
   ]
  },
  {
   "cell_type": "code",
   "execution_count": null,
   "metadata": {
    "collapsed": true
   },
   "outputs": [],
   "source": []
  }
 ],
 "metadata": {
  "kernelspec": {
   "display_name": "Python 2",
   "language": "python",
   "name": "python2"
  },
  "language_info": {
   "codemirror_mode": {
    "name": "ipython",
    "version": 2
   },
   "file_extension": ".py",
   "mimetype": "text/x-python",
   "name": "python",
   "nbconvert_exporter": "python",
   "pygments_lexer": "ipython2",
   "version": "2.7.10"
  }
 },
 "nbformat": 4,
 "nbformat_minor": 0
}
