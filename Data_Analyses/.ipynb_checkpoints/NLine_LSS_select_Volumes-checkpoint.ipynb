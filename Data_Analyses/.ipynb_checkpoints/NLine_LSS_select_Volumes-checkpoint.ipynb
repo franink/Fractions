{
 "cells": [
  {
   "cell_type": "code",
   "execution_count": 1,
   "metadata": {
    "collapsed": false
   },
   "outputs": [],
   "source": [
    "#Opened with --pylab flag\n",
    "#Need to create code to analyze piot data\n",
    "import pandas as pd\n",
    "import numpy as np\n",
    "from scipy import io\n",
    "import os\n",
    "import glob"
   ]
  },
  {
   "cell_type": "code",
   "execution_count": 2,
   "metadata": {
    "collapsed": false
   },
   "outputs": [],
   "source": [
    "## Laptop\n",
    "#filepath = '/Users/frankkanayet/Dropbox/NLineExperiment/PilotData'\n",
    "#filepath = '/Users/frankkanayet/Dropbox/NLineExperiment/PilotData/test3s'\n",
    "#filepath = '/Users/frankkanayet/Google Drive/NLineData/Beh_Data'\n",
    "\n",
    "## Desktop\n",
    "#filepath = '/Users/frankanayet/Dropbox/NLineExperiment/Data'\n",
    "filepath = '/Users/frankanayet/Google Drive/NLineData/Beh_Data'\n",
    "os.chdir(filepath)"
   ]
  },
  {
   "cell_type": "code",
   "execution_count": 3,
   "metadata": {
    "collapsed": false
   },
   "outputs": [
    {
     "name": "stdout",
     "output_type": "stream",
     "text": [
      "Pandas version 0.17.1\n"
     ]
    }
   ],
   "source": [
    "print 'Pandas version ' + pd.__version__"
   ]
  },
  {
   "cell_type": "code",
   "execution_count": 4,
   "metadata": {
    "collapsed": false
   },
   "outputs": [
    {
     "name": "stdout",
     "output_type": "stream",
     "text": [
      "['Nline_02001-Mar1615.mat', 'Nline_02002-Mar1915.mat', 'Nline_02003-Mar2015a.mat', 'Nline_02004-Mar2315a.mat', 'Nline_02005-Mar2315a.mat', 'Nline_02006-Mar2315a.mat', 'Nline_02007-Mar2415a.mat', 'Nline_02009-Mar2615a.mat', 'Nline_02010-Mar2615a.mat', 'Nline_02011-Mar2615a.mat', 'Nline_02012-Apr0215a.mat', 'Nline_02014-Apr0315a.mat', 'Nline_02015Apr2715a.mat', 'Nline_02016-Apr2715a.mat', 'Nline_02017-Apr2815a.mat', 'Nline_02018-Apr2815a.mat', 'Nline_02019-Apr2915a.mat', 'Nline_02020-May1815a.mat', 'Nline_02021-May2515a.mat', 'Nline_02022-May2515a.mat', 'Nline_02023-May2715a.mat', 'Nline_02024-May2815a.mat', 'Nline_02027-Jun0115a.mat']\n"
     ]
    },
    {
     "data": {
      "text/plain": [
       "['s_02009',\n",
       " 's_02003',\n",
       " 's_02002',\n",
       " 's_02001',\n",
       " 's_02007',\n",
       " 's_02006',\n",
       " 's_02005',\n",
       " 's_02004',\n",
       " 's_02018',\n",
       " 's_02019',\n",
       " 's_02010',\n",
       " 's_02011',\n",
       " 's_02012',\n",
       " 's_02014',\n",
       " 's_02015',\n",
       " 's_02016',\n",
       " 's_02017',\n",
       " 's_02024',\n",
       " 's_02027',\n",
       " 's_02021',\n",
       " 's_02020',\n",
       " 's_02023',\n",
       " 's_02022']"
      ]
     },
     "execution_count": 4,
     "metadata": {},
     "output_type": "execute_result"
    }
   ],
   "source": [
    "filenames = glob.glob('Nline_*.mat')\n",
    "print filenames\n",
    "#index to isolate subj numbers\n",
    "data_dict = {}\n",
    "for i in filenames:\n",
    "    id1 = filenames[0].find('_') + 1\n",
    "    id2 = filenames[0].find('-')\n",
    "    sub_nbr = i[id1:id2]\n",
    "    sub_name = i\n",
    "    s_id = 's_'+sub_nbr\n",
    "    data_dict[s_id] = io.loadmat(sub_name)\n",
    "\n",
    "#sub_name = filenames[0] #This will be changed to a loop for all subjects later\n",
    "#mat = io.loadmat(sub_name)\n",
    "data_dict.keys()"
   ]
  },
  {
   "cell_type": "code",
   "execution_count": 5,
   "metadata": {
    "collapsed": false
   },
   "outputs": [],
   "source": [
    "sub_ex = data_dict.keys()[0]"
   ]
  },
  {
   "cell_type": "code",
   "execution_count": 6,
   "metadata": {
    "collapsed": false
   },
   "outputs": [],
   "source": [
    "#data_dict['s_00011']['p']"
   ]
  },
  {
   "cell_type": "code",
   "execution_count": 7,
   "metadata": {
    "collapsed": false
   },
   "outputs": [],
   "source": [
    "#for i in data_dict:\n",
    "#    data_dict[i].pop('__header__')\n",
    "#    data_dict[i].pop('__version__')\n",
    "#    data_dict[i].pop('__globals__')\n",
    "#data_dict['s_00011'].keys()"
   ]
  },
  {
   "cell_type": "code",
   "execution_count": 8,
   "metadata": {
    "collapsed": false
   },
   "outputs": [
    {
     "data": {
      "text/plain": [
       "49"
      ]
     },
     "execution_count": 8,
     "metadata": {},
     "output_type": "execute_result"
    }
   ],
   "source": [
    "## The indexes of zeros are as follows [0][0][x][y][z][0] The x y z are the 3 dimensions of the data 3d matrix the zeros are padding\n",
    "data_dict[sub_ex]['p']['NlineResults'][0][0][0][5][0][0]\n",
    "len(data_dict[sub_ex]['p']['NlineResults'][0][0][:])"
   ]
  },
  {
   "cell_type": "code",
   "execution_count": 9,
   "metadata": {
    "collapsed": false
   },
   "outputs": [
    {
     "data": {
      "text/plain": [
       "('ramp_up',\n",
       " 'Mean_ITI',\n",
       " 'Mean_hold',\n",
       " 'decision',\n",
       " 'consider',\n",
       " 'runs',\n",
       " 'nStim',\n",
       " 'ntasks',\n",
       " 'tasks',\n",
       " 'trialSecs',\n",
       " 'lineLength',\n",
       " 'speed',\n",
       " 'run_order',\n",
       " 'NlineResults',\n",
       " 'time_Runs',\n",
       " 'task_transition',\n",
       " 'start_Nline',\n",
       " 'finish_Nline')"
      ]
     },
     "execution_count": 9,
     "metadata": {},
     "output_type": "execute_result"
    }
   ],
   "source": [
    "data_dict[sub_ex]['p'].dtype.names"
   ]
  },
  {
   "cell_type": "code",
   "execution_count": 10,
   "metadata": {
    "collapsed": false
   },
   "outputs": [],
   "source": [
    "cons_time = data_dict[sub_ex]['p']['consider'][0][0][0][0]\n",
    "dec_time = data_dict[sub_ex]['p']['decision'][0][0][0][0]"
   ]
  },
  {
   "cell_type": "code",
   "execution_count": 11,
   "metadata": {
    "collapsed": false
   },
   "outputs": [],
   "source": [
    "new_dat = {}\n",
    "#new_df = {}\n",
    "for s in data_dict:\n",
    "    tasks = ['NlineResults']\n",
    "    new_dat[s]={}\n",
    "    #new_df[s] = {}\n",
    "    for task in tasks:\n",
    "        dat = data_dict[s]['p'][task]\n",
    "        num_fields = len(data_dict[s]['p'][task][0][0][0])\n",
    "        dat_names = []\n",
    "        for k in range(0,num_fields):\n",
    "            dat_names.append(dat[0][0][0][k][0][0])\n",
    "        new_dat[s][task] = {}\n",
    "        runs = data_dict[s]['p']['runs'][0][0][0][0]\n",
    "        for run in range(0,runs):\n",
    "            run_name = 'run'+str(run+1)\n",
    "            new_dat[s][task][run_name] = {}\n",
    "            for i in range(0,len(dat_names)):\n",
    "                new_dat[s][task][run_name][dat_names[i]] = []\n",
    "                for j in range(0,len(dat[0][0][:])-1):\n",
    "                    if dat_names[i] == 'catch_probe':\n",
    "                        new_dat[s][task][run_name][dat_names[i]].append(dat[0][0][j+1][i][run])\n",
    "                    elif dat_names[i] == 'Probe':\n",
    "                        new_dat[s][task][run_name][dat_names[i]].append(dat[0][0][j+1][i][run][0])\n",
    "                    else:\n",
    "                        new_dat[s][task][run_name][dat_names[i]].append(dat[0][0][j+1][i][run][0][0])\n",
    "#legible access to the data\n",
    "Nline = 'NlineResults' #numberline"
   ]
  },
  {
   "cell_type": "code",
   "execution_count": 12,
   "metadata": {
    "collapsed": false
   },
   "outputs": [
    {
     "data": {
      "text/plain": [
       "[u'Slow',\n",
       " u'Line_pct',\n",
       " u'iti',\n",
       " u'TestX',\n",
       " u'ITI_onset_real',\n",
       " u'consider_onset_real',\n",
       " u'ITI_onset',\n",
       " u'RT',\n",
       " u'hold',\n",
       " u'decision_end',\n",
       " u'decision_onset_real',\n",
       " u'RTHold',\n",
       " u'decision_end_real',\n",
       " u'Correct',\n",
       " u'Wrong',\n",
       " u'BadPress',\n",
       " u'consider_onset',\n",
       " u'Response',\n",
       " u'Task',\n",
       " u'Trial',\n",
       " u'Points',\n",
       " u'Error',\n",
       " u'catch',\n",
       " u'mouse_pos',\n",
       " u'Block',\n",
       " u'catch_probe',\n",
       " u'Probe',\n",
       " u'hold_onset',\n",
       " u'Move',\n",
       " u'decision_onset',\n",
       " u'hold_onset_real',\n",
       " u'Click']"
      ]
     },
     "execution_count": 12,
     "metadata": {},
     "output_type": "execute_result"
    }
   ],
   "source": [
    "new_dat[sub_ex]['NlineResults']['run1'].keys()"
   ]
  },
  {
   "cell_type": "code",
   "execution_count": 13,
   "metadata": {
    "collapsed": false
   },
   "outputs": [
    {
     "data": {
      "text/plain": [
       "[array([57], dtype=uint8),\n",
       " array([77], dtype=uint8),\n",
       " array([3], dtype=uint8),\n",
       " array([21], dtype=uint8),\n",
       " array([60], dtype=uint8),\n",
       " array([28], dtype=uint8),\n",
       " array([85], dtype=uint8),\n",
       " array([74], dtype=uint8),\n",
       " array([33], dtype=uint8),\n",
       " array([7], dtype=uint8),\n",
       " array([90], dtype=uint8),\n",
       " array([36], dtype=uint8),\n",
       " array([11], dtype=uint8),\n",
       " array([45], dtype=uint8),\n",
       " array([98], dtype=uint8),\n",
       " array([65], dtype=uint8),\n",
       " array([70], dtype=uint8),\n",
       " array([14], dtype=uint8),\n",
       " array([80], dtype=uint8),\n",
       " array([20], dtype=uint8),\n",
       " array([-58], dtype=int16),\n",
       " array([-94], dtype=int16),\n",
       " array([-86], dtype=int16),\n",
       " array([54], dtype=uint8),\n",
       " array([-44], dtype=int16),\n",
       " array([-78], dtype=int16),\n",
       " array([-10], dtype=int16),\n",
       " array([48], dtype=uint8),\n",
       " array([30], dtype=uint8),\n",
       " array([-28], dtype=int16),\n",
       " array([96], dtype=uint8),\n",
       " array([-34], dtype=int16),\n",
       " u'of',\n",
       " u'is',\n",
       " u'be',\n",
       " u'me',\n",
       " u'it',\n",
       " u'as',\n",
       " u'my',\n",
       " u'so',\n",
       " u'we',\n",
       " u'or',\n",
       " u'ox',\n",
       " u'by',\n",
       " u'am',\n",
       " u'he',\n",
       " u'do',\n",
       " u'if']"
      ]
     },
     "execution_count": 13,
     "metadata": {},
     "output_type": "execute_result"
    }
   ],
   "source": [
    "new_dat[sub_ex]['NlineResults']['run1']['Probe']"
   ]
  },
  {
   "cell_type": "code",
   "execution_count": 14,
   "metadata": {
    "collapsed": false
   },
   "outputs": [
    {
     "data": {
      "text/plain": [
       "[array([], shape=(0, 0), dtype=uint8),\n",
       " array([], shape=(0, 0), dtype=uint8),\n",
       " array([], shape=(0, 0), dtype=uint8),\n",
       " array([], shape=(0, 0), dtype=uint8),\n",
       " array([], shape=(0, 0), dtype=uint8),\n",
       " array([], shape=(0, 0), dtype=uint8),\n",
       " array([], shape=(0, 0), dtype=uint8),\n",
       " array([], shape=(0, 0), dtype=uint8),\n",
       " array([], shape=(0, 0), dtype=uint8),\n",
       " array([], shape=(0, 0), dtype=uint8),\n",
       " array([], shape=(0, 0), dtype=uint8),\n",
       " array([], shape=(0, 0), dtype=uint8),\n",
       " array([], shape=(0, 0), dtype=uint8),\n",
       " array([], shape=(0, 0), dtype=uint8),\n",
       " array([], shape=(0, 0), dtype=uint8),\n",
       " array([], shape=(0, 0), dtype=uint8),\n",
       " array([], shape=(0, 0), dtype=uint8),\n",
       " array([], shape=(0, 0), dtype=uint8),\n",
       " array([], shape=(0, 0), dtype=uint8),\n",
       " array([], shape=(0, 0), dtype=uint8),\n",
       " array([], shape=(0, 0), dtype=uint8),\n",
       " array([], shape=(0, 0), dtype=uint8),\n",
       " array([], shape=(0, 0), dtype=uint8),\n",
       " array([], shape=(0, 0), dtype=uint8),\n",
       " array([], shape=(0, 0), dtype=uint8),\n",
       " array([], shape=(0, 0), dtype=uint8),\n",
       " array([], shape=(0, 0), dtype=uint8),\n",
       " array([], shape=(0, 0), dtype=uint8),\n",
       " array([], shape=(0, 0), dtype=uint8),\n",
       " array([], shape=(0, 0), dtype=uint8),\n",
       " array([], shape=(0, 0), dtype=uint8),\n",
       " array([], shape=(0, 0), dtype=uint8),\n",
       " array([u'of'], \n",
       "       dtype='<U2'),\n",
       " array([u'is'], \n",
       "       dtype='<U2'),\n",
       " array([u'be'], \n",
       "       dtype='<U2'),\n",
       " array([u'it'], \n",
       "       dtype='<U2'),\n",
       " array([u'ox'], \n",
       "       dtype='<U2'),\n",
       " array([u'ox'], \n",
       "       dtype='<U2'),\n",
       " array([u'my'], \n",
       "       dtype='<U2'),\n",
       " array([u'so'], \n",
       "       dtype='<U2'),\n",
       " array([u'we'], \n",
       "       dtype='<U2'),\n",
       " array([u'or'], \n",
       "       dtype='<U2'),\n",
       " array([u'ox'], \n",
       "       dtype='<U2'),\n",
       " array([u'by'], \n",
       "       dtype='<U2'),\n",
       " array([u'am'], \n",
       "       dtype='<U2'),\n",
       " array([u'he'], \n",
       "       dtype='<U2'),\n",
       " array([u'do'], \n",
       "       dtype='<U2'),\n",
       " array([u'so'], \n",
       "       dtype='<U2')]"
      ]
     },
     "execution_count": 14,
     "metadata": {},
     "output_type": "execute_result"
    }
   ],
   "source": [
    "new_dat[sub_ex]['NlineResults']['run1']['catch_probe']"
   ]
  },
  {
   "cell_type": "code",
   "execution_count": 15,
   "metadata": {
    "collapsed": false
   },
   "outputs": [],
   "source": [
    "subj = data_dict.keys()\n",
    "tasks = [Nline]\n",
    "tuples = []\n",
    "rows = len(data_dict[sub_ex]['p'][Nline][0][0][:])-1\n",
    "for s in subj:\n",
    "    runs = new_dat[s]['NlineResults'].keys()\n",
    "    for run in runs:\n",
    "        for i in range(0,rows):\n",
    "            tuples.append((s, run, i))\n",
    "len(tuples)\n",
    "#iterables = [subj,tasks,runs]\n",
    "indexes = pd.MultiIndex.from_tuples(tuples, names=['Subj', 'Run', 'Trial'])\n",
    "nline_cols = len(new_dat[sub_ex][Nline]['run1'].keys())"
   ]
  },
  {
   "cell_type": "code",
   "execution_count": 16,
   "metadata": {
    "collapsed": false
   },
   "outputs": [
    {
     "data": {
      "text/plain": [
       "('s_02009', 'run3', 42)"
      ]
     },
     "execution_count": 16,
     "metadata": {},
     "output_type": "execute_result"
    }
   ],
   "source": [
    "indexes[90]"
   ]
  },
  {
   "cell_type": "code",
   "execution_count": 17,
   "metadata": {
    "collapsed": false
   },
   "outputs": [
    {
     "data": {
      "text/plain": [
       "'run1'"
      ]
     },
     "execution_count": 17,
     "metadata": {},
     "output_type": "execute_result"
    }
   ],
   "source": [
    "indexes[1][1]"
   ]
  },
  {
   "cell_type": "code",
   "execution_count": 18,
   "metadata": {
    "collapsed": false
   },
   "outputs": [
    {
     "data": {
      "text/plain": [
       "u'Block'"
      ]
     },
     "execution_count": 18,
     "metadata": {},
     "output_type": "execute_result"
    }
   ],
   "source": [
    "varnames = new_dat[sub_ex][Nline]['run1'].keys()\n",
    "varnames[24]"
   ]
  },
  {
   "cell_type": "code",
   "execution_count": 19,
   "metadata": {
    "collapsed": false
   },
   "outputs": [
    {
     "data": {
      "text/plain": [
       "4224"
      ]
     },
     "execution_count": 19,
     "metadata": {},
     "output_type": "execute_result"
    }
   ],
   "source": [
    "len(indexes)"
   ]
  },
  {
   "cell_type": "code",
   "execution_count": 20,
   "metadata": {
    "collapsed": false
   },
   "outputs": [],
   "source": [
    "# Code empty cells of probes and catch_probes as Nan\n",
    "Dic_list = []\n",
    "probes = ['catch_probe']\n",
    "for data in indexes:\n",
    "    temp_dict = {}\n",
    "    for var in varnames:\n",
    "        if var == probes[0]:\n",
    "            if len(new_dat.get(data[0]).get(Nline).get(data[1]).get(var)[data[2]]) == 0:\n",
    "                new_dat.get(data[0]).get(Nline).get(data[1]).get(var)[data[2]] = np.array([np.nan])\n",
    "            temp_dict[var] = new_dat.get(data[0]).get(Nline).get(data[1]).get(var)[data[2]][0]\n",
    "        else:\n",
    "            temp_dict[var] = new_dat.get(data[0]).get(Nline).get(data[1]).get(var)[data[2]]\n",
    "    Dic_list.append(temp_dict)"
   ]
  },
  {
   "cell_type": "code",
   "execution_count": 21,
   "metadata": {
    "collapsed": false
   },
   "outputs": [
    {
     "data": {
      "text/plain": [
       "12"
      ]
     },
     "execution_count": 21,
     "metadata": {},
     "output_type": "execute_result"
    }
   ],
   "source": [
    "#Create dataframe\n",
    "nline_df = pd.DataFrame(Dic_list, index=indexes)\n",
    "sum(nline_df.loc[sub_ex].loc['run1'].iloc[0:48]['catch'])"
   ]
  },
  {
   "cell_type": "code",
   "execution_count": 22,
   "metadata": {
    "collapsed": false
   },
   "outputs": [
    {
     "data": {
      "text/plain": [
       "Trial\n",
       "0   -0.023744\n",
       "1   -0.025507\n",
       "2    0.000000\n",
       "3    0.000000\n",
       "4   -0.027313\n",
       "5    0.001938\n",
       "6   -0.046035\n",
       "7    0.000000\n",
       "8    0.070881\n",
       "9    0.026916\n",
       "Name: Error, dtype: float64"
      ]
     },
     "execution_count": 22,
     "metadata": {},
     "output_type": "execute_result"
    }
   ],
   "source": [
    "nline_df.loc[sub_ex].loc['run1'].iloc[0:10]['Error']"
   ]
  },
  {
   "cell_type": "code",
   "execution_count": 23,
   "metadata": {
    "collapsed": false
   },
   "outputs": [
    {
     "data": {
      "text/plain": [
       "FrozenList([u'Subject', u'Run', u'Trial'])"
      ]
     },
     "execution_count": 23,
     "metadata": {},
     "output_type": "execute_result"
    }
   ],
   "source": [
    "nline_df.index.names = ['Subject', 'Run', 'Trial']\n",
    "nline_df.index.names"
   ]
  },
  {
   "cell_type": "code",
   "execution_count": 24,
   "metadata": {
    "collapsed": false
   },
   "outputs": [
    {
     "name": "stderr",
     "output_type": "stream",
     "text": [
      "/Users/frankanayet/anaconda/lib/python2.7/site-packages/ipykernel/__main__.py:3: SettingWithCopyWarning: \n",
      "A value is trying to be set on a copy of a slice from a DataFrame\n",
      "\n",
      "See the caveats in the documentation: http://pandas.pydata.org/pandas-docs/stable/indexing.html#indexing-view-versus-copy\n",
      "  app.launch_new_instance()\n",
      "/Users/frankanayet/anaconda/lib/python2.7/site-packages/ipykernel/__main__.py:4: SettingWithCopyWarning: \n",
      "A value is trying to be set on a copy of a slice from a DataFrame\n",
      "\n",
      "See the caveats in the documentation: http://pandas.pydata.org/pandas-docs/stable/indexing.html#indexing-view-versus-copy\n"
     ]
    },
    {
     "data": {
      "text/plain": [
       "Subject  Run   Trial\n",
       "s_02009  run1  0         57\n",
       "               1         77\n",
       "               2          3\n",
       "               3         21\n",
       "               4         60\n",
       "               5         28\n",
       "               6         85\n",
       "               7         74\n",
       "               8         33\n",
       "               9          7\n",
       "               10        90\n",
       "               11        36\n",
       "               12        11\n",
       "               13        45\n",
       "               14        98\n",
       "               15        65\n",
       "               16        70\n",
       "               17        14\n",
       "               18        80\n",
       "               19        20\n",
       "               20       -58\n",
       "               21       -94\n",
       "               22       -86\n",
       "               23        54\n",
       "               24       -44\n",
       "               25       -78\n",
       "               26       -10\n",
       "               27        48\n",
       "               28        30\n",
       "               29       -28\n",
       "                       ... \n",
       "s_02022  run4  18        or\n",
       "               19        my\n",
       "               20        of\n",
       "               21        we\n",
       "               22        he\n",
       "               23        am\n",
       "               24        so\n",
       "               25        by\n",
       "               26        as\n",
       "               27        do\n",
       "               28        me\n",
       "               29        is\n",
       "               30        it\n",
       "               31        ox\n",
       "               32       -86\n",
       "               33       -28\n",
       "               34        70\n",
       "               35        96\n",
       "               36       -10\n",
       "               37        80\n",
       "               38        48\n",
       "               39        54\n",
       "               40       -94\n",
       "               41       -34\n",
       "               42       -44\n",
       "               43        30\n",
       "               44        20\n",
       "               45       -78\n",
       "               46        14\n",
       "               47       -58\n",
       "Name: Probe, dtype: object"
      ]
     },
     "execution_count": 24,
     "metadata": {},
     "output_type": "execute_result"
    }
   ],
   "source": [
    "test = nline_df['Probe']\n",
    "for i in range(0,len(test)):\n",
    "    test[i] = np.ravel(test[i])\n",
    "    test[i] = test[i][0]\n",
    "nline_df['Probe'] = test\n",
    "nline_df['Probe']"
   ]
  },
  {
   "cell_type": "markdown",
   "metadata": {},
   "source": [
    "### Create Stim Labels"
   ]
  },
  {
   "cell_type": "code",
   "execution_count": 25,
   "metadata": {
    "collapsed": false
   },
   "outputs": [],
   "source": [
    "#now nline\n",
    "#nline_df['Num'] = nline_df['Num'].map('{:.0f}'.format)\n",
    "#nline_df['Denom'] = nline_df['Denom'].map('{:.0f}'.format)\n",
    "#nline_df['Stim'] = nline_df['Num']+'/'+nline_df['Denom']\n",
    "#nline_df['Stim']"
   ]
  },
  {
   "cell_type": "code",
   "execution_count": 26,
   "metadata": {
    "collapsed": false
   },
   "outputs": [
    {
     "data": {
      "text/plain": [
       "Index([u'BadPress', u'Block', u'Click', u'Correct', u'Error', u'ITI_onset',\n",
       "       u'ITI_onset_real', u'Line_pct', u'Move', u'Points', u'Probe', u'RT',\n",
       "       u'RTHold', u'Response', u'Slow', u'Task', u'TestX', u'Trial', u'Wrong',\n",
       "       u'catch', u'catch_probe', u'consider_onset', u'consider_onset_real',\n",
       "       u'decision_end', u'decision_end_real', u'decision_onset',\n",
       "       u'decision_onset_real', u'hold', u'hold_onset', u'hold_onset_real',\n",
       "       u'iti', u'mouse_pos'],\n",
       "      dtype='object')"
      ]
     },
     "execution_count": 26,
     "metadata": {},
     "output_type": "execute_result"
    }
   ],
   "source": [
    "nline_df.columns"
   ]
  },
  {
   "cell_type": "code",
   "execution_count": 27,
   "metadata": {
    "collapsed": false
   },
   "outputs": [
    {
     "name": "stderr",
     "output_type": "stream",
     "text": [
      "/Users/frankanayet/anaconda/lib/python2.7/site-packages/ipykernel/__main__.py:3: SettingWithCopyWarning: \n",
      "A value is trying to be set on a copy of a slice from a DataFrame\n",
      "\n",
      "See the caveats in the documentation: http://pandas.pydata.org/pandas-docs/stable/indexing.html#indexing-view-versus-copy\n",
      "  app.launch_new_instance()\n",
      "/Users/frankanayet/anaconda/lib/python2.7/site-packages/ipykernel/__main__.py:4: SettingWithCopyWarning: \n",
      "A value is trying to be set on a copy of a slice from a DataFrame\n",
      "\n",
      "See the caveats in the documentation: http://pandas.pydata.org/pandas-docs/stable/indexing.html#indexing-view-versus-copy\n",
      "/Users/frankanayet/anaconda/lib/python2.7/site-packages/ipykernel/__main__.py:5: SettingWithCopyWarning: \n",
      "A value is trying to be set on a copy of a slice from a DataFrame\n",
      "\n",
      "See the caveats in the documentation: http://pandas.pydata.org/pandas-docs/stable/indexing.html#indexing-view-versus-copy\n"
     ]
    },
    {
     "data": {
      "text/plain": [
       "'Neg'"
      ]
     },
     "execution_count": 27,
     "metadata": {},
     "output_type": "execute_result"
    }
   ],
   "source": [
    "#Make task as string\n",
    "nline_df['Task'] = nline_df['Task'].astype(str)\n",
    "nline_df['Task'][nline_df['Task']=='1'] = 'Pos'\n",
    "nline_df['Task'][nline_df['Task']=='2'] = 'Neg'\n",
    "nline_df['Task'][nline_df['Task']=='3'] = 'Word'\n",
    "nline_df['Task'].iloc[16]"
   ]
  },
  {
   "cell_type": "code",
   "execution_count": 28,
   "metadata": {
    "collapsed": false
   },
   "outputs": [
    {
     "data": {
      "text/plain": [
       "Subject  Run   Trial\n",
       "s_02009  run1  0         Pos\n",
       "               1         Pos\n",
       "               2         Pos\n",
       "               3         Pos\n",
       "               4         Pos\n",
       "               5         Pos\n",
       "               6         Pos\n",
       "               7         Pos\n",
       "               8         Pos\n",
       "               9         Pos\n",
       "               10        Pos\n",
       "               11        Pos\n",
       "               12        Pos\n",
       "               13        Pos\n",
       "               14        Pos\n",
       "               15        Pos\n",
       "               16        Neg\n",
       "               17        Neg\n",
       "               18        Neg\n",
       "               19        Neg\n",
       "               20        Neg\n",
       "               21        Neg\n",
       "               22        Neg\n",
       "               23        Neg\n",
       "               24        Neg\n",
       "               25        Neg\n",
       "               26        Neg\n",
       "               27        Neg\n",
       "               28        Neg\n",
       "               29        Neg\n",
       "                        ... \n",
       "s_02022  run4  18       Word\n",
       "               19       Word\n",
       "               20       Word\n",
       "               21       Word\n",
       "               22       Word\n",
       "               23       Word\n",
       "               24       Word\n",
       "               25       Word\n",
       "               26       Word\n",
       "               27       Word\n",
       "               28       Word\n",
       "               29       Word\n",
       "               30       Word\n",
       "               31       Word\n",
       "               32        Neg\n",
       "               33        Neg\n",
       "               34        Neg\n",
       "               35        Neg\n",
       "               36        Neg\n",
       "               37        Neg\n",
       "               38        Neg\n",
       "               39        Neg\n",
       "               40        Neg\n",
       "               41        Neg\n",
       "               42        Neg\n",
       "               43        Neg\n",
       "               44        Neg\n",
       "               45        Neg\n",
       "               46        Neg\n",
       "               47        Neg\n",
       "Name: Task, dtype: object"
      ]
     },
     "execution_count": 28,
     "metadata": {},
     "output_type": "execute_result"
    }
   ],
   "source": [
    "nline_df['Task']"
   ]
  },
  {
   "cell_type": "code",
   "execution_count": 29,
   "metadata": {
    "collapsed": false
   },
   "outputs": [
    {
     "data": {
      "text/plain": [
       "Subject  Run   Trial\n",
       "s_02009  run1  0        0.07\n",
       "               1        0.23\n",
       "               2        0.03\n",
       "               3        0.21\n",
       "               4        0.10\n",
       "               5        0.22\n",
       "               6        0.15\n",
       "               7        0.24\n",
       "               8        0.17\n",
       "               9        0.07\n",
       "               10       0.10\n",
       "               11       0.14\n",
       "               12       0.11\n",
       "               13       0.05\n",
       "               14       0.02\n",
       "               15       0.15\n",
       "               16       0.15\n",
       "               17       0.07\n",
       "               18       0.10\n",
       "               19       0.10\n",
       "               20       0.21\n",
       "               21       0.03\n",
       "               22       0.07\n",
       "               23       0.23\n",
       "               24       0.22\n",
       "               25       0.11\n",
       "               26       0.05\n",
       "               27       0.24\n",
       "               28       0.15\n",
       "               29       0.14\n",
       "                        ... \n",
       "s_02022  run4  18       0.15\n",
       "               19       0.03\n",
       "               20       0.07\n",
       "               21       0.05\n",
       "               22       0.24\n",
       "               23       0.15\n",
       "               24       0.02\n",
       "               25       0.21\n",
       "               26       0.17\n",
       "               27       0.07\n",
       "               28       0.14\n",
       "               29       0.23\n",
       "               30       0.10\n",
       "               31       0.22\n",
       "               32       0.07\n",
       "               33       0.14\n",
       "               34       0.15\n",
       "               35       0.02\n",
       "               36       0.05\n",
       "               37       0.10\n",
       "               38       0.24\n",
       "               39       0.23\n",
       "               40       0.03\n",
       "               41       0.17\n",
       "               42       0.22\n",
       "               43       0.15\n",
       "               44       0.10\n",
       "               45       0.11\n",
       "               46       0.07\n",
       "               47       0.21\n",
       "Name: LandmarkDist, dtype: float64"
      ]
     },
     "execution_count": 29,
     "metadata": {},
     "output_type": "execute_result"
    }
   ],
   "source": [
    "nline_df['Dist0'] = abs(nline_df['Line_pct'] - 0)\n",
    "nline_df['Dist100'] = abs(nline_df['Line_pct'] - 1)\n",
    "nline_df['Dist50'] = abs(nline_df['Line_pct'] - 0.5)\n",
    "nline_df['LandmarkDist'] = nline_df[['Dist0','Dist100','Dist50']].min(axis=1) \n",
    "nline_df['LandmarkDist']"
   ]
  },
  {
   "cell_type": "markdown",
   "metadata": {},
   "source": [
    "# Create Onset Files"
   ]
  },
  {
   "cell_type": "code",
   "execution_count": 30,
   "metadata": {
    "collapsed": true
   },
   "outputs": [],
   "source": [
    "nline_df['Missed'] = 0"
   ]
  },
  {
   "cell_type": "code",
   "execution_count": 31,
   "metadata": {
    "collapsed": false
   },
   "outputs": [
    {
     "name": "stderr",
     "output_type": "stream",
     "text": [
      "/Users/frankanayet/anaconda/lib/python2.7/site-packages/ipykernel/__main__.py:1: SettingWithCopyWarning: \n",
      "A value is trying to be set on a copy of a slice from a DataFrame\n",
      "\n",
      "See the caveats in the documentation: http://pandas.pydata.org/pandas-docs/stable/indexing.html#indexing-view-versus-copy\n",
      "  if __name__ == '__main__':\n"
     ]
    },
    {
     "data": {
      "text/plain": [
       "Subject  Run   Trial\n",
       "s_02009  run1  22       1\n",
       "s_02003  run1  0        1\n",
       "               15       1\n",
       "               26       1\n",
       "               36       1\n",
       "         run3  20       1\n",
       "               23       1\n",
       "         run4  1        1\n",
       "s_02002  run1  9        1\n",
       "               29       1\n",
       "s_02001  run1  25       1\n",
       "s_02007  run4  24       1\n",
       "s_02006  run1  12       1\n",
       "         run2  35       1\n",
       "s_02005  run1  0        1\n",
       "               7        1\n",
       "               20       1\n",
       "               32       1\n",
       "               34       1\n",
       "               36       1\n",
       "               43       1\n",
       "         run3  13       1\n",
       "               22       1\n",
       "               47       1\n",
       "         run2  15       1\n",
       "               20       1\n",
       "               21       1\n",
       "               29       1\n",
       "         run4  6        1\n",
       "               9        1\n",
       "                       ..\n",
       "s_02020  run1  43       1\n",
       "         run3  46       1\n",
       "         run2  35       1\n",
       "               46       1\n",
       "         run4  12       1\n",
       "               24       1\n",
       "               43       1\n",
       "s_02023  run1  0        1\n",
       "               28       1\n",
       "         run2  3        1\n",
       "               26       1\n",
       "               46       1\n",
       "s_02022  run1  10       1\n",
       "               16       1\n",
       "               21       1\n",
       "               40       1\n",
       "         run3  29       1\n",
       "               47       1\n",
       "         run2  3        1\n",
       "               6        1\n",
       "               15       1\n",
       "               25       1\n",
       "               37       1\n",
       "               40       1\n",
       "         run4  4        1\n",
       "               5        1\n",
       "               9        1\n",
       "               14       1\n",
       "               20       1\n",
       "               27       1\n",
       "Name: Error, dtype: float64"
      ]
     },
     "execution_count": 31,
     "metadata": {},
     "output_type": "execute_result"
    }
   ],
   "source": [
    "nline_df['Missed'][(nline_df.catch < 1) & (nline_df.Error == 1)] = 1\n",
    "nline_df[(nline_df.Missed == 1)]['Error']"
   ]
  },
  {
   "cell_type": "code",
   "execution_count": 32,
   "metadata": {
    "collapsed": false
   },
   "outputs": [
    {
     "name": "stderr",
     "output_type": "stream",
     "text": [
      "/Users/frankanayet/anaconda/lib/python2.7/site-packages/ipykernel/__main__.py:1: SettingWithCopyWarning: \n",
      "A value is trying to be set on a copy of a slice from a DataFrame\n",
      "\n",
      "See the caveats in the documentation: http://pandas.pydata.org/pandas-docs/stable/indexing.html#indexing-view-versus-copy\n",
      "  if __name__ == '__main__':\n"
     ]
    },
    {
     "data": {
      "text/plain": [
       "Subject  Run   Trial\n",
       "s_02009  run1  22       1.000000\n",
       "               24       0.220000\n",
       "s_02003  run1  0        1.000000\n",
       "               15       1.000000\n",
       "               26       1.000000\n",
       "               36       1.000000\n",
       "         run3  20       1.000000\n",
       "               23       1.000000\n",
       "         run4  1        1.000000\n",
       "               47      -0.137533\n",
       "s_02002  run1  9        1.000000\n",
       "               29       1.000000\n",
       "         run2  34      -0.687004\n",
       "               43       0.575374\n",
       "s_02001  run1  25       1.000000\n",
       "         run2  23       0.205330\n",
       "s_02007  run1  18       0.107709\n",
       "         run2  5       -0.210529\n",
       "         run4  9       -0.962379\n",
       "               24       1.000000\n",
       "s_02006  run1  12       1.000000\n",
       "               32      -0.142687\n",
       "         run3  38       0.208590\n",
       "               39       0.402335\n",
       "         run2  35       1.000000\n",
       "s_02005  run1  0        1.000000\n",
       "               7        1.000000\n",
       "               20       1.000000\n",
       "               27      -0.275551\n",
       "               32       1.000000\n",
       "                          ...   \n",
       "s_02020  run4  43       1.000000\n",
       "s_02023  run1  0        1.000000\n",
       "               1       -0.122467\n",
       "               15      -0.130925\n",
       "               28       1.000000\n",
       "         run3  16      -0.123612\n",
       "         run2  3        1.000000\n",
       "               26       1.000000\n",
       "               46       1.000000\n",
       "         run4  0       -0.183789\n",
       "s_02022  run1  10       1.000000\n",
       "               16       1.000000\n",
       "               21       1.000000\n",
       "               40       1.000000\n",
       "         run3  29       1.000000\n",
       "               41       0.132291\n",
       "               47       1.000000\n",
       "         run2  3        1.000000\n",
       "               6        1.000000\n",
       "               15       1.000000\n",
       "               25       1.000000\n",
       "               37       1.000000\n",
       "               40       1.000000\n",
       "         run4  4        1.000000\n",
       "               5        1.000000\n",
       "               9        1.000000\n",
       "               14       1.000000\n",
       "               20       1.000000\n",
       "               27       1.000000\n",
       "               34      -0.105507\n",
       "Name: Error, dtype: float64"
      ]
     },
     "execution_count": 32,
     "metadata": {},
     "output_type": "execute_result"
    }
   ],
   "source": [
    "nline_df['Missed'][(nline_df.catch < 1) & (abs(nline_df.Error) >= 0.1)] = 1\n",
    "nline_df[(nline_df.Missed == 1)]['Error']"
   ]
  },
  {
   "cell_type": "code",
   "execution_count": null,
   "metadata": {
    "collapsed": true
   },
   "outputs": [],
   "source": []
  },
  {
   "cell_type": "code",
   "execution_count": 108,
   "metadata": {
    "collapsed": false
   },
   "outputs": [
    {
     "name": "stdout",
     "output_type": "stream",
     "text": [
      "s_02001\n",
      "s_02002\n",
      "s_02003\n",
      "s_02004\n",
      "s_02005\n",
      "s_02006\n",
      "s_02007\n",
      "s_02009\n",
      "s_02010\n",
      "s_02011\n",
      "s_02012\n",
      "s_02014\n",
      "s_02015\n",
      "s_02016\n",
      "s_02017\n",
      "s_02018\n",
      "s_02019\n",
      "s_02020\n",
      "s_02021\n",
      "s_02022\n",
      "s_02023\n",
      "s_02024\n",
      "s_02027\n"
     ]
    }
   ],
   "source": [
    "import string\n",
    "offset = 18\n",
    "tasks = nline_df.groupby('Task')\n",
    "labels = tasks.indices.keys()\n",
    "phase = ['cons', 'dec']\n",
    "big_dict = {}\n",
    "# Breaks always happen at the same time in the sequence\n",
    "break_onset = [[190, 6, 1],[388, 6, 1]]\n",
    "for s in nline_df.index.levels[0]:\n",
    "    print s\n",
    "    big_dict[s] = {}\n",
    "    #dec_ctch_onset[s] = {}\n",
    "    for r in nline_df.index.levels[1]:\n",
    "        #print r\n",
    "        big_dict[s][r] = {}\n",
    "        ctch = nline_df.loc[s].loc[r]['catch']\n",
    "        \n",
    "        problem_con = nline_df.loc[s].loc[r]['consider_onset_real'] - nline_df.loc[s].loc[r]['consider_onset']\n",
    "        problem_dec = nline_df.loc[s].loc[r]['decision_onset_real'] - nline_df.loc[s].loc[r]['decision_onset']\n",
    "        prob_con_idx = problem_con > 0.5\n",
    "        prob_dec_idx = problem_dec > 0.5\n",
    "        \n",
    "        if len(nline_df.loc[s].loc[r]['hold']) == 0:\n",
    "            hold = 2.5\n",
    "        else:\n",
    "            hold = min(nline_df.loc[s].loc[r]['hold'])\n",
    "        cons_duration = hold + cons_time\n",
    "        \n",
    "        problem_con = nline_df.loc[s].loc[r]['consider_onset_real'] - nline_df.loc[s].loc[r]['consider_onset']\n",
    "        problem_dec = nline_df.loc[s].loc[r]['decision_onset_real'] - nline_df.loc[s].loc[r]['decision_onset']\n",
    "        prob_con_idx = problem_con > 0.5\n",
    "        prob_dec_idx = problem_dec > 0.5\n",
    "        \n",
    "        bad_trials_con = nline_df.loc[s].loc[r]['consider_onset'] - offset\n",
    "        bad_trials_con = bad_trials_con[prob_con_idx==1]\n",
    "        big_dict[s][r]['con_bad_trials'] = pd.DataFrame.from_items([('time',bad_trials_con[bad_trials_con>=0]),('duration',cons_duration),('val',1)])\n",
    "        \n",
    "        bad_trials_dec = nline_df.loc[s].loc[r]['decision_onset'] - offset\n",
    "        bad_trials_dec = bad_trials_dec[prob_dec_idx==1]\n",
    "        big_dict[s][r]['dec_bad_trials'] = pd.DataFrame.from_items([('time',bad_trials_dec[bad_trials_dec>=0]),('duration',dec_time),('val',1)])\n",
    "        \n",
    "        for lab in labels:\n",
    "            big_dict[s][r][lab] = {}\n",
    "            Task = nline_df.loc[s].loc[r]['Task']\n",
    "            dec_ctch_tmp = nline_df.loc[s].loc[r]['decision_onset_real'] - offset\n",
    "            dec_ctch_tmp = dec_ctch_tmp[ctch==1]\n",
    "            dec_ctch_tmp = dec_ctch_tmp[Task==lab]\n",
    "            dec_ctch_tmp = dec_ctch_tmp[prob_dec_idx==0]\n",
    "            big_dict[s][r][lab]['dec_ctch_onset'] = pd.DataFrame.from_items([('time',dec_ctch_tmp[dec_ctch_tmp>=0]),('duration',dec_time),('val',1)])\n",
    "            for ph in phase:\n",
    "                if ph == 'dec':\n",
    "                    big_dict[s][r][lab][ph] = {}\n",
    "                    tmp_int = nline_df.loc[s].loc[r]['decision_onset_real'] - offset\n",
    "                    tmp_int = tmp_int[ctch==0]\n",
    "                    tmp_int = tmp_int[Task==lab]\n",
    "                    tmp_int = tmp_int[prob_dec_idx==0]\n",
    "                    big_dict[s][r][lab][ph] = pd.DataFrame.from_items([('time',tmp_int[tmp_int>=0]),('duration',dec_time),('val',1)])\n",
    "                elif ph == 'cons':\n",
    "                    big_dict[s][r][lab][ph] = {}\n",
    "                    tmp_int = nline_df.loc[s].loc[r]['consider_onset_real'] - offset\n",
    "                    tmp_int = tmp_int[Task==lab]\n",
    "                    tmp_int = tmp_int[prob_con_idx==0]\n",
    "                    tmp_val = nline_df.loc[s].loc[r]['Line_pct']\n",
    "                    tmp_val = tmp_val[Task==lab]\n",
    "                    tmp_val = tmp_val[prob_con_idx==0]\n",
    "                    tmp_task = nline_df.loc[s].loc[r]['Task']\n",
    "                    tmp_task = tmp_task[Task==lab]\n",
    "                    tmp_task = tmp_task[prob_con_idx==0]\n",
    "                    tmp_trial = np.arange(0,len(tmp_val[tmp_int>=0]))\n",
    "                    big_dict[s][r][lab][ph] = pd.DataFrame.from_items([('time',tmp_int[tmp_int>=0]),\n",
    "                                                                       ('duration',cons_duration),\n",
    "                                                                       ('val',tmp_val[tmp_int>=0]),\n",
    "                                                                       ('task',tmp_task[tmp_int>=0]),\n",
    "                                                                      ('Trial2',tmp_trial)])\n",
    "            #big_dict[s][r]['onsets'] = pd.concat([big_dict[s][r]['cons'], big_dict[s][r]['dec']],join='outer',)\n",
    "            #big_dict[s][r]['onsets'] = big_dict[s][r]['onsets'].sort('time')"
   ]
  },
  {
   "cell_type": "code",
   "execution_count": 109,
   "metadata": {
    "collapsed": false
   },
   "outputs": [
    {
     "data": {
      "text/plain": [
       "{'Neg': {'cons':              time  duration   val task  Trial2\n",
       "  Trial                                         \n",
       "  16     198.501419         3  0.85  Neg       0\n",
       "  17     213.002616         3  0.03  Neg       1\n",
       "  18     230.002039         3  0.74  Neg       2\n",
       "  19     240.001062         3  0.36  Neg       3\n",
       "  20     251.000998         3  0.60  Neg       4\n",
       "  21     261.501916         3  0.28  Neg       5\n",
       "  22     272.001497         3  0.21  Neg       6\n",
       "  23     284.000793         3  0.57  Neg       7\n",
       "  24     297.502320         3  0.07  Neg       8\n",
       "  25     308.001660         3  0.90  Neg       9\n",
       "  26     319.001142         3  0.11  Neg      10\n",
       "  27     330.502354         3  0.45  Neg      11\n",
       "  28     340.501170         3  0.33  Neg      12\n",
       "  29     353.501818         3  0.98  Neg      13\n",
       "  30     365.501787         3  0.77  Neg      14\n",
       "  31     378.501946         3  0.65  Neg      15,\n",
       "  'dec':              time  duration  val\n",
       "  Trial                           \n",
       "  16     204.008941         3    1\n",
       "  17     220.009525         3    1\n",
       "  18     234.009701         3    1\n",
       "  19     243.009954         3    1\n",
       "  20     255.010275         3    1\n",
       "  22     278.010833         3    1\n",
       "  23     289.011001         3    1\n",
       "  25     312.511794         3    1\n",
       "  27     333.512469         3    1\n",
       "  28     347.012648         3    1\n",
       "  29     358.012920         3    1\n",
       "  31     383.013543         3    1,\n",
       "  'dec_ctch_onset':              time  duration  val\n",
       "  Trial                           \n",
       "  21     265.010547         3    1\n",
       "  24     301.011588         3    1\n",
       "  26     323.012035         3    1\n",
       "  30     369.013108         3    1},\n",
       " 'Pos': {'cons':              time  duration   val task  Trial2\n",
       "  Trial                                         \n",
       "  32     396.002840         3  0.57  Pos       0\n",
       "  33     411.002383         3  0.11  Pos       1\n",
       "  34     423.501528         3  0.90  Pos       2\n",
       "  35     438.002299         3  0.60  Pos       3\n",
       "  36     449.501177         3  0.03  Pos       4\n",
       "  37     462.002059         3  0.74  Pos       5\n",
       "  38     472.000980         3  0.45  Pos       6\n",
       "  39     483.001240         3  0.77  Pos       7\n",
       "  40     492.001230         3  0.36  Pos       8\n",
       "  41     503.502271         3  0.33  Pos       9\n",
       "  42     515.501925         3  0.85  Pos      10\n",
       "  43     529.001018         3  0.65  Pos      11\n",
       "  44     542.001467         3  0.07  Pos      12\n",
       "  45     553.500971         3  0.21  Pos      13\n",
       "  46     563.501818         3  0.28  Pos      14\n",
       "  47     574.501617         3  0.98  Pos      15,\n",
       "  'dec':              time  duration  val\n",
       "  Trial                           \n",
       "  33     415.014314         3    1\n",
       "  34     428.514835         3    1\n",
       "  35     442.514999         3    1\n",
       "  36     455.015308         3    1\n",
       "  37     466.015721         3    1\n",
       "  38     475.515933         3    1\n",
       "  39     486.016201         3    1\n",
       "  41     508.000148         3    1\n",
       "  42     522.500367         3    1\n",
       "  44     545.500956         3    1\n",
       "  45     557.001247         3    1\n",
       "  46     568.001603         3    1,\n",
       "  'dec_ctch_onset':              time  duration  val\n",
       "  Trial                           \n",
       "  32     402.014107         3    1\n",
       "  40     496.016533         3    1\n",
       "  43     532.000738         3    1\n",
       "  47     581.002047         3    1},\n",
       " 'Word': {'cons':              time  duration   val  task  Trial2\n",
       "  Trial                                          \n",
       "  1        9.500830         3  0.77  Word       0\n",
       "  2       21.001969         3  0.85  Word       1\n",
       "  3       31.501307         3  0.11  Word       2\n",
       "  4       44.501879         3  0.90  Word       3\n",
       "  5       55.501404         3  0.45  Word       4\n",
       "  6       67.501865         3  0.74  Word       5\n",
       "  7       80.500815         3  0.98  Word       6\n",
       "  8       93.002367         3  0.60  Word       7\n",
       "  9      107.001818         3  0.57  Word       8\n",
       "  10     120.501299         3  0.21  Word       9\n",
       "  11     132.001370         3  0.03  Word      10\n",
       "  12     143.002140         3  0.65  Word      11\n",
       "  13     154.002348         3  0.07  Word      12\n",
       "  14     168.502003         3  0.33  Word      13\n",
       "  15     179.001227         3  0.28  Word      14,\n",
       "  'dec':              time  duration  val\n",
       "  Trial                           \n",
       "  0        2.003567         3    1\n",
       "  1       13.503883         3    1\n",
       "  5       61.005166         3    1\n",
       "  7       84.005825         3    1\n",
       "  8       99.506007         3    1\n",
       "  9      114.006563         3    1\n",
       "  10     125.006859         3    1\n",
       "  11     137.007229         3    1\n",
       "  12     146.007470         3    1\n",
       "  13     158.507811         3    1\n",
       "  14     172.008155         3    1\n",
       "  15     185.008476         3    1,\n",
       "  'dec_ctch_onset':             time  duration  val\n",
       "  Trial                          \n",
       "  2      25.004121         3    1\n",
       "  3      35.004511         3    1\n",
       "  4      48.504995         3    1\n",
       "  6      72.005458         3    1},\n",
       " 'con_bad_trials': Empty DataFrame\n",
       " Columns: [time, duration, val]\n",
       " Index: [],\n",
       " 'dec_bad_trials': Empty DataFrame\n",
       " Columns: [time, duration, val]\n",
       " Index: []}"
      ]
     },
     "execution_count": 109,
     "metadata": {},
     "output_type": "execute_result"
    }
   ],
   "source": [
    "big_dict['s_02018']['run1']"
   ]
  },
  {
   "cell_type": "code",
   "execution_count": 110,
   "metadata": {
    "collapsed": false
   },
   "outputs": [
    {
     "data": {
      "text/plain": [
       "array([ 0.03,  0.07,  0.11,  0.21,  0.28,  0.33,  0.36,  0.45,  0.57,\n",
       "        0.6 ,  0.65,  0.74,  0.77,  0.85,  0.9 ,  0.98])"
      ]
     },
     "execution_count": 110,
     "metadata": {},
     "output_type": "execute_result"
    }
   ],
   "source": [
    "values = nline_df.Line_pct.unique()\n",
    "values.sort()\n",
    "values"
   ]
  },
  {
   "cell_type": "code",
   "execution_count": 111,
   "metadata": {
    "collapsed": false
   },
   "outputs": [
    {
     "data": {
      "text/plain": [
       "array(['Pos', 'Neg', 'Word'], dtype=object)"
      ]
     },
     "execution_count": 111,
     "metadata": {},
     "output_type": "execute_result"
    }
   ],
   "source": [
    "tasks = nline_df.Task.unique()\n",
    "tasks"
   ]
  },
  {
   "cell_type": "code",
   "execution_count": 132,
   "metadata": {
    "collapsed": false
   },
   "outputs": [
    {
     "data": {
      "text/html": [
       "<div>\n",
       "<table border=\"1\" class=\"dataframe\">\n",
       "  <thead>\n",
       "    <tr style=\"text-align: right;\">\n",
       "      <th></th>\n",
       "      <th>time</th>\n",
       "      <th>duration</th>\n",
       "      <th>val</th>\n",
       "      <th>task</th>\n",
       "      <th>Trial2</th>\n",
       "    </tr>\n",
       "    <tr>\n",
       "      <th>Trial</th>\n",
       "      <th></th>\n",
       "      <th></th>\n",
       "      <th></th>\n",
       "      <th></th>\n",
       "      <th></th>\n",
       "    </tr>\n",
       "  </thead>\n",
       "  <tbody>\n",
       "    <tr>\n",
       "      <th>1</th>\n",
       "      <td>12.008278</td>\n",
       "      <td>3</td>\n",
       "      <td>0.60</td>\n",
       "      <td>Word</td>\n",
       "      <td>0</td>\n",
       "    </tr>\n",
       "    <tr>\n",
       "      <th>2</th>\n",
       "      <td>26.015552</td>\n",
       "      <td>3</td>\n",
       "      <td>0.74</td>\n",
       "      <td>Word</td>\n",
       "      <td>1</td>\n",
       "    </tr>\n",
       "    <tr>\n",
       "      <th>3</th>\n",
       "      <td>37.516038</td>\n",
       "      <td>3</td>\n",
       "      <td>0.65</td>\n",
       "      <td>Word</td>\n",
       "      <td>2</td>\n",
       "    </tr>\n",
       "    <tr>\n",
       "      <th>4</th>\n",
       "      <td>48.507160</td>\n",
       "      <td>3</td>\n",
       "      <td>0.07</td>\n",
       "      <td>Word</td>\n",
       "      <td>3</td>\n",
       "    </tr>\n",
       "    <tr>\n",
       "      <th>5</th>\n",
       "      <td>61.518375</td>\n",
       "      <td>3</td>\n",
       "      <td>0.11</td>\n",
       "      <td>Word</td>\n",
       "      <td>4</td>\n",
       "    </tr>\n",
       "    <tr>\n",
       "      <th>6</th>\n",
       "      <td>70.516118</td>\n",
       "      <td>3</td>\n",
       "      <td>0.21</td>\n",
       "      <td>Word</td>\n",
       "      <td>5</td>\n",
       "    </tr>\n",
       "    <tr>\n",
       "      <th>7</th>\n",
       "      <td>83.003806</td>\n",
       "      <td>3</td>\n",
       "      <td>0.77</td>\n",
       "      <td>Word</td>\n",
       "      <td>6</td>\n",
       "    </tr>\n",
       "    <tr>\n",
       "      <th>8</th>\n",
       "      <td>95.007010</td>\n",
       "      <td>3</td>\n",
       "      <td>0.28</td>\n",
       "      <td>Word</td>\n",
       "      <td>7</td>\n",
       "    </tr>\n",
       "    <tr>\n",
       "      <th>9</th>\n",
       "      <td>105.004748</td>\n",
       "      <td>3</td>\n",
       "      <td>0.03</td>\n",
       "      <td>Word</td>\n",
       "      <td>8</td>\n",
       "    </tr>\n",
       "    <tr>\n",
       "      <th>10</th>\n",
       "      <td>117.518003</td>\n",
       "      <td>3</td>\n",
       "      <td>0.98</td>\n",
       "      <td>Word</td>\n",
       "      <td>9</td>\n",
       "    </tr>\n",
       "    <tr>\n",
       "      <th>11</th>\n",
       "      <td>131.513808</td>\n",
       "      <td>3</td>\n",
       "      <td>0.85</td>\n",
       "      <td>Word</td>\n",
       "      <td>10</td>\n",
       "    </tr>\n",
       "    <tr>\n",
       "      <th>12</th>\n",
       "      <td>142.509651</td>\n",
       "      <td>3</td>\n",
       "      <td>0.33</td>\n",
       "      <td>Word</td>\n",
       "      <td>11</td>\n",
       "    </tr>\n",
       "    <tr>\n",
       "      <th>13</th>\n",
       "      <td>152.504152</td>\n",
       "      <td>3</td>\n",
       "      <td>0.57</td>\n",
       "      <td>Word</td>\n",
       "      <td>12</td>\n",
       "    </tr>\n",
       "    <tr>\n",
       "      <th>14</th>\n",
       "      <td>165.009272</td>\n",
       "      <td>3</td>\n",
       "      <td>0.36</td>\n",
       "      <td>Word</td>\n",
       "      <td>13</td>\n",
       "    </tr>\n",
       "    <tr>\n",
       "      <th>15</th>\n",
       "      <td>178.010726</td>\n",
       "      <td>3</td>\n",
       "      <td>0.45</td>\n",
       "      <td>Word</td>\n",
       "      <td>14</td>\n",
       "    </tr>\n",
       "  </tbody>\n",
       "</table>\n",
       "</div>"
      ],
      "text/plain": [
       "             time  duration   val  task  Trial2\n",
       "Trial                                          \n",
       "1       12.008278         3  0.60  Word       0\n",
       "2       26.015552         3  0.74  Word       1\n",
       "3       37.516038         3  0.65  Word       2\n",
       "4       48.507160         3  0.07  Word       3\n",
       "5       61.518375         3  0.11  Word       4\n",
       "6       70.516118         3  0.21  Word       5\n",
       "7       83.003806         3  0.77  Word       6\n",
       "8       95.007010         3  0.28  Word       7\n",
       "9      105.004748         3  0.03  Word       8\n",
       "10     117.518003         3  0.98  Word       9\n",
       "11     131.513808         3  0.85  Word      10\n",
       "12     142.509651         3  0.33  Word      11\n",
       "13     152.504152         3  0.57  Word      12\n",
       "14     165.009272         3  0.36  Word      13\n",
       "15     178.010726         3  0.45  Word      14"
      ]
     },
     "execution_count": 132,
     "metadata": {},
     "output_type": "execute_result"
    }
   ],
   "source": [
    "big_dict['s_02003']['run4']['Word']['cons']"
   ]
  },
  {
   "cell_type": "code",
   "execution_count": 113,
   "metadata": {
    "collapsed": false
   },
   "outputs": [
    {
     "data": {
      "text/html": [
       "<div>\n",
       "<table border=\"1\" class=\"dataframe\">\n",
       "  <thead>\n",
       "    <tr style=\"text-align: right;\">\n",
       "      <th></th>\n",
       "      <th>time</th>\n",
       "      <th>duration</th>\n",
       "      <th>val</th>\n",
       "      <th>task</th>\n",
       "      <th>Trial2</th>\n",
       "    </tr>\n",
       "    <tr>\n",
       "      <th>Trial</th>\n",
       "      <th></th>\n",
       "      <th></th>\n",
       "      <th></th>\n",
       "      <th></th>\n",
       "      <th></th>\n",
       "    </tr>\n",
       "  </thead>\n",
       "  <tbody>\n",
       "    <tr>\n",
       "      <th>11</th>\n",
       "      <td>132.00137</td>\n",
       "      <td>3</td>\n",
       "      <td>0.03</td>\n",
       "      <td>Word</td>\n",
       "      <td>10</td>\n",
       "    </tr>\n",
       "  </tbody>\n",
       "</table>\n",
       "</div>"
      ],
      "text/plain": [
       "            time  duration   val  task  Trial2\n",
       "Trial                                         \n",
       "11     132.00137         3  0.03  Word      10"
      ]
     },
     "execution_count": 113,
     "metadata": {},
     "output_type": "execute_result"
    }
   ],
   "source": [
    "x = big_dict['s_02018']['run1']['Word']['cons'][big_dict['s_02018']['run1']['Word']['cons']['val']==0.03]\n",
    "x"
   ]
  },
  {
   "cell_type": "code",
   "execution_count": 114,
   "metadata": {
    "collapsed": false
   },
   "outputs": [
    {
     "data": {
      "text/plain": [
       "['s_02009',\n",
       " 's_02003',\n",
       " 's_02002',\n",
       " 's_02001',\n",
       " 's_02007',\n",
       " 's_02006',\n",
       " 's_02005',\n",
       " 's_02004',\n",
       " 's_02018',\n",
       " 's_02019',\n",
       " 's_02010',\n",
       " 's_02011',\n",
       " 's_02012',\n",
       " 's_02014',\n",
       " 's_02015',\n",
       " 's_02016',\n",
       " 's_02017',\n",
       " 's_02024',\n",
       " 's_02027',\n",
       " 's_02021',\n",
       " 's_02020',\n",
       " 's_02023',\n",
       " 's_02022']"
      ]
     },
     "execution_count": 114,
     "metadata": {},
     "output_type": "execute_result"
    }
   ],
   "source": [
    "big_dict.keys()"
   ]
  },
  {
   "cell_type": "code",
   "execution_count": 115,
   "metadata": {
    "collapsed": false
   },
   "outputs": [
    {
     "data": {
      "text/plain": [
       "['s_02003',\n",
       " 's_02007',\n",
       " 's_02006',\n",
       " 's_02005',\n",
       " 's_02004',\n",
       " 's_02018',\n",
       " 's_02019',\n",
       " 's_02010',\n",
       " 's_02011',\n",
       " 's_02012',\n",
       " 's_02014',\n",
       " 's_02015',\n",
       " 's_02016',\n",
       " 's_02017',\n",
       " 's_02024',\n",
       " 's_02027',\n",
       " 's_02021',\n",
       " 's_02023',\n",
       " 's_02022']"
      ]
     },
     "execution_count": 115,
     "metadata": {},
     "output_type": "execute_result"
    }
   ],
   "source": [
    "del big_dict['s_02001']\n",
    "del big_dict['s_02002']\n",
    "del big_dict['s_02020']\n",
    "del big_dict['s_02009']\n",
    "big_dict.keys()"
   ]
  },
  {
   "cell_type": "code",
   "execution_count": 116,
   "metadata": {
    "collapsed": false
   },
   "outputs": [
    {
     "data": {
      "text/plain": [
       "19"
      ]
     },
     "execution_count": 116,
     "metadata": {},
     "output_type": "execute_result"
    }
   ],
   "source": [
    "len(big_dict.keys())"
   ]
  },
  {
   "cell_type": "code",
   "execution_count": 163,
   "metadata": {
    "collapsed": false
   },
   "outputs": [
    {
     "name": "stdout",
     "output_type": "stream",
     "text": [
      "s_02003\n",
      "0.03\n",
      "run1\n"
     ]
    },
    {
     "name": "stderr",
     "output_type": "stream",
     "text": [
      "/Users/frankanayet/anaconda/lib/python2.7/site-packages/pandas/core/ops.py:680: FutureWarning: elementwise comparison failed; returning scalar instead, but in the future will perform elementwise comparison\n",
      "  result = getattr(x, name)(y)\n"
     ]
    },
    {
     "ename": "TypeError",
     "evalue": "invalid type comparison",
     "output_type": "error",
     "traceback": [
      "\u001b[0;31m---------------------------------------------------------------------------\u001b[0m",
      "\u001b[0;31mTypeError\u001b[0m                                 Traceback (most recent call last)",
      "\u001b[0;32m<ipython-input-163-255a4c18dd0d>\u001b[0m in \u001b[0;36m<module>\u001b[0;34m()\u001b[0m\n\u001b[1;32m     13\u001b[0m                 \u001b[0mtmp\u001b[0m \u001b[0;34m=\u001b[0m \u001b[0mbig_dict\u001b[0m\u001b[0;34m[\u001b[0m\u001b[0ms\u001b[0m\u001b[0;34m]\u001b[0m\u001b[0;34m[\u001b[0m\u001b[0mr\u001b[0m\u001b[0;34m]\u001b[0m\u001b[0;34m[\u001b[0m\u001b[0mtask\u001b[0m\u001b[0;34m]\u001b[0m\u001b[0;34m[\u001b[0m\u001b[0;34m'cons'\u001b[0m\u001b[0;34m]\u001b[0m\u001b[0;34m\u001b[0m\u001b[0m\n\u001b[1;32m     14\u001b[0m                 \u001b[0;31m#print tmp\u001b[0m\u001b[0;34m\u001b[0m\u001b[0;34m\u001b[0m\u001b[0m\n\u001b[0;32m---> 15\u001b[0;31m                 \u001b[0mtmp_trial\u001b[0m \u001b[0;34m=\u001b[0m \u001b[0mtmp\u001b[0m\u001b[0;34m[\u001b[0m\u001b[0mtmp\u001b[0m\u001b[0;34m[\u001b[0m\u001b[0;34m'val'\u001b[0m\u001b[0;34m]\u001b[0m\u001b[0;34m==\u001b[0m\u001b[0mvalue\u001b[0m\u001b[0;34m]\u001b[0m\u001b[0;34m[\u001b[0m\u001b[0;34m'Trial2'\u001b[0m\u001b[0;34m]\u001b[0m\u001b[0;34m.\u001b[0m\u001b[0mvalues\u001b[0m\u001b[0;34m\u001b[0m\u001b[0m\n\u001b[0m\u001b[1;32m     16\u001b[0m                 \u001b[0;32mprint\u001b[0m \u001b[0mtmp_trial\u001b[0m\u001b[0;34m\u001b[0m\u001b[0m\n\u001b[1;32m     17\u001b[0m                 \u001b[0;31m#Do test to see if it is empty. If empty pass if not empty append\u001b[0m\u001b[0;34m\u001b[0m\u001b[0;34m\u001b[0m\u001b[0m\n",
      "\u001b[0;32m/Users/frankanayet/anaconda/lib/python2.7/site-packages/pandas/core/ops.pyc\u001b[0m in \u001b[0;36mwrapper\u001b[0;34m(self, other, axis)\u001b[0m\n\u001b[1;32m    724\u001b[0m                 \u001b[0mother\u001b[0m \u001b[0;34m=\u001b[0m \u001b[0mnp\u001b[0m\u001b[0;34m.\u001b[0m\u001b[0masarray\u001b[0m\u001b[0;34m(\u001b[0m\u001b[0mother\u001b[0m\u001b[0;34m)\u001b[0m\u001b[0;34m\u001b[0m\u001b[0m\n\u001b[1;32m    725\u001b[0m \u001b[0;34m\u001b[0m\u001b[0m\n\u001b[0;32m--> 726\u001b[0;31m             \u001b[0mres\u001b[0m \u001b[0;34m=\u001b[0m \u001b[0mna_op\u001b[0m\u001b[0;34m(\u001b[0m\u001b[0mvalues\u001b[0m\u001b[0;34m,\u001b[0m \u001b[0mother\u001b[0m\u001b[0;34m)\u001b[0m\u001b[0;34m\u001b[0m\u001b[0m\n\u001b[0m\u001b[1;32m    727\u001b[0m             \u001b[0;32mif\u001b[0m \u001b[0misscalar\u001b[0m\u001b[0;34m(\u001b[0m\u001b[0mres\u001b[0m\u001b[0;34m)\u001b[0m\u001b[0;34m:\u001b[0m\u001b[0;34m\u001b[0m\u001b[0m\n\u001b[1;32m    728\u001b[0m                 raise TypeError('Could not compare %s type with Series'\n",
      "\u001b[0;32m/Users/frankanayet/anaconda/lib/python2.7/site-packages/pandas/core/ops.pyc\u001b[0m in \u001b[0;36mna_op\u001b[0;34m(x, y)\u001b[0m\n\u001b[1;32m    680\u001b[0m                 \u001b[0mresult\u001b[0m \u001b[0;34m=\u001b[0m \u001b[0mgetattr\u001b[0m\u001b[0;34m(\u001b[0m\u001b[0mx\u001b[0m\u001b[0;34m,\u001b[0m \u001b[0mname\u001b[0m\u001b[0;34m)\u001b[0m\u001b[0;34m(\u001b[0m\u001b[0my\u001b[0m\u001b[0;34m)\u001b[0m\u001b[0;34m\u001b[0m\u001b[0m\n\u001b[1;32m    681\u001b[0m                 \u001b[0;32mif\u001b[0m \u001b[0mresult\u001b[0m \u001b[0;32mis\u001b[0m \u001b[0mNotImplemented\u001b[0m\u001b[0;34m:\u001b[0m\u001b[0;34m\u001b[0m\u001b[0m\n\u001b[0;32m--> 682\u001b[0;31m                     \u001b[0;32mraise\u001b[0m \u001b[0mTypeError\u001b[0m\u001b[0;34m(\u001b[0m\u001b[0;34m\"invalid type comparison\"\u001b[0m\u001b[0;34m)\u001b[0m\u001b[0;34m\u001b[0m\u001b[0m\n\u001b[0m\u001b[1;32m    683\u001b[0m             \u001b[0;32mexcept\u001b[0m \u001b[0mAttributeError\u001b[0m\u001b[0;34m:\u001b[0m\u001b[0;34m\u001b[0m\u001b[0m\n\u001b[1;32m    684\u001b[0m                 \u001b[0mresult\u001b[0m \u001b[0;34m=\u001b[0m \u001b[0mop\u001b[0m\u001b[0;34m(\u001b[0m\u001b[0mx\u001b[0m\u001b[0;34m,\u001b[0m \u001b[0my\u001b[0m\u001b[0;34m)\u001b[0m\u001b[0;34m\u001b[0m\u001b[0m\n",
      "\u001b[0;31mTypeError\u001b[0m: invalid type comparison"
     ]
    }
   ],
   "source": [
    "big_index_dict = {}\n",
    "for s in big_dict.keys():\n",
    "    print s\n",
    "    big_index_dict[s] = {}\n",
    "    #dec_ctch_onset[s] = {}\n",
    "    for task in tasks:\n",
    "        big_index_dict[s][task] = {}\n",
    "        for value in values:\n",
    "            print value\n",
    "            big_index_dict[s][task][str(value)] = []\n",
    "            for r in big_dict[s].keys():\n",
    "                print r\n",
    "                tmp = big_dict[s][r][task]['cons']\n",
    "                #print tmp\n",
    "                tmp_trial = tmp[tmp['val']==value]['Trial2'].values\n",
    "                print tmp_trial\n",
    "                #Do test to see if it is empty. If empty pass if not empty append\n",
    "                if not tmp_trial: \n",
    "                    big_index_dict[s][task][str(value)].append(np.nan)\n",
    "                else:\n",
    "                    big_index_dict[s][task][str(value)].append(tmp_trial[0])"
   ]
  },
  {
   "cell_type": "code",
   "execution_count": null,
   "metadata": {
    "collapsed": true
   },
   "outputs": [],
   "source": []
  },
  {
   "cell_type": "code",
   "execution_count": 140,
   "metadata": {
    "collapsed": false
   },
   "outputs": [
    {
     "data": {
      "text/plain": [
       "{'Neg': {'0.03': [1, 7, 2, 15],\n",
       "  '0.07': [8, 2, 4, 8],\n",
       "  '0.11': [10, 12, 3, 6],\n",
       "  '0.21': [6, 15, 8, 5],\n",
       "  '0.28': [5, 8, 1, 14],\n",
       "  '0.33': [12, 3, 12, 1],\n",
       "  '0.36': [3, 14, 5, 10],\n",
       "  '0.45': [11, 9, 9],\n",
       "  '0.57': [7, 5, 7],\n",
       "  '0.6': [4, 13, 15, 2],\n",
       "  '0.65': [15, 1, 13, 4],\n",
       "  '0.74': [2, 4, 11],\n",
       "  '0.77': [14, 11, 7, 12],\n",
       "  '0.85': [10, 14, 11],\n",
       "  '0.9': [9, 6, 6, 13],\n",
       "  '0.98': [13, 9, 10, 3]},\n",
       " 'Pos': {'0.03': [4, 14, 4, 10],\n",
       "  '0.07': [12, 3, 2, 1],\n",
       "  '0.11': [1, 15, 8, 4],\n",
       "  '0.21': [13, 10, 15, 11],\n",
       "  '0.28': [14, 11, 1, 9],\n",
       "  '0.33': [9, 13, 3, 7],\n",
       "  '0.36': [8, 8, 9, 8],\n",
       "  '0.45': [6, 6, 11, 2],\n",
       "  '0.57': [2],\n",
       "  '0.6': [3, 12, 10, 12],\n",
       "  '0.65': [11, 4, 6, 3],\n",
       "  '0.74': [5, 9, 5],\n",
       "  '0.77': [7, 7, 7, 5],\n",
       "  '0.85': [10, 1, 13, 6],\n",
       "  '0.9': [2, 5, 12, 13],\n",
       "  '0.98': [15, 14, 14]},\n",
       " 'Word': {'0.03': [10, 15, 10, 13],\n",
       "  '0.07': [12, 11, 14, 15],\n",
       "  '0.11': [2, 5, 11, 14],\n",
       "  '0.21': [9, 4, 8],\n",
       "  '0.28': [14, 1, 9, 11],\n",
       "  '0.33': [13, 6, 6, 1],\n",
       "  '0.36': [13, 3, 7],\n",
       "  '0.45': [4, 14, 15, 12],\n",
       "  '0.57': [8, 3, 12, 8],\n",
       "  '0.6': [7, 1, 3],\n",
       "  '0.65': [11, 12, 2, 9],\n",
       "  '0.74': [5, 2, 13, 2],\n",
       "  '0.77': [10, 4, 6],\n",
       "  '0.85': [1, 7, 4],\n",
       "  '0.9': [3, 9, 5, 5],\n",
       "  '0.98': [6, 8, 7, 10]}}"
      ]
     },
     "execution_count": 140,
     "metadata": {},
     "output_type": "execute_result"
    }
   ],
   "source": [
    "big_index_dict['s_02018']"
   ]
  },
  {
   "cell_type": "code",
   "execution_count": 131,
   "metadata": {
    "collapsed": false
   },
   "outputs": [
    {
     "data": {
      "text/plain": [
       "array([ 0.03,  0.07,  0.11,  0.21,  0.28,  0.33,  0.36,  0.45,  0.57,\n",
       "        0.6 ,  0.65,  0.74,  0.77,  0.85,  0.9 ,  0.98])"
      ]
     },
     "execution_count": 131,
     "metadata": {},
     "output_type": "execute_result"
    }
   ],
   "source": [
    "values"
   ]
  },
  {
   "cell_type": "code",
   "execution_count": 141,
   "metadata": {
    "collapsed": false
   },
   "outputs": [],
   "source": [
    "from nilearn import image\n",
    "import nibabel"
   ]
  },
  {
   "cell_type": "code",
   "execution_count": 142,
   "metadata": {
    "collapsed": true
   },
   "outputs": [],
   "source": [
    "neuro_filepath = '/fMRI/NLine/'\n",
    "os.chdir(neuro_filepath)"
   ]
  },
  {
   "cell_type": "code",
   "execution_count": 143,
   "metadata": {
    "collapsed": false
   },
   "outputs": [
    {
     "data": {
      "text/plain": [
       "u'/fMRI/NLine'"
      ]
     },
     "execution_count": 143,
     "metadata": {},
     "output_type": "execute_result"
    }
   ],
   "source": [
    "pwd"
   ]
  },
  {
   "cell_type": "code",
   "execution_count": 144,
   "metadata": {
    "collapsed": false
   },
   "outputs": [
    {
     "data": {
      "text/plain": [
       "['s_02003/run1_AllOnsetsTimeCorr.feat/betaseries/ev1_LSS_.nii.gz',\n",
       " 's_02003/run1_AllOnsetsTimeCorr.feat/betaseries/ev2_LSS_.nii.gz',\n",
       " 's_02003/run1_AllOnsetsTimeCorr.feat/betaseries/ev3_LSS_.nii.gz',\n",
       " 's_02003/run2_AllOnsetsTimeCorr.feat/betaseries/ev1_LSS_.nii.gz',\n",
       " 's_02003/run2_AllOnsetsTimeCorr.feat/betaseries/ev2_LSS_.nii.gz',\n",
       " 's_02003/run2_AllOnsetsTimeCorr.feat/betaseries/ev3_LSS_.nii.gz',\n",
       " 's_02003/run3_AllOnsetsTimeCorr.feat/betaseries/ev1_LSS_.nii.gz',\n",
       " 's_02003/run3_AllOnsetsTimeCorr.feat/betaseries/ev2_LSS_.nii.gz',\n",
       " 's_02003/run3_AllOnsetsTimeCorr.feat/betaseries/ev3_LSS_.nii.gz',\n",
       " 's_02003/run4_AllOnsetsTimeCorr.feat/betaseries/ev1_LSS_.nii.gz',\n",
       " 's_02003/run4_AllOnsetsTimeCorr.feat/betaseries/ev2_LSS_.nii.gz',\n",
       " 's_02003/run4_AllOnsetsTimeCorr.feat/betaseries/ev3_LSS_.nii.gz',\n",
       " 's_02004/run1_AllOnsetsTimeCorr.feat/betaseries/ev1_LSS_.nii.gz',\n",
       " 's_02004/run1_AllOnsetsTimeCorr.feat/betaseries/ev2_LSS_.nii.gz',\n",
       " 's_02004/run1_AllOnsetsTimeCorr.feat/betaseries/ev3_LSS_.nii.gz',\n",
       " 's_02004/run2_AllOnsetsTimeCorr.feat/betaseries/ev1_LSS_.nii.gz',\n",
       " 's_02004/run2_AllOnsetsTimeCorr.feat/betaseries/ev2_LSS_.nii.gz',\n",
       " 's_02004/run2_AllOnsetsTimeCorr.feat/betaseries/ev3_LSS_.nii.gz',\n",
       " 's_02004/run3_AllOnsetsTimeCorr.feat/betaseries/ev1_LSS_.nii.gz',\n",
       " 's_02004/run3_AllOnsetsTimeCorr.feat/betaseries/ev2_LSS_.nii.gz',\n",
       " 's_02004/run3_AllOnsetsTimeCorr.feat/betaseries/ev3_LSS_.nii.gz',\n",
       " 's_02004/run4_AllOnsetsTimeCorr.feat/betaseries/ev1_LSS_.nii.gz',\n",
       " 's_02004/run4_AllOnsetsTimeCorr.feat/betaseries/ev2_LSS_.nii.gz',\n",
       " 's_02004/run4_AllOnsetsTimeCorr.feat/betaseries/ev3_LSS_.nii.gz',\n",
       " 's_02005/run1_AllOnsetsTimeCorr.feat/betaseries/ev1_LSS_.nii.gz',\n",
       " 's_02005/run1_AllOnsetsTimeCorr.feat/betaseries/ev2_LSS_.nii.gz',\n",
       " 's_02005/run1_AllOnsetsTimeCorr.feat/betaseries/ev3_LSS_.nii.gz',\n",
       " 's_02005/run2_AllOnsetsTimeCorr.feat/betaseries/ev1_LSS_.nii.gz',\n",
       " 's_02005/run2_AllOnsetsTimeCorr.feat/betaseries/ev2_LSS_.nii.gz',\n",
       " 's_02005/run2_AllOnsetsTimeCorr.feat/betaseries/ev3_LSS_.nii.gz',\n",
       " 's_02005/run3_AllOnsetsTimeCorr.feat/betaseries/ev1_LSS_.nii.gz',\n",
       " 's_02005/run3_AllOnsetsTimeCorr.feat/betaseries/ev2_LSS_.nii.gz',\n",
       " 's_02005/run3_AllOnsetsTimeCorr.feat/betaseries/ev3_LSS_.nii.gz',\n",
       " 's_02005/run4_AllOnsetsTimeCorr.feat/betaseries/ev1_LSS_.nii.gz',\n",
       " 's_02005/run4_AllOnsetsTimeCorr.feat/betaseries/ev2_LSS_.nii.gz',\n",
       " 's_02005/run4_AllOnsetsTimeCorr.feat/betaseries/ev3_LSS_.nii.gz',\n",
       " 's_02006/run1_AllOnsetsTimeCorr.feat/betaseries/ev1_LSS_.nii.gz',\n",
       " 's_02006/run1_AllOnsetsTimeCorr.feat/betaseries/ev2_LSS_.nii.gz',\n",
       " 's_02006/run1_AllOnsetsTimeCorr.feat/betaseries/ev3_LSS_.nii.gz',\n",
       " 's_02006/run2_AllOnsetsTimeCorr.feat/betaseries/ev1_LSS_.nii.gz',\n",
       " 's_02006/run2_AllOnsetsTimeCorr.feat/betaseries/ev2_LSS_.nii.gz',\n",
       " 's_02006/run2_AllOnsetsTimeCorr.feat/betaseries/ev3_LSS_.nii.gz',\n",
       " 's_02006/run3_AllOnsetsTimeCorr.feat/betaseries/ev1_LSS_.nii.gz',\n",
       " 's_02006/run3_AllOnsetsTimeCorr.feat/betaseries/ev2_LSS_.nii.gz',\n",
       " 's_02006/run3_AllOnsetsTimeCorr.feat/betaseries/ev3_LSS_.nii.gz',\n",
       " 's_02006/run4_AllOnsetsTimeCorr.feat/betaseries/ev1_LSS_.nii.gz',\n",
       " 's_02006/run4_AllOnsetsTimeCorr.feat/betaseries/ev2_LSS_.nii.gz',\n",
       " 's_02006/run4_AllOnsetsTimeCorr.feat/betaseries/ev3_LSS_.nii.gz',\n",
       " 's_02007/run1_AllOnsetsTimeCorr.feat/betaseries/ev1_LSS_.nii.gz',\n",
       " 's_02007/run1_AllOnsetsTimeCorr.feat/betaseries/ev2_LSS_.nii.gz',\n",
       " 's_02007/run1_AllOnsetsTimeCorr.feat/betaseries/ev3_LSS_.nii.gz',\n",
       " 's_02007/run2_AllOnsetsTimeCorr.feat/betaseries/ev1_LSS_.nii.gz',\n",
       " 's_02007/run2_AllOnsetsTimeCorr.feat/betaseries/ev2_LSS_.nii.gz',\n",
       " 's_02007/run2_AllOnsetsTimeCorr.feat/betaseries/ev3_LSS_.nii.gz',\n",
       " 's_02007/run3_AllOnsetsTimeCorr.feat/betaseries/ev1_LSS_.nii.gz',\n",
       " 's_02007/run3_AllOnsetsTimeCorr.feat/betaseries/ev2_LSS_.nii.gz',\n",
       " 's_02007/run3_AllOnsetsTimeCorr.feat/betaseries/ev3_LSS_.nii.gz',\n",
       " 's_02007/run4_AllOnsetsTimeCorr.feat/betaseries/ev1_LSS_.nii.gz',\n",
       " 's_02007/run4_AllOnsetsTimeCorr.feat/betaseries/ev2_LSS_.nii.gz',\n",
       " 's_02007/run4_AllOnsetsTimeCorr.feat/betaseries/ev3_LSS_.nii.gz',\n",
       " 's_02010/run1_AllOnsetsTimeCorr.feat/betaseries/ev1_LSS_.nii.gz',\n",
       " 's_02010/run1_AllOnsetsTimeCorr.feat/betaseries/ev2_LSS_.nii.gz',\n",
       " 's_02010/run1_AllOnsetsTimeCorr.feat/betaseries/ev3_LSS_.nii.gz',\n",
       " 's_02010/run2_AllOnsetsTimeCorr.feat/betaseries/ev1_LSS_.nii.gz',\n",
       " 's_02010/run2_AllOnsetsTimeCorr.feat/betaseries/ev2_LSS_.nii.gz',\n",
       " 's_02010/run2_AllOnsetsTimeCorr.feat/betaseries/ev3_LSS_.nii.gz',\n",
       " 's_02010/run3_AllOnsetsTimeCorr.feat/betaseries/ev1_LSS_.nii.gz',\n",
       " 's_02010/run3_AllOnsetsTimeCorr.feat/betaseries/ev2_LSS_.nii.gz',\n",
       " 's_02010/run3_AllOnsetsTimeCorr.feat/betaseries/ev3_LSS_.nii.gz',\n",
       " 's_02010/run4_AllOnsetsTimeCorr.feat/betaseries/ev1_LSS_.nii.gz',\n",
       " 's_02010/run4_AllOnsetsTimeCorr.feat/betaseries/ev2_LSS_.nii.gz',\n",
       " 's_02010/run4_AllOnsetsTimeCorr.feat/betaseries/ev3_LSS_.nii.gz',\n",
       " 's_02011/run1_AllOnsetsTimeCorr.feat/betaseries/ev1_LSS_.nii.gz',\n",
       " 's_02011/run1_AllOnsetsTimeCorr.feat/betaseries/ev2_LSS_.nii.gz',\n",
       " 's_02011/run1_AllOnsetsTimeCorr.feat/betaseries/ev3_LSS_.nii.gz',\n",
       " 's_02011/run2_AllOnsetsTimeCorr.feat/betaseries/ev1_LSS_.nii.gz',\n",
       " 's_02011/run2_AllOnsetsTimeCorr.feat/betaseries/ev2_LSS_.nii.gz',\n",
       " 's_02011/run2_AllOnsetsTimeCorr.feat/betaseries/ev3_LSS_.nii.gz',\n",
       " 's_02011/run3_AllOnsetsTimeCorr.feat/betaseries/ev1_LSS_.nii.gz',\n",
       " 's_02011/run3_AllOnsetsTimeCorr.feat/betaseries/ev2_LSS_.nii.gz',\n",
       " 's_02011/run3_AllOnsetsTimeCorr.feat/betaseries/ev3_LSS_.nii.gz',\n",
       " 's_02011/run4_AllOnsetsTimeCorr.feat/betaseries/ev1_LSS_.nii.gz',\n",
       " 's_02011/run4_AllOnsetsTimeCorr.feat/betaseries/ev2_LSS_.nii.gz',\n",
       " 's_02011/run4_AllOnsetsTimeCorr.feat/betaseries/ev3_LSS_.nii.gz',\n",
       " 's_02012/run1_AllOnsetsTimeCorr.feat/betaseries/ev1_LSS_.nii.gz',\n",
       " 's_02012/run1_AllOnsetsTimeCorr.feat/betaseries/ev2_LSS_.nii.gz',\n",
       " 's_02012/run1_AllOnsetsTimeCorr.feat/betaseries/ev3_LSS_.nii.gz',\n",
       " 's_02012/run2_AllOnsetsTimeCorr.feat/betaseries/ev1_LSS_.nii.gz',\n",
       " 's_02012/run2_AllOnsetsTimeCorr.feat/betaseries/ev2_LSS_.nii.gz',\n",
       " 's_02012/run2_AllOnsetsTimeCorr.feat/betaseries/ev3_LSS_.nii.gz',\n",
       " 's_02012/run3_AllOnsetsTimeCorr.feat/betaseries/ev1_LSS_.nii.gz',\n",
       " 's_02012/run3_AllOnsetsTimeCorr.feat/betaseries/ev2_LSS_.nii.gz',\n",
       " 's_02012/run3_AllOnsetsTimeCorr.feat/betaseries/ev3_LSS_.nii.gz',\n",
       " 's_02012/run4_AllOnsetsTimeCorr.feat/betaseries/ev1_LSS_.nii.gz',\n",
       " 's_02012/run4_AllOnsetsTimeCorr.feat/betaseries/ev2_LSS_.nii.gz',\n",
       " 's_02012/run4_AllOnsetsTimeCorr.feat/betaseries/ev3_LSS_.nii.gz',\n",
       " 's_02014/run1_AllOnsetsTimeCorr.feat/betaseries/ev1_LSS_.nii.gz',\n",
       " 's_02014/run1_AllOnsetsTimeCorr.feat/betaseries/ev2_LSS_.nii.gz',\n",
       " 's_02014/run1_AllOnsetsTimeCorr.feat/betaseries/ev3_LSS_.nii.gz',\n",
       " 's_02014/run2_AllOnsetsTimeCorr.feat/betaseries/ev1_LSS_.nii.gz',\n",
       " 's_02014/run2_AllOnsetsTimeCorr.feat/betaseries/ev2_LSS_.nii.gz',\n",
       " 's_02014/run2_AllOnsetsTimeCorr.feat/betaseries/ev3_LSS_.nii.gz',\n",
       " 's_02014/run3_AllOnsetsTimeCorr.feat/betaseries/ev1_LSS_.nii.gz',\n",
       " 's_02014/run3_AllOnsetsTimeCorr.feat/betaseries/ev2_LSS_.nii.gz',\n",
       " 's_02014/run3_AllOnsetsTimeCorr.feat/betaseries/ev3_LSS_.nii.gz',\n",
       " 's_02014/run4_AllOnsetsTimeCorr.feat/betaseries/ev1_LSS_.nii.gz',\n",
       " 's_02014/run4_AllOnsetsTimeCorr.feat/betaseries/ev2_LSS_.nii.gz',\n",
       " 's_02014/run4_AllOnsetsTimeCorr.feat/betaseries/ev3_LSS_.nii.gz',\n",
       " 's_02015/run1_AllOnsetsTimeCorr.feat/betaseries/ev1_LSS_.nii.gz',\n",
       " 's_02015/run1_AllOnsetsTimeCorr.feat/betaseries/ev2_LSS_.nii.gz',\n",
       " 's_02015/run1_AllOnsetsTimeCorr.feat/betaseries/ev3_LSS_.nii.gz',\n",
       " 's_02015/run2_AllOnsetsTimeCorr.feat/betaseries/ev1_LSS_.nii.gz',\n",
       " 's_02015/run2_AllOnsetsTimeCorr.feat/betaseries/ev2_LSS_.nii.gz',\n",
       " 's_02015/run2_AllOnsetsTimeCorr.feat/betaseries/ev3_LSS_.nii.gz',\n",
       " 's_02015/run3_AllOnsetsTimeCorr.feat/betaseries/ev1_LSS_.nii.gz',\n",
       " 's_02015/run3_AllOnsetsTimeCorr.feat/betaseries/ev2_LSS_.nii.gz',\n",
       " 's_02015/run3_AllOnsetsTimeCorr.feat/betaseries/ev3_LSS_.nii.gz',\n",
       " 's_02015/run4_AllOnsetsTimeCorr.feat/betaseries/ev1_LSS_.nii.gz',\n",
       " 's_02015/run4_AllOnsetsTimeCorr.feat/betaseries/ev2_LSS_.nii.gz',\n",
       " 's_02015/run4_AllOnsetsTimeCorr.feat/betaseries/ev3_LSS_.nii.gz',\n",
       " 's_02016/run1_AllOnsetsTimeCorr.feat/betaseries/ev1_LSS_.nii.gz',\n",
       " 's_02016/run1_AllOnsetsTimeCorr.feat/betaseries/ev2_LSS_.nii.gz',\n",
       " 's_02016/run1_AllOnsetsTimeCorr.feat/betaseries/ev3_LSS_.nii.gz',\n",
       " 's_02016/run2_AllOnsetsTimeCorr.feat/betaseries/ev1_LSS_.nii.gz',\n",
       " 's_02016/run2_AllOnsetsTimeCorr.feat/betaseries/ev2_LSS_.nii.gz',\n",
       " 's_02016/run2_AllOnsetsTimeCorr.feat/betaseries/ev3_LSS_.nii.gz',\n",
       " 's_02016/run3_AllOnsetsTimeCorr.feat/betaseries/ev1_LSS_.nii.gz',\n",
       " 's_02016/run3_AllOnsetsTimeCorr.feat/betaseries/ev2_LSS_.nii.gz',\n",
       " 's_02016/run3_AllOnsetsTimeCorr.feat/betaseries/ev3_LSS_.nii.gz',\n",
       " 's_02016/run4_AllOnsetsTimeCorr.feat/betaseries/ev1_LSS_.nii.gz',\n",
       " 's_02016/run4_AllOnsetsTimeCorr.feat/betaseries/ev2_LSS_.nii.gz',\n",
       " 's_02016/run4_AllOnsetsTimeCorr.feat/betaseries/ev3_LSS_.nii.gz',\n",
       " 's_02017/run1_AllOnsetsTimeCorr.feat/betaseries/ev1_LSS_.nii.gz',\n",
       " 's_02017/run1_AllOnsetsTimeCorr.feat/betaseries/ev2_LSS_.nii.gz',\n",
       " 's_02017/run1_AllOnsetsTimeCorr.feat/betaseries/ev3_LSS_.nii.gz',\n",
       " 's_02017/run2_AllOnsetsTimeCorr.feat/betaseries/ev1_LSS_.nii.gz',\n",
       " 's_02017/run2_AllOnsetsTimeCorr.feat/betaseries/ev2_LSS_.nii.gz',\n",
       " 's_02017/run2_AllOnsetsTimeCorr.feat/betaseries/ev3_LSS_.nii.gz',\n",
       " 's_02017/run3_AllOnsetsTimeCorr.feat/betaseries/ev1_LSS_.nii.gz',\n",
       " 's_02017/run3_AllOnsetsTimeCorr.feat/betaseries/ev2_LSS_.nii.gz',\n",
       " 's_02017/run3_AllOnsetsTimeCorr.feat/betaseries/ev3_LSS_.nii.gz',\n",
       " 's_02017/run4_AllOnsetsTimeCorr.feat/betaseries/ev1_LSS_.nii.gz',\n",
       " 's_02017/run4_AllOnsetsTimeCorr.feat/betaseries/ev2_LSS_.nii.gz',\n",
       " 's_02017/run4_AllOnsetsTimeCorr.feat/betaseries/ev3_LSS_.nii.gz',\n",
       " 's_02018/run1_AllOnsetsTimeCorr.feat/betaseries/ev1_LSS_.nii.gz',\n",
       " 's_02018/run1_AllOnsetsTimeCorr.feat/betaseries/ev2_LSS_.nii.gz',\n",
       " 's_02018/run1_AllOnsetsTimeCorr.feat/betaseries/ev3_LSS_.nii.gz',\n",
       " 's_02018/run2_AllOnsetsTimeCorr.feat/betaseries/ev1_LSS_.nii.gz',\n",
       " 's_02018/run2_AllOnsetsTimeCorr.feat/betaseries/ev2_LSS_.nii.gz',\n",
       " 's_02018/run2_AllOnsetsTimeCorr.feat/betaseries/ev3_LSS_.nii.gz',\n",
       " 's_02018/run3_AllOnsetsTimeCorr.feat/betaseries/ev1_LSS_.nii.gz',\n",
       " 's_02018/run3_AllOnsetsTimeCorr.feat/betaseries/ev2_LSS_.nii.gz',\n",
       " 's_02018/run3_AllOnsetsTimeCorr.feat/betaseries/ev3_LSS_.nii.gz',\n",
       " 's_02018/run4_AllOnsetsTimeCorr.feat/betaseries/ev1_LSS_.nii.gz',\n",
       " 's_02018/run4_AllOnsetsTimeCorr.feat/betaseries/ev2_LSS_.nii.gz',\n",
       " 's_02018/run4_AllOnsetsTimeCorr.feat/betaseries/ev3_LSS_.nii.gz',\n",
       " 's_02019/run1_AllOnsetsTimeCorr.feat/betaseries/ev1_LSS_.nii.gz',\n",
       " 's_02019/run1_AllOnsetsTimeCorr.feat/betaseries/ev2_LSS_.nii.gz',\n",
       " 's_02019/run1_AllOnsetsTimeCorr.feat/betaseries/ev3_LSS_.nii.gz',\n",
       " 's_02019/run2_AllOnsetsTimeCorr.feat/betaseries/ev1_LSS_.nii.gz',\n",
       " 's_02019/run2_AllOnsetsTimeCorr.feat/betaseries/ev2_LSS_.nii.gz',\n",
       " 's_02019/run2_AllOnsetsTimeCorr.feat/betaseries/ev3_LSS_.nii.gz',\n",
       " 's_02019/run3_AllOnsetsTimeCorr.feat/betaseries/ev1_LSS_.nii.gz',\n",
       " 's_02019/run3_AllOnsetsTimeCorr.feat/betaseries/ev2_LSS_.nii.gz',\n",
       " 's_02019/run3_AllOnsetsTimeCorr.feat/betaseries/ev3_LSS_.nii.gz',\n",
       " 's_02019/run4_AllOnsetsTimeCorr.feat/betaseries/ev1_LSS_.nii.gz',\n",
       " 's_02019/run4_AllOnsetsTimeCorr.feat/betaseries/ev2_LSS_.nii.gz',\n",
       " 's_02019/run4_AllOnsetsTimeCorr.feat/betaseries/ev3_LSS_.nii.gz',\n",
       " 's_02021/run1_AllOnsetsTimeCorr.feat/betaseries/ev1_LSS_.nii.gz',\n",
       " 's_02021/run1_AllOnsetsTimeCorr.feat/betaseries/ev2_LSS_.nii.gz',\n",
       " 's_02021/run1_AllOnsetsTimeCorr.feat/betaseries/ev3_LSS_.nii.gz',\n",
       " 's_02021/run2_AllOnsetsTimeCorr.feat/betaseries/ev1_LSS_.nii.gz',\n",
       " 's_02021/run2_AllOnsetsTimeCorr.feat/betaseries/ev2_LSS_.nii.gz',\n",
       " 's_02021/run2_AllOnsetsTimeCorr.feat/betaseries/ev3_LSS_.nii.gz',\n",
       " 's_02021/run3_AllOnsetsTimeCorr.feat/betaseries/ev1_LSS_.nii.gz',\n",
       " 's_02021/run3_AllOnsetsTimeCorr.feat/betaseries/ev2_LSS_.nii.gz',\n",
       " 's_02021/run3_AllOnsetsTimeCorr.feat/betaseries/ev3_LSS_.nii.gz',\n",
       " 's_02021/run4_AllOnsetsTimeCorr.feat/betaseries/ev1_LSS_.nii.gz',\n",
       " 's_02021/run4_AllOnsetsTimeCorr.feat/betaseries/ev2_LSS_.nii.gz',\n",
       " 's_02021/run4_AllOnsetsTimeCorr.feat/betaseries/ev3_LSS_.nii.gz',\n",
       " 's_02022/run1_AllOnsetsTimeCorr.feat/betaseries/ev1_LSS_.nii.gz',\n",
       " 's_02022/run1_AllOnsetsTimeCorr.feat/betaseries/ev2_LSS_.nii.gz',\n",
       " 's_02022/run1_AllOnsetsTimeCorr.feat/betaseries/ev3_LSS_.nii.gz',\n",
       " 's_02022/run2_AllOnsetsTimeCorr.feat/betaseries/ev1_LSS_.nii.gz',\n",
       " 's_02022/run2_AllOnsetsTimeCorr.feat/betaseries/ev2_LSS_.nii.gz',\n",
       " 's_02022/run2_AllOnsetsTimeCorr.feat/betaseries/ev3_LSS_.nii.gz',\n",
       " 's_02022/run3_AllOnsetsTimeCorr.feat/betaseries/ev1_LSS_.nii.gz',\n",
       " 's_02022/run3_AllOnsetsTimeCorr.feat/betaseries/ev2_LSS_.nii.gz',\n",
       " 's_02022/run3_AllOnsetsTimeCorr.feat/betaseries/ev3_LSS_.nii.gz',\n",
       " 's_02022/run4_AllOnsetsTimeCorr.feat/betaseries/ev1_LSS_.nii.gz',\n",
       " 's_02022/run4_AllOnsetsTimeCorr.feat/betaseries/ev2_LSS_.nii.gz',\n",
       " 's_02022/run4_AllOnsetsTimeCorr.feat/betaseries/ev3_LSS_.nii.gz',\n",
       " 's_02023/run1_AllOnsetsTimeCorr.feat/betaseries/ev1_LSS_.nii.gz',\n",
       " 's_02023/run1_AllOnsetsTimeCorr.feat/betaseries/ev2_LSS_.nii.gz',\n",
       " 's_02023/run1_AllOnsetsTimeCorr.feat/betaseries/ev3_LSS_.nii.gz',\n",
       " 's_02023/run2_AllOnsetsTimeCorr.feat/betaseries/ev1_LSS_.nii.gz',\n",
       " 's_02023/run2_AllOnsetsTimeCorr.feat/betaseries/ev2_LSS_.nii.gz',\n",
       " 's_02023/run2_AllOnsetsTimeCorr.feat/betaseries/ev3_LSS_.nii.gz',\n",
       " 's_02023/run3_AllOnsetsTimeCorr.feat/betaseries/ev1_LSS_.nii.gz',\n",
       " 's_02023/run3_AllOnsetsTimeCorr.feat/betaseries/ev2_LSS_.nii.gz',\n",
       " 's_02023/run3_AllOnsetsTimeCorr.feat/betaseries/ev3_LSS_.nii.gz',\n",
       " 's_02023/run4_AllOnsetsTimeCorr.feat/betaseries/ev1_LSS_.nii.gz',\n",
       " 's_02023/run4_AllOnsetsTimeCorr.feat/betaseries/ev2_LSS_.nii.gz',\n",
       " 's_02023/run4_AllOnsetsTimeCorr.feat/betaseries/ev3_LSS_.nii.gz',\n",
       " 's_02024/run1_AllOnsetsTimeCorr.feat/betaseries/ev1_LSS_.nii.gz',\n",
       " 's_02024/run1_AllOnsetsTimeCorr.feat/betaseries/ev2_LSS_.nii.gz',\n",
       " 's_02024/run1_AllOnsetsTimeCorr.feat/betaseries/ev3_LSS_.nii.gz',\n",
       " 's_02024/run2_AllOnsetsTimeCorr.feat/betaseries/ev1_LSS_.nii.gz',\n",
       " 's_02024/run2_AllOnsetsTimeCorr.feat/betaseries/ev2_LSS_.nii.gz',\n",
       " 's_02024/run2_AllOnsetsTimeCorr.feat/betaseries/ev3_LSS_.nii.gz',\n",
       " 's_02024/run3_AllOnsetsTimeCorr.feat/betaseries/ev1_LSS_.nii.gz',\n",
       " 's_02024/run3_AllOnsetsTimeCorr.feat/betaseries/ev2_LSS_.nii.gz',\n",
       " 's_02024/run3_AllOnsetsTimeCorr.feat/betaseries/ev3_LSS_.nii.gz',\n",
       " 's_02024/run4_AllOnsetsTimeCorr.feat/betaseries/ev1_LSS_.nii.gz',\n",
       " 's_02024/run4_AllOnsetsTimeCorr.feat/betaseries/ev2_LSS_.nii.gz',\n",
       " 's_02024/run4_AllOnsetsTimeCorr.feat/betaseries/ev3_LSS_.nii.gz',\n",
       " 's_02027/run1_AllOnsetsTimeCorr.feat/betaseries/ev1_LSS_.nii.gz',\n",
       " 's_02027/run1_AllOnsetsTimeCorr.feat/betaseries/ev2_LSS_.nii.gz',\n",
       " 's_02027/run1_AllOnsetsTimeCorr.feat/betaseries/ev3_LSS_.nii.gz',\n",
       " 's_02027/run2_AllOnsetsTimeCorr.feat/betaseries/ev1_LSS_.nii.gz',\n",
       " 's_02027/run2_AllOnsetsTimeCorr.feat/betaseries/ev2_LSS_.nii.gz',\n",
       " 's_02027/run2_AllOnsetsTimeCorr.feat/betaseries/ev3_LSS_.nii.gz',\n",
       " 's_02027/run3_AllOnsetsTimeCorr.feat/betaseries/ev1_LSS_.nii.gz',\n",
       " 's_02027/run3_AllOnsetsTimeCorr.feat/betaseries/ev2_LSS_.nii.gz',\n",
       " 's_02027/run3_AllOnsetsTimeCorr.feat/betaseries/ev3_LSS_.nii.gz',\n",
       " 's_02027/run4_AllOnsetsTimeCorr.feat/betaseries/ev1_LSS_.nii.gz',\n",
       " 's_02027/run4_AllOnsetsTimeCorr.feat/betaseries/ev2_LSS_.nii.gz',\n",
       " 's_02027/run4_AllOnsetsTimeCorr.feat/betaseries/ev3_LSS_.nii.gz']"
      ]
     },
     "execution_count": 144,
     "metadata": {},
     "output_type": "execute_result"
    }
   ],
   "source": [
    "dat_files = glob.glob('s_020??/run?_AllOnsetsTimeCorr.feat/betaseries/ev*.nii.gz')\n",
    "dat_files"
   ]
  },
  {
   "cell_type": "code",
   "execution_count": 145,
   "metadata": {
    "collapsed": false
   },
   "outputs": [],
   "source": [
    "dict_files = {}\n",
    "for i in dat_files:\n",
    "    id1 = 0\n",
    "    id2 = dat_files[0].find('/')\n",
    "    id3 = id2+1\n",
    "    sub_nbr = i[id1:id2]\n",
    "    run_nbr = i[id3:id3+4]\n",
    "    dict_files[sub_nbr] = {}"
   ]
  },
  {
   "cell_type": "code",
   "execution_count": 147,
   "metadata": {
    "collapsed": false
   },
   "outputs": [],
   "source": [
    "tasks = ['Pos', 'Neg', 'Word']\n",
    "for i in dat_files:\n",
    "    id1 = 0\n",
    "    id2 = dat_files[0].find('/')\n",
    "    id3 = id2+1\n",
    "    id4 = -13\n",
    "    sub_nbr = i[id1:id2]\n",
    "    run_nbr = i[id3:id3+4]\n",
    "    ev_nbr = i[id4]\n",
    "    dict_files[sub_nbr][run_nbr] = {}"
   ]
  },
  {
   "cell_type": "code",
   "execution_count": 149,
   "metadata": {
    "collapsed": true
   },
   "outputs": [],
   "source": [
    "for i in dat_files:\n",
    "    id1 = 0\n",
    "    id2 = dat_files[0].find('/')\n",
    "    id3 = id2+1\n",
    "    id4 = -13\n",
    "    sub_nbr = i[id1:id2]\n",
    "    run_nbr = i[id3:id3+4]\n",
    "    ev_nbr = i[id4]\n",
    "    if ev_nbr == '1':\n",
    "        dict_files[sub_nbr][run_nbr]['Pos'] = [i]\n",
    "    if ev_nbr == '2':\n",
    "        dict_files[sub_nbr][run_nbr]['Neg'] = [i]\n",
    "    if ev_nbr == '3':\n",
    "        dict_files[sub_nbr][run_nbr]['Word'] = [i]"
   ]
  },
  {
   "cell_type": "code",
   "execution_count": 150,
   "metadata": {
    "collapsed": false
   },
   "outputs": [
    {
     "data": {
      "text/plain": [
       "{'s_02003': {'run1': {'Neg': ['s_02003/run1_AllOnsetsTimeCorr.feat/betaseries/ev2_LSS_.nii.gz'],\n",
       "   'Pos': ['s_02003/run1_AllOnsetsTimeCorr.feat/betaseries/ev1_LSS_.nii.gz'],\n",
       "   'Word': ['s_02003/run1_AllOnsetsTimeCorr.feat/betaseries/ev3_LSS_.nii.gz']},\n",
       "  'run2': {'Neg': ['s_02003/run2_AllOnsetsTimeCorr.feat/betaseries/ev2_LSS_.nii.gz'],\n",
       "   'Pos': ['s_02003/run2_AllOnsetsTimeCorr.feat/betaseries/ev1_LSS_.nii.gz'],\n",
       "   'Word': ['s_02003/run2_AllOnsetsTimeCorr.feat/betaseries/ev3_LSS_.nii.gz']},\n",
       "  'run3': {'Neg': ['s_02003/run3_AllOnsetsTimeCorr.feat/betaseries/ev2_LSS_.nii.gz'],\n",
       "   'Pos': ['s_02003/run3_AllOnsetsTimeCorr.feat/betaseries/ev1_LSS_.nii.gz'],\n",
       "   'Word': ['s_02003/run3_AllOnsetsTimeCorr.feat/betaseries/ev3_LSS_.nii.gz']},\n",
       "  'run4': {'Neg': ['s_02003/run4_AllOnsetsTimeCorr.feat/betaseries/ev2_LSS_.nii.gz'],\n",
       "   'Pos': ['s_02003/run4_AllOnsetsTimeCorr.feat/betaseries/ev1_LSS_.nii.gz'],\n",
       "   'Word': ['s_02003/run4_AllOnsetsTimeCorr.feat/betaseries/ev3_LSS_.nii.gz']}},\n",
       " 's_02004': {'run1': {'Neg': ['s_02004/run1_AllOnsetsTimeCorr.feat/betaseries/ev2_LSS_.nii.gz'],\n",
       "   'Pos': ['s_02004/run1_AllOnsetsTimeCorr.feat/betaseries/ev1_LSS_.nii.gz'],\n",
       "   'Word': ['s_02004/run1_AllOnsetsTimeCorr.feat/betaseries/ev3_LSS_.nii.gz']},\n",
       "  'run2': {'Neg': ['s_02004/run2_AllOnsetsTimeCorr.feat/betaseries/ev2_LSS_.nii.gz'],\n",
       "   'Pos': ['s_02004/run2_AllOnsetsTimeCorr.feat/betaseries/ev1_LSS_.nii.gz'],\n",
       "   'Word': ['s_02004/run2_AllOnsetsTimeCorr.feat/betaseries/ev3_LSS_.nii.gz']},\n",
       "  'run3': {'Neg': ['s_02004/run3_AllOnsetsTimeCorr.feat/betaseries/ev2_LSS_.nii.gz'],\n",
       "   'Pos': ['s_02004/run3_AllOnsetsTimeCorr.feat/betaseries/ev1_LSS_.nii.gz'],\n",
       "   'Word': ['s_02004/run3_AllOnsetsTimeCorr.feat/betaseries/ev3_LSS_.nii.gz']},\n",
       "  'run4': {'Neg': ['s_02004/run4_AllOnsetsTimeCorr.feat/betaseries/ev2_LSS_.nii.gz'],\n",
       "   'Pos': ['s_02004/run4_AllOnsetsTimeCorr.feat/betaseries/ev1_LSS_.nii.gz'],\n",
       "   'Word': ['s_02004/run4_AllOnsetsTimeCorr.feat/betaseries/ev3_LSS_.nii.gz']}},\n",
       " 's_02005': {'run1': {'Neg': ['s_02005/run1_AllOnsetsTimeCorr.feat/betaseries/ev2_LSS_.nii.gz'],\n",
       "   'Pos': ['s_02005/run1_AllOnsetsTimeCorr.feat/betaseries/ev1_LSS_.nii.gz'],\n",
       "   'Word': ['s_02005/run1_AllOnsetsTimeCorr.feat/betaseries/ev3_LSS_.nii.gz']},\n",
       "  'run2': {'Neg': ['s_02005/run2_AllOnsetsTimeCorr.feat/betaseries/ev2_LSS_.nii.gz'],\n",
       "   'Pos': ['s_02005/run2_AllOnsetsTimeCorr.feat/betaseries/ev1_LSS_.nii.gz'],\n",
       "   'Word': ['s_02005/run2_AllOnsetsTimeCorr.feat/betaseries/ev3_LSS_.nii.gz']},\n",
       "  'run3': {'Neg': ['s_02005/run3_AllOnsetsTimeCorr.feat/betaseries/ev2_LSS_.nii.gz'],\n",
       "   'Pos': ['s_02005/run3_AllOnsetsTimeCorr.feat/betaseries/ev1_LSS_.nii.gz'],\n",
       "   'Word': ['s_02005/run3_AllOnsetsTimeCorr.feat/betaseries/ev3_LSS_.nii.gz']},\n",
       "  'run4': {'Neg': ['s_02005/run4_AllOnsetsTimeCorr.feat/betaseries/ev2_LSS_.nii.gz'],\n",
       "   'Pos': ['s_02005/run4_AllOnsetsTimeCorr.feat/betaseries/ev1_LSS_.nii.gz'],\n",
       "   'Word': ['s_02005/run4_AllOnsetsTimeCorr.feat/betaseries/ev3_LSS_.nii.gz']}},\n",
       " 's_02006': {'run1': {'Neg': ['s_02006/run1_AllOnsetsTimeCorr.feat/betaseries/ev2_LSS_.nii.gz'],\n",
       "   'Pos': ['s_02006/run1_AllOnsetsTimeCorr.feat/betaseries/ev1_LSS_.nii.gz'],\n",
       "   'Word': ['s_02006/run1_AllOnsetsTimeCorr.feat/betaseries/ev3_LSS_.nii.gz']},\n",
       "  'run2': {'Neg': ['s_02006/run2_AllOnsetsTimeCorr.feat/betaseries/ev2_LSS_.nii.gz'],\n",
       "   'Pos': ['s_02006/run2_AllOnsetsTimeCorr.feat/betaseries/ev1_LSS_.nii.gz'],\n",
       "   'Word': ['s_02006/run2_AllOnsetsTimeCorr.feat/betaseries/ev3_LSS_.nii.gz']},\n",
       "  'run3': {'Neg': ['s_02006/run3_AllOnsetsTimeCorr.feat/betaseries/ev2_LSS_.nii.gz'],\n",
       "   'Pos': ['s_02006/run3_AllOnsetsTimeCorr.feat/betaseries/ev1_LSS_.nii.gz'],\n",
       "   'Word': ['s_02006/run3_AllOnsetsTimeCorr.feat/betaseries/ev3_LSS_.nii.gz']},\n",
       "  'run4': {'Neg': ['s_02006/run4_AllOnsetsTimeCorr.feat/betaseries/ev2_LSS_.nii.gz'],\n",
       "   'Pos': ['s_02006/run4_AllOnsetsTimeCorr.feat/betaseries/ev1_LSS_.nii.gz'],\n",
       "   'Word': ['s_02006/run4_AllOnsetsTimeCorr.feat/betaseries/ev3_LSS_.nii.gz']}},\n",
       " 's_02007': {'run1': {'Neg': ['s_02007/run1_AllOnsetsTimeCorr.feat/betaseries/ev2_LSS_.nii.gz'],\n",
       "   'Pos': ['s_02007/run1_AllOnsetsTimeCorr.feat/betaseries/ev1_LSS_.nii.gz'],\n",
       "   'Word': ['s_02007/run1_AllOnsetsTimeCorr.feat/betaseries/ev3_LSS_.nii.gz']},\n",
       "  'run2': {'Neg': ['s_02007/run2_AllOnsetsTimeCorr.feat/betaseries/ev2_LSS_.nii.gz'],\n",
       "   'Pos': ['s_02007/run2_AllOnsetsTimeCorr.feat/betaseries/ev1_LSS_.nii.gz'],\n",
       "   'Word': ['s_02007/run2_AllOnsetsTimeCorr.feat/betaseries/ev3_LSS_.nii.gz']},\n",
       "  'run3': {'Neg': ['s_02007/run3_AllOnsetsTimeCorr.feat/betaseries/ev2_LSS_.nii.gz'],\n",
       "   'Pos': ['s_02007/run3_AllOnsetsTimeCorr.feat/betaseries/ev1_LSS_.nii.gz'],\n",
       "   'Word': ['s_02007/run3_AllOnsetsTimeCorr.feat/betaseries/ev3_LSS_.nii.gz']},\n",
       "  'run4': {'Neg': ['s_02007/run4_AllOnsetsTimeCorr.feat/betaseries/ev2_LSS_.nii.gz'],\n",
       "   'Pos': ['s_02007/run4_AllOnsetsTimeCorr.feat/betaseries/ev1_LSS_.nii.gz'],\n",
       "   'Word': ['s_02007/run4_AllOnsetsTimeCorr.feat/betaseries/ev3_LSS_.nii.gz']}},\n",
       " 's_02010': {'run1': {'Neg': ['s_02010/run1_AllOnsetsTimeCorr.feat/betaseries/ev2_LSS_.nii.gz'],\n",
       "   'Pos': ['s_02010/run1_AllOnsetsTimeCorr.feat/betaseries/ev1_LSS_.nii.gz'],\n",
       "   'Word': ['s_02010/run1_AllOnsetsTimeCorr.feat/betaseries/ev3_LSS_.nii.gz']},\n",
       "  'run2': {'Neg': ['s_02010/run2_AllOnsetsTimeCorr.feat/betaseries/ev2_LSS_.nii.gz'],\n",
       "   'Pos': ['s_02010/run2_AllOnsetsTimeCorr.feat/betaseries/ev1_LSS_.nii.gz'],\n",
       "   'Word': ['s_02010/run2_AllOnsetsTimeCorr.feat/betaseries/ev3_LSS_.nii.gz']},\n",
       "  'run3': {'Neg': ['s_02010/run3_AllOnsetsTimeCorr.feat/betaseries/ev2_LSS_.nii.gz'],\n",
       "   'Pos': ['s_02010/run3_AllOnsetsTimeCorr.feat/betaseries/ev1_LSS_.nii.gz'],\n",
       "   'Word': ['s_02010/run3_AllOnsetsTimeCorr.feat/betaseries/ev3_LSS_.nii.gz']},\n",
       "  'run4': {'Neg': ['s_02010/run4_AllOnsetsTimeCorr.feat/betaseries/ev2_LSS_.nii.gz'],\n",
       "   'Pos': ['s_02010/run4_AllOnsetsTimeCorr.feat/betaseries/ev1_LSS_.nii.gz'],\n",
       "   'Word': ['s_02010/run4_AllOnsetsTimeCorr.feat/betaseries/ev3_LSS_.nii.gz']}},\n",
       " 's_02011': {'run1': {'Neg': ['s_02011/run1_AllOnsetsTimeCorr.feat/betaseries/ev2_LSS_.nii.gz'],\n",
       "   'Pos': ['s_02011/run1_AllOnsetsTimeCorr.feat/betaseries/ev1_LSS_.nii.gz'],\n",
       "   'Word': ['s_02011/run1_AllOnsetsTimeCorr.feat/betaseries/ev3_LSS_.nii.gz']},\n",
       "  'run2': {'Neg': ['s_02011/run2_AllOnsetsTimeCorr.feat/betaseries/ev2_LSS_.nii.gz'],\n",
       "   'Pos': ['s_02011/run2_AllOnsetsTimeCorr.feat/betaseries/ev1_LSS_.nii.gz'],\n",
       "   'Word': ['s_02011/run2_AllOnsetsTimeCorr.feat/betaseries/ev3_LSS_.nii.gz']},\n",
       "  'run3': {'Neg': ['s_02011/run3_AllOnsetsTimeCorr.feat/betaseries/ev2_LSS_.nii.gz'],\n",
       "   'Pos': ['s_02011/run3_AllOnsetsTimeCorr.feat/betaseries/ev1_LSS_.nii.gz'],\n",
       "   'Word': ['s_02011/run3_AllOnsetsTimeCorr.feat/betaseries/ev3_LSS_.nii.gz']},\n",
       "  'run4': {'Neg': ['s_02011/run4_AllOnsetsTimeCorr.feat/betaseries/ev2_LSS_.nii.gz'],\n",
       "   'Pos': ['s_02011/run4_AllOnsetsTimeCorr.feat/betaseries/ev1_LSS_.nii.gz'],\n",
       "   'Word': ['s_02011/run4_AllOnsetsTimeCorr.feat/betaseries/ev3_LSS_.nii.gz']}},\n",
       " 's_02012': {'run1': {'Neg': ['s_02012/run1_AllOnsetsTimeCorr.feat/betaseries/ev2_LSS_.nii.gz'],\n",
       "   'Pos': ['s_02012/run1_AllOnsetsTimeCorr.feat/betaseries/ev1_LSS_.nii.gz'],\n",
       "   'Word': ['s_02012/run1_AllOnsetsTimeCorr.feat/betaseries/ev3_LSS_.nii.gz']},\n",
       "  'run2': {'Neg': ['s_02012/run2_AllOnsetsTimeCorr.feat/betaseries/ev2_LSS_.nii.gz'],\n",
       "   'Pos': ['s_02012/run2_AllOnsetsTimeCorr.feat/betaseries/ev1_LSS_.nii.gz'],\n",
       "   'Word': ['s_02012/run2_AllOnsetsTimeCorr.feat/betaseries/ev3_LSS_.nii.gz']},\n",
       "  'run3': {'Neg': ['s_02012/run3_AllOnsetsTimeCorr.feat/betaseries/ev2_LSS_.nii.gz'],\n",
       "   'Pos': ['s_02012/run3_AllOnsetsTimeCorr.feat/betaseries/ev1_LSS_.nii.gz'],\n",
       "   'Word': ['s_02012/run3_AllOnsetsTimeCorr.feat/betaseries/ev3_LSS_.nii.gz']},\n",
       "  'run4': {'Neg': ['s_02012/run4_AllOnsetsTimeCorr.feat/betaseries/ev2_LSS_.nii.gz'],\n",
       "   'Pos': ['s_02012/run4_AllOnsetsTimeCorr.feat/betaseries/ev1_LSS_.nii.gz'],\n",
       "   'Word': ['s_02012/run4_AllOnsetsTimeCorr.feat/betaseries/ev3_LSS_.nii.gz']}},\n",
       " 's_02014': {'run1': {'Neg': ['s_02014/run1_AllOnsetsTimeCorr.feat/betaseries/ev2_LSS_.nii.gz'],\n",
       "   'Pos': ['s_02014/run1_AllOnsetsTimeCorr.feat/betaseries/ev1_LSS_.nii.gz'],\n",
       "   'Word': ['s_02014/run1_AllOnsetsTimeCorr.feat/betaseries/ev3_LSS_.nii.gz']},\n",
       "  'run2': {'Neg': ['s_02014/run2_AllOnsetsTimeCorr.feat/betaseries/ev2_LSS_.nii.gz'],\n",
       "   'Pos': ['s_02014/run2_AllOnsetsTimeCorr.feat/betaseries/ev1_LSS_.nii.gz'],\n",
       "   'Word': ['s_02014/run2_AllOnsetsTimeCorr.feat/betaseries/ev3_LSS_.nii.gz']},\n",
       "  'run3': {'Neg': ['s_02014/run3_AllOnsetsTimeCorr.feat/betaseries/ev2_LSS_.nii.gz'],\n",
       "   'Pos': ['s_02014/run3_AllOnsetsTimeCorr.feat/betaseries/ev1_LSS_.nii.gz'],\n",
       "   'Word': ['s_02014/run3_AllOnsetsTimeCorr.feat/betaseries/ev3_LSS_.nii.gz']},\n",
       "  'run4': {'Neg': ['s_02014/run4_AllOnsetsTimeCorr.feat/betaseries/ev2_LSS_.nii.gz'],\n",
       "   'Pos': ['s_02014/run4_AllOnsetsTimeCorr.feat/betaseries/ev1_LSS_.nii.gz'],\n",
       "   'Word': ['s_02014/run4_AllOnsetsTimeCorr.feat/betaseries/ev3_LSS_.nii.gz']}},\n",
       " 's_02015': {'run1': {'Neg': ['s_02015/run1_AllOnsetsTimeCorr.feat/betaseries/ev2_LSS_.nii.gz'],\n",
       "   'Pos': ['s_02015/run1_AllOnsetsTimeCorr.feat/betaseries/ev1_LSS_.nii.gz'],\n",
       "   'Word': ['s_02015/run1_AllOnsetsTimeCorr.feat/betaseries/ev3_LSS_.nii.gz']},\n",
       "  'run2': {'Neg': ['s_02015/run2_AllOnsetsTimeCorr.feat/betaseries/ev2_LSS_.nii.gz'],\n",
       "   'Pos': ['s_02015/run2_AllOnsetsTimeCorr.feat/betaseries/ev1_LSS_.nii.gz'],\n",
       "   'Word': ['s_02015/run2_AllOnsetsTimeCorr.feat/betaseries/ev3_LSS_.nii.gz']},\n",
       "  'run3': {'Neg': ['s_02015/run3_AllOnsetsTimeCorr.feat/betaseries/ev2_LSS_.nii.gz'],\n",
       "   'Pos': ['s_02015/run3_AllOnsetsTimeCorr.feat/betaseries/ev1_LSS_.nii.gz'],\n",
       "   'Word': ['s_02015/run3_AllOnsetsTimeCorr.feat/betaseries/ev3_LSS_.nii.gz']},\n",
       "  'run4': {'Neg': ['s_02015/run4_AllOnsetsTimeCorr.feat/betaseries/ev2_LSS_.nii.gz'],\n",
       "   'Pos': ['s_02015/run4_AllOnsetsTimeCorr.feat/betaseries/ev1_LSS_.nii.gz'],\n",
       "   'Word': ['s_02015/run4_AllOnsetsTimeCorr.feat/betaseries/ev3_LSS_.nii.gz']}},\n",
       " 's_02016': {'run1': {'Neg': ['s_02016/run1_AllOnsetsTimeCorr.feat/betaseries/ev2_LSS_.nii.gz'],\n",
       "   'Pos': ['s_02016/run1_AllOnsetsTimeCorr.feat/betaseries/ev1_LSS_.nii.gz'],\n",
       "   'Word': ['s_02016/run1_AllOnsetsTimeCorr.feat/betaseries/ev3_LSS_.nii.gz']},\n",
       "  'run2': {'Neg': ['s_02016/run2_AllOnsetsTimeCorr.feat/betaseries/ev2_LSS_.nii.gz'],\n",
       "   'Pos': ['s_02016/run2_AllOnsetsTimeCorr.feat/betaseries/ev1_LSS_.nii.gz'],\n",
       "   'Word': ['s_02016/run2_AllOnsetsTimeCorr.feat/betaseries/ev3_LSS_.nii.gz']},\n",
       "  'run3': {'Neg': ['s_02016/run3_AllOnsetsTimeCorr.feat/betaseries/ev2_LSS_.nii.gz'],\n",
       "   'Pos': ['s_02016/run3_AllOnsetsTimeCorr.feat/betaseries/ev1_LSS_.nii.gz'],\n",
       "   'Word': ['s_02016/run3_AllOnsetsTimeCorr.feat/betaseries/ev3_LSS_.nii.gz']},\n",
       "  'run4': {'Neg': ['s_02016/run4_AllOnsetsTimeCorr.feat/betaseries/ev2_LSS_.nii.gz'],\n",
       "   'Pos': ['s_02016/run4_AllOnsetsTimeCorr.feat/betaseries/ev1_LSS_.nii.gz'],\n",
       "   'Word': ['s_02016/run4_AllOnsetsTimeCorr.feat/betaseries/ev3_LSS_.nii.gz']}},\n",
       " 's_02017': {'run1': {'Neg': ['s_02017/run1_AllOnsetsTimeCorr.feat/betaseries/ev2_LSS_.nii.gz'],\n",
       "   'Pos': ['s_02017/run1_AllOnsetsTimeCorr.feat/betaseries/ev1_LSS_.nii.gz'],\n",
       "   'Word': ['s_02017/run1_AllOnsetsTimeCorr.feat/betaseries/ev3_LSS_.nii.gz']},\n",
       "  'run2': {'Neg': ['s_02017/run2_AllOnsetsTimeCorr.feat/betaseries/ev2_LSS_.nii.gz'],\n",
       "   'Pos': ['s_02017/run2_AllOnsetsTimeCorr.feat/betaseries/ev1_LSS_.nii.gz'],\n",
       "   'Word': ['s_02017/run2_AllOnsetsTimeCorr.feat/betaseries/ev3_LSS_.nii.gz']},\n",
       "  'run3': {'Neg': ['s_02017/run3_AllOnsetsTimeCorr.feat/betaseries/ev2_LSS_.nii.gz'],\n",
       "   'Pos': ['s_02017/run3_AllOnsetsTimeCorr.feat/betaseries/ev1_LSS_.nii.gz'],\n",
       "   'Word': ['s_02017/run3_AllOnsetsTimeCorr.feat/betaseries/ev3_LSS_.nii.gz']},\n",
       "  'run4': {'Neg': ['s_02017/run4_AllOnsetsTimeCorr.feat/betaseries/ev2_LSS_.nii.gz'],\n",
       "   'Pos': ['s_02017/run4_AllOnsetsTimeCorr.feat/betaseries/ev1_LSS_.nii.gz'],\n",
       "   'Word': ['s_02017/run4_AllOnsetsTimeCorr.feat/betaseries/ev3_LSS_.nii.gz']}},\n",
       " 's_02018': {'run1': {'Neg': ['s_02018/run1_AllOnsetsTimeCorr.feat/betaseries/ev2_LSS_.nii.gz'],\n",
       "   'Pos': ['s_02018/run1_AllOnsetsTimeCorr.feat/betaseries/ev1_LSS_.nii.gz'],\n",
       "   'Word': ['s_02018/run1_AllOnsetsTimeCorr.feat/betaseries/ev3_LSS_.nii.gz']},\n",
       "  'run2': {'Neg': ['s_02018/run2_AllOnsetsTimeCorr.feat/betaseries/ev2_LSS_.nii.gz'],\n",
       "   'Pos': ['s_02018/run2_AllOnsetsTimeCorr.feat/betaseries/ev1_LSS_.nii.gz'],\n",
       "   'Word': ['s_02018/run2_AllOnsetsTimeCorr.feat/betaseries/ev3_LSS_.nii.gz']},\n",
       "  'run3': {'Neg': ['s_02018/run3_AllOnsetsTimeCorr.feat/betaseries/ev2_LSS_.nii.gz'],\n",
       "   'Pos': ['s_02018/run3_AllOnsetsTimeCorr.feat/betaseries/ev1_LSS_.nii.gz'],\n",
       "   'Word': ['s_02018/run3_AllOnsetsTimeCorr.feat/betaseries/ev3_LSS_.nii.gz']},\n",
       "  'run4': {'Neg': ['s_02018/run4_AllOnsetsTimeCorr.feat/betaseries/ev2_LSS_.nii.gz'],\n",
       "   'Pos': ['s_02018/run4_AllOnsetsTimeCorr.feat/betaseries/ev1_LSS_.nii.gz'],\n",
       "   'Word': ['s_02018/run4_AllOnsetsTimeCorr.feat/betaseries/ev3_LSS_.nii.gz']}},\n",
       " 's_02019': {'run1': {'Neg': ['s_02019/run1_AllOnsetsTimeCorr.feat/betaseries/ev2_LSS_.nii.gz'],\n",
       "   'Pos': ['s_02019/run1_AllOnsetsTimeCorr.feat/betaseries/ev1_LSS_.nii.gz'],\n",
       "   'Word': ['s_02019/run1_AllOnsetsTimeCorr.feat/betaseries/ev3_LSS_.nii.gz']},\n",
       "  'run2': {'Neg': ['s_02019/run2_AllOnsetsTimeCorr.feat/betaseries/ev2_LSS_.nii.gz'],\n",
       "   'Pos': ['s_02019/run2_AllOnsetsTimeCorr.feat/betaseries/ev1_LSS_.nii.gz'],\n",
       "   'Word': ['s_02019/run2_AllOnsetsTimeCorr.feat/betaseries/ev3_LSS_.nii.gz']},\n",
       "  'run3': {'Neg': ['s_02019/run3_AllOnsetsTimeCorr.feat/betaseries/ev2_LSS_.nii.gz'],\n",
       "   'Pos': ['s_02019/run3_AllOnsetsTimeCorr.feat/betaseries/ev1_LSS_.nii.gz'],\n",
       "   'Word': ['s_02019/run3_AllOnsetsTimeCorr.feat/betaseries/ev3_LSS_.nii.gz']},\n",
       "  'run4': {'Neg': ['s_02019/run4_AllOnsetsTimeCorr.feat/betaseries/ev2_LSS_.nii.gz'],\n",
       "   'Pos': ['s_02019/run4_AllOnsetsTimeCorr.feat/betaseries/ev1_LSS_.nii.gz'],\n",
       "   'Word': ['s_02019/run4_AllOnsetsTimeCorr.feat/betaseries/ev3_LSS_.nii.gz']}},\n",
       " 's_02021': {'run1': {'Neg': ['s_02021/run1_AllOnsetsTimeCorr.feat/betaseries/ev2_LSS_.nii.gz'],\n",
       "   'Pos': ['s_02021/run1_AllOnsetsTimeCorr.feat/betaseries/ev1_LSS_.nii.gz'],\n",
       "   'Word': ['s_02021/run1_AllOnsetsTimeCorr.feat/betaseries/ev3_LSS_.nii.gz']},\n",
       "  'run2': {'Neg': ['s_02021/run2_AllOnsetsTimeCorr.feat/betaseries/ev2_LSS_.nii.gz'],\n",
       "   'Pos': ['s_02021/run2_AllOnsetsTimeCorr.feat/betaseries/ev1_LSS_.nii.gz'],\n",
       "   'Word': ['s_02021/run2_AllOnsetsTimeCorr.feat/betaseries/ev3_LSS_.nii.gz']},\n",
       "  'run3': {'Neg': ['s_02021/run3_AllOnsetsTimeCorr.feat/betaseries/ev2_LSS_.nii.gz'],\n",
       "   'Pos': ['s_02021/run3_AllOnsetsTimeCorr.feat/betaseries/ev1_LSS_.nii.gz'],\n",
       "   'Word': ['s_02021/run3_AllOnsetsTimeCorr.feat/betaseries/ev3_LSS_.nii.gz']},\n",
       "  'run4': {'Neg': ['s_02021/run4_AllOnsetsTimeCorr.feat/betaseries/ev2_LSS_.nii.gz'],\n",
       "   'Pos': ['s_02021/run4_AllOnsetsTimeCorr.feat/betaseries/ev1_LSS_.nii.gz'],\n",
       "   'Word': ['s_02021/run4_AllOnsetsTimeCorr.feat/betaseries/ev3_LSS_.nii.gz']}},\n",
       " 's_02022': {'run1': {'Neg': ['s_02022/run1_AllOnsetsTimeCorr.feat/betaseries/ev2_LSS_.nii.gz'],\n",
       "   'Pos': ['s_02022/run1_AllOnsetsTimeCorr.feat/betaseries/ev1_LSS_.nii.gz'],\n",
       "   'Word': ['s_02022/run1_AllOnsetsTimeCorr.feat/betaseries/ev3_LSS_.nii.gz']},\n",
       "  'run2': {'Neg': ['s_02022/run2_AllOnsetsTimeCorr.feat/betaseries/ev2_LSS_.nii.gz'],\n",
       "   'Pos': ['s_02022/run2_AllOnsetsTimeCorr.feat/betaseries/ev1_LSS_.nii.gz'],\n",
       "   'Word': ['s_02022/run2_AllOnsetsTimeCorr.feat/betaseries/ev3_LSS_.nii.gz']},\n",
       "  'run3': {'Neg': ['s_02022/run3_AllOnsetsTimeCorr.feat/betaseries/ev2_LSS_.nii.gz'],\n",
       "   'Pos': ['s_02022/run3_AllOnsetsTimeCorr.feat/betaseries/ev1_LSS_.nii.gz'],\n",
       "   'Word': ['s_02022/run3_AllOnsetsTimeCorr.feat/betaseries/ev3_LSS_.nii.gz']},\n",
       "  'run4': {'Neg': ['s_02022/run4_AllOnsetsTimeCorr.feat/betaseries/ev2_LSS_.nii.gz'],\n",
       "   'Pos': ['s_02022/run4_AllOnsetsTimeCorr.feat/betaseries/ev1_LSS_.nii.gz'],\n",
       "   'Word': ['s_02022/run4_AllOnsetsTimeCorr.feat/betaseries/ev3_LSS_.nii.gz']}},\n",
       " 's_02023': {'run1': {'Neg': ['s_02023/run1_AllOnsetsTimeCorr.feat/betaseries/ev2_LSS_.nii.gz'],\n",
       "   'Pos': ['s_02023/run1_AllOnsetsTimeCorr.feat/betaseries/ev1_LSS_.nii.gz'],\n",
       "   'Word': ['s_02023/run1_AllOnsetsTimeCorr.feat/betaseries/ev3_LSS_.nii.gz']},\n",
       "  'run2': {'Neg': ['s_02023/run2_AllOnsetsTimeCorr.feat/betaseries/ev2_LSS_.nii.gz'],\n",
       "   'Pos': ['s_02023/run2_AllOnsetsTimeCorr.feat/betaseries/ev1_LSS_.nii.gz'],\n",
       "   'Word': ['s_02023/run2_AllOnsetsTimeCorr.feat/betaseries/ev3_LSS_.nii.gz']},\n",
       "  'run3': {'Neg': ['s_02023/run3_AllOnsetsTimeCorr.feat/betaseries/ev2_LSS_.nii.gz'],\n",
       "   'Pos': ['s_02023/run3_AllOnsetsTimeCorr.feat/betaseries/ev1_LSS_.nii.gz'],\n",
       "   'Word': ['s_02023/run3_AllOnsetsTimeCorr.feat/betaseries/ev3_LSS_.nii.gz']},\n",
       "  'run4': {'Neg': ['s_02023/run4_AllOnsetsTimeCorr.feat/betaseries/ev2_LSS_.nii.gz'],\n",
       "   'Pos': ['s_02023/run4_AllOnsetsTimeCorr.feat/betaseries/ev1_LSS_.nii.gz'],\n",
       "   'Word': ['s_02023/run4_AllOnsetsTimeCorr.feat/betaseries/ev3_LSS_.nii.gz']}},\n",
       " 's_02024': {'run1': {'Neg': ['s_02024/run1_AllOnsetsTimeCorr.feat/betaseries/ev2_LSS_.nii.gz'],\n",
       "   'Pos': ['s_02024/run1_AllOnsetsTimeCorr.feat/betaseries/ev1_LSS_.nii.gz'],\n",
       "   'Word': ['s_02024/run1_AllOnsetsTimeCorr.feat/betaseries/ev3_LSS_.nii.gz']},\n",
       "  'run2': {'Neg': ['s_02024/run2_AllOnsetsTimeCorr.feat/betaseries/ev2_LSS_.nii.gz'],\n",
       "   'Pos': ['s_02024/run2_AllOnsetsTimeCorr.feat/betaseries/ev1_LSS_.nii.gz'],\n",
       "   'Word': ['s_02024/run2_AllOnsetsTimeCorr.feat/betaseries/ev3_LSS_.nii.gz']},\n",
       "  'run3': {'Neg': ['s_02024/run3_AllOnsetsTimeCorr.feat/betaseries/ev2_LSS_.nii.gz'],\n",
       "   'Pos': ['s_02024/run3_AllOnsetsTimeCorr.feat/betaseries/ev1_LSS_.nii.gz'],\n",
       "   'Word': ['s_02024/run3_AllOnsetsTimeCorr.feat/betaseries/ev3_LSS_.nii.gz']},\n",
       "  'run4': {'Neg': ['s_02024/run4_AllOnsetsTimeCorr.feat/betaseries/ev2_LSS_.nii.gz'],\n",
       "   'Pos': ['s_02024/run4_AllOnsetsTimeCorr.feat/betaseries/ev1_LSS_.nii.gz'],\n",
       "   'Word': ['s_02024/run4_AllOnsetsTimeCorr.feat/betaseries/ev3_LSS_.nii.gz']}},\n",
       " 's_02027': {'run1': {'Neg': ['s_02027/run1_AllOnsetsTimeCorr.feat/betaseries/ev2_LSS_.nii.gz'],\n",
       "   'Pos': ['s_02027/run1_AllOnsetsTimeCorr.feat/betaseries/ev1_LSS_.nii.gz'],\n",
       "   'Word': ['s_02027/run1_AllOnsetsTimeCorr.feat/betaseries/ev3_LSS_.nii.gz']},\n",
       "  'run2': {'Neg': ['s_02027/run2_AllOnsetsTimeCorr.feat/betaseries/ev2_LSS_.nii.gz'],\n",
       "   'Pos': ['s_02027/run2_AllOnsetsTimeCorr.feat/betaseries/ev1_LSS_.nii.gz'],\n",
       "   'Word': ['s_02027/run2_AllOnsetsTimeCorr.feat/betaseries/ev3_LSS_.nii.gz']},\n",
       "  'run3': {'Neg': ['s_02027/run3_AllOnsetsTimeCorr.feat/betaseries/ev2_LSS_.nii.gz'],\n",
       "   'Pos': ['s_02027/run3_AllOnsetsTimeCorr.feat/betaseries/ev1_LSS_.nii.gz'],\n",
       "   'Word': ['s_02027/run3_AllOnsetsTimeCorr.feat/betaseries/ev3_LSS_.nii.gz']},\n",
       "  'run4': {'Neg': ['s_02027/run4_AllOnsetsTimeCorr.feat/betaseries/ev2_LSS_.nii.gz'],\n",
       "   'Pos': ['s_02027/run4_AllOnsetsTimeCorr.feat/betaseries/ev1_LSS_.nii.gz'],\n",
       "   'Word': ['s_02027/run4_AllOnsetsTimeCorr.feat/betaseries/ev3_LSS_.nii.gz']}}}"
      ]
     },
     "execution_count": 150,
     "metadata": {},
     "output_type": "execute_result"
    }
   ],
   "source": [
    "dict_files"
   ]
  },
  {
   "cell_type": "code",
   "execution_count": 151,
   "metadata": {
    "collapsed": false
   },
   "outputs": [
    {
     "data": {
      "text/plain": [
       "['0.03',\n",
       " '0.07',\n",
       " '0.11',\n",
       " '0.21',\n",
       " '0.28',\n",
       " '0.33',\n",
       " '0.36',\n",
       " '0.45',\n",
       " '0.57',\n",
       " '0.6',\n",
       " '0.65',\n",
       " '0.74',\n",
       " '0.77',\n",
       " '0.85',\n",
       " '0.9',\n",
       " '0.98']"
      ]
     },
     "execution_count": 151,
     "metadata": {},
     "output_type": "execute_result"
    }
   ],
   "source": [
    "values = [str(x) for x in values]\n",
    "values"
   ]
  },
  {
   "cell_type": "code",
   "execution_count": 152,
   "metadata": {
    "collapsed": false
   },
   "outputs": [
    {
     "name": "stdout",
     "output_type": "stream",
     "text": [
      "0\n",
      "0.03\n",
      "0.07\n",
      "0.11\n",
      "0.21\n",
      "0.28\n",
      "0.33\n",
      "0.36\n",
      "0.45\n",
      "0.57\n",
      "0.6\n",
      "0.65\n",
      "0.74\n",
      "0.77\n",
      "0.85\n",
      "0.9\n",
      "0.98\n",
      "1\n",
      "0.03\n",
      "0.07\n",
      "0.11\n",
      "0.21\n",
      "0.28\n",
      "0.33\n",
      "0.36\n",
      "0.45\n",
      "0.57\n",
      "0.6\n",
      "0.65\n",
      "0.74\n",
      "0.77\n",
      "0.85\n",
      "0.9\n",
      "0.98\n",
      "2\n",
      "0.03\n",
      "0.07\n",
      "0.11\n",
      "0.21\n",
      "0.28\n",
      "0.33\n",
      "0.36\n",
      "0.45\n",
      "0.57\n",
      "0.6\n",
      "0.65\n",
      "0.74\n",
      "0.77\n",
      "0.85\n",
      "0.9\n",
      "0.98\n",
      "3\n",
      "0.03\n",
      "0.07\n",
      "0.11\n",
      "0.21\n",
      "0.28\n",
      "0.33\n",
      "0.36\n",
      "0.45\n"
     ]
    },
    {
     "ename": "IndexError",
     "evalue": "list index out of range",
     "output_type": "error",
     "traceback": [
      "\u001b[0;31m---------------------------------------------------------------------------\u001b[0m",
      "\u001b[0;31mIndexError\u001b[0m                                Traceback (most recent call last)",
      "\u001b[0;32m<ipython-input-152-83993890c40d>\u001b[0m in \u001b[0;36m<module>\u001b[0;34m()\u001b[0m\n\u001b[1;32m      7\u001b[0m             \u001b[0;32mfor\u001b[0m \u001b[0mnumber\u001b[0m \u001b[0;32min\u001b[0m \u001b[0mvalues\u001b[0m\u001b[0;34m:\u001b[0m\u001b[0;34m\u001b[0m\u001b[0m\n\u001b[1;32m      8\u001b[0m                 \u001b[0;32mprint\u001b[0m \u001b[0mnumber\u001b[0m\u001b[0;34m\u001b[0m\u001b[0m\n\u001b[0;32m----> 9\u001b[0;31m                 \u001b[0mtmp_list\u001b[0m\u001b[0;34m.\u001b[0m\u001b[0mappend\u001b[0m\u001b[0;34m(\u001b[0m\u001b[0mbig_index_dict\u001b[0m\u001b[0;34m[\u001b[0m\u001b[0ms\u001b[0m\u001b[0;34m]\u001b[0m\u001b[0;34m[\u001b[0m\u001b[0mtask\u001b[0m\u001b[0;34m]\u001b[0m\u001b[0;34m[\u001b[0m\u001b[0mnumber\u001b[0m\u001b[0;34m]\u001b[0m\u001b[0;34m[\u001b[0m\u001b[0mr\u001b[0m\u001b[0;34m]\u001b[0m\u001b[0;34m)\u001b[0m\u001b[0;34m\u001b[0m\u001b[0m\n\u001b[0m\u001b[1;32m     10\u001b[0m             \u001b[0mbig_index_dict\u001b[0m\u001b[0;34m[\u001b[0m\u001b[0ms\u001b[0m\u001b[0;34m]\u001b[0m\u001b[0;34m[\u001b[0m\u001b[0mtask\u001b[0m\u001b[0;34m]\u001b[0m\u001b[0;34m[\u001b[0m\u001b[0mruns\u001b[0m\u001b[0;34m[\u001b[0m\u001b[0mr\u001b[0m\u001b[0;34m]\u001b[0m\u001b[0;34m]\u001b[0m \u001b[0;34m=\u001b[0m \u001b[0mtmp_list\u001b[0m\u001b[0;34m\u001b[0m\u001b[0m\n",
      "\u001b[0;31mIndexError\u001b[0m: list index out of range"
     ]
    }
   ],
   "source": [
    "runs = ['run1','run2','run3','run4']\n",
    "for s in big_index_dict.keys():\n",
    "    for task in big_index_dict[s].keys():\n",
    "        for r in range(0,len(runs)):\n",
    "            print r\n",
    "            tmp_list = []\n",
    "            for number in values:\n",
    "                print number\n",
    "                tmp_list.append(big_index_dict[s][task][number][r])\n",
    "            big_index_dict[s][task][runs[r]] = tmp_list"
   ]
  },
  {
   "cell_type": "code",
   "execution_count": 162,
   "metadata": {
    "collapsed": false
   },
   "outputs": [
    {
     "data": {
      "text/plain": [
       "[11, 9, 9]"
      ]
     },
     "execution_count": 162,
     "metadata": {},
     "output_type": "execute_result"
    }
   ],
   "source": [
    "big_index_dict[s][task][number]"
   ]
  },
  {
   "cell_type": "code",
   "execution_count": 53,
   "metadata": {
    "collapsed": false
   },
   "outputs": [
    {
     "data": {
      "text/plain": [
       "{'Neg': {'0.03': [2, 13, 0, 6],\n",
       "  '0.07': [3, 14, 6, 8],\n",
       "  '0.11': [7, 10, 11, 12],\n",
       "  '0.21': [1, 6, 15, 9],\n",
       "  '0.28': [12, 1, 5, 15],\n",
       "  '0.33': [4, 15, 7, 2],\n",
       "  '0.36': [10, 3, 2, 10],\n",
       "  '0.45': [8, 5, 14, 5],\n",
       "  '0.57': [5, 7, 9, 3],\n",
       "  '0.6': [14, 11, 8, 1],\n",
       "  '0.65': [13, 4, 1, 7],\n",
       "  '0.74': [0, 8, 3, 13],\n",
       "  '0.77': [11, 0, 12, 14],\n",
       "  '0.85': [6, 9, 4, 0],\n",
       "  '0.9': [9, 2, 10, 4],\n",
       "  '0.98': [15, 12, 13, 11],\n",
       "  'run1': [2, 3, 7, 1, 12, 4, 10, 8, 5, 14, 13, 0, 11, 6, 9, 15],\n",
       "  'run2': [13, 14, 10, 6, 1, 15, 3, 5, 7, 11, 4, 8, 0, 9, 2, 12],\n",
       "  'run3': [0, 6, 11, 15, 5, 7, 2, 14, 9, 8, 1, 3, 12, 4, 10, 13],\n",
       "  'run4': [6, 8, 12, 9, 15, 2, 10, 5, 3, 1, 7, 13, 14, 0, 4, 11]},\n",
       " 'Pos': {'0.03': [6, 10, 13, 4],\n",
       "  '0.07': [10, 0, 12, 9],\n",
       "  '0.11': [3, 8, 10, 2],\n",
       "  '0.21': [8, 12, 5, 3],\n",
       "  '0.28': [2, 9, 9, 8],\n",
       "  '0.33': [1, 15, 8, 5],\n",
       "  '0.36': [0, 7, 11, 15],\n",
       "  '0.45': [12, 1, 2, 7],\n",
       "  '0.57': [13, 14, 14, 6],\n",
       "  '0.6': [14, 6, 15, 0],\n",
       "  '0.65': [7, 5, 0, 12],\n",
       "  '0.74': [11, 13, 1, 10],\n",
       "  '0.77': [5, 3, 7, 1],\n",
       "  '0.85': [4, 11, 4, 13],\n",
       "  '0.9': [9, 4, 3, 11],\n",
       "  '0.98': [15, 2, 6, 14],\n",
       "  'run1': [6, 10, 3, 8, 2, 1, 0, 12, 13, 14, 7, 11, 5, 4, 9, 15],\n",
       "  'run2': [10, 0, 8, 12, 9, 15, 7, 1, 14, 6, 5, 13, 3, 11, 4, 2],\n",
       "  'run3': [13, 12, 10, 5, 9, 8, 11, 2, 14, 15, 0, 1, 7, 4, 3, 6],\n",
       "  'run4': [4, 9, 2, 3, 8, 5, 15, 7, 6, 0, 12, 10, 1, 13, 11, 14]},\n",
       " 'Word': {'0.03': [14, 13, 15, 9],\n",
       "  '0.07': [4, 12, 14, 4],\n",
       "  '0.11': [9, 15, 5, 5],\n",
       "  '0.21': [11, 14, 0, 6],\n",
       "  '0.28': [7, 6, 3, 8],\n",
       "  '0.33': [0, 7, 4, 12],\n",
       "  '0.36': [1, 1, 13, 14],\n",
       "  '0.45': [8, 8, 7, 15],\n",
       "  '0.57': [15, 0, 8, 13],\n",
       "  '0.6': [6, 3, 11, 1],\n",
       "  '0.65': [13, 10, 10, 3],\n",
       "  '0.74': [10, 4, 2, 2],\n",
       "  '0.77': [12, 5, 9, 7],\n",
       "  '0.85': [2, 11, 6, 11],\n",
       "  '0.9': [3, 9, 12, 0],\n",
       "  '0.98': [5, 2, 1, 10],\n",
       "  'run1': [14, 4, 9, 11, 7, 0, 1, 8, 15, 6, 13, 10, 12, 2, 3, 5],\n",
       "  'run2': [13, 12, 15, 14, 6, 7, 1, 8, 0, 3, 10, 4, 5, 11, 9, 2],\n",
       "  'run3': [15, 14, 5, 0, 3, 4, 13, 7, 8, 11, 10, 2, 9, 6, 12, 1],\n",
       "  'run4': [9, 4, 5, 6, 8, 12, 14, 15, 13, 1, 3, 2, 7, 11, 0, 10]}}"
      ]
     },
     "execution_count": 53,
     "metadata": {},
     "output_type": "execute_result"
    }
   ],
   "source": [
    "big_index_dict['s_02003']"
   ]
  },
  {
   "cell_type": "code",
   "execution_count": 54,
   "metadata": {
    "collapsed": false
   },
   "outputs": [],
   "source": [
    "example_img = image.index_img(dict_files['s_02003']['run1']['Pos'][0], 1)\n",
    "example_img2 = image.index_img(dict_files['s_02003']['run1']['Pos'][0], 2)"
   ]
  },
  {
   "cell_type": "code",
   "execution_count": 55,
   "metadata": {
    "collapsed": false
   },
   "outputs": [
    {
     "data": {
      "text/plain": [
       "<nilearn.plotting.displays.OrthoProjector at 0x11338aa50>"
      ]
     },
     "execution_count": 55,
     "metadata": {},
     "output_type": "execute_result"
    },
    {
     "data": {
      "image/png": "[encoded data removed]",
      "text/plain": [
       "<matplotlib.figure.Figure at 0x112f6fc10>"
      ]
     },
     "metadata": {},
     "output_type": "display_data"
    }
   ],
   "source": [
    "from nilearn import plotting\n",
    "import matplotlib.pyplot as plt\n",
    "%matplotlib inline \n",
    "plotting.plot_glass_brain(example_img)"
   ]
  },
  {
   "cell_type": "code",
   "execution_count": 56,
   "metadata": {
    "collapsed": false
   },
   "outputs": [
    {
     "data": {
      "text/plain": [
       "(110, 110, 62)"
      ]
     },
     "execution_count": 56,
     "metadata": {},
     "output_type": "execute_result"
    }
   ],
   "source": [
    "example_img.shape"
   ]
  },
  {
   "cell_type": "code",
   "execution_count": 59,
   "metadata": {
    "collapsed": false
   },
   "outputs": [],
   "source": [
    "def sort_run(s,task,r):\n",
    "    tmp_img = nibabel.load(dict_files[s][r][task][0])\n",
    "    tmp_data = tmp_img.get_data()\n",
    "    myorder = big_index_dict[s][task][r]\n",
    "    img_shape = tmp_img.shape\n",
    "    print 'img_shape', img_shape\n",
    "    cor_img_shape = [img_shape[0],img_shape[1],img_shape[2],len(myorder)]\n",
    "    print 'cor_img_shape', cor_img_shape\n",
    "    zero_img = np.zeros(cor_img_shape)\n",
    "    for x in range(0,len(myorder)):\n",
    "        zero_img[:,:,:,x] = tmp_data[:,:,:,myorder[x]]\n",
    "    nii = nibabel.Nifti1Image(zero_img,header=tmp_img.get_header(),affine=tmp_img.get_affine())\n",
    "    out_path = s+'/'+r+'_AllOnsetsTimeCorr.feat/betaseries/'\n",
    "    out_name = s+'_'+r+'_'+task+'_sorted.nii.gz'\n",
    "    out_pathname = out_path + out_name\n",
    "    nibabel.save(nii,out_pathname)"
   ]
  },
  {
   "cell_type": "code",
   "execution_count": 60,
   "metadata": {
    "collapsed": false
   },
   "outputs": [
    {
     "name": "stdout",
     "output_type": "stream",
     "text": [
      "img_shape (110, 110, 62, 16)\n",
      "cor_img_shape [110, 110, 62, 16]\n"
     ]
    }
   ],
   "source": [
    "sort_run('s_02003','Neg','run1')"
   ]
  },
  {
   "cell_type": "code",
   "execution_count": 61,
   "metadata": {
    "collapsed": false
   },
   "outputs": [
    {
     "name": "stdout",
     "output_type": "stream",
     "text": [
      "s_02018\n",
      "run1\n",
      "img_shape (110, 110, 62, 16)\n",
      "cor_img_shape [110, 110, 62, 16]\n",
      "run2\n",
      "img_shape (110, 110, 62, 16)\n",
      "cor_img_shape [110, 110, 62, 16]\n",
      "run3\n",
      "img_shape (110, 110, 62, 16)\n",
      "cor_img_shape [110, 110, 62, 16]\n",
      "run4\n",
      "img_shape (110, 110, 62, 16)\n",
      "cor_img_shape [110, 110, 62, 16]\n",
      "run1\n",
      "img_shape (110, 110, 62, 15)\n",
      "cor_img_shape [110, 110, 62, 16]\n"
     ]
    },
    {
     "ename": "IndexError",
     "evalue": "index 15 is out of bounds for axis 3 with size 15",
     "output_type": "error",
     "traceback": [
      "\u001b[0;31m---------------------------------------------------------------------------\u001b[0m",
      "\u001b[0;31mIndexError\u001b[0m                                Traceback (most recent call last)",
      "\u001b[0;32m<ipython-input-61-86958f0d8bec>\u001b[0m in \u001b[0;36m<module>\u001b[0;34m()\u001b[0m\n\u001b[1;32m      5\u001b[0m         \u001b[0;32mfor\u001b[0m \u001b[0mr\u001b[0m \u001b[0;32min\u001b[0m \u001b[0mrange\u001b[0m\u001b[0;34m(\u001b[0m\u001b[0;36m0\u001b[0m\u001b[0;34m,\u001b[0m\u001b[0mlen\u001b[0m\u001b[0;34m(\u001b[0m\u001b[0mruns\u001b[0m\u001b[0;34m)\u001b[0m\u001b[0;34m)\u001b[0m\u001b[0;34m:\u001b[0m\u001b[0;34m\u001b[0m\u001b[0m\n\u001b[1;32m      6\u001b[0m             \u001b[0;32mprint\u001b[0m \u001b[0mruns\u001b[0m\u001b[0;34m[\u001b[0m\u001b[0mr\u001b[0m\u001b[0;34m]\u001b[0m\u001b[0;34m\u001b[0m\u001b[0m\n\u001b[0;32m----> 7\u001b[0;31m             \u001b[0msort_run\u001b[0m\u001b[0;34m(\u001b[0m\u001b[0ms\u001b[0m\u001b[0;34m,\u001b[0m\u001b[0mtask\u001b[0m\u001b[0;34m,\u001b[0m\u001b[0mruns\u001b[0m\u001b[0;34m[\u001b[0m\u001b[0mr\u001b[0m\u001b[0;34m]\u001b[0m\u001b[0;34m)\u001b[0m\u001b[0;34m\u001b[0m\u001b[0m\n\u001b[0m",
      "\u001b[0;32m<ipython-input-59-9d94f27a06d9>\u001b[0m in \u001b[0;36msort_run\u001b[0;34m(s, task, r)\u001b[0m\n\u001b[1;32m      9\u001b[0m     \u001b[0mzero_img\u001b[0m \u001b[0;34m=\u001b[0m \u001b[0mnp\u001b[0m\u001b[0;34m.\u001b[0m\u001b[0mzeros\u001b[0m\u001b[0;34m(\u001b[0m\u001b[0mcor_img_shape\u001b[0m\u001b[0;34m)\u001b[0m\u001b[0;34m\u001b[0m\u001b[0m\n\u001b[1;32m     10\u001b[0m     \u001b[0;32mfor\u001b[0m \u001b[0mx\u001b[0m \u001b[0;32min\u001b[0m \u001b[0mrange\u001b[0m\u001b[0;34m(\u001b[0m\u001b[0;36m0\u001b[0m\u001b[0;34m,\u001b[0m\u001b[0mlen\u001b[0m\u001b[0;34m(\u001b[0m\u001b[0mmyorder\u001b[0m\u001b[0;34m)\u001b[0m\u001b[0;34m)\u001b[0m\u001b[0;34m:\u001b[0m\u001b[0;34m\u001b[0m\u001b[0m\n\u001b[0;32m---> 11\u001b[0;31m         \u001b[0mzero_img\u001b[0m\u001b[0;34m[\u001b[0m\u001b[0;34m:\u001b[0m\u001b[0;34m,\u001b[0m\u001b[0;34m:\u001b[0m\u001b[0;34m,\u001b[0m\u001b[0;34m:\u001b[0m\u001b[0;34m,\u001b[0m\u001b[0mx\u001b[0m\u001b[0;34m]\u001b[0m \u001b[0;34m=\u001b[0m \u001b[0mtmp_data\u001b[0m\u001b[0;34m[\u001b[0m\u001b[0;34m:\u001b[0m\u001b[0;34m,\u001b[0m\u001b[0;34m:\u001b[0m\u001b[0;34m,\u001b[0m\u001b[0;34m:\u001b[0m\u001b[0;34m,\u001b[0m\u001b[0mmyorder\u001b[0m\u001b[0;34m[\u001b[0m\u001b[0mx\u001b[0m\u001b[0;34m]\u001b[0m\u001b[0;34m]\u001b[0m\u001b[0;34m\u001b[0m\u001b[0m\n\u001b[0m\u001b[1;32m     12\u001b[0m     \u001b[0mnii\u001b[0m \u001b[0;34m=\u001b[0m \u001b[0mnibabel\u001b[0m\u001b[0;34m.\u001b[0m\u001b[0mNifti1Image\u001b[0m\u001b[0;34m(\u001b[0m\u001b[0mzero_img\u001b[0m\u001b[0;34m,\u001b[0m\u001b[0mheader\u001b[0m\u001b[0;34m=\u001b[0m\u001b[0mtmp_img\u001b[0m\u001b[0;34m.\u001b[0m\u001b[0mget_header\u001b[0m\u001b[0;34m(\u001b[0m\u001b[0;34m)\u001b[0m\u001b[0;34m,\u001b[0m\u001b[0maffine\u001b[0m\u001b[0;34m=\u001b[0m\u001b[0mtmp_img\u001b[0m\u001b[0;34m.\u001b[0m\u001b[0mget_affine\u001b[0m\u001b[0;34m(\u001b[0m\u001b[0;34m)\u001b[0m\u001b[0;34m)\u001b[0m\u001b[0;34m\u001b[0m\u001b[0m\n\u001b[1;32m     13\u001b[0m     \u001b[0mout_path\u001b[0m \u001b[0;34m=\u001b[0m \u001b[0ms\u001b[0m\u001b[0;34m+\u001b[0m\u001b[0;34m'/'\u001b[0m\u001b[0;34m+\u001b[0m\u001b[0mr\u001b[0m\u001b[0;34m+\u001b[0m\u001b[0;34m'_AllOnsetsTimeCorr.feat/betaseries/'\u001b[0m\u001b[0;34m\u001b[0m\u001b[0m\n",
      "\u001b[0;31mIndexError\u001b[0m: index 15 is out of bounds for axis 3 with size 15"
     ]
    }
   ],
   "source": [
    "runs = ['run1','run2','run3','run4']\n",
    "for s in big_index_dict.keys():\n",
    "    print s\n",
    "    for task in big_index_dict[s].keys():\n",
    "        for r in range(0,len(runs)):\n",
    "            print runs[r]\n",
    "            sort_run(s,task,runs[r])"
   ]
  },
  {
   "cell_type": "code",
   "execution_count": 62,
   "metadata": {
    "collapsed": false
   },
   "outputs": [
    {
     "data": {
      "text/plain": [
       "'s_02018'"
      ]
     },
     "execution_count": 62,
     "metadata": {},
     "output_type": "execute_result"
    }
   ],
   "source": [
    "s"
   ]
  },
  {
   "cell_type": "code",
   "execution_count": 63,
   "metadata": {
    "collapsed": false
   },
   "outputs": [
    {
     "data": {
      "text/plain": [
       "'Word'"
      ]
     },
     "execution_count": 63,
     "metadata": {},
     "output_type": "execute_result"
    }
   ],
   "source": [
    "task"
   ]
  },
  {
   "cell_type": "code",
   "execution_count": 64,
   "metadata": {
    "collapsed": false
   },
   "outputs": [
    {
     "data": {
      "text/plain": [
       "'run4'"
      ]
     },
     "execution_count": 64,
     "metadata": {},
     "output_type": "execute_result"
    }
   ],
   "source": [
    "run"
   ]
  },
  {
   "cell_type": "code",
   "execution_count": 66,
   "metadata": {
    "collapsed": false
   },
   "outputs": [
    {
     "data": {
      "text/plain": [
       "['Neg', 'Word', 'Pos']"
      ]
     },
     "execution_count": 66,
     "metadata": {},
     "output_type": "execute_result"
    }
   ],
   "source": [
    "big_index_dict[s].keys()"
   ]
  },
  {
   "cell_type": "code",
   "execution_count": null,
   "metadata": {
    "collapsed": true
   },
   "outputs": [],
   "source": []
  },
  {
   "cell_type": "code",
   "execution_count": null,
   "metadata": {
    "collapsed": true
   },
   "outputs": [],
   "source": []
  },
  {
   "cell_type": "markdown",
   "metadata": {},
   "source": [
    "## Save Files"
   ]
  }
 ],
 "metadata": {
  "kernelspec": {
   "display_name": "Python 2",
   "language": "python",
   "name": "python2"
  },
  "language_info": {
   "codemirror_mode": {
    "name": "ipython",
    "version": 2
   },
   "file_extension": ".py",
   "mimetype": "text/x-python",
   "name": "python",
   "nbconvert_exporter": "python",
   "pygments_lexer": "ipython2",
   "version": "2.7.11"
  }
 },
 "nbformat": 4,
 "nbformat_minor": 0
}
