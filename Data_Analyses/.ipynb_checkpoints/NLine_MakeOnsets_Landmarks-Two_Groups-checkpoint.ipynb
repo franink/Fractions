{
 "cells": [
  {
   "cell_type": "markdown",
   "metadata": {},
   "source": [
    "## Not using RTs to modulate duration or decision and including Miss trials into the decision regressors. Dec = 3s, Cons = cons + minHold"
   ]
  },
  {
   "cell_type": "code",
   "execution_count": 1,
   "metadata": {
    "collapsed": false
   },
   "outputs": [],
   "source": [
    "#Opened with --pylab flag\n",
    "#Need to create code to analyze piot data\n",
    "import pandas as pd\n",
    "import numpy as np\n",
    "from scipy import io\n",
    "import os\n",
    "import glob"
   ]
  },
  {
   "cell_type": "code",
   "execution_count": 2,
   "metadata": {
    "collapsed": false
   },
   "outputs": [],
   "source": [
    "## Laptop\n",
    "#filepath = '/Users/frankkanayet/Dropbox/NLineExperiment/PilotData'\n",
    "#filepath = '/Users/frankkanayet/Dropbox/NLineExperiment/PilotData/test3s'\n",
    "#filepath = '/Users/frankkanayet/Google Drive/NLineData/Beh_Data'\n",
    "\n",
    "## Desktop\n",
    "#filepath = '/Users/frankanayet/Dropbox/NLineExperiment/Data'\n",
    "filepath = '/Users/frankanayet/Google Drive/NLineData/Beh_Data'\n",
    "os.chdir(filepath)"
   ]
  },
  {
   "cell_type": "code",
   "execution_count": 3,
   "metadata": {
    "collapsed": false
   },
   "outputs": [
    {
     "name": "stdout",
     "output_type": "stream",
     "text": [
      "Pandas version 0.17.1\n"
     ]
    }
   ],
   "source": [
    "print 'Pandas version ' + pd.__version__"
   ]
  },
  {
   "cell_type": "code",
   "execution_count": 4,
   "metadata": {
    "collapsed": false
   },
   "outputs": [
    {
     "name": "stdout",
     "output_type": "stream",
     "text": [
      "['Nline_02001-Mar1615.mat', 'Nline_02002-Mar1915.mat', 'Nline_02003-Mar2015a.mat', 'Nline_02004-Mar2315a.mat', 'Nline_02005-Mar2315a.mat', 'Nline_02006-Mar2315a.mat', 'Nline_02007-Mar2415a.mat', 'Nline_02009-Mar2615a.mat', 'Nline_02010-Mar2615a.mat', 'Nline_02011-Mar2615a.mat', 'Nline_02012-Apr0215a.mat', 'Nline_02014-Apr0315a.mat', 'Nline_02015Apr2715a.mat', 'Nline_02016-Apr2715a.mat', 'Nline_02017-Apr2815a.mat', 'Nline_02018-Apr2815a.mat', 'Nline_02019-Apr2915a.mat', 'Nline_02020-May1815a.mat', 'Nline_02021-May2515a.mat', 'Nline_02022-May2515a.mat', 'Nline_02023-May2715a.mat', 'Nline_02024-May2815a.mat', 'Nline_02027-Jun0115a.mat']\n"
     ]
    },
    {
     "data": {
      "text/plain": [
       "['s_02009',\n",
       " 's_02003',\n",
       " 's_02002',\n",
       " 's_02001',\n",
       " 's_02007',\n",
       " 's_02006',\n",
       " 's_02005',\n",
       " 's_02004',\n",
       " 's_02018',\n",
       " 's_02019',\n",
       " 's_02010',\n",
       " 's_02011',\n",
       " 's_02012',\n",
       " 's_02014',\n",
       " 's_02015',\n",
       " 's_02016',\n",
       " 's_02017',\n",
       " 's_02024',\n",
       " 's_02027',\n",
       " 's_02021',\n",
       " 's_02020',\n",
       " 's_02023',\n",
       " 's_02022']"
      ]
     },
     "execution_count": 4,
     "metadata": {},
     "output_type": "execute_result"
    }
   ],
   "source": [
    "filenames = glob.glob('Nline_*.mat')\n",
    "print filenames\n",
    "#index to isolate subj numbers\n",
    "data_dict = {}\n",
    "for i in filenames:\n",
    "    id1 = filenames[0].find('_') + 1\n",
    "    id2 = filenames[0].find('-')\n",
    "    sub_nbr = i[id1:id2]\n",
    "    sub_name = i\n",
    "    s_id = 's_'+sub_nbr\n",
    "    data_dict[s_id] = io.loadmat(sub_name)\n",
    "\n",
    "#sub_name = filenames[0] #This will be changed to a loop for all subjects later\n",
    "#mat = io.loadmat(sub_name)\n",
    "data_dict.keys()"
   ]
  },
  {
   "cell_type": "code",
   "execution_count": 5,
   "metadata": {
    "collapsed": false
   },
   "outputs": [],
   "source": [
    "sub_ex = data_dict.keys()[0]"
   ]
  },
  {
   "cell_type": "code",
   "execution_count": 6,
   "metadata": {
    "collapsed": false
   },
   "outputs": [],
   "source": [
    "#data_dict['s_00011']['p']"
   ]
  },
  {
   "cell_type": "code",
   "execution_count": 7,
   "metadata": {
    "collapsed": false
   },
   "outputs": [],
   "source": [
    "#for i in data_dict:\n",
    "#    data_dict[i].pop('__header__')\n",
    "#    data_dict[i].pop('__version__')\n",
    "#    data_dict[i].pop('__globals__')\n",
    "#data_dict['s_00011'].keys()"
   ]
  },
  {
   "cell_type": "code",
   "execution_count": 8,
   "metadata": {
    "collapsed": false
   },
   "outputs": [
    {
     "data": {
      "text/plain": [
       "49"
      ]
     },
     "execution_count": 8,
     "metadata": {},
     "output_type": "execute_result"
    }
   ],
   "source": [
    "## The indexes of zeros are as follows [0][0][x][y][z][0] The x y z are the 3 dimensions of the data 3d matrix the zeros are padding\n",
    "data_dict[sub_ex]['p']['NlineResults'][0][0][0][5][0][0]\n",
    "len(data_dict[sub_ex]['p']['NlineResults'][0][0][:])"
   ]
  },
  {
   "cell_type": "code",
   "execution_count": 9,
   "metadata": {
    "collapsed": false
   },
   "outputs": [
    {
     "data": {
      "text/plain": [
       "('ramp_up',\n",
       " 'Mean_ITI',\n",
       " 'Mean_hold',\n",
       " 'decision',\n",
       " 'consider',\n",
       " 'runs',\n",
       " 'nStim',\n",
       " 'ntasks',\n",
       " 'tasks',\n",
       " 'trialSecs',\n",
       " 'lineLength',\n",
       " 'speed',\n",
       " 'run_order',\n",
       " 'NlineResults',\n",
       " 'time_Runs',\n",
       " 'task_transition',\n",
       " 'start_Nline',\n",
       " 'finish_Nline')"
      ]
     },
     "execution_count": 9,
     "metadata": {},
     "output_type": "execute_result"
    }
   ],
   "source": [
    "data_dict[sub_ex]['p'].dtype.names"
   ]
  },
  {
   "cell_type": "code",
   "execution_count": 10,
   "metadata": {
    "collapsed": false
   },
   "outputs": [],
   "source": [
    "cons_time = data_dict[sub_ex]['p']['consider'][0][0][0][0]\n",
    "dec_time = data_dict[sub_ex]['p']['decision'][0][0][0][0]"
   ]
  },
  {
   "cell_type": "code",
   "execution_count": 11,
   "metadata": {
    "collapsed": false
   },
   "outputs": [],
   "source": [
    "new_dat = {}\n",
    "#new_df = {}\n",
    "for s in data_dict:\n",
    "    tasks = ['NlineResults']\n",
    "    new_dat[s]={}\n",
    "    #new_df[s] = {}\n",
    "    for task in tasks:\n",
    "        dat = data_dict[s]['p'][task]\n",
    "        num_fields = len(data_dict[s]['p'][task][0][0][0])\n",
    "        dat_names = []\n",
    "        for k in range(0,num_fields):\n",
    "            dat_names.append(dat[0][0][0][k][0][0])\n",
    "        new_dat[s][task] = {}\n",
    "        runs = data_dict[s]['p']['runs'][0][0][0][0]\n",
    "        for run in range(0,runs):\n",
    "            run_name = 'run'+str(run+1)\n",
    "            new_dat[s][task][run_name] = {}\n",
    "            for i in range(0,len(dat_names)):\n",
    "                new_dat[s][task][run_name][dat_names[i]] = []\n",
    "                for j in range(0,len(dat[0][0][:])-1):\n",
    "                    if dat_names[i] == 'catch_probe':\n",
    "                        new_dat[s][task][run_name][dat_names[i]].append(dat[0][0][j+1][i][run])\n",
    "                    elif dat_names[i] == 'Probe':\n",
    "                        new_dat[s][task][run_name][dat_names[i]].append(dat[0][0][j+1][i][run][0])\n",
    "                    else:\n",
    "                        new_dat[s][task][run_name][dat_names[i]].append(dat[0][0][j+1][i][run][0][0])\n",
    "#legible access to the data\n",
    "Nline = 'NlineResults' #numberline"
   ]
  },
  {
   "cell_type": "code",
   "execution_count": 12,
   "metadata": {
    "collapsed": false
   },
   "outputs": [
    {
     "data": {
      "text/plain": [
       "[u'Slow',\n",
       " u'Line_pct',\n",
       " u'iti',\n",
       " u'TestX',\n",
       " u'ITI_onset_real',\n",
       " u'consider_onset_real',\n",
       " u'ITI_onset',\n",
       " u'RT',\n",
       " u'hold',\n",
       " u'decision_end',\n",
       " u'decision_onset_real',\n",
       " u'RTHold',\n",
       " u'decision_end_real',\n",
       " u'Correct',\n",
       " u'Wrong',\n",
       " u'BadPress',\n",
       " u'consider_onset',\n",
       " u'Response',\n",
       " u'Task',\n",
       " u'Trial',\n",
       " u'Points',\n",
       " u'Error',\n",
       " u'catch',\n",
       " u'mouse_pos',\n",
       " u'Block',\n",
       " u'catch_probe',\n",
       " u'Probe',\n",
       " u'hold_onset',\n",
       " u'Move',\n",
       " u'decision_onset',\n",
       " u'hold_onset_real',\n",
       " u'Click']"
      ]
     },
     "execution_count": 12,
     "metadata": {},
     "output_type": "execute_result"
    }
   ],
   "source": [
    "new_dat[sub_ex]['NlineResults']['run1'].keys()"
   ]
  },
  {
   "cell_type": "code",
   "execution_count": 13,
   "metadata": {
    "collapsed": false
   },
   "outputs": [
    {
     "data": {
      "text/plain": [
       "[array([57], dtype=uint8),\n",
       " array([77], dtype=uint8),\n",
       " array([3], dtype=uint8),\n",
       " array([21], dtype=uint8),\n",
       " array([60], dtype=uint8),\n",
       " array([28], dtype=uint8),\n",
       " array([85], dtype=uint8),\n",
       " array([74], dtype=uint8),\n",
       " array([33], dtype=uint8),\n",
       " array([7], dtype=uint8),\n",
       " array([90], dtype=uint8),\n",
       " array([36], dtype=uint8),\n",
       " array([11], dtype=uint8),\n",
       " array([45], dtype=uint8),\n",
       " array([98], dtype=uint8),\n",
       " array([65], dtype=uint8),\n",
       " array([70], dtype=uint8),\n",
       " array([14], dtype=uint8),\n",
       " array([80], dtype=uint8),\n",
       " array([20], dtype=uint8),\n",
       " array([-58], dtype=int16),\n",
       " array([-94], dtype=int16),\n",
       " array([-86], dtype=int16),\n",
       " array([54], dtype=uint8),\n",
       " array([-44], dtype=int16),\n",
       " array([-78], dtype=int16),\n",
       " array([-10], dtype=int16),\n",
       " array([48], dtype=uint8),\n",
       " array([30], dtype=uint8),\n",
       " array([-28], dtype=int16),\n",
       " array([96], dtype=uint8),\n",
       " array([-34], dtype=int16),\n",
       " u'of',\n",
       " u'is',\n",
       " u'be',\n",
       " u'me',\n",
       " u'it',\n",
       " u'as',\n",
       " u'my',\n",
       " u'so',\n",
       " u'we',\n",
       " u'or',\n",
       " u'ox',\n",
       " u'by',\n",
       " u'am',\n",
       " u'he',\n",
       " u'do',\n",
       " u'if']"
      ]
     },
     "execution_count": 13,
     "metadata": {},
     "output_type": "execute_result"
    }
   ],
   "source": [
    "new_dat[sub_ex]['NlineResults']['run1']['Probe']"
   ]
  },
  {
   "cell_type": "code",
   "execution_count": 14,
   "metadata": {
    "collapsed": false
   },
   "outputs": [
    {
     "data": {
      "text/plain": [
       "['run1', 'run3', 'run2', 'run4']"
      ]
     },
     "execution_count": 14,
     "metadata": {},
     "output_type": "execute_result"
    }
   ],
   "source": [
    "new_dat[sub_ex]['NlineResults'].keys()"
   ]
  },
  {
   "cell_type": "code",
   "execution_count": 15,
   "metadata": {
    "collapsed": false
   },
   "outputs": [
    {
     "data": {
      "text/plain": [
       "[array([], shape=(0, 0), dtype=uint8),\n",
       " array([], shape=(0, 0), dtype=uint8),\n",
       " array([], shape=(0, 0), dtype=uint8),\n",
       " array([], shape=(0, 0), dtype=uint8),\n",
       " array([], shape=(0, 0), dtype=uint8),\n",
       " array([], shape=(0, 0), dtype=uint8),\n",
       " array([], shape=(0, 0), dtype=uint8),\n",
       " array([], shape=(0, 0), dtype=uint8),\n",
       " array([], shape=(0, 0), dtype=uint8),\n",
       " array([], shape=(0, 0), dtype=uint8),\n",
       " array([], shape=(0, 0), dtype=uint8),\n",
       " array([], shape=(0, 0), dtype=uint8),\n",
       " array([], shape=(0, 0), dtype=uint8),\n",
       " array([], shape=(0, 0), dtype=uint8),\n",
       " array([], shape=(0, 0), dtype=uint8),\n",
       " array([], shape=(0, 0), dtype=uint8),\n",
       " array([], shape=(0, 0), dtype=uint8),\n",
       " array([], shape=(0, 0), dtype=uint8),\n",
       " array([], shape=(0, 0), dtype=uint8),\n",
       " array([], shape=(0, 0), dtype=uint8),\n",
       " array([], shape=(0, 0), dtype=uint8),\n",
       " array([], shape=(0, 0), dtype=uint8),\n",
       " array([], shape=(0, 0), dtype=uint8),\n",
       " array([], shape=(0, 0), dtype=uint8),\n",
       " array([], shape=(0, 0), dtype=uint8),\n",
       " array([], shape=(0, 0), dtype=uint8),\n",
       " array([], shape=(0, 0), dtype=uint8),\n",
       " array([], shape=(0, 0), dtype=uint8),\n",
       " array([], shape=(0, 0), dtype=uint8),\n",
       " array([], shape=(0, 0), dtype=uint8),\n",
       " array([], shape=(0, 0), dtype=uint8),\n",
       " array([], shape=(0, 0), dtype=uint8),\n",
       " array([u'of'], \n",
       "       dtype='<U2'),\n",
       " array([u'is'], \n",
       "       dtype='<U2'),\n",
       " array([u'be'], \n",
       "       dtype='<U2'),\n",
       " array([u'it'], \n",
       "       dtype='<U2'),\n",
       " array([u'ox'], \n",
       "       dtype='<U2'),\n",
       " array([u'ox'], \n",
       "       dtype='<U2'),\n",
       " array([u'my'], \n",
       "       dtype='<U2'),\n",
       " array([u'so'], \n",
       "       dtype='<U2'),\n",
       " array([u'we'], \n",
       "       dtype='<U2'),\n",
       " array([u'or'], \n",
       "       dtype='<U2'),\n",
       " array([u'ox'], \n",
       "       dtype='<U2'),\n",
       " array([u'by'], \n",
       "       dtype='<U2'),\n",
       " array([u'am'], \n",
       "       dtype='<U2'),\n",
       " array([u'he'], \n",
       "       dtype='<U2'),\n",
       " array([u'do'], \n",
       "       dtype='<U2'),\n",
       " array([u'so'], \n",
       "       dtype='<U2')]"
      ]
     },
     "execution_count": 15,
     "metadata": {},
     "output_type": "execute_result"
    }
   ],
   "source": [
    "new_dat[sub_ex]['NlineResults']['run1']['catch_probe']"
   ]
  },
  {
   "cell_type": "code",
   "execution_count": 16,
   "metadata": {
    "collapsed": false
   },
   "outputs": [],
   "source": [
    "subj = data_dict.keys()\n",
    "tasks = [Nline]\n",
    "tuples = []\n",
    "rows = len(data_dict[sub_ex]['p'][Nline][0][0][:])-1\n",
    "for s in subj:\n",
    "    runs = new_dat[s]['NlineResults'].keys()\n",
    "    for run in runs:\n",
    "        for i in range(0,rows):\n",
    "            tuples.append((s, run, i))\n",
    "len(tuples)\n",
    "#iterables = [subj,tasks,runs]\n",
    "indexes = pd.MultiIndex.from_tuples(tuples, names=['Subj', 'Run', 'Trial'])\n",
    "nline_cols = len(new_dat[sub_ex][Nline]['run1'].keys())"
   ]
  },
  {
   "cell_type": "code",
   "execution_count": 17,
   "metadata": {
    "collapsed": false
   },
   "outputs": [
    {
     "data": {
      "text/plain": [
       "('s_02007', 'run1', 14)"
      ]
     },
     "execution_count": 17,
     "metadata": {},
     "output_type": "execute_result"
    }
   ],
   "source": [
    "indexes[590]"
   ]
  },
  {
   "cell_type": "code",
   "execution_count": 18,
   "metadata": {
    "collapsed": false
   },
   "outputs": [
    {
     "data": {
      "text/plain": [
       "'run1'"
      ]
     },
     "execution_count": 18,
     "metadata": {},
     "output_type": "execute_result"
    }
   ],
   "source": [
    "indexes[1][1]"
   ]
  },
  {
   "cell_type": "code",
   "execution_count": 19,
   "metadata": {
    "collapsed": false
   },
   "outputs": [
    {
     "data": {
      "text/plain": [
       "u'Block'"
      ]
     },
     "execution_count": 19,
     "metadata": {},
     "output_type": "execute_result"
    }
   ],
   "source": [
    "varnames = new_dat[sub_ex][Nline]['run1'].keys()\n",
    "varnames[24]"
   ]
  },
  {
   "cell_type": "code",
   "execution_count": 20,
   "metadata": {
    "collapsed": false
   },
   "outputs": [
    {
     "data": {
      "text/plain": [
       "4224"
      ]
     },
     "execution_count": 20,
     "metadata": {},
     "output_type": "execute_result"
    }
   ],
   "source": [
    "len(indexes)"
   ]
  },
  {
   "cell_type": "code",
   "execution_count": 21,
   "metadata": {
    "collapsed": false
   },
   "outputs": [],
   "source": [
    "# Code empty cells of probes and catch_probes as Nan\n",
    "Dic_list = []\n",
    "probes = ['catch_probe']\n",
    "for data in indexes:\n",
    "    temp_dict = {}\n",
    "    for var in varnames:\n",
    "        if var == probes[0]:\n",
    "            if len(new_dat.get(data[0]).get(Nline).get(data[1]).get(var)[data[2]]) == 0:\n",
    "                new_dat.get(data[0]).get(Nline).get(data[1]).get(var)[data[2]] = np.array([np.nan])\n",
    "            temp_dict[var] = new_dat.get(data[0]).get(Nline).get(data[1]).get(var)[data[2]][0]\n",
    "        else:\n",
    "            temp_dict[var] = new_dat.get(data[0]).get(Nline).get(data[1]).get(var)[data[2]]\n",
    "    Dic_list.append(temp_dict)"
   ]
  },
  {
   "cell_type": "code",
   "execution_count": 22,
   "metadata": {
    "collapsed": false
   },
   "outputs": [
    {
     "data": {
      "text/plain": [
       "12"
      ]
     },
     "execution_count": 22,
     "metadata": {},
     "output_type": "execute_result"
    }
   ],
   "source": [
    "#Create dataframe\n",
    "nline_df = pd.DataFrame(Dic_list, index=indexes)\n",
    "sum(nline_df.loc[sub_ex].loc['run1'].iloc[0:48]['catch'])"
   ]
  },
  {
   "cell_type": "code",
   "execution_count": 23,
   "metadata": {
    "collapsed": false
   },
   "outputs": [
    {
     "data": {
      "text/plain": [
       "Trial\n",
       "0   -0.023744\n",
       "1   -0.025507\n",
       "2    0.000000\n",
       "3    0.000000\n",
       "4   -0.027313\n",
       "5    0.001938\n",
       "6   -0.046035\n",
       "7    0.000000\n",
       "8    0.070881\n",
       "9    0.026916\n",
       "Name: Error, dtype: float64"
      ]
     },
     "execution_count": 23,
     "metadata": {},
     "output_type": "execute_result"
    }
   ],
   "source": [
    "nline_df.loc[sub_ex].loc['run1'].iloc[0:10]['Error']"
   ]
  },
  {
   "cell_type": "code",
   "execution_count": 24,
   "metadata": {
    "collapsed": false
   },
   "outputs": [
    {
     "data": {
      "text/plain": [
       "FrozenList([u'Subject', u'Run', u'Trial'])"
      ]
     },
     "execution_count": 24,
     "metadata": {},
     "output_type": "execute_result"
    }
   ],
   "source": [
    "nline_df.index.names = ['Subject', 'Run', 'Trial']\n",
    "nline_df.index.names"
   ]
  },
  {
   "cell_type": "code",
   "execution_count": 25,
   "metadata": {
    "collapsed": false
   },
   "outputs": [
    {
     "name": "stderr",
     "output_type": "stream",
     "text": [
      "/Users/frankanayet/anaconda/lib/python2.7/site-packages/ipykernel/__main__.py:3: SettingWithCopyWarning: \n",
      "A value is trying to be set on a copy of a slice from a DataFrame\n",
      "\n",
      "See the caveats in the documentation: http://pandas.pydata.org/pandas-docs/stable/indexing.html#indexing-view-versus-copy\n",
      "  app.launch_new_instance()\n",
      "/Users/frankanayet/anaconda/lib/python2.7/site-packages/ipykernel/__main__.py:4: SettingWithCopyWarning: \n",
      "A value is trying to be set on a copy of a slice from a DataFrame\n",
      "\n",
      "See the caveats in the documentation: http://pandas.pydata.org/pandas-docs/stable/indexing.html#indexing-view-versus-copy\n"
     ]
    },
    {
     "data": {
      "text/plain": [
       "Subject  Run   Trial\n",
       "s_02009  run1  0         57\n",
       "               1         77\n",
       "               2          3\n",
       "               3         21\n",
       "               4         60\n",
       "               5         28\n",
       "               6         85\n",
       "               7         74\n",
       "               8         33\n",
       "               9          7\n",
       "               10        90\n",
       "               11        36\n",
       "               12        11\n",
       "               13        45\n",
       "               14        98\n",
       "               15        65\n",
       "               16        70\n",
       "               17        14\n",
       "               18        80\n",
       "               19        20\n",
       "               20       -58\n",
       "               21       -94\n",
       "               22       -86\n",
       "               23        54\n",
       "               24       -44\n",
       "               25       -78\n",
       "               26       -10\n",
       "               27        48\n",
       "               28        30\n",
       "               29       -28\n",
       "                       ... \n",
       "s_02022  run4  18        or\n",
       "               19        my\n",
       "               20        of\n",
       "               21        we\n",
       "               22        he\n",
       "               23        am\n",
       "               24        so\n",
       "               25        by\n",
       "               26        as\n",
       "               27        do\n",
       "               28        me\n",
       "               29        is\n",
       "               30        it\n",
       "               31        ox\n",
       "               32       -86\n",
       "               33       -28\n",
       "               34        70\n",
       "               35        96\n",
       "               36       -10\n",
       "               37        80\n",
       "               38        48\n",
       "               39        54\n",
       "               40       -94\n",
       "               41       -34\n",
       "               42       -44\n",
       "               43        30\n",
       "               44        20\n",
       "               45       -78\n",
       "               46        14\n",
       "               47       -58\n",
       "Name: Probe, dtype: object"
      ]
     },
     "execution_count": 25,
     "metadata": {},
     "output_type": "execute_result"
    }
   ],
   "source": [
    "test = nline_df['Probe']\n",
    "for i in range(0,len(test)):\n",
    "    test[i] = np.ravel(test[i])\n",
    "    test[i] = test[i][0]\n",
    "nline_df['Probe'] = test\n",
    "nline_df['Probe']"
   ]
  },
  {
   "cell_type": "markdown",
   "metadata": {},
   "source": [
    "### Create Stim Labels"
   ]
  },
  {
   "cell_type": "code",
   "execution_count": 26,
   "metadata": {
    "collapsed": false
   },
   "outputs": [],
   "source": [
    "#now nline\n",
    "#nline_df['Num'] = nline_df['Num'].map('{:.0f}'.format)\n",
    "#nline_df['Denom'] = nline_df['Denom'].map('{:.0f}'.format)\n",
    "#nline_df['Stim'] = nline_df['Num']+'/'+nline_df['Denom']\n",
    "#nline_df['Stim']"
   ]
  },
  {
   "cell_type": "code",
   "execution_count": 27,
   "metadata": {
    "collapsed": false
   },
   "outputs": [
    {
     "data": {
      "text/plain": [
       "Index([u'BadPress', u'Block', u'Click', u'Correct', u'Error', u'ITI_onset',\n",
       "       u'ITI_onset_real', u'Line_pct', u'Move', u'Points', u'Probe', u'RT',\n",
       "       u'RTHold', u'Response', u'Slow', u'Task', u'TestX', u'Trial', u'Wrong',\n",
       "       u'catch', u'catch_probe', u'consider_onset', u'consider_onset_real',\n",
       "       u'decision_end', u'decision_end_real', u'decision_onset',\n",
       "       u'decision_onset_real', u'hold', u'hold_onset', u'hold_onset_real',\n",
       "       u'iti', u'mouse_pos'],\n",
       "      dtype='object')"
      ]
     },
     "execution_count": 27,
     "metadata": {},
     "output_type": "execute_result"
    }
   ],
   "source": [
    "nline_df.columns"
   ]
  },
  {
   "cell_type": "code",
   "execution_count": 28,
   "metadata": {
    "collapsed": false
   },
   "outputs": [
    {
     "name": "stderr",
     "output_type": "stream",
     "text": [
      "/Users/frankanayet/anaconda/lib/python2.7/site-packages/ipykernel/__main__.py:3: SettingWithCopyWarning: \n",
      "A value is trying to be set on a copy of a slice from a DataFrame\n",
      "\n",
      "See the caveats in the documentation: http://pandas.pydata.org/pandas-docs/stable/indexing.html#indexing-view-versus-copy\n",
      "  app.launch_new_instance()\n",
      "/Users/frankanayet/anaconda/lib/python2.7/site-packages/ipykernel/__main__.py:4: SettingWithCopyWarning: \n",
      "A value is trying to be set on a copy of a slice from a DataFrame\n",
      "\n",
      "See the caveats in the documentation: http://pandas.pydata.org/pandas-docs/stable/indexing.html#indexing-view-versus-copy\n",
      "/Users/frankanayet/anaconda/lib/python2.7/site-packages/ipykernel/__main__.py:5: SettingWithCopyWarning: \n",
      "A value is trying to be set on a copy of a slice from a DataFrame\n",
      "\n",
      "See the caveats in the documentation: http://pandas.pydata.org/pandas-docs/stable/indexing.html#indexing-view-versus-copy\n"
     ]
    },
    {
     "data": {
      "text/plain": [
       "'Neg'"
      ]
     },
     "execution_count": 28,
     "metadata": {},
     "output_type": "execute_result"
    }
   ],
   "source": [
    "#Make task as string\n",
    "nline_df['Task'] = nline_df['Task'].astype(str)\n",
    "nline_df['Task'][nline_df['Task']=='1'] = 'Pos'\n",
    "nline_df['Task'][nline_df['Task']=='2'] = 'Neg'\n",
    "nline_df['Task'][nline_df['Task']=='3'] = 'Word'\n",
    "nline_df['Task'].iloc[16]"
   ]
  },
  {
   "cell_type": "code",
   "execution_count": 29,
   "metadata": {
    "collapsed": false
   },
   "outputs": [
    {
     "data": {
      "text/plain": [
       "Subject  Run   Trial\n",
       "s_02009  run1  0        0.07\n",
       "               1        0.23\n",
       "               2        0.03\n",
       "               3        0.21\n",
       "               4        0.10\n",
       "               5        0.22\n",
       "               6        0.15\n",
       "               7        0.24\n",
       "               8        0.17\n",
       "               9        0.07\n",
       "               10       0.10\n",
       "               11       0.14\n",
       "               12       0.11\n",
       "               13       0.05\n",
       "               14       0.02\n",
       "               15       0.15\n",
       "               16       0.15\n",
       "               17       0.07\n",
       "               18       0.10\n",
       "               19       0.10\n",
       "               20       0.21\n",
       "               21       0.03\n",
       "               22       0.07\n",
       "               23       0.23\n",
       "               24       0.22\n",
       "               25       0.11\n",
       "               26       0.05\n",
       "               27       0.24\n",
       "               28       0.15\n",
       "               29       0.14\n",
       "                        ... \n",
       "s_02022  run4  18       0.15\n",
       "               19       0.03\n",
       "               20       0.07\n",
       "               21       0.05\n",
       "               22       0.24\n",
       "               23       0.15\n",
       "               24       0.02\n",
       "               25       0.21\n",
       "               26       0.17\n",
       "               27       0.07\n",
       "               28       0.14\n",
       "               29       0.23\n",
       "               30       0.10\n",
       "               31       0.22\n",
       "               32       0.07\n",
       "               33       0.14\n",
       "               34       0.15\n",
       "               35       0.02\n",
       "               36       0.05\n",
       "               37       0.10\n",
       "               38       0.24\n",
       "               39       0.23\n",
       "               40       0.03\n",
       "               41       0.17\n",
       "               42       0.22\n",
       "               43       0.15\n",
       "               44       0.10\n",
       "               45       0.11\n",
       "               46       0.07\n",
       "               47       0.21\n",
       "Name: LandmarkDist, dtype: float64"
      ]
     },
     "execution_count": 29,
     "metadata": {},
     "output_type": "execute_result"
    }
   ],
   "source": [
    "nline_df['Dist0'] = abs(nline_df['Line_pct'] - 0)\n",
    "nline_df['Dist100'] = abs(nline_df['Line_pct'] - 1)\n",
    "nline_df['Dist50'] = abs(nline_df['Line_pct'] - 0.5)\n",
    "nline_df['LandmarkDist'] = nline_df[['Dist0','Dist100','Dist50']].min(axis=1) \n",
    "nline_df['LandmarkDist']"
   ]
  },
  {
   "cell_type": "markdown",
   "metadata": {},
   "source": [
    "##Get means for demeaning"
   ]
  },
  {
   "cell_type": "code",
   "execution_count": 30,
   "metadata": {
    "collapsed": false
   },
   "outputs": [],
   "source": [
    "nline_df['LandmarkDist'] = np.round(nline_df['LandmarkDist'],2)\n",
    "uniquevals = nline_df.loc['s_02007'].loc['run1']['LandmarkDist'].unique()\n",
    "landmark_mean = uniquevals.mean()"
   ]
  },
  {
   "cell_type": "code",
   "execution_count": 31,
   "metadata": {
    "collapsed": false
   },
   "outputs": [],
   "source": [
    "nline_df['Dist50'] = np.round(nline_df['Dist50'],2)\n",
    "uniquevals50 = nline_df.loc['s_02007'].loc['run1']['Dist50'].unique()\n",
    "dist50_mean = uniquevals50.mean()"
   ]
  },
  {
   "cell_type": "code",
   "execution_count": 32,
   "metadata": {
    "collapsed": true
   },
   "outputs": [],
   "source": [
    "nline_df['Dist0'] = np.round(nline_df['Dist0'],2)\n",
    "uniquevals0 = nline_df.loc['s_02007'].loc['run1']['Dist0'].unique()\n",
    "dist0_mean = uniquevals0.mean()"
   ]
  },
  {
   "cell_type": "code",
   "execution_count": 33,
   "metadata": {
    "collapsed": false
   },
   "outputs": [
    {
     "data": {
      "text/plain": [
       "0.49375000000000002"
      ]
     },
     "execution_count": 33,
     "metadata": {},
     "output_type": "execute_result"
    }
   ],
   "source": [
    "dist0_mean"
   ]
  },
  {
   "cell_type": "markdown",
   "metadata": {},
   "source": [
    "# Create Onset Files"
   ]
  },
  {
   "cell_type": "code",
   "execution_count": 34,
   "metadata": {
    "collapsed": true
   },
   "outputs": [],
   "source": [
    "nline_df['Missed'] = 0"
   ]
  },
  {
   "cell_type": "code",
   "execution_count": 35,
   "metadata": {
    "collapsed": false
   },
   "outputs": [
    {
     "name": "stderr",
     "output_type": "stream",
     "text": [
      "/Users/frankanayet/anaconda/lib/python2.7/site-packages/ipykernel/__main__.py:1: SettingWithCopyWarning: \n",
      "A value is trying to be set on a copy of a slice from a DataFrame\n",
      "\n",
      "See the caveats in the documentation: http://pandas.pydata.org/pandas-docs/stable/indexing.html#indexing-view-versus-copy\n",
      "  if __name__ == '__main__':\n"
     ]
    }
   ],
   "source": [
    "nline_df['Missed'][(nline_df.catch < 1) & (nline_df.Error == 1)] = 1"
   ]
  },
  {
   "cell_type": "code",
   "execution_count": 36,
   "metadata": {
    "collapsed": false
   },
   "outputs": [
    {
     "name": "stdout",
     "output_type": "stream",
     "text": [
      "s_02001\n",
      "s_02002\n",
      "s_02003\n",
      "s_02004\n",
      "s_02005\n",
      "s_02006\n",
      "s_02007\n",
      "s_02009\n",
      "s_02010\n",
      "s_02011\n",
      "s_02012\n",
      "s_02014\n",
      "s_02015\n",
      "s_02016\n",
      "s_02017\n",
      "s_02018\n",
      "s_02019\n",
      "s_02020\n",
      "s_02021\n",
      "s_02022\n",
      "s_02023\n",
      "s_02024\n",
      "s_02027\n"
     ]
    }
   ],
   "source": [
    "import string\n",
    "vals = ['Sm_Land','Lg_Land']\n",
    "val_dict = {'Sm_Land':[0,0.125],'Lg_Land':[0.125,0.25]}\n",
    "tasks = nline_df.groupby('Task')\n",
    "labels = tasks.indices.keys()\n",
    "phase = ['cons', 'dec']\n",
    "dec_ctch_onset = {}\n",
    "big_dict = {}\n",
    "\n",
    "# Breaks always happen at the same time in the sequence\n",
    "break_onset = [[190, 6, 1],[388, 6, 1]]\n",
    "\n",
    "for s in nline_df.index.levels[0]:\n",
    "    print s\n",
    "    big_dict[s] = {}\n",
    "    dec_ctch_onset[s] = {}\n",
    "    ctch = nline_df.loc[s]['catch']\n",
    "    problem_con = nline_df.loc[s]['consider_onset_real'] - nline_df.loc[s]['consider_onset']\n",
    "    problem_dec = nline_df.loc[s]['decision_onset_real'] - nline_df.loc[s]['decision_onset']\n",
    "    prob_con_idx = problem_con > 0.5\n",
    "    prob_dec_idx = problem_dec > 0.5\n",
    "    if len(nline_df.loc[s]['hold']) == 0:\n",
    "        hold = 2.5\n",
    "    else:\n",
    "        hold = min(nline_df.loc[s]['hold'])\n",
    "    dec_ctch_tmp = nline_df.loc[s]['decision_onset_real'] - 16\n",
    "    dec_ctch_tmp = dec_ctch_tmp[ctch==1]\n",
    "    dec_ctch_tmp = dec_ctch_tmp[prob_dec_idx==0]\n",
    "    big_dict[s]['dec_ctch_onset'] = pd.DataFrame.from_items([('time',dec_ctch_tmp[dec_ctch_tmp>=0]),('duration',dec_time),('val',1)])\n",
    "    cons_duration = hold + cons_time\n",
    "        \n",
    "    bad_trials_con = nline_df.loc[s]['consider_onset'] - 16\n",
    "    bad_trials_con = bad_trials_con[prob_con_idx==1]\n",
    "    big_dict[s]['con_bad_trials'] = pd.DataFrame.from_items([('time',bad_trials_con[bad_trials_con>=0]),('duration',dec_time),('val',1)])\n",
    "        \n",
    "    bad_trials_dec = nline_df.loc[s]['decision_onset'] - 16\n",
    "    bad_trials_dec = bad_trials_dec[prob_dec_idx==1]\n",
    "    big_dict[s]['dec_bad_trials'] = pd.DataFrame.from_items([('time',bad_trials_dec[bad_trials_dec>=0]),('duration',dec_time),('val',1)])\n",
    "\n",
    "\n",
    "    for lab in labels:\n",
    "        for lab in labels:\n",
    "            #print lab\n",
    "            big_dict[s][lab] = {}\n",
    "            Task = nline_df.loc[s]['Task']\n",
    "            \n",
    "            #create landmark values (demeaned)\n",
    "            landmark = nline_df.loc[s]['LandmarkDist']\n",
    "            #landmark = landmark[Task==lab] - landmark_mean\n",
    "            \n",
    "            for ph in phase:\n",
    "                if ph == 'dec':\n",
    "                    big_dict[s][lab][ph] = {}\n",
    "                    for val in vals:\n",
    "                        big_dict[s][lab][ph][str(val)] = {}\n",
    "                        prorblem_dec = nline_df.loc[s]['decision_onset_real'] - nline_df.loc[s]['decision_onset']\n",
    "                        prob_dec_idx = problem_dec > 0.5\n",
    "                        tmp_int = nline_df.loc[s]['decision_onset_real'] - 16\n",
    "                        tmp_int = tmp_int[ctch==0]\n",
    "                        tmp_int = tmp_int[Task==lab]\n",
    "                        tmp_int = tmp_int[prob_dec_idx == 0]\n",
    "                        tmp_int = tmp_int[(landmark>=val_dict[val][0]) & (landmark<=val_dict[val][1])] \n",
    "                        big_dict[s][lab][ph][str(val)] = pd.DataFrame.from_items([('time',tmp_int[tmp_int>=0]),('duration',dec_time),('val',1)])\n",
    "                elif ph == 'cons':\n",
    "                    big_dict[s][lab][ph] = {}\n",
    "                    for val in vals:\n",
    "                        big_dict[s][lab][ph][str(val)] = {}\n",
    "                        prorblem_con = nline_df.loc[s]['consider_onset_real'] - nline_df.loc[s]['consider_onset']\n",
    "                        prob_con_idx = problem_con > 0.5\n",
    "                        tmp_int = nline_df.loc[s]['consider_onset_real'] - 16\n",
    "                        tmp_int = tmp_int[Task==lab]\n",
    "                        tmp_int = tmp_int[prob_con_idx == 0]\n",
    "                        tmp_int = tmp_int[(landmark>=val_dict[val][0]) & (landmark<=val_dict[val][1])] \n",
    "                        big_dict[s][lab][ph][str(val)] = pd.DataFrame.from_items([('time',tmp_int[tmp_int>=0]),('duration',cons_duration),('val',1)])"
   ]
  },
  {
   "cell_type": "code",
   "execution_count": 37,
   "metadata": {
    "collapsed": false
   },
   "outputs": [
    {
     "data": {
      "text/plain": [
       "0.13384615384615384"
      ]
     },
     "execution_count": 37,
     "metadata": {},
     "output_type": "execute_result"
    }
   ],
   "source": [
    "landmark_mean"
   ]
  },
  {
   "cell_type": "code",
   "execution_count": 39,
   "metadata": {
    "collapsed": false
   },
   "outputs": [
    {
     "data": {
      "text/html": [
       "<div>\n",
       "<table border=\"1\" class=\"dataframe\">\n",
       "  <thead>\n",
       "    <tr style=\"text-align: right;\">\n",
       "      <th></th>\n",
       "      <th></th>\n",
       "      <th>time</th>\n",
       "      <th>duration</th>\n",
       "      <th>val</th>\n",
       "    </tr>\n",
       "    <tr>\n",
       "      <th>Run</th>\n",
       "      <th>Trial</th>\n",
       "      <th></th>\n",
       "      <th></th>\n",
       "      <th></th>\n",
       "    </tr>\n",
       "  </thead>\n",
       "  <tbody>\n",
       "    <tr>\n",
       "      <th rowspan=\"3\" valign=\"top\">run2</th>\n",
       "      <th>41</th>\n",
       "      <td>505.0</td>\n",
       "      <td>3</td>\n",
       "      <td>1</td>\n",
       "    </tr>\n",
       "    <tr>\n",
       "      <th>42</th>\n",
       "      <td>518.0</td>\n",
       "      <td>3</td>\n",
       "      <td>1</td>\n",
       "    </tr>\n",
       "    <tr>\n",
       "      <th>43</th>\n",
       "      <td>527.5</td>\n",
       "      <td>3</td>\n",
       "      <td>1</td>\n",
       "    </tr>\n",
       "  </tbody>\n",
       "</table>\n",
       "</div>"
      ],
      "text/plain": [
       "             time  duration  val\n",
       "Run  Trial                      \n",
       "run2 41     505.0         3    1\n",
       "     42     518.0         3    1\n",
       "     43     527.5         3    1"
      ]
     },
     "execution_count": 39,
     "metadata": {},
     "output_type": "execute_result"
    }
   ],
   "source": [
    "big_dict['s_02014']['con_bad_trials']"
   ]
  },
  {
   "cell_type": "code",
   "execution_count": 40,
   "metadata": {
    "collapsed": false
   },
   "outputs": [
    {
     "data": {
      "text/plain": [
       "{'cons': {'Lg_Land':                   time  duration  val\n",
       "  Run  Trial                           \n",
       "  run1 17     209.002342         3    1\n",
       "       19     229.001914         3    1\n",
       "       20     243.001112         3    1\n",
       "       21     256.501019         3    1\n",
       "       23     283.001637         3    1\n",
       "       24     296.502115         3    1\n",
       "       26     320.501171         3    1\n",
       "       29     356.001834         3    1\n",
       "  run3 16     202.501414         3    1\n",
       "       19     240.501372         3    1\n",
       "       20     253.001028         3    1\n",
       "       21     265.000964         3    1\n",
       "       23     290.002327         3    1\n",
       "       24     301.000984         3    1\n",
       "       26     322.502276         3    1\n",
       "       29     357.002154         3    1\n",
       "  run2 34     423.001853         3    1\n",
       "       35     437.502463         3    1\n",
       "       37     463.001588         3    1\n",
       "       39     484.001447         3    1\n",
       "       40     495.001857         3    1\n",
       "       46     565.500906         3    1\n",
       "       47     576.502112         3    1\n",
       "  run4 34     424.000879         3    1\n",
       "       35     436.002032         3    1\n",
       "       39     486.001322         3    1\n",
       "       40     496.502396         3    1\n",
       "       43     536.501037         3    1\n",
       "       44     546.501544         3    1\n",
       "       45     557.001050         3    1\n",
       "       47     579.001780         3    1,\n",
       "  'Sm_Land':                   time  duration  val\n",
       "  Run  Trial                           \n",
       "  run1 16     199.002376         3    1\n",
       "       18     219.001198         3    1\n",
       "       22     270.501325         3    1\n",
       "       25     309.500798         3    1\n",
       "       27     331.501678         3    1\n",
       "       28     342.000880         3    1\n",
       "       30     367.502123         3    1\n",
       "       31     378.501299         3    1\n",
       "  run3 17     215.500842         3    1\n",
       "       18     228.500893         3    1\n",
       "       22     275.501634         3    1\n",
       "       25     312.002299         3    1\n",
       "       27     335.502101         3    1\n",
       "       28     345.501868         3    1\n",
       "       30     369.001420         3    1\n",
       "       31     381.501849         3    1\n",
       "  run2 32     398.502083         3    1\n",
       "       33     411.502467         3    1\n",
       "       36     449.501329         3    1\n",
       "       38     474.501596         3    1\n",
       "       44     539.001712         3    1\n",
       "       45     555.502184         3    1\n",
       "  run4 32     398.001320         3    1\n",
       "       33     409.001495         3    1\n",
       "       36     448.001634         3    1\n",
       "       37     462.002047         3    1\n",
       "       38     474.501572         3    1\n",
       "       41     508.002023         3    1\n",
       "       42     522.501149         3    1\n",
       "       46     569.002138         3    1},\n",
       " 'dec': {'Lg_Land':                   time  duration  val\n",
       "  Run  Trial                           \n",
       "  run1 17     212.508325         3    1\n",
       "       19     236.009055         3    1\n",
       "       20     249.009347         3    1\n",
       "       23     286.510364         3    1\n",
       "       24     300.510740         3    1\n",
       "       26     323.511414         3    1\n",
       "       29     360.012271         3    1\n",
       "  run3 20     258.507055         3    1\n",
       "       21     268.507517         3    1\n",
       "       24     305.508703         3    1\n",
       "       26     327.008965         3    1\n",
       "       29     360.009990         3    1\n",
       "  run2 35     441.503939         3    1\n",
       "       39     487.505558         3    1\n",
       "       43     532.006606         3    1\n",
       "       46     570.507610         3    1\n",
       "       47     583.008006         3    1\n",
       "  run4 34     428.501802         3    1\n",
       "       35     439.502318         3    1\n",
       "       39     489.003691         3    1\n",
       "       40     500.503811         3    1\n",
       "       43     540.004953         3    1\n",
       "       47     583.006308         3    1,\n",
       "  'Sm_Land':                   time  duration  val\n",
       "  Run  Trial                           \n",
       "  run1 18     222.008566         3    1\n",
       "       22     275.510101         3    1\n",
       "       25     313.511143         3    1\n",
       "       27     336.011484         3    1\n",
       "       31     385.012882         3    1\n",
       "  run3 17     218.506340         3    1\n",
       "       18     232.506702         3    1\n",
       "       22     282.507701         3    1\n",
       "       27     339.509582         3    1\n",
       "       28     350.043239         3    1\n",
       "       30     374.010274         3    1\n",
       "       31     385.010728         3    1\n",
       "  run2 32     404.503143         3    1\n",
       "       33     415.503177         3    1\n",
       "       38     477.505038         3    1\n",
       "       44     546.007045         3    1\n",
       "       45     559.007374         3    1\n",
       "  run4 32     402.501302         3    1\n",
       "       33     414.001531         3    1\n",
       "       36     455.002725         3    1\n",
       "       41     514.504202         3    1\n",
       "       42     527.004579         3    1\n",
       "       46     572.005947         3    1}}"
      ]
     },
     "execution_count": 40,
     "metadata": {},
     "output_type": "execute_result"
    }
   ],
   "source": [
    "big_dict['s_02014']['Word']"
   ]
  },
  {
   "cell_type": "code",
   "execution_count": 41,
   "metadata": {
    "collapsed": false
   },
   "outputs": [
    {
     "data": {
      "text/html": [
       "<div>\n",
       "<table border=\"1\" class=\"dataframe\">\n",
       "  <thead>\n",
       "    <tr style=\"text-align: right;\">\n",
       "      <th></th>\n",
       "      <th></th>\n",
       "      <th>time</th>\n",
       "      <th>duration</th>\n",
       "      <th>val</th>\n",
       "    </tr>\n",
       "    <tr>\n",
       "      <th>Run</th>\n",
       "      <th>Trial</th>\n",
       "      <th></th>\n",
       "      <th></th>\n",
       "      <th></th>\n",
       "    </tr>\n",
       "  </thead>\n",
       "  <tbody>\n",
       "    <tr>\n",
       "      <th rowspan=\"12\" valign=\"top\">run1</th>\n",
       "      <th>4</th>\n",
       "      <td>56.504012</td>\n",
       "      <td>3</td>\n",
       "      <td>1</td>\n",
       "    </tr>\n",
       "    <tr>\n",
       "      <th>6</th>\n",
       "      <td>79.505001</td>\n",
       "      <td>3</td>\n",
       "      <td>1</td>\n",
       "    </tr>\n",
       "    <tr>\n",
       "      <th>8</th>\n",
       "      <td>100.505188</td>\n",
       "      <td>3</td>\n",
       "      <td>1</td>\n",
       "    </tr>\n",
       "    <tr>\n",
       "      <th>12</th>\n",
       "      <td>153.006698</td>\n",
       "      <td>3</td>\n",
       "      <td>1</td>\n",
       "    </tr>\n",
       "    <tr>\n",
       "      <th>16</th>\n",
       "      <td>202.508050</td>\n",
       "      <td>3</td>\n",
       "      <td>1</td>\n",
       "    </tr>\n",
       "    <tr>\n",
       "      <th>21</th>\n",
       "      <td>262.009574</td>\n",
       "      <td>3</td>\n",
       "      <td>1</td>\n",
       "    </tr>\n",
       "    <tr>\n",
       "      <th>28</th>\n",
       "      <td>346.511773</td>\n",
       "      <td>3</td>\n",
       "      <td>1</td>\n",
       "    </tr>\n",
       "    <tr>\n",
       "      <th>30</th>\n",
       "      <td>372.012674</td>\n",
       "      <td>3</td>\n",
       "      <td>1</td>\n",
       "    </tr>\n",
       "    <tr>\n",
       "      <th>36</th>\n",
       "      <td>446.014685</td>\n",
       "      <td>3</td>\n",
       "      <td>1</td>\n",
       "    </tr>\n",
       "    <tr>\n",
       "      <th>37</th>\n",
       "      <td>459.515008</td>\n",
       "      <td>3</td>\n",
       "      <td>1</td>\n",
       "    </tr>\n",
       "    <tr>\n",
       "      <th>41</th>\n",
       "      <td>510.016397</td>\n",
       "      <td>3</td>\n",
       "      <td>1</td>\n",
       "    </tr>\n",
       "    <tr>\n",
       "      <th>43</th>\n",
       "      <td>539.000521</td>\n",
       "      <td>3</td>\n",
       "      <td>1</td>\n",
       "    </tr>\n",
       "    <tr>\n",
       "      <th rowspan=\"12\" valign=\"top\">run3</th>\n",
       "      <th>5</th>\n",
       "      <td>69.002067</td>\n",
       "      <td>3</td>\n",
       "      <td>1</td>\n",
       "    </tr>\n",
       "    <tr>\n",
       "      <th>7</th>\n",
       "      <td>94.502894</td>\n",
       "      <td>3</td>\n",
       "      <td>1</td>\n",
       "    </tr>\n",
       "    <tr>\n",
       "      <th>10</th>\n",
       "      <td>130.003552</td>\n",
       "      <td>3</td>\n",
       "      <td>1</td>\n",
       "    </tr>\n",
       "    <tr>\n",
       "      <th>14</th>\n",
       "      <td>177.004759</td>\n",
       "      <td>3</td>\n",
       "      <td>1</td>\n",
       "    </tr>\n",
       "    <tr>\n",
       "      <th>16</th>\n",
       "      <td>208.505931</td>\n",
       "      <td>3</td>\n",
       "      <td>1</td>\n",
       "    </tr>\n",
       "    <tr>\n",
       "      <th>19</th>\n",
       "      <td>247.006917</td>\n",
       "      <td>3</td>\n",
       "      <td>1</td>\n",
       "    </tr>\n",
       "    <tr>\n",
       "      <th>23</th>\n",
       "      <td>293.508381</td>\n",
       "      <td>3</td>\n",
       "      <td>1</td>\n",
       "    </tr>\n",
       "    <tr>\n",
       "      <th>25</th>\n",
       "      <td>316.008783</td>\n",
       "      <td>3</td>\n",
       "      <td>1</td>\n",
       "    </tr>\n",
       "    <tr>\n",
       "      <th>32</th>\n",
       "      <td>405.011389</td>\n",
       "      <td>3</td>\n",
       "      <td>1</td>\n",
       "    </tr>\n",
       "    <tr>\n",
       "      <th>37</th>\n",
       "      <td>461.012953</td>\n",
       "      <td>3</td>\n",
       "      <td>1</td>\n",
       "    </tr>\n",
       "    <tr>\n",
       "      <th>39</th>\n",
       "      <td>486.013587</td>\n",
       "      <td>3</td>\n",
       "      <td>1</td>\n",
       "    </tr>\n",
       "    <tr>\n",
       "      <th>40</th>\n",
       "      <td>496.513873</td>\n",
       "      <td>3</td>\n",
       "      <td>1</td>\n",
       "    </tr>\n",
       "    <tr>\n",
       "      <th rowspan=\"11\" valign=\"top\">run2</th>\n",
       "      <th>0</th>\n",
       "      <td>8.008896</td>\n",
       "      <td>3</td>\n",
       "      <td>1</td>\n",
       "    </tr>\n",
       "    <tr>\n",
       "      <th>3</th>\n",
       "      <td>45.510021</td>\n",
       "      <td>3</td>\n",
       "      <td>1</td>\n",
       "    </tr>\n",
       "    <tr>\n",
       "      <th>7</th>\n",
       "      <td>92.011304</td>\n",
       "      <td>3</td>\n",
       "      <td>1</td>\n",
       "    </tr>\n",
       "    <tr>\n",
       "      <th>13</th>\n",
       "      <td>162.513131</td>\n",
       "      <td>3</td>\n",
       "      <td>1</td>\n",
       "    </tr>\n",
       "    <tr>\n",
       "      <th>16</th>\n",
       "      <td>203.514188</td>\n",
       "      <td>3</td>\n",
       "      <td>1</td>\n",
       "    </tr>\n",
       "    <tr>\n",
       "      <th>17</th>\n",
       "      <td>217.014623</td>\n",
       "      <td>3</td>\n",
       "      <td>1</td>\n",
       "    </tr>\n",
       "    <tr>\n",
       "      <th>19</th>\n",
       "      <td>241.015361</td>\n",
       "      <td>3</td>\n",
       "      <td>1</td>\n",
       "    </tr>\n",
       "    <tr>\n",
       "      <th>30</th>\n",
       "      <td>371.502309</td>\n",
       "      <td>3</td>\n",
       "      <td>1</td>\n",
       "    </tr>\n",
       "    <tr>\n",
       "      <th>34</th>\n",
       "      <td>428.503937</td>\n",
       "      <td>3</td>\n",
       "      <td>1</td>\n",
       "    </tr>\n",
       "    <tr>\n",
       "      <th>36</th>\n",
       "      <td>453.004424</td>\n",
       "      <td>3</td>\n",
       "      <td>1</td>\n",
       "    </tr>\n",
       "    <tr>\n",
       "      <th>37</th>\n",
       "      <td>467.505017</td>\n",
       "      <td>3</td>\n",
       "      <td>1</td>\n",
       "    </tr>\n",
       "    <tr>\n",
       "      <th rowspan=\"12\" valign=\"top\">run4</th>\n",
       "      <th>0</th>\n",
       "      <td>6.006725</td>\n",
       "      <td>3</td>\n",
       "      <td>1</td>\n",
       "    </tr>\n",
       "    <tr>\n",
       "      <th>1</th>\n",
       "      <td>15.507131</td>\n",
       "      <td>3</td>\n",
       "      <td>1</td>\n",
       "    </tr>\n",
       "    <tr>\n",
       "      <th>3</th>\n",
       "      <td>40.507729</td>\n",
       "      <td>3</td>\n",
       "      <td>1</td>\n",
       "    </tr>\n",
       "    <tr>\n",
       "      <th>8</th>\n",
       "      <td>102.009376</td>\n",
       "      <td>3</td>\n",
       "      <td>1</td>\n",
       "    </tr>\n",
       "    <tr>\n",
       "      <th>21</th>\n",
       "      <td>268.514024</td>\n",
       "      <td>3</td>\n",
       "      <td>1</td>\n",
       "    </tr>\n",
       "    <tr>\n",
       "      <th>26</th>\n",
       "      <td>328.015798</td>\n",
       "      <td>3</td>\n",
       "      <td>1</td>\n",
       "    </tr>\n",
       "    <tr>\n",
       "      <th>29</th>\n",
       "      <td>362.516752</td>\n",
       "      <td>3</td>\n",
       "      <td>1</td>\n",
       "    </tr>\n",
       "    <tr>\n",
       "      <th>31</th>\n",
       "      <td>385.000597</td>\n",
       "      <td>3</td>\n",
       "      <td>1</td>\n",
       "    </tr>\n",
       "    <tr>\n",
       "      <th>37</th>\n",
       "      <td>465.503019</td>\n",
       "      <td>3</td>\n",
       "      <td>1</td>\n",
       "    </tr>\n",
       "    <tr>\n",
       "      <th>38</th>\n",
       "      <td>480.003395</td>\n",
       "      <td>3</td>\n",
       "      <td>1</td>\n",
       "    </tr>\n",
       "    <tr>\n",
       "      <th>44</th>\n",
       "      <td>550.505428</td>\n",
       "      <td>3</td>\n",
       "      <td>1</td>\n",
       "    </tr>\n",
       "    <tr>\n",
       "      <th>45</th>\n",
       "      <td>563.005756</td>\n",
       "      <td>3</td>\n",
       "      <td>1</td>\n",
       "    </tr>\n",
       "  </tbody>\n",
       "</table>\n",
       "</div>"
      ],
      "text/plain": [
       "                  time  duration  val\n",
       "Run  Trial                           \n",
       "run1 4       56.504012         3    1\n",
       "     6       79.505001         3    1\n",
       "     8      100.505188         3    1\n",
       "     12     153.006698         3    1\n",
       "     16     202.508050         3    1\n",
       "     21     262.009574         3    1\n",
       "     28     346.511773         3    1\n",
       "     30     372.012674         3    1\n",
       "     36     446.014685         3    1\n",
       "     37     459.515008         3    1\n",
       "     41     510.016397         3    1\n",
       "     43     539.000521         3    1\n",
       "run3 5       69.002067         3    1\n",
       "     7       94.502894         3    1\n",
       "     10     130.003552         3    1\n",
       "     14     177.004759         3    1\n",
       "     16     208.505931         3    1\n",
       "     19     247.006917         3    1\n",
       "     23     293.508381         3    1\n",
       "     25     316.008783         3    1\n",
       "     32     405.011389         3    1\n",
       "     37     461.012953         3    1\n",
       "     39     486.013587         3    1\n",
       "     40     496.513873         3    1\n",
       "run2 0        8.008896         3    1\n",
       "     3       45.510021         3    1\n",
       "     7       92.011304         3    1\n",
       "     13     162.513131         3    1\n",
       "     16     203.514188         3    1\n",
       "     17     217.014623         3    1\n",
       "     19     241.015361         3    1\n",
       "     30     371.502309         3    1\n",
       "     34     428.503937         3    1\n",
       "     36     453.004424         3    1\n",
       "     37     467.505017         3    1\n",
       "run4 0        6.006725         3    1\n",
       "     1       15.507131         3    1\n",
       "     3       40.507729         3    1\n",
       "     8      102.009376         3    1\n",
       "     21     268.514024         3    1\n",
       "     26     328.015798         3    1\n",
       "     29     362.516752         3    1\n",
       "     31     385.000597         3    1\n",
       "     37     465.503019         3    1\n",
       "     38     480.003395         3    1\n",
       "     44     550.505428         3    1\n",
       "     45     563.005756         3    1"
      ]
     },
     "execution_count": 41,
     "metadata": {},
     "output_type": "execute_result"
    }
   ],
   "source": [
    "big_dict['s_02014']['dec_ctch_onset']"
   ]
  },
  {
   "cell_type": "code",
   "execution_count": 42,
   "metadata": {
    "collapsed": false
   },
   "outputs": [
    {
     "data": {
      "text/html": [
       "<div>\n",
       "<table border=\"1\" class=\"dataframe\">\n",
       "  <thead>\n",
       "    <tr style=\"text-align: right;\">\n",
       "      <th></th>\n",
       "      <th></th>\n",
       "      <th>time</th>\n",
       "      <th>duration</th>\n",
       "      <th>val</th>\n",
       "    </tr>\n",
       "    <tr>\n",
       "      <th>Run</th>\n",
       "      <th>Trial</th>\n",
       "      <th></th>\n",
       "      <th></th>\n",
       "      <th></th>\n",
       "    </tr>\n",
       "  </thead>\n",
       "  <tbody>\n",
       "    <tr>\n",
       "      <th rowspan=\"3\" valign=\"top\">run2</th>\n",
       "      <th>40</th>\n",
       "      <td>499.0</td>\n",
       "      <td>3</td>\n",
       "      <td>1</td>\n",
       "    </tr>\n",
       "    <tr>\n",
       "      <th>41</th>\n",
       "      <td>509.5</td>\n",
       "      <td>3</td>\n",
       "      <td>1</td>\n",
       "    </tr>\n",
       "    <tr>\n",
       "      <th>42</th>\n",
       "      <td>521.0</td>\n",
       "      <td>3</td>\n",
       "      <td>1</td>\n",
       "    </tr>\n",
       "  </tbody>\n",
       "</table>\n",
       "</div>"
      ],
      "text/plain": [
       "             time  duration  val\n",
       "Run  Trial                      \n",
       "run2 40     499.0         3    1\n",
       "     41     509.5         3    1\n",
       "     42     521.0         3    1"
      ]
     },
     "execution_count": 42,
     "metadata": {},
     "output_type": "execute_result"
    }
   ],
   "source": [
    "big_dict['s_02014']['dec_bad_trials']"
   ]
  },
  {
   "cell_type": "markdown",
   "metadata": {},
   "source": [
    "## Save Files"
   ]
  },
  {
   "cell_type": "code",
   "execution_count": 43,
   "metadata": {
    "collapsed": false
   },
   "outputs": [
    {
     "name": "stdout",
     "output_type": "stream",
     "text": [
      "s_02009\n",
      "Word\n",
      "cons\n",
      "Lg_Land\n",
      "Sm_Land\n",
      "dec\n",
      "Lg_Land\n",
      "Sm_Land\n",
      "Neg\n",
      "cons\n",
      "Lg_Land\n",
      "Sm_Land\n",
      "dec\n",
      "Lg_Land\n",
      "Sm_Land\n",
      "Pos\n",
      "cons\n",
      "Lg_Land\n",
      "Sm_Land\n",
      "dec\n",
      "Lg_Land\n",
      "Sm_Land\n",
      "s_02003\n",
      "Word\n",
      "cons\n",
      "Lg_Land\n",
      "Sm_Land\n",
      "dec\n",
      "Lg_Land\n",
      "Sm_Land\n",
      "Neg\n",
      "cons\n",
      "Lg_Land\n",
      "Sm_Land\n",
      "dec\n",
      "Lg_Land\n",
      "Sm_Land\n",
      "Pos\n",
      "cons\n",
      "Lg_Land\n",
      "Sm_Land\n",
      "dec\n",
      "Lg_Land\n",
      "Sm_Land\n",
      "s_02002\n",
      "Word\n",
      "cons\n",
      "Lg_Land\n",
      "Sm_Land\n",
      "dec\n",
      "Lg_Land\n",
      "Sm_Land\n",
      "Neg\n",
      "cons\n",
      "Lg_Land\n",
      "Sm_Land\n",
      "dec\n",
      "Lg_Land\n",
      "Sm_Land\n",
      "Pos\n",
      "cons\n",
      "Lg_Land\n",
      "Sm_Land\n",
      "dec\n",
      "Lg_Land\n",
      "Sm_Land\n",
      "s_02001\n",
      "Word\n",
      "cons\n",
      "Lg_Land\n",
      "Sm_Land\n",
      "dec\n",
      "Lg_Land\n",
      "Sm_Land\n",
      "Neg\n",
      "cons\n",
      "Lg_Land\n",
      "Sm_Land\n",
      "dec\n",
      "Lg_Land\n",
      "Sm_Land\n",
      "Pos\n",
      "cons\n",
      "Lg_Land\n",
      "Sm_Land\n",
      "dec\n",
      "Lg_Land\n",
      "Sm_Land\n",
      "s_02007\n",
      "Word\n",
      "cons\n",
      "Lg_Land\n",
      "Sm_Land\n",
      "dec\n",
      "Lg_Land\n",
      "Sm_Land\n",
      "Neg\n",
      "cons\n",
      "Lg_Land\n",
      "Sm_Land\n",
      "dec\n",
      "Lg_Land\n",
      "Sm_Land\n",
      "Pos\n",
      "cons\n",
      "Lg_Land\n",
      "Sm_Land\n",
      "dec\n",
      "Lg_Land\n",
      "Sm_Land\n",
      "s_02006\n",
      "Word\n",
      "cons\n",
      "Lg_Land\n",
      "Sm_Land\n",
      "dec\n",
      "Lg_Land\n",
      "Sm_Land\n",
      "Neg\n",
      "cons\n",
      "Lg_Land\n",
      "Sm_Land\n",
      "dec\n",
      "Lg_Land\n",
      "Sm_Land\n",
      "Pos\n",
      "cons\n",
      "Lg_Land\n",
      "Sm_Land\n",
      "dec\n",
      "Lg_Land\n",
      "Sm_Land\n",
      "s_02005\n",
      "Word\n",
      "cons\n",
      "Lg_Land\n",
      "Sm_Land\n",
      "dec\n",
      "Lg_Land\n",
      "Sm_Land\n",
      "Neg\n",
      "cons\n",
      "Lg_Land\n",
      "Sm_Land\n",
      "dec\n",
      "Lg_Land\n",
      "Sm_Land\n",
      "Pos\n",
      "cons\n",
      "Lg_Land\n",
      "Sm_Land\n",
      "dec\n",
      "Lg_Land\n",
      "Sm_Land\n",
      "s_02004\n",
      "Word\n",
      "cons\n",
      "Lg_Land\n",
      "Sm_Land\n",
      "dec\n",
      "Lg_Land\n",
      "Sm_Land\n",
      "Neg\n",
      "cons\n",
      "Lg_Land\n",
      "Sm_Land\n",
      "dec\n",
      "Lg_Land\n",
      "Sm_Land\n",
      "Pos\n",
      "cons\n",
      "Lg_Land\n",
      "Sm_Land\n",
      "dec\n",
      "Lg_Land\n",
      "Sm_Land\n",
      "s_02018\n",
      "Word\n",
      "cons\n",
      "Lg_Land\n",
      "Sm_Land\n",
      "dec\n",
      "Lg_Land\n",
      "Sm_Land\n",
      "Neg\n",
      "cons\n",
      "Lg_Land\n",
      "Sm_Land\n",
      "dec\n",
      "Lg_Land\n",
      "Sm_Land\n",
      "Pos\n",
      "cons\n",
      "Lg_Land\n",
      "Sm_Land\n",
      "dec\n",
      "Lg_Land\n",
      "Sm_Land\n",
      "s_02019\n",
      "Word\n",
      "cons\n",
      "Lg_Land\n",
      "Sm_Land\n",
      "dec\n",
      "Lg_Land\n",
      "Sm_Land\n",
      "Neg\n",
      "cons\n",
      "Lg_Land\n",
      "Sm_Land\n",
      "dec\n",
      "Lg_Land\n",
      "Sm_Land\n",
      "Pos\n",
      "cons\n",
      "Lg_Land\n",
      "Sm_Land\n",
      "dec\n",
      "Lg_Land\n",
      "Sm_Land\n",
      "s_02010\n",
      "Word\n",
      "cons\n",
      "Lg_Land\n",
      "Sm_Land\n",
      "dec\n",
      "Lg_Land\n",
      "Sm_Land\n",
      "Neg\n",
      "cons\n",
      "Lg_Land\n",
      "Sm_Land\n",
      "dec\n",
      "Lg_Land\n",
      "Sm_Land\n",
      "Pos\n",
      "cons\n",
      "Lg_Land\n",
      "Sm_Land\n",
      "dec\n",
      "Lg_Land\n",
      "Sm_Land\n",
      "s_02011\n",
      "Word\n",
      "cons\n",
      "Lg_Land\n",
      "Sm_Land\n",
      "dec\n",
      "Lg_Land\n",
      "Sm_Land\n",
      "Neg\n",
      "cons\n",
      "Lg_Land\n",
      "Sm_Land\n",
      "dec\n",
      "Lg_Land\n",
      "Sm_Land\n",
      "Pos\n",
      "cons\n",
      "Lg_Land\n",
      "Sm_Land\n",
      "dec\n",
      "Lg_Land\n",
      "Sm_Land\n",
      "s_02012\n",
      "Word\n",
      "cons\n",
      "Lg_Land\n",
      "Sm_Land\n",
      "dec\n",
      "Lg_Land\n",
      "Sm_Land\n",
      "Neg\n",
      "cons\n",
      "Lg_Land\n",
      "Sm_Land\n",
      "dec\n",
      "Lg_Land\n",
      "Sm_Land\n",
      "Pos\n",
      "cons\n",
      "Lg_Land\n",
      "Sm_Land\n",
      "dec\n",
      "Lg_Land\n",
      "Sm_Land\n",
      "s_02014\n",
      "Word\n",
      "cons\n",
      "Lg_Land\n",
      "Sm_Land\n",
      "dec\n",
      "Lg_Land\n",
      "Sm_Land\n",
      "Neg\n",
      "cons\n",
      "Lg_Land\n",
      "Sm_Land\n",
      "dec\n",
      "Lg_Land\n",
      "Sm_Land\n",
      "Pos\n",
      "cons\n",
      "Lg_Land\n",
      "Sm_Land\n",
      "dec\n",
      "Lg_Land\n",
      "Sm_Land\n",
      "s_02015\n",
      "Word\n",
      "cons\n",
      "Lg_Land\n",
      "Sm_Land\n",
      "dec\n",
      "Lg_Land\n",
      "Sm_Land\n",
      "Neg\n",
      "cons\n",
      "Lg_Land\n",
      "Sm_Land\n",
      "dec\n",
      "Lg_Land\n",
      "Sm_Land\n",
      "Pos\n",
      "cons\n",
      "Lg_Land\n",
      "Sm_Land\n",
      "dec\n",
      "Lg_Land\n",
      "Sm_Land\n",
      "s_02016\n",
      "Word\n",
      "cons\n",
      "Lg_Land\n",
      "Sm_Land\n",
      "dec\n",
      "Lg_Land\n",
      "Sm_Land\n",
      "Neg\n",
      "cons\n",
      "Lg_Land\n",
      "Sm_Land\n",
      "dec\n",
      "Lg_Land\n",
      "Sm_Land\n",
      "Pos\n",
      "cons\n",
      "Lg_Land\n",
      "Sm_Land\n",
      "dec\n",
      "Lg_Land\n",
      "Sm_Land\n",
      "s_02017\n",
      "Word\n",
      "cons\n",
      "Lg_Land\n",
      "Sm_Land\n",
      "dec\n",
      "Lg_Land\n",
      "Sm_Land\n",
      "Neg\n",
      "cons\n",
      "Lg_Land\n",
      "Sm_Land\n",
      "dec\n",
      "Lg_Land\n",
      "Sm_Land\n",
      "Pos\n",
      "cons\n",
      "Lg_Land\n",
      "Sm_Land\n",
      "dec\n",
      "Lg_Land\n",
      "Sm_Land\n",
      "s_02024\n",
      "Word\n",
      "cons\n",
      "Lg_Land\n",
      "Sm_Land\n",
      "dec\n",
      "Lg_Land\n",
      "Sm_Land\n",
      "Neg\n",
      "cons\n",
      "Lg_Land\n",
      "Sm_Land\n",
      "dec\n",
      "Lg_Land\n",
      "Sm_Land\n",
      "Pos\n",
      "cons\n",
      "Lg_Land\n",
      "Sm_Land\n",
      "dec\n",
      "Lg_Land\n",
      "Sm_Land\n",
      "s_02027\n",
      "Word\n",
      "cons\n",
      "Lg_Land\n",
      "Sm_Land\n",
      "dec\n",
      "Lg_Land\n",
      "Sm_Land\n",
      "Neg\n",
      "cons\n",
      "Lg_Land\n",
      "Sm_Land\n",
      "dec\n",
      "Lg_Land\n",
      "Sm_Land\n",
      "Pos\n",
      "cons\n",
      "Lg_Land\n",
      "Sm_Land\n",
      "dec\n",
      "Lg_Land\n",
      "Sm_Land\n",
      "s_02021\n",
      "Word\n",
      "cons\n",
      "Lg_Land\n",
      "Sm_Land\n",
      "dec\n",
      "Lg_Land\n",
      "Sm_Land\n",
      "Neg\n",
      "cons\n",
      "Lg_Land\n",
      "Sm_Land\n",
      "dec\n",
      "Lg_Land\n",
      "Sm_Land\n",
      "Pos\n",
      "cons\n",
      "Lg_Land\n",
      "Sm_Land\n",
      "dec\n",
      "Lg_Land\n",
      "Sm_Land\n",
      "s_02020\n",
      "Word\n",
      "cons\n",
      "Lg_Land\n",
      "Sm_Land\n",
      "dec\n",
      "Lg_Land\n",
      "Sm_Land\n",
      "Neg\n",
      "cons\n",
      "Lg_Land\n",
      "Sm_Land\n",
      "dec\n",
      "Lg_Land\n",
      "Sm_Land\n",
      "Pos\n",
      "cons\n",
      "Lg_Land\n",
      "Sm_Land\n",
      "dec\n",
      "Lg_Land\n",
      "Sm_Land\n",
      "s_02023\n",
      "Word\n",
      "cons\n",
      "Lg_Land\n",
      "Sm_Land\n",
      "dec\n",
      "Lg_Land\n",
      "Sm_Land\n",
      "Neg\n",
      "cons\n",
      "Lg_Land\n",
      "Sm_Land\n",
      "dec\n",
      "Lg_Land\n",
      "Sm_Land\n",
      "Pos\n",
      "cons\n",
      "Lg_Land\n",
      "Sm_Land\n",
      "dec\n",
      "Lg_Land\n",
      "Sm_Land\n",
      "s_02022\n",
      "Word\n",
      "cons\n",
      "Lg_Land\n",
      "Sm_Land\n",
      "dec\n",
      "Lg_Land\n",
      "Sm_Land\n",
      "Neg\n",
      "cons\n",
      "Lg_Land\n",
      "Sm_Land\n",
      "dec\n",
      "Lg_Land\n",
      "Sm_Land\n",
      "Pos\n",
      "cons\n",
      "Lg_Land\n",
      "Sm_Land\n",
      "dec\n",
      "Lg_Land\n",
      "Sm_Land\n"
     ]
    }
   ],
   "source": [
    "for s in big_dict.keys():\n",
    "    print s\n",
    "    #Laptop\n",
    "    #path = '/Users/frankkanayet/Google Drive/NLineData/Beh_Data/OnsetFiles_LandmarksFull'\n",
    "    #path = '/Users/frankkanayet/Google Drive/NLineData/Beh_Data/OnsetFiles_LandmarksFull/'+s+'/'\n",
    "    #Desktop\n",
    "    path = '/Users/frankanayet/Google Drive/NLineData/Beh_Data/OnsetFiles_Landmark_2groups'\n",
    "    path = '/Users/frankanayet/Google Drive/NLineData/Beh_Data/OnsetFiles_Landmark_2groups/'+s+'/'\n",
    "    os.makedirs(path)\n",
    "    dec_ctch_filename = s+'_DEC_CTCH'+'.txt'\n",
    "    con_bad_trial = s+'_Con_Bad'+'.txt'\n",
    "    dec_bad_trial = s+'_Dec_Bad'+'.txt'\n",
    "    dec_ctch_pathfile = path+dec_ctch_filename\n",
    "    con_bad_trial_pathfile = path+con_bad_trial\n",
    "    dec_bad_trial_pathfile = path+dec_bad_trial\n",
    "    big_dict[s]['dec_ctch_onset'].to_csv(dec_ctch_pathfile, sep='\\t', header=False, index=False)\n",
    "    big_dict[s]['dec_bad_trials'].to_csv(dec_bad_trial_pathfile, sep='\\t', header=False, index=False)\n",
    "    big_dict[s]['con_bad_trials'].to_csv(con_bad_trial_pathfile, sep='\\t', header=False, index=False)\n",
    "    del big_dict[s]['dec_ctch_onset']\n",
    "    del big_dict[s]['dec_bad_trials']\n",
    "    del big_dict[s]['con_bad_trials']\n",
    "    for lab in big_dict[s].keys():\n",
    "        print lab\n",
    "        for ph in big_dict[s][lab].keys():\n",
    "            print ph\n",
    "            for val in big_dict[s][lab][ph].keys():\n",
    "                print val\n",
    "                filename = s+'_'+lab+'_'+ph+'_'+val+'.txt'\n",
    "                pathfile = path+filename\n",
    "                big_dict[s][lab][ph][val].to_csv(pathfile, sep='\\t', header=False, index=False)"
   ]
  },
  {
   "cell_type": "code",
   "execution_count": 44,
   "metadata": {
    "collapsed": false
   },
   "outputs": [],
   "source": [
    "#Save Break onset file\n",
    "path = '/Users/frankanayet/Google Drive/NLineData/Beh_Data/OnsetFiles_Landmark_2groups/'\n",
    "#Desktop\n",
    "break_onset = pd.DataFrame.from_items([('time',[190, 388]),('duration',[6,6]),('val',[1,1])])\n",
    "break_filename = 'Break_onsets.txt'\n",
    "break_pathfile = path+break_filename\n",
    "break_onset.to_csv(break_pathfile, sep='\\t', header=False, index=False)"
   ]
  },
  {
   "cell_type": "code",
   "execution_count": null,
   "metadata": {
    "collapsed": true
   },
   "outputs": [],
   "source": []
  }
 ],
 "metadata": {
  "kernelspec": {
   "display_name": "Python 2",
   "language": "python",
   "name": "python2"
  },
  "language_info": {
   "codemirror_mode": {
    "name": "ipython",
    "version": 2
   },
   "file_extension": ".py",
   "mimetype": "text/x-python",
   "name": "python",
   "nbconvert_exporter": "python",
   "pygments_lexer": "ipython2",
   "version": "2.7.11"
  }
 },
 "nbformat": 4,
 "nbformat_minor": 0
}
