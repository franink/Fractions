{
 "cells": [
  {
   "cell_type": "code",
   "execution_count": 1,
   "metadata": {
    "collapsed": true
   },
   "outputs": [],
   "source": [
    "import numpy as np\n",
    "import pandas as pd\n",
    "import os\n",
    "import glob as glob\n",
    "import nibabel\n",
    "import nilearn\n",
    "from nilearn import image"
   ]
  },
  {
   "cell_type": "code",
   "execution_count": 2,
   "metadata": {
    "collapsed": true
   },
   "outputs": [],
   "source": [
    "filepath = '/fMRI/NLine-Space/s_03001/Peter_ROI_IEM'\n",
    "os.chdir(filepath)"
   ]
  },
  {
   "cell_type": "code",
   "execution_count": 3,
   "metadata": {
    "collapsed": false
   },
   "outputs": [
    {
     "data": {
      "text/plain": [
       "['s_03001_S_run1_unsorted_highres.nii.gz',\n",
       " 's_03001_S_run2_unsorted_highres.nii.gz',\n",
       " 's_03001_S_run3_unsorted_highres.nii.gz',\n",
       " 's_03001_S_run4_unsorted_highres.nii.gz']"
      ]
     },
     "execution_count": 3,
     "metadata": {},
     "output_type": "execute_result"
    }
   ],
   "source": [
    "filenames = glob.glob('s_03001_S_run*_unsorted_highres.nii.gz')\n",
    "filenames"
   ]
  },
  {
   "cell_type": "code",
   "execution_count": 4,
   "metadata": {
    "collapsed": true
   },
   "outputs": [],
   "source": [
    "ips0roiname = '/fMRI/NLine-Space/s_03001/ROIs/IPS0_F2.nii.gz'\n",
    "v1roiname = '/fMRI/NLine-Space/s_03001/ROIs/V1_F2.nii.gz'"
   ]
  },
  {
   "cell_type": "code",
   "execution_count": 5,
   "metadata": {
    "collapsed": true
   },
   "outputs": [],
   "source": [
    "ips0roinames = glob.glob('/fMRI/NLine-Space/s_03001/ROIs/IPS0_S*.nii.gz')\n",
    "v1roinames = glob.glob('/fMRI/NLine-Space/s_03001/ROIs/V1_S*.nii.gz')"
   ]
  },
  {
   "cell_type": "code",
   "execution_count": 6,
   "metadata": {
    "collapsed": false
   },
   "outputs": [
    {
     "data": {
      "text/plain": [
       "['/fMRI/NLine-Space/s_03001/ROIs/IPS0_S_run1.nii.gz',\n",
       " '/fMRI/NLine-Space/s_03001/ROIs/IPS0_S_run2.nii.gz',\n",
       " '/fMRI/NLine-Space/s_03001/ROIs/IPS0_S_run3.nii.gz',\n",
       " '/fMRI/NLine-Space/s_03001/ROIs/IPS0_S_run4.nii.gz']"
      ]
     },
     "execution_count": 6,
     "metadata": {},
     "output_type": "execute_result"
    }
   ],
   "source": [
    "ips0roinames"
   ]
  },
  {
   "cell_type": "code",
   "execution_count": 7,
   "metadata": {
    "collapsed": false
   },
   "outputs": [
    {
     "data": {
      "text/plain": [
       "['/fMRI/NLine-Space/s_03001/ROIs/V1_S_run1.nii.gz',\n",
       " '/fMRI/NLine-Space/s_03001/ROIs/V1_S_run2.nii.gz',\n",
       " '/fMRI/NLine-Space/s_03001/ROIs/V1_S_run3.nii.gz',\n",
       " '/fMRI/NLine-Space/s_03001/ROIs/V1_S_run4.nii.gz']"
      ]
     },
     "execution_count": 7,
     "metadata": {},
     "output_type": "execute_result"
    }
   ],
   "source": [
    "v1roinames"
   ]
  },
  {
   "cell_type": "raw",
   "metadata": {
    "collapsed": true
   },
   "source": [
    "# cd /fMRI/NLine-Space/s_03001/Peter_ROI_IEM/"
   ]
  },
  {
   "cell_type": "code",
   "execution_count": 8,
   "metadata": {
    "collapsed": true
   },
   "outputs": [],
   "source": [
    "run1 = nibabel.load(filenames[0])"
   ]
  },
  {
   "cell_type": "code",
   "execution_count": 9,
   "metadata": {
    "collapsed": false
   },
   "outputs": [
    {
     "name": "stderr",
     "output_type": "stream",
     "text": [
      "/Users/frankanayet/anaconda/lib/python2.7/site-packages/ipykernel/__main__.py:1: DeprecationWarning: Please use the shape property instead of get_shape\n",
      "  if __name__ == '__main__':\n"
     ]
    },
    {
     "data": {
      "text/plain": [
       "(256, 256, 176, 26)"
      ]
     },
     "execution_count": 9,
     "metadata": {},
     "output_type": "execute_result"
    }
   ],
   "source": [
    "run1.get_shape()"
   ]
  },
  {
   "cell_type": "code",
   "execution_count": 10,
   "metadata": {
    "collapsed": true
   },
   "outputs": [],
   "source": [
    "first = image.index_img(filenames[0],0)"
   ]
  },
  {
   "cell_type": "code",
   "execution_count": 11,
   "metadata": {
    "collapsed": false
   },
   "outputs": [
    {
     "name": "stderr",
     "output_type": "stream",
     "text": [
      "/Users/frankanayet/anaconda/lib/python2.7/site-packages/ipykernel/__main__.py:1: DeprecationWarning: Please use the shape property instead of get_shape\n",
      "  if __name__ == '__main__':\n"
     ]
    },
    {
     "data": {
      "text/plain": [
       "(256, 256, 176)"
      ]
     },
     "execution_count": 11,
     "metadata": {},
     "output_type": "execute_result"
    }
   ],
   "source": [
    "first.get_shape()"
   ]
  },
  {
   "cell_type": "code",
   "execution_count": 12,
   "metadata": {
    "collapsed": false
   },
   "outputs": [],
   "source": [
    "data = run1.get_data()"
   ]
  },
  {
   "cell_type": "code",
   "execution_count": 15,
   "metadata": {
    "collapsed": false
   },
   "outputs": [],
   "source": [
    "ips_mask = nibabel.load(ips0roiname)\n",
    "v1_mask = nibabel.load(v1roiname)"
   ]
  },
  {
   "cell_type": "code",
   "execution_count": 16,
   "metadata": {
    "collapsed": true
   },
   "outputs": [],
   "source": [
    "from nilearn.plotting import plot_roi\n",
    "%matplotlib inline\n",
    "import matplotlib as mpl\n",
    "import matplotlib.pyplot as plt"
   ]
  },
  {
   "cell_type": "code",
   "execution_count": 17,
   "metadata": {
    "collapsed": false
   },
   "outputs": [
    {
     "data": {
      "text/plain": [
       "<nilearn.plotting.displays.OrthoSlicer at 0x10ce41750>"
      ]
     },
     "execution_count": 17,
     "metadata": {},
     "output_type": "execute_result"
    },
    {
     "data": {
      "image/png": "[encoded data removed]",
      "text/plain": [
       "<matplotlib.figure.Figure at 0x10b78ec90>"
      ]
     },
     "metadata": {},
     "output_type": "display_data"
    }
   ],
   "source": [
    "plot_roi(v1_mask,first)"
   ]
  },
  {
   "cell_type": "markdown",
   "metadata": {},
   "source": [
    "###Consider resampling to lower resolution before masking the run"
   ]
  },
  {
   "cell_type": "code",
   "execution_count": 18,
   "metadata": {
    "collapsed": true
   },
   "outputs": [],
   "source": [
    "from nilearn.masking import apply_mask\n",
    "ips_masked = apply_mask(run1,ips_mask)\n",
    "v1_masked = apply_mask(run1,v1_mask)"
   ]
  },
  {
   "cell_type": "code",
   "execution_count": 19,
   "metadata": {
    "collapsed": false
   },
   "outputs": [
    {
     "data": {
      "text/plain": [
       "(26, 4558)"
      ]
     },
     "execution_count": 19,
     "metadata": {},
     "output_type": "execute_result"
    }
   ],
   "source": [
    "ips_masked.shape"
   ]
  },
  {
   "cell_type": "code",
   "execution_count": 20,
   "metadata": {
    "collapsed": false
   },
   "outputs": [
    {
     "data": {
      "text/plain": [
       "(26, 7677)"
      ]
     },
     "execution_count": 20,
     "metadata": {},
     "output_type": "execute_result"
    }
   ],
   "source": [
    "v1_masked.shape"
   ]
  },
  {
   "cell_type": "code",
   "execution_count": 21,
   "metadata": {
    "collapsed": false
   },
   "outputs": [],
   "source": [
    "from scipy.io import savemat"
   ]
  },
  {
   "cell_type": "code",
   "execution_count": 22,
   "metadata": {
    "collapsed": false
   },
   "outputs": [],
   "source": [
    "outname = 'ips0_trn.mat'\n",
    "outpath = '/fMRI/NLine-Space/s_03001/Peter_ROI_IEM/'\n",
    "outpathname = outpath+outname"
   ]
  },
  {
   "cell_type": "code",
   "execution_count": 23,
   "metadata": {
    "collapsed": false
   },
   "outputs": [],
   "source": [
    "savemat(outpathname,{'ips0_trn':ips_masked})"
   ]
  },
  {
   "cell_type": "code",
   "execution_count": 24,
   "metadata": {
    "collapsed": true
   },
   "outputs": [],
   "source": [
    "from nilearn.input_data import NiftiMasker"
   ]
  },
  {
   "cell_type": "code",
   "execution_count": 25,
   "metadata": {
    "collapsed": true
   },
   "outputs": [],
   "source": [
    "v1_masker = NiftiMasker(mask_img=v1_mask, standardize=True)\n",
    "ips0_masker = NiftiMasker(mask_img=ips_mask, standardize=True)"
   ]
  },
  {
   "cell_type": "code",
   "execution_count": 26,
   "metadata": {
    "collapsed": true
   },
   "outputs": [],
   "source": [
    "v1_masked = v1_masker.fit_transform(run1)\n",
    "ips_masked = ips0_masker.fit_transform(run1)"
   ]
  },
  {
   "cell_type": "code",
   "execution_count": 27,
   "metadata": {
    "collapsed": false
   },
   "outputs": [
    {
     "data": {
      "text/plain": [
       "(26, 7677)"
      ]
     },
     "execution_count": 27,
     "metadata": {},
     "output_type": "execute_result"
    }
   ],
   "source": [
    "v1_masked.shape"
   ]
  },
  {
   "cell_type": "code",
   "execution_count": 28,
   "metadata": {
    "collapsed": false
   },
   "outputs": [
    {
     "data": {
      "text/plain": [
       "(26, 4558)"
      ]
     },
     "execution_count": 28,
     "metadata": {},
     "output_type": "execute_result"
    }
   ],
   "source": [
    "ips_masked.shape"
   ]
  },
  {
   "cell_type": "code",
   "execution_count": 29,
   "metadata": {
    "collapsed": false
   },
   "outputs": [
    {
     "data": {
      "text/plain": [
       "array([[ 1.92054832,  1.45703888, -0.19335538, ...,  0.        ,\n",
       "         0.        ,  0.        ],\n",
       "       [-0.97515857, -0.6545887 , -0.79179609, ...,  0.        ,\n",
       "         0.        ,  0.        ],\n",
       "       [-0.37094823, -0.21507819,  0.12759711, ...,  0.        ,\n",
       "         0.        ,  0.        ],\n",
       "       ..., \n",
       "       [ 2.19368052,  2.73911262,  0.49728358, ...,  0.        ,\n",
       "         0.        ,  0.        ],\n",
       "       [-2.02939272, -2.10606241, -0.79671347, ...,  0.        ,\n",
       "         0.        ,  0.        ],\n",
       "       [-0.72430295, -0.42041683, -0.32220206, ...,  0.        ,\n",
       "         0.        ,  0.        ]], dtype=float32)"
      ]
     },
     "execution_count": 29,
     "metadata": {},
     "output_type": "execute_result"
    }
   ],
   "source": [
    "v1_masked"
   ]
  },
  {
   "cell_type": "markdown",
   "metadata": {},
   "source": [
    "##Generalize to combine 3 runs for training set"
   ]
  },
  {
   "cell_type": "code",
   "execution_count": 30,
   "metadata": {
    "collapsed": false
   },
   "outputs": [
    {
     "name": "stdout",
     "output_type": "stream",
     "text": [
      "run1\n",
      "(26, 4558)\n",
      "(26, 7677)\n",
      "run2\n",
      "(26, 4558)\n",
      "(26, 7677)\n",
      "run3\n",
      "(26, 4558)\n",
      "(26, 7677)\n",
      "run4\n",
      "(26, 4558)\n",
      "(26, 7677)\n"
     ]
    }
   ],
   "source": [
    "runs = ['run1', 'run2', 'run3', 'run4']\n",
    "maskpath = '/fMRI/NLine-Space/s_03001/ROIs/'\n",
    "brains_dict = {}\n",
    "for run in runs:\n",
    "    print run\n",
    "    filename = 's_03001_S_'+run+'_unsorted_highres.nii.gz'\n",
    "    brains_dict[run] = {}\n",
    "    brains_dict[run]['brain'] = nibabel.load(filename)\n",
    "    ips_maskname = maskpath+'IPS0_F2.nii.gz'\n",
    "    v1_maskname = maskpath+'V1_F2.nii.gz'\n",
    "    #ips_maskname = maskpath+'IPS0_S_'+run+'.nii.gz'\n",
    "    #v1_maskname = maskpath+'V1_S_'+run+'.nii.gz'\n",
    "    v1_mask = nibabel.load(v1_maskname)\n",
    "    ips0_mask = nibabel.load(ips_maskname)\n",
    "    v1_masker = NiftiMasker(mask_img=v1_mask, standardize=True)\n",
    "    ips0_masker = NiftiMasker(mask_img=ips0_mask, standardize=True)\n",
    "    brains_dict[run]['v1_masked'] = v1_masker.fit_transform(brains_dict[run]['brain'])\n",
    "    brains_dict[run]['ips_masked'] = ips0_masker.fit_transform(brains_dict[run]['brain'])\n",
    "    print brains_dict[run]['ips_masked'].shape\n",
    "    print brains_dict[run]['v1_masked'].shape"
   ]
  },
  {
   "cell_type": "code",
   "execution_count": 31,
   "metadata": {
    "collapsed": true
   },
   "outputs": [],
   "source": [
    "concat_ips = np.ma.concatenate([brains_dict['run1']['ips_masked'],brains_dict['run2']['ips_masked'],\n",
    "                                 brains_dict['run3']['ips_masked']])\n",
    "concat_v1 = np.ma.concatenate([brains_dict['run1']['v1_masked'],brains_dict['run2']['v1_masked'],\n",
    "                                 brains_dict['run3']['v1_masked']])"
   ]
  },
  {
   "cell_type": "code",
   "execution_count": 32,
   "metadata": {
    "collapsed": false
   },
   "outputs": [
    {
     "data": {
      "text/plain": [
       "(78, 4558)"
      ]
     },
     "execution_count": 32,
     "metadata": {},
     "output_type": "execute_result"
    }
   ],
   "source": [
    "concat_ips.shape"
   ]
  },
  {
   "cell_type": "code",
   "execution_count": 33,
   "metadata": {
    "collapsed": false
   },
   "outputs": [
    {
     "data": {
      "text/plain": [
       "(78, 7677)"
      ]
     },
     "execution_count": 33,
     "metadata": {},
     "output_type": "execute_result"
    }
   ],
   "source": [
    "concat_v1.shape"
   ]
  },
  {
   "cell_type": "code",
   "execution_count": 38,
   "metadata": {
    "collapsed": true
   },
   "outputs": [],
   "source": [
    "outname = 'ips0_trn.mat'\n",
    "outpath = '/fMRI/NLine-Space/s_03001/Peter_ROI_IEM/'\n",
    "outpathname = outpath+outname"
   ]
  },
  {
   "cell_type": "code",
   "execution_count": 39,
   "metadata": {
    "collapsed": true
   },
   "outputs": [],
   "source": [
    "savemat(outpathname,{'ips0_trn':concat_ips})"
   ]
  },
  {
   "cell_type": "code",
   "execution_count": 40,
   "metadata": {
    "collapsed": true
   },
   "outputs": [],
   "source": [
    "outname = 'v1_trn.mat'\n",
    "outpath = '/fMRI/NLine-Space/s_03001/Peter_ROI_IEM/'\n",
    "outpathname = outpath+outname"
   ]
  },
  {
   "cell_type": "code",
   "execution_count": 41,
   "metadata": {
    "collapsed": true
   },
   "outputs": [],
   "source": [
    "savemat(outpathname,{'v1_trn':concat_v1})"
   ]
  },
  {
   "cell_type": "code",
   "execution_count": 66,
   "metadata": {
    "collapsed": false
   },
   "outputs": [],
   "source": [
    "ntrials = run1.shape[3]\n",
    "trn_r = np.transpose(np.concatenate([np.repeat(1,ntrials),np.repeat(2,ntrials),np.repeat(3,ntrials)]))"
   ]
  },
  {
   "cell_type": "code",
   "execution_count": 67,
   "metadata": {
    "collapsed": false,
    "scrolled": true
   },
   "outputs": [
    {
     "data": {
      "text/plain": [
       "(78,)"
      ]
     },
     "execution_count": 67,
     "metadata": {},
     "output_type": "execute_result"
    }
   ],
   "source": [
    "trn_r.reshape((len(trn_r),1))\n",
    "trn_r.shape"
   ]
  },
  {
   "cell_type": "code",
   "execution_count": 68,
   "metadata": {
    "collapsed": false
   },
   "outputs": [],
   "source": [
    "trn_r = np.matrix(trn_r).transpose()"
   ]
  },
  {
   "cell_type": "code",
   "execution_count": 69,
   "metadata": {
    "collapsed": false
   },
   "outputs": [
    {
     "data": {
      "text/plain": [
       "(78, 1)"
      ]
     },
     "execution_count": 69,
     "metadata": {},
     "output_type": "execute_result"
    }
   ],
   "source": [
    "trn_r.shape"
   ]
  },
  {
   "cell_type": "markdown",
   "metadata": {},
   "source": [
    "##Create index for runs"
   ]
  },
  {
   "cell_type": "code",
   "execution_count": 70,
   "metadata": {
    "collapsed": true
   },
   "outputs": [],
   "source": [
    "outname = 'trn_r.mat'\n",
    "outpath = '/fMRI/NLine-Space/s_03001/Peter_ROI_IEM/'\n",
    "outpathname = outpath+outname"
   ]
  },
  {
   "cell_type": "code",
   "execution_count": 71,
   "metadata": {
    "collapsed": true
   },
   "outputs": [],
   "source": [
    "savemat(outpathname,{'trn_r':trn_r})"
   ]
  },
  {
   "cell_type": "markdown",
   "metadata": {},
   "source": [
    "## Now the test run"
   ]
  },
  {
   "cell_type": "code",
   "execution_count": 72,
   "metadata": {
    "collapsed": true
   },
   "outputs": [],
   "source": [
    "outname = 'ips0_tst.mat'\n",
    "outpath = '/fMRI/NLine-Space/s_03001/Peter_ROI_IEM/'\n",
    "outpathname = outpath+outname"
   ]
  },
  {
   "cell_type": "code",
   "execution_count": 73,
   "metadata": {
    "collapsed": true
   },
   "outputs": [],
   "source": [
    "savemat(outpathname,{'ips0_tst':brains_dict['run4']['ips_masked']})"
   ]
  },
  {
   "cell_type": "code",
   "execution_count": 74,
   "metadata": {
    "collapsed": true
   },
   "outputs": [],
   "source": [
    "outname = 'v1_tst.mat'\n",
    "outpath = '/fMRI/NLine-Space/s_03001/Peter_ROI_IEM/'\n",
    "outpathname = outpath+outname"
   ]
  },
  {
   "cell_type": "code",
   "execution_count": 75,
   "metadata": {
    "collapsed": true
   },
   "outputs": [],
   "source": [
    "savemat(outpathname,{'v1_tst':brains_dict['run4']['v1_masked']})"
   ]
  },
  {
   "cell_type": "markdown",
   "metadata": {},
   "source": [
    "##Create index for test runs"
   ]
  },
  {
   "cell_type": "code",
   "execution_count": 76,
   "metadata": {
    "collapsed": false
   },
   "outputs": [
    {
     "data": {
      "text/plain": [
       "array([1, 1, 1, 1, 1, 1, 1, 1, 1, 1, 1, 1, 1, 1, 1, 1, 1, 1, 1, 1, 1, 1, 1,\n",
       "       1, 1, 1])"
      ]
     },
     "execution_count": 76,
     "metadata": {},
     "output_type": "execute_result"
    }
   ],
   "source": [
    "tst_r = np.transpose(np.repeat(1,ntrials))\n",
    "tst_r"
   ]
  },
  {
   "cell_type": "code",
   "execution_count": 77,
   "metadata": {
    "collapsed": false
   },
   "outputs": [
    {
     "data": {
      "text/plain": [
       "(26, 1)"
      ]
     },
     "execution_count": 77,
     "metadata": {},
     "output_type": "execute_result"
    }
   ],
   "source": [
    "tst_r = np.matrix(tst_r).transpose()\n",
    "tst_r.shape"
   ]
  },
  {
   "cell_type": "code",
   "execution_count": 78,
   "metadata": {
    "collapsed": true
   },
   "outputs": [],
   "source": [
    "outname = 'tst_r.mat'\n",
    "outpath = '/fMRI/NLine-Space/s_03001/Peter_ROI_IEM/'\n",
    "outpathname = outpath+outname"
   ]
  },
  {
   "cell_type": "code",
   "execution_count": 79,
   "metadata": {
    "collapsed": true
   },
   "outputs": [],
   "source": [
    "savemat(outpathname,{'tst_r':tst_r})"
   ]
  },
  {
   "cell_type": "code",
   "execution_count": null,
   "metadata": {
    "collapsed": true
   },
   "outputs": [],
   "source": []
  }
 ],
 "metadata": {
  "kernelspec": {
   "display_name": "Python 2",
   "language": "python",
   "name": "python2"
  },
  "language_info": {
   "codemirror_mode": {
    "name": "ipython",
    "version": 2
   },
   "file_extension": ".py",
   "mimetype": "text/x-python",
   "name": "python",
   "nbconvert_exporter": "python",
   "pygments_lexer": "ipython2",
   "version": "2.7.10"
  }
 },
 "nbformat": 4,
 "nbformat_minor": 0
}
