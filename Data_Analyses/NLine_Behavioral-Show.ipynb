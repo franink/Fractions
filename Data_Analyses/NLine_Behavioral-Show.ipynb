{
 "cells": [
  {
   "cell_type": "code",
   "execution_count": 1,
   "metadata": {
    "collapsed": false
   },
   "outputs": [],
   "source": [
    "#Opened with --pylab flag\n",
    "#Need to create code to analyze piot data\n",
    "import matplotlib.pyplot as plt\n",
    "%matplotlib inline\n",
    "import pandas as pd\n",
    "import numpy as np\n",
    "from scipy import io\n",
    "import os\n",
    "import glob"
   ]
  },
  {
   "cell_type": "code",
   "execution_count": 2,
   "metadata": {
    "collapsed": false
   },
   "outputs": [],
   "source": [
    "# Change this depending on computer used for analysis\n",
    "## Laptop\n",
    "#filepath = '/Users/frankkanayet/Dropbox/NLineExperiment/PilotData'\n",
    "#filepath = '/Users/frankkanayet/Dropbox/NLineExperiment/PilotData/test3s'\n",
    "#filepath = '/Users/frankkanayet/Google Drive/NLineData/Beh_Data'\n",
    "\n",
    "## Desktop\n",
    "filepath = '/Users/frankanayet/Google Drive/NLineData/Beh_Data'\n",
    "os.chdir(filepath)"
   ]
  },
  {
   "cell_type": "code",
   "execution_count": 3,
   "metadata": {
    "collapsed": false
   },
   "outputs": [
    {
     "name": "stdout",
     "output_type": "stream",
     "text": [
      "Pandas version 0.16.2\n"
     ]
    }
   ],
   "source": [
    "print 'Pandas version ' + pd.__version__"
   ]
  },
  {
   "cell_type": "code",
   "execution_count": 4,
   "metadata": {
    "collapsed": false
   },
   "outputs": [
    {
     "name": "stdout",
     "output_type": "stream",
     "text": [
      "['Nline_02001-Mar1615.mat', 'Nline_02002-Mar1915.mat', 'Nline_02003-Mar2015a.mat', 'Nline_02004-Mar2315a.mat', 'Nline_02005-Mar2315a.mat', 'Nline_02006-Mar2315a.mat', 'Nline_02007-Mar2415a.mat', 'Nline_02009-Mar2615a.mat', 'Nline_02010-Mar2615a.mat', 'Nline_02011-Mar2615a.mat', 'Nline_02012-Apr0215a.mat', 'Nline_02014-Apr0315a.mat', 'Nline_02015Apr2715a.mat', 'Nline_02016-Apr2715a.mat', 'Nline_02017-Apr2815a.mat', 'Nline_02018-Apr2815a.mat', 'Nline_02019-Apr2915a.mat', 'Nline_02020-May1815a.mat', 'Nline_02021-May2515a.mat', 'Nline_02022-May2515a.mat', 'Nline_02023-May2715a.mat', 'Nline_02024-May2815a.mat', 'Nline_02027-Jun0115a.mat']\n"
     ]
    },
    {
     "data": {
      "text/plain": [
       "['s_02009',\n",
       " 's_02003',\n",
       " 's_02002',\n",
       " 's_02001',\n",
       " 's_02007',\n",
       " 's_02006',\n",
       " 's_02005',\n",
       " 's_02004',\n",
       " 's_02018',\n",
       " 's_02019',\n",
       " 's_02010',\n",
       " 's_02011',\n",
       " 's_02012',\n",
       " 's_02014',\n",
       " 's_02015',\n",
       " 's_02016',\n",
       " 's_02017',\n",
       " 's_02024',\n",
       " 's_02027',\n",
       " 's_02021',\n",
       " 's_02020',\n",
       " 's_02023',\n",
       " 's_02022']"
      ]
     },
     "execution_count": 4,
     "metadata": {},
     "output_type": "execute_result"
    }
   ],
   "source": [
    "filenames = glob.glob('Nline_*.mat')\n",
    "print filenames\n",
    "#index to isolate subj numbers\n",
    "data_dict = {}\n",
    "for i in filenames:\n",
    "    id1 = filenames[0].find('_') + 1\n",
    "    id2 = filenames[0].find('-')\n",
    "    sub_nbr = i[id1:id2]\n",
    "    sub_name = i\n",
    "    s_id = 's_'+sub_nbr\n",
    "    data_dict[s_id] = io.loadmat(sub_name)\n",
    "\n",
    "#sub_name = filenames[0] #This will be changed to a loop for all subjects later\n",
    "#mat = io.loadmat(sub_name)\n",
    "data_dict.keys()"
   ]
  },
  {
   "cell_type": "code",
   "execution_count": 5,
   "metadata": {
    "collapsed": false
   },
   "outputs": [],
   "source": [
    "sub_ex = data_dict.keys()[0]"
   ]
  },
  {
   "cell_type": "code",
   "execution_count": 6,
   "metadata": {
    "collapsed": false
   },
   "outputs": [],
   "source": [
    "#data_dict['s_00011']['p']"
   ]
  },
  {
   "cell_type": "code",
   "execution_count": 7,
   "metadata": {
    "collapsed": false
   },
   "outputs": [],
   "source": [
    "#for i in data_dict:\n",
    "#    data_dict[i].pop('__header__')\n",
    "#    data_dict[i].pop('__version__')\n",
    "#    data_dict[i].pop('__globals__')\n",
    "#data_dict['s_00011'].keys()"
   ]
  },
  {
   "cell_type": "code",
   "execution_count": 8,
   "metadata": {
    "collapsed": false
   },
   "outputs": [
    {
     "data": {
      "text/plain": [
       "49"
      ]
     },
     "execution_count": 8,
     "metadata": {},
     "output_type": "execute_result"
    }
   ],
   "source": [
    "## The indexes of zeros are as follows [0][0][x][y][z][0] The x y z are the 3 dimensions of the data 3d matrix the zeros are padding\n",
    "data_dict[sub_ex]['p']['NlineResults'][0][0][0][5][0][0]\n",
    "len(data_dict[sub_ex]['p']['NlineResults'][0][0][:])"
   ]
  },
  {
   "cell_type": "code",
   "execution_count": 9,
   "metadata": {
    "collapsed": false
   },
   "outputs": [
    {
     "data": {
      "text/plain": [
       "('ramp_up',\n",
       " 'Mean_ITI',\n",
       " 'Mean_hold',\n",
       " 'decision',\n",
       " 'consider',\n",
       " 'runs',\n",
       " 'nStim',\n",
       " 'ntasks',\n",
       " 'tasks',\n",
       " 'trialSecs',\n",
       " 'lineLength',\n",
       " 'speed',\n",
       " 'run_order',\n",
       " 'NlineResults',\n",
       " 'time_Runs',\n",
       " 'task_transition',\n",
       " 'start_Nline',\n",
       " 'finish_Nline')"
      ]
     },
     "execution_count": 9,
     "metadata": {},
     "output_type": "execute_result"
    }
   ],
   "source": [
    "data_dict[sub_ex]['p'].dtype.names"
   ]
  },
  {
   "cell_type": "code",
   "execution_count": 10,
   "metadata": {
    "collapsed": false
   },
   "outputs": [],
   "source": [
    "#Comment this out for include all subjects\n",
    "#data_dict.pop('s_02012')\n",
    "#data_dict.pop('s_02001')\n",
    "#data_dict.pop('s_02002')\n",
    "#data_dict.pop('s_02019')\n",
    "#data_dict.pop('s_02017')\n",
    "del data_dict['s_02012']\n",
    "del data_dict['s_02017']\n",
    "del data_dict['s_02019']\n",
    "del data_dict['s_02001']\n",
    "del data_dict['s_02002']"
   ]
  },
  {
   "cell_type": "code",
   "execution_count": 11,
   "metadata": {
    "collapsed": false
   },
   "outputs": [],
   "source": [
    "cons_time = data_dict[sub_ex]['p']['consider'][0][0][0][0]\n",
    "dec_time = data_dict[sub_ex]['p']['decision'][0][0][0][0]"
   ]
  },
  {
   "cell_type": "code",
   "execution_count": 12,
   "metadata": {
    "collapsed": false
   },
   "outputs": [],
   "source": [
    "new_dat = {}\n",
    "#new_df = {}\n",
    "for s in data_dict:\n",
    "    tasks = ['NlineResults']\n",
    "    new_dat[s]={}\n",
    "    #new_df[s] = {}\n",
    "    for task in tasks:\n",
    "        dat = data_dict[s]['p'][task]\n",
    "        num_fields = len(data_dict[s]['p'][task][0][0][0])\n",
    "        dat_names = []\n",
    "        for k in range(0,num_fields):\n",
    "            dat_names.append(dat[0][0][0][k][0][0])\n",
    "        new_dat[s][task] = {}\n",
    "        runs = data_dict[s]['p']['runs'][0][0][0][0]\n",
    "        for run in range(0,runs):\n",
    "            run_name = 'Run_'+str(run)\n",
    "            new_dat[s][task][run_name] = {}\n",
    "            for i in range(0,len(dat_names)):\n",
    "                new_dat[s][task][run_name][dat_names[i]] = []\n",
    "                for j in range(0,len(dat[0][0][:])-1):\n",
    "                    if dat_names[i] == 'catch_probe':\n",
    "                        new_dat[s][task][run_name][dat_names[i]].append(dat[0][0][j+1][i][run])\n",
    "                    elif dat_names[i] == 'Probe':\n",
    "                        new_dat[s][task][run_name][dat_names[i]].append(dat[0][0][j+1][i][run][0])\n",
    "                    else:\n",
    "                        new_dat[s][task][run_name][dat_names[i]].append(dat[0][0][j+1][i][run][0][0])\n",
    "#legible access to the data\n",
    "Nline = 'NlineResults' #numberline"
   ]
  },
  {
   "cell_type": "code",
   "execution_count": 13,
   "metadata": {
    "collapsed": false
   },
   "outputs": [],
   "source": [
    "#new_dat[sub_ex]['NlineResults']['Run_1'].keys()"
   ]
  },
  {
   "cell_type": "code",
   "execution_count": 14,
   "metadata": {
    "collapsed": false
   },
   "outputs": [],
   "source": [
    "#new_dat[sub_ex]['NlineResults']['Run_1']['Probe']"
   ]
  },
  {
   "cell_type": "code",
   "execution_count": 15,
   "metadata": {
    "collapsed": false
   },
   "outputs": [],
   "source": [
    "#new_dat[sub_ex]['NlineResults']['Run_1']['catch_probe']"
   ]
  },
  {
   "cell_type": "code",
   "execution_count": 16,
   "metadata": {
    "collapsed": false
   },
   "outputs": [],
   "source": [
    "subj = data_dict.keys()\n",
    "tasks = [Nline]\n",
    "tuples = []\n",
    "rows = len(data_dict[sub_ex]['p'][Nline][0][0][:])-1\n",
    "for s in subj:\n",
    "    runs = new_dat[s]['NlineResults'].keys()\n",
    "    for run in runs:\n",
    "        for i in range(0,rows):\n",
    "            tuples.append((s, run, i))\n",
    "len(tuples)\n",
    "#iterables = [subj,tasks,runs]\n",
    "indexes = pd.MultiIndex.from_tuples(tuples, names=['Subj', 'Run', 'Trial'])\n",
    "nline_cols = len(new_dat[sub_ex][Nline]['Run_0'].keys())"
   ]
  },
  {
   "cell_type": "code",
   "execution_count": 17,
   "metadata": {
    "collapsed": false
   },
   "outputs": [],
   "source": [
    "#indexes[90]"
   ]
  },
  {
   "cell_type": "code",
   "execution_count": 18,
   "metadata": {
    "collapsed": false
   },
   "outputs": [],
   "source": [
    "#indexes[1][1]"
   ]
  },
  {
   "cell_type": "code",
   "execution_count": 19,
   "metadata": {
    "collapsed": false
   },
   "outputs": [],
   "source": [
    "varnames = new_dat[sub_ex][Nline]['Run_0'].keys()\n",
    "#varnames[24]"
   ]
  },
  {
   "cell_type": "code",
   "execution_count": 20,
   "metadata": {
    "collapsed": false
   },
   "outputs": [],
   "source": [
    "#len(indexes)"
   ]
  },
  {
   "cell_type": "code",
   "execution_count": 21,
   "metadata": {
    "collapsed": false
   },
   "outputs": [],
   "source": [
    "# Code empty cells of probes and catch_probes as Nan\n",
    "Dic_list = []\n",
    "probes = ['catch_probe']\n",
    "for data in indexes:\n",
    "    temp_dict = {}\n",
    "    for var in varnames:\n",
    "        if var == probes[0]:\n",
    "            if len(new_dat.get(data[0]).get(Nline).get(data[1]).get(var)[data[2]]) == 0:\n",
    "                new_dat.get(data[0]).get(Nline).get(data[1]).get(var)[data[2]] = np.array([np.nan])\n",
    "            temp_dict[var] = new_dat.get(data[0]).get(Nline).get(data[1]).get(var)[data[2]][0]\n",
    "        else:\n",
    "            temp_dict[var] = new_dat.get(data[0]).get(Nline).get(data[1]).get(var)[data[2]]\n",
    "    Dic_list.append(temp_dict)"
   ]
  },
  {
   "cell_type": "code",
   "execution_count": 22,
   "metadata": {
    "collapsed": false
   },
   "outputs": [
    {
     "data": {
      "text/plain": [
       "12"
      ]
     },
     "execution_count": 22,
     "metadata": {},
     "output_type": "execute_result"
    }
   ],
   "source": [
    "#Create dataframe\n",
    "nline_df = pd.DataFrame(Dic_list, index=indexes)\n",
    "sum(nline_df.loc[sub_ex].loc['Run_0'].iloc[0:48]['catch'])"
   ]
  },
  {
   "cell_type": "code",
   "execution_count": 23,
   "metadata": {
    "collapsed": false
   },
   "outputs": [],
   "source": [
    "#nline_df.loc[sub_ex].loc['Run_0'].iloc[0:10]['Error']"
   ]
  },
  {
   "cell_type": "code",
   "execution_count": 24,
   "metadata": {
    "collapsed": false
   },
   "outputs": [],
   "source": [
    "nline_df.index.names = ['Subject', 'Run', 'Trial']\n",
    "#nline_df.index.names"
   ]
  },
  {
   "cell_type": "code",
   "execution_count": 25,
   "metadata": {
    "collapsed": false
   },
   "outputs": [
    {
     "name": "stderr",
     "output_type": "stream",
     "text": [
      "/Users/frankanayet/anaconda/lib/python2.7/site-packages/IPython/kernel/__main__.py:3: SettingWithCopyWarning: \n",
      "A value is trying to be set on a copy of a slice from a DataFrame\n",
      "\n",
      "See the the caveats in the documentation: http://pandas.pydata.org/pandas-docs/stable/indexing.html#indexing-view-versus-copy\n",
      "  app.launch_new_instance()\n",
      "/Users/frankanayet/anaconda/lib/python2.7/site-packages/IPython/kernel/__main__.py:4: SettingWithCopyWarning: \n",
      "A value is trying to be set on a copy of a slice from a DataFrame\n",
      "\n",
      "See the the caveats in the documentation: http://pandas.pydata.org/pandas-docs/stable/indexing.html#indexing-view-versus-copy\n"
     ]
    },
    {
     "data": {
      "text/plain": [
       "Subject  Run    Trial\n",
       "s_02009  Run_3  0        -44\n",
       "                1         80\n",
       "                2        -10\n",
       "                3         14\n",
       "                4         48\n",
       "                5        -86\n",
       "                6         54\n",
       "                7        -94\n",
       "                8        -58\n",
       "                9         30\n",
       "                10       -34\n",
       "                11        70\n",
       "                12       -78\n",
       "                13        20\n",
       "                14       -28\n",
       "                15        96\n",
       "                16        if\n",
       "                17        or\n",
       "                18        ox\n",
       "                19        of\n",
       "                20        we\n",
       "                21        as\n",
       "                22        do\n",
       "                23        it\n",
       "                24        am\n",
       "                25        so\n",
       "                26        is\n",
       "                27        be\n",
       "                28        by\n",
       "                29        my\n",
       "                        ... \n",
       "s_02022  Run_0  18        is\n",
       "                19        my\n",
       "                20        me\n",
       "                21        if\n",
       "                22        am\n",
       "                23        do\n",
       "                24        he\n",
       "                25        so\n",
       "                26        be\n",
       "                27        as\n",
       "                28        by\n",
       "                29        of\n",
       "                30        ox\n",
       "                31        we\n",
       "                32        28\n",
       "                33         7\n",
       "                34        11\n",
       "                35        21\n",
       "                36        90\n",
       "                37        45\n",
       "                38        60\n",
       "                39        65\n",
       "                40        85\n",
       "                41        57\n",
       "                42        74\n",
       "                43         3\n",
       "                44        36\n",
       "                45        33\n",
       "                46        98\n",
       "                47        77\n",
       "Name: Probe, dtype: object"
      ]
     },
     "execution_count": 25,
     "metadata": {},
     "output_type": "execute_result"
    }
   ],
   "source": [
    "test = nline_df['Probe']\n",
    "for i in range(0,len(test)):\n",
    "    test[i] = np.ravel(test[i])\n",
    "    test[i] = test[i][0]\n",
    "nline_df['Probe'] = test\n",
    "nline_df['Probe']"
   ]
  },
  {
   "cell_type": "markdown",
   "metadata": {},
   "source": [
    "### Create Stim Labels"
   ]
  },
  {
   "cell_type": "code",
   "execution_count": 26,
   "metadata": {
    "collapsed": false
   },
   "outputs": [],
   "source": [
    "#now nline\n",
    "#nline_df['Num'] = nline_df['Num'].map('{:.0f}'.format)\n",
    "#nline_df['Denom'] = nline_df['Denom'].map('{:.0f}'.format)\n",
    "#nline_df['Stim'] = nline_df['Num']+'/'+nline_df['Denom']\n",
    "#nline_df['Stim']"
   ]
  },
  {
   "cell_type": "code",
   "execution_count": 27,
   "metadata": {
    "collapsed": false
   },
   "outputs": [
    {
     "data": {
      "text/plain": [
       "Index([           u'BadPress',               u'Block',               u'Click',\n",
       "                   u'Correct',               u'Error',           u'ITI_onset',\n",
       "            u'ITI_onset_real',            u'Line_pct',                u'Move',\n",
       "                    u'Points',               u'Probe',                  u'RT',\n",
       "                    u'RTHold',            u'Response',                u'Slow',\n",
       "                      u'Task',               u'TestX',               u'Trial',\n",
       "                     u'Wrong',               u'catch',         u'catch_probe',\n",
       "            u'consider_onset', u'consider_onset_real',        u'decision_end',\n",
       "         u'decision_end_real',      u'decision_onset', u'decision_onset_real',\n",
       "                      u'hold',          u'hold_onset',     u'hold_onset_real',\n",
       "                       u'iti',           u'mouse_pos'],\n",
       "      dtype='object')"
      ]
     },
     "execution_count": 27,
     "metadata": {},
     "output_type": "execute_result"
    }
   ],
   "source": [
    "nline_df.columns"
   ]
  },
  {
   "cell_type": "markdown",
   "metadata": {},
   "source": [
    "# Number Line Analyses"
   ]
  },
  {
   "cell_type": "markdown",
   "metadata": {},
   "source": [
    "### Accuracy & RT"
   ]
  },
  {
   "cell_type": "code",
   "execution_count": 28,
   "metadata": {
    "collapsed": false
   },
   "outputs": [],
   "source": [
    "#nline_df['catch'].sum()"
   ]
  },
  {
   "cell_type": "code",
   "execution_count": 29,
   "metadata": {
    "collapsed": false
   },
   "outputs": [],
   "source": [
    "nline_no_miss = nline_df[['Error', 'RT', 'RTHold', 'catch']]\n",
    "nline_no_miss = nline_no_miss[nline_no_miss['catch']<1]\n",
    "#len(nline_no_miss)"
   ]
  },
  {
   "cell_type": "code",
   "execution_count": 30,
   "metadata": {
    "collapsed": false
   },
   "outputs": [
    {
     "data": {
      "text/plain": [
       "Subject  Run    Trial\n",
       "s_02009  Run_3  1        0\n",
       "                2        0\n",
       "                3        0\n",
       "                5        0\n",
       "                6        0\n",
       "                7        0\n",
       "                8        0\n",
       "                9        0\n",
       "                11       0\n",
       "                12       0\n",
       "                13       0\n",
       "                15       0\n",
       "                17       0\n",
       "                18       0\n",
       "                19       0\n",
       "                20       0\n",
       "                21       0\n",
       "                22       0\n",
       "                24       0\n",
       "                26       0\n",
       "                27       0\n",
       "                29       0\n",
       "                30       0\n",
       "                31       0\n",
       "                32       0\n",
       "                34       0\n",
       "                35       0\n",
       "                37       0\n",
       "                38       0\n",
       "                39       0\n",
       "                        ..\n",
       "s_02022  Run_0  8        0\n",
       "                9        0\n",
       "                10       0\n",
       "                11       0\n",
       "                14       0\n",
       "                15       0\n",
       "                16       0\n",
       "                19       0\n",
       "                21       0\n",
       "                22       0\n",
       "                23       0\n",
       "                24       0\n",
       "                25       0\n",
       "                26       0\n",
       "                27       0\n",
       "                29       0\n",
       "                30       0\n",
       "                31       0\n",
       "                33       0\n",
       "                34       0\n",
       "                36       0\n",
       "                37       0\n",
       "                38       0\n",
       "                40       0\n",
       "                41       0\n",
       "                43       0\n",
       "                44       0\n",
       "                45       0\n",
       "                46       0\n",
       "                47       0\n",
       "Name: catch, dtype: int64"
      ]
     },
     "execution_count": 30,
     "metadata": {},
     "output_type": "execute_result"
    }
   ],
   "source": [
    "nline_no_miss = nline_no_miss.replace(-1, np.nan)\n",
    "nline_no_miss.pop('catch')"
   ]
  },
  {
   "cell_type": "code",
   "execution_count": 31,
   "metadata": {
    "collapsed": false
   },
   "outputs": [],
   "source": [
    "nline_no_miss['Missed'] = nline_no_miss['Error']\n",
    "nline_no_miss['Missed'][nline_no_miss['Missed']<1] = 0\n",
    "nline_missed = nline_no_miss['Missed']\n",
    "#nline_missed"
   ]
  },
  {
   "cell_type": "code",
   "execution_count": 32,
   "metadata": {
    "collapsed": false
   },
   "outputs": [],
   "source": [
    "nline_no_miss = nline_no_miss[nline_no_miss['Error']<1]\n",
    "nline_no_miss['AbsError'] = np.abs(nline_no_miss['Error'])\n",
    "#nline_no_miss"
   ]
  },
  {
   "cell_type": "markdown",
   "metadata": {},
   "source": [
    "## How many trials missed?"
   ]
  },
  {
   "cell_type": "code",
   "execution_count": 33,
   "metadata": {
    "collapsed": false,
    "scrolled": true
   },
   "outputs": [
    {
     "data": {
      "text/plain": [
       "Subject\n",
       "s_02003     7\n",
       "s_02004     3\n",
       "s_02005    17\n",
       "s_02006     2\n",
       "s_02007     1\n",
       "s_02009     1\n",
       "s_02010     7\n",
       "s_02011     7\n",
       "s_02014     7\n",
       "s_02015     6\n",
       "s_02016    10\n",
       "s_02018     4\n",
       "s_02020    12\n",
       "s_02021     5\n",
       "s_02022    18\n",
       "s_02023     5\n",
       "s_02024    10\n",
       "s_02027     6\n",
       "Name: Missed, dtype: float64"
      ]
     },
     "execution_count": 33,
     "metadata": {},
     "output_type": "execute_result"
    }
   ],
   "source": [
    "nline_missed_subj = nline_missed.groupby(level=0)\n",
    "nline_missed_subj.sum()"
   ]
  },
  {
   "cell_type": "markdown",
   "metadata": {},
   "source": [
    "##Subject Averages"
   ]
  },
  {
   "cell_type": "code",
   "execution_count": 34,
   "metadata": {
    "collapsed": false,
    "scrolled": true
   },
   "outputs": [
    {
     "data": {
      "text/html": [
       "<div>\n",
       "<table border=\"1\" class=\"dataframe\">\n",
       "  <thead>\n",
       "    <tr style=\"text-align: right;\">\n",
       "      <th></th>\n",
       "      <th>Error</th>\n",
       "      <th>RT</th>\n",
       "      <th>RTHold</th>\n",
       "      <th>Missed</th>\n",
       "      <th>AbsError</th>\n",
       "    </tr>\n",
       "    <tr>\n",
       "      <th>Subject</th>\n",
       "      <th></th>\n",
       "      <th></th>\n",
       "      <th></th>\n",
       "      <th></th>\n",
       "      <th></th>\n",
       "    </tr>\n",
       "  </thead>\n",
       "  <tbody>\n",
       "    <tr>\n",
       "      <th>s_02003</th>\n",
       "      <td>0.002544</td>\n",
       "      <td>2.240014</td>\n",
       "      <td>0.480898</td>\n",
       "      <td>0</td>\n",
       "      <td>0.022472</td>\n",
       "    </tr>\n",
       "    <tr>\n",
       "      <th>s_02004</th>\n",
       "      <td>0.000621</td>\n",
       "      <td>2.181841</td>\n",
       "      <td>0.390107</td>\n",
       "      <td>0</td>\n",
       "      <td>0.020997</td>\n",
       "    </tr>\n",
       "    <tr>\n",
       "      <th>s_02005</th>\n",
       "      <td>-0.004826</td>\n",
       "      <td>2.378822</td>\n",
       "      <td>0.468106</td>\n",
       "      <td>0</td>\n",
       "      <td>0.021902</td>\n",
       "    </tr>\n",
       "    <tr>\n",
       "      <th>s_02006</th>\n",
       "      <td>-0.000487</td>\n",
       "      <td>1.970216</td>\n",
       "      <td>0.422093</td>\n",
       "      <td>0</td>\n",
       "      <td>0.026771</td>\n",
       "    </tr>\n",
       "    <tr>\n",
       "      <th>s_02007</th>\n",
       "      <td>-0.009034</td>\n",
       "      <td>2.117213</td>\n",
       "      <td>0.430258</td>\n",
       "      <td>0</td>\n",
       "      <td>0.027687</td>\n",
       "    </tr>\n",
       "    <tr>\n",
       "      <th>s_02009</th>\n",
       "      <td>-0.003768</td>\n",
       "      <td>2.240575</td>\n",
       "      <td>0.499304</td>\n",
       "      <td>0</td>\n",
       "      <td>0.019800</td>\n",
       "    </tr>\n",
       "    <tr>\n",
       "      <th>s_02010</th>\n",
       "      <td>-0.003834</td>\n",
       "      <td>1.801020</td>\n",
       "      <td>0.402272</td>\n",
       "      <td>0</td>\n",
       "      <td>0.034298</td>\n",
       "    </tr>\n",
       "    <tr>\n",
       "      <th>s_02011</th>\n",
       "      <td>0.005220</td>\n",
       "      <td>2.177101</td>\n",
       "      <td>0.512704</td>\n",
       "      <td>0</td>\n",
       "      <td>0.031181</td>\n",
       "    </tr>\n",
       "    <tr>\n",
       "      <th>s_02014</th>\n",
       "      <td>0.000828</td>\n",
       "      <td>2.200079</td>\n",
       "      <td>0.485166</td>\n",
       "      <td>0</td>\n",
       "      <td>0.033909</td>\n",
       "    </tr>\n",
       "    <tr>\n",
       "      <th>s_02015</th>\n",
       "      <td>-0.009805</td>\n",
       "      <td>2.150314</td>\n",
       "      <td>0.489373</td>\n",
       "      <td>0</td>\n",
       "      <td>0.036630</td>\n",
       "    </tr>\n",
       "    <tr>\n",
       "      <th>s_02016</th>\n",
       "      <td>0.002051</td>\n",
       "      <td>2.068810</td>\n",
       "      <td>0.514982</td>\n",
       "      <td>0</td>\n",
       "      <td>0.027869</td>\n",
       "    </tr>\n",
       "    <tr>\n",
       "      <th>s_02018</th>\n",
       "      <td>-0.001200</td>\n",
       "      <td>1.961148</td>\n",
       "      <td>0.417479</td>\n",
       "      <td>0</td>\n",
       "      <td>0.022804</td>\n",
       "    </tr>\n",
       "    <tr>\n",
       "      <th>s_02020</th>\n",
       "      <td>-0.007968</td>\n",
       "      <td>2.374007</td>\n",
       "      <td>0.558702</td>\n",
       "      <td>0</td>\n",
       "      <td>0.023756</td>\n",
       "    </tr>\n",
       "    <tr>\n",
       "      <th>s_02021</th>\n",
       "      <td>0.001716</td>\n",
       "      <td>2.048962</td>\n",
       "      <td>0.403868</td>\n",
       "      <td>0</td>\n",
       "      <td>0.018419</td>\n",
       "    </tr>\n",
       "    <tr>\n",
       "      <th>s_02022</th>\n",
       "      <td>-0.000880</td>\n",
       "      <td>2.280846</td>\n",
       "      <td>0.522029</td>\n",
       "      <td>0</td>\n",
       "      <td>0.025221</td>\n",
       "    </tr>\n",
       "    <tr>\n",
       "      <th>s_02023</th>\n",
       "      <td>-0.007981</td>\n",
       "      <td>2.196848</td>\n",
       "      <td>0.566030</td>\n",
       "      <td>0</td>\n",
       "      <td>0.025385</td>\n",
       "    </tr>\n",
       "    <tr>\n",
       "      <th>s_02024</th>\n",
       "      <td>-0.001749</td>\n",
       "      <td>2.250912</td>\n",
       "      <td>0.523561</td>\n",
       "      <td>0</td>\n",
       "      <td>0.028414</td>\n",
       "    </tr>\n",
       "    <tr>\n",
       "      <th>s_02027</th>\n",
       "      <td>0.004459</td>\n",
       "      <td>2.161185</td>\n",
       "      <td>0.477401</td>\n",
       "      <td>0</td>\n",
       "      <td>0.021308</td>\n",
       "    </tr>\n",
       "  </tbody>\n",
       "</table>\n",
       "</div>"
      ],
      "text/plain": [
       "            Error        RT    RTHold  Missed  AbsError\n",
       "Subject                                                \n",
       "s_02003  0.002544  2.240014  0.480898       0  0.022472\n",
       "s_02004  0.000621  2.181841  0.390107       0  0.020997\n",
       "s_02005 -0.004826  2.378822  0.468106       0  0.021902\n",
       "s_02006 -0.000487  1.970216  0.422093       0  0.026771\n",
       "s_02007 -0.009034  2.117213  0.430258       0  0.027687\n",
       "s_02009 -0.003768  2.240575  0.499304       0  0.019800\n",
       "s_02010 -0.003834  1.801020  0.402272       0  0.034298\n",
       "s_02011  0.005220  2.177101  0.512704       0  0.031181\n",
       "s_02014  0.000828  2.200079  0.485166       0  0.033909\n",
       "s_02015 -0.009805  2.150314  0.489373       0  0.036630\n",
       "s_02016  0.002051  2.068810  0.514982       0  0.027869\n",
       "s_02018 -0.001200  1.961148  0.417479       0  0.022804\n",
       "s_02020 -0.007968  2.374007  0.558702       0  0.023756\n",
       "s_02021  0.001716  2.048962  0.403868       0  0.018419\n",
       "s_02022 -0.000880  2.280846  0.522029       0  0.025221\n",
       "s_02023 -0.007981  2.196848  0.566030       0  0.025385\n",
       "s_02024 -0.001749  2.250912  0.523561       0  0.028414\n",
       "s_02027  0.004459  2.161185  0.477401       0  0.021308"
      ]
     },
     "execution_count": 34,
     "metadata": {},
     "output_type": "execute_result"
    }
   ],
   "source": [
    "nline_no_miss_subj = nline_no_miss.groupby(level=0)\n",
    "nline_no_miss_subj.mean()"
   ]
  },
  {
   "cell_type": "markdown",
   "metadata": {},
   "source": [
    "##Overall Averages"
   ]
  },
  {
   "cell_type": "code",
   "execution_count": 35,
   "metadata": {
    "collapsed": false
   },
   "outputs": [
    {
     "data": {
      "text/plain": [
       "Error      -0.001894\n",
       "RT          2.155551\n",
       "RTHold      0.475796\n",
       "Missed      0.000000\n",
       "AbsError    0.026046\n",
       "dtype: float64"
      ]
     },
     "execution_count": 35,
     "metadata": {},
     "output_type": "execute_result"
    }
   ],
   "source": [
    "np.mean(nline_no_miss_subj.mean())"
   ]
  },
  {
   "cell_type": "markdown",
   "metadata": {},
   "source": [
    "##Subject Standard Deviations"
   ]
  },
  {
   "cell_type": "code",
   "execution_count": 36,
   "metadata": {
    "collapsed": false
   },
   "outputs": [
    {
     "data": {
      "text/html": [
       "<div>\n",
       "<table border=\"1\" class=\"dataframe\">\n",
       "  <thead>\n",
       "    <tr style=\"text-align: right;\">\n",
       "      <th></th>\n",
       "      <th>Error</th>\n",
       "      <th>RT</th>\n",
       "      <th>RTHold</th>\n",
       "      <th>Missed</th>\n",
       "      <th>AbsError</th>\n",
       "    </tr>\n",
       "    <tr>\n",
       "      <th>Subject</th>\n",
       "      <th></th>\n",
       "      <th></th>\n",
       "      <th></th>\n",
       "      <th></th>\n",
       "      <th></th>\n",
       "    </tr>\n",
       "  </thead>\n",
       "  <tbody>\n",
       "    <tr>\n",
       "      <th>s_02003</th>\n",
       "      <td>0.031955</td>\n",
       "      <td>0.366943</td>\n",
       "      <td>0.082894</td>\n",
       "      <td>0</td>\n",
       "      <td>0.022780</td>\n",
       "    </tr>\n",
       "    <tr>\n",
       "      <th>s_02004</th>\n",
       "      <td>0.030748</td>\n",
       "      <td>0.325082</td>\n",
       "      <td>0.097012</td>\n",
       "      <td>0</td>\n",
       "      <td>0.022400</td>\n",
       "    </tr>\n",
       "    <tr>\n",
       "      <th>s_02005</th>\n",
       "      <td>0.038741</td>\n",
       "      <td>0.317196</td>\n",
       "      <td>0.092952</td>\n",
       "      <td>0</td>\n",
       "      <td>0.032262</td>\n",
       "    </tr>\n",
       "    <tr>\n",
       "      <th>s_02006</th>\n",
       "      <td>0.049819</td>\n",
       "      <td>0.345187</td>\n",
       "      <td>0.135683</td>\n",
       "      <td>0</td>\n",
       "      <td>0.041957</td>\n",
       "    </tr>\n",
       "    <tr>\n",
       "      <th>s_02007</th>\n",
       "      <td>0.086780</td>\n",
       "      <td>0.252646</td>\n",
       "      <td>0.106627</td>\n",
       "      <td>0</td>\n",
       "      <td>0.082710</td>\n",
       "    </tr>\n",
       "    <tr>\n",
       "      <th>s_02009</th>\n",
       "      <td>0.029847</td>\n",
       "      <td>0.332101</td>\n",
       "      <td>0.105460</td>\n",
       "      <td>0</td>\n",
       "      <td>0.022590</td>\n",
       "    </tr>\n",
       "    <tr>\n",
       "      <th>s_02010</th>\n",
       "      <td>0.056356</td>\n",
       "      <td>0.358041</td>\n",
       "      <td>0.100827</td>\n",
       "      <td>0</td>\n",
       "      <td>0.044786</td>\n",
       "    </tr>\n",
       "    <tr>\n",
       "      <th>s_02011</th>\n",
       "      <td>0.042060</td>\n",
       "      <td>0.320319</td>\n",
       "      <td>0.120519</td>\n",
       "      <td>0</td>\n",
       "      <td>0.028585</td>\n",
       "    </tr>\n",
       "    <tr>\n",
       "      <th>s_02014</th>\n",
       "      <td>0.064016</td>\n",
       "      <td>0.310836</td>\n",
       "      <td>0.128126</td>\n",
       "      <td>0</td>\n",
       "      <td>0.054226</td>\n",
       "    </tr>\n",
       "    <tr>\n",
       "      <th>s_02015</th>\n",
       "      <td>0.118483</td>\n",
       "      <td>0.360035</td>\n",
       "      <td>0.159274</td>\n",
       "      <td>0</td>\n",
       "      <td>0.113064</td>\n",
       "    </tr>\n",
       "    <tr>\n",
       "      <th>s_02016</th>\n",
       "      <td>0.047422</td>\n",
       "      <td>0.326048</td>\n",
       "      <td>0.164070</td>\n",
       "      <td>0</td>\n",
       "      <td>0.038348</td>\n",
       "    </tr>\n",
       "    <tr>\n",
       "      <th>s_02018</th>\n",
       "      <td>0.033003</td>\n",
       "      <td>0.323701</td>\n",
       "      <td>0.091992</td>\n",
       "      <td>0</td>\n",
       "      <td>0.023809</td>\n",
       "    </tr>\n",
       "    <tr>\n",
       "      <th>s_02020</th>\n",
       "      <td>0.040563</td>\n",
       "      <td>0.301400</td>\n",
       "      <td>0.167337</td>\n",
       "      <td>0</td>\n",
       "      <td>0.033774</td>\n",
       "    </tr>\n",
       "    <tr>\n",
       "      <th>s_02021</th>\n",
       "      <td>0.024600</td>\n",
       "      <td>0.387479</td>\n",
       "      <td>0.085265</td>\n",
       "      <td>0</td>\n",
       "      <td>0.016322</td>\n",
       "    </tr>\n",
       "    <tr>\n",
       "      <th>s_02022</th>\n",
       "      <td>0.037739</td>\n",
       "      <td>0.358092</td>\n",
       "      <td>0.126417</td>\n",
       "      <td>0</td>\n",
       "      <td>0.027996</td>\n",
       "    </tr>\n",
       "    <tr>\n",
       "      <th>s_02023</th>\n",
       "      <td>0.036721</td>\n",
       "      <td>0.268017</td>\n",
       "      <td>0.136682</td>\n",
       "      <td>0</td>\n",
       "      <td>0.027632</td>\n",
       "    </tr>\n",
       "    <tr>\n",
       "      <th>s_02024</th>\n",
       "      <td>0.054245</td>\n",
       "      <td>0.381603</td>\n",
       "      <td>0.126843</td>\n",
       "      <td>0</td>\n",
       "      <td>0.046175</td>\n",
       "    </tr>\n",
       "    <tr>\n",
       "      <th>s_02027</th>\n",
       "      <td>0.028959</td>\n",
       "      <td>0.359646</td>\n",
       "      <td>0.133600</td>\n",
       "      <td>0</td>\n",
       "      <td>0.020033</td>\n",
       "    </tr>\n",
       "  </tbody>\n",
       "</table>\n",
       "</div>"
      ],
      "text/plain": [
       "            Error        RT    RTHold  Missed  AbsError\n",
       "Subject                                                \n",
       "s_02003  0.031955  0.366943  0.082894       0  0.022780\n",
       "s_02004  0.030748  0.325082  0.097012       0  0.022400\n",
       "s_02005  0.038741  0.317196  0.092952       0  0.032262\n",
       "s_02006  0.049819  0.345187  0.135683       0  0.041957\n",
       "s_02007  0.086780  0.252646  0.106627       0  0.082710\n",
       "s_02009  0.029847  0.332101  0.105460       0  0.022590\n",
       "s_02010  0.056356  0.358041  0.100827       0  0.044786\n",
       "s_02011  0.042060  0.320319  0.120519       0  0.028585\n",
       "s_02014  0.064016  0.310836  0.128126       0  0.054226\n",
       "s_02015  0.118483  0.360035  0.159274       0  0.113064\n",
       "s_02016  0.047422  0.326048  0.164070       0  0.038348\n",
       "s_02018  0.033003  0.323701  0.091992       0  0.023809\n",
       "s_02020  0.040563  0.301400  0.167337       0  0.033774\n",
       "s_02021  0.024600  0.387479  0.085265       0  0.016322\n",
       "s_02022  0.037739  0.358092  0.126417       0  0.027996\n",
       "s_02023  0.036721  0.268017  0.136682       0  0.027632\n",
       "s_02024  0.054245  0.381603  0.126843       0  0.046175\n",
       "s_02027  0.028959  0.359646  0.133600       0  0.020033"
      ]
     },
     "execution_count": 36,
     "metadata": {},
     "output_type": "execute_result"
    }
   ],
   "source": [
    "nline_no_miss_subj.std()"
   ]
  },
  {
   "cell_type": "markdown",
   "metadata": {},
   "source": [
    "##Overall Standard Deviation"
   ]
  },
  {
   "cell_type": "code",
   "execution_count": 37,
   "metadata": {
    "collapsed": false
   },
   "outputs": [
    {
     "data": {
      "text/plain": [
       "Error       0.047336\n",
       "RT          0.333021\n",
       "RTHold      0.120088\n",
       "Missed      0.000000\n",
       "AbsError    0.038858\n",
       "dtype: float64"
      ]
     },
     "execution_count": 37,
     "metadata": {},
     "output_type": "execute_result"
    }
   ],
   "source": [
    "np.mean(nline_no_miss_subj.std())"
   ]
  },
  {
   "cell_type": "markdown",
   "metadata": {},
   "source": [
    "How many trials did they actually respond?"
   ]
  },
  {
   "cell_type": "code",
   "execution_count": 38,
   "metadata": {
    "collapsed": false
   },
   "outputs": [
    {
     "data": {
      "text/html": [
       "<div>\n",
       "<table border=\"1\" class=\"dataframe\">\n",
       "  <thead>\n",
       "    <tr style=\"text-align: right;\">\n",
       "      <th></th>\n",
       "      <th>Error</th>\n",
       "      <th>RT</th>\n",
       "      <th>RTHold</th>\n",
       "      <th>Missed</th>\n",
       "      <th>AbsError</th>\n",
       "    </tr>\n",
       "    <tr>\n",
       "      <th>Subject</th>\n",
       "      <th></th>\n",
       "      <th></th>\n",
       "      <th></th>\n",
       "      <th></th>\n",
       "      <th></th>\n",
       "    </tr>\n",
       "  </thead>\n",
       "  <tbody>\n",
       "    <tr>\n",
       "      <th>s_02003</th>\n",
       "      <td>137</td>\n",
       "      <td>137</td>\n",
       "      <td>137</td>\n",
       "      <td>137</td>\n",
       "      <td>137</td>\n",
       "    </tr>\n",
       "    <tr>\n",
       "      <th>s_02004</th>\n",
       "      <td>141</td>\n",
       "      <td>141</td>\n",
       "      <td>141</td>\n",
       "      <td>141</td>\n",
       "      <td>141</td>\n",
       "    </tr>\n",
       "    <tr>\n",
       "      <th>s_02005</th>\n",
       "      <td>127</td>\n",
       "      <td>127</td>\n",
       "      <td>127</td>\n",
       "      <td>127</td>\n",
       "      <td>127</td>\n",
       "    </tr>\n",
       "    <tr>\n",
       "      <th>s_02006</th>\n",
       "      <td>142</td>\n",
       "      <td>142</td>\n",
       "      <td>142</td>\n",
       "      <td>142</td>\n",
       "      <td>142</td>\n",
       "    </tr>\n",
       "    <tr>\n",
       "      <th>s_02007</th>\n",
       "      <td>143</td>\n",
       "      <td>143</td>\n",
       "      <td>143</td>\n",
       "      <td>143</td>\n",
       "      <td>143</td>\n",
       "    </tr>\n",
       "    <tr>\n",
       "      <th>s_02009</th>\n",
       "      <td>143</td>\n",
       "      <td>143</td>\n",
       "      <td>143</td>\n",
       "      <td>143</td>\n",
       "      <td>143</td>\n",
       "    </tr>\n",
       "    <tr>\n",
       "      <th>s_02010</th>\n",
       "      <td>137</td>\n",
       "      <td>137</td>\n",
       "      <td>137</td>\n",
       "      <td>137</td>\n",
       "      <td>137</td>\n",
       "    </tr>\n",
       "    <tr>\n",
       "      <th>s_02011</th>\n",
       "      <td>137</td>\n",
       "      <td>137</td>\n",
       "      <td>137</td>\n",
       "      <td>137</td>\n",
       "      <td>137</td>\n",
       "    </tr>\n",
       "    <tr>\n",
       "      <th>s_02014</th>\n",
       "      <td>137</td>\n",
       "      <td>137</td>\n",
       "      <td>137</td>\n",
       "      <td>137</td>\n",
       "      <td>137</td>\n",
       "    </tr>\n",
       "    <tr>\n",
       "      <th>s_02015</th>\n",
       "      <td>138</td>\n",
       "      <td>138</td>\n",
       "      <td>138</td>\n",
       "      <td>138</td>\n",
       "      <td>138</td>\n",
       "    </tr>\n",
       "    <tr>\n",
       "      <th>s_02016</th>\n",
       "      <td>134</td>\n",
       "      <td>134</td>\n",
       "      <td>134</td>\n",
       "      <td>134</td>\n",
       "      <td>134</td>\n",
       "    </tr>\n",
       "    <tr>\n",
       "      <th>s_02018</th>\n",
       "      <td>140</td>\n",
       "      <td>140</td>\n",
       "      <td>140</td>\n",
       "      <td>140</td>\n",
       "      <td>140</td>\n",
       "    </tr>\n",
       "    <tr>\n",
       "      <th>s_02020</th>\n",
       "      <td>132</td>\n",
       "      <td>132</td>\n",
       "      <td>132</td>\n",
       "      <td>132</td>\n",
       "      <td>132</td>\n",
       "    </tr>\n",
       "    <tr>\n",
       "      <th>s_02021</th>\n",
       "      <td>139</td>\n",
       "      <td>139</td>\n",
       "      <td>139</td>\n",
       "      <td>139</td>\n",
       "      <td>139</td>\n",
       "    </tr>\n",
       "    <tr>\n",
       "      <th>s_02022</th>\n",
       "      <td>126</td>\n",
       "      <td>126</td>\n",
       "      <td>126</td>\n",
       "      <td>126</td>\n",
       "      <td>126</td>\n",
       "    </tr>\n",
       "    <tr>\n",
       "      <th>s_02023</th>\n",
       "      <td>139</td>\n",
       "      <td>139</td>\n",
       "      <td>139</td>\n",
       "      <td>139</td>\n",
       "      <td>139</td>\n",
       "    </tr>\n",
       "    <tr>\n",
       "      <th>s_02024</th>\n",
       "      <td>134</td>\n",
       "      <td>134</td>\n",
       "      <td>134</td>\n",
       "      <td>134</td>\n",
       "      <td>134</td>\n",
       "    </tr>\n",
       "    <tr>\n",
       "      <th>s_02027</th>\n",
       "      <td>138</td>\n",
       "      <td>138</td>\n",
       "      <td>138</td>\n",
       "      <td>138</td>\n",
       "      <td>138</td>\n",
       "    </tr>\n",
       "  </tbody>\n",
       "</table>\n",
       "</div>"
      ],
      "text/plain": [
       "         Error   RT  RTHold  Missed  AbsError\n",
       "Subject                                      \n",
       "s_02003    137  137     137     137       137\n",
       "s_02004    141  141     141     141       141\n",
       "s_02005    127  127     127     127       127\n",
       "s_02006    142  142     142     142       142\n",
       "s_02007    143  143     143     143       143\n",
       "s_02009    143  143     143     143       143\n",
       "s_02010    137  137     137     137       137\n",
       "s_02011    137  137     137     137       137\n",
       "s_02014    137  137     137     137       137\n",
       "s_02015    138  138     138     138       138\n",
       "s_02016    134  134     134     134       134\n",
       "s_02018    140  140     140     140       140\n",
       "s_02020    132  132     132     132       132\n",
       "s_02021    139  139     139     139       139\n",
       "s_02022    126  126     126     126       126\n",
       "s_02023    139  139     139     139       139\n",
       "s_02024    134  134     134     134       134\n",
       "s_02027    138  138     138     138       138"
      ]
     },
     "execution_count": 38,
     "metadata": {},
     "output_type": "execute_result"
    }
   ],
   "source": [
    "nline_no_miss_subj.count()"
   ]
  },
  {
   "cell_type": "markdown",
   "metadata": {},
   "source": [
    "# RT Histograms"
   ]
  },
  {
   "cell_type": "code",
   "execution_count": 39,
   "metadata": {
    "collapsed": false
   },
   "outputs": [
    {
     "data": {
      "text/plain": [
       "<matplotlib.text.Text at 0x10af3f290>"
      ]
     },
     "execution_count": 39,
     "metadata": {},
     "output_type": "execute_result"
    },
    {
     "data": {
      "image/png": "[encoded data removed]",
      "text/plain": [
       "<matplotlib.figure.Figure at 0x10af02750>"
      ]
     },
     "metadata": {},
     "output_type": "display_data"
    }
   ],
   "source": [
    "pd.options.display.mpl_style = 'default'\n",
    "nline_no_miss['RT'].hist(bins=30, range=[0,3])\n",
    "plt.ylim([0,300])\n",
    "plt.title('Number Line')\n",
    "plt.xlabel('Seconds', labelpad = 18)\n",
    "plt.ylabel('Frequency', labelpad = 18)"
   ]
  },
  {
   "cell_type": "markdown",
   "metadata": {},
   "source": [
    "## RTHold missed analysis"
   ]
  },
  {
   "cell_type": "code",
   "execution_count": 40,
   "metadata": {
    "collapsed": false
   },
   "outputs": [],
   "source": [
    "nline_miss = nline_df[['Error', 'RT', 'RTHold', 'catch', 'Task', 'Line_pct']]\n",
    "nline_miss = nline_miss[nline_miss['catch']<1]\n",
    "#len(nline_miss)"
   ]
  },
  {
   "cell_type": "code",
   "execution_count": 41,
   "metadata": {
    "collapsed": false
   },
   "outputs": [
    {
     "name": "stderr",
     "output_type": "stream",
     "text": [
      "/Users/frankanayet/anaconda/lib/python2.7/site-packages/IPython/kernel/__main__.py:2: SettingWithCopyWarning: \n",
      "A value is trying to be set on a copy of a slice from a DataFrame\n",
      "\n",
      "See the the caveats in the documentation: http://pandas.pydata.org/pandas-docs/stable/indexing.html#indexing-view-versus-copy\n",
      "  from IPython.kernel.zmq import kernelapp as app\n"
     ]
    }
   ],
   "source": [
    "nline_miss['Missed'] = nline_miss['Error']\n",
    "nline_miss['Missed'][nline_miss['Missed']<1] = 0\n",
    "#nline_miss"
   ]
  },
  {
   "cell_type": "code",
   "execution_count": 42,
   "metadata": {
    "collapsed": false
   },
   "outputs": [],
   "source": [
    "nline_miss['AbsError'] = np.abs(nline_miss['Error'])"
   ]
  },
  {
   "cell_type": "code",
   "execution_count": 43,
   "metadata": {
    "collapsed": true
   },
   "outputs": [],
   "source": [
    "position_missed = nline_miss.groupby(['Task', 'Line_pct'])\n",
    "position_missed = position_missed['Missed']"
   ]
  },
  {
   "cell_type": "code",
   "execution_count": 44,
   "metadata": {
    "collapsed": false
   },
   "outputs": [],
   "source": [
    "responded = nline_miss[nline_miss['Missed']==0]\n",
    "#responded['Error'] = np.abs(responded['Error'])\n",
    "#len(responded)"
   ]
  },
  {
   "cell_type": "code",
   "execution_count": 45,
   "metadata": {
    "collapsed": false
   },
   "outputs": [],
   "source": [
    "nline_miss = nline_miss[nline_miss['Missed']==1]\n",
    "#nline_miss"
   ]
  },
  {
   "cell_type": "code",
   "execution_count": 46,
   "metadata": {
    "collapsed": false
   },
   "outputs": [
    {
     "data": {
      "text/plain": [
       "Task  Line_pct\n",
       "1     0.03        5\n",
       "      0.07        5\n",
       "      0.11        5\n",
       "      0.21        4\n",
       "      0.28        3\n",
       "      0.33        3\n",
       "      0.36        3\n",
       "      0.45        1\n",
       "      0.57        3\n",
       "      0.60        0\n",
       "      0.65        0\n",
       "      0.74        4\n",
       "      0.77        1\n",
       "      0.85        5\n",
       "      0.90        4\n",
       "      0.98        1\n",
       "2     0.03        6\n",
       "      0.07        4\n",
       "      0.11        2\n",
       "      0.21        2\n",
       "      0.28        2\n",
       "      0.33        1\n",
       "      0.36        1\n",
       "      0.45        1\n",
       "      0.57        0\n",
       "      0.60        0\n",
       "      0.65        0\n",
       "      0.74        3\n",
       "      0.77        0\n",
       "      0.85        5\n",
       "      0.90        0\n",
       "      0.98        6\n",
       "3     0.03        4\n",
       "      0.07        5\n",
       "      0.11        3\n",
       "      0.21        1\n",
       "      0.28        2\n",
       "      0.33        2\n",
       "      0.36        2\n",
       "      0.45        2\n",
       "      0.57        2\n",
       "      0.60        3\n",
       "      0.65        2\n",
       "      0.74        4\n",
       "      0.77        1\n",
       "      0.85        3\n",
       "      0.90        5\n",
       "      0.98        7\n",
       "Name: Missed, dtype: float64"
      ]
     },
     "execution_count": 46,
     "metadata": {},
     "output_type": "execute_result"
    }
   ],
   "source": [
    "position_missed.sum()"
   ]
  },
  {
   "cell_type": "code",
   "execution_count": 47,
   "metadata": {
    "collapsed": false
   },
   "outputs": [
    {
     "data": {
      "text/plain": [
       "16"
      ]
     },
     "execution_count": 47,
     "metadata": {},
     "output_type": "execute_result"
    }
   ],
   "source": [
    "missed_position = position_missed.sum()\n",
    "pos_miss_1 = missed_position.iloc[0:16]\n",
    "pos_miss_2 = missed_position.iloc[16:32]\n",
    "pos_miss_3 = missed_position.iloc[32:48]\n",
    "xvals = np.array([0.030, 0.070, 0.110, 0.210, 0.280, 0.330, 0.360, 0.450, 0.570, 0.600, 0.650, 0.740, 0.770, 0.850, 0.900, 0.980])\n",
    "len(pos_miss_1)"
   ]
  },
  {
   "cell_type": "code",
   "execution_count": 48,
   "metadata": {
    "collapsed": false
   },
   "outputs": [
    {
     "data": {
      "text/plain": [
       "([<matplotlib.axis.YTick at 0x10dde7450>,\n",
       "  <matplotlib.axis.YTick at 0x10de09f90>,\n",
       "  <matplotlib.axis.YTick at 0x10de51a90>,\n",
       "  <matplotlib.axis.YTick at 0x10de5e190>,\n",
       "  <matplotlib.axis.YTick at 0x10de5e910>],\n",
       " <a list of 5 Text yticklabel objects>)"
      ]
     },
     "execution_count": 48,
     "metadata": {},
     "output_type": "execute_result"
    },
    {
     "data": {
      "image/png": "[encoded data removed]",
      "text/plain": [
       "<matplotlib.figure.Figure at 0x10dc49a90>"
      ]
     },
     "metadata": {},
     "output_type": "display_data"
    }
   ],
   "source": [
    "fig = plt.figure(figsize=(12,12))\n",
    "fig1 = plt.subplot(3,1,1)\n",
    "fig1.plot(xvals, pos_miss_1, 'ro-')\n",
    "plt.title('Misses By Position N+')\n",
    "plt.xlabel('Misses', labelpad = 4)\n",
    "plt.ylabel('Mean RT')\n",
    "plt.ylim([0,8])\n",
    "plt.yticks(([0,2,4,6,8]))\n",
    "\n",
    "fig2 = plt.subplot(3,1,2)\n",
    "fig2.plot(xvals, pos_miss_2, 'b+-')\n",
    "plt.title('Misses By Position N-/+')\n",
    "plt.xlabel('0 to 100', labelpad = 4)\n",
    "plt.ylabel('Misses')\n",
    "plt.ylim([0,8])\n",
    "plt.yticks(([0,2,4,6,8]))\n",
    "\n",
    "fig3 = plt.subplot(3,1,3)\n",
    "fig3.plot(xvals, pos_miss_3, 'y.-')\n",
    "plt.title('Misses By Position Word')\n",
    "plt.xlabel('0 to 100', labelpad = 4)\n",
    "plt.ylabel('Misses')\n",
    "plt.ylim([0,8])\n",
    "plt.yticks(([0,2,4,6,8]))\n"
   ]
  },
  {
   "cell_type": "markdown",
   "metadata": {},
   "source": [
    "##RTHold Subject Average"
   ]
  },
  {
   "cell_type": "code",
   "execution_count": 49,
   "metadata": {
    "collapsed": false
   },
   "outputs": [
    {
     "data": {
      "text/html": [
       "<div>\n",
       "<table border=\"1\" class=\"dataframe\">\n",
       "  <thead>\n",
       "    <tr style=\"text-align: right;\">\n",
       "      <th></th>\n",
       "      <th>Error</th>\n",
       "      <th>RT</th>\n",
       "      <th>RTHold</th>\n",
       "      <th>catch</th>\n",
       "      <th>Task</th>\n",
       "      <th>Line_pct</th>\n",
       "      <th>Missed</th>\n",
       "      <th>AbsError</th>\n",
       "    </tr>\n",
       "    <tr>\n",
       "      <th>Subject</th>\n",
       "      <th></th>\n",
       "      <th></th>\n",
       "      <th></th>\n",
       "      <th></th>\n",
       "      <th></th>\n",
       "      <th></th>\n",
       "      <th></th>\n",
       "      <th></th>\n",
       "    </tr>\n",
       "  </thead>\n",
       "  <tbody>\n",
       "    <tr>\n",
       "      <th>s_02003</th>\n",
       "      <td>1</td>\n",
       "      <td>-1</td>\n",
       "      <td>0.580029</td>\n",
       "      <td>0</td>\n",
       "      <td>2.428571</td>\n",
       "      <td>0.504286</td>\n",
       "      <td>1</td>\n",
       "      <td>1</td>\n",
       "    </tr>\n",
       "    <tr>\n",
       "      <th>s_02004</th>\n",
       "      <td>1</td>\n",
       "      <td>-1</td>\n",
       "      <td>0.371789</td>\n",
       "      <td>0</td>\n",
       "      <td>2.333333</td>\n",
       "      <td>0.513333</td>\n",
       "      <td>1</td>\n",
       "      <td>1</td>\n",
       "    </tr>\n",
       "    <tr>\n",
       "      <th>s_02005</th>\n",
       "      <td>1</td>\n",
       "      <td>-1</td>\n",
       "      <td>0.523442</td>\n",
       "      <td>0</td>\n",
       "      <td>1.882353</td>\n",
       "      <td>0.414118</td>\n",
       "      <td>1</td>\n",
       "      <td>1</td>\n",
       "    </tr>\n",
       "    <tr>\n",
       "      <th>s_02006</th>\n",
       "      <td>1</td>\n",
       "      <td>-1</td>\n",
       "      <td>0.318201</td>\n",
       "      <td>0</td>\n",
       "      <td>2.000000</td>\n",
       "      <td>0.315000</td>\n",
       "      <td>1</td>\n",
       "      <td>1</td>\n",
       "    </tr>\n",
       "    <tr>\n",
       "      <th>s_02007</th>\n",
       "      <td>1</td>\n",
       "      <td>-1</td>\n",
       "      <td>0.446265</td>\n",
       "      <td>0</td>\n",
       "      <td>1.000000</td>\n",
       "      <td>0.850000</td>\n",
       "      <td>1</td>\n",
       "      <td>1</td>\n",
       "    </tr>\n",
       "    <tr>\n",
       "      <th>s_02009</th>\n",
       "      <td>1</td>\n",
       "      <td>-1</td>\n",
       "      <td>0.596069</td>\n",
       "      <td>0</td>\n",
       "      <td>2.000000</td>\n",
       "      <td>0.070000</td>\n",
       "      <td>1</td>\n",
       "      <td>1</td>\n",
       "    </tr>\n",
       "    <tr>\n",
       "      <th>s_02010</th>\n",
       "      <td>1</td>\n",
       "      <td>-1</td>\n",
       "      <td>0.617966</td>\n",
       "      <td>0</td>\n",
       "      <td>2.142857</td>\n",
       "      <td>0.568571</td>\n",
       "      <td>1</td>\n",
       "      <td>1</td>\n",
       "    </tr>\n",
       "    <tr>\n",
       "      <th>s_02011</th>\n",
       "      <td>1</td>\n",
       "      <td>-1</td>\n",
       "      <td>0.586275</td>\n",
       "      <td>0</td>\n",
       "      <td>2.285714</td>\n",
       "      <td>0.555714</td>\n",
       "      <td>1</td>\n",
       "      <td>1</td>\n",
       "    </tr>\n",
       "    <tr>\n",
       "      <th>s_02014</th>\n",
       "      <td>1</td>\n",
       "      <td>-1</td>\n",
       "      <td>0.439934</td>\n",
       "      <td>0</td>\n",
       "      <td>2.000000</td>\n",
       "      <td>0.388571</td>\n",
       "      <td>1</td>\n",
       "      <td>1</td>\n",
       "    </tr>\n",
       "    <tr>\n",
       "      <th>s_02015</th>\n",
       "      <td>1</td>\n",
       "      <td>-1</td>\n",
       "      <td>0.620800</td>\n",
       "      <td>0</td>\n",
       "      <td>2.000000</td>\n",
       "      <td>0.463333</td>\n",
       "      <td>1</td>\n",
       "      <td>1</td>\n",
       "    </tr>\n",
       "    <tr>\n",
       "      <th>s_02016</th>\n",
       "      <td>1</td>\n",
       "      <td>-1</td>\n",
       "      <td>0.969234</td>\n",
       "      <td>0</td>\n",
       "      <td>2.200000</td>\n",
       "      <td>0.517000</td>\n",
       "      <td>1</td>\n",
       "      <td>1</td>\n",
       "    </tr>\n",
       "    <tr>\n",
       "      <th>s_02018</th>\n",
       "      <td>1</td>\n",
       "      <td>-1</td>\n",
       "      <td>0.409631</td>\n",
       "      <td>0</td>\n",
       "      <td>2.250000</td>\n",
       "      <td>0.662500</td>\n",
       "      <td>1</td>\n",
       "      <td>1</td>\n",
       "    </tr>\n",
       "    <tr>\n",
       "      <th>s_02020</th>\n",
       "      <td>1</td>\n",
       "      <td>-1</td>\n",
       "      <td>0.697097</td>\n",
       "      <td>0</td>\n",
       "      <td>1.916667</td>\n",
       "      <td>0.248333</td>\n",
       "      <td>1</td>\n",
       "      <td>1</td>\n",
       "    </tr>\n",
       "    <tr>\n",
       "      <th>s_02021</th>\n",
       "      <td>1</td>\n",
       "      <td>-1</td>\n",
       "      <td>0.455508</td>\n",
       "      <td>0</td>\n",
       "      <td>2.200000</td>\n",
       "      <td>0.438000</td>\n",
       "      <td>1</td>\n",
       "      <td>1</td>\n",
       "    </tr>\n",
       "    <tr>\n",
       "      <th>s_02022</th>\n",
       "      <td>1</td>\n",
       "      <td>-1</td>\n",
       "      <td>0.981399</td>\n",
       "      <td>0</td>\n",
       "      <td>1.833333</td>\n",
       "      <td>0.605000</td>\n",
       "      <td>1</td>\n",
       "      <td>1</td>\n",
       "    </tr>\n",
       "    <tr>\n",
       "      <th>s_02023</th>\n",
       "      <td>1</td>\n",
       "      <td>-1</td>\n",
       "      <td>1.329770</td>\n",
       "      <td>0</td>\n",
       "      <td>2.000000</td>\n",
       "      <td>0.536000</td>\n",
       "      <td>1</td>\n",
       "      <td>1</td>\n",
       "    </tr>\n",
       "    <tr>\n",
       "      <th>s_02024</th>\n",
       "      <td>1</td>\n",
       "      <td>-1</td>\n",
       "      <td>0.595365</td>\n",
       "      <td>0</td>\n",
       "      <td>2.000000</td>\n",
       "      <td>0.550000</td>\n",
       "      <td>1</td>\n",
       "      <td>1</td>\n",
       "    </tr>\n",
       "    <tr>\n",
       "      <th>s_02027</th>\n",
       "      <td>1</td>\n",
       "      <td>-1</td>\n",
       "      <td>0.886305</td>\n",
       "      <td>0</td>\n",
       "      <td>1.500000</td>\n",
       "      <td>0.218333</td>\n",
       "      <td>1</td>\n",
       "      <td>1</td>\n",
       "    </tr>\n",
       "  </tbody>\n",
       "</table>\n",
       "</div>"
      ],
      "text/plain": [
       "         Error  RT    RTHold  catch      Task  Line_pct  Missed  AbsError\n",
       "Subject                                                                  \n",
       "s_02003      1  -1  0.580029      0  2.428571  0.504286       1         1\n",
       "s_02004      1  -1  0.371789      0  2.333333  0.513333       1         1\n",
       "s_02005      1  -1  0.523442      0  1.882353  0.414118       1         1\n",
       "s_02006      1  -1  0.318201      0  2.000000  0.315000       1         1\n",
       "s_02007      1  -1  0.446265      0  1.000000  0.850000       1         1\n",
       "s_02009      1  -1  0.596069      0  2.000000  0.070000       1         1\n",
       "s_02010      1  -1  0.617966      0  2.142857  0.568571       1         1\n",
       "s_02011      1  -1  0.586275      0  2.285714  0.555714       1         1\n",
       "s_02014      1  -1  0.439934      0  2.000000  0.388571       1         1\n",
       "s_02015      1  -1  0.620800      0  2.000000  0.463333       1         1\n",
       "s_02016      1  -1  0.969234      0  2.200000  0.517000       1         1\n",
       "s_02018      1  -1  0.409631      0  2.250000  0.662500       1         1\n",
       "s_02020      1  -1  0.697097      0  1.916667  0.248333       1         1\n",
       "s_02021      1  -1  0.455508      0  2.200000  0.438000       1         1\n",
       "s_02022      1  -1  0.981399      0  1.833333  0.605000       1         1\n",
       "s_02023      1  -1  1.329770      0  2.000000  0.536000       1         1\n",
       "s_02024      1  -1  0.595365      0  2.000000  0.550000       1         1\n",
       "s_02027      1  -1  0.886305      0  1.500000  0.218333       1         1"
      ]
     },
     "execution_count": 49,
     "metadata": {},
     "output_type": "execute_result"
    }
   ],
   "source": [
    "nline_miss_subj = nline_miss.groupby(level=0)\n",
    "nline_miss_subj.mean()"
   ]
  },
  {
   "cell_type": "markdown",
   "metadata": {},
   "source": [
    "##RTHold Overall Average"
   ]
  },
  {
   "cell_type": "code",
   "execution_count": 50,
   "metadata": {
    "collapsed": false
   },
   "outputs": [
    {
     "data": {
      "text/plain": [
       "Error       1.000000\n",
       "RT         -1.000000\n",
       "RTHold      0.634727\n",
       "catch       0.000000\n",
       "Task        1.998491\n",
       "Line_pct    0.467672\n",
       "Missed      1.000000\n",
       "AbsError    1.000000\n",
       "dtype: float64"
      ]
     },
     "execution_count": 50,
     "metadata": {},
     "output_type": "execute_result"
    }
   ],
   "source": [
    "np.mean(nline_miss_subj.mean())"
   ]
  },
  {
   "cell_type": "markdown",
   "metadata": {},
   "source": [
    "##Averages by subjected for responded trials"
   ]
  },
  {
   "cell_type": "code",
   "execution_count": 51,
   "metadata": {
    "collapsed": false
   },
   "outputs": [
    {
     "data": {
      "text/html": [
       "<div>\n",
       "<table border=\"1\" class=\"dataframe\">\n",
       "  <thead>\n",
       "    <tr style=\"text-align: right;\">\n",
       "      <th></th>\n",
       "      <th>Error</th>\n",
       "      <th>RT</th>\n",
       "      <th>RTHold</th>\n",
       "      <th>catch</th>\n",
       "      <th>Task</th>\n",
       "      <th>Line_pct</th>\n",
       "      <th>Missed</th>\n",
       "      <th>AbsError</th>\n",
       "    </tr>\n",
       "    <tr>\n",
       "      <th>Subject</th>\n",
       "      <th></th>\n",
       "      <th></th>\n",
       "      <th></th>\n",
       "      <th></th>\n",
       "      <th></th>\n",
       "      <th></th>\n",
       "      <th></th>\n",
       "      <th></th>\n",
       "    </tr>\n",
       "  </thead>\n",
       "  <tbody>\n",
       "    <tr>\n",
       "      <th>s_02003</th>\n",
       "      <td>0.002544</td>\n",
       "      <td>2.240014</td>\n",
       "      <td>0.480898</td>\n",
       "      <td>0</td>\n",
       "      <td>1.978102</td>\n",
       "      <td>0.493212</td>\n",
       "      <td>0</td>\n",
       "      <td>0.022472</td>\n",
       "    </tr>\n",
       "    <tr>\n",
       "      <th>s_02004</th>\n",
       "      <td>0.000621</td>\n",
       "      <td>2.181841</td>\n",
       "      <td>0.390107</td>\n",
       "      <td>0</td>\n",
       "      <td>1.992908</td>\n",
       "      <td>0.493333</td>\n",
       "      <td>0</td>\n",
       "      <td>0.020997</td>\n",
       "    </tr>\n",
       "    <tr>\n",
       "      <th>s_02005</th>\n",
       "      <td>-0.004826</td>\n",
       "      <td>2.378822</td>\n",
       "      <td>0.468106</td>\n",
       "      <td>0</td>\n",
       "      <td>2.015748</td>\n",
       "      <td>0.504409</td>\n",
       "      <td>0</td>\n",
       "      <td>0.021902</td>\n",
       "    </tr>\n",
       "    <tr>\n",
       "      <th>s_02006</th>\n",
       "      <td>-0.000487</td>\n",
       "      <td>1.970216</td>\n",
       "      <td>0.422093</td>\n",
       "      <td>0</td>\n",
       "      <td>2.000000</td>\n",
       "      <td>0.496268</td>\n",
       "      <td>0</td>\n",
       "      <td>0.026771</td>\n",
       "    </tr>\n",
       "    <tr>\n",
       "      <th>s_02007</th>\n",
       "      <td>-0.009034</td>\n",
       "      <td>2.117213</td>\n",
       "      <td>0.430258</td>\n",
       "      <td>0</td>\n",
       "      <td>2.006993</td>\n",
       "      <td>0.491259</td>\n",
       "      <td>0</td>\n",
       "      <td>0.027687</td>\n",
       "    </tr>\n",
       "    <tr>\n",
       "      <th>s_02009</th>\n",
       "      <td>-0.003768</td>\n",
       "      <td>2.240575</td>\n",
       "      <td>0.499304</td>\n",
       "      <td>0</td>\n",
       "      <td>2.000000</td>\n",
       "      <td>0.496713</td>\n",
       "      <td>0</td>\n",
       "      <td>0.019800</td>\n",
       "    </tr>\n",
       "    <tr>\n",
       "      <th>s_02010</th>\n",
       "      <td>-0.003834</td>\n",
       "      <td>1.801020</td>\n",
       "      <td>0.402272</td>\n",
       "      <td>0</td>\n",
       "      <td>1.992701</td>\n",
       "      <td>0.489927</td>\n",
       "      <td>0</td>\n",
       "      <td>0.034298</td>\n",
       "    </tr>\n",
       "    <tr>\n",
       "      <th>s_02011</th>\n",
       "      <td>0.005220</td>\n",
       "      <td>2.177101</td>\n",
       "      <td>0.512704</td>\n",
       "      <td>0</td>\n",
       "      <td>1.985401</td>\n",
       "      <td>0.490584</td>\n",
       "      <td>0</td>\n",
       "      <td>0.031181</td>\n",
       "    </tr>\n",
       "    <tr>\n",
       "      <th>s_02014</th>\n",
       "      <td>0.000828</td>\n",
       "      <td>2.200079</td>\n",
       "      <td>0.485166</td>\n",
       "      <td>0</td>\n",
       "      <td>2.000000</td>\n",
       "      <td>0.499124</td>\n",
       "      <td>0</td>\n",
       "      <td>0.033909</td>\n",
       "    </tr>\n",
       "    <tr>\n",
       "      <th>s_02015</th>\n",
       "      <td>-0.009805</td>\n",
       "      <td>2.150314</td>\n",
       "      <td>0.489373</td>\n",
       "      <td>0</td>\n",
       "      <td>2.000000</td>\n",
       "      <td>0.495072</td>\n",
       "      <td>0</td>\n",
       "      <td>0.036630</td>\n",
       "    </tr>\n",
       "    <tr>\n",
       "      <th>s_02016</th>\n",
       "      <td>0.002051</td>\n",
       "      <td>2.068810</td>\n",
       "      <td>0.514982</td>\n",
       "      <td>0</td>\n",
       "      <td>1.985075</td>\n",
       "      <td>0.492015</td>\n",
       "      <td>0</td>\n",
       "      <td>0.027869</td>\n",
       "    </tr>\n",
       "    <tr>\n",
       "      <th>s_02018</th>\n",
       "      <td>-0.001200</td>\n",
       "      <td>1.961148</td>\n",
       "      <td>0.417479</td>\n",
       "      <td>0</td>\n",
       "      <td>1.992857</td>\n",
       "      <td>0.488929</td>\n",
       "      <td>0</td>\n",
       "      <td>0.022804</td>\n",
       "    </tr>\n",
       "    <tr>\n",
       "      <th>s_02020</th>\n",
       "      <td>-0.007968</td>\n",
       "      <td>2.374007</td>\n",
       "      <td>0.558702</td>\n",
       "      <td>0</td>\n",
       "      <td>2.007576</td>\n",
       "      <td>0.516061</td>\n",
       "      <td>0</td>\n",
       "      <td>0.023756</td>\n",
       "    </tr>\n",
       "    <tr>\n",
       "      <th>s_02021</th>\n",
       "      <td>0.001716</td>\n",
       "      <td>2.048962</td>\n",
       "      <td>0.403868</td>\n",
       "      <td>0</td>\n",
       "      <td>1.992806</td>\n",
       "      <td>0.477842</td>\n",
       "      <td>0</td>\n",
       "      <td>0.018419</td>\n",
       "    </tr>\n",
       "    <tr>\n",
       "      <th>s_02022</th>\n",
       "      <td>-0.000880</td>\n",
       "      <td>2.280846</td>\n",
       "      <td>0.522029</td>\n",
       "      <td>0</td>\n",
       "      <td>2.023810</td>\n",
       "      <td>0.477857</td>\n",
       "      <td>0</td>\n",
       "      <td>0.025221</td>\n",
       "    </tr>\n",
       "    <tr>\n",
       "      <th>s_02023</th>\n",
       "      <td>-0.007981</td>\n",
       "      <td>2.196848</td>\n",
       "      <td>0.566030</td>\n",
       "      <td>0</td>\n",
       "      <td>2.000000</td>\n",
       "      <td>0.492230</td>\n",
       "      <td>0</td>\n",
       "      <td>0.025385</td>\n",
       "    </tr>\n",
       "    <tr>\n",
       "      <th>s_02024</th>\n",
       "      <td>-0.001749</td>\n",
       "      <td>2.250912</td>\n",
       "      <td>0.523561</td>\n",
       "      <td>0</td>\n",
       "      <td>2.000000</td>\n",
       "      <td>0.489552</td>\n",
       "      <td>0</td>\n",
       "      <td>0.028414</td>\n",
       "    </tr>\n",
       "    <tr>\n",
       "      <th>s_02027</th>\n",
       "      <td>0.004459</td>\n",
       "      <td>2.161185</td>\n",
       "      <td>0.477401</td>\n",
       "      <td>0</td>\n",
       "      <td>2.021739</td>\n",
       "      <td>0.505725</td>\n",
       "      <td>0</td>\n",
       "      <td>0.021308</td>\n",
       "    </tr>\n",
       "  </tbody>\n",
       "</table>\n",
       "</div>"
      ],
      "text/plain": [
       "            Error        RT    RTHold  catch      Task  Line_pct  Missed  \\\n",
       "Subject                                                                    \n",
       "s_02003  0.002544  2.240014  0.480898      0  1.978102  0.493212       0   \n",
       "s_02004  0.000621  2.181841  0.390107      0  1.992908  0.493333       0   \n",
       "s_02005 -0.004826  2.378822  0.468106      0  2.015748  0.504409       0   \n",
       "s_02006 -0.000487  1.970216  0.422093      0  2.000000  0.496268       0   \n",
       "s_02007 -0.009034  2.117213  0.430258      0  2.006993  0.491259       0   \n",
       "s_02009 -0.003768  2.240575  0.499304      0  2.000000  0.496713       0   \n",
       "s_02010 -0.003834  1.801020  0.402272      0  1.992701  0.489927       0   \n",
       "s_02011  0.005220  2.177101  0.512704      0  1.985401  0.490584       0   \n",
       "s_02014  0.000828  2.200079  0.485166      0  2.000000  0.499124       0   \n",
       "s_02015 -0.009805  2.150314  0.489373      0  2.000000  0.495072       0   \n",
       "s_02016  0.002051  2.068810  0.514982      0  1.985075  0.492015       0   \n",
       "s_02018 -0.001200  1.961148  0.417479      0  1.992857  0.488929       0   \n",
       "s_02020 -0.007968  2.374007  0.558702      0  2.007576  0.516061       0   \n",
       "s_02021  0.001716  2.048962  0.403868      0  1.992806  0.477842       0   \n",
       "s_02022 -0.000880  2.280846  0.522029      0  2.023810  0.477857       0   \n",
       "s_02023 -0.007981  2.196848  0.566030      0  2.000000  0.492230       0   \n",
       "s_02024 -0.001749  2.250912  0.523561      0  2.000000  0.489552       0   \n",
       "s_02027  0.004459  2.161185  0.477401      0  2.021739  0.505725       0   \n",
       "\n",
       "         AbsError  \n",
       "Subject            \n",
       "s_02003  0.022472  \n",
       "s_02004  0.020997  \n",
       "s_02005  0.021902  \n",
       "s_02006  0.026771  \n",
       "s_02007  0.027687  \n",
       "s_02009  0.019800  \n",
       "s_02010  0.034298  \n",
       "s_02011  0.031181  \n",
       "s_02014  0.033909  \n",
       "s_02015  0.036630  \n",
       "s_02016  0.027869  \n",
       "s_02018  0.022804  \n",
       "s_02020  0.023756  \n",
       "s_02021  0.018419  \n",
       "s_02022  0.025221  \n",
       "s_02023  0.025385  \n",
       "s_02024  0.028414  \n",
       "s_02027  0.021308  "
      ]
     },
     "execution_count": 51,
     "metadata": {},
     "output_type": "execute_result"
    }
   ],
   "source": [
    "responded_subj = responded.groupby(level=0)\n",
    "responded_subj.mean()"
   ]
  },
  {
   "cell_type": "markdown",
   "metadata": {},
   "source": [
    "##Overall Averages"
   ]
  },
  {
   "cell_type": "code",
   "execution_count": 52,
   "metadata": {
    "collapsed": false
   },
   "outputs": [
    {
     "data": {
      "text/plain": [
       "Error      -0.001894\n",
       "RT          2.155551\n",
       "RTHold      0.475796\n",
       "catch       0.000000\n",
       "Task        1.999762\n",
       "Line_pct    0.493895\n",
       "Missed      0.000000\n",
       "AbsError    0.026046\n",
       "dtype: float64"
      ]
     },
     "execution_count": 52,
     "metadata": {},
     "output_type": "execute_result"
    }
   ],
   "source": [
    "np.mean(responded_subj.mean())"
   ]
  },
  {
   "cell_type": "code",
   "execution_count": 53,
   "metadata": {
    "collapsed": false
   },
   "outputs": [
    {
     "name": "stderr",
     "output_type": "stream",
     "text": [
      "/Users/frankanayet/anaconda/lib/python2.7/site-packages/IPython/kernel/__main__.py:1: SettingWithCopyWarning: \n",
      "A value is trying to be set on a copy of a slice from a DataFrame.\n",
      "Try using .loc[row_indexer,col_indexer] = value instead\n",
      "\n",
      "See the the caveats in the documentation: http://pandas.pydata.org/pandas-docs/stable/indexing.html#indexing-view-versus-copy\n",
      "  if __name__ == '__main__':\n"
     ]
    }
   ],
   "source": [
    "responded['RT_Diff'] = responded['RT']-responded['RTHold']"
   ]
  },
  {
   "cell_type": "markdown",
   "metadata": {},
   "source": [
    "##RT Differences is the new informaiton here"
   ]
  },
  {
   "cell_type": "code",
   "execution_count": 54,
   "metadata": {
    "collapsed": false
   },
   "outputs": [
    {
     "data": {
      "text/html": [
       "<div>\n",
       "<table border=\"1\" class=\"dataframe\">\n",
       "  <thead>\n",
       "    <tr style=\"text-align: right;\">\n",
       "      <th></th>\n",
       "      <th>Error</th>\n",
       "      <th>RT</th>\n",
       "      <th>RTHold</th>\n",
       "      <th>catch</th>\n",
       "      <th>Task</th>\n",
       "      <th>Line_pct</th>\n",
       "      <th>Missed</th>\n",
       "      <th>AbsError</th>\n",
       "      <th>RT_Diff</th>\n",
       "    </tr>\n",
       "    <tr>\n",
       "      <th>Subject</th>\n",
       "      <th></th>\n",
       "      <th></th>\n",
       "      <th></th>\n",
       "      <th></th>\n",
       "      <th></th>\n",
       "      <th></th>\n",
       "      <th></th>\n",
       "      <th></th>\n",
       "      <th></th>\n",
       "    </tr>\n",
       "  </thead>\n",
       "  <tbody>\n",
       "    <tr>\n",
       "      <th>s_02003</th>\n",
       "      <td>0.002544</td>\n",
       "      <td>2.240014</td>\n",
       "      <td>0.480898</td>\n",
       "      <td>0</td>\n",
       "      <td>1.978102</td>\n",
       "      <td>0.493212</td>\n",
       "      <td>0</td>\n",
       "      <td>0.022472</td>\n",
       "      <td>1.759116</td>\n",
       "    </tr>\n",
       "    <tr>\n",
       "      <th>s_02004</th>\n",
       "      <td>0.000621</td>\n",
       "      <td>2.181841</td>\n",
       "      <td>0.390107</td>\n",
       "      <td>0</td>\n",
       "      <td>1.992908</td>\n",
       "      <td>0.493333</td>\n",
       "      <td>0</td>\n",
       "      <td>0.020997</td>\n",
       "      <td>1.791734</td>\n",
       "    </tr>\n",
       "    <tr>\n",
       "      <th>s_02005</th>\n",
       "      <td>-0.004826</td>\n",
       "      <td>2.378822</td>\n",
       "      <td>0.468106</td>\n",
       "      <td>0</td>\n",
       "      <td>2.015748</td>\n",
       "      <td>0.504409</td>\n",
       "      <td>0</td>\n",
       "      <td>0.021902</td>\n",
       "      <td>1.910716</td>\n",
       "    </tr>\n",
       "    <tr>\n",
       "      <th>s_02006</th>\n",
       "      <td>-0.000487</td>\n",
       "      <td>1.970216</td>\n",
       "      <td>0.422093</td>\n",
       "      <td>0</td>\n",
       "      <td>2.000000</td>\n",
       "      <td>0.496268</td>\n",
       "      <td>0</td>\n",
       "      <td>0.026771</td>\n",
       "      <td>1.548123</td>\n",
       "    </tr>\n",
       "    <tr>\n",
       "      <th>s_02007</th>\n",
       "      <td>-0.009034</td>\n",
       "      <td>2.117213</td>\n",
       "      <td>0.430258</td>\n",
       "      <td>0</td>\n",
       "      <td>2.006993</td>\n",
       "      <td>0.491259</td>\n",
       "      <td>0</td>\n",
       "      <td>0.027687</td>\n",
       "      <td>1.686955</td>\n",
       "    </tr>\n",
       "    <tr>\n",
       "      <th>s_02009</th>\n",
       "      <td>-0.003768</td>\n",
       "      <td>2.240575</td>\n",
       "      <td>0.499304</td>\n",
       "      <td>0</td>\n",
       "      <td>2.000000</td>\n",
       "      <td>0.496713</td>\n",
       "      <td>0</td>\n",
       "      <td>0.019800</td>\n",
       "      <td>1.741271</td>\n",
       "    </tr>\n",
       "    <tr>\n",
       "      <th>s_02010</th>\n",
       "      <td>-0.003834</td>\n",
       "      <td>1.801020</td>\n",
       "      <td>0.402272</td>\n",
       "      <td>0</td>\n",
       "      <td>1.992701</td>\n",
       "      <td>0.489927</td>\n",
       "      <td>0</td>\n",
       "      <td>0.034298</td>\n",
       "      <td>1.398747</td>\n",
       "    </tr>\n",
       "    <tr>\n",
       "      <th>s_02011</th>\n",
       "      <td>0.005220</td>\n",
       "      <td>2.177101</td>\n",
       "      <td>0.512704</td>\n",
       "      <td>0</td>\n",
       "      <td>1.985401</td>\n",
       "      <td>0.490584</td>\n",
       "      <td>0</td>\n",
       "      <td>0.031181</td>\n",
       "      <td>1.664397</td>\n",
       "    </tr>\n",
       "    <tr>\n",
       "      <th>s_02014</th>\n",
       "      <td>0.000828</td>\n",
       "      <td>2.200079</td>\n",
       "      <td>0.485166</td>\n",
       "      <td>0</td>\n",
       "      <td>2.000000</td>\n",
       "      <td>0.499124</td>\n",
       "      <td>0</td>\n",
       "      <td>0.033909</td>\n",
       "      <td>1.714912</td>\n",
       "    </tr>\n",
       "    <tr>\n",
       "      <th>s_02015</th>\n",
       "      <td>-0.009805</td>\n",
       "      <td>2.150314</td>\n",
       "      <td>0.489373</td>\n",
       "      <td>0</td>\n",
       "      <td>2.000000</td>\n",
       "      <td>0.495072</td>\n",
       "      <td>0</td>\n",
       "      <td>0.036630</td>\n",
       "      <td>1.660941</td>\n",
       "    </tr>\n",
       "    <tr>\n",
       "      <th>s_02016</th>\n",
       "      <td>0.002051</td>\n",
       "      <td>2.068810</td>\n",
       "      <td>0.514982</td>\n",
       "      <td>0</td>\n",
       "      <td>1.985075</td>\n",
       "      <td>0.492015</td>\n",
       "      <td>0</td>\n",
       "      <td>0.027869</td>\n",
       "      <td>1.553828</td>\n",
       "    </tr>\n",
       "    <tr>\n",
       "      <th>s_02018</th>\n",
       "      <td>-0.001200</td>\n",
       "      <td>1.961148</td>\n",
       "      <td>0.417479</td>\n",
       "      <td>0</td>\n",
       "      <td>1.992857</td>\n",
       "      <td>0.488929</td>\n",
       "      <td>0</td>\n",
       "      <td>0.022804</td>\n",
       "      <td>1.543669</td>\n",
       "    </tr>\n",
       "    <tr>\n",
       "      <th>s_02020</th>\n",
       "      <td>-0.007968</td>\n",
       "      <td>2.374007</td>\n",
       "      <td>0.558702</td>\n",
       "      <td>0</td>\n",
       "      <td>2.007576</td>\n",
       "      <td>0.516061</td>\n",
       "      <td>0</td>\n",
       "      <td>0.023756</td>\n",
       "      <td>1.815306</td>\n",
       "    </tr>\n",
       "    <tr>\n",
       "      <th>s_02021</th>\n",
       "      <td>0.001716</td>\n",
       "      <td>2.048962</td>\n",
       "      <td>0.403868</td>\n",
       "      <td>0</td>\n",
       "      <td>1.992806</td>\n",
       "      <td>0.477842</td>\n",
       "      <td>0</td>\n",
       "      <td>0.018419</td>\n",
       "      <td>1.645094</td>\n",
       "    </tr>\n",
       "    <tr>\n",
       "      <th>s_02022</th>\n",
       "      <td>-0.000880</td>\n",
       "      <td>2.280846</td>\n",
       "      <td>0.522029</td>\n",
       "      <td>0</td>\n",
       "      <td>2.023810</td>\n",
       "      <td>0.477857</td>\n",
       "      <td>0</td>\n",
       "      <td>0.025221</td>\n",
       "      <td>1.758817</td>\n",
       "    </tr>\n",
       "    <tr>\n",
       "      <th>s_02023</th>\n",
       "      <td>-0.007981</td>\n",
       "      <td>2.196848</td>\n",
       "      <td>0.566030</td>\n",
       "      <td>0</td>\n",
       "      <td>2.000000</td>\n",
       "      <td>0.492230</td>\n",
       "      <td>0</td>\n",
       "      <td>0.025385</td>\n",
       "      <td>1.630818</td>\n",
       "    </tr>\n",
       "    <tr>\n",
       "      <th>s_02024</th>\n",
       "      <td>-0.001749</td>\n",
       "      <td>2.250912</td>\n",
       "      <td>0.523561</td>\n",
       "      <td>0</td>\n",
       "      <td>2.000000</td>\n",
       "      <td>0.489552</td>\n",
       "      <td>0</td>\n",
       "      <td>0.028414</td>\n",
       "      <td>1.727351</td>\n",
       "    </tr>\n",
       "    <tr>\n",
       "      <th>s_02027</th>\n",
       "      <td>0.004459</td>\n",
       "      <td>2.161185</td>\n",
       "      <td>0.477401</td>\n",
       "      <td>0</td>\n",
       "      <td>2.021739</td>\n",
       "      <td>0.505725</td>\n",
       "      <td>0</td>\n",
       "      <td>0.021308</td>\n",
       "      <td>1.683783</td>\n",
       "    </tr>\n",
       "  </tbody>\n",
       "</table>\n",
       "</div>"
      ],
      "text/plain": [
       "            Error        RT    RTHold  catch      Task  Line_pct  Missed  \\\n",
       "Subject                                                                    \n",
       "s_02003  0.002544  2.240014  0.480898      0  1.978102  0.493212       0   \n",
       "s_02004  0.000621  2.181841  0.390107      0  1.992908  0.493333       0   \n",
       "s_02005 -0.004826  2.378822  0.468106      0  2.015748  0.504409       0   \n",
       "s_02006 -0.000487  1.970216  0.422093      0  2.000000  0.496268       0   \n",
       "s_02007 -0.009034  2.117213  0.430258      0  2.006993  0.491259       0   \n",
       "s_02009 -0.003768  2.240575  0.499304      0  2.000000  0.496713       0   \n",
       "s_02010 -0.003834  1.801020  0.402272      0  1.992701  0.489927       0   \n",
       "s_02011  0.005220  2.177101  0.512704      0  1.985401  0.490584       0   \n",
       "s_02014  0.000828  2.200079  0.485166      0  2.000000  0.499124       0   \n",
       "s_02015 -0.009805  2.150314  0.489373      0  2.000000  0.495072       0   \n",
       "s_02016  0.002051  2.068810  0.514982      0  1.985075  0.492015       0   \n",
       "s_02018 -0.001200  1.961148  0.417479      0  1.992857  0.488929       0   \n",
       "s_02020 -0.007968  2.374007  0.558702      0  2.007576  0.516061       0   \n",
       "s_02021  0.001716  2.048962  0.403868      0  1.992806  0.477842       0   \n",
       "s_02022 -0.000880  2.280846  0.522029      0  2.023810  0.477857       0   \n",
       "s_02023 -0.007981  2.196848  0.566030      0  2.000000  0.492230       0   \n",
       "s_02024 -0.001749  2.250912  0.523561      0  2.000000  0.489552       0   \n",
       "s_02027  0.004459  2.161185  0.477401      0  2.021739  0.505725       0   \n",
       "\n",
       "         AbsError   RT_Diff  \n",
       "Subject                      \n",
       "s_02003  0.022472  1.759116  \n",
       "s_02004  0.020997  1.791734  \n",
       "s_02005  0.021902  1.910716  \n",
       "s_02006  0.026771  1.548123  \n",
       "s_02007  0.027687  1.686955  \n",
       "s_02009  0.019800  1.741271  \n",
       "s_02010  0.034298  1.398747  \n",
       "s_02011  0.031181  1.664397  \n",
       "s_02014  0.033909  1.714912  \n",
       "s_02015  0.036630  1.660941  \n",
       "s_02016  0.027869  1.553828  \n",
       "s_02018  0.022804  1.543669  \n",
       "s_02020  0.023756  1.815306  \n",
       "s_02021  0.018419  1.645094  \n",
       "s_02022  0.025221  1.758817  \n",
       "s_02023  0.025385  1.630818  \n",
       "s_02024  0.028414  1.727351  \n",
       "s_02027  0.021308  1.683783  "
      ]
     },
     "execution_count": 54,
     "metadata": {},
     "output_type": "execute_result"
    }
   ],
   "source": [
    "responded_subj = responded.groupby(level=0)\n",
    "responded_subj.mean()"
   ]
  },
  {
   "cell_type": "markdown",
   "metadata": {},
   "source": [
    "## Plots by position"
   ]
  },
  {
   "cell_type": "code",
   "execution_count": 55,
   "metadata": {
    "collapsed": false
   },
   "outputs": [],
   "source": [
    "position_tasks = responded.groupby(['Task', 'Line_pct'])"
   ]
  },
  {
   "cell_type": "code",
   "execution_count": 56,
   "metadata": {
    "collapsed": false
   },
   "outputs": [],
   "source": [
    "#responded.iloc[0:20]"
   ]
  },
  {
   "cell_type": "markdown",
   "metadata": {},
   "source": [
    "##RTs by position averages"
   ]
  },
  {
   "cell_type": "code",
   "execution_count": 57,
   "metadata": {
    "collapsed": false
   },
   "outputs": [
    {
     "data": {
      "text/plain": [
       "Task  Line_pct\n",
       "1     0.03        2.166232\n",
       "      0.07        2.252974\n",
       "      0.11        2.251930\n",
       "      0.21        2.236069\n",
       "      0.28        2.250295\n",
       "      0.33        2.102950\n",
       "      0.36        2.194441\n",
       "      0.45        1.835135\n",
       "      0.57        1.943075\n",
       "      0.60        1.965550\n",
       "      0.65        2.005734\n",
       "      0.74        2.181136\n",
       "      0.77        2.239934\n",
       "      0.85        2.345485\n",
       "      0.90        2.307132\n",
       "      0.98        2.210749\n",
       "2     0.03        2.277682\n",
       "      0.07        2.307971\n",
       "      0.11        2.322347\n",
       "      0.21        2.222244\n",
       "      0.28        2.171832\n",
       "      0.33        2.133167\n",
       "      0.36        2.032535\n",
       "      0.45        1.874872\n",
       "      0.57        1.964878\n",
       "      0.60        2.029661\n",
       "      0.65        1.987113\n",
       "      0.74        2.239032\n",
       "      0.77        2.239711\n",
       "      0.85        2.308307\n",
       "      0.90        2.353920\n",
       "      0.98        2.221245\n",
       "3     0.03        2.283034\n",
       "      0.07        2.322188\n",
       "      0.11        2.307128\n",
       "      0.21        2.249980\n",
       "      0.28        2.095584\n",
       "      0.33        2.048842\n",
       "      0.36        1.976196\n",
       "      0.45        1.773923\n",
       "      0.57        1.859551\n",
       "      0.60        1.884395\n",
       "      0.65        1.953282\n",
       "      0.74        2.248324\n",
       "      0.77        2.185684\n",
       "      0.85        2.366906\n",
       "      0.90        2.345572\n",
       "      0.98        2.398890\n",
       "Name: RT, dtype: float64"
      ]
     },
     "execution_count": 57,
     "metadata": {},
     "output_type": "execute_result"
    }
   ],
   "source": [
    "position_tasks['RT'].mean()"
   ]
  },
  {
   "cell_type": "code",
   "execution_count": 58,
   "metadata": {
    "collapsed": false
   },
   "outputs": [],
   "source": [
    "rts = position_tasks['RT'].mean()"
   ]
  },
  {
   "cell_type": "code",
   "execution_count": 59,
   "metadata": {
    "collapsed": false
   },
   "outputs": [],
   "source": [
    "error = position_tasks['AbsError'].mean()"
   ]
  },
  {
   "cell_type": "code",
   "execution_count": 60,
   "metadata": {
    "collapsed": false
   },
   "outputs": [],
   "source": [
    "#rts.iloc[10]"
   ]
  },
  {
   "cell_type": "code",
   "execution_count": 61,
   "metadata": {
    "collapsed": false
   },
   "outputs": [],
   "source": [
    "rts_1 = rts.iloc[0:16]\n",
    "rts_2 = rts.iloc[16:32]\n",
    "rts_3 = rts.iloc[32:48]\n",
    "#rts_1 = rts.iloc[0:14]\n",
    "#rts_2 = rts.iloc[14:30]\n",
    "#rts_3 = rts.iloc[30:46]"
   ]
  },
  {
   "cell_type": "code",
   "execution_count": 62,
   "metadata": {
    "collapsed": false
   },
   "outputs": [],
   "source": [
    "error_1 = error.iloc[0:16]\n",
    "error_2 = error.iloc[16:32]\n",
    "error_3 = error.iloc[32:48]\n",
    "#error_1 = error.iloc[0:14]\n",
    "#error_2 = error.iloc[14:30]\n",
    "#error_3 = error.iloc[30:46]"
   ]
  },
  {
   "cell_type": "code",
   "execution_count": 63,
   "metadata": {
    "collapsed": false
   },
   "outputs": [],
   "source": [
    "rts_1 = rts_1.get_values()\n",
    "rts_2 = rts_2.get_values()\n",
    "rts_3 = rts_3.get_values()"
   ]
  },
  {
   "cell_type": "code",
   "execution_count": 64,
   "metadata": {
    "collapsed": false
   },
   "outputs": [],
   "source": [
    "error_1 = error_1.get_values()\n",
    "error_2 = error_2.get_values()\n",
    "error_3 = error_3.get_values()"
   ]
  },
  {
   "cell_type": "code",
   "execution_count": 65,
   "metadata": {
    "collapsed": false
   },
   "outputs": [],
   "source": [
    "xvals = np.array([0.030, 0.070, 0.110, 0.210, 0.280, 0.330, 0.360, 0.450, 0.570, 0.600, 0.650, 0.740, 0.770, 0.850, 0.900, 0.980])\n",
    "len(rts_1)\n",
    "xvals1 = np.array([0.030, 0.070, 0.110, 0.210, 0.280, 0.330, 0.360, 0.450, 0.570, 0.600, 0.650, 0.740, 0.900, 0.980])"
   ]
  },
  {
   "cell_type": "code",
   "execution_count": 66,
   "metadata": {
    "collapsed": false
   },
   "outputs": [],
   "source": [
    "#len(rts_3)"
   ]
  },
  {
   "cell_type": "code",
   "execution_count": 67,
   "metadata": {
    "collapsed": false
   },
   "outputs": [
    {
     "data": {
      "text/plain": [
       "([<matplotlib.axis.YTick at 0x1109c4dd0>,\n",
       "  <matplotlib.axis.YTick at 0x1109c4fd0>,\n",
       "  <matplotlib.axis.YTick at 0x110a41e10>],\n",
       " <a list of 3 Text yticklabel objects>)"
      ]
     },
     "execution_count": 67,
     "metadata": {},
     "output_type": "execute_result"
    },
    {
     "data": {
      "image/png": "[encoded data removed]",
      "text/plain": [
       "<matplotlib.figure.Figure at 0x10de51ad0>"
      ]
     },
     "metadata": {},
     "output_type": "display_data"
    }
   ],
   "source": [
    "fig = plt.figure(figsize=(12,12))\n",
    "fig1 = plt.subplot(3,1,1)\n",
    "fig1.plot(xvals, rts_1, 'ro-')\n",
    "plt.title('Mean RT By Position N+')\n",
    "plt.xlabel('0 to 100', labelpad = 4)\n",
    "plt.ylabel('Mean RT')\n",
    "plt.ylim([1.5,2.5])\n",
    "plt.yticks(([1.5,2,2.5]))\n",
    "\n",
    "fig2 = plt.subplot(3,1,2)\n",
    "fig2.plot(xvals, rts_2, 'b+-')\n",
    "plt.title('Mean RT By Position N-/+')\n",
    "plt.xlabel('0 to 100', labelpad = 4)\n",
    "plt.ylabel('Mean RT')\n",
    "plt.ylim([1.5,2.5])\n",
    "plt.yticks(([1.5,2,2.5]))\n",
    "\n",
    "fig3 = plt.subplot(3,1,3)\n",
    "fig3.plot(xvals, rts_3, 'y.-')\n",
    "plt.title('Mean RT By Position Word')\n",
    "plt.xlabel('0 to 100', labelpad = 4)\n",
    "plt.ylabel('Mean RT')\n",
    "plt.ylim([1.5,2.5])\n",
    "plt.yticks(([1.5,2,2.5]))\n",
    "\n",
    "#plt.subplots_adjust(hspace = 1.1)"
   ]
  },
  {
   "cell_type": "code",
   "execution_count": 68,
   "metadata": {
    "collapsed": false
   },
   "outputs": [
    {
     "data": {
      "text/plain": [
       "([<matplotlib.axis.YTick at 0x110d7a090>,\n",
       "  <matplotlib.axis.YTick at 0x110f05c10>,\n",
       "  <matplotlib.axis.YTick at 0x110f4e890>,\n",
       "  <matplotlib.axis.YTick at 0x110f4ef50>],\n",
       " <a list of 4 Text yticklabel objects>)"
      ]
     },
     "execution_count": 68,
     "metadata": {},
     "output_type": "execute_result"
    },
    {
     "data": {
      "image/png": "[encoded data removed]",
      "text/plain": [
       "<matplotlib.figure.Figure at 0x110a634d0>"
      ]
     },
     "metadata": {},
     "output_type": "display_data"
    }
   ],
   "source": [
    "fig = plt.figure(figsize=(12,12))\n",
    "fig1 = plt.subplot(3,1,1)\n",
    "fig1.plot(xvals, error_1, 'ro-')\n",
    "plt.title('Mean Absolute Error By Position N+')\n",
    "plt.xlabel('0 to 100', labelpad = 4)\n",
    "plt.ylabel('MAE')\n",
    "plt.ylim([0,0.075])\n",
    "plt.yticks(([0.0,0.025,0.05,0.075]))\n",
    "\n",
    "fig2 = plt.subplot(3,1,2)\n",
    "fig2.plot(xvals, error_2, 'b+-')\n",
    "plt.title('Mean Absolute Error By Position N-/+')\n",
    "plt.xlabel('0 to 100', labelpad = 4)\n",
    "plt.ylabel('MAE')\n",
    "plt.ylim([0,0.075])\n",
    "plt.yticks(([0.0,0.025,0.05,0.075]))\n",
    "\n",
    "fig3 = plt.subplot(3,1,3)\n",
    "fig3.plot(xvals, error_3, 'y.-')\n",
    "plt.title('Mean Absolute Error By Position Word')\n",
    "plt.xlabel('0 to 100', labelpad = 4)\n",
    "plt.ylabel('MAE')\n",
    "plt.ylim([0,0.075])\n",
    "plt.yticks(([0.0,0.025,0.05,0.075]))\n"
   ]
  },
  {
   "cell_type": "markdown",
   "metadata": {},
   "source": [
    "###Signed error is calculated as Response - Correct"
   ]
  },
  {
   "cell_type": "code",
   "execution_count": 69,
   "metadata": {
    "collapsed": false
   },
   "outputs": [],
   "source": [
    "signerror = position_tasks['Error'].mean()\n",
    "STDsignerror = position_tasks['Error'].std()\n",
    "signerror_1 = signerror.iloc[0:16]\n",
    "signerror_2 = signerror.iloc[16:32]\n",
    "signerror_3 = signerror.iloc[32:48]\n",
    "STDsignerror_1 = STDsignerror.iloc[0:16]\n",
    "STDsignerror_2 = STDsignerror.iloc[16:32]\n",
    "STDsignerror_3 = STDsignerror.iloc[32:48]\n",
    "signerror_1 = signerror_1.get_values()\n",
    "signerror_2 = signerror_2.get_values()\n",
    "signerror_3 = signerror_3.get_values()\n",
    "STDsignerror_1 = STDsignerror_1.get_values()\n",
    "STDsignerror_2 = STDsignerror_2.get_values()\n",
    "STDsignerror_3 = STDsignerror_3.get_values()"
   ]
  },
  {
   "cell_type": "code",
   "execution_count": 70,
   "metadata": {
    "collapsed": false
   },
   "outputs": [
    {
     "data": {
      "text/plain": [
       "([<matplotlib.axis.YTick at 0x110d643d0>,\n",
       "  <matplotlib.axis.YTick at 0x110ffa510>,\n",
       "  <matplotlib.axis.YTick at 0x1114bc990>,\n",
       "  <matplotlib.axis.YTick at 0x1114bcfd0>,\n",
       "  <matplotlib.axis.YTick at 0x1114c9790>],\n",
       " <a list of 5 Text yticklabel objects>)"
      ]
     },
     "execution_count": 70,
     "metadata": {},
     "output_type": "execute_result"
    },
    {
     "data": {
      "image/png": "[encoded data removed]",
      "text/plain": [
       "<matplotlib.figure.Figure at 0x110f63e10>"
      ]
     },
     "metadata": {},
     "output_type": "display_data"
    }
   ],
   "source": [
    "fig = plt.figure(figsize=(12,12))\n",
    "fig1 = plt.subplot(3,1,1)\n",
    "fig1.plot(xvals, signerror_1, 'ro-')\n",
    "plt.title('Signed Error By Position N+')\n",
    "plt.xlabel('0 to 100', labelpad = 4)\n",
    "plt.ylabel('Error')\n",
    "plt.ylim([-0.09,0.09])\n",
    "plt.yticks(([-0.09,-0.045,0,0.045,0.09]))\n",
    "\n",
    "fig2 = plt.subplot(3,1,2)\n",
    "fig2.plot(xvals, signerror_2, 'b+-')\n",
    "plt.title('Signed Error By Position N-/+')\n",
    "plt.xlabel('0 to 100', labelpad = 4)\n",
    "plt.ylabel('Error')\n",
    "plt.ylim([-0.09,0.09])\n",
    "plt.yticks(([-0.09,-0.045,0,0.045,0.09]))\n",
    "\n",
    "fig3 = plt.subplot(3,1,3)\n",
    "fig3.plot(xvals, signerror_3, 'y.-')\n",
    "plt.title('Signed Error By Position Word')\n",
    "plt.xlabel('0 to 100', labelpad = 4)\n",
    "plt.ylabel('Error')\n",
    "plt.ylim([-0.09,0.09])\n",
    "plt.yticks(([-0.09,-0.045,0,0.045,0.09]))"
   ]
  },
  {
   "cell_type": "markdown",
   "metadata": {},
   "source": [
    "## Positive values in the graph above mean participant overestimated, negative values mean participant underestimated. In the -/+ task participants tend to give answers further from the endpoints than they should (This might have to do with the fact that the line is divided in 200 units unlike + task)."
   ]
  },
  {
   "cell_type": "markdown",
   "metadata": {},
   "source": [
    "## SD calculated as SD of all data of a specific position"
   ]
  },
  {
   "cell_type": "code",
   "execution_count": 71,
   "metadata": {
    "collapsed": false
   },
   "outputs": [
    {
     "data": {
      "text/plain": [
       "([<matplotlib.axis.YTick at 0x111903ad0>,\n",
       "  <matplotlib.axis.YTick at 0x110f6e650>,\n",
       "  <matplotlib.axis.YTick at 0x1119c3e50>,\n",
       "  <matplotlib.axis.YTick at 0x1119d0550>,\n",
       "  <matplotlib.axis.YTick at 0x1119d0cd0>],\n",
       " <a list of 5 Text yticklabel objects>)"
      ]
     },
     "execution_count": 71,
     "metadata": {},
     "output_type": "execute_result"
    },
    {
     "data": {
      "image/png": "[encoded data removed]",
      "text/plain": [
       "<matplotlib.figure.Figure at 0x111473c90>"
      ]
     },
     "metadata": {},
     "output_type": "display_data"
    }
   ],
   "source": [
    "fig = plt.figure(figsize=(12,12))\n",
    "fig1 = plt.subplot(3,1,1)\n",
    "fig1.plot(xvals, STDsignerror_1, 'ro-')\n",
    "plt.title('SD Signed Error By Position N+')\n",
    "plt.xlabel('0 to 100', labelpad = 4)\n",
    "plt.ylabel('SD')\n",
    "plt.ylim([0,0.25])\n",
    "plt.yticks(([0.05,0.1,0.15,0.2,0.25]))\n",
    "\n",
    "fig2 = plt.subplot(3,1,2)\n",
    "fig2.plot(xvals, STDsignerror_2, 'b+-')\n",
    "plt.title('SD Signed Error By Position N-/+')\n",
    "plt.xlabel('0 to 100', labelpad = 4)\n",
    "plt.ylabel('SD')\n",
    "plt.ylim([0,0.25])\n",
    "plt.yticks(([0.05,0.1,0.15,0.2,0.25]))\n",
    "\n",
    "fig3 = plt.subplot(3,1,3)\n",
    "fig3.plot(xvals, STDsignerror_3, 'y.-')\n",
    "plt.title('SD Signed Error By Position Word')\n",
    "plt.xlabel('0 to 100', labelpad = 4)\n",
    "plt.ylabel('SD')\n",
    "plt.ylim([0,0.25])\n",
    "plt.yticks(([0.05,0.1,0.15,0.2,0.25]))"
   ]
  },
  {
   "cell_type": "code",
   "execution_count": 72,
   "metadata": {
    "collapsed": false
   },
   "outputs": [
    {
     "data": {
      "text/plain": [
       "0.010173573025367855"
      ]
     },
     "execution_count": 72,
     "metadata": {},
     "output_type": "execute_result"
    }
   ],
   "source": [
    "#Basis to extract SD for each subject and then conduct average across subjects\n",
    "position_tasks.get_group((1,0.03)).loc['s_02009']['Error'].std()"
   ]
  },
  {
   "cell_type": "code",
   "execution_count": 73,
   "metadata": {
    "collapsed": false
   },
   "outputs": [],
   "source": [
    "D = {}\n",
    "for sub in responded_subj.groups.keys():\n",
    "    for pos in position_tasks.groups.keys():\n",
    "        task = pos[0]\n",
    "        stim = pos[1]\n",
    "        if D.get(task,0) == 0:\n",
    "            D[task] = {}\n",
    "        if D[task].get(stim,0) == 0:\n",
    "            D[task][stim] = []\n",
    "        D[task][stim].append(position_tasks.get_group((task,stim)).loc[sub]['Error'].std())"
   ]
  },
  {
   "cell_type": "code",
   "execution_count": 74,
   "metadata": {
    "collapsed": false
   },
   "outputs": [
    {
     "name": "stdout",
     "output_type": "stream",
     "text": [
      "1\n",
      "2\n",
      "3\n"
     ]
    }
   ],
   "source": [
    "for task in D:\n",
    "    print task\n",
    "    for stim in D[task]:\n",
    "        D[task][stim] = np.nanmean(D[task][stim])"
   ]
  },
  {
   "cell_type": "code",
   "execution_count": 75,
   "metadata": {
    "collapsed": false
   },
   "outputs": [],
   "source": [
    "STDsignerror_1 = []\n",
    "STDsignerror_2 = []\n",
    "STDsignerror_3 = []\n",
    "for stim in D[1]:\n",
    "    STDsignerror_1.append(D[1][stim])\n",
    "for stim in D[2]:\n",
    "    STDsignerror_2.append(D[2][stim])\n",
    "for stim in D[3]:\n",
    "    STDsignerror_3.append(D[3][stim])"
   ]
  },
  {
   "cell_type": "markdown",
   "metadata": {},
   "source": [
    "## SD calculated as std of each subject and then averaging the individual std"
   ]
  },
  {
   "cell_type": "markdown",
   "metadata": {},
   "source": [
    "###Only 3 datapoints per position per subject so estimate will have a lot of varriability"
   ]
  },
  {
   "cell_type": "code",
   "execution_count": 76,
   "metadata": {
    "collapsed": false
   },
   "outputs": [
    {
     "data": {
      "text/plain": [
       "([<matplotlib.axis.YTick at 0x111d8ebd0>,\n",
       "  <matplotlib.axis.YTick at 0x111dac9d0>,\n",
       "  <matplotlib.axis.YTick at 0x111e0ed10>],\n",
       " <a list of 3 Text yticklabel objects>)"
      ]
     },
     "execution_count": 76,
     "metadata": {},
     "output_type": "execute_result"
    },
    {
     "data": {
      "image/png": "[encoded data removed]",
      "text/plain": [
       "<matplotlib.figure.Figure at 0x10c7795d0>"
      ]
     },
     "metadata": {},
     "output_type": "display_data"
    }
   ],
   "source": [
    "fig = plt.figure(figsize=(12,12))\n",
    "fig1 = plt.subplot(3,1,1)\n",
    "fig1.plot(xvals, STDsignerror_1, 'ro-')\n",
    "plt.title('SD Signed Error By Position N+')\n",
    "plt.xlabel('0 to 100', labelpad = 4)\n",
    "plt.ylabel('SD')\n",
    "plt.ylim([0,0.15])\n",
    "plt.yticks(([0.05,0.1,0.15]))\n",
    "\n",
    "fig2 = plt.subplot(3,1,2)\n",
    "fig2.plot(xvals, STDsignerror_2, 'b+-')\n",
    "plt.title('SD Signed Error By Position N+/-')\n",
    "plt.xlabel('0 to 100', labelpad = 4)\n",
    "plt.ylabel('SD')\n",
    "plt.ylim([0,0.15])\n",
    "plt.yticks(([0.05,0.1,0.15]))\n",
    "\n",
    "fig3 = plt.subplot(3,1,3)\n",
    "fig3.plot(xvals, STDsignerror_3, 'y.-')\n",
    "plt.title('SD Signed Error By Position Word')\n",
    "plt.xlabel('0 to 100', labelpad = 4)\n",
    "plt.ylabel('SD')\n",
    "plt.ylim([0,0.15])\n",
    "plt.yticks(([0.05,0.1,0.15]))"
   ]
  },
  {
   "cell_type": "code",
   "execution_count": 77,
   "metadata": {
    "collapsed": true
   },
   "outputs": [],
   "source": [
    "#For mean error as well can be calculated this way\n",
    "D2 = {}\n",
    "for sub in responded_subj.groups.keys():\n",
    "    for pos in position_tasks.groups.keys():\n",
    "        task = pos[0]\n",
    "        stim = pos[1]\n",
    "        if D2.get(task,0) == 0:\n",
    "            D2[task] = {}\n",
    "        if D2[task].get(stim,0) == 0:\n",
    "            D2[task][stim] = []\n",
    "        D2[task][stim].append(position_tasks.get_group((task,stim)).loc[sub]['Error'].mean())"
   ]
  },
  {
   "cell_type": "markdown",
   "metadata": {},
   "source": [
    "##Correlate PAE Vs Landmark Distance"
   ]
  },
  {
   "cell_type": "code",
   "execution_count": 78,
   "metadata": {
    "collapsed": false
   },
   "outputs": [
    {
     "data": {
      "text/plain": [
       "array([ 0.03,  0.07,  0.11,  0.21,  0.28,  0.33,  0.36,  0.45,  0.57,\n",
       "        0.6 ,  0.65,  0.74,  0.77,  0.85,  0.9 ,  0.98])"
      ]
     },
     "execution_count": 78,
     "metadata": {},
     "output_type": "execute_result"
    }
   ],
   "source": [
    "dist_0 = xvals\n",
    "dist_0"
   ]
  },
  {
   "cell_type": "code",
   "execution_count": 79,
   "metadata": {
    "collapsed": false
   },
   "outputs": [
    {
     "data": {
      "text/plain": [
       "array([ 0.47,  0.43,  0.39,  0.29,  0.22,  0.17,  0.14,  0.05,  0.07,\n",
       "        0.1 ,  0.15,  0.24,  0.27,  0.35,  0.4 ,  0.48])"
      ]
     },
     "execution_count": 79,
     "metadata": {},
     "output_type": "execute_result"
    }
   ],
   "source": [
    "dist_50 = abs(xvals-0.5)\n",
    "dist_50"
   ]
  },
  {
   "cell_type": "code",
   "execution_count": 80,
   "metadata": {
    "collapsed": false
   },
   "outputs": [
    {
     "data": {
      "text/plain": [
       "array([ 0.97,  0.93,  0.89,  0.79,  0.72,  0.67,  0.64,  0.55,  0.43,\n",
       "        0.4 ,  0.35,  0.26,  0.23,  0.15,  0.1 ,  0.02])"
      ]
     },
     "execution_count": 80,
     "metadata": {},
     "output_type": "execute_result"
    }
   ],
   "source": [
    "dist_100 = abs(xvals - 1)\n",
    "dist_100"
   ]
  },
  {
   "cell_type": "code",
   "execution_count": 81,
   "metadata": {
    "collapsed": false
   },
   "outputs": [
    {
     "data": {
      "text/plain": [
       "0     0.03\n",
       "1     0.07\n",
       "2     0.11\n",
       "3     0.21\n",
       "4     0.22\n",
       "5     0.17\n",
       "6     0.14\n",
       "7     0.05\n",
       "8     0.07\n",
       "9     0.10\n",
       "10    0.15\n",
       "11    0.24\n",
       "12    0.23\n",
       "13    0.15\n",
       "14    0.10\n",
       "15    0.02\n",
       "dtype: float64"
      ]
     },
     "execution_count": 81,
     "metadata": {},
     "output_type": "execute_result"
    }
   ],
   "source": [
    "dist_Land = pd.DataFrame([dist_0, dist_50, dist_100]).min()\n",
    "dist_Land"
   ]
  },
  {
   "cell_type": "code",
   "execution_count": 82,
   "metadata": {
    "collapsed": false
   },
   "outputs": [
    {
     "data": {
      "text/plain": [
       "([<matplotlib.axis.YTick at 0x11240de10>,\n",
       "  <matplotlib.axis.YTick at 0x11240df90>,\n",
       "  <matplotlib.axis.YTick at 0x11244f5d0>],\n",
       " <a list of 3 Text yticklabel objects>)"
      ]
     },
     "execution_count": 82,
     "metadata": {},
     "output_type": "execute_result"
    },
    {
     "data": {
      "image/png": "[encoded data removed]",
      "text/plain": [
       "<matplotlib.figure.Figure at 0x111e254d0>"
      ]
     },
     "metadata": {},
     "output_type": "display_data"
    }
   ],
   "source": [
    "m1, b1 = np.polyfit(dist_Land,error_1,1)\n",
    "fig = plt.figure(figsize=(12,12))\n",
    "fig1 = plt.subplot(3,1,1)\n",
    "fig1.plot(dist_Land, error_1, 'ro')\n",
    "plt.plot(dist_Land, m1*dist_Land + b1, 'r-')\n",
    "plt.title('MAE Vs. Landmark Distance N+')\n",
    "plt.xlabel('Landmark Distance', labelpad = 4)\n",
    "plt.ylabel('MAE')\n",
    "plt.ylim([0,0.06])\n",
    "plt.yticks(([0.02,0.04,0.06]))\n",
    "\n",
    "m2, b2 = np.polyfit(dist_Land,error_2,1)\n",
    "fig2 = plt.subplot(3,1,2)\n",
    "fig2.plot(dist_Land, error_2, 'b+')\n",
    "plt.plot(dist_Land, m2*dist_Land + b2, 'b-')\n",
    "plt.title('MAE Vs. Landmark Distance N+/-')\n",
    "plt.xlabel('Landmark Distance', labelpad = 4)\n",
    "plt.ylabel('MAE')\n",
    "plt.ylim([0,0.06])\n",
    "plt.yticks(([0.02,0.04,0.06]))\n",
    "\n",
    "m3, b3 = np.polyfit(dist_Land,error_3,1)\n",
    "fig3 = plt.subplot(3,1,3)\n",
    "fig3.plot(dist_Land, error_3, 'y.')\n",
    "plt.plot(dist_Land, m3*dist_Land + b3, 'y-')\n",
    "plt.title('MAE Vs. Landmark Distance Word')\n",
    "plt.xlabel('Landmark Distance', labelpad = 4)\n",
    "plt.ylabel('MAE')\n",
    "plt.ylim([0,0.06])\n",
    "plt.yticks(([0.02,0.04,0.06]))"
   ]
  },
  {
   "cell_type": "code",
   "execution_count": 83,
   "metadata": {
    "collapsed": false
   },
   "outputs": [
    {
     "name": "stdout",
     "output_type": "stream",
     "text": [
      "0.0618041320055 -0.0324222813047 -0.00362806718054\n"
     ]
    }
   ],
   "source": [
    "print m1, m2, m3"
   ]
  },
  {
   "cell_type": "code",
   "execution_count": 84,
   "metadata": {
    "collapsed": false
   },
   "outputs": [],
   "source": [
    "from scipy.stats import linregress\n",
    "slope1, intercept1, r1, p1, stderr1 = linregress(dist_Land,error_1)\n",
    "slope2, intercept2, r2, p2, stderr2 = linregress(dist_Land,error_2)\n",
    "slope3, intercept3, r3, p3, stderr3 = linregress(dist_Land,error_3)"
   ]
  },
  {
   "cell_type": "code",
   "execution_count": 85,
   "metadata": {
    "collapsed": false
   },
   "outputs": [
    {
     "name": "stdout",
     "output_type": "stream",
     "text": [
      "r1 0.524771406064\n",
      "r2 -0.210298450387\n",
      "r3 -0.145689184758\n"
     ]
    }
   ],
   "source": [
    "print 'r1', r1\n",
    "print 'r2', r2\n",
    "print 'r3', r3"
   ]
  },
  {
   "cell_type": "code",
   "execution_count": 86,
   "metadata": {
    "collapsed": false
   },
   "outputs": [
    {
     "name": "stdout",
     "output_type": "stream",
     "text": [
      "r1sq 0.275385028623\n",
      "r2sq 0.0442254382351\n",
      "r3sq 0.0212253385554\n"
     ]
    }
   ],
   "source": [
    "print 'r1sq', r1*r1\n",
    "print 'r2sq', r2*r2\n",
    "print 'r3sq', r3*r3"
   ]
  },
  {
   "cell_type": "code",
   "execution_count": 87,
   "metadata": {
    "collapsed": false
   },
   "outputs": [
    {
     "name": "stdout",
     "output_type": "stream",
     "text": [
      "slope1 0.0618041320055\n",
      "slope2 -0.0324222813047\n",
      "slope3 -0.00362806718054\n"
     ]
    }
   ],
   "source": [
    "print 'slope1', slope1\n",
    "print 'slope2', slope2\n",
    "print 'slope3', slope3"
   ]
  },
  {
   "cell_type": "code",
   "execution_count": 88,
   "metadata": {
    "collapsed": false
   },
   "outputs": [
    {
     "name": "stdout",
     "output_type": "stream",
     "text": [
      "p1 0.0368825437045\n",
      "p2 0.434354810333\n",
      "p3 0.590320551269\n"
     ]
    }
   ],
   "source": [
    "print 'p1', p1\n",
    "print 'p2', p2\n",
    "print 'p3', p3"
   ]
  },
  {
   "cell_type": "markdown",
   "metadata": {},
   "source": [
    "##First half only"
   ]
  },
  {
   "cell_type": "code",
   "execution_count": 89,
   "metadata": {
    "collapsed": false
   },
   "outputs": [
    {
     "data": {
      "text/plain": [
       "([<matplotlib.axis.YTick at 0x112e819d0>,\n",
       "  <matplotlib.axis.YTick at 0x112e62e50>,\n",
       "  <matplotlib.axis.YTick at 0x113814610>],\n",
       " <a list of 3 Text yticklabel objects>)"
      ]
     },
     "execution_count": 89,
     "metadata": {},
     "output_type": "execute_result"
    },
    {
     "data": {
      "image/png": "[encoded data removed]",
      "text/plain": [
       "<matplotlib.figure.Figure at 0x112d6b250>"
      ]
     },
     "metadata": {},
     "output_type": "display_data"
    }
   ],
   "source": [
    "m1, b1 = np.polyfit(dist_Land[0:7],error_1[0:7],1)\n",
    "fig = plt.figure(figsize=(12,12))\n",
    "fig1 = plt.subplot(3,1,1)\n",
    "fig1.plot(dist_Land[0:7], error_1[0:7], 'ro')\n",
    "plt.plot(dist_Land[0:7], m1*dist_Land[0:7] + b1, 'r-')\n",
    "plt.title('MAE Vs. Landmark Distance N+')\n",
    "plt.xlabel('Landmark Distance', labelpad = 4)\n",
    "plt.ylabel('MAE')\n",
    "plt.ylim([0,0.06])\n",
    "plt.yticks(([0.02,0.04,0.06]))\n",
    "\n",
    "m2, b2 = np.polyfit(dist_Land[0:7],error_2[0:7],1)\n",
    "fig2 = plt.subplot(3,1,2)\n",
    "fig2.plot(dist_Land[0:7], error_2[0:7], 'b+')\n",
    "plt.plot(dist_Land[0:7], m2*dist_Land[0:7] + b2, 'b-')\n",
    "plt.title('MAE Vs. Landmark Distance N+/-')\n",
    "plt.xlabel('Landmark Distance', labelpad = 4)\n",
    "plt.ylabel('MAE')\n",
    "plt.ylim([0,0.06])\n",
    "plt.yticks(([0.02,0.04,0.06]))\n",
    "\n",
    "m3, b3 = np.polyfit(dist_Land[0:7],error_3[0:7],1)\n",
    "fig3 = plt.subplot(3,1,3)\n",
    "fig3.plot(dist_Land[0:7], error_3[0:7], 'y.')\n",
    "plt.plot(dist_Land[0:7], m3*dist_Land[0:7] + b3, 'y-')\n",
    "plt.title('MAE Vs. Landmark Distance Word')\n",
    "plt.xlabel('Landmark Distance', labelpad = 4)\n",
    "plt.ylabel('MAE')\n",
    "plt.ylim([0,0.06])\n",
    "plt.yticks(([0.02,0.04,0.06]))"
   ]
  },
  {
   "cell_type": "markdown",
   "metadata": {},
   "source": [
    "##Second half only"
   ]
  },
  {
   "cell_type": "code",
   "execution_count": 90,
   "metadata": {
    "collapsed": false
   },
   "outputs": [
    {
     "data": {
      "text/plain": [
       "([<matplotlib.axis.YTick at 0x113cb7fd0>,\n",
       "  <matplotlib.axis.YTick at 0x113c48650>,\n",
       "  <matplotlib.axis.YTick at 0x113d02b10>],\n",
       " <a list of 3 Text yticklabel objects>)"
      ]
     },
     "execution_count": 90,
     "metadata": {},
     "output_type": "execute_result"
    },
    {
     "data": {
      "image/png": "[encoded data removed]",
      "text/plain": [
       "<matplotlib.figure.Figure at 0x112d66350>"
      ]
     },
     "metadata": {},
     "output_type": "display_data"
    }
   ],
   "source": [
    "m1, b1 = np.polyfit(dist_Land[8:],error_1[8:],1)\n",
    "fig = plt.figure(figsize=(12,12))\n",
    "fig1 = plt.subplot(3,1,1)\n",
    "fig1.plot(dist_Land[8:], error_1[8:], 'ro')\n",
    "plt.plot(dist_Land[8:], m1*dist_Land[8:] + b1, 'r-')\n",
    "plt.title('MAE Vs. Landmark Distance N+')\n",
    "plt.xlabel('Landmark Distance', labelpad = 4)\n",
    "plt.ylabel('MAE')\n",
    "plt.ylim([0,0.06])\n",
    "plt.yticks(([0.02,0.04,0.06]))\n",
    "\n",
    "m2, b2 = np.polyfit(dist_Land[8:],error_2[8:],1)\n",
    "fig2 = plt.subplot(3,1,2)\n",
    "fig2.plot(dist_Land[8:], error_2[8:], 'b+')\n",
    "plt.plot(dist_Land[8:], m2*dist_Land[8:] + b2, 'b-')\n",
    "plt.title('MAE Vs. Landmark Distance N+/-')\n",
    "plt.xlabel('Landmark Distance', labelpad = 4)\n",
    "plt.ylabel('MAE')\n",
    "plt.ylim([0,0.06])\n",
    "plt.yticks(([0.02,0.04,0.06]))\n",
    "\n",
    "m3, b3 = np.polyfit(dist_Land[8:],error_3[8:],1)\n",
    "fig3 = plt.subplot(3,1,3)\n",
    "fig3.plot(dist_Land[8:], error_3[8:], 'y.')\n",
    "plt.plot(dist_Land[8:], m3*dist_Land[8:] + b3, 'y-')\n",
    "plt.title('MAE Vs. Landmark Distance Word')\n",
    "plt.xlabel('Landmark Distance', labelpad = 4)\n",
    "plt.ylabel('MAE')\n",
    "plt.ylim([0,0.06])\n",
    "plt.yticks(([0.02,0.04,0.06]))"
   ]
  },
  {
   "cell_type": "markdown",
   "metadata": {},
   "source": [
    "## Landmark distance Vs signed error"
   ]
  },
  {
   "cell_type": "code",
   "execution_count": 91,
   "metadata": {
    "collapsed": false
   },
   "outputs": [
    {
     "data": {
      "text/plain": [
       "([<matplotlib.axis.YTick at 0x113888f90>,\n",
       "  <matplotlib.axis.YTick at 0x113d0ff10>,\n",
       "  <matplotlib.axis.YTick at 0x11422f4d0>],\n",
       " <a list of 3 Text yticklabel objects>)"
      ]
     },
     "execution_count": 91,
     "metadata": {},
     "output_type": "execute_result"
    },
    {
     "data": {
      "image/png": "[encoded data removed]",
      "text/plain": [
       "<matplotlib.figure.Figure at 0x113caded0>"
      ]
     },
     "metadata": {},
     "output_type": "display_data"
    }
   ],
   "source": [
    "m1, b1 = np.polyfit(dist_Land,signerror_1,1)\n",
    "fig = plt.figure(figsize=(12,12))\n",
    "fig1 = plt.subplot(3,1,1)\n",
    "fig1.plot(dist_Land, signerror_1, 'ro')\n",
    "plt.plot(dist_Land, m1*dist_Land + b1, 'r-')\n",
    "plt.title('Signed Error Vs. Landmark Distance N+')\n",
    "plt.xlabel('Landmark Distance', labelpad = 4)\n",
    "plt.ylabel('Signed Error')\n",
    "plt.ylim([-0.06,0.06])\n",
    "plt.yticks(([-0.03,0.,0.03]))\n",
    "\n",
    "m2, b2 = np.polyfit(dist_Land,signerror_2,1)\n",
    "fig2 = plt.subplot(3,1,2)\n",
    "fig2.plot(dist_Land, signerror_2, 'b+')\n",
    "plt.plot(dist_Land, m2*dist_Land + b2, 'b-')\n",
    "plt.title('Signed Error Vs. Landmark Distance N+/-')\n",
    "plt.xlabel('Landmark Distance', labelpad = 4)\n",
    "plt.ylabel('Signed Error')\n",
    "plt.ylim([-0.06,0.06])\n",
    "plt.yticks(([-0.03,0.,0.03]))\n",
    "\n",
    "m3, b3 = np.polyfit(dist_Land,signerror_3,1)\n",
    "fig3 = plt.subplot(3,1,3)\n",
    "fig3.plot(dist_Land, signerror_3, 'y.')\n",
    "plt.plot(dist_Land, m3*dist_Land + b3, 'y-')\n",
    "plt.title('Signed Error Vs. Landmark Distance Word')\n",
    "plt.xlabel('Landmark Distance', labelpad = 4)\n",
    "plt.ylabel('Signed Error')\n",
    "plt.ylim([-0.06,0.06])\n",
    "plt.yticks(([-0.03,0.,0.03]))"
   ]
  },
  {
   "cell_type": "markdown",
   "metadata": {},
   "source": [
    "## Estimation slope vs arithmetic scores"
   ]
  },
  {
   "cell_type": "code",
   "execution_count": 92,
   "metadata": {
    "collapsed": true
   },
   "outputs": [],
   "source": [
    "nline_df.to_csv('nline_data.csv', sep='\\t')"
   ]
  },
  {
   "cell_type": "code",
   "execution_count": 93,
   "metadata": {
    "collapsed": false
   },
   "outputs": [],
   "source": [
    "new_df = pd.read_csv('nline_data.csv',sep='\\t')"
   ]
  },
  {
   "cell_type": "code",
   "execution_count": 94,
   "metadata": {
    "collapsed": false
   },
   "outputs": [],
   "source": [
    "new_df.loc[:,:]= new_df[new_df['catch']<1]\n",
    "#len(nline_miss)\n",
    "new_df['Missed'] = new_df['Error']\n",
    "new_df.loc[new_df['Missed']<1,'Missed'] = 0\n",
    "#Pick only responded trials\n",
    "new_df.loc[:,:] = new_df[new_df['Missed']==0]"
   ]
  },
  {
   "cell_type": "code",
   "execution_count": 112,
   "metadata": {
    "collapsed": false
   },
   "outputs": [],
   "source": [
    "new_df = new_df[pd.notnull(new_df['Subject'])]"
   ]
  },
  {
   "cell_type": "code",
   "execution_count": 114,
   "metadata": {
    "collapsed": false
   },
   "outputs": [],
   "source": [
    "group_task = new_df.groupby(['Subject','Task','Line_pct'])"
   ]
  },
  {
   "cell_type": "code",
   "execution_count": 115,
   "metadata": {
    "collapsed": false,
    "scrolled": true
   },
   "outputs": [],
   "source": [
    "#group_task.groups"
   ]
  },
  {
   "cell_type": "code",
   "execution_count": 116,
   "metadata": {
    "collapsed": false
   },
   "outputs": [
    {
     "data": {
      "text/plain": [
       "0.02"
      ]
     },
     "execution_count": 116,
     "metadata": {},
     "output_type": "execute_result"
    }
   ],
   "source": [
    "group_task.get_group(('s_02003',1,0.98))['Error'].mean()"
   ]
  },
  {
   "cell_type": "code",
   "execution_count": 117,
   "metadata": {
    "collapsed": false
   },
   "outputs": [],
   "source": [
    "error = group_task['Error'].mean()\n",
    "response = group_task['Response'].mean()"
   ]
  },
  {
   "cell_type": "code",
   "execution_count": 118,
   "metadata": {
    "collapsed": false
   },
   "outputs": [
    {
     "data": {
      "text/plain": [
       "Line_pct\n",
       "0.03   -0.024126\n",
       "0.07    0.017004\n",
       "0.11   -0.013084\n",
       "0.21   -0.038194\n",
       "0.28   -0.044317\n",
       "0.33   -0.063480\n",
       "0.36   -0.093480\n",
       "0.45    0.034581\n",
       "0.57   -0.014934\n",
       "0.60    0.027753\n",
       "0.65   -0.013436\n",
       "0.74    0.059559\n",
       "0.77    0.053789\n",
       "0.85    0.015639\n",
       "0.90    0.027313\n",
       "0.98    0.020000\n",
       "Name: Error, dtype: float64"
      ]
     },
     "execution_count": 118,
     "metadata": {},
     "output_type": "execute_result"
    }
   ],
   "source": [
    "error.loc['s_02003'].loc[1]"
   ]
  },
  {
   "cell_type": "code",
   "execution_count": 119,
   "metadata": {
    "collapsed": false
   },
   "outputs": [
    {
     "data": {
      "text/plain": [
       "Line_pct\n",
       "0.03    0.005874\n",
       "0.07    0.087004\n",
       "0.11    0.096916\n",
       "0.21    0.171806\n",
       "0.28    0.235683\n",
       "0.33    0.266520\n",
       "0.36    0.266520\n",
       "0.45    0.484581\n",
       "0.57    0.555066\n",
       "0.60    0.627753\n",
       "0.65    0.636564\n",
       "0.74    0.799559\n",
       "0.77    0.823789\n",
       "0.85    0.865639\n",
       "0.90    0.927313\n",
       "0.98    1.000000\n",
       "Name: Response, dtype: float64"
      ]
     },
     "execution_count": 119,
     "metadata": {},
     "output_type": "execute_result"
    }
   ],
   "source": [
    "response.loc['s_02003'].loc[1]"
   ]
  },
  {
   "cell_type": "code",
   "execution_count": 120,
   "metadata": {
    "collapsed": false
   },
   "outputs": [],
   "source": [
    "subjs = new_df['Subject'].unique()\n",
    "tasks = new_df['Task'].unique()\n"
   ]
  },
  {
   "cell_type": "code",
   "execution_count": 122,
   "metadata": {
    "collapsed": false
   },
   "outputs": [],
   "source": [
    "\n",
    "error_dict = {}\n",
    "position_dict = {}\n",
    "results_list = []\n",
    "for s in subjs:\n",
    "    error_dict[s] = {}\n",
    "    position_dict[s] = {}\n",
    "    for t in tasks:\n",
    "        d_tmp = {}\n",
    "        error_dict[s][t] = error.loc[s].loc[t]\n",
    "        position_dict[s][t] = response.loc[s].loc[t]\n",
    "        slope,inter,r,p,stderr = linregress(error_dict[s][t].index, error_dict[s][t])\n",
    "        slope2,inter2,r2,p2,stderr2 = linregress(position_dict[s][t].index, position_dict[s][t])\n",
    "        d_tmp = {'Subject':s, 'Task':t, 'slope_E':slope, 'slope_P':slope2, 'int_E':inter,\n",
    "                 'int_P':inter2,'r_E':r, 'r_P':r2, 'p_E':p, 'p_P':p2, 'stderr_E':stderr,\n",
    "                 'stderr_P':stderr2, 'R2_E':r*r, 'R2_P':r2*r2}\n",
    "        results_list.append(d_tmp)\n",
    "res_df = pd.DataFrame(results_list)\n",
    "        \n",
    "        "
   ]
  },
  {
   "cell_type": "code",
   "execution_count": 123,
   "metadata": {
    "collapsed": true
   },
   "outputs": [],
   "source": [
    "slope1, intercept1, r1, p1, stderr1 = linregress(position_dict['s_02003'][3].index,\n",
    "                                                 position_dict['s_02003'][3])"
   ]
  },
  {
   "cell_type": "code",
   "execution_count": 124,
   "metadata": {
    "collapsed": false
   },
   "outputs": [
    {
     "data": {
      "text/plain": [
       "(0, 1)"
      ]
     },
     "execution_count": 124,
     "metadata": {},
     "output_type": "execute_result"
    },
    {
     "data": {
      "image/png": "[encoded data removed]",
      "text/plain": [
       "<matplotlib.figure.Figure at 0x11425f550>"
      ]
     },
     "metadata": {},
     "output_type": "display_data"
    }
   ],
   "source": [
    "plt.plot(position_dict['s_02003'][3].index, position_dict['s_02003'][3], 'bo')\n",
    "plt.plot(position_dict['s_02003'][3].index, slope1*position_dict['s_02003'][3].index + intercept1, 'b-')\n",
    "plt.ylim([0,1])"
   ]
  },
  {
   "cell_type": "code",
   "execution_count": 125,
   "metadata": {
    "collapsed": false
   },
   "outputs": [
    {
     "name": "stdout",
     "output_type": "stream",
     "text": [
      "0.996360678626 0.000475329025273 0.999811119614 0.999622274905 2.29842320248e-25 0.0051763367167\n"
     ]
    }
   ],
   "source": [
    "print slope1, intercept1, r1, r1*r1, p1, stderr1"
   ]
  },
  {
   "cell_type": "code",
   "execution_count": 126,
   "metadata": {
    "collapsed": false
   },
   "outputs": [],
   "source": [
    "#res_df"
   ]
  },
  {
   "cell_type": "code",
   "execution_count": 127,
   "metadata": {
    "collapsed": false
   },
   "outputs": [],
   "source": [
    "res_grp = res_df.groupby(['Subject','Task'])"
   ]
  },
  {
   "cell_type": "code",
   "execution_count": 128,
   "metadata": {
    "collapsed": false
   },
   "outputs": [
    {
     "data": {
      "text/plain": [
       "0.9924712470177669"
      ]
     },
     "execution_count": 128,
     "metadata": {},
     "output_type": "execute_result"
    }
   ],
   "source": [
    "res_df['slope_P'][res_df['Task']==1].mean()"
   ]
  },
  {
   "cell_type": "code",
   "execution_count": 129,
   "metadata": {
    "collapsed": false
   },
   "outputs": [
    {
     "data": {
      "text/html": [
       "<div>\n",
       "<table border=\"1\" class=\"dataframe\">\n",
       "  <thead>\n",
       "    <tr style=\"text-align: right;\">\n",
       "      <th></th>\n",
       "      <th>Subject</th>\n",
       "      <th>slope_P</th>\n",
       "    </tr>\n",
       "  </thead>\n",
       "  <tbody>\n",
       "    <tr>\n",
       "      <th>2</th>\n",
       "      <td>s_02009</td>\n",
       "      <td>1.012346</td>\n",
       "    </tr>\n",
       "    <tr>\n",
       "      <th>5</th>\n",
       "      <td>s_02003</td>\n",
       "      <td>1.074796</td>\n",
       "    </tr>\n",
       "    <tr>\n",
       "      <th>8</th>\n",
       "      <td>s_02007</td>\n",
       "      <td>1.000100</td>\n",
       "    </tr>\n",
       "    <tr>\n",
       "      <th>11</th>\n",
       "      <td>s_02006</td>\n",
       "      <td>0.974858</td>\n",
       "    </tr>\n",
       "    <tr>\n",
       "      <th>14</th>\n",
       "      <td>s_02005</td>\n",
       "      <td>1.009043</td>\n",
       "    </tr>\n",
       "    <tr>\n",
       "      <th>17</th>\n",
       "      <td>s_02004</td>\n",
       "      <td>0.960685</td>\n",
       "    </tr>\n",
       "    <tr>\n",
       "      <th>20</th>\n",
       "      <td>s_02018</td>\n",
       "      <td>1.009683</td>\n",
       "    </tr>\n",
       "    <tr>\n",
       "      <th>23</th>\n",
       "      <td>s_02010</td>\n",
       "      <td>1.078028</td>\n",
       "    </tr>\n",
       "    <tr>\n",
       "      <th>26</th>\n",
       "      <td>s_02011</td>\n",
       "      <td>0.902250</td>\n",
       "    </tr>\n",
       "    <tr>\n",
       "      <th>29</th>\n",
       "      <td>s_02014</td>\n",
       "      <td>1.005336</td>\n",
       "    </tr>\n",
       "    <tr>\n",
       "      <th>32</th>\n",
       "      <td>s_02015</td>\n",
       "      <td>1.027648</td>\n",
       "    </tr>\n",
       "    <tr>\n",
       "      <th>35</th>\n",
       "      <td>s_02016</td>\n",
       "      <td>0.957087</td>\n",
       "    </tr>\n",
       "    <tr>\n",
       "      <th>38</th>\n",
       "      <td>s_02024</td>\n",
       "      <td>0.887722</td>\n",
       "    </tr>\n",
       "    <tr>\n",
       "      <th>41</th>\n",
       "      <td>s_02027</td>\n",
       "      <td>0.959308</td>\n",
       "    </tr>\n",
       "    <tr>\n",
       "      <th>44</th>\n",
       "      <td>s_02021</td>\n",
       "      <td>1.053314</td>\n",
       "    </tr>\n",
       "    <tr>\n",
       "      <th>47</th>\n",
       "      <td>s_02020</td>\n",
       "      <td>0.996478</td>\n",
       "    </tr>\n",
       "    <tr>\n",
       "      <th>50</th>\n",
       "      <td>s_02023</td>\n",
       "      <td>1.025697</td>\n",
       "    </tr>\n",
       "    <tr>\n",
       "      <th>53</th>\n",
       "      <td>s_02022</td>\n",
       "      <td>0.930103</td>\n",
       "    </tr>\n",
       "  </tbody>\n",
       "</table>\n",
       "</div>"
      ],
      "text/plain": [
       "    Subject   slope_P\n",
       "2   s_02009  1.012346\n",
       "5   s_02003  1.074796\n",
       "8   s_02007  1.000100\n",
       "11  s_02006  0.974858\n",
       "14  s_02005  1.009043\n",
       "17  s_02004  0.960685\n",
       "20  s_02018  1.009683\n",
       "23  s_02010  1.078028\n",
       "26  s_02011  0.902250\n",
       "29  s_02014  1.005336\n",
       "32  s_02015  1.027648\n",
       "35  s_02016  0.957087\n",
       "38  s_02024  0.887722\n",
       "41  s_02027  0.959308\n",
       "44  s_02021  1.053314\n",
       "47  s_02020  0.996478\n",
       "50  s_02023  1.025697\n",
       "53  s_02022  0.930103"
      ]
     },
     "execution_count": 129,
     "metadata": {},
     "output_type": "execute_result"
    }
   ],
   "source": [
    "res_df[['Subject','slope_P']][res_df['Task']==1]"
   ]
  },
  {
   "cell_type": "code",
   "execution_count": 130,
   "metadata": {
    "collapsed": false
   },
   "outputs": [
    {
     "data": {
      "text/plain": [
       "[<matplotlib.lines.Line2D at 0x114df8bd0>]"
      ]
     },
     "execution_count": 130,
     "metadata": {},
     "output_type": "execute_result"
    },
    {
     "data": {
      "image/png": "[encoded data removed]",
      "text/plain": [
       "<matplotlib.figure.Figure at 0x113880850>"
      ]
     },
     "metadata": {},
     "output_type": "display_data"
    }
   ],
   "source": [
    "plt.plot(res_df['slope_P'][res_df['Task']==1], 'bo')"
   ]
  },
  {
   "cell_type": "code",
   "execution_count": 131,
   "metadata": {
    "collapsed": false
   },
   "outputs": [
    {
     "data": {
      "text/plain": [
       "count    18.000000\n",
       "mean      0.992471\n",
       "std       0.053148\n",
       "min       0.887722\n",
       "25%       0.959653\n",
       "50%       1.002718\n",
       "75%       1.022360\n",
       "max       1.078028\n",
       "Name: slope_P, dtype: float64"
      ]
     },
     "execution_count": 131,
     "metadata": {},
     "output_type": "execute_result"
    }
   ],
   "source": [
    "res_df['slope_P'][res_df['Task']==1].describe()"
   ]
  },
  {
   "cell_type": "code",
   "execution_count": 132,
   "metadata": {
    "collapsed": false
   },
   "outputs": [
    {
     "data": {
      "text/plain": [
       "<matplotlib.axes._subplots.AxesSubplot at 0x112c22290>"
      ]
     },
     "execution_count": 132,
     "metadata": {},
     "output_type": "execute_result"
    },
    {
     "data": {
      "image/png": "[encoded data removed]",
      "text/plain": [
       "<matplotlib.figure.Figure at 0x1141e2150>"
      ]
     },
     "metadata": {},
     "output_type": "display_data"
    }
   ],
   "source": [
    "res_df['slope_P'][res_df['Task']==3].hist()"
   ]
  },
  {
   "cell_type": "code",
   "execution_count": 133,
   "metadata": {
    "collapsed": true
   },
   "outputs": [],
   "source": [
    "math = pd.read_csv('Math_Results.csv')"
   ]
  },
  {
   "cell_type": "code",
   "execution_count": 134,
   "metadata": {
    "collapsed": false
   },
   "outputs": [],
   "source": [
    "res_df = pd.merge(res_df,math,on='Subject',how='inner')"
   ]
  },
  {
   "cell_type": "code",
   "execution_count": 135,
   "metadata": {
    "collapsed": false
   },
   "outputs": [
    {
     "data": {
      "text/html": [
       "<div>\n",
       "<table border=\"1\" class=\"dataframe\">\n",
       "  <thead>\n",
       "    <tr style=\"text-align: right;\">\n",
       "      <th></th>\n",
       "      <th>Subject</th>\n",
       "      <th>slope_P</th>\n",
       "      <th>Math_Score</th>\n",
       "    </tr>\n",
       "  </thead>\n",
       "  <tbody>\n",
       "    <tr>\n",
       "      <th>2</th>\n",
       "      <td>s_02009</td>\n",
       "      <td>1.012346</td>\n",
       "      <td>14</td>\n",
       "    </tr>\n",
       "    <tr>\n",
       "      <th>5</th>\n",
       "      <td>s_02003</td>\n",
       "      <td>1.074796</td>\n",
       "      <td>8</td>\n",
       "    </tr>\n",
       "    <tr>\n",
       "      <th>8</th>\n",
       "      <td>s_02007</td>\n",
       "      <td>1.000100</td>\n",
       "      <td>17</td>\n",
       "    </tr>\n",
       "    <tr>\n",
       "      <th>11</th>\n",
       "      <td>s_02006</td>\n",
       "      <td>0.974858</td>\n",
       "      <td>18</td>\n",
       "    </tr>\n",
       "    <tr>\n",
       "      <th>14</th>\n",
       "      <td>s_02005</td>\n",
       "      <td>1.009043</td>\n",
       "      <td>9</td>\n",
       "    </tr>\n",
       "    <tr>\n",
       "      <th>17</th>\n",
       "      <td>s_02004</td>\n",
       "      <td>0.960685</td>\n",
       "      <td>13</td>\n",
       "    </tr>\n",
       "    <tr>\n",
       "      <th>20</th>\n",
       "      <td>s_02018</td>\n",
       "      <td>1.009683</td>\n",
       "      <td>19</td>\n",
       "    </tr>\n",
       "    <tr>\n",
       "      <th>23</th>\n",
       "      <td>s_02010</td>\n",
       "      <td>1.078028</td>\n",
       "      <td>10</td>\n",
       "    </tr>\n",
       "    <tr>\n",
       "      <th>26</th>\n",
       "      <td>s_02011</td>\n",
       "      <td>0.902250</td>\n",
       "      <td>13</td>\n",
       "    </tr>\n",
       "    <tr>\n",
       "      <th>29</th>\n",
       "      <td>s_02014</td>\n",
       "      <td>1.005336</td>\n",
       "      <td>14</td>\n",
       "    </tr>\n",
       "    <tr>\n",
       "      <th>32</th>\n",
       "      <td>s_02015</td>\n",
       "      <td>1.027648</td>\n",
       "      <td>13</td>\n",
       "    </tr>\n",
       "    <tr>\n",
       "      <th>35</th>\n",
       "      <td>s_02016</td>\n",
       "      <td>0.957087</td>\n",
       "      <td>10</td>\n",
       "    </tr>\n",
       "    <tr>\n",
       "      <th>38</th>\n",
       "      <td>s_02024</td>\n",
       "      <td>0.887722</td>\n",
       "      <td>6</td>\n",
       "    </tr>\n",
       "    <tr>\n",
       "      <th>41</th>\n",
       "      <td>s_02027</td>\n",
       "      <td>0.959308</td>\n",
       "      <td>16</td>\n",
       "    </tr>\n",
       "    <tr>\n",
       "      <th>44</th>\n",
       "      <td>s_02021</td>\n",
       "      <td>1.053314</td>\n",
       "      <td>18</td>\n",
       "    </tr>\n",
       "    <tr>\n",
       "      <th>47</th>\n",
       "      <td>s_02020</td>\n",
       "      <td>0.996478</td>\n",
       "      <td>15</td>\n",
       "    </tr>\n",
       "    <tr>\n",
       "      <th>50</th>\n",
       "      <td>s_02023</td>\n",
       "      <td>1.025697</td>\n",
       "      <td>10</td>\n",
       "    </tr>\n",
       "    <tr>\n",
       "      <th>53</th>\n",
       "      <td>s_02022</td>\n",
       "      <td>0.930103</td>\n",
       "      <td>11</td>\n",
       "    </tr>\n",
       "  </tbody>\n",
       "</table>\n",
       "</div>"
      ],
      "text/plain": [
       "    Subject   slope_P  Math_Score\n",
       "2   s_02009  1.012346          14\n",
       "5   s_02003  1.074796           8\n",
       "8   s_02007  1.000100          17\n",
       "11  s_02006  0.974858          18\n",
       "14  s_02005  1.009043           9\n",
       "17  s_02004  0.960685          13\n",
       "20  s_02018  1.009683          19\n",
       "23  s_02010  1.078028          10\n",
       "26  s_02011  0.902250          13\n",
       "29  s_02014  1.005336          14\n",
       "32  s_02015  1.027648          13\n",
       "35  s_02016  0.957087          10\n",
       "38  s_02024  0.887722           6\n",
       "41  s_02027  0.959308          16\n",
       "44  s_02021  1.053314          18\n",
       "47  s_02020  0.996478          15\n",
       "50  s_02023  1.025697          10\n",
       "53  s_02022  0.930103          11"
      ]
     },
     "execution_count": 135,
     "metadata": {},
     "output_type": "execute_result"
    }
   ],
   "source": [
    "res_df[['Subject','slope_P', 'Math_Score']][res_df['Task']==1]"
   ]
  },
  {
   "cell_type": "code",
   "execution_count": 136,
   "metadata": {
    "collapsed": false
   },
   "outputs": [
    {
     "data": {
      "text/plain": [
       "[<matplotlib.lines.Line2D at 0x112e1dfd0>]"
      ]
     },
     "execution_count": 136,
     "metadata": {},
     "output_type": "execute_result"
    },
    {
     "data": {
      "image/png": "[encoded data removed]",
      "text/plain": [
       "<matplotlib.figure.Figure at 0x114243910>"
      ]
     },
     "metadata": {},
     "output_type": "display_data"
    }
   ],
   "source": [
    "slope1, intercept1, r1, p1, stderr1 = linregress(abs(res_df['slope_E'][res_df['Task']==1]),\n",
    "                                                 res_df['Math_Score'][res_df['Task']==1])\n",
    "plt.plot(abs(res_df['slope_E'][res_df['Task']==1]),res_df['Math_Score'][res_df['Task']==1], 'bo')\n",
    "plt.plot(abs(res_df['slope_E'][res_df['Task']==1]), slope1*abs(res_df['slope_E'][res_df['Task']==1]) + intercept1, 'b-')"
   ]
  },
  {
   "cell_type": "code",
   "execution_count": 137,
   "metadata": {
    "collapsed": false
   },
   "outputs": [
    {
     "name": "stdout",
     "output_type": "stream",
     "text": [
      "-0.544994387158 0.297018882033 0.0251983162874\n"
     ]
    }
   ],
   "source": [
    "print r1, r1*r1, p"
   ]
  },
  {
   "cell_type": "code",
   "execution_count": 145,
   "metadata": {
    "collapsed": false
   },
   "outputs": [
    {
     "data": {
      "text/plain": [
       "([<matplotlib.axis.YTick at 0x117f92610>,\n",
       "  <matplotlib.axis.YTick at 0x117f92710>,\n",
       "  <matplotlib.axis.YTick at 0x117ffa750>,\n",
       "  <matplotlib.axis.YTick at 0x11810ba10>],\n",
       " <a list of 4 Text yticklabel objects>)"
      ]
     },
     "execution_count": 145,
     "metadata": {},
     "output_type": "execute_result"
    },
    {
     "data": {
      "image/png": "[encoded data removed]",
      "text/plain": [
       "<matplotlib.figure.Figure at 0x117cfe590>"
      ]
     },
     "metadata": {},
     "output_type": "display_data"
    },
    {
     "data": {
      "image/png": "[encoded data removed]",
      "text/plain": [
       "<matplotlib.figure.Figure at 0x117f02f10>"
      ]
     },
     "metadata": {},
     "output_type": "display_data"
    },
    {
     "data": {
      "image/png": "[encoded data removed]",
      "text/plain": [
       "<matplotlib.figure.Figure at 0x117e0ab50>"
      ]
     },
     "metadata": {},
     "output_type": "display_data"
    }
   ],
   "source": [
    "m1, b1 = np.polyfit(abs(res_df['slope_P'][res_df['Task']==1] -1),\n",
    "                    res_df['Math_Score'][res_df['Task']==1],1)\n",
    "fig = plt.figure(figsize=(12,12))\n",
    "fig1 = plt.subplot(3,1,1)\n",
    "fig1.plot(abs(res_df['slope_P'][res_df['Task']==1] -1),\n",
    "          res_df['Math_Score'][res_df['Task']==1], 'ro')\n",
    "plt.plot(abs(res_df['slope_P'][res_df['Task']==1] -1), \n",
    "         m1*abs(res_df['slope_P'][res_df['Task']==1] -1) + b1, 'r-')\n",
    "plt.title('Deviation from Slope of 1 Vs. Math Score N+')\n",
    "plt.xlabel('Deviation from slope of 1', labelpad = 4)\n",
    "plt.ylabel('Math Score')\n",
    "plt.ylim([0,20])\n",
    "plt.yticks(([5,10,15,20]))\n",
    "\n",
    "m2, b2 = np.polyfit(abs(res_df['slope_P'][res_df['Task']==2] -1),\n",
    "                    res_df['Math_Score'][res_df['Task']==2],1)\n",
    "fig = plt.figure(figsize=(12,12))\n",
    "fig1 = plt.subplot(3,1,1)\n",
    "fig1.plot(abs(res_df['slope_P'][res_df['Task']==2] -1),\n",
    "          res_df['Math_Score'][res_df['Task']==2], 'b+')\n",
    "plt.plot(abs(res_df['slope_P'][res_df['Task']==2] -1), \n",
    "         m2*abs(res_df['slope_P'][res_df['Task']==2] -1) + b2, 'b-')\n",
    "plt.title('Deviation from Slope of 1 Vs. Math Score N-/+')\n",
    "plt.xlabel('Deviation from slope of 1', labelpad = 4)\n",
    "plt.ylabel('Math Score')\n",
    "plt.ylim([0,20])\n",
    "plt.yticks(([5,10,15,20]))\n",
    "\n",
    "m3, b3 = np.polyfit(abs(res_df['slope_P'][res_df['Task']==3] -1),\n",
    "                    res_df['Math_Score'][res_df['Task']==3],1)\n",
    "fig = plt.figure(figsize=(12,12))\n",
    "fig1 = plt.subplot(3,1,1)\n",
    "fig1.plot(abs(res_df['slope_P'][res_df['Task']==3] -1),\n",
    "          res_df['Math_Score'][res_df['Task']==3], 'y.')\n",
    "plt.plot(abs(res_df['slope_P'][res_df['Task']==3] -1), \n",
    "         m3*abs(res_df['slope_P'][res_df['Task']==3] -1) + b3, 'y-')\n",
    "plt.title('Deviation from Slope of 1 Vs. Math Score Word')\n",
    "plt.xlabel('Deviation from slope of 1', labelpad = 4)\n",
    "plt.ylabel('Math Score')\n",
    "plt.ylim([0,20])\n",
    "plt.yticks(([5,10,15,20]))"
   ]
  },
  {
   "cell_type": "code",
   "execution_count": 150,
   "metadata": {
    "collapsed": true
   },
   "outputs": [],
   "source": [
    "slope1, intercept1, r1, p1, stderr1 = linregress(abs(res_df['slope_P'][res_df['Task']==1]-1),\n",
    "                                                 res_df['Math_Score'][res_df['Task']==1])\n",
    "slope2, intercept2, r2, p2, stderr2 = linregress(abs(res_df['slope_P'][res_df['Task']==2]-1),\n",
    "                                                 res_df['Math_Score'][res_df['Task']==2])\n",
    "slope3, intercept3, r3, p3, stderr3 = linregress(abs(res_df['slope_P'][res_df['Task']==3]-1),\n",
    "                                                 res_df['Math_Score'][res_df['Task']==3])"
   ]
  },
  {
   "cell_type": "code",
   "execution_count": 151,
   "metadata": {
    "collapsed": false
   },
   "outputs": [
    {
     "name": "stdout",
     "output_type": "stream",
     "text": [
      "-0.544994387157 0.101716770176 0.23332680009\n"
     ]
    }
   ],
   "source": [
    "print r1, r2, r3"
   ]
  },
  {
   "cell_type": "code",
   "execution_count": 152,
   "metadata": {
    "collapsed": false
   },
   "outputs": [
    {
     "name": "stdout",
     "output_type": "stream",
     "text": [
      "0.297018882033 0.010346301335 0.0544413956404\n"
     ]
    }
   ],
   "source": [
    "print r1*r1, r2*r2, r3*r3"
   ]
  },
  {
   "cell_type": "code",
   "execution_count": 153,
   "metadata": {
    "collapsed": false
   },
   "outputs": [
    {
     "name": "stdout",
     "output_type": "stream",
     "text": [
      "-59.9976760937 6.96651954134 155.642765904\n"
     ]
    }
   ],
   "source": [
    "print slope1, slope2, slope3"
   ]
  },
  {
   "cell_type": "code",
   "execution_count": 154,
   "metadata": {
    "collapsed": false
   },
   "outputs": [
    {
     "name": "stdout",
     "output_type": "stream",
     "text": [
      "0.0193391995445 0.687970493569 0.351437030905\n"
     ]
    }
   ],
   "source": [
    "print p1, p2, p3"
   ]
  },
  {
   "cell_type": "code",
   "execution_count": null,
   "metadata": {
    "collapsed": true
   },
   "outputs": [],
   "source": []
  }
 ],
 "metadata": {
  "kernelspec": {
   "display_name": "Python 2",
   "language": "python",
   "name": "python2"
  },
  "language_info": {
   "codemirror_mode": {
    "name": "ipython",
    "version": 2
   },
   "file_extension": ".py",
   "mimetype": "text/x-python",
   "name": "python",
   "nbconvert_exporter": "python",
   "pygments_lexer": "ipython2",
   "version": "2.7.10"
  }
 },
 "nbformat": 4,
 "nbformat_minor": 0
}
