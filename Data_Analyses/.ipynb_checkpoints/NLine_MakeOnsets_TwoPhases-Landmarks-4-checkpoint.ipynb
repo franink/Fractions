{
 "cells": [
  {
   "cell_type": "markdown",
   "metadata": {},
   "source": [
    "## Not using RTs to modulate duration or decision and including Miss trials into the decision regressors. Dec = 3s, Cons = cons + minHold"
   ]
  },
  {
   "cell_type": "code",
   "execution_count": 1,
   "metadata": {
    "collapsed": false
   },
   "outputs": [],
   "source": [
    "#Opened with --pylab flag\n",
    "#Need to create code to analyze piot data\n",
    "import pandas as pd\n",
    "import numpy as np\n",
    "from scipy import io\n",
    "import os\n",
    "import glob"
   ]
  },
  {
   "cell_type": "code",
   "execution_count": 2,
   "metadata": {
    "collapsed": false
   },
   "outputs": [],
   "source": [
    "## Laptop\n",
    "#filepath = '/Users/frankkanayet/Dropbox/NLineExperiment/PilotData'\n",
    "#filepath = '/Users/frankkanayet/Dropbox/NLineExperiment/PilotData/test3s'\n",
    "#filepath = '/Users/frankkanayet/Google Drive/NLineData/Beh_Data'\n",
    "\n",
    "## Desktop\n",
    "#filepath = '/Users/frankanayet/Dropbox/NLineExperiment/Data'\n",
    "filepath = '/Users/frankanayet/Google Drive/NLineData/Beh_Data'\n",
    "os.chdir(filepath)"
   ]
  },
  {
   "cell_type": "code",
   "execution_count": 3,
   "metadata": {
    "collapsed": false
   },
   "outputs": [
    {
     "name": "stdout",
     "output_type": "stream",
     "text": [
      "Pandas version 0.17.1\n"
     ]
    }
   ],
   "source": [
    "print 'Pandas version ' + pd.__version__"
   ]
  },
  {
   "cell_type": "code",
   "execution_count": 4,
   "metadata": {
    "collapsed": false
   },
   "outputs": [
    {
     "name": "stdout",
     "output_type": "stream",
     "text": [
      "['Nline_02001-Mar1615.mat', 'Nline_02002-Mar1915.mat', 'Nline_02003-Mar2015a.mat', 'Nline_02004-Mar2315a.mat', 'Nline_02005-Mar2315a.mat', 'Nline_02006-Mar2315a.mat', 'Nline_02007-Mar2415a.mat', 'Nline_02009-Mar2615a.mat', 'Nline_02010-Mar2615a.mat', 'Nline_02011-Mar2615a.mat', 'Nline_02012-Apr0215a.mat', 'Nline_02014-Apr0315a.mat', 'Nline_02015Apr2715a.mat', 'Nline_02016-Apr2715a.mat', 'Nline_02017-Apr2815a.mat', 'Nline_02018-Apr2815a.mat', 'Nline_02019-Apr2915a.mat', 'Nline_02020-May1815a.mat', 'Nline_02021-May2515a.mat', 'Nline_02022-May2515a.mat', 'Nline_02023-May2715a.mat', 'Nline_02024-May2815a.mat', 'Nline_02027-Jun0115a.mat']\n"
     ]
    },
    {
     "data": {
      "text/plain": [
       "['s_02009',\n",
       " 's_02003',\n",
       " 's_02002',\n",
       " 's_02001',\n",
       " 's_02007',\n",
       " 's_02006',\n",
       " 's_02005',\n",
       " 's_02004',\n",
       " 's_02018',\n",
       " 's_02019',\n",
       " 's_02010',\n",
       " 's_02011',\n",
       " 's_02012',\n",
       " 's_02014',\n",
       " 's_02015',\n",
       " 's_02016',\n",
       " 's_02017',\n",
       " 's_02024',\n",
       " 's_02027',\n",
       " 's_02021',\n",
       " 's_02020',\n",
       " 's_02023',\n",
       " 's_02022']"
      ]
     },
     "execution_count": 4,
     "metadata": {},
     "output_type": "execute_result"
    }
   ],
   "source": [
    "filenames = glob.glob('Nline_*.mat')\n",
    "print filenames\n",
    "#index to isolate subj numbers\n",
    "data_dict = {}\n",
    "for i in filenames:\n",
    "    id1 = filenames[0].find('_') + 1\n",
    "    id2 = filenames[0].find('-')\n",
    "    sub_nbr = i[id1:id2]\n",
    "    sub_name = i\n",
    "    s_id = 's_'+sub_nbr\n",
    "    data_dict[s_id] = io.loadmat(sub_name)\n",
    "\n",
    "#sub_name = filenames[0] #This will be changed to a loop for all subjects later\n",
    "#mat = io.loadmat(sub_name)\n",
    "data_dict.keys()"
   ]
  },
  {
   "cell_type": "code",
   "execution_count": 5,
   "metadata": {
    "collapsed": false
   },
   "outputs": [],
   "source": [
    "sub_ex = data_dict.keys()[0]"
   ]
  },
  {
   "cell_type": "code",
   "execution_count": 6,
   "metadata": {
    "collapsed": false
   },
   "outputs": [],
   "source": [
    "#data_dict['s_00011']['p']"
   ]
  },
  {
   "cell_type": "code",
   "execution_count": 7,
   "metadata": {
    "collapsed": false
   },
   "outputs": [],
   "source": [
    "#for i in data_dict:\n",
    "#    data_dict[i].pop('__header__')\n",
    "#    data_dict[i].pop('__version__')\n",
    "#    data_dict[i].pop('__globals__')\n",
    "#data_dict['s_00011'].keys()"
   ]
  },
  {
   "cell_type": "code",
   "execution_count": 8,
   "metadata": {
    "collapsed": false
   },
   "outputs": [
    {
     "data": {
      "text/plain": [
       "49"
      ]
     },
     "execution_count": 8,
     "metadata": {},
     "output_type": "execute_result"
    }
   ],
   "source": [
    "## The indexes of zeros are as follows [0][0][x][y][z][0] The x y z are the 3 dimensions of the data 3d matrix the zeros are padding\n",
    "data_dict[sub_ex]['p']['NlineResults'][0][0][0][5][0][0]\n",
    "len(data_dict[sub_ex]['p']['NlineResults'][0][0][:])"
   ]
  },
  {
   "cell_type": "code",
   "execution_count": 9,
   "metadata": {
    "collapsed": false
   },
   "outputs": [
    {
     "data": {
      "text/plain": [
       "('ramp_up',\n",
       " 'Mean_ITI',\n",
       " 'Mean_hold',\n",
       " 'decision',\n",
       " 'consider',\n",
       " 'runs',\n",
       " 'nStim',\n",
       " 'ntasks',\n",
       " 'tasks',\n",
       " 'trialSecs',\n",
       " 'lineLength',\n",
       " 'speed',\n",
       " 'run_order',\n",
       " 'NlineResults',\n",
       " 'time_Runs',\n",
       " 'task_transition',\n",
       " 'start_Nline',\n",
       " 'finish_Nline')"
      ]
     },
     "execution_count": 9,
     "metadata": {},
     "output_type": "execute_result"
    }
   ],
   "source": [
    "data_dict[sub_ex]['p'].dtype.names"
   ]
  },
  {
   "cell_type": "code",
   "execution_count": 10,
   "metadata": {
    "collapsed": false
   },
   "outputs": [],
   "source": [
    "cons_time = data_dict[sub_ex]['p']['consider'][0][0][0][0]\n",
    "dec_time = data_dict[sub_ex]['p']['decision'][0][0][0][0]"
   ]
  },
  {
   "cell_type": "code",
   "execution_count": 11,
   "metadata": {
    "collapsed": false
   },
   "outputs": [],
   "source": [
    "new_dat = {}\n",
    "#new_df = {}\n",
    "for s in data_dict:\n",
    "    tasks = ['NlineResults']\n",
    "    new_dat[s]={}\n",
    "    #new_df[s] = {}\n",
    "    for task in tasks:\n",
    "        dat = data_dict[s]['p'][task]\n",
    "        num_fields = len(data_dict[s]['p'][task][0][0][0])\n",
    "        dat_names = []\n",
    "        for k in range(0,num_fields):\n",
    "            dat_names.append(dat[0][0][0][k][0][0])\n",
    "        new_dat[s][task] = {}\n",
    "        runs = data_dict[s]['p']['runs'][0][0][0][0]\n",
    "        for run in range(0,runs):\n",
    "            run_name = 'run'+str(run+1)\n",
    "            new_dat[s][task][run_name] = {}\n",
    "            for i in range(0,len(dat_names)):\n",
    "                new_dat[s][task][run_name][dat_names[i]] = []\n",
    "                for j in range(0,len(dat[0][0][:])-1):\n",
    "                    if dat_names[i] == 'catch_probe':\n",
    "                        new_dat[s][task][run_name][dat_names[i]].append(dat[0][0][j+1][i][run])\n",
    "                    elif dat_names[i] == 'Probe':\n",
    "                        new_dat[s][task][run_name][dat_names[i]].append(dat[0][0][j+1][i][run][0])\n",
    "                    else:\n",
    "                        new_dat[s][task][run_name][dat_names[i]].append(dat[0][0][j+1][i][run][0][0])\n",
    "#legible access to the data\n",
    "Nline = 'NlineResults' #numberline"
   ]
  },
  {
   "cell_type": "code",
   "execution_count": 12,
   "metadata": {
    "collapsed": false
   },
   "outputs": [
    {
     "data": {
      "text/plain": [
       "[u'Slow',\n",
       " u'Line_pct',\n",
       " u'iti',\n",
       " u'TestX',\n",
       " u'ITI_onset_real',\n",
       " u'consider_onset_real',\n",
       " u'ITI_onset',\n",
       " u'RT',\n",
       " u'hold',\n",
       " u'decision_end',\n",
       " u'decision_onset_real',\n",
       " u'RTHold',\n",
       " u'decision_end_real',\n",
       " u'Correct',\n",
       " u'Wrong',\n",
       " u'BadPress',\n",
       " u'consider_onset',\n",
       " u'Response',\n",
       " u'Task',\n",
       " u'Trial',\n",
       " u'Points',\n",
       " u'Error',\n",
       " u'catch',\n",
       " u'mouse_pos',\n",
       " u'Block',\n",
       " u'catch_probe',\n",
       " u'Probe',\n",
       " u'hold_onset',\n",
       " u'Move',\n",
       " u'decision_onset',\n",
       " u'hold_onset_real',\n",
       " u'Click']"
      ]
     },
     "execution_count": 12,
     "metadata": {},
     "output_type": "execute_result"
    }
   ],
   "source": [
    "new_dat[sub_ex]['NlineResults']['run1'].keys()"
   ]
  },
  {
   "cell_type": "code",
   "execution_count": 13,
   "metadata": {
    "collapsed": false
   },
   "outputs": [
    {
     "data": {
      "text/plain": [
       "[array([57], dtype=uint8),\n",
       " array([77], dtype=uint8),\n",
       " array([3], dtype=uint8),\n",
       " array([21], dtype=uint8),\n",
       " array([60], dtype=uint8),\n",
       " array([28], dtype=uint8),\n",
       " array([85], dtype=uint8),\n",
       " array([74], dtype=uint8),\n",
       " array([33], dtype=uint8),\n",
       " array([7], dtype=uint8),\n",
       " array([90], dtype=uint8),\n",
       " array([36], dtype=uint8),\n",
       " array([11], dtype=uint8),\n",
       " array([45], dtype=uint8),\n",
       " array([98], dtype=uint8),\n",
       " array([65], dtype=uint8),\n",
       " array([70], dtype=uint8),\n",
       " array([14], dtype=uint8),\n",
       " array([80], dtype=uint8),\n",
       " array([20], dtype=uint8),\n",
       " array([-58], dtype=int16),\n",
       " array([-94], dtype=int16),\n",
       " array([-86], dtype=int16),\n",
       " array([54], dtype=uint8),\n",
       " array([-44], dtype=int16),\n",
       " array([-78], dtype=int16),\n",
       " array([-10], dtype=int16),\n",
       " array([48], dtype=uint8),\n",
       " array([30], dtype=uint8),\n",
       " array([-28], dtype=int16),\n",
       " array([96], dtype=uint8),\n",
       " array([-34], dtype=int16),\n",
       " u'of',\n",
       " u'is',\n",
       " u'be',\n",
       " u'me',\n",
       " u'it',\n",
       " u'as',\n",
       " u'my',\n",
       " u'so',\n",
       " u'we',\n",
       " u'or',\n",
       " u'ox',\n",
       " u'by',\n",
       " u'am',\n",
       " u'he',\n",
       " u'do',\n",
       " u'if']"
      ]
     },
     "execution_count": 13,
     "metadata": {},
     "output_type": "execute_result"
    }
   ],
   "source": [
    "new_dat[sub_ex]['NlineResults']['run1']['Probe']"
   ]
  },
  {
   "cell_type": "code",
   "execution_count": 14,
   "metadata": {
    "collapsed": false
   },
   "outputs": [
    {
     "data": {
      "text/plain": [
       "['run1', 'run3', 'run2', 'run4']"
      ]
     },
     "execution_count": 14,
     "metadata": {},
     "output_type": "execute_result"
    }
   ],
   "source": [
    "new_dat[sub_ex]['NlineResults'].keys()"
   ]
  },
  {
   "cell_type": "code",
   "execution_count": 15,
   "metadata": {
    "collapsed": false
   },
   "outputs": [
    {
     "data": {
      "text/plain": [
       "[array([], shape=(0, 0), dtype=uint8),\n",
       " array([], shape=(0, 0), dtype=uint8),\n",
       " array([], shape=(0, 0), dtype=uint8),\n",
       " array([], shape=(0, 0), dtype=uint8),\n",
       " array([], shape=(0, 0), dtype=uint8),\n",
       " array([], shape=(0, 0), dtype=uint8),\n",
       " array([], shape=(0, 0), dtype=uint8),\n",
       " array([], shape=(0, 0), dtype=uint8),\n",
       " array([], shape=(0, 0), dtype=uint8),\n",
       " array([], shape=(0, 0), dtype=uint8),\n",
       " array([], shape=(0, 0), dtype=uint8),\n",
       " array([], shape=(0, 0), dtype=uint8),\n",
       " array([], shape=(0, 0), dtype=uint8),\n",
       " array([], shape=(0, 0), dtype=uint8),\n",
       " array([], shape=(0, 0), dtype=uint8),\n",
       " array([], shape=(0, 0), dtype=uint8),\n",
       " array([], shape=(0, 0), dtype=uint8),\n",
       " array([], shape=(0, 0), dtype=uint8),\n",
       " array([], shape=(0, 0), dtype=uint8),\n",
       " array([], shape=(0, 0), dtype=uint8),\n",
       " array([], shape=(0, 0), dtype=uint8),\n",
       " array([], shape=(0, 0), dtype=uint8),\n",
       " array([], shape=(0, 0), dtype=uint8),\n",
       " array([], shape=(0, 0), dtype=uint8),\n",
       " array([], shape=(0, 0), dtype=uint8),\n",
       " array([], shape=(0, 0), dtype=uint8),\n",
       " array([], shape=(0, 0), dtype=uint8),\n",
       " array([], shape=(0, 0), dtype=uint8),\n",
       " array([], shape=(0, 0), dtype=uint8),\n",
       " array([], shape=(0, 0), dtype=uint8),\n",
       " array([], shape=(0, 0), dtype=uint8),\n",
       " array([], shape=(0, 0), dtype=uint8),\n",
       " array([u'of'], \n",
       "       dtype='<U2'),\n",
       " array([u'is'], \n",
       "       dtype='<U2'),\n",
       " array([u'be'], \n",
       "       dtype='<U2'),\n",
       " array([u'it'], \n",
       "       dtype='<U2'),\n",
       " array([u'ox'], \n",
       "       dtype='<U2'),\n",
       " array([u'ox'], \n",
       "       dtype='<U2'),\n",
       " array([u'my'], \n",
       "       dtype='<U2'),\n",
       " array([u'so'], \n",
       "       dtype='<U2'),\n",
       " array([u'we'], \n",
       "       dtype='<U2'),\n",
       " array([u'or'], \n",
       "       dtype='<U2'),\n",
       " array([u'ox'], \n",
       "       dtype='<U2'),\n",
       " array([u'by'], \n",
       "       dtype='<U2'),\n",
       " array([u'am'], \n",
       "       dtype='<U2'),\n",
       " array([u'he'], \n",
       "       dtype='<U2'),\n",
       " array([u'do'], \n",
       "       dtype='<U2'),\n",
       " array([u'so'], \n",
       "       dtype='<U2')]"
      ]
     },
     "execution_count": 15,
     "metadata": {},
     "output_type": "execute_result"
    }
   ],
   "source": [
    "new_dat[sub_ex]['NlineResults']['run1']['catch_probe']"
   ]
  },
  {
   "cell_type": "code",
   "execution_count": 16,
   "metadata": {
    "collapsed": false
   },
   "outputs": [],
   "source": [
    "subj = data_dict.keys()\n",
    "tasks = [Nline]\n",
    "tuples = []\n",
    "rows = len(data_dict[sub_ex]['p'][Nline][0][0][:])-1\n",
    "for s in subj:\n",
    "    runs = new_dat[s]['NlineResults'].keys()\n",
    "    for run in runs:\n",
    "        for i in range(0,rows):\n",
    "            tuples.append((s, run, i))\n",
    "len(tuples)\n",
    "#iterables = [subj,tasks,runs]\n",
    "indexes = pd.MultiIndex.from_tuples(tuples, names=['Subj', 'Run', 'Trial'])\n",
    "nline_cols = len(new_dat[sub_ex][Nline]['run1'].keys())"
   ]
  },
  {
   "cell_type": "code",
   "execution_count": 17,
   "metadata": {
    "collapsed": false
   },
   "outputs": [
    {
     "data": {
      "text/plain": [
       "('s_02007', 'run1', 14)"
      ]
     },
     "execution_count": 17,
     "metadata": {},
     "output_type": "execute_result"
    }
   ],
   "source": [
    "indexes[590]"
   ]
  },
  {
   "cell_type": "code",
   "execution_count": 18,
   "metadata": {
    "collapsed": false
   },
   "outputs": [
    {
     "data": {
      "text/plain": [
       "'run1'"
      ]
     },
     "execution_count": 18,
     "metadata": {},
     "output_type": "execute_result"
    }
   ],
   "source": [
    "indexes[1][1]"
   ]
  },
  {
   "cell_type": "code",
   "execution_count": 19,
   "metadata": {
    "collapsed": false
   },
   "outputs": [
    {
     "data": {
      "text/plain": [
       "u'Block'"
      ]
     },
     "execution_count": 19,
     "metadata": {},
     "output_type": "execute_result"
    }
   ],
   "source": [
    "varnames = new_dat[sub_ex][Nline]['run1'].keys()\n",
    "varnames[24]"
   ]
  },
  {
   "cell_type": "code",
   "execution_count": 20,
   "metadata": {
    "collapsed": false
   },
   "outputs": [
    {
     "data": {
      "text/plain": [
       "4224"
      ]
     },
     "execution_count": 20,
     "metadata": {},
     "output_type": "execute_result"
    }
   ],
   "source": [
    "len(indexes)"
   ]
  },
  {
   "cell_type": "code",
   "execution_count": 21,
   "metadata": {
    "collapsed": false
   },
   "outputs": [],
   "source": [
    "# Code empty cells of probes and catch_probes as Nan\n",
    "Dic_list = []\n",
    "probes = ['catch_probe']\n",
    "for data in indexes:\n",
    "    temp_dict = {}\n",
    "    for var in varnames:\n",
    "        if var == probes[0]:\n",
    "            if len(new_dat.get(data[0]).get(Nline).get(data[1]).get(var)[data[2]]) == 0:\n",
    "                new_dat.get(data[0]).get(Nline).get(data[1]).get(var)[data[2]] = np.array([np.nan])\n",
    "            temp_dict[var] = new_dat.get(data[0]).get(Nline).get(data[1]).get(var)[data[2]][0]\n",
    "        else:\n",
    "            temp_dict[var] = new_dat.get(data[0]).get(Nline).get(data[1]).get(var)[data[2]]\n",
    "    Dic_list.append(temp_dict)"
   ]
  },
  {
   "cell_type": "code",
   "execution_count": 22,
   "metadata": {
    "collapsed": false
   },
   "outputs": [
    {
     "data": {
      "text/plain": [
       "12"
      ]
     },
     "execution_count": 22,
     "metadata": {},
     "output_type": "execute_result"
    }
   ],
   "source": [
    "#Create dataframe\n",
    "nline_df = pd.DataFrame(Dic_list, index=indexes)\n",
    "sum(nline_df.loc[sub_ex].loc['run1'].iloc[0:48]['catch'])"
   ]
  },
  {
   "cell_type": "code",
   "execution_count": 23,
   "metadata": {
    "collapsed": false
   },
   "outputs": [
    {
     "data": {
      "text/plain": [
       "Trial\n",
       "0   -0.023744\n",
       "1   -0.025507\n",
       "2    0.000000\n",
       "3    0.000000\n",
       "4   -0.027313\n",
       "5    0.001938\n",
       "6   -0.046035\n",
       "7    0.000000\n",
       "8    0.070881\n",
       "9    0.026916\n",
       "Name: Error, dtype: float64"
      ]
     },
     "execution_count": 23,
     "metadata": {},
     "output_type": "execute_result"
    }
   ],
   "source": [
    "nline_df.loc[sub_ex].loc['run1'].iloc[0:10]['Error']"
   ]
  },
  {
   "cell_type": "code",
   "execution_count": 24,
   "metadata": {
    "collapsed": false
   },
   "outputs": [
    {
     "data": {
      "text/plain": [
       "FrozenList([u'Subject', u'Run', u'Trial'])"
      ]
     },
     "execution_count": 24,
     "metadata": {},
     "output_type": "execute_result"
    }
   ],
   "source": [
    "nline_df.index.names = ['Subject', 'Run', 'Trial']\n",
    "nline_df.index.names"
   ]
  },
  {
   "cell_type": "code",
   "execution_count": 25,
   "metadata": {
    "collapsed": false
   },
   "outputs": [
    {
     "name": "stderr",
     "output_type": "stream",
     "text": [
      "/Users/frankanayet/anaconda/lib/python2.7/site-packages/ipykernel/__main__.py:3: SettingWithCopyWarning: \n",
      "A value is trying to be set on a copy of a slice from a DataFrame\n",
      "\n",
      "See the caveats in the documentation: http://pandas.pydata.org/pandas-docs/stable/indexing.html#indexing-view-versus-copy\n",
      "  app.launch_new_instance()\n",
      "/Users/frankanayet/anaconda/lib/python2.7/site-packages/ipykernel/__main__.py:4: SettingWithCopyWarning: \n",
      "A value is trying to be set on a copy of a slice from a DataFrame\n",
      "\n",
      "See the caveats in the documentation: http://pandas.pydata.org/pandas-docs/stable/indexing.html#indexing-view-versus-copy\n"
     ]
    },
    {
     "data": {
      "text/plain": [
       "Subject  Run   Trial\n",
       "s_02009  run1  0         57\n",
       "               1         77\n",
       "               2          3\n",
       "               3         21\n",
       "               4         60\n",
       "               5         28\n",
       "               6         85\n",
       "               7         74\n",
       "               8         33\n",
       "               9          7\n",
       "               10        90\n",
       "               11        36\n",
       "               12        11\n",
       "               13        45\n",
       "               14        98\n",
       "               15        65\n",
       "               16        70\n",
       "               17        14\n",
       "               18        80\n",
       "               19        20\n",
       "               20       -58\n",
       "               21       -94\n",
       "               22       -86\n",
       "               23        54\n",
       "               24       -44\n",
       "               25       -78\n",
       "               26       -10\n",
       "               27        48\n",
       "               28        30\n",
       "               29       -28\n",
       "                       ... \n",
       "s_02022  run4  18        or\n",
       "               19        my\n",
       "               20        of\n",
       "               21        we\n",
       "               22        he\n",
       "               23        am\n",
       "               24        so\n",
       "               25        by\n",
       "               26        as\n",
       "               27        do\n",
       "               28        me\n",
       "               29        is\n",
       "               30        it\n",
       "               31        ox\n",
       "               32       -86\n",
       "               33       -28\n",
       "               34        70\n",
       "               35        96\n",
       "               36       -10\n",
       "               37        80\n",
       "               38        48\n",
       "               39        54\n",
       "               40       -94\n",
       "               41       -34\n",
       "               42       -44\n",
       "               43        30\n",
       "               44        20\n",
       "               45       -78\n",
       "               46        14\n",
       "               47       -58\n",
       "Name: Probe, dtype: object"
      ]
     },
     "execution_count": 25,
     "metadata": {},
     "output_type": "execute_result"
    }
   ],
   "source": [
    "test = nline_df['Probe']\n",
    "for i in range(0,len(test)):\n",
    "    test[i] = np.ravel(test[i])\n",
    "    test[i] = test[i][0]\n",
    "nline_df['Probe'] = test\n",
    "nline_df['Probe']"
   ]
  },
  {
   "cell_type": "markdown",
   "metadata": {},
   "source": [
    "### Create Stim Labels"
   ]
  },
  {
   "cell_type": "code",
   "execution_count": 26,
   "metadata": {
    "collapsed": false
   },
   "outputs": [],
   "source": [
    "#now nline\n",
    "#nline_df['Num'] = nline_df['Num'].map('{:.0f}'.format)\n",
    "#nline_df['Denom'] = nline_df['Denom'].map('{:.0f}'.format)\n",
    "#nline_df['Stim'] = nline_df['Num']+'/'+nline_df['Denom']\n",
    "#nline_df['Stim']"
   ]
  },
  {
   "cell_type": "code",
   "execution_count": 27,
   "metadata": {
    "collapsed": false
   },
   "outputs": [
    {
     "data": {
      "text/plain": [
       "Index([u'BadPress', u'Block', u'Click', u'Correct', u'Error', u'ITI_onset',\n",
       "       u'ITI_onset_real', u'Line_pct', u'Move', u'Points', u'Probe', u'RT',\n",
       "       u'RTHold', u'Response', u'Slow', u'Task', u'TestX', u'Trial', u'Wrong',\n",
       "       u'catch', u'catch_probe', u'consider_onset', u'consider_onset_real',\n",
       "       u'decision_end', u'decision_end_real', u'decision_onset',\n",
       "       u'decision_onset_real', u'hold', u'hold_onset', u'hold_onset_real',\n",
       "       u'iti', u'mouse_pos'],\n",
       "      dtype='object')"
      ]
     },
     "execution_count": 27,
     "metadata": {},
     "output_type": "execute_result"
    }
   ],
   "source": [
    "nline_df.columns"
   ]
  },
  {
   "cell_type": "code",
   "execution_count": 28,
   "metadata": {
    "collapsed": false
   },
   "outputs": [
    {
     "name": "stderr",
     "output_type": "stream",
     "text": [
      "/Users/frankanayet/anaconda/lib/python2.7/site-packages/ipykernel/__main__.py:3: SettingWithCopyWarning: \n",
      "A value is trying to be set on a copy of a slice from a DataFrame\n",
      "\n",
      "See the caveats in the documentation: http://pandas.pydata.org/pandas-docs/stable/indexing.html#indexing-view-versus-copy\n",
      "  app.launch_new_instance()\n",
      "/Users/frankanayet/anaconda/lib/python2.7/site-packages/ipykernel/__main__.py:4: SettingWithCopyWarning: \n",
      "A value is trying to be set on a copy of a slice from a DataFrame\n",
      "\n",
      "See the caveats in the documentation: http://pandas.pydata.org/pandas-docs/stable/indexing.html#indexing-view-versus-copy\n",
      "/Users/frankanayet/anaconda/lib/python2.7/site-packages/ipykernel/__main__.py:5: SettingWithCopyWarning: \n",
      "A value is trying to be set on a copy of a slice from a DataFrame\n",
      "\n",
      "See the caveats in the documentation: http://pandas.pydata.org/pandas-docs/stable/indexing.html#indexing-view-versus-copy\n"
     ]
    },
    {
     "data": {
      "text/plain": [
       "'Neg'"
      ]
     },
     "execution_count": 28,
     "metadata": {},
     "output_type": "execute_result"
    }
   ],
   "source": [
    "#Make task as string\n",
    "nline_df['Task'] = nline_df['Task'].astype(str)\n",
    "nline_df['Task'][nline_df['Task']=='1'] = 'Pos'\n",
    "nline_df['Task'][nline_df['Task']=='2'] = 'Neg'\n",
    "nline_df['Task'][nline_df['Task']=='3'] = 'Word'\n",
    "nline_df['Task'].iloc[16]"
   ]
  },
  {
   "cell_type": "code",
   "execution_count": 29,
   "metadata": {
    "collapsed": false
   },
   "outputs": [
    {
     "data": {
      "text/plain": [
       "Subject  Run   Trial\n",
       "s_02009  run1  0        0.07\n",
       "               1        0.23\n",
       "               2        0.03\n",
       "               3        0.21\n",
       "               4        0.10\n",
       "               5        0.22\n",
       "               6        0.15\n",
       "               7        0.24\n",
       "               8        0.17\n",
       "               9        0.07\n",
       "               10       0.10\n",
       "               11       0.14\n",
       "               12       0.11\n",
       "               13       0.05\n",
       "               14       0.02\n",
       "               15       0.15\n",
       "               16       0.15\n",
       "               17       0.07\n",
       "               18       0.10\n",
       "               19       0.10\n",
       "               20       0.21\n",
       "               21       0.03\n",
       "               22       0.07\n",
       "               23       0.23\n",
       "               24       0.22\n",
       "               25       0.11\n",
       "               26       0.05\n",
       "               27       0.24\n",
       "               28       0.15\n",
       "               29       0.14\n",
       "                        ... \n",
       "s_02022  run4  18       0.15\n",
       "               19       0.03\n",
       "               20       0.07\n",
       "               21       0.05\n",
       "               22       0.24\n",
       "               23       0.15\n",
       "               24       0.02\n",
       "               25       0.21\n",
       "               26       0.17\n",
       "               27       0.07\n",
       "               28       0.14\n",
       "               29       0.23\n",
       "               30       0.10\n",
       "               31       0.22\n",
       "               32       0.07\n",
       "               33       0.14\n",
       "               34       0.15\n",
       "               35       0.02\n",
       "               36       0.05\n",
       "               37       0.10\n",
       "               38       0.24\n",
       "               39       0.23\n",
       "               40       0.03\n",
       "               41       0.17\n",
       "               42       0.22\n",
       "               43       0.15\n",
       "               44       0.10\n",
       "               45       0.11\n",
       "               46       0.07\n",
       "               47       0.21\n",
       "Name: LandmarkDist, dtype: float64"
      ]
     },
     "execution_count": 29,
     "metadata": {},
     "output_type": "execute_result"
    }
   ],
   "source": [
    "nline_df['Dist0'] = abs(nline_df['Line_pct'] - 0)\n",
    "nline_df['Dist100'] = abs(nline_df['Line_pct'] - 1)\n",
    "nline_df['Dist50'] = abs(nline_df['Line_pct'] - 0.5)\n",
    "nline_df['LandmarkDist'] = nline_df[['Dist0','Dist100','Dist50']].min(axis=1) \n",
    "nline_df['LandmarkDist']"
   ]
  },
  {
   "cell_type": "markdown",
   "metadata": {},
   "source": [
    "##Get means for demeaning"
   ]
  },
  {
   "cell_type": "code",
   "execution_count": 30,
   "metadata": {
    "collapsed": false
   },
   "outputs": [],
   "source": [
    "nline_df['LandmarkDist'] = np.round(nline_df['LandmarkDist'],2)\n",
    "uniquevals = nline_df.loc['s_02007'].loc['run1']['LandmarkDist'].unique()\n",
    "landmark_mean = uniquevals.mean()"
   ]
  },
  {
   "cell_type": "code",
   "execution_count": 31,
   "metadata": {
    "collapsed": false
   },
   "outputs": [],
   "source": [
    "nline_df['Dist50'] = np.round(nline_df['Dist50'],2)\n",
    "uniquevals50 = nline_df.loc['s_02007'].loc['run1']['Dist50'].unique()\n",
    "dist50_mean = uniquevals50.mean()"
   ]
  },
  {
   "cell_type": "code",
   "execution_count": 32,
   "metadata": {
    "collapsed": true
   },
   "outputs": [],
   "source": [
    "nline_df['Dist0'] = np.round(nline_df['Dist0'],2)\n",
    "uniquevals0 = nline_df.loc['s_02007'].loc['run1']['Dist0'].unique()\n",
    "dist0_mean = uniquevals0.mean()"
   ]
  },
  {
   "cell_type": "code",
   "execution_count": 33,
   "metadata": {
    "collapsed": false
   },
   "outputs": [
    {
     "data": {
      "text/plain": [
       "0.49375000000000002"
      ]
     },
     "execution_count": 33,
     "metadata": {},
     "output_type": "execute_result"
    }
   ],
   "source": [
    "dist0_mean"
   ]
  },
  {
   "cell_type": "markdown",
   "metadata": {},
   "source": [
    "# Create Onset Files"
   ]
  },
  {
   "cell_type": "code",
   "execution_count": 34,
   "metadata": {
    "collapsed": true
   },
   "outputs": [],
   "source": [
    "nline_df['Missed'] = 0"
   ]
  },
  {
   "cell_type": "code",
   "execution_count": 35,
   "metadata": {
    "collapsed": false
   },
   "outputs": [
    {
     "name": "stderr",
     "output_type": "stream",
     "text": [
      "/Users/frankanayet/anaconda/lib/python2.7/site-packages/ipykernel/__main__.py:1: SettingWithCopyWarning: \n",
      "A value is trying to be set on a copy of a slice from a DataFrame\n",
      "\n",
      "See the caveats in the documentation: http://pandas.pydata.org/pandas-docs/stable/indexing.html#indexing-view-versus-copy\n",
      "  if __name__ == '__main__':\n"
     ]
    }
   ],
   "source": [
    "nline_df['Missed'][(nline_df.catch < 1) & (nline_df.Error == 1)] = 1"
   ]
  },
  {
   "cell_type": "code",
   "execution_count": 44,
   "metadata": {
    "collapsed": false
   },
   "outputs": [
    {
     "name": "stdout",
     "output_type": "stream",
     "text": [
      "s_02001\n",
      "s_02002\n",
      "s_02003\n",
      "s_02004\n",
      "s_02005\n",
      "s_02006\n",
      "s_02007\n",
      "s_02009\n",
      "s_02010\n",
      "s_02011\n",
      "s_02012\n",
      "s_02014\n",
      "s_02015\n",
      "s_02016\n",
      "s_02017\n",
      "s_02018\n",
      "s_02019\n",
      "s_02020\n",
      "s_02021\n",
      "s_02022\n",
      "s_02023\n",
      "s_02024\n",
      "s_02027\n"
     ]
    }
   ],
   "source": [
    "import string\n",
    "tasks = nline_df.groupby('Task')\n",
    "labels = tasks.indices.keys()\n",
    "phase = ['cons', 'dec']\n",
    "vals = ['int','zero','mid','land']\n",
    "\n",
    "offset = 18\n",
    "big_dict = {}\n",
    "\n",
    "# Breaks always happen at the same time in the sequence\n",
    "break_onset = [[190, 6, 1],[388, 6, 1]]\n",
    "for s in nline_df.index.levels[0]:\n",
    "    print s\n",
    "    big_dict[s] = {}\n",
    "    for r in nline_df.index.levels[1]:\n",
    "        #print r\n",
    "        big_dict[s][r] = {}\n",
    "        \n",
    "        ctch = nline_df.loc[s].loc[r]['catch']\n",
    "        \n",
    "        problem_con = nline_df.loc[s].loc[r]['consider_onset_real'] - nline_df.loc[s].loc[r]['consider_onset']\n",
    "        problem_dec = nline_df.loc[s].loc[r]['decision_onset_real'] - nline_df.loc[s].loc[r]['decision_onset']\n",
    "        prob_con_idx = problem_con > 0.5\n",
    "        prob_dec_idx = problem_dec > 0.5\n",
    "        \n",
    "        if len(nline_df.loc[s].loc[r]['hold']) == 0:\n",
    "            hold = 2.5\n",
    "        else:\n",
    "            hold = min(nline_df.loc[s].loc[r]['hold'])\n",
    "            \n",
    "        probe = nline_df.loc[s].loc[r]['Line_pct']\n",
    "        cons_duration = hold + cons_time\n",
    "        \n",
    "        dec_ctch_tmp = nline_df.loc[s].loc[r]['decision_onset_real'] - offset\n",
    "        dec_ctch_tmp = dec_ctch_tmp[ctch==1]\n",
    "        dec_ctch_tmp = dec_ctch_tmp[prob_dec_idx==0]\n",
    "        big_dict[s][r]['dec_ctch_onset'] = pd.DataFrame.from_items([('time',dec_ctch_tmp[dec_ctch_tmp>=0]),('duration',dec_time),('val',1)])\n",
    "        \n",
    "        bad_trials_con = nline_df.loc[s].loc[r]['consider_onset']\n",
    "        bad_trials_con = bad_trials_con[prob_con_idx==1]\n",
    "        big_dict[s][r]['con_bad_trials'] = pd.DataFrame.from_items([('time',bad_trials_con[bad_trials_con>=0]),('duration',cons_duration),('val',1)])\n",
    "        \n",
    "        bad_trials_dec = nline_df.loc[s].loc[r]['decision_onset']\n",
    "        bad_trials_dec = bad_trials_dec[prob_dec_idx==1]\n",
    "        big_dict[s][r]['dec_bad_trials'] = pd.DataFrame.from_items([('time',bad_trials_dec[bad_trials_dec>=0]),('duration',dec_time),('val',1)])\n",
    "      \n",
    "        \n",
    "        for lab in labels:\n",
    "            #print lab\n",
    "            big_dict[s][r][lab] = {}\n",
    "            Task = nline_df.loc[s].loc[r]['Task']\n",
    "            #create landmark values (demeaned)\n",
    "            landmark = nline_df.loc[s].loc[r]['LandmarkDist']\n",
    "            landmark = landmark[Task==lab] - landmark_mean\n",
    "            \n",
    "            #create landmark values for distance from 50 (demeaned)\n",
    "            dist50 = nline_df.loc[s].loc[r]['Dist50']\n",
    "            dist50 = dist50[Task==lab] - dist50_mean\n",
    "            \n",
    "            #create landmark distance from 0\n",
    "            dist0 = nline_df.loc[s].loc[r]['Dist0']\n",
    "            dist0 = dist0[Task==lab] - dist0_mean\n",
    "            \n",
    "            val_dict = {'int':1,'zero':dist0,'mid':dist50,'land':landmark}\n",
    "            for ph in phase:\n",
    "                if ph == 'dec':\n",
    "                    big_dict[s][r][lab][ph] = {}\n",
    "                    for val in vals:\n",
    "                        big_dict[s][r][lab][ph][val] = {}\n",
    "                        tmp_int = nline_df.loc[s].loc[r]['decision_onset_real'] - offset\n",
    "                        tmp_int = tmp_int[ctch==0]\n",
    "                        tmp_int = tmp_int[Task==lab]\n",
    "                        tmp_int = tmp_int[prob_dec_idx==0]\n",
    "                        \n",
    "                        #create landmark values (demeaned)\n",
    "                        landmark = nline_df.loc[s].loc[r]['LandmarkDist']\n",
    "                        landmark = landmark[Task==lab] - landmark_mean\n",
    "            \n",
    "                        #create landmark values for distance from 50 (demeaned)\n",
    "                        dist50 = nline_df.loc[s].loc[r]['Dist50']\n",
    "                        dist50 = dist50[Task==lab] - dist50_mean\n",
    "            \n",
    "                        #create landmark distance from 0\n",
    "                        dist0 = nline_df.loc[s].loc[r]['Dist0']\n",
    "                        dist0 = dist0[Task==lab] - dist0_mean\n",
    "                        landmark = landmark[ctch==0]\n",
    "                        dist50 = dist50[ctch==0]\n",
    "                        dist0 = dist0[ctch==0]\n",
    "                        val_dict = {'int':1,'zero':dist0,'mid':dist50,'land':landmark}\n",
    "                        big_dict[s][r][lab][ph][val] = pd.DataFrame.from_items([('time',tmp_int[tmp_int>=0]),('duration',dec_time),('val',val_dict[val])])\n",
    "                        \n",
    "                elif ph == 'cons':\n",
    "                    big_dict[s][r][lab][ph] = {}\n",
    "                    for val in vals:\n",
    "                        big_dict[s][r][lab][ph][val] = {}\n",
    "                        tmp_int = nline_df.loc[s].loc[r]['consider_onset_real'] - offset\n",
    "                        tmp_int = tmp_int[Task==lab]\n",
    "                        tmp_int = tmp_int[prob_con_idx==0]\n",
    "                        \n",
    "                        #create landmark values (demeaned)\n",
    "                        landmark = nline_df.loc[s].loc[r]['LandmarkDist']\n",
    "                        landmark = landmark[Task==lab] - landmark_mean\n",
    "                        \n",
    "                        #create landmark values for distance from 50 (demeaned)\n",
    "                        dist50 = nline_df.loc[s].loc[r]['Dist50']\n",
    "                        dist50 = dist50[Task==lab] - dist50_mean\n",
    "                        \n",
    "                        #create landmark distance from 0\n",
    "                        dist0 = nline_df.loc[s].loc[r]['Dist0']\n",
    "                        dist0 = dist0[Task==lab] - dist0_mean\n",
    "                        val_dict = {'int':1,'zero':dist0,'mid':dist50,'land':landmark}\n",
    "                        big_dict[s][r][lab][ph][str(val)] = pd.DataFrame.from_items([('time',tmp_int[tmp_int>=0]),('duration',cons_duration),('val',val_dict[val])])\n"
   ]
  },
  {
   "cell_type": "code",
   "execution_count": 47,
   "metadata": {
    "collapsed": false
   },
   "outputs": [
    {
     "data": {
      "text/plain": [
       "Trial\n",
       "17   -0.033846\n",
       "18   -0.033846\n",
       "19   -0.083846\n",
       "20   -0.103846\n",
       "21    0.036154\n",
       "22   -0.063846\n",
       "23    0.086154\n",
       "24    0.016154\n",
       "25    0.096154\n",
       "26   -0.113846\n",
       "27   -0.063846\n",
       "29    0.076154\n",
       "Name: LandmarkDist, dtype: float64"
      ]
     },
     "execution_count": 47,
     "metadata": {},
     "output_type": "execute_result"
    }
   ],
   "source": [
    "landmark"
   ]
  },
  {
   "cell_type": "markdown",
   "metadata": {},
   "source": [
    "## Why are there NaNs??"
   ]
  },
  {
   "cell_type": "code",
   "execution_count": 49,
   "metadata": {
    "collapsed": false
   },
   "outputs": [
    {
     "data": {
      "text/plain": [
       "{'int': 1, 'land': Trial\n",
       " 16    0.106154\n",
       " 17   -0.033846\n",
       " 18   -0.033846\n",
       " 19   -0.083846\n",
       " 20   -0.103846\n",
       " 21    0.036154\n",
       " 22   -0.063846\n",
       " 23    0.086154\n",
       " 24    0.016154\n",
       " 25    0.096154\n",
       " 26   -0.113846\n",
       " 27   -0.063846\n",
       " 28    0.016154\n",
       " 29    0.076154\n",
       " 30   -0.023846\n",
       " 31    0.006154\n",
       " Name: LandmarkDist, dtype: float64, 'mid': Trial\n",
       " 16   -0.02375\n",
       " 17    0.13625\n",
       " 18   -0.16375\n",
       " 19   -0.21375\n",
       " 20    0.20625\n",
       " 21   -0.09375\n",
       " 22   -0.19375\n",
       " 23   -0.04375\n",
       " 24   -0.11375\n",
       " 25    0.00625\n",
       " 26    0.21625\n",
       " 27    0.16625\n",
       " 28    0.08625\n",
       " 29    0.02625\n",
       " 30    0.12625\n",
       " 31   -0.12375\n",
       " Name: Dist50, dtype: float64, 'zero': Trial\n",
       " 16    0.24625\n",
       " 17    0.40625\n",
       " 18    0.10625\n",
       " 19   -0.04375\n",
       " 20   -0.46375\n",
       " 21   -0.16375\n",
       " 22    0.07625\n",
       " 23   -0.21375\n",
       " 24    0.15625\n",
       " 25    0.27625\n",
       " 26    0.48625\n",
       " 27   -0.42375\n",
       " 28    0.35625\n",
       " 29   -0.28375\n",
       " 30   -0.38375\n",
       " 31   -0.13375\n",
       " Name: Dist0, dtype: float64}"
      ]
     },
     "execution_count": 49,
     "metadata": {},
     "output_type": "execute_result"
    }
   ],
   "source": [
    "val_dict"
   ]
  },
  {
   "cell_type": "code",
   "execution_count": 46,
   "metadata": {
    "collapsed": false
   },
   "outputs": [
    {
     "data": {
      "text/plain": [
       "{'Neg': {'cons': {'int':              time  duration  val\n",
       "   Trial                           \n",
       "   16     198.502855         3    1\n",
       "   17     211.002962         3    1\n",
       "   18     223.001634         3    1\n",
       "   19     235.002220         3    1\n",
       "   20     245.003155         3    1\n",
       "   21     256.003244         3    1\n",
       "   22     266.003749         3    1\n",
       "   23     279.501095         3    1\n",
       "   24     291.501679         3    1\n",
       "   25     304.002272         3    1\n",
       "   26     318.002866         3    1\n",
       "   27     329.003328         3    1\n",
       "   28     342.503100         3    1\n",
       "   29     355.003193         3    1\n",
       "   30     366.502022         3    1\n",
       "   31     380.002508         3    1,\n",
       "   'land':              time  duration       val\n",
       "   Trial                                \n",
       "   16     198.502855         3  0.016154\n",
       "   17     211.002962         3 -0.063846\n",
       "   18     223.001634         3 -0.033846\n",
       "   19     235.002220         3 -0.033846\n",
       "   20     245.003155         3  0.076154\n",
       "   21     256.003244         3 -0.103846\n",
       "   22     266.003749         3 -0.063846\n",
       "   23     279.501095         3  0.096154\n",
       "   24     291.501679         3  0.086154\n",
       "   25     304.002272         3 -0.023846\n",
       "   26     318.002866         3 -0.083846\n",
       "   27     329.003328         3  0.106154\n",
       "   28     342.503100         3  0.016154\n",
       "   29     355.003193         3  0.006154\n",
       "   30     366.502022         3 -0.113846\n",
       "   31     380.002508         3  0.036154,\n",
       "   'mid':              time  duration      val\n",
       "   Trial                               \n",
       "   16     198.502855         3  0.08625\n",
       "   17     211.002962         3 -0.19375\n",
       "   18     223.001634         3  0.13625\n",
       "   19     235.002220         3 -0.16375\n",
       "   20     245.003155         3  0.02625\n",
       "   21     256.003244         3  0.20625\n",
       "   22     266.003749         3  0.16625\n",
       "   23     279.501095         3  0.00625\n",
       "   24     291.501679         3 -0.04375\n",
       "   25     304.002272         3  0.12625\n",
       "   26     318.002866         3 -0.21375\n",
       "   27     329.003328         3 -0.02375\n",
       "   28     342.503100         3 -0.11375\n",
       "   29     355.003193         3 -0.12375\n",
       "   30     366.502022         3  0.21625\n",
       "   31     380.002508         3 -0.09375,\n",
       "   'zero':              time  duration      val\n",
       "   Trial                               \n",
       "   16     198.502855         3  0.35625\n",
       "   17     211.002962         3  0.07625\n",
       "   18     223.001634         3  0.40625\n",
       "   19     235.002220         3  0.10625\n",
       "   20     245.003155         3 -0.28375\n",
       "   21     256.003244         3 -0.46375\n",
       "   22     266.003749         3 -0.42375\n",
       "   23     279.501095         3  0.27625\n",
       "   24     291.501679         3 -0.21375\n",
       "   25     304.002272         3 -0.38375\n",
       "   26     318.002866         3 -0.04375\n",
       "   27     329.003328         3  0.24625\n",
       "   28     342.503100         3  0.15625\n",
       "   29     355.003193         3 -0.13375\n",
       "   30     366.502022         3  0.48625\n",
       "   31     380.002508         3 -0.16375},\n",
       "  'dec': {'int':              time  duration  val\n",
       "   Trial                           \n",
       "   16     205.006346         3    1\n",
       "   17     214.006646         3    1\n",
       "   19     239.007333         3    1\n",
       "   21     259.507806         3    1\n",
       "   22     270.008154         3    1\n",
       "   24     297.008807         3    1\n",
       "   25     310.009198         3    1\n",
       "   27     336.009907         3    1\n",
       "   28     346.510182         3    1\n",
       "   29     359.510471         3    1\n",
       "   30     370.010803         3    1\n",
       "   31     383.011124         3    1,\n",
       "   'land':              time  duration       val\n",
       "   Trial                                \n",
       "   16     205.006346         3  0.016154\n",
       "   17     214.006646         3 -0.063846\n",
       "   18            NaN         3 -0.033846\n",
       "   19     239.007333         3 -0.033846\n",
       "   20            NaN         3  0.076154\n",
       "   21     259.507806         3 -0.103846\n",
       "   22     270.008154         3 -0.063846\n",
       "   23            NaN         3  0.096154\n",
       "   24     297.008807         3  0.086154\n",
       "   25     310.009198         3 -0.023846\n",
       "   26            NaN         3 -0.083846\n",
       "   27     336.009907         3  0.106154\n",
       "   28     346.510182         3  0.016154\n",
       "   29     359.510471         3  0.006154\n",
       "   30     370.010803         3 -0.113846\n",
       "   31     383.011124         3  0.036154,\n",
       "   'mid':              time  duration      val\n",
       "   Trial                               \n",
       "   16     205.006346         3  0.08625\n",
       "   17     214.006646         3 -0.19375\n",
       "   18            NaN         3  0.13625\n",
       "   19     239.007333         3 -0.16375\n",
       "   20            NaN         3  0.02625\n",
       "   21     259.507806         3  0.20625\n",
       "   22     270.008154         3  0.16625\n",
       "   23            NaN         3  0.00625\n",
       "   24     297.008807         3 -0.04375\n",
       "   25     310.009198         3  0.12625\n",
       "   26            NaN         3 -0.21375\n",
       "   27     336.009907         3 -0.02375\n",
       "   28     346.510182         3 -0.11375\n",
       "   29     359.510471         3 -0.12375\n",
       "   30     370.010803         3  0.21625\n",
       "   31     383.011124         3 -0.09375,\n",
       "   'zero':              time  duration      val\n",
       "   Trial                               \n",
       "   16     205.006346         3  0.35625\n",
       "   17     214.006646         3  0.07625\n",
       "   18            NaN         3  0.40625\n",
       "   19     239.007333         3  0.10625\n",
       "   20            NaN         3 -0.28375\n",
       "   21     259.507806         3 -0.46375\n",
       "   22     270.008154         3 -0.42375\n",
       "   23            NaN         3  0.27625\n",
       "   24     297.008807         3 -0.21375\n",
       "   25     310.009198         3 -0.38375\n",
       "   26            NaN         3 -0.04375\n",
       "   27     336.009907         3  0.24625\n",
       "   28     346.510182         3  0.15625\n",
       "   29     359.510471         3 -0.13375\n",
       "   30     370.010803         3  0.48625\n",
       "   31     383.011124         3 -0.16375}},\n",
       " 'Pos': {'cons': {'int':              time  duration  val\n",
       "   Trial                           \n",
       "   1       10.003057         3    1\n",
       "   2       20.003109         3    1\n",
       "   3       31.003152         3    1\n",
       "   4       43.003169         3    1\n",
       "   5       60.003166         3    1\n",
       "   6       72.001437         3    1\n",
       "   7       82.502607         3    1\n",
       "   8       95.501918         3    1\n",
       "   9      106.003378         3    1\n",
       "   10     118.001657         3    1\n",
       "   11     129.001810         3    1\n",
       "   12     143.003050         3    1\n",
       "   13     154.001279         3    1\n",
       "   14     169.001920         3    1\n",
       "   15     179.502866         3    1,\n",
       "   'land':              time  duration       val\n",
       "   Trial                                \n",
       "   0             NaN         3 -0.063846\n",
       "   1       10.003057         3  0.096154\n",
       "   2       20.003109         3 -0.103846\n",
       "   3       31.003152         3  0.076154\n",
       "   4       43.003169         3 -0.033846\n",
       "   5       60.003166         3  0.086154\n",
       "   6       72.001437         3  0.016154\n",
       "   7       82.502607         3  0.106154\n",
       "   8       95.501918         3  0.036154\n",
       "   9      106.003378         3 -0.063846\n",
       "   10     118.001657         3 -0.033846\n",
       "   11     129.001810         3  0.006154\n",
       "   12     143.003050         3 -0.023846\n",
       "   13     154.001279         3 -0.083846\n",
       "   14     169.001920         3 -0.113846\n",
       "   15     179.502866         3  0.016154,\n",
       "   'mid':              time  duration      val\n",
       "   Trial                               \n",
       "   0             NaN         3 -0.19375\n",
       "   1       10.003057         3  0.00625\n",
       "   2       20.003109         3  0.20625\n",
       "   3       31.003152         3  0.02625\n",
       "   4       43.003169         3 -0.16375\n",
       "   5       60.003166         3 -0.04375\n",
       "   6       72.001437         3  0.08625\n",
       "   7       82.502607         3 -0.02375\n",
       "   8       95.501918         3 -0.09375\n",
       "   9      106.003378         3  0.16625\n",
       "   10     118.001657         3  0.13625\n",
       "   11     129.001810         3 -0.12375\n",
       "   12     143.003050         3  0.12625\n",
       "   13     154.001279         3 -0.21375\n",
       "   14     169.001920         3  0.21625\n",
       "   15     179.502866         3 -0.11375,\n",
       "   'zero':              time  duration      val\n",
       "   Trial                               \n",
       "   0             NaN         3  0.07625\n",
       "   1       10.003057         3  0.27625\n",
       "   2       20.003109         3 -0.46375\n",
       "   3       31.003152         3 -0.28375\n",
       "   4       43.003169         3  0.10625\n",
       "   5       60.003166         3 -0.21375\n",
       "   6       72.001437         3  0.35625\n",
       "   7       82.502607         3  0.24625\n",
       "   8       95.501918         3 -0.16375\n",
       "   9      106.003378         3 -0.42375\n",
       "   10     118.001657         3  0.40625\n",
       "   11     129.001810         3 -0.13375\n",
       "   12     143.003050         3 -0.38375\n",
       "   13     154.001279         3 -0.04375\n",
       "   14     169.001920         3  0.48625\n",
       "   15     179.502866         3  0.15625},\n",
       "  'dec': {'int':              time  duration  val\n",
       "   Trial                           \n",
       "   0        3.501116         3    1\n",
       "   1       13.001360         3    1\n",
       "   4       50.002189         3    1\n",
       "   5       63.502652         3    1\n",
       "   6       75.002845         3    1\n",
       "   8      100.003595         3    1\n",
       "   9      111.003934         3    1\n",
       "   10     121.504180         3    1\n",
       "   11     135.504582         3    1\n",
       "   12     147.004902         3    1\n",
       "   14     173.505432         3    1\n",
       "   15     185.005909         3    1,\n",
       "   'land':              time  duration       val\n",
       "   Trial                                \n",
       "   0        3.501116         3 -0.063846\n",
       "   1       13.001360         3  0.096154\n",
       "   2             NaN         3 -0.103846\n",
       "   3             NaN         3  0.076154\n",
       "   4       50.002189         3 -0.033846\n",
       "   5       63.502652         3  0.086154\n",
       "   6       75.002845         3  0.016154\n",
       "   7             NaN         3  0.106154\n",
       "   8      100.003595         3  0.036154\n",
       "   9      111.003934         3 -0.063846\n",
       "   10     121.504180         3 -0.033846\n",
       "   11     135.504582         3  0.006154\n",
       "   12     147.004902         3 -0.023846\n",
       "   13            NaN         3 -0.083846\n",
       "   14     173.505432         3 -0.113846\n",
       "   15     185.005909         3  0.016154,\n",
       "   'mid':              time  duration      val\n",
       "   Trial                               \n",
       "   0        3.501116         3 -0.19375\n",
       "   1       13.001360         3  0.00625\n",
       "   2             NaN         3  0.20625\n",
       "   3             NaN         3  0.02625\n",
       "   4       50.002189         3 -0.16375\n",
       "   5       63.502652         3 -0.04375\n",
       "   6       75.002845         3  0.08625\n",
       "   7             NaN         3 -0.02375\n",
       "   8      100.003595         3 -0.09375\n",
       "   9      111.003934         3  0.16625\n",
       "   10     121.504180         3  0.13625\n",
       "   11     135.504582         3 -0.12375\n",
       "   12     147.004902         3  0.12625\n",
       "   13            NaN         3 -0.21375\n",
       "   14     173.505432         3  0.21625\n",
       "   15     185.005909         3 -0.11375,\n",
       "   'zero':              time  duration      val\n",
       "   Trial                               \n",
       "   0        3.501116         3  0.07625\n",
       "   1       13.001360         3  0.27625\n",
       "   2             NaN         3 -0.46375\n",
       "   3             NaN         3 -0.28375\n",
       "   4       50.002189         3  0.10625\n",
       "   5       63.502652         3 -0.21375\n",
       "   6       75.002845         3  0.35625\n",
       "   7             NaN         3  0.24625\n",
       "   8      100.003595         3 -0.16375\n",
       "   9      111.003934         3 -0.42375\n",
       "   10     121.504180         3  0.40625\n",
       "   11     135.504582         3 -0.13375\n",
       "   12     147.004902         3 -0.38375\n",
       "   13            NaN         3 -0.04375\n",
       "   14     173.505432         3  0.48625\n",
       "   15     185.005909         3  0.15625}},\n",
       " 'Word': {'cons': {'int':              time  duration  val\n",
       "   Trial                           \n",
       "   32     396.002597         3    1\n",
       "   33     409.503642         3    1\n",
       "   34     421.502144         3    1\n",
       "   35     432.502979         3    1\n",
       "   36     446.504174         3    1\n",
       "   37     459.503069         3    1\n",
       "   38     471.503144         3    1\n",
       "   39     482.502972         3    1\n",
       "   40     495.501851         3    1\n",
       "   41     505.502452         3    1\n",
       "   42     519.002490         3    1\n",
       "   43     532.501899         3    1\n",
       "   44     545.502563         3    1\n",
       "   45     555.503308         3    1\n",
       "   46     565.001698         3    1\n",
       "   47     577.002686         3    1,\n",
       "   'land':              time  duration       val\n",
       "   Trial                                \n",
       "   32     396.002597         3  0.106154\n",
       "   33     409.503642         3  0.096154\n",
       "   34     421.502144         3 -0.023846\n",
       "   35     432.502979         3  0.016154\n",
       "   36     446.504174         3  0.086154\n",
       "   37     459.503069         3  0.036154\n",
       "   38     471.503144         3 -0.033846\n",
       "   39     482.502972         3 -0.033846\n",
       "   40     495.501851         3 -0.063846\n",
       "   41     505.502452         3 -0.063846\n",
       "   42     519.002490         3  0.016154\n",
       "   43     532.501899         3 -0.113846\n",
       "   44     545.502563         3 -0.103846\n",
       "   45     555.503308         3  0.006154\n",
       "   46     565.001698         3  0.076154\n",
       "   47     577.002686         3 -0.083846,\n",
       "   'mid':              time  duration      val\n",
       "   Trial                               \n",
       "   32     396.002597         3 -0.02375\n",
       "   33     409.503642         3  0.00625\n",
       "   34     421.502144         3  0.12625\n",
       "   35     432.502979         3 -0.11375\n",
       "   36     446.504174         3 -0.04375\n",
       "   37     459.503069         3 -0.09375\n",
       "   38     471.503144         3  0.13625\n",
       "   39     482.502972         3 -0.16375\n",
       "   40     495.501851         3  0.16625\n",
       "   41     505.502452         3 -0.19375\n",
       "   42     519.002490         3  0.08625\n",
       "   43     532.501899         3  0.21625\n",
       "   44     545.502563         3  0.20625\n",
       "   45     555.503308         3 -0.12375\n",
       "   46     565.001698         3  0.02625\n",
       "   47     577.002686         3 -0.21375,\n",
       "   'zero':              time  duration      val\n",
       "   Trial                               \n",
       "   32     396.002597         3  0.24625\n",
       "   33     409.503642         3  0.27625\n",
       "   34     421.502144         3 -0.38375\n",
       "   35     432.502979         3  0.15625\n",
       "   36     446.504174         3 -0.21375\n",
       "   37     459.503069         3 -0.16375\n",
       "   38     471.503144         3  0.40625\n",
       "   39     482.502972         3  0.10625\n",
       "   40     495.501851         3 -0.42375\n",
       "   41     505.502452         3  0.07625\n",
       "   42     519.002490         3  0.35625\n",
       "   43     532.501899         3  0.48625\n",
       "   44     545.502563         3 -0.46375\n",
       "   45     555.503308         3 -0.13375\n",
       "   46     565.001698         3 -0.28375\n",
       "   47     577.002686         3 -0.04375},\n",
       "  'dec': {'int':              time  duration  val\n",
       "   Trial                           \n",
       "   32     399.511608         3    1\n",
       "   33     414.011914         3    1\n",
       "   34     425.012209         3    1\n",
       "   38     474.513539         3    1\n",
       "   39     489.014005         3    1\n",
       "   40     499.514194         3    1\n",
       "   41     512.514536         3    1\n",
       "   42     525.014931         3    1\n",
       "   43     537.015251         3    1\n",
       "   44     548.515542         3    1\n",
       "   45     559.015828         3    1\n",
       "   46     570.016139         3    1,\n",
       "   'land':              time  duration       val\n",
       "   Trial                                \n",
       "   32     399.511608         3  0.106154\n",
       "   33     414.011914         3  0.096154\n",
       "   34     425.012209         3 -0.023846\n",
       "   35            NaN         3  0.016154\n",
       "   36            NaN         3  0.086154\n",
       "   37            NaN         3  0.036154\n",
       "   38     474.513539         3 -0.033846\n",
       "   39     489.014005         3 -0.033846\n",
       "   40     499.514194         3 -0.063846\n",
       "   41     512.514536         3 -0.063846\n",
       "   42     525.014931         3  0.016154\n",
       "   43     537.015251         3 -0.113846\n",
       "   44     548.515542         3 -0.103846\n",
       "   45     559.015828         3  0.006154\n",
       "   46     570.016139         3  0.076154\n",
       "   47            NaN         3 -0.083846,\n",
       "   'mid':              time  duration      val\n",
       "   Trial                               \n",
       "   32     399.511608         3 -0.02375\n",
       "   33     414.011914         3  0.00625\n",
       "   34     425.012209         3  0.12625\n",
       "   35            NaN         3 -0.11375\n",
       "   36            NaN         3 -0.04375\n",
       "   37            NaN         3 -0.09375\n",
       "   38     474.513539         3  0.13625\n",
       "   39     489.014005         3 -0.16375\n",
       "   40     499.514194         3  0.16625\n",
       "   41     512.514536         3 -0.19375\n",
       "   42     525.014931         3  0.08625\n",
       "   43     537.015251         3  0.21625\n",
       "   44     548.515542         3  0.20625\n",
       "   45     559.015828         3 -0.12375\n",
       "   46     570.016139         3  0.02625\n",
       "   47            NaN         3 -0.21375,\n",
       "   'zero':              time  duration      val\n",
       "   Trial                               \n",
       "   32     399.511608         3  0.24625\n",
       "   33     414.011914         3  0.27625\n",
       "   34     425.012209         3 -0.38375\n",
       "   35            NaN         3  0.15625\n",
       "   36            NaN         3 -0.21375\n",
       "   37            NaN         3 -0.16375\n",
       "   38     474.513539         3  0.40625\n",
       "   39     489.014005         3  0.10625\n",
       "   40     499.514194         3 -0.42375\n",
       "   41     512.514536         3  0.07625\n",
       "   42     525.014931         3  0.35625\n",
       "   43     537.015251         3  0.48625\n",
       "   44     548.515542         3 -0.46375\n",
       "   45     559.015828         3 -0.13375\n",
       "   46     570.016139         3 -0.28375\n",
       "   47            NaN         3 -0.04375}},\n",
       " 'con_bad_trials': Empty DataFrame\n",
       " Columns: [time, duration, val]\n",
       " Index: [],\n",
       " 'dec_bad_trials': Empty DataFrame\n",
       " Columns: [time, duration, val]\n",
       " Index: [],\n",
       " 'dec_ctch_onset':              time  duration  val\n",
       " Trial                           \n",
       " 2       24.501665         3    1\n",
       " 3       35.001938         3    1\n",
       " 7       86.003307         3    1\n",
       " 13     160.005155         3    1\n",
       " 18     228.007030         3    1\n",
       " 20     249.507610         3    1\n",
       " 23     284.008392         3    1\n",
       " 26     321.509529         3    1\n",
       " 35     437.012473         3    1\n",
       " 36     450.500441         3    1\n",
       " 37     465.013342         3    1\n",
       " 47     581.016409         3    1}"
      ]
     },
     "execution_count": 46,
     "metadata": {},
     "output_type": "execute_result"
    }
   ],
   "source": [
    "big_dict['s_02009']['run1']"
   ]
  },
  {
   "cell_type": "markdown",
   "metadata": {},
   "source": [
    "## Save Files"
   ]
  },
  {
   "cell_type": "code",
   "execution_count": 83,
   "metadata": {
    "collapsed": false
   },
   "outputs": [
    {
     "name": "stdout",
     "output_type": "stream",
     "text": [
      "s_02001\n",
      "run1\n",
      "Neg\n",
      "Word\n",
      "Pos\n",
      "run2\n",
      "Neg\n",
      "Word\n",
      "Pos\n",
      "run3\n",
      "Neg\n",
      "Word\n",
      "Pos\n",
      "run4\n",
      "Neg\n",
      "Word\n",
      "Pos\n",
      "s_02002\n",
      "run1\n",
      "Neg\n",
      "Word\n",
      "Pos\n",
      "run2\n",
      "Neg\n",
      "Word\n",
      "Pos\n",
      "run3\n",
      "Neg\n",
      "Word\n",
      "Pos\n",
      "run4\n",
      "Neg\n",
      "Word\n",
      "Pos\n",
      "s_02003\n",
      "run1\n",
      "Neg\n",
      "Word\n",
      "Pos\n",
      "run2\n",
      "Neg\n",
      "Word\n",
      "Pos\n",
      "run3\n",
      "Neg\n",
      "Word\n",
      "Pos\n",
      "run4\n",
      "Neg\n",
      "Word\n",
      "Pos\n",
      "s_02004\n",
      "run1\n",
      "Neg\n",
      "Word\n",
      "Pos\n",
      "run2\n",
      "Neg\n",
      "Word\n",
      "Pos\n",
      "run3\n",
      "Neg\n",
      "Word\n",
      "Pos\n",
      "run4\n",
      "Neg\n",
      "Word\n",
      "Pos\n",
      "s_02005\n",
      "run1\n",
      "Neg\n",
      "Word\n",
      "Pos\n",
      "run2\n",
      "Neg\n",
      "Word\n",
      "Pos\n",
      "run3\n",
      "Neg\n",
      "Word\n",
      "Pos\n",
      "run4\n",
      "Neg\n",
      "Word\n",
      "Pos\n",
      "s_02006\n",
      "run1\n",
      "Neg\n",
      "Word\n",
      "Pos\n",
      "run2\n",
      "Neg\n",
      "Word\n",
      "Pos\n",
      "run3\n",
      "Neg\n",
      "Word\n",
      "Pos\n",
      "run4\n",
      "Neg\n",
      "Word\n",
      "Pos\n",
      "s_02007\n",
      "run1\n",
      "Neg\n",
      "Word\n",
      "Pos\n",
      "run2\n",
      "Neg\n",
      "Word\n",
      "Pos\n",
      "run3\n",
      "Neg\n",
      "Word\n",
      "Pos\n",
      "run4\n",
      "Neg\n",
      "Word\n",
      "Pos\n",
      "s_02009\n",
      "run1\n",
      "Neg\n",
      "Word\n",
      "Pos\n",
      "run2\n",
      "Neg\n",
      "Word\n",
      "Pos\n",
      "run3\n",
      "Neg\n",
      "Word\n",
      "Pos\n",
      "run4\n",
      "Neg\n",
      "Word\n",
      "Pos\n",
      "s_02010\n",
      "run1\n",
      "Neg\n",
      "Word\n",
      "Pos\n",
      "run2\n",
      "Neg\n",
      "Word\n",
      "Pos\n",
      "run3\n",
      "Neg\n",
      "Word\n",
      "Pos\n",
      "run4\n",
      "Neg\n",
      "Word\n",
      "Pos\n",
      "s_02011\n",
      "run1\n",
      "Neg\n",
      "Word\n",
      "Pos\n",
      "run2\n",
      "Neg\n",
      "Word\n",
      "Pos\n",
      "run3\n",
      "Neg\n",
      "Word\n",
      "Pos\n",
      "run4\n",
      "Neg\n",
      "Word\n",
      "Pos\n",
      "s_02012\n",
      "run1\n",
      "Neg\n",
      "Word\n",
      "Pos\n",
      "run2\n",
      "Neg\n",
      "Word\n",
      "Pos\n",
      "run3\n",
      "Neg\n",
      "Word\n",
      "Pos\n",
      "run4\n",
      "Neg\n",
      "Word\n",
      "Pos\n",
      "s_02014\n",
      "run1\n",
      "Neg\n",
      "Word\n",
      "Pos\n",
      "run2\n",
      "Neg\n",
      "Word\n",
      "Pos\n",
      "run3\n",
      "Neg\n",
      "Word\n",
      "Pos\n",
      "run4\n",
      "Neg\n",
      "Word\n",
      "Pos\n",
      "s_02015\n",
      "run1\n",
      "Neg\n",
      "Word\n",
      "Pos\n",
      "run2\n",
      "Neg\n",
      "Word\n",
      "Pos\n",
      "run3\n",
      "Neg\n",
      "Word\n",
      "Pos\n",
      "run4\n",
      "Neg\n",
      "Word\n",
      "Pos\n",
      "s_02016\n",
      "run1\n",
      "Neg\n",
      "Word\n",
      "Pos\n",
      "run2\n",
      "Neg\n",
      "Word\n",
      "Pos\n",
      "run3\n",
      "Neg\n",
      "Word\n",
      "Pos\n",
      "run4\n",
      "Neg\n",
      "Word\n",
      "Pos\n",
      "s_02017\n",
      "run1\n",
      "Neg\n",
      "Word\n",
      "Pos\n",
      "run2\n",
      "Neg\n",
      "Word\n",
      "Pos\n",
      "run3\n",
      "Neg\n",
      "Word\n",
      "Pos\n",
      "run4\n",
      "Neg\n",
      "Word\n",
      "Pos\n",
      "s_02018\n",
      "run1\n",
      "Neg\n",
      "Word\n",
      "Pos\n",
      "run2\n",
      "Neg\n",
      "Word\n",
      "Pos\n",
      "run3\n",
      "Neg\n",
      "Word\n",
      "Pos\n",
      "run4\n",
      "Neg\n",
      "Word\n",
      "Pos\n",
      "s_02019\n",
      "run1\n",
      "Neg\n",
      "Word\n",
      "Pos\n",
      "run2\n",
      "Neg\n",
      "Word\n",
      "Pos\n",
      "run3\n",
      "Neg\n",
      "Word\n",
      "Pos\n",
      "run4\n",
      "Neg\n",
      "Word\n",
      "Pos\n",
      "s_02020\n",
      "run1\n",
      "Neg\n",
      "Word\n",
      "Pos\n",
      "run2\n",
      "Neg\n",
      "Word\n",
      "Pos\n",
      "run3\n",
      "Neg\n",
      "Word\n",
      "Pos\n",
      "run4\n",
      "Neg\n",
      "Word\n",
      "Pos\n",
      "s_02021\n",
      "run1\n",
      "Neg\n",
      "Word\n",
      "Pos\n",
      "run2\n",
      "Neg\n",
      "Word\n",
      "Pos\n",
      "run3\n",
      "Neg\n",
      "Word\n",
      "Pos\n",
      "run4\n",
      "Neg\n",
      "Word\n",
      "Pos\n",
      "s_02022\n",
      "run1\n",
      "Neg\n",
      "Word\n",
      "Pos\n",
      "run2\n",
      "Neg\n",
      "Word\n",
      "Pos\n",
      "run3\n",
      "Neg\n",
      "Word\n",
      "Pos\n",
      "run4\n",
      "Neg\n",
      "Word\n",
      "Pos\n",
      "s_02023\n",
      "run1\n",
      "Neg\n",
      "Word\n",
      "Pos\n",
      "run2\n",
      "Neg\n",
      "Word\n",
      "Pos\n",
      "run3\n",
      "Neg\n",
      "Word\n",
      "Pos\n",
      "run4\n",
      "Neg\n",
      "Word\n",
      "Pos\n",
      "s_02024\n",
      "run1\n",
      "Neg\n",
      "Word\n",
      "Pos\n",
      "run2\n",
      "Neg\n",
      "Word\n",
      "Pos\n",
      "run3\n",
      "Neg\n",
      "Word\n",
      "Pos\n",
      "run4\n",
      "Neg\n",
      "Word\n",
      "Pos\n",
      "s_02027\n",
      "run1\n",
      "Neg\n",
      "Word\n",
      "Pos\n",
      "run2\n",
      "Neg\n",
      "Word\n",
      "Pos\n",
      "run3\n",
      "Neg\n",
      "Word\n",
      "Pos\n",
      "run4\n",
      "Neg\n",
      "Word\n",
      "Pos\n"
     ]
    }
   ],
   "source": [
    "tasks = {'Pos': [cons_trial_int, dec_trial_int, cons_land, dec_land, cons_zero, dec_zero, cons_mid,\n",
    "                 dec_mid],\n",
    "         'Neg': [cons_trial_int, dec_trial_int, cons_land, dec_land, cons_zero, dec_zero, cons_mid,\n",
    "                 dec_mid],\n",
    "         'Word': [cons_trial_int, dec_trial_int, cons_land, dec_land, cons_zero, dec_zero, cons_mid,\n",
    "                 dec_mid]}\n",
    "\n",
    "taskname = ['cons_trial_int', 'dec_trial_int', 'cons_land', 'dec_land', 'cons_zero', 'dec_zero', 'cons_mid',\n",
    "            'dec_mid']\n",
    "        \n",
    "runs = ['run1', 'run2', 'run3', 'run4']\n",
    "\n",
    "for s in nline_df.index.levels[0]:\n",
    "    print s\n",
    "    #Laptop\n",
    "    #path = '/Users/frankkanayet/Google Drive/NLineData/Beh_Data/OnsetFiles_LandmarksFull'\n",
    "    #path = '/Users/frankkanayet/Google Drive/NLineData/Beh_Data/OnsetFiles_LandmarksFull/'+s+'/'\n",
    "    #Desktop\n",
    "    path = '/Users/frankanayet/Google Drive/NLineData/Beh_Data/OnsetFiles_LandmarksFull4'\n",
    "    path = '/Users/frankanayet/Google Drive/NLineData/Beh_Data/OnsetFiles_LandmarksFull4/'+s+'/'\n",
    "    os.makedirs(path)\n",
    "    for r in nline_df.index.levels[1]:\n",
    "        print r\n",
    "        dec_ctch_filename = s+'_'+r+'_DEC_CTCH'+'.txt'\n",
    "        dec_ctch_pathfile = path+dec_ctch_filename\n",
    "        dec_ctch_onset[s][r].to_csv(dec_ctch_pathfile, sep='\\t', header=False, index=False)\n",
    "        for task in tasks.keys():\n",
    "            print task\n",
    "            for name in range(0,len(tasks[task])):\n",
    "                filename = s+'_'+task+'_'+r+'_'+taskname[name]+'.txt'\n",
    "                pathfile = path+filename\n",
    "                tasks[task][name][s][r][task].to_csv(pathfile, sep='\\t', header=False, index=False)\n",
    "                \n",
    "            \n",
    "            #dec_small_filename = s+'_'+task+'_'+r+'_'+'DEC_SM'+'.txt'\n",
    "            #cons_small_filename = s+'_'+task+'_'+r+'_'+'CONS_SM'+'.txt'\n",
    "            #dec_large_filename = s+'_'+task+'_'+r+'_'+'DEC_LG'+'.txt'\n",
    "            #cons_large_filename = s+'_'+task+'_'+r+'_'+'CONS_LG'+'.txt'\n",
    "            #dec_int_pathfile = path+dec_int_filename\n",
    "            #cons_int_pathfile = path+cons_int_filename\n",
    "            #dec_small_pathfile = path+dec_small_filename\n",
    "            #cons_small_pathfile = path+cons_small_filename\n",
    "            #dec_large_pathfile = path+dec_large_filename\n",
    "            #cons_large_pathfile = path+cons_large_filename\n",
    "            #tasks[task][0][s][r][task].to_csv(cons_int_pathfile, sep='\\t', header=False, index=False)\n",
    "            #tasks[task][1][s][r][task].to_csv(dec_int_pathfile, sep='\\t', header=False, index=False)\n",
    "            #tasks[task][2][s][r][task].to_csv(cons_small_pathfile, sep='\\t', header=False, index=False)\n",
    "            #tasks[task][3][s][r][task].to_csv(dec_small_pathfile, sep='\\t', header=False, index=False)\n",
    "            #tasks[task][4][s][r][task].to_csv(cons_large_pathfile, sep='\\t', header=False, index=False)\n",
    "            #tasks[task][5][s][r][task].to_csv(dec_large_pathfile, sep='\\t', header=False, index=False)"
   ]
  },
  {
   "cell_type": "code",
   "execution_count": 84,
   "metadata": {
    "collapsed": false
   },
   "outputs": [
    {
     "data": {
      "text/plain": [
       "8"
      ]
     },
     "execution_count": 84,
     "metadata": {},
     "output_type": "execute_result"
    }
   ],
   "source": [
    "len(tasks['Word'])"
   ]
  },
  {
   "cell_type": "code",
   "execution_count": 85,
   "metadata": {
    "collapsed": false
   },
   "outputs": [],
   "source": [
    "#Save Break onset file\n",
    "path = '/Users/frankanayet/Google Drive/NLineData/Beh_Data/OnsetFiles_LandmarksFull4/'\n",
    "#Desktop\n",
    "break_onset = pd.DataFrame.from_items([('time',[190, 388]),('duration',[6,6]),('val',[1,1])])\n",
    "break_filename = 'Break_onsets.txt'\n",
    "break_pathfile = path+break_filename\n",
    "break_onset.to_csv(break_pathfile, sep='\\t', header=False, index=False)"
   ]
  },
  {
   "cell_type": "code",
   "execution_count": null,
   "metadata": {
    "collapsed": true
   },
   "outputs": [],
   "source": []
  }
 ],
 "metadata": {
  "kernelspec": {
   "display_name": "Python 2",
   "language": "python",
   "name": "python2"
  },
  "language_info": {
   "codemirror_mode": {
    "name": "ipython",
    "version": 2
   },
   "file_extension": ".py",
   "mimetype": "text/x-python",
   "name": "python",
   "nbconvert_exporter": "python",
   "pygments_lexer": "ipython2",
   "version": "2.7.11"
  }
 },
 "nbformat": 4,
 "nbformat_minor": 0
}
