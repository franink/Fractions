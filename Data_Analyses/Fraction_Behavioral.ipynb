{
 "metadata": {
  "name": "Fraction_Behavioral"
 },
 "nbformat": 3,
 "nbformat_minor": 0,
 "worksheets": [
  {
   "cells": [
    {
     "cell_type": "code",
     "collapsed": false,
     "input": [
      "#Opened with --pylab flag\n",
      "#Need to create code to analyze piot data\n",
      "import pandas as pd\n",
      "import numpy as np\n",
      "from scipy import io\n",
      "import os\n",
      "import glob"
     ],
     "language": "python",
     "metadata": {},
     "outputs": [],
     "prompt_number": 1
    },
    {
     "cell_type": "code",
     "collapsed": false,
     "input": [
      "filepath = '/Users/frankkanayet/Dropbox/FractionExperiment/Data'\n",
      "os.chdir(filepath)"
     ],
     "language": "python",
     "metadata": {},
     "outputs": [],
     "prompt_number": 2
    },
    {
     "cell_type": "code",
     "collapsed": false,
     "input": [
      "filenames = glob.glob('Frac_*.mat')\n",
      "print filenames\n",
      "#index to isolate subj numbers\n",
      "data_dict = {}\n",
      "for i in filenames:\n",
      "    id1 = filenames[0].find('_') + 1\n",
      "    id2 = filenames[0].find('-')\n",
      "    sub_nbr = i[id1:id2]\n",
      "    sub_name = i\n",
      "    s_id = 's_'+sub_nbr\n",
      "    data_dict[s_id] = io.loadmat(sub_name)\n",
      "\n",
      "#sub_name = filenames[0] #This will be changed to a loop for all subjects later\n",
      "#mat = io.loadmat(sub_name)\n",
      "data_dict.keys()"
     ],
     "language": "python",
     "metadata": {},
     "outputs": [
      {
       "output_type": "stream",
       "stream": "stdout",
       "text": [
        "['Frac_001-Dec1214a.mat', 'Frac_002Dec1214a.mat']\n"
       ]
      },
      {
       "output_type": "pyout",
       "prompt_number": 7,
       "text": [
        "['s_002', 's_001']"
       ]
      }
     ],
     "prompt_number": 7
    },
    {
     "cell_type": "code",
     "collapsed": false,
     "input": [
      "for i in data_dict:\n",
      "    data_dict[i].pop('__header__')\n",
      "    data_dict[i].pop('__version__')\n",
      "    data_dict[i].pop('__globals__')\n",
      "data_dict['s_001'].keys()"
     ],
     "language": "python",
     "metadata": {},
     "outputs": [
      {
       "output_type": "pyout",
       "prompt_number": 8,
       "text": [
        "['p']"
       ]
      }
     ],
     "prompt_number": 8
    },
    {
     "cell_type": "code",
     "collapsed": false,
     "input": [
      "## The indexes of zeros are as follows [0][0][x][y][z][0] The x y z are the 3 dimensions of the data 3d matrix the zeros are padding\n",
      "data_dict['s_001']['p']['sumResults'][0][0][0][5][0][0]\n",
      "len(data_dict['s_001']['p']['sumResults'][0][0][:])"
     ],
     "language": "python",
     "metadata": {},
     "outputs": [
      {
       "output_type": "pyout",
       "prompt_number": 111,
       "text": [
        "81"
       ]
      }
     ],
     "prompt_number": 111
    },
    {
     "cell_type": "code",
     "collapsed": false,
     "input": [
      "data_dict['s_001']['p'].dtype.names"
     ],
     "language": "python",
     "metadata": {},
     "outputs": [
      {
       "output_type": "pyout",
       "prompt_number": 60,
       "text": [
        "('order',\n",
        " 'ramp_up',\n",
        " 'fixation',\n",
        " 'consider',\n",
        " 'decision',\n",
        " 'pct_catch',\n",
        " 'runs',\n",
        " 'nRepeats',\n",
        " 'nStim',\n",
        " 'tasks',\n",
        " 'trialSecs',\n",
        " 'sumResults',\n",
        " 'compResults',\n",
        " 'numlineResults',\n",
        " 'dotsResults',\n",
        " 'time_Runs',\n",
        " 'start_FComp',\n",
        " 'finish_FComp',\n",
        " 'start_Dots',\n",
        " 'finish_Dots',\n",
        " 'start_NLine',\n",
        " 'finish_NLine')"
       ]
      }
     ],
     "prompt_number": 60
    },
    {
     "cell_type": "code",
     "collapsed": false,
     "input": [
      "new_dat = {}\n",
      "new_df = {}\n",
      "for s in data_dict:\n",
      "    tasks = ['sumResults','compResults','numlineResults','dotsResults']\n",
      "    new_dat[s]={}\n",
      "    new_df[s] = {}\n",
      "    for task in tasks:\n",
      "        dat = data_dict[s]['p'][task]\n",
      "        num_fields = len(data_dict['s_001']['p'][task][0][0][0])\n",
      "        dat_names = []\n",
      "        for k in range(0,num_fields):\n",
      "            dat_names.append(dat[0][0][0][k][0][0])\n",
      "        new_dat[s][task] = {}\n",
      "        runs = data_dict[s]['p']['runs'][0][0][0][0]\n",
      "        for run in range(0,runs):\n",
      "            run_name = 'Run_'+str(run)\n",
      "            new_dat[s][task][run_name] = {}\n",
      "            for i in range(0,len(dat_names)):\n",
      "                new_dat[s][task][run_name][dat_names[i]] = []\n",
      "                for j in range(0,len(dat[0][0][:])-1):\n",
      "                    new_dat[s][task][run_name][dat_names[i]].append(dat[0][0][j+1][i][run][0])\n",
      "            #run_df[run_name] = pd.DataFrame(new_dat[s][task][run_name]\n",
      "        new_df[s][task] = pd.DataFrame(new_dat[s][task])\n",
      "#legible access to the data\n",
      "Sum = 'sumResults' #Match task\n",
      "Comp = 'compResults' #Fraction comparison\n",
      "Nline = 'numlineResults' #numberline\n",
      "Dots = 'dotsResults'"
     ],
     "language": "python",
     "metadata": {},
     "outputs": [],
     "prompt_number": 207
    },
    {
     "cell_type": "code",
     "collapsed": false,
     "input": [
      "new_dat['s_001'].keys()"
     ],
     "language": "python",
     "metadata": {},
     "outputs": [
      {
       "output_type": "pyout",
       "prompt_number": 208,
       "text": [
        "['sumResults', 'numlineResults', 'compResults', 'dotsResults']"
       ]
      }
     ],
     "prompt_number": 208
    },
    {
     "cell_type": "code",
     "collapsed": false,
     "input": [
      "new_dat['s_001']['sumResults'].keys()"
     ],
     "language": "python",
     "metadata": {},
     "outputs": [
      {
       "output_type": "pyout",
       "prompt_number": 209,
       "text": [
        "['Run_1', 'Run_0']"
       ]
      }
     ],
     "prompt_number": 209
    },
    {
     "cell_type": "code",
     "collapsed": false,
     "input": [
      "new_dat['s_001']['sumResults']['Run_0'].keys()"
     ],
     "language": "python",
     "metadata": {},
     "outputs": [
      {
       "output_type": "pyout",
       "prompt_number": 210,
       "text": [
        "[u'RT',\n",
        " u'Acc',\n",
        " u'decision_end',\n",
        " u'cons_onset',\n",
        " u'decision_onset_real',\n",
        " u'fix_onset',\n",
        " u'Points',\n",
        " u'cons_onset_real',\n",
        " u'Sum_Fraction',\n",
        " u'Response',\n",
        " u'Trial',\n",
        " u'Sum_Probe',\n",
        " u'decision_onset',\n",
        " u'Value',\n",
        " u'Denom',\n",
        " u'catch',\n",
        " u'Num',\n",
        " u'Correct',\n",
        " u'Block',\n",
        " u'fix_onset_real']"
       ]
      }
     ],
     "prompt_number": 210
    },
    {
     "cell_type": "code",
     "collapsed": false,
     "input": [
      "new_df['s_001'][Sum]"
     ],
     "language": "python",
     "metadata": {},
     "outputs": [
      {
       "html": [
        "<div style=\"max-height:1000px;max-width:1500px;overflow:auto;\">\n",
        "<table border=\"1\" class=\"dataframe\">\n",
        "  <thead>\n",
        "    <tr style=\"text-align: right;\">\n",
        "      <th></th>\n",
        "      <th>Run_0</th>\n",
        "      <th>Run_1</th>\n",
        "    </tr>\n",
        "  </thead>\n",
        "  <tbody>\n",
        "    <tr>\n",
        "      <th>Acc</th>\n",
        "      <td> [[1], [-1], [0], [-1], [-1], [1], [-1], [-1], ...</td>\n",
        "      <td> [[-1], [-1], [-1], [-1], [1], [-1], [-1], [1],...</td>\n",
        "    </tr>\n",
        "    <tr>\n",
        "      <th>Block</th>\n",
        "      <td> [[1], [1], [1], [1], [1], [1], [1], [1], [1], ...</td>\n",
        "      <td> [[1], [1], [1], [1], [1], [1], [1], [1], [1], ...</td>\n",
        "    </tr>\n",
        "    <tr>\n",
        "      <th>Correct</th>\n",
        "      <td> [[1], [-1], [1], [-1], [-1], [0], [-1], [-1], ...</td>\n",
        "      <td> [[-1], [-1], [-1], [-1], [1], [-1], [-1], [0],...</td>\n",
        "    </tr>\n",
        "    <tr>\n",
        "      <th>Denom</th>\n",
        "      <td> [[24], [21], [8], [3], [16], [6], [22], [21], ...</td>\n",
        "      <td> [[22], [8], [12], [24], [7], [6], [27], [7], [...</td>\n",
        "    </tr>\n",
        "    <tr>\n",
        "      <th>Num</th>\n",
        "      <td> [[6], [5], [7], [2], [4], [2], [12], [15], [5]...</td>\n",
        "      <td> [[12], [7], [5], [6], [5], [2], [9], [6], [15]...</td>\n",
        "    </tr>\n",
        "    <tr>\n",
        "      <th>Points</th>\n",
        "      <td> [[1], [1], [1], [1], [1], [2], [2], [2], [2], ...</td>\n",
        "      <td> [[0], [0], [0], [0], [1], [1], [1], [2], [2], ...</td>\n",
        "    </tr>\n",
        "    <tr>\n",
        "      <th>RT</th>\n",
        "      <td> [[0.784698284999], [-1], [1.019340944], [-1], ...</td>\n",
        "      <td> [[-1], [-1], [-1], [-1], [0.999126235998], [-1...</td>\n",
        "    </tr>\n",
        "    <tr>\n",
        "      <th>Response</th>\n",
        "      <td> [[3], [-1], [4], [-1], [-1], [4], [-1], [-1], ...</td>\n",
        "      <td> [[-1], [-1], [-1], [-1], [3], [-1], [-1], [4],...</td>\n",
        "    </tr>\n",
        "    <tr>\n",
        "      <th>Sum_Fraction</th>\n",
        "      <td> [[30], [-1], [15], [-1], [-1], [8], [-1], [-1]...</td>\n",
        "      <td> [[-1], [-1], [-1], [-1], [12], [-1], [-1], [13...</td>\n",
        "    </tr>\n",
        "    <tr>\n",
        "      <th>Sum_Probe</th>\n",
        "      <td> [[33], [-1], [17], [-1], [-1], [4], [-1], [-1]...</td>\n",
        "      <td> [[-1], [-1], [-1], [-1], [22], [-1], [-1], [12...</td>\n",
        "    </tr>\n",
        "    <tr>\n",
        "      <th>Trial</th>\n",
        "      <td> [[1], [2], [3], [4], [5], [6], [7], [8], [9], ...</td>\n",
        "      <td> [[1], [2], [3], [4], [5], [6], [7], [8], [9], ...</td>\n",
        "    </tr>\n",
        "    <tr>\n",
        "      <th>Value</th>\n",
        "      <td> [[0.25], [0.238095238095], [0.875], [0.6666666...</td>\n",
        "      <td> [[0.545454545455], [0.875], [0.416666666667], ...</td>\n",
        "    </tr>\n",
        "    <tr>\n",
        "      <th>catch</th>\n",
        "      <td> [[1], [0], [1], [0], [0], [1], [0], [0], [0], ...</td>\n",
        "      <td> [[0], [0], [0], [0], [1], [0], [0], [1], [0], ...</td>\n",
        "    </tr>\n",
        "    <tr>\n",
        "      <th>cons_onset</th>\n",
        "      <td> [[11], [18.5], [23.5], [31], [36], [41], [48.5...</td>\n",
        "      <td> [[11], [16], [21], [26], [31], [38.5], [43.5],...</td>\n",
        "    </tr>\n",
        "    <tr>\n",
        "      <th>cons_onset_real</th>\n",
        "      <td> [[11.003805033], [18.502549826], [23.501230924...</td>\n",
        "      <td> [[11.001731413], [16.002399165], [21.005253467...</td>\n",
        "    </tr>\n",
        "    <tr>\n",
        "      <th>decision_end</th>\n",
        "      <td> [[15.5], [20.5], [28], [33], [38], [45.5], [50...</td>\n",
        "      <td> [[13], [18], [23], [28], [35.5], [40.5], [45.5...</td>\n",
        "    </tr>\n",
        "    <tr>\n",
        "      <th>decision_onset</th>\n",
        "      <td> [[13], [20.5], [25.5], [33], [38], [43], [50.5...</td>\n",
        "      <td> [[13], [18], [23], [28], [33], [40.5], [45.5],...</td>\n",
        "    </tr>\n",
        "    <tr>\n",
        "      <th>decision_onset_real</th>\n",
        "      <td> [[13.001899524], [20.503325329], [25.501039228...</td>\n",
        "      <td> [[13.001501618], [18.001063326], [23.001549932...</td>\n",
        "    </tr>\n",
        "    <tr>\n",
        "      <th>fix_onset</th>\n",
        "      <td> [[8], [15.5], [20.5], [28], [33], [38], [45.5]...</td>\n",
        "      <td> [[8], [13], [18], [23], [28], [35.5], [40.5], ...</td>\n",
        "    </tr>\n",
        "    <tr>\n",
        "      <th>fix_onset_real</th>\n",
        "      <td> [[0.0231706680006], [15.590285642], [20.523741...</td>\n",
        "      <td> [[0.0201038529995], [13.020467422], [18.020586...</td>\n",
        "    </tr>\n",
        "  </tbody>\n",
        "</table>\n",
        "</div>"
       ],
       "output_type": "pyout",
       "prompt_number": 211,
       "text": [
        "                                                                 Run_0  \\\n",
        "Acc                  [[1], [-1], [0], [-1], [-1], [1], [-1], [-1], ...   \n",
        "Block                [[1], [1], [1], [1], [1], [1], [1], [1], [1], ...   \n",
        "Correct              [[1], [-1], [1], [-1], [-1], [0], [-1], [-1], ...   \n",
        "Denom                [[24], [21], [8], [3], [16], [6], [22], [21], ...   \n",
        "Num                  [[6], [5], [7], [2], [4], [2], [12], [15], [5]...   \n",
        "Points               [[1], [1], [1], [1], [1], [2], [2], [2], [2], ...   \n",
        "RT                   [[0.784698284999], [-1], [1.019340944], [-1], ...   \n",
        "Response             [[3], [-1], [4], [-1], [-1], [4], [-1], [-1], ...   \n",
        "Sum_Fraction         [[30], [-1], [15], [-1], [-1], [8], [-1], [-1]...   \n",
        "Sum_Probe            [[33], [-1], [17], [-1], [-1], [4], [-1], [-1]...   \n",
        "Trial                [[1], [2], [3], [4], [5], [6], [7], [8], [9], ...   \n",
        "Value                [[0.25], [0.238095238095], [0.875], [0.6666666...   \n",
        "catch                [[1], [0], [1], [0], [0], [1], [0], [0], [0], ...   \n",
        "cons_onset           [[11], [18.5], [23.5], [31], [36], [41], [48.5...   \n",
        "cons_onset_real      [[11.003805033], [18.502549826], [23.501230924...   \n",
        "decision_end         [[15.5], [20.5], [28], [33], [38], [45.5], [50...   \n",
        "decision_onset       [[13], [20.5], [25.5], [33], [38], [43], [50.5...   \n",
        "decision_onset_real  [[13.001899524], [20.503325329], [25.501039228...   \n",
        "fix_onset            [[8], [15.5], [20.5], [28], [33], [38], [45.5]...   \n",
        "fix_onset_real       [[0.0231706680006], [15.590285642], [20.523741...   \n",
        "\n",
        "                                                                 Run_1  \n",
        "Acc                  [[-1], [-1], [-1], [-1], [1], [-1], [-1], [1],...  \n",
        "Block                [[1], [1], [1], [1], [1], [1], [1], [1], [1], ...  \n",
        "Correct              [[-1], [-1], [-1], [-1], [1], [-1], [-1], [0],...  \n",
        "Denom                [[22], [8], [12], [24], [7], [6], [27], [7], [...  \n",
        "Num                  [[12], [7], [5], [6], [5], [2], [9], [6], [15]...  \n",
        "Points               [[0], [0], [0], [0], [1], [1], [1], [2], [2], ...  \n",
        "RT                   [[-1], [-1], [-1], [-1], [0.999126235998], [-1...  \n",
        "Response             [[-1], [-1], [-1], [-1], [3], [-1], [-1], [4],...  \n",
        "Sum_Fraction         [[-1], [-1], [-1], [-1], [12], [-1], [-1], [13...  \n",
        "Sum_Probe            [[-1], [-1], [-1], [-1], [22], [-1], [-1], [12...  \n",
        "Trial                [[1], [2], [3], [4], [5], [6], [7], [8], [9], ...  \n",
        "Value                [[0.545454545455], [0.875], [0.416666666667], ...  \n",
        "catch                [[0], [0], [0], [0], [1], [0], [0], [1], [0], ...  \n",
        "cons_onset           [[11], [16], [21], [26], [31], [38.5], [43.5],...  \n",
        "cons_onset_real      [[11.001731413], [16.002399165], [21.005253467...  \n",
        "decision_end         [[13], [18], [23], [28], [35.5], [40.5], [45.5...  \n",
        "decision_onset       [[13], [18], [23], [28], [33], [40.5], [45.5],...  \n",
        "decision_onset_real  [[13.001501618], [18.001063326], [23.001549932...  \n",
        "fix_onset            [[8], [13], [18], [23], [28], [35.5], [40.5], ...  \n",
        "fix_onset_real       [[0.0201038529995], [13.020467422], [18.020586...  "
       ]
      }
     ],
     "prompt_number": 211
    },
    {
     "cell_type": "code",
     "collapsed": false,
     "input": [
      "sub_list = new_df.keys()\n",
      "task_list = new_df[sub_list[0]].keys()\n",
      "sub_list"
     ],
     "language": "python",
     "metadata": {},
     "outputs": [
      {
       "output_type": "pyout",
       "prompt_number": 212,
       "text": [
        "['s_002', 's_001']"
       ]
      }
     ],
     "prompt_number": 212
    },
    {
     "cell_type": "code",
     "collapsed": false,
     "input": [
      "task_list"
     ],
     "language": "python",
     "metadata": {},
     "outputs": [
      {
       "output_type": "pyout",
       "prompt_number": 213,
       "text": [
        "['sumResults', 'numlineResults', 'compResults', 'dotsResults']"
       ]
      }
     ],
     "prompt_number": 213
    },
    {
     "cell_type": "code",
     "collapsed": false,
     "input": [
      "new_df[sub_list[0]][task_list[0]]"
     ],
     "language": "python",
     "metadata": {},
     "outputs": [
      {
       "html": [
        "<div style=\"max-height:1000px;max-width:1500px;overflow:auto;\">\n",
        "<table border=\"1\" class=\"dataframe\">\n",
        "  <thead>\n",
        "    <tr style=\"text-align: right;\">\n",
        "      <th></th>\n",
        "      <th>Run_0</th>\n",
        "      <th>Run_1</th>\n",
        "    </tr>\n",
        "  </thead>\n",
        "  <tbody>\n",
        "    <tr>\n",
        "      <th>Acc</th>\n",
        "      <td> [[1], [-1], [-1], [1], [1], [-1], [-1], [1], [...</td>\n",
        "      <td> [[-1], [1], [-1], [-1], [1], [-1], [-1], [1], ...</td>\n",
        "    </tr>\n",
        "    <tr>\n",
        "      <th>Block</th>\n",
        "      <td> [[1], [1], [1], [1], [1], [1], [1], [1], [1], ...</td>\n",
        "      <td> [[6], [6], [6], [6], [6], [6], [6], [6], [6], ...</td>\n",
        "    </tr>\n",
        "    <tr>\n",
        "      <th>Correct</th>\n",
        "      <td> [[1], [-1], [-1], [0], [0], [-1], [-1], [0], [...</td>\n",
        "      <td> [[-1], [1], [-1], [-1], [0], [-1], [-1], [0], ...</td>\n",
        "    </tr>\n",
        "    <tr>\n",
        "      <th>Denom</th>\n",
        "      <td> [[16], [27], [7], [22], [9], [12], [24], [6], ...</td>\n",
        "      <td> [[12], [21], [21], [16], [22], [8], [9], [3], ...</td>\n",
        "    </tr>\n",
        "    <tr>\n",
        "      <th>Num</th>\n",
        "      <td> [[4], [9], [6], [12], [6], [5], [6], [1], [15]...</td>\n",
        "      <td> [[5], [15], [5], [4], [12], [7], [6], [2], [6]...</td>\n",
        "    </tr>\n",
        "    <tr>\n",
        "      <th>Points</th>\n",
        "      <td> [[34], [34], [34], [35], [36], [36], [36], [37...</td>\n",
        "      <td> [[65], [66], [66], [66], [67], [67], [67], [68...</td>\n",
        "    </tr>\n",
        "    <tr>\n",
        "      <th>RT</th>\n",
        "      <td> [[1.821799259], [-1], [-1], [0.950531939001], ...</td>\n",
        "      <td> [[-1], [0.786998332998], [-1], [-1], [1.096676...</td>\n",
        "    </tr>\n",
        "    <tr>\n",
        "      <th>Response</th>\n",
        "      <td> [[3], [-1], [-1], [4], [4], [-1], [-1], [4], [...</td>\n",
        "      <td> [[-1], [3], [-1], [-1], [4], [-1], [-1], [4], ...</td>\n",
        "    </tr>\n",
        "    <tr>\n",
        "      <th>Sum_Fraction</th>\n",
        "      <td> [[20], [-1], [-1], [34], [15], [-1], [-1], [7]...</td>\n",
        "      <td> [[-1], [36], [-1], [-1], [34], [-1], [-1], [5]...</td>\n",
        "    </tr>\n",
        "    <tr>\n",
        "      <th>Sum_Probe</th>\n",
        "      <td> [[21], [-1], [-1], [24], [5], [-1], [-1], [5],...</td>\n",
        "      <td> [[-1], [46], [-1], [-1], [32], [-1], [-1], [3]...</td>\n",
        "    </tr>\n",
        "    <tr>\n",
        "      <th>Trial</th>\n",
        "      <td> [[1], [2], [3], [4], [5], [6], [7], [8], [9], ...</td>\n",
        "      <td> [[81], [82], [83], [84], [85], [86], [87], [88...</td>\n",
        "    </tr>\n",
        "    <tr>\n",
        "      <th>Value</th>\n",
        "      <td> [[0.25], [0.333333333333], [0.857142857143], [...</td>\n",
        "      <td> [[0.416666666667], [0.714285714286], [0.238095...</td>\n",
        "    </tr>\n",
        "    <tr>\n",
        "      <th>catch</th>\n",
        "      <td> [[1], [0], [0], [1], [1], [0], [0], [1], [1], ...</td>\n",
        "      <td> [[0], [1], [0], [0], [1], [0], [0], [1], [0], ...</td>\n",
        "    </tr>\n",
        "    <tr>\n",
        "      <th>cons_onset</th>\n",
        "      <td> [[11], [18.5], [23.5], [28.5], [36], [43.5], [...</td>\n",
        "      <td> [[11], [16], [23.5], [28.5], [33.5], [41], [46...</td>\n",
        "    </tr>\n",
        "    <tr>\n",
        "      <th>cons_onset_real</th>\n",
        "      <td> [[11.001551645], [18.502839073], [23.503280425...</td>\n",
        "      <td> [[11.003104084], [16.002240573], [23.501909492...</td>\n",
        "    </tr>\n",
        "    <tr>\n",
        "      <th>decision_end</th>\n",
        "      <td> [[15.5], [20.5], [25.5], [33], [40.5], [45.5],...</td>\n",
        "      <td> [[13], [20.5], [25.5], [30.5], [38], [43], [48...</td>\n",
        "    </tr>\n",
        "    <tr>\n",
        "      <th>decision_onset</th>\n",
        "      <td> [[13], [20.5], [25.5], [30.5], [38], [45.5], [...</td>\n",
        "      <td> [[13], [18], [25.5], [30.5], [35.5], [43], [48...</td>\n",
        "    </tr>\n",
        "    <tr>\n",
        "      <th>decision_onset_real</th>\n",
        "      <td> [[13.002681582], [20.502467511], [25.501897746...</td>\n",
        "      <td> [[13.002523061], [18.001438706], [25.501766002...</td>\n",
        "    </tr>\n",
        "    <tr>\n",
        "      <th>fix_onset</th>\n",
        "      <td> [[8], [15.5], [20.5], [25.5], [33], [40.5], [4...</td>\n",
        "      <td> [[8], [13], [20.5], [25.5], [30.5], [38], [43]...</td>\n",
        "    </tr>\n",
        "    <tr>\n",
        "      <th>fix_onset_real</th>\n",
        "      <td> [[0.0107601929994], [15.544509973], [20.511399...</td>\n",
        "      <td> [[0.0169010620011], [13.017189657], [20.550719...</td>\n",
        "    </tr>\n",
        "  </tbody>\n",
        "</table>\n",
        "</div>"
       ],
       "output_type": "pyout",
       "prompt_number": 214,
       "text": [
        "                                                                 Run_0  \\\n",
        "Acc                  [[1], [-1], [-1], [1], [1], [-1], [-1], [1], [...   \n",
        "Block                [[1], [1], [1], [1], [1], [1], [1], [1], [1], ...   \n",
        "Correct              [[1], [-1], [-1], [0], [0], [-1], [-1], [0], [...   \n",
        "Denom                [[16], [27], [7], [22], [9], [12], [24], [6], ...   \n",
        "Num                  [[4], [9], [6], [12], [6], [5], [6], [1], [15]...   \n",
        "Points               [[34], [34], [34], [35], [36], [36], [36], [37...   \n",
        "RT                   [[1.821799259], [-1], [-1], [0.950531939001], ...   \n",
        "Response             [[3], [-1], [-1], [4], [4], [-1], [-1], [4], [...   \n",
        "Sum_Fraction         [[20], [-1], [-1], [34], [15], [-1], [-1], [7]...   \n",
        "Sum_Probe            [[21], [-1], [-1], [24], [5], [-1], [-1], [5],...   \n",
        "Trial                [[1], [2], [3], [4], [5], [6], [7], [8], [9], ...   \n",
        "Value                [[0.25], [0.333333333333], [0.857142857143], [...   \n",
        "catch                [[1], [0], [0], [1], [1], [0], [0], [1], [1], ...   \n",
        "cons_onset           [[11], [18.5], [23.5], [28.5], [36], [43.5], [...   \n",
        "cons_onset_real      [[11.001551645], [18.502839073], [23.503280425...   \n",
        "decision_end         [[15.5], [20.5], [25.5], [33], [40.5], [45.5],...   \n",
        "decision_onset       [[13], [20.5], [25.5], [30.5], [38], [45.5], [...   \n",
        "decision_onset_real  [[13.002681582], [20.502467511], [25.501897746...   \n",
        "fix_onset            [[8], [15.5], [20.5], [25.5], [33], [40.5], [4...   \n",
        "fix_onset_real       [[0.0107601929994], [15.544509973], [20.511399...   \n",
        "\n",
        "                                                                 Run_1  \n",
        "Acc                  [[-1], [1], [-1], [-1], [1], [-1], [-1], [1], ...  \n",
        "Block                [[6], [6], [6], [6], [6], [6], [6], [6], [6], ...  \n",
        "Correct              [[-1], [1], [-1], [-1], [0], [-1], [-1], [0], ...  \n",
        "Denom                [[12], [21], [21], [16], [22], [8], [9], [3], ...  \n",
        "Num                  [[5], [15], [5], [4], [12], [7], [6], [2], [6]...  \n",
        "Points               [[65], [66], [66], [66], [67], [67], [67], [68...  \n",
        "RT                   [[-1], [0.786998332998], [-1], [-1], [1.096676...  \n",
        "Response             [[-1], [3], [-1], [-1], [4], [-1], [-1], [4], ...  \n",
        "Sum_Fraction         [[-1], [36], [-1], [-1], [34], [-1], [-1], [5]...  \n",
        "Sum_Probe            [[-1], [46], [-1], [-1], [32], [-1], [-1], [3]...  \n",
        "Trial                [[81], [82], [83], [84], [85], [86], [87], [88...  \n",
        "Value                [[0.416666666667], [0.714285714286], [0.238095...  \n",
        "catch                [[0], [1], [0], [0], [1], [0], [0], [1], [0], ...  \n",
        "cons_onset           [[11], [16], [23.5], [28.5], [33.5], [41], [46...  \n",
        "cons_onset_real      [[11.003104084], [16.002240573], [23.501909492...  \n",
        "decision_end         [[13], [20.5], [25.5], [30.5], [38], [43], [48...  \n",
        "decision_onset       [[13], [18], [25.5], [30.5], [35.5], [43], [48...  \n",
        "decision_onset_real  [[13.002523061], [18.001438706], [25.501766002...  \n",
        "fix_onset            [[8], [13], [20.5], [25.5], [30.5], [38], [43]...  \n",
        "fix_onset_real       [[0.0169010620011], [13.017189657], [20.550719...  "
       ]
      }
     ],
     "prompt_number": 214
    },
    {
     "cell_type": "heading",
     "level": 1,
     "metadata": {},
     "source": [
      "Number Line Analyses"
     ]
    },
    {
     "cell_type": "heading",
     "level": 2,
     "metadata": {},
     "source": [
      "RT Histogram"
     ]
    },
    {
     "cell_type": "markdown",
     "metadata": {},
     "source": [
      "Need to figure out how to use pandas DataFrame to select the data I need for analysis and plotting.\n",
      "One idea is to add data from run_0 and run_1 in one long vector but add a variable called 'run' that labels each row as run_0 or run _1"
     ]
    },
    {
     "cell_type": "code",
     "collapsed": false,
     "input": [
      "# Plot RT histograms for numberline task\n",
      "for s in sub_list:\n",
      "    plot_data = new_df[s][task_list[1]]['Run_0']['RT']\n",
      "    plot_data = plot_data[plot_data > -1] # Get rid of trials without responses\n",
      "    tit = 'Numberline_RT '+s\n",
      "    fname = tit+'.png'\n",
      "    hist(plot_data,25)\n",
      "    pylab.title(tit, y = 1.04)\n",
      "    pylab.xlabel('Seconds', labelpad = 18)\n",
      "    pylab.ylabel('Frequency', labelpad = 18)\n",
      "    pylab.savefig(fname)"
     ],
     "language": "python",
     "metadata": {},
     "outputs": [
      {
       "output_type": "display_data",
       "png": "[encoded data removed]"
      }
     ],
     "prompt_number": 168
    },
    {
     "cell_type": "heading",
     "level": 2,
     "metadata": {},
     "source": [
      "RT Vs. Error"
     ]
    },
    {
     "cell_type": "code",
     "collapsed": false,
     "input": [
      "# Plot RT vs Error for Numberline\n",
      "for s in sub_list:\n",
      "    plot_datax = new_df[s][task_list[1]]['RT']\n",
      "    plot_datax = plot_datax[plot_datax > -1] # Get rid of trials without responses\n",
      "    plot_datay = new_df[s][task_list[1]]['Error']\n",
      "    plot_datay = abs(plot_datay[plot_datay > -2]) # Get rid of trials without responses\n",
      "    tit = 'Numberline_RT Vs. Error '+s\n",
      "    fname = tit+'.png'\n",
      "    print len(plot_datax)\n",
      "    print len(plot_datay)\n",
      "    plot(plot_datax, plot_datay, ls = 'None', marker = 'o')\n",
      "    pylab.title(tit, y = 1.04)\n",
      "    pylab.xlabel('Seconds', labelpad = 18)\n",
      "    pylab.ylabel('Absolute Error', labelpad = 18)\n",
      "    pylab.savefig(fname)\n",
      "    pylab.close()"
     ],
     "language": "python",
     "metadata": {},
     "outputs": [],
     "prompt_number": 28
    },
    {
     "cell_type": "heading",
     "level": 2,
     "metadata": {},
     "source": [
      "Value Vs Error"
     ]
    },
    {
     "cell_type": "code",
     "collapsed": false,
     "input": [
      "# Plot Value vs Error for Numberline\n",
      "for s in sub_list:\n",
      "    plot_datax = new_df[s][task_list[1]]['Correct']\n",
      "    plot_datay = new_df[s][task_list[1]]['Error']\n",
      "    plot_datax = plot_datax[plot_datay > -2] # Get rid of trials without responses\n",
      "    plot_datay = abs(plot_datay[plot_datay > -2]) # Get rid of trials without responses\n",
      "    tit = 'Numberline_Value Vs. Error '+s\n",
      "    fname = tit+'.png'\n",
      "    plot(plot_datax, plot_datay, ls = 'None', marker = 'o')\n",
      "    pylab.title(tit, y = 1.04)\n",
      "    pylab.xlabel('Fraction Magnitude', labelpad = 18)\n",
      "    pylab.ylabel('Absolute Error', labelpad = 18)\n",
      "    pylab.savefig(fname)\n",
      "    pylab.close()"
     ],
     "language": "python",
     "metadata": {},
     "outputs": [],
     "prompt_number": 33
    },
    {
     "cell_type": "heading",
     "level": 2,
     "metadata": {},
     "source": [
      "Value Vs. RT"
     ]
    },
    {
     "cell_type": "code",
     "collapsed": false,
     "input": [
      "# Plot Value vs RT for Numberline\n",
      "for s in sub_list:\n",
      "    plot_datax = new_df[s][task_list[1]]['Correct']\n",
      "    plot_datay = new_df[s][task_list[1]]['RT']\n",
      "    plot_datax = plot_datax[plot_datay > -1] # Get rid of trials without responses\n",
      "    plot_datay = abs(plot_datay[plot_datay > -1]) # Get rid of trials without responses\n",
      "    tit = 'Numberline_Value Vs. RT '+s\n",
      "    fname = tit+'.png'\n",
      "    plot(plot_datax, plot_datay, ls = 'None', marker = 'o')\n",
      "    pylab.title(tit, y = 1.04)\n",
      "    pylab.xlabel('Fraction Magnitude', labelpad = 18)\n",
      "    pylab.ylabel('RT', labelpad = 18)\n",
      "    pylab.savefig(fname)\n",
      "    pylab.close()"
     ],
     "language": "python",
     "metadata": {},
     "outputs": [],
     "prompt_number": 34
    },
    {
     "cell_type": "heading",
     "level": 2,
     "metadata": {},
     "source": [
      "Summary Data"
     ]
    },
    {
     "cell_type": "code",
     "collapsed": false,
     "input": [
      "#How many missing trials?\n",
      "# Mean error\n",
      "# Mean RT\n",
      "# Median RT\n",
      "import csv\n",
      "res_d = {}\n",
      "for s in sub_list:\n",
      "    tit = s\n",
      "    miss_data = new_df[s][task_list[1]]['RT']\n",
      "    miss_data = miss_data[miss_data < 0]\n",
      "    RT_data = new_df[s][task_list[1]]['RT']\n",
      "    RT_data = RT_data[RT_data > 0]\n",
      "    Err_data = new_df[s][task_list[1]]['Error']\n",
      "    Err_data = Err_data[Err_data > -2]\n",
      "    rmse = np.sqrt(np.sum(Err_data**2)/len(Err_data))\n",
      "    mean_RT = np.mean(RT_data)\n",
      "    median_RT = np.median(RT_data)\n",
      "    res_d[s] = [len(miss_data)] # how many missing?\n",
      "    res_d[s].append(rmse)\n",
      "    res_d[s].append(mean_RT)\n",
      "    res_d[s].append(median_RT)\n",
      "out_df = pd.DataFrame(res_d, index = ['Missing', 'RMSE', 'Mean_RT', 'Median_RT'])\n",
      "out_df.to_csv('Nline_results.csv')\n"
     ],
     "language": "python",
     "metadata": {},
     "outputs": [],
     "prompt_number": 124
    },
    {
     "cell_type": "heading",
     "level": 1,
     "metadata": {},
     "source": [
      "Fraction Comparison Code"
     ]
    },
    {
     "cell_type": "heading",
     "level": 2,
     "metadata": {},
     "source": [
      "RT Histograms"
     ]
    },
    {
     "cell_type": "code",
     "collapsed": false,
     "input": [
      "# Plot RT histograms for fraction comparison task\n",
      "# Need to include in test to account for subj that did not perform this task\n",
      "for s in sub_list:\n",
      "    test = task_list[2] in new_df[s]\n",
      "    if test == False:\n",
      "        continue\n",
      "    plot_data = new_df[s][task_list[2]]['RT']\n",
      "    plot_data = plot_data[plot_data > -1] # Get rid of trials without responses\n",
      "    tit = 'Fraction Comparison_RT '+s\n",
      "    fname = tit+'.png'\n",
      "    hist(plot_data,40)\n",
      "    pylab.title(tit, y = 1.04)\n",
      "    pylab.xlabel('Seconds', labelpad = 18)\n",
      "    pylab.ylabel('Frequency', labelpad = 18)\n",
      "    pylab.savefig(fname)\n",
      "    pylab.close()"
     ],
     "language": "python",
     "metadata": {},
     "outputs": [],
     "prompt_number": 104
    },
    {
     "cell_type": "heading",
     "level": 2,
     "metadata": {},
     "source": [
      "RT Vs. Accuracy"
     ]
    },
    {
     "cell_type": "code",
     "collapsed": false,
     "input": [
      "# Plot RT vs Accuracy for Fraction Comparison\n",
      "# Need to include in test to account for subj that did not perform this task\n",
      "for s in sub_list:\n",
      "    test = task_list[2] in new_df[s]\n",
      "    if test == False:\n",
      "        continue\n",
      "    plot_datax = new_df[s][task_list[2]]['RT']\n",
      "    plot_datax = plot_datax[plot_datax > -1] # Get rid of trials without responses\n",
      "    plot_datay = new_df[s][task_list[2]]['Acc']\n",
      "    plot_datay = abs(plot_datay[plot_datay > -2]) # Get rid of trials without responses\n",
      "    tit = 'Fraction Comprison_RT Vs. Accuracy '+s\n",
      "    fname = tit+'.png'\n",
      "    plot(plot_datay, plot_datax, ls = 'None', marker = 'o')\n",
      "    pylab.title(tit, y = 1.04)\n",
      "    pylab.xlabel('Accuracy', labelpad = 18)\n",
      "    pylab.ylabel('RT', labelpad = 18)\n",
      "    pylab.xlim(-1,2)\n",
      "    pylab.xticks([0,1])\n",
      "    pylab.savefig(fname)\n",
      "    pylab.close()"
     ],
     "language": "python",
     "metadata": {},
     "outputs": [],
     "prompt_number": 112
    },
    {
     "cell_type": "heading",
     "level": 2,
     "metadata": {},
     "source": [
      "Value Vs. RT"
     ]
    },
    {
     "cell_type": "code",
     "collapsed": false,
     "input": [
      "# Plot Value vs RT for Fraction Comparison\n",
      "# Need to include in test to account for subj that did not perform this task\n",
      "for s in sub_list:\n",
      "    test = task_list[2] in new_df[s]\n",
      "    if test == False:\n",
      "        continue\n",
      "    plot_datax = new_df[s][task_list[2]]['Value']\n",
      "    plot_datay = new_df[s][task_list[2]]['RT']\n",
      "    plot_datax = plot_datax[plot_datay > -1] # Get rid of trials without responses\n",
      "    plot_datay = plot_datay[plot_datay > -1] # Get rid of trials without responses\n",
      "    tit = 'Fraction Comprison_Value Vs. RT '+s\n",
      "    fname = tit+'.png'\n",
      "    plot(plot_datax, plot_datay, ls = 'None', marker = 'o')\n",
      "    pylab.title(tit, y = 1.04)\n",
      "    pylab.xlabel('Magnitude', labelpad = 18)\n",
      "    pylab.ylabel('RT', labelpad = 18)\n",
      "    #pylab.xlim(-1,2)\n",
      "    #pylab.xticks([0,1])\n",
      "    pylab.savefig(fname)\n",
      "    pylab.close()"
     ],
     "language": "python",
     "metadata": {},
     "outputs": [],
     "prompt_number": 119
    },
    {
     "cell_type": "heading",
     "level": 2,
     "metadata": {},
     "source": [
      "Missing Data"
     ]
    },
    {
     "cell_type": "code",
     "collapsed": false,
     "input": [
      "#How many missing trials?\n",
      "# Mean error\n",
      "# Mean RT\n",
      "# Median RT\n",
      "import csv\n",
      "res_d = {}\n",
      "for s in sub_list:\n",
      "    test = task_list[2] in new_df[s]\n",
      "    if test == False:\n",
      "        continue\n",
      "    tit = s\n",
      "    miss_data = new_df[s][task_list[2]]['RT']\n",
      "    miss_data = miss_data[miss_data < 0]\n",
      "    RT_data = new_df[s][task_list[2]]['RT']\n",
      "    RT_data = RT_data[RT_data > 0]\n",
      "    Err_data = new_df[s][task_list[2]]['Acc']\n",
      "    Err_data = Err_data[Err_data > -2]\n",
      "    rmse = np.mean(Err_data)\n",
      "    mean_RT = np.mean(RT_data)\n",
      "    median_RT = np.median(RT_data)\n",
      "    res_d[s] = [len(miss_data)] # how many missing?\n",
      "    res_d[s].append(rmse)\n",
      "    res_d[s].append(mean_RT)\n",
      "    res_d[s].append(median_RT)\n",
      "out_df = pd.DataFrame(res_d, index = ['Missing', 'Acc', 'Mean_RT', 'Median_RT'])\n",
      "out_df.to_csv('Fraction_Comparison_results.csv')\n"
     ],
     "language": "python",
     "metadata": {},
     "outputs": [],
     "prompt_number": 123
    },
    {
     "cell_type": "heading",
     "level": 1,
     "metadata": {},
     "source": [
      "Number Match"
     ]
    },
    {
     "cell_type": "heading",
     "level": 2,
     "metadata": {},
     "source": [
      "RT Histograms"
     ]
    },
    {
     "cell_type": "code",
     "collapsed": false,
     "input": [
      "# Plot RT histograms for number match task\n",
      "for s in sub_list:\n",
      "    plot_data = new_df[s][task_list[0]]['RT']\n",
      "    plot_data = plot_data[plot_data > -1] # Get rid of trials without responses\n",
      "    tit = 'NumberMatch_RT '+s\n",
      "    fname = tit+'.png'\n",
      "    hist(plot_data,25)\n",
      "    pylab.title(tit, y = 1.04)\n",
      "    pylab.xlabel('Seconds', labelpad = 18)\n",
      "    pylab.ylabel('Frequency', labelpad = 18)\n",
      "    pylab.savefig(fname)\n",
      "    pylab.close()"
     ],
     "language": "python",
     "metadata": {},
     "outputs": [],
     "prompt_number": 147
    },
    {
     "cell_type": "heading",
     "level": 2,
     "metadata": {},
     "source": [
      "RT Vs. Accuracy"
     ]
    },
    {
     "cell_type": "code",
     "collapsed": false,
     "input": [
      "# Plot RT vs Accuracy for Number Match\n",
      "for s in sub_list:\n",
      "    plot_datax = new_df[s][task_list[0]]['RT']\n",
      "    plot_datax = plot_datax[plot_datax > 0] # Get rid of trials without responses\n",
      "    plot_datay = new_df[s][task_list[0]]['Acc']\n",
      "    plot_datay = plot_datay[plot_datay > -1] # Get rid of trials without responses\n",
      "    tit = 'NumberMatch_RT Vs. Accuracy '+s\n",
      "    fname = tit+'.png'\n",
      "    plot(plot_datay, plot_datax, ls = 'None', marker = 'o')\n",
      "    pylab.title(tit, y = 1.04)\n",
      "    pylab.xlabel('Seconds', labelpad = 18)\n",
      "    pylab.ylabel('Accuracy', labelpad = 18)\n",
      "    pylab.xlim(-1,2)\n",
      "    pylab.xticks([0,1])\n",
      "    pylab.savefig(fname)\n",
      "    pylab.close()"
     ],
     "language": "python",
     "metadata": {},
     "outputs": [],
     "prompt_number": 156
    },
    {
     "cell_type": "heading",
     "level": 2,
     "metadata": {},
     "source": [
      "Missing Data"
     ]
    },
    {
     "cell_type": "code",
     "collapsed": false,
     "input": [
      "#How many missing trials?\n",
      "# Mean Acc\n",
      "# Mean RT\n",
      "# Median RT\n",
      "import csv\n",
      "res_d = {}\n",
      "for s in sub_list:\n",
      "    tit = s\n",
      "    miss_data = new_df[s][task_list[0]]['RT']\n",
      "    miss_data = miss_data[miss_data < 0]\n",
      "    RT_data = new_df[s][task_list[0]]['RT']\n",
      "    RT_data = RT_data[RT_data > 0]\n",
      "    Err_data = new_df[s][task_list[0]]['Acc']\n",
      "    Err_data = Err_data[Err_data > -1]\n",
      "    rmse = np.mean(Err_data)\n",
      "    mean_RT = np.mean(RT_data)\n",
      "    median_RT = np.median(RT_data)\n",
      "    res_d[s] = [len(miss_data)] # how many missing?\n",
      "    res_d[s].append(rmse)\n",
      "    res_d[s].append(mean_RT)\n",
      "    res_d[s].append(median_RT)\n",
      "out_df = pd.DataFrame(res_d, index = ['Missing', 'Acc', 'Mean_RT', 'Median_RT'])\n",
      "out_df.to_csv('NumMatch_results.csv')"
     ],
     "language": "python",
     "metadata": {},
     "outputs": [],
     "prompt_number": 157
    },
    {
     "cell_type": "code",
     "collapsed": false,
     "input": [],
     "language": "python",
     "metadata": {},
     "outputs": []
    }
   ],
   "metadata": {}
  }
 ]
}