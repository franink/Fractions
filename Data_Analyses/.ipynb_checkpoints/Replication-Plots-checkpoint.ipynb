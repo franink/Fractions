{
 "cells": [
  {
   "cell_type": "code",
   "execution_count": 1,
   "metadata": {
    "collapsed": true
   },
   "outputs": [],
   "source": [
    "%matplotlib inline\n",
    "import matplotlib as mpl\n",
    "import matplotlib.pyplot as plt\n",
    "import seaborn as sns\n",
    "import pandas as pd\n",
    "import numpy as np\n",
    "from scipy import io\n",
    "import os\n",
    "import glob"
   ]
  },
  {
   "cell_type": "code",
   "execution_count": 2,
   "metadata": {
    "collapsed": true
   },
   "outputs": [],
   "source": [
    "from IPython.display import HTML"
   ]
  },
  {
   "cell_type": "code",
   "execution_count": 3,
   "metadata": {
    "collapsed": false
   },
   "outputs": [
    {
     "data": {
      "text/html": [
       "<script>\n",
       "code_show=true; \n",
       "function code_toggle() {\n",
       " if (code_show){\n",
       " $('div.input').hide();\n",
       " } else {\n",
       " $('div.input').show();\n",
       " }\n",
       " code_show = !code_show\n",
       "} \n",
       "$( document ).ready(code_toggle);\n",
       "</script>\n",
       "The raw code for this IPython notebook is by default hidden for easier reading.\n",
       "To toggle on/off the raw code, click <a href=\"javascript:code_toggle()\">here</a>."
      ],
      "text/plain": [
       "<IPython.core.display.HTML object>"
      ]
     },
     "execution_count": 3,
     "metadata": {},
     "output_type": "execute_result"
    }
   ],
   "source": [
    "HTML('''<script>\n",
    "code_show=true; \n",
    "function code_toggle() {\n",
    " if (code_show){\n",
    " $('div.input').hide();\n",
    " } else {\n",
    " $('div.input').show();\n",
    " }\n",
    " code_show = !code_show\n",
    "} \n",
    "$( document ).ready(code_toggle);\n",
    "</script>\n",
    "The raw code for this IPython notebook is by default hidden for easier reading.\n",
    "To toggle on/off the raw code, click <a href=\"javascript:code_toggle()\">here</a>.''')"
   ]
  },
  {
   "cell_type": "code",
   "execution_count": 4,
   "metadata": {
    "collapsed": true
   },
   "outputs": [],
   "source": [
    "sns.set_style('white')\n",
    "sns.set_style('ticks')\n",
    "sns.set_palette('muted')\n",
    "sns.set_color_codes('muted')"
   ]
  },
  {
   "cell_type": "code",
   "execution_count": 5,
   "metadata": {
    "collapsed": true
   },
   "outputs": [],
   "source": [
    "## Desktop\n",
    "filepath = '/Users/frankanayet/Google Drive/NLineData/Beh_Data/Replication'\n",
    "os.chdir(filepath)"
   ]
  },
  {
   "cell_type": "code",
   "execution_count": 6,
   "metadata": {
    "collapsed": false
   },
   "outputs": [
    {
     "name": "stdout",
     "output_type": "stream",
     "text": [
      "Pandas version 0.17.0\n"
     ]
    }
   ],
   "source": [
    "print 'Pandas version ' + pd.__version__"
   ]
  },
  {
   "cell_type": "code",
   "execution_count": 75,
   "metadata": {
    "collapsed": true
   },
   "outputs": [],
   "source": [
    "new_df = pd.read_csv('nline_data.csv',sep='\\t')"
   ]
  },
  {
   "cell_type": "code",
   "execution_count": 76,
   "metadata": {
    "collapsed": false
   },
   "outputs": [
    {
     "data": {
      "text/plain": [
       "array([  0.,   1.,  nan])"
      ]
     },
     "execution_count": 76,
     "metadata": {},
     "output_type": "execute_result"
    }
   ],
   "source": [
    "new_df.catch.unique()"
   ]
  },
  {
   "cell_type": "code",
   "execution_count": 77,
   "metadata": {
    "collapsed": false
   },
   "outputs": [
    {
     "data": {
      "text/plain": [
       "7488"
      ]
     },
     "execution_count": 77,
     "metadata": {},
     "output_type": "execute_result"
    }
   ],
   "source": [
    "len(new_df)"
   ]
  },
  {
   "cell_type": "code",
   "execution_count": 78,
   "metadata": {
    "collapsed": true
   },
   "outputs": [],
   "source": [
    "new_df.loc[:,:]= new_df[new_df['catch']<1]\n",
    "#len(nline_miss)\n",
    "new_df['Missed'] = new_df['Error']\n",
    "new_df.loc[new_df['Missed']<1,'Missed'] = 0\n",
    "#Pick only responded trials\n",
    "new_df.loc[:,:] = new_df[new_df['Missed']==0]"
   ]
  },
  {
   "cell_type": "code",
   "execution_count": 79,
   "metadata": {
    "collapsed": true
   },
   "outputs": [],
   "source": [
    "new_df = new_df[pd.notnull(new_df['Subject'])]"
   ]
  },
  {
   "cell_type": "code",
   "execution_count": 80,
   "metadata": {
    "collapsed": false
   },
   "outputs": [
    {
     "data": {
      "text/plain": [
       "5195"
      ]
     },
     "execution_count": 80,
     "metadata": {},
     "output_type": "execute_result"
    }
   ],
   "source": [
    "len(new_df)"
   ]
  },
  {
   "cell_type": "code",
   "execution_count": 81,
   "metadata": {
    "collapsed": false
   },
   "outputs": [],
   "source": [
    "new_df.loc[:,'AbsError'] = np.abs(new_df['Error'])"
   ]
  },
  {
   "cell_type": "code",
   "execution_count": 82,
   "metadata": {
    "collapsed": false
   },
   "outputs": [
    {
     "data": {
      "text/plain": [
       "119"
      ]
     },
     "execution_count": 82,
     "metadata": {},
     "output_type": "execute_result"
    }
   ],
   "source": [
    "new_df['BigError'] = 0\n",
    "new_df.loc[new_df['AbsError']>0.15,'BigError'] = 1\n",
    "new_df['BigError'].sum()"
   ]
  },
  {
   "cell_type": "code",
   "execution_count": 109,
   "metadata": {
    "collapsed": false
   },
   "outputs": [],
   "source": [
    "new_df.loc[:,'Task'] = new_df['Task'].replace([1,2,3],['N+', 'N-/+', 'Word'])"
   ]
  },
  {
   "cell_type": "code",
   "execution_count": 110,
   "metadata": {
    "collapsed": false
   },
   "outputs": [
    {
     "data": {
      "text/plain": [
       "825       N+\n",
       "3719      N+\n",
       "3741    N-/+\n",
       "7211      N+\n",
       "6245    N-/+\n",
       "3749    N-/+\n",
       "6236    N-/+\n",
       "797       N+\n",
       "3800      N+\n",
       "7217    Word\n",
       "3811    Word\n",
       "3845      N+\n",
       "3857    Word\n",
       "3882    N-/+\n",
       "765     N-/+\n",
       "3916    N-/+\n",
       "7237    N-/+\n",
       "6198      N+\n",
       "736     Word\n",
       "3948    Word\n",
       "6185    Word\n",
       "3952    N-/+\n",
       "3969      N+\n",
       "4001      N+\n",
       "6166    N-/+\n",
       "7250      N+\n",
       "4045      N+\n",
       "692     N-/+\n",
       "834     Word\n",
       "3703    Word\n",
       "        ... \n",
       "3460    Word\n",
       "1604    N-/+\n",
       "6391    Word\n",
       "1423    Word\n",
       "896       N+\n",
       "6274    Word\n",
       "7008      N+\n",
       "3918    N-/+\n",
       "1270      N+\n",
       "6200      N+\n",
       "3901      N+\n",
       "3875    N-/+\n",
       "1308      N+\n",
       "7042    N-/+\n",
       "3852      N+\n",
       "3831    N-/+\n",
       "7036    Word\n",
       "1334    N-/+\n",
       "3791    Word\n",
       "3764      N+\n",
       "3755    N-/+\n",
       "1360      N+\n",
       "3731    N-/+\n",
       "6255    N-/+\n",
       "3712      N+\n",
       "1385    Word\n",
       "3702    Word\n",
       "3695      N+\n",
       "1401    N-/+\n",
       "4079    N-/+\n",
       "Name: Task, dtype: object"
      ]
     },
     "execution_count": 110,
     "metadata": {},
     "output_type": "execute_result"
    }
   ],
   "source": [
    "new_df.Task"
   ]
  },
  {
   "cell_type": "code",
   "execution_count": 111,
   "metadata": {
    "collapsed": true
   },
   "outputs": [],
   "source": [
    "pal = sns.color_palette()"
   ]
  },
  {
   "cell_type": "code",
   "execution_count": 112,
   "metadata": {
    "collapsed": false
   },
   "outputs": [],
   "source": [
    "new_df = new_df.sort_values(by='Line_pct')"
   ]
  },
  {
   "cell_type": "code",
   "execution_count": 127,
   "metadata": {
    "collapsed": false
   },
   "outputs": [
    {
     "data": {
      "text/plain": [
       "<seaborn.axisgrid.FacetGrid at 0x11a82ac50>"
      ]
     },
     "execution_count": 127,
     "metadata": {},
     "output_type": "execute_result"
    },
    {
     "data": {
      "image/png": "[encoded data removed]",
      "text/plain": [
       "<matplotlib.figure.Figure at 0x12068a750>"
      ]
     },
     "metadata": {},
     "output_type": "display_data"
    }
   ],
   "source": [
    "g = sns.FacetGrid(new_df, row='Task', size=4, aspect=3)\n",
    "(g.map(sns.boxplot,'Line_pct','RT', 'Task').despine(trim=True))"
   ]
  },
  {
   "cell_type": "code",
   "execution_count": 86,
   "metadata": {
    "collapsed": false
   },
   "outputs": [
    {
     "data": {
      "text/plain": [
       "array(['s_04101', 's_04102', 's_04103', 's_04104', 's_04105', 's_04106',\n",
       "       's_04107', 's_04108', 's_04109', 's_04110', 's_04111', 's_04112',\n",
       "       's_04113', 's_04114', 's_04115', 's_04116', 's_04117', 's_04118',\n",
       "       's_04119', 's_04201', 's_04202', 's_04203', 's_04204', 's_04205',\n",
       "       's_04206', 's_04207', 's_04208', 's_04209', 's_04210', 's_04211',\n",
       "       's_04212', 's_04213', 's_04214', 's_04215', 's_04216', 's_04217',\n",
       "       's_04218', 's_04219', 's_04220'], dtype=object)"
      ]
     },
     "execution_count": 86,
     "metadata": {},
     "output_type": "execute_result"
    }
   ],
   "source": [
    "np.sort(new_df.Subject.unique())"
   ]
  },
  {
   "cell_type": "code",
   "execution_count": 87,
   "metadata": {
    "collapsed": true
   },
   "outputs": [],
   "source": [
    "new_df.loc[:,:] = new_df[new_df['Subject']!='s_04116']"
   ]
  },
  {
   "cell_type": "code",
   "execution_count": 88,
   "metadata": {
    "collapsed": true
   },
   "outputs": [],
   "source": [
    "new_df = new_df[pd.notnull(new_df['Subject'])]"
   ]
  },
  {
   "cell_type": "code",
   "execution_count": 92,
   "metadata": {
    "collapsed": false
   },
   "outputs": [
    {
     "data": {
      "text/plain": [
       "5118"
      ]
     },
     "execution_count": 92,
     "metadata": {},
     "output_type": "execute_result"
    }
   ],
   "source": [
    "len(new_df)"
   ]
  },
  {
   "cell_type": "code",
   "execution_count": 89,
   "metadata": {
    "collapsed": false
   },
   "outputs": [
    {
     "data": {
      "text/plain": [
       "array(['s_04101', 's_04102', 's_04103', 's_04104', 's_04105', 's_04106',\n",
       "       's_04107', 's_04108', 's_04109', 's_04110', 's_04111', 's_04112',\n",
       "       's_04113', 's_04114', 's_04115', 's_04117', 's_04118', 's_04119',\n",
       "       's_04201', 's_04202', 's_04203', 's_04204', 's_04205', 's_04206',\n",
       "       's_04207', 's_04208', 's_04209', 's_04210', 's_04211', 's_04212',\n",
       "       's_04213', 's_04214', 's_04215', 's_04216', 's_04217', 's_04218',\n",
       "       's_04219', 's_04220'], dtype=object)"
      ]
     },
     "execution_count": 89,
     "metadata": {},
     "output_type": "execute_result"
    }
   ],
   "source": [
    "np.sort(new_df.Subject.unique())"
   ]
  },
  {
   "cell_type": "code",
   "execution_count": 101,
   "metadata": {
    "collapsed": false
   },
   "outputs": [
    {
     "data": {
      "image/png": "[encoded data removed]",
      "text/plain": [
       "<matplotlib.figure.Figure at 0x111d03f50>"
      ]
     },
     "metadata": {},
     "output_type": "display_data"
    }
   ],
   "source": [
    "sns.boxplot(x='Line_pct',y='RT',data=new_df.loc[new_df['Task']==1], color=pal[0])\n",
    "sns.despine(offset=10, trim=True)"
   ]
  },
  {
   "cell_type": "code",
   "execution_count": null,
   "metadata": {
    "collapsed": true
   },
   "outputs": [],
   "source": []
  }
 ],
 "metadata": {
  "kernelspec": {
   "display_name": "Python 2",
   "language": "python",
   "name": "python2"
  },
  "language_info": {
   "codemirror_mode": {
    "name": "ipython",
    "version": 2
   },
   "file_extension": ".py",
   "mimetype": "text/x-python",
   "name": "python",
   "nbconvert_exporter": "python",
   "pygments_lexer": "ipython2",
   "version": "2.7.10"
  }
 },
 "nbformat": 4,
 "nbformat_minor": 0
}
