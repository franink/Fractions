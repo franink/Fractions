{
 "metadata": {
  "name": "Fraction_Behavioral"
 },
 "nbformat": 3,
 "nbformat_minor": 0,
 "worksheets": [
  {
   "cells": [
    {
     "cell_type": "code",
     "collapsed": false,
     "input": [
      "#Opened with --pylab flag\n",
      "#Need to create code to analyze piot data\n",
      "import pandas as pd\n",
      "import numpy as np\n",
      "from scipy import io\n",
      "import os\n",
      "import glob"
     ],
     "language": "python",
     "metadata": {},
     "outputs": [],
     "prompt_number": 221
    },
    {
     "cell_type": "code",
     "collapsed": false,
     "input": [
      "filepath = '/Users/frankkanayet/Dropbox/FractionExperiment/Pilot_Data'\n",
      "os.chdir(filepath)"
     ],
     "language": "python",
     "metadata": {},
     "outputs": [],
     "prompt_number": 222
    },
    {
     "cell_type": "code",
     "collapsed": false,
     "input": [
      "filenames = glob.glob('Frac_*.mat')\n",
      "print filenames\n",
      "#index to isolate subj numbers\n",
      "data_dict = {}\n",
      "for i in filenames:\n",
      "    id1 = filenames[0].find('_') + 1\n",
      "    id2 = filenames[0].find('-')\n",
      "    sub_nbr = i[id1:id2]\n",
      "    sub_name = i\n",
      "    s_id = 's_'+sub_nbr\n",
      "    data_dict[s_id] = io.loadmat(sub_name)\n",
      "\n",
      "#sub_name = filenames[0] #This will be changed to a loop for all subjects later\n",
      "#mat = io.loadmat(sub_name)\n",
      "data_dict.keys()"
     ],
     "language": "python",
     "metadata": {},
     "outputs": [
      {
       "output_type": "stream",
       "stream": "stdout",
       "text": [
        "['Frac_010-Oct0814a.mat', 'Frac_011-Oct0814a.mat', 'Frac_012-Oct1014a.mat', 'Frac_013-Oct1014a.mat', 'Frac_020-Oct0814a.mat', 'Frac_021-Oct1014a.mat', 'Frac_022-Oct1014a.mat']\n"
       ]
      },
      {
       "output_type": "pyout",
       "prompt_number": 223,
       "text": [
        "['s_021', 's_020', 's_022', 's_010', 's_011', 's_012', 's_013']"
       ]
      }
     ],
     "prompt_number": 223
    },
    {
     "cell_type": "code",
     "collapsed": false,
     "input": [
      "for i in data_dict:\n",
      "    data_dict[i].pop('__header__')\n",
      "    data_dict[i].pop('__version__')\n",
      "    data_dict[i].pop('__globals__')\n",
      "data_dict['s_010'].keys()"
     ],
     "language": "python",
     "metadata": {},
     "outputs": [
      {
       "output_type": "pyout",
       "prompt_number": 224,
       "text": [
        "['numlineResults', 'nMatchResults', 'fCompResults']"
       ]
      }
     ],
     "prompt_number": 224
    },
    {
     "cell_type": "code",
     "collapsed": false,
     "input": [
      "new_dat = {}\n",
      "new_df = {}\n",
      "for s in data_dict:\n",
      "    tasks = data_dict[s].keys()\n",
      "    new_dat[s]={}\n",
      "    new_df[s] = {}\n",
      "    for task in tasks:\n",
      "        dat = data_dict[s][task]\n",
      "        dat_names = dat[0][:]\n",
      "        new_dat[s][task] = {}\n",
      "        for i in range(0,len(dat_names)):\n",
      "            new_dat[s][task][dat_names[i][0]] = []\n",
      "            for j in range(0,len(dat[:][:])-1):\n",
      "                new_dat[s][task][dat_names[i][0]].append(dat[j+1][i][0][0])\n",
      "        new_df[s][task] = pd.DataFrame(new_dat[s][task])\n",
      "new_dat['s_010'].keys()\n",
      "#legible access to the data\n",
      "mat = 'nMatchResults' #Match task\n",
      "comp = 'fCompResults' #Fraction comparison\n",
      "nline = 'numlineResults' #numberline"
     ],
     "language": "python",
     "metadata": {},
     "outputs": [],
     "prompt_number": 258
    },
    {
     "cell_type": "code",
     "collapsed": false,
     "input": [
      "new_df['s_011'][nline]"
     ],
     "language": "python",
     "metadata": {},
     "outputs": [
      {
       "html": [
        "<pre>\n",
        "&lt;class 'pandas.core.frame.DataFrame'&gt;\n",
        "Int64Index: 144 entries, 0 to 143\n",
        "Data columns (total 9 columns):\n",
        "Cons_RT      144  non-null values\n",
        "Correct      144  non-null values\n",
        "Denom        144  non-null values\n",
        "Error        144  non-null values\n",
        "Mouse_Pos    144  non-null values\n",
        "Num          144  non-null values\n",
        "RT           144  non-null values\n",
        "Response     144  non-null values\n",
        "Value        144  non-null values\n",
        "dtypes: float64(7), int64(2)\n",
        "</pre>"
       ],
       "output_type": "pyout",
       "prompt_number": 259,
       "text": [
        "<class 'pandas.core.frame.DataFrame'>\n",
        "Int64Index: 144 entries, 0 to 143\n",
        "Data columns (total 9 columns):\n",
        "Cons_RT      144  non-null values\n",
        "Correct      144  non-null values\n",
        "Denom        144  non-null values\n",
        "Error        144  non-null values\n",
        "Mouse_Pos    144  non-null values\n",
        "Num          144  non-null values\n",
        "RT           144  non-null values\n",
        "Response     144  non-null values\n",
        "Value        144  non-null values\n",
        "dtypes: float64(7), int64(2)"
       ]
      }
     ],
     "prompt_number": 259
    },
    {
     "cell_type": "code",
     "collapsed": false,
     "input": [
      "sub_list = new_df.keys()\n",
      "task_list = new_df[sub_list[3]].keys()\n",
      "sub_list"
     ],
     "language": "python",
     "metadata": {},
     "outputs": [
      {
       "output_type": "pyout",
       "prompt_number": 271,
       "text": [
        "['s_021', 's_020', 's_022', 's_010', 's_011', 's_012', 's_013']"
       ]
      }
     ],
     "prompt_number": 271
    },
    {
     "cell_type": "code",
     "collapsed": false,
     "input": [
      "task_list"
     ],
     "language": "python",
     "metadata": {},
     "outputs": [
      {
       "output_type": "pyout",
       "prompt_number": 272,
       "text": [
        "['nMatchResults', 'numlineResults', 'fCompResults']"
       ]
      }
     ],
     "prompt_number": 272
    },
    {
     "cell_type": "code",
     "collapsed": false,
     "input": [
      "# Plot RT histograms for numberline task\n",
      "for s in sub_list:\n",
      "    plot_data = new_df[s][task_list[1]]['RT']\n",
      "    plot_data = plot_data[plot_data > -1] # Get rid of trials without responses\n",
      "    tit = 'Numberline_RT '+s\n",
      "    fname = tit+'.png'\n",
      "    hist(plot_data,25)\n",
      "    pylab.title(tit, y = 1.04)\n",
      "    pylab.xlabel('Seconds', labelpad = 18)\n",
      "    pylab.ylabel('Frequency', labelpad = 18)\n",
      "    pylab.savefig(fname)\n",
      "    pylab.close()"
     ],
     "language": "python",
     "metadata": {},
     "outputs": [],
     "prompt_number": 313
    },
    {
     "cell_type": "code",
     "collapsed": false,
     "input": [
      "tit = 'Numberline_RT_Missing'\n",
      "miss_data = new_df['s_022'][task_list[1]]['RT']\n",
      "miss_data = miss_data[miss_data < 0] # how many missing?\n",
      "miss = str(len(miss_data))\n",
      "fout = open(tit+'.txt', 'w')\n",
      "fout.write(miss)\n",
      "fout.close()\n"
     ],
     "language": "python",
     "metadata": {},
     "outputs": [],
     "prompt_number": 318
    },
    {
     "cell_type": "code",
     "collapsed": false,
     "input": [
      "#How many missing trials?\n",
      "import csv\n",
      "miss_d = {}\n",
      "for s in sub_list:\n",
      "    out_df\n",
      "    tit = s\n",
      "    miss_data = new_df[s][task_list[1]]['RT']\n",
      "    miss_data = miss_data[miss_data < 0] \n",
      "    miss_d[s] = [len(miss_data)] # how many missing?\n",
      "out_df = pd.DataFrame(miss_d)\n",
      "out_df.to_csv('Nline_missing.csv')\n"
     ],
     "language": "python",
     "metadata": {},
     "outputs": [
      {
       "ename": "ValueError",
       "evalue": "If using all scalar values, you must must pass an index",
       "output_type": "pyerr",
       "traceback": [
        "\u001b[0;31m---------------------------------------------------------------------------\u001b[0m\n\u001b[0;31mValueError\u001b[0m                                Traceback (most recent call last)",
        "\u001b[0;32m<ipython-input-342-7cb7aac70c8c>\u001b[0m in \u001b[0;36m<module>\u001b[0;34m()\u001b[0m\n\u001b[1;32m      9\u001b[0m     \u001b[0mmiss_data\u001b[0m \u001b[0;34m=\u001b[0m \u001b[0mmiss_data\u001b[0m\u001b[0;34m[\u001b[0m\u001b[0mmiss_data\u001b[0m \u001b[0;34m<\u001b[0m \u001b[0;36m0\u001b[0m\u001b[0;34m]\u001b[0m\u001b[0;34m\u001b[0m\u001b[0m\n\u001b[1;32m     10\u001b[0m     \u001b[0mmiss_d\u001b[0m\u001b[0;34m[\u001b[0m\u001b[0ms\u001b[0m\u001b[0;34m]\u001b[0m \u001b[0;34m=\u001b[0m \u001b[0mlen\u001b[0m\u001b[0;34m(\u001b[0m\u001b[0mmiss_data\u001b[0m\u001b[0;34m)\u001b[0m \u001b[0;31m# how many missing?\u001b[0m\u001b[0;34m\u001b[0m\u001b[0m\n\u001b[0;32m---> 11\u001b[0;31m \u001b[0mout_df\u001b[0m \u001b[0;34m=\u001b[0m \u001b[0mpd\u001b[0m\u001b[0;34m.\u001b[0m\u001b[0mDataFrame\u001b[0m\u001b[0;34m(\u001b[0m\u001b[0mmiss_d\u001b[0m\u001b[0;34m)\u001b[0m\u001b[0;34m\u001b[0m\u001b[0m\n\u001b[0m\u001b[1;32m     12\u001b[0m \u001b[0mout_df\u001b[0m\u001b[0;34m.\u001b[0m\u001b[0mto_csv\u001b[0m\u001b[0;34m(\u001b[0m\u001b[0;34m'Nline_missing.csv'\u001b[0m\u001b[0;34m)\u001b[0m\u001b[0;34m\u001b[0m\u001b[0m\n",
        "\u001b[0;32m/Library/Frameworks/EPD64.framework/Versions/7.2/lib/python2.7/site-packages/pandas-0.12.0-py2.7-macosx-10.5-x86_64.egg/pandas/core/frame.pyc\u001b[0m in \u001b[0;36m__init__\u001b[0;34m(self, data, index, columns, dtype, copy)\u001b[0m\n\u001b[1;32m    395\u001b[0m             \u001b[0mmgr\u001b[0m \u001b[0;34m=\u001b[0m \u001b[0mself\u001b[0m\u001b[0;34m.\u001b[0m\u001b[0m_init_mgr\u001b[0m\u001b[0;34m(\u001b[0m\u001b[0mdata\u001b[0m\u001b[0;34m,\u001b[0m \u001b[0mindex\u001b[0m\u001b[0;34m,\u001b[0m \u001b[0mcolumns\u001b[0m\u001b[0;34m,\u001b[0m \u001b[0mdtype\u001b[0m\u001b[0;34m=\u001b[0m\u001b[0mdtype\u001b[0m\u001b[0;34m,\u001b[0m \u001b[0mcopy\u001b[0m\u001b[0;34m=\u001b[0m\u001b[0mcopy\u001b[0m\u001b[0;34m)\u001b[0m\u001b[0;34m\u001b[0m\u001b[0m\n\u001b[1;32m    396\u001b[0m         \u001b[0;32melif\u001b[0m \u001b[0misinstance\u001b[0m\u001b[0;34m(\u001b[0m\u001b[0mdata\u001b[0m\u001b[0;34m,\u001b[0m \u001b[0mdict\u001b[0m\u001b[0;34m)\u001b[0m\u001b[0;34m:\u001b[0m\u001b[0;34m\u001b[0m\u001b[0m\n\u001b[0;32m--> 397\u001b[0;31m             \u001b[0mmgr\u001b[0m \u001b[0;34m=\u001b[0m \u001b[0mself\u001b[0m\u001b[0;34m.\u001b[0m\u001b[0m_init_dict\u001b[0m\u001b[0;34m(\u001b[0m\u001b[0mdata\u001b[0m\u001b[0;34m,\u001b[0m \u001b[0mindex\u001b[0m\u001b[0;34m,\u001b[0m \u001b[0mcolumns\u001b[0m\u001b[0;34m,\u001b[0m \u001b[0mdtype\u001b[0m\u001b[0;34m=\u001b[0m\u001b[0mdtype\u001b[0m\u001b[0;34m)\u001b[0m\u001b[0;34m\u001b[0m\u001b[0m\n\u001b[0m\u001b[1;32m    398\u001b[0m         \u001b[0;32melif\u001b[0m \u001b[0misinstance\u001b[0m\u001b[0;34m(\u001b[0m\u001b[0mdata\u001b[0m\u001b[0;34m,\u001b[0m \u001b[0mma\u001b[0m\u001b[0;34m.\u001b[0m\u001b[0mMaskedArray\u001b[0m\u001b[0;34m)\u001b[0m\u001b[0;34m:\u001b[0m\u001b[0;34m\u001b[0m\u001b[0m\n\u001b[1;32m    399\u001b[0m             \u001b[0mmask\u001b[0m \u001b[0;34m=\u001b[0m \u001b[0mma\u001b[0m\u001b[0;34m.\u001b[0m\u001b[0mgetmaskarray\u001b[0m\u001b[0;34m(\u001b[0m\u001b[0mdata\u001b[0m\u001b[0;34m)\u001b[0m\u001b[0;34m\u001b[0m\u001b[0m\n",
        "\u001b[0;32m/Library/Frameworks/EPD64.framework/Versions/7.2/lib/python2.7/site-packages/pandas-0.12.0-py2.7-macosx-10.5-x86_64.egg/pandas/core/frame.pyc\u001b[0m in \u001b[0;36m_init_dict\u001b[0;34m(self, data, index, columns, dtype)\u001b[0m\n\u001b[1;32m    526\u001b[0m \u001b[0;34m\u001b[0m\u001b[0m\n\u001b[1;32m    527\u001b[0m         return _arrays_to_mgr(arrays, data_names, index, columns,\n\u001b[0;32m--> 528\u001b[0;31m                               dtype=dtype)\n\u001b[0m\u001b[1;32m    529\u001b[0m \u001b[0;34m\u001b[0m\u001b[0m\n\u001b[1;32m    530\u001b[0m     def _init_ndarray(self, values, index, columns, dtype=None,\n",
        "\u001b[0;32m/Library/Frameworks/EPD64.framework/Versions/7.2/lib/python2.7/site-packages/pandas-0.12.0-py2.7-macosx-10.5-x86_64.egg/pandas/core/frame.pyc\u001b[0m in \u001b[0;36m_arrays_to_mgr\u001b[0;34m(arrays, arr_names, index, columns, dtype)\u001b[0m\n\u001b[1;32m   5668\u001b[0m     \u001b[0;31m# figure out the index, if necessary\u001b[0m\u001b[0;34m\u001b[0m\u001b[0;34m\u001b[0m\u001b[0m\n\u001b[1;32m   5669\u001b[0m     \u001b[0;32mif\u001b[0m \u001b[0mindex\u001b[0m \u001b[0;32mis\u001b[0m \u001b[0mNone\u001b[0m\u001b[0;34m:\u001b[0m\u001b[0;34m\u001b[0m\u001b[0m\n\u001b[0;32m-> 5670\u001b[0;31m         \u001b[0mindex\u001b[0m \u001b[0;34m=\u001b[0m \u001b[0mextract_index\u001b[0m\u001b[0;34m(\u001b[0m\u001b[0marrays\u001b[0m\u001b[0;34m)\u001b[0m\u001b[0;34m\u001b[0m\u001b[0m\n\u001b[0m\u001b[1;32m   5671\u001b[0m     \u001b[0;32melse\u001b[0m\u001b[0;34m:\u001b[0m\u001b[0;34m\u001b[0m\u001b[0m\n\u001b[1;32m   5672\u001b[0m         \u001b[0mindex\u001b[0m \u001b[0;34m=\u001b[0m \u001b[0m_ensure_index\u001b[0m\u001b[0;34m(\u001b[0m\u001b[0mindex\u001b[0m\u001b[0;34m)\u001b[0m\u001b[0;34m\u001b[0m\u001b[0m\n",
        "\u001b[0;32m/Library/Frameworks/EPD64.framework/Versions/7.2/lib/python2.7/site-packages/pandas-0.12.0-py2.7-macosx-10.5-x86_64.egg/pandas/core/frame.pyc\u001b[0m in \u001b[0;36mextract_index\u001b[0;34m(data)\u001b[0m\n\u001b[1;32m   5706\u001b[0m \u001b[0;34m\u001b[0m\u001b[0m\n\u001b[1;32m   5707\u001b[0m         \u001b[0;32mif\u001b[0m \u001b[0;32mnot\u001b[0m \u001b[0mindexes\u001b[0m \u001b[0;32mand\u001b[0m \u001b[0;32mnot\u001b[0m \u001b[0mraw_lengths\u001b[0m\u001b[0;34m:\u001b[0m\u001b[0;34m\u001b[0m\u001b[0m\n\u001b[0;32m-> 5708\u001b[0;31m             raise ValueError('If using all scalar values, you must must pass'\n\u001b[0m\u001b[1;32m   5709\u001b[0m                              ' an index')\n\u001b[1;32m   5710\u001b[0m \u001b[0;34m\u001b[0m\u001b[0m\n",
        "\u001b[0;31mValueError\u001b[0m: If using all scalar values, you must must pass an index"
       ]
      }
     ],
     "prompt_number": 342
    },
    {
     "cell_type": "code",
     "collapsed": false,
     "input": [
      "out_df = {'hola':0}"
     ],
     "language": "python",
     "metadata": {},
     "outputs": [],
     "prompt_number": 325
    },
    {
     "cell_type": "code",
     "collapsed": false,
     "input": [
      "out_df.\n"
     ],
     "language": "python",
     "metadata": {},
     "outputs": [
      {
       "output_type": "pyout",
       "prompt_number": 326,
       "text": [
        "{'hola': 0}"
       ]
      }
     ],
     "prompt_number": 326
    },
    {
     "cell_type": "code",
     "collapsed": false,
     "input": [],
     "language": "python",
     "metadata": {},
     "outputs": []
    }
   ],
   "metadata": {}
  }
 ]
}