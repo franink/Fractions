{
 "cells": [
  {
   "cell_type": "code",
   "execution_count": 1,
   "metadata": {
    "collapsed": false
   },
   "outputs": [],
   "source": [
    "#Opened with --pylab flag\n",
    "#Need to create code to analyze piot data\n",
    "import pandas as pd\n",
    "import numpy as np\n",
    "from scipy import io\n",
    "import os\n",
    "import glob"
   ]
  },
  {
   "cell_type": "code",
   "execution_count": 2,
   "metadata": {
    "collapsed": false
   },
   "outputs": [],
   "source": [
    "## Laptop\n",
    "#filepath = '/Users/frankkanayet/Dropbox/NLineExperiment/PilotData'\n",
    "#filepath = '/Users/frankkanayet/Dropbox/NLineExperiment/PilotData/test3s'\n",
    "#filepath = '/Users/frankkanayet/Google Drive/NLineData/Beh_Data'\n",
    "\n",
    "## Desktop\n",
    "#filepath = '/Users/frankanayet/Dropbox/NLineExperiment/Data'\n",
    "filepath = '/Users/frankanayet/Google Drive/NLineData/Beh_Data/Time_Check'\n",
    "os.chdir(filepath)"
   ]
  },
  {
   "cell_type": "code",
   "execution_count": 3,
   "metadata": {
    "collapsed": false
   },
   "outputs": [
    {
     "name": "stdout",
     "output_type": "stream",
     "text": [
      "Pandas version 0.17.1\n"
     ]
    }
   ],
   "source": [
    "print 'Pandas version ' + pd.__version__"
   ]
  },
  {
   "cell_type": "code",
   "execution_count": 4,
   "metadata": {
    "collapsed": false
   },
   "outputs": [
    {
     "name": "stdout",
     "output_type": "stream",
     "text": [
      "['Nline_05001-Apr2916.mat']\n"
     ]
    },
    {
     "data": {
      "text/plain": [
       "['s_05001']"
      ]
     },
     "execution_count": 4,
     "metadata": {},
     "output_type": "execute_result"
    }
   ],
   "source": [
    "filenames = glob.glob('Nline_*.mat')\n",
    "print filenames\n",
    "#index to isolate subj numbers\n",
    "data_dict = {}\n",
    "for i in filenames:\n",
    "    id1 = filenames[0].find('_') + 1\n",
    "    id2 = filenames[0].find('-')\n",
    "    sub_nbr = i[id1:id2]\n",
    "    sub_name = i\n",
    "    s_id = 's_'+sub_nbr\n",
    "    data_dict[s_id] = io.loadmat(sub_name)\n",
    "\n",
    "#sub_name = filenames[0] #This will be changed to a loop for all subjects later\n",
    "#mat = io.loadmat(sub_name)\n",
    "data_dict.keys()"
   ]
  },
  {
   "cell_type": "code",
   "execution_count": 5,
   "metadata": {
    "collapsed": false
   },
   "outputs": [],
   "source": [
    "sub_ex = data_dict.keys()[0]"
   ]
  },
  {
   "cell_type": "code",
   "execution_count": 6,
   "metadata": {
    "collapsed": false
   },
   "outputs": [],
   "source": [
    "#data_dict['s_00011']['p']"
   ]
  },
  {
   "cell_type": "code",
   "execution_count": 7,
   "metadata": {
    "collapsed": false
   },
   "outputs": [],
   "source": [
    "#for i in data_dict:\n",
    "#    data_dict[i].pop('__header__')\n",
    "#    data_dict[i].pop('__version__')\n",
    "#    data_dict[i].pop('__globals__')\n",
    "#data_dict['s_00011'].keys()"
   ]
  },
  {
   "cell_type": "code",
   "execution_count": 8,
   "metadata": {
    "collapsed": false
   },
   "outputs": [
    {
     "data": {
      "text/plain": [
       "49"
      ]
     },
     "execution_count": 8,
     "metadata": {},
     "output_type": "execute_result"
    }
   ],
   "source": [
    "## The indexes of zeros are as follows [0][0][x][y][z][0] The x y z are the 3 dimensions of the data 3d matrix the zeros are padding\n",
    "data_dict[sub_ex]['p']['NlineResults'][0][0][0][5][0][0]\n",
    "len(data_dict[sub_ex]['p']['NlineResults'][0][0][:])"
   ]
  },
  {
   "cell_type": "code",
   "execution_count": 9,
   "metadata": {
    "collapsed": false
   },
   "outputs": [
    {
     "data": {
      "text/plain": [
       "('ramp_up',\n",
       " 'Mean_ITI',\n",
       " 'Mean_hold',\n",
       " 'decision',\n",
       " 'consider',\n",
       " 'runs',\n",
       " 'nStim',\n",
       " 'ntasks',\n",
       " 'tasks',\n",
       " 'trialSecs',\n",
       " 'lineLength',\n",
       " 'speed',\n",
       " 'flickerFreq',\n",
       " 'flickerPer',\n",
       " 'stimContrast',\n",
       " 'refreshRate',\n",
       " 'vDistCM',\n",
       " 'screenWidthCM',\n",
       " 'usedScreenSizeDeg',\n",
       " 'radDeg',\n",
       " 'sfDeg',\n",
       " 'backColor',\n",
       " 'fixColor',\n",
       " 'fixSizeDeg',\n",
       " 'appSizeDeg',\n",
       " 'fontSize',\n",
       " 'fontName',\n",
       " 'textColor',\n",
       " 'LUT',\n",
       " 'run_order',\n",
       " 'NlineResults',\n",
       " 'time_Runs',\n",
       " 'task_transition',\n",
       " 'sRect',\n",
       " 'fps',\n",
       " 'ifi',\n",
       " 'flickerFrames',\n",
       " 'stimExposeCon',\n",
       " 'stimExposeDec',\n",
       " 'ppd',\n",
       " 'usedScreenSizePix',\n",
       " 'radPix',\n",
       " 'sfPix',\n",
       " 'fixSizePix',\n",
       " 'appSizePix',\n",
       " 'flickerSequCon',\n",
       " 'flickerSequDec',\n",
       " 'start_Nline')"
      ]
     },
     "execution_count": 9,
     "metadata": {},
     "output_type": "execute_result"
    }
   ],
   "source": [
    "data_dict[sub_ex]['p'].dtype.names"
   ]
  },
  {
   "cell_type": "code",
   "execution_count": 10,
   "metadata": {
    "collapsed": false
   },
   "outputs": [],
   "source": [
    "cons_time = data_dict[sub_ex]['p']['consider'][0][0][0][0]\n",
    "dec_time = data_dict[sub_ex]['p']['decision'][0][0][0][0]"
   ]
  },
  {
   "cell_type": "code",
   "execution_count": 14,
   "metadata": {
    "collapsed": false
   },
   "outputs": [],
   "source": [
    "new_dat = {}\n",
    "#new_df = {}\n",
    "for s in data_dict:\n",
    "    tasks = ['NlineResults']\n",
    "    new_dat[s]={}\n",
    "    #new_df[s] = {}\n",
    "    for task in tasks:\n",
    "        dat = data_dict[s]['p'][task]\n",
    "        num_fields = len(data_dict[s]['p'][task][0][0][0])\n",
    "        dat_names = []\n",
    "        for k in range(0,num_fields):\n",
    "            dat_names.append(dat[0][0][0][k][0][0])\n",
    "        new_dat[s][task] = {}\n",
    "        runs = data_dict[s]['p']['runs'][0][0][0][0]\n",
    "        for run in range(0,runs):\n",
    "            run_name = 'run'+str(run+1)\n",
    "            new_dat[s][task][run_name] = {}\n",
    "            for i in range(0,len(dat_names)):\n",
    "                new_dat[s][task][run_name][dat_names[i]] = []\n",
    "                for j in range(0,len(dat[0][0][:])-1):\n",
    "                    if dat_names[i] == 'catch_probe':\n",
    "                        new_dat[s][task][run_name][dat_names[i]].append(dat[0][0][j+1][i][run])\n",
    "                    elif dat_names[i] == 'Probe':\n",
    "                        new_dat[s][task][run_name][dat_names[i]].append(dat[0][0][j+1][i][run][0])\n",
    "                    elif dat_names[i] == 'MouseTrack':\n",
    "                        continue\n",
    "                    else:\n",
    "                        new_dat[s][task][run_name][dat_names[i]].append(dat[0][0][j+1][i][run][0][0])\n",
    "#legible access to the data\n",
    "Nline = 'NlineResults' #numberline"
   ]
  },
  {
   "cell_type": "code",
   "execution_count": 15,
   "metadata": {
    "collapsed": false
   },
   "outputs": [
    {
     "data": {
      "text/plain": [
       "[u'Slow',\n",
       " u'Line_pct',\n",
       " u'iti',\n",
       " u'TestX',\n",
       " u'ITI_onset_real',\n",
       " u'consider_onset_real',\n",
       " u'Correct',\n",
       " u'RT',\n",
       " u'hold',\n",
       " u'decision_end',\n",
       " u'decision_onset_real',\n",
       " u'RTHold',\n",
       " u'decision_end_real',\n",
       " u'ITI_onset',\n",
       " u'Wrong',\n",
       " u'MouseTrack',\n",
       " u'BadPress',\n",
       " u'consider_onset',\n",
       " u'Response',\n",
       " u'Task',\n",
       " u'Trial',\n",
       " u'Points',\n",
       " u'Error',\n",
       " u'catch',\n",
       " u'mouse_pos',\n",
       " u'Block',\n",
       " u'catch_probe',\n",
       " u'Probe',\n",
       " u'hold_onset',\n",
       " u'Move',\n",
       " u'decision_onset',\n",
       " u'hold_onset_real',\n",
       " u'Click']"
      ]
     },
     "execution_count": 15,
     "metadata": {},
     "output_type": "execute_result"
    }
   ],
   "source": [
    "new_dat[sub_ex]['NlineResults']['run1'].keys()"
   ]
  },
  {
   "cell_type": "code",
   "execution_count": 16,
   "metadata": {
    "collapsed": false
   },
   "outputs": [
    {
     "data": {
      "text/plain": [
       "[array([7], dtype=uint8),\n",
       " array([33], dtype=uint8),\n",
       " array([57], dtype=uint8),\n",
       " array([77], dtype=uint8),\n",
       " array([45], dtype=uint8),\n",
       " array([60], dtype=uint8),\n",
       " array([74], dtype=uint8),\n",
       " array([28], dtype=uint8),\n",
       " array([90], dtype=uint8),\n",
       " array([3], dtype=uint8),\n",
       " array([11], dtype=uint8),\n",
       " array([21], dtype=uint8),\n",
       " array([65], dtype=uint8),\n",
       " array([36], dtype=uint8),\n",
       " array([98], dtype=uint8),\n",
       " array([85], dtype=uint8),\n",
       " array([3], dtype=uint8),\n",
       " array([65], dtype=uint8),\n",
       " array([7], dtype=uint8),\n",
       " array([74], dtype=uint8),\n",
       " array([45], dtype=uint8),\n",
       " array([85], dtype=uint8),\n",
       " array([11], dtype=uint8),\n",
       " array([36], dtype=uint8),\n",
       " array([57], dtype=uint8),\n",
       " array([98], dtype=uint8),\n",
       " array([90], dtype=uint8),\n",
       " array([21], dtype=uint8),\n",
       " array([28], dtype=uint8),\n",
       " array([33], dtype=uint8),\n",
       " array([60], dtype=uint8),\n",
       " array([77], dtype=uint8),\n",
       " array([57], dtype=uint8),\n",
       " array([77], dtype=uint8),\n",
       " array([11], dtype=uint8),\n",
       " array([21], dtype=uint8),\n",
       " array([33], dtype=uint8),\n",
       " array([7], dtype=uint8),\n",
       " array([90], dtype=uint8),\n",
       " array([74], dtype=uint8),\n",
       " array([65], dtype=uint8),\n",
       " array([3], dtype=uint8),\n",
       " array([45], dtype=uint8),\n",
       " array([85], dtype=uint8),\n",
       " array([98], dtype=uint8),\n",
       " array([28], dtype=uint8),\n",
       " array([36], dtype=uint8),\n",
       " array([60], dtype=uint8)]"
      ]
     },
     "execution_count": 16,
     "metadata": {},
     "output_type": "execute_result"
    }
   ],
   "source": [
    "new_dat[sub_ex]['NlineResults']['run1']['Probe']"
   ]
  },
  {
   "cell_type": "code",
   "execution_count": 17,
   "metadata": {
    "collapsed": false
   },
   "outputs": [
    {
     "data": {
      "text/plain": [
       "[array([], shape=(0, 0), dtype=uint8),\n",
       " array([], shape=(0, 0), dtype=uint8),\n",
       " array([], shape=(0, 0), dtype=uint8),\n",
       " array([], shape=(0, 0), dtype=uint8),\n",
       " array([], shape=(0, 0), dtype=uint8),\n",
       " array([], shape=(0, 0), dtype=uint8),\n",
       " array([], shape=(0, 0), dtype=uint8),\n",
       " array([], shape=(0, 0), dtype=uint8),\n",
       " array([], shape=(0, 0), dtype=uint8),\n",
       " array([], shape=(0, 0), dtype=uint8),\n",
       " array([], shape=(0, 0), dtype=uint8),\n",
       " array([], shape=(0, 0), dtype=uint8),\n",
       " array([], shape=(0, 0), dtype=uint8),\n",
       " array([], shape=(0, 0), dtype=uint8),\n",
       " array([], shape=(0, 0), dtype=uint8),\n",
       " array([], shape=(0, 0), dtype=uint8),\n",
       " array([], shape=(0, 0), dtype=uint8),\n",
       " array([], shape=(0, 0), dtype=uint8),\n",
       " array([], shape=(0, 0), dtype=uint8),\n",
       " array([], shape=(0, 0), dtype=uint8),\n",
       " array([], shape=(0, 0), dtype=uint8),\n",
       " array([], shape=(0, 0), dtype=uint8),\n",
       " array([], shape=(0, 0), dtype=uint8),\n",
       " array([], shape=(0, 0), dtype=uint8),\n",
       " array([], shape=(0, 0), dtype=uint8),\n",
       " array([], shape=(0, 0), dtype=uint8),\n",
       " array([], shape=(0, 0), dtype=uint8),\n",
       " array([], shape=(0, 0), dtype=uint8),\n",
       " array([], shape=(0, 0), dtype=uint8),\n",
       " array([], shape=(0, 0), dtype=uint8),\n",
       " array([], shape=(0, 0), dtype=uint8),\n",
       " array([], shape=(0, 0), dtype=uint8),\n",
       " array([], shape=(0, 0), dtype=uint8),\n",
       " array([], shape=(0, 0), dtype=uint8),\n",
       " array([], shape=(0, 0), dtype=uint8),\n",
       " array([], shape=(0, 0), dtype=uint8),\n",
       " array([], shape=(0, 0), dtype=uint8),\n",
       " array([], shape=(0, 0), dtype=uint8),\n",
       " array([], shape=(0, 0), dtype=uint8),\n",
       " array([], shape=(0, 0), dtype=uint8),\n",
       " array([], shape=(0, 0), dtype=uint8),\n",
       " array([], shape=(0, 0), dtype=uint8),\n",
       " array([], shape=(0, 0), dtype=uint8),\n",
       " array([], shape=(0, 0), dtype=uint8),\n",
       " array([], shape=(0, 0), dtype=uint8),\n",
       " array([], shape=(0, 0), dtype=uint8),\n",
       " array([], shape=(0, 0), dtype=uint8),\n",
       " array([], shape=(0, 0), dtype=uint8)]"
      ]
     },
     "execution_count": 17,
     "metadata": {},
     "output_type": "execute_result"
    }
   ],
   "source": [
    "new_dat[sub_ex]['NlineResults']['run1']['catch_probe']"
   ]
  },
  {
   "cell_type": "code",
   "execution_count": 18,
   "metadata": {
    "collapsed": false
   },
   "outputs": [],
   "source": [
    "subj = data_dict.keys()\n",
    "tasks = [Nline]\n",
    "tuples = []\n",
    "rows = len(data_dict[sub_ex]['p'][Nline][0][0][:])-1\n",
    "for s in subj:\n",
    "    runs = new_dat[s]['NlineResults'].keys()\n",
    "    for run in runs:\n",
    "        for i in range(0,rows):\n",
    "            tuples.append((s, run, i))\n",
    "len(tuples)\n",
    "#iterables = [subj,tasks,runs]\n",
    "indexes = pd.MultiIndex.from_tuples(tuples, names=['Subj', 'Run', 'Trial'])\n",
    "nline_cols = len(new_dat[sub_ex][Nline]['run1'].keys())"
   ]
  },
  {
   "cell_type": "code",
   "execution_count": 19,
   "metadata": {
    "collapsed": false
   },
   "outputs": [
    {
     "data": {
      "text/plain": [
       "('s_05001', 'run3', 42)"
      ]
     },
     "execution_count": 19,
     "metadata": {},
     "output_type": "execute_result"
    }
   ],
   "source": [
    "indexes[90]"
   ]
  },
  {
   "cell_type": "code",
   "execution_count": 20,
   "metadata": {
    "collapsed": false
   },
   "outputs": [
    {
     "data": {
      "text/plain": [
       "'run1'"
      ]
     },
     "execution_count": 20,
     "metadata": {},
     "output_type": "execute_result"
    }
   ],
   "source": [
    "indexes[1][1]"
   ]
  },
  {
   "cell_type": "code",
   "execution_count": 21,
   "metadata": {
    "collapsed": false
   },
   "outputs": [
    {
     "data": {
      "text/plain": [
       "u'mouse_pos'"
      ]
     },
     "execution_count": 21,
     "metadata": {},
     "output_type": "execute_result"
    }
   ],
   "source": [
    "varnames = new_dat[sub_ex][Nline]['run1'].keys()\n",
    "varnames[24]"
   ]
  },
  {
   "cell_type": "code",
   "execution_count": 22,
   "metadata": {
    "collapsed": false
   },
   "outputs": [
    {
     "data": {
      "text/plain": [
       "192"
      ]
     },
     "execution_count": 22,
     "metadata": {},
     "output_type": "execute_result"
    }
   ],
   "source": [
    "len(indexes)"
   ]
  },
  {
   "cell_type": "code",
   "execution_count": 28,
   "metadata": {
    "collapsed": false
   },
   "outputs": [],
   "source": [
    "# Code empty cells of probes and catch_probes as Nan\n",
    "Dic_list = []\n",
    "probes = ['catch_probe']\n",
    "for data in indexes:\n",
    "    temp_dict = {}\n",
    "    for var in varnames:\n",
    "        if var == probes[0]:\n",
    "            if len(new_dat.get(data[0]).get(Nline).get(data[1]).get(var)[data[2]]) == 0:\n",
    "                new_dat.get(data[0]).get(Nline).get(data[1]).get(var)[data[2]] = np.array([np.nan])\n",
    "            temp_dict[var] = new_dat.get(data[0]).get(Nline).get(data[1]).get(var)[data[2]][0]\n",
    "        elif var == 'MouseTrack':\n",
    "            continue\n",
    "        else:\n",
    "            temp_dict[var] = new_dat.get(data[0]).get(Nline).get(data[1]).get(var)[data[2]]\n",
    "    Dic_list.append(temp_dict)"
   ]
  },
  {
   "cell_type": "code",
   "execution_count": 29,
   "metadata": {
    "collapsed": false
   },
   "outputs": [
    {
     "data": {
      "text/plain": [
       "30"
      ]
     },
     "execution_count": 29,
     "metadata": {},
     "output_type": "execute_result"
    }
   ],
   "source": [
    "#Create dataframe\n",
    "nline_df = pd.DataFrame(Dic_list, index=indexes)\n",
    "sum(nline_df.loc[sub_ex].loc['run1'].iloc[0:48]['catch'])"
   ]
  },
  {
   "cell_type": "code",
   "execution_count": 30,
   "metadata": {
    "collapsed": false
   },
   "outputs": [
    {
     "data": {
      "text/plain": [
       "Trial\n",
       "0   -1\n",
       "1   -1\n",
       "2   -1\n",
       "3   -1\n",
       "4   -1\n",
       "5    1\n",
       "6    1\n",
       "7   -1\n",
       "8    1\n",
       "9   -1\n",
       "Name: Error, dtype: int64"
      ]
     },
     "execution_count": 30,
     "metadata": {},
     "output_type": "execute_result"
    }
   ],
   "source": [
    "nline_df.loc[sub_ex].loc['run1'].iloc[0:10]['Error']"
   ]
  },
  {
   "cell_type": "code",
   "execution_count": 31,
   "metadata": {
    "collapsed": false
   },
   "outputs": [
    {
     "data": {
      "text/plain": [
       "FrozenList([u'Subject', u'Run', u'Trial'])"
      ]
     },
     "execution_count": 31,
     "metadata": {},
     "output_type": "execute_result"
    }
   ],
   "source": [
    "nline_df.index.names = ['Subject', 'Run', 'Trial']\n",
    "nline_df.index.names"
   ]
  },
  {
   "cell_type": "code",
   "execution_count": 32,
   "metadata": {
    "collapsed": false
   },
   "outputs": [
    {
     "name": "stderr",
     "output_type": "stream",
     "text": [
      "/Users/frankanayet/anaconda/lib/python2.7/site-packages/ipykernel/__main__.py:3: SettingWithCopyWarning: \n",
      "A value is trying to be set on a copy of a slice from a DataFrame\n",
      "\n",
      "See the caveats in the documentation: http://pandas.pydata.org/pandas-docs/stable/indexing.html#indexing-view-versus-copy\n",
      "  app.launch_new_instance()\n",
      "/Users/frankanayet/anaconda/lib/python2.7/site-packages/ipykernel/__main__.py:4: SettingWithCopyWarning: \n",
      "A value is trying to be set on a copy of a slice from a DataFrame\n",
      "\n",
      "See the caveats in the documentation: http://pandas.pydata.org/pandas-docs/stable/indexing.html#indexing-view-versus-copy\n"
     ]
    },
    {
     "data": {
      "text/plain": [
       "Subject  Run   Trial\n",
       "s_05001  run1  0         7\n",
       "               1        33\n",
       "               2        57\n",
       "               3        77\n",
       "               4        45\n",
       "               5        60\n",
       "               6        74\n",
       "               7        28\n",
       "               8        90\n",
       "               9         3\n",
       "               10       11\n",
       "               11       21\n",
       "               12       65\n",
       "               13       36\n",
       "               14       98\n",
       "               15       85\n",
       "               16        3\n",
       "               17       65\n",
       "               18        7\n",
       "               19       74\n",
       "               20       45\n",
       "               21       85\n",
       "               22       11\n",
       "               23       36\n",
       "               24       57\n",
       "               25       98\n",
       "               26       90\n",
       "               27       21\n",
       "               28       28\n",
       "               29       33\n",
       "                        ..\n",
       "         run4  18       45\n",
       "               19       74\n",
       "               20        3\n",
       "               21       57\n",
       "               22       98\n",
       "               23       28\n",
       "               24       85\n",
       "               25       36\n",
       "               26       60\n",
       "               27        7\n",
       "               28       33\n",
       "               29       21\n",
       "               30       11\n",
       "               31       77\n",
       "               32       90\n",
       "               33       45\n",
       "               34       33\n",
       "               35       36\n",
       "               36       74\n",
       "               37       60\n",
       "               38        3\n",
       "               39        7\n",
       "               40       28\n",
       "               41       98\n",
       "               42       85\n",
       "               43       65\n",
       "               44       21\n",
       "               45       77\n",
       "               46       57\n",
       "               47       11\n",
       "Name: Probe, dtype: object"
      ]
     },
     "execution_count": 32,
     "metadata": {},
     "output_type": "execute_result"
    }
   ],
   "source": [
    "test = nline_df['Probe']\n",
    "for i in range(0,len(test)):\n",
    "    test[i] = np.ravel(test[i])\n",
    "    test[i] = test[i][0]\n",
    "nline_df['Probe'] = test\n",
    "nline_df['Probe']"
   ]
  },
  {
   "cell_type": "markdown",
   "metadata": {},
   "source": [
    "### Create Stim Labels"
   ]
  },
  {
   "cell_type": "code",
   "execution_count": 33,
   "metadata": {
    "collapsed": false
   },
   "outputs": [],
   "source": [
    "#now nline\n",
    "#nline_df['Num'] = nline_df['Num'].map('{:.0f}'.format)\n",
    "#nline_df['Denom'] = nline_df['Denom'].map('{:.0f}'.format)\n",
    "#nline_df['Stim'] = nline_df['Num']+'/'+nline_df['Denom']\n",
    "#nline_df['Stim']"
   ]
  },
  {
   "cell_type": "code",
   "execution_count": 34,
   "metadata": {
    "collapsed": false
   },
   "outputs": [
    {
     "data": {
      "text/plain": [
       "Index([u'BadPress', u'Block', u'Click', u'Correct', u'Error', u'ITI_onset',\n",
       "       u'ITI_onset_real', u'Line_pct', u'Move', u'Points', u'Probe', u'RT',\n",
       "       u'RTHold', u'Response', u'Slow', u'Task', u'TestX', u'Trial', u'Wrong',\n",
       "       u'catch', u'catch_probe', u'consider_onset', u'consider_onset_real',\n",
       "       u'decision_end', u'decision_end_real', u'decision_onset',\n",
       "       u'decision_onset_real', u'hold', u'hold_onset', u'hold_onset_real',\n",
       "       u'iti', u'mouse_pos'],\n",
       "      dtype='object')"
      ]
     },
     "execution_count": 34,
     "metadata": {},
     "output_type": "execute_result"
    }
   ],
   "source": [
    "nline_df.columns"
   ]
  },
  {
   "cell_type": "code",
   "execution_count": 35,
   "metadata": {
    "collapsed": false
   },
   "outputs": [
    {
     "name": "stderr",
     "output_type": "stream",
     "text": [
      "/Users/frankanayet/anaconda/lib/python2.7/site-packages/ipykernel/__main__.py:3: SettingWithCopyWarning: \n",
      "A value is trying to be set on a copy of a slice from a DataFrame\n",
      "\n",
      "See the caveats in the documentation: http://pandas.pydata.org/pandas-docs/stable/indexing.html#indexing-view-versus-copy\n",
      "  app.launch_new_instance()\n",
      "/Users/frankanayet/anaconda/lib/python2.7/site-packages/ipykernel/__main__.py:4: SettingWithCopyWarning: \n",
      "A value is trying to be set on a copy of a slice from a DataFrame\n",
      "\n",
      "See the caveats in the documentation: http://pandas.pydata.org/pandas-docs/stable/indexing.html#indexing-view-versus-copy\n",
      "/Users/frankanayet/anaconda/lib/python2.7/site-packages/ipykernel/__main__.py:5: SettingWithCopyWarning: \n",
      "A value is trying to be set on a copy of a slice from a DataFrame\n",
      "\n",
      "See the caveats in the documentation: http://pandas.pydata.org/pandas-docs/stable/indexing.html#indexing-view-versus-copy\n"
     ]
    },
    {
     "data": {
      "text/plain": [
       "'Pos'"
      ]
     },
     "execution_count": 35,
     "metadata": {},
     "output_type": "execute_result"
    }
   ],
   "source": [
    "#Make task as string\n",
    "nline_df['Task'] = nline_df['Task'].astype(str)\n",
    "nline_df['Task'][nline_df['Task']=='1'] = 'Pos'\n",
    "nline_df['Task'][nline_df['Task']=='2'] = 'Neg'\n",
    "nline_df['Task'][nline_df['Task']=='3'] = 'Word'\n",
    "nline_df['Task'].iloc[16]"
   ]
  },
  {
   "cell_type": "code",
   "execution_count": 36,
   "metadata": {
    "collapsed": false
   },
   "outputs": [
    {
     "data": {
      "text/plain": [
       "Subject  Run   Trial\n",
       "s_05001  run1  0        Pos\n",
       "               1        Pos\n",
       "               2        Pos\n",
       "               3        Pos\n",
       "               4        Pos\n",
       "               5        Pos\n",
       "               6        Pos\n",
       "               7        Pos\n",
       "               8        Pos\n",
       "               9        Pos\n",
       "               10       Pos\n",
       "               11       Pos\n",
       "               12       Pos\n",
       "               13       Pos\n",
       "               14       Pos\n",
       "               15       Pos\n",
       "               16       Pos\n",
       "               17       Pos\n",
       "               18       Pos\n",
       "               19       Pos\n",
       "               20       Pos\n",
       "               21       Pos\n",
       "               22       Pos\n",
       "               23       Pos\n",
       "               24       Pos\n",
       "               25       Pos\n",
       "               26       Pos\n",
       "               27       Pos\n",
       "               28       Pos\n",
       "               29       Pos\n",
       "                       ... \n",
       "         run4  18       Pos\n",
       "               19       Pos\n",
       "               20       Pos\n",
       "               21       Pos\n",
       "               22       Pos\n",
       "               23       Pos\n",
       "               24       Pos\n",
       "               25       Pos\n",
       "               26       Pos\n",
       "               27       Pos\n",
       "               28       Pos\n",
       "               29       Pos\n",
       "               30       Pos\n",
       "               31       Pos\n",
       "               32       Pos\n",
       "               33       Pos\n",
       "               34       Pos\n",
       "               35       Pos\n",
       "               36       Pos\n",
       "               37       Pos\n",
       "               38       Pos\n",
       "               39       Pos\n",
       "               40       Pos\n",
       "               41       Pos\n",
       "               42       Pos\n",
       "               43       Pos\n",
       "               44       Pos\n",
       "               45       Pos\n",
       "               46       Pos\n",
       "               47       Pos\n",
       "Name: Task, dtype: object"
      ]
     },
     "execution_count": 36,
     "metadata": {},
     "output_type": "execute_result"
    }
   ],
   "source": [
    "nline_df['Task']"
   ]
  },
  {
   "cell_type": "code",
   "execution_count": 37,
   "metadata": {
    "collapsed": false
   },
   "outputs": [
    {
     "data": {
      "text/plain": [
       "Subject  Run   Trial\n",
       "s_05001  run1  0        0.07\n",
       "               1        0.17\n",
       "               2        0.07\n",
       "               3        0.23\n",
       "               4        0.05\n",
       "               5        0.10\n",
       "               6        0.24\n",
       "               7        0.22\n",
       "               8        0.10\n",
       "               9        0.03\n",
       "               10       0.11\n",
       "               11       0.21\n",
       "               12       0.15\n",
       "               13       0.14\n",
       "               14       0.02\n",
       "               15       0.15\n",
       "               16       0.03\n",
       "               17       0.15\n",
       "               18       0.07\n",
       "               19       0.24\n",
       "               20       0.05\n",
       "               21       0.15\n",
       "               22       0.11\n",
       "               23       0.14\n",
       "               24       0.07\n",
       "               25       0.02\n",
       "               26       0.10\n",
       "               27       0.21\n",
       "               28       0.22\n",
       "               29       0.17\n",
       "                        ... \n",
       "         run4  18       0.05\n",
       "               19       0.24\n",
       "               20       0.03\n",
       "               21       0.07\n",
       "               22       0.02\n",
       "               23       0.22\n",
       "               24       0.15\n",
       "               25       0.14\n",
       "               26       0.10\n",
       "               27       0.07\n",
       "               28       0.17\n",
       "               29       0.21\n",
       "               30       0.11\n",
       "               31       0.23\n",
       "               32       0.10\n",
       "               33       0.05\n",
       "               34       0.17\n",
       "               35       0.14\n",
       "               36       0.24\n",
       "               37       0.10\n",
       "               38       0.03\n",
       "               39       0.07\n",
       "               40       0.22\n",
       "               41       0.02\n",
       "               42       0.15\n",
       "               43       0.15\n",
       "               44       0.21\n",
       "               45       0.23\n",
       "               46       0.07\n",
       "               47       0.11\n",
       "Name: LandmarkDist, dtype: float64"
      ]
     },
     "execution_count": 37,
     "metadata": {},
     "output_type": "execute_result"
    }
   ],
   "source": [
    "nline_df['Dist0'] = abs(nline_df['Line_pct'] - 0)\n",
    "nline_df['Dist100'] = abs(nline_df['Line_pct'] - 1)\n",
    "nline_df['Dist50'] = abs(nline_df['Line_pct'] - 0.5)\n",
    "nline_df['LandmarkDist'] = nline_df[['Dist0','Dist100','Dist50']].min(axis=1) \n",
    "nline_df['LandmarkDist']"
   ]
  },
  {
   "cell_type": "markdown",
   "metadata": {},
   "source": [
    "# Create Onset Files"
   ]
  },
  {
   "cell_type": "code",
   "execution_count": 38,
   "metadata": {
    "collapsed": true
   },
   "outputs": [],
   "source": [
    "nline_df['Missed'] = 0"
   ]
  },
  {
   "cell_type": "code",
   "execution_count": 39,
   "metadata": {
    "collapsed": false
   },
   "outputs": [
    {
     "name": "stderr",
     "output_type": "stream",
     "text": [
      "/Users/frankanayet/anaconda/lib/python2.7/site-packages/ipykernel/__main__.py:1: SettingWithCopyWarning: \n",
      "A value is trying to be set on a copy of a slice from a DataFrame\n",
      "\n",
      "See the caveats in the documentation: http://pandas.pydata.org/pandas-docs/stable/indexing.html#indexing-view-versus-copy\n",
      "  if __name__ == '__main__':\n"
     ]
    },
    {
     "data": {
      "text/plain": [
       "Subject  Run   Trial\n",
       "s_05001  run1  5        1\n",
       "               6        1\n",
       "               8        1\n",
       "               10       1\n",
       "               13       1\n",
       "               19       1\n",
       "               20       1\n",
       "               22       1\n",
       "               23       1\n",
       "               26       1\n",
       "               30       1\n",
       "               34       1\n",
       "               38       1\n",
       "               39       1\n",
       "               42       1\n",
       "               46       1\n",
       "         run3  0        1\n",
       "               1        1\n",
       "               2        1\n",
       "               3        1\n",
       "               4        1\n",
       "               6        1\n",
       "               8        1\n",
       "               9        1\n",
       "               10       1\n",
       "               11       1\n",
       "               12       1\n",
       "               13       1\n",
       "               16       1\n",
       "               17       1\n",
       "                       ..\n",
       "         run2  3        1\n",
       "               4        1\n",
       "               5        1\n",
       "               7        1\n",
       "               9        1\n",
       "               12       1\n",
       "               13       1\n",
       "               16       1\n",
       "               17       1\n",
       "               19       1\n",
       "               21       1\n",
       "               22       1\n",
       "               23       1\n",
       "               24       1\n",
       "               26       1\n",
       "               34       1\n",
       "               35       1\n",
       "               39       1\n",
       "               43       1\n",
       "               45       1\n",
       "               46       1\n",
       "               47       1\n",
       "         run4  4        1\n",
       "               14       1\n",
       "               23       1\n",
       "               24       1\n",
       "               26       1\n",
       "               37       1\n",
       "               40       1\n",
       "               42       1\n",
       "Name: Error, dtype: int64"
      ]
     },
     "execution_count": 39,
     "metadata": {},
     "output_type": "execute_result"
    }
   ],
   "source": [
    "nline_df['Missed'][(nline_df.catch < 1) & (nline_df.Error == 1)] = 1\n",
    "nline_df[(nline_df.Missed == 1)]['Error']"
   ]
  },
  {
   "cell_type": "code",
   "execution_count": 40,
   "metadata": {
    "collapsed": false
   },
   "outputs": [
    {
     "name": "stderr",
     "output_type": "stream",
     "text": [
      "/Users/frankanayet/anaconda/lib/python2.7/site-packages/ipykernel/__main__.py:1: SettingWithCopyWarning: \n",
      "A value is trying to be set on a copy of a slice from a DataFrame\n",
      "\n",
      "See the caveats in the documentation: http://pandas.pydata.org/pandas-docs/stable/indexing.html#indexing-view-versus-copy\n",
      "  if __name__ == '__main__':\n"
     ]
    },
    {
     "data": {
      "text/plain": [
       "Subject  Run   Trial\n",
       "s_05001  run1  4       -1\n",
       "               5        1\n",
       "               6        1\n",
       "               8        1\n",
       "               10       1\n",
       "               13       1\n",
       "               19       1\n",
       "               20       1\n",
       "               22       1\n",
       "               23       1\n",
       "               26       1\n",
       "               30       1\n",
       "               34       1\n",
       "               38       1\n",
       "               39       1\n",
       "               42       1\n",
       "               46       1\n",
       "               47      -1\n",
       "         run3  0        1\n",
       "               1        1\n",
       "               2        1\n",
       "               3        1\n",
       "               4        1\n",
       "               6        1\n",
       "               8        1\n",
       "               9        1\n",
       "               10       1\n",
       "               11       1\n",
       "               12       1\n",
       "               13       1\n",
       "                       ..\n",
       "         run2  5        1\n",
       "               7        1\n",
       "               9        1\n",
       "               12       1\n",
       "               13       1\n",
       "               16       1\n",
       "               17       1\n",
       "               19       1\n",
       "               21       1\n",
       "               22       1\n",
       "               23       1\n",
       "               24       1\n",
       "               26       1\n",
       "               33      -1\n",
       "               34       1\n",
       "               35       1\n",
       "               39       1\n",
       "               43       1\n",
       "               45       1\n",
       "               46       1\n",
       "               47       1\n",
       "         run4  4        1\n",
       "               10      -1\n",
       "               14       1\n",
       "               23       1\n",
       "               24       1\n",
       "               26       1\n",
       "               37       1\n",
       "               40       1\n",
       "               42       1\n",
       "Name: Error, dtype: int64"
      ]
     },
     "execution_count": 40,
     "metadata": {},
     "output_type": "execute_result"
    }
   ],
   "source": [
    "nline_df['Missed'][(nline_df.catch < 1) & (abs(nline_df.Error) >= 0.1)] = 1\n",
    "nline_df[(nline_df.Missed == 1)]['Error']"
   ]
  },
  {
   "cell_type": "code",
   "execution_count": 50,
   "metadata": {
    "collapsed": false
   },
   "outputs": [
    {
     "data": {
      "text/plain": [
       "BadPress               105\n",
       "Block                  105\n",
       "Click                  105\n",
       "Correct                105\n",
       "Error                  105\n",
       "ITI_onset              105\n",
       "ITI_onset_real         105\n",
       "Line_pct               105\n",
       "Move                   105\n",
       "Points                 105\n",
       "Probe                  105\n",
       "RT                     105\n",
       "RTHold                 105\n",
       "Response               105\n",
       "Slow                   105\n",
       "Task                   105\n",
       "TestX                  105\n",
       "Trial                  105\n",
       "Wrong                  105\n",
       "catch                  105\n",
       "catch_probe              0\n",
       "consider_onset         105\n",
       "consider_onset_real    105\n",
       "decision_end           105\n",
       "decision_end_real      105\n",
       "decision_onset         105\n",
       "decision_onset_real    105\n",
       "hold                   105\n",
       "hold_onset             105\n",
       "hold_onset_real        105\n",
       "iti                    105\n",
       "mouse_pos              105\n",
       "Dist0                  105\n",
       "Dist100                105\n",
       "Dist50                 105\n",
       "LandmarkDist           105\n",
       "Missed                 105\n",
       "dtype: int64"
      ]
     },
     "execution_count": 50,
     "metadata": {},
     "output_type": "execute_result"
    }
   ],
   "source": [
    "nline_df.loc[nline_df['catch']==1].count()"
   ]
  },
  {
   "cell_type": "code",
   "execution_count": 45,
   "metadata": {
    "collapsed": false
   },
   "outputs": [
    {
     "name": "stdout",
     "output_type": "stream",
     "text": [
      "s_05001\n"
     ]
    }
   ],
   "source": [
    "import string\n",
    "offset = 16\n",
    "tasks = nline_df.groupby('Task')\n",
    "labels = tasks.indices.keys()\n",
    "phase = ['cons', 'dec']\n",
    "big_dict = {}\n",
    "# Breaks always happen at the same time in the sequence\n",
    "break_onset = [[190, 6, 1],[388, 6, 1]]\n",
    "for s in nline_df.index.levels[0]:\n",
    "    print s\n",
    "    big_dict[s] = {}\n",
    "    #dec_ctch_onset[s] = {}\n",
    "    for r in nline_df.index.levels[1]:\n",
    "        #print r\n",
    "        big_dict[s][r] = {}\n",
    "        ctch = nline_df.loc[s].loc[r]['catch']\n",
    "        \n",
    "        problem_con = nline_df.loc[s].loc[r]['consider_onset_real'] - nline_df.loc[s].loc[r]['consider_onset']\n",
    "        problem_dec = nline_df.loc[s].loc[r]['decision_onset_real'] - nline_df.loc[s].loc[r]['decision_onset']\n",
    "        prob_con_idx = problem_con > 0.5\n",
    "        prob_dec_idx = problem_dec > 0.5\n",
    "        \n",
    "        if len(nline_df.loc[s].loc[r]['hold']) == 0:\n",
    "            hold = 2.5\n",
    "        else:\n",
    "            hold = min(nline_df.loc[s].loc[r]['hold'])\n",
    "        cons_duration = hold + cons_time\n",
    "        \n",
    "        problem_con = nline_df.loc[s].loc[r]['consider_onset_real'] - nline_df.loc[s].loc[r]['consider_onset']\n",
    "        problem_dec = nline_df.loc[s].loc[r]['decision_onset_real'] - nline_df.loc[s].loc[r]['decision_onset']\n",
    "        prob_con_idx = problem_con > 0.5\n",
    "        prob_dec_idx = problem_dec > 0.5\n",
    "        \n",
    "        bad_trials_con = nline_df.loc[s].loc[r]['consider_onset'] - offset\n",
    "        bad_trials_con = bad_trials_con[prob_con_idx==1]\n",
    "        big_dict[s][r]['con_bad_trials'] = pd.DataFrame.from_items([('time',bad_trials_con[bad_trials_con>=0]),('duration',cons_duration),('val',1)])\n",
    "        \n",
    "        bad_trials_dec = nline_df.loc[s].loc[r]['decision_onset'] - offset\n",
    "        bad_trials_dec = bad_trials_dec[prob_dec_idx==1]\n",
    "        big_dict[s][r]['dec_bad_trials'] = pd.DataFrame.from_items([('time',bad_trials_dec[bad_trials_dec>=0]),('duration',dec_time),('val',1)])\n",
    "        \n",
    "        for lab in labels:\n",
    "            big_dict[s][r][lab] = {}\n",
    "            Task = nline_df.loc[s].loc[r]['Task']\n",
    "            dec_ctch_tmp = nline_df.loc[s].loc[r]['decision_onset_real'] - offset\n",
    "            dec_ctch_tmp = dec_ctch_tmp[ctch==1]\n",
    "            dec_ctch_tmp = dec_ctch_tmp[Task==lab]\n",
    "            dec_ctch_tmp = dec_ctch_tmp[prob_dec_idx==0]\n",
    "            big_dict[s][r][lab]['dec_ctch_onset'] = pd.DataFrame.from_items([('time',dec_ctch_tmp[dec_ctch_tmp>=0]),('duration',dec_time),('val',1)])\n",
    "            for ph in phase:\n",
    "                if ph == 'dec':\n",
    "                    big_dict[s][r][lab][ph] = {}\n",
    "                    tmp_int = nline_df.loc[s].loc[r]['decision_onset_real'] - offset\n",
    "                    tmp_int = tmp_int[ctch==0]\n",
    "                    tmp_int = tmp_int[Task==lab]\n",
    "                    tmp_int = tmp_int[prob_dec_idx==0]\n",
    "                    big_dict[s][r][lab][ph] = pd.DataFrame.from_items([('time',tmp_int[tmp_int>=0]),('duration',dec_time),('val',1)])\n",
    "                elif ph == 'cons':\n",
    "                    big_dict[s][r][lab][ph] = {}\n",
    "                    tmp_int = nline_df.loc[s].loc[r]['consider_onset_real'] - offset\n",
    "                    tmp_int = tmp_int[Task==lab]\n",
    "                    tmp_int = tmp_int[prob_con_idx==0]\n",
    "                    big_dict[s][r][lab][ph] = pd.DataFrame.from_items([('time',tmp_int[tmp_int>=0]),('duration',cons_duration),('val',1)])\n",
    "            #big_dict[s][r]['onsets'] = pd.concat([big_dict[s][r]['cons'], big_dict[s][r]['dec']],join='outer',)\n",
    "            #big_dict[s][r]['onsets'] = big_dict[s][r]['onsets'].sort('time')\n",
    "                    "
   ]
  },
  {
   "cell_type": "code",
   "execution_count": 54,
   "metadata": {
    "collapsed": false
   },
   "outputs": [
    {
     "data": {
      "text/plain": [
       "{'Pos': {'cons':              time  duration  val\n",
       "  Trial                           \n",
       "  0        1.502519       3.5    1\n",
       "  1       13.502307       3.5    1\n",
       "  2       24.000947       3.5    1\n",
       "  3       37.500928       3.5    1\n",
       "  4       49.001219       3.5    1\n",
       "  5       62.501658       3.5    1\n",
       "  6       76.501103       3.5    1\n",
       "  7       87.501586       3.5    1\n",
       "  8       97.002130       3.5    1\n",
       "  9      109.501580       3.5    1\n",
       "  10     121.501137       3.5    1\n",
       "  11     138.501134       3.5    1\n",
       "  12     152.001073       3.5    1\n",
       "  13     164.501317       3.5    1\n",
       "  14     178.001733       3.5    1\n",
       "  15     190.500793       3.5    1\n",
       "  16     210.001096       3.5    1\n",
       "  17     220.001153       3.5    1\n",
       "  18     234.000852       3.5    1\n",
       "  19     245.001772       3.5    1\n",
       "  20     257.501235       3.5    1\n",
       "  21     271.001755       3.5    1\n",
       "  22     282.501868       3.5    1\n",
       "  23     297.501310       3.5    1\n",
       "  24     311.501128       3.5    1\n",
       "  25     323.502084       3.5    1\n",
       "  26     335.501339       3.5    1\n",
       "  27     347.001317       3.5    1\n",
       "  28     362.001822       3.5    1\n",
       "  29     373.501480       3.5    1\n",
       "  30     384.500860       3.5    1\n",
       "  31     396.502102       3.5    1\n",
       "  32     413.501729       3.5    1\n",
       "  33     425.002117       3.5    1\n",
       "  34     437.502081       3.5    1\n",
       "  35     449.001026       3.5    1\n",
       "  36     464.501998       3.5    1\n",
       "  37     478.501242       3.5    1\n",
       "  38     489.501813       3.5    1\n",
       "  39     502.001106       3.5    1\n",
       "  40     516.001560       3.5    1\n",
       "  41     526.501422       3.5    1\n",
       "  42     541.002149       3.5    1\n",
       "  43     552.001171       3.5    1\n",
       "  44     563.001143       3.5    1\n",
       "  45     574.001216       3.5    1\n",
       "  46     586.001077       3.5    1\n",
       "  47     600.502105       3.5    1, 'dec':              time  duration  val\n",
       "  Trial                           \n",
       "  4       53.514482         3    1\n",
       "  5       70.515206         3    1\n",
       "  6       82.015607         3    1\n",
       "  8      102.016530         3    1\n",
       "  10     129.001035         3    1\n",
       "  13     170.002711         3    1\n",
       "  19     250.506202         3    1\n",
       "  20     265.006818         3    1\n",
       "  22     289.007843         3    1\n",
       "  23     304.508524         3    1\n",
       "  26     340.510030         3    1\n",
       "  30     390.012136         3    1\n",
       "  34     442.514117         3    1\n",
       "  38     495.516634         3    1\n",
       "  39     510.000605         3    1\n",
       "  42     546.002128         3    1\n",
       "  46     591.504038         3    1\n",
       "  47     607.004599         3    1, 'dec_ctch_onset':              time  duration  val\n",
       "  Trial                           \n",
       "  0        7.512519         3    1\n",
       "  1       18.012948         3    1\n",
       "  2       30.513497         3    1\n",
       "  3       42.514010         3    1\n",
       "  7       91.515975         3    1\n",
       "  9      114.500415         3    1\n",
       "  11     145.501739         3    1\n",
       "  12     156.002179         3    1\n",
       "  14     183.503390         3    1\n",
       "  15     195.003718         3    1\n",
       "  16     214.004649         3    1\n",
       "  17     224.505096         3    1\n",
       "  18     239.505653         3    1\n",
       "  21     276.007290         3    1\n",
       "  24     315.508971         3    1\n",
       "  25     328.009515         3    1\n",
       "  27     355.010650         3    1\n",
       "  28     368.011241         3    1\n",
       "  29     378.511656         3    1\n",
       "  31     401.012605         3    1\n",
       "  32     418.013326         3    1\n",
       "  33     432.013844         3    1\n",
       "  35     456.514723         3    1\n",
       "  36     470.015545         3    1\n",
       "  37     484.016140         3    1\n",
       "  40     520.501029         3    1\n",
       "  41     531.501492         3    1\n",
       "  43     556.002534         3    1\n",
       "  44     567.002751         3    1\n",
       "  45     578.503487         3    1},\n",
       " 'con_bad_trials': Empty DataFrame\n",
       " Columns: [time, duration, val]\n",
       " Index: [],\n",
       " 'dec_bad_trials': Empty DataFrame\n",
       " Columns: [time, duration, val]\n",
       " Index: []}"
      ]
     },
     "execution_count": 54,
     "metadata": {},
     "output_type": "execute_result"
    }
   ],
   "source": [
    "big_dict['s_05001']['run1']"
   ]
  },
  {
   "cell_type": "code",
   "execution_count": 56,
   "metadata": {
    "collapsed": false
   },
   "outputs": [
    {
     "data": {
      "text/html": [
       "<div>\n",
       "<table border=\"1\" class=\"dataframe\">\n",
       "  <thead>\n",
       "    <tr style=\"text-align: right;\">\n",
       "      <th></th>\n",
       "      <th>time</th>\n",
       "      <th>duration</th>\n",
       "      <th>val</th>\n",
       "    </tr>\n",
       "    <tr>\n",
       "      <th>Trial</th>\n",
       "      <th></th>\n",
       "      <th></th>\n",
       "      <th></th>\n",
       "    </tr>\n",
       "  </thead>\n",
       "  <tbody>\n",
       "    <tr>\n",
       "      <th>4</th>\n",
       "      <td>53.514482</td>\n",
       "      <td>3</td>\n",
       "      <td>1</td>\n",
       "    </tr>\n",
       "    <tr>\n",
       "      <th>5</th>\n",
       "      <td>70.515206</td>\n",
       "      <td>3</td>\n",
       "      <td>1</td>\n",
       "    </tr>\n",
       "    <tr>\n",
       "      <th>6</th>\n",
       "      <td>82.015607</td>\n",
       "      <td>3</td>\n",
       "      <td>1</td>\n",
       "    </tr>\n",
       "    <tr>\n",
       "      <th>8</th>\n",
       "      <td>102.016530</td>\n",
       "      <td>3</td>\n",
       "      <td>1</td>\n",
       "    </tr>\n",
       "    <tr>\n",
       "      <th>10</th>\n",
       "      <td>129.001035</td>\n",
       "      <td>3</td>\n",
       "      <td>1</td>\n",
       "    </tr>\n",
       "    <tr>\n",
       "      <th>13</th>\n",
       "      <td>170.002711</td>\n",
       "      <td>3</td>\n",
       "      <td>1</td>\n",
       "    </tr>\n",
       "    <tr>\n",
       "      <th>19</th>\n",
       "      <td>250.506202</td>\n",
       "      <td>3</td>\n",
       "      <td>1</td>\n",
       "    </tr>\n",
       "    <tr>\n",
       "      <th>20</th>\n",
       "      <td>265.006818</td>\n",
       "      <td>3</td>\n",
       "      <td>1</td>\n",
       "    </tr>\n",
       "    <tr>\n",
       "      <th>22</th>\n",
       "      <td>289.007843</td>\n",
       "      <td>3</td>\n",
       "      <td>1</td>\n",
       "    </tr>\n",
       "    <tr>\n",
       "      <th>23</th>\n",
       "      <td>304.508524</td>\n",
       "      <td>3</td>\n",
       "      <td>1</td>\n",
       "    </tr>\n",
       "    <tr>\n",
       "      <th>26</th>\n",
       "      <td>340.510030</td>\n",
       "      <td>3</td>\n",
       "      <td>1</td>\n",
       "    </tr>\n",
       "    <tr>\n",
       "      <th>30</th>\n",
       "      <td>390.012136</td>\n",
       "      <td>3</td>\n",
       "      <td>1</td>\n",
       "    </tr>\n",
       "    <tr>\n",
       "      <th>34</th>\n",
       "      <td>442.514117</td>\n",
       "      <td>3</td>\n",
       "      <td>1</td>\n",
       "    </tr>\n",
       "    <tr>\n",
       "      <th>38</th>\n",
       "      <td>495.516634</td>\n",
       "      <td>3</td>\n",
       "      <td>1</td>\n",
       "    </tr>\n",
       "    <tr>\n",
       "      <th>39</th>\n",
       "      <td>510.000605</td>\n",
       "      <td>3</td>\n",
       "      <td>1</td>\n",
       "    </tr>\n",
       "    <tr>\n",
       "      <th>42</th>\n",
       "      <td>546.002128</td>\n",
       "      <td>3</td>\n",
       "      <td>1</td>\n",
       "    </tr>\n",
       "    <tr>\n",
       "      <th>46</th>\n",
       "      <td>591.504038</td>\n",
       "      <td>3</td>\n",
       "      <td>1</td>\n",
       "    </tr>\n",
       "    <tr>\n",
       "      <th>47</th>\n",
       "      <td>607.004599</td>\n",
       "      <td>3</td>\n",
       "      <td>1</td>\n",
       "    </tr>\n",
       "  </tbody>\n",
       "</table>\n",
       "</div>"
      ],
      "text/plain": [
       "             time  duration  val\n",
       "Trial                           \n",
       "4       53.514482         3    1\n",
       "5       70.515206         3    1\n",
       "6       82.015607         3    1\n",
       "8      102.016530         3    1\n",
       "10     129.001035         3    1\n",
       "13     170.002711         3    1\n",
       "19     250.506202         3    1\n",
       "20     265.006818         3    1\n",
       "22     289.007843         3    1\n",
       "23     304.508524         3    1\n",
       "26     340.510030         3    1\n",
       "30     390.012136         3    1\n",
       "34     442.514117         3    1\n",
       "38     495.516634         3    1\n",
       "39     510.000605         3    1\n",
       "42     546.002128         3    1\n",
       "46     591.504038         3    1\n",
       "47     607.004599         3    1"
      ]
     },
     "execution_count": 56,
     "metadata": {},
     "output_type": "execute_result"
    }
   ],
   "source": [
    "big_dict['s_05001']['run1']['Pos']['dec']"
   ]
  },
  {
   "cell_type": "code",
   "execution_count": 57,
   "metadata": {
    "collapsed": false
   },
   "outputs": [
    {
     "data": {
      "text/html": [
       "<div>\n",
       "<table border=\"1\" class=\"dataframe\">\n",
       "  <thead>\n",
       "    <tr style=\"text-align: right;\">\n",
       "      <th></th>\n",
       "      <th>time</th>\n",
       "      <th>duration</th>\n",
       "      <th>val</th>\n",
       "    </tr>\n",
       "    <tr>\n",
       "      <th>Trial</th>\n",
       "      <th></th>\n",
       "      <th></th>\n",
       "      <th></th>\n",
       "    </tr>\n",
       "  </thead>\n",
       "  <tbody>\n",
       "    <tr>\n",
       "      <th>0</th>\n",
       "      <td>7.512519</td>\n",
       "      <td>3</td>\n",
       "      <td>1</td>\n",
       "    </tr>\n",
       "    <tr>\n",
       "      <th>1</th>\n",
       "      <td>18.012948</td>\n",
       "      <td>3</td>\n",
       "      <td>1</td>\n",
       "    </tr>\n",
       "    <tr>\n",
       "      <th>2</th>\n",
       "      <td>30.513497</td>\n",
       "      <td>3</td>\n",
       "      <td>1</td>\n",
       "    </tr>\n",
       "    <tr>\n",
       "      <th>3</th>\n",
       "      <td>42.514010</td>\n",
       "      <td>3</td>\n",
       "      <td>1</td>\n",
       "    </tr>\n",
       "    <tr>\n",
       "      <th>7</th>\n",
       "      <td>91.515975</td>\n",
       "      <td>3</td>\n",
       "      <td>1</td>\n",
       "    </tr>\n",
       "    <tr>\n",
       "      <th>9</th>\n",
       "      <td>114.500415</td>\n",
       "      <td>3</td>\n",
       "      <td>1</td>\n",
       "    </tr>\n",
       "    <tr>\n",
       "      <th>11</th>\n",
       "      <td>145.501739</td>\n",
       "      <td>3</td>\n",
       "      <td>1</td>\n",
       "    </tr>\n",
       "    <tr>\n",
       "      <th>12</th>\n",
       "      <td>156.002179</td>\n",
       "      <td>3</td>\n",
       "      <td>1</td>\n",
       "    </tr>\n",
       "    <tr>\n",
       "      <th>14</th>\n",
       "      <td>183.503390</td>\n",
       "      <td>3</td>\n",
       "      <td>1</td>\n",
       "    </tr>\n",
       "    <tr>\n",
       "      <th>15</th>\n",
       "      <td>195.003718</td>\n",
       "      <td>3</td>\n",
       "      <td>1</td>\n",
       "    </tr>\n",
       "    <tr>\n",
       "      <th>16</th>\n",
       "      <td>214.004649</td>\n",
       "      <td>3</td>\n",
       "      <td>1</td>\n",
       "    </tr>\n",
       "    <tr>\n",
       "      <th>17</th>\n",
       "      <td>224.505096</td>\n",
       "      <td>3</td>\n",
       "      <td>1</td>\n",
       "    </tr>\n",
       "    <tr>\n",
       "      <th>18</th>\n",
       "      <td>239.505653</td>\n",
       "      <td>3</td>\n",
       "      <td>1</td>\n",
       "    </tr>\n",
       "    <tr>\n",
       "      <th>21</th>\n",
       "      <td>276.007290</td>\n",
       "      <td>3</td>\n",
       "      <td>1</td>\n",
       "    </tr>\n",
       "    <tr>\n",
       "      <th>24</th>\n",
       "      <td>315.508971</td>\n",
       "      <td>3</td>\n",
       "      <td>1</td>\n",
       "    </tr>\n",
       "    <tr>\n",
       "      <th>25</th>\n",
       "      <td>328.009515</td>\n",
       "      <td>3</td>\n",
       "      <td>1</td>\n",
       "    </tr>\n",
       "    <tr>\n",
       "      <th>27</th>\n",
       "      <td>355.010650</td>\n",
       "      <td>3</td>\n",
       "      <td>1</td>\n",
       "    </tr>\n",
       "    <tr>\n",
       "      <th>28</th>\n",
       "      <td>368.011241</td>\n",
       "      <td>3</td>\n",
       "      <td>1</td>\n",
       "    </tr>\n",
       "    <tr>\n",
       "      <th>29</th>\n",
       "      <td>378.511656</td>\n",
       "      <td>3</td>\n",
       "      <td>1</td>\n",
       "    </tr>\n",
       "    <tr>\n",
       "      <th>31</th>\n",
       "      <td>401.012605</td>\n",
       "      <td>3</td>\n",
       "      <td>1</td>\n",
       "    </tr>\n",
       "    <tr>\n",
       "      <th>32</th>\n",
       "      <td>418.013326</td>\n",
       "      <td>3</td>\n",
       "      <td>1</td>\n",
       "    </tr>\n",
       "    <tr>\n",
       "      <th>33</th>\n",
       "      <td>432.013844</td>\n",
       "      <td>3</td>\n",
       "      <td>1</td>\n",
       "    </tr>\n",
       "    <tr>\n",
       "      <th>35</th>\n",
       "      <td>456.514723</td>\n",
       "      <td>3</td>\n",
       "      <td>1</td>\n",
       "    </tr>\n",
       "    <tr>\n",
       "      <th>36</th>\n",
       "      <td>470.015545</td>\n",
       "      <td>3</td>\n",
       "      <td>1</td>\n",
       "    </tr>\n",
       "    <tr>\n",
       "      <th>37</th>\n",
       "      <td>484.016140</td>\n",
       "      <td>3</td>\n",
       "      <td>1</td>\n",
       "    </tr>\n",
       "    <tr>\n",
       "      <th>40</th>\n",
       "      <td>520.501029</td>\n",
       "      <td>3</td>\n",
       "      <td>1</td>\n",
       "    </tr>\n",
       "    <tr>\n",
       "      <th>41</th>\n",
       "      <td>531.501492</td>\n",
       "      <td>3</td>\n",
       "      <td>1</td>\n",
       "    </tr>\n",
       "    <tr>\n",
       "      <th>43</th>\n",
       "      <td>556.002534</td>\n",
       "      <td>3</td>\n",
       "      <td>1</td>\n",
       "    </tr>\n",
       "    <tr>\n",
       "      <th>44</th>\n",
       "      <td>567.002751</td>\n",
       "      <td>3</td>\n",
       "      <td>1</td>\n",
       "    </tr>\n",
       "    <tr>\n",
       "      <th>45</th>\n",
       "      <td>578.503487</td>\n",
       "      <td>3</td>\n",
       "      <td>1</td>\n",
       "    </tr>\n",
       "  </tbody>\n",
       "</table>\n",
       "</div>"
      ],
      "text/plain": [
       "             time  duration  val\n",
       "Trial                           \n",
       "0        7.512519         3    1\n",
       "1       18.012948         3    1\n",
       "2       30.513497         3    1\n",
       "3       42.514010         3    1\n",
       "7       91.515975         3    1\n",
       "9      114.500415         3    1\n",
       "11     145.501739         3    1\n",
       "12     156.002179         3    1\n",
       "14     183.503390         3    1\n",
       "15     195.003718         3    1\n",
       "16     214.004649         3    1\n",
       "17     224.505096         3    1\n",
       "18     239.505653         3    1\n",
       "21     276.007290         3    1\n",
       "24     315.508971         3    1\n",
       "25     328.009515         3    1\n",
       "27     355.010650         3    1\n",
       "28     368.011241         3    1\n",
       "29     378.511656         3    1\n",
       "31     401.012605         3    1\n",
       "32     418.013326         3    1\n",
       "33     432.013844         3    1\n",
       "35     456.514723         3    1\n",
       "36     470.015545         3    1\n",
       "37     484.016140         3    1\n",
       "40     520.501029         3    1\n",
       "41     531.501492         3    1\n",
       "43     556.002534         3    1\n",
       "44     567.002751         3    1\n",
       "45     578.503487         3    1"
      ]
     },
     "execution_count": 57,
     "metadata": {},
     "output_type": "execute_result"
    }
   ],
   "source": [
    "big_dict['s_05001']['run1']['Pos']['dec_ctch_onset']"
   ]
  },
  {
   "cell_type": "markdown",
   "metadata": {},
   "source": [
    "## Save Files"
   ]
  },
  {
   "cell_type": "code",
   "execution_count": 58,
   "metadata": {
    "collapsed": false
   },
   "outputs": [
    {
     "name": "stdout",
     "output_type": "stream",
     "text": [
      "s_05001\n",
      "run1\n",
      "run3\n",
      "run2\n",
      "run4\n"
     ]
    }
   ],
   "source": [
    "for s in big_dict.keys():\n",
    "    print s\n",
    "    #Laptop\n",
    "    #path = '/Users/frankkanayet/Google Drive/NLineData/Beh_Data/OnsetFiles_LandmarksFull'\n",
    "    #path = '/Users/frankkanayet/Google Drive/NLineData/Beh_Data/OnsetFiles_LandmarksFull/'+s+'/'\n",
    "    #Desktop\n",
    "    #path = '/Users/frankanayet/Google Drive/NLineData/Beh_Data/OnsetFiles_LSS'\n",
    "    #path = '/Users/frankanayet/Google Drive/NLineData/Beh_Data/OnsetFiles_LSS/'+s+'/'\n",
    "    path = '/Users/frankanayet/Google Drive/NLineData/Beh_Data/Time_Check/OnsetFiles_LSS_tasks_'+str(offset)\n",
    "    path = '/Users/frankanayet/Google Drive/NLineData/Beh_Data/Time_Check/OnsetFiles_LSS_tasks_'+str(offset)+'/'+s+'/'\n",
    "    os.makedirs(path)\n",
    "    for r in big_dict[s].keys():\n",
    "        print r\n",
    "        dec_bad_filename = s+'_'+r+'_DEC_BAD'+'.txt'\n",
    "        dec_bad_pathfile = path+dec_bad_filename\n",
    "        big_dict[s][r]['dec_bad_trials'].to_csv(dec_bad_pathfile, sep='\\t', header=False, index=False)\n",
    "        \n",
    "        con_bad_filename = s+'_'+r+'_CON_BAD'+'.txt'\n",
    "        con_bad_pathfile = path+con_bad_filename\n",
    "        big_dict[s][r]['con_bad_trials'].to_csv(con_bad_pathfile, sep='\\t', header=False, index=False)\n",
    "        \n",
    "        del big_dict[s][r]['dec_bad_trials']\n",
    "        del big_dict[s][r]['con_bad_trials']\n",
    "\n",
    "        for  lab in big_dict[s][r].keys():\n",
    "            for ph in big_dict[s][r][lab].keys():\n",
    "                filename = s+'_'+lab+'_'+r+'_'+ph+'.txt'\n",
    "                pathfile = path+filename\n",
    "                big_dict[s][r][lab][ph].to_csv(pathfile, sep='\\t', header=False, index=False)"
   ]
  },
  {
   "cell_type": "code",
   "execution_count": 60,
   "metadata": {
    "collapsed": false
   },
   "outputs": [],
   "source": [
    "#Save Break onset file\n",
    "#path = '/Users/frankanayet/Google Drive/NLineData/Beh_Data/OnsetFiles_LSS/'\n",
    "path = '/Users/frankanayet/Google Drive/NLineData/Beh_Data/Time_Check/OnsetFiles_LSS_tasks_'+str(offset)\n",
    "#Desktop\n",
    "break_onset = pd.DataFrame.from_items([('time',[206-offset, 404-offset]),('duration',[6,6]),('val',[1,1])])\n",
    "break_filename = 'Break_onsets.txt'\n",
    "break_pathfile = path+'/'+break_filename\n",
    "break_onset.to_csv(break_pathfile, sep='\\t', header=False, index=False)"
   ]
  },
  {
   "cell_type": "code",
   "execution_count": null,
   "metadata": {
    "collapsed": true
   },
   "outputs": [],
   "source": []
  }
 ],
 "metadata": {
  "kernelspec": {
   "display_name": "Python 2",
   "language": "python",
   "name": "python2"
  },
  "language_info": {
   "codemirror_mode": {
    "name": "ipython",
    "version": 2
   },
   "file_extension": ".py",
   "mimetype": "text/x-python",
   "name": "python",
   "nbconvert_exporter": "python",
   "pygments_lexer": "ipython2",
   "version": "2.7.11"
  }
 },
 "nbformat": 4,
 "nbformat_minor": 0
}
