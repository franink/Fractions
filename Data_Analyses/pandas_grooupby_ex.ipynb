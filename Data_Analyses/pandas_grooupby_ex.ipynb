{
 "metadata": {
  "name": "",
  "signature": "sha256:1ac10074d62f3c57a515dd397206a0f6eecb84525bb154a61d25cf8ef0b25410"
 },
 "nbformat": 3,
 "nbformat_minor": 0,
 "worksheets": [
  {
   "cells": [
    {
     "cell_type": "code",
     "collapsed": false,
     "input": [
      "import pandas as pd"
     ],
     "language": "python",
     "metadata": {},
     "outputs": [],
     "prompt_number": 2
    },
    {
     "cell_type": "code",
     "collapsed": false,
     "input": [
      "df = pd.DataFrame({'A' : ['foo', 'bar', 'foo', 'bar',\n",
      "   ...:                        'foo', 'bar', 'foo', 'foo'],\n",
      "   ...:                 'B' : ['one', 'one', 'two', 'three',\n",
      "   ...:                        'two', 'two', 'one', 'three'],\n",
      "   ...:                 'C' : randn(8), 'D' : randn(8)})"
     ],
     "language": "python",
     "metadata": {},
     "outputs": [],
     "prompt_number": 5
    },
    {
     "cell_type": "code",
     "collapsed": false,
     "input": [
      "df"
     ],
     "language": "python",
     "metadata": {},
     "outputs": [
      {
       "html": [
        "<div style=\"max-height:1000px;max-width:1500px;overflow:auto;\">\n",
        "<table border=\"1\" class=\"dataframe\">\n",
        "  <thead>\n",
        "    <tr style=\"text-align: right;\">\n",
        "      <th></th>\n",
        "      <th>A</th>\n",
        "      <th>B</th>\n",
        "      <th>C</th>\n",
        "      <th>D</th>\n",
        "    </tr>\n",
        "  </thead>\n",
        "  <tbody>\n",
        "    <tr>\n",
        "      <th>0</th>\n",
        "      <td> foo</td>\n",
        "      <td>   one</td>\n",
        "      <td> 0.160436</td>\n",
        "      <td>-0.386911</td>\n",
        "    </tr>\n",
        "    <tr>\n",
        "      <th>1</th>\n",
        "      <td> bar</td>\n",
        "      <td>   one</td>\n",
        "      <td> 0.790041</td>\n",
        "      <td> 1.204080</td>\n",
        "    </tr>\n",
        "    <tr>\n",
        "      <th>2</th>\n",
        "      <td> foo</td>\n",
        "      <td>   two</td>\n",
        "      <td>-0.167561</td>\n",
        "      <td> 0.038347</td>\n",
        "    </tr>\n",
        "    <tr>\n",
        "      <th>3</th>\n",
        "      <td> bar</td>\n",
        "      <td> three</td>\n",
        "      <td> 1.670359</td>\n",
        "      <td> 0.789574</td>\n",
        "    </tr>\n",
        "    <tr>\n",
        "      <th>4</th>\n",
        "      <td> foo</td>\n",
        "      <td>   two</td>\n",
        "      <td> 1.513150</td>\n",
        "      <td> 2.131251</td>\n",
        "    </tr>\n",
        "    <tr>\n",
        "      <th>5</th>\n",
        "      <td> bar</td>\n",
        "      <td>   two</td>\n",
        "      <td>-0.641684</td>\n",
        "      <td>-0.956444</td>\n",
        "    </tr>\n",
        "    <tr>\n",
        "      <th>6</th>\n",
        "      <td> foo</td>\n",
        "      <td>   one</td>\n",
        "      <td> 0.944183</td>\n",
        "      <td> 1.086055</td>\n",
        "    </tr>\n",
        "    <tr>\n",
        "      <th>7</th>\n",
        "      <td> foo</td>\n",
        "      <td> three</td>\n",
        "      <td>-0.208160</td>\n",
        "      <td>-0.302122</td>\n",
        "    </tr>\n",
        "  </tbody>\n",
        "</table>\n",
        "</div>"
       ],
       "metadata": {},
       "output_type": "pyout",
       "prompt_number": 6,
       "text": [
        "     A      B         C         D\n",
        "0  foo    one  0.160436 -0.386911\n",
        "1  bar    one  0.790041  1.204080\n",
        "2  foo    two -0.167561  0.038347\n",
        "3  bar  three  1.670359  0.789574\n",
        "4  foo    two  1.513150  2.131251\n",
        "5  bar    two -0.641684 -0.956444\n",
        "6  foo    one  0.944183  1.086055\n",
        "7  foo  three -0.208160 -0.302122"
       ]
      }
     ],
     "prompt_number": 6
    },
    {
     "cell_type": "code",
     "collapsed": false,
     "input": [
      "grouped = df.groupby('A')\n",
      "grouped"
     ],
     "language": "python",
     "metadata": {},
     "outputs": [
      {
       "metadata": {},
       "output_type": "pyout",
       "prompt_number": 14,
       "text": [
        "<pandas.core.groupby.DataFrameGroupBy object at 0x10dda7e50>"
       ]
      }
     ],
     "prompt_number": 14
    },
    {
     "cell_type": "code",
     "collapsed": false,
     "input": [
      "grouped.first()"
     ],
     "language": "python",
     "metadata": {},
     "outputs": [
      {
       "html": [
        "<div style=\"max-height:1000px;max-width:1500px;overflow:auto;\">\n",
        "<table border=\"1\" class=\"dataframe\">\n",
        "  <thead>\n",
        "    <tr style=\"text-align: right;\">\n",
        "      <th></th>\n",
        "      <th>B</th>\n",
        "      <th>C</th>\n",
        "      <th>D</th>\n",
        "    </tr>\n",
        "    <tr>\n",
        "      <th>A</th>\n",
        "      <th></th>\n",
        "      <th></th>\n",
        "      <th></th>\n",
        "    </tr>\n",
        "  </thead>\n",
        "  <tbody>\n",
        "    <tr>\n",
        "      <th>bar</th>\n",
        "      <td> one</td>\n",
        "      <td> 0.790041</td>\n",
        "      <td> 1.204080</td>\n",
        "    </tr>\n",
        "    <tr>\n",
        "      <th>foo</th>\n",
        "      <td> one</td>\n",
        "      <td> 0.160436</td>\n",
        "      <td>-0.386911</td>\n",
        "    </tr>\n",
        "  </tbody>\n",
        "</table>\n",
        "</div>"
       ],
       "metadata": {},
       "output_type": "pyout",
       "prompt_number": 17,
       "text": [
        "       B         C         D\n",
        "A                           \n",
        "bar  one  0.790041  1.204080\n",
        "foo  one  0.160436 -0.386911"
       ]
      }
     ],
     "prompt_number": 17
    },
    {
     "cell_type": "code",
     "collapsed": false,
     "input": [
      "grouped.sum()\n"
     ],
     "language": "python",
     "metadata": {},
     "outputs": [
      {
       "html": [
        "<div style=\"max-height:1000px;max-width:1500px;overflow:auto;\">\n",
        "<table border=\"1\" class=\"dataframe\">\n",
        "  <thead>\n",
        "    <tr style=\"text-align: right;\">\n",
        "      <th></th>\n",
        "      <th>C</th>\n",
        "      <th>D</th>\n",
        "    </tr>\n",
        "    <tr>\n",
        "      <th>A</th>\n",
        "      <th></th>\n",
        "      <th></th>\n",
        "    </tr>\n",
        "  </thead>\n",
        "  <tbody>\n",
        "    <tr>\n",
        "      <th>bar</th>\n",
        "      <td> 1.818717</td>\n",
        "      <td> 1.037211</td>\n",
        "    </tr>\n",
        "    <tr>\n",
        "      <th>foo</th>\n",
        "      <td> 2.242047</td>\n",
        "      <td> 2.566620</td>\n",
        "    </tr>\n",
        "  </tbody>\n",
        "</table>\n",
        "</div>"
       ],
       "metadata": {},
       "output_type": "pyout",
       "prompt_number": 19,
       "text": [
        "            C         D\n",
        "A                      \n",
        "bar  1.818717  1.037211\n",
        "foo  2.242047  2.566620"
       ]
      }
     ],
     "prompt_number": 19
    },
    {
     "cell_type": "code",
     "collapsed": false,
     "input": [
      "grouped.groups"
     ],
     "language": "python",
     "metadata": {},
     "outputs": [
      {
       "metadata": {},
       "output_type": "pyout",
       "prompt_number": 22,
       "text": [
        "{'bar': [1, 3, 5], 'foo': [0, 2, 4, 6, 7]}"
       ]
      }
     ],
     "prompt_number": 22
    },
    {
     "cell_type": "code",
     "collapsed": false,
     "input": [
      "len(grouped)"
     ],
     "language": "python",
     "metadata": {},
     "outputs": [
      {
       "metadata": {},
       "output_type": "pyout",
       "prompt_number": 23,
       "text": [
        "2"
       ]
      }
     ],
     "prompt_number": 23
    },
    {
     "cell_type": "code",
     "collapsed": false,
     "input": [
      "grouped.plot()"
     ],
     "language": "python",
     "metadata": {},
     "outputs": [
      {
       "metadata": {},
       "output_type": "pyout",
       "prompt_number": 26,
       "text": [
        "A\n",
        "bar    Axes(0.125,0.1;0.775x0.8)\n",
        "foo    Axes(0.125,0.1;0.775x0.8)\n",
        "dtype: object"
       ]
      }
     ],
     "prompt_number": 26
    },
    {
     "cell_type": "code",
     "collapsed": false,
     "input": [
      "for name, group in grouped:\n",
      "   ....:        print(name)\n",
      "   ....:        print(group)"
     ],
     "language": "python",
     "metadata": {},
     "outputs": [
      {
       "output_type": "stream",
       "stream": "stdout",
       "text": [
        "bar\n",
        "     A      B         C         D\n",
        "1  bar    one  0.790041  1.204080\n",
        "3  bar  three  1.670359  0.789574\n",
        "5  bar    two -0.641684 -0.956444\n",
        "foo\n",
        "     A      B         C         D\n",
        "0  foo    one  0.160436 -0.386911\n",
        "2  foo    two -0.167561  0.038347\n",
        "4  foo    two  1.513150  2.131251\n",
        "6  foo    one  0.944183  1.086055\n",
        "7  foo  three -0.208160 -0.302122\n"
       ]
      }
     ],
     "prompt_number": 27
    },
    {
     "cell_type": "heading",
     "level": 3,
     "metadata": {},
     "source": [
      "Summary Statistics"
     ]
    },
    {
     "cell_type": "code",
     "collapsed": false,
     "input": [
      "grouped.describe()"
     ],
     "language": "python",
     "metadata": {},
     "outputs": [
      {
       "html": [
        "<div style=\"max-height:1000px;max-width:1500px;overflow:auto;\">\n",
        "<table border=\"1\" class=\"dataframe\">\n",
        "  <thead>\n",
        "    <tr style=\"text-align: right;\">\n",
        "      <th></th>\n",
        "      <th></th>\n",
        "      <th>C</th>\n",
        "      <th>D</th>\n",
        "    </tr>\n",
        "    <tr>\n",
        "      <th>A</th>\n",
        "      <th></th>\n",
        "      <th></th>\n",
        "      <th></th>\n",
        "    </tr>\n",
        "  </thead>\n",
        "  <tbody>\n",
        "    <tr>\n",
        "      <th rowspan=\"8\" valign=\"top\">bar</th>\n",
        "      <th>count</th>\n",
        "      <td> 3.000000</td>\n",
        "      <td> 3.000000</td>\n",
        "    </tr>\n",
        "    <tr>\n",
        "      <th>mean</th>\n",
        "      <td> 0.606239</td>\n",
        "      <td> 0.345737</td>\n",
        "    </tr>\n",
        "    <tr>\n",
        "      <th>std</th>\n",
        "      <td> 1.166929</td>\n",
        "      <td> 1.146608</td>\n",
        "    </tr>\n",
        "    <tr>\n",
        "      <th>min</th>\n",
        "      <td>-0.641684</td>\n",
        "      <td>-0.956444</td>\n",
        "    </tr>\n",
        "    <tr>\n",
        "      <th>25%</th>\n",
        "      <td> 0.074179</td>\n",
        "      <td>-0.083435</td>\n",
        "    </tr>\n",
        "    <tr>\n",
        "      <th>50%</th>\n",
        "      <td> 0.790041</td>\n",
        "      <td> 0.789574</td>\n",
        "    </tr>\n",
        "    <tr>\n",
        "      <th>75%</th>\n",
        "      <td> 1.230200</td>\n",
        "      <td> 0.996827</td>\n",
        "    </tr>\n",
        "    <tr>\n",
        "      <th>max</th>\n",
        "      <td> 1.670359</td>\n",
        "      <td> 1.204080</td>\n",
        "    </tr>\n",
        "    <tr>\n",
        "      <th rowspan=\"8\" valign=\"top\">foo</th>\n",
        "      <th>count</th>\n",
        "      <td> 5.000000</td>\n",
        "      <td> 5.000000</td>\n",
        "    </tr>\n",
        "    <tr>\n",
        "      <th>mean</th>\n",
        "      <td> 0.448409</td>\n",
        "      <td> 0.513324</td>\n",
        "    </tr>\n",
        "    <tr>\n",
        "      <th>std</th>\n",
        "      <td> 0.753806</td>\n",
        "      <td> 1.077808</td>\n",
        "    </tr>\n",
        "    <tr>\n",
        "      <th>min</th>\n",
        "      <td>-0.208160</td>\n",
        "      <td>-0.386911</td>\n",
        "    </tr>\n",
        "    <tr>\n",
        "      <th>25%</th>\n",
        "      <td>-0.167561</td>\n",
        "      <td>-0.302122</td>\n",
        "    </tr>\n",
        "    <tr>\n",
        "      <th>50%</th>\n",
        "      <td> 0.160436</td>\n",
        "      <td> 0.038347</td>\n",
        "    </tr>\n",
        "    <tr>\n",
        "      <th>75%</th>\n",
        "      <td> 0.944183</td>\n",
        "      <td> 1.086055</td>\n",
        "    </tr>\n",
        "    <tr>\n",
        "      <th>max</th>\n",
        "      <td> 1.513150</td>\n",
        "      <td> 2.131251</td>\n",
        "    </tr>\n",
        "  </tbody>\n",
        "</table>\n",
        "</div>"
       ],
       "metadata": {},
       "output_type": "pyout",
       "prompt_number": 28,
       "text": [
        "                  C         D\n",
        "A                            \n",
        "bar count  3.000000  3.000000\n",
        "    mean   0.606239  0.345737\n",
        "    std    1.166929  1.146608\n",
        "    min   -0.641684 -0.956444\n",
        "    25%    0.074179 -0.083435\n",
        "    50%    0.790041  0.789574\n",
        "    75%    1.230200  0.996827\n",
        "    max    1.670359  1.204080\n",
        "foo count  5.000000  5.000000\n",
        "    mean   0.448409  0.513324\n",
        "    std    0.753806  1.077808\n",
        "    min   -0.208160 -0.386911\n",
        "    25%   -0.167561 -0.302122\n",
        "    50%    0.160436  0.038347\n",
        "    75%    0.944183  1.086055\n",
        "    max    1.513150  2.131251"
       ]
      }
     ],
     "prompt_number": 28
    },
    {
     "cell_type": "code",
     "collapsed": false,
     "input": [
      "grouped['C'].agg([np.sum, np.mean, np.std])"
     ],
     "language": "python",
     "metadata": {},
     "outputs": [
      {
       "html": [
        "<div style=\"max-height:1000px;max-width:1500px;overflow:auto;\">\n",
        "<table border=\"1\" class=\"dataframe\">\n",
        "  <thead>\n",
        "    <tr style=\"text-align: right;\">\n",
        "      <th></th>\n",
        "      <th>sum</th>\n",
        "      <th>mean</th>\n",
        "      <th>std</th>\n",
        "    </tr>\n",
        "    <tr>\n",
        "      <th>A</th>\n",
        "      <th></th>\n",
        "      <th></th>\n",
        "      <th></th>\n",
        "    </tr>\n",
        "  </thead>\n",
        "  <tbody>\n",
        "    <tr>\n",
        "      <th>bar</th>\n",
        "      <td> 1.818717</td>\n",
        "      <td> 0.606239</td>\n",
        "      <td> 1.166929</td>\n",
        "    </tr>\n",
        "    <tr>\n",
        "      <th>foo</th>\n",
        "      <td> 2.242047</td>\n",
        "      <td> 0.448409</td>\n",
        "      <td> 0.753806</td>\n",
        "    </tr>\n",
        "  </tbody>\n",
        "</table>\n",
        "</div>"
       ],
       "metadata": {},
       "output_type": "pyout",
       "prompt_number": 29,
       "text": [
        "          sum      mean       std\n",
        "A                                \n",
        "bar  1.818717  0.606239  1.166929\n",
        "foo  2.242047  0.448409  0.753806"
       ]
      }
     ],
     "prompt_number": 29
    },
    {
     "cell_type": "heading",
     "level": 4,
     "metadata": {},
     "source": [
      "Not necessary to specify column"
     ]
    },
    {
     "cell_type": "code",
     "collapsed": false,
     "input": [
      "grouped.agg([np.sum, np.mean, np.std])"
     ],
     "language": "python",
     "metadata": {},
     "outputs": [
      {
       "html": [
        "<div style=\"max-height:1000px;max-width:1500px;overflow:auto;\">\n",
        "<table border=\"1\" class=\"dataframe\">\n",
        "  <thead>\n",
        "    <tr>\n",
        "      <th></th>\n",
        "      <th colspan=\"3\" halign=\"left\">C</th>\n",
        "      <th colspan=\"3\" halign=\"left\">D</th>\n",
        "    </tr>\n",
        "    <tr>\n",
        "      <th></th>\n",
        "      <th>sum</th>\n",
        "      <th>mean</th>\n",
        "      <th>std</th>\n",
        "      <th>sum</th>\n",
        "      <th>mean</th>\n",
        "      <th>std</th>\n",
        "    </tr>\n",
        "    <tr>\n",
        "      <th>A</th>\n",
        "      <th></th>\n",
        "      <th></th>\n",
        "      <th></th>\n",
        "      <th></th>\n",
        "      <th></th>\n",
        "      <th></th>\n",
        "    </tr>\n",
        "  </thead>\n",
        "  <tbody>\n",
        "    <tr>\n",
        "      <th>bar</th>\n",
        "      <td> 1.818717</td>\n",
        "      <td> 0.606239</td>\n",
        "      <td> 1.166929</td>\n",
        "      <td> 1.037211</td>\n",
        "      <td> 0.345737</td>\n",
        "      <td> 1.146608</td>\n",
        "    </tr>\n",
        "    <tr>\n",
        "      <th>foo</th>\n",
        "      <td> 2.242047</td>\n",
        "      <td> 0.448409</td>\n",
        "      <td> 0.753806</td>\n",
        "      <td> 2.566620</td>\n",
        "      <td> 0.513324</td>\n",
        "      <td> 1.077808</td>\n",
        "    </tr>\n",
        "  </tbody>\n",
        "</table>\n",
        "</div>"
       ],
       "metadata": {},
       "output_type": "pyout",
       "prompt_number": 30,
       "text": [
        "            C                             D                    \n",
        "          sum      mean       std       sum      mean       std\n",
        "A                                                              \n",
        "bar  1.818717  0.606239  1.166929  1.037211  0.345737  1.146608\n",
        "foo  2.242047  0.448409  0.753806  2.566620  0.513324  1.077808"
       ]
      }
     ],
     "prompt_number": 30
    },
    {
     "cell_type": "code",
     "collapsed": false,
     "input": [],
     "language": "python",
     "metadata": {},
     "outputs": []
    }
   ],
   "metadata": {}
  }
 ]
}