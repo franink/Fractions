{
 "metadata": {
  "name": "Fraction_Behavioral"
 },
 "nbformat": 3,
 "nbformat_minor": 0,
 "worksheets": [
  {
   "cells": [
    {
     "cell_type": "code",
     "collapsed": false,
     "input": [
      "#Opened with --pylab flag\n",
      "#Need to create code to analyze piot data\n",
      "import pandas as pd\n",
      "import numpy as np\n",
      "from scipy import io\n",
      "import os\n",
      "import glob"
     ],
     "language": "python",
     "metadata": {},
     "outputs": [],
     "prompt_number": 1
    },
    {
     "cell_type": "code",
     "collapsed": false,
     "input": [
      "filepath = '/Users/frankkanayet/Dropbox/FractionExperiment/Pilot_Data'\n",
      "os.chdir(filepath)"
     ],
     "language": "python",
     "metadata": {},
     "outputs": [],
     "prompt_number": 2
    },
    {
     "cell_type": "code",
     "collapsed": false,
     "input": [
      "filenames = glob.glob('Frac_*.mat')\n",
      "print filenames\n",
      "#index to isolate subj numbers\n",
      "data_dict = {}\n",
      "for i in filenames:\n",
      "    id1 = filenames[0].find('_') + 1\n",
      "    id2 = filenames[0].find('-')\n",
      "    sub_nbr = i[id1:id2]\n",
      "    sub_name = i\n",
      "    s_id = 's_'+sub_nbr\n",
      "    data_dict[s_id] = io.loadmat(sub_name)\n",
      "\n",
      "#sub_name = filenames[0] #This will be changed to a loop for all subjects later\n",
      "#mat = io.loadmat(sub_name)\n",
      "data_dict.keys()"
     ],
     "language": "python",
     "metadata": {},
     "outputs": [
      {
       "output_type": "stream",
       "stream": "stdout",
       "text": [
        "['Frac_010-Oct0814a.mat', 'Frac_011-Oct0814a.mat', 'Frac_012-Oct1014a.mat', 'Frac_013-Oct1014a.mat', 'Frac_020-Oct0814a.mat', 'Frac_021-Oct1014a.mat', 'Frac_022-Oct1014a.mat']\n"
       ]
      },
      {
       "output_type": "pyout",
       "prompt_number": 3,
       "text": [
        "['s_021', 's_020', 's_022', 's_010', 's_011', 's_012', 's_013']"
       ]
      }
     ],
     "prompt_number": 3
    },
    {
     "cell_type": "code",
     "collapsed": false,
     "input": [
      "for i in data_dict:\n",
      "    data_dict[i].pop('__header__')\n",
      "    data_dict[i].pop('__version__')\n",
      "    data_dict[i].pop('__globals__')\n",
      "data_dict['s_010'].keys()"
     ],
     "language": "python",
     "metadata": {},
     "outputs": [
      {
       "output_type": "pyout",
       "prompt_number": 4,
       "text": [
        "['numlineResults', 'nMatchResults', 'fCompResults']"
       ]
      }
     ],
     "prompt_number": 4
    },
    {
     "cell_type": "code",
     "collapsed": false,
     "input": [
      "new_dat = {}\n",
      "new_df = {}\n",
      "for s in data_dict:\n",
      "    tasks = data_dict[s].keys()\n",
      "    new_dat[s]={}\n",
      "    new_df[s] = {}\n",
      "    for task in tasks:\n",
      "        dat = data_dict[s][task]\n",
      "        dat_names = dat[0][:]\n",
      "        new_dat[s][task] = {}\n",
      "        for i in range(0,len(dat_names)):\n",
      "            new_dat[s][task][dat_names[i][0]] = []\n",
      "            for j in range(0,len(dat[:][:])-1):\n",
      "                new_dat[s][task][dat_names[i][0]].append(dat[j+1][i][0][0])\n",
      "        new_df[s][task] = pd.DataFrame(new_dat[s][task])\n",
      "new_dat['s_010'].keys()\n",
      "#legible access to the data\n",
      "mat = 'nMatchResults' #Match task\n",
      "comp = 'fCompResults' #Fraction comparison\n",
      "nline = 'numlineResults' #numberline"
     ],
     "language": "python",
     "metadata": {},
     "outputs": [],
     "prompt_number": 5
    },
    {
     "cell_type": "code",
     "collapsed": false,
     "input": [
      "new_df['s_011'][nline]"
     ],
     "language": "python",
     "metadata": {},
     "outputs": [
      {
       "html": [
        "<pre>\n",
        "&lt;class 'pandas.core.frame.DataFrame'&gt;\n",
        "Int64Index: 144 entries, 0 to 143\n",
        "Data columns (total 9 columns):\n",
        "Cons_RT      144  non-null values\n",
        "Correct      144  non-null values\n",
        "Denom        144  non-null values\n",
        "Error        144  non-null values\n",
        "Mouse_Pos    144  non-null values\n",
        "Num          144  non-null values\n",
        "RT           144  non-null values\n",
        "Response     144  non-null values\n",
        "Value        144  non-null values\n",
        "dtypes: float64(7), int64(2)\n",
        "</pre>"
       ],
       "output_type": "pyout",
       "prompt_number": 6,
       "text": [
        "<class 'pandas.core.frame.DataFrame'>\n",
        "Int64Index: 144 entries, 0 to 143\n",
        "Data columns (total 9 columns):\n",
        "Cons_RT      144  non-null values\n",
        "Correct      144  non-null values\n",
        "Denom        144  non-null values\n",
        "Error        144  non-null values\n",
        "Mouse_Pos    144  non-null values\n",
        "Num          144  non-null values\n",
        "RT           144  non-null values\n",
        "Response     144  non-null values\n",
        "Value        144  non-null values\n",
        "dtypes: float64(7), int64(2)"
       ]
      }
     ],
     "prompt_number": 6
    },
    {
     "cell_type": "code",
     "collapsed": false,
     "input": [
      "sub_list = new_df.keys()\n",
      "task_list = new_df[sub_list[3]].keys()\n",
      "sub_list"
     ],
     "language": "python",
     "metadata": {},
     "outputs": [
      {
       "output_type": "pyout",
       "prompt_number": 7,
       "text": [
        "['s_021', 's_020', 's_022', 's_010', 's_011', 's_012', 's_013']"
       ]
      }
     ],
     "prompt_number": 7
    },
    {
     "cell_type": "code",
     "collapsed": false,
     "input": [
      "task_list"
     ],
     "language": "python",
     "metadata": {},
     "outputs": [
      {
       "output_type": "pyout",
       "prompt_number": 8,
       "text": [
        "['nMatchResults', 'numlineResults', 'fCompResults']"
       ]
      }
     ],
     "prompt_number": 8
    },
    {
     "cell_type": "code",
     "collapsed": false,
     "input": [
      "new_df[sub_list[1]][task_list[1]]"
     ],
     "language": "python",
     "metadata": {},
     "outputs": [
      {
       "html": [
        "<pre>\n",
        "&lt;class 'pandas.core.frame.DataFrame'&gt;\n",
        "Int64Index: 144 entries, 0 to 143\n",
        "Data columns (total 9 columns):\n",
        "Cons_RT      144  non-null values\n",
        "Correct      144  non-null values\n",
        "Denom        144  non-null values\n",
        "Error        144  non-null values\n",
        "Mouse_Pos    144  non-null values\n",
        "Num          144  non-null values\n",
        "RT           144  non-null values\n",
        "Response     144  non-null values\n",
        "Value        144  non-null values\n",
        "dtypes: float64(7), int64(2)\n",
        "</pre>"
       ],
       "output_type": "pyout",
       "prompt_number": 30,
       "text": [
        "<class 'pandas.core.frame.DataFrame'>\n",
        "Int64Index: 144 entries, 0 to 143\n",
        "Data columns (total 9 columns):\n",
        "Cons_RT      144  non-null values\n",
        "Correct      144  non-null values\n",
        "Denom        144  non-null values\n",
        "Error        144  non-null values\n",
        "Mouse_Pos    144  non-null values\n",
        "Num          144  non-null values\n",
        "RT           144  non-null values\n",
        "Response     144  non-null values\n",
        "Value        144  non-null values\n",
        "dtypes: float64(7), int64(2)"
       ]
      }
     ],
     "prompt_number": 30
    },
    {
     "cell_type": "code",
     "collapsed": false,
     "input": [
      "# Plot RT histograms for numberline task\n",
      "for s in sub_list:\n",
      "    plot_data = new_df[s][task_list[1]]['RT']\n",
      "    plot_data = plot_data[plot_data > -1] # Get rid of trials without responses\n",
      "    tit = 'Numberline_RT '+s\n",
      "    fname = tit+'.png'\n",
      "    hist(plot_data,25)\n",
      "    pylab.title(tit, y = 1.04)\n",
      "    pylab.xlabel('Seconds', labelpad = 18)\n",
      "    pylab.ylabel('Frequency', labelpad = 18)\n",
      "    pylab.savefig(fname)\n",
      "    pylab.close()"
     ],
     "language": "python",
     "metadata": {},
     "outputs": [],
     "prompt_number": 9
    },
    {
     "cell_type": "code",
     "collapsed": false,
     "input": [
      "#How many missing trials?\n",
      "# Mean error\n",
      "# Mean RT\n",
      "# Median RT\n",
      "import csv\n",
      "res_d = {}\n",
      "for s in sub_list:\n",
      "    tit = s\n",
      "    miss_data = new_df[s][task_list[1]]['RT']\n",
      "    miss_data = miss_data[miss_data < 0]\n",
      "    RT_data = new_df[s][task_list[1]]['RT']\n",
      "    RT_data = RT_data[RT_data > 0]\n",
      "    Err_data = new_df[s][task_list[1]]['Error']\n",
      "    Err_data = Err_data[Err_data > -2]\n",
      "    rmse = np.sqrt(np.sum(Err_data**2)/len(Err_data))\n",
      "    mean_RT = np.mean(RT_data)\n",
      "    median_RT = np.median(RT_data)\n",
      "    res_d[s] = [len(miss_data)] # how many missing?\n",
      "    res_d[s].append(rmse)\n",
      "    res_d[s].append(mean_RT)\n",
      "    res_d[s].append(median_RT)\n",
      "out_df = pd.DataFrame(res_d, index = ['Missing', 'RMSE', 'Mean_RT', 'Median_RT'])\n",
      "out_df.to_csv('Nline_results.csv')\n"
     ],
     "language": "python",
     "metadata": {},
     "outputs": [],
     "prompt_number": 37
    },
    {
     "cell_type": "code",
     "collapsed": false,
     "input": [
      "# Plot RT vs Error for Numberline\n",
      "for s in sub_list:\n",
      "    plot_datax = new_df[s][task_list[1]]['RT']\n",
      "    plot_datax = plot_datax[plot_datax > -1] # Get rid of trials without responses\n",
      "    plot_datay = new_df[s][task_list[1]]['Error']\n",
      "    plot_datay = abs(plot_datay[plot_datay > -2]) # Get rid of trials without responses\n",
      "    tit = 'Numberline_RT Vs. Error '+s\n",
      "    fname = tit+'.png'\n",
      "    plot(plot_datax, plot_datay, ls = 'None', marker = 'o')\n",
      "    pylab.title(tit, y = 1.04)\n",
      "    pylab.xlabel('Seconds', labelpad = 18)\n",
      "    pylab.ylabel('Absolute Error', labelpad = 18)\n",
      "    pylab.savefig(fname)\n",
      "    pylab.close()"
     ],
     "language": "python",
     "metadata": {},
     "outputs": [],
     "prompt_number": 28
    },
    {
     "cell_type": "code",
     "collapsed": false,
     "input": [
      "# Plot Value vs Error for Numberline\n",
      "for s in sub_list:\n",
      "    plot_datax = new_df[s][task_list[1]]['Correct']\n",
      "    plot_datay = new_df[s][task_list[1]]['Error']\n",
      "    plot_datax = plot_datax[plot_datay > -2] # Get rid of trials without responses\n",
      "    plot_datay = abs(plot_datay[plot_datay > -2]) # Get rid of trials without responses\n",
      "    tit = 'Numberline_Value Vs. Error '+s\n",
      "    fname = tit+'.png'\n",
      "    plot(plot_datax, plot_datay, ls = 'None', marker = 'o')\n",
      "    pylab.title(tit, y = 1.04)\n",
      "    pylab.xlabel('Fraction Magnitude', labelpad = 18)\n",
      "    pylab.ylabel('Absolute Error', labelpad = 18)\n",
      "    pylab.savefig(fname)\n",
      "    pylab.close()"
     ],
     "language": "python",
     "metadata": {},
     "outputs": [],
     "prompt_number": 33
    },
    {
     "cell_type": "code",
     "collapsed": false,
     "input": [
      "# Plot Value vs RT for Numberline\n",
      "for s in sub_list:\n",
      "    plot_datax = new_df[s][task_list[1]]['Correct']\n",
      "    plot_datay = new_df[s][task_list[1]]['RT']\n",
      "    plot_datax = plot_datax[plot_datay > -1] # Get rid of trials without responses\n",
      "    plot_datay = abs(plot_datay[plot_datay > -1]) # Get rid of trials without responses\n",
      "    tit = 'Numberline_Value Vs. RT '+s\n",
      "    fname = tit+'.png'\n",
      "    plot(plot_datax, plot_datay, ls = 'None', marker = 'o')\n",
      "    pylab.title(tit, y = 1.04)\n",
      "    pylab.xlabel('Fraction Magnitude', labelpad = 18)\n",
      "    pylab.ylabel('RT', labelpad = 18)\n",
      "    pylab.savefig(fname)\n",
      "    pylab.close()"
     ],
     "language": "python",
     "metadata": {},
     "outputs": [],
     "prompt_number": 34
    },
    {
     "cell_type": "code",
     "collapsed": false,
     "input": [
      "# Plot RT histograms for fraction comparison task\n",
      "# Need to include get() to account for subj that did not perform this task\n",
      "for s in sub_list:\n",
      "    is_data = new_df[s].get(task_list[2], -1)\n",
      "    if is_data == -1:\n",
      "        continue\n",
      "    plot_data = new_df[s][task_list[2]]['RT']\n",
      "    plot_data = plot_data[plot_data > -1] # Get rid of trials without responses\n",
      "    tit = 'Fraction Comparison_RT '+s\n",
      "    fname = tit+'.png'\n",
      "    hist(plot_data,25)\n",
      "    pylab.title(tit, y = 1.04)\n",
      "    pylab.xlabel('Seconds', labelpad = 18)\n",
      "    pylab.ylabel('Frequency', labelpad = 18)\n",
      "    pylab.savefig(fname)\n",
      "    pylab.close()"
     ],
     "language": "python",
     "metadata": {},
     "outputs": []
    },
    {
     "cell_type": "code",
     "collapsed": false,
     "input": [
      "a = new_df[sub_list[2]].get(task_list[2], -1)\n",
      "print a"
     ],
     "language": "python",
     "metadata": {},
     "outputs": [
      {
       "output_type": "stream",
       "stream": "stdout",
       "text": [
        "-1\n"
       ]
      }
     ],
     "prompt_number": 49
    },
    {
     "cell_type": "code",
     "collapsed": false,
     "input": [],
     "language": "python",
     "metadata": {},
     "outputs": []
    }
   ],
   "metadata": {}
  }
 ]
}