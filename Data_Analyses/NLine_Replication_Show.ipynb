{
 "cells": [
  {
   "cell_type": "code",
   "execution_count": 1,
   "metadata": {
    "collapsed": false
   },
   "outputs": [],
   "source": [
    "%matplotlib inline\n",
    "import matplotlib as mpl\n",
    "import matplotlib.pyplot as plt\n",
    "import seaborn as sns\n",
    "import pandas as pd\n",
    "import numpy as np\n",
    "from scipy import io\n",
    "import os\n",
    "import glob"
   ]
  },
  {
   "cell_type": "code",
   "execution_count": 2,
   "metadata": {
    "collapsed": true
   },
   "outputs": [],
   "source": [
    "from IPython.display import HTML"
   ]
  },
  {
   "cell_type": "code",
   "execution_count": 3,
   "metadata": {
    "collapsed": false
   },
   "outputs": [
    {
     "data": {
      "text/html": [
       "<script>\n",
       "code_show=true; \n",
       "function code_toggle() {\n",
       " if (code_show){\n",
       " $('div.input').hide();\n",
       " } else {\n",
       " $('div.input').show();\n",
       " }\n",
       " code_show = !code_show\n",
       "} \n",
       "$( document ).ready(code_toggle);\n",
       "</script>\n",
       "The raw code for this IPython notebook is by default hidden for easier reading.\n",
       "To toggle on/off the raw code, click <a href=\"javascript:code_toggle()\">here</a>."
      ],
      "text/plain": [
       "<IPython.core.display.HTML object>"
      ]
     },
     "execution_count": 3,
     "metadata": {},
     "output_type": "execute_result"
    }
   ],
   "source": [
    "HTML('''<script>\n",
    "code_show=true; \n",
    "function code_toggle() {\n",
    " if (code_show){\n",
    " $('div.input').hide();\n",
    " } else {\n",
    " $('div.input').show();\n",
    " }\n",
    " code_show = !code_show\n",
    "} \n",
    "$( document ).ready(code_toggle);\n",
    "</script>\n",
    "The raw code for this IPython notebook is by default hidden for easier reading.\n",
    "To toggle on/off the raw code, click <a href=\"javascript:code_toggle()\">here</a>.''')"
   ]
  },
  {
   "cell_type": "code",
   "execution_count": 4,
   "metadata": {
    "collapsed": true
   },
   "outputs": [],
   "source": [
    "sns.set_style('white')\n",
    "sns.set_style('ticks')\n",
    "sns.set_palette('muted')\n",
    "sns.set_color_codes('muted')"
   ]
  },
  {
   "cell_type": "code",
   "execution_count": 5,
   "metadata": {
    "collapsed": false
   },
   "outputs": [],
   "source": [
    "## Desktop\n",
    "filepath = '/Users/frankanayet/Google Drive/NLineData/Beh_Data/Replication'\n",
    "os.chdir(filepath)"
   ]
  },
  {
   "cell_type": "code",
   "execution_count": 6,
   "metadata": {
    "collapsed": false
   },
   "outputs": [
    {
     "name": "stdout",
     "output_type": "stream",
     "text": [
      "Pandas version 0.17.1\n"
     ]
    }
   ],
   "source": [
    "print 'Pandas version ' + pd.__version__"
   ]
  },
  {
   "cell_type": "code",
   "execution_count": 7,
   "metadata": {
    "collapsed": false
   },
   "outputs": [],
   "source": [
    "filenames = glob.glob('Nline_*.mat')\n",
    "#print filenames\n",
    "#index to isolate subj numbers\n",
    "data_dict = {}\n",
    "for i in filenames:\n",
    "    id1 = filenames[0].find('_') + 1\n",
    "    id2 = filenames[0].find('-')\n",
    "    sub_nbr = i[id1:id2]\n",
    "    sub_name = i\n",
    "    s_id = 's_'+sub_nbr\n",
    "    data_dict[s_id] = io.loadmat(sub_name)\n",
    "\n",
    "#sub_name = filenames[0] #This will be changed to a loop for all subjects later\n",
    "#mat = io.loadmat(sub_name)\n",
    "#data_dict.keys()"
   ]
  },
  {
   "cell_type": "code",
   "execution_count": 8,
   "metadata": {
    "collapsed": false
   },
   "outputs": [],
   "source": [
    "sub_ex = data_dict.keys()[-1]"
   ]
  },
  {
   "cell_type": "code",
   "execution_count": 9,
   "metadata": {
    "collapsed": false
   },
   "outputs": [],
   "source": [
    "#for i in data_dict:\n",
    "#    data_dict[i].pop('__header__')\n",
    "#    data_dict[i].pop('__version__')\n",
    "#    data_dict[i].pop('__globals__')\n",
    "#data_dict['s_00011'].keys()"
   ]
  },
  {
   "cell_type": "code",
   "execution_count": 10,
   "metadata": {
    "collapsed": false
   },
   "outputs": [
    {
     "data": {
      "text/plain": [
       "0"
      ]
     },
     "execution_count": 10,
     "metadata": {},
     "output_type": "execute_result"
    }
   ],
   "source": [
    "## The indexes of zeros are as follows [0][0][x][y][z][0] The x y z are the 3 dimensions of the data 3d matrix the zeros are padding\n",
    "data_dict[sub_ex]['p']['NlineResults'][0][0][1][13][2][0][0]\n",
    "#len(data_dict[sub_ex]['p']['NlineResults'][0][0][:])"
   ]
  },
  {
   "cell_type": "code",
   "execution_count": 11,
   "metadata": {
    "collapsed": false
   },
   "outputs": [],
   "source": [
    "#data_dict[sub_ex]['p'].dtype.names"
   ]
  },
  {
   "cell_type": "code",
   "execution_count": 12,
   "metadata": {
    "collapsed": false
   },
   "outputs": [],
   "source": [
    "#Comment this out for include all subjects\n",
    "#del data_dict['s_']"
   ]
  },
  {
   "cell_type": "code",
   "execution_count": 13,
   "metadata": {
    "collapsed": false
   },
   "outputs": [],
   "source": [
    "cons_time = data_dict[sub_ex]['p']['consider'][0][0][0][0]\n",
    "dec_time = data_dict[sub_ex]['p']['decision'][0][0][0][0]"
   ]
  },
  {
   "cell_type": "code",
   "execution_count": 14,
   "metadata": {
    "collapsed": false
   },
   "outputs": [],
   "source": [
    "new_dat = {}\n",
    "#new_df = {}\n",
    "for s in data_dict:\n",
    "    tasks = ['NlineResults']\n",
    "    new_dat[s]={}\n",
    "    #new_df[s] = {}\n",
    "    for task in tasks:\n",
    "        dat = data_dict[s]['p'][task]\n",
    "        num_fields = len(data_dict[s]['p'][task][0][0][0])\n",
    "        dat_names = []\n",
    "        for k in range(0,num_fields):\n",
    "            dat_names.append(dat[0][0][0][k][0][0])\n",
    "        new_dat[s][task] = {}\n",
    "        runs = data_dict[s]['p']['runs'][0][0][0][0]\n",
    "        for run in range(0,runs):\n",
    "            run_name = 'Run_'+str(run)\n",
    "            new_dat[s][task][run_name] = {}\n",
    "            for i in range(0,len(dat_names)):\n",
    "                new_dat[s][task][run_name][dat_names[i]] = []\n",
    "                for j in range(0,len(dat[0][0][:])-1):\n",
    "                    if dat_names[i] == 'catch_probe':\n",
    "                        new_dat[s][task][run_name][dat_names[i]].append(dat[0][0][j+1][i][run])\n",
    "                    elif dat_names[i] == 'Probe':\n",
    "                        new_dat[s][task][run_name][dat_names[i]].append(dat[0][0][j+1][i][run][0])\n",
    "                    else:\n",
    "                        new_dat[s][task][run_name][dat_names[i]].append(dat[0][0][j+1][i][run][0])\n",
    "#legible access to the data\n",
    "Nline = 'NlineResults' #numberline"
   ]
  },
  {
   "cell_type": "code",
   "execution_count": 15,
   "metadata": {
    "collapsed": false
   },
   "outputs": [],
   "source": [
    "#new_dat[sub_ex]['NlineResults']['Run_1'].keys()"
   ]
  },
  {
   "cell_type": "code",
   "execution_count": 16,
   "metadata": {
    "collapsed": false
   },
   "outputs": [
    {
     "data": {
      "text/plain": [
       "[array([3], dtype=uint8),\n",
       " array([11], dtype=uint8),\n",
       " array([77], dtype=uint8),\n",
       " array([45], dtype=uint8),\n",
       " array([28], dtype=uint8),\n",
       " array([74], dtype=uint8),\n",
       " array([85], dtype=uint8),\n",
       " array([21], dtype=uint8),\n",
       " array([60], dtype=uint8),\n",
       " array([7], dtype=uint8),\n",
       " array([98], dtype=uint8),\n",
       " array([36], dtype=uint8),\n",
       " array([65], dtype=uint8),\n",
       " array([33], dtype=uint8),\n",
       " array([57], dtype=uint8),\n",
       " array([90], dtype=uint8),\n",
       " u'ox',\n",
       " u'or',\n",
       " u'as',\n",
       " u'my',\n",
       " u'it',\n",
       " u'he',\n",
       " u'of',\n",
       " u'be',\n",
       " u'is',\n",
       " u'by',\n",
       " u'we',\n",
       " u'do',\n",
       " u'am',\n",
       " u'so',\n",
       " u'if',\n",
       " u'me',\n",
       " array([20], dtype=uint8),\n",
       " array([-94], dtype=int16),\n",
       " array([-86], dtype=int16),\n",
       " array([70], dtype=uint8),\n",
       " array([-58], dtype=int16),\n",
       " array([80], dtype=uint8),\n",
       " array([-34], dtype=int16),\n",
       " array([-28], dtype=int16),\n",
       " array([-78], dtype=int16),\n",
       " array([14], dtype=uint8),\n",
       " array([48], dtype=uint8),\n",
       " array([54], dtype=uint8),\n",
       " array([-10], dtype=int16),\n",
       " array([96], dtype=uint8),\n",
       " array([30], dtype=uint8),\n",
       " array([-44], dtype=int16)]"
      ]
     },
     "execution_count": 16,
     "metadata": {},
     "output_type": "execute_result"
    }
   ],
   "source": [
    "new_dat[sub_ex]['NlineResults']['Run_1']['Probe']"
   ]
  },
  {
   "cell_type": "code",
   "execution_count": 17,
   "metadata": {
    "collapsed": false
   },
   "outputs": [],
   "source": [
    "#new_dat[sub_ex]['NlineResults']['Run_1']['catch_probe']"
   ]
  },
  {
   "cell_type": "code",
   "execution_count": 18,
   "metadata": {
    "collapsed": false
   },
   "outputs": [],
   "source": [
    "#new_dat[sub_ex]['NlineResults']['Run_1']['MouseTrack']"
   ]
  },
  {
   "cell_type": "code",
   "execution_count": 19,
   "metadata": {
    "collapsed": false
   },
   "outputs": [],
   "source": [
    "subj = data_dict.keys()\n",
    "tasks = [Nline]\n",
    "tuples = []\n",
    "rows = len(data_dict[sub_ex]['p'][Nline][0][0][:])-1\n",
    "for s in subj:\n",
    "    runs = new_dat[s]['NlineResults'].keys()\n",
    "    for run in runs:\n",
    "        for i in range(0,rows):\n",
    "            tuples.append((s, run, i))\n",
    "len(tuples)\n",
    "#iterables = [subj,tasks,runs]\n",
    "indexes = pd.MultiIndex.from_tuples(tuples, names=['Subj', 'Run', 'Trial'])\n",
    "nline_cols = len(new_dat[sub_ex][Nline]['Run_0'].keys())"
   ]
  },
  {
   "cell_type": "code",
   "execution_count": 20,
   "metadata": {
    "collapsed": false
   },
   "outputs": [],
   "source": [
    "#indexes[90]"
   ]
  },
  {
   "cell_type": "code",
   "execution_count": 21,
   "metadata": {
    "collapsed": false
   },
   "outputs": [],
   "source": [
    "#indexes[1][1]"
   ]
  },
  {
   "cell_type": "code",
   "execution_count": 22,
   "metadata": {
    "collapsed": false
   },
   "outputs": [],
   "source": [
    "varnames = new_dat[sub_ex][Nline]['Run_0'].keys()"
   ]
  },
  {
   "cell_type": "code",
   "execution_count": 23,
   "metadata": {
    "collapsed": false
   },
   "outputs": [],
   "source": [
    "#len(indexes)"
   ]
  },
  {
   "cell_type": "code",
   "execution_count": 24,
   "metadata": {
    "collapsed": false
   },
   "outputs": [],
   "source": [
    "# Code empty cells of probes and catch_probes as Nan\n",
    "Dic_list = []\n",
    "probes = ['catch_probe', 'MouseTrack', 'Probe']\n",
    "for data in indexes:\n",
    "    temp_dict = {}\n",
    "    for var in varnames:\n",
    "        if var == probes[0]:\n",
    "            if len(new_dat.get(data[0]).get(Nline).get(data[1]).get(var)[data[2]]) == 0:\n",
    "                new_dat.get(data[0]).get(Nline).get(data[1]).get(var)[data[2]] = np.array([np.nan])\n",
    "            temp_dict[var] = new_dat.get(data[0]).get(Nline).get(data[1]).get(var)[data[2]][0]\n",
    "        elif var == probes[1]:\n",
    "            if new_dat.get(data[0]).get(Nline).get(data[1]).get(var,0) == 0:\n",
    "                new_dat.get(data[0]).get(Nline).get(data[1])[var] = []\n",
    "                new_dat.get(data[0]).get(Nline).get(data[1])[var].append(np.array([np.nan]))\n",
    "            elif len(new_dat.get(data[0]).get(Nline).get(data[1]).get(var)) <= data[2]:\n",
    "                new_dat.get(data[0]).get(Nline).get(data[1])[var].append(np.array([np.nan]))\n",
    "            temp_dict[var] = new_dat.get(data[0]).get(Nline).get(data[1]).get(var)[data[2]]\n",
    "        elif var == probes[2]:\n",
    "            if len(new_dat.get(data[0]).get(Nline).get(data[1]).get(var)[data[2]]) == 0:\n",
    "                new_dat.get(data[0]).get(Nline).get(data[1]).get(var)[data[2]] = np.array([np.nan])\n",
    "            elif len(new_dat.get(data[0]).get(Nline).get(data[1]).get(var)[data[2]]) == 1:\n",
    "                new_dat.get(data[0]).get(Nline).get(data[1]).get(var)[data[2]] = new_dat.get(data[0]).get(Nline).get(data[1]).get(var)[data[2]][0]\n",
    "            elif len(new_dat.get(data[0]).get(Nline).get(data[1]).get(var)[data[2]]) == 2:\n",
    "                new_dat.get(data[0]).get(Nline).get(data[1]).get(var)[data[2]] = new_dat.get(data[0]).get(Nline).get(data[1]).get(var)[data[2]]\n",
    "            temp_dict[var] = new_dat.get(data[0]).get(Nline).get(data[1]).get(var)[data[2]]\n",
    "        else:\n",
    "            if len(new_dat.get(data[0]).get(Nline).get(data[1]).get(var)[data[2]]) == 0:\n",
    "                new_dat.get(data[0]).get(Nline).get(data[1]).get(var)[data[2]] = np.array([np.nan])\n",
    "            temp_dict[var] = new_dat.get(data[0]).get(Nline).get(data[1]).get(var)[data[2]][0]\n",
    "    Dic_list.append(temp_dict)"
   ]
  },
  {
   "cell_type": "code",
   "execution_count": 25,
   "metadata": {
    "collapsed": false
   },
   "outputs": [],
   "source": [
    "#Dic_list[10]"
   ]
  },
  {
   "cell_type": "code",
   "execution_count": 26,
   "metadata": {
    "collapsed": false
   },
   "outputs": [],
   "source": [
    "#Create dataframe\n",
    "nline_df = pd.DataFrame(Dic_list, index=indexes)\n",
    "#sum(nline_df.loc[sub_ex].loc['Run_0'].iloc[0:48]['catch'])"
   ]
  },
  {
   "cell_type": "code",
   "execution_count": 27,
   "metadata": {
    "collapsed": false
   },
   "outputs": [],
   "source": [
    "#nline_df.loc[sub_ex].loc['Run_0'].iloc[0:10]['Error']"
   ]
  },
  {
   "cell_type": "code",
   "execution_count": 28,
   "metadata": {
    "collapsed": false
   },
   "outputs": [],
   "source": [
    "nline_df.index.names = ['Subject', 'Run', 'Trial']\n",
    "#nline_df.index.names"
   ]
  },
  {
   "cell_type": "code",
   "execution_count": 29,
   "metadata": {
    "collapsed": false
   },
   "outputs": [],
   "source": [
    "#plt.plot(nline_df.loc['s_04102','Run_2',0]['MouseTrack'])"
   ]
  },
  {
   "cell_type": "markdown",
   "metadata": {},
   "source": [
    "### Create Stim Labels"
   ]
  },
  {
   "cell_type": "markdown",
   "metadata": {},
   "source": [
    "Data Column Names"
   ]
  },
  {
   "cell_type": "code",
   "execution_count": 30,
   "metadata": {
    "collapsed": false
   },
   "outputs": [
    {
     "data": {
      "text/plain": [
       "Index([u'BadPress', u'Block', u'Click', u'Correct', u'Error', u'ITI_onset',\n",
       "       u'ITI_onset_real', u'Line_pct', u'MouseTrack', u'Move', u'Points',\n",
       "       u'Probe', u'RT', u'RTHold', u'Response', u'Slow', u'Task', u'TestX',\n",
       "       u'Trial', u'Wrong', u'catch', u'catch_probe', u'consider_onset',\n",
       "       u'consider_onset_real', u'decision_end', u'decision_end_real',\n",
       "       u'decision_onset', u'decision_onset_real', u'hold', u'hold_onset',\n",
       "       u'hold_onset_real', u'iti', u'mouse_pos'],\n",
       "      dtype='object')"
      ]
     },
     "execution_count": 30,
     "metadata": {},
     "output_type": "execute_result"
    }
   ],
   "source": [
    "nline_df.columns"
   ]
  },
  {
   "cell_type": "markdown",
   "metadata": {},
   "source": [
    "# Number Line Analyses"
   ]
  },
  {
   "cell_type": "markdown",
   "metadata": {},
   "source": [
    "### Accuracy & RT"
   ]
  },
  {
   "cell_type": "code",
   "execution_count": 31,
   "metadata": {
    "collapsed": false
   },
   "outputs": [],
   "source": [
    "nline_no_miss = nline_df[['Error', 'RT', 'RTHold', 'catch', 'Task', 'Line_pct', 'Response']]\n",
    "nline_no_miss = nline_no_miss[nline_no_miss['catch']<1]\n",
    "#len(nline_no_miss)"
   ]
  },
  {
   "cell_type": "code",
   "execution_count": 32,
   "metadata": {
    "collapsed": true
   },
   "outputs": [],
   "source": [
    "nline_no_miss = nline_no_miss.replace(-1, np.nan)\n",
    "nline_no_miss = nline_no_miss.drop('catch', 1)"
   ]
  },
  {
   "cell_type": "code",
   "execution_count": 33,
   "metadata": {
    "collapsed": false
   },
   "outputs": [],
   "source": [
    "nline_no_miss['Missed'] = nline_no_miss['Error']\n",
    "nline_no_miss['Missed'][nline_no_miss['Missed']<1] = 0\n",
    "#nline_missed"
   ]
  },
  {
   "cell_type": "code",
   "execution_count": 34,
   "metadata": {
    "collapsed": false
   },
   "outputs": [],
   "source": [
    "nline_missed = nline_no_miss.loc[nline_no_miss['Missed']==1,:]\n",
    "position_missed = nline_no_miss.groupby(['Task', 'Line_pct'])\n",
    "position_missed = position_missed['Missed']"
   ]
  },
  {
   "cell_type": "code",
   "execution_count": 35,
   "metadata": {
    "collapsed": false
   },
   "outputs": [],
   "source": [
    "#nline_no_miss['Missed']"
   ]
  },
  {
   "cell_type": "code",
   "execution_count": 38,
   "metadata": {
    "collapsed": false
   },
   "outputs": [
    {
     "name": "stderr",
     "output_type": "stream",
     "text": [
      "/Users/frankanayet/anaconda/lib/python2.7/site-packages/ipykernel/__main__.py:2: SettingWithCopyWarning: \n",
      "A value is trying to be set on a copy of a slice from a DataFrame.\n",
      "Try using .loc[row_indexer,col_indexer] = value instead\n",
      "\n",
      "See the caveats in the documentation: http://pandas.pydata.org/pandas-docs/stable/indexing.html#indexing-view-versus-copy\n",
      "  from ipykernel import kernelapp as app\n"
     ]
    }
   ],
   "source": [
    "responded = nline_no_miss.loc[nline_no_miss['Missed']==0,:]\n",
    "responded['AbsError'] = np.abs(responded['Error'])\n",
    "#nline_no_miss"
   ]
  },
  {
   "cell_type": "markdown",
   "metadata": {},
   "source": [
    "## How many trials missed?"
   ]
  },
  {
   "cell_type": "code",
   "execution_count": 41,
   "metadata": {
    "collapsed": false,
    "scrolled": true
   },
   "outputs": [
    {
     "data": {
      "text/plain": [
       "Subject\n",
       "s_04101     4\n",
       "s_04102    10\n",
       "s_04103    11\n",
       "s_04104    37\n",
       "s_04105    15\n",
       "s_04106    20\n",
       "s_04107    15\n",
       "s_04108     1\n",
       "s_04109     4\n",
       "s_04110     8\n",
       "s_04111     2\n",
       "s_04112     8\n",
       "s_04113    15\n",
       "s_04114     3\n",
       "s_04116    67\n",
       "s_04117    37\n",
       "s_04118     6\n",
       "s_04119     1\n",
       "s_04201     2\n",
       "s_04202     3\n",
       "s_04203     9\n",
       "s_04204     4\n",
       "s_04205     4\n",
       "s_04206     3\n",
       "s_04207     8\n",
       "s_04208    19\n",
       "s_04209     3\n",
       "s_04210     5\n",
       "s_04211     2\n",
       "s_04212     3\n",
       "s_04213     9\n",
       "s_04214    18\n",
       "s_04215    14\n",
       "s_04216     2\n",
       "s_04217     2\n",
       "s_04218     3\n",
       "s_04219     7\n",
       "s_04220     5\n",
       "Name: Missed, dtype: float64"
      ]
     },
     "execution_count": 41,
     "metadata": {},
     "output_type": "execute_result"
    }
   ],
   "source": [
    "nline_missed['Missed'].groupby(level=0).sum()\n"
   ]
  },
  {
   "cell_type": "code",
   "execution_count": 42,
   "metadata": {
    "collapsed": false
   },
   "outputs": [],
   "source": [
    "missed = nline_missed['Missed'].groupby(level=0).sum()"
   ]
  },
  {
   "cell_type": "code",
   "execution_count": 45,
   "metadata": {
    "collapsed": false
   },
   "outputs": [],
   "source": [
    "##Subject Standard Deviations (title for markdown deleted)\n",
    "#nline_no_miss_subj.std()"
   ]
  },
  {
   "cell_type": "code",
   "execution_count": 46,
   "metadata": {
    "collapsed": false
   },
   "outputs": [],
   "source": [
    "##Overall Standard Deviation (deleted from markdown)\n",
    "#np.mean(nline_no_miss_subj.std())"
   ]
  },
  {
   "cell_type": "markdown",
   "metadata": {},
   "source": [
    "##How many trials did they actually respond?"
   ]
  },
  {
   "cell_type": "markdown",
   "metadata": {},
   "source": [
    "Subject s_04102 only answered 6 trials of 4th run"
   ]
  },
  {
   "cell_type": "markdown",
   "metadata": {},
   "source": [
    "S_04116 seems to have not understood the word task"
   ]
  },
  {
   "cell_type": "code",
   "execution_count": 47,
   "metadata": {
    "collapsed": false
   },
   "outputs": [
    {
     "data": {
      "text/plain": [
       "Subject\n",
       "s_04101    140\n",
       "s_04102    102\n",
       "s_04103    133\n",
       "s_04104    107\n",
       "s_04105    129\n",
       "s_04106    124\n",
       "s_04107    129\n",
       "s_04108    143\n",
       "s_04109    140\n",
       "s_04110    136\n",
       "s_04111    142\n",
       "s_04112    136\n",
       "s_04113    129\n",
       "s_04114    141\n",
       "s_04115    144\n",
       "s_04116     77\n",
       "s_04117    107\n",
       "s_04118    138\n",
       "s_04119    143\n",
       "s_04201    142\n",
       "s_04202    141\n",
       "s_04203    135\n",
       "s_04204    140\n",
       "s_04205    140\n",
       "s_04206    141\n",
       "s_04207    136\n",
       "s_04208    125\n",
       "s_04209    141\n",
       "s_04210    139\n",
       "s_04211    142\n",
       "s_04212    141\n",
       "s_04213    135\n",
       "s_04214    126\n",
       "s_04215    130\n",
       "s_04216    142\n",
       "s_04217    142\n",
       "s_04218    141\n",
       "s_04219    137\n",
       "s_04220    139\n",
       "dtype: int64"
      ]
     },
     "execution_count": 47,
     "metadata": {},
     "output_type": "execute_result"
    }
   ],
   "source": [
    "responded['RT'].groupby(level=0).count()"
   ]
  },
  {
   "cell_type": "markdown",
   "metadata": {},
   "source": [
    "# RT Histograms"
   ]
  },
  {
   "cell_type": "code",
   "execution_count": 48,
   "metadata": {
    "collapsed": false
   },
   "outputs": [
    {
     "data": {
      "text/plain": [
       "<matplotlib.text.Text at 0x112f9eb90>"
      ]
     },
     "execution_count": 48,
     "metadata": {},
     "output_type": "execute_result"
    },
    {
     "data": {
      "image/png": "[encoded data removed]",
      "text/plain": [
       "<matplotlib.figure.Figure at 0x112ff2c10>"
      ]
     },
     "metadata": {},
     "output_type": "display_data"
    }
   ],
   "source": [
    "#pd.options.display.mpl_style = 'default'\n",
    "responded['RT'].hist(bins=30, range=[0,3])\n",
    "plt.ylim([0,600])\n",
    "plt.title('Number Line')\n",
    "plt.xlabel('Seconds', labelpad = 18)\n",
    "plt.ylabel('Frequency', labelpad = 18)"
   ]
  },
  {
   "cell_type": "markdown",
   "metadata": {},
   "source": [
    "## Missed by position (across subjects)"
   ]
  },
  {
   "cell_type": "code",
   "execution_count": 49,
   "metadata": {
    "collapsed": false
   },
   "outputs": [
    {
     "data": {
      "text/plain": [
       "Task  Line_pct\n",
       "1     0.03         8\n",
       "      0.07        11\n",
       "      0.11         7\n",
       "      0.21         9\n",
       "      0.28         8\n",
       "      0.33        10\n",
       "      0.36        10\n",
       "      0.45         6\n",
       "      0.57         6\n",
       "      0.60         4\n",
       "      0.65         5\n",
       "      0.74         8\n",
       "      0.77        12\n",
       "      0.85         8\n",
       "      0.90         8\n",
       "      0.98         8\n",
       "2     0.03         8\n",
       "      0.07         5\n",
       "      0.11         6\n",
       "      0.21        13\n",
       "      0.28         8\n",
       "      0.33         3\n",
       "      0.36         5\n",
       "      0.45         4\n",
       "      0.57         3\n",
       "      0.60         3\n",
       "      0.65         5\n",
       "      0.74         8\n",
       "      0.77         9\n",
       "      0.85        14\n",
       "      0.90         7\n",
       "      0.98         7\n",
       "3     0.03         9\n",
       "      0.07        15\n",
       "      0.11        11\n",
       "      0.21         7\n",
       "      0.28         8\n",
       "      0.33         7\n",
       "      0.36         8\n",
       "      0.45         7\n",
       "      0.57         7\n",
       "      0.60         9\n",
       "      0.65         9\n",
       "      0.74        12\n",
       "      0.77         8\n",
       "      0.85         8\n",
       "      0.90        16\n",
       "      0.98        12\n",
       "Name: Missed, dtype: float64"
      ]
     },
     "execution_count": 49,
     "metadata": {},
     "output_type": "execute_result"
    }
   ],
   "source": [
    "position_missed.sum()"
   ]
  },
  {
   "cell_type": "code",
   "execution_count": 50,
   "metadata": {
    "collapsed": false
   },
   "outputs": [],
   "source": [
    "missed_position = position_missed.sum()\n",
    "pos_miss_1 = missed_position.iloc[0:16]\n",
    "pos_miss_2 = missed_position.iloc[16:32]\n",
    "pos_miss_3 = missed_position.iloc[32:48]\n",
    "xvals = np.array([0.030, 0.070, 0.110, 0.210, 0.280, 0.330, 0.360, 0.450, 0.570, 0.600, 0.650, 0.740, 0.770, 0.850, 0.900, 0.980])\n",
    "#len(pos_miss_1)"
   ]
  },
  {
   "cell_type": "markdown",
   "metadata": {},
   "source": [
    "The following code gives me a list for the palette and I can iterate through it for the colors I need"
   ]
  },
  {
   "cell_type": "code",
   "execution_count": 51,
   "metadata": {
    "collapsed": false
   },
   "outputs": [],
   "source": [
    "pal = sns.color_palette()"
   ]
  },
  {
   "cell_type": "code",
   "execution_count": 52,
   "metadata": {
    "collapsed": false
   },
   "outputs": [
    {
     "data": {
      "image/png": "[encoded data removed]",
      "text/plain": [
       "<matplotlib.figure.Figure at 0x114f7bdd0>"
      ]
     },
     "metadata": {},
     "output_type": "display_data"
    }
   ],
   "source": [
    "fig = plt.figure(figsize=(12,12))\n",
    "fig1 = plt.subplot(3,1,1)\n",
    "fig1.plot(xvals, pos_miss_1, 'o-', color=pal[0])\n",
    "plt.title('Misses By Position N+')\n",
    "plt.xlabel('Line position in % N+', labelpad = 4)\n",
    "plt.ylabel('Misses')\n",
    "plt.ylim([0,17])\n",
    "plt.yticks(([0,4,8,12,16]))\n",
    "\n",
    "fig2 = plt.subplot(3,1,2)\n",
    "fig2.plot(xvals, pos_miss_2, color=pal[1], marker='s')\n",
    "plt.title('Misses By Position N-/+')\n",
    "plt.xlabel('Line position in & N-/+', labelpad = 4)\n",
    "plt.ylabel('Misses')\n",
    "plt.ylim([0,17])\n",
    "plt.yticks(([0,4,8,12,16]))\n",
    "\n",
    "fig3 = plt.subplot(3,1,3)\n",
    "fig3.plot(xvals, pos_miss_3, color=pal[2], marker='p')\n",
    "plt.title('Misses By Position Word')\n",
    "plt.xlabel('Line Position in % Word', labelpad = 4)\n",
    "plt.ylabel('Misses')\n",
    "plt.ylim([0,17])\n",
    "plt.yticks(([0,4,8,12,16]))\n",
    "\n",
    "plt.subplots_adjust(hspace=.4)"
   ]
  },
  {
   "cell_type": "markdown",
   "metadata": {},
   "source": [
    "## RTHold missed analysis"
   ]
  },
  {
   "cell_type": "markdown",
   "metadata": {},
   "source": [
    "##RTHold Subject Average"
   ]
  },
  {
   "cell_type": "code",
   "execution_count": 53,
   "metadata": {
    "collapsed": false
   },
   "outputs": [
    {
     "data": {
      "text/plain": [
       "Subject\n",
       "s_04101    0.760889\n",
       "s_04102    1.330117\n",
       "s_04103    0.575732\n",
       "s_04104    0.463784\n",
       "s_04105    0.623258\n",
       "s_04106    0.736115\n",
       "s_04107    0.550096\n",
       "s_04108    0.369036\n",
       "s_04109    1.114158\n",
       "s_04110    0.602176\n",
       "s_04111    0.688119\n",
       "s_04112    0.403312\n",
       "s_04113    0.728374\n",
       "s_04114    0.600681\n",
       "s_04116    2.077192\n",
       "s_04117    0.757407\n",
       "s_04118    0.704647\n",
       "s_04119    0.773352\n",
       "s_04201    1.150705\n",
       "s_04202    0.518021\n",
       "s_04203    0.556139\n",
       "s_04204    1.089988\n",
       "s_04205    0.591679\n",
       "s_04206    0.398903\n",
       "s_04207    0.362602\n",
       "s_04208    0.373545\n",
       "s_04209    0.394067\n",
       "s_04210    0.461892\n",
       "s_04211    0.482860\n",
       "s_04212    1.264613\n",
       "s_04213    1.199714\n",
       "s_04214    0.625229\n",
       "s_04215    0.734159\n",
       "s_04216    0.548096\n",
       "s_04217    0.435670\n",
       "s_04218    1.193555\n",
       "s_04219    0.977487\n",
       "s_04220    1.012856\n",
       "Name: RTHold, dtype: float64"
      ]
     },
     "execution_count": 53,
     "metadata": {},
     "output_type": "execute_result"
    }
   ],
   "source": [
    "nline_missed['RTHold'].groupby(level=0).mean()"
   ]
  },
  {
   "cell_type": "markdown",
   "metadata": {},
   "source": [
    "##RTHold Overall Average"
   ]
  },
  {
   "cell_type": "code",
   "execution_count": 54,
   "metadata": {
    "collapsed": false
   },
   "outputs": [
    {
     "data": {
      "text/plain": [
       "0.7429005850357813"
      ]
     },
     "execution_count": 54,
     "metadata": {},
     "output_type": "execute_result"
    }
   ],
   "source": [
    "np.mean(nline_missed['RTHold'].groupby(level=0).mean())"
   ]
  },
  {
   "cell_type": "code",
   "execution_count": 57,
   "metadata": {
    "collapsed": false,
    "scrolled": true
   },
   "outputs": [
    {
     "name": "stderr",
     "output_type": "stream",
     "text": [
      "/Users/frankanayet/anaconda/lib/python2.7/site-packages/pandas/core/indexing.py:266: SettingWithCopyWarning: \n",
      "A value is trying to be set on a copy of a slice from a DataFrame.\n",
      "Try using .loc[row_indexer,col_indexer] = value instead\n",
      "\n",
      "See the caveats in the documentation: http://pandas.pydata.org/pandas-docs/stable/indexing.html#indexing-view-versus-copy\n",
      "  self.obj[key] = _infer_fill_value(value)\n"
     ]
    }
   ],
   "source": [
    "responded.loc[:,'RT_Diff'] = responded['RT']-responded['RTHold']"
   ]
  },
  {
   "cell_type": "markdown",
   "metadata": {},
   "source": [
    "##Averages by subjected for responded trials"
   ]
  },
  {
   "cell_type": "code",
   "execution_count": 58,
   "metadata": {
    "collapsed": false
   },
   "outputs": [
    {
     "data": {
      "text/html": [
       "<div>\n",
       "<table border=\"1\" class=\"dataframe\">\n",
       "  <thead>\n",
       "    <tr style=\"text-align: right;\">\n",
       "      <th></th>\n",
       "      <th>Error</th>\n",
       "      <th>RT</th>\n",
       "      <th>RTHold</th>\n",
       "      <th>RT_Diff</th>\n",
       "      <th>AbsError</th>\n",
       "    </tr>\n",
       "    <tr>\n",
       "      <th>Subject</th>\n",
       "      <th></th>\n",
       "      <th></th>\n",
       "      <th></th>\n",
       "      <th></th>\n",
       "      <th></th>\n",
       "    </tr>\n",
       "  </thead>\n",
       "  <tbody>\n",
       "    <tr>\n",
       "      <th>s_04101</th>\n",
       "      <td>0.000367</td>\n",
       "      <td>2.126994</td>\n",
       "      <td>0.438679</td>\n",
       "      <td>1.688315</td>\n",
       "      <td>0.014450</td>\n",
       "    </tr>\n",
       "    <tr>\n",
       "      <th>s_04102</th>\n",
       "      <td>-0.001154</td>\n",
       "      <td>2.086361</td>\n",
       "      <td>0.562893</td>\n",
       "      <td>1.523468</td>\n",
       "      <td>0.029723</td>\n",
       "    </tr>\n",
       "    <tr>\n",
       "      <th>s_04103</th>\n",
       "      <td>-0.005674</td>\n",
       "      <td>2.213000</td>\n",
       "      <td>0.419749</td>\n",
       "      <td>1.793251</td>\n",
       "      <td>0.014655</td>\n",
       "    </tr>\n",
       "    <tr>\n",
       "      <th>s_04104</th>\n",
       "      <td>0.001768</td>\n",
       "      <td>2.136014</td>\n",
       "      <td>0.495792</td>\n",
       "      <td>1.640222</td>\n",
       "      <td>0.020394</td>\n",
       "    </tr>\n",
       "    <tr>\n",
       "      <th>s_04105</th>\n",
       "      <td>-0.004287</td>\n",
       "      <td>2.187713</td>\n",
       "      <td>0.453583</td>\n",
       "      <td>1.734130</td>\n",
       "      <td>0.018730</td>\n",
       "    </tr>\n",
       "    <tr>\n",
       "      <th>s_04106</th>\n",
       "      <td>-0.005307</td>\n",
       "      <td>2.278004</td>\n",
       "      <td>0.464659</td>\n",
       "      <td>1.813344</td>\n",
       "      <td>0.021909</td>\n",
       "    </tr>\n",
       "    <tr>\n",
       "      <th>s_04107</th>\n",
       "      <td>0.001220</td>\n",
       "      <td>2.255703</td>\n",
       "      <td>0.419663</td>\n",
       "      <td>1.836041</td>\n",
       "      <td>0.019135</td>\n",
       "    </tr>\n",
       "    <tr>\n",
       "      <th>s_04108</th>\n",
       "      <td>-0.005221</td>\n",
       "      <td>1.916144</td>\n",
       "      <td>0.392673</td>\n",
       "      <td>1.523472</td>\n",
       "      <td>0.018594</td>\n",
       "    </tr>\n",
       "    <tr>\n",
       "      <th>s_04109</th>\n",
       "      <td>-0.009659</td>\n",
       "      <td>1.953166</td>\n",
       "      <td>0.394496</td>\n",
       "      <td>1.558670</td>\n",
       "      <td>0.029116</td>\n",
       "    </tr>\n",
       "    <tr>\n",
       "      <th>s_04110</th>\n",
       "      <td>-0.000969</td>\n",
       "      <td>2.047309</td>\n",
       "      <td>0.440873</td>\n",
       "      <td>1.606436</td>\n",
       "      <td>0.028729</td>\n",
       "    </tr>\n",
       "    <tr>\n",
       "      <th>s_04111</th>\n",
       "      <td>0.002461</td>\n",
       "      <td>2.056291</td>\n",
       "      <td>0.459536</td>\n",
       "      <td>1.596756</td>\n",
       "      <td>0.025027</td>\n",
       "    </tr>\n",
       "    <tr>\n",
       "      <th>s_04112</th>\n",
       "      <td>-0.003342</td>\n",
       "      <td>2.103643</td>\n",
       "      <td>0.379292</td>\n",
       "      <td>1.724351</td>\n",
       "      <td>0.018053</td>\n",
       "    </tr>\n",
       "    <tr>\n",
       "      <th>s_04113</th>\n",
       "      <td>0.005006</td>\n",
       "      <td>2.113399</td>\n",
       "      <td>0.479461</td>\n",
       "      <td>1.633939</td>\n",
       "      <td>0.020232</td>\n",
       "    </tr>\n",
       "    <tr>\n",
       "      <th>s_04114</th>\n",
       "      <td>-0.000073</td>\n",
       "      <td>2.162765</td>\n",
       "      <td>0.468522</td>\n",
       "      <td>1.694243</td>\n",
       "      <td>0.021499</td>\n",
       "    </tr>\n",
       "    <tr>\n",
       "      <th>s_04115</th>\n",
       "      <td>-0.003848</td>\n",
       "      <td>1.681983</td>\n",
       "      <td>0.341007</td>\n",
       "      <td>1.340976</td>\n",
       "      <td>0.027523</td>\n",
       "    </tr>\n",
       "    <tr>\n",
       "      <th>s_04116</th>\n",
       "      <td>0.056432</td>\n",
       "      <td>2.211883</td>\n",
       "      <td>0.942615</td>\n",
       "      <td>1.269268</td>\n",
       "      <td>0.144740</td>\n",
       "    </tr>\n",
       "    <tr>\n",
       "      <th>s_04117</th>\n",
       "      <td>0.020190</td>\n",
       "      <td>2.075443</td>\n",
       "      <td>0.481368</td>\n",
       "      <td>1.594075</td>\n",
       "      <td>0.052889</td>\n",
       "    </tr>\n",
       "    <tr>\n",
       "      <th>s_04118</th>\n",
       "      <td>-0.001219</td>\n",
       "      <td>2.029640</td>\n",
       "      <td>0.505598</td>\n",
       "      <td>1.524042</td>\n",
       "      <td>0.027642</td>\n",
       "    </tr>\n",
       "    <tr>\n",
       "      <th>s_04119</th>\n",
       "      <td>0.000282</td>\n",
       "      <td>2.164869</td>\n",
       "      <td>0.566043</td>\n",
       "      <td>1.598826</td>\n",
       "      <td>0.015229</td>\n",
       "    </tr>\n",
       "    <tr>\n",
       "      <th>s_04201</th>\n",
       "      <td>0.000109</td>\n",
       "      <td>2.112684</td>\n",
       "      <td>0.415970</td>\n",
       "      <td>1.696715</td>\n",
       "      <td>0.020066</td>\n",
       "    </tr>\n",
       "    <tr>\n",
       "      <th>s_04202</th>\n",
       "      <td>-0.007061</td>\n",
       "      <td>1.934750</td>\n",
       "      <td>0.404929</td>\n",
       "      <td>1.529822</td>\n",
       "      <td>0.025813</td>\n",
       "    </tr>\n",
       "    <tr>\n",
       "      <th>s_04203</th>\n",
       "      <td>-0.002844</td>\n",
       "      <td>2.157114</td>\n",
       "      <td>0.486090</td>\n",
       "      <td>1.671024</td>\n",
       "      <td>0.022175</td>\n",
       "    </tr>\n",
       "    <tr>\n",
       "      <th>s_04204</th>\n",
       "      <td>0.000505</td>\n",
       "      <td>2.058401</td>\n",
       "      <td>0.462040</td>\n",
       "      <td>1.596360</td>\n",
       "      <td>0.017634</td>\n",
       "    </tr>\n",
       "    <tr>\n",
       "      <th>s_04205</th>\n",
       "      <td>-0.001892</td>\n",
       "      <td>1.702630</td>\n",
       "      <td>0.367640</td>\n",
       "      <td>1.334990</td>\n",
       "      <td>0.025618</td>\n",
       "    </tr>\n",
       "    <tr>\n",
       "      <th>s_04206</th>\n",
       "      <td>-0.002355</td>\n",
       "      <td>2.111679</td>\n",
       "      <td>0.442770</td>\n",
       "      <td>1.668909</td>\n",
       "      <td>0.016909</td>\n",
       "    </tr>\n",
       "    <tr>\n",
       "      <th>s_04207</th>\n",
       "      <td>0.008149</td>\n",
       "      <td>2.298960</td>\n",
       "      <td>0.351908</td>\n",
       "      <td>1.947052</td>\n",
       "      <td>0.024880</td>\n",
       "    </tr>\n",
       "    <tr>\n",
       "      <th>s_04208</th>\n",
       "      <td>0.071623</td>\n",
       "      <td>2.142005</td>\n",
       "      <td>0.322948</td>\n",
       "      <td>1.819056</td>\n",
       "      <td>0.095091</td>\n",
       "    </tr>\n",
       "    <tr>\n",
       "      <th>s_04209</th>\n",
       "      <td>0.006372</td>\n",
       "      <td>2.017092</td>\n",
       "      <td>0.395809</td>\n",
       "      <td>1.621284</td>\n",
       "      <td>0.021018</td>\n",
       "    </tr>\n",
       "    <tr>\n",
       "      <th>s_04210</th>\n",
       "      <td>-0.005013</td>\n",
       "      <td>2.026506</td>\n",
       "      <td>0.443229</td>\n",
       "      <td>1.583276</td>\n",
       "      <td>0.028602</td>\n",
       "    </tr>\n",
       "    <tr>\n",
       "      <th>s_04211</th>\n",
       "      <td>-0.002492</td>\n",
       "      <td>2.047835</td>\n",
       "      <td>0.411585</td>\n",
       "      <td>1.636250</td>\n",
       "      <td>0.018023</td>\n",
       "    </tr>\n",
       "    <tr>\n",
       "      <th>s_04212</th>\n",
       "      <td>0.002865</td>\n",
       "      <td>2.140149</td>\n",
       "      <td>0.387630</td>\n",
       "      <td>1.752519</td>\n",
       "      <td>0.017951</td>\n",
       "    </tr>\n",
       "    <tr>\n",
       "      <th>s_04213</th>\n",
       "      <td>-0.002518</td>\n",
       "      <td>2.126803</td>\n",
       "      <td>0.572940</td>\n",
       "      <td>1.553863</td>\n",
       "      <td>0.027444</td>\n",
       "    </tr>\n",
       "    <tr>\n",
       "      <th>s_04214</th>\n",
       "      <td>0.025790</td>\n",
       "      <td>2.300428</td>\n",
       "      <td>0.543033</td>\n",
       "      <td>1.757395</td>\n",
       "      <td>0.043720</td>\n",
       "    </tr>\n",
       "    <tr>\n",
       "      <th>s_04215</th>\n",
       "      <td>0.009148</td>\n",
       "      <td>2.222391</td>\n",
       "      <td>0.470715</td>\n",
       "      <td>1.751676</td>\n",
       "      <td>0.030634</td>\n",
       "    </tr>\n",
       "    <tr>\n",
       "      <th>s_04216</th>\n",
       "      <td>-0.002867</td>\n",
       "      <td>2.157417</td>\n",
       "      <td>0.408812</td>\n",
       "      <td>1.748605</td>\n",
       "      <td>0.013300</td>\n",
       "    </tr>\n",
       "    <tr>\n",
       "      <th>s_04217</th>\n",
       "      <td>-0.006918</td>\n",
       "      <td>2.066301</td>\n",
       "      <td>0.416229</td>\n",
       "      <td>1.650072</td>\n",
       "      <td>0.018805</td>\n",
       "    </tr>\n",
       "    <tr>\n",
       "      <th>s_04218</th>\n",
       "      <td>0.010520</td>\n",
       "      <td>1.838213</td>\n",
       "      <td>0.366438</td>\n",
       "      <td>1.471775</td>\n",
       "      <td>0.028594</td>\n",
       "    </tr>\n",
       "    <tr>\n",
       "      <th>s_04219</th>\n",
       "      <td>0.015945</td>\n",
       "      <td>2.080904</td>\n",
       "      <td>0.478462</td>\n",
       "      <td>1.602441</td>\n",
       "      <td>0.031703</td>\n",
       "    </tr>\n",
       "    <tr>\n",
       "      <th>s_04220</th>\n",
       "      <td>-0.000619</td>\n",
       "      <td>2.174687</td>\n",
       "      <td>0.381142</td>\n",
       "      <td>1.793545</td>\n",
       "      <td>0.016055</td>\n",
       "    </tr>\n",
       "  </tbody>\n",
       "</table>\n",
       "</div>"
      ],
      "text/plain": [
       "            Error        RT    RTHold   RT_Diff  AbsError\n",
       "Subject                                                  \n",
       "s_04101  0.000367  2.126994  0.438679  1.688315  0.014450\n",
       "s_04102 -0.001154  2.086361  0.562893  1.523468  0.029723\n",
       "s_04103 -0.005674  2.213000  0.419749  1.793251  0.014655\n",
       "s_04104  0.001768  2.136014  0.495792  1.640222  0.020394\n",
       "s_04105 -0.004287  2.187713  0.453583  1.734130  0.018730\n",
       "s_04106 -0.005307  2.278004  0.464659  1.813344  0.021909\n",
       "s_04107  0.001220  2.255703  0.419663  1.836041  0.019135\n",
       "s_04108 -0.005221  1.916144  0.392673  1.523472  0.018594\n",
       "s_04109 -0.009659  1.953166  0.394496  1.558670  0.029116\n",
       "s_04110 -0.000969  2.047309  0.440873  1.606436  0.028729\n",
       "s_04111  0.002461  2.056291  0.459536  1.596756  0.025027\n",
       "s_04112 -0.003342  2.103643  0.379292  1.724351  0.018053\n",
       "s_04113  0.005006  2.113399  0.479461  1.633939  0.020232\n",
       "s_04114 -0.000073  2.162765  0.468522  1.694243  0.021499\n",
       "s_04115 -0.003848  1.681983  0.341007  1.340976  0.027523\n",
       "s_04116  0.056432  2.211883  0.942615  1.269268  0.144740\n",
       "s_04117  0.020190  2.075443  0.481368  1.594075  0.052889\n",
       "s_04118 -0.001219  2.029640  0.505598  1.524042  0.027642\n",
       "s_04119  0.000282  2.164869  0.566043  1.598826  0.015229\n",
       "s_04201  0.000109  2.112684  0.415970  1.696715  0.020066\n",
       "s_04202 -0.007061  1.934750  0.404929  1.529822  0.025813\n",
       "s_04203 -0.002844  2.157114  0.486090  1.671024  0.022175\n",
       "s_04204  0.000505  2.058401  0.462040  1.596360  0.017634\n",
       "s_04205 -0.001892  1.702630  0.367640  1.334990  0.025618\n",
       "s_04206 -0.002355  2.111679  0.442770  1.668909  0.016909\n",
       "s_04207  0.008149  2.298960  0.351908  1.947052  0.024880\n",
       "s_04208  0.071623  2.142005  0.322948  1.819056  0.095091\n",
       "s_04209  0.006372  2.017092  0.395809  1.621284  0.021018\n",
       "s_04210 -0.005013  2.026506  0.443229  1.583276  0.028602\n",
       "s_04211 -0.002492  2.047835  0.411585  1.636250  0.018023\n",
       "s_04212  0.002865  2.140149  0.387630  1.752519  0.017951\n",
       "s_04213 -0.002518  2.126803  0.572940  1.553863  0.027444\n",
       "s_04214  0.025790  2.300428  0.543033  1.757395  0.043720\n",
       "s_04215  0.009148  2.222391  0.470715  1.751676  0.030634\n",
       "s_04216 -0.002867  2.157417  0.408812  1.748605  0.013300\n",
       "s_04217 -0.006918  2.066301  0.416229  1.650072  0.018805\n",
       "s_04218  0.010520  1.838213  0.366438  1.471775  0.028594\n",
       "s_04219  0.015945  2.080904  0.478462  1.602441  0.031703\n",
       "s_04220 -0.000619  2.174687  0.381142  1.793545  0.016055"
      ]
     },
     "execution_count": 58,
     "metadata": {},
     "output_type": "execute_result"
    }
   ],
   "source": [
    "responded[['Error', 'RT', 'RTHold', 'RT_Diff', 'AbsError']].groupby(level=0).mean()"
   ]
  },
  {
   "cell_type": "markdown",
   "metadata": {},
   "source": [
    "##Overall Averages"
   ]
  },
  {
   "cell_type": "code",
   "execution_count": 59,
   "metadata": {
    "collapsed": false
   },
   "outputs": [
    {
     "data": {
      "text/plain": [
       "Error       0.004190\n",
       "RT          2.090186\n",
       "RTHold      0.452226\n",
       "RT_Diff     1.637960\n",
       "AbsError    0.028521\n",
       "dtype: float64"
      ]
     },
     "execution_count": 59,
     "metadata": {},
     "output_type": "execute_result"
    }
   ],
   "source": [
    "np.mean(responded[['Error', 'RT', 'RTHold','RT_Diff','AbsError']].groupby(level=0).mean())"
   ]
  },
  {
   "cell_type": "markdown",
   "metadata": {},
   "source": [
    "## Plots by position"
   ]
  },
  {
   "cell_type": "code",
   "execution_count": null,
   "metadata": {
    "collapsed": false
   },
   "outputs": [],
   "source": [
    "position_tasks = responded.groupby(['Task', 'Line_pct'])"
   ]
  },
  {
   "cell_type": "code",
   "execution_count": null,
   "metadata": {
    "collapsed": false
   },
   "outputs": [],
   "source": [
    "n_subj = len(responded_subj)"
   ]
  },
  {
   "cell_type": "code",
   "execution_count": null,
   "metadata": {
    "collapsed": false
   },
   "outputs": [],
   "source": [
    "#responded.iloc[0:20]"
   ]
  },
  {
   "cell_type": "markdown",
   "metadata": {},
   "source": [
    "##RTs by position averages (across subjects)"
   ]
  },
  {
   "cell_type": "code",
   "execution_count": null,
   "metadata": {
    "collapsed": false
   },
   "outputs": [],
   "source": [
    "position_tasks['RT'].mean()"
   ]
  },
  {
   "cell_type": "code",
   "execution_count": null,
   "metadata": {
    "collapsed": false
   },
   "outputs": [],
   "source": [
    "rts = position_tasks['RT'].mean()\n",
    "rts_std = position_tasks['RT'].std()\n",
    "rts_se = rts_std/np.sqrt(n_subj)"
   ]
  },
  {
   "cell_type": "markdown",
   "metadata": {},
   "source": [
    "Next code is to calculate standard error by first computing the mean RT for each subject and then taking the std of the subjects"
   ]
  },
  {
   "cell_type": "code",
   "execution_count": null,
   "metadata": {
    "collapsed": true
   },
   "outputs": [],
   "source": [
    "D = {}\n",
    "for sub in responded_subj.groups.keys():\n",
    "    for pos in position_tasks.groups.keys():\n",
    "        task = pos[0]\n",
    "        stim = pos[1]\n",
    "        if D.get(task,0) == 0:\n",
    "            D[task] = {}\n",
    "        if D[task].get(stim,0) == 0:\n",
    "            D[task][stim] = []\n",
    "        D[task][stim].append(position_tasks.get_group((task,stim)).loc[sub]['RT'].mean())"
   ]
  },
  {
   "cell_type": "code",
   "execution_count": null,
   "metadata": {
    "collapsed": false
   },
   "outputs": [],
   "source": [
    "for task in D:\n",
    "    #print task\n",
    "    for stim in D[task]:\n",
    "        D[task][stim] = np.nanstd(D[task][stim])"
   ]
  },
  {
   "cell_type": "code",
   "execution_count": null,
   "metadata": {
    "collapsed": true
   },
   "outputs": [],
   "source": [
    "rts_std_1 = []\n",
    "rts_std_2 = []\n",
    "rts_std_3 = []\n",
    "for stim in D[1]:\n",
    "    rts_std_1.append(D[1][stim])\n",
    "for stim in D[2]:\n",
    "    rts_std_2.append(D[2][stim])\n",
    "for stim in D[3]:\n",
    "    rts_std_3.append(D[3][stim])"
   ]
  },
  {
   "cell_type": "code",
   "execution_count": null,
   "metadata": {
    "collapsed": false
   },
   "outputs": [],
   "source": [
    "rts_se_1 = rts_std_1/np.sqrt(n_subj)\n",
    "rts_se_2 = rts_std_2/np.sqrt(n_subj)\n",
    "rts_se_3 = rts_std_3/np.sqrt(n_subj)"
   ]
  },
  {
   "cell_type": "code",
   "execution_count": null,
   "metadata": {
    "collapsed": false
   },
   "outputs": [],
   "source": [
    "#rts.iloc[10]"
   ]
  },
  {
   "cell_type": "code",
   "execution_count": null,
   "metadata": {
    "collapsed": false
   },
   "outputs": [],
   "source": [
    "rts_1 = rts.iloc[0:16]\n",
    "rts_2 = rts.iloc[16:32]\n",
    "rts_3 = rts.iloc[32:48]\n",
    "#rts_1 = rts.iloc[0:14]\n",
    "#rts_2 = rts.iloc[14:30]\n",
    "#rts_3 = rts.iloc[30:46]"
   ]
  },
  {
   "cell_type": "code",
   "execution_count": null,
   "metadata": {
    "collapsed": false
   },
   "outputs": [],
   "source": [
    "error = position_tasks['AbsError'].mean()\n",
    "error_std = position_tasks['AbsError'].std()\n",
    "error_se = error_std/np.sqrt(n_subj)"
   ]
  },
  {
   "cell_type": "code",
   "execution_count": null,
   "metadata": {
    "collapsed": false
   },
   "outputs": [],
   "source": [
    "error_1 = error.iloc[0:16]\n",
    "error_2 = error.iloc[16:32]\n",
    "error_3 = error.iloc[32:48]\n",
    "#error_1 = error.iloc[0:14]\n",
    "#error_2 = error.iloc[14:30]\n",
    "#error_3 = error.iloc[30:46]"
   ]
  },
  {
   "cell_type": "code",
   "execution_count": null,
   "metadata": {
    "collapsed": false
   },
   "outputs": [],
   "source": [
    "rts_1 = rts_1.get_values()\n",
    "rts_2 = rts_2.get_values()\n",
    "rts_3 = rts_3.get_values()"
   ]
  },
  {
   "cell_type": "code",
   "execution_count": null,
   "metadata": {
    "collapsed": false
   },
   "outputs": [],
   "source": [
    "error_1 = error_1.get_values()\n",
    "error_2 = error_2.get_values()\n",
    "error_3 = error_3.get_values()"
   ]
  },
  {
   "cell_type": "code",
   "execution_count": null,
   "metadata": {
    "collapsed": false
   },
   "outputs": [],
   "source": [
    "xvals = np.array([0.030, 0.070, 0.110, 0.210, 0.280, 0.330, 0.360, 0.450, 0.570, 0.600, 0.650, 0.740, 0.770, 0.850, 0.900, 0.980])\n",
    "len(rts_1)\n",
    "xvals1 = np.array([0.030, 0.070, 0.110, 0.210, 0.280, 0.330, 0.360, 0.450, 0.570, 0.600, 0.650, 0.740, 0.900, 0.980])"
   ]
  },
  {
   "cell_type": "code",
   "execution_count": null,
   "metadata": {
    "collapsed": false
   },
   "outputs": [],
   "source": [
    "#len(rts_3)"
   ]
  },
  {
   "cell_type": "code",
   "execution_count": null,
   "metadata": {
    "collapsed": false
   },
   "outputs": [],
   "source": [
    "fig = plt.figure(figsize=(12,12))\n",
    "fig1 = plt.subplot(3,1,1)\n",
    "fig1.plot(xvals, rts_1, 'o-', color=pal[0])\n",
    "fig1.errorbar(xvals, rts_1, yerr=rts_se_1*1.96)\n",
    "plt.title('Mean RT By Position N+')\n",
    "plt.xlabel('0 to 100', labelpad = 4)\n",
    "plt.ylabel('Mean RT')\n",
    "plt.ylim([1.5,2.5])\n",
    "plt.yticks(([1.5,2,2.5]))\n",
    "\n",
    "fig2 = plt.subplot(3,1,2)\n",
    "fig2.plot(xvals, rts_2, color=pal[1], marker='s')\n",
    "fig2.errorbar(xvals, rts_2, yerr=rts_se_2*1.96, color=pal[1])\n",
    "plt.title('Mean RT By Position N-/+')\n",
    "plt.xlabel('0 to 100', labelpad = 4)\n",
    "plt.ylabel('Mean RT')\n",
    "plt.ylim([1.5,2.5])\n",
    "plt.yticks(([1.5,2,2.5]))\n",
    "\n",
    "fig3 = plt.subplot(3,1,3)\n",
    "fig3.plot(xvals, rts_3, color=pal[2], marker='p')\n",
    "fig3.errorbar(xvals, rts_3, yerr=rts_se_3*1.96, color=pal[2])\n",
    "plt.title('Mean RT By Position Word')\n",
    "plt.xlabel('0 to 100', labelpad = 4)\n",
    "plt.ylabel('Mean RT')\n",
    "plt.ylim([1.5,2.5])\n",
    "plt.yticks(([1.5,2,2.5]))\n",
    "\n",
    "plt.subplots_adjust(hspace=.4)"
   ]
  },
  {
   "cell_type": "code",
   "execution_count": null,
   "metadata": {
    "collapsed": false
   },
   "outputs": [],
   "source": [
    "rts_1corr = rts_1 - rts_3\n",
    "rts_2corr = rts_2 - rts_3\n",
    "fig = plt.figure(figsize=(12,12))\n",
    "fig1 = plt.subplot(2,1,1)\n",
    "fig1.plot(xvals, rts_1corr, 'o-', color=pal[0])\n",
    "fig1.plot([0,1], [0,0], color='black', linestyle='-')\n",
    "fig1.errorbar(xvals, rts_1corr, yerr=rts_se_1*1.96)\n",
    "plt.title('Mean RT (minus word) By Position N+')\n",
    "plt.xlabel('0 to 100', labelpad = 4)\n",
    "plt.ylabel('Mean RT')\n",
    "plt.ylim([-0.3,0.3])\n",
    "plt.yticks(([-0.3,-0.15,0,0.15,0.3]))\n",
    "\n",
    "fig2 = plt.subplot(2,1,2)\n",
    "fig2.plot(xvals, rts_2corr, color=pal[1], marker='s')\n",
    "fig2.plot([0,1], [0,0], color='black', linestyle='-')\n",
    "fig2.errorbar(xvals, rts_2corr, yerr=rts_se_2*1.96, color=pal[1])\n",
    "plt.title('Mean RT (minus word) By Position N-/+')\n",
    "plt.xlabel('0 to 100', labelpad = 4)\n",
    "plt.ylabel('Mean RT')\n",
    "plt.ylim([-0.3,0.3])\n",
    "plt.yticks(([-0.3,-0.15,0,0.15,0.3]))"
   ]
  },
  {
   "cell_type": "markdown",
   "metadata": {},
   "source": [
    "## PAE by position (averages across subjects)"
   ]
  },
  {
   "cell_type": "markdown",
   "metadata": {},
   "source": [
    "next code is doing the average for each subject first and then taking the standard deviation"
   ]
  },
  {
   "cell_type": "code",
   "execution_count": null,
   "metadata": {
    "collapsed": true
   },
   "outputs": [],
   "source": [
    "D = {}\n",
    "for sub in responded_subj.groups.keys():\n",
    "    for pos in position_tasks.groups.keys():\n",
    "        task = pos[0]\n",
    "        stim = pos[1]\n",
    "        if D.get(task,0) == 0:\n",
    "            D[task] = {}\n",
    "        if D[task].get(stim,0) == 0:\n",
    "            D[task][stim] = []\n",
    "        D[task][stim].append(position_tasks.get_group((task,stim)).loc[sub]['AbsError'].mean())"
   ]
  },
  {
   "cell_type": "code",
   "execution_count": null,
   "metadata": {
    "collapsed": true
   },
   "outputs": [],
   "source": [
    "for task in D:\n",
    "    #print task\n",
    "    for stim in D[task]:\n",
    "        D[task][stim] = np.nanstd(D[task][stim])"
   ]
  },
  {
   "cell_type": "code",
   "execution_count": null,
   "metadata": {
    "collapsed": true
   },
   "outputs": [],
   "source": [
    "error_std_1 = []\n",
    "error_std_2 = []\n",
    "error_std_3 = []\n",
    "for stim in D[1]:\n",
    "    error_std_1.append(D[1][stim])\n",
    "for stim in D[2]:\n",
    "    error_std_2.append(D[2][stim])\n",
    "for stim in D[3]:\n",
    "    error_std_3.append(D[3][stim])"
   ]
  },
  {
   "cell_type": "code",
   "execution_count": null,
   "metadata": {
    "collapsed": true
   },
   "outputs": [],
   "source": [
    "error_se_1 = error_std_1/np.sqrt(n_subj)\n",
    "error_se_2 = error_std_2/np.sqrt(n_subj)\n",
    "error_se_3 = error_std_3/np.sqrt(n_subj)"
   ]
  },
  {
   "cell_type": "code",
   "execution_count": null,
   "metadata": {
    "collapsed": false
   },
   "outputs": [],
   "source": [
    "fig = plt.figure(figsize=(12,12))\n",
    "fig1 = plt.subplot(3,1,1)\n",
    "fig1.plot(xvals, error_1, 'o-', color=pal[0])\n",
    "fig1.errorbar(xvals, error_1, yerr=error_se_1*1.96, color=pal[0])\n",
    "plt.title('Mean Absolute Error By Position N+')\n",
    "plt.xlabel('0 to 100', labelpad = 4)\n",
    "plt.ylabel('MAE')\n",
    "plt.ylim([0,0.075])\n",
    "plt.yticks(([0.0,0.025,0.05,0.075]))\n",
    "\n",
    "fig2 = plt.subplot(3,1,2)\n",
    "fig2.plot(xvals, error_2, color=pal[1], marker='s')\n",
    "fig2.errorbar(xvals, error_2, yerr=error_se_2*1.96, color=pal[1])\n",
    "plt.title('Mean Absolute Error By Position N-/+')\n",
    "plt.xlabel('0 to 100', labelpad = 4)\n",
    "plt.ylabel('MAE')\n",
    "plt.ylim([0,0.075])\n",
    "plt.yticks(([0.0,0.025,0.05,0.075]))\n",
    "\n",
    "fig3 = plt.subplot(3,1,3)\n",
    "fig3.plot(xvals, error_3, color=pal[2], marker='p')\n",
    "fig3.errorbar(xvals, error_3, yerr=error_se_3*1.96, color=pal[2])\n",
    "plt.title('Mean Absolute Error By Position Word')\n",
    "plt.xlabel('0 to 100', labelpad = 4)\n",
    "plt.ylabel('MAE')\n",
    "plt.ylim([0,0.075])\n",
    "plt.yticks(([0.0,0.025,0.05,0.075]))\n",
    "\n",
    "plt.subplots_adjust(hspace=.4)"
   ]
  },
  {
   "cell_type": "code",
   "execution_count": null,
   "metadata": {
    "collapsed": false
   },
   "outputs": [],
   "source": [
    "fig = plt.figure(figsize=(12,12))\n",
    "fig1 = plt.subplot(3,1,1)\n",
    "fig1.plot(xvals, error_1, 'o-', color=pal[0])\n",
    "fig1.errorbar(xvals, error_1, yerr=error_se[0:16]*1.96, color=pal[0])\n",
    "plt.title('Mean Absolute Error By Position N+')\n",
    "plt.xlabel('0 to 100', labelpad = 4)\n",
    "plt.ylabel('MAE')\n",
    "plt.ylim([0,0.075])\n",
    "plt.yticks(([0.0,0.025,0.05,0.075]))\n",
    "\n",
    "fig2 = plt.subplot(3,1,2)\n",
    "fig2.plot(xvals, error_2, color=pal[1], marker='s')\n",
    "fig2.errorbar(xvals, error_2, yerr=error_se[16:32]*1.96, color=pal[1])\n",
    "plt.title('Mean Absolute Error By Position N-/+')\n",
    "plt.xlabel('0 to 100', labelpad = 4)\n",
    "plt.ylabel('MAE')\n",
    "plt.ylim([0,0.075])\n",
    "plt.yticks(([0.0,0.025,0.05,0.075]))\n",
    "\n",
    "fig3 = plt.subplot(3,1,3)\n",
    "fig3.plot(xvals, error_3, color=pal[2], marker='p')\n",
    "fig3.errorbar(xvals, error_3, yerr=error_se[32:]*1.96, color=pal[2])\n",
    "plt.title('Mean Absolute Error By Position Word')\n",
    "plt.xlabel('0 to 100', labelpad = 4)\n",
    "plt.ylabel('MAE')\n",
    "plt.ylim([0,0.075])\n",
    "plt.yticks(([0.0,0.025,0.05,0.075]))\n",
    "\n",
    "plt.subplots_adjust(hspace=.4)"
   ]
  },
  {
   "cell_type": "markdown",
   "metadata": {},
   "source": [
    "###Signed error is calculated as Response - Correct"
   ]
  },
  {
   "cell_type": "code",
   "execution_count": null,
   "metadata": {
    "collapsed": false
   },
   "outputs": [],
   "source": [
    "signerror = position_tasks['Error'].mean()\n",
    "STDsignerror = position_tasks['Error'].std()\n",
    "signerror_1 = signerror.iloc[0:16]\n",
    "signerror_2 = signerror.iloc[16:32]\n",
    "signerror_3 = signerror.iloc[32:48]\n",
    "STDsignerror_1 = STDsignerror.iloc[0:16]\n",
    "STDsignerror_2 = STDsignerror.iloc[16:32]\n",
    "STDsignerror_3 = STDsignerror.iloc[32:48]\n",
    "signerror_1 = signerror_1.get_values()\n",
    "signerror_2 = signerror_2.get_values()\n",
    "signerror_3 = signerror_3.get_values()\n",
    "STDsignerror_1 = STDsignerror_1.get_values()\n",
    "STDsignerror_2 = STDsignerror_2.get_values()\n",
    "STDsignerror_3 = STDsignerror_3.get_values()\n",
    "SEsignerror_1 = STDsignerror_1/np.sqrt(n_subj)\n",
    "SEsignerror_2 = STDsignerror_2/np.sqrt(n_subj)\n",
    "SEsignerror_3 = STDsignerror_3/np.sqrt(n_subj)"
   ]
  },
  {
   "cell_type": "code",
   "execution_count": null,
   "metadata": {
    "collapsed": false
   },
   "outputs": [],
   "source": [
    "fig = plt.figure(figsize=(12,12))\n",
    "fig1 = plt.subplot(3,1,1)\n",
    "fig1.plot(xvals, signerror_1, 'o-', color=pal[0])\n",
    "fig1.errorbar(xvals, signerror_1, yerr=SEsignerror_1*1.96, color=pal[0])\n",
    "plt.title('Signed Error By Position N+')\n",
    "plt.xlabel('0 to 100', labelpad = 4)\n",
    "plt.ylabel('Error')\n",
    "plt.ylim([-0.09,0.09])\n",
    "plt.yticks(([-0.09,-0.045,0,0.045,0.09]))\n",
    "\n",
    "fig2 = plt.subplot(3,1,2)\n",
    "fig2.plot(xvals, signerror_2, color=pal[1], marker='s')\n",
    "fig2.errorbar(xvals, signerror_2, yerr=SEsignerror_2*1.96, color=pal[1])\n",
    "plt.title('Signed Error By Position N-/+')\n",
    "plt.xlabel('0 to 100', labelpad = 4)\n",
    "plt.ylabel('Error')\n",
    "plt.ylim([-0.09,0.09])\n",
    "plt.yticks(([-0.09,-0.045,0,0.045,0.09]))\n",
    "\n",
    "fig3 = plt.subplot(3,1,3)\n",
    "fig3.plot(xvals, signerror_3, color=pal[2], marker='p')\n",
    "fig3.errorbar(xvals, signerror_3, yerr=SEsignerror_3*1.96, color=pal[2])\n",
    "plt.title('Signed Error By Position Word')\n",
    "plt.xlabel('0 to 100', labelpad = 4)\n",
    "plt.ylabel('Error')\n",
    "plt.ylim([-0.09,0.09])\n",
    "plt.yticks(([-0.09,-0.045,0,0.045,0.09]))\n",
    "\n",
    "plt.subplots_adjust(hspace=.4)"
   ]
  },
  {
   "cell_type": "markdown",
   "metadata": {},
   "source": [
    " Positive values in the graph above mean participant overestimated, negative values mean participant underestimated. In the -/+ task participants tend to give answers further from the endpoints than they should (This might have to do with the fact that the line is divided in 200 units unlike + task)."
   ]
  },
  {
   "cell_type": "markdown",
   "metadata": {},
   "source": [
    "Signed error plot with standard error calculated by first taking the mean of 3 estimates per subject and then taking std across different subjects"
   ]
  },
  {
   "cell_type": "code",
   "execution_count": null,
   "metadata": {
    "collapsed": false
   },
   "outputs": [],
   "source": [
    "D = {}\n",
    "for sub in responded_subj.groups.keys():\n",
    "    for pos in position_tasks.groups.keys():\n",
    "        task = pos[0]\n",
    "        stim = pos[1]\n",
    "        if D.get(task,0) == 0:\n",
    "            D[task] = {}\n",
    "        if D[task].get(stim,0) == 0:\n",
    "            D[task][stim] = []\n",
    "        D[task][stim].append(position_tasks.get_group((task,stim)).loc[sub]['Error'].mean())"
   ]
  },
  {
   "cell_type": "code",
   "execution_count": null,
   "metadata": {
    "collapsed": false
   },
   "outputs": [],
   "source": [
    "for task in D:\n",
    "    #print task\n",
    "    for stim in D[task]:\n",
    "        D[task][stim] = np.nanmean(D[task][stim])"
   ]
  },
  {
   "cell_type": "code",
   "execution_count": null,
   "metadata": {
    "collapsed": false
   },
   "outputs": [],
   "source": [
    "SDsignerror_1 = []\n",
    "SDsignerror_2 = []\n",
    "SDsignerror_3 = []\n",
    "for stim in D[1]:\n",
    "    SDsignerror_1.append(D[1][stim])\n",
    "for stim in D[2]:\n",
    "    SDsignerror_2.append(D[2][stim])\n",
    "for stim in D[3]:\n",
    "    SDsignerror_3.append(D[3][stim])"
   ]
  },
  {
   "cell_type": "code",
   "execution_count": null,
   "metadata": {
    "collapsed": true
   },
   "outputs": [],
   "source": [
    "SE_signerror_1 = SDsignerror_1/np.sqrt(n_subj)\n",
    "SE_signerror_2 = SDsignerror_2/np.sqrt(n_subj)\n",
    "SE_signerror_3 = SDsignerror_3/np.sqrt(n_subj)"
   ]
  },
  {
   "cell_type": "code",
   "execution_count": null,
   "metadata": {
    "collapsed": false
   },
   "outputs": [],
   "source": [
    "fig = plt.figure(figsize=(12,12))\n",
    "fig1 = plt.subplot(3,1,1)\n",
    "fig1.plot(xvals, signerror_1, 'o-', color=pal[0])\n",
    "fig1.errorbar(xvals, signerror_1, yerr=SE_signerror_1*1.96, color=pal[0])\n",
    "plt.title('Signed Error By Position N+')\n",
    "plt.xlabel('0 to 100', labelpad = 4)\n",
    "plt.ylabel('Error')\n",
    "plt.ylim([-0.09,0.09])\n",
    "plt.yticks(([-0.09,-0.045,0,0.045,0.09]))\n",
    "\n",
    "fig2 = plt.subplot(3,1,2)\n",
    "fig2.plot(xvals, signerror_2, color=pal[1], marker='s')\n",
    "fig2.errorbar(xvals, signerror_2, yerr=SE_signerror_2*1.96, color=pal[1])\n",
    "plt.title('Signed Error By Position N-/+')\n",
    "plt.xlabel('0 to 100', labelpad = 4)\n",
    "plt.ylabel('Error')\n",
    "plt.ylim([-0.09,0.09])\n",
    "plt.yticks(([-0.09,-0.045,0,0.045,0.09]))\n",
    "\n",
    "fig3 = plt.subplot(3,1,3)\n",
    "fig3.plot(xvals, signerror_3, color=pal[2], marker='p')\n",
    "fig3.errorbar(xvals, signerror_3, yerr=SE_signerror_3*1.96, color=pal[2])\n",
    "plt.title('Signed Error By Position Word')\n",
    "plt.xlabel('0 to 100', labelpad = 4)\n",
    "plt.ylabel('Error')\n",
    "plt.ylim([-0.09,0.09])\n",
    "plt.yticks(([-0.09,-0.045,0,0.045,0.09]))\n",
    "\n",
    "plt.subplots_adjust(hspace=.4)"
   ]
  },
  {
   "cell_type": "markdown",
   "metadata": {},
   "source": [
    "## SD calculated as SD of all data of a specific position"
   ]
  },
  {
   "cell_type": "code",
   "execution_count": null,
   "metadata": {
    "collapsed": false
   },
   "outputs": [],
   "source": [
    "fig = plt.figure(figsize=(12,12))\n",
    "fig1 = plt.subplot(3,1,1)\n",
    "fig1.plot(xvals, STDsignerror_1, 'o-', color=pal[0])\n",
    "plt.title('SD Signed Error By Position N+')\n",
    "plt.xlabel('0 to 100', labelpad = 4)\n",
    "plt.ylabel('SD')\n",
    "plt.ylim([0,0.2])\n",
    "plt.yticks(([0.033,0.066,0.1,0.133,0.166,0.2]))\n",
    "\n",
    "fig2 = plt.subplot(3,1,2)\n",
    "fig2.plot(xvals, STDsignerror_2, color=pal[1], marker='s')\n",
    "plt.title('SD Signed Error By Position N-/+')\n",
    "plt.xlabel('0 to 100', labelpad = 4)\n",
    "plt.ylabel('SD')\n",
    "plt.ylim([0,0.2])\n",
    "plt.yticks(([0.033,0.066,0.1,0.133,0.166,0.2]))\n",
    "\n",
    "fig3 = plt.subplot(3,1,3)\n",
    "fig3.plot(xvals, STDsignerror_3, color=pal[2], marker='p')\n",
    "plt.title('SD Signed Error By Position Word')\n",
    "plt.xlabel('0 to 100', labelpad = 4)\n",
    "plt.ylabel('SD')\n",
    "plt.ylim([0,0.2])\n",
    "plt.yticks(([0.033,0.066,0.1,0.133,0.166,0.2]))\n",
    "\n",
    "plt.subplots_adjust(hspace=.4)"
   ]
  },
  {
   "cell_type": "code",
   "execution_count": null,
   "metadata": {
    "collapsed": false
   },
   "outputs": [],
   "source": [
    "#Basis to extract SD for each subject and then conduct average across subjects\n",
    "#position_tasks.get_group((1,0.03)).loc['s_02009']['Error'].std()"
   ]
  },
  {
   "cell_type": "markdown",
   "metadata": {},
   "source": [
    "## SD calculated as std of each subject and then averaging the individual std"
   ]
  },
  {
   "cell_type": "markdown",
   "metadata": {},
   "source": [
    "###Only 3 datapoints per position per subject so estimate will have a lot of varriability"
   ]
  },
  {
   "cell_type": "code",
   "execution_count": null,
   "metadata": {
    "collapsed": false
   },
   "outputs": [],
   "source": [
    "D = {}\n",
    "for sub in responded_subj.groups.keys():\n",
    "    for pos in position_tasks.groups.keys():\n",
    "        task = pos[0]\n",
    "        stim = pos[1]\n",
    "        if D.get(task,0) == 0:\n",
    "            D[task] = {}\n",
    "        if D[task].get(stim,0) == 0:\n",
    "            D[task][stim] = []\n",
    "        D[task][stim].append(position_tasks.get_group((task,stim)).loc[sub]['Error'].std())"
   ]
  },
  {
   "cell_type": "code",
   "execution_count": null,
   "metadata": {
    "collapsed": false
   },
   "outputs": [],
   "source": [
    "for task in D:\n",
    "    #print task\n",
    "    for stim in D[task]:\n",
    "        D[task][stim] = np.nanmean(D[task][stim])"
   ]
  },
  {
   "cell_type": "code",
   "execution_count": null,
   "metadata": {
    "collapsed": false
   },
   "outputs": [],
   "source": [
    "STDsignerror_1_2 = []\n",
    "STDsignerror_2_2 = []\n",
    "STDsignerror_3_2 = []\n",
    "for stim in D[1]:\n",
    "    STDsignerror_1_2.append(D[1][stim])\n",
    "for stim in D[2]:\n",
    "    STDsignerror_2_2.append(D[2][stim])\n",
    "for stim in D[3]:\n",
    "    STDsignerror_3_2.append(D[3][stim])"
   ]
  },
  {
   "cell_type": "code",
   "execution_count": null,
   "metadata": {
    "collapsed": false
   },
   "outputs": [],
   "source": [
    "fig = plt.figure(figsize=(12,12))\n",
    "fig1 = plt.subplot(3,1,1)\n",
    "fig1.plot(xvals, STDsignerror_1, 'o-', color=pal[0])\n",
    "plt.title('SD Signed Error By Position N+')\n",
    "plt.xlabel('0 to 100', labelpad = 4)\n",
    "plt.ylabel('SD')\n",
    "plt.ylim([0,0.15])\n",
    "plt.yticks(([0.05,0.1,0.15]))\n",
    "\n",
    "fig2 = plt.subplot(3,1,2)\n",
    "fig2.plot(xvals, STDsignerror_2, color=pal[1], marker='s')\n",
    "plt.title('SD Signed Error By Position N+/-')\n",
    "plt.xlabel('0 to 100', labelpad = 4)\n",
    "plt.ylabel('SD')\n",
    "plt.ylim([0,0.15])\n",
    "plt.yticks(([0.05,0.1,0.15]))\n",
    "\n",
    "fig3 = plt.subplot(3,1,3)\n",
    "fig3.plot(xvals, STDsignerror_3, color=pal[2], marker='p')\n",
    "plt.title('SD Signed Error By Position Word')\n",
    "plt.xlabel('0 to 100', labelpad = 4)\n",
    "plt.ylabel('SD')\n",
    "plt.ylim([0,0.15])\n",
    "plt.yticks(([0.05,0.1,0.15]))\n",
    "\n",
    "plt.subplots_adjust(hspace=.4)"
   ]
  },
  {
   "cell_type": "code",
   "execution_count": null,
   "metadata": {
    "collapsed": true
   },
   "outputs": [],
   "source": [
    "#For mean error as well can be calculated this way\n",
    "D2 = {}\n",
    "for sub in responded_subj.groups.keys():\n",
    "    for pos in position_tasks.groups.keys():\n",
    "        task = pos[0]\n",
    "        stim = pos[1]\n",
    "        if D2.get(task,0) == 0:\n",
    "            D2[task] = {}\n",
    "        if D2[task].get(stim,0) == 0:\n",
    "            D2[task][stim] = []\n",
    "        D2[task][stim].append(position_tasks.get_group((task,stim)).loc[sub]['Error'].mean())"
   ]
  },
  {
   "cell_type": "markdown",
   "metadata": {},
   "source": [
    "##Correlate PAE Vs Landmark Distance"
   ]
  },
  {
   "cell_type": "markdown",
   "metadata": {},
   "source": [
    "### Distance from 0"
   ]
  },
  {
   "cell_type": "code",
   "execution_count": null,
   "metadata": {
    "collapsed": false
   },
   "outputs": [],
   "source": [
    "dist_0 = xvals\n",
    "dist_0"
   ]
  },
  {
   "cell_type": "markdown",
   "metadata": {},
   "source": [
    "### Distance from 50"
   ]
  },
  {
   "cell_type": "code",
   "execution_count": null,
   "metadata": {
    "collapsed": false
   },
   "outputs": [],
   "source": [
    "dist_50 = abs(xvals-0.5)\n",
    "dist_50"
   ]
  },
  {
   "cell_type": "markdown",
   "metadata": {},
   "source": [
    "### Distance from 100"
   ]
  },
  {
   "cell_type": "code",
   "execution_count": null,
   "metadata": {
    "collapsed": false
   },
   "outputs": [],
   "source": [
    "dist_100 = abs(xvals - 1)\n",
    "dist_100"
   ]
  },
  {
   "cell_type": "markdown",
   "metadata": {},
   "source": [
    "### Distance from Landmark"
   ]
  },
  {
   "cell_type": "code",
   "execution_count": null,
   "metadata": {
    "collapsed": false
   },
   "outputs": [],
   "source": [
    "dist_Land = pd.DataFrame([dist_0, dist_50, dist_100]).min()\n",
    "dist_Land"
   ]
  },
  {
   "cell_type": "markdown",
   "metadata": {},
   "source": [
    "## PAE vs Landmark Distane (across subjects)"
   ]
  },
  {
   "cell_type": "code",
   "execution_count": null,
   "metadata": {
    "collapsed": false
   },
   "outputs": [],
   "source": [
    "m1, b1 = np.polyfit(dist_Land,error_1,1)\n",
    "fig = plt.figure(figsize=(12,12))\n",
    "fig1 = plt.subplot(3,1,1)\n",
    "fig1.plot(dist_Land, error_1, 'o', color=pal[0])\n",
    "plt.plot(dist_Land, m1*dist_Land + b1, '-', color=pal[0])\n",
    "plt.title('MAE Vs. Landmark Distance N+')\n",
    "plt.xlabel('Landmark Distance', labelpad = 4)\n",
    "plt.ylabel('MAE')\n",
    "plt.ylim([0,0.06])\n",
    "plt.yticks(([0.02,0.04,0.06]))\n",
    "\n",
    "m2, b2 = np.polyfit(dist_Land,error_2,1)\n",
    "fig2 = plt.subplot(3,1,2)\n",
    "fig2.plot(dist_Land, error_2, 'o', color=pal[1])\n",
    "plt.plot(dist_Land, m2*dist_Land + b2, '-', color=pal[1])\n",
    "plt.title('MAE Vs. Landmark Distance N+/-')\n",
    "plt.xlabel('Landmark Distance', labelpad = 4)\n",
    "plt.ylabel('MAE')\n",
    "plt.ylim([0,0.06])\n",
    "plt.yticks(([0.02,0.04,0.06]))\n",
    "\n",
    "m3, b3 = np.polyfit(dist_Land,error_3,1)\n",
    "fig3 = plt.subplot(3,1,3)\n",
    "fig3.plot(dist_Land, error_3, 'o', color=pal[2])\n",
    "plt.plot(dist_Land, m3*dist_Land + b3, '-', color=pal[2])\n",
    "plt.title('MAE Vs. Landmark Distance Word')\n",
    "plt.xlabel('Landmark Distance', labelpad = 4)\n",
    "plt.ylabel('MAE')\n",
    "plt.ylim([0,0.06])\n",
    "plt.yticks(([0.02,0.04,0.06]))\n",
    "\n",
    "plt.subplots_adjust(hspace=.4)"
   ]
  },
  {
   "cell_type": "markdown",
   "metadata": {},
   "source": [
    "### Slope+,  Slope-,  Slopew"
   ]
  },
  {
   "cell_type": "code",
   "execution_count": null,
   "metadata": {
    "collapsed": false
   },
   "outputs": [],
   "source": [
    "print m1, m2, m3"
   ]
  },
  {
   "cell_type": "code",
   "execution_count": null,
   "metadata": {
    "collapsed": false
   },
   "outputs": [],
   "source": [
    "from scipy.stats import linregress\n",
    "slope1, intercept1, r1, p1, stderr1 = linregress(dist_Land,error_1)\n",
    "slope2, intercept2, r2, p2, stderr2 = linregress(dist_Land,error_2)\n",
    "slope3, intercept3, r3, p3, stderr3 = linregress(dist_Land,error_3)"
   ]
  },
  {
   "cell_type": "markdown",
   "metadata": {},
   "source": [
    "### r +,  r -,  r w"
   ]
  },
  {
   "cell_type": "code",
   "execution_count": null,
   "metadata": {
    "collapsed": false
   },
   "outputs": [],
   "source": [
    "print 'r1', r1\n",
    "print 'r2', r2\n",
    "print 'r3', r3"
   ]
  },
  {
   "cell_type": "markdown",
   "metadata": {},
   "source": [
    "### r^2 +,  r^2 -,  r^2 w"
   ]
  },
  {
   "cell_type": "code",
   "execution_count": null,
   "metadata": {
    "collapsed": false
   },
   "outputs": [],
   "source": [
    "print 'r1sq', r1*r1\n",
    "print 'r2sq', r2*r2\n",
    "print 'r3sq', r3*r3"
   ]
  },
  {
   "cell_type": "code",
   "execution_count": null,
   "metadata": {
    "collapsed": false
   },
   "outputs": [],
   "source": [
    "#print 'slope1', slope1\n",
    "#print 'slope2', slope2\n",
    "#print 'slope3', slope3"
   ]
  },
  {
   "cell_type": "code",
   "execution_count": null,
   "metadata": {
    "collapsed": false
   },
   "outputs": [],
   "source": [
    "print 'p1', p1\n",
    "print 'p2', p2\n",
    "print 'p3', p3"
   ]
  },
  {
   "cell_type": "markdown",
   "metadata": {},
   "source": [
    "##First half only"
   ]
  },
  {
   "cell_type": "code",
   "execution_count": null,
   "metadata": {
    "collapsed": false
   },
   "outputs": [],
   "source": [
    "m1, b1 = np.polyfit(dist_Land[0:7],error_1[0:7],1)\n",
    "fig = plt.figure(figsize=(12,12))\n",
    "fig1 = plt.subplot(3,1,1)\n",
    "fig1.plot(dist_Land[0:7], error_1[0:7], 'o', color=pal[0])\n",
    "plt.plot(dist_Land[0:7], m1*dist_Land[0:7] + b1, '-', color=pal[0])\n",
    "plt.title('MAE Vs. Landmark Distance N+')\n",
    "plt.xlabel('Landmark Distance', labelpad = 4)\n",
    "plt.ylabel('MAE')\n",
    "plt.ylim([0,0.06])\n",
    "plt.yticks(([0.02,0.04,0.06]))\n",
    "\n",
    "m2, b2 = np.polyfit(dist_Land[0:7],error_2[0:7],1)\n",
    "fig2 = plt.subplot(3,1,2)\n",
    "fig2.plot(dist_Land[0:7], error_2[0:7], 'o', color=pal[1])\n",
    "plt.plot(dist_Land[0:7], m2*dist_Land[0:7] + b2, '-', color=pal[1])\n",
    "plt.title('MAE Vs. Landmark Distance N+/-')\n",
    "plt.xlabel('Landmark Distance', labelpad = 4)\n",
    "plt.ylabel('MAE')\n",
    "plt.ylim([0,0.06])\n",
    "plt.yticks(([0.02,0.04,0.06]))\n",
    "\n",
    "m3, b3 = np.polyfit(dist_Land[0:7],error_3[0:7],1)\n",
    "fig3 = plt.subplot(3,1,3)\n",
    "fig3.plot(dist_Land[0:7], error_3[0:7], 'o', color=pal[2])\n",
    "plt.plot(dist_Land[0:7], m3*dist_Land[0:7] + b3, '-', color=pal[2])\n",
    "plt.title('MAE Vs. Landmark Distance Word')\n",
    "plt.xlabel('Landmark Distance', labelpad = 4)\n",
    "plt.ylabel('MAE')\n",
    "plt.ylim([0,0.06])\n",
    "plt.yticks(([0.02,0.04,0.06]))\n",
    "\n",
    "plt.subplots_adjust(hspace=.4)"
   ]
  },
  {
   "cell_type": "markdown",
   "metadata": {},
   "source": [
    "##Second half only"
   ]
  },
  {
   "cell_type": "code",
   "execution_count": null,
   "metadata": {
    "collapsed": false
   },
   "outputs": [],
   "source": [
    "m1, b1 = np.polyfit(dist_Land[8:],error_1[8:],1)\n",
    "fig = plt.figure(figsize=(12,12))\n",
    "fig1 = plt.subplot(3,1,1)\n",
    "fig1.plot(dist_Land[8:], error_1[8:], 'o', color=pal[0])\n",
    "plt.plot(dist_Land[8:], m1*dist_Land[8:] + b1, '-', color=pal[0])\n",
    "plt.title('MAE Vs. Landmark Distance N+')\n",
    "plt.xlabel('Landmark Distance', labelpad = 4)\n",
    "plt.ylabel('MAE')\n",
    "plt.ylim([0,0.06])\n",
    "plt.yticks(([0.02,0.04,0.06]))\n",
    "\n",
    "m2, b2 = np.polyfit(dist_Land[8:],error_2[8:],1)\n",
    "fig2 = plt.subplot(3,1,2)\n",
    "fig2.plot(dist_Land[8:], error_2[8:], 'o', color=pal[1])\n",
    "plt.plot(dist_Land[8:], m2*dist_Land[8:] + b2, '-', color=pal[1])\n",
    "plt.title('MAE Vs. Landmark Distance N+/-')\n",
    "plt.xlabel('Landmark Distance', labelpad = 4)\n",
    "plt.ylabel('MAE')\n",
    "plt.ylim([0,0.06])\n",
    "plt.yticks(([0.02,0.04,0.06]))\n",
    "\n",
    "m3, b3 = np.polyfit(dist_Land[8:],error_3[8:],1)\n",
    "fig3 = plt.subplot(3,1,3)\n",
    "fig3.plot(dist_Land[8:], error_3[8:], 'o', color=pal[2])\n",
    "plt.plot(dist_Land[8:], m3*dist_Land[8:] + b3, '-', color=pal[2])\n",
    "plt.title('MAE Vs. Landmark Distance Word')\n",
    "plt.xlabel('Landmark Distance', labelpad = 4)\n",
    "plt.ylabel('MAE')\n",
    "plt.ylim([0,0.06])\n",
    "plt.yticks(([0.02,0.04,0.06]))\n",
    "\n",
    "plt.subplots_adjust(hspace=.4)"
   ]
  },
  {
   "cell_type": "markdown",
   "metadata": {},
   "source": [
    "## Landmark distance Vs signed error"
   ]
  },
  {
   "cell_type": "code",
   "execution_count": null,
   "metadata": {
    "collapsed": false
   },
   "outputs": [],
   "source": [
    "m1, b1 = np.polyfit(dist_Land,signerror_1,1)\n",
    "fig = plt.figure(figsize=(12,12))\n",
    "fig1 = plt.subplot(3,1,1)\n",
    "fig1.plot(dist_Land, signerror_1, 'o', color=pal[0])\n",
    "plt.plot(dist_Land, m1*dist_Land + b1, '-', color=pal[0])\n",
    "plt.title('Signed Error Vs. Landmark Distance N+')\n",
    "plt.xlabel('Landmark Distance', labelpad = 4)\n",
    "plt.ylabel('Signed Error')\n",
    "plt.ylim([-0.06,0.06])\n",
    "plt.yticks(([-0.03,0.,0.03]))\n",
    "\n",
    "m2, b2 = np.polyfit(dist_Land,signerror_2,1)\n",
    "fig2 = plt.subplot(3,1,2)\n",
    "fig2.plot(dist_Land, signerror_2, 'o', color=pal[1])\n",
    "plt.plot(dist_Land, m2*dist_Land + b2, '-', color=pal[1])\n",
    "plt.title('Signed Error Vs. Landmark Distance N+/-')\n",
    "plt.xlabel('Landmark Distance', labelpad = 4)\n",
    "plt.ylabel('Signed Error')\n",
    "plt.ylim([-0.06,0.06])\n",
    "plt.yticks(([-0.03,0.,0.03]))\n",
    "\n",
    "m3, b3 = np.polyfit(dist_Land,signerror_3,1)\n",
    "fig3 = plt.subplot(3,1,3)\n",
    "fig3.plot(dist_Land, signerror_3, 'o', color=pal[2])\n",
    "plt.plot(dist_Land, m3*dist_Land + b3, '-', color=pal[2])\n",
    "plt.title('Signed Error Vs. Landmark Distance Word')\n",
    "plt.xlabel('Landmark Distance', labelpad = 4)\n",
    "plt.ylabel('Signed Error')\n",
    "plt.ylim([-0.06,0.06])\n",
    "plt.yticks(([-0.03,0.,0.03]))\n",
    "\n",
    "plt.subplots_adjust(hspace=.4)"
   ]
  },
  {
   "cell_type": "markdown",
   "metadata": {},
   "source": [
    "## Estimation slope vs SAT scores"
   ]
  },
  {
   "cell_type": "code",
   "execution_count": null,
   "metadata": {
    "collapsed": true
   },
   "outputs": [],
   "source": [
    "nline_df.to_csv('nline_data.csv', sep='\\t')"
   ]
  },
  {
   "cell_type": "code",
   "execution_count": null,
   "metadata": {
    "collapsed": false
   },
   "outputs": [],
   "source": [
    "new_df = pd.read_csv('nline_data.csv',sep='\\t')"
   ]
  },
  {
   "cell_type": "code",
   "execution_count": null,
   "metadata": {
    "collapsed": false
   },
   "outputs": [],
   "source": [
    "new_df.loc[:,:]= new_df[new_df['catch']<1]\n",
    "#len(nline_miss)\n",
    "new_df['Missed'] = new_df['Error']\n",
    "new_df.loc[new_df['Missed']<1,'Missed'] = 0\n",
    "#Pick only responded trials\n",
    "new_df.loc[:,:] = new_df[new_df['Missed']==0]"
   ]
  },
  {
   "cell_type": "code",
   "execution_count": null,
   "metadata": {
    "collapsed": false
   },
   "outputs": [],
   "source": [
    "new_df = new_df[pd.notnull(new_df['Subject'])]"
   ]
  },
  {
   "cell_type": "code",
   "execution_count": null,
   "metadata": {
    "collapsed": false
   },
   "outputs": [],
   "source": [
    "new_df['AbsError'] = np.abs(new_df['Error'])"
   ]
  },
  {
   "cell_type": "code",
   "execution_count": null,
   "metadata": {
    "collapsed": false
   },
   "outputs": [],
   "source": [
    "new_df['BigError'] = 0\n",
    "new_df['BigError'].loc[new_df['AbsError']>0.15] = 1\n",
    "new_df['BigError'].sum()"
   ]
  },
  {
   "cell_type": "code",
   "execution_count": null,
   "metadata": {
    "collapsed": false
   },
   "outputs": [],
   "source": [
    "group_task = new_df.groupby(['Subject','Task','Line_pct'])"
   ]
  },
  {
   "cell_type": "code",
   "execution_count": null,
   "metadata": {
    "collapsed": false,
    "scrolled": true
   },
   "outputs": [],
   "source": [
    "#group_task.groups"
   ]
  },
  {
   "cell_type": "code",
   "execution_count": null,
   "metadata": {
    "collapsed": false
   },
   "outputs": [],
   "source": [
    "#group_task.get_group(('s_02003',1,0.98))['Error'].mean()"
   ]
  },
  {
   "cell_type": "code",
   "execution_count": null,
   "metadata": {
    "collapsed": false
   },
   "outputs": [],
   "source": [
    "error = group_task['Error'].mean()\n",
    "response = group_task['Response'].mean()"
   ]
  },
  {
   "cell_type": "code",
   "execution_count": null,
   "metadata": {
    "collapsed": false
   },
   "outputs": [],
   "source": [
    "#error.loc['s_02003'].loc[1]"
   ]
  },
  {
   "cell_type": "code",
   "execution_count": null,
   "metadata": {
    "collapsed": false
   },
   "outputs": [],
   "source": [
    "#response.loc['s_02003'].loc[1]"
   ]
  },
  {
   "cell_type": "code",
   "execution_count": null,
   "metadata": {
    "collapsed": false
   },
   "outputs": [],
   "source": [
    "subjs = new_df['Subject'].unique()\n",
    "tasks = new_df['Task'].unique()\n"
   ]
  },
  {
   "cell_type": "code",
   "execution_count": null,
   "metadata": {
    "collapsed": false
   },
   "outputs": [],
   "source": [
    "error_dict = {}\n",
    "position_dict = {}\n",
    "results_list = []\n",
    "for s in subjs:\n",
    "    error_dict[s] = {}\n",
    "    position_dict[s] = {}\n",
    "    for t in tasks:\n",
    "        d_tmp = {}\n",
    "        error_dict[s][t] = error.loc[s].loc[t]\n",
    "        position_dict[s][t] = response.loc[s].loc[t]\n",
    "        slope,inter,r,p,stderr = linregress(error_dict[s][t].index, error_dict[s][t])\n",
    "        slope2,inter2,r2,p2,stderr2 = linregress(position_dict[s][t].index, position_dict[s][t])\n",
    "        d_tmp = {'Subject':s, 'Task':t, 'slope_E':slope, 'slope_P':slope2, 'int_E':inter,\n",
    "                 'int_P':inter2,'r_E':r, 'r_P':r2, 'p_E':p, 'p_P':p2, 'stderr_E':stderr,\n",
    "                 'stderr_P':stderr2, 'R2_E':r*r, 'R2_P':r2*r2}\n",
    "        results_list.append(d_tmp)\n",
    "res_df = pd.DataFrame(results_list)      "
   ]
  },
  {
   "cell_type": "code",
   "execution_count": null,
   "metadata": {
    "collapsed": false
   },
   "outputs": [],
   "source": [
    "slope1, intercept1, r1, p1, stderr1 = linregress(position_dict['s_02003'][3].index,\n",
    "                                                 position_dict['s_02003'][3])"
   ]
  },
  {
   "cell_type": "code",
   "execution_count": null,
   "metadata": {
    "collapsed": false
   },
   "outputs": [],
   "source": [
    "#plt.plot(position_dict['s_02003'][3].index, position_dict['s_02003'][3], 'bo')\n",
    "#plt.plot(position_dict['s_02003'][3].index, slope1*position_dict['s_02003'][3].index + intercept1, '-o')\n",
    "#plt.ylim([0,1])"
   ]
  },
  {
   "cell_type": "code",
   "execution_count": null,
   "metadata": {
    "collapsed": false
   },
   "outputs": [],
   "source": [
    "#print slope1, intercept1, r1, r1*r1, p1, stderr1"
   ]
  },
  {
   "cell_type": "code",
   "execution_count": null,
   "metadata": {
    "collapsed": false
   },
   "outputs": [],
   "source": [
    "#res_df"
   ]
  },
  {
   "cell_type": "code",
   "execution_count": null,
   "metadata": {
    "collapsed": false
   },
   "outputs": [],
   "source": [
    "res_grp = res_df.groupby(['Subject','Task'])"
   ]
  },
  {
   "cell_type": "code",
   "execution_count": null,
   "metadata": {
    "collapsed": false
   },
   "outputs": [],
   "source": [
    "#res_df['slope_P'][res_df['Task']==1].mean()"
   ]
  },
  {
   "cell_type": "code",
   "execution_count": null,
   "metadata": {
    "collapsed": false
   },
   "outputs": [],
   "source": [
    "#res_df[['Subject','slope_P']][res_df['Task']==1]"
   ]
  },
  {
   "cell_type": "code",
   "execution_count": null,
   "metadata": {
    "collapsed": false
   },
   "outputs": [],
   "source": [
    "#plt.plot(res_df['slope_P'][res_df['Task']==1], 'o')"
   ]
  },
  {
   "cell_type": "code",
   "execution_count": null,
   "metadata": {
    "collapsed": false
   },
   "outputs": [],
   "source": [
    "#res_df['slope_P'][res_df['Task']==1].describe()"
   ]
  },
  {
   "cell_type": "markdown",
   "metadata": {},
   "source": [
    "## Histogram slope subject estimates Task +"
   ]
  },
  {
   "cell_type": "code",
   "execution_count": null,
   "metadata": {
    "collapsed": false
   },
   "outputs": [],
   "source": [
    "res_df['slope_P'][res_df['Task']==1].hist()"
   ]
  },
  {
   "cell_type": "markdown",
   "metadata": {},
   "source": [
    "## Histogram slope subject estimates Task -"
   ]
  },
  {
   "cell_type": "code",
   "execution_count": null,
   "metadata": {
    "collapsed": false
   },
   "outputs": [],
   "source": [
    "res_df['slope_P'][res_df['Task']==2].hist(color=pal[1])"
   ]
  },
  {
   "cell_type": "markdown",
   "metadata": {},
   "source": [
    "## Histogram slope subject estimates Task w"
   ]
  },
  {
   "cell_type": "code",
   "execution_count": null,
   "metadata": {
    "collapsed": false
   },
   "outputs": [],
   "source": [
    "res_df['slope_P'][res_df['Task']==2].hist(color=pal[2])"
   ]
  },
  {
   "cell_type": "code",
   "execution_count": null,
   "metadata": {
    "collapsed": true
   },
   "outputs": [],
   "source": [
    "math = pd.read_csv('Math_Results.csv')"
   ]
  },
  {
   "cell_type": "code",
   "execution_count": null,
   "metadata": {
    "collapsed": false
   },
   "outputs": [],
   "source": [
    "res_df = pd.merge(res_df,math,on='Subject',how='inner')"
   ]
  },
  {
   "cell_type": "code",
   "execution_count": null,
   "metadata": {
    "collapsed": false
   },
   "outputs": [],
   "source": [
    "#res_df[['Subject','slope_P', 'Math_Score']][res_df['Task']==1]"
   ]
  },
  {
   "cell_type": "code",
   "execution_count": null,
   "metadata": {
    "collapsed": false
   },
   "outputs": [],
   "source": [
    "#slope1, intercept1, r1, p1, stderr1 = linregress(abs(res_df['slope_E'][res_df['Task']==1]),\n",
    "#                                                 res_df['Math_Score'][res_df['Task']==1])\n",
    "#plt.plot(abs(res_df['slope_E'][res_df['Task']==1]),res_df['Math_Score'][res_df['Task']==1], 'o')\n",
    "#plt.plot(abs(res_df['slope_E'][res_df['Task']==1]), slope1*abs(res_df['slope_E'][res_df['Task']==1]) + intercept1, 'b-')"
   ]
  },
  {
   "cell_type": "code",
   "execution_count": null,
   "metadata": {
    "collapsed": false
   },
   "outputs": [],
   "source": [
    "#print r1, r1*r1, p"
   ]
  },
  {
   "cell_type": "markdown",
   "metadata": {},
   "source": [
    "##  Deviation from Linearity Vs. Math Score"
   ]
  },
  {
   "cell_type": "code",
   "execution_count": null,
   "metadata": {
    "collapsed": false
   },
   "outputs": [],
   "source": [
    "m1, b1 = np.polyfit(abs(res_df['slope_P'][res_df['Task']==1] -1),\n",
    "                    res_df['Math_Score'][res_df['Task']==1],1)\n",
    "fig = plt.figure(figsize=(12,12))\n",
    "fig1 = plt.subplot(3,1,1)\n",
    "fig1.plot(abs(res_df['slope_P'][res_df['Task']==1] -1),\n",
    "          res_df['Math_Score'][res_df['Task']==1], 'o', color=pal[0])\n",
    "plt.plot(abs(res_df['slope_P'][res_df['Task']==1] -1), \n",
    "         m1*abs(res_df['slope_P'][res_df['Task']==1] -1) + b1, '-', color=pal[0])\n",
    "plt.title('Deviation from Slope of 1 Vs. Math Score N+')\n",
    "plt.xlabel('Deviation from slope of 1', labelpad = 4)\n",
    "plt.ylabel('Math Score')\n",
    "plt.ylim([0,20])\n",
    "plt.yticks(([5,10,15,20]))\n",
    "\n",
    "m2, b2 = np.polyfit(abs(res_df['slope_P'][res_df['Task']==2] -1),\n",
    "                    res_df['Math_Score'][res_df['Task']==2],1)\n",
    "fig = plt.figure(figsize=(12,12))\n",
    "fig2 = plt.subplot(3,1,2)\n",
    "fig2.plot(abs(res_df['slope_P'][res_df['Task']==2] -1),\n",
    "          res_df['Math_Score'][res_df['Task']==2], 'o', color=pal[1])\n",
    "plt.plot(abs(res_df['slope_P'][res_df['Task']==2] -1), \n",
    "         m2*abs(res_df['slope_P'][res_df['Task']==2] -1) + b2, '-', color=pal[1])\n",
    "plt.title('Deviation from Slope of 1 Vs. Math Score N-/+')\n",
    "plt.xlabel('Deviation from slope of 1', labelpad = 4)\n",
    "plt.ylabel('Math Score')\n",
    "plt.ylim([0,20])\n",
    "plt.yticks(([5,10,15,20]))\n",
    "\n",
    "m3, b3 = np.polyfit(abs(res_df['slope_P'][res_df['Task']==3] -1),\n",
    "                    res_df['Math_Score'][res_df['Task']==3],1)\n",
    "fig = plt.figure(figsize=(12,12))\n",
    "fig3 = plt.subplot(3,1,3)\n",
    "fig3.plot(abs(res_df['slope_P'][res_df['Task']==3] -1),\n",
    "          res_df['Math_Score'][res_df['Task']==3], 'o', color=pal[2])\n",
    "plt.plot(abs(res_df['slope_P'][res_df['Task']==3] -1), \n",
    "         m3*abs(res_df['slope_P'][res_df['Task']==3] -1) + b3, '-', color=pal[2])\n",
    "plt.title('Deviation from Slope of 1 Vs. Math Score Word')\n",
    "plt.xlabel('Deviation from slope of 1', labelpad = 4)\n",
    "plt.ylabel('Math Score')\n",
    "plt.ylim([0,20])\n",
    "plt.yticks(([5,10,15,20]))"
   ]
  },
  {
   "cell_type": "code",
   "execution_count": null,
   "metadata": {
    "collapsed": true
   },
   "outputs": [],
   "source": [
    "slope1, intercept1, r1, p1, stderr1 = linregress(abs(res_df['slope_P'][res_df['Task']==1]-1),\n",
    "                                                 res_df['Math_Score'][res_df['Task']==1])\n",
    "slope2, intercept2, r2, p2, stderr2 = linregress(abs(res_df['slope_P'][res_df['Task']==2]-1),\n",
    "                                                 res_df['Math_Score'][res_df['Task']==2])\n",
    "slope3, intercept3, r3, p3, stderr3 = linregress(abs(res_df['slope_P'][res_df['Task']==3]-1),\n",
    "                                                 res_df['Math_Score'][res_df['Task']==3])"
   ]
  },
  {
   "cell_type": "markdown",
   "metadata": {},
   "source": [
    "### r +, r -, r w"
   ]
  },
  {
   "cell_type": "code",
   "execution_count": null,
   "metadata": {
    "collapsed": false
   },
   "outputs": [],
   "source": [
    "print r1, r2, r3"
   ]
  },
  {
   "cell_type": "markdown",
   "metadata": {},
   "source": [
    "### R^2 +, R^2 -, R^2 w"
   ]
  },
  {
   "cell_type": "code",
   "execution_count": null,
   "metadata": {
    "collapsed": false
   },
   "outputs": [],
   "source": [
    "print r1*r1, r2*r2, r3*r3"
   ]
  },
  {
   "cell_type": "markdown",
   "metadata": {},
   "source": [
    "### Slope +, Slope -, Slope w"
   ]
  },
  {
   "cell_type": "code",
   "execution_count": null,
   "metadata": {
    "collapsed": false
   },
   "outputs": [],
   "source": [
    "print slope1, slope2, slope3"
   ]
  },
  {
   "cell_type": "markdown",
   "metadata": {},
   "source": [
    "### p-value +, p-value -, p-value w"
   ]
  },
  {
   "cell_type": "code",
   "execution_count": null,
   "metadata": {
    "collapsed": false
   },
   "outputs": [],
   "source": [
    "print p1, p2, p3"
   ]
  },
  {
   "cell_type": "markdown",
   "metadata": {},
   "source": [
    "##Scatter plots for individual subjects"
   ]
  },
  {
   "cell_type": "code",
   "execution_count": null,
   "metadata": {
    "collapsed": false
   },
   "outputs": [],
   "source": [
    "new_math_df = pd.merge(new_df,math,on='Subject',how='inner')"
   ]
  },
  {
   "cell_type": "code",
   "execution_count": null,
   "metadata": {
    "collapsed": false
   },
   "outputs": [],
   "source": [
    "ordered = res_df[['Subject', 'Math_Score']][res_df['Task']==1]\n",
    "ordered_math = ordered.sort('Math_Score', ascending=False)"
   ]
  },
  {
   "cell_type": "code",
   "execution_count": null,
   "metadata": {
    "collapsed": false
   },
   "outputs": [],
   "source": [
    "table_order = ordered_math.Subject"
   ]
  },
  {
   "cell_type": "code",
   "execution_count": null,
   "metadata": {
    "collapsed": false
   },
   "outputs": [],
   "source": [
    "#sns.set_palette('muted')\n",
    "#sns.set_style('ticks')\n",
    "#g = sns.FacetGrid(new_math_df[new_math_df['Task']==1], col='Subject', col_wrap=3, xlim=(0,1),\n",
    "#                  ylim=(0,1), col_order=ordered_math['Subject'], size=4, aspect=1.2)\n",
    "#g = g.map(sns.regplot, 'Line_pct', 'Response', scatter_kws={'s':80, 'marker':'+'})\n",
    "#ctr = 0\n",
    "#for ax in g.axes.flat:\n",
    "#    ax.set_title(ordered_math.iloc[ctr]['Math_Score'])\n",
    "#    ctr = ctr + 1"
   ]
  },
  {
   "cell_type": "markdown",
   "metadata": {},
   "source": [
    "# Task N+"
   ]
  },
  {
   "cell_type": "markdown",
   "metadata": {},
   "source": [
    "# How to add a figure title to the whole figure?\n",
    "# How to format the small titles with smart code that has the subj id plus the SAT score, and some constant string from me"
   ]
  },
  {
   "cell_type": "code",
   "execution_count": null,
   "metadata": {
    "collapsed": false
   },
   "outputs": [],
   "source": [
    "#sns.set_palette('BuGn_r')\n",
    "g = sns.lmplot(x='Line_pct', y='Response', col='Subject',col_wrap=3,\n",
    "           data=new_math_df[new_math_df['Task']==1],markers=['+'],\n",
    "               col_order=ordered_math['Subject'],\n",
    "               size=4,aspect=1.2,scatter_kws={'s':200, 'color':pal[0]},\n",
    "              line_kws={'color':pal[0]})\n",
    "g = (g.set(xlim=(0,1),ylim=(0,1)))\n",
    "ctr = 0\n",
    "for ax in g.axes.flat:\n",
    "    ax.set_title('Math score %d - Subj %s' % (ordered_math.iloc[ctr]['Math_Score'], ordered_math.iloc[ctr]['Subject']))\n",
    "    ctr = ctr + 1\n",
    "g.savefig('Scatter_Positive.png')"
   ]
  },
  {
   "cell_type": "markdown",
   "metadata": {},
   "source": [
    "# Task N-/+"
   ]
  },
  {
   "cell_type": "code",
   "execution_count": null,
   "metadata": {
    "collapsed": false
   },
   "outputs": [],
   "source": [
    "#sns.set_palette('muted')\n",
    "g = sns.lmplot(x='Line_pct', y='Response', col='Subject',col_wrap=3,\n",
    "           data=new_math_df[new_math_df['Task']==2],\n",
    "               markers=['+'],col_order=ordered_math['Subject'],\n",
    "               size=4,aspect=1.2,scatter_kws={'s':200,'color':pal[1]},\n",
    "              line_kws={'color':pal[1]})\n",
    "g = (g.set(xlim=(0,1),ylim=(0,1)))\n",
    "ctr = 0\n",
    "for ax in g.axes.flat:\n",
    "    ax.set_title('Math score %d - Subj %s' % (ordered_math.iloc[ctr]['Math_Score'], ordered_math.iloc[ctr]['Subject']))\n",
    "    ctr = ctr + 1\n",
    "g.savefig('Scatter_Negative.png')"
   ]
  },
  {
   "cell_type": "markdown",
   "metadata": {},
   "source": [
    "## Make Result Table"
   ]
  },
  {
   "cell_type": "code",
   "execution_count": null,
   "metadata": {
    "collapsed": false
   },
   "outputs": [],
   "source": [
    "group_task_t = new_df.groupby(['Subject', 'Task'])\n",
    "#group_task_t['BigError'].sum()"
   ]
  },
  {
   "cell_type": "code",
   "execution_count": null,
   "metadata": {
    "collapsed": false
   },
   "outputs": [],
   "source": [
    "results_df = pd.DataFrame(new_df[new_df['Task']==1].groupby('Subject')['RT'].mean())\n",
    "results_df.columns = ['RT+']\n",
    "results_df['RT-'] = new_df[new_df['Task']==2].groupby('Subject')['RT'].mean()\n",
    "results_df['RTw'] = new_df[new_df['Task']==3].groupby('Subject')['RT'].mean()"
   ]
  },
  {
   "cell_type": "code",
   "execution_count": null,
   "metadata": {
    "collapsed": false
   },
   "outputs": [],
   "source": [
    "results_df['E+'] = new_df[new_df['Task']==1].groupby('Subject')['BigError'].sum()\n",
    "results_df['E-'] = new_df[new_df['Task']==2].groupby('Subject')['BigError'].sum()\n",
    "results_df['Ew'] = new_df[new_df['Task']==3].groupby('Subject')['BigError'].sum()"
   ]
  },
  {
   "cell_type": "code",
   "execution_count": null,
   "metadata": {
    "collapsed": false
   },
   "outputs": [],
   "source": [
    "sds = []\n",
    "for sub in responded_subj.groups.keys():\n",
    "    for pos in position_tasks.groups.keys():\n",
    "        task = pos[0]\n",
    "        stim = pos[1]\n",
    "        sds.append({'Subject':sub, 'Task':task, 'Line_pct':stim,\n",
    "             'SD':position_tasks.get_group((task,stim)).loc[sub]['Error'].std()})\n",
    "SD_df = pd.DataFrame(sds)\n",
    "results_df['SD+'] = SD_df[SD_df['Task']==1].groupby('Subject')['SD'].mean()\n",
    "results_df['SD-'] = SD_df[SD_df['Task']==2].groupby('Subject')['SD'].mean()\n",
    "results_df['SDw'] = SD_df[SD_df['Task']==3].groupby('Subject')['SD'].mean()"
   ]
  },
  {
   "cell_type": "code",
   "execution_count": null,
   "metadata": {
    "collapsed": false
   },
   "outputs": [],
   "source": [
    "r2_1 = res_df[['Subject','R2_P']][res_df['Task']==1]\n",
    "r2_1.columns = ['Subject', 'R^2+']\n",
    "results_df = results_df.join(r2_1.groupby('Subject').mean(), how='inner')"
   ]
  },
  {
   "cell_type": "code",
   "execution_count": null,
   "metadata": {
    "collapsed": false
   },
   "outputs": [],
   "source": [
    "r2_2 = res_df[['Subject','R2_P']][res_df['Task']==2]\n",
    "r2_2.columns = ['Subject', 'R^2-']\n",
    "results_df = results_df.join(r2_2.groupby('Subject').mean(), how='inner')"
   ]
  },
  {
   "cell_type": "code",
   "execution_count": null,
   "metadata": {
    "collapsed": false
   },
   "outputs": [],
   "source": [
    "r2_3 = res_df[['Subject','R2_P']][res_df['Task']==3]\n",
    "r2_3.columns = ['Subject', 'R^2w']\n",
    "results_df = results_df.join(r2_3.groupby('Subject').mean(), how='inner')"
   ]
  },
  {
   "cell_type": "code",
   "execution_count": null,
   "metadata": {
    "collapsed": false
   },
   "outputs": [],
   "source": [
    "slope_1 = res_df[['Subject','slope_P']][res_df['Task']==1]\n",
    "slope_1.columns = ['Subject', 'slope+']\n",
    "results_df = results_df.join(slope_1.groupby('Subject').mean(), how='inner')\n",
    "slope_2 = res_df[['Subject','slope_P']][res_df['Task']==2]\n",
    "slope_2.columns = ['Subject', 'slope-']\n",
    "results_df = results_df.join(slope_2.groupby('Subject').mean(), how='inner')\n",
    "slope_3 = res_df[['Subject','slope_P']][res_df['Task']==3]\n",
    "slope_3.columns = ['Subject', 'slopew']\n",
    "results_df = results_df.join(slope_3.groupby('Subject').mean(), how='inner')"
   ]
  },
  {
   "cell_type": "code",
   "execution_count": null,
   "metadata": {
    "collapsed": false
   },
   "outputs": [],
   "source": [
    "PAE1 = new_df[new_df['Task']==1].groupby(['Subject', 'Line_pct'])['AbsError'].mean()\n",
    "PAE2 = new_df[new_df['Task']==2].groupby(['Subject', 'Line_pct'])['AbsError'].mean()\n",
    "PAE3 = new_df[new_df['Task']==3].groupby(['Subject', 'Line_pct'])['AbsError'].mean()"
   ]
  },
  {
   "cell_type": "code",
   "execution_count": null,
   "metadata": {
    "collapsed": false
   },
   "outputs": [],
   "source": [
    "#PAE1.loc['s_02003'].iloc[0:8]"
   ]
  },
  {
   "cell_type": "code",
   "execution_count": null,
   "metadata": {
    "collapsed": false
   },
   "outputs": [],
   "source": [
    "corrs1 = []\n",
    "for sub in PAE1.index.levels[0]:\n",
    "    slope1, intercept1, r1, p1, stderr1 = linregress(dist_Land[0:8],PAE1.loc[sub].iloc[0:8])\n",
    "    slope2, intercept2, r2, p2, stderr2 = linregress(dist_Land[8:],PAE1.loc[sub].iloc[8:])\n",
    "    corrs1.append({'Subject':sub, 'DE_l_+':r1, 'DE_r_+':r2})\n",
    "DE1 = pd.DataFrame(corrs1)\n",
    "results_df = results_df.join(DE1.groupby('Subject').mean(), how='inner')"
   ]
  },
  {
   "cell_type": "code",
   "execution_count": null,
   "metadata": {
    "collapsed": false
   },
   "outputs": [],
   "source": [
    "corrs2 = []\n",
    "for sub in PAE2.index.levels[0]:\n",
    "    slope1, intercept1, r1, p1, stderr1 = linregress(dist_Land[0:8],PAE2.loc[sub].iloc[0:8])\n",
    "    slope2, intercept2, r2, p2, stderr2 = linregress(dist_Land[8:],PAE2.loc[sub].iloc[8:])\n",
    "    corrs2.append({'Subject':sub, 'DE_l_-':r1, 'DE_r_-':r2})\n",
    "DE2 = pd.DataFrame(corrs2)\n",
    "results_df = results_df.join(DE2.groupby('Subject').mean(), how='inner')"
   ]
  },
  {
   "cell_type": "code",
   "execution_count": null,
   "metadata": {
    "collapsed": false
   },
   "outputs": [],
   "source": [
    "corrs3 = []\n",
    "for sub in PAE3.index.levels[0]:\n",
    "    slope1, intercept1, r1, p1, stderr1 = linregress(dist_Land[0:8],PAE3.loc[sub].iloc[0:8])\n",
    "    slope2, intercept2, r2, p2, stderr2 = linregress(dist_Land[8:],PAE3.loc[sub].iloc[8:])\n",
    "    corrs3.append({'Subject':sub, 'DE_l_w':r1, 'DE_r_w':r2})\n",
    "DE3 = pd.DataFrame(corrs3)\n",
    "results_df = results_df.join(DE3.groupby('Subject').mean(), how='inner')"
   ]
  },
  {
   "cell_type": "code",
   "execution_count": null,
   "metadata": {
    "collapsed": false
   },
   "outputs": [],
   "source": [
    "miss_df = pd.read_csv('nline_data.csv',sep='\\t')\n",
    "miss_df.loc[:,:]= miss_df[miss_df['catch']<1]\n",
    "#len(nline_miss)\n",
    "miss_df['Missed'] = miss_df['Error']\n",
    "miss_df.loc[miss_df['Missed']<1,'Missed'] = 0\n",
    "miss_df = miss_df[pd.notnull(miss_df['Subject'])]"
   ]
  },
  {
   "cell_type": "code",
   "execution_count": null,
   "metadata": {
    "collapsed": false
   },
   "outputs": [],
   "source": [
    "results_df['Miss+'] = miss_df[miss_df['Task']==1].groupby('Subject')['Missed'].sum()\n",
    "results_df['Miss-'] = miss_df[miss_df['Task']==2].groupby('Subject')['Missed'].sum()\n",
    "results_df['Missw'] =miss3 = miss_df[miss_df['Task']==3].groupby('Subject')['Missed'].sum()"
   ]
  },
  {
   "cell_type": "code",
   "execution_count": null,
   "metadata": {
    "collapsed": false
   },
   "outputs": [],
   "source": [
    "math.columns = ['Subject', 'SAT']\n",
    "results_df = results_df.join(math.groupby('Subject').mean(), how='inner')"
   ]
  },
  {
   "cell_type": "code",
   "execution_count": null,
   "metadata": {
    "collapsed": false
   },
   "outputs": [],
   "source": [
    "cols = results_df.columns.tolist()\n",
    "cols = cols[-1:] + cols[-4:-1] + cols[0:-4]\n",
    "results_df = results_df[cols]"
   ]
  },
  {
   "cell_type": "code",
   "execution_count": null,
   "metadata": {
    "collapsed": false
   },
   "outputs": [],
   "source": [
    "results_df['AbsError+'] = new_df[new_df['Task']==1].groupby('Subject')['AbsError'].mean()\n",
    "results_df['AbsError-'] = new_df[new_df['Task']==2].groupby('Subject')['AbsError'].mean()\n",
    "results_df['AbsErrorw'] = new_df[new_df['Task']==3].groupby('Subject')['AbsError'].mean()"
   ]
  },
  {
   "cell_type": "code",
   "execution_count": null,
   "metadata": {
    "collapsed": false
   },
   "outputs": [],
   "source": [
    "linear_1 = res_df[['Subject','slope_P']][res_df['Task']==1]\n",
    "linear_1.loc[:,'slope_P'] = abs(linear_1['slope_P'] - 1)\n",
    "linear_1.columns = ['Subject', 'linearity+']\n",
    "results_df = results_df.join(linear_1.groupby('Subject').mean(), how='inner')\n",
    "linear_2 = res_df[['Subject','slope_P']][res_df['Task']==2]\n",
    "linear_2.loc[:,'slope_P'] = abs(linear_2['slope_P'] - 1)\n",
    "linear_2.columns = ['Subject', 'linearity-']\n",
    "results_df = results_df.join(linear_2.groupby('Subject').mean(), how='inner')\n",
    "linear_3 = res_df[['Subject','slope_P']][res_df['Task']==3]\n",
    "linear_3.loc[:,'slope_P'] = abs(linear_3['slope_P'] - 1)\n",
    "linear_3.columns = ['Subject', 'linearityw']\n",
    "results_df = results_df.join(linear_3.groupby('Subject').mean(), how='inner')"
   ]
  },
  {
   "cell_type": "code",
   "execution_count": null,
   "metadata": {
    "collapsed": false
   },
   "outputs": [],
   "source": [
    "results_df = results_df.loc[table_order]\n",
    "results_df"
   ]
  },
  {
   "cell_type": "code",
   "execution_count": null,
   "metadata": {
    "collapsed": true
   },
   "outputs": [],
   "source": [
    "results_df.to_excel('Results Table.xlsx', index_label='Subject', merge_cells=False)"
   ]
  },
  {
   "cell_type": "markdown",
   "metadata": {},
   "source": [
    "##  PAE Vs. Math Score"
   ]
  },
  {
   "cell_type": "code",
   "execution_count": null,
   "metadata": {
    "collapsed": false
   },
   "outputs": [],
   "source": [
    "m1, b1 = np.polyfit(results_df['AbsError+'],\n",
    "                    results_df['SAT'],1)\n",
    "fig = plt.figure(figsize=(12,12))\n",
    "fig1 = plt.subplot(3,1,1)\n",
    "fig1.plot(results_df['AbsError+'],\n",
    "          results_df['SAT'], 'o', color=pal[0])\n",
    "plt.plot(results_df['AbsError+'], \n",
    "         m1*results_df['AbsError+'] + b1, '-', color=pal[0])\n",
    "plt.title('PAE Vs. Math Score N+')\n",
    "plt.xlabel('PAE', labelpad = 4)\n",
    "plt.ylabel('SAT')\n",
    "plt.ylim([0,20])\n",
    "plt.yticks(([5,10,15,20]))\n",
    "\n",
    "m2, b2 = np.polyfit(results_df['AbsError-'],\n",
    "                    results_df['SAT'],1)\n",
    "fig = plt.figure(figsize=(12,12))\n",
    "fig1 = plt.subplot(3,1,1)\n",
    "fig1.plot(results_df['AbsError-'],\n",
    "          results_df['SAT'], 'o', color=pal[1])\n",
    "plt.plot(results_df['AbsError-'], \n",
    "         m2*results_df['AbsError-'] + b2, '-', color=pal[1])\n",
    "plt.title('PAE Vs. Math Score N-/+')\n",
    "plt.xlabel('PAE', labelpad = 4)\n",
    "plt.ylabel('SAT')\n",
    "plt.ylim([0,20])\n",
    "plt.yticks(([5,10,15,20]))\n",
    "\n",
    "m3, b3 = np.polyfit(results_df['AbsErrorw'],\n",
    "                    results_df['SAT'],1)\n",
    "fig = plt.figure(figsize=(12,12))\n",
    "fig1 = plt.subplot(3,1,1)\n",
    "fig1.plot(results_df['AbsErrorw'],\n",
    "          results_df['SAT'], 'o', color=pal[2])\n",
    "plt.plot(results_df['AbsErrorw'], \n",
    "         m3*results_df['AbsErrorw'] + b3, '-', color=pal[2])\n",
    "plt.title('PAE Vs. Math Score Word')\n",
    "plt.xlabel('PAE', labelpad = 4)\n",
    "plt.ylabel('SAT')\n",
    "plt.ylim([0,20])\n",
    "plt.yticks(([5,10,15,20]))"
   ]
  },
  {
   "cell_type": "code",
   "execution_count": null,
   "metadata": {
    "collapsed": true
   },
   "outputs": [],
   "source": [
    "slope1, intercept1, r1, p1, stderr1 = linregress(results_df['AbsError+'],results_df['SAT'])\n",
    "slope2, intercept2, r2, p2, stderr2 = linregress(results_df['AbsError-'],results_df['SAT'])\n",
    "slope3, intercept3, r3, p3, stderr3 = linregress(results_df['AbsErrorw'],results_df['SAT'])"
   ]
  },
  {
   "cell_type": "markdown",
   "metadata": {},
   "source": [
    "### Slope +, Slope -, Slope w"
   ]
  },
  {
   "cell_type": "code",
   "execution_count": null,
   "metadata": {
    "collapsed": false
   },
   "outputs": [],
   "source": [
    "print slope1, slope2, slope3"
   ]
  },
  {
   "cell_type": "markdown",
   "metadata": {},
   "source": [
    "### r =, r -, r w"
   ]
  },
  {
   "cell_type": "code",
   "execution_count": null,
   "metadata": {
    "collapsed": false
   },
   "outputs": [],
   "source": [
    "print r1, r2, r3"
   ]
  },
  {
   "cell_type": "markdown",
   "metadata": {},
   "source": [
    "### R^2 +, R^2 -, R^2 w"
   ]
  },
  {
   "cell_type": "code",
   "execution_count": null,
   "metadata": {
    "collapsed": false
   },
   "outputs": [],
   "source": [
    "print r1*r1, r2*r2, r3*r3"
   ]
  },
  {
   "cell_type": "markdown",
   "metadata": {},
   "source": [
    "### p-value +, p-value -, p-value w"
   ]
  },
  {
   "cell_type": "code",
   "execution_count": null,
   "metadata": {
    "collapsed": false
   },
   "outputs": [],
   "source": [
    "print p1, p2, p3"
   ]
  },
  {
   "cell_type": "code",
   "execution_count": null,
   "metadata": {
    "collapsed": false
   },
   "outputs": [],
   "source": [
    "np.corrcoef(results_df['slope-'], results_df['slope+'])"
   ]
  },
  {
   "cell_type": "code",
   "execution_count": null,
   "metadata": {
    "collapsed": false
   },
   "outputs": [],
   "source": [
    "responses = position_tasks.Response.mean()"
   ]
  },
  {
   "cell_type": "code",
   "execution_count": null,
   "metadata": {
    "collapsed": true
   },
   "outputs": [],
   "source": [
    "resp1 = responses.iloc[0:16]\n",
    "resp2 = responses.iloc[16:32]\n",
    "resp3 = responses.iloc[32:48]\n",
    "resp1 = resp1.get_values()\n",
    "resp2 = resp2.get_values()\n",
    "resp3 = resp3.get_values()"
   ]
  },
  {
   "cell_type": "code",
   "execution_count": null,
   "metadata": {
    "collapsed": false
   },
   "outputs": [],
   "source": [
    "fig = plt.figure(figsize=(12,12))\n",
    "fig1 = plt.subplot(3,1,1)\n",
    "fig1.plot(xvals, resp1, 'o', color=pal[0])\n",
    "fig1.plot([0,1], [0,1], color=pal[0], linestyle='-')\n",
    "plt.title('Mean Response By Position N+')\n",
    "plt.xlabel('0 to 100', labelpad = 4)\n",
    "plt.ylabel('Mean Response')\n",
    "plt.ylim([0,1])\n",
    "plt.yticks(([.25,.5,.75]))\n",
    "\n",
    "fig2 = plt.subplot(3,1,2)\n",
    "fig2.plot(xvals, resp2, 'o', color=pal[1])\n",
    "fig2.plot([0,1], [0,1], color=pal[1], linestyle='-')\n",
    "plt.title('Mean Response By Position N-/+')\n",
    "plt.xlabel('-100 to 100', labelpad = 4)\n",
    "plt.ylabel('Mean Response')\n",
    "plt.ylim([0,1])\n",
    "plt.yticks(([.25,.5,.75]))\n",
    "\n",
    "fig3 = plt.subplot(3,1,3)\n",
    "fig3.plot(xvals, resp3, 'o', color=pal[2])\n",
    "fig3.plot([0,1], [0,1], color=pal[2], linestyle='-')\n",
    "plt.title('Mean Response By Position Word')\n",
    "plt.xlabel('Word', labelpad = 4)\n",
    "plt.ylabel('Mean Response')\n",
    "plt.ylim([0,1])\n",
    "plt.yticks(([.25,.5,.75]))\n",
    "\n",
    "plt.subplots_adjust(hspace=.4)"
   ]
  },
  {
   "cell_type": "code",
   "execution_count": null,
   "metadata": {
    "collapsed": false
   },
   "outputs": [],
   "source": [
    "nline_df.loc[('s_02022','Run_0',43)].MouseTrack"
   ]
  },
  {
   "cell_type": "code",
   "execution_count": null,
   "metadata": {
    "collapsed": true
   },
   "outputs": [],
   "source": []
  }
 ],
 "metadata": {
  "kernelspec": {
   "display_name": "Python 2",
   "language": "python",
   "name": "python2"
  },
  "language_info": {
   "codemirror_mode": {
    "name": "ipython",
    "version": 2
   },
   "file_extension": ".py",
   "mimetype": "text/x-python",
   "name": "python",
   "nbconvert_exporter": "python",
   "pygments_lexer": "ipython2",
   "version": "2.7.11"
  }
 },
 "nbformat": 4,
 "nbformat_minor": 0
}
