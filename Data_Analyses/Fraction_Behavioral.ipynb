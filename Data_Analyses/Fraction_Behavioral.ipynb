{
 "metadata": {
  "name": "",
  "signature": "sha256:c615b2dad32b16eec7553410c42b39a65db4c01e1a0cc44e64a13ac78e8e4521"
 },
 "nbformat": 3,
 "nbformat_minor": 0,
 "worksheets": [
  {
   "cells": [
    {
     "cell_type": "code",
     "collapsed": false,
     "input": [
      "#Opened with --pylab flag\n",
      "#Need to create code to analyze piot data\n",
      "import pandas as pd\n",
      "import numpy as np\n",
      "from scipy import io\n",
      "import os\n",
      "import glob"
     ],
     "language": "python",
     "metadata": {},
     "outputs": [],
     "prompt_number": 1
    },
    {
     "cell_type": "code",
     "collapsed": false,
     "input": [
      "## Laptop\n",
      "#filepath = '/Users/frankkanayet/Dropbox/FractionExperiment/Data/Behavioral_Data'\n",
      "\n",
      "## Desktop\n",
      "filepath = '/Users/frankanayet/Dropbox/FractionExperiment/Data/Behavioral_Data'\n",
      "os.chdir(filepath)"
     ],
     "language": "python",
     "metadata": {},
     "outputs": [],
     "prompt_number": 2
    },
    {
     "cell_type": "code",
     "collapsed": false,
     "input": [
      "#print 'Pandas version ' + pd.__version__"
     ],
     "language": "python",
     "metadata": {},
     "outputs": [
      {
       "output_type": "stream",
       "stream": "stdout",
       "text": [
        "Pandas version 0.14.1\n"
       ]
      }
     ],
     "prompt_number": 3
    },
    {
     "cell_type": "code",
     "collapsed": false,
     "input": [
      "filenames = glob.glob('Frac_*.mat')\n",
      "print filenames\n",
      "#index to isolate subj numbers\n",
      "data_dict = {}\n",
      "for i in filenames:\n",
      "    id1 = filenames[0].find('_') + 1\n",
      "    id2 = filenames[0].find('-')\n",
      "    sub_nbr = i[id1:id2]\n",
      "    sub_name = i\n",
      "    s_id = 's_'+sub_nbr\n",
      "    data_dict[s_id] = io.loadmat(sub_name)\n",
      "\n",
      "#sub_name = filenames[0] #This will be changed to a loop for all subjects later\n",
      "#mat = io.loadmat(sub_name)\n",
      "data_dict.keys()"
     ],
     "language": "python",
     "metadata": {},
     "outputs": [
      {
       "output_type": "stream",
       "stream": "stdout",
       "text": [
        "['Frac_01003-Dec1514a.mat', 'Frac_01004-Dec1514a.mat', 'Frac_01005-Dec1614a.mat', 'Frac_01006-Dec1614a.mat', 'Frac_01007-Dec1714a.mat', 'Frac_01008-Dec1714a.mat', 'Frac_01009-Dec1714a.mat', 'Frac_01010-Dec1814a.mat']\n"
       ]
      },
      {
       "metadata": {},
       "output_type": "pyout",
       "prompt_number": 4,
       "text": [
        "['s_01010',\n",
        " 's_01008',\n",
        " 's_01009',\n",
        " 's_01003',\n",
        " 's_01006',\n",
        " 's_01007',\n",
        " 's_01004',\n",
        " 's_01005']"
       ]
      }
     ],
     "prompt_number": 4
    },
    {
     "cell_type": "code",
     "collapsed": false,
     "input": [
      "for i in data_dict:\n",
      "    data_dict[i].pop('__header__')\n",
      "    data_dict[i].pop('__version__')\n",
      "    data_dict[i].pop('__globals__')\n",
      "#data_dict['s_01010'].keys()"
     ],
     "language": "python",
     "metadata": {},
     "outputs": [],
     "prompt_number": 5
    },
    {
     "cell_type": "code",
     "collapsed": false,
     "input": [
      "## The indexes of zeros are as follows [0][0][x][y][z][0] The x y z are the 3 dimensions of the data 3d matrix the zeros are padding\n",
      "data_dict['s_01010']['p']['sumResults'][0][0][0][5][0][0]\n",
      "len(data_dict['s_01010']['p']['sumResults'][0][0][:])"
     ],
     "language": "python",
     "metadata": {},
     "outputs": [
      {
       "metadata": {},
       "output_type": "pyout",
       "prompt_number": 6,
       "text": [
        "71"
       ]
      }
     ],
     "prompt_number": 6
    },
    {
     "cell_type": "code",
     "collapsed": false,
     "input": [
      "data_dict['s_01010']['p'].dtype.names"
     ],
     "language": "python",
     "metadata": {},
     "outputs": [
      {
       "metadata": {},
       "output_type": "pyout",
       "prompt_number": 7,
       "text": [
        "('order',\n",
        " 'ramp_up',\n",
        " 'fixation',\n",
        " 'consider',\n",
        " 'decision',\n",
        " 'pct_catch',\n",
        " 'runs',\n",
        " 'nRepeats',\n",
        " 'nStim',\n",
        " 'tasks',\n",
        " 'trialSecs',\n",
        " 'sumResults',\n",
        " 'compResults',\n",
        " 'numlineResults',\n",
        " 'dotsResults',\n",
        " 'time_Runs',\n",
        " 'start_FComp',\n",
        " 'finish_FComp',\n",
        " 'start_sum',\n",
        " 'finish_sum',\n",
        " 'start_NLine',\n",
        " 'finish_NLine',\n",
        " 'start_Dots',\n",
        " 'finish_Dots')"
       ]
      }
     ],
     "prompt_number": 7
    },
    {
     "cell_type": "code",
     "collapsed": false,
     "input": [
      "cons_time = data_dict['s_01010']['p']['consider'][0][0][0][0]\n",
      "dec_time = data_dict['s_01010']['p']['decision'][0][0][0][0]"
     ],
     "language": "python",
     "metadata": {},
     "outputs": [],
     "prompt_number": 8
    },
    {
     "cell_type": "code",
     "collapsed": false,
     "input": [
      "new_dat = {}\n",
      "#new_df = {}\n",
      "for s in data_dict:\n",
      "    tasks = ['sumResults','compResults','numlineResults','dotsResults']\n",
      "    new_dat[s]={}\n",
      "    #new_df[s] = {}\n",
      "    for task in tasks:\n",
      "        dat = data_dict[s]['p'][task]\n",
      "        num_fields = len(data_dict[s]['p'][task][0][0][0])\n",
      "        dat_names = []\n",
      "        for k in range(0,num_fields):\n",
      "            dat_names.append(dat[0][0][0][k][0][0])\n",
      "        new_dat[s][task] = {}\n",
      "        runs = data_dict[s]['p']['runs'][0][0][0][0]\n",
      "        for run in range(0,runs):\n",
      "            run_name = 'Run_'+str(run)\n",
      "            new_dat[s][task][run_name] = {}\n",
      "            for i in range(0,len(dat_names)):\n",
      "                new_dat[s][task][run_name][dat_names[i]] = []\n",
      "                for j in range(0,len(dat[0][0][:])-1):\n",
      "                    new_dat[s][task][run_name][dat_names[i]].append(dat[0][0][j+1][i][run][0])\n",
      "#legible access to the data\n",
      "Sum = 'sumResults' #Match task\n",
      "Comp = 'compResults' #Fraction comparison\n",
      "Nline = 'numlineResults' #numberline\n",
      "Dots = 'dotsResults' #Dots"
     ],
     "language": "python",
     "metadata": {},
     "outputs": [],
     "prompt_number": 9
    },
    {
     "cell_type": "code",
     "collapsed": false,
     "input": [
      "new_dat['s_01007'].keys()"
     ],
     "language": "python",
     "metadata": {},
     "outputs": [
      {
       "metadata": {},
       "output_type": "pyout",
       "prompt_number": 10,
       "text": [
        "['sumResults', 'numlineResults', 'compResults', 'dotsResults']"
       ]
      }
     ],
     "prompt_number": 10
    },
    {
     "cell_type": "code",
     "collapsed": false,
     "input": [
      "new_dat['s_01007'][Dots].keys()"
     ],
     "language": "python",
     "metadata": {},
     "outputs": [
      {
       "metadata": {},
       "output_type": "pyout",
       "prompt_number": 11,
       "text": [
        "['Run_1', 'Run_0']"
       ]
      }
     ],
     "prompt_number": 11
    },
    {
     "cell_type": "code",
     "collapsed": false,
     "input": [
      "new_dat['s_01010'][Sum]['Run_0'].keys()"
     ],
     "language": "python",
     "metadata": {},
     "outputs": [
      {
       "metadata": {},
       "output_type": "pyout",
       "prompt_number": 12,
       "text": [
        "[u'RT',\n",
        " u'Acc',\n",
        " u'decision_end',\n",
        " u'cons_onset',\n",
        " u'decision_onset_real',\n",
        " u'fix_onset',\n",
        " u'Points',\n",
        " u'cons_onset_real',\n",
        " u'Sum_Fraction',\n",
        " u'Response',\n",
        " u'Trial',\n",
        " u'Sum_Probe',\n",
        " u'decision_onset',\n",
        " u'Value',\n",
        " u'Denom',\n",
        " u'catch',\n",
        " u'Num',\n",
        " u'Correct',\n",
        " u'Block',\n",
        " u'fix_onset_real']"
       ]
      }
     ],
     "prompt_number": 12
    },
    {
     "cell_type": "code",
     "collapsed": false,
     "input": [
      "subj = data_dict.keys()\n",
      "tasks = [Sum, Comp, Nline, Dots]\n",
      "runs = new_dat['s_01010']['sumResults'].keys()\n",
      "tuples = []\n",
      "rows = len(data_dict['s_01010']['p'][Sum][0][0][:])-1\n",
      "for s in subj:\n",
      "    for run in runs:\n",
      "        for i in range(0,rows):\n",
      "            tuples.append((s, run, i))\n",
      "len(tuples)\n",
      "#iterables = [subj,tasks,runs]\n",
      "indexes = pd.MultiIndex.from_tuples(tuples, names=['Subj', 'Run', 'Trial'])\n",
      "sum_cols = len(new_dat['s_01010'][Sum]['Run_0'].keys())\n",
      "comp_cols = len(new_dat['s_01010'][Comp]['Run_0'].keys())\n",
      "nline_cols = len(new_dat['s_01010'][Nline]['Run_0'].keys())\n",
      "dots_cols = len(new_dat['s_01010'][Dots]['Run_0'].keys())"
     ],
     "language": "python",
     "metadata": {},
     "outputs": [],
     "prompt_number": 13
    },
    {
     "cell_type": "code",
     "collapsed": false,
     "input": [
      "indexes[720]"
     ],
     "language": "python",
     "metadata": {},
     "outputs": [
      {
       "metadata": {},
       "output_type": "pyout",
       "prompt_number": 14,
       "text": [
        "('s_01007', 'Run_1', 20)"
       ]
      }
     ],
     "prompt_number": 14
    },
    {
     "cell_type": "code",
     "collapsed": false,
     "input": [
      "indexes[1][1]"
     ],
     "language": "python",
     "metadata": {},
     "outputs": [
      {
       "metadata": {},
       "output_type": "pyout",
       "prompt_number": 15,
       "text": [
        "'Run_1'"
       ]
      }
     ],
     "prompt_number": 15
    },
    {
     "cell_type": "code",
     "collapsed": false,
     "input": [
      "new_dat[indexes[720][0]][Dots][indexes[720][1]]['Acc'][indexes[720][2]]"
     ],
     "language": "python",
     "metadata": {},
     "outputs": [
      {
       "metadata": {},
       "output_type": "pyout",
       "prompt_number": 16,
       "text": [
        "array([], dtype=float64)"
       ]
      }
     ],
     "prompt_number": 16
    },
    {
     "cell_type": "code",
     "collapsed": false,
     "input": [
      "new_dat[indexes[0][0]][Sum][indexes[0][1]]['Acc'][69][0]"
     ],
     "language": "python",
     "metadata": {},
     "outputs": [
      {
       "metadata": {},
       "output_type": "pyout",
       "prompt_number": 17,
       "text": [
        "-1"
       ]
      }
     ],
     "prompt_number": 17
    },
    {
     "cell_type": "code",
     "collapsed": false,
     "input": [
      "varnames = new_dat['s_01010'][Sum]['Run_0'].keys()\n",
      "varnames[0]"
     ],
     "language": "python",
     "metadata": {},
     "outputs": [
      {
       "metadata": {},
       "output_type": "pyout",
       "prompt_number": 18,
       "text": [
        "u'RT'"
       ]
      }
     ],
     "prompt_number": 18
    },
    {
     "cell_type": "code",
     "collapsed": false,
     "input": [
      "len(indexes)"
     ],
     "language": "python",
     "metadata": {},
     "outputs": [
      {
       "metadata": {},
       "output_type": "pyout",
       "prompt_number": 19,
       "text": [
        "1120"
       ]
      }
     ],
     "prompt_number": 19
    },
    {
     "cell_type": "code",
     "collapsed": false,
     "input": [
      "#First for sum\n",
      "Dic_list = []\n",
      "for data in indexes:\n",
      "    temp_dict = {}\n",
      "    for var in varnames:\n",
      "        if len(new_dat.get(data[0]).get(Sum).get(data[1]).get(var)[data[2]]) == 0:\n",
      "            new_dat.get(data[0]).get(Sum).get(data[1]).get(var)[data[2]] = np.array([np.nan])\n",
      "        temp_dict[var] = new_dat.get(data[0]).get(Sum).get(data[1]).get(var)[data[2]][0]\n",
      "    Dic_list.append(temp_dict)"
     ],
     "language": "python",
     "metadata": {},
     "outputs": [],
     "prompt_number": 20
    },
    {
     "cell_type": "code",
     "collapsed": false,
     "input": [
      "#Create dataframe\n",
      "sum_df = pd.DataFrame(Dic_list, index=indexes)\n",
      "sum(sum_df.loc['s_01010'].loc['Run_0'].iloc[0:10]['Acc'])"
     ],
     "language": "python",
     "metadata": {},
     "outputs": [
      {
       "metadata": {},
       "output_type": "pyout",
       "prompt_number": 21,
       "text": [
        "-6.0"
       ]
      }
     ],
     "prompt_number": 21
    },
    {
     "cell_type": "code",
     "collapsed": false,
     "input": [
      "sum_df.loc['s_01010'].loc['Run_0'].iloc[0:10]['Acc']"
     ],
     "language": "python",
     "metadata": {},
     "outputs": [
      {
       "metadata": {},
       "output_type": "pyout",
       "prompt_number": 22,
       "text": [
        "Trial\n",
        "0        1\n",
        "1       -1\n",
        "2       -1\n",
        "3       -1\n",
        "4       -1\n",
        "5       -1\n",
        "6       -1\n",
        "7       -1\n",
        "8       -1\n",
        "9        1\n",
        "Name: Acc, dtype: float64"
       ]
      }
     ],
     "prompt_number": 22
    },
    {
     "cell_type": "code",
     "collapsed": false,
     "input": [
      "#Now for Comp\n",
      "varnames = new_dat['s_01010'][Comp]['Run_0'].keys()\n",
      "Dic_list = []\n",
      "for data in indexes:\n",
      "    temp_dict = {}\n",
      "    for var in varnames:\n",
      "        if len(new_dat.get(data[0]).get(Comp).get(data[1]).get(var)[data[2]]) == 0:\n",
      "            new_dat.get(data[0]).get(Comp).get(data[1]).get(var)[data[2]] = np.array([np.nan])\n",
      "        temp_dict[var] = new_dat.get(data[0]).get(Comp).get(data[1]).get(var)[data[2]][0]\n",
      "    Dic_list.append(temp_dict)\n",
      "comp_df = pd.DataFrame(Dic_list, index=indexes)"
     ],
     "language": "python",
     "metadata": {},
     "outputs": [],
     "prompt_number": 23
    },
    {
     "cell_type": "code",
     "collapsed": false,
     "input": [
      "#Now for Nline\n",
      "varnames = new_dat['s_01010'][Nline]['Run_0'].keys()\n",
      "Dic_list = []\n",
      "for data in indexes:\n",
      "    temp_dict = {}\n",
      "    for var in varnames:\n",
      "        if len(new_dat.get(data[0]).get(Nline).get(data[1]).get(var)[data[2]]) == 0:\n",
      "            new_dat.get(data[0]).get(Nline).get(data[1]).get(var)[data[2]] = np.array([np.nan])\n",
      "        temp_dict[var] = new_dat.get(data[0]).get(Nline).get(data[1]).get(var)[data[2]][0]\n",
      "    Dic_list.append(temp_dict)\n",
      "nline_df = pd.DataFrame(Dic_list, index=indexes)"
     ],
     "language": "python",
     "metadata": {},
     "outputs": [],
     "prompt_number": 24
    },
    {
     "cell_type": "code",
     "collapsed": false,
     "input": [
      "#Now for dots\n",
      "varnames = new_dat['s_01010'][Dots]['Run_0'].keys()\n",
      "Dic_list = []\n",
      "for data in indexes:\n",
      "    temp_dict = {}\n",
      "    for var in varnames:\n",
      "        if len(new_dat.get(data[0]).get(Dots).get(data[1]).get(var)[data[2]]) == 0:\n",
      "            new_dat.get(data[0]).get(Dots).get(data[1]).get(var)[data[2]] = np.array([np.nan])\n",
      "        temp_dict[var] = new_dat.get(data[0]).get(Dots).get(data[1]).get(var)[data[2]][0]\n",
      "    Dic_list.append(temp_dict)\n",
      "dots_df = pd.DataFrame(Dic_list, index=indexes)"
     ],
     "language": "python",
     "metadata": {},
     "outputs": [],
     "prompt_number": 25
    },
    {
     "cell_type": "code",
     "collapsed": false,
     "input": [
      "sum_df.index.names = ['Subject', 'Run', 'Trial']\n",
      "comp_df.index.names = ['Subject', 'Run', 'Trial']\n",
      "nline_df.index.names = ['Subject', 'Run', 'Trial']\n",
      "dots_df.index.names = ['Subject', 'Run', 'Trial']\n",
      "sum_df.index.names"
     ],
     "language": "python",
     "metadata": {},
     "outputs": [
      {
       "metadata": {},
       "output_type": "pyout",
       "prompt_number": 26,
       "text": [
        "FrozenList([u'Subject', u'Run', u'Trial'])"
       ]
      }
     ],
     "prompt_number": 26
    },
    {
     "cell_type": "code",
     "collapsed": false,
     "input": [
      "dots_df.loc['s_01010']['Num']"
     ],
     "language": "python",
     "metadata": {},
     "outputs": [
      {
       "metadata": {},
       "output_type": "pyout",
       "prompt_number": 27,
       "text": [
        "Run    Trial\n",
        "Run_1  0         2\n",
        "       1         7\n",
        "       2         5\n",
        "       3         3\n",
        "       4         4\n",
        "       5         9\n",
        "       6         2\n",
        "       7        15\n",
        "       8         2\n",
        "       9         1\n",
        "       10       12\n",
        "       11        6\n",
        "       12        6\n",
        "       13        5\n",
        "       14        5\n",
        "...\n",
        "Run_0  55        2\n",
        "       56        5\n",
        "       57        6\n",
        "       58        3\n",
        "       59        4\n",
        "       60        6\n",
        "       61        2\n",
        "       62        5\n",
        "       63        1\n",
        "       64       12\n",
        "       65        7\n",
        "       66       15\n",
        "       67        2\n",
        "       68        2\n",
        "       69        9\n",
        "Name: Num, Length: 140, dtype: float64"
       ]
      }
     ],
     "prompt_number": 27
    },
    {
     "cell_type": "heading",
     "level": 3,
     "metadata": {},
     "source": [
      "Create Stim Labels"
     ]
    },
    {
     "cell_type": "code",
     "collapsed": false,
     "input": [
      "import copy\n",
      "test = copy.deepcopy(sum_df)\n",
      "test['Denom'] = test['Denom'].map('{:.0f}'.format)\n",
      "test['Num'] = test['Num'].map('{:.0f}'.format)\n",
      "test['Stim'] = test['Num']+'/'+test['Denom']\n",
      "test['Stim']"
     ],
     "language": "python",
     "metadata": {},
     "outputs": [
      {
       "metadata": {},
       "output_type": "pyout",
       "prompt_number": 28,
       "text": [
        "Subject  Run    Trial\n",
        "s_01010  Run_1  0        15/21\n",
        "                1          7/8\n",
        "                2         4/16\n",
        "                3          2/9\n",
        "                4          3/4\n",
        "                5          2/6\n",
        "                6          6/9\n",
        "                7        12/22\n",
        "                8         9/27\n",
        "                9         5/21\n",
        "                10        6/24\n",
        "                11         5/7\n",
        "                12         1/6\n",
        "                13         2/3\n",
        "                14         2/6\n",
        "...\n",
        "s_01005  Run_0  55         6/9\n",
        "                56         2/6\n",
        "                57       15/21\n",
        "                58        6/24\n",
        "                59         7/8\n",
        "                60         1/6\n",
        "                61         5/7\n",
        "                62         3/4\n",
        "                63        9/27\n",
        "                64        5/21\n",
        "                65         2/9\n",
        "                66         2/3\n",
        "                67       12/22\n",
        "                68        4/16\n",
        "                69         6/9\n",
        "Name: Stim, Length: 1120, dtype: object"
       ]
      }
     ],
     "prompt_number": 28
    },
    {
     "cell_type": "code",
     "collapsed": false,
     "input": [
      "#first sum\n",
      "sum_df['Num'] = sum_df['Num'].map('{:.0f}'.format)\n",
      "sum_df['Denom'] = sum_df['Denom'].map('{:.0f}'.format)\n",
      "sum_df['Stim'] = sum_df['Num']+'/'+sum_df['Denom']\n",
      "#sum_df.loc['s_01010'].loc['Run_1'].loc[2]\n",
      "sum_df['Stim']"
     ],
     "language": "python",
     "metadata": {},
     "outputs": [
      {
       "metadata": {},
       "output_type": "pyout",
       "prompt_number": 29,
       "text": [
        "Subject  Run    Trial\n",
        "s_01010  Run_1  0        15/21\n",
        "                1          7/8\n",
        "                2         4/16\n",
        "                3          2/9\n",
        "                4          3/4\n",
        "                5          2/6\n",
        "                6          6/9\n",
        "                7        12/22\n",
        "                8         9/27\n",
        "                9         5/21\n",
        "                10        6/24\n",
        "                11         5/7\n",
        "                12         1/6\n",
        "                13         2/3\n",
        "                14         2/6\n",
        "...\n",
        "s_01005  Run_0  55         6/9\n",
        "                56         2/6\n",
        "                57       15/21\n",
        "                58        6/24\n",
        "                59         7/8\n",
        "                60         1/6\n",
        "                61         5/7\n",
        "                62         3/4\n",
        "                63        9/27\n",
        "                64        5/21\n",
        "                65         2/9\n",
        "                66         2/3\n",
        "                67       12/22\n",
        "                68        4/16\n",
        "                69         6/9\n",
        "Name: Stim, Length: 1120, dtype: object"
       ]
      }
     ],
     "prompt_number": 29
    },
    {
     "cell_type": "code",
     "collapsed": false,
     "input": [
      "#now comp\n",
      "comp_df['Num'] = comp_df['Num'].map('{:.0f}'.format)\n",
      "comp_df['Denom'] = comp_df['Denom'].map('{:.0f}'.format)\n",
      "comp_df['Stim'] = comp_df['Num']+'/'+comp_df['Denom']\n",
      "comp_df['Stim']"
     ],
     "language": "python",
     "metadata": {},
     "outputs": [
      {
       "metadata": {},
       "output_type": "pyout",
       "prompt_number": 30,
       "text": [
        "Subject  Run    Trial\n",
        "s_01010  Run_1  0         4/16\n",
        "                1          7/8\n",
        "                2         9/27\n",
        "                3          2/3\n",
        "                4          2/9\n",
        "                5         5/21\n",
        "                6        12/22\n",
        "                7          2/6\n",
        "                8          6/9\n",
        "                9          5/7\n",
        "                10         1/6\n",
        "                11        6/24\n",
        "                12       15/21\n",
        "                13         3/4\n",
        "                14         6/9\n",
        "...\n",
        "s_01005  Run_0  55         2/3\n",
        "                56       12/22\n",
        "                57         1/6\n",
        "                58         2/3\n",
        "                59         5/7\n",
        "                60         2/9\n",
        "                61        6/24\n",
        "                62         7/8\n",
        "                63        5/21\n",
        "                64        4/16\n",
        "                65        9/27\n",
        "                66       15/21\n",
        "                67         6/9\n",
        "                68         3/4\n",
        "                69         2/6\n",
        "Name: Stim, Length: 1120, dtype: object"
       ]
      }
     ],
     "prompt_number": 30
    },
    {
     "cell_type": "code",
     "collapsed": false,
     "input": [
      "#now nline\n",
      "nline_df['Num'] = nline_df['Num'].map('{:.0f}'.format)\n",
      "nline_df['Denom'] = nline_df['Denom'].map('{:.0f}'.format)\n",
      "nline_df['Stim'] = nline_df['Num']+'/'+nline_df['Denom']\n",
      "nline_df['Stim']"
     ],
     "language": "python",
     "metadata": {},
     "outputs": [
      {
       "metadata": {},
       "output_type": "pyout",
       "prompt_number": 31,
       "text": [
        "Subject  Run    Trial\n",
        "s_01010  Run_1  0          3/4\n",
        "                1          2/9\n",
        "                2          2/6\n",
        "                3        12/22\n",
        "                4          1/6\n",
        "                5         6/24\n",
        "                6         9/27\n",
        "                7          2/3\n",
        "                8          6/9\n",
        "                9          7/8\n",
        "                10        5/21\n",
        "                11         5/7\n",
        "                12        4/16\n",
        "                13       15/21\n",
        "                14       15/21\n",
        "...\n",
        "s_01005  Run_0  55        6/24\n",
        "                56         3/4\n",
        "                57         2/6\n",
        "                58        6/24\n",
        "                59        4/16\n",
        "                60         1/6\n",
        "                61         5/7\n",
        "                62        9/27\n",
        "                63         7/8\n",
        "                64       12/22\n",
        "                65        5/21\n",
        "                66         2/3\n",
        "                67         2/9\n",
        "                68         6/9\n",
        "                69       15/21\n",
        "Name: Stim, Length: 1120, dtype: object"
       ]
      }
     ],
     "prompt_number": 31
    },
    {
     "cell_type": "code",
     "collapsed": false,
     "input": [
      "#now dots\n",
      "dots_df['Num'] = dots_df['Num'].map('{:.0f}'.format)\n",
      "dots_df['Denom'] = dots_df['Denom'].map('{:.0f}'.format)\n",
      "dots_df['Stim'] = dots_df['Num']+'/'+dots_df['Denom']\n",
      "dots_df['Stim']"
     ],
     "language": "python",
     "metadata": {},
     "outputs": [
      {
       "metadata": {},
       "output_type": "pyout",
       "prompt_number": 32,
       "text": [
        "Subject  Run    Trial\n",
        "s_01010  Run_1  0          2/9\n",
        "                1          7/8\n",
        "                2          5/7\n",
        "                3          3/4\n",
        "                4         4/16\n",
        "                5         9/27\n",
        "                6          2/3\n",
        "                7        15/21\n",
        "                8          2/6\n",
        "                9          1/6\n",
        "                10       12/22\n",
        "                11        6/24\n",
        "                12         6/9\n",
        "                13        5/21\n",
        "                14        5/21\n",
        "...\n",
        "s_01005  Run_0  55       12/22\n",
        "                56         2/9\n",
        "                57         7/8\n",
        "                58        6/24\n",
        "                59        4/16\n",
        "                60        5/21\n",
        "                61         5/7\n",
        "                62         6/9\n",
        "                63       12/22\n",
        "                64        9/27\n",
        "                65       15/21\n",
        "                66         2/3\n",
        "                67         3/4\n",
        "                68         2/6\n",
        "                69         1/6\n",
        "Name: Stim, Length: 1120, dtype: object"
       ]
      }
     ],
     "prompt_number": 32
    },
    {
     "cell_type": "heading",
     "level": 1,
     "metadata": {},
     "source": [
      "Create categorical close far"
     ]
    },
    {
     "cell_type": "code",
     "collapsed": false,
     "input": [
      "nline_df.columns"
     ],
     "language": "python",
     "metadata": {},
     "outputs": [
      {
       "metadata": {},
       "output_type": "pyout",
       "prompt_number": 33,
       "text": [
        "Index([u'Acc', u'Block', u'Correct', u'Denom', u'Denom_Probe', u'Num', u'Num_Probe', u'Points', u'RT', u'Response', u'Trial', u'Value', u'Value_Probe', u'catch', u'cons_onset', u'cons_onset_real', u'decision_end', u'decision_onset', u'decision_onset_real', u'fix_onset', u'fix_onset_real', u'Stim'], dtype='object')"
       ]
      }
     ],
     "prompt_number": 33
    },
    {
     "cell_type": "code",
     "collapsed": false,
     "input": [
      "#Sum\n",
      "sum_df['Difference'] = np.abs(sum_df['Sum_Fraction'] - sum_df['Sum_Probe'])\n",
      "sum_df['Distance'] = sum_df['Difference'] > 8\n",
      "sum_df['Distance'] = sum_df['Distance'].replace([False, True], ['Close', 'Far'])\n",
      "\n",
      "#Comp\n",
      "comp_df['Difference'] = np.abs(comp_df['Value'] - comp_df['Value_Probe'])\n",
      "comp_df['Distance'] = comp_df['Difference'] >= 0.155\n",
      "comp_df['Distance'] = comp_df['Distance'].replace([False, True], ['Close', 'Far'])\n",
      "\n",
      "#Nline\n",
      "nline_df['Difference'] = np.abs(nline_df['Value'] - nline_df['Value_Probe'])\n",
      "nline_df['Distance'] = nline_df['Difference'] >= 0.155\n",
      "nline_df['Distance'] = nline_df['Distance'].replace([False, True], ['Close', 'Far'])\n",
      "\n",
      "#Dots\n",
      "dots_df['Difference'] = np.abs(dots_df['Value'] - dots_df['Value_Probe'])\n",
      "dots_df['Distance'] = dots_df['Difference'] >= 0.155\n",
      "dots_df['Distance'] = dots_df['Distance'].replace([False, True], ['Close', 'Far'])"
     ],
     "language": "python",
     "metadata": {},
     "outputs": [],
     "prompt_number": 34
    },
    {
     "cell_type": "heading",
     "level": 1,
     "metadata": {},
     "source": [
      "Sum Analyses"
     ]
    },
    {
     "cell_type": "heading",
     "level": 3,
     "metadata": {},
     "source": [
      "Accuracy & RT"
     ]
    },
    {
     "cell_type": "code",
     "collapsed": false,
     "input": [
      "sum_no_miss = sum_df[['Acc', 'RT', 'Distance', 'catch']]\n",
      "sum_no_miss = sum_no_miss[sum_no_miss['catch']>0]"
     ],
     "language": "python",
     "metadata": {},
     "outputs": [],
     "prompt_number": 35
    },
    {
     "cell_type": "code",
     "collapsed": false,
     "input": [
      "sum_no_miss = sum_no_miss.replace(-1, np.nan)\n",
      "sum_no_miss.pop('catch')"
     ],
     "language": "python",
     "metadata": {},
     "outputs": [
      {
       "metadata": {},
       "output_type": "pyout",
       "prompt_number": 36,
       "text": [
        "Subject  Run    Trial\n",
        "s_01010  Run_1  4        1\n",
        "                5        1\n",
        "                6        1\n",
        "                8        1\n",
        "                9        1\n",
        "                10       1\n",
        "                13       1\n",
        "                16       1\n",
        "                17       1\n",
        "                18       1\n",
        "                19       1\n",
        "                23       1\n",
        "                26       1\n",
        "                28       1\n",
        "                30       1\n",
        "...\n",
        "s_01005  Run_0  35       1\n",
        "                37       1\n",
        "                43       1\n",
        "                44       1\n",
        "                46       1\n",
        "                47       1\n",
        "                51       1\n",
        "                54       1\n",
        "                56       1\n",
        "                57       1\n",
        "                60       1\n",
        "                62       1\n",
        "                63       1\n",
        "                67       1\n",
        "                68       1\n",
        "Name: catch, Length: 448, dtype: int64"
       ]
      }
     ],
     "prompt_number": 36
    },
    {
     "cell_type": "code",
     "collapsed": false,
     "input": [
      "sum_subj = sum_no_miss.groupby(level=0)\n",
      "sum_subj.mean()"
     ],
     "language": "python",
     "metadata": {},
     "outputs": [
      {
       "html": [
        "<div style=\"max-height:1000px;max-width:1500px;overflow:auto;\">\n",
        "<table border=\"1\" class=\"dataframe\">\n",
        "  <thead>\n",
        "    <tr style=\"text-align: right;\">\n",
        "      <th></th>\n",
        "      <th>Acc</th>\n",
        "      <th>RT</th>\n",
        "    </tr>\n",
        "    <tr>\n",
        "      <th>Subject</th>\n",
        "      <th></th>\n",
        "      <th></th>\n",
        "    </tr>\n",
        "  </thead>\n",
        "  <tbody>\n",
        "    <tr>\n",
        "      <th>s_01003</th>\n",
        "      <td> 1.000000</td>\n",
        "      <td> 0.712053</td>\n",
        "    </tr>\n",
        "    <tr>\n",
        "      <th>s_01004</th>\n",
        "      <td> 0.963636</td>\n",
        "      <td> 0.980679</td>\n",
        "    </tr>\n",
        "    <tr>\n",
        "      <th>s_01005</th>\n",
        "      <td> 0.490909</td>\n",
        "      <td> 1.105662</td>\n",
        "    </tr>\n",
        "    <tr>\n",
        "      <th>s_01006</th>\n",
        "      <td> 1.000000</td>\n",
        "      <td> 0.719947</td>\n",
        "    </tr>\n",
        "    <tr>\n",
        "      <th>s_01007</th>\n",
        "      <td> 0.750000</td>\n",
        "      <td> 1.965983</td>\n",
        "    </tr>\n",
        "    <tr>\n",
        "      <th>s_01008</th>\n",
        "      <td> 0.959184</td>\n",
        "      <td> 1.008042</td>\n",
        "    </tr>\n",
        "    <tr>\n",
        "      <th>s_01009</th>\n",
        "      <td> 0.892857</td>\n",
        "      <td> 1.482836</td>\n",
        "    </tr>\n",
        "    <tr>\n",
        "      <th>s_01010</th>\n",
        "      <td> 0.963636</td>\n",
        "      <td> 1.092558</td>\n",
        "    </tr>\n",
        "  </tbody>\n",
        "</table>\n",
        "</div>"
       ],
       "metadata": {},
       "output_type": "pyout",
       "prompt_number": 37,
       "text": [
        "              Acc        RT\n",
        "Subject                    \n",
        "s_01003  1.000000  0.712053\n",
        "s_01004  0.963636  0.980679\n",
        "s_01005  0.490909  1.105662\n",
        "s_01006  1.000000  0.719947\n",
        "s_01007  0.750000  1.965983\n",
        "s_01008  0.959184  1.008042\n",
        "s_01009  0.892857  1.482836\n",
        "s_01010  0.963636  1.092558"
       ]
      }
     ],
     "prompt_number": 37
    },
    {
     "cell_type": "code",
     "collapsed": false,
     "input": [
      "np.mean(sum_subj.mean())"
     ],
     "language": "python",
     "metadata": {},
     "outputs": [
      {
       "metadata": {},
       "output_type": "pyout",
       "prompt_number": 38,
       "text": [
        "Acc    0.877528\n",
        "RT     1.133470\n",
        "dtype: float64"
       ]
      }
     ],
     "prompt_number": 38
    },
    {
     "cell_type": "code",
     "collapsed": false,
     "input": [
      "sum_subj.std()"
     ],
     "language": "python",
     "metadata": {},
     "outputs": [
      {
       "html": [
        "<div style=\"max-height:1000px;max-width:1500px;overflow:auto;\">\n",
        "<table border=\"1\" class=\"dataframe\">\n",
        "  <thead>\n",
        "    <tr style=\"text-align: right;\">\n",
        "      <th></th>\n",
        "      <th>Acc</th>\n",
        "      <th>RT</th>\n",
        "    </tr>\n",
        "    <tr>\n",
        "      <th>Subject</th>\n",
        "      <th></th>\n",
        "      <th></th>\n",
        "    </tr>\n",
        "  </thead>\n",
        "  <tbody>\n",
        "    <tr>\n",
        "      <th>s_01003</th>\n",
        "      <td> 0.000000</td>\n",
        "      <td> 0.116888</td>\n",
        "    </tr>\n",
        "    <tr>\n",
        "      <th>s_01004</th>\n",
        "      <td> 0.188919</td>\n",
        "      <td> 0.323736</td>\n",
        "    </tr>\n",
        "    <tr>\n",
        "      <th>s_01005</th>\n",
        "      <td> 0.504525</td>\n",
        "      <td> 0.324530</td>\n",
        "    </tr>\n",
        "    <tr>\n",
        "      <th>s_01006</th>\n",
        "      <td> 0.000000</td>\n",
        "      <td> 0.130607</td>\n",
        "    </tr>\n",
        "    <tr>\n",
        "      <th>s_01007</th>\n",
        "      <td> 0.452267</td>\n",
        "      <td> 0.302887</td>\n",
        "    </tr>\n",
        "    <tr>\n",
        "      <th>s_01008</th>\n",
        "      <td> 0.199915</td>\n",
        "      <td> 0.324992</td>\n",
        "    </tr>\n",
        "    <tr>\n",
        "      <th>s_01009</th>\n",
        "      <td> 0.312094</td>\n",
        "      <td> 0.276600</td>\n",
        "    </tr>\n",
        "    <tr>\n",
        "      <th>s_01010</th>\n",
        "      <td> 0.188919</td>\n",
        "      <td> 0.276220</td>\n",
        "    </tr>\n",
        "  </tbody>\n",
        "</table>\n",
        "</div>"
       ],
       "metadata": {},
       "output_type": "pyout",
       "prompt_number": 39,
       "text": [
        "              Acc        RT\n",
        "Subject                    \n",
        "s_01003  0.000000  0.116888\n",
        "s_01004  0.188919  0.323736\n",
        "s_01005  0.504525  0.324530\n",
        "s_01006  0.000000  0.130607\n",
        "s_01007  0.452267  0.302887\n",
        "s_01008  0.199915  0.324992\n",
        "s_01009  0.312094  0.276600\n",
        "s_01010  0.188919  0.276220"
       ]
      }
     ],
     "prompt_number": 39
    },
    {
     "cell_type": "code",
     "collapsed": false,
     "input": [
      "np.mean(sum_subj.std())"
     ],
     "language": "python",
     "metadata": {},
     "outputs": [
      {
       "metadata": {},
       "output_type": "pyout",
       "prompt_number": 40,
       "text": [
        "Acc    0.230830\n",
        "RT     0.259557\n",
        "dtype: float64"
       ]
      }
     ],
     "prompt_number": 40
    },
    {
     "cell_type": "heading",
     "level": 4,
     "metadata": {},
     "source": [
      "How many trials did they actually respond?"
     ]
    },
    {
     "cell_type": "code",
     "collapsed": false,
     "input": [
      "sum_subj.count()"
     ],
     "language": "python",
     "metadata": {},
     "outputs": [
      {
       "html": [
        "<div style=\"max-height:1000px;max-width:1500px;overflow:auto;\">\n",
        "<table border=\"1\" class=\"dataframe\">\n",
        "  <thead>\n",
        "    <tr style=\"text-align: right;\">\n",
        "      <th></th>\n",
        "      <th>Acc</th>\n",
        "      <th>RT</th>\n",
        "      <th>Distance</th>\n",
        "    </tr>\n",
        "    <tr>\n",
        "      <th>Subject</th>\n",
        "      <th></th>\n",
        "      <th></th>\n",
        "      <th></th>\n",
        "    </tr>\n",
        "  </thead>\n",
        "  <tbody>\n",
        "    <tr>\n",
        "      <th>s_01003</th>\n",
        "      <td> 56</td>\n",
        "      <td> 56</td>\n",
        "      <td> 56</td>\n",
        "    </tr>\n",
        "    <tr>\n",
        "      <th>s_01004</th>\n",
        "      <td> 55</td>\n",
        "      <td> 55</td>\n",
        "      <td> 56</td>\n",
        "    </tr>\n",
        "    <tr>\n",
        "      <th>s_01005</th>\n",
        "      <td> 55</td>\n",
        "      <td> 55</td>\n",
        "      <td> 56</td>\n",
        "    </tr>\n",
        "    <tr>\n",
        "      <th>s_01006</th>\n",
        "      <td> 56</td>\n",
        "      <td> 56</td>\n",
        "      <td> 56</td>\n",
        "    </tr>\n",
        "    <tr>\n",
        "      <th>s_01007</th>\n",
        "      <td> 12</td>\n",
        "      <td> 12</td>\n",
        "      <td> 56</td>\n",
        "    </tr>\n",
        "    <tr>\n",
        "      <th>s_01008</th>\n",
        "      <td> 49</td>\n",
        "      <td> 49</td>\n",
        "      <td> 56</td>\n",
        "    </tr>\n",
        "    <tr>\n",
        "      <th>s_01009</th>\n",
        "      <td> 56</td>\n",
        "      <td> 56</td>\n",
        "      <td> 56</td>\n",
        "    </tr>\n",
        "    <tr>\n",
        "      <th>s_01010</th>\n",
        "      <td> 55</td>\n",
        "      <td> 55</td>\n",
        "      <td> 56</td>\n",
        "    </tr>\n",
        "  </tbody>\n",
        "</table>\n",
        "</div>"
       ],
       "metadata": {},
       "output_type": "pyout",
       "prompt_number": 41,
       "text": [
        "         Acc  RT  Distance\n",
        "Subject                   \n",
        "s_01003   56  56        56\n",
        "s_01004   55  55        56\n",
        "s_01005   55  55        56\n",
        "s_01006   56  56        56\n",
        "s_01007   12  12        56\n",
        "s_01008   49  49        56\n",
        "s_01009   56  56        56\n",
        "s_01010   55  55        56"
       ]
      }
     ],
     "prompt_number": 41
    },
    {
     "cell_type": "heading",
     "level": 1,
     "metadata": {},
     "source": [
      "Fraction Comparison "
     ]
    },
    {
     "cell_type": "heading",
     "level": 3,
     "metadata": {},
     "source": [
      "Accuracy & RT"
     ]
    },
    {
     "cell_type": "code",
     "collapsed": false,
     "input": [
      "comp_no_miss = comp_df[['Acc', 'RT', 'Distance', 'catch']]\n",
      "comp_no_miss = comp_no_miss[comp_no_miss['catch']>0]"
     ],
     "language": "python",
     "metadata": {},
     "outputs": [],
     "prompt_number": 42
    },
    {
     "cell_type": "code",
     "collapsed": false,
     "input": [
      "comp_no_miss = comp_no_miss.replace(-1, np.nan)\n",
      "comp_no_miss.pop('catch')"
     ],
     "language": "python",
     "metadata": {},
     "outputs": [
      {
       "metadata": {},
       "output_type": "pyout",
       "prompt_number": 43,
       "text": [
        "Subject  Run    Trial\n",
        "s_01010  Run_1  0        1\n",
        "                2        1\n",
        "                5        1\n",
        "                10       1\n",
        "                12       1\n",
        "                13       1\n",
        "                21       1\n",
        "                23       1\n",
        "                25       1\n",
        "                26       1\n",
        "                27       1\n",
        "                30       1\n",
        "                35       1\n",
        "                36       1\n",
        "                38       1\n",
        "...\n",
        "s_01005  Run_0  30       1\n",
        "                31       1\n",
        "                32       1\n",
        "                33       1\n",
        "                34       1\n",
        "                36       1\n",
        "                39       1\n",
        "                40       1\n",
        "                41       1\n",
        "                42       1\n",
        "                46       1\n",
        "                51       1\n",
        "                65       1\n",
        "                67       1\n",
        "                68       1\n",
        "Name: catch, Length: 448, dtype: int64"
       ]
      }
     ],
     "prompt_number": 43
    },
    {
     "cell_type": "code",
     "collapsed": false,
     "input": [
      "comp_subj = comp_no_miss.groupby(level=0)\n",
      "comp_subj.mean()"
     ],
     "language": "python",
     "metadata": {},
     "outputs": [
      {
       "html": [
        "<div style=\"max-height:1000px;max-width:1500px;overflow:auto;\">\n",
        "<table border=\"1\" class=\"dataframe\">\n",
        "  <thead>\n",
        "    <tr style=\"text-align: right;\">\n",
        "      <th></th>\n",
        "      <th>Acc</th>\n",
        "      <th>RT</th>\n",
        "    </tr>\n",
        "    <tr>\n",
        "      <th>Subject</th>\n",
        "      <th></th>\n",
        "      <th></th>\n",
        "    </tr>\n",
        "  </thead>\n",
        "  <tbody>\n",
        "    <tr>\n",
        "      <th>s_01003</th>\n",
        "      <td> 0.767857</td>\n",
        "      <td> 0.998756</td>\n",
        "    </tr>\n",
        "    <tr>\n",
        "      <th>s_01004</th>\n",
        "      <td> 0.945455</td>\n",
        "      <td> 1.303377</td>\n",
        "    </tr>\n",
        "    <tr>\n",
        "      <th>s_01005</th>\n",
        "      <td> 0.703704</td>\n",
        "      <td> 1.108886</td>\n",
        "    </tr>\n",
        "    <tr>\n",
        "      <th>s_01006</th>\n",
        "      <td> 0.927273</td>\n",
        "      <td> 0.961025</td>\n",
        "    </tr>\n",
        "    <tr>\n",
        "      <th>s_01007</th>\n",
        "      <td> 0.470588</td>\n",
        "      <td> 1.195679</td>\n",
        "    </tr>\n",
        "    <tr>\n",
        "      <th>s_01008</th>\n",
        "      <td> 0.880952</td>\n",
        "      <td> 1.152279</td>\n",
        "    </tr>\n",
        "    <tr>\n",
        "      <th>s_01009</th>\n",
        "      <td> 0.666667</td>\n",
        "      <td> 1.729547</td>\n",
        "    </tr>\n",
        "    <tr>\n",
        "      <th>s_01010</th>\n",
        "      <td> 0.843137</td>\n",
        "      <td> 1.738383</td>\n",
        "    </tr>\n",
        "  </tbody>\n",
        "</table>\n",
        "</div>"
       ],
       "metadata": {},
       "output_type": "pyout",
       "prompt_number": 44,
       "text": [
        "              Acc        RT\n",
        "Subject                    \n",
        "s_01003  0.767857  0.998756\n",
        "s_01004  0.945455  1.303377\n",
        "s_01005  0.703704  1.108886\n",
        "s_01006  0.927273  0.961025\n",
        "s_01007  0.470588  1.195679\n",
        "s_01008  0.880952  1.152279\n",
        "s_01009  0.666667  1.729547\n",
        "s_01010  0.843137  1.738383"
       ]
      }
     ],
     "prompt_number": 44
    },
    {
     "cell_type": "code",
     "collapsed": false,
     "input": [
      "np.mean(comp_subj.mean())"
     ],
     "language": "python",
     "metadata": {},
     "outputs": [
      {
       "metadata": {},
       "output_type": "pyout",
       "prompt_number": 45,
       "text": [
        "Acc    0.775704\n",
        "RT     1.273491\n",
        "dtype: float64"
       ]
      }
     ],
     "prompt_number": 45
    },
    {
     "cell_type": "code",
     "collapsed": false,
     "input": [
      "comp_subj.std()"
     ],
     "language": "python",
     "metadata": {},
     "outputs": [
      {
       "html": [
        "<div style=\"max-height:1000px;max-width:1500px;overflow:auto;\">\n",
        "<table border=\"1\" class=\"dataframe\">\n",
        "  <thead>\n",
        "    <tr style=\"text-align: right;\">\n",
        "      <th></th>\n",
        "      <th>Acc</th>\n",
        "      <th>RT</th>\n",
        "    </tr>\n",
        "    <tr>\n",
        "      <th>Subject</th>\n",
        "      <th></th>\n",
        "      <th></th>\n",
        "    </tr>\n",
        "  </thead>\n",
        "  <tbody>\n",
        "    <tr>\n",
        "      <th>s_01003</th>\n",
        "      <td> 0.426021</td>\n",
        "      <td> 0.169317</td>\n",
        "    </tr>\n",
        "    <tr>\n",
        "      <th>s_01004</th>\n",
        "      <td> 0.229184</td>\n",
        "      <td> 0.355389</td>\n",
        "    </tr>\n",
        "    <tr>\n",
        "      <th>s_01005</th>\n",
        "      <td> 0.465322</td>\n",
        "      <td> 0.359350</td>\n",
        "    </tr>\n",
        "    <tr>\n",
        "      <th>s_01006</th>\n",
        "      <td> 0.262082</td>\n",
        "      <td> 0.253642</td>\n",
        "    </tr>\n",
        "    <tr>\n",
        "      <th>s_01007</th>\n",
        "      <td> 0.514496</td>\n",
        "      <td> 0.789369</td>\n",
        "    </tr>\n",
        "    <tr>\n",
        "      <th>s_01008</th>\n",
        "      <td> 0.327770</td>\n",
        "      <td> 0.508333</td>\n",
        "    </tr>\n",
        "    <tr>\n",
        "      <th>s_01009</th>\n",
        "      <td> 0.476393</td>\n",
        "      <td> 0.478494</td>\n",
        "    </tr>\n",
        "    <tr>\n",
        "      <th>s_01010</th>\n",
        "      <td> 0.367290</td>\n",
        "      <td> 0.465316</td>\n",
        "    </tr>\n",
        "  </tbody>\n",
        "</table>\n",
        "</div>"
       ],
       "metadata": {},
       "output_type": "pyout",
       "prompt_number": 46,
       "text": [
        "              Acc        RT\n",
        "Subject                    \n",
        "s_01003  0.426021  0.169317\n",
        "s_01004  0.229184  0.355389\n",
        "s_01005  0.465322  0.359350\n",
        "s_01006  0.262082  0.253642\n",
        "s_01007  0.514496  0.789369\n",
        "s_01008  0.327770  0.508333\n",
        "s_01009  0.476393  0.478494\n",
        "s_01010  0.367290  0.465316"
       ]
      }
     ],
     "prompt_number": 46
    },
    {
     "cell_type": "code",
     "collapsed": false,
     "input": [
      "np.mean(comp_subj.std())"
     ],
     "language": "python",
     "metadata": {},
     "outputs": [
      {
       "metadata": {},
       "output_type": "pyout",
       "prompt_number": 47,
       "text": [
        "Acc    0.383570\n",
        "RT     0.422401\n",
        "dtype: float64"
       ]
      }
     ],
     "prompt_number": 47
    },
    {
     "cell_type": "heading",
     "level": 4,
     "metadata": {},
     "source": [
      "How many trials did they actually respond?"
     ]
    },
    {
     "cell_type": "code",
     "collapsed": false,
     "input": [
      "comp_subj.count()"
     ],
     "language": "python",
     "metadata": {},
     "outputs": [
      {
       "html": [
        "<div style=\"max-height:1000px;max-width:1500px;overflow:auto;\">\n",
        "<table border=\"1\" class=\"dataframe\">\n",
        "  <thead>\n",
        "    <tr style=\"text-align: right;\">\n",
        "      <th></th>\n",
        "      <th>Acc</th>\n",
        "      <th>RT</th>\n",
        "      <th>Distance</th>\n",
        "    </tr>\n",
        "    <tr>\n",
        "      <th>Subject</th>\n",
        "      <th></th>\n",
        "      <th></th>\n",
        "      <th></th>\n",
        "    </tr>\n",
        "  </thead>\n",
        "  <tbody>\n",
        "    <tr>\n",
        "      <th>s_01003</th>\n",
        "      <td> 56</td>\n",
        "      <td> 56</td>\n",
        "      <td> 56</td>\n",
        "    </tr>\n",
        "    <tr>\n",
        "      <th>s_01004</th>\n",
        "      <td> 55</td>\n",
        "      <td> 55</td>\n",
        "      <td> 56</td>\n",
        "    </tr>\n",
        "    <tr>\n",
        "      <th>s_01005</th>\n",
        "      <td> 27</td>\n",
        "      <td> 27</td>\n",
        "      <td> 56</td>\n",
        "    </tr>\n",
        "    <tr>\n",
        "      <th>s_01006</th>\n",
        "      <td> 55</td>\n",
        "      <td> 55</td>\n",
        "      <td> 56</td>\n",
        "    </tr>\n",
        "    <tr>\n",
        "      <th>s_01007</th>\n",
        "      <td> 17</td>\n",
        "      <td> 17</td>\n",
        "      <td> 56</td>\n",
        "    </tr>\n",
        "    <tr>\n",
        "      <th>s_01008</th>\n",
        "      <td> 42</td>\n",
        "      <td> 42</td>\n",
        "      <td> 56</td>\n",
        "    </tr>\n",
        "    <tr>\n",
        "      <th>s_01009</th>\n",
        "      <td> 48</td>\n",
        "      <td> 48</td>\n",
        "      <td> 56</td>\n",
        "    </tr>\n",
        "    <tr>\n",
        "      <th>s_01010</th>\n",
        "      <td> 51</td>\n",
        "      <td> 51</td>\n",
        "      <td> 56</td>\n",
        "    </tr>\n",
        "  </tbody>\n",
        "</table>\n",
        "</div>"
       ],
       "metadata": {},
       "output_type": "pyout",
       "prompt_number": 48,
       "text": [
        "         Acc  RT  Distance\n",
        "Subject                   \n",
        "s_01003   56  56        56\n",
        "s_01004   55  55        56\n",
        "s_01005   27  27        56\n",
        "s_01006   55  55        56\n",
        "s_01007   17  17        56\n",
        "s_01008   42  42        56\n",
        "s_01009   48  48        56\n",
        "s_01010   51  51        56"
       ]
      }
     ],
     "prompt_number": 48
    },
    {
     "cell_type": "heading",
     "level": 1,
     "metadata": {},
     "source": [
      "Number Line Analyses"
     ]
    },
    {
     "cell_type": "heading",
     "level": 3,
     "metadata": {},
     "source": [
      "Accuracy & RT"
     ]
    },
    {
     "cell_type": "code",
     "collapsed": false,
     "input": [
      "nline_no_miss = nline_df[['Acc', 'RT', 'Distance', 'catch']]\n",
      "nline_no_miss = nline_no_miss[nline_no_miss['catch']>0]"
     ],
     "language": "python",
     "metadata": {},
     "outputs": [],
     "prompt_number": 49
    },
    {
     "cell_type": "code",
     "collapsed": false,
     "input": [
      "nline_no_miss = nline_no_miss.replace(-1, np.nan)\n",
      "nline_no_miss.pop('catch')"
     ],
     "language": "python",
     "metadata": {},
     "outputs": [
      {
       "metadata": {},
       "output_type": "pyout",
       "prompt_number": 50,
       "text": [
        "Subject  Run    Trial\n",
        "s_01010  Run_1  0        1\n",
        "                4        1\n",
        "                6        1\n",
        "                10       1\n",
        "                12       1\n",
        "                13       1\n",
        "                15       1\n",
        "                17       1\n",
        "                22       1\n",
        "                25       1\n",
        "                27       1\n",
        "                28       1\n",
        "                29       1\n",
        "                30       1\n",
        "                32       1\n",
        "...\n",
        "s_01005  Run_0  26       1\n",
        "                27       1\n",
        "                30       1\n",
        "                42       1\n",
        "                43       1\n",
        "                50       1\n",
        "                53       1\n",
        "                55       1\n",
        "                57       1\n",
        "                59       1\n",
        "                60       1\n",
        "                62       1\n",
        "                63       1\n",
        "                66       1\n",
        "                69       1\n",
        "Name: catch, Length: 448, dtype: int64"
       ]
      }
     ],
     "prompt_number": 50
    },
    {
     "cell_type": "code",
     "collapsed": false,
     "input": [
      "nline_subj = nline_no_miss.groupby(level=0)\n",
      "nline_subj.mean()"
     ],
     "language": "python",
     "metadata": {},
     "outputs": [
      {
       "html": [
        "<div style=\"max-height:1000px;max-width:1500px;overflow:auto;\">\n",
        "<table border=\"1\" class=\"dataframe\">\n",
        "  <thead>\n",
        "    <tr style=\"text-align: right;\">\n",
        "      <th></th>\n",
        "      <th>Acc</th>\n",
        "      <th>RT</th>\n",
        "    </tr>\n",
        "    <tr>\n",
        "      <th>Subject</th>\n",
        "      <th></th>\n",
        "      <th></th>\n",
        "    </tr>\n",
        "  </thead>\n",
        "  <tbody>\n",
        "    <tr>\n",
        "      <th>s_01003</th>\n",
        "      <td> 0.875000</td>\n",
        "      <td> 1.071339</td>\n",
        "    </tr>\n",
        "    <tr>\n",
        "      <th>s_01004</th>\n",
        "      <td> 0.924528</td>\n",
        "      <td> 1.154440</td>\n",
        "    </tr>\n",
        "    <tr>\n",
        "      <th>s_01005</th>\n",
        "      <td> 0.732143</td>\n",
        "      <td> 0.971418</td>\n",
        "    </tr>\n",
        "    <tr>\n",
        "      <th>s_01006</th>\n",
        "      <td> 0.982143</td>\n",
        "      <td> 1.375335</td>\n",
        "    </tr>\n",
        "    <tr>\n",
        "      <th>s_01007</th>\n",
        "      <td>      NaN</td>\n",
        "      <td>      NaN</td>\n",
        "    </tr>\n",
        "    <tr>\n",
        "      <th>s_01008</th>\n",
        "      <td> 0.840000</td>\n",
        "      <td> 1.216362</td>\n",
        "    </tr>\n",
        "    <tr>\n",
        "      <th>s_01009</th>\n",
        "      <td> 0.814815</td>\n",
        "      <td> 1.641182</td>\n",
        "    </tr>\n",
        "    <tr>\n",
        "      <th>s_01010</th>\n",
        "      <td> 0.928571</td>\n",
        "      <td> 1.449831</td>\n",
        "    </tr>\n",
        "  </tbody>\n",
        "</table>\n",
        "</div>"
       ],
       "metadata": {},
       "output_type": "pyout",
       "prompt_number": 51,
       "text": [
        "              Acc        RT\n",
        "Subject                    \n",
        "s_01003  0.875000  1.071339\n",
        "s_01004  0.924528  1.154440\n",
        "s_01005  0.732143  0.971418\n",
        "s_01006  0.982143  1.375335\n",
        "s_01007       NaN       NaN\n",
        "s_01008  0.840000  1.216362\n",
        "s_01009  0.814815  1.641182\n",
        "s_01010  0.928571  1.449831"
       ]
      }
     ],
     "prompt_number": 51
    },
    {
     "cell_type": "code",
     "collapsed": false,
     "input": [
      "np.mean(nline_subj.mean())"
     ],
     "language": "python",
     "metadata": {},
     "outputs": [
      {
       "metadata": {},
       "output_type": "pyout",
       "prompt_number": 52,
       "text": [
        "Acc    0.871029\n",
        "RT     1.268558\n",
        "dtype: float64"
       ]
      }
     ],
     "prompt_number": 52
    },
    {
     "cell_type": "code",
     "collapsed": false,
     "input": [
      "nline_subj.std()"
     ],
     "language": "python",
     "metadata": {},
     "outputs": [
      {
       "html": [
        "<div style=\"max-height:1000px;max-width:1500px;overflow:auto;\">\n",
        "<table border=\"1\" class=\"dataframe\">\n",
        "  <thead>\n",
        "    <tr style=\"text-align: right;\">\n",
        "      <th></th>\n",
        "      <th>Acc</th>\n",
        "      <th>RT</th>\n",
        "    </tr>\n",
        "    <tr>\n",
        "      <th>Subject</th>\n",
        "      <th></th>\n",
        "      <th></th>\n",
        "    </tr>\n",
        "  </thead>\n",
        "  <tbody>\n",
        "    <tr>\n",
        "      <th>s_01003</th>\n",
        "      <td> 0.333712</td>\n",
        "      <td> 0.243036</td>\n",
        "    </tr>\n",
        "    <tr>\n",
        "      <th>s_01004</th>\n",
        "      <td> 0.266679</td>\n",
        "      <td> 0.439066</td>\n",
        "    </tr>\n",
        "    <tr>\n",
        "      <th>s_01005</th>\n",
        "      <td> 0.446850</td>\n",
        "      <td> 0.192529</td>\n",
        "    </tr>\n",
        "    <tr>\n",
        "      <th>s_01006</th>\n",
        "      <td> 0.133631</td>\n",
        "      <td> 0.315065</td>\n",
        "    </tr>\n",
        "    <tr>\n",
        "      <th>s_01007</th>\n",
        "      <td>      NaN</td>\n",
        "      <td>      NaN</td>\n",
        "    </tr>\n",
        "    <tr>\n",
        "      <th>s_01008</th>\n",
        "      <td> 0.370328</td>\n",
        "      <td> 0.431107</td>\n",
        "    </tr>\n",
        "    <tr>\n",
        "      <th>s_01009</th>\n",
        "      <td> 0.392095</td>\n",
        "      <td> 0.331820</td>\n",
        "    </tr>\n",
        "    <tr>\n",
        "      <th>s_01010</th>\n",
        "      <td> 0.259870</td>\n",
        "      <td> 0.322716</td>\n",
        "    </tr>\n",
        "  </tbody>\n",
        "</table>\n",
        "</div>"
       ],
       "metadata": {},
       "output_type": "pyout",
       "prompt_number": 53,
       "text": [
        "              Acc        RT\n",
        "Subject                    \n",
        "s_01003  0.333712  0.243036\n",
        "s_01004  0.266679  0.439066\n",
        "s_01005  0.446850  0.192529\n",
        "s_01006  0.133631  0.315065\n",
        "s_01007       NaN       NaN\n",
        "s_01008  0.370328  0.431107\n",
        "s_01009  0.392095  0.331820\n",
        "s_01010  0.259870  0.322716"
       ]
      }
     ],
     "prompt_number": 53
    },
    {
     "cell_type": "code",
     "collapsed": false,
     "input": [
      "np.mean(nline_subj.std())"
     ],
     "language": "python",
     "metadata": {},
     "outputs": [
      {
       "metadata": {},
       "output_type": "pyout",
       "prompt_number": 54,
       "text": [
        "Acc    0.314738\n",
        "RT     0.325049\n",
        "dtype: float64"
       ]
      }
     ],
     "prompt_number": 54
    },
    {
     "cell_type": "markdown",
     "metadata": {},
     "source": [
      "How many trials did they actually respond?"
     ]
    },
    {
     "cell_type": "code",
     "collapsed": false,
     "input": [
      "nline_subj.count()"
     ],
     "language": "python",
     "metadata": {},
     "outputs": [
      {
       "html": [
        "<div style=\"max-height:1000px;max-width:1500px;overflow:auto;\">\n",
        "<table border=\"1\" class=\"dataframe\">\n",
        "  <thead>\n",
        "    <tr style=\"text-align: right;\">\n",
        "      <th></th>\n",
        "      <th>Acc</th>\n",
        "      <th>RT</th>\n",
        "      <th>Distance</th>\n",
        "    </tr>\n",
        "    <tr>\n",
        "      <th>Subject</th>\n",
        "      <th></th>\n",
        "      <th></th>\n",
        "      <th></th>\n",
        "    </tr>\n",
        "  </thead>\n",
        "  <tbody>\n",
        "    <tr>\n",
        "      <th>s_01003</th>\n",
        "      <td> 56</td>\n",
        "      <td> 56</td>\n",
        "      <td> 56</td>\n",
        "    </tr>\n",
        "    <tr>\n",
        "      <th>s_01004</th>\n",
        "      <td> 53</td>\n",
        "      <td> 53</td>\n",
        "      <td> 56</td>\n",
        "    </tr>\n",
        "    <tr>\n",
        "      <th>s_01005</th>\n",
        "      <td> 56</td>\n",
        "      <td> 56</td>\n",
        "      <td> 56</td>\n",
        "    </tr>\n",
        "    <tr>\n",
        "      <th>s_01006</th>\n",
        "      <td> 56</td>\n",
        "      <td> 56</td>\n",
        "      <td> 56</td>\n",
        "    </tr>\n",
        "    <tr>\n",
        "      <th>s_01007</th>\n",
        "      <td>  0</td>\n",
        "      <td>  0</td>\n",
        "      <td> 56</td>\n",
        "    </tr>\n",
        "    <tr>\n",
        "      <th>s_01008</th>\n",
        "      <td> 50</td>\n",
        "      <td> 50</td>\n",
        "      <td> 56</td>\n",
        "    </tr>\n",
        "    <tr>\n",
        "      <th>s_01009</th>\n",
        "      <td> 54</td>\n",
        "      <td> 54</td>\n",
        "      <td> 56</td>\n",
        "    </tr>\n",
        "    <tr>\n",
        "      <th>s_01010</th>\n",
        "      <td> 56</td>\n",
        "      <td> 56</td>\n",
        "      <td> 56</td>\n",
        "    </tr>\n",
        "  </tbody>\n",
        "</table>\n",
        "</div>"
       ],
       "metadata": {},
       "output_type": "pyout",
       "prompt_number": 55,
       "text": [
        "         Acc  RT  Distance\n",
        "Subject                   \n",
        "s_01003   56  56        56\n",
        "s_01004   53  53        56\n",
        "s_01005   56  56        56\n",
        "s_01006   56  56        56\n",
        "s_01007    0   0        56\n",
        "s_01008   50  50        56\n",
        "s_01009   54  54        56\n",
        "s_01010   56  56        56"
       ]
      }
     ],
     "prompt_number": 55
    },
    {
     "cell_type": "heading",
     "level": 1,
     "metadata": {},
     "source": [
      "Dots Analyses"
     ]
    },
    {
     "cell_type": "heading",
     "level": 3,
     "metadata": {},
     "source": [
      "Accuracy & RT"
     ]
    },
    {
     "cell_type": "code",
     "collapsed": false,
     "input": [
      "dots_no_miss = dots_df[['Acc', 'RT', 'Distance', 'catch']]\n",
      "dots_no_miss = dots_no_miss[dots_no_miss['catch']>0]"
     ],
     "language": "python",
     "metadata": {},
     "outputs": [],
     "prompt_number": 56
    },
    {
     "cell_type": "code",
     "collapsed": false,
     "input": [
      "dots_no_miss = dots_no_miss.replace(-1, np.nan)\n",
      "dots_no_miss.pop('catch')"
     ],
     "language": "python",
     "metadata": {},
     "outputs": [
      {
       "metadata": {},
       "output_type": "pyout",
       "prompt_number": 57,
       "text": [
        "Subject  Run    Trial\n",
        "s_01010  Run_1  0        1\n",
        "                1        1\n",
        "                2        1\n",
        "                6        1\n",
        "                13       1\n",
        "                17       1\n",
        "                18       1\n",
        "                19       1\n",
        "                20       1\n",
        "                21       1\n",
        "                23       1\n",
        "                24       1\n",
        "                26       1\n",
        "                28       1\n",
        "                29       1\n",
        "...\n",
        "s_01005  Run_0  27       1\n",
        "                34       1\n",
        "                36       1\n",
        "                37       1\n",
        "                38       1\n",
        "                43       1\n",
        "                44       1\n",
        "                48       1\n",
        "                51       1\n",
        "                53       1\n",
        "                61       1\n",
        "                62       1\n",
        "                64       1\n",
        "                65       1\n",
        "                69       1\n",
        "Name: catch, Length: 448, dtype: int64"
       ]
      }
     ],
     "prompt_number": 57
    },
    {
     "cell_type": "code",
     "collapsed": false,
     "input": [
      "dots_subj = dots_no_miss.groupby(level=0)\n",
      "dots_subj.mean()"
     ],
     "language": "python",
     "metadata": {},
     "outputs": [
      {
       "html": [
        "<div style=\"max-height:1000px;max-width:1500px;overflow:auto;\">\n",
        "<table border=\"1\" class=\"dataframe\">\n",
        "  <thead>\n",
        "    <tr style=\"text-align: right;\">\n",
        "      <th></th>\n",
        "      <th>Acc</th>\n",
        "      <th>RT</th>\n",
        "    </tr>\n",
        "    <tr>\n",
        "      <th>Subject</th>\n",
        "      <th></th>\n",
        "      <th></th>\n",
        "    </tr>\n",
        "  </thead>\n",
        "  <tbody>\n",
        "    <tr>\n",
        "      <th>s_01003</th>\n",
        "      <td> 0.714286</td>\n",
        "      <td> 1.176292</td>\n",
        "    </tr>\n",
        "    <tr>\n",
        "      <th>s_01004</th>\n",
        "      <td> 0.821429</td>\n",
        "      <td> 1.439634</td>\n",
        "    </tr>\n",
        "    <tr>\n",
        "      <th>s_01005</th>\n",
        "      <td> 0.607143</td>\n",
        "      <td> 0.923545</td>\n",
        "    </tr>\n",
        "    <tr>\n",
        "      <th>s_01006</th>\n",
        "      <td>      NaN</td>\n",
        "      <td>      NaN</td>\n",
        "    </tr>\n",
        "    <tr>\n",
        "      <th>s_01007</th>\n",
        "      <td>      NaN</td>\n",
        "      <td>      NaN</td>\n",
        "    </tr>\n",
        "    <tr>\n",
        "      <th>s_01008</th>\n",
        "      <td> 0.740741</td>\n",
        "      <td> 1.282519</td>\n",
        "    </tr>\n",
        "    <tr>\n",
        "      <th>s_01009</th>\n",
        "      <td> 0.725490</td>\n",
        "      <td> 1.473800</td>\n",
        "    </tr>\n",
        "    <tr>\n",
        "      <th>s_01010</th>\n",
        "      <td> 0.727273</td>\n",
        "      <td> 1.529467</td>\n",
        "    </tr>\n",
        "  </tbody>\n",
        "</table>\n",
        "</div>"
       ],
       "metadata": {},
       "output_type": "pyout",
       "prompt_number": 58,
       "text": [
        "              Acc        RT\n",
        "Subject                    \n",
        "s_01003  0.714286  1.176292\n",
        "s_01004  0.821429  1.439634\n",
        "s_01005  0.607143  0.923545\n",
        "s_01006       NaN       NaN\n",
        "s_01007       NaN       NaN\n",
        "s_01008  0.740741  1.282519\n",
        "s_01009  0.725490  1.473800\n",
        "s_01010  0.727273  1.529467"
       ]
      }
     ],
     "prompt_number": 58
    },
    {
     "cell_type": "code",
     "collapsed": false,
     "input": [
      "np.mean(dots_subj.mean())"
     ],
     "language": "python",
     "metadata": {},
     "outputs": [
      {
       "metadata": {},
       "output_type": "pyout",
       "prompt_number": 59,
       "text": [
        "Acc    0.722727\n",
        "RT     1.304210\n",
        "dtype: float64"
       ]
      }
     ],
     "prompt_number": 59
    },
    {
     "cell_type": "code",
     "collapsed": false,
     "input": [
      "dots_subj.std()"
     ],
     "language": "python",
     "metadata": {},
     "outputs": [
      {
       "html": [
        "<div style=\"max-height:1000px;max-width:1500px;overflow:auto;\">\n",
        "<table border=\"1\" class=\"dataframe\">\n",
        "  <thead>\n",
        "    <tr style=\"text-align: right;\">\n",
        "      <th></th>\n",
        "      <th>Acc</th>\n",
        "      <th>RT</th>\n",
        "    </tr>\n",
        "    <tr>\n",
        "      <th>Subject</th>\n",
        "      <th></th>\n",
        "      <th></th>\n",
        "    </tr>\n",
        "  </thead>\n",
        "  <tbody>\n",
        "    <tr>\n",
        "      <th>s_01003</th>\n",
        "      <td> 0.455842</td>\n",
        "      <td> 0.240398</td>\n",
        "    </tr>\n",
        "    <tr>\n",
        "      <th>s_01004</th>\n",
        "      <td> 0.390021</td>\n",
        "      <td> 0.288628</td>\n",
        "    </tr>\n",
        "    <tr>\n",
        "      <th>s_01005</th>\n",
        "      <td> 0.492805</td>\n",
        "      <td> 0.250882</td>\n",
        "    </tr>\n",
        "    <tr>\n",
        "      <th>s_01006</th>\n",
        "      <td>      NaN</td>\n",
        "      <td>      NaN</td>\n",
        "    </tr>\n",
        "    <tr>\n",
        "      <th>s_01007</th>\n",
        "      <td>      NaN</td>\n",
        "      <td>      NaN</td>\n",
        "    </tr>\n",
        "    <tr>\n",
        "      <th>s_01008</th>\n",
        "      <td> 0.442343</td>\n",
        "      <td> 0.467127</td>\n",
        "    </tr>\n",
        "    <tr>\n",
        "      <th>s_01009</th>\n",
        "      <td> 0.450708</td>\n",
        "      <td> 0.371228</td>\n",
        "    </tr>\n",
        "    <tr>\n",
        "      <th>s_01010</th>\n",
        "      <td> 0.449467</td>\n",
        "      <td> 0.348221</td>\n",
        "    </tr>\n",
        "  </tbody>\n",
        "</table>\n",
        "</div>"
       ],
       "metadata": {},
       "output_type": "pyout",
       "prompt_number": 60,
       "text": [
        "              Acc        RT\n",
        "Subject                    \n",
        "s_01003  0.455842  0.240398\n",
        "s_01004  0.390021  0.288628\n",
        "s_01005  0.492805  0.250882\n",
        "s_01006       NaN       NaN\n",
        "s_01007       NaN       NaN\n",
        "s_01008  0.442343  0.467127\n",
        "s_01009  0.450708  0.371228\n",
        "s_01010  0.449467  0.348221"
       ]
      }
     ],
     "prompt_number": 60
    },
    {
     "cell_type": "code",
     "collapsed": false,
     "input": [
      "np.mean(dots_subj.std())"
     ],
     "language": "python",
     "metadata": {},
     "outputs": [
      {
       "metadata": {},
       "output_type": "pyout",
       "prompt_number": 61,
       "text": [
        "Acc    0.446864\n",
        "RT     0.327748\n",
        "dtype: float64"
       ]
      }
     ],
     "prompt_number": 61
    },
    {
     "cell_type": "markdown",
     "metadata": {},
     "source": [
      "How many trials did they actually respond?"
     ]
    },
    {
     "cell_type": "code",
     "collapsed": false,
     "input": [
      "dots_subj.count()"
     ],
     "language": "python",
     "metadata": {},
     "outputs": [
      {
       "html": [
        "<div style=\"max-height:1000px;max-width:1500px;overflow:auto;\">\n",
        "<table border=\"1\" class=\"dataframe\">\n",
        "  <thead>\n",
        "    <tr style=\"text-align: right;\">\n",
        "      <th></th>\n",
        "      <th>Acc</th>\n",
        "      <th>RT</th>\n",
        "      <th>Distance</th>\n",
        "    </tr>\n",
        "    <tr>\n",
        "      <th>Subject</th>\n",
        "      <th></th>\n",
        "      <th></th>\n",
        "      <th></th>\n",
        "    </tr>\n",
        "  </thead>\n",
        "  <tbody>\n",
        "    <tr>\n",
        "      <th>s_01003</th>\n",
        "      <td> 56</td>\n",
        "      <td> 56</td>\n",
        "      <td> 56</td>\n",
        "    </tr>\n",
        "    <tr>\n",
        "      <th>s_01004</th>\n",
        "      <td> 28</td>\n",
        "      <td> 28</td>\n",
        "      <td> 56</td>\n",
        "    </tr>\n",
        "    <tr>\n",
        "      <th>s_01005</th>\n",
        "      <td> 56</td>\n",
        "      <td> 56</td>\n",
        "      <td> 56</td>\n",
        "    </tr>\n",
        "    <tr>\n",
        "      <th>s_01006</th>\n",
        "      <td>  0</td>\n",
        "      <td>  0</td>\n",
        "      <td> 56</td>\n",
        "    </tr>\n",
        "    <tr>\n",
        "      <th>s_01007</th>\n",
        "      <td>  0</td>\n",
        "      <td>  0</td>\n",
        "      <td> 56</td>\n",
        "    </tr>\n",
        "    <tr>\n",
        "      <th>s_01008</th>\n",
        "      <td> 54</td>\n",
        "      <td> 54</td>\n",
        "      <td> 56</td>\n",
        "    </tr>\n",
        "    <tr>\n",
        "      <th>s_01009</th>\n",
        "      <td> 51</td>\n",
        "      <td> 51</td>\n",
        "      <td> 56</td>\n",
        "    </tr>\n",
        "    <tr>\n",
        "      <th>s_01010</th>\n",
        "      <td> 55</td>\n",
        "      <td> 55</td>\n",
        "      <td> 56</td>\n",
        "    </tr>\n",
        "  </tbody>\n",
        "</table>\n",
        "</div>"
       ],
       "metadata": {},
       "output_type": "pyout",
       "prompt_number": 62,
       "text": [
        "         Acc  RT  Distance\n",
        "Subject                   \n",
        "s_01003   56  56        56\n",
        "s_01004   28  28        56\n",
        "s_01005   56  56        56\n",
        "s_01006    0   0        56\n",
        "s_01007    0   0        56\n",
        "s_01008   54  54        56\n",
        "s_01009   51  51        56\n",
        "s_01010   55  55        56"
       ]
      }
     ],
     "prompt_number": 62
    },
    {
     "cell_type": "heading",
     "level": 1,
     "metadata": {},
     "source": [
      "Close-Far"
     ]
    },
    {
     "cell_type": "code",
     "collapsed": false,
     "input": [
      "sum_cf = sum_no_miss.groupby('Distance')\n",
      "sum_cf.agg(mean)"
     ],
     "language": "python",
     "metadata": {},
     "outputs": [
      {
       "html": [
        "<div style=\"max-height:1000px;max-width:1500px;overflow:auto;\">\n",
        "<table border=\"1\" class=\"dataframe\">\n",
        "  <thead>\n",
        "    <tr style=\"text-align: right;\">\n",
        "      <th></th>\n",
        "      <th>Acc</th>\n",
        "      <th>RT</th>\n",
        "    </tr>\n",
        "    <tr>\n",
        "      <th>Distance</th>\n",
        "      <th></th>\n",
        "      <th></th>\n",
        "    </tr>\n",
        "  </thead>\n",
        "  <tbody>\n",
        "    <tr>\n",
        "      <th>Close</th>\n",
        "      <td> 0.904110</td>\n",
        "      <td> 1.021464</td>\n",
        "    </tr>\n",
        "    <tr>\n",
        "      <th>Far</th>\n",
        "      <td> 0.874286</td>\n",
        "      <td> 1.070603</td>\n",
        "    </tr>\n",
        "  </tbody>\n",
        "</table>\n",
        "</div>"
       ],
       "metadata": {},
       "output_type": "pyout",
       "prompt_number": 63,
       "text": [
        "               Acc        RT\n",
        "Distance                    \n",
        "Close     0.904110  1.021464\n",
        "Far       0.874286  1.070603"
       ]
      }
     ],
     "prompt_number": 63
    },
    {
     "cell_type": "code",
     "collapsed": false,
     "input": [
      "sum_miss = sum_df[['Acc', 'Distance', 'catch']]\n",
      "sum_miss = sum_miss.drop('s_01007', level=0)\n",
      "sum_miss = sum_miss[sum_miss['catch']>0]\n",
      "sum_miss = sum_miss.replace(-1, 0)\n",
      "#sum_miss.pop('catch')\n",
      "sum_cf_miss = sum_miss.groupby('Distance')\n",
      "sum_cf_miss.agg(mean)"
     ],
     "language": "python",
     "metadata": {},
     "outputs": [
      {
       "html": [
        "<div style=\"max-height:1000px;max-width:1500px;overflow:auto;\">\n",
        "<table border=\"1\" class=\"dataframe\">\n",
        "  <thead>\n",
        "    <tr style=\"text-align: right;\">\n",
        "      <th></th>\n",
        "      <th>Acc</th>\n",
        "      <th>catch</th>\n",
        "    </tr>\n",
        "    <tr>\n",
        "      <th>Distance</th>\n",
        "      <th></th>\n",
        "      <th></th>\n",
        "    </tr>\n",
        "  </thead>\n",
        "  <tbody>\n",
        "    <tr>\n",
        "      <th>Close</th>\n",
        "      <td> 0.875000</td>\n",
        "      <td> 1</td>\n",
        "    </tr>\n",
        "    <tr>\n",
        "      <th>Far</th>\n",
        "      <td> 0.869048</td>\n",
        "      <td> 1</td>\n",
        "    </tr>\n",
        "  </tbody>\n",
        "</table>\n",
        "</div>"
       ],
       "metadata": {},
       "output_type": "pyout",
       "prompt_number": 136,
       "text": [
        "               Acc  catch\n",
        "Distance                 \n",
        "Close     0.875000      1\n",
        "Far       0.869048      1"
       ]
      }
     ],
     "prompt_number": 136
    },
    {
     "cell_type": "code",
     "collapsed": false,
     "input": [
      "sum_cf.boxplot(column='RT', return_type='axes')"
     ],
     "language": "python",
     "metadata": {},
     "outputs": [
      {
       "metadata": {},
       "output_type": "pyout",
       "prompt_number": 74,
       "text": [
        "OrderedDict([('Close', <matplotlib.axes._subplots.AxesSubplot object at 0x10f0f75d0>), ('Far', <matplotlib.axes._subplots.AxesSubplot object at 0x10f1a66d0>)])"
       ]
      },
      {
       "metadata": {},
       "output_type": "display_data",
       "png": "[encoded data removed]",
       "text": [
        "<matplotlib.figure.Figure at 0x10f0ec510>"
       ]
      }
     ],
     "prompt_number": 74
    },
    {
     "cell_type": "code",
     "collapsed": false,
     "input": [
      "comp_cf = comp_no_miss.groupby('Distance')\n",
      "comp_cf.agg(mean)"
     ],
     "language": "python",
     "metadata": {},
     "outputs": [
      {
       "html": [
        "<div style=\"max-height:1000px;max-width:1500px;overflow:auto;\">\n",
        "<table border=\"1\" class=\"dataframe\">\n",
        "  <thead>\n",
        "    <tr style=\"text-align: right;\">\n",
        "      <th></th>\n",
        "      <th>Acc</th>\n",
        "      <th>RT</th>\n",
        "    </tr>\n",
        "    <tr>\n",
        "      <th>Distance</th>\n",
        "      <th></th>\n",
        "      <th></th>\n",
        "    </tr>\n",
        "  </thead>\n",
        "  <tbody>\n",
        "    <tr>\n",
        "      <th>Close</th>\n",
        "      <td> 0.775510</td>\n",
        "      <td> 1.330618</td>\n",
        "    </tr>\n",
        "    <tr>\n",
        "      <th>Far</th>\n",
        "      <td> 0.858065</td>\n",
        "      <td> 1.225866</td>\n",
        "    </tr>\n",
        "  </tbody>\n",
        "</table>\n",
        "</div>"
       ],
       "metadata": {},
       "output_type": "pyout",
       "prompt_number": 64,
       "text": [
        "               Acc        RT\n",
        "Distance                    \n",
        "Close     0.775510  1.330618\n",
        "Far       0.858065  1.225866"
       ]
      }
     ],
     "prompt_number": 64
    },
    {
     "cell_type": "code",
     "collapsed": false,
     "input": [
      "comp_miss = comp_df[['Acc', 'Distance', 'catch']]\n",
      "comp_miss = comp_miss.drop('s_01007', level=0)\n",
      "comp_miss = comp_miss[comp_miss['catch']>0]\n",
      "comp_miss = comp_miss.replace(-1, 0)\n",
      "#sum_miss.pop('catch')\n",
      "comp_cf_miss = comp_miss.groupby('Distance')\n",
      "comp_cf_miss.agg(mean)"
     ],
     "language": "python",
     "metadata": {},
     "outputs": [
      {
       "html": [
        "<div style=\"max-height:1000px;max-width:1500px;overflow:auto;\">\n",
        "<table border=\"1\" class=\"dataframe\">\n",
        "  <thead>\n",
        "    <tr style=\"text-align: right;\">\n",
        "      <th></th>\n",
        "      <th>Acc</th>\n",
        "      <th>catch</th>\n",
        "    </tr>\n",
        "    <tr>\n",
        "      <th>Distance</th>\n",
        "      <th></th>\n",
        "      <th></th>\n",
        "    </tr>\n",
        "  </thead>\n",
        "  <tbody>\n",
        "    <tr>\n",
        "      <th>Close</th>\n",
        "      <td> 0.677419</td>\n",
        "      <td> 1</td>\n",
        "    </tr>\n",
        "    <tr>\n",
        "      <th>Far</th>\n",
        "      <td> 0.742857</td>\n",
        "      <td> 1</td>\n",
        "    </tr>\n",
        "  </tbody>\n",
        "</table>\n",
        "</div>"
       ],
       "metadata": {},
       "output_type": "pyout",
       "prompt_number": 137,
       "text": [
        "               Acc  catch\n",
        "Distance                 \n",
        "Close     0.677419      1\n",
        "Far       0.742857      1"
       ]
      }
     ],
     "prompt_number": 137
    },
    {
     "cell_type": "code",
     "collapsed": false,
     "input": [
      "comp_cf.boxplot(column='RT', return_type='axes')"
     ],
     "language": "python",
     "metadata": {},
     "outputs": [
      {
       "metadata": {},
       "output_type": "pyout",
       "prompt_number": 75,
       "text": [
        "OrderedDict([('Close', <matplotlib.axes._subplots.AxesSubplot object at 0x10f32c7d0>), ('Far', <matplotlib.axes._subplots.AxesSubplot object at 0x10f371290>)])"
       ]
      },
      {
       "metadata": {},
       "output_type": "display_data",
       "png": "[encoded data removed]",
       "text": [
        "<matplotlib.figure.Figure at 0x10f0ecdd0>"
       ]
      }
     ],
     "prompt_number": 75
    },
    {
     "cell_type": "code",
     "collapsed": false,
     "input": [
      "nline_cf = nline_no_miss.groupby('Distance')\n",
      "nline_cf.agg(mean)"
     ],
     "language": "python",
     "metadata": {},
     "outputs": [
      {
       "html": [
        "<div style=\"max-height:1000px;max-width:1500px;overflow:auto;\">\n",
        "<table border=\"1\" class=\"dataframe\">\n",
        "  <thead>\n",
        "    <tr style=\"text-align: right;\">\n",
        "      <th></th>\n",
        "      <th>Acc</th>\n",
        "      <th>RT</th>\n",
        "    </tr>\n",
        "    <tr>\n",
        "      <th>Distance</th>\n",
        "      <th></th>\n",
        "      <th></th>\n",
        "    </tr>\n",
        "  </thead>\n",
        "  <tbody>\n",
        "    <tr>\n",
        "      <th>Close</th>\n",
        "      <td> 0.876190</td>\n",
        "      <td> 1.295186</td>\n",
        "    </tr>\n",
        "    <tr>\n",
        "      <th>Far</th>\n",
        "      <td> 0.865497</td>\n",
        "      <td> 1.235332</td>\n",
        "    </tr>\n",
        "  </tbody>\n",
        "</table>\n",
        "</div>"
       ],
       "metadata": {},
       "output_type": "pyout",
       "prompt_number": 65,
       "text": [
        "               Acc        RT\n",
        "Distance                    \n",
        "Close     0.876190  1.295186\n",
        "Far       0.865497  1.235332"
       ]
      }
     ],
     "prompt_number": 65
    },
    {
     "cell_type": "code",
     "collapsed": false,
     "input": [
      "nline_miss = nline_df[['Acc', 'Distance', 'catch']]\n",
      "nline_miss = nline_miss.drop('s_01007', level=0)\n",
      "nline_miss = nline_miss[nline_miss['catch']>0]\n",
      "nline_miss = nline_miss.replace(-1, 0)\n",
      "#sum_miss.pop('catch')\n",
      "nline_cf_miss = nline_miss.groupby('Distance')\n",
      "nline_cf_miss.agg(mean)"
     ],
     "language": "python",
     "metadata": {},
     "outputs": [
      {
       "html": [
        "<div style=\"max-height:1000px;max-width:1500px;overflow:auto;\">\n",
        "<table border=\"1\" class=\"dataframe\">\n",
        "  <thead>\n",
        "    <tr style=\"text-align: right;\">\n",
        "      <th></th>\n",
        "      <th>Acc</th>\n",
        "      <th>catch</th>\n",
        "    </tr>\n",
        "    <tr>\n",
        "      <th>Distance</th>\n",
        "      <th></th>\n",
        "      <th></th>\n",
        "    </tr>\n",
        "  </thead>\n",
        "  <tbody>\n",
        "    <tr>\n",
        "      <th>Close</th>\n",
        "      <td> 0.847926</td>\n",
        "      <td> 1</td>\n",
        "    </tr>\n",
        "    <tr>\n",
        "      <th>Far</th>\n",
        "      <td> 0.845714</td>\n",
        "      <td> 1</td>\n",
        "    </tr>\n",
        "  </tbody>\n",
        "</table>\n",
        "</div>"
       ],
       "metadata": {},
       "output_type": "pyout",
       "prompt_number": 138,
       "text": [
        "               Acc  catch\n",
        "Distance                 \n",
        "Close     0.847926      1\n",
        "Far       0.845714      1"
       ]
      }
     ],
     "prompt_number": 138
    },
    {
     "cell_type": "code",
     "collapsed": false,
     "input": [
      "nline_cf.boxplot(column='RT', return_type='axes')"
     ],
     "language": "python",
     "metadata": {},
     "outputs": [
      {
       "metadata": {},
       "output_type": "pyout",
       "prompt_number": 76,
       "text": [
        "OrderedDict([('Close', <matplotlib.axes._subplots.AxesSubplot object at 0x10f3c3690>), ('Far', <matplotlib.axes._subplots.AxesSubplot object at 0x10f7679d0>)])"
       ]
      },
      {
       "metadata": {},
       "output_type": "display_data",
       "png": "[encoded data removed]",
       "text": [
        "<matplotlib.figure.Figure at 0x10f7121d0>"
       ]
      }
     ],
     "prompt_number": 76
    },
    {
     "cell_type": "code",
     "collapsed": false,
     "input": [
      "dots_cf = dots_no_miss.groupby('Distance')\n",
      "dots_cf.agg(mean)"
     ],
     "language": "python",
     "metadata": {},
     "outputs": [
      {
       "html": [
        "<div style=\"max-height:1000px;max-width:1500px;overflow:auto;\">\n",
        "<table border=\"1\" class=\"dataframe\">\n",
        "  <thead>\n",
        "    <tr style=\"text-align: right;\">\n",
        "      <th></th>\n",
        "      <th>Acc</th>\n",
        "      <th>RT</th>\n",
        "    </tr>\n",
        "    <tr>\n",
        "      <th>Distance</th>\n",
        "      <th></th>\n",
        "      <th></th>\n",
        "    </tr>\n",
        "  </thead>\n",
        "  <tbody>\n",
        "    <tr>\n",
        "      <th>Close</th>\n",
        "      <td> 0.675000</td>\n",
        "      <td> 1.285517</td>\n",
        "    </tr>\n",
        "    <tr>\n",
        "      <th>Far</th>\n",
        "      <td> 0.757143</td>\n",
        "      <td> 1.291132</td>\n",
        "    </tr>\n",
        "  </tbody>\n",
        "</table>\n",
        "</div>"
       ],
       "metadata": {},
       "output_type": "pyout",
       "prompt_number": 163,
       "text": [
        "               Acc        RT\n",
        "Distance                    \n",
        "Close     0.675000  1.285517\n",
        "Far       0.757143  1.291132"
       ]
      }
     ],
     "prompt_number": 163
    },
    {
     "cell_type": "code",
     "collapsed": false,
     "input": [
      "dots_miss = dots_df[['Acc', 'Distance', 'catch']]\n",
      "dots_miss = dots_miss.drop('s_01007', level=0)\n",
      "dots_miss = dots_miss[dots_miss['catch']>0]\n",
      "dots_miss = dots_miss.replace(-1, 0)\n",
      "#sum_miss.pop('catch')\n",
      "dots_cf_miss = dots_miss.groupby('Distance')\n",
      "dots_cf_miss.agg(mean)"
     ],
     "language": "python",
     "metadata": {},
     "outputs": [
      {
       "html": [
        "<div style=\"max-height:1000px;max-width:1500px;overflow:auto;\">\n",
        "<table border=\"1\" class=\"dataframe\">\n",
        "  <thead>\n",
        "    <tr style=\"text-align: right;\">\n",
        "      <th></th>\n",
        "      <th>Acc</th>\n",
        "      <th>catch</th>\n",
        "    </tr>\n",
        "    <tr>\n",
        "      <th>Distance</th>\n",
        "      <th></th>\n",
        "      <th></th>\n",
        "    </tr>\n",
        "  </thead>\n",
        "  <tbody>\n",
        "    <tr>\n",
        "      <th>Close</th>\n",
        "      <td> 0.646707</td>\n",
        "      <td> 1</td>\n",
        "    </tr>\n",
        "    <tr>\n",
        "      <th>Far</th>\n",
        "      <td> 0.751773</td>\n",
        "      <td> 1</td>\n",
        "    </tr>\n",
        "  </tbody>\n",
        "</table>\n",
        "</div>"
       ],
       "metadata": {},
       "output_type": "pyout",
       "prompt_number": 139,
       "text": [
        "               Acc  catch\n",
        "Distance                 \n",
        "Close     0.646707      1\n",
        "Far       0.751773      1"
       ]
      }
     ],
     "prompt_number": 139
    },
    {
     "cell_type": "code",
     "collapsed": false,
     "input": [
      "sum_cf.boxplot(column='RT', return_type='axes')"
     ],
     "language": "python",
     "metadata": {},
     "outputs": [
      {
       "metadata": {},
       "output_type": "pyout",
       "prompt_number": 77,
       "text": [
        "OrderedDict([('Close', <matplotlib.axes._subplots.AxesSubplot object at 0x10f9f4dd0>), ('Far', <matplotlib.axes._subplots.AxesSubplot object at 0x10fa99310>)])"
       ]
      },
      {
       "metadata": {},
       "output_type": "display_data",
       "png": "[encoded data removed]",
       "text": [
        "<matplotlib.figure.Figure at 0x10f3c3dd0>"
       ]
      }
     ],
     "prompt_number": 77
    },
    {
     "cell_type": "heading",
     "level": 1,
     "metadata": {},
     "source": [
      "RT Histograms"
     ]
    },
    {
     "cell_type": "code",
     "collapsed": false,
     "input": [
      "pd.options.display.mpl_style = 'default'\n",
      "sum_no_miss['RT'].hist(bins=30, range=[0,2.5])\n",
      "pylab.ylim([0,55])\n",
      "pylab.title('Sum')\n",
      "pylab.xlabel('Seconds', labelpad = 18)\n",
      "pylab.ylabel('Frequency', labelpad = 18)"
     ],
     "language": "python",
     "metadata": {},
     "outputs": [
      {
       "metadata": {},
       "output_type": "pyout",
       "prompt_number": 112,
       "text": [
        "<matplotlib.text.Text at 0x112d7d650>"
       ]
      },
      {
       "metadata": {},
       "output_type": "display_data",
       "png": "[encoded data removed]",
       "text": [
        "<matplotlib.figure.Figure at 0x1129c2fd0>"
       ]
      }
     ],
     "prompt_number": 112
    },
    {
     "cell_type": "code",
     "collapsed": false,
     "input": [
      "comp_no_miss['RT'].hist(bins=30, range=[0,2.5])\n",
      "pylab.ylim([0,55])\n",
      "pylab.title('Fraction Comparison')\n",
      "pylab.xlabel('Seconds', labelpad = 18)\n",
      "pylab.ylabel('Frequency', labelpad = 18)"
     ],
     "language": "python",
     "metadata": {},
     "outputs": [
      {
       "metadata": {},
       "output_type": "pyout",
       "prompt_number": 117,
       "text": [
        "<matplotlib.text.Text at 0x11341aa10>"
       ]
      },
      {
       "metadata": {},
       "output_type": "display_data",
       "png": "[encoded data removed]",
       "text": [
        "<matplotlib.figure.Figure at 0x1120ade50>"
       ]
      }
     ],
     "prompt_number": 117
    },
    {
     "cell_type": "code",
     "collapsed": false,
     "input": [
      "nline_no_miss['RT'].hist(bins=30, range=[0,2.5])\n",
      "pylab.ylim([0,55])\n",
      "pylab.title('Number Line')\n",
      "pylab.xlabel('Seconds', labelpad = 18)\n",
      "pylab.ylabel('Frequency', labelpad = 18)"
     ],
     "language": "python",
     "metadata": {},
     "outputs": [
      {
       "metadata": {},
       "output_type": "pyout",
       "prompt_number": 116,
       "text": [
        "<matplotlib.text.Text at 0x111999750>"
       ]
      },
      {
       "metadata": {},
       "output_type": "display_data",
       "png": "[encoded data removed]",
       "text": [
        "<matplotlib.figure.Figure at 0x112eef410>"
       ]
      }
     ],
     "prompt_number": 116
    },
    {
     "cell_type": "code",
     "collapsed": false,
     "input": [
      "dots_no_miss['RT'].hist(bins=30, range=[0,2.5])\n",
      "pylab.ylim([0,55])\n",
      "pylab.title('Sum')\n",
      "pylab.xlabel('Seconds', labelpad = 18)\n",
      "pylab.ylabel('Frequency', labelpad = 18)"
     ],
     "language": "python",
     "metadata": {},
     "outputs": [
      {
       "metadata": {},
       "output_type": "pyout",
       "prompt_number": 115,
       "text": [
        "<matplotlib.text.Text at 0x111aa68d0>"
       ]
      },
      {
       "metadata": {},
       "output_type": "display_data",
       "png": "[encoded data removed]",
       "text": [
        "<matplotlib.figure.Figure at 0x1120aded0>"
       ]
      }
     ],
     "prompt_number": 115
    },
    {
     "cell_type": "code",
     "collapsed": false,
     "input": [],
     "language": "python",
     "metadata": {},
     "outputs": []
    }
   ],
   "metadata": {}
  }
 ]
}